{
 "cells": [
  {
   "cell_type": "code",
   "execution_count": 3,
   "metadata": {},
   "outputs": [],
   "source": [
    "import pandas as pd\n",
    "from sklearn.model_selection import train_test_split\n",
    "from sklearn.linear_model import LogisticRegression\n",
    "from sklego.metrics import equal_opportunity_score\n",
    "from sklego.metrics import p_percent_score\n",
    "from sklearn.metrics import log_loss, accuracy_score\n",
    "from sklearn.utils.extmath import squared_norm\n",
    "from moopt.scalarization_interface import scalar_interface, single_interface, w_interface\n",
    "from moopt import monise\n",
    "import numpy as np\n",
    "import optuna, sklearn, sklearn.datasets\n",
    "from fair_models import coefficient_of_variation, MOOLogisticRegression, FindCLogisticRegression, FindCCLogisticRegression\n",
    "from fair_models import calc_reweight\n",
    "from fair_models import FairScalarization, EqualScalarization\n",
    "from fair_models import SimpleVoting\n",
    "\n",
    "import plotly.graph_objects as go"
   ]
  },
  {
   "cell_type": "code",
   "execution_count": 4,
   "metadata": {},
   "outputs": [],
   "source": [
    "from sklego.linear_model import DemographicParityClassifier\n",
    "from sklego.linear_model import EqualOpportunityClassifier\n",
    "from sklearn.linear_model import LogisticRegression"
   ]
  },
  {
   "cell_type": "code",
   "execution_count": 5,
   "metadata": {},
   "outputs": [],
   "source": [
    "%load_ext autoreload\n",
    "%autoreload 2\n",
    "%load_ext line_profiler"
   ]
  },
  {
   "cell_type": "code",
   "execution_count": 6,
   "metadata": {},
   "outputs": [],
   "source": [
    "def dominate(a, b):\n",
    "    sense = np.array([1, 1, 1, 1])\n",
    "    if all((sense*a)>=(sense*b)) and any((sense*a)>(sense*b)):\n",
    "        return 1\n",
    "    else:\n",
    "        return 0"
   ]
  },
  {
   "cell_type": "code",
   "execution_count": 7,
   "metadata": {},
   "outputs": [],
   "source": [
    "def all_metrics_parallel_coord(dataset, metric = 'accuracy',\n",
    "                               acc_min = None, acc_max = None,\n",
    "                               eo_min = None, eo_max = None,\n",
    "                               pp_min=None, pp_max = None,\n",
    "                               cv_min = None, cv_max = None):\n",
    "    \n",
    "    dominate_metr = np.array([any([dominate(other, row)\n",
    "                                   for other in dataset.values])\n",
    "                              for row in dataset.values])\n",
    "    \n",
    "    metrics = ['accuracy', 'equal_opportunity', 'p_percent', 'c_variation']\n",
    "    \n",
    "    met_aux = {\"Modelo\": [],\n",
    "              \"Acurácia\": [],\n",
    "              \"Igualdade de Oportunidade\": [],\n",
    "              \"P porcento\": [],\n",
    "              \"Coeficiente de variação\": [],\n",
    "              'model_id': [],\n",
    "              \"metric_id\": [],\n",
    "              \"metric\": []}\n",
    "\n",
    "    for m in range(len(metrics)):\n",
    "        metric = metrics[m]\n",
    "        \n",
    "        met_aux[\"Modelo\"].extend(['RegLogistica', 'EqualOp', 'ParDemo', 'Reweight', 'MinMax', 'ErroMO', 'ProbMO'])\n",
    "        met_aux[\"Acurácia\"].extend([dataset.loc[('LogReg',metric),metrics[0]],\n",
    "                          dataset.loc[('RegEqual',metric),metrics[0]],\n",
    "                          dataset.loc[('RegDemo',metric),metrics[0]],\n",
    "                          dataset.loc[('RegRewe',metric),metrics[0]],\n",
    "                          dataset.loc[('Minimax',metric),metrics[0]],\n",
    "                          dataset.loc[('RegMoo',metric),metrics[0]],\n",
    "                          dataset.loc[('RegEqMoo',metric),metrics[0]]])\n",
    "        met_aux[\"Igualdade de Oportunidade\"].extend([dataset.loc[('LogReg',metric),metrics[1]],\n",
    "                          dataset.loc[('RegEqual',metric),metrics[1]],\n",
    "                          dataset.loc[('RegDemo',metric),metrics[1]],\n",
    "                          dataset.loc[('RegRewe',metric),metrics[1]],\n",
    "                          dataset.loc[('Minimax',metric),metrics[1]],\n",
    "                          dataset.loc[('RegMoo',metric),metrics[1]],\n",
    "                          dataset.loc[('RegEqMoo',metric),metrics[1]]])\n",
    "        met_aux[\"P porcento\"].extend([dataset.loc[('LogReg',metric),metrics[2]],\n",
    "                          dataset.loc[('RegEqual',metric),metrics[2]],\n",
    "                          dataset.loc[('RegDemo',metric),metrics[2]],\n",
    "                          dataset.loc[('RegRewe',metric),metrics[2]],\n",
    "                          dataset.loc[('Minimax',metric),metrics[2]],\n",
    "                          dataset.loc[('RegMoo',metric),metrics[2]],\n",
    "                          dataset.loc[('RegEqMoo',metric),metrics[2]]])\n",
    "        met_aux[\"Coeficiente de variação\"].extend([dataset.loc[('LogReg',metric),metrics[3]],\n",
    "                          dataset.loc[('RegEqual',metric),metrics[3]],\n",
    "                          dataset.loc[('RegDemo',metric),metrics[3]],\n",
    "                          dataset.loc[('RegRewe',metric),metrics[3]],\n",
    "                          dataset.loc[('Minimax',metric),metrics[3]],\n",
    "                          dataset.loc[('RegMoo',metric),metrics[3]],\n",
    "                          dataset.loc[('RegEqMoo',metric),metrics[3]]])\n",
    "        met_aux['model_id'].extend([0,1,2,3,4,5,6])\n",
    "        met_aux['metric_id'].extend([m,m,m,m,m,m,m])\n",
    "        met_aux['metric'].extend([metric,metric,metric,metric,metric,metric,metric])\n",
    "\n",
    "    m_metrics = pd.DataFrame(data=met_aux, \n",
    "                                columns=['Modelo','Acurácia','Igualdade de Oportunidade','P porcento',\n",
    "                                         'Coeficiente de variação','model_id', 'metric_id', 'metric'])\n",
    "    \n",
    "    acc_min = acc_min if acc_min is not None else m_metrics['Acurácia'].min()\n",
    "    acc_max = acc_max if acc_max is not None else m_metrics['Acurácia'].max()\n",
    "    eo_min = eo_min if eo_min is not None else m_metrics['Igualdade de Oportunidade'].min()\n",
    "    eo_max = eo_max if eo_max is not None else m_metrics['Igualdade de Oportunidade'].max()\n",
    "    pp_min = pp_min if pp_min is not None else m_metrics['P porcento'].min()\n",
    "    pp_max = pp_max if pp_max is not None else m_metrics['P porcento'].max()\n",
    "    cv_min = cv_min if cv_min is not None else m_metrics['Coeficiente de variação'].min()\n",
    "    cv_max = cv_max if cv_max is not None else m_metrics['Coeficiente de variação'].max()\n",
    "\n",
    "    fig = go.FigureWidget(data=\n",
    "        go.Parcoords(\n",
    "            line = dict(color = m_metrics['model_id'], \n",
    "                        colorscale = [(0.0, colors[0]),(0.14, colors[0]),\n",
    "                            (0.14, colors[1]), (0.28, colors[1]),\n",
    "                            (0.28, colors[2]),(0.42, colors[2]),\n",
    "                            (0.42, colors[3]),(0.56, colors[3]),\n",
    "                            (0.56, colors[4]),(0.7, colors[4]),\n",
    "                            (0.7, colors[5]),(0.84, colors[5]),\n",
    "                            (0.84, colors[6]),(1.0, colors[6])], \n",
    "                        showscale = True, cmin = 0, cmax = 6,\n",
    "                       colorbar = {'tickvals': m_metrics['model_id'].tolist(),\n",
    "                              'ticktext': m_metrics['Modelo'].tolist(),\n",
    "                                  'title': 'Modelo'}),\n",
    "            dimensions = list([\n",
    "                dict(tickvals = [0,1,2,3],\n",
    "                     ticktext = ['Acurácia','Iguald Oport','P porcento',\n",
    "                                         'Coef de var'],\n",
    "                     label = 'Métrica otimizada', values = m_metrics['metric_id']),\n",
    "                #dict(tickvals = [0,1,2,3,4,5,6],\n",
    "                #     ticktext = ['LogReg', 'RegEqual', 'RegDemo', 'RegRewe', 'Minimax','RegMoo', 'RegEqMoo'],\n",
    "                #     label = 'Modelo', values = m_metrics['model_id']),\n",
    "                dict(range = [acc_min, acc_max],\n",
    "                    label = 'Acurácia', values = m_metrics['Acurácia']),\n",
    "                dict(range = [eo_min, eo_max],\n",
    "                    label = 'Igualdade de Oportunidade', values = m_metrics['Igualdade de Oportunidade']),\n",
    "                dict(range = [pp_min, pp_max],\n",
    "                    label = 'P porcento', values = m_metrics['P porcento']),\n",
    "                dict(range = [cv_min, cv_max],\n",
    "                    label = 'Coeficiente de variação', values = m_metrics['Coeficiente de variação']),\n",
    "            ])\n",
    "        ), layout = dict(height=400)#title = \"Resultado para cada modelo - German\")\n",
    "    )\n",
    "    \n",
    "    def selection_handler(trace, points, selector):\n",
    "        print(points, selection)\n",
    "\n",
    "    fig.data[0].on_selection(selection_handler)\n",
    "    \n",
    "    \n",
    "    fig.update_layout(\n",
    "        plot_bgcolor = 'white',\n",
    "        paper_bgcolor = 'white'\n",
    "    )\n",
    "\n",
    "    return fig"
   ]
  },
  {
   "cell_type": "markdown",
   "metadata": {},
   "source": [
    "## Compass"
   ]
  },
  {
   "cell_type": "code",
   "execution_count": 8,
   "metadata": {},
   "outputs": [],
   "source": [
    "data = pd.read_csv(\"Datasets - Limpos/compas_onerace.csv\")\n",
    "fair_feature = \"not_white\"\n",
    "pred_feature = \"Two_yr_Recidivism\""
   ]
  },
  {
   "cell_type": "code",
   "execution_count": 10,
   "metadata": {},
   "outputs": [],
   "source": [
    "X = data.drop([pred_feature], axis=1)\n",
    "y = data[pred_feature]\n",
    "\n",
    "\n",
    "X_tv, X_test, y_tv, y_test = train_test_split(X, y, test_size=1000)\n",
    "X_train, X_val, y_train, y_val = train_test_split(X_tv, y_tv, test_size=1000)"
   ]
  },
  {
   "cell_type": "markdown",
   "metadata": {},
   "source": [
    "### Fair Moo"
   ]
  },
  {
   "cell_type": "code",
   "execution_count": 11,
   "metadata": {
    "scrolled": true
   },
   "outputs": [
    {
     "name": "stderr",
     "output_type": "stream",
     "text": [
      "2020-11-23 09:09:37,060 - moopt.monise - DEBUG: Finding 1th individual minima\n",
      "2020-11-23 09:09:37,116 - moopt.monise - DEBUG: Finding 2th individual minima\n",
      "2020-11-23 09:09:37,254 - moopt.monise - DEBUG: Finding 3th individual minima\n"
     ]
    },
    {
     "name": "stdout",
     "output_type": "stream",
     "text": [
      "Using license file /home/marcos/gurobi.lic\n",
      "Academic license - for non-commercial use only\n"
     ]
    },
    {
     "name": "stderr",
     "output_type": "stream",
     "text": [
      "2020-11-23 09:09:37,415 - moopt.monise - DEBUG: 4th solution - importance: 1.0\n",
      "2020-11-23 09:09:37,536 - moopt.monise - DEBUG: 5th solution - importance: 1.0\n",
      "2020-11-23 09:09:37,658 - moopt.monise - DEBUG: 6th solution - importance: 1.0\n",
      "2020-11-23 09:09:37,786 - moopt.monise - DEBUG: 7th solution - importance: 1.0\n",
      "2020-11-23 09:09:37,925 - moopt.monise - DEBUG: 8th solution - importance: 1.0\n",
      "2020-11-23 09:09:38,069 - moopt.monise - DEBUG: 9th solution - importance: 0.4314190635413902\n",
      "2020-11-23 09:09:38,227 - moopt.monise - DEBUG: 10th solution - importance: 0.2954880160002294\n",
      "2020-11-23 09:09:38,392 - moopt.monise - DEBUG: 11th solution - importance: 0.2721785156659205\n",
      "2020-11-23 09:09:38,545 - moopt.monise - DEBUG: 12th solution - importance: 0.15406252874224402\n",
      "2020-11-23 09:09:38,699 - moopt.monise - DEBUG: 13th solution - importance: 0.12669484422771388\n",
      "2020-11-23 09:09:38,861 - moopt.monise - DEBUG: 14th solution - importance: 0.09318268420586523\n",
      "2020-11-23 09:09:39,012 - moopt.monise - DEBUG: 15th solution - importance: 0.08801200123004442\n",
      "2020-11-23 09:09:39,194 - moopt.monise - DEBUG: 16th solution - importance: 0.08556034541703987\n",
      "2020-11-23 09:09:39,357 - moopt.monise - DEBUG: 17th solution - importance: 0.06957758469086564\n",
      "2020-11-23 09:09:39,528 - moopt.monise - DEBUG: 18th solution - importance: 0.061308386204375544\n",
      "2020-11-23 09:09:39,748 - moopt.monise - DEBUG: 19th solution - importance: 0.05807701955941635\n",
      "2020-11-23 09:09:39,962 - moopt.monise - DEBUG: 20th solution - importance: 0.04882362243087813\n",
      "2020-11-23 09:09:40,170 - moopt.monise - DEBUG: 21th solution - importance: 0.04344624071634088\n",
      "2020-11-23 09:09:40,365 - moopt.monise - DEBUG: 22th solution - importance: 0.042550188232399214\n",
      "2020-11-23 09:09:40,543 - moopt.monise - DEBUG: 23th solution - importance: 0.03915309159322625\n",
      "2020-11-23 09:09:40,706 - moopt.monise - DEBUG: 24th solution - importance: 0.038711843387791066\n",
      "2020-11-23 09:09:40,922 - moopt.monise - DEBUG: 25th solution - importance: 0.037634570150963824\n",
      "2020-11-23 09:09:41,112 - moopt.monise - DEBUG: 26th solution - importance: 0.034117227032581826\n",
      "2020-11-23 09:09:41,317 - moopt.monise - DEBUG: 27th solution - importance: 0.029148168648431488\n",
      "2020-11-23 09:09:41,527 - moopt.monise - DEBUG: 28th solution - importance: 0.028762596258931593\n",
      "2020-11-23 09:09:41,724 - moopt.monise - DEBUG: 29th solution - importance: 0.02749724689583993\n",
      "2020-11-23 09:09:41,934 - moopt.monise - DEBUG: 30th solution - importance: 0.025078067193779075\n",
      "2020-11-23 09:09:42,163 - moopt.monise - DEBUG: 31th solution - importance: 0.024461901471538258\n",
      "2020-11-23 09:09:42,408 - moopt.monise - DEBUG: 32th solution - importance: 0.01786508034409356\n",
      "2020-11-23 09:09:42,683 - moopt.monise - DEBUG: 33th solution - importance: 0.01786508034409356\n",
      "2020-11-23 09:09:42,928 - moopt.monise - DEBUG: 34th solution - importance: 0.016521676437036257\n",
      "2020-11-23 09:09:43,205 - moopt.monise - DEBUG: 35th solution - importance: 0.016263891796852167\n",
      "2020-11-23 09:09:43,453 - moopt.monise - DEBUG: 36th solution - importance: 0.014932608901980634\n",
      "2020-11-23 09:09:43,707 - moopt.monise - DEBUG: 37th solution - importance: 0.013523513621835353\n",
      "2020-11-23 09:09:43,970 - moopt.monise - DEBUG: 38th solution - importance: 0.01296618847282254\n",
      "2020-11-23 09:09:44,224 - moopt.monise - DEBUG: 39th solution - importance: 0.011800980754383744\n",
      "2020-11-23 09:09:44,499 - moopt.monise - DEBUG: 40th solution - importance: 0.011800980754383744\n",
      "2020-11-23 09:09:44,762 - moopt.monise - DEBUG: 41th solution - importance: 0.011654679487151421\n",
      "2020-11-23 09:09:45,034 - moopt.monise - DEBUG: 42th solution - importance: 0.010523108908958346\n",
      "2020-11-23 09:09:45,340 - moopt.monise - DEBUG: 43th solution - importance: 0.010354390688365099\n",
      "2020-11-23 09:09:45,631 - moopt.monise - DEBUG: 44th solution - importance: 0.01013193185007602\n",
      "2020-11-23 09:09:45,938 - moopt.monise - DEBUG: 45th solution - importance: 0.009739319183331043\n",
      "2020-11-23 09:09:46,266 - moopt.monise - DEBUG: 46th solution - importance: 0.009548980701852523\n",
      "2020-11-23 09:09:46,599 - moopt.monise - DEBUG: 47th solution - importance: 0.009442722545195148\n",
      "2020-11-23 09:09:46,969 - moopt.monise - DEBUG: 48th solution - importance: 0.008087463366297148\n",
      "2020-11-23 09:09:47,326 - moopt.monise - DEBUG: 49th solution - importance: 0.007786195256326269\n",
      "2020-11-23 09:09:47,674 - moopt.monise - DEBUG: 50th solution - importance: 0.007664060785227612\n",
      "2020-11-23 09:09:48,039 - moopt.monise - DEBUG: 51th solution - importance: 0.007398114744267558\n",
      "2020-11-23 09:09:48,425 - moopt.monise - DEBUG: 52th solution - importance: 0.007331741664404173\n",
      "2020-11-23 09:09:48,892 - moopt.monise - DEBUG: 53th solution - importance: 0.006506720183921044\n",
      "2020-11-23 09:09:49,300 - moopt.monise - DEBUG: 54th solution - importance: 0.006253690929646764\n",
      "2020-11-23 09:09:49,732 - moopt.monise - DEBUG: 55th solution - importance: 0.006108025582114374\n",
      "2020-11-23 09:09:50,111 - moopt.monise - DEBUG: 56th solution - importance: 0.006083010479883208\n",
      "2020-11-23 09:09:50,542 - moopt.monise - DEBUG: 57th solution - importance: 0.005980637997509629\n",
      "2020-11-23 09:09:50,944 - moopt.monise - DEBUG: 58th solution - importance: 0.005754885545270344\n",
      "2020-11-23 09:09:51,389 - moopt.monise - DEBUG: 59th solution - importance: 0.005472530447093582\n",
      "2020-11-23 09:09:51,802 - moopt.monise - DEBUG: 60th solution - importance: 0.005042987374187395\n",
      "2020-11-23 09:09:52,217 - moopt.monise - DEBUG: 61th solution - importance: 0.004765323856133313\n",
      "2020-11-23 09:09:52,645 - moopt.monise - DEBUG: 62th solution - importance: 0.0047305705779177795\n",
      "2020-11-23 09:09:53,094 - moopt.monise - DEBUG: 63th solution - importance: 0.0046684295129602975\n",
      "2020-11-23 09:09:53,551 - moopt.monise - DEBUG: 64th solution - importance: 0.004593062187685716\n",
      "2020-11-23 09:09:54,045 - moopt.monise - DEBUG: 65th solution - importance: 0.00446844288813817\n",
      "2020-11-23 09:09:54,535 - moopt.monise - DEBUG: 66th solution - importance: 0.004454198852701997\n",
      "2020-11-23 09:09:55,003 - moopt.monise - DEBUG: 67th solution - importance: 0.004361312903618168\n",
      "2020-11-23 09:09:55,555 - moopt.monise - DEBUG: 68th solution - importance: 0.004301484104015199\n",
      "2020-11-23 09:09:56,085 - moopt.monise - DEBUG: 69th solution - importance: 0.004291662559649914\n",
      "2020-11-23 09:09:56,599 - moopt.monise - DEBUG: 70th solution - importance: 0.004179490684129424\n",
      "2020-11-23 09:09:57,179 - moopt.monise - DEBUG: 71th solution - importance: 0.0037248247197130767\n",
      "2020-11-23 09:09:57,767 - moopt.monise - DEBUG: 72th solution - importance: 0.003698202497277735\n",
      "2020-11-23 09:09:58,359 - moopt.monise - DEBUG: 73th solution - importance: 0.0036171678660468685\n",
      "2020-11-23 09:09:58,951 - moopt.monise - DEBUG: 74th solution - importance: 0.003523501339878569\n",
      "2020-11-23 09:09:59,528 - moopt.monise - DEBUG: 75th solution - importance: 0.003412614571407617\n",
      "2020-11-23 09:10:00,119 - moopt.monise - DEBUG: 76th solution - importance: 0.0033586935232430156\n",
      "2020-11-23 09:10:00,727 - moopt.monise - DEBUG: 77th solution - importance: 0.0033348424157289263\n",
      "2020-11-23 09:10:01,330 - moopt.monise - DEBUG: 78th solution - importance: 0.003283208874951763\n",
      "2020-11-23 09:10:01,973 - moopt.monise - DEBUG: 79th solution - importance: 0.0031655557538751164\n",
      "2020-11-23 09:10:03,243 - moopt.monise - DEBUG: 80th solution - importance: 0.0030928378297011643\n",
      "2020-11-23 09:10:03,919 - moopt.monise - DEBUG: 81th solution - importance: 0.00303490643601286\n",
      "2020-11-23 09:10:04,571 - moopt.monise - DEBUG: 82th solution - importance: 0.0029932549907516225\n",
      "2020-11-23 09:10:05,219 - moopt.monise - DEBUG: 83th solution - importance: 0.0029593457869504696\n",
      "2020-11-23 09:10:05,843 - moopt.monise - DEBUG: 84th solution - importance: 0.0027716827528898903\n",
      "2020-11-23 09:10:06,543 - moopt.monise - DEBUG: 85th solution - importance: 0.0027560707617258337\n",
      "2020-11-23 09:10:07,252 - moopt.monise - DEBUG: 86th solution - importance: 0.0027040910046438045\n",
      "2020-11-23 09:10:08,023 - moopt.monise - DEBUG: 87th solution - importance: 0.00268519829724127\n",
      "2020-11-23 09:10:08,826 - moopt.monise - DEBUG: 88th solution - importance: 0.0026333819639599632\n",
      "2020-11-23 09:10:09,570 - moopt.monise - DEBUG: 89th solution - importance: 0.0026068948991772997\n"
     ]
    },
    {
     "name": "stderr",
     "output_type": "stream",
     "text": [
      "2020-11-23 09:10:10,365 - moopt.monise - DEBUG: 90th solution - importance: 0.002586055782855667\n",
      "2020-11-23 09:10:11,129 - moopt.monise - DEBUG: 91th solution - importance: 0.0025594781568631605\n",
      "2020-11-23 09:10:11,878 - moopt.monise - DEBUG: 92th solution - importance: 0.0024265630784651433\n",
      "2020-11-23 09:10:13,240 - moopt.monise - DEBUG: 93th solution - importance: 0.002367827525445714\n",
      "2020-11-23 09:10:14,562 - moopt.monise - DEBUG: 94th solution - importance: 0.002331881212938146\n",
      "2020-11-23 09:10:15,505 - moopt.monise - DEBUG: 95th solution - importance: 0.0023202934342326544\n",
      "2020-11-23 09:10:16,944 - moopt.monise - DEBUG: 96th solution - importance: 0.002213957537011325\n",
      "2020-11-23 09:10:17,762 - moopt.monise - DEBUG: 97th solution - importance: 0.0022133856160526516\n",
      "2020-11-23 09:10:19,420 - moopt.monise - DEBUG: 98th solution - importance: 0.002206581724120598\n",
      "2020-11-23 09:10:20,259 - moopt.monise - DEBUG: 99th solution - importance: 0.0021805333451184786\n",
      "2020-11-23 09:10:22,038 - moopt.monise - DEBUG: 100th solution - importance: 0.0021187058430229694\n",
      "2020-11-23 09:10:23,695 - moopt.monise - DEBUG: 101th solution - importance: 0.0021094547915579604\n",
      "2020-11-23 09:10:24,745 - moopt.monise - DEBUG: 102th solution - importance: 0.002073516662203125\n",
      "2020-11-23 09:10:26,225 - moopt.monise - DEBUG: 103th solution - importance: 0.0018121285270500049\n",
      "2020-11-23 09:10:27,414 - moopt.monise - DEBUG: 104th solution - importance: 0.0017474079499194474\n",
      "2020-11-23 09:10:28,944 - moopt.monise - DEBUG: 105th solution - importance: 0.0016885183513988948\n",
      "2020-11-23 09:10:30,472 - moopt.monise - DEBUG: 106th solution - importance: 0.0016811499244253304\n",
      "2020-11-23 09:10:31,888 - moopt.monise - DEBUG: 107th solution - importance: 0.0016320065128775667\n",
      "2020-11-23 09:10:33,342 - moopt.monise - DEBUG: 108th solution - importance: 0.0015047204685413834\n",
      "2020-11-23 09:10:34,903 - moopt.monise - DEBUG: 109th solution - importance: 0.0013396944907651664\n",
      "2020-11-23 09:10:36,511 - moopt.monise - DEBUG: 110th solution - importance: 0.001230092675589152\n",
      "2020-11-23 09:10:38,161 - moopt.monise - DEBUG: 111th solution - importance: 0.0011315099561130606\n",
      "2020-11-23 09:10:39,746 - moopt.monise - DEBUG: 112th solution - importance: 0.0011083909468506082\n",
      "2020-11-23 09:10:41,378 - moopt.monise - DEBUG: 113th solution - importance: 0.0010611077384891083\n",
      "2020-11-23 09:10:43,007 - moopt.monise - DEBUG: 114th solution - importance: 0.000975141921343092\n",
      "2020-11-23 09:10:44,823 - moopt.monise - DEBUG: 115th solution - importance: 0.0009664351896891506\n",
      "2020-11-23 09:10:46,759 - moopt.monise - DEBUG: 116th solution - importance: 0.0009232173692234864\n",
      "2020-11-23 09:10:48,293 - moopt.monise - DEBUG: 117th solution - importance: 0.0009138145046107674\n",
      "2020-11-23 09:10:50,066 - moopt.monise - DEBUG: 118th solution - importance: 0.0009108807981590124\n",
      "2020-11-23 09:10:51,733 - moopt.monise - DEBUG: 119th solution - importance: 0.0009080417496197941\n",
      "2020-11-23 09:10:53,458 - moopt.monise - DEBUG: 120th solution - importance: 0.0009052391590164921\n",
      "2020-11-23 09:10:55,239 - moopt.monise - DEBUG: 121th solution - importance: 0.0008808741633611809\n",
      "2020-11-23 09:10:57,064 - moopt.monise - DEBUG: 122th solution - importance: 0.0007725983785126238\n",
      "2020-11-23 09:10:58,898 - moopt.monise - DEBUG: 123th solution - importance: 0.0007609468555121066\n",
      "2020-11-23 09:11:00,874 - moopt.monise - DEBUG: 124th solution - importance: 0.0007234117206091413\n",
      "2020-11-23 09:11:03,056 - moopt.monise - DEBUG: 125th solution - importance: 0.0007088393596892181\n",
      "2020-11-23 09:11:05,187 - moopt.monise - DEBUG: 126th solution - importance: 0.0006359002783780432\n",
      "2020-11-23 09:11:07,096 - moopt.monise - DEBUG: 127th solution - importance: 0.0006058321031534082\n",
      "2020-11-23 09:11:09,177 - moopt.monise - DEBUG: 128th solution - importance: 0.0005960335994105191\n",
      "2020-11-23 09:11:11,206 - moopt.monise - DEBUG: 129th solution - importance: 0.0005594859586077583\n",
      "2020-11-23 09:11:13,385 - moopt.monise - DEBUG: 130th solution - importance: 0.0005454202029141928\n",
      "2020-11-23 09:11:15,411 - moopt.monise - DEBUG: 131th solution - importance: 0.0005291071703759573\n",
      "2020-11-23 09:11:17,414 - moopt.monise - DEBUG: 132th solution - importance: 0.0005011695900073905\n",
      "2020-11-23 09:11:19,594 - moopt.monise - DEBUG: 133th solution - importance: 0.0004760052699272372\n",
      "2020-11-23 09:11:21,819 - moopt.monise - DEBUG: 134th solution - importance: 0.00045851956898153306\n",
      "2020-11-23 09:11:23,989 - moopt.monise - DEBUG: 135th solution - importance: 0.000430878081667464\n",
      "2020-11-23 09:11:26,170 - moopt.monise - DEBUG: 136th solution - importance: 0.0004255837934513747\n",
      "2020-11-23 09:11:28,344 - moopt.monise - DEBUG: 137th solution - importance: 0.00041554929713319454\n",
      "2020-11-23 09:11:30,517 - moopt.monise - DEBUG: 138th solution - importance: 0.0004155226652608564\n",
      "2020-11-23 09:11:32,704 - moopt.monise - DEBUG: 139th solution - importance: 0.0004155226652608564\n",
      "2020-11-23 09:11:34,886 - moopt.monise - DEBUG: 140th solution - importance: 0.0004155226652608564\n",
      "2020-11-23 09:11:37,059 - moopt.monise - DEBUG: 141th solution - importance: 0.0003704310818096528\n",
      "2020-11-23 09:11:39,236 - moopt.monise - DEBUG: 142th solution - importance: 0.0003540163104586367\n",
      "2020-11-23 09:11:41,427 - moopt.monise - DEBUG: 143th solution - importance: 0.00034308452366260553\n",
      "2020-11-23 09:11:43,600 - moopt.monise - DEBUG: 144th solution - importance: 0.00032202809235532643\n",
      "2020-11-23 09:11:45,772 - moopt.monise - DEBUG: 145th solution - importance: 0.00031409451085061746\n",
      "2020-11-23 09:11:47,954 - moopt.monise - DEBUG: 146th solution - importance: 0.0002971835026300651\n",
      "2020-11-23 09:11:50,131 - moopt.monise - DEBUG: 147th solution - importance: 0.0002971835026300651\n",
      "2020-11-23 09:11:52,321 - moopt.monise - DEBUG: 148th solution - importance: 0.0002971835026300651\n",
      "2020-11-23 09:11:54,517 - moopt.monise - DEBUG: 149th solution - importance: 0.0002971835026300651\n",
      "2020-11-23 09:11:56,687 - moopt.monise - DEBUG: 150th solution - importance: 0.0002645309801965694\n"
     ]
    }
   ],
   "source": [
    "moo_err = monise(weightedScalar=FairScalarization(X_train, y_train, fair_feature),\n",
    "                 singleScalar=FairScalarization(X_train, y_train, fair_feature),\n",
    "                  nodeTimeLimit=2, targetSize=150,\n",
    "                  targetGap=0, nodeGap=0.05, norm=False)\n",
    "\n",
    "moo_err.optimize()"
   ]
  },
  {
   "cell_type": "code",
   "execution_count": 30,
   "metadata": {},
   "outputs": [
    {
     "name": "stderr",
     "output_type": "stream",
     "text": [
      "/home/marcos/Documents/Experiments/envs/crime/lib/python3.7/site-packages/sklego/metrics.py:155: RuntimeWarning:\n",
      "\n",
      "invalid value encountered in double_scalars\n",
      "\n",
      "/home/marcos/Documents/Experiments/envs/crime/lib/python3.7/site-packages/sklego/metrics.py:79: RuntimeWarning:\n",
      "\n",
      "No samples with y_hat == 1 for not_white == 1, returning 0\n",
      "\n",
      "/home/marcos/Documents/Experiments/envs/crime/lib/python3.7/site-packages/sklego/metrics.py:155: RuntimeWarning:\n",
      "\n",
      "invalid value encountered in double_scalars\n",
      "\n",
      "/home/marcos/Documents/Experiments/envs/crime/lib/python3.7/site-packages/sklego/metrics.py:79: RuntimeWarning:\n",
      "\n",
      "No samples with y_hat == 1 for not_white == 1, returning 0\n",
      "\n",
      "/home/marcos/Documents/Experiments/envs/crime/lib/python3.7/site-packages/sklego/metrics.py:155: RuntimeWarning:\n",
      "\n",
      "invalid value encountered in double_scalars\n",
      "\n",
      "/home/marcos/Documents/Experiments/envs/crime/lib/python3.7/site-packages/sklego/metrics.py:79: RuntimeWarning:\n",
      "\n",
      "No samples with y_hat == 1 for not_white == 1, returning 0\n",
      "\n",
      "/home/marcos/Documents/Experiments/envs/crime/lib/python3.7/site-packages/sklego/metrics.py:155: RuntimeWarning:\n",
      "\n",
      "invalid value encountered in double_scalars\n",
      "\n",
      "/home/marcos/Documents/Experiments/envs/crime/lib/python3.7/site-packages/sklego/metrics.py:79: RuntimeWarning:\n",
      "\n",
      "No samples with y_hat == 1 for not_white == 1, returning 0\n",
      "\n"
     ]
    }
   ],
   "source": [
    "m_aux = {\"Acurácia\": [], \"Igualdade de Oportunidade\": [], \"P porcento\": [], \"Coeficiente de variação\": []}\n",
    "sols = []\n",
    "\n",
    "for solution in moo_err.solutionsList:\n",
    "    sols.append(solution.x)\n",
    "    m_aux[\"Acurácia\"].append(solution.x.score(X_val, y_val))\n",
    "    m_aux[\"Igualdade de Oportunidade\"].append(equal_opportunity_score(sensitive_column=fair_feature)(solution.x,\n",
    "                                                                                                            X_val, y_val))\n",
    "    m_aux[\"P porcento\"].append(p_percent_score(sensitive_column=fair_feature)(solution.x,X_val))\n",
    "    m_aux[\"Coeficiente de variação\"].append(coefficient_of_variation(solution.x, X_val, y_val))"
   ]
  },
  {
   "cell_type": "code",
   "execution_count": 31,
   "metadata": {},
   "outputs": [],
   "source": [
    "m_metrics = pd.DataFrame(data=m_aux, columns=['Acurácia','Igualdade de Oportunidade','P porcento',\n",
    "                                     'Coeficiente de variação'])"
   ]
  },
  {
   "cell_type": "code",
   "execution_count": 32,
   "metadata": {},
   "outputs": [],
   "source": [
    "m_metrics['cv_aux'] = 1/m_metrics['Coeficiente de variação']"
   ]
  },
  {
   "cell_type": "code",
   "execution_count": 33,
   "metadata": {},
   "outputs": [
    {
     "data": {
      "text/html": [
       "<div>\n",
       "<style scoped>\n",
       "    .dataframe tbody tr th:only-of-type {\n",
       "        vertical-align: middle;\n",
       "    }\n",
       "\n",
       "    .dataframe tbody tr th {\n",
       "        vertical-align: top;\n",
       "    }\n",
       "\n",
       "    .dataframe thead th {\n",
       "        text-align: right;\n",
       "    }\n",
       "</style>\n",
       "<table border=\"1\" class=\"dataframe\">\n",
       "  <thead>\n",
       "    <tr style=\"text-align: right;\">\n",
       "      <th></th>\n",
       "      <th>Acurácia</th>\n",
       "      <th>Igualdade de Oportunidade</th>\n",
       "      <th>P porcento</th>\n",
       "      <th>cv_aux</th>\n",
       "      <th>dominated</th>\n",
       "    </tr>\n",
       "  </thead>\n",
       "  <tbody>\n",
       "    <tr>\n",
       "      <th>0</th>\n",
       "      <td>0.65</td>\n",
       "      <td>0.53</td>\n",
       "      <td>0.52</td>\n",
       "      <td>1.05</td>\n",
       "      <td>1</td>\n",
       "    </tr>\n",
       "    <tr>\n",
       "      <th>1</th>\n",
       "      <td>0.66</td>\n",
       "      <td>0.86</td>\n",
       "      <td>0.84</td>\n",
       "      <td>1.16</td>\n",
       "      <td>0</td>\n",
       "    </tr>\n",
       "    <tr>\n",
       "      <th>2</th>\n",
       "      <td>0.54</td>\n",
       "      <td>0.99</td>\n",
       "      <td>0.00</td>\n",
       "      <td>0.76</td>\n",
       "      <td>0</td>\n",
       "    </tr>\n",
       "    <tr>\n",
       "      <th>3</th>\n",
       "      <td>0.65</td>\n",
       "      <td>0.58</td>\n",
       "      <td>0.55</td>\n",
       "      <td>1.05</td>\n",
       "      <td>1</td>\n",
       "    </tr>\n",
       "    <tr>\n",
       "      <th>4</th>\n",
       "      <td>0.63</td>\n",
       "      <td>0.40</td>\n",
       "      <td>0.40</td>\n",
       "      <td>0.95</td>\n",
       "      <td>1</td>\n",
       "    </tr>\n",
       "    <tr>\n",
       "      <th>...</th>\n",
       "      <td>...</td>\n",
       "      <td>...</td>\n",
       "      <td>...</td>\n",
       "      <td>...</td>\n",
       "      <td>...</td>\n",
       "    </tr>\n",
       "    <tr>\n",
       "      <th>145</th>\n",
       "      <td>0.60</td>\n",
       "      <td>0.19</td>\n",
       "      <td>0.22</td>\n",
       "      <td>0.89</td>\n",
       "      <td>1</td>\n",
       "    </tr>\n",
       "    <tr>\n",
       "      <th>146</th>\n",
       "      <td>0.59</td>\n",
       "      <td>0.11</td>\n",
       "      <td>0.17</td>\n",
       "      <td>0.85</td>\n",
       "      <td>1</td>\n",
       "    </tr>\n",
       "    <tr>\n",
       "      <th>147</th>\n",
       "      <td>0.56</td>\n",
       "      <td>0.20</td>\n",
       "      <td>0.12</td>\n",
       "      <td>0.80</td>\n",
       "      <td>1</td>\n",
       "    </tr>\n",
       "    <tr>\n",
       "      <th>148</th>\n",
       "      <td>0.63</td>\n",
       "      <td>0.50</td>\n",
       "      <td>0.50</td>\n",
       "      <td>0.97</td>\n",
       "      <td>1</td>\n",
       "    </tr>\n",
       "    <tr>\n",
       "      <th>149</th>\n",
       "      <td>0.59</td>\n",
       "      <td>0.19</td>\n",
       "      <td>0.24</td>\n",
       "      <td>0.87</td>\n",
       "      <td>1</td>\n",
       "    </tr>\n",
       "  </tbody>\n",
       "</table>\n",
       "<p>150 rows × 5 columns</p>\n",
       "</div>"
      ],
      "text/plain": [
       "     Acurácia  Igualdade de Oportunidade  P porcento  cv_aux  dominated\n",
       "0        0.65                       0.53        0.52    1.05          1\n",
       "1        0.66                       0.86        0.84    1.16          0\n",
       "2        0.54                       0.99        0.00    0.76          0\n",
       "3        0.65                       0.58        0.55    1.05          1\n",
       "4        0.63                       0.40        0.40    0.95          1\n",
       "..        ...                        ...         ...     ...        ...\n",
       "145      0.60                       0.19        0.22    0.89          1\n",
       "146      0.59                       0.11        0.17    0.85          1\n",
       "147      0.56                       0.20        0.12    0.80          1\n",
       "148      0.63                       0.50        0.50    0.97          1\n",
       "149      0.59                       0.19        0.24    0.87          1\n",
       "\n",
       "[150 rows x 5 columns]"
      ]
     },
     "execution_count": 33,
     "metadata": {},
     "output_type": "execute_result"
    }
   ],
   "source": [
    "new_results = m_metrics.copy()//0.01/100\n",
    "new_results = new_results.drop('Coeficiente de variação', axis=1)\n",
    "dominate_metr = [1*any([dominate(other, row) for other in new_results.values]) for row in new_results.values]\n",
    "new_results['dominated'] = dominate_metr\n",
    "new_results"
   ]
  },
  {
   "cell_type": "code",
   "execution_count": 34,
   "metadata": {},
   "outputs": [],
   "source": [
    "#new_results[new_results.dominated] = 1\n",
    "#new_results[new_results.dominated == False] = 0\n",
    "#new_results = new_results[new_results.dominated == False]"
   ]
  },
  {
   "cell_type": "code",
   "execution_count": 45,
   "metadata": {
    "scrolled": false
   },
   "outputs": [
    {
     "data": {
      "application/vnd.jupyter.widget-view+json": {
       "model_id": "3bccdf0c575b48eaa5ebd118eb34aa55",
       "version_major": 2,
       "version_minor": 0
      },
      "text/plain": [
       "FigureWidget({\n",
       "    'data': [{'dimensions': [{'label': 'Acurácia',\n",
       "                              'range': [0, 1…"
      ]
     },
     "metadata": {},
     "output_type": "display_data"
    }
   ],
   "source": [
    "fig = go.FigureWidget(data=\n",
    "    go.Parcoords(\n",
    "        #line = dict(color = new_results['dominated'], \n",
    "        #                colorscale = ['rgba(11,66,255)', 'rgba(11,0,255)']),\n",
    "        dimensions = list([\n",
    "            dict(range = [0,1],\n",
    "                label = 'Acurácia', values = new_results['Acurácia']),\n",
    "            dict(range = [0,1],\n",
    "                label = 'Igualdade de Oportunidade', values = new_results['Igualdade de Oportunidade']),\n",
    "            dict(range = [0,1],\n",
    "                label = 'P porcento', values = new_results['P porcento']),\n",
    "            dict(range = [0.5,2.5],\n",
    "                label = 'Coeficiente de variação', values = new_results['cv_aux']),\n",
    "        ])\n",
    "    )\n",
    ")\n",
    "\n",
    "fig.update_layout(\n",
    "    plot_bgcolor = 'white',\n",
    "    paper_bgcolor = 'white'\n",
    ")\n",
    "\n",
    "fig"
   ]
  },
  {
   "cell_type": "code",
   "execution_count": 48,
   "metadata": {},
   "outputs": [],
   "source": [
    "def calc_res(model__):\n",
    "    return [accuracy_score(y_test, model__.predict(X_test)),\n",
    "            equal_opportunity_score(sensitive_column=fair_feature)(model__, X_test, y_test),\n",
    "            p_percent_score(sensitive_column=fair_feature)(model__, X_test),\n",
    "            coefficient_of_variation(model__, X_test, y_test)]"
   ]
  },
  {
   "cell_type": "code",
   "execution_count": 49,
   "metadata": {},
   "outputs": [
    {
     "name": "stdout",
     "output_type": "stream",
     "text": [
      "0.66\n",
      "0.99\n"
     ]
    },
    {
     "name": "stderr",
     "output_type": "stream",
     "text": [
      "/home/marcos/Documents/Experiments/envs/crime/lib/python3.7/site-packages/sklego/metrics.py:155: RuntimeWarning:\n",
      "\n",
      "invalid value encountered in double_scalars\n",
      "\n",
      "/home/marcos/Documents/Experiments/envs/crime/lib/python3.7/site-packages/sklego/metrics.py:79: RuntimeWarning:\n",
      "\n",
      "No samples with y_hat == 1 for not_white == 1, returning 0\n",
      "\n"
     ]
    },
    {
     "name": "stdout",
     "output_type": "stream",
     "text": [
      "0.99\n",
      "1.17\n"
     ]
    },
    {
     "data": {
      "text/html": [
       "<div>\n",
       "<style scoped>\n",
       "    .dataframe tbody tr th:only-of-type {\n",
       "        vertical-align: middle;\n",
       "    }\n",
       "\n",
       "    .dataframe tbody tr th {\n",
       "        vertical-align: top;\n",
       "    }\n",
       "\n",
       "    .dataframe thead th {\n",
       "        text-align: right;\n",
       "    }\n",
       "</style>\n",
       "<table border=\"1\" class=\"dataframe\">\n",
       "  <thead>\n",
       "    <tr style=\"text-align: right;\">\n",
       "      <th></th>\n",
       "      <th>Acurácia</th>\n",
       "      <th>Igualdade de Oportunidade</th>\n",
       "      <th>P porcento</th>\n",
       "      <th>Coeficiente de variação</th>\n",
       "    </tr>\n",
       "  </thead>\n",
       "  <tbody>\n",
       "    <tr>\n",
       "      <th>Acurácia</th>\n",
       "      <td>0.656</td>\n",
       "      <td>0.914705</td>\n",
       "      <td>0.889232</td>\n",
       "      <td>0.817773</td>\n",
       "    </tr>\n",
       "    <tr>\n",
       "      <th>Igualdade de Oportunidade</th>\n",
       "      <td>0.539</td>\n",
       "      <td>1</td>\n",
       "      <td>0</td>\n",
       "      <td>1.30789</td>\n",
       "    </tr>\n",
       "    <tr>\n",
       "      <th>P porcento</th>\n",
       "      <td>0.544</td>\n",
       "      <td>0.650391</td>\n",
       "      <td>0.45028</td>\n",
       "      <td>1.29479</td>\n",
       "    </tr>\n",
       "    <tr>\n",
       "      <th>Coeficiente de variação</th>\n",
       "      <td>0.67</td>\n",
       "      <td>0.898722</td>\n",
       "      <td>0.86015</td>\n",
       "      <td>0.812404</td>\n",
       "    </tr>\n",
       "    <tr>\n",
       "      <th>Ensemble</th>\n",
       "      <td>0.68</td>\n",
       "      <td>0.763643</td>\n",
       "      <td>0.672157</td>\n",
       "      <td>0.862255</td>\n",
       "    </tr>\n",
       "  </tbody>\n",
       "</table>\n",
       "</div>"
      ],
      "text/plain": [
       "                          Acurácia Igualdade de Oportunidade P porcento  \\\n",
       "Acurácia                     0.656                  0.914705   0.889232   \n",
       "Igualdade de Oportunidade    0.539                         1          0   \n",
       "P porcento                   0.544                  0.650391    0.45028   \n",
       "Coeficiente de variação       0.67                  0.898722    0.86015   \n",
       "Ensemble                      0.68                  0.763643   0.672157   \n",
       "\n",
       "                          Coeficiente de variação  \n",
       "Acurácia                                 0.817773  \n",
       "Igualdade de Oportunidade                 1.30789  \n",
       "P porcento                                1.29479  \n",
       "Coeficiente de variação                  0.812404  \n",
       "Ensemble                                 0.862255  "
      ]
     },
     "execution_count": 49,
     "metadata": {},
     "output_type": "execute_result"
    }
   ],
   "source": [
    "metrics = ['Acurácia', 'Igualdade de Oportunidade', 'P porcento', 'Coeficiente de variação']\n",
    "ens_resuls = pd.DataFrame(index=metrics+['Ensemble'], columns=metrics)\n",
    "for metr in metrics:\n",
    "    if metr=='Coeficiente de variação':\n",
    "        min_idx = np.argmax(np.array(new_results['cv_aux']))\n",
    "        print(np.array(new_results['cv_aux'])[min_idx])\n",
    "    else:\n",
    "        min_idx = np.argmax(np.array(new_results[metr]))\n",
    "        print(np.array(new_results[metr])[min_idx])\n",
    "        \n",
    "    min_model = moo_err.solutionsList[min_idx].x\n",
    "    ens_resuls.loc[metr,:] = calc_res(min_model)\n",
    "    \n",
    "selected_idx = new_results.index\n",
    "for dimension in fig.data[0]['dimensions']:\n",
    "    if dimension['label']=='Coeficiente de variação':\n",
    "        label = 'cv_aux'\n",
    "    else:\n",
    "        label = dimension['label']\n",
    "        \n",
    "    constr = dimension['constraintrange']\n",
    "    curr_pd = new_results.loc[selected_idx,:]\n",
    "    if constr is not None:\n",
    "        selected_idx = curr_pd[(curr_pd[label]>=constr[0])&(curr_pd[label]<=constr[1])].index\n",
    "        \n",
    "models_t = [(\"Model \"+str(idx), moo_model.x) \n",
    "            for idx, moo_model in enumerate(moo_err.solutionsList)\n",
    "            if idx in selected_idx]\n",
    "ensemble_model = SimpleVoting(estimators=models_t, voting='soft')\n",
    "\n",
    "ens_resuls.loc['Ensemble',:] = calc_res(ensemble_model)\n",
    "ens_resuls"
   ]
  },
  {
   "cell_type": "code",
   "execution_count": 21,
   "metadata": {},
   "outputs": [
    {
     "name": "stderr",
     "output_type": "stream",
     "text": [
      "2020-11-23 09:16:38,860 - moopt.monise - DEBUG: Finding 1th individual minima\n",
      "2020-11-23 09:16:39,010 - moopt.monise - DEBUG: Finding 2th individual minima\n",
      "2020-11-23 09:16:39,128 - moopt.monise - DEBUG: Finding 3th individual minima\n",
      "2020-11-23 09:16:39,246 - moopt.monise - DEBUG: Finding 4th individual minima\n",
      "2020-11-23 09:16:39,485 - moopt.monise - DEBUG: 5th solution - importance: 1.0\n",
      "2020-11-23 09:16:39,733 - moopt.monise - DEBUG: 6th solution - importance: 1.0\n",
      "2020-11-23 09:16:39,967 - moopt.monise - DEBUG: 7th solution - importance: 1.0\n",
      "2020-11-23 09:16:40,171 - moopt.monise - DEBUG: 8th solution - importance: 1.0\n",
      "2020-11-23 09:16:40,420 - moopt.monise - DEBUG: 9th solution - importance: 1.0\n",
      "2020-11-23 09:16:40,595 - moopt.monise - DEBUG: 10th solution - importance: 0.7027370756555614\n",
      "2020-11-23 09:16:40,799 - moopt.monise - DEBUG: 11th solution - importance: 0.5565446142807015\n",
      "2020-11-23 09:16:40,982 - moopt.monise - DEBUG: 12th solution - importance: 0.4663002111827504\n",
      "2020-11-23 09:16:41,208 - moopt.monise - DEBUG: 13th solution - importance: 0.32775212576705276\n",
      "2020-11-23 09:16:41,457 - moopt.monise - DEBUG: 14th solution - importance: 0.2846172037507769\n",
      "2020-11-23 09:16:41,696 - moopt.monise - DEBUG: 15th solution - importance: 0.23165615328378625\n",
      "2020-11-23 09:16:41,923 - moopt.monise - DEBUG: 16th solution - importance: 0.19392324962183555\n",
      "2020-11-23 09:16:42,164 - moopt.monise - DEBUG: 17th solution - importance: 0.1625820593529611\n",
      "2020-11-23 09:16:42,376 - moopt.monise - DEBUG: 18th solution - importance: 0.11666884896887404\n",
      "2020-11-23 09:16:42,610 - moopt.monise - DEBUG: 19th solution - importance: 0.09685743042467194\n",
      "2020-11-23 09:16:42,870 - moopt.monise - DEBUG: 20th solution - importance: 0.0926590034732227\n",
      "2020-11-23 09:16:43,089 - moopt.monise - DEBUG: 21th solution - importance: 0.0892594622486764\n",
      "2020-11-23 09:16:43,353 - moopt.monise - DEBUG: 22th solution - importance: 0.086514150305263\n",
      "2020-11-23 09:16:43,639 - moopt.monise - DEBUG: 23th solution - importance: 0.08493022774052816\n",
      "2020-11-23 09:16:43,928 - moopt.monise - DEBUG: 24th solution - importance: 0.07416363706130348\n",
      "2020-11-23 09:16:44,126 - moopt.monise - DEBUG: 25th solution - importance: 0.07124584021718013\n",
      "2020-11-23 09:16:44,339 - moopt.monise - DEBUG: 26th solution - importance: 0.06657478335068467\n",
      "2020-11-23 09:16:44,605 - moopt.monise - DEBUG: 27th solution - importance: 0.06595815521335628\n",
      "2020-11-23 09:16:44,920 - moopt.monise - DEBUG: 28th solution - importance: 0.05901001897937777\n",
      "2020-11-23 09:16:45,285 - moopt.monise - DEBUG: 29th solution - importance: 0.058541558408308235\n",
      "2020-11-23 09:16:45,572 - moopt.monise - DEBUG: 30th solution - importance: 0.05505409617734808\n",
      "2020-11-23 09:16:45,858 - moopt.monise - DEBUG: 31th solution - importance: 0.052782258040570844\n",
      "2020-11-23 09:16:46,179 - moopt.monise - DEBUG: 32th solution - importance: 0.04602274072370107\n",
      "2020-11-23 09:16:46,502 - moopt.monise - DEBUG: 33th solution - importance: 0.04410462620822504\n",
      "2020-11-23 09:16:46,825 - moopt.monise - DEBUG: 34th solution - importance: 0.04067369305717752\n",
      "2020-11-23 09:16:47,127 - moopt.monise - DEBUG: 35th solution - importance: 0.03950330068140219\n",
      "2020-11-23 09:16:47,376 - moopt.monise - DEBUG: 36th solution - importance: 0.03668175627790588\n",
      "2020-11-23 09:16:47,654 - moopt.monise - DEBUG: 37th solution - importance: 0.036328272954504956\n",
      "2020-11-23 09:16:47,998 - moopt.monise - DEBUG: 38th solution - importance: 0.03602815754795966\n",
      "2020-11-23 09:16:48,318 - moopt.monise - DEBUG: 39th solution - importance: 0.03510400813189842\n",
      "2020-11-23 09:16:48,611 - moopt.monise - DEBUG: 40th solution - importance: 0.03348467672361881\n",
      "2020-11-23 09:16:49,033 - moopt.monise - DEBUG: 41th solution - importance: 0.03303195376539008\n",
      "2020-11-23 09:16:49,443 - moopt.monise - DEBUG: 42th solution - importance: 0.03173306435204623\n",
      "2020-11-23 09:16:49,813 - moopt.monise - DEBUG: 43th solution - importance: 0.03164137670473323\n",
      "2020-11-23 09:16:50,118 - moopt.monise - DEBUG: 44th solution - importance: 0.030152807296553688\n",
      "2020-11-23 09:16:50,564 - moopt.monise - DEBUG: 45th solution - importance: 0.02884583544055371\n",
      "2020-11-23 09:16:50,993 - moopt.monise - DEBUG: 46th solution - importance: 0.02725198872124659\n",
      "2020-11-23 09:16:51,485 - moopt.monise - DEBUG: 47th solution - importance: 0.026221988941496716\n",
      "2020-11-23 09:16:51,936 - moopt.monise - DEBUG: 48th solution - importance: 0.026118765557475047\n",
      "2020-11-23 09:16:52,381 - moopt.monise - DEBUG: 49th solution - importance: 0.025787637736627858\n",
      "2020-11-23 09:16:52,793 - moopt.monise - DEBUG: 50th solution - importance: 0.02485789404894572\n",
      "2020-11-23 09:16:53,214 - moopt.monise - DEBUG: 51th solution - importance: 0.024460998888495306\n",
      "2020-11-23 09:16:53,737 - moopt.monise - DEBUG: 52th solution - importance: 0.023699690119128692\n",
      "2020-11-23 09:16:54,214 - moopt.monise - DEBUG: 53th solution - importance: 0.02317470126551217\n",
      "2020-11-23 09:16:54,723 - moopt.monise - DEBUG: 54th solution - importance: 0.023063185636652328\n",
      "2020-11-23 09:16:55,214 - moopt.monise - DEBUG: 55th solution - importance: 0.02241970543355648\n",
      "2020-11-23 09:16:55,771 - moopt.monise - DEBUG: 56th solution - importance: 0.021859824418698756\n",
      "2020-11-23 09:16:56,288 - moopt.monise - DEBUG: 57th solution - importance: 0.021094479180279777\n",
      "2020-11-23 09:16:56,830 - moopt.monise - DEBUG: 58th solution - importance: 0.02022163719245182\n",
      "2020-11-23 09:16:57,318 - moopt.monise - DEBUG: 59th solution - importance: 0.0196741877026883\n",
      "2020-11-23 09:16:57,829 - moopt.monise - DEBUG: 60th solution - importance: 0.018779431726070297\n",
      "2020-11-23 09:16:58,463 - moopt.monise - DEBUG: 61th solution - importance: 0.01824166827920704\n",
      "2020-11-23 09:16:58,996 - moopt.monise - DEBUG: 62th solution - importance: 0.018215401174991267\n",
      "2020-11-23 09:16:59,593 - moopt.monise - DEBUG: 63th solution - importance: 0.017722998751943622\n",
      "2020-11-23 09:17:00,193 - moopt.monise - DEBUG: 64th solution - importance: 0.0175844505994882\n",
      "2020-11-23 09:17:00,848 - moopt.monise - DEBUG: 65th solution - importance: 0.01741790604878439\n",
      "2020-11-23 09:17:01,404 - moopt.monise - DEBUG: 66th solution - importance: 0.017263204984116223\n",
      "2020-11-23 09:17:02,156 - moopt.monise - DEBUG: 67th solution - importance: 0.016313927200180812\n",
      "2020-11-23 09:17:03,134 - moopt.monise - DEBUG: 68th solution - importance: 0.016112849153403976\n",
      "2020-11-23 09:17:03,719 - moopt.monise - DEBUG: 69th solution - importance: 0.0158997489651673\n",
      "2020-11-23 09:17:04,413 - moopt.monise - DEBUG: 70th solution - importance: 0.015716144276674848\n",
      "2020-11-23 09:17:05,083 - moopt.monise - DEBUG: 71th solution - importance: 0.015469452111279258\n",
      "2020-11-23 09:17:05,775 - moopt.monise - DEBUG: 72th solution - importance: 0.0150722157770956\n",
      "2020-11-23 09:17:06,822 - moopt.monise - DEBUG: 73th solution - importance: 0.014817549593805057\n",
      "2020-11-23 09:17:07,519 - moopt.monise - DEBUG: 74th solution - importance: 0.01438967978954657\n",
      "2020-11-23 09:17:08,635 - moopt.monise - DEBUG: 75th solution - importance: 0.014035115467572898\n",
      "2020-11-23 09:17:09,403 - moopt.monise - DEBUG: 76th solution - importance: 0.013849203215601487\n",
      "2020-11-23 09:17:10,252 - moopt.monise - DEBUG: 77th solution - importance: 0.013827355601124722\n",
      "2020-11-23 09:17:11,617 - moopt.monise - DEBUG: 78th solution - importance: 0.013297009732756899\n",
      "2020-11-23 09:17:12,858 - moopt.monise - DEBUG: 79th solution - importance: 0.013286527243730067\n",
      "2020-11-23 09:17:14,177 - moopt.monise - DEBUG: 80th solution - importance: 0.012818480841151121\n",
      "2020-11-23 09:17:15,424 - moopt.monise - DEBUG: 81th solution - importance: 0.012460329769510092\n",
      "2020-11-23 09:17:16,707 - moopt.monise - DEBUG: 82th solution - importance: 0.011970954642396734\n",
      "2020-11-23 09:17:18,151 - moopt.monise - DEBUG: 83th solution - importance: 0.011961777200725252\n",
      "2020-11-23 09:17:19,477 - moopt.monise - DEBUG: 84th solution - importance: 0.011875855682670064\n",
      "2020-11-23 09:17:20,644 - moopt.monise - DEBUG: 85th solution - importance: 0.011398406565485963\n",
      "2020-11-23 09:17:21,938 - moopt.monise - DEBUG: 86th solution - importance: 0.011389313085574672\n",
      "2020-11-23 09:17:23,166 - moopt.monise - DEBUG: 87th solution - importance: 0.01100002725980572\n"
     ]
    },
    {
     "name": "stderr",
     "output_type": "stream",
     "text": [
      "2020-11-23 09:17:24,507 - moopt.monise - DEBUG: 88th solution - importance: 0.010865937823143516\n",
      "2020-11-23 09:17:25,816 - moopt.monise - DEBUG: 89th solution - importance: 0.010865461866206138\n",
      "2020-11-23 09:17:27,274 - moopt.monise - DEBUG: 90th solution - importance: 0.010775064212730764\n",
      "2020-11-23 09:17:28,825 - moopt.monise - DEBUG: 91th solution - importance: 0.01061739227772757\n",
      "2020-11-23 09:17:30,292 - moopt.monise - DEBUG: 92th solution - importance: 0.010509203975143312\n",
      "2020-11-23 09:17:31,825 - moopt.monise - DEBUG: 93th solution - importance: 0.010485820687563324\n",
      "2020-11-23 09:17:33,253 - moopt.monise - DEBUG: 94th solution - importance: 0.01048225800305198\n",
      "2020-11-23 09:17:34,770 - moopt.monise - DEBUG: 95th solution - importance: 0.010279747605829134\n",
      "2020-11-23 09:17:36,430 - moopt.monise - DEBUG: 96th solution - importance: 0.010141867838568314\n",
      "2020-11-23 09:17:38,087 - moopt.monise - DEBUG: 97th solution - importance: 0.010030766341194236\n",
      "2020-11-23 09:17:39,636 - moopt.monise - DEBUG: 98th solution - importance: 0.010013968458455612\n",
      "2020-11-23 09:17:41,133 - moopt.monise - DEBUG: 99th solution - importance: 0.009869109921057459\n",
      "2020-11-23 09:17:42,739 - moopt.monise - DEBUG: 100th solution - importance: 0.009695737438102177\n",
      "2020-11-23 09:17:44,439 - moopt.monise - DEBUG: 101th solution - importance: 0.009642864992956883\n",
      "2020-11-23 09:17:46,173 - moopt.monise - DEBUG: 102th solution - importance: 0.009570400544650238\n",
      "2020-11-23 09:17:47,828 - moopt.monise - DEBUG: 103th solution - importance: 0.009529597975073236\n",
      "2020-11-23 09:17:50,070 - moopt.monise - DEBUG: 104th solution - importance: 0.009233915100137496\n",
      "2020-11-23 09:17:52,293 - moopt.monise - DEBUG: 105th solution - importance: 0.009191773482731848\n",
      "2020-11-23 09:17:54,630 - moopt.monise - DEBUG: 106th solution - importance: 0.009069507178433944\n",
      "2020-11-23 09:17:56,822 - moopt.monise - DEBUG: 107th solution - importance: 0.008967086259048688\n",
      "2020-11-23 09:17:59,050 - moopt.monise - DEBUG: 108th solution - importance: 0.008962193552051067\n",
      "2020-11-23 09:18:01,162 - moopt.monise - DEBUG: 109th solution - importance: 0.008831937038649203\n",
      "2020-11-23 09:18:03,361 - moopt.monise - DEBUG: 110th solution - importance: 0.008799609669964674\n",
      "2020-11-23 09:18:05,557 - moopt.monise - DEBUG: 111th solution - importance: 0.008702839691039457\n",
      "2020-11-23 09:18:07,926 - moopt.monise - DEBUG: 112th solution - importance: 0.008693988146474542\n",
      "2020-11-23 09:18:10,268 - moopt.monise - DEBUG: 113th solution - importance: 0.008620209011867701\n",
      "2020-11-23 09:18:12,522 - moopt.monise - DEBUG: 114th solution - importance: 0.008573478653800922\n",
      "2020-11-23 09:18:14,795 - moopt.monise - DEBUG: 115th solution - importance: 0.008513662309781768\n",
      "2020-11-23 09:18:17,019 - moopt.monise - DEBUG: 116th solution - importance: 0.00839371111394915\n",
      "2020-11-23 09:18:19,218 - moopt.monise - DEBUG: 117th solution - importance: 0.008313091347198452\n",
      "2020-11-23 09:18:21,458 - moopt.monise - DEBUG: 118th solution - importance: 0.008224449824891459\n",
      "2020-11-23 09:18:23,745 - moopt.monise - DEBUG: 119th solution - importance: 0.008224449824891459\n",
      "2020-11-23 09:18:26,058 - moopt.monise - DEBUG: 120th solution - importance: 0.008224449824891459\n",
      "2020-11-23 09:18:28,280 - moopt.monise - DEBUG: 121th solution - importance: 0.008224449824891459\n",
      "2020-11-23 09:18:30,502 - moopt.monise - DEBUG: 122th solution - importance: 0.007657658686859399\n",
      "2020-11-23 09:18:32,783 - moopt.monise - DEBUG: 123th solution - importance: 0.0076305691351929265\n",
      "2020-11-23 09:18:35,032 - moopt.monise - DEBUG: 124th solution - importance: 0.0076305691351929265\n",
      "2020-11-23 09:18:37,317 - moopt.monise - DEBUG: 125th solution - importance: 0.007310199055639091\n",
      "2020-11-23 09:18:39,564 - moopt.monise - DEBUG: 126th solution - importance: 0.007310199055639091\n",
      "2020-11-23 09:18:41,769 - moopt.monise - DEBUG: 127th solution - importance: 0.007050227633489443\n",
      "2020-11-23 09:18:44,036 - moopt.monise - DEBUG: 128th solution - importance: 0.006695827233025691\n",
      "2020-11-23 09:18:46,337 - moopt.monise - DEBUG: 129th solution - importance: 0.006695827233025691\n",
      "2020-11-23 09:18:48,564 - moopt.monise - DEBUG: 130th solution - importance: 0.006695827233025691\n",
      "2020-11-23 09:18:50,835 - moopt.monise - DEBUG: 131th solution - importance: 0.006695827233025691\n",
      "2020-11-23 09:18:53,073 - moopt.monise - DEBUG: 132th solution - importance: 0.006469003810063204\n",
      "2020-11-23 09:18:55,327 - moopt.monise - DEBUG: 133th solution - importance: 0.006469003810063204\n",
      "2020-11-23 09:18:57,570 - moopt.monise - DEBUG: 134th solution - importance: 0.006187569951503375\n",
      "2020-11-23 09:18:59,781 - moopt.monise - DEBUG: 135th solution - importance: 0.0069426888452278285\n",
      "2020-11-23 09:19:02,140 - moopt.monise - DEBUG: 136th solution - importance: 0.0069426888452278285\n",
      "2020-11-23 09:19:04,423 - moopt.monise - DEBUG: 137th solution - importance: 0.0069426888452278285\n",
      "2020-11-23 09:19:06,691 - moopt.monise - DEBUG: 138th solution - importance: 0.0069426888452278285\n",
      "2020-11-23 09:19:08,918 - moopt.monise - DEBUG: 139th solution - importance: 0.0069426888452278285\n",
      "2020-11-23 09:19:11,139 - moopt.monise - DEBUG: 140th solution - importance: 0.00591270449289901\n",
      "2020-11-23 09:19:13,371 - moopt.monise - DEBUG: 141th solution - importance: 0.0056224384848148935\n",
      "2020-11-23 09:19:15,646 - moopt.monise - DEBUG: 142th solution - importance: 0.0056224384848148935\n",
      "2020-11-23 09:19:17,870 - moopt.monise - DEBUG: 143th solution - importance: 0.00557758265301302\n",
      "2020-11-23 09:19:20,188 - moopt.monise - DEBUG: 144th solution - importance: 0.00557758265301302\n",
      "2020-11-23 09:19:22,445 - moopt.monise - DEBUG: 145th solution - importance: 0.005429633812795676\n",
      "2020-11-23 09:19:24,712 - moopt.monise - DEBUG: 146th solution - importance: 0.0053969307523222786\n",
      "2020-11-23 09:19:26,951 - moopt.monise - DEBUG: 147th solution - importance: 0.0053969307523222786\n",
      "2020-11-23 09:19:29,232 - moopt.monise - DEBUG: 148th solution - importance: 0.0052570332161956425\n",
      "2020-11-23 09:19:31,536 - moopt.monise - DEBUG: 149th solution - importance: 0.0052570332161956425\n",
      "2020-11-23 09:19:33,809 - moopt.monise - DEBUG: 150th solution - importance: 0.0052570332161956425\n",
      "/home/marcos/Documents/Experiments/envs/crime/lib/python3.7/site-packages/sklego/metrics.py:155: RuntimeWarning:\n",
      "\n",
      "invalid value encountered in double_scalars\n",
      "\n",
      "/home/marcos/Documents/Experiments/envs/crime/lib/python3.7/site-packages/sklego/metrics.py:79: RuntimeWarning:\n",
      "\n",
      "No samples with y_hat == 1 for not_white == 1, returning 0\n",
      "\n"
     ]
    }
   ],
   "source": [
    "moo_prob = monise(weightedScalar=EqualScalarization(X_train, y_train, fair_feature),\n",
    "             singleScalar=EqualScalarization(X_train, y_train, fair_feature),\n",
    "              nodeTimeLimit=2, targetSize=150,\n",
    "              targetGap=0, nodeGap=0.01, norm=False)\n",
    "\n",
    "moo_prob.optimize()"
   ]
  },
  {
   "cell_type": "code",
   "execution_count": 50,
   "metadata": {},
   "outputs": [
    {
     "name": "stderr",
     "output_type": "stream",
     "text": [
      "/home/marcos/Documents/Experiments/envs/crime/lib/python3.7/site-packages/sklego/metrics.py:155: RuntimeWarning:\n",
      "\n",
      "invalid value encountered in double_scalars\n",
      "\n",
      "/home/marcos/Documents/Experiments/envs/crime/lib/python3.7/site-packages/sklego/metrics.py:79: RuntimeWarning:\n",
      "\n",
      "No samples with y_hat == 1 for not_white == 1, returning 0\n",
      "\n"
     ]
    }
   ],
   "source": [
    "sols = []\n",
    "\n",
    "m_aux2 = {\"Acurácia\": [], \"Igualdade de Oportunidade\": [], \"P porcento\": [], \"Coeficiente de variação\": []}\n",
    "for solution in moo_prob.solutionsList:\n",
    "    sols.append(solution.x)\n",
    "    m_aux2[\"Acurácia\"].append(solution.x.score(X_test, y_test))\n",
    "    m_aux2[\"Igualdade de Oportunidade\"].append(equal_opportunity_score(sensitive_column=fair_feature)(solution.x,\n",
    "                                                                                                            X_test, y_test))\n",
    "    m_aux2[\"P porcento\"].append(p_percent_score(sensitive_column=fair_feature)(solution.x,X_test))\n",
    "    m_aux2[\"Coeficiente de variação\"].append(coefficient_of_variation(solution.x, X_test, y_test))"
   ]
  },
  {
   "cell_type": "code",
   "execution_count": 51,
   "metadata": {},
   "outputs": [],
   "source": [
    "m_metrics2 = pd.DataFrame(data=m_aux2, columns=['Acurácia','Igualdade de Oportunidade','P porcento',\n",
    "                                     'Coeficiente de variação'])"
   ]
  },
  {
   "cell_type": "code",
   "execution_count": 71,
   "metadata": {},
   "outputs": [],
   "source": [
    "m_metrics2['cv_aux'] = 1/m_metrics2['Coeficiente de variação']\n",
    "\n",
    "new_results2 = m_metrics2.copy()\n",
    "new_results2 = new_results2.drop('Coeficiente de variação', axis=1)\n",
    "dominate_metr = [any([dominate(other, row) for other in new_results2.values]) for row in new_results2.values]\n",
    "new_results2['dominated'] = dominate_metr\n",
    "\n",
    "#new_results2[new_results2.dominated] = 1\n",
    "#new_results2[new_results2.dominated == False] = 0"
   ]
  },
  {
   "cell_type": "code",
   "execution_count": 82,
   "metadata": {},
   "outputs": [
    {
     "data": {
      "application/vnd.jupyter.widget-view+json": {
       "model_id": "049ba8d3510a40529b4913891c4b05f6",
       "version_major": 2,
       "version_minor": 0
      },
      "text/plain": [
       "FigureWidget({\n",
       "    'data': [{'dimensions': [{'label': 'Acurácia',\n",
       "                              'range': [0, 1…"
      ]
     },
     "metadata": {},
     "output_type": "display_data"
    }
   ],
   "source": [
    "fig = go.FigureWidget(data=\n",
    "    go.Parcoords(\n",
    "        #line = dict(color = new_results2['dominated'], \n",
    "        #                colorscale = ['#0043E0', '#7F5EEF']),\n",
    "        dimensions = list([\n",
    "            dict(range = [0,1],\n",
    "                label = 'Acurácia', values = m_metrics2['Acurácia']),\n",
    "            dict(range = [0,1],\n",
    "                label = 'Igualdade de Oportunidade', values = m_metrics2['Igualdade de Oportunidade']),\n",
    "            dict(range = [0,1],\n",
    "                label = 'P porcento', values = m_metrics2['P porcento']),\n",
    "            dict(range = [0.5,2.5],\n",
    "                label = 'Coeficiente de variação', values = m_metrics2['cv_aux']),\n",
    "        ])\n",
    "    )\n",
    ")\n",
    "\n",
    "fig.update_layout(\n",
    "    plot_bgcolor = 'white',\n",
    "    paper_bgcolor = 'white'\n",
    ")\n",
    "\n",
    "fig"
   ]
  },
  {
   "cell_type": "code",
   "execution_count": 83,
   "metadata": {},
   "outputs": [
    {
     "name": "stdout",
     "output_type": "stream",
     "text": [
      "Acurácia\n",
      "0.688 34\n",
      "Igualdade de Oportunidade\n",
      "1.0 1\n",
      "P porcento\n",
      "1.0 1\n",
      "Coeficiente de variação\n",
      "2.183125873309389 1\n",
      "Int64Index([0, 11, 20, 30, 34, 54, 62, 86, 102, 104, 110, 125, 132, 138], dtype='int64')\n"
     ]
    },
    {
     "data": {
      "text/html": [
       "<div>\n",
       "<style scoped>\n",
       "    .dataframe tbody tr th:only-of-type {\n",
       "        vertical-align: middle;\n",
       "    }\n",
       "\n",
       "    .dataframe tbody tr th {\n",
       "        vertical-align: top;\n",
       "    }\n",
       "\n",
       "    .dataframe thead th {\n",
       "        text-align: right;\n",
       "    }\n",
       "</style>\n",
       "<table border=\"1\" class=\"dataframe\">\n",
       "  <thead>\n",
       "    <tr style=\"text-align: right;\">\n",
       "      <th></th>\n",
       "      <th>Acurácia</th>\n",
       "      <th>Igualdade de Oportunidade</th>\n",
       "      <th>P porcento</th>\n",
       "      <th>Coeficiente de variação</th>\n",
       "    </tr>\n",
       "  </thead>\n",
       "  <tbody>\n",
       "    <tr>\n",
       "      <th>Acurácia</th>\n",
       "      <td>0.688</td>\n",
       "      <td>0.588093</td>\n",
       "      <td>0.460645</td>\n",
       "      <td>0.765822</td>\n",
       "    </tr>\n",
       "    <tr>\n",
       "      <th>Igualdade de Oportunidade</th>\n",
       "      <td>0.461</td>\n",
       "      <td>1</td>\n",
       "      <td>1</td>\n",
       "      <td>0.458059</td>\n",
       "    </tr>\n",
       "    <tr>\n",
       "      <th>P porcento</th>\n",
       "      <td>0.461</td>\n",
       "      <td>1</td>\n",
       "      <td>1</td>\n",
       "      <td>0.458059</td>\n",
       "    </tr>\n",
       "    <tr>\n",
       "      <th>Coeficiente de variação</th>\n",
       "      <td>0.461</td>\n",
       "      <td>1</td>\n",
       "      <td>1</td>\n",
       "      <td>0.458059</td>\n",
       "    </tr>\n",
       "    <tr>\n",
       "      <th>Ensemble</th>\n",
       "      <td>0.667</td>\n",
       "      <td>0.905344</td>\n",
       "      <td>0.84246</td>\n",
       "      <td>0.743951</td>\n",
       "    </tr>\n",
       "  </tbody>\n",
       "</table>\n",
       "</div>"
      ],
      "text/plain": [
       "                          Acurácia Igualdade de Oportunidade P porcento  \\\n",
       "Acurácia                     0.688                  0.588093   0.460645   \n",
       "Igualdade de Oportunidade    0.461                         1          1   \n",
       "P porcento                   0.461                         1          1   \n",
       "Coeficiente de variação      0.461                         1          1   \n",
       "Ensemble                     0.667                  0.905344    0.84246   \n",
       "\n",
       "                          Coeficiente de variação  \n",
       "Acurácia                                 0.765822  \n",
       "Igualdade de Oportunidade                0.458059  \n",
       "P porcento                               0.458059  \n",
       "Coeficiente de variação                  0.458059  \n",
       "Ensemble                                 0.743951  "
      ]
     },
     "execution_count": 83,
     "metadata": {},
     "output_type": "execute_result"
    }
   ],
   "source": [
    "metrics = ['Acurácia', 'Igualdade de Oportunidade', 'P porcento', 'Coeficiente de variação']\n",
    "ens_resuls = pd.DataFrame(index=metrics+['Ensemble'], columns=metrics)\n",
    "for metr in metrics:\n",
    "    if metr=='Coeficiente de variação':\n",
    "        min_idx = np.argmax(np.array(new_results2['cv_aux']))\n",
    "    else:\n",
    "        min_idx = np.argmax(np.array(new_results2[metr]))\n",
    "        \n",
    "    min_model = moo_prob.solutionsList[min_idx].x\n",
    "    ens_resuls.loc[metr,:] = calc_res(min_model)\n",
    "    \n",
    "selected_idx = new_results2.index\n",
    "for dimension in fig.data[0]['dimensions']:\n",
    "    if dimension['label']=='Coeficiente de variação':\n",
    "        label = 'cv_aux'\n",
    "    else:\n",
    "        label = dimension['label']\n",
    "        \n",
    "    constr = dimension['constraintrange']\n",
    "    curr_pd = new_results2.loc[selected_idx,:]\n",
    "    if constr is not None:\n",
    "        selected_idx = curr_pd[(curr_pd[label]>=constr[0])&(curr_pd[label]<=constr[1])].index\n",
    "        \n",
    "print(selected_idx)\n",
    "        \n",
    "models_t = [(\"Model \"+str(idx), moo_model.x) \n",
    "            for idx, moo_model in enumerate(moo_prob.solutionsList)\n",
    "            if idx in selected_idx]\n",
    "ensemble_model = SimpleVoting(estimators=models_t, voting='soft')\n",
    "\n",
    "ens_resuls.loc['Ensemble',:] = calc_res(ensemble_model)\n",
    "ens_resuls"
   ]
  },
  {
   "cell_type": "markdown",
   "metadata": {},
   "source": [
    "## Logistic regression"
   ]
  },
  {
   "cell_type": "code",
   "execution_count": 26,
   "metadata": {},
   "outputs": [
    {
     "name": "stderr",
     "output_type": "stream",
     "text": [
      "/home/marcos/Documents/Experiments/envs/crime/lib/python3.7/site-packages/sklego/metrics.py:155: RuntimeWarning:\n",
      "\n",
      "invalid value encountered in double_scalars\n",
      "\n",
      "/home/marcos/Documents/Experiments/envs/crime/lib/python3.7/site-packages/sklego/metrics.py:79: RuntimeWarning:\n",
      "\n",
      "No samples with y_hat == 1 for not_white == 1, returning 0\n",
      "\n",
      "/home/marcos/Documents/Experiments/envs/crime/lib/python3.7/site-packages/sklego/metrics.py:155: RuntimeWarning:\n",
      "\n",
      "invalid value encountered in double_scalars\n",
      "\n",
      "/home/marcos/Documents/Experiments/envs/crime/lib/python3.7/site-packages/sklego/metrics.py:79: RuntimeWarning:\n",
      "\n",
      "No samples with y_hat == 1 for not_white == 1, returning 0\n",
      "\n",
      "/home/marcos/Documents/Experiments/envs/crime/lib/python3.7/site-packages/sklego/metrics.py:155: RuntimeWarning:\n",
      "\n",
      "invalid value encountered in double_scalars\n",
      "\n",
      "/home/marcos/Documents/Experiments/envs/crime/lib/python3.7/site-packages/sklego/metrics.py:79: RuntimeWarning:\n",
      "\n",
      "No samples with y_hat == 1 for not_white == 1, returning 0\n",
      "\n",
      "/home/marcos/Documents/Experiments/envs/crime/lib/python3.7/site-packages/sklego/metrics.py:155: RuntimeWarning:\n",
      "\n",
      "invalid value encountered in double_scalars\n",
      "\n",
      "/home/marcos/Documents/Experiments/envs/crime/lib/python3.7/site-packages/sklego/metrics.py:79: RuntimeWarning:\n",
      "\n",
      "No samples with y_hat == 1 for not_white == 1, returning 0\n",
      "\n",
      "/home/marcos/Documents/Experiments/envs/crime/lib/python3.7/site-packages/sklego/metrics.py:155: RuntimeWarning:\n",
      "\n",
      "invalid value encountered in double_scalars\n",
      "\n",
      "/home/marcos/Documents/Experiments/envs/crime/lib/python3.7/site-packages/sklego/metrics.py:79: RuntimeWarning:\n",
      "\n",
      "No samples with y_hat == 1 for not_white == 1, returning 0\n",
      "\n",
      "/home/marcos/Documents/Experiments/envs/crime/lib/python3.7/site-packages/sklego/metrics.py:155: RuntimeWarning:\n",
      "\n",
      "invalid value encountered in double_scalars\n",
      "\n",
      "/home/marcos/Documents/Experiments/envs/crime/lib/python3.7/site-packages/sklego/metrics.py:79: RuntimeWarning:\n",
      "\n",
      "No samples with y_hat == 1 for not_white == 1, returning 0\n",
      "\n",
      "/home/marcos/Documents/Experiments/envs/crime/lib/python3.7/site-packages/sklego/metrics.py:155: RuntimeWarning:\n",
      "\n",
      "invalid value encountered in double_scalars\n",
      "\n",
      "/home/marcos/Documents/Experiments/envs/crime/lib/python3.7/site-packages/sklego/metrics.py:79: RuntimeWarning:\n",
      "\n",
      "No samples with y_hat == 1 for not_white == 1, returning 0\n",
      "\n",
      "/home/marcos/Documents/Experiments/envs/crime/lib/python3.7/site-packages/sklego/metrics.py:155: RuntimeWarning:\n",
      "\n",
      "divide by zero encountered in double_scalars\n",
      "\n",
      "/home/marcos/Documents/Experiments/envs/crime/lib/python3.7/site-packages/sklego/metrics.py:86: RuntimeWarning:\n",
      "\n",
      "No samples with y_hat == 1 for not_white == 0, returning 0\n",
      "\n",
      "/home/marcos/Documents/Experiments/envs/crime/lib/python3.7/site-packages/sklego/metrics.py:155: RuntimeWarning:\n",
      "\n",
      "divide by zero encountered in double_scalars\n",
      "\n",
      "/home/marcos/Documents/Experiments/envs/crime/lib/python3.7/site-packages/sklego/metrics.py:86: RuntimeWarning:\n",
      "\n",
      "No samples with y_hat == 1 for not_white == 0, returning 0\n",
      "\n"
     ]
    }
   ],
   "source": [
    "import numpy as np\n",
    "\n",
    "C_values = np.logspace(-10, 10, 50)\n",
    "\n",
    "metrics_adult_log_aux = {\"Acurácia\": [], \"Igualdade de Oportunidade\": [], \"P porcento\": [], \"Coeficiente de variação\": []}\n",
    "\n",
    "for C in C_values:\n",
    "    model = LogisticRegression(C=C, max_iter=10**3, tol=10**-6)\n",
    "    model.fit(X_train, y_train)\n",
    "    metrics_adult_log_aux[\"Acurácia\"].append(model.score(X_test, y_test))\n",
    "    metrics_adult_log_aux[\"Igualdade de Oportunidade\"].append(equal_opportunity_score(sensitive_column=fair_feature)(model,\n",
    "                                                                                                            X_test, y_test))\n",
    "    metrics_adult_log_aux[\"P porcento\"].append(p_percent_score(sensitive_column=fair_feature)(model,X_test))\n",
    "    metrics_adult_log_aux[\"Coeficiente de variação\"].append(coefficient_of_variation(model, X_test, y_test))"
   ]
  },
  {
   "cell_type": "code",
   "execution_count": 27,
   "metadata": {},
   "outputs": [],
   "source": [
    "metrics_adult_log = pd.DataFrame(data=metrics_adult_log_aux, columns=['Acurácia','Igualdade de Oportunidade','P porcento',\n",
    "                                     'Coeficiente de variação'])\n",
    "\n",
    "metrics_adult_log['cv_aux'] = 1/metrics_adult_log['Coeficiente de variação']\n",
    "\n",
    "metrics_adult_log = metrics_adult_log.drop('Coeficiente de variação', axis=1)\n",
    "dominate_metr = [any([dominate(other, row) for other in metrics_adult_log.values]) for row in metrics_adult_log.values]\n",
    "metrics_adult_log['dominated'] = dominate_metr"
   ]
  },
  {
   "cell_type": "code",
   "execution_count": 28,
   "metadata": {},
   "outputs": [
    {
     "data": {
      "application/vnd.plotly.v1+json": {
       "config": {
        "plotlyServerURL": "https://plot.ly"
       },
       "data": [
        {
         "dimensions": [
          {
           "label": "Acurácia",
           "range": [
            0,
            1
           ],
           "values": [
            0.539,
            0.539,
            0.539,
            0.539,
            0.539,
            0.539,
            0.539,
            0.541,
            0.543,
            0.55,
            0.552,
            0.546,
            0.586,
            0.621,
            0.639,
            0.647,
            0.655,
            0.662,
            0.674,
            0.693,
            0.685,
            0.683,
            0.681,
            0.683,
            0.681,
            0.68,
            0.68,
            0.68,
            0.679,
            0.68,
            0.68,
            0.679,
            0.681,
            0.68,
            0.679,
            0.679,
            0.68,
            0.68,
            0.679,
            0.679,
            0.679,
            0.679,
            0.679,
            0.679,
            0.679,
            0.679,
            0.679,
            0.679,
            0.679,
            0.679
           ]
          },
          {
           "label": "Igualdade de Oportunidade",
           "range": [
            0,
            1
           ],
           "values": [
            1,
            1,
            1,
            1,
            1,
            1,
            1,
            0,
            0.8671875,
            0.8671875,
            0.45909926470588236,
            0,
            0.37165178571428575,
            0.514892578125,
            0.5326033464566929,
            0.5574776785714286,
            0.6371173469387755,
            0.6846217105263158,
            0.7109860248447205,
            0.6670673076923077,
            0.6664100985221675,
            0.6744791666666666,
            0.6985677083333333,
            0.6740411931818182,
            0.6953485023041475,
            0.6953485023041475,
            0.6624348958333333,
            0.6624348958333333,
            0.6953485023041475,
            0.6624348958333333,
            0.6624348958333333,
            0.6953485023041475,
            0.6889982876712328,
            0.6858664772727273,
            0.6953485023041475,
            0.6953485023041475,
            0.7018168604651163,
            0.6985677083333333,
            0.6953485023041475,
            0.6953485023041475,
            0.6953485023041475,
            0.6953485023041475,
            0.6953485023041475,
            0.6953485023041475,
            0.6953485023041475,
            0.6953485023041475,
            0.6953485023041475,
            0.6953485023041475,
            0.6953485023041475,
            0.6953485023041475
           ]
          },
          {
           "label": "P porcento",
           "range": [
            0,
            1
           ],
           "values": [
            0,
            0,
            0,
            0,
            0,
            0,
            0,
            0,
            0.6003734827264239,
            0.5403361344537815,
            0.3132383388137864,
            0,
            0.2894657863145258,
            0.366081391906356,
            0.4475511416687887,
            0.4575819516995988,
            0.49622706225347274,
            0.5260698338741436,
            0.5352386237513874,
            0.5354682413505943,
            0.5487284519542585,
            0.5687748783724016,
            0.5964366074298572,
            0.5733470236969386,
            0.5925510269254282,
            0.598417868776175,
            0.559171380970689,
            0.559171380970689,
            0.5964749536178107,
            0.559171380970689,
            0.559171380970689,
            0.5964749536178107,
            0.592626728110599,
            0.57934129065639,
            0.5964749536178107,
            0.5964749536178107,
            0.5983985699542975,
            0.5944874681898903,
            0.5964749536178107,
            0.5964749536178107,
            0.5964749536178107,
            0.5964749536178107,
            0.5964749536178107,
            0.5964749536178107,
            0.5964749536178107,
            0.5964749536178107,
            0.5964749536178107,
            0.5964749536178107,
            0.5964749536178107,
            0.5964749536178107
           ]
          },
          {
           "label": "cv_aux",
           "range": [
            0.5,
            2.5
           ],
           "values": [
            0.7645905430238866,
            0.7645905430238866,
            0.7645905430238866,
            0.7645905430238866,
            0.7645905430238866,
            0.7645905430238866,
            0.7645905430238866,
            0.7676748131444614,
            0.7707735748713189,
            0.7817473627026091,
            0.7854386852592816,
            0.7754492800326039,
            0.8421703891079036,
            0.9163568377401011,
            0.9683085359161623,
            0.9944306732473989,
            1.0177824145010481,
            1.0362555203016794,
            1.0662564040834068,
            1.1462171756756283,
            1.1550544899969664,
            1.186273837747062,
            1.188749779580382,
            1.1967698418058077,
            1.1908586871298237,
            1.1900385795790367,
            1.1816656696125327,
            1.1816656696125327,
            1.1892286601440698,
            1.1816656696125327,
            1.1816656696125327,
            1.1892286601440698,
            1.1951178960902678,
            1.19646236484253,
            1.1892286601440698,
            1.1892286601440698,
            1.185824847767115,
            1.1879248695007856,
            1.1892286601440698,
            1.1892286601440698,
            1.1892286601440698,
            1.1892286601440698,
            1.1892286601440698,
            1.1892286601440698,
            1.1892286601440698,
            1.1892286601440698,
            1.1892286601440698,
            1.1892286601440698,
            1.1892286601440698,
            1.1892286601440698
           ]
          }
         ],
         "type": "parcoords"
        }
       ],
       "layout": {
        "paper_bgcolor": "white",
        "plot_bgcolor": "white",
        "template": {
         "data": {
          "bar": [
           {
            "error_x": {
             "color": "#2a3f5f"
            },
            "error_y": {
             "color": "#2a3f5f"
            },
            "marker": {
             "line": {
              "color": "#E5ECF6",
              "width": 0.5
             }
            },
            "type": "bar"
           }
          ],
          "barpolar": [
           {
            "marker": {
             "line": {
              "color": "#E5ECF6",
              "width": 0.5
             }
            },
            "type": "barpolar"
           }
          ],
          "carpet": [
           {
            "aaxis": {
             "endlinecolor": "#2a3f5f",
             "gridcolor": "white",
             "linecolor": "white",
             "minorgridcolor": "white",
             "startlinecolor": "#2a3f5f"
            },
            "baxis": {
             "endlinecolor": "#2a3f5f",
             "gridcolor": "white",
             "linecolor": "white",
             "minorgridcolor": "white",
             "startlinecolor": "#2a3f5f"
            },
            "type": "carpet"
           }
          ],
          "choropleth": [
           {
            "colorbar": {
             "outlinewidth": 0,
             "ticks": ""
            },
            "type": "choropleth"
           }
          ],
          "contour": [
           {
            "colorbar": {
             "outlinewidth": 0,
             "ticks": ""
            },
            "colorscale": [
             [
              0,
              "#0d0887"
             ],
             [
              0.1111111111111111,
              "#46039f"
             ],
             [
              0.2222222222222222,
              "#7201a8"
             ],
             [
              0.3333333333333333,
              "#9c179e"
             ],
             [
              0.4444444444444444,
              "#bd3786"
             ],
             [
              0.5555555555555556,
              "#d8576b"
             ],
             [
              0.6666666666666666,
              "#ed7953"
             ],
             [
              0.7777777777777778,
              "#fb9f3a"
             ],
             [
              0.8888888888888888,
              "#fdca26"
             ],
             [
              1,
              "#f0f921"
             ]
            ],
            "type": "contour"
           }
          ],
          "contourcarpet": [
           {
            "colorbar": {
             "outlinewidth": 0,
             "ticks": ""
            },
            "type": "contourcarpet"
           }
          ],
          "heatmap": [
           {
            "colorbar": {
             "outlinewidth": 0,
             "ticks": ""
            },
            "colorscale": [
             [
              0,
              "#0d0887"
             ],
             [
              0.1111111111111111,
              "#46039f"
             ],
             [
              0.2222222222222222,
              "#7201a8"
             ],
             [
              0.3333333333333333,
              "#9c179e"
             ],
             [
              0.4444444444444444,
              "#bd3786"
             ],
             [
              0.5555555555555556,
              "#d8576b"
             ],
             [
              0.6666666666666666,
              "#ed7953"
             ],
             [
              0.7777777777777778,
              "#fb9f3a"
             ],
             [
              0.8888888888888888,
              "#fdca26"
             ],
             [
              1,
              "#f0f921"
             ]
            ],
            "type": "heatmap"
           }
          ],
          "heatmapgl": [
           {
            "colorbar": {
             "outlinewidth": 0,
             "ticks": ""
            },
            "colorscale": [
             [
              0,
              "#0d0887"
             ],
             [
              0.1111111111111111,
              "#46039f"
             ],
             [
              0.2222222222222222,
              "#7201a8"
             ],
             [
              0.3333333333333333,
              "#9c179e"
             ],
             [
              0.4444444444444444,
              "#bd3786"
             ],
             [
              0.5555555555555556,
              "#d8576b"
             ],
             [
              0.6666666666666666,
              "#ed7953"
             ],
             [
              0.7777777777777778,
              "#fb9f3a"
             ],
             [
              0.8888888888888888,
              "#fdca26"
             ],
             [
              1,
              "#f0f921"
             ]
            ],
            "type": "heatmapgl"
           }
          ],
          "histogram": [
           {
            "marker": {
             "colorbar": {
              "outlinewidth": 0,
              "ticks": ""
             }
            },
            "type": "histogram"
           }
          ],
          "histogram2d": [
           {
            "colorbar": {
             "outlinewidth": 0,
             "ticks": ""
            },
            "colorscale": [
             [
              0,
              "#0d0887"
             ],
             [
              0.1111111111111111,
              "#46039f"
             ],
             [
              0.2222222222222222,
              "#7201a8"
             ],
             [
              0.3333333333333333,
              "#9c179e"
             ],
             [
              0.4444444444444444,
              "#bd3786"
             ],
             [
              0.5555555555555556,
              "#d8576b"
             ],
             [
              0.6666666666666666,
              "#ed7953"
             ],
             [
              0.7777777777777778,
              "#fb9f3a"
             ],
             [
              0.8888888888888888,
              "#fdca26"
             ],
             [
              1,
              "#f0f921"
             ]
            ],
            "type": "histogram2d"
           }
          ],
          "histogram2dcontour": [
           {
            "colorbar": {
             "outlinewidth": 0,
             "ticks": ""
            },
            "colorscale": [
             [
              0,
              "#0d0887"
             ],
             [
              0.1111111111111111,
              "#46039f"
             ],
             [
              0.2222222222222222,
              "#7201a8"
             ],
             [
              0.3333333333333333,
              "#9c179e"
             ],
             [
              0.4444444444444444,
              "#bd3786"
             ],
             [
              0.5555555555555556,
              "#d8576b"
             ],
             [
              0.6666666666666666,
              "#ed7953"
             ],
             [
              0.7777777777777778,
              "#fb9f3a"
             ],
             [
              0.8888888888888888,
              "#fdca26"
             ],
             [
              1,
              "#f0f921"
             ]
            ],
            "type": "histogram2dcontour"
           }
          ],
          "mesh3d": [
           {
            "colorbar": {
             "outlinewidth": 0,
             "ticks": ""
            },
            "type": "mesh3d"
           }
          ],
          "parcoords": [
           {
            "line": {
             "colorbar": {
              "outlinewidth": 0,
              "ticks": ""
             }
            },
            "type": "parcoords"
           }
          ],
          "pie": [
           {
            "automargin": true,
            "type": "pie"
           }
          ],
          "scatter": [
           {
            "marker": {
             "colorbar": {
              "outlinewidth": 0,
              "ticks": ""
             }
            },
            "type": "scatter"
           }
          ],
          "scatter3d": [
           {
            "line": {
             "colorbar": {
              "outlinewidth": 0,
              "ticks": ""
             }
            },
            "marker": {
             "colorbar": {
              "outlinewidth": 0,
              "ticks": ""
             }
            },
            "type": "scatter3d"
           }
          ],
          "scattercarpet": [
           {
            "marker": {
             "colorbar": {
              "outlinewidth": 0,
              "ticks": ""
             }
            },
            "type": "scattercarpet"
           }
          ],
          "scattergeo": [
           {
            "marker": {
             "colorbar": {
              "outlinewidth": 0,
              "ticks": ""
             }
            },
            "type": "scattergeo"
           }
          ],
          "scattergl": [
           {
            "marker": {
             "colorbar": {
              "outlinewidth": 0,
              "ticks": ""
             }
            },
            "type": "scattergl"
           }
          ],
          "scattermapbox": [
           {
            "marker": {
             "colorbar": {
              "outlinewidth": 0,
              "ticks": ""
             }
            },
            "type": "scattermapbox"
           }
          ],
          "scatterpolar": [
           {
            "marker": {
             "colorbar": {
              "outlinewidth": 0,
              "ticks": ""
             }
            },
            "type": "scatterpolar"
           }
          ],
          "scatterpolargl": [
           {
            "marker": {
             "colorbar": {
              "outlinewidth": 0,
              "ticks": ""
             }
            },
            "type": "scatterpolargl"
           }
          ],
          "scatterternary": [
           {
            "marker": {
             "colorbar": {
              "outlinewidth": 0,
              "ticks": ""
             }
            },
            "type": "scatterternary"
           }
          ],
          "surface": [
           {
            "colorbar": {
             "outlinewidth": 0,
             "ticks": ""
            },
            "colorscale": [
             [
              0,
              "#0d0887"
             ],
             [
              0.1111111111111111,
              "#46039f"
             ],
             [
              0.2222222222222222,
              "#7201a8"
             ],
             [
              0.3333333333333333,
              "#9c179e"
             ],
             [
              0.4444444444444444,
              "#bd3786"
             ],
             [
              0.5555555555555556,
              "#d8576b"
             ],
             [
              0.6666666666666666,
              "#ed7953"
             ],
             [
              0.7777777777777778,
              "#fb9f3a"
             ],
             [
              0.8888888888888888,
              "#fdca26"
             ],
             [
              1,
              "#f0f921"
             ]
            ],
            "type": "surface"
           }
          ],
          "table": [
           {
            "cells": {
             "fill": {
              "color": "#EBF0F8"
             },
             "line": {
              "color": "white"
             }
            },
            "header": {
             "fill": {
              "color": "#C8D4E3"
             },
             "line": {
              "color": "white"
             }
            },
            "type": "table"
           }
          ]
         },
         "layout": {
          "annotationdefaults": {
           "arrowcolor": "#2a3f5f",
           "arrowhead": 0,
           "arrowwidth": 1
          },
          "coloraxis": {
           "colorbar": {
            "outlinewidth": 0,
            "ticks": ""
           }
          },
          "colorscale": {
           "diverging": [
            [
             0,
             "#8e0152"
            ],
            [
             0.1,
             "#c51b7d"
            ],
            [
             0.2,
             "#de77ae"
            ],
            [
             0.3,
             "#f1b6da"
            ],
            [
             0.4,
             "#fde0ef"
            ],
            [
             0.5,
             "#f7f7f7"
            ],
            [
             0.6,
             "#e6f5d0"
            ],
            [
             0.7,
             "#b8e186"
            ],
            [
             0.8,
             "#7fbc41"
            ],
            [
             0.9,
             "#4d9221"
            ],
            [
             1,
             "#276419"
            ]
           ],
           "sequential": [
            [
             0,
             "#0d0887"
            ],
            [
             0.1111111111111111,
             "#46039f"
            ],
            [
             0.2222222222222222,
             "#7201a8"
            ],
            [
             0.3333333333333333,
             "#9c179e"
            ],
            [
             0.4444444444444444,
             "#bd3786"
            ],
            [
             0.5555555555555556,
             "#d8576b"
            ],
            [
             0.6666666666666666,
             "#ed7953"
            ],
            [
             0.7777777777777778,
             "#fb9f3a"
            ],
            [
             0.8888888888888888,
             "#fdca26"
            ],
            [
             1,
             "#f0f921"
            ]
           ],
           "sequentialminus": [
            [
             0,
             "#0d0887"
            ],
            [
             0.1111111111111111,
             "#46039f"
            ],
            [
             0.2222222222222222,
             "#7201a8"
            ],
            [
             0.3333333333333333,
             "#9c179e"
            ],
            [
             0.4444444444444444,
             "#bd3786"
            ],
            [
             0.5555555555555556,
             "#d8576b"
            ],
            [
             0.6666666666666666,
             "#ed7953"
            ],
            [
             0.7777777777777778,
             "#fb9f3a"
            ],
            [
             0.8888888888888888,
             "#fdca26"
            ],
            [
             1,
             "#f0f921"
            ]
           ]
          },
          "colorway": [
           "#636efa",
           "#EF553B",
           "#00cc96",
           "#ab63fa",
           "#FFA15A",
           "#19d3f3",
           "#FF6692",
           "#B6E880",
           "#FF97FF",
           "#FECB52"
          ],
          "font": {
           "color": "#2a3f5f"
          },
          "geo": {
           "bgcolor": "white",
           "lakecolor": "white",
           "landcolor": "#E5ECF6",
           "showlakes": true,
           "showland": true,
           "subunitcolor": "white"
          },
          "hoverlabel": {
           "align": "left"
          },
          "hovermode": "closest",
          "mapbox": {
           "style": "light"
          },
          "paper_bgcolor": "white",
          "plot_bgcolor": "#E5ECF6",
          "polar": {
           "angularaxis": {
            "gridcolor": "white",
            "linecolor": "white",
            "ticks": ""
           },
           "bgcolor": "#E5ECF6",
           "radialaxis": {
            "gridcolor": "white",
            "linecolor": "white",
            "ticks": ""
           }
          },
          "scene": {
           "xaxis": {
            "backgroundcolor": "#E5ECF6",
            "gridcolor": "white",
            "gridwidth": 2,
            "linecolor": "white",
            "showbackground": true,
            "ticks": "",
            "zerolinecolor": "white"
           },
           "yaxis": {
            "backgroundcolor": "#E5ECF6",
            "gridcolor": "white",
            "gridwidth": 2,
            "linecolor": "white",
            "showbackground": true,
            "ticks": "",
            "zerolinecolor": "white"
           },
           "zaxis": {
            "backgroundcolor": "#E5ECF6",
            "gridcolor": "white",
            "gridwidth": 2,
            "linecolor": "white",
            "showbackground": true,
            "ticks": "",
            "zerolinecolor": "white"
           }
          },
          "shapedefaults": {
           "line": {
            "color": "#2a3f5f"
           }
          },
          "ternary": {
           "aaxis": {
            "gridcolor": "white",
            "linecolor": "white",
            "ticks": ""
           },
           "baxis": {
            "gridcolor": "white",
            "linecolor": "white",
            "ticks": ""
           },
           "bgcolor": "#E5ECF6",
           "caxis": {
            "gridcolor": "white",
            "linecolor": "white",
            "ticks": ""
           }
          },
          "title": {
           "x": 0.05
          },
          "xaxis": {
           "automargin": true,
           "gridcolor": "white",
           "linecolor": "white",
           "ticks": "",
           "title": {
            "standoff": 15
           },
           "zerolinecolor": "white",
           "zerolinewidth": 2
          },
          "yaxis": {
           "automargin": true,
           "gridcolor": "white",
           "linecolor": "white",
           "ticks": "",
           "title": {
            "standoff": 15
           },
           "zerolinecolor": "white",
           "zerolinewidth": 2
          }
         }
        }
       }
      },
      "text/html": [
       "<div>\n",
       "        \n",
       "        \n",
       "            <div id=\"63d23ef0-3cdb-475d-a9a1-63aa2c98e671\" class=\"plotly-graph-div\" style=\"height:525px; width:100%;\"></div>\n",
       "            <script type=\"text/javascript\">\n",
       "                require([\"plotly\"], function(Plotly) {\n",
       "                    window.PLOTLYENV=window.PLOTLYENV || {};\n",
       "                    \n",
       "                if (document.getElementById(\"63d23ef0-3cdb-475d-a9a1-63aa2c98e671\")) {\n",
       "                    Plotly.newPlot(\n",
       "                        '63d23ef0-3cdb-475d-a9a1-63aa2c98e671',\n",
       "                        [{\"dimensions\": [{\"label\": \"Acur\\u00e1cia\", \"range\": [0, 1], \"values\": [0.539, 0.539, 0.539, 0.539, 0.539, 0.539, 0.539, 0.541, 0.543, 0.55, 0.552, 0.546, 0.586, 0.621, 0.639, 0.647, 0.655, 0.662, 0.674, 0.693, 0.685, 0.683, 0.681, 0.683, 0.681, 0.68, 0.68, 0.68, 0.679, 0.68, 0.68, 0.679, 0.681, 0.68, 0.679, 0.679, 0.68, 0.68, 0.679, 0.679, 0.679, 0.679, 0.679, 0.679, 0.679, 0.679, 0.679, 0.679, 0.679, 0.679]}, {\"label\": \"Igualdade de Oportunidade\", \"range\": [0, 1], \"values\": [1.0, 1.0, 1.0, 1.0, 1.0, 1.0, 1.0, 0.0, 0.8671875, 0.8671875, 0.45909926470588236, 0.0, 0.37165178571428575, 0.514892578125, 0.5326033464566929, 0.5574776785714286, 0.6371173469387755, 0.6846217105263158, 0.7109860248447205, 0.6670673076923077, 0.6664100985221675, 0.6744791666666666, 0.6985677083333333, 0.6740411931818182, 0.6953485023041475, 0.6953485023041475, 0.6624348958333333, 0.6624348958333333, 0.6953485023041475, 0.6624348958333333, 0.6624348958333333, 0.6953485023041475, 0.6889982876712328, 0.6858664772727273, 0.6953485023041475, 0.6953485023041475, 0.7018168604651163, 0.6985677083333333, 0.6953485023041475, 0.6953485023041475, 0.6953485023041475, 0.6953485023041475, 0.6953485023041475, 0.6953485023041475, 0.6953485023041475, 0.6953485023041475, 0.6953485023041475, 0.6953485023041475, 0.6953485023041475, 0.6953485023041475]}, {\"label\": \"P porcento\", \"range\": [0, 1], \"values\": [0.0, 0.0, 0.0, 0.0, 0.0, 0.0, 0.0, 0.0, 0.6003734827264239, 0.5403361344537815, 0.3132383388137864, 0.0, 0.2894657863145258, 0.366081391906356, 0.4475511416687887, 0.4575819516995988, 0.49622706225347274, 0.5260698338741436, 0.5352386237513874, 0.5354682413505943, 0.5487284519542585, 0.5687748783724016, 0.5964366074298572, 0.5733470236969386, 0.5925510269254282, 0.598417868776175, 0.559171380970689, 0.559171380970689, 0.5964749536178107, 0.559171380970689, 0.559171380970689, 0.5964749536178107, 0.592626728110599, 0.57934129065639, 0.5964749536178107, 0.5964749536178107, 0.5983985699542975, 0.5944874681898903, 0.5964749536178107, 0.5964749536178107, 0.5964749536178107, 0.5964749536178107, 0.5964749536178107, 0.5964749536178107, 0.5964749536178107, 0.5964749536178107, 0.5964749536178107, 0.5964749536178107, 0.5964749536178107, 0.5964749536178107]}, {\"label\": \"cv_aux\", \"range\": [0.5, 2.5], \"values\": [0.7645905430238866, 0.7645905430238866, 0.7645905430238866, 0.7645905430238866, 0.7645905430238866, 0.7645905430238866, 0.7645905430238866, 0.7676748131444614, 0.7707735748713189, 0.7817473627026091, 0.7854386852592816, 0.7754492800326039, 0.8421703891079036, 0.9163568377401011, 0.9683085359161623, 0.9944306732473989, 1.0177824145010481, 1.0362555203016794, 1.0662564040834068, 1.1462171756756283, 1.1550544899969664, 1.186273837747062, 1.188749779580382, 1.1967698418058077, 1.1908586871298237, 1.1900385795790367, 1.1816656696125327, 1.1816656696125327, 1.1892286601440698, 1.1816656696125327, 1.1816656696125327, 1.1892286601440698, 1.1951178960902678, 1.19646236484253, 1.1892286601440698, 1.1892286601440698, 1.185824847767115, 1.1879248695007856, 1.1892286601440698, 1.1892286601440698, 1.1892286601440698, 1.1892286601440698, 1.1892286601440698, 1.1892286601440698, 1.1892286601440698, 1.1892286601440698, 1.1892286601440698, 1.1892286601440698, 1.1892286601440698, 1.1892286601440698]}], \"type\": \"parcoords\"}],\n",
       "                        {\"paper_bgcolor\": \"white\", \"plot_bgcolor\": \"white\", \"template\": {\"data\": {\"bar\": [{\"error_x\": {\"color\": \"#2a3f5f\"}, \"error_y\": {\"color\": \"#2a3f5f\"}, \"marker\": {\"line\": {\"color\": \"#E5ECF6\", \"width\": 0.5}}, \"type\": \"bar\"}], \"barpolar\": [{\"marker\": {\"line\": {\"color\": \"#E5ECF6\", \"width\": 0.5}}, \"type\": \"barpolar\"}], \"carpet\": [{\"aaxis\": {\"endlinecolor\": \"#2a3f5f\", \"gridcolor\": \"white\", \"linecolor\": \"white\", \"minorgridcolor\": \"white\", \"startlinecolor\": \"#2a3f5f\"}, \"baxis\": {\"endlinecolor\": \"#2a3f5f\", \"gridcolor\": \"white\", \"linecolor\": \"white\", \"minorgridcolor\": \"white\", \"startlinecolor\": \"#2a3f5f\"}, \"type\": \"carpet\"}], \"choropleth\": [{\"colorbar\": {\"outlinewidth\": 0, \"ticks\": \"\"}, \"type\": \"choropleth\"}], \"contour\": [{\"colorbar\": {\"outlinewidth\": 0, \"ticks\": \"\"}, \"colorscale\": [[0.0, \"#0d0887\"], [0.1111111111111111, \"#46039f\"], [0.2222222222222222, \"#7201a8\"], [0.3333333333333333, \"#9c179e\"], [0.4444444444444444, \"#bd3786\"], [0.5555555555555556, \"#d8576b\"], [0.6666666666666666, \"#ed7953\"], [0.7777777777777778, \"#fb9f3a\"], [0.8888888888888888, \"#fdca26\"], [1.0, \"#f0f921\"]], \"type\": \"contour\"}], \"contourcarpet\": [{\"colorbar\": {\"outlinewidth\": 0, \"ticks\": \"\"}, \"type\": \"contourcarpet\"}], \"heatmap\": [{\"colorbar\": {\"outlinewidth\": 0, \"ticks\": \"\"}, \"colorscale\": [[0.0, \"#0d0887\"], [0.1111111111111111, \"#46039f\"], [0.2222222222222222, \"#7201a8\"], [0.3333333333333333, \"#9c179e\"], [0.4444444444444444, \"#bd3786\"], [0.5555555555555556, \"#d8576b\"], [0.6666666666666666, \"#ed7953\"], [0.7777777777777778, \"#fb9f3a\"], [0.8888888888888888, \"#fdca26\"], [1.0, \"#f0f921\"]], \"type\": \"heatmap\"}], \"heatmapgl\": [{\"colorbar\": {\"outlinewidth\": 0, \"ticks\": \"\"}, \"colorscale\": [[0.0, \"#0d0887\"], [0.1111111111111111, \"#46039f\"], [0.2222222222222222, \"#7201a8\"], [0.3333333333333333, \"#9c179e\"], [0.4444444444444444, \"#bd3786\"], [0.5555555555555556, \"#d8576b\"], [0.6666666666666666, \"#ed7953\"], [0.7777777777777778, \"#fb9f3a\"], [0.8888888888888888, \"#fdca26\"], [1.0, \"#f0f921\"]], \"type\": \"heatmapgl\"}], \"histogram\": [{\"marker\": {\"colorbar\": {\"outlinewidth\": 0, \"ticks\": \"\"}}, \"type\": \"histogram\"}], \"histogram2d\": [{\"colorbar\": {\"outlinewidth\": 0, \"ticks\": \"\"}, \"colorscale\": [[0.0, \"#0d0887\"], [0.1111111111111111, \"#46039f\"], [0.2222222222222222, \"#7201a8\"], [0.3333333333333333, \"#9c179e\"], [0.4444444444444444, \"#bd3786\"], [0.5555555555555556, \"#d8576b\"], [0.6666666666666666, \"#ed7953\"], [0.7777777777777778, \"#fb9f3a\"], [0.8888888888888888, \"#fdca26\"], [1.0, \"#f0f921\"]], \"type\": \"histogram2d\"}], \"histogram2dcontour\": [{\"colorbar\": {\"outlinewidth\": 0, \"ticks\": \"\"}, \"colorscale\": [[0.0, \"#0d0887\"], [0.1111111111111111, \"#46039f\"], [0.2222222222222222, \"#7201a8\"], [0.3333333333333333, \"#9c179e\"], [0.4444444444444444, \"#bd3786\"], [0.5555555555555556, \"#d8576b\"], [0.6666666666666666, \"#ed7953\"], [0.7777777777777778, \"#fb9f3a\"], [0.8888888888888888, \"#fdca26\"], [1.0, \"#f0f921\"]], \"type\": \"histogram2dcontour\"}], \"mesh3d\": [{\"colorbar\": {\"outlinewidth\": 0, \"ticks\": \"\"}, \"type\": \"mesh3d\"}], \"parcoords\": [{\"line\": {\"colorbar\": {\"outlinewidth\": 0, \"ticks\": \"\"}}, \"type\": \"parcoords\"}], \"pie\": [{\"automargin\": true, \"type\": \"pie\"}], \"scatter\": [{\"marker\": {\"colorbar\": {\"outlinewidth\": 0, \"ticks\": \"\"}}, \"type\": \"scatter\"}], \"scatter3d\": [{\"line\": {\"colorbar\": {\"outlinewidth\": 0, \"ticks\": \"\"}}, \"marker\": {\"colorbar\": {\"outlinewidth\": 0, \"ticks\": \"\"}}, \"type\": \"scatter3d\"}], \"scattercarpet\": [{\"marker\": {\"colorbar\": {\"outlinewidth\": 0, \"ticks\": \"\"}}, \"type\": \"scattercarpet\"}], \"scattergeo\": [{\"marker\": {\"colorbar\": {\"outlinewidth\": 0, \"ticks\": \"\"}}, \"type\": \"scattergeo\"}], \"scattergl\": [{\"marker\": {\"colorbar\": {\"outlinewidth\": 0, \"ticks\": \"\"}}, \"type\": \"scattergl\"}], \"scattermapbox\": [{\"marker\": {\"colorbar\": {\"outlinewidth\": 0, \"ticks\": \"\"}}, \"type\": \"scattermapbox\"}], \"scatterpolar\": [{\"marker\": {\"colorbar\": {\"outlinewidth\": 0, \"ticks\": \"\"}}, \"type\": \"scatterpolar\"}], \"scatterpolargl\": [{\"marker\": {\"colorbar\": {\"outlinewidth\": 0, \"ticks\": \"\"}}, \"type\": \"scatterpolargl\"}], \"scatterternary\": [{\"marker\": {\"colorbar\": {\"outlinewidth\": 0, \"ticks\": \"\"}}, \"type\": \"scatterternary\"}], \"surface\": [{\"colorbar\": {\"outlinewidth\": 0, \"ticks\": \"\"}, \"colorscale\": [[0.0, \"#0d0887\"], [0.1111111111111111, \"#46039f\"], [0.2222222222222222, \"#7201a8\"], [0.3333333333333333, \"#9c179e\"], [0.4444444444444444, \"#bd3786\"], [0.5555555555555556, \"#d8576b\"], [0.6666666666666666, \"#ed7953\"], [0.7777777777777778, \"#fb9f3a\"], [0.8888888888888888, \"#fdca26\"], [1.0, \"#f0f921\"]], \"type\": \"surface\"}], \"table\": [{\"cells\": {\"fill\": {\"color\": \"#EBF0F8\"}, \"line\": {\"color\": \"white\"}}, \"header\": {\"fill\": {\"color\": \"#C8D4E3\"}, \"line\": {\"color\": \"white\"}}, \"type\": \"table\"}]}, \"layout\": {\"annotationdefaults\": {\"arrowcolor\": \"#2a3f5f\", \"arrowhead\": 0, \"arrowwidth\": 1}, \"coloraxis\": {\"colorbar\": {\"outlinewidth\": 0, \"ticks\": \"\"}}, \"colorscale\": {\"diverging\": [[0, \"#8e0152\"], [0.1, \"#c51b7d\"], [0.2, \"#de77ae\"], [0.3, \"#f1b6da\"], [0.4, \"#fde0ef\"], [0.5, \"#f7f7f7\"], [0.6, \"#e6f5d0\"], [0.7, \"#b8e186\"], [0.8, \"#7fbc41\"], [0.9, \"#4d9221\"], [1, \"#276419\"]], \"sequential\": [[0.0, \"#0d0887\"], [0.1111111111111111, \"#46039f\"], [0.2222222222222222, \"#7201a8\"], [0.3333333333333333, \"#9c179e\"], [0.4444444444444444, \"#bd3786\"], [0.5555555555555556, \"#d8576b\"], [0.6666666666666666, \"#ed7953\"], [0.7777777777777778, \"#fb9f3a\"], [0.8888888888888888, \"#fdca26\"], [1.0, \"#f0f921\"]], \"sequentialminus\": [[0.0, \"#0d0887\"], [0.1111111111111111, \"#46039f\"], [0.2222222222222222, \"#7201a8\"], [0.3333333333333333, \"#9c179e\"], [0.4444444444444444, \"#bd3786\"], [0.5555555555555556, \"#d8576b\"], [0.6666666666666666, \"#ed7953\"], [0.7777777777777778, \"#fb9f3a\"], [0.8888888888888888, \"#fdca26\"], [1.0, \"#f0f921\"]]}, \"colorway\": [\"#636efa\", \"#EF553B\", \"#00cc96\", \"#ab63fa\", \"#FFA15A\", \"#19d3f3\", \"#FF6692\", \"#B6E880\", \"#FF97FF\", \"#FECB52\"], \"font\": {\"color\": \"#2a3f5f\"}, \"geo\": {\"bgcolor\": \"white\", \"lakecolor\": \"white\", \"landcolor\": \"#E5ECF6\", \"showlakes\": true, \"showland\": true, \"subunitcolor\": \"white\"}, \"hoverlabel\": {\"align\": \"left\"}, \"hovermode\": \"closest\", \"mapbox\": {\"style\": \"light\"}, \"paper_bgcolor\": \"white\", \"plot_bgcolor\": \"#E5ECF6\", \"polar\": {\"angularaxis\": {\"gridcolor\": \"white\", \"linecolor\": \"white\", \"ticks\": \"\"}, \"bgcolor\": \"#E5ECF6\", \"radialaxis\": {\"gridcolor\": \"white\", \"linecolor\": \"white\", \"ticks\": \"\"}}, \"scene\": {\"xaxis\": {\"backgroundcolor\": \"#E5ECF6\", \"gridcolor\": \"white\", \"gridwidth\": 2, \"linecolor\": \"white\", \"showbackground\": true, \"ticks\": \"\", \"zerolinecolor\": \"white\"}, \"yaxis\": {\"backgroundcolor\": \"#E5ECF6\", \"gridcolor\": \"white\", \"gridwidth\": 2, \"linecolor\": \"white\", \"showbackground\": true, \"ticks\": \"\", \"zerolinecolor\": \"white\"}, \"zaxis\": {\"backgroundcolor\": \"#E5ECF6\", \"gridcolor\": \"white\", \"gridwidth\": 2, \"linecolor\": \"white\", \"showbackground\": true, \"ticks\": \"\", \"zerolinecolor\": \"white\"}}, \"shapedefaults\": {\"line\": {\"color\": \"#2a3f5f\"}}, \"ternary\": {\"aaxis\": {\"gridcolor\": \"white\", \"linecolor\": \"white\", \"ticks\": \"\"}, \"baxis\": {\"gridcolor\": \"white\", \"linecolor\": \"white\", \"ticks\": \"\"}, \"bgcolor\": \"#E5ECF6\", \"caxis\": {\"gridcolor\": \"white\", \"linecolor\": \"white\", \"ticks\": \"\"}}, \"title\": {\"x\": 0.05}, \"xaxis\": {\"automargin\": true, \"gridcolor\": \"white\", \"linecolor\": \"white\", \"ticks\": \"\", \"title\": {\"standoff\": 15}, \"zerolinecolor\": \"white\", \"zerolinewidth\": 2}, \"yaxis\": {\"automargin\": true, \"gridcolor\": \"white\", \"linecolor\": \"white\", \"ticks\": \"\", \"title\": {\"standoff\": 15}, \"zerolinecolor\": \"white\", \"zerolinewidth\": 2}}}},\n",
       "                        {\"responsive\": true}\n",
       "                    ).then(function(){\n",
       "                            \n",
       "var gd = document.getElementById('63d23ef0-3cdb-475d-a9a1-63aa2c98e671');\n",
       "var x = new MutationObserver(function (mutations, observer) {{\n",
       "        var display = window.getComputedStyle(gd).display;\n",
       "        if (!display || display === 'none') {{\n",
       "            console.log([gd, 'removed!']);\n",
       "            Plotly.purge(gd);\n",
       "            observer.disconnect();\n",
       "        }}\n",
       "}});\n",
       "\n",
       "// Listen for the removal of the full notebook cells\n",
       "var notebookContainer = gd.closest('#notebook-container');\n",
       "if (notebookContainer) {{\n",
       "    x.observe(notebookContainer, {childList: true});\n",
       "}}\n",
       "\n",
       "// Listen for the clearing of the current output cell\n",
       "var outputEl = gd.closest('.output');\n",
       "if (outputEl) {{\n",
       "    x.observe(outputEl, {childList: true});\n",
       "}}\n",
       "\n",
       "                        })\n",
       "                };\n",
       "                });\n",
       "            </script>\n",
       "        </div>"
      ]
     },
     "metadata": {},
     "output_type": "display_data"
    }
   ],
   "source": [
    "fig = go.Figure(data=\n",
    "    go.Parcoords(\n",
    "        line = dict(),\n",
    "        dimensions = list([\n",
    "            dict(range = [0,1],\n",
    "                label = 'Acurácia', values = metrics_adult_log['Acurácia']),\n",
    "            dict(range = [0,1],\n",
    "                label = 'Igualdade de Oportunidade', values = metrics_adult_log['Igualdade de Oportunidade']),\n",
    "            dict(range = [0,1],\n",
    "                label = 'P porcento', values = metrics_adult_log['P porcento']),\n",
    "            dict(range = [0.5,2.5],\n",
    "                label = 'cv_aux', values = metrics_adult_log['cv_aux']),\n",
    "        ])\n",
    "    )\n",
    ")\n",
    "\n",
    "fig.update_layout(\n",
    "    plot_bgcolor = 'white',\n",
    "    paper_bgcolor = 'white'\n",
    ")\n",
    "\n",
    "fig.show()"
   ]
  },
  {
   "cell_type": "markdown",
   "metadata": {},
   "source": [
    "# Parid dem"
   ]
  },
  {
   "cell_type": "code",
   "execution_count": 29,
   "metadata": {},
   "outputs": [
    {
     "name": "stderr",
     "output_type": "stream",
     "text": [
      "/home/marcos/Documents/Experiments/envs/crime/lib/python3.7/site-packages/sklego/metrics.py:155: RuntimeWarning:\n",
      "\n",
      "invalid value encountered in double_scalars\n",
      "\n",
      "/home/marcos/Documents/Experiments/envs/crime/lib/python3.7/site-packages/sklego/metrics.py:79: RuntimeWarning:\n",
      "\n",
      "No samples with y_hat == 1 for not_white == 1, returning 0\n",
      "\n",
      "/home/marcos/Documents/Experiments/envs/crime/lib/python3.7/site-packages/sklego/metrics.py:155: RuntimeWarning:\n",
      "\n",
      "invalid value encountered in double_scalars\n",
      "\n",
      "/home/marcos/Documents/Experiments/envs/crime/lib/python3.7/site-packages/sklego/metrics.py:79: RuntimeWarning:\n",
      "\n",
      "No samples with y_hat == 1 for not_white == 1, returning 0\n",
      "\n",
      "/home/marcos/Documents/Experiments/envs/crime/lib/python3.7/site-packages/sklego/metrics.py:155: RuntimeWarning:\n",
      "\n",
      "invalid value encountered in double_scalars\n",
      "\n",
      "/home/marcos/Documents/Experiments/envs/crime/lib/python3.7/site-packages/sklego/metrics.py:79: RuntimeWarning:\n",
      "\n",
      "No samples with y_hat == 1 for not_white == 1, returning 0\n",
      "\n",
      "/home/marcos/Documents/Experiments/envs/crime/lib/python3.7/site-packages/sklego/metrics.py:155: RuntimeWarning:\n",
      "\n",
      "invalid value encountered in double_scalars\n",
      "\n",
      "/home/marcos/Documents/Experiments/envs/crime/lib/python3.7/site-packages/sklego/metrics.py:79: RuntimeWarning:\n",
      "\n",
      "No samples with y_hat == 1 for not_white == 1, returning 0\n",
      "\n",
      "/home/marcos/Documents/Experiments/envs/crime/lib/python3.7/site-packages/sklego/metrics.py:155: RuntimeWarning:\n",
      "\n",
      "invalid value encountered in double_scalars\n",
      "\n",
      "/home/marcos/Documents/Experiments/envs/crime/lib/python3.7/site-packages/sklego/metrics.py:79: RuntimeWarning:\n",
      "\n",
      "No samples with y_hat == 1 for not_white == 1, returning 0\n",
      "\n",
      "/home/marcos/Documents/Experiments/envs/crime/lib/python3.7/site-packages/sklego/metrics.py:155: RuntimeWarning:\n",
      "\n",
      "invalid value encountered in double_scalars\n",
      "\n",
      "/home/marcos/Documents/Experiments/envs/crime/lib/python3.7/site-packages/sklego/metrics.py:79: RuntimeWarning:\n",
      "\n",
      "No samples with y_hat == 1 for not_white == 1, returning 0\n",
      "\n",
      "/home/marcos/Documents/Experiments/envs/crime/lib/python3.7/site-packages/sklego/metrics.py:155: RuntimeWarning:\n",
      "\n",
      "invalid value encountered in double_scalars\n",
      "\n",
      "/home/marcos/Documents/Experiments/envs/crime/lib/python3.7/site-packages/sklego/metrics.py:79: RuntimeWarning:\n",
      "\n",
      "No samples with y_hat == 1 for not_white == 1, returning 0\n",
      "\n",
      "/home/marcos/Documents/Experiments/envs/crime/lib/python3.7/site-packages/sklego/metrics.py:155: RuntimeWarning:\n",
      "\n",
      "invalid value encountered in double_scalars\n",
      "\n",
      "/home/marcos/Documents/Experiments/envs/crime/lib/python3.7/site-packages/sklego/metrics.py:79: RuntimeWarning:\n",
      "\n",
      "No samples with y_hat == 1 for not_white == 1, returning 0\n",
      "\n",
      "/home/marcos/Documents/Experiments/envs/crime/lib/python3.7/site-packages/sklego/metrics.py:155: RuntimeWarning:\n",
      "\n",
      "invalid value encountered in double_scalars\n",
      "\n",
      "/home/marcos/Documents/Experiments/envs/crime/lib/python3.7/site-packages/sklego/metrics.py:79: RuntimeWarning:\n",
      "\n",
      "No samples with y_hat == 1 for not_white == 1, returning 0\n",
      "\n",
      "/home/marcos/Documents/Experiments/envs/crime/lib/python3.7/site-packages/sklego/metrics.py:155: RuntimeWarning:\n",
      "\n",
      "invalid value encountered in double_scalars\n",
      "\n",
      "/home/marcos/Documents/Experiments/envs/crime/lib/python3.7/site-packages/sklego/metrics.py:79: RuntimeWarning:\n",
      "\n",
      "No samples with y_hat == 1 for not_white == 1, returning 0\n",
      "\n",
      "/home/marcos/Documents/Experiments/envs/crime/lib/python3.7/site-packages/sklego/metrics.py:155: RuntimeWarning:\n",
      "\n",
      "invalid value encountered in double_scalars\n",
      "\n",
      "/home/marcos/Documents/Experiments/envs/crime/lib/python3.7/site-packages/sklego/metrics.py:79: RuntimeWarning:\n",
      "\n",
      "No samples with y_hat == 1 for not_white == 1, returning 0\n",
      "\n",
      "/home/marcos/Documents/Experiments/envs/crime/lib/python3.7/site-packages/sklego/metrics.py:155: RuntimeWarning:\n",
      "\n",
      "invalid value encountered in double_scalars\n",
      "\n",
      "/home/marcos/Documents/Experiments/envs/crime/lib/python3.7/site-packages/sklego/metrics.py:79: RuntimeWarning:\n",
      "\n",
      "No samples with y_hat == 1 for not_white == 1, returning 0\n",
      "\n",
      "/home/marcos/Documents/Experiments/envs/crime/lib/python3.7/site-packages/sklego/metrics.py:155: RuntimeWarning:\n",
      "\n",
      "invalid value encountered in double_scalars\n",
      "\n",
      "/home/marcos/Documents/Experiments/envs/crime/lib/python3.7/site-packages/sklego/metrics.py:79: RuntimeWarning:\n",
      "\n",
      "No samples with y_hat == 1 for not_white == 1, returning 0\n",
      "\n",
      "/home/marcos/Documents/Experiments/envs/crime/lib/python3.7/site-packages/sklego/metrics.py:155: RuntimeWarning:\n",
      "\n",
      "invalid value encountered in double_scalars\n",
      "\n",
      "/home/marcos/Documents/Experiments/envs/crime/lib/python3.7/site-packages/sklego/metrics.py:79: RuntimeWarning:\n",
      "\n",
      "No samples with y_hat == 1 for not_white == 1, returning 0\n",
      "\n",
      "/home/marcos/Documents/Experiments/envs/crime/lib/python3.7/site-packages/sklego/metrics.py:155: RuntimeWarning:\n",
      "\n",
      "invalid value encountered in double_scalars\n",
      "\n",
      "/home/marcos/Documents/Experiments/envs/crime/lib/python3.7/site-packages/sklego/metrics.py:79: RuntimeWarning:\n",
      "\n",
      "No samples with y_hat == 1 for not_white == 1, returning 0\n",
      "\n",
      "/home/marcos/Documents/Experiments/envs/crime/lib/python3.7/site-packages/sklego/metrics.py:155: RuntimeWarning:\n",
      "\n",
      "invalid value encountered in double_scalars\n",
      "\n",
      "/home/marcos/Documents/Experiments/envs/crime/lib/python3.7/site-packages/sklego/metrics.py:79: RuntimeWarning:\n",
      "\n",
      "No samples with y_hat == 1 for not_white == 1, returning 0\n",
      "\n",
      "/home/marcos/Documents/Experiments/envs/crime/lib/python3.7/site-packages/sklego/metrics.py:155: RuntimeWarning:\n",
      "\n",
      "invalid value encountered in double_scalars\n",
      "\n",
      "/home/marcos/Documents/Experiments/envs/crime/lib/python3.7/site-packages/sklego/metrics.py:79: RuntimeWarning:\n",
      "\n",
      "No samples with y_hat == 1 for not_white == 1, returning 0\n",
      "\n",
      "/home/marcos/Documents/Experiments/envs/crime/lib/python3.7/site-packages/sklego/metrics.py:155: RuntimeWarning:\n",
      "\n",
      "invalid value encountered in double_scalars\n",
      "\n",
      "/home/marcos/Documents/Experiments/envs/crime/lib/python3.7/site-packages/sklego/metrics.py:79: RuntimeWarning:\n",
      "\n",
      "No samples with y_hat == 1 for not_white == 1, returning 0\n",
      "\n",
      "/home/marcos/Documents/Experiments/envs/crime/lib/python3.7/site-packages/sklego/metrics.py:155: RuntimeWarning:\n",
      "\n",
      "invalid value encountered in double_scalars\n",
      "\n",
      "/home/marcos/Documents/Experiments/envs/crime/lib/python3.7/site-packages/sklego/metrics.py:79: RuntimeWarning:\n",
      "\n",
      "No samples with y_hat == 1 for not_white == 1, returning 0\n",
      "\n",
      "/home/marcos/Documents/Experiments/envs/crime/lib/python3.7/site-packages/sklego/metrics.py:155: RuntimeWarning:\n",
      "\n",
      "invalid value encountered in double_scalars\n",
      "\n",
      "/home/marcos/Documents/Experiments/envs/crime/lib/python3.7/site-packages/sklego/metrics.py:79: RuntimeWarning:\n",
      "\n",
      "No samples with y_hat == 1 for not_white == 1, returning 0\n",
      "\n",
      "/home/marcos/Documents/Experiments/envs/crime/lib/python3.7/site-packages/sklego/metrics.py:155: RuntimeWarning:\n",
      "\n",
      "invalid value encountered in double_scalars\n",
      "\n",
      "/home/marcos/Documents/Experiments/envs/crime/lib/python3.7/site-packages/sklego/metrics.py:79: RuntimeWarning:\n",
      "\n",
      "No samples with y_hat == 1 for not_white == 1, returning 0\n",
      "\n",
      "/home/marcos/Documents/Experiments/envs/crime/lib/python3.7/site-packages/sklego/metrics.py:155: RuntimeWarning:\n",
      "\n",
      "invalid value encountered in double_scalars\n",
      "\n",
      "/home/marcos/Documents/Experiments/envs/crime/lib/python3.7/site-packages/sklego/metrics.py:79: RuntimeWarning:\n",
      "\n",
      "No samples with y_hat == 1 for not_white == 1, returning 0\n",
      "\n",
      "/home/marcos/Documents/Experiments/envs/crime/lib/python3.7/site-packages/sklego/metrics.py:155: RuntimeWarning:\n",
      "\n",
      "invalid value encountered in double_scalars\n",
      "\n",
      "/home/marcos/Documents/Experiments/envs/crime/lib/python3.7/site-packages/sklego/metrics.py:79: RuntimeWarning:\n",
      "\n",
      "No samples with y_hat == 1 for not_white == 1, returning 0\n",
      "\n",
      "/home/marcos/Documents/Experiments/envs/crime/lib/python3.7/site-packages/sklego/metrics.py:155: RuntimeWarning:\n",
      "\n",
      "invalid value encountered in double_scalars\n",
      "\n",
      "/home/marcos/Documents/Experiments/envs/crime/lib/python3.7/site-packages/sklego/metrics.py:79: RuntimeWarning:\n",
      "\n",
      "No samples with y_hat == 1 for not_white == 1, returning 0\n",
      "\n",
      "/home/marcos/Documents/Experiments/envs/crime/lib/python3.7/site-packages/sklego/metrics.py:155: RuntimeWarning:\n",
      "\n",
      "invalid value encountered in double_scalars\n",
      "\n",
      "/home/marcos/Documents/Experiments/envs/crime/lib/python3.7/site-packages/sklego/metrics.py:79: RuntimeWarning:\n",
      "\n",
      "No samples with y_hat == 1 for not_white == 1, returning 0\n",
      "\n"
     ]
    },
    {
     "name": "stderr",
     "output_type": "stream",
     "text": [
      "/home/marcos/Documents/Experiments/envs/crime/lib/python3.7/site-packages/sklego/metrics.py:155: RuntimeWarning:\n",
      "\n",
      "invalid value encountered in double_scalars\n",
      "\n",
      "/home/marcos/Documents/Experiments/envs/crime/lib/python3.7/site-packages/sklego/metrics.py:79: RuntimeWarning:\n",
      "\n",
      "No samples with y_hat == 1 for not_white == 1, returning 0\n",
      "\n",
      "/home/marcos/Documents/Experiments/envs/crime/lib/python3.7/site-packages/sklego/metrics.py:155: RuntimeWarning:\n",
      "\n",
      "invalid value encountered in double_scalars\n",
      "\n",
      "/home/marcos/Documents/Experiments/envs/crime/lib/python3.7/site-packages/sklego/metrics.py:79: RuntimeWarning:\n",
      "\n",
      "No samples with y_hat == 1 for not_white == 1, returning 0\n",
      "\n",
      "/home/marcos/Documents/Experiments/envs/crime/lib/python3.7/site-packages/sklego/metrics.py:155: RuntimeWarning:\n",
      "\n",
      "invalid value encountered in double_scalars\n",
      "\n",
      "/home/marcos/Documents/Experiments/envs/crime/lib/python3.7/site-packages/sklego/metrics.py:79: RuntimeWarning:\n",
      "\n",
      "No samples with y_hat == 1 for not_white == 1, returning 0\n",
      "\n",
      "/home/marcos/Documents/Experiments/envs/crime/lib/python3.7/site-packages/sklego/metrics.py:155: RuntimeWarning:\n",
      "\n",
      "invalid value encountered in double_scalars\n",
      "\n",
      "/home/marcos/Documents/Experiments/envs/crime/lib/python3.7/site-packages/sklego/metrics.py:79: RuntimeWarning:\n",
      "\n",
      "No samples with y_hat == 1 for not_white == 1, returning 0\n",
      "\n",
      "/home/marcos/Documents/Experiments/envs/crime/lib/python3.7/site-packages/sklego/metrics.py:155: RuntimeWarning:\n",
      "\n",
      "invalid value encountered in double_scalars\n",
      "\n",
      "/home/marcos/Documents/Experiments/envs/crime/lib/python3.7/site-packages/sklego/metrics.py:79: RuntimeWarning:\n",
      "\n",
      "No samples with y_hat == 1 for not_white == 1, returning 0\n",
      "\n",
      "/home/marcos/Documents/Experiments/envs/crime/lib/python3.7/site-packages/sklego/metrics.py:155: RuntimeWarning:\n",
      "\n",
      "invalid value encountered in double_scalars\n",
      "\n",
      "/home/marcos/Documents/Experiments/envs/crime/lib/python3.7/site-packages/sklego/metrics.py:79: RuntimeWarning:\n",
      "\n",
      "No samples with y_hat == 1 for not_white == 1, returning 0\n",
      "\n",
      "/home/marcos/Documents/Experiments/envs/crime/lib/python3.7/site-packages/sklego/metrics.py:155: RuntimeWarning:\n",
      "\n",
      "invalid value encountered in double_scalars\n",
      "\n",
      "/home/marcos/Documents/Experiments/envs/crime/lib/python3.7/site-packages/sklego/metrics.py:79: RuntimeWarning:\n",
      "\n",
      "No samples with y_hat == 1 for not_white == 1, returning 0\n",
      "\n",
      "/home/marcos/Documents/Experiments/envs/crime/lib/python3.7/site-packages/sklego/metrics.py:155: RuntimeWarning:\n",
      "\n",
      "invalid value encountered in double_scalars\n",
      "\n",
      "/home/marcos/Documents/Experiments/envs/crime/lib/python3.7/site-packages/sklego/metrics.py:79: RuntimeWarning:\n",
      "\n",
      "No samples with y_hat == 1 for not_white == 1, returning 0\n",
      "\n",
      "/home/marcos/Documents/Experiments/envs/crime/lib/python3.7/site-packages/sklego/metrics.py:155: RuntimeWarning:\n",
      "\n",
      "invalid value encountered in double_scalars\n",
      "\n",
      "/home/marcos/Documents/Experiments/envs/crime/lib/python3.7/site-packages/sklego/metrics.py:79: RuntimeWarning:\n",
      "\n",
      "No samples with y_hat == 1 for not_white == 1, returning 0\n",
      "\n",
      "/home/marcos/Documents/Experiments/envs/crime/lib/python3.7/site-packages/sklego/metrics.py:155: RuntimeWarning:\n",
      "\n",
      "invalid value encountered in double_scalars\n",
      "\n",
      "/home/marcos/Documents/Experiments/envs/crime/lib/python3.7/site-packages/sklego/metrics.py:79: RuntimeWarning:\n",
      "\n",
      "No samples with y_hat == 1 for not_white == 1, returning 0\n",
      "\n",
      "/home/marcos/Documents/Experiments/envs/crime/lib/python3.7/site-packages/sklego/metrics.py:155: RuntimeWarning:\n",
      "\n",
      "invalid value encountered in double_scalars\n",
      "\n",
      "/home/marcos/Documents/Experiments/envs/crime/lib/python3.7/site-packages/sklego/metrics.py:79: RuntimeWarning:\n",
      "\n",
      "No samples with y_hat == 1 for not_white == 1, returning 0\n",
      "\n",
      "/home/marcos/Documents/Experiments/envs/crime/lib/python3.7/site-packages/sklego/metrics.py:155: RuntimeWarning:\n",
      "\n",
      "invalid value encountered in double_scalars\n",
      "\n",
      "/home/marcos/Documents/Experiments/envs/crime/lib/python3.7/site-packages/sklego/metrics.py:79: RuntimeWarning:\n",
      "\n",
      "No samples with y_hat == 1 for not_white == 1, returning 0\n",
      "\n",
      "/home/marcos/Documents/Experiments/envs/crime/lib/python3.7/site-packages/sklego/metrics.py:155: RuntimeWarning:\n",
      "\n",
      "invalid value encountered in double_scalars\n",
      "\n",
      "/home/marcos/Documents/Experiments/envs/crime/lib/python3.7/site-packages/sklego/metrics.py:79: RuntimeWarning:\n",
      "\n",
      "No samples with y_hat == 1 for not_white == 1, returning 0\n",
      "\n",
      "/home/marcos/Documents/Experiments/envs/crime/lib/python3.7/site-packages/sklego/metrics.py:155: RuntimeWarning:\n",
      "\n",
      "invalid value encountered in double_scalars\n",
      "\n",
      "/home/marcos/Documents/Experiments/envs/crime/lib/python3.7/site-packages/sklego/metrics.py:79: RuntimeWarning:\n",
      "\n",
      "No samples with y_hat == 1 for not_white == 1, returning 0\n",
      "\n",
      "/home/marcos/Documents/Experiments/envs/crime/lib/python3.7/site-packages/sklego/metrics.py:155: RuntimeWarning:\n",
      "\n",
      "invalid value encountered in double_scalars\n",
      "\n",
      "/home/marcos/Documents/Experiments/envs/crime/lib/python3.7/site-packages/sklego/metrics.py:79: RuntimeWarning:\n",
      "\n",
      "No samples with y_hat == 1 for not_white == 1, returning 0\n",
      "\n",
      "/home/marcos/Documents/Experiments/envs/crime/lib/python3.7/site-packages/sklego/metrics.py:155: RuntimeWarning:\n",
      "\n",
      "invalid value encountered in double_scalars\n",
      "\n",
      "/home/marcos/Documents/Experiments/envs/crime/lib/python3.7/site-packages/sklego/metrics.py:79: RuntimeWarning:\n",
      "\n",
      "No samples with y_hat == 1 for not_white == 1, returning 0\n",
      "\n",
      "/home/marcos/Documents/Experiments/envs/crime/lib/python3.7/site-packages/sklego/metrics.py:155: RuntimeWarning:\n",
      "\n",
      "invalid value encountered in double_scalars\n",
      "\n",
      "/home/marcos/Documents/Experiments/envs/crime/lib/python3.7/site-packages/sklego/metrics.py:79: RuntimeWarning:\n",
      "\n",
      "No samples with y_hat == 1 for not_white == 1, returning 0\n",
      "\n",
      "/home/marcos/Documents/Experiments/envs/crime/lib/python3.7/site-packages/sklego/metrics.py:155: RuntimeWarning:\n",
      "\n",
      "invalid value encountered in double_scalars\n",
      "\n",
      "/home/marcos/Documents/Experiments/envs/crime/lib/python3.7/site-packages/sklego/metrics.py:79: RuntimeWarning:\n",
      "\n",
      "No samples with y_hat == 1 for not_white == 1, returning 0\n",
      "\n",
      "/home/marcos/Documents/Experiments/envs/crime/lib/python3.7/site-packages/sklego/metrics.py:155: RuntimeWarning:\n",
      "\n",
      "invalid value encountered in double_scalars\n",
      "\n",
      "/home/marcos/Documents/Experiments/envs/crime/lib/python3.7/site-packages/sklego/metrics.py:79: RuntimeWarning:\n",
      "\n",
      "No samples with y_hat == 1 for not_white == 1, returning 0\n",
      "\n",
      "/home/marcos/Documents/Experiments/envs/crime/lib/python3.7/site-packages/sklego/metrics.py:155: RuntimeWarning:\n",
      "\n",
      "invalid value encountered in double_scalars\n",
      "\n",
      "/home/marcos/Documents/Experiments/envs/crime/lib/python3.7/site-packages/sklego/metrics.py:79: RuntimeWarning:\n",
      "\n",
      "No samples with y_hat == 1 for not_white == 1, returning 0\n",
      "\n",
      "/home/marcos/Documents/Experiments/envs/crime/lib/python3.7/site-packages/sklego/metrics.py:155: RuntimeWarning:\n",
      "\n",
      "invalid value encountered in double_scalars\n",
      "\n",
      "/home/marcos/Documents/Experiments/envs/crime/lib/python3.7/site-packages/sklego/metrics.py:79: RuntimeWarning:\n",
      "\n",
      "No samples with y_hat == 1 for not_white == 1, returning 0\n",
      "\n",
      "/home/marcos/Documents/Experiments/envs/crime/lib/python3.7/site-packages/sklego/metrics.py:155: RuntimeWarning:\n",
      "\n",
      "invalid value encountered in double_scalars\n",
      "\n",
      "/home/marcos/Documents/Experiments/envs/crime/lib/python3.7/site-packages/sklego/metrics.py:79: RuntimeWarning:\n",
      "\n",
      "No samples with y_hat == 1 for not_white == 1, returning 0\n",
      "\n",
      "/home/marcos/Documents/Experiments/envs/crime/lib/python3.7/site-packages/sklego/metrics.py:155: RuntimeWarning:\n",
      "\n",
      "invalid value encountered in double_scalars\n",
      "\n",
      "/home/marcos/Documents/Experiments/envs/crime/lib/python3.7/site-packages/sklego/metrics.py:79: RuntimeWarning:\n",
      "\n",
      "No samples with y_hat == 1 for not_white == 1, returning 0\n",
      "\n",
      "/home/marcos/Documents/Experiments/envs/crime/lib/python3.7/site-packages/sklego/metrics.py:155: RuntimeWarning:\n",
      "\n",
      "invalid value encountered in double_scalars\n",
      "\n",
      "/home/marcos/Documents/Experiments/envs/crime/lib/python3.7/site-packages/sklego/metrics.py:79: RuntimeWarning:\n",
      "\n",
      "No samples with y_hat == 1 for not_white == 1, returning 0\n",
      "\n",
      "/home/marcos/Documents/Experiments/envs/crime/lib/python3.7/site-packages/sklego/metrics.py:155: RuntimeWarning:\n",
      "\n",
      "invalid value encountered in double_scalars\n",
      "\n",
      "/home/marcos/Documents/Experiments/envs/crime/lib/python3.7/site-packages/sklego/metrics.py:79: RuntimeWarning:\n",
      "\n",
      "No samples with y_hat == 1 for not_white == 1, returning 0\n",
      "\n"
     ]
    },
    {
     "name": "stderr",
     "output_type": "stream",
     "text": [
      "/home/marcos/Documents/Experiments/envs/crime/lib/python3.7/site-packages/sklego/metrics.py:155: RuntimeWarning:\n",
      "\n",
      "invalid value encountered in double_scalars\n",
      "\n",
      "/home/marcos/Documents/Experiments/envs/crime/lib/python3.7/site-packages/sklego/metrics.py:79: RuntimeWarning:\n",
      "\n",
      "No samples with y_hat == 1 for not_white == 1, returning 0\n",
      "\n",
      "/home/marcos/Documents/Experiments/envs/crime/lib/python3.7/site-packages/sklego/metrics.py:155: RuntimeWarning:\n",
      "\n",
      "invalid value encountered in double_scalars\n",
      "\n",
      "/home/marcos/Documents/Experiments/envs/crime/lib/python3.7/site-packages/sklego/metrics.py:79: RuntimeWarning:\n",
      "\n",
      "No samples with y_hat == 1 for not_white == 1, returning 0\n",
      "\n",
      "/home/marcos/Documents/Experiments/envs/crime/lib/python3.7/site-packages/sklego/metrics.py:155: RuntimeWarning:\n",
      "\n",
      "invalid value encountered in double_scalars\n",
      "\n",
      "/home/marcos/Documents/Experiments/envs/crime/lib/python3.7/site-packages/sklego/metrics.py:79: RuntimeWarning:\n",
      "\n",
      "No samples with y_hat == 1 for not_white == 1, returning 0\n",
      "\n",
      "/home/marcos/Documents/Experiments/envs/crime/lib/python3.7/site-packages/sklego/metrics.py:155: RuntimeWarning:\n",
      "\n",
      "invalid value encountered in double_scalars\n",
      "\n",
      "/home/marcos/Documents/Experiments/envs/crime/lib/python3.7/site-packages/sklego/metrics.py:79: RuntimeWarning:\n",
      "\n",
      "No samples with y_hat == 1 for not_white == 1, returning 0\n",
      "\n",
      "/home/marcos/Documents/Experiments/envs/crime/lib/python3.7/site-packages/sklego/metrics.py:155: RuntimeWarning:\n",
      "\n",
      "invalid value encountered in double_scalars\n",
      "\n",
      "/home/marcos/Documents/Experiments/envs/crime/lib/python3.7/site-packages/sklego/metrics.py:79: RuntimeWarning:\n",
      "\n",
      "No samples with y_hat == 1 for not_white == 1, returning 0\n",
      "\n",
      "/home/marcos/Documents/Experiments/envs/crime/lib/python3.7/site-packages/sklego/metrics.py:155: RuntimeWarning:\n",
      "\n",
      "invalid value encountered in double_scalars\n",
      "\n",
      "/home/marcos/Documents/Experiments/envs/crime/lib/python3.7/site-packages/sklego/metrics.py:79: RuntimeWarning:\n",
      "\n",
      "No samples with y_hat == 1 for not_white == 1, returning 0\n",
      "\n",
      "/home/marcos/Documents/Experiments/envs/crime/lib/python3.7/site-packages/sklego/metrics.py:155: RuntimeWarning:\n",
      "\n",
      "invalid value encountered in double_scalars\n",
      "\n",
      "/home/marcos/Documents/Experiments/envs/crime/lib/python3.7/site-packages/sklego/metrics.py:79: RuntimeWarning:\n",
      "\n",
      "No samples with y_hat == 1 for not_white == 1, returning 0\n",
      "\n",
      "/home/marcos/Documents/Experiments/envs/crime/lib/python3.7/site-packages/sklego/metrics.py:155: RuntimeWarning:\n",
      "\n",
      "invalid value encountered in double_scalars\n",
      "\n",
      "/home/marcos/Documents/Experiments/envs/crime/lib/python3.7/site-packages/sklego/metrics.py:79: RuntimeWarning:\n",
      "\n",
      "No samples with y_hat == 1 for not_white == 1, returning 0\n",
      "\n",
      "/home/marcos/Documents/Experiments/envs/crime/lib/python3.7/site-packages/sklego/metrics.py:155: RuntimeWarning:\n",
      "\n",
      "invalid value encountered in double_scalars\n",
      "\n",
      "/home/marcos/Documents/Experiments/envs/crime/lib/python3.7/site-packages/sklego/metrics.py:79: RuntimeWarning:\n",
      "\n",
      "No samples with y_hat == 1 for not_white == 1, returning 0\n",
      "\n",
      "/home/marcos/Documents/Experiments/envs/crime/lib/python3.7/site-packages/sklego/metrics.py:155: RuntimeWarning:\n",
      "\n",
      "invalid value encountered in double_scalars\n",
      "\n",
      "/home/marcos/Documents/Experiments/envs/crime/lib/python3.7/site-packages/sklego/metrics.py:79: RuntimeWarning:\n",
      "\n",
      "No samples with y_hat == 1 for not_white == 1, returning 0\n",
      "\n",
      "/home/marcos/Documents/Experiments/envs/crime/lib/python3.7/site-packages/sklego/metrics.py:155: RuntimeWarning:\n",
      "\n",
      "invalid value encountered in double_scalars\n",
      "\n",
      "/home/marcos/Documents/Experiments/envs/crime/lib/python3.7/site-packages/sklego/metrics.py:79: RuntimeWarning:\n",
      "\n",
      "No samples with y_hat == 1 for not_white == 1, returning 0\n",
      "\n",
      "/home/marcos/Documents/Experiments/envs/crime/lib/python3.7/site-packages/sklego/metrics.py:155: RuntimeWarning:\n",
      "\n",
      "invalid value encountered in double_scalars\n",
      "\n",
      "/home/marcos/Documents/Experiments/envs/crime/lib/python3.7/site-packages/sklego/metrics.py:79: RuntimeWarning:\n",
      "\n",
      "No samples with y_hat == 1 for not_white == 1, returning 0\n",
      "\n",
      "/home/marcos/Documents/Experiments/envs/crime/lib/python3.7/site-packages/sklego/metrics.py:155: RuntimeWarning:\n",
      "\n",
      "invalid value encountered in double_scalars\n",
      "\n",
      "/home/marcos/Documents/Experiments/envs/crime/lib/python3.7/site-packages/sklego/metrics.py:79: RuntimeWarning:\n",
      "\n",
      "No samples with y_hat == 1 for not_white == 1, returning 0\n",
      "\n",
      "/home/marcos/Documents/Experiments/envs/crime/lib/python3.7/site-packages/sklego/metrics.py:155: RuntimeWarning:\n",
      "\n",
      "invalid value encountered in double_scalars\n",
      "\n",
      "/home/marcos/Documents/Experiments/envs/crime/lib/python3.7/site-packages/sklego/metrics.py:79: RuntimeWarning:\n",
      "\n",
      "No samples with y_hat == 1 for not_white == 1, returning 0\n",
      "\n",
      "/home/marcos/Documents/Experiments/envs/crime/lib/python3.7/site-packages/sklego/metrics.py:155: RuntimeWarning:\n",
      "\n",
      "divide by zero encountered in double_scalars\n",
      "\n",
      "/home/marcos/Documents/Experiments/envs/crime/lib/python3.7/site-packages/sklego/metrics.py:86: RuntimeWarning:\n",
      "\n",
      "No samples with y_hat == 1 for not_white == 0, returning 0\n",
      "\n",
      "/home/marcos/Documents/Experiments/envs/crime/lib/python3.7/site-packages/sklego/metrics.py:155: RuntimeWarning:\n",
      "\n",
      "divide by zero encountered in double_scalars\n",
      "\n",
      "/home/marcos/Documents/Experiments/envs/crime/lib/python3.7/site-packages/sklego/metrics.py:86: RuntimeWarning:\n",
      "\n",
      "No samples with y_hat == 1 for not_white == 0, returning 0\n",
      "\n",
      "/home/marcos/Documents/Experiments/envs/crime/lib/python3.7/site-packages/sklego/metrics.py:155: RuntimeWarning:\n",
      "\n",
      "divide by zero encountered in double_scalars\n",
      "\n",
      "/home/marcos/Documents/Experiments/envs/crime/lib/python3.7/site-packages/sklego/metrics.py:86: RuntimeWarning:\n",
      "\n",
      "No samples with y_hat == 1 for not_white == 0, returning 0\n",
      "\n",
      "/home/marcos/Documents/Experiments/envs/crime/lib/python3.7/site-packages/sklego/metrics.py:155: RuntimeWarning:\n",
      "\n",
      "divide by zero encountered in double_scalars\n",
      "\n",
      "/home/marcos/Documents/Experiments/envs/crime/lib/python3.7/site-packages/sklego/metrics.py:86: RuntimeWarning:\n",
      "\n",
      "No samples with y_hat == 1 for not_white == 0, returning 0\n",
      "\n",
      "/home/marcos/Documents/Experiments/envs/crime/lib/python3.7/site-packages/sklego/metrics.py:155: RuntimeWarning:\n",
      "\n",
      "divide by zero encountered in double_scalars\n",
      "\n",
      "/home/marcos/Documents/Experiments/envs/crime/lib/python3.7/site-packages/sklego/metrics.py:86: RuntimeWarning:\n",
      "\n",
      "No samples with y_hat == 1 for not_white == 0, returning 0\n",
      "\n",
      "/home/marcos/Documents/Experiments/envs/crime/lib/python3.7/site-packages/sklego/metrics.py:155: RuntimeWarning:\n",
      "\n",
      "divide by zero encountered in double_scalars\n",
      "\n",
      "/home/marcos/Documents/Experiments/envs/crime/lib/python3.7/site-packages/sklego/metrics.py:86: RuntimeWarning:\n",
      "\n",
      "No samples with y_hat == 1 for not_white == 0, returning 0\n",
      "\n",
      "/home/marcos/Documents/Experiments/envs/crime/lib/python3.7/site-packages/sklego/metrics.py:155: RuntimeWarning:\n",
      "\n",
      "divide by zero encountered in double_scalars\n",
      "\n",
      "/home/marcos/Documents/Experiments/envs/crime/lib/python3.7/site-packages/sklego/metrics.py:86: RuntimeWarning:\n",
      "\n",
      "No samples with y_hat == 1 for not_white == 0, returning 0\n",
      "\n",
      "/home/marcos/Documents/Experiments/envs/crime/lib/python3.7/site-packages/sklego/metrics.py:155: RuntimeWarning:\n",
      "\n",
      "divide by zero encountered in double_scalars\n",
      "\n",
      "/home/marcos/Documents/Experiments/envs/crime/lib/python3.7/site-packages/sklego/metrics.py:86: RuntimeWarning:\n",
      "\n",
      "No samples with y_hat == 1 for not_white == 0, returning 0\n",
      "\n",
      "/home/marcos/Documents/Experiments/envs/crime/lib/python3.7/site-packages/sklego/metrics.py:155: RuntimeWarning:\n",
      "\n",
      "divide by zero encountered in double_scalars\n",
      "\n",
      "/home/marcos/Documents/Experiments/envs/crime/lib/python3.7/site-packages/sklego/metrics.py:86: RuntimeWarning:\n",
      "\n",
      "No samples with y_hat == 1 for not_white == 0, returning 0\n",
      "\n",
      "/home/marcos/Documents/Experiments/envs/crime/lib/python3.7/site-packages/sklego/metrics.py:155: RuntimeWarning:\n",
      "\n",
      "divide by zero encountered in double_scalars\n",
      "\n",
      "/home/marcos/Documents/Experiments/envs/crime/lib/python3.7/site-packages/sklego/metrics.py:86: RuntimeWarning:\n",
      "\n",
      "No samples with y_hat == 1 for not_white == 0, returning 0\n",
      "\n",
      "/home/marcos/Documents/Experiments/envs/crime/lib/python3.7/site-packages/sklego/metrics.py:155: RuntimeWarning:\n",
      "\n",
      "divide by zero encountered in double_scalars\n",
      "\n",
      "/home/marcos/Documents/Experiments/envs/crime/lib/python3.7/site-packages/sklego/metrics.py:86: RuntimeWarning:\n",
      "\n",
      "No samples with y_hat == 1 for not_white == 0, returning 0\n",
      "\n"
     ]
    },
    {
     "name": "stderr",
     "output_type": "stream",
     "text": [
      "/home/marcos/Documents/Experiments/envs/crime/lib/python3.7/site-packages/sklego/metrics.py:155: RuntimeWarning:\n",
      "\n",
      "divide by zero encountered in double_scalars\n",
      "\n",
      "/home/marcos/Documents/Experiments/envs/crime/lib/python3.7/site-packages/sklego/metrics.py:86: RuntimeWarning:\n",
      "\n",
      "No samples with y_hat == 1 for not_white == 0, returning 0\n",
      "\n",
      "/home/marcos/Documents/Experiments/envs/crime/lib/python3.7/site-packages/sklego/metrics.py:155: RuntimeWarning:\n",
      "\n",
      "divide by zero encountered in double_scalars\n",
      "\n",
      "/home/marcos/Documents/Experiments/envs/crime/lib/python3.7/site-packages/sklego/metrics.py:86: RuntimeWarning:\n",
      "\n",
      "No samples with y_hat == 1 for not_white == 0, returning 0\n",
      "\n",
      "/home/marcos/Documents/Experiments/envs/crime/lib/python3.7/site-packages/sklego/metrics.py:155: RuntimeWarning:\n",
      "\n",
      "divide by zero encountered in double_scalars\n",
      "\n",
      "/home/marcos/Documents/Experiments/envs/crime/lib/python3.7/site-packages/sklego/metrics.py:86: RuntimeWarning:\n",
      "\n",
      "No samples with y_hat == 1 for not_white == 0, returning 0\n",
      "\n",
      "/home/marcos/Documents/Experiments/envs/crime/lib/python3.7/site-packages/sklego/metrics.py:155: RuntimeWarning:\n",
      "\n",
      "divide by zero encountered in double_scalars\n",
      "\n",
      "/home/marcos/Documents/Experiments/envs/crime/lib/python3.7/site-packages/sklego/metrics.py:86: RuntimeWarning:\n",
      "\n",
      "No samples with y_hat == 1 for not_white == 0, returning 0\n",
      "\n",
      "/home/marcos/Documents/Experiments/envs/crime/lib/python3.7/site-packages/sklego/metrics.py:155: RuntimeWarning:\n",
      "\n",
      "divide by zero encountered in double_scalars\n",
      "\n",
      "/home/marcos/Documents/Experiments/envs/crime/lib/python3.7/site-packages/sklego/metrics.py:86: RuntimeWarning:\n",
      "\n",
      "No samples with y_hat == 1 for not_white == 0, returning 0\n",
      "\n",
      "/home/marcos/Documents/Experiments/envs/crime/lib/python3.7/site-packages/sklego/metrics.py:155: RuntimeWarning:\n",
      "\n",
      "invalid value encountered in double_scalars\n",
      "\n",
      "/home/marcos/Documents/Experiments/envs/crime/lib/python3.7/site-packages/sklego/metrics.py:79: RuntimeWarning:\n",
      "\n",
      "No samples with y_hat == 1 for not_white == 1, returning 0\n",
      "\n",
      "/home/marcos/Documents/Experiments/envs/crime/lib/python3.7/site-packages/sklego/metrics.py:155: RuntimeWarning:\n",
      "\n",
      "invalid value encountered in double_scalars\n",
      "\n",
      "/home/marcos/Documents/Experiments/envs/crime/lib/python3.7/site-packages/sklego/metrics.py:79: RuntimeWarning:\n",
      "\n",
      "No samples with y_hat == 1 for not_white == 1, returning 0\n",
      "\n",
      "/home/marcos/Documents/Experiments/envs/crime/lib/python3.7/site-packages/sklego/metrics.py:155: RuntimeWarning:\n",
      "\n",
      "invalid value encountered in double_scalars\n",
      "\n",
      "/home/marcos/Documents/Experiments/envs/crime/lib/python3.7/site-packages/sklego/metrics.py:79: RuntimeWarning:\n",
      "\n",
      "No samples with y_hat == 1 for not_white == 1, returning 0\n",
      "\n",
      "/home/marcos/Documents/Experiments/envs/crime/lib/python3.7/site-packages/sklego/metrics.py:155: RuntimeWarning:\n",
      "\n",
      "divide by zero encountered in double_scalars\n",
      "\n",
      "/home/marcos/Documents/Experiments/envs/crime/lib/python3.7/site-packages/sklego/metrics.py:86: RuntimeWarning:\n",
      "\n",
      "No samples with y_hat == 1 for not_white == 0, returning 0\n",
      "\n",
      "/home/marcos/Documents/Experiments/envs/crime/lib/python3.7/site-packages/sklego/metrics.py:155: RuntimeWarning:\n",
      "\n",
      "divide by zero encountered in double_scalars\n",
      "\n",
      "/home/marcos/Documents/Experiments/envs/crime/lib/python3.7/site-packages/sklego/metrics.py:86: RuntimeWarning:\n",
      "\n",
      "No samples with y_hat == 1 for not_white == 0, returning 0\n",
      "\n",
      "/home/marcos/Documents/Experiments/envs/crime/lib/python3.7/site-packages/sklego/metrics.py:155: RuntimeWarning:\n",
      "\n",
      "divide by zero encountered in double_scalars\n",
      "\n",
      "/home/marcos/Documents/Experiments/envs/crime/lib/python3.7/site-packages/sklego/metrics.py:86: RuntimeWarning:\n",
      "\n",
      "No samples with y_hat == 1 for not_white == 0, returning 0\n",
      "\n",
      "/home/marcos/Documents/Experiments/envs/crime/lib/python3.7/site-packages/sklego/metrics.py:155: RuntimeWarning:\n",
      "\n",
      "divide by zero encountered in double_scalars\n",
      "\n",
      "/home/marcos/Documents/Experiments/envs/crime/lib/python3.7/site-packages/sklego/metrics.py:86: RuntimeWarning:\n",
      "\n",
      "No samples with y_hat == 1 for not_white == 0, returning 0\n",
      "\n",
      "/home/marcos/Documents/Experiments/envs/crime/lib/python3.7/site-packages/sklego/metrics.py:155: RuntimeWarning:\n",
      "\n",
      "divide by zero encountered in double_scalars\n",
      "\n",
      "/home/marcos/Documents/Experiments/envs/crime/lib/python3.7/site-packages/sklego/metrics.py:86: RuntimeWarning:\n",
      "\n",
      "No samples with y_hat == 1 for not_white == 0, returning 0\n",
      "\n",
      "/home/marcos/Documents/Experiments/envs/crime/lib/python3.7/site-packages/sklego/metrics.py:155: RuntimeWarning:\n",
      "\n",
      "divide by zero encountered in double_scalars\n",
      "\n",
      "/home/marcos/Documents/Experiments/envs/crime/lib/python3.7/site-packages/sklego/metrics.py:86: RuntimeWarning:\n",
      "\n",
      "No samples with y_hat == 1 for not_white == 0, returning 0\n",
      "\n",
      "/home/marcos/Documents/Experiments/envs/crime/lib/python3.7/site-packages/sklego/metrics.py:155: RuntimeWarning:\n",
      "\n",
      "divide by zero encountered in double_scalars\n",
      "\n"
     ]
    },
    {
     "ename": "SolverError",
     "evalue": "Solver 'ECOS' failed. Try another solver, or solve with verbose=True for more information.",
     "output_type": "error",
     "traceback": [
      "\u001b[0;31m---------------------------------------------------------------------------\u001b[0m",
      "\u001b[0;31mSolverError\u001b[0m                               Traceback (most recent call last)",
      "\u001b[0;32m<ipython-input-29-daaa46e24199>\u001b[0m in \u001b[0;36m<module>\u001b[0;34m\u001b[0m\n\u001b[1;32m     10\u001b[0m         model = DemographicParityClassifier(sensitive_cols=fair_feature,\n\u001b[1;32m     11\u001b[0m                                             covariance_threshold=c, C=C, max_iter=10**3)\n\u001b[0;32m---> 12\u001b[0;31m         \u001b[0mmodel\u001b[0m\u001b[0;34m.\u001b[0m\u001b[0mfit\u001b[0m\u001b[0;34m(\u001b[0m\u001b[0mX_train\u001b[0m\u001b[0;34m,\u001b[0m \u001b[0my_train\u001b[0m\u001b[0;34m)\u001b[0m\u001b[0;34m\u001b[0m\u001b[0;34m\u001b[0m\u001b[0m\n\u001b[0m\u001b[1;32m     13\u001b[0m         \u001b[0mmetrics_adult_log_aux\u001b[0m\u001b[0;34m[\u001b[0m\u001b[0;34m\"Acurácia\"\u001b[0m\u001b[0;34m]\u001b[0m\u001b[0;34m.\u001b[0m\u001b[0mappend\u001b[0m\u001b[0;34m(\u001b[0m\u001b[0mmodel\u001b[0m\u001b[0;34m.\u001b[0m\u001b[0mscore\u001b[0m\u001b[0;34m(\u001b[0m\u001b[0mX_test\u001b[0m\u001b[0;34m,\u001b[0m \u001b[0my_test\u001b[0m\u001b[0;34m)\u001b[0m\u001b[0;34m)\u001b[0m\u001b[0;34m\u001b[0m\u001b[0;34m\u001b[0m\u001b[0m\n\u001b[1;32m     14\u001b[0m         metrics_adult_log_aux[\"Igualdade de Oportunidade\"].append(equal_opportunity_score(sensitive_column=fair_feature)(model,\n",
      "\u001b[0;32m~/Documents/Experiments/envs/crime/lib/python3.7/site-packages/sklearn/multiclass.py\u001b[0m in \u001b[0;36mfit\u001b[0;34m(self, X, y)\u001b[0m\n\u001b[1;32m    243\u001b[0m                 \u001b[0;34m\"not %s\"\u001b[0m \u001b[0;34m%\u001b[0m \u001b[0mself\u001b[0m\u001b[0;34m.\u001b[0m\u001b[0mlabel_binarizer_\u001b[0m\u001b[0;34m.\u001b[0m\u001b[0mclasses_\u001b[0m\u001b[0;34m[\u001b[0m\u001b[0mi\u001b[0m\u001b[0;34m]\u001b[0m\u001b[0;34m,\u001b[0m\u001b[0;34m\u001b[0m\u001b[0;34m\u001b[0m\u001b[0m\n\u001b[1;32m    244\u001b[0m                 self.label_binarizer_.classes_[i]])\n\u001b[0;32m--> 245\u001b[0;31m             for i, column in enumerate(columns))\n\u001b[0m\u001b[1;32m    246\u001b[0m \u001b[0;34m\u001b[0m\u001b[0m\n\u001b[1;32m    247\u001b[0m         \u001b[0;32mreturn\u001b[0m \u001b[0mself\u001b[0m\u001b[0;34m\u001b[0m\u001b[0;34m\u001b[0m\u001b[0m\n",
      "\u001b[0;32m~/Documents/Experiments/envs/crime/lib/python3.7/site-packages/joblib/parallel.py\u001b[0m in \u001b[0;36m__call__\u001b[0;34m(self, iterable)\u001b[0m\n\u001b[1;32m   1002\u001b[0m             \u001b[0;31m# remaining jobs.\u001b[0m\u001b[0;34m\u001b[0m\u001b[0;34m\u001b[0m\u001b[0;34m\u001b[0m\u001b[0m\n\u001b[1;32m   1003\u001b[0m             \u001b[0mself\u001b[0m\u001b[0;34m.\u001b[0m\u001b[0m_iterating\u001b[0m \u001b[0;34m=\u001b[0m \u001b[0;32mFalse\u001b[0m\u001b[0;34m\u001b[0m\u001b[0;34m\u001b[0m\u001b[0m\n\u001b[0;32m-> 1004\u001b[0;31m             \u001b[0;32mif\u001b[0m \u001b[0mself\u001b[0m\u001b[0;34m.\u001b[0m\u001b[0mdispatch_one_batch\u001b[0m\u001b[0;34m(\u001b[0m\u001b[0miterator\u001b[0m\u001b[0;34m)\u001b[0m\u001b[0;34m:\u001b[0m\u001b[0;34m\u001b[0m\u001b[0;34m\u001b[0m\u001b[0m\n\u001b[0m\u001b[1;32m   1005\u001b[0m                 \u001b[0mself\u001b[0m\u001b[0;34m.\u001b[0m\u001b[0m_iterating\u001b[0m \u001b[0;34m=\u001b[0m \u001b[0mself\u001b[0m\u001b[0;34m.\u001b[0m\u001b[0m_original_iterator\u001b[0m \u001b[0;32mis\u001b[0m \u001b[0;32mnot\u001b[0m \u001b[0;32mNone\u001b[0m\u001b[0;34m\u001b[0m\u001b[0;34m\u001b[0m\u001b[0m\n\u001b[1;32m   1006\u001b[0m \u001b[0;34m\u001b[0m\u001b[0m\n",
      "\u001b[0;32m~/Documents/Experiments/envs/crime/lib/python3.7/site-packages/joblib/parallel.py\u001b[0m in \u001b[0;36mdispatch_one_batch\u001b[0;34m(self, iterator)\u001b[0m\n\u001b[1;32m    833\u001b[0m                 \u001b[0;32mreturn\u001b[0m \u001b[0;32mFalse\u001b[0m\u001b[0;34m\u001b[0m\u001b[0;34m\u001b[0m\u001b[0m\n\u001b[1;32m    834\u001b[0m             \u001b[0;32melse\u001b[0m\u001b[0;34m:\u001b[0m\u001b[0;34m\u001b[0m\u001b[0;34m\u001b[0m\u001b[0m\n\u001b[0;32m--> 835\u001b[0;31m                 \u001b[0mself\u001b[0m\u001b[0;34m.\u001b[0m\u001b[0m_dispatch\u001b[0m\u001b[0;34m(\u001b[0m\u001b[0mtasks\u001b[0m\u001b[0;34m)\u001b[0m\u001b[0;34m\u001b[0m\u001b[0;34m\u001b[0m\u001b[0m\n\u001b[0m\u001b[1;32m    836\u001b[0m                 \u001b[0;32mreturn\u001b[0m \u001b[0;32mTrue\u001b[0m\u001b[0;34m\u001b[0m\u001b[0;34m\u001b[0m\u001b[0m\n\u001b[1;32m    837\u001b[0m \u001b[0;34m\u001b[0m\u001b[0m\n",
      "\u001b[0;32m~/Documents/Experiments/envs/crime/lib/python3.7/site-packages/joblib/parallel.py\u001b[0m in \u001b[0;36m_dispatch\u001b[0;34m(self, batch)\u001b[0m\n\u001b[1;32m    752\u001b[0m         \u001b[0;32mwith\u001b[0m \u001b[0mself\u001b[0m\u001b[0;34m.\u001b[0m\u001b[0m_lock\u001b[0m\u001b[0;34m:\u001b[0m\u001b[0;34m\u001b[0m\u001b[0;34m\u001b[0m\u001b[0m\n\u001b[1;32m    753\u001b[0m             \u001b[0mjob_idx\u001b[0m \u001b[0;34m=\u001b[0m \u001b[0mlen\u001b[0m\u001b[0;34m(\u001b[0m\u001b[0mself\u001b[0m\u001b[0;34m.\u001b[0m\u001b[0m_jobs\u001b[0m\u001b[0;34m)\u001b[0m\u001b[0;34m\u001b[0m\u001b[0;34m\u001b[0m\u001b[0m\n\u001b[0;32m--> 754\u001b[0;31m             \u001b[0mjob\u001b[0m \u001b[0;34m=\u001b[0m \u001b[0mself\u001b[0m\u001b[0;34m.\u001b[0m\u001b[0m_backend\u001b[0m\u001b[0;34m.\u001b[0m\u001b[0mapply_async\u001b[0m\u001b[0;34m(\u001b[0m\u001b[0mbatch\u001b[0m\u001b[0;34m,\u001b[0m \u001b[0mcallback\u001b[0m\u001b[0;34m=\u001b[0m\u001b[0mcb\u001b[0m\u001b[0;34m)\u001b[0m\u001b[0;34m\u001b[0m\u001b[0;34m\u001b[0m\u001b[0m\n\u001b[0m\u001b[1;32m    755\u001b[0m             \u001b[0;31m# A job can complete so quickly than its callback is\u001b[0m\u001b[0;34m\u001b[0m\u001b[0;34m\u001b[0m\u001b[0;34m\u001b[0m\u001b[0m\n\u001b[1;32m    756\u001b[0m             \u001b[0;31m# called before we get here, causing self._jobs to\u001b[0m\u001b[0;34m\u001b[0m\u001b[0;34m\u001b[0m\u001b[0;34m\u001b[0m\u001b[0m\n",
      "\u001b[0;32m~/Documents/Experiments/envs/crime/lib/python3.7/site-packages/joblib/_parallel_backends.py\u001b[0m in \u001b[0;36mapply_async\u001b[0;34m(self, func, callback)\u001b[0m\n\u001b[1;32m    207\u001b[0m     \u001b[0;32mdef\u001b[0m \u001b[0mapply_async\u001b[0m\u001b[0;34m(\u001b[0m\u001b[0mself\u001b[0m\u001b[0;34m,\u001b[0m \u001b[0mfunc\u001b[0m\u001b[0;34m,\u001b[0m \u001b[0mcallback\u001b[0m\u001b[0;34m=\u001b[0m\u001b[0;32mNone\u001b[0m\u001b[0;34m)\u001b[0m\u001b[0;34m:\u001b[0m\u001b[0;34m\u001b[0m\u001b[0;34m\u001b[0m\u001b[0m\n\u001b[1;32m    208\u001b[0m         \u001b[0;34m\"\"\"Schedule a func to be run\"\"\"\u001b[0m\u001b[0;34m\u001b[0m\u001b[0;34m\u001b[0m\u001b[0m\n\u001b[0;32m--> 209\u001b[0;31m         \u001b[0mresult\u001b[0m \u001b[0;34m=\u001b[0m \u001b[0mImmediateResult\u001b[0m\u001b[0;34m(\u001b[0m\u001b[0mfunc\u001b[0m\u001b[0;34m)\u001b[0m\u001b[0;34m\u001b[0m\u001b[0;34m\u001b[0m\u001b[0m\n\u001b[0m\u001b[1;32m    210\u001b[0m         \u001b[0;32mif\u001b[0m \u001b[0mcallback\u001b[0m\u001b[0;34m:\u001b[0m\u001b[0;34m\u001b[0m\u001b[0;34m\u001b[0m\u001b[0m\n\u001b[1;32m    211\u001b[0m             \u001b[0mcallback\u001b[0m\u001b[0;34m(\u001b[0m\u001b[0mresult\u001b[0m\u001b[0;34m)\u001b[0m\u001b[0;34m\u001b[0m\u001b[0;34m\u001b[0m\u001b[0m\n",
      "\u001b[0;32m~/Documents/Experiments/envs/crime/lib/python3.7/site-packages/joblib/_parallel_backends.py\u001b[0m in \u001b[0;36m__init__\u001b[0;34m(self, batch)\u001b[0m\n\u001b[1;32m    588\u001b[0m         \u001b[0;31m# Don't delay the application, to avoid keeping the input\u001b[0m\u001b[0;34m\u001b[0m\u001b[0;34m\u001b[0m\u001b[0;34m\u001b[0m\u001b[0m\n\u001b[1;32m    589\u001b[0m         \u001b[0;31m# arguments in memory\u001b[0m\u001b[0;34m\u001b[0m\u001b[0;34m\u001b[0m\u001b[0;34m\u001b[0m\u001b[0m\n\u001b[0;32m--> 590\u001b[0;31m         \u001b[0mself\u001b[0m\u001b[0;34m.\u001b[0m\u001b[0mresults\u001b[0m \u001b[0;34m=\u001b[0m \u001b[0mbatch\u001b[0m\u001b[0;34m(\u001b[0m\u001b[0;34m)\u001b[0m\u001b[0;34m\u001b[0m\u001b[0;34m\u001b[0m\u001b[0m\n\u001b[0m\u001b[1;32m    591\u001b[0m \u001b[0;34m\u001b[0m\u001b[0m\n\u001b[1;32m    592\u001b[0m     \u001b[0;32mdef\u001b[0m \u001b[0mget\u001b[0m\u001b[0;34m(\u001b[0m\u001b[0mself\u001b[0m\u001b[0;34m)\u001b[0m\u001b[0;34m:\u001b[0m\u001b[0;34m\u001b[0m\u001b[0;34m\u001b[0m\u001b[0m\n",
      "\u001b[0;32m~/Documents/Experiments/envs/crime/lib/python3.7/site-packages/joblib/parallel.py\u001b[0m in \u001b[0;36m__call__\u001b[0;34m(self)\u001b[0m\n\u001b[1;32m    254\u001b[0m         \u001b[0;32mwith\u001b[0m \u001b[0mparallel_backend\u001b[0m\u001b[0;34m(\u001b[0m\u001b[0mself\u001b[0m\u001b[0;34m.\u001b[0m\u001b[0m_backend\u001b[0m\u001b[0;34m,\u001b[0m \u001b[0mn_jobs\u001b[0m\u001b[0;34m=\u001b[0m\u001b[0mself\u001b[0m\u001b[0;34m.\u001b[0m\u001b[0m_n_jobs\u001b[0m\u001b[0;34m)\u001b[0m\u001b[0;34m:\u001b[0m\u001b[0;34m\u001b[0m\u001b[0;34m\u001b[0m\u001b[0m\n\u001b[1;32m    255\u001b[0m             return [func(*args, **kwargs)\n\u001b[0;32m--> 256\u001b[0;31m                     for func, args, kwargs in self.items]\n\u001b[0m\u001b[1;32m    257\u001b[0m \u001b[0;34m\u001b[0m\u001b[0m\n\u001b[1;32m    258\u001b[0m     \u001b[0;32mdef\u001b[0m \u001b[0m__len__\u001b[0m\u001b[0;34m(\u001b[0m\u001b[0mself\u001b[0m\u001b[0;34m)\u001b[0m\u001b[0;34m:\u001b[0m\u001b[0;34m\u001b[0m\u001b[0;34m\u001b[0m\u001b[0m\n",
      "\u001b[0;32m~/Documents/Experiments/envs/crime/lib/python3.7/site-packages/joblib/parallel.py\u001b[0m in \u001b[0;36m<listcomp>\u001b[0;34m(.0)\u001b[0m\n\u001b[1;32m    254\u001b[0m         \u001b[0;32mwith\u001b[0m \u001b[0mparallel_backend\u001b[0m\u001b[0;34m(\u001b[0m\u001b[0mself\u001b[0m\u001b[0;34m.\u001b[0m\u001b[0m_backend\u001b[0m\u001b[0;34m,\u001b[0m \u001b[0mn_jobs\u001b[0m\u001b[0;34m=\u001b[0m\u001b[0mself\u001b[0m\u001b[0;34m.\u001b[0m\u001b[0m_n_jobs\u001b[0m\u001b[0;34m)\u001b[0m\u001b[0;34m:\u001b[0m\u001b[0;34m\u001b[0m\u001b[0;34m\u001b[0m\u001b[0m\n\u001b[1;32m    255\u001b[0m             return [func(*args, **kwargs)\n\u001b[0;32m--> 256\u001b[0;31m                     for func, args, kwargs in self.items]\n\u001b[0m\u001b[1;32m    257\u001b[0m \u001b[0;34m\u001b[0m\u001b[0m\n\u001b[1;32m    258\u001b[0m     \u001b[0;32mdef\u001b[0m \u001b[0m__len__\u001b[0m\u001b[0;34m(\u001b[0m\u001b[0mself\u001b[0m\u001b[0;34m)\u001b[0m\u001b[0;34m:\u001b[0m\u001b[0;34m\u001b[0m\u001b[0;34m\u001b[0m\u001b[0m\n",
      "\u001b[0;32m~/Documents/Experiments/envs/crime/lib/python3.7/site-packages/sklearn/multiclass.py\u001b[0m in \u001b[0;36m_fit_binary\u001b[0;34m(estimator, X, y, classes)\u001b[0m\n\u001b[1;32m     79\u001b[0m     \u001b[0;32melse\u001b[0m\u001b[0;34m:\u001b[0m\u001b[0;34m\u001b[0m\u001b[0;34m\u001b[0m\u001b[0m\n\u001b[1;32m     80\u001b[0m         \u001b[0mestimator\u001b[0m \u001b[0;34m=\u001b[0m \u001b[0mclone\u001b[0m\u001b[0;34m(\u001b[0m\u001b[0mestimator\u001b[0m\u001b[0;34m)\u001b[0m\u001b[0;34m\u001b[0m\u001b[0;34m\u001b[0m\u001b[0m\n\u001b[0;32m---> 81\u001b[0;31m         \u001b[0mestimator\u001b[0m\u001b[0;34m.\u001b[0m\u001b[0mfit\u001b[0m\u001b[0;34m(\u001b[0m\u001b[0mX\u001b[0m\u001b[0;34m,\u001b[0m \u001b[0my\u001b[0m\u001b[0;34m)\u001b[0m\u001b[0;34m\u001b[0m\u001b[0;34m\u001b[0m\u001b[0m\n\u001b[0m\u001b[1;32m     82\u001b[0m     \u001b[0;32mreturn\u001b[0m \u001b[0mestimator\u001b[0m\u001b[0;34m\u001b[0m\u001b[0;34m\u001b[0m\u001b[0m\n\u001b[1;32m     83\u001b[0m \u001b[0;34m\u001b[0m\u001b[0m\n",
      "\u001b[0;32m~/Documents/Experiments/envs/crime/lib/python3.7/site-packages/sklego/linear_model.py\u001b[0m in \u001b[0;36mfit\u001b[0;34m(self, X, y)\u001b[0m\n\u001b[1;32m    236\u001b[0m             )\n\u001b[1;32m    237\u001b[0m \u001b[0;34m\u001b[0m\u001b[0m\n\u001b[0;32m--> 238\u001b[0;31m         \u001b[0mself\u001b[0m\u001b[0;34m.\u001b[0m\u001b[0m_solve\u001b[0m\u001b[0;34m(\u001b[0m\u001b[0msensitive\u001b[0m\u001b[0;34m,\u001b[0m \u001b[0mX\u001b[0m\u001b[0;34m,\u001b[0m \u001b[0my\u001b[0m\u001b[0;34m)\u001b[0m\u001b[0;34m\u001b[0m\u001b[0;34m\u001b[0m\u001b[0m\n\u001b[0m\u001b[1;32m    239\u001b[0m         \u001b[0;32mreturn\u001b[0m \u001b[0mself\u001b[0m\u001b[0;34m\u001b[0m\u001b[0;34m\u001b[0m\u001b[0m\n\u001b[1;32m    240\u001b[0m \u001b[0;34m\u001b[0m\u001b[0m\n",
      "\u001b[0;32m~/Documents/Experiments/envs/crime/lib/python3.7/site-packages/sklego/linear_model.py\u001b[0m in \u001b[0;36m_solve\u001b[0;34m(self, sensitive, X, y)\u001b[0m\n\u001b[1;32m    261\u001b[0m \u001b[0;34m\u001b[0m\u001b[0m\n\u001b[1;32m    262\u001b[0m         \u001b[0mproblem\u001b[0m \u001b[0;34m=\u001b[0m \u001b[0mcp\u001b[0m\u001b[0;34m.\u001b[0m\u001b[0mProblem\u001b[0m\u001b[0;34m(\u001b[0m\u001b[0mcp\u001b[0m\u001b[0;34m.\u001b[0m\u001b[0mMaximize\u001b[0m\u001b[0;34m(\u001b[0m\u001b[0mlog_likelihood\u001b[0m\u001b[0;34m)\u001b[0m\u001b[0;34m,\u001b[0m \u001b[0mconstraints\u001b[0m\u001b[0;34m)\u001b[0m\u001b[0;34m\u001b[0m\u001b[0;34m\u001b[0m\u001b[0m\n\u001b[0;32m--> 263\u001b[0;31m         \u001b[0mproblem\u001b[0m\u001b[0;34m.\u001b[0m\u001b[0msolve\u001b[0m\u001b[0;34m(\u001b[0m\u001b[0mmax_iters\u001b[0m\u001b[0;34m=\u001b[0m\u001b[0mself\u001b[0m\u001b[0;34m.\u001b[0m\u001b[0mmax_iter\u001b[0m\u001b[0;34m)\u001b[0m\u001b[0;34m\u001b[0m\u001b[0;34m\u001b[0m\u001b[0m\n\u001b[0m\u001b[1;32m    264\u001b[0m \u001b[0;34m\u001b[0m\u001b[0m\n\u001b[1;32m    265\u001b[0m         \u001b[0;32mif\u001b[0m \u001b[0mproblem\u001b[0m\u001b[0;34m.\u001b[0m\u001b[0mstatus\u001b[0m \u001b[0;32min\u001b[0m \u001b[0;34m[\u001b[0m\u001b[0;34m\"infeasible\"\u001b[0m\u001b[0;34m,\u001b[0m \u001b[0;34m\"unbounded\"\u001b[0m\u001b[0;34m]\u001b[0m\u001b[0;34m:\u001b[0m\u001b[0;34m\u001b[0m\u001b[0;34m\u001b[0m\u001b[0m\n",
      "\u001b[0;32m~/Documents/Experiments/envs/crime/lib/python3.7/site-packages/cvxpy/problems/problem.py\u001b[0m in \u001b[0;36msolve\u001b[0;34m(self, *args, **kwargs)\u001b[0m\n\u001b[1;32m    393\u001b[0m         \u001b[0;32melse\u001b[0m\u001b[0;34m:\u001b[0m\u001b[0;34m\u001b[0m\u001b[0;34m\u001b[0m\u001b[0m\n\u001b[1;32m    394\u001b[0m             \u001b[0msolve_func\u001b[0m \u001b[0;34m=\u001b[0m \u001b[0mProblem\u001b[0m\u001b[0;34m.\u001b[0m\u001b[0m_solve\u001b[0m\u001b[0;34m\u001b[0m\u001b[0;34m\u001b[0m\u001b[0m\n\u001b[0;32m--> 395\u001b[0;31m         \u001b[0;32mreturn\u001b[0m \u001b[0msolve_func\u001b[0m\u001b[0;34m(\u001b[0m\u001b[0mself\u001b[0m\u001b[0;34m,\u001b[0m \u001b[0;34m*\u001b[0m\u001b[0margs\u001b[0m\u001b[0;34m,\u001b[0m \u001b[0;34m**\u001b[0m\u001b[0mkwargs\u001b[0m\u001b[0;34m)\u001b[0m\u001b[0;34m\u001b[0m\u001b[0;34m\u001b[0m\u001b[0m\n\u001b[0m\u001b[1;32m    396\u001b[0m \u001b[0;34m\u001b[0m\u001b[0m\n\u001b[1;32m    397\u001b[0m     \u001b[0;34m@\u001b[0m\u001b[0mclassmethod\u001b[0m\u001b[0;34m\u001b[0m\u001b[0;34m\u001b[0m\u001b[0m\n",
      "\u001b[0;32m~/Documents/Experiments/envs/crime/lib/python3.7/site-packages/cvxpy/problems/problem.py\u001b[0m in \u001b[0;36m_solve\u001b[0;34m(self, solver, warm_start, verbose, gp, qcp, requires_grad, enforce_dpp, **kwargs)\u001b[0m\n\u001b[1;32m    745\u001b[0m         solution = solving_chain.solve_via_data(\n\u001b[1;32m    746\u001b[0m             self, data, warm_start, verbose, kwargs)\n\u001b[0;32m--> 747\u001b[0;31m         \u001b[0mself\u001b[0m\u001b[0;34m.\u001b[0m\u001b[0munpack_results\u001b[0m\u001b[0;34m(\u001b[0m\u001b[0msolution\u001b[0m\u001b[0;34m,\u001b[0m \u001b[0msolving_chain\u001b[0m\u001b[0;34m,\u001b[0m \u001b[0minverse_data\u001b[0m\u001b[0;34m)\u001b[0m\u001b[0;34m\u001b[0m\u001b[0;34m\u001b[0m\u001b[0m\n\u001b[0m\u001b[1;32m    748\u001b[0m         \u001b[0;32mreturn\u001b[0m \u001b[0mself\u001b[0m\u001b[0;34m.\u001b[0m\u001b[0mvalue\u001b[0m\u001b[0;34m\u001b[0m\u001b[0;34m\u001b[0m\u001b[0m\n\u001b[1;32m    749\u001b[0m \u001b[0;34m\u001b[0m\u001b[0m\n",
      "\u001b[0;32m~/Documents/Experiments/envs/crime/lib/python3.7/site-packages/cvxpy/problems/problem.py\u001b[0m in \u001b[0;36munpack_results\u001b[0;34m(self, solution, chain, inverse_data)\u001b[0m\n\u001b[1;32m   1053\u001b[0m             raise error.SolverError(\n\u001b[1;32m   1054\u001b[0m                     \u001b[0;34m\"Solver '%s' failed. \"\u001b[0m \u001b[0;34m%\u001b[0m \u001b[0mchain\u001b[0m\u001b[0;34m.\u001b[0m\u001b[0msolver\u001b[0m\u001b[0;34m.\u001b[0m\u001b[0mname\u001b[0m\u001b[0;34m(\u001b[0m\u001b[0;34m)\u001b[0m \u001b[0;34m+\u001b[0m\u001b[0;34m\u001b[0m\u001b[0;34m\u001b[0m\u001b[0m\n\u001b[0;32m-> 1055\u001b[0;31m                     \u001b[0;34m\"Try another solver, or solve with verbose=True for more \"\u001b[0m\u001b[0;34m\u001b[0m\u001b[0;34m\u001b[0m\u001b[0m\n\u001b[0m\u001b[1;32m   1056\u001b[0m                     \"information.\")\n\u001b[1;32m   1057\u001b[0m         \u001b[0mself\u001b[0m\u001b[0;34m.\u001b[0m\u001b[0munpack\u001b[0m\u001b[0;34m(\u001b[0m\u001b[0msolution\u001b[0m\u001b[0;34m)\u001b[0m\u001b[0;34m\u001b[0m\u001b[0;34m\u001b[0m\u001b[0m\n",
      "\u001b[0;31mSolverError\u001b[0m: Solver 'ECOS' failed. Try another solver, or solve with verbose=True for more information."
     ]
    }
   ],
   "source": [
    "import numpy as np\n",
    "\n",
    "C_values = np.logspace(-5, 5, 20)\n",
    "c_values = np.logspace(-5, 5, 20)\n",
    "\n",
    "metrics_adult_log_aux = {\"Acurácia\": [], \"Igualdade de Oportunidade\": [], \"P porcento\": [], \"Coeficiente de variação\": []}\n",
    "\n",
    "for C in C_values:\n",
    "    for c in c_values:\n",
    "        model = DemographicParityClassifier(sensitive_cols=fair_feature,\n",
    "                                            covariance_threshold=c, C=C, max_iter=10**3)\n",
    "        model.fit(X_train, y_train)\n",
    "        metrics_adult_log_aux[\"Acurácia\"].append(model.score(X_test, y_test))\n",
    "        metrics_adult_log_aux[\"Igualdade de Oportunidade\"].append(equal_opportunity_score(sensitive_column=fair_feature)(model,\n",
    "                                                                                                                X_test, y_test))\n",
    "        metrics_adult_log_aux[\"P porcento\"].append(p_percent_score(sensitive_column=fair_feature)(model,X_test))\n",
    "        metrics_adult_log_aux[\"Coeficiente de variação\"].append(coefficient_of_variation(model, X_test, y_test))"
   ]
  },
  {
   "cell_type": "code",
   "execution_count": null,
   "metadata": {},
   "outputs": [],
   "source": [
    "metrics_adult_log = pd.DataFrame(data=metrics_adult_log_aux, columns=['Acurácia','Igualdade de Oportunidade','P porcento',\n",
    "                                     'Coeficiente de variação'])\n",
    "\n",
    "metrics_adult_log['cv_aux'] = 1/metrics_adult_log['Coeficiente de variação']\n",
    "\n",
    "metrics_adult_log = metrics_adult_log.drop('Coeficiente de variação', axis=1)\n",
    "dominate_metr = [any([dominate(other, row) for other in metrics_adult_log.values]) for row in metrics_adult_log.values]\n",
    "metrics_adult_log['dominated'] = dominate_metr"
   ]
  },
  {
   "cell_type": "code",
   "execution_count": null,
   "metadata": {},
   "outputs": [],
   "source": [
    "fig = go.Figure(data=\n",
    "    go.Parcoords(\n",
    "        line = dict(),\n",
    "        dimensions = list([\n",
    "            dict(range = [0,1],\n",
    "                label = 'Acurácia', values = metrics_adult_log['Acurácia']),\n",
    "            dict(range = [0,1],\n",
    "                label = 'Igualdade de Oportunidade', values = metrics_adult_log['Igualdade de Oportunidade']),\n",
    "            dict(range = [0,1],\n",
    "                label = 'P porcento', values = metrics_adult_log['P porcento']),\n",
    "            dict(range = [0.5,2.5],\n",
    "                label = 'cv_aux', values = metrics_adult_log['cv_aux']),\n",
    "        ])\n",
    "    )\n",
    ")\n",
    "\n",
    "fig.update_layout(\n",
    "    plot_bgcolor = 'white',\n",
    "    paper_bgcolor = 'white'\n",
    ")\n",
    "\n",
    "fig.show()"
   ]
  },
  {
   "cell_type": "markdown",
   "metadata": {},
   "source": [
    "# Eq op"
   ]
  },
  {
   "cell_type": "code",
   "execution_count": null,
   "metadata": {},
   "outputs": [],
   "source": [
    "import numpy as np\n",
    "\n",
    "C_values = np.logspace(-5, 5, 20)\n",
    "c_values = np.logspace(-5, 5, 20)\n",
    "\n",
    "metrics_adult_log_aux = {\"Acurácia\": [], \"Igualdade de Oportunidade\": [], \"P porcento\": [], \"Coeficiente de variação\": []}\n",
    "\n",
    "for C in C_values:\n",
    "    for c in c_values:\n",
    "        model = EqualOpportunityClassifier(sensitive_cols=fair_feature, positive_target=True,\n",
    "                                           covariance_threshold=c, C=C, max_iter=10**3)\n",
    "        model.fit(X_train, y_train)\n",
    "        metrics_adult_log_aux[\"Acurácia\"].append(model.score(X_test, y_test))\n",
    "        metrics_adult_log_aux[\"Igualdade de Oportunidade\"].append(equal_opportunity_score(sensitive_column=fair_feature)(model,\n",
    "                                                                                                                X_test, y_test))\n",
    "        metrics_adult_log_aux[\"P porcento\"].append(p_percent_score(sensitive_column=fair_feature)(model,X_test))\n",
    "        metrics_adult_log_aux[\"Coeficiente de variação\"].append(coefficient_of_variation(model, X_test, y_test))"
   ]
  },
  {
   "cell_type": "code",
   "execution_count": null,
   "metadata": {},
   "outputs": [],
   "source": [
    "metrics_adult_log = pd.DataFrame(data=metrics_adult_log_aux, columns=['Acurácia','Igualdade de Oportunidade','P porcento',\n",
    "                                     'Coeficiente de variação'])\n",
    "\n",
    "metrics_adult_log['cv_aux'] = 1/metrics_adult_log['Coeficiente de variação']\n",
    "\n",
    "metrics_adult_log = metrics_adult_log.drop('Coeficiente de variação', axis=1)\n",
    "dominate_metr = [any([dominate(other, row) for other in metrics_adult_log.values]) for row in metrics_adult_log.values]\n",
    "metrics_adult_log['dominated'] = dominate_metr"
   ]
  },
  {
   "cell_type": "code",
   "execution_count": null,
   "metadata": {},
   "outputs": [],
   "source": [
    "fig = go.Figure(data=\n",
    "    go.Parcoords(\n",
    "        line = dict(),\n",
    "        dimensions = list([\n",
    "            dict(range = [0,1],\n",
    "                label = 'Acurácia', values = metrics_adult_log['Acurácia']),\n",
    "            dict(range = [0,1],\n",
    "                label = 'Igualdade de Oportunidade', values = metrics_adult_log['Igualdade de Oportunidade']),\n",
    "            dict(range = [0,1],\n",
    "                label = 'P porcento', values = metrics_adult_log['P porcento']),\n",
    "            dict(range = [0.5,2.5],\n",
    "                label = 'cv_aux', values = metrics_adult_log['cv_aux']),\n",
    "        ])\n",
    "    )\n",
    ")\n",
    "\n",
    "fig.update_layout(\n",
    "    plot_bgcolor = 'white',\n",
    "    paper_bgcolor = 'white'\n",
    ")\n",
    "\n",
    "fig.show()"
   ]
  }
 ],
 "metadata": {
  "kernelspec": {
   "display_name": "Python 3",
   "language": "python",
   "name": "python3"
  },
  "language_info": {
   "codemirror_mode": {
    "name": "ipython",
    "version": 3
   },
   "file_extension": ".py",
   "mimetype": "text/x-python",
   "name": "python",
   "nbconvert_exporter": "python",
   "pygments_lexer": "ipython3",
   "version": "3.7.7"
  }
 },
 "nbformat": 4,
 "nbformat_minor": 4
}
