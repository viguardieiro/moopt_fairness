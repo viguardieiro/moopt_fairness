{
  "nbformat": 4,
  "nbformat_minor": 0,
  "metadata": {
    "colab": {
      "name": "Sample_weight_Sklearn.ipynb",
      "provenance": [],
      "collapsed_sections": [],
      "mount_file_id": "1vPOORnJa-RNEyV2b_h072XXPxxtnQ3MU",
      "authorship_tag": "ABX9TyOBJ/sGtAPbL6v/sg58JGSl",
      "include_colab_link": true
    },
    "kernelspec": {
      "name": "python3",
      "display_name": "Python 3"
    }
  },
  "cells": [
    {
      "cell_type": "markdown",
      "metadata": {
        "id": "view-in-github",
        "colab_type": "text"
      },
      "source": [
        "<a href=\"https://colab.research.google.com/github/viguardieiro/moopt_fairness/blob/master/Sample_weight_Sklearn.ipynb\" target=\"_parent\"><img src=\"https://colab.research.google.com/assets/colab-badge.svg\" alt=\"Open In Colab\"/></a>"
      ]
    },
    {
      "cell_type": "markdown",
      "metadata": {
        "id": "KMz5TG5WpLEf",
        "colab_type": "text"
      },
      "source": [
        "# Fairness by reweighing with sample_weight in Sklearn"
      ]
    },
    {
      "cell_type": "code",
      "metadata": {
        "id": "TyJ84erGfAyM",
        "colab_type": "code",
        "colab": {}
      },
      "source": [
        "import pandas as pd\n",
        "\n",
        "mydata= pd.read_csv(\"/content/drive/My Drive/Vitória - TCC/Notebooks/Datasets/german_credit_data.csv\")"
      ],
      "execution_count": 1,
      "outputs": []
    },
    {
      "cell_type": "markdown",
      "metadata": {
        "id": "64UwE8ULpVV_",
        "colab_type": "text"
      },
      "source": [
        "Dados de pedidos de crédito. É um dos datasets mais utilizados para tutoriais em Fairness, como na biblioteca [$aif360$](https://github.com/IBM/AIF360/blob/master/examples/README.md). Dataset original disponível em [aqui](https://archive.ics.uci.edu/ml/datasets/statlog+(german+credit+data)), mas eu utilizei [este](https://www.kaggle.com/kabure/german-credit-data-with-risk), por estar em formato csv com os headers, embora omita informações do dataset original.\n",
        "\n",
        "Originalmente possui 1000 dados, mas com vários valores NaN, ficando com 522 dados após remoção de dados com informações faltantes."
      ]
    },
    {
      "cell_type": "code",
      "metadata": {
        "id": "rH24295ifUgz",
        "colab_type": "code",
        "colab": {
          "base_uri": "https://localhost:8080/",
          "height": 195
        },
        "outputId": "db943d64-c664-4c16-fa14-53e5f6eddebd"
      },
      "source": [
        "mydata.head()"
      ],
      "execution_count": 2,
      "outputs": [
        {
          "output_type": "execute_result",
          "data": {
            "text/html": [
              "<div>\n",
              "<style scoped>\n",
              "    .dataframe tbody tr th:only-of-type {\n",
              "        vertical-align: middle;\n",
              "    }\n",
              "\n",
              "    .dataframe tbody tr th {\n",
              "        vertical-align: top;\n",
              "    }\n",
              "\n",
              "    .dataframe thead th {\n",
              "        text-align: right;\n",
              "    }\n",
              "</style>\n",
              "<table border=\"1\" class=\"dataframe\">\n",
              "  <thead>\n",
              "    <tr style=\"text-align: right;\">\n",
              "      <th></th>\n",
              "      <th>Unnamed: 0</th>\n",
              "      <th>Age</th>\n",
              "      <th>Sex</th>\n",
              "      <th>Job</th>\n",
              "      <th>Housing</th>\n",
              "      <th>Saving accounts</th>\n",
              "      <th>Checking account</th>\n",
              "      <th>Credit amount</th>\n",
              "      <th>Duration</th>\n",
              "      <th>Purpose</th>\n",
              "      <th>Risk</th>\n",
              "    </tr>\n",
              "  </thead>\n",
              "  <tbody>\n",
              "    <tr>\n",
              "      <th>0</th>\n",
              "      <td>0</td>\n",
              "      <td>67</td>\n",
              "      <td>male</td>\n",
              "      <td>2</td>\n",
              "      <td>own</td>\n",
              "      <td>NaN</td>\n",
              "      <td>little</td>\n",
              "      <td>1169</td>\n",
              "      <td>6</td>\n",
              "      <td>radio/TV</td>\n",
              "      <td>good</td>\n",
              "    </tr>\n",
              "    <tr>\n",
              "      <th>1</th>\n",
              "      <td>1</td>\n",
              "      <td>22</td>\n",
              "      <td>female</td>\n",
              "      <td>2</td>\n",
              "      <td>own</td>\n",
              "      <td>little</td>\n",
              "      <td>moderate</td>\n",
              "      <td>5951</td>\n",
              "      <td>48</td>\n",
              "      <td>radio/TV</td>\n",
              "      <td>bad</td>\n",
              "    </tr>\n",
              "    <tr>\n",
              "      <th>2</th>\n",
              "      <td>2</td>\n",
              "      <td>49</td>\n",
              "      <td>male</td>\n",
              "      <td>1</td>\n",
              "      <td>own</td>\n",
              "      <td>little</td>\n",
              "      <td>NaN</td>\n",
              "      <td>2096</td>\n",
              "      <td>12</td>\n",
              "      <td>education</td>\n",
              "      <td>good</td>\n",
              "    </tr>\n",
              "    <tr>\n",
              "      <th>3</th>\n",
              "      <td>3</td>\n",
              "      <td>45</td>\n",
              "      <td>male</td>\n",
              "      <td>2</td>\n",
              "      <td>free</td>\n",
              "      <td>little</td>\n",
              "      <td>little</td>\n",
              "      <td>7882</td>\n",
              "      <td>42</td>\n",
              "      <td>furniture/equipment</td>\n",
              "      <td>good</td>\n",
              "    </tr>\n",
              "    <tr>\n",
              "      <th>4</th>\n",
              "      <td>4</td>\n",
              "      <td>53</td>\n",
              "      <td>male</td>\n",
              "      <td>2</td>\n",
              "      <td>free</td>\n",
              "      <td>little</td>\n",
              "      <td>little</td>\n",
              "      <td>4870</td>\n",
              "      <td>24</td>\n",
              "      <td>car</td>\n",
              "      <td>bad</td>\n",
              "    </tr>\n",
              "  </tbody>\n",
              "</table>\n",
              "</div>"
            ],
            "text/plain": [
              "   Unnamed: 0  Age     Sex  ...  Duration              Purpose  Risk\n",
              "0           0   67    male  ...         6             radio/TV  good\n",
              "1           1   22  female  ...        48             radio/TV   bad\n",
              "2           2   49    male  ...        12            education  good\n",
              "3           3   45    male  ...        42  furniture/equipment  good\n",
              "4           4   53    male  ...        24                  car   bad\n",
              "\n",
              "[5 rows x 11 columns]"
            ]
          },
          "metadata": {
            "tags": []
          },
          "execution_count": 2
        }
      ]
    },
    {
      "cell_type": "code",
      "metadata": {
        "id": "Vb9LE-uFhAha",
        "colab_type": "code",
        "colab": {
          "base_uri": "https://localhost:8080/",
          "height": 34
        },
        "outputId": "4e92b192-c07d-482c-80d0-fbf564c3d554"
      },
      "source": [
        "mydata.shape"
      ],
      "execution_count": 3,
      "outputs": [
        {
          "output_type": "execute_result",
          "data": {
            "text/plain": [
              "(1000, 11)"
            ]
          },
          "metadata": {
            "tags": []
          },
          "execution_count": 3
        }
      ]
    },
    {
      "cell_type": "code",
      "metadata": {
        "id": "_43AS4aerbjj",
        "colab_type": "code",
        "colab": {}
      },
      "source": [
        "mydata = mydata.drop(['Unnamed: 0', 'Purpose'], axis=1)"
      ],
      "execution_count": 4,
      "outputs": []
    },
    {
      "cell_type": "code",
      "metadata": {
        "id": "0dFCIx4KnbTE",
        "colab_type": "code",
        "colab": {}
      },
      "source": [
        "mydata = mydata.dropna()"
      ],
      "execution_count": 5,
      "outputs": []
    },
    {
      "cell_type": "code",
      "metadata": {
        "id": "gXI4czPtlJbj",
        "colab_type": "code",
        "colab": {}
      },
      "source": [
        "mapping_Sex = {'male': 0, 'female': 1}\n",
        "mapping_Housing = {'free': 1, 'rent': 2, 'own': 3}\n",
        "mapping_Savings = {'little': 1, 'moderate': 2, 'quite rich': 3, 'rich': 4}\n",
        "mapping_Checking = {'little': 1, 'moderate': 2, 'rich': 3}\n",
        "mapping_Risk = {\"bad\": -1, \"good\": 1}\n",
        "\n",
        "numerical_data = mydata.replace({'Sex': mapping_Sex, 'Housing': mapping_Housing, 'Saving accounts': mapping_Savings,\n",
        "                'Checking account':mapping_Checking, 'Risk': mapping_Risk})"
      ],
      "execution_count": 6,
      "outputs": []
    },
    {
      "cell_type": "code",
      "metadata": {
        "id": "Ba9Xl6Kvkwl_",
        "colab_type": "code",
        "colab": {
          "base_uri": "https://localhost:8080/",
          "height": 136
        },
        "outputId": "7ac7dcb0-1e7d-466f-94df-0b6a68c5e9be"
      },
      "source": [
        "numerical_data.groupby('Sex').count()"
      ],
      "execution_count": 7,
      "outputs": [
        {
          "output_type": "execute_result",
          "data": {
            "text/html": [
              "<div>\n",
              "<style scoped>\n",
              "    .dataframe tbody tr th:only-of-type {\n",
              "        vertical-align: middle;\n",
              "    }\n",
              "\n",
              "    .dataframe tbody tr th {\n",
              "        vertical-align: top;\n",
              "    }\n",
              "\n",
              "    .dataframe thead th {\n",
              "        text-align: right;\n",
              "    }\n",
              "</style>\n",
              "<table border=\"1\" class=\"dataframe\">\n",
              "  <thead>\n",
              "    <tr style=\"text-align: right;\">\n",
              "      <th></th>\n",
              "      <th>Age</th>\n",
              "      <th>Job</th>\n",
              "      <th>Housing</th>\n",
              "      <th>Saving accounts</th>\n",
              "      <th>Checking account</th>\n",
              "      <th>Credit amount</th>\n",
              "      <th>Duration</th>\n",
              "      <th>Risk</th>\n",
              "    </tr>\n",
              "    <tr>\n",
              "      <th>Sex</th>\n",
              "      <th></th>\n",
              "      <th></th>\n",
              "      <th></th>\n",
              "      <th></th>\n",
              "      <th></th>\n",
              "      <th></th>\n",
              "      <th></th>\n",
              "      <th></th>\n",
              "    </tr>\n",
              "  </thead>\n",
              "  <tbody>\n",
              "    <tr>\n",
              "      <th>0</th>\n",
              "      <td>354</td>\n",
              "      <td>354</td>\n",
              "      <td>354</td>\n",
              "      <td>354</td>\n",
              "      <td>354</td>\n",
              "      <td>354</td>\n",
              "      <td>354</td>\n",
              "      <td>354</td>\n",
              "    </tr>\n",
              "    <tr>\n",
              "      <th>1</th>\n",
              "      <td>168</td>\n",
              "      <td>168</td>\n",
              "      <td>168</td>\n",
              "      <td>168</td>\n",
              "      <td>168</td>\n",
              "      <td>168</td>\n",
              "      <td>168</td>\n",
              "      <td>168</td>\n",
              "    </tr>\n",
              "  </tbody>\n",
              "</table>\n",
              "</div>"
            ],
            "text/plain": [
              "     Age  Job  Housing  ...  Credit amount  Duration  Risk\n",
              "Sex                     ...                               \n",
              "0    354  354      354  ...            354       354   354\n",
              "1    168  168      168  ...            168       168   168\n",
              "\n",
              "[2 rows x 8 columns]"
            ]
          },
          "metadata": {
            "tags": []
          },
          "execution_count": 7
        }
      ]
    },
    {
      "cell_type": "code",
      "metadata": {
        "id": "1jtVwQHxCgnG",
        "colab_type": "code",
        "colab": {
          "base_uri": "https://localhost:8080/",
          "height": 195
        },
        "outputId": "eccb80a6-a8e4-4da8-8bd2-60d9279fcac4"
      },
      "source": [
        "numerical_data.head()"
      ],
      "execution_count": 8,
      "outputs": [
        {
          "output_type": "execute_result",
          "data": {
            "text/html": [
              "<div>\n",
              "<style scoped>\n",
              "    .dataframe tbody tr th:only-of-type {\n",
              "        vertical-align: middle;\n",
              "    }\n",
              "\n",
              "    .dataframe tbody tr th {\n",
              "        vertical-align: top;\n",
              "    }\n",
              "\n",
              "    .dataframe thead th {\n",
              "        text-align: right;\n",
              "    }\n",
              "</style>\n",
              "<table border=\"1\" class=\"dataframe\">\n",
              "  <thead>\n",
              "    <tr style=\"text-align: right;\">\n",
              "      <th></th>\n",
              "      <th>Age</th>\n",
              "      <th>Sex</th>\n",
              "      <th>Job</th>\n",
              "      <th>Housing</th>\n",
              "      <th>Saving accounts</th>\n",
              "      <th>Checking account</th>\n",
              "      <th>Credit amount</th>\n",
              "      <th>Duration</th>\n",
              "      <th>Risk</th>\n",
              "    </tr>\n",
              "  </thead>\n",
              "  <tbody>\n",
              "    <tr>\n",
              "      <th>1</th>\n",
              "      <td>22</td>\n",
              "      <td>1</td>\n",
              "      <td>2</td>\n",
              "      <td>3</td>\n",
              "      <td>1</td>\n",
              "      <td>2</td>\n",
              "      <td>5951</td>\n",
              "      <td>48</td>\n",
              "      <td>-1</td>\n",
              "    </tr>\n",
              "    <tr>\n",
              "      <th>3</th>\n",
              "      <td>45</td>\n",
              "      <td>0</td>\n",
              "      <td>2</td>\n",
              "      <td>1</td>\n",
              "      <td>1</td>\n",
              "      <td>1</td>\n",
              "      <td>7882</td>\n",
              "      <td>42</td>\n",
              "      <td>1</td>\n",
              "    </tr>\n",
              "    <tr>\n",
              "      <th>4</th>\n",
              "      <td>53</td>\n",
              "      <td>0</td>\n",
              "      <td>2</td>\n",
              "      <td>1</td>\n",
              "      <td>1</td>\n",
              "      <td>1</td>\n",
              "      <td>4870</td>\n",
              "      <td>24</td>\n",
              "      <td>-1</td>\n",
              "    </tr>\n",
              "    <tr>\n",
              "      <th>7</th>\n",
              "      <td>35</td>\n",
              "      <td>0</td>\n",
              "      <td>3</td>\n",
              "      <td>2</td>\n",
              "      <td>1</td>\n",
              "      <td>2</td>\n",
              "      <td>6948</td>\n",
              "      <td>36</td>\n",
              "      <td>1</td>\n",
              "    </tr>\n",
              "    <tr>\n",
              "      <th>9</th>\n",
              "      <td>28</td>\n",
              "      <td>0</td>\n",
              "      <td>3</td>\n",
              "      <td>3</td>\n",
              "      <td>1</td>\n",
              "      <td>2</td>\n",
              "      <td>5234</td>\n",
              "      <td>30</td>\n",
              "      <td>-1</td>\n",
              "    </tr>\n",
              "  </tbody>\n",
              "</table>\n",
              "</div>"
            ],
            "text/plain": [
              "   Age  Sex  Job  Housing  ...  Checking account  Credit amount  Duration  Risk\n",
              "1   22    1    2        3  ...                 2           5951        48    -1\n",
              "3   45    0    2        1  ...                 1           7882        42     1\n",
              "4   53    0    2        1  ...                 1           4870        24    -1\n",
              "7   35    0    3        2  ...                 2           6948        36     1\n",
              "9   28    0    3        3  ...                 2           5234        30    -1\n",
              "\n",
              "[5 rows x 9 columns]"
            ]
          },
          "metadata": {
            "tags": []
          },
          "execution_count": 8
        }
      ]
    },
    {
      "cell_type": "code",
      "metadata": {
        "id": "blQCM3i9qF24",
        "colab_type": "code",
        "colab": {}
      },
      "source": [
        "X = numerical_data.drop(['Risk'], axis=1)"
      ],
      "execution_count": 9,
      "outputs": []
    },
    {
      "cell_type": "code",
      "metadata": {
        "id": "bnHRL4Mem3Xi",
        "colab_type": "code",
        "colab": {}
      },
      "source": [
        "y = numerical_data['Risk']"
      ],
      "execution_count": 10,
      "outputs": []
    },
    {
      "cell_type": "code",
      "metadata": {
        "id": "aIvKzAFnq1vK",
        "colab_type": "code",
        "colab": {
          "base_uri": "https://localhost:8080/",
          "height": 34
        },
        "outputId": "fb52dcd3-1d64-4446-de49-3f3e0129fba6"
      },
      "source": [
        "X.shape"
      ],
      "execution_count": 11,
      "outputs": [
        {
          "output_type": "execute_result",
          "data": {
            "text/plain": [
              "(522, 8)"
            ]
          },
          "metadata": {
            "tags": []
          },
          "execution_count": 11
        }
      ]
    },
    {
      "cell_type": "code",
      "metadata": {
        "id": "XAJLMFuHFmg0",
        "colab_type": "code",
        "colab": {}
      },
      "source": [
        "X_test = X.iloc[:100, :]\n",
        "X_train = X.iloc[100:, :]\n",
        "y_test = y.iloc[:100]\n",
        "y_train = y.iloc[100:]"
      ],
      "execution_count": 12,
      "outputs": []
    },
    {
      "cell_type": "code",
      "metadata": {
        "id": "09XbsJ-IHE5-",
        "colab_type": "code",
        "colab": {
          "base_uri": "https://localhost:8080/",
          "height": 34
        },
        "outputId": "b5d64db5-1a2f-4e8e-916f-5ba1b49486bf"
      },
      "source": [
        "X_train.shape"
      ],
      "execution_count": 13,
      "outputs": [
        {
          "output_type": "execute_result",
          "data": {
            "text/plain": [
              "(422, 8)"
            ]
          },
          "metadata": {
            "tags": []
          },
          "execution_count": 13
        }
      ]
    },
    {
      "cell_type": "code",
      "metadata": {
        "id": "BY03oMP-KeCH",
        "colab_type": "code",
        "colab": {
          "base_uri": "https://localhost:8080/",
          "height": 195
        },
        "outputId": "57a6d613-00fd-42e4-e1bd-606bb00252e3"
      },
      "source": [
        "X_train.head()"
      ],
      "execution_count": 14,
      "outputs": [
        {
          "output_type": "execute_result",
          "data": {
            "text/html": [
              "<div>\n",
              "<style scoped>\n",
              "    .dataframe tbody tr th:only-of-type {\n",
              "        vertical-align: middle;\n",
              "    }\n",
              "\n",
              "    .dataframe tbody tr th {\n",
              "        vertical-align: top;\n",
              "    }\n",
              "\n",
              "    .dataframe thead th {\n",
              "        text-align: right;\n",
              "    }\n",
              "</style>\n",
              "<table border=\"1\" class=\"dataframe\">\n",
              "  <thead>\n",
              "    <tr style=\"text-align: right;\">\n",
              "      <th></th>\n",
              "      <th>Age</th>\n",
              "      <th>Sex</th>\n",
              "      <th>Job</th>\n",
              "      <th>Housing</th>\n",
              "      <th>Saving accounts</th>\n",
              "      <th>Checking account</th>\n",
              "      <th>Credit amount</th>\n",
              "      <th>Duration</th>\n",
              "    </tr>\n",
              "  </thead>\n",
              "  <tbody>\n",
              "    <tr>\n",
              "      <th>176</th>\n",
              "      <td>42</td>\n",
              "      <td>0</td>\n",
              "      <td>2</td>\n",
              "      <td>3</td>\n",
              "      <td>1</td>\n",
              "      <td>1</td>\n",
              "      <td>2577</td>\n",
              "      <td>12</td>\n",
              "    </tr>\n",
              "    <tr>\n",
              "      <th>177</th>\n",
              "      <td>52</td>\n",
              "      <td>0</td>\n",
              "      <td>2</td>\n",
              "      <td>3</td>\n",
              "      <td>3</td>\n",
              "      <td>1</td>\n",
              "      <td>338</td>\n",
              "      <td>6</td>\n",
              "    </tr>\n",
              "    <tr>\n",
              "      <th>179</th>\n",
              "      <td>65</td>\n",
              "      <td>0</td>\n",
              "      <td>2</td>\n",
              "      <td>3</td>\n",
              "      <td>1</td>\n",
              "      <td>1</td>\n",
              "      <td>571</td>\n",
              "      <td>21</td>\n",
              "    </tr>\n",
              "    <tr>\n",
              "      <th>181</th>\n",
              "      <td>30</td>\n",
              "      <td>0</td>\n",
              "      <td>3</td>\n",
              "      <td>3</td>\n",
              "      <td>1</td>\n",
              "      <td>2</td>\n",
              "      <td>4455</td>\n",
              "      <td>36</td>\n",
              "    </tr>\n",
              "    <tr>\n",
              "      <th>184</th>\n",
              "      <td>36</td>\n",
              "      <td>0</td>\n",
              "      <td>2</td>\n",
              "      <td>3</td>\n",
              "      <td>1</td>\n",
              "      <td>2</td>\n",
              "      <td>884</td>\n",
              "      <td>18</td>\n",
              "    </tr>\n",
              "  </tbody>\n",
              "</table>\n",
              "</div>"
            ],
            "text/plain": [
              "     Age  Sex  Job  ...  Checking account  Credit amount  Duration\n",
              "176   42    0    2  ...                 1           2577        12\n",
              "177   52    0    2  ...                 1            338         6\n",
              "179   65    0    2  ...                 1            571        21\n",
              "181   30    0    3  ...                 2           4455        36\n",
              "184   36    0    2  ...                 2            884        18\n",
              "\n",
              "[5 rows x 8 columns]"
            ]
          },
          "metadata": {
            "tags": []
          },
          "execution_count": 14
        }
      ]
    },
    {
      "cell_type": "code",
      "metadata": {
        "id": "xciip-NeHHjC",
        "colab_type": "code",
        "colab": {
          "base_uri": "https://localhost:8080/",
          "height": 34
        },
        "outputId": "f1cf3527-7ad4-4e3f-a0c7-7a80e9e062f6"
      },
      "source": [
        "y_train.shape"
      ],
      "execution_count": 15,
      "outputs": [
        {
          "output_type": "execute_result",
          "data": {
            "text/plain": [
              "(422,)"
            ]
          },
          "metadata": {
            "tags": []
          },
          "execution_count": 15
        }
      ]
    },
    {
      "cell_type": "code",
      "metadata": {
        "id": "iTgN9rwvqXxi",
        "colab_type": "code",
        "colab": {
          "base_uri": "https://localhost:8080/",
          "height": 34
        },
        "outputId": "d75c5d73-f5a6-4c0f-dbba-79162a95dab2"
      },
      "source": [
        "from sklearn.linear_model import LogisticRegression\n",
        "\n",
        "reg = LogisticRegression(max_iter=1000).fit(X_train, y_train)\n",
        "reg.score(X_test, y_test)"
      ],
      "execution_count": 16,
      "outputs": [
        {
          "output_type": "execute_result",
          "data": {
            "text/plain": [
              "0.74"
            ]
          },
          "metadata": {
            "tags": []
          },
          "execution_count": 16
        }
      ]
    },
    {
      "cell_type": "code",
      "metadata": {
        "id": "8IDM4zU5rPp1",
        "colab_type": "code",
        "colab": {
          "base_uri": "https://localhost:8080/",
          "height": 67
        },
        "outputId": "85b37a54-a117-4164-c877-f392dcfc1711"
      },
      "source": [
        "reg.coef_"
      ],
      "execution_count": 17,
      "outputs": [
        {
          "output_type": "execute_result",
          "data": {
            "text/plain": [
              "array([[ 1.06300591e-02, -2.03097161e-01, -1.00838726e-01,\n",
              "         1.26847670e-01,  2.37995428e-01,  2.60888932e-01,\n",
              "         5.30973633e-06, -4.72519297e-02]])"
            ]
          },
          "metadata": {
            "tags": []
          },
          "execution_count": 17
        }
      ]
    },
    {
      "cell_type": "code",
      "metadata": {
        "id": "mDbvoa1xL-LJ",
        "colab_type": "code",
        "colab": {
          "base_uri": "https://localhost:8080/",
          "height": 554
        },
        "outputId": "5700daa3-3978-4d9e-e6cb-868a4588e39d"
      },
      "source": [
        "!pip install sklego"
      ],
      "execution_count": 18,
      "outputs": [
        {
          "output_type": "stream",
          "text": [
            "Collecting sklego\n",
            "  Downloading https://files.pythonhosted.org/packages/c7/dc/d25da2d106a07371d4d0caa0490e7def5c9f4c0eb259e86cd51c6124bb51/sklego-0.0-py2.py3-none-any.whl\n",
            "Collecting scikit-lego\n",
            "\u001b[?25l  Downloading https://files.pythonhosted.org/packages/e4/94/1e2a7c59210b05035b3f577d4b35a1787e83756c931a129e6e9e7aa0ffdf/scikit_lego-0.5.0-py2.py3-none-any.whl (196kB)\n",
            "\u001b[K     |████████████████████████████████| 204kB 3.4MB/s \n",
            "\u001b[?25hRequirement already satisfied: pandas>=0.23.4 in /usr/local/lib/python3.6/dist-packages (from scikit-lego->sklego) (1.0.5)\n",
            "Requirement already satisfied: autograd>=1.2 in /usr/local/lib/python3.6/dist-packages (from scikit-lego->sklego) (1.3)\n",
            "Requirement already satisfied: scikit-learn>=0.20.2 in /usr/local/lib/python3.6/dist-packages (from scikit-lego->sklego) (0.22.2.post1)\n",
            "Requirement already satisfied: cvxpy>=1.0.24 in /usr/local/lib/python3.6/dist-packages (from scikit-lego->sklego) (1.0.31)\n",
            "Requirement already satisfied: numpy>=1.16.0 in /usr/local/lib/python3.6/dist-packages (from scikit-lego->sklego) (1.18.5)\n",
            "Requirement already satisfied: umap-learn>=0.4.3 in /usr/local/lib/python3.6/dist-packages (from scikit-lego->sklego) (0.4.4)\n",
            "Collecting Deprecated>=1.2.6\n",
            "  Downloading https://files.pythonhosted.org/packages/76/a1/05d7f62f956d77b23a640efc650f80ce24483aa2f85a09c03fb64f49e879/Deprecated-1.2.10-py2.py3-none-any.whl\n",
            "Requirement already satisfied: patsy>=0.5.1 in /usr/local/lib/python3.6/dist-packages (from scikit-lego->sklego) (0.5.1)\n",
            "Requirement already satisfied: scipy>=1.2.0 in /usr/local/lib/python3.6/dist-packages (from scikit-lego->sklego) (1.4.1)\n",
            "Requirement already satisfied: python-dateutil>=2.6.1 in /usr/local/lib/python3.6/dist-packages (from pandas>=0.23.4->scikit-lego->sklego) (2.8.1)\n",
            "Requirement already satisfied: pytz>=2017.2 in /usr/local/lib/python3.6/dist-packages (from pandas>=0.23.4->scikit-lego->sklego) (2018.9)\n",
            "Requirement already satisfied: future>=0.15.2 in /usr/local/lib/python3.6/dist-packages (from autograd>=1.2->scikit-lego->sklego) (0.16.0)\n",
            "Requirement already satisfied: joblib>=0.11 in /usr/local/lib/python3.6/dist-packages (from scikit-learn>=0.20.2->scikit-lego->sklego) (0.15.1)\n",
            "Requirement already satisfied: multiprocess in /usr/local/lib/python3.6/dist-packages (from cvxpy>=1.0.24->scikit-lego->sklego) (0.70.10)\n",
            "Requirement already satisfied: osqp>=0.4.1 in /usr/local/lib/python3.6/dist-packages (from cvxpy>=1.0.24->scikit-lego->sklego) (0.6.1)\n",
            "Requirement already satisfied: ecos>=2 in /usr/local/lib/python3.6/dist-packages (from cvxpy>=1.0.24->scikit-lego->sklego) (2.0.7.post1)\n",
            "Requirement already satisfied: scs>=1.1.3 in /usr/local/lib/python3.6/dist-packages (from cvxpy>=1.0.24->scikit-lego->sklego) (2.1.2)\n",
            "Requirement already satisfied: numba!=0.47,>=0.46 in /usr/local/lib/python3.6/dist-packages (from umap-learn>=0.4.3->scikit-lego->sklego) (0.48.0)\n",
            "Requirement already satisfied: tbb in /usr/local/lib/python3.6/dist-packages (from umap-learn>=0.4.3->scikit-lego->sklego) (2020.0.133)\n",
            "Requirement already satisfied: wrapt<2,>=1.10 in /usr/local/lib/python3.6/dist-packages (from Deprecated>=1.2.6->scikit-lego->sklego) (1.12.1)\n",
            "Requirement already satisfied: six in /usr/local/lib/python3.6/dist-packages (from patsy>=0.5.1->scikit-lego->sklego) (1.12.0)\n",
            "Requirement already satisfied: dill>=0.3.2 in /usr/local/lib/python3.6/dist-packages (from multiprocess->cvxpy>=1.0.24->scikit-lego->sklego) (0.3.2)\n",
            "Requirement already satisfied: setuptools in /usr/local/lib/python3.6/dist-packages (from numba!=0.47,>=0.46->umap-learn>=0.4.3->scikit-lego->sklego) (47.3.1)\n",
            "Requirement already satisfied: llvmlite<0.32.0,>=0.31.0dev0 in /usr/local/lib/python3.6/dist-packages (from numba!=0.47,>=0.46->umap-learn>=0.4.3->scikit-lego->sklego) (0.31.0)\n",
            "Installing collected packages: Deprecated, scikit-lego, sklego\n",
            "Successfully installed Deprecated-1.2.10 scikit-lego-0.5.0 sklego-0.0\n"
          ],
          "name": "stdout"
        }
      ]
    },
    {
      "cell_type": "markdown",
      "metadata": {
        "id": "F0UYt-eDrUwY",
        "colab_type": "text"
      },
      "source": [
        "Decidi utilizar duas métricas, a $\\text{p% score}$ e $\\text{equality of opportunity}$, definidas como:  "
      ]
    },
    {
      "cell_type": "markdown",
      "metadata": {
        "id": "E5v0F7QGi-sf",
        "colab_type": "text"
      },
      "source": [
        "$\\text{p% score}=\\min(\\frac{P(\\hat{y}=1|z=1)}{P(\\hat{y}=1|z=0)},\\frac{P(\\hat{y}=1|z=0)}{P(\\hat{y}=1|z=1))}$\n",
        "\n",
        "Membership in a protected class should have no correlation with the decision."
      ]
    },
    {
      "cell_type": "markdown",
      "metadata": {
        "id": "p39RoVCCiW5k",
        "colab_type": "text"
      },
      "source": [
        "$\\text{equality of opportunity}=\\min(\\frac{P(\\hat{y}=1|z=1,y=1)}{P(\\hat{y}=1|z=0,y=1)},\\frac{P(\\hat{y}=1|z=0,y=1)}{P(\\hat{y}=1|z=1,y=1)})$"
      ]
    },
    {
      "cell_type": "code",
      "metadata": {
        "id": "I_xUI9QOe9u0",
        "colab_type": "code",
        "colab": {
          "base_uri": "https://localhost:8080/",
          "height": 50
        },
        "outputId": "927e180a-b86e-4ad2-97c4-f04ef457b614"
      },
      "source": [
        "from sklego.metrics import equal_opportunity_score\n",
        "from sklego.metrics import p_percent_score\n",
        "\n",
        "print('equal_opportunity_score', equal_opportunity_score(sensitive_column=\"Sex\")(reg, X_test, y_test))\n",
        "print('p_percent_score:', p_percent_score(sensitive_column=\"Sex\")(reg, X_test))"
      ],
      "execution_count": 19,
      "outputs": [
        {
          "output_type": "stream",
          "text": [
            "equal_opportunity_score 0.9558823529411764\n",
            "p_percent_score: 0.75\n"
          ],
          "name": "stdout"
        }
      ]
    },
    {
      "cell_type": "code",
      "metadata": {
        "id": "P4zqpqUCGXO4",
        "colab_type": "code",
        "colab": {}
      },
      "source": [
        "def WeightedLogisticRegression(X, y, sex_weight, wC):\n",
        "  sample_weight = X.replace({'Sex': sex_weight})['Sex']\n",
        "  reg = LogisticRegression(max_iter=1000, C=wC).fit(X, y, sample_weight=sample_weight)\n",
        "  reg_score =  reg.score(X_test,y_test)\n",
        "  print('reg_score: ', reg_score)\n",
        "  equal_op_score = equal_opportunity_score(sensitive_column=\"Sex\")(reg, X_test, y_test)\n",
        "  print('equal_opportunity_score: ', equal_op_score)\n",
        "  p_perc_score = p_percent_score(sensitive_column=\"Sex\")(reg, X_test)\n",
        "  print('p_percent_score: ', p_perc_score)\n",
        "  return reg, reg_score, equal_op_score, p_perc_score"
      ],
      "execution_count": 20,
      "outputs": []
    },
    {
      "cell_type": "code",
      "metadata": {
        "id": "Zffo6vRstawT",
        "colab_type": "code",
        "colab": {
          "base_uri": "https://localhost:8080/",
          "height": 67
        },
        "outputId": "c1c80d27-fdd3-4cef-d56b-04e2fd93f38f"
      },
      "source": [
        "reg, reg_score, equal_op_score, p_perc_score = WeightedLogisticRegression(X_train, y_train, sex_weight={0: 0.1, 1: 0.9}, wC=1)"
      ],
      "execution_count": 21,
      "outputs": [
        {
          "output_type": "stream",
          "text": [
            "reg_score:  0.7\n",
            "equal_opportunity_score:  0.765\n",
            "p_percent_score:  0.6171428571428571\n"
          ],
          "name": "stdout"
        }
      ]
    },
    {
      "cell_type": "code",
      "metadata": {
        "id": "w748Eu9HWaCm",
        "colab_type": "code",
        "colab": {}
      },
      "source": [
        "weight_reg_score, weight_equal_op_score, weight_p_perc_score = 0,0,0\n",
        "best_weight = {0: 1, 1: 1}"
      ],
      "execution_count": 22,
      "outputs": []
    },
    {
      "cell_type": "code",
      "metadata": {
        "id": "zPZRWnEJdEVd",
        "colab_type": "code",
        "colab": {
          "base_uri": "https://localhost:8080/",
          "height": 1000
        },
        "outputId": "c1e1b3d3-ee38-4f42-c4fd-83527081cfd7"
      },
      "source": [
        "r = []\n",
        "for i in range(1,100):\n",
        "    sex_weight = {0:i/100, 1:(100-i)/100}\n",
        "    print('Weights', sex_weight)\n",
        "    reg, reg_score, equal_op_score, p_perc_score = WeightedLogisticRegression(X_train, y_train, sex_weight=sex_weight, wC=1)\n",
        "    if reg_score >= weight_reg_score and equal_op_score >= weight_equal_op_score and p_perc_score >= weight_p_perc_score:\n",
        "      weight_reg_score, weight_equal_op_score, weight_p_perc_score = reg_score, equal_op_score, p_perc_score\n",
        "      best_weight[0] = sex_weight[0]\n",
        "      best_weight[1] = sex_weight[1]\n",
        "    r.append([reg_score, equal_op_score, p_perc_score])\n",
        "    print()"
      ],
      "execution_count": 23,
      "outputs": [
        {
          "output_type": "stream",
          "text": [
            "Weights {0: 0.01, 1: 0.99}\n",
            "reg_score:  0.69\n",
            "equal_opportunity_score:  0.723404255319149\n",
            "p_percent_score:  0.5538461538461539\n",
            "\n",
            "Weights {0: 0.02, 1: 0.98}\n",
            "reg_score:  0.69\n",
            "equal_opportunity_score:  0.7116279069767442\n",
            "p_percent_score:  0.5413533834586466\n",
            "\n",
            "Weights {0: 0.03, 1: 0.97}\n",
            "reg_score:  0.7\n",
            "equal_opportunity_score:  0.68\n",
            "p_percent_score:  0.5665859564164649\n",
            "\n",
            "Weights {0: 0.04, 1: 0.96}\n",
            "reg_score:  0.69\n",
            "equal_opportunity_score:  0.765\n",
            "p_percent_score:  0.6050420168067226\n",
            "\n",
            "Weights {0: 0.05, 1: 0.95}\n",
            "reg_score:  0.69\n",
            "equal_opportunity_score:  0.8095238095238095\n",
            "p_percent_score:  0.5969387755102041\n",
            "\n",
            "Weights {0: 0.06, 1: 0.94}\n",
            "reg_score:  0.7\n",
            "equal_opportunity_score:  0.7285714285714285\n",
            "p_percent_score:  0.5714285714285714\n",
            "\n",
            "Weights {0: 0.07, 1: 0.93}\n",
            "reg_score:  0.71\n",
            "equal_opportunity_score:  0.8904761904761904\n",
            "p_percent_score:  0.6545454545454545\n",
            "\n",
            "Weights {0: 0.08, 1: 0.92}\n",
            "reg_score:  0.7\n",
            "equal_opportunity_score:  0.765\n",
            "p_percent_score:  0.6171428571428571\n",
            "\n",
            "Weights {0: 0.09, 1: 0.91}\n",
            "reg_score:  0.71\n",
            "equal_opportunity_score:  0.7285714285714285\n",
            "p_percent_score:  0.582210242587601\n",
            "\n",
            "Weights {0: 0.1, 1: 0.9}\n",
            "reg_score:  0.7\n",
            "equal_opportunity_score:  0.765\n",
            "p_percent_score:  0.6171428571428571\n",
            "\n",
            "Weights {0: 0.11, 1: 0.89}\n",
            "reg_score:  0.69\n",
            "equal_opportunity_score:  0.765\n",
            "p_percent_score:  0.6685714285714286\n",
            "\n",
            "Weights {0: 0.12, 1: 0.88}\n",
            "reg_score:  0.71\n",
            "equal_opportunity_score:  0.7285714285714285\n",
            "p_percent_score:  0.582210242587601\n",
            "\n",
            "Weights {0: 0.13, 1: 0.87}\n",
            "reg_score:  0.68\n",
            "equal_opportunity_score:  0.7846153846153846\n",
            "p_percent_score:  0.6822157434402333\n",
            "\n",
            "Weights {0: 0.14, 1: 0.86}\n",
            "reg_score:  0.67\n",
            "equal_opportunity_score:  0.7846153846153846\n",
            "p_percent_score:  0.6685714285714286\n",
            "\n",
            "Weights {0: 0.15, 1: 0.85}\n",
            "reg_score:  0.71\n",
            "equal_opportunity_score:  0.7285714285714285\n",
            "p_percent_score:  0.582210242587601\n",
            "\n",
            "Weights {0: 0.16, 1: 0.84}\n",
            "reg_score:  0.72\n",
            "equal_opportunity_score:  0.8095238095238095\n",
            "p_percent_score:  0.6307277628032345\n",
            "\n",
            "Weights {0: 0.17, 1: 0.83}\n",
            "reg_score:  0.71\n",
            "equal_opportunity_score:  0.8292682926829268\n",
            "p_percent_score:  0.6428571428571429\n",
            "\n",
            "Weights {0: 0.18, 1: 0.82}\n",
            "reg_score:  0.71\n",
            "equal_opportunity_score:  0.8292682926829268\n",
            "p_percent_score:  0.6428571428571429\n",
            "\n",
            "Weights {0: 0.19, 1: 0.81}\n",
            "reg_score:  0.7\n",
            "equal_opportunity_score:  0.958974358974359\n",
            "p_percent_score:  0.7871720116618075\n",
            "\n",
            "Weights {0: 0.2, 1: 0.8}\n",
            "reg_score:  0.72\n",
            "equal_opportunity_score:  0.9121951219512194\n",
            "p_percent_score:  0.6923076923076923\n",
            "\n",
            "Weights {0: 0.21, 1: 0.79}\n",
            "reg_score:  0.72\n",
            "equal_opportunity_score:  0.9121951219512194\n",
            "p_percent_score:  0.6923076923076923\n",
            "\n",
            "Weights {0: 0.22, 1: 0.78}\n",
            "reg_score:  0.72\n",
            "equal_opportunity_score:  0.8823529411764705\n",
            "p_percent_score:  0.9642857142857144\n",
            "\n",
            "Weights {0: 0.23, 1: 0.77}\n",
            "reg_score:  0.68\n",
            "equal_opportunity_score:  0.8717948717948718\n",
            "p_percent_score:  0.72\n",
            "\n",
            "Weights {0: 0.24, 1: 0.76}\n",
            "reg_score:  0.72\n",
            "equal_opportunity_score:  0.8823529411764705\n",
            "p_percent_score:  0.9642857142857144\n",
            "\n",
            "Weights {0: 0.25, 1: 0.75}\n",
            "reg_score:  0.69\n",
            "equal_opportunity_score:  0.958974358974359\n",
            "p_percent_score:  0.7714285714285715\n",
            "\n",
            "Weights {0: 0.26, 1: 0.74}\n",
            "reg_score:  0.71\n",
            "equal_opportunity_score:  0.8823529411764705\n",
            "p_percent_score:  0.9446064139941691\n",
            "\n",
            "Weights {0: 0.27, 1: 0.73}\n",
            "reg_score:  0.73\n",
            "equal_opportunity_score:  0.9951219512195122\n",
            "p_percent_score:  0.7417582417582418\n",
            "\n",
            "Weights {0: 0.28, 1: 0.72}\n",
            "reg_score:  0.7\n",
            "equal_opportunity_score:  0.9558823529411764\n",
            "p_percent_score:  0.8228571428571428\n",
            "\n",
            "Weights {0: 0.29, 1: 0.71}\n",
            "reg_score:  0.72\n",
            "equal_opportunity_score:  0.9558823529411764\n",
            "p_percent_score:  0.7871720116618075\n",
            "\n",
            "Weights {0: 0.3, 1: 0.7}\n",
            "reg_score:  0.72\n",
            "equal_opportunity_score:  0.9558823529411764\n",
            "p_percent_score:  0.7871720116618075\n",
            "\n",
            "Weights {0: 0.31, 1: 0.69}\n",
            "reg_score:  0.72\n",
            "equal_opportunity_score:  0.9558823529411764\n",
            "p_percent_score:  0.7871720116618075\n",
            "\n",
            "Weights {0: 0.32, 1: 0.68}\n",
            "reg_score:  0.74\n",
            "equal_opportunity_score:  0.9803921568627451\n",
            "p_percent_score:  0.7871720116618075\n",
            "\n",
            "Weights {0: 0.33, 1: 0.67}\n",
            "reg_score:  0.74\n",
            "equal_opportunity_score:  0.9803921568627451\n",
            "p_percent_score:  0.72\n",
            "\n",
            "Weights {0: 0.34, 1: 0.66}\n",
            "reg_score:  0.7\n",
            "equal_opportunity_score:  0.8823529411764705\n",
            "p_percent_score:  0.9970845481049563\n",
            "\n",
            "Weights {0: 0.35, 1: 0.65}\n",
            "reg_score:  0.72\n",
            "equal_opportunity_score:  0.9558823529411764\n",
            "p_percent_score:  0.7871720116618075\n",
            "\n",
            "Weights {0: 0.36, 1: 0.64}\n",
            "reg_score:  0.74\n",
            "equal_opportunity_score:  0.9803921568627451\n",
            "p_percent_score:  0.72\n",
            "\n",
            "Weights {0: 0.37, 1: 0.63}\n",
            "reg_score:  0.73\n",
            "equal_opportunity_score:  0.9349999999999999\n",
            "p_percent_score:  0.6685714285714286\n",
            "\n",
            "Weights {0: 0.38, 1: 0.62}\n",
            "reg_score:  0.74\n",
            "equal_opportunity_score:  0.9803921568627451\n",
            "p_percent_score:  0.72\n",
            "\n",
            "Weights {0: 0.39, 1: 0.61}\n",
            "reg_score:  0.73\n",
            "equal_opportunity_score:  0.9558823529411764\n",
            "p_percent_score:  0.7346938775510203\n",
            "\n",
            "Weights {0: 0.4, 1: 0.6}\n",
            "reg_score:  0.73\n",
            "equal_opportunity_score:  0.9558823529411764\n",
            "p_percent_score:  0.8035714285714286\n",
            "\n",
            "Weights {0: 0.41, 1: 0.59}\n",
            "reg_score:  0.73\n",
            "equal_opportunity_score:  0.9558823529411764\n",
            "p_percent_score:  0.7346938775510203\n",
            "\n",
            "Weights {0: 0.42, 1: 0.58}\n",
            "reg_score:  0.74\n",
            "equal_opportunity_score:  0.9558823529411764\n",
            "p_percent_score:  0.75\n",
            "\n",
            "Weights {0: 0.43, 1: 0.57}\n",
            "reg_score:  0.74\n",
            "equal_opportunity_score:  0.9558823529411764\n",
            "p_percent_score:  0.75\n",
            "\n",
            "Weights {0: 0.44, 1: 0.56}\n",
            "reg_score:  0.72\n",
            "equal_opportunity_score:  0.958974358974359\n",
            "p_percent_score:  0.6822157434402333\n",
            "\n",
            "Weights {0: 0.45, 1: 0.55}\n",
            "reg_score:  0.74\n",
            "equal_opportunity_score:  0.9558823529411764\n",
            "p_percent_score:  0.75\n",
            "\n",
            "Weights {0: 0.46, 1: 0.54}\n",
            "reg_score:  0.74\n",
            "equal_opportunity_score:  0.9558823529411764\n",
            "p_percent_score:  0.75\n",
            "\n",
            "Weights {0: 0.47, 1: 0.53}\n",
            "reg_score:  0.74\n",
            "equal_opportunity_score:  0.9558823529411764\n",
            "p_percent_score:  0.75\n",
            "\n",
            "Weights {0: 0.48, 1: 0.52}\n",
            "reg_score:  0.74\n",
            "equal_opportunity_score:  0.9558823529411764\n",
            "p_percent_score:  0.75\n",
            "\n",
            "Weights {0: 0.49, 1: 0.51}\n",
            "reg_score:  0.72\n",
            "equal_opportunity_score:  0.958974358974359\n",
            "p_percent_score:  0.6822157434402333\n",
            "\n",
            "Weights {0: 0.5, 1: 0.5}\n",
            "reg_score:  0.74\n",
            "equal_opportunity_score:  0.9558823529411764\n",
            "p_percent_score:  0.75\n",
            "\n",
            "Weights {0: 0.51, 1: 0.49}\n",
            "reg_score:  0.74\n",
            "equal_opportunity_score:  0.9558823529411764\n",
            "p_percent_score:  0.75\n",
            "\n",
            "Weights {0: 0.52, 1: 0.48}\n",
            "reg_score:  0.73\n",
            "equal_opportunity_score:  0.9558823529411764\n",
            "p_percent_score:  0.8035714285714286\n",
            "\n",
            "Weights {0: 0.53, 1: 0.47}\n",
            "reg_score:  0.73\n",
            "equal_opportunity_score:  0.9558823529411764\n",
            "p_percent_score:  0.8035714285714286\n",
            "\n",
            "Weights {0: 0.54, 1: 0.46}\n",
            "reg_score:  0.73\n",
            "equal_opportunity_score:  0.9558823529411764\n",
            "p_percent_score:  0.8035714285714286\n",
            "\n",
            "Weights {0: 0.55, 1: 0.45}\n",
            "reg_score:  0.73\n",
            "equal_opportunity_score:  0.9558823529411764\n",
            "p_percent_score:  0.8035714285714286\n",
            "\n",
            "Weights {0: 0.56, 1: 0.44}\n",
            "reg_score:  0.73\n",
            "equal_opportunity_score:  0.9558823529411764\n",
            "p_percent_score:  0.8035714285714286\n",
            "\n",
            "Weights {0: 0.57, 1: 0.43}\n",
            "reg_score:  0.72\n",
            "equal_opportunity_score:  0.9558823529411764\n",
            "p_percent_score:  0.8571428571428571\n",
            "\n",
            "Weights {0: 0.58, 1: 0.42}\n",
            "reg_score:  0.72\n",
            "equal_opportunity_score:  0.9558823529411764\n",
            "p_percent_score:  0.8571428571428571\n",
            "\n",
            "Weights {0: 0.59, 1: 0.41}\n",
            "reg_score:  0.7\n",
            "equal_opportunity_score:  0.9049773755656109\n",
            "p_percent_score:  0.9722222222222222\n",
            "\n",
            "Weights {0: 0.6, 1: 0.4}\n",
            "reg_score:  0.7\n",
            "equal_opportunity_score:  0.9049773755656109\n",
            "p_percent_score:  0.9722222222222222\n",
            "\n",
            "Weights {0: 0.61, 1: 0.39}\n",
            "reg_score:  0.73\n",
            "equal_opportunity_score:  0.958974358974359\n",
            "p_percent_score:  0.6964285714285715\n",
            "\n",
            "Weights {0: 0.62, 1: 0.38}\n",
            "reg_score:  0.72\n",
            "equal_opportunity_score:  0.9558823529411764\n",
            "p_percent_score:  0.8571428571428571\n",
            "\n",
            "Weights {0: 0.63, 1: 0.37}\n",
            "reg_score:  0.73\n",
            "equal_opportunity_score:  0.958974358974359\n",
            "p_percent_score:  0.6964285714285715\n",
            "\n",
            "Weights {0: 0.64, 1: 0.36}\n",
            "reg_score:  0.73\n",
            "equal_opportunity_score:  0.958974358974359\n",
            "p_percent_score:  0.6964285714285715\n",
            "\n",
            "Weights {0: 0.65, 1: 0.35}\n",
            "reg_score:  0.72\n",
            "equal_opportunity_score:  0.9558823529411764\n",
            "p_percent_score:  0.8571428571428571\n",
            "\n",
            "Weights {0: 0.66, 1: 0.34}\n",
            "reg_score:  0.72\n",
            "equal_opportunity_score:  0.9558823529411764\n",
            "p_percent_score:  0.8571428571428571\n",
            "\n",
            "Weights {0: 0.67, 1: 0.33}\n",
            "reg_score:  0.7\n",
            "equal_opportunity_score:  0.9049773755656109\n",
            "p_percent_score:  0.9722222222222222\n",
            "\n",
            "Weights {0: 0.68, 1: 0.32}\n",
            "reg_score:  0.73\n",
            "equal_opportunity_score:  0.958974358974359\n",
            "p_percent_score:  0.6964285714285715\n",
            "\n",
            "Weights {0: 0.69, 1: 0.31}\n",
            "reg_score:  0.72\n",
            "equal_opportunity_score:  0.9558823529411764\n",
            "p_percent_score:  0.8571428571428571\n",
            "\n",
            "Weights {0: 0.7, 1: 0.3}\n",
            "reg_score:  0.73\n",
            "equal_opportunity_score:  0.958974358974359\n",
            "p_percent_score:  0.6964285714285715\n",
            "\n",
            "Weights {0: 0.71, 1: 0.29}\n",
            "reg_score:  0.72\n",
            "equal_opportunity_score:  0.9558823529411764\n",
            "p_percent_score:  0.8571428571428571\n",
            "\n",
            "Weights {0: 0.72, 1: 0.28}\n",
            "reg_score:  0.7\n",
            "equal_opportunity_score:  0.9049773755656109\n",
            "p_percent_score:  0.9722222222222222\n",
            "\n",
            "Weights {0: 0.73, 1: 0.27}\n",
            "reg_score:  0.71\n",
            "equal_opportunity_score:  0.9558823529411764\n",
            "p_percent_score:  0.9107142857142857\n",
            "\n",
            "Weights {0: 0.74, 1: 0.26}\n",
            "reg_score:  0.73\n",
            "equal_opportunity_score:  0.958974358974359\n",
            "p_percent_score:  0.6964285714285715\n",
            "\n",
            "Weights {0: 0.75, 1: 0.25}\n",
            "reg_score:  0.7\n",
            "equal_opportunity_score:  0.9049773755656109\n",
            "p_percent_score:  0.9722222222222222\n",
            "\n",
            "Weights {0: 0.76, 1: 0.24}\n",
            "reg_score:  0.7\n",
            "equal_opportunity_score:  0.9049773755656109\n",
            "p_percent_score:  0.9722222222222222\n",
            "\n",
            "Weights {0: 0.77, 1: 0.23}\n",
            "reg_score:  0.74\n",
            "equal_opportunity_score:  0.9349999999999999\n",
            "p_percent_score:  0.6822157434402333\n",
            "\n",
            "Weights {0: 0.78, 1: 0.22}\n",
            "reg_score:  0.72\n",
            "equal_opportunity_score:  0.8823529411764705\n",
            "p_percent_score:  0.9642857142857144\n",
            "\n",
            "Weights {0: 0.79, 1: 0.21}\n",
            "reg_score:  0.71\n",
            "equal_opportunity_score:  0.8823529411764705\n",
            "p_percent_score:  0.9824561403508771\n",
            "\n",
            "Weights {0: 0.8, 1: 0.2}\n",
            "reg_score:  0.74\n",
            "equal_opportunity_score:  0.9349999999999999\n",
            "p_percent_score:  0.6822157434402333\n",
            "\n",
            "Weights {0: 0.81, 1: 0.19}\n",
            "reg_score:  0.71\n",
            "equal_opportunity_score:  0.8823529411764705\n",
            "p_percent_score:  0.9824561403508771\n",
            "\n",
            "Weights {0: 0.82, 1: 0.18}\n",
            "reg_score:  0.7\n",
            "equal_opportunity_score:  0.9049773755656109\n",
            "p_percent_score:  0.9722222222222222\n",
            "\n",
            "Weights {0: 0.83, 1: 0.17}\n",
            "reg_score:  0.74\n",
            "equal_opportunity_score:  0.9349999999999999\n",
            "p_percent_score:  0.6822157434402333\n",
            "\n",
            "Weights {0: 0.84, 1: 0.16}\n",
            "reg_score:  0.7\n",
            "equal_opportunity_score:  0.9049773755656109\n",
            "p_percent_score:  0.9722222222222222\n",
            "\n",
            "Weights {0: 0.85, 1: 0.15}\n",
            "reg_score:  0.73\n",
            "equal_opportunity_score:  0.9349999999999999\n",
            "p_percent_score:  0.7346938775510203\n",
            "\n",
            "Weights {0: 0.86, 1: 0.14}\n",
            "reg_score:  0.72\n",
            "equal_opportunity_score:  0.9049773755656109\n",
            "p_percent_score:  0.9970845481049563\n",
            "\n",
            "Weights {0: 0.87, 1: 0.13}\n",
            "reg_score:  0.71\n",
            "equal_opportunity_score:  0.9276018099547512\n",
            "p_percent_score:  0.9916666666666667\n",
            "\n",
            "Weights {0: 0.88, 1: 0.12}\n",
            "reg_score:  0.73\n",
            "equal_opportunity_score:  0.9349999999999999\n",
            "p_percent_score:  0.7346938775510203\n",
            "\n",
            "Weights {0: 0.89, 1: 0.11}\n",
            "reg_score:  0.72\n",
            "equal_opportunity_score:  0.9049773755656109\n",
            "p_percent_score:  0.9970845481049563\n",
            "\n",
            "Weights {0: 0.9, 1: 0.1}\n",
            "reg_score:  0.72\n",
            "equal_opportunity_score:  0.9049773755656109\n",
            "p_percent_score:  0.9970845481049563\n",
            "\n",
            "Weights {0: 0.91, 1: 0.09}\n",
            "reg_score:  0.72\n",
            "equal_opportunity_score:  0.9049773755656109\n",
            "p_percent_score:  0.9970845481049563\n",
            "\n",
            "Weights {0: 0.92, 1: 0.08}\n",
            "reg_score:  0.72\n",
            "equal_opportunity_score:  0.9049773755656109\n",
            "p_percent_score:  0.9970845481049563\n",
            "\n",
            "Weights {0: 0.93, 1: 0.07}\n",
            "reg_score:  0.72\n",
            "equal_opportunity_score:  0.9049773755656109\n",
            "p_percent_score:  0.9970845481049563\n",
            "\n",
            "Weights {0: 0.94, 1: 0.06}\n",
            "reg_score:  0.72\n",
            "equal_opportunity_score:  0.9049773755656109\n",
            "p_percent_score:  0.9970845481049563\n",
            "\n",
            "Weights {0: 0.95, 1: 0.05}\n",
            "reg_score:  0.71\n",
            "equal_opportunity_score:  0.9276018099547512\n",
            "p_percent_score:  0.9916666666666667\n",
            "\n",
            "Weights {0: 0.96, 1: 0.04}\n",
            "reg_score:  0.72\n",
            "equal_opportunity_score:  0.9049773755656109\n",
            "p_percent_score:  0.9970845481049563\n",
            "\n",
            "Weights {0: 0.97, 1: 0.03}\n",
            "reg_score:  0.72\n",
            "equal_opportunity_score:  0.9049773755656109\n",
            "p_percent_score:  0.9970845481049563\n",
            "\n",
            "Weights {0: 0.98, 1: 0.02}\n",
            "reg_score:  0.72\n",
            "equal_opportunity_score:  0.9049773755656109\n",
            "p_percent_score:  0.9970845481049563\n",
            "\n",
            "Weights {0: 0.99, 1: 0.01}\n",
            "reg_score:  0.72\n",
            "equal_opportunity_score:  0.9049773755656109\n",
            "p_percent_score:  0.9970845481049563\n",
            "\n"
          ],
          "name": "stdout"
        }
      ]
    },
    {
      "cell_type": "code",
      "metadata": {
        "id": "qBtEwhdQj3rA",
        "colab_type": "code",
        "colab": {}
      },
      "source": [
        "metrics = pd.DataFrame(data=r, columns=[\"Regression score\", \"Equal oportunity score\", 'P percent score'])"
      ],
      "execution_count": 24,
      "outputs": []
    },
    {
      "cell_type": "code",
      "metadata": {
        "id": "i6nIRWyckNnp",
        "colab_type": "code",
        "colab": {
          "base_uri": "https://localhost:8080/",
          "height": 402
        },
        "outputId": "39d7ba95-140c-4453-fd84-7f65f393d0fa"
      },
      "source": [
        "metrics"
      ],
      "execution_count": 25,
      "outputs": [
        {
          "output_type": "execute_result",
          "data": {
            "text/html": [
              "<div>\n",
              "<style scoped>\n",
              "    .dataframe tbody tr th:only-of-type {\n",
              "        vertical-align: middle;\n",
              "    }\n",
              "\n",
              "    .dataframe tbody tr th {\n",
              "        vertical-align: top;\n",
              "    }\n",
              "\n",
              "    .dataframe thead th {\n",
              "        text-align: right;\n",
              "    }\n",
              "</style>\n",
              "<table border=\"1\" class=\"dataframe\">\n",
              "  <thead>\n",
              "    <tr style=\"text-align: right;\">\n",
              "      <th></th>\n",
              "      <th>Regression score</th>\n",
              "      <th>Equal oportunity score</th>\n",
              "      <th>P percent score</th>\n",
              "    </tr>\n",
              "  </thead>\n",
              "  <tbody>\n",
              "    <tr>\n",
              "      <th>0</th>\n",
              "      <td>0.69</td>\n",
              "      <td>0.723404</td>\n",
              "      <td>0.553846</td>\n",
              "    </tr>\n",
              "    <tr>\n",
              "      <th>1</th>\n",
              "      <td>0.69</td>\n",
              "      <td>0.711628</td>\n",
              "      <td>0.541353</td>\n",
              "    </tr>\n",
              "    <tr>\n",
              "      <th>2</th>\n",
              "      <td>0.70</td>\n",
              "      <td>0.680000</td>\n",
              "      <td>0.566586</td>\n",
              "    </tr>\n",
              "    <tr>\n",
              "      <th>3</th>\n",
              "      <td>0.69</td>\n",
              "      <td>0.765000</td>\n",
              "      <td>0.605042</td>\n",
              "    </tr>\n",
              "    <tr>\n",
              "      <th>4</th>\n",
              "      <td>0.69</td>\n",
              "      <td>0.809524</td>\n",
              "      <td>0.596939</td>\n",
              "    </tr>\n",
              "    <tr>\n",
              "      <th>...</th>\n",
              "      <td>...</td>\n",
              "      <td>...</td>\n",
              "      <td>...</td>\n",
              "    </tr>\n",
              "    <tr>\n",
              "      <th>94</th>\n",
              "      <td>0.71</td>\n",
              "      <td>0.927602</td>\n",
              "      <td>0.991667</td>\n",
              "    </tr>\n",
              "    <tr>\n",
              "      <th>95</th>\n",
              "      <td>0.72</td>\n",
              "      <td>0.904977</td>\n",
              "      <td>0.997085</td>\n",
              "    </tr>\n",
              "    <tr>\n",
              "      <th>96</th>\n",
              "      <td>0.72</td>\n",
              "      <td>0.904977</td>\n",
              "      <td>0.997085</td>\n",
              "    </tr>\n",
              "    <tr>\n",
              "      <th>97</th>\n",
              "      <td>0.72</td>\n",
              "      <td>0.904977</td>\n",
              "      <td>0.997085</td>\n",
              "    </tr>\n",
              "    <tr>\n",
              "      <th>98</th>\n",
              "      <td>0.72</td>\n",
              "      <td>0.904977</td>\n",
              "      <td>0.997085</td>\n",
              "    </tr>\n",
              "  </tbody>\n",
              "</table>\n",
              "<p>99 rows × 3 columns</p>\n",
              "</div>"
            ],
            "text/plain": [
              "    Regression score  Equal oportunity score  P percent score\n",
              "0               0.69                0.723404         0.553846\n",
              "1               0.69                0.711628         0.541353\n",
              "2               0.70                0.680000         0.566586\n",
              "3               0.69                0.765000         0.605042\n",
              "4               0.69                0.809524         0.596939\n",
              "..               ...                     ...              ...\n",
              "94              0.71                0.927602         0.991667\n",
              "95              0.72                0.904977         0.997085\n",
              "96              0.72                0.904977         0.997085\n",
              "97              0.72                0.904977         0.997085\n",
              "98              0.72                0.904977         0.997085\n",
              "\n",
              "[99 rows x 3 columns]"
            ]
          },
          "metadata": {
            "tags": []
          },
          "execution_count": 25
        }
      ]
    },
    {
      "cell_type": "code",
      "metadata": {
        "id": "BZYs0puykpXG",
        "colab_type": "code",
        "colab": {
          "base_uri": "https://localhost:8080/",
          "height": 429
        },
        "outputId": "c3a0dd92-5bb2-49a4-fad5-443441e0d5e1"
      },
      "source": [
        "import matplotlib.pyplot as plt\n",
        "\n",
        "plt.figure(num=None, figsize=(8, 6), dpi=80, facecolor='w', edgecolor='k')\n",
        "\n",
        "plt.plot(metrics['Regression score'], label = \"Regression score\")\n",
        "plt.plot(metrics['Equal oportunity score'], label = \"Equal oportunity score\")\n",
        "plt.plot(metrics['P percent score'], label = \"P percent score\")\n",
        "\n",
        "plt.title('Metrics given the weights')\n",
        "plt.legend()\n",
        "plt.show()"
      ],
      "execution_count": 26,
      "outputs": [
        {
          "output_type": "display_data",
          "data": {
            "image/png": "[encoded data removed]",
            "text/plain": [
              "<Figure size 640x480 with 1 Axes>"
            ]
          },
          "metadata": {
            "tags": []
          }
        }
      ]
    },
    {
      "cell_type": "code",
      "metadata": {
        "id": "YoC4fPfbXOym",
        "colab_type": "code",
        "colab": {
          "base_uri": "https://localhost:8080/",
          "height": 84
        },
        "outputId": "396e6ca8-bfda-4eca-cd8c-66604542cacf"
      },
      "source": [
        "print(\"best_weight: \", best_weight)\n",
        "print('reg_score: ', weight_reg_score)\n",
        "print('equal_opportunity_score: ',weight_equal_op_score)\n",
        "print('p_percent_score: ', weight_p_perc_score)"
      ],
      "execution_count": 27,
      "outputs": [
        {
          "output_type": "stream",
          "text": [
            "best_weight:  {0: 0.27, 1: 0.73}\n",
            "reg_score:  0.73\n",
            "equal_opportunity_score:  0.9951219512195122\n",
            "p_percent_score:  0.7417582417582418\n"
          ],
          "name": "stdout"
        }
      ]
    },
    {
      "cell_type": "markdown",
      "metadata": {
        "id": "vbwJduTnEQ9x",
        "colab_type": "text"
      },
      "source": [
        "## Parte 2: Outros modelos de Fairness"
      ]
    },
    {
      "cell_type": "markdown",
      "metadata": {
        "id": "OWFyG9ueEmSS",
        "colab_type": "text"
      },
      "source": [
        "### Modelo 1: Reweighing\n",
        "\n",
        "Sendo $D$ o dataset, $S$ um atributo sensível, $b \\in dom(S)$ e $C$ um classificador, é definida a discriminação do classificador como:\n",
        "\n",
        "$$disc_{S=b}(C),D := \\frac{|\\{X\\in D|X(S)=w,C(X)=+\\}|}{|\\{X \\in D|X(S)=w\\}|}-\\frac{|\\{X\\in D|X(S)=b,C(X)=+\\}|}{|\\{X \\in D|X(S)=b\\}|}$$\n",
        "\n",
        "Assim, calcula-se os pesos:\n",
        "\n",
        "$$W(s,c) := \\frac{|\\{X \\in D|X(Class)=c\\}|\\times |\\{X \\in D| X(S)=s\\}|}{|D|\\times |\\{X \\in D|X(Class)=c \\text{ and } X(S)=s\\}|}$$\n",
        "\n",
        "E então cria-se um novo dataset $D_W$, que contém o peso $W$ para cada dado do dataset original $D$:\n",
        "\n",
        "$$D_W := \\{(X, W(X(S),X(Class))| X\\in D\\}$$\n",
        "\n",
        "Utiliza-se $W$ no treinamento."
      ]
    },
    {
      "cell_type": "code",
      "metadata": {
        "id": "MzBlL-BpEP5z",
        "colab_type": "code",
        "colab": {}
      },
      "source": [
        "def calc_W(X):\n",
        "  W = {}\n",
        "  W[0] = {}\n",
        "  W[1] = {}\n",
        "\n",
        "  D = len(X)\n",
        "  len_men = X.groupby('Sex').count()['Age'][0]\n",
        "  len_women = X.groupby('Sex').count()['Age'][1]\n",
        "  len_neg = X.groupby(\"Risk\").count()['Age'][-1]\n",
        "  len_pos = X.groupby(\"Risk\").count()['Age'][1]\n",
        "  len_men_pos = len(X[(X.Sex == 0) & (X.Risk == 1)])\n",
        "  len_men_neg = len(X[(X.Sex == 0) & (X.Risk == -1)])\n",
        "  len_women_pos = len(X[(X.Sex == 1) & (X.Risk == 1)])\n",
        "  len_women_neg = len(X[(X.Sex == 1) & (X.Risk == -1)])\n",
        "\n",
        "  W[0][1] = (len_men*len_pos)/(D*len_men_pos)\n",
        "  W[0][-1] = (len_men*len_neg)/(D*len_men_neg)\n",
        "\n",
        "  W[1][1] = (len_women*len_pos)/(D*len_women_pos)\n",
        "  W[1][-1] = (len_women*len_neg)/(D*len_women_neg)\n",
        "\n",
        "  return W"
      ],
      "execution_count": 28,
      "outputs": []
    },
    {
      "cell_type": "code",
      "metadata": {
        "id": "sQoA4PO6049D",
        "colab_type": "code",
        "colab": {
          "base_uri": "https://localhost:8080/",
          "height": 50
        },
        "outputId": "ed3c3313-2049-466e-c000-c76c12cc70d3"
      },
      "source": [
        "W = calc_W(numerical_data.iloc[100:, :])\n",
        "W"
      ],
      "execution_count": 29,
      "outputs": [
        {
          "output_type": "execute_result",
          "data": {
            "text/plain": [
              "{0: {-1: 1.0284730450236967, 1: 0.9763340924478365},\n",
              " 1: {-1: 0.9471804382169104, 1: 1.0513316868032843}}"
            ]
          },
          "metadata": {
            "tags": []
          },
          "execution_count": 29
        }
      ]
    },
    {
      "cell_type": "code",
      "metadata": {
        "id": "cNjeU3Rs1tCh",
        "colab_type": "code",
        "colab": {}
      },
      "source": [
        "def ReweightedLogisticRegression(D):\n",
        "  # Find weights W\n",
        "  W = calc_W(D)\n",
        "\n",
        "  # Separate data into X and y\n",
        "  X = D.drop(['Risk'], axis=1)\n",
        "  y = D[\"Risk\"]\n",
        "\n",
        "  # \n",
        "  sample_weight = []\n",
        "  for index, row in D.iterrows():\n",
        "    sample_weight.append(W[row['Sex']][row['Risk']])\n",
        "\n",
        "\n",
        "  # Runs regression\n",
        "  reg = LogisticRegression(max_iter=1000).fit(X, y, sample_weight=sample_weight)\n",
        "\n",
        "  # Get scores\n",
        "  reg_score =  reg.score(X_test,y_test)\n",
        "  print('reg_score: ', reg_score)\n",
        "\n",
        "  equal_op_score = equal_opportunity_score(sensitive_column=\"Sex\")(reg, X_test, y_test)\n",
        "  print('equal_opportunity_score: ', equal_op_score)\n",
        "\n",
        "  p_perc_score = p_percent_score(sensitive_column=\"Sex\")(reg, X_test)\n",
        "  print('p_percent_score: ', p_perc_score)\n",
        "\n",
        "  return reg, reg_score, equal_op_score, p_perc_score"
      ],
      "execution_count": 30,
      "outputs": []
    },
    {
      "cell_type": "code",
      "metadata": {
        "id": "gYxTb9tb2iT8",
        "colab_type": "code",
        "colab": {
          "base_uri": "https://localhost:8080/",
          "height": 67
        },
        "outputId": "44d302f0-6c98-4902-a675-8e01c680afd0"
      },
      "source": [
        "reg, reweighing_reg_score, reweighing_equal_op_score, reweighing_p_perc_score = ReweightedLogisticRegression(numerical_data.iloc[100:, :])"
      ],
      "execution_count": 31,
      "outputs": [
        {
          "output_type": "stream",
          "text": [
            "reg_score:  0.69\n",
            "equal_opportunity_score:  0.8823529411764705\n",
            "p_percent_score:  0.9527777777777778\n"
          ],
          "name": "stdout"
        }
      ]
    },
    {
      "cell_type": "code",
      "metadata": {
        "id": "52bPV4yL30h3",
        "colab_type": "code",
        "colab": {
          "base_uri": "https://localhost:8080/",
          "height": 298
        },
        "outputId": "7bb3eff7-f4a4-4f04-9b63-9c35082ffbfd"
      },
      "source": [
        "plt.bar([\"Regression score\", \"Equal oportunity score\", \"P percent score\"],[reweighing_reg_score, reweighing_equal_op_score, reweighing_p_perc_score])\n",
        "\n",
        "plt.title('Metrics using Reweighing')\n",
        "plt.legend()\n",
        "plt.show()"
      ],
      "execution_count": 32,
      "outputs": [
        {
          "output_type": "stream",
          "text": [
            "No handles with labels found to put in legend.\n"
          ],
          "name": "stderr"
        },
        {
          "output_type": "display_data",
          "data": {
            "image/png": "[encoded data removed]",
            "text/plain": [
              "<Figure size 432x288 with 1 Axes>"
            ]
          },
          "metadata": {
            "tags": [],
            "needs_background": "light"
          }
        }
      ]
    },
    {
      "cell_type": "code",
      "metadata": {
        "id": "B6FerJB37yGk",
        "colab_type": "code",
        "colab": {}
      },
      "source": [
        ""
      ],
      "execution_count": 32,
      "outputs": []
    },
    {
      "cell_type": "markdown",
      "metadata": {
        "id": "dVSYkBzIE5er",
        "colab_type": "text"
      },
      "source": [
        "### Modelo 2: Information Filter"
      ]
    },
    {
      "cell_type": "code",
      "metadata": {
        "id": "3gnn9sGQ_efJ",
        "colab_type": "code",
        "colab": {}
      },
      "source": [
        "from sklego.preprocessing import InformationFilter\n",
        "\n",
        "X_fair = InformationFilter([\"Sex\"]).fit_transform(X_train)\n",
        "X_fair = pd.DataFrame(X_fair,\n",
        "                      columns=[n for n in X_train.columns if n not in ['Sex']])"
      ],
      "execution_count": 33,
      "outputs": []
    },
    {
      "cell_type": "code",
      "metadata": {
        "id": "gxBIk9YTEBhw",
        "colab_type": "code",
        "colab": {
          "base_uri": "https://localhost:8080/",
          "height": 402
        },
        "outputId": "6fcc09e4-c344-4f21-cc1a-d283a93233f4"
      },
      "source": [
        "X_fair"
      ],
      "execution_count": 34,
      "outputs": [
        {
          "output_type": "execute_result",
          "data": {
            "text/html": [
              "<div>\n",
              "<style scoped>\n",
              "    .dataframe tbody tr th:only-of-type {\n",
              "        vertical-align: middle;\n",
              "    }\n",
              "\n",
              "    .dataframe tbody tr th {\n",
              "        vertical-align: top;\n",
              "    }\n",
              "\n",
              "    .dataframe thead th {\n",
              "        text-align: right;\n",
              "    }\n",
              "</style>\n",
              "<table border=\"1\" class=\"dataframe\">\n",
              "  <thead>\n",
              "    <tr style=\"text-align: right;\">\n",
              "      <th></th>\n",
              "      <th>Age</th>\n",
              "      <th>Job</th>\n",
              "      <th>Housing</th>\n",
              "      <th>Saving accounts</th>\n",
              "      <th>Checking account</th>\n",
              "      <th>Credit amount</th>\n",
              "      <th>Duration</th>\n",
              "    </tr>\n",
              "  </thead>\n",
              "  <tbody>\n",
              "    <tr>\n",
              "      <th>0</th>\n",
              "      <td>41.944386</td>\n",
              "      <td>1.943250</td>\n",
              "      <td>2.910668</td>\n",
              "      <td>1.081587</td>\n",
              "      <td>1.129681</td>\n",
              "      <td>2577.046617</td>\n",
              "      <td>12.106121</td>\n",
              "    </tr>\n",
              "    <tr>\n",
              "      <th>1</th>\n",
              "      <td>51.856159</td>\n",
              "      <td>1.998101</td>\n",
              "      <td>3.042991</td>\n",
              "      <td>2.760252</td>\n",
              "      <td>1.174084</td>\n",
              "      <td>338.157621</td>\n",
              "      <td>6.143225</td>\n",
              "    </tr>\n",
              "    <tr>\n",
              "      <th>2</th>\n",
              "      <td>64.750459</td>\n",
              "      <td>1.990371</td>\n",
              "      <td>2.979794</td>\n",
              "      <td>1.091956</td>\n",
              "      <td>1.200298</td>\n",
              "      <td>571.147778</td>\n",
              "      <td>21.080368</td>\n",
              "    </tr>\n",
              "    <tr>\n",
              "      <th>3</th>\n",
              "      <td>30.121302</td>\n",
              "      <td>2.835255</td>\n",
              "      <td>2.976176</td>\n",
              "      <td>1.091737</td>\n",
              "      <td>2.003100</td>\n",
              "      <td>4454.955133</td>\n",
              "      <td>35.917999</td>\n",
              "    </tr>\n",
              "    <tr>\n",
              "      <th>4</th>\n",
              "      <td>36.007168</td>\n",
              "      <td>1.978615</td>\n",
              "      <td>2.919715</td>\n",
              "      <td>1.064381</td>\n",
              "      <td>1.966786</td>\n",
              "      <td>884.092613</td>\n",
              "      <td>18.064552</td>\n",
              "    </tr>\n",
              "    <tr>\n",
              "      <th>...</th>\n",
              "      <td>...</td>\n",
              "      <td>...</td>\n",
              "      <td>...</td>\n",
              "      <td>...</td>\n",
              "      <td>...</td>\n",
              "      <td>...</td>\n",
              "      <td>...</td>\n",
              "    </tr>\n",
              "    <tr>\n",
              "      <th>417</th>\n",
              "      <td>47.882825</td>\n",
              "      <td>1.184161</td>\n",
              "      <td>2.910432</td>\n",
              "      <td>1.039008</td>\n",
              "      <td>1.926292</td>\n",
              "      <td>1743.070281</td>\n",
              "      <td>24.016088</td>\n",
              "    </tr>\n",
              "    <tr>\n",
              "      <th>418</th>\n",
              "      <td>30.121020</td>\n",
              "      <td>2.781778</td>\n",
              "      <td>2.969550</td>\n",
              "      <td>1.101739</td>\n",
              "      <td>1.205314</td>\n",
              "      <td>3958.970879</td>\n",
              "      <td>35.909267</td>\n",
              "    </tr>\n",
              "    <tr>\n",
              "      <th>419</th>\n",
              "      <td>40.020620</td>\n",
              "      <td>2.795891</td>\n",
              "      <td>2.980203</td>\n",
              "      <td>1.109352</td>\n",
              "      <td>1.202686</td>\n",
              "      <td>3856.994998</td>\n",
              "      <td>29.974040</td>\n",
              "    </tr>\n",
              "    <tr>\n",
              "      <th>420</th>\n",
              "      <td>23.010460</td>\n",
              "      <td>1.874648</td>\n",
              "      <td>1.164030</td>\n",
              "      <td>0.950766</td>\n",
              "      <td>1.075419</td>\n",
              "      <td>1844.984504</td>\n",
              "      <td>44.741960</td>\n",
              "    </tr>\n",
              "    <tr>\n",
              "      <th>421</th>\n",
              "      <td>27.143681</td>\n",
              "      <td>2.034578</td>\n",
              "      <td>3.000580</td>\n",
              "      <td>1.892086</td>\n",
              "      <td>1.974040</td>\n",
              "      <td>4575.938028</td>\n",
              "      <td>44.805494</td>\n",
              "    </tr>\n",
              "  </tbody>\n",
              "</table>\n",
              "<p>422 rows × 7 columns</p>\n",
              "</div>"
            ],
            "text/plain": [
              "           Age       Job   Housing  ...  Checking account  Credit amount   Duration\n",
              "0    41.944386  1.943250  2.910668  ...          1.129681    2577.046617  12.106121\n",
              "1    51.856159  1.998101  3.042991  ...          1.174084     338.157621   6.143225\n",
              "2    64.750459  1.990371  2.979794  ...          1.200298     571.147778  21.080368\n",
              "3    30.121302  2.835255  2.976176  ...          2.003100    4454.955133  35.917999\n",
              "4    36.007168  1.978615  2.919715  ...          1.966786     884.092613  18.064552\n",
              "..         ...       ...       ...  ...               ...            ...        ...\n",
              "417  47.882825  1.184161  2.910432  ...          1.926292    1743.070281  24.016088\n",
              "418  30.121020  2.781778  2.969550  ...          1.205314    3958.970879  35.909267\n",
              "419  40.020620  2.795891  2.980203  ...          1.202686    3856.994998  29.974040\n",
              "420  23.010460  1.874648  1.164030  ...          1.075419    1844.984504  44.741960\n",
              "421  27.143681  2.034578  3.000580  ...          1.974040    4575.938028  44.805494\n",
              "\n",
              "[422 rows x 7 columns]"
            ]
          },
          "metadata": {
            "tags": []
          },
          "execution_count": 34
        }
      ]
    },
    {
      "cell_type": "code",
      "metadata": {
        "id": "xYgbh9JDEJxY",
        "colab_type": "code",
        "colab": {}
      },
      "source": [
        "from sklearn.pipeline import Pipeline\n",
        "from sklearn.preprocessing import StandardScaler\n",
        "from sklearn.linear_model import LogisticRegression\n",
        "\n",
        "def simple_mod():\n",
        "    return Pipeline([(\"scale\", StandardScaler()), (\"mod\", LogisticRegression())])\n",
        "\n",
        "fair_mod = simple_mod().fit(X_fair, y_train)\n",
        "fair_pred = fair_mod.predict(X_fair)"
      ],
      "execution_count": 35,
      "outputs": []
    },
    {
      "cell_type": "code",
      "metadata": {
        "id": "AEPb4_TEFiND",
        "colab_type": "code",
        "colab": {
          "base_uri": "https://localhost:8080/",
          "height": 34
        },
        "outputId": "8a4c0e91-11ba-404f-c6fa-b71c7500333d"
      },
      "source": [
        "fair_mod.score(X_fair, y_train)"
      ],
      "execution_count": 36,
      "outputs": [
        {
          "output_type": "execute_result",
          "data": {
            "text/plain": [
              "0.6279620853080569"
            ]
          },
          "metadata": {
            "tags": []
          },
          "execution_count": 36
        }
      ]
    },
    {
      "cell_type": "markdown",
      "metadata": {
        "id": "T4FQjBw48dNw",
        "colab_type": "text"
      },
      "source": [
        "### Modelo 3: DemographicParityClassifier\n",
        "\n",
        "$$\\min -\\sum_{i=1}^{N} \\log p(y_i|x_i, \\theta)$$\n",
        "$$\\text{subject to } \\frac{1}{N}\\sum^N_{i=1}(z_i−z)d_θ(x_i)≤c$$\n",
        "$$\\frac{1}{N}\\sum^N_{i=1}(z_i−z)d_θ(x_i)≥−c$$"
      ]
    },
    {
      "cell_type": "code",
      "metadata": {
        "id": "TD98J3BgYkNi",
        "colab_type": "code",
        "colab": {
          "base_uri": "https://localhost:8080/",
          "height": 70
        },
        "outputId": "30f86869-c7d4-4f71-d761-38c2787176a7"
      },
      "source": [
        "from sklego.linear_model import DemographicParityClassifier\n",
        "from sklearn.linear_model import LogisticRegression\n",
        "\n",
        "from sklearn.metrics import accuracy_score, make_scorer\n",
        "from sklearn.model_selection import GridSearchCV\n",
        "\n",
        "fair_classifier = DemographicParityClassifier(sensitive_cols=\"Sex\", covariance_threshold=0.5)\n",
        "fair_classifier.fit(X_train, y_train);"
      ],
      "execution_count": 37,
      "outputs": [
        {
          "output_type": "stream",
          "text": [
            "/usr/local/lib/python3.6/dist-packages/sklearn/utils/deprecation.py:144: FutureWarning: The sklearn.linear_model.base module is  deprecated in version 0.22 and will be removed in version 0.24. The corresponding classes / functions should instead be imported from sklearn.linear_model. Anything that cannot be imported from sklearn.linear_model is now part of the private API.\n",
            "  warnings.warn(message, FutureWarning)\n"
          ],
          "name": "stderr"
        }
      ]
    },
    {
      "cell_type": "code",
      "metadata": {
        "id": "iDc3sAPTY2P7",
        "colab_type": "code",
        "colab": {
          "base_uri": "https://localhost:8080/",
          "height": 67
        },
        "outputId": "5cdc1447-78a6-4e8c-ee96-4f07afbc09af"
      },
      "source": [
        "demographic_reg_score =  fair_classifier.score(X_test,y_test)\n",
        "print('reg_score: ', demographic_reg_score)\n",
        "\n",
        "demographic_equal_op_score = equal_opportunity_score(sensitive_column=\"Sex\")(fair_classifier, X_test, y_test)\n",
        "print('equal_opportunity_score: ', demographic_equal_op_score)\n",
        "\n",
        "demographic_p_perc_score = p_percent_score(sensitive_column=\"Sex\")(fair_classifier, X_test)\n",
        "print('p_percent_score: ', demographic_p_perc_score)"
      ],
      "execution_count": 38,
      "outputs": [
        {
          "output_type": "stream",
          "text": [
            "reg_score:  0.72\n",
            "equal_opportunity_score:  0.9558823529411764\n",
            "p_percent_score:  0.9300911854103343\n"
          ],
          "name": "stdout"
        }
      ]
    },
    {
      "cell_type": "code",
      "metadata": {
        "id": "-FwRHTnNZSF0",
        "colab_type": "code",
        "colab": {
          "base_uri": "https://localhost:8080/",
          "height": 298
        },
        "outputId": "da14b5df-14a1-4d21-da13-2bae12860786"
      },
      "source": [
        "plt.bar([\"Regression score\", \"Equal oportunity score\", \"P percent score\"],[demographic_reg_score, demographic_equal_op_score, demographic_p_perc_score])\n",
        "\n",
        "plt.title('Metrics using Demographic Parity Classifier')\n",
        "plt.legend()\n",
        "plt.show()"
      ],
      "execution_count": 39,
      "outputs": [
        {
          "output_type": "stream",
          "text": [
            "No handles with labels found to put in legend.\n"
          ],
          "name": "stderr"
        },
        {
          "output_type": "display_data",
          "data": {
            "image/png": "[encoded data removed]",
            "text/plain": [
              "<Figure size 432x288 with 1 Axes>"
            ]
          },
          "metadata": {
            "tags": [],
            "needs_background": "light"
          }
        }
      ]
    },
    {
      "cell_type": "markdown",
      "metadata": {
        "id": "feUvQWJ9ZxTZ",
        "colab_type": "text"
      },
      "source": [
        "### Modelo 4: Equal opportunity classifier\n",
        "\n",
        "$$\\min -\\sum_{i=1}^{N} \\log p(y_i|x_i, \\theta)$$\n",
        "$$\\text{subject to } \\frac{1}{POS}\\sum^{POS}_{i=1}(z_i−z)d_θ(x_i)≤c$$\n",
        "$$\\frac{1}{POS}\\sum^{POS}_{i=1}(z_i−z)d_θ(x_i)≥−c$$\n",
        "\n",
        "onde $POS$ é o subset da população onde $y\\_true = positive\\_target$."
      ]
    },
    {
      "cell_type": "code",
      "metadata": {
        "id": "oypV9TYwaOil",
        "colab_type": "code",
        "colab": {}
      },
      "source": [
        "import warnings\n",
        "from sklego.linear_model import EqualOpportunityClassifier\n",
        "import numpy as np\n",
        "\n",
        "\n",
        "fair_classifier = GridSearchCV(\n",
        "    estimator=EqualOpportunityClassifier(\n",
        "        sensitive_cols=\"Sex\",\n",
        "        covariance_threshold=0.5,\n",
        "        positive_target=True,\n",
        "    ),\n",
        "    param_grid={\"estimator__covariance_threshold\": np.linspace(0.001, 1.00, 20)},\n",
        "    cv=5,\n",
        "    n_jobs=-1,\n",
        "    refit=\"accuracy_score\",\n",
        "    return_train_score=True,\n",
        "    scoring={\"p_percent_score\": p_percent_score('Sex'),\n",
        "            \"equal_opportunity_score\": equal_opportunity_score('Sex'),\n",
        "            \"accuracy_score\": make_scorer(accuracy_score)}\n",
        ")\n",
        "\n",
        "with warnings.catch_warnings():\n",
        "    warnings.simplefilter(\"ignore\")\n",
        "    fair_classifier.fit(X_train, y_train);"
      ],
      "execution_count": 40,
      "outputs": []
    },
    {
      "cell_type": "code",
      "metadata": {
        "id": "ZdUCr0IjakAv",
        "colab_type": "code",
        "colab": {
          "base_uri": "https://localhost:8080/",
          "height": 67
        },
        "outputId": "b2dc305d-e19e-492f-a881-51a688f45d3c"
      },
      "source": [
        "oportunity_reg_score =  fair_classifier.score(X_test,y_test)\n",
        "print('reg_score: ', reg_score)\n",
        "\n",
        "oportunity_equal_op_score = equal_opportunity_score(sensitive_column=\"Sex\")(fair_classifier, X_test, y_test)\n",
        "print('equal_opportunity_score: ', equal_op_score)\n",
        "\n",
        "oportunity_p_perc_score = p_percent_score(sensitive_column=\"Sex\")(fair_classifier, X_test)\n",
        "print('p_percent_score: ', p_perc_score)"
      ],
      "execution_count": 41,
      "outputs": [
        {
          "output_type": "stream",
          "text": [
            "reg_score:  0.72\n",
            "equal_opportunity_score:  0.9049773755656109\n",
            "p_percent_score:  0.9970845481049563\n"
          ],
          "name": "stdout"
        }
      ]
    },
    {
      "cell_type": "code",
      "metadata": {
        "id": "sOICEzBJawOM",
        "colab_type": "code",
        "colab": {
          "base_uri": "https://localhost:8080/",
          "height": 298
        },
        "outputId": "c6e77917-76a5-437a-8d00-e0aea5a1d244"
      },
      "source": [
        "plt.bar([\"Regression score\", \"Equal oportunity score\", \"P percent score\"],[oportunity_reg_score, oportunity_equal_op_score, oportunity_p_perc_score])\n",
        "\n",
        "plt.title('Metrics using Equal oportunity Classifier')\n",
        "plt.legend()\n",
        "plt.show()"
      ],
      "execution_count": 42,
      "outputs": [
        {
          "output_type": "stream",
          "text": [
            "No handles with labels found to put in legend.\n"
          ],
          "name": "stderr"
        },
        {
          "output_type": "display_data",
          "data": {
            "image/png": "[encoded data removed]",
            "text/plain": [
              "<Figure size 432x288 with 1 Axes>"
            ]
          },
          "metadata": {
            "tags": [],
            "needs_background": "light"
          }
        }
      ]
    },
    {
      "cell_type": "markdown",
      "metadata": {
        "id": "HR0puTZ3byCE",
        "colab_type": "text"
      },
      "source": [
        "## Comparação entre os modelos"
      ]
    },
    {
      "cell_type": "code",
      "metadata": {
        "id": "CQPYngBNbz7Q",
        "colab_type": "code",
        "colab": {}
      },
      "source": [
        "r = [[weight_reg_score, weight_equal_op_score, weight_p_perc_score],\n",
        "     [reweighing_reg_score, reweighing_equal_op_score, reweighing_p_perc_score],\n",
        "     [demographic_reg_score, demographic_equal_op_score, demographic_p_perc_score],\n",
        "     [oportunity_reg_score, oportunity_equal_op_score, oportunity_p_perc_score]]\n",
        "\n",
        "Metrics_models = pd.DataFrame(data=r, columns=[\"Regression score\", \"Equal oportunity score\", 'P percent score'],\n",
        "                              index=[\"Our sample_weight\",\"Reweighing\", \"Demographic parity classifier\", \"Equal oportunity classifier\"])"
      ],
      "execution_count": 43,
      "outputs": []
    },
    {
      "cell_type": "code",
      "metadata": {
        "id": "rTLuTCucc0yj",
        "colab_type": "code",
        "colab": {
          "base_uri": "https://localhost:8080/",
          "height": 527
        },
        "outputId": "070a135b-d94b-4fc7-80c9-9b85331b8ea2"
      },
      "source": [
        "Metrics_models.plot.bar(figsize=(8,6))\n",
        "plt.title(\"Metrics for each algorithm\")\n",
        "plt.show()"
      ],
      "execution_count": 44,
      "outputs": [
        {
          "output_type": "display_data",
          "data": {
            "image/png": "[encoded data removed]",
            "text/plain": [
              "<Figure size 576x432 with 1 Axes>"
            ]
          },
          "metadata": {
            "tags": [],
            "needs_background": "light"
          }
        }
      ]
    },
    {
      "cell_type": "code",
      "metadata": {
        "id": "utEGx7jRbFr6",
        "colab_type": "code",
        "colab": {
          "base_uri": "https://localhost:8080/",
          "height": 962
        },
        "outputId": "882d7230-011f-43d5-9228-5d656b5bff56"
      },
      "source": [
        "Metrics_models.plot.bar(figsize=(8,14), subplots=True)\n",
        "plt.title(\"Metrics for each algorithm\")\n",
        "plt.show()"
      ],
      "execution_count": 45,
      "outputs": [
        {
          "output_type": "display_data",
          "data": {
            "image/png": "[encoded data removed]",
            "text/plain": [
              "<Figure size 576x1008 with 3 Axes>"
            ]
          },
          "metadata": {
            "tags": [],
            "needs_background": "light"
          }
        }
      ]
    },
    {
      "cell_type": "code",
      "metadata": {
        "id": "YiXnS0eob13S",
        "colab_type": "code",
        "colab": {
          "base_uri": "https://localhost:8080/",
          "height": 418
        },
        "outputId": "b9032709-13e6-49f4-bb9f-deba09ccc33b"
      },
      "source": [
        "ax1 = Metrics_models[\"Regression score\"].plot.bar()\n",
        "\n",
        "ax1.set_ylim(0.65, 0.75)\n",
        "plt.title(\"A closer look at the Regression score\")\n",
        "plt.show()"
      ],
      "execution_count": 46,
      "outputs": [
        {
          "output_type": "display_data",
          "data": {
            "image/png": "[encoded data removed]",
            "text/plain": [
              "<Figure size 432x288 with 1 Axes>"
            ]
          },
          "metadata": {
            "tags": [],
            "needs_background": "light"
          }
        }
      ]
    },
    {
      "cell_type": "code",
      "metadata": {
        "id": "c-woBypFabML",
        "colab_type": "code",
        "colab": {
          "base_uri": "https://localhost:8080/",
          "height": 418
        },
        "outputId": "6c467b00-9fc5-4987-ab54-44ccdbb2ead9"
      },
      "source": [
        "ax1 = Metrics_models[\"Equal oportunity score\"].plot.bar(color='m')\n",
        "\n",
        "ax1.set_ylim(0.8, 1)\n",
        "plt.title(\"A closer look at the Equal oportunity score\")\n",
        "plt.show()"
      ],
      "execution_count": 47,
      "outputs": [
        {
          "output_type": "display_data",
          "data": {
            "image/png": "[encoded data removed]",
            "text/plain": [
              "<Figure size 432x288 with 1 Axes>"
            ]
          },
          "metadata": {
            "tags": [],
            "needs_background": "light"
          }
        }
      ]
    },
    {
      "cell_type": "code",
      "metadata": {
        "id": "STnaDreIbsOI",
        "colab_type": "code",
        "colab": {
          "base_uri": "https://localhost:8080/",
          "height": 418
        },
        "outputId": "892075cd-a37b-44d5-bcb1-696f1f3bc104"
      },
      "source": [
        "ax1 = Metrics_models[\"P percent score\"].plot.bar(color='g')\n",
        "\n",
        "ax1.set_ylim(0.7, 1)\n",
        "plt.title(\"A closer look at the P percent score\")\n",
        "plt.show()"
      ],
      "execution_count": 48,
      "outputs": [
        {
          "output_type": "display_data",
          "data": {
            "image/png": "[encoded data removed]",
            "text/plain": [
              "<Figure size 432x288 with 1 Axes>"
            ]
          },
          "metadata": {
            "tags": [],
            "needs_background": "light"
          }
        }
      ]
    },
    {
      "cell_type": "code",
      "metadata": {
        "id": "1ZVgqoesclXj",
        "colab_type": "code",
        "colab": {}
      },
      "source": [
        ""
      ],
      "execution_count": 48,
      "outputs": []
    }
  ]
}