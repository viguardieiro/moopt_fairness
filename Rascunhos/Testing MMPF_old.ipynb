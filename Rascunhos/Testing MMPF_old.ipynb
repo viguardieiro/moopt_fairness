{
 "cells": [
  {
   "cell_type": "markdown",
   "metadata": {
    "colab_type": "text",
    "id": "KMz5TG5WpLEf"
   },
   "source": [
    "# Model comparison"
   ]
  },
  {
   "cell_type": "code",
   "execution_count": 1,
   "metadata": {
    "colab": {},
    "colab_type": "code",
    "executionInfo": {
     "elapsed": 66845,
     "status": "ok",
     "timestamp": 1595594667276,
     "user": {
      "displayName": "Vitoria Aquino Guardieiro",
      "photoUrl": "https://lh3.googleusercontent.com/a-/AOh14GiANFIcTTRvDT7PVZBuo-jPeY7jlUWjMOA0YaIC-Z4=s64",
      "userId": "08726576595430700752"
     },
     "user_tz": 180
    },
    "id": "e8l6HqNg4PEl"
   },
   "outputs": [
    {
     "name": "stdout",
     "output_type": "stream",
     "text": [
      "Using Python-MIP package version 1.7.2\n"
     ]
    },
    {
     "name": "stderr",
     "output_type": "stream",
     "text": [
      "/home/marcos/Documents/Experiments/envs/crime/lib/python3.7/site-packages/sklearn/utils/deprecation.py:144: FutureWarning: The sklearn.linear_model.base module is  deprecated in version 0.22 and will be removed in version 0.24. The corresponding classes / functions should instead be imported from sklearn.linear_model. Anything that cannot be imported from sklearn.linear_model is now part of the private API.\n",
      "  warnings.warn(message, FutureWarning)\n"
     ]
    }
   ],
   "source": [
    "import pandas as pd\n",
    "from sklearn.model_selection import train_test_split\n",
    "from sklearn.linear_model import LogisticRegression\n",
    "from sklego.metrics import equal_opportunity_score\n",
    "from sklego.metrics import p_percent_score\n",
    "from sklearn.metrics import log_loss, accuracy_score\n",
    "from sklearn.utils.extmath import squared_norm\n",
    "from moopt.scalarization_interface import scalar_interface, single_interface, w_interface\n",
    "from moopt import monise\n",
    "import numpy as np\n",
    "import optuna, sklearn, sklearn.datasets\n",
    "from fair_models import coefficient_of_variation, MOOLogisticRegression, FindCLogisticRegression, FindCCLogisticRegression\n",
    "from fair_models import calc_reweight\n",
    "from fair_models import FairScalarization, EqualScalarization"
   ]
  },
  {
   "cell_type": "code",
   "execution_count": 2,
   "metadata": {},
   "outputs": [],
   "source": [
    "import sys\n",
    "sys.path.append(\"./MMFP/\")"
   ]
  },
  {
   "cell_type": "code",
   "execution_count": 3,
   "metadata": {},
   "outputs": [],
   "source": [
    "from MMPF.MinimaxParetoFair.MMPF_trainer import SKLearn_Weighted_LLR, APSTAR"
   ]
  },
  {
   "cell_type": "code",
   "execution_count": 4,
   "metadata": {
    "colab": {},
    "colab_type": "code",
    "executionInfo": {
     "elapsed": 66114,
     "status": "ok",
     "timestamp": 1595594667279,
     "user": {
      "displayName": "Vitoria Aquino Guardieiro",
      "photoUrl": "https://lh3.googleusercontent.com/a-/AOh14GiANFIcTTRvDT7PVZBuo-jPeY7jlUWjMOA0YaIC-Z4=s64",
      "userId": "08726576595430700752"
     },
     "user_tz": 180
    },
    "id": "VgYbd1wT4PEo",
    "tags": []
   },
   "outputs": [],
   "source": [
    "%load_ext autoreload\n",
    "%autoreload 2\n",
    "%load_ext line_profiler"
   ]
  },
  {
   "cell_type": "markdown",
   "metadata": {
    "colab_type": "text",
    "id": "rUc0osRUQ1LK"
   },
   "source": [
    "## Parte 1: Data treatment"
   ]
  },
  {
   "cell_type": "code",
   "execution_count": 5,
   "metadata": {
    "colab": {},
    "colab_type": "code",
    "executionInfo": {
     "elapsed": 64004,
     "status": "ok",
     "timestamp": 1595594667666,
     "user": {
      "displayName": "Vitoria Aquino Guardieiro",
      "photoUrl": "https://lh3.googleusercontent.com/a-/AOh14GiANFIcTTRvDT7PVZBuo-jPeY7jlUWjMOA0YaIC-Z4=s64",
      "userId": "08726576595430700752"
     },
     "user_tz": 180
    },
    "id": "pXyCJxkm4PEu"
   },
   "outputs": [],
   "source": [
    "mydata= pd.read_csv(\"Datasets/german_credit_data.csv\")"
   ]
  },
  {
   "cell_type": "markdown",
   "metadata": {
    "colab_type": "text",
    "id": "64UwE8ULpVV_"
   },
   "source": [
    "Dados de pedidos de crédito. É um dos datasets mais utilizados para tutoriais em Fairness, como na biblioteca [$aif360$](https://github.com/IBM/AIF360/blob/master/examples/README.md). Dataset original disponível em [aqui](https://archive.ics.uci.edu/ml/datasets/statlog+(german+credit+data)), mas eu utilizei [este](https://www.kaggle.com/kabure/german-credit-data-with-risk), por estar em formato csv com os headers, embora omita informações do dataset original.\n",
    "\n",
    "Originalmente possui 1000 dados, mas com vários valores NaN, ficando com 522 dados após remoção de dados com informações faltantes."
   ]
  },
  {
   "cell_type": "code",
   "execution_count": 6,
   "metadata": {
    "colab": {
     "base_uri": "https://localhost:8080/",
     "height": 204
    },
    "colab_type": "code",
    "executionInfo": {
     "elapsed": 62995,
     "status": "ok",
     "timestamp": 1595594667667,
     "user": {
      "displayName": "Vitoria Aquino Guardieiro",
      "photoUrl": "https://lh3.googleusercontent.com/a-/AOh14GiANFIcTTRvDT7PVZBuo-jPeY7jlUWjMOA0YaIC-Z4=s64",
      "userId": "08726576595430700752"
     },
     "user_tz": 180
    },
    "id": "rH24295ifUgz",
    "outputId": "f59ab0e5-dddc-45cc-a5cf-f24d3f6ba94f"
   },
   "outputs": [
    {
     "data": {
      "text/html": [
       "<div>\n",
       "<style scoped>\n",
       "    .dataframe tbody tr th:only-of-type {\n",
       "        vertical-align: middle;\n",
       "    }\n",
       "\n",
       "    .dataframe tbody tr th {\n",
       "        vertical-align: top;\n",
       "    }\n",
       "\n",
       "    .dataframe thead th {\n",
       "        text-align: right;\n",
       "    }\n",
       "</style>\n",
       "<table border=\"1\" class=\"dataframe\">\n",
       "  <thead>\n",
       "    <tr style=\"text-align: right;\">\n",
       "      <th></th>\n",
       "      <th>Unnamed: 0</th>\n",
       "      <th>Age</th>\n",
       "      <th>Sex</th>\n",
       "      <th>Job</th>\n",
       "      <th>Housing</th>\n",
       "      <th>Saving accounts</th>\n",
       "      <th>Checking account</th>\n",
       "      <th>Credit amount</th>\n",
       "      <th>Duration</th>\n",
       "      <th>Purpose</th>\n",
       "      <th>Risk</th>\n",
       "    </tr>\n",
       "  </thead>\n",
       "  <tbody>\n",
       "    <tr>\n",
       "      <th>0</th>\n",
       "      <td>0</td>\n",
       "      <td>67</td>\n",
       "      <td>male</td>\n",
       "      <td>2</td>\n",
       "      <td>own</td>\n",
       "      <td>NaN</td>\n",
       "      <td>little</td>\n",
       "      <td>1169</td>\n",
       "      <td>6</td>\n",
       "      <td>radio/TV</td>\n",
       "      <td>good</td>\n",
       "    </tr>\n",
       "    <tr>\n",
       "      <th>1</th>\n",
       "      <td>1</td>\n",
       "      <td>22</td>\n",
       "      <td>female</td>\n",
       "      <td>2</td>\n",
       "      <td>own</td>\n",
       "      <td>little</td>\n",
       "      <td>moderate</td>\n",
       "      <td>5951</td>\n",
       "      <td>48</td>\n",
       "      <td>radio/TV</td>\n",
       "      <td>bad</td>\n",
       "    </tr>\n",
       "    <tr>\n",
       "      <th>2</th>\n",
       "      <td>2</td>\n",
       "      <td>49</td>\n",
       "      <td>male</td>\n",
       "      <td>1</td>\n",
       "      <td>own</td>\n",
       "      <td>little</td>\n",
       "      <td>NaN</td>\n",
       "      <td>2096</td>\n",
       "      <td>12</td>\n",
       "      <td>education</td>\n",
       "      <td>good</td>\n",
       "    </tr>\n",
       "    <tr>\n",
       "      <th>3</th>\n",
       "      <td>3</td>\n",
       "      <td>45</td>\n",
       "      <td>male</td>\n",
       "      <td>2</td>\n",
       "      <td>free</td>\n",
       "      <td>little</td>\n",
       "      <td>little</td>\n",
       "      <td>7882</td>\n",
       "      <td>42</td>\n",
       "      <td>furniture/equipment</td>\n",
       "      <td>good</td>\n",
       "    </tr>\n",
       "    <tr>\n",
       "      <th>4</th>\n",
       "      <td>4</td>\n",
       "      <td>53</td>\n",
       "      <td>male</td>\n",
       "      <td>2</td>\n",
       "      <td>free</td>\n",
       "      <td>little</td>\n",
       "      <td>little</td>\n",
       "      <td>4870</td>\n",
       "      <td>24</td>\n",
       "      <td>car</td>\n",
       "      <td>bad</td>\n",
       "    </tr>\n",
       "  </tbody>\n",
       "</table>\n",
       "</div>"
      ],
      "text/plain": [
       "   Unnamed: 0  Age     Sex  Job Housing Saving accounts Checking account  \\\n",
       "0           0   67    male    2     own             NaN           little   \n",
       "1           1   22  female    2     own          little         moderate   \n",
       "2           2   49    male    1     own          little              NaN   \n",
       "3           3   45    male    2    free          little           little   \n",
       "4           4   53    male    2    free          little           little   \n",
       "\n",
       "   Credit amount  Duration              Purpose  Risk  \n",
       "0           1169         6             radio/TV  good  \n",
       "1           5951        48             radio/TV   bad  \n",
       "2           2096        12            education  good  \n",
       "3           7882        42  furniture/equipment  good  \n",
       "4           4870        24                  car   bad  "
      ]
     },
     "execution_count": 6,
     "metadata": {},
     "output_type": "execute_result"
    }
   ],
   "source": [
    "mydata.head()"
   ]
  },
  {
   "cell_type": "code",
   "execution_count": 7,
   "metadata": {
    "colab": {},
    "colab_type": "code",
    "executionInfo": {
     "elapsed": 62012,
     "status": "ok",
     "timestamp": 1595594668066,
     "user": {
      "displayName": "Vitoria Aquino Guardieiro",
      "photoUrl": "https://lh3.googleusercontent.com/a-/AOh14GiANFIcTTRvDT7PVZBuo-jPeY7jlUWjMOA0YaIC-Z4=s64",
      "userId": "08726576595430700752"
     },
     "user_tz": 180
    },
    "id": "_43AS4aerbjj"
   },
   "outputs": [],
   "source": [
    "mydata = mydata.drop(['Unnamed: 0', 'Purpose'], axis=1)"
   ]
  },
  {
   "cell_type": "code",
   "execution_count": 8,
   "metadata": {
    "colab": {},
    "colab_type": "code",
    "executionInfo": {
     "elapsed": 61552,
     "status": "ok",
     "timestamp": 1595594668067,
     "user": {
      "displayName": "Vitoria Aquino Guardieiro",
      "photoUrl": "https://lh3.googleusercontent.com/a-/AOh14GiANFIcTTRvDT7PVZBuo-jPeY7jlUWjMOA0YaIC-Z4=s64",
      "userId": "08726576595430700752"
     },
     "user_tz": 180
    },
    "id": "0dFCIx4KnbTE"
   },
   "outputs": [],
   "source": [
    "mydata = mydata.dropna()"
   ]
  },
  {
   "cell_type": "code",
   "execution_count": 9,
   "metadata": {
    "colab": {},
    "colab_type": "code",
    "executionInfo": {
     "elapsed": 61324,
     "status": "ok",
     "timestamp": 1595594668068,
     "user": {
      "displayName": "Vitoria Aquino Guardieiro",
      "photoUrl": "https://lh3.googleusercontent.com/a-/AOh14GiANFIcTTRvDT7PVZBuo-jPeY7jlUWjMOA0YaIC-Z4=s64",
      "userId": "08726576595430700752"
     },
     "user_tz": 180
    },
    "id": "gXI4czPtlJbj"
   },
   "outputs": [],
   "source": [
    "mapping_Sex = {'male': 0, 'female': 1}\n",
    "mapping_Housing = {'free': 1, 'rent': 2, 'own': 3}\n",
    "mapping_Savings = {'little': 1, 'moderate': 2, 'quite rich': 3, 'rich': 4}\n",
    "mapping_Checking = {'little': 1, 'moderate': 2, 'rich': 3}\n",
    "mapping_Risk = {\"bad\": -1, \"good\": 1}\n",
    "\n",
    "numerical_data = mydata.replace({'Sex': mapping_Sex, 'Housing': mapping_Housing, 'Saving accounts': mapping_Savings,\n",
    "                'Checking account':mapping_Checking, 'Risk': mapping_Risk})"
   ]
  },
  {
   "cell_type": "code",
   "execution_count": 10,
   "metadata": {
    "colab": {},
    "colab_type": "code",
    "executionInfo": {
     "elapsed": 61063,
     "status": "ok",
     "timestamp": 1595594668068,
     "user": {
      "displayName": "Vitoria Aquino Guardieiro",
      "photoUrl": "https://lh3.googleusercontent.com/a-/AOh14GiANFIcTTRvDT7PVZBuo-jPeY7jlUWjMOA0YaIC-Z4=s64",
      "userId": "08726576595430700752"
     },
     "user_tz": 180
    },
    "id": "blQCM3i9qF24"
   },
   "outputs": [],
   "source": [
    "X = numerical_data.drop(['Risk'], axis=1)"
   ]
  },
  {
   "cell_type": "code",
   "execution_count": 11,
   "metadata": {
    "colab": {},
    "colab_type": "code",
    "executionInfo": {
     "elapsed": 60863,
     "status": "ok",
     "timestamp": 1595594668069,
     "user": {
      "displayName": "Vitoria Aquino Guardieiro",
      "photoUrl": "https://lh3.googleusercontent.com/a-/AOh14GiANFIcTTRvDT7PVZBuo-jPeY7jlUWjMOA0YaIC-Z4=s64",
      "userId": "08726576595430700752"
     },
     "user_tz": 180
    },
    "id": "bnHRL4Mem3Xi"
   },
   "outputs": [],
   "source": [
    "y = numerical_data['Risk']"
   ]
  },
  {
   "cell_type": "code",
   "execution_count": 12,
   "metadata": {},
   "outputs": [
    {
     "data": {
      "text/plain": [
       "2000"
      ]
     },
     "execution_count": 12,
     "metadata": {},
     "output_type": "execute_result"
    }
   ],
   "source": [
    "# 395, 808\n",
    "random_seed = 2000#np.random.randint(0, 1000)\n",
    "random_seed"
   ]
  },
  {
   "cell_type": "code",
   "execution_count": 13,
   "metadata": {},
   "outputs": [
    {
     "data": {
      "text/plain": [
       "2000"
      ]
     },
     "execution_count": 13,
     "metadata": {},
     "output_type": "execute_result"
    }
   ],
   "source": [
    "random_seed2 = 2000#np.random.randint(0, 1000)\n",
    "random_seed2"
   ]
  },
  {
   "cell_type": "code",
   "execution_count": 14,
   "metadata": {
    "colab": {},
    "colab_type": "code",
    "executionInfo": {
     "elapsed": 60572,
     "status": "ok",
     "timestamp": 1595594668069,
     "user": {
      "displayName": "Vitoria Aquino Guardieiro",
      "photoUrl": "https://lh3.googleusercontent.com/a-/AOh14GiANFIcTTRvDT7PVZBuo-jPeY7jlUWjMOA0YaIC-Z4=s64",
      "userId": "08726576595430700752"
     },
     "user_tz": 180
    },
    "id": "XAJLMFuHFmg0"
   },
   "outputs": [],
   "source": [
    "X_tv, X_test, y_tv, y_test = train_test_split(X, y, test_size=200, random_state = random_seed)\n",
    "X_train, X_val, y_train, y_val = train_test_split(X_tv, y_tv, test_size=100, random_state = random_seed2)"
   ]
  },
  {
   "cell_type": "code",
   "execution_count": 15,
   "metadata": {},
   "outputs": [],
   "source": [
    "sample_weight = calc_reweight(X_train, y_train)"
   ]
  },
  {
   "cell_type": "code",
   "execution_count": 16,
   "metadata": {},
   "outputs": [
    {
     "name": "stderr",
     "output_type": "stream",
     "text": [
      "/home/marcos/Documents/Experiments/envs/crime/lib/python3.7/site-packages/pandas/core/generic.py:9114: SettingWithCopyWarning: \n",
      "A value is trying to be set on a copy of a slice from a DataFrame\n",
      "\n",
      "See the caveats in the documentation: http://pandas.pydata.org/pandas-docs/stable/user_guide/indexing.html#returning-a-view-versus-a-copy\n",
      "  self._update_inplace(new_data)\n",
      "/home/marcos/Documents/Experiments/envs/crime/lib/python3.7/site-packages/IPython/core/interactiveshell.py:3319: SettingWithCopyWarning: \n",
      "A value is trying to be set on a copy of a slice from a DataFrame\n",
      "\n",
      "See the caveats in the documentation: http://pandas.pydata.org/pandas-docs/stable/user_guide/indexing.html#returning-a-view-versus-a-copy\n",
      "  exec(code_obj, self.user_global_ns, self.user_ns)\n"
     ]
    }
   ],
   "source": [
    "a_train = X_train['Sex']\n",
    "a_val = X_val['Sex']\n",
    "\n",
    "a_train[a_train==0] = -1\n",
    "a_val[a_val==0] = -1"
   ]
  },
  {
   "cell_type": "code",
   "execution_count": 42,
   "metadata": {},
   "outputs": [
    {
     "name": "stdout",
     "output_type": "stream",
     "text": [
      "patience counter: 0 total iterations: 201\n",
      "-----------------------------------------\n"
     ]
    }
   ],
   "source": [
    "C = 10**2\n",
    "model = SKLearn_Weighted_LLR(X_train.values, y_train.values,\n",
    "                             a_train.values, X_val.values,\n",
    "                             y_val.values, a_val.values,\n",
    "                             C_reg=C)\n",
    "\n",
    "mua_ini = np.ones(a_val.max() + 1)\n",
    "mua_ini /= mua_ini.sum()\n",
    "results =APSTAR(model, mua_ini, niter=200, max_patience=200, Kini=1,\n",
    "                      Kmin=20, alpha=0.5, verbose=False)\n",
    "mu_best_list = results['mu_best_list']\n",
    "\n",
    "mu_best = mu_best_list[-1]\n",
    "model.weighted_fit(X_train.values, y_train.values, a_train.values, mu_best)"
   ]
  },
  {
   "cell_type": "code",
   "execution_count": 43,
   "metadata": {},
   "outputs": [
    {
     "data": {
      "text/plain": [
       "(0.635, 0.9215399610136453, 0.9540816326530612, 0.6959756269700479)"
      ]
     },
     "execution_count": 43,
     "metadata": {},
     "output_type": "execute_result"
    }
   ],
   "source": [
    "accuracy_score(y_test, model.predict(X_test)), equal_opportunity_score(sensitive_column=\"Sex\")(model, X_test, y_test), p_percent_score(sensitive_column=\"Sex\")(model, X_test, y_test), coefficient_of_variation(model, X_test, y_test)"
   ]
  },
  {
   "cell_type": "code",
   "execution_count": 41,
   "metadata": {},
   "outputs": [
    {
     "data": {
      "text/plain": [
       "[array([0.5, 0.5]),\n",
       " array([0.5, 0.5]),\n",
       " array([0.16666667, 0.83333333]),\n",
       " array([0.16666667, 0.83333333]),\n",
       " array([0.08333333, 0.91666667]),\n",
       " array([0.08333333, 0.91666667]),\n",
       " array([0.05, 0.95]),\n",
       " array([0.05, 0.95]),\n",
       " array([0.03333333, 0.96666667]),\n",
       " array([0.03333333, 0.96666667]),\n",
       " array([0.02380952, 0.97619048]),\n",
       " array([0.02380952, 0.97619048]),\n",
       " array([0.01785714, 0.98214286]),\n",
       " array([0.01785714, 0.98214286]),\n",
       " array([0.01388889, 0.98611111]),\n",
       " array([0.01388889, 0.98611111]),\n",
       " array([0.01111111, 0.98888889]),\n",
       " array([0.01111111, 0.98888889]),\n",
       " array([0.00909091, 0.99090909]),\n",
       " array([0.00909091, 0.99090909]),\n",
       " array([0.00757576, 0.99242424]),\n",
       " array([0.00757576, 0.99242424]),\n",
       " array([0.00641026, 0.99358974]),\n",
       " array([0.00641026, 0.99358974]),\n",
       " array([0.00549451, 0.99450549]),\n",
       " array([0.00549451, 0.99450549]),\n",
       " array([0.0047619, 0.9952381]),\n",
       " array([0.0047619, 0.9952381]),\n",
       " array([0.00416667, 0.99583333]),\n",
       " array([0.00416667, 0.99583333]),\n",
       " array([0.00367647, 0.99632353]),\n",
       " array([0.00367647, 0.99632353]),\n",
       " array([0.00326797, 0.99673203]),\n",
       " array([0.00326797, 0.99673203]),\n",
       " array([0.00292398, 0.99707602]),\n",
       " array([0.00292398, 0.99707602]),\n",
       " array([0.00263158, 0.99736842]),\n",
       " array([0.00263158, 0.99736842]),\n",
       " array([0.00238095, 0.99761905]),\n",
       " array([0.00238095, 0.99761905]),\n",
       " array([0.0021645, 0.9978355]),\n",
       " array([0.0021645, 0.9978355]),\n",
       " array([0.00196773, 0.99803227]),\n",
       " array([0.00196773, 0.99803227]),\n",
       " array([0.00178884, 0.99821116]),\n",
       " array([0.00178884, 0.99821116]),\n",
       " array([0.00162622, 0.99837378]),\n",
       " array([0.00162622, 0.99837378]),\n",
       " array([0.00147838, 0.99852162]),\n",
       " array([0.00147838, 0.99852162]),\n",
       " array([0.00134399, 0.99865601]),\n",
       " array([0.00134399, 0.99865601]),\n",
       " array([0.00122181, 0.99877819]),\n",
       " array([0.00122181, 0.99877819]),\n",
       " array([0.00111073, 0.99888927]),\n",
       " array([0.00111073, 0.99888927]),\n",
       " array([0.00100976, 0.99899024]),\n",
       " array([0.00100976, 0.99899024]),\n",
       " array([9.17960213e-04, 9.99082040e-01]),\n",
       " array([9.17960213e-04, 9.99082040e-01]),\n",
       " array([8.34509284e-04, 9.99165491e-01]),\n",
       " array([8.34509284e-04, 9.99165491e-01]),\n",
       " array([7.58644804e-04, 9.99241355e-01]),\n",
       " array([7.58644804e-04, 9.99241355e-01]),\n",
       " array([6.89677095e-04, 9.99310323e-01]),\n",
       " array([6.89677095e-04, 9.99310323e-01]),\n",
       " array([6.26979177e-04, 9.99373021e-01]),\n",
       " array([6.26979177e-04, 9.99373021e-01]),\n",
       " array([5.69981070e-04, 9.99430019e-01]),\n",
       " array([5.69981070e-04, 9.99430019e-01]),\n",
       " array([5.18164609e-04, 9.99481835e-01]),\n",
       " array([5.18164609e-04, 9.99481835e-01]),\n",
       " array([4.71058735e-04, 9.99528941e-01]),\n",
       " array([4.71058735e-04, 9.99528941e-01]),\n",
       " array([4.28235214e-04, 9.99571765e-01]),\n",
       " array([4.28235214e-04, 9.99571765e-01]),\n",
       " array([3.89304740e-04, 9.99610695e-01]),\n",
       " array([3.89304740e-04, 9.99610695e-01]),\n",
       " array([3.53913400e-04, 9.99646087e-01]),\n",
       " array([3.53913400e-04, 9.99646087e-01]),\n",
       " array([3.21739455e-04, 9.99678261e-01]),\n",
       " array([3.21739455e-04, 9.99678261e-01]),\n",
       " array([2.92490413e-04, 9.99707510e-01]),\n",
       " array([2.92490413e-04, 9.99707510e-01]),\n",
       " array([2.65900376e-04, 9.99734100e-01]),\n",
       " array([2.65900376e-04, 9.99734100e-01]),\n",
       " array([2.41727614e-04, 9.99758272e-01]),\n",
       " array([2.41727614e-04, 9.99758272e-01]),\n",
       " array([2.19752377e-04, 9.99780248e-01]),\n",
       " array([2.19752377e-04, 9.99780248e-01]),\n",
       " array([1.99774888e-04, 9.99800225e-01]),\n",
       " array([1.99774888e-04, 9.99800225e-01]),\n",
       " array([1.81613534e-04, 9.99818386e-01]),\n",
       " array([1.81613534e-04, 9.99818386e-01]),\n",
       " array([1.65103213e-04, 9.99834897e-01]),\n",
       " array([1.65103213e-04, 9.99834897e-01]),\n",
       " array([1.50093830e-04, 9.99849906e-01]),\n",
       " array([1.50093830e-04, 9.99849906e-01]),\n",
       " array([1.36448936e-04, 9.99863551e-01]),\n",
       " array([1.36448936e-04, 9.99863551e-01]),\n",
       " array([1.24044488e-04, 9.99875956e-01]),\n",
       " array([1.24044488e-04, 9.99875956e-01]),\n",
       " array([1.12767716e-04, 9.99887232e-01]),\n",
       " array([1.12767716e-04, 9.99887232e-01]),\n",
       " array([1.02516106e-04, 9.99897484e-01]),\n",
       " array([1.02516106e-04, 9.99897484e-01]),\n",
       " array([9.31964596e-05, 9.99906804e-01]),\n",
       " array([9.31964596e-05, 9.99906804e-01]),\n",
       " array([8.47240541e-05, 9.99915276e-01]),\n",
       " array([8.47240541e-05, 9.99915276e-01]),\n",
       " array([7.70218674e-05, 9.99922978e-01]),\n",
       " array([7.70218674e-05, 9.99922978e-01]),\n",
       " array([7.00198795e-05, 9.99929980e-01]),\n",
       " array([7.00198795e-05, 9.99929980e-01]),\n",
       " array([6.36544359e-05, 9.99936346e-01]),\n",
       " array([6.36544359e-05, 9.99936346e-01]),\n",
       " array([5.78676690e-05, 9.99942132e-01]),\n",
       " array([5.78676690e-05, 9.99942132e-01]),\n",
       " array([5.26069718e-05, 9.99947393e-01]),\n",
       " array([5.26069718e-05, 9.99947393e-01]),\n",
       " array([4.78245198e-05, 9.99952175e-01]),\n",
       " array([4.78245198e-05, 9.99952175e-01]),\n",
       " array([4.34768362e-05, 9.99956523e-01]),\n",
       " array([4.34768362e-05, 9.99956523e-01]),\n",
       " array([3.95243965e-05, 9.99960476e-01]),\n",
       " array([3.95243965e-05, 9.99960476e-01]),\n",
       " array([3.59312696e-05, 9.99964069e-01]),\n",
       " array([3.59312696e-05, 9.99964069e-01]),\n",
       " array([3.26647905e-05, 9.99967335e-01]),\n",
       " array([3.26647905e-05, 9.99967335e-01]),\n",
       " array([2.96952641e-05, 9.99970305e-01]),\n",
       " array([2.96952641e-05, 9.99970305e-01]),\n",
       " array([2.69956947e-05, 9.99973004e-01]),\n",
       " array([2.69956947e-05, 9.99973004e-01]),\n",
       " array([2.45415406e-05, 9.99975458e-01]),\n",
       " array([2.45415406e-05, 9.99975458e-01]),\n",
       " array([2.23104914e-05, 9.99977690e-01]),\n",
       " array([2.23104914e-05, 9.99977690e-01]),\n",
       " array([2.02822650e-05, 9.99979718e-01]),\n",
       " array([2.02822650e-05, 9.99979718e-01]),\n",
       " array([1.84384227e-05, 9.99981562e-01]),\n",
       " array([1.84384227e-05, 9.99981562e-01]),\n",
       " array([1.67622024e-05, 9.99983238e-01]),\n",
       " array([1.67622024e-05, 9.99983238e-01]),\n",
       " array([1.52383659e-05, 9.99984762e-01]),\n",
       " array([1.52383659e-05, 9.99984762e-01]),\n",
       " array([1.38530599e-05, 9.99986147e-01]),\n",
       " array([1.38530599e-05, 9.99986147e-01]),\n",
       " array([1.25936908e-05, 9.99987406e-01]),\n",
       " array([1.25936908e-05, 9.99987406e-01]),\n",
       " array([1.14488098e-05, 9.99988551e-01]),\n",
       " array([1.14488098e-05, 9.99988551e-01]),\n",
       " array([1.04080089e-05, 9.99989592e-01]),\n",
       " array([1.04080089e-05, 9.99989592e-01]),\n",
       " array([9.46182629e-06, 9.99990538e-01]),\n",
       " array([9.46182629e-06, 9.99990538e-01]),\n",
       " array([8.60166026e-06, 9.99991398e-01]),\n",
       " array([8.60166026e-06, 9.99991398e-01]),\n",
       " array([7.81969115e-06, 9.99992180e-01]),\n",
       " array([7.81969115e-06, 9.99992180e-01]),\n",
       " array([7.10881013e-06, 9.99992891e-01]),\n",
       " array([7.10881013e-06, 9.99992891e-01]),\n",
       " array([6.46255467e-06, 9.99993537e-01]),\n",
       " array([6.46255467e-06, 9.99993537e-01]),\n",
       " array([5.87504970e-06, 9.99994125e-01]),\n",
       " array([5.87504970e-06, 9.99994125e-01]),\n",
       " array([5.34095427e-06, 9.99994659e-01]),\n",
       " array([5.34095427e-06, 9.99994659e-01]),\n",
       " array([4.85541297e-06, 9.99995145e-01]),\n",
       " array([4.85541297e-06, 9.99995145e-01]),\n",
       " array([4.41401179e-06, 9.99995586e-01]),\n",
       " array([4.41401179e-06, 9.99995586e-01]),\n",
       " array([4.01273799e-06, 9.99995987e-01]),\n",
       " array([4.01273799e-06, 9.99995987e-01]),\n",
       " array([3.64794363e-06, 9.99996352e-01]),\n",
       " array([3.64794363e-06, 9.99996352e-01]),\n",
       " array([3.31631239e-06, 9.99996684e-01]),\n",
       " array([3.31631239e-06, 9.99996684e-01]),\n",
       " array([3.01482945e-06, 9.99996985e-01]),\n",
       " array([3.01482945e-06, 9.99996985e-01]),\n",
       " array([2.74075404e-06, 9.99997259e-01]),\n",
       " array([2.74075404e-06, 9.99997259e-01]),\n",
       " array([2.49159458e-06, 9.99997508e-01]),\n",
       " array([2.49159458e-06, 9.99997508e-01]),\n",
       " array([2.26508599e-06, 9.99997735e-01]),\n",
       " array([2.26508599e-06, 9.99997735e-01]),\n",
       " array([2.05916908e-06, 9.99997941e-01]),\n",
       " array([2.05916908e-06, 9.99997941e-01]),\n",
       " array([1.87197189e-06, 9.99998128e-01]),\n",
       " array([1.87197189e-06, 9.99998128e-01]),\n",
       " array([1.70179263e-06, 9.99998298e-01]),\n",
       " array([1.70179263e-06, 9.99998298e-01]),\n",
       " array([1.54708421e-06, 9.99998453e-01]),\n",
       " array([1.54708421e-06, 9.99998453e-01]),\n",
       " array([1.40644019e-06, 9.99998594e-01]),\n",
       " array([1.40644019e-06, 9.99998594e-01]),\n",
       " array([1.27858199e-06, 9.99998721e-01]),\n",
       " array([1.27858199e-06, 9.99998721e-01]),\n",
       " array([1.16234726e-06, 9.99998838e-01]),\n",
       " array([1.16234726e-06, 9.99998838e-01]),\n",
       " array([1.05667933e-06, 9.99998943e-01]),\n",
       " array([1.05667933e-06, 9.99998943e-01]),\n",
       " array([9.60617572e-07, 9.99999039e-01]),\n",
       " array([9.60617572e-07, 9.99999039e-01]),\n",
       " array([8.73288702e-07, 9.99999127e-01]),\n",
       " array([8.73288702e-07, 9.99999127e-01]),\n",
       " array([7.93898820e-07, 9.99999206e-01]),\n",
       " array([7.93898820e-07, 9.99999206e-01]),\n",
       " array([7.21726200e-07, 9.99999278e-01]),\n",
       " array([7.21726200e-07, 9.99999278e-01]),\n",
       " array([6.56114727e-07, 9.99999344e-01]),\n",
       " array([6.56114727e-07, 9.99999344e-01]),\n",
       " array([5.96467934e-07, 9.99999404e-01]),\n",
       " array([5.96467934e-07, 9.99999404e-01]),\n",
       " array([5.42243576e-07, 9.99999458e-01]),\n",
       " array([5.42243576e-07, 9.99999458e-01]),\n",
       " array([4.92948706e-07, 9.99999507e-01]),\n",
       " array([4.92948706e-07, 9.99999507e-01]),\n",
       " array([4.48135187e-07, 9.99999552e-01]),\n",
       " array([4.48135187e-07, 9.99999552e-01]),\n",
       " array([4.07395624e-07, 9.99999593e-01]),\n",
       " array([4.07395624e-07, 9.99999593e-01]),\n",
       " array([3.70359659e-07, 9.99999630e-01]),\n",
       " array([3.70359659e-07, 9.99999630e-01]),\n",
       " array([3.36690599e-07, 9.99999663e-01]),\n",
       " array([3.36690599e-07, 9.99999663e-01]),\n",
       " array([3.06082362e-07, 9.99999694e-01]),\n",
       " array([3.06082362e-07, 9.99999694e-01]),\n",
       " array([2.78256693e-07, 9.99999722e-01]),\n",
       " array([2.78256693e-07, 9.99999722e-01]),\n",
       " array([2.52960630e-07, 9.99999747e-01]),\n",
       " array([2.52960630e-07, 9.99999747e-01]),\n",
       " array([2.29964209e-07, 9.99999770e-01]),\n",
       " array([2.29964209e-07, 9.99999770e-01]),\n",
       " array([2.09058372e-07, 9.99999791e-01]),\n",
       " array([2.09058372e-07, 9.99999791e-01]),\n",
       " array([1.90053065e-07, 9.99999810e-01]),\n",
       " array([1.90053065e-07, 9.99999810e-01]),\n",
       " array([1.72775514e-07, 9.99999827e-01]),\n",
       " array([1.72775514e-07, 9.99999827e-01]),\n",
       " array([1.57068649e-07, 9.99999843e-01]),\n",
       " array([1.57068649e-07, 9.99999843e-01]),\n",
       " array([1.42789681e-07, 9.99999857e-01]),\n",
       " array([1.42789681e-07, 9.99999857e-01]),\n",
       " array([1.29808801e-07, 9.99999870e-01]),\n",
       " array([1.29808801e-07, 9.99999870e-01]),\n",
       " array([1.18008001e-07, 9.99999882e-01]),\n",
       " array([1.18008001e-07, 9.99999882e-01]),\n",
       " array([1.07280001e-07, 9.99999893e-01]),\n",
       " array([1.07280001e-07, 9.99999893e-01]),\n",
       " array([9.75272734e-08, 9.99999902e-01]),\n",
       " array([9.75272734e-08, 9.99999902e-01]),\n",
       " array([8.86611577e-08, 9.99999911e-01]),\n",
       " array([8.86611577e-08, 9.99999911e-01]),\n",
       " array([8.06010524e-08, 9.99999919e-01]),\n",
       " array([8.06010524e-08, 9.99999919e-01]),\n",
       " array([7.32736840e-08, 9.99999927e-01]),\n",
       " array([7.32736840e-08, 9.99999927e-01]),\n",
       " array([6.66124400e-08, 9.99999933e-01]),\n",
       " array([6.66124400e-08, 9.99999933e-01]),\n",
       " array([6.05567637e-08, 9.99999939e-01]),\n",
       " array([6.05567637e-08, 9.99999939e-01]),\n",
       " array([5.50516033e-08, 9.99999945e-01]),\n",
       " array([5.50516033e-08, 9.99999945e-01]),\n",
       " array([5.00469121e-08, 9.99999950e-01]),\n",
       " array([5.00469121e-08, 9.99999950e-01]),\n",
       " array([4.54971928e-08, 9.99999955e-01]),\n",
       " array([4.54971928e-08, 9.99999955e-01]),\n",
       " array([4.13610844e-08, 9.99999959e-01]),\n",
       " array([4.13610844e-08, 9.99999959e-01]),\n",
       " array([3.76009858e-08, 9.99999962e-01]),\n",
       " array([3.76009858e-08, 9.99999962e-01]),\n",
       " array([3.41827144e-08, 9.99999966e-01]),\n",
       " array([3.41827144e-08, 9.99999966e-01]),\n",
       " array([3.10751949e-08, 9.99999969e-01]),\n",
       " array([3.10751949e-08, 9.99999969e-01]),\n",
       " array([2.82501772e-08, 9.99999972e-01]),\n",
       " array([2.82501772e-08, 9.99999972e-01]),\n",
       " array([2.56819792e-08, 9.99999974e-01]),\n",
       " array([2.56819792e-08, 9.99999974e-01]),\n",
       " array([2.33472539e-08, 9.99999977e-01]),\n",
       " array([2.33472539e-08, 9.99999977e-01]),\n",
       " array([2.12247762e-08, 9.99999979e-01]),\n",
       " array([2.12247762e-08, 9.99999979e-01]),\n",
       " array([1.92952511e-08, 9.99999981e-01]),\n",
       " array([1.92952511e-08, 9.99999981e-01]),\n",
       " array([1.75411374e-08, 9.99999982e-01]),\n",
       " array([1.75411374e-08, 9.99999982e-01]),\n",
       " array([1.59464885e-08, 9.99999984e-01]),\n",
       " array([1.59464885e-08, 9.99999984e-01]),\n",
       " array([1.44968078e-08, 9.99999986e-01]),\n",
       " array([1.44968078e-08, 9.99999986e-01]),\n",
       " array([1.31789161e-08, 9.99999987e-01]),\n",
       " array([1.31789161e-08, 9.99999987e-01]),\n",
       " array([1.19808329e-08, 9.99999988e-01]),\n",
       " array([1.19808329e-08, 9.99999988e-01]),\n",
       " array([1.08916662e-08, 9.99999989e-01]),\n",
       " array([1.08916662e-08, 9.99999989e-01]),\n",
       " array([9.90151476e-09, 9.99999990e-01]),\n",
       " array([9.90151476e-09, 9.99999990e-01]),\n",
       " array([9.00137705e-09, 9.99999991e-01]),\n",
       " array([9.00137705e-09, 9.99999991e-01]),\n",
       " array([8.18307005e-09, 9.99999992e-01]),\n",
       " array([8.18307005e-09, 9.99999992e-01]),\n",
       " array([7.43915459e-09, 9.99999993e-01]),\n",
       " array([7.43915459e-09, 9.99999993e-01]),\n",
       " array([6.76286781e-09, 9.99999993e-01]),\n",
       " array([6.76286781e-09, 9.99999993e-01]),\n",
       " array([6.14806164e-09, 9.99999994e-01]),\n",
       " array([6.14806164e-09, 9.99999994e-01]),\n",
       " array([5.58914695e-09, 9.99999994e-01]),\n",
       " array([5.58914695e-09, 9.99999994e-01]),\n",
       " array([5.08104268e-09, 9.99999995e-01]),\n",
       " array([5.08104268e-09, 9.99999995e-01]),\n",
       " array([4.61912971e-09, 9.99999995e-01]),\n",
       " array([4.61912971e-09, 9.99999995e-01]),\n",
       " array([4.19920883e-09, 9.99999996e-01]),\n",
       " array([4.19920883e-09, 9.99999996e-01]),\n",
       " array([3.81746257e-09, 9.99999996e-01]),\n",
       " array([3.81746257e-09, 9.99999996e-01]),\n",
       " array([3.47042052e-09, 9.99999997e-01]),\n",
       " array([3.47042052e-09, 9.99999997e-01]),\n",
       " array([3.15492774e-09, 9.99999997e-01]),\n",
       " array([3.15492774e-09, 9.99999997e-01]),\n",
       " array([2.86811613e-09, 9.99999997e-01]),\n",
       " array([2.86811613e-09, 9.99999997e-01]),\n",
       " array([2.60737830e-09, 9.99999997e-01]),\n",
       " array([2.60737830e-09, 9.99999997e-01]),\n",
       " array([2.37034391e-09, 9.99999998e-01]),\n",
       " array([2.37034391e-09, 9.99999998e-01]),\n",
       " array([2.15485810e-09, 9.99999998e-01]),\n",
       " array([2.15485810e-09, 9.99999998e-01]),\n",
       " array([1.95896191e-09, 9.99999998e-01]),\n",
       " array([1.95896191e-09, 9.99999998e-01]),\n",
       " array([1.78087446e-09, 9.99999998e-01]),\n",
       " array([1.78087446e-09, 9.99999998e-01]),\n",
       " array([1.61897678e-09, 9.99999998e-01]),\n",
       " array([1.61897678e-09, 9.99999998e-01]),\n",
       " array([1.47179708e-09, 9.99999999e-01]),\n",
       " array([1.47179708e-09, 9.99999999e-01]),\n",
       " array([1.33799734e-09, 9.99999999e-01]),\n",
       " array([1.33799734e-09, 9.99999999e-01]),\n",
       " array([1.21636122e-09, 9.99999999e-01]),\n",
       " array([1.21636122e-09, 9.99999999e-01]),\n",
       " array([1.10578293e-09, 9.99999999e-01]),\n",
       " array([1.10578293e-09, 9.99999999e-01]),\n",
       " array([1.00525721e-09, 9.99999999e-01]),\n",
       " array([1.00525721e-09, 9.99999999e-01]),\n",
       " array([9.13870188e-10, 9.99999999e-01]),\n",
       " array([9.13870188e-10, 9.99999999e-01]),\n",
       " array([8.30791080e-10, 9.99999999e-01]),\n",
       " array([8.30791080e-10, 9.99999999e-01]),\n",
       " array([7.55264618e-10, 9.99999999e-01]),\n",
       " array([7.55264618e-10, 9.99999999e-01]),\n",
       " array([6.86604198e-10, 9.99999999e-01]),\n",
       " array([6.86604198e-10, 9.99999999e-01]),\n",
       " array([6.24185635e-10, 9.99999999e-01]),\n",
       " array([6.24185635e-10, 9.99999999e-01]),\n",
       " array([5.67441486e-10, 9.99999999e-01]),\n",
       " array([5.67441486e-10, 9.99999999e-01]),\n",
       " array([5.15855897e-10, 9.99999999e-01]),\n",
       " array([5.15855897e-10, 9.99999999e-01]),\n",
       " array([4.68959906e-10, 1.00000000e+00]),\n",
       " array([4.68959906e-10, 1.00000000e+00]),\n",
       " array([4.26327187e-10, 1.00000000e+00]),\n",
       " array([4.26327187e-10, 1.00000000e+00]),\n",
       " array([3.8757017e-10, 1.0000000e+00]),\n",
       " array([3.8757017e-10, 1.0000000e+00]),\n",
       " array([3.52336518e-10, 1.00000000e+00]),\n",
       " array([3.52336518e-10, 1.00000000e+00]),\n",
       " array([3.20305926e-10, 1.00000000e+00]),\n",
       " array([3.20305926e-10, 1.00000000e+00]),\n",
       " array([2.91187205e-10, 1.00000000e+00]),\n",
       " array([2.91187205e-10, 1.00000000e+00]),\n",
       " array([2.64715641e-10, 1.00000000e+00]),\n",
       " array([2.64715641e-10, 1.00000000e+00]),\n",
       " array([2.40650583e-10, 1.00000000e+00]),\n",
       " array([2.40650583e-10, 1.00000000e+00]),\n",
       " array([2.18773257e-10, 1.00000000e+00]),\n",
       " array([2.18773257e-10, 1.00000000e+00]),\n",
       " array([1.98884779e-10, 1.00000000e+00]),\n",
       " array([1.98884779e-10, 1.00000000e+00]),\n",
       " array([1.80804345e-10, 1.00000000e+00]),\n",
       " array([1.80804345e-10, 1.00000000e+00]),\n",
       " array([1.64367586e-10, 1.00000000e+00]),\n",
       " array([1.64367586e-10, 1.00000000e+00]),\n",
       " array([1.49425078e-10, 1.00000000e+00]),\n",
       " array([1.49425078e-10, 1.00000000e+00]),\n",
       " array([1.3584098e-10, 1.0000000e+00]),\n",
       " array([1.3584098e-10, 1.0000000e+00]),\n",
       " array([1.234918e-10, 1.000000e+00]),\n",
       " array([1.234918e-10, 1.000000e+00]),\n",
       " array([1.12265273e-10, 1.00000000e+00]),\n",
       " array([1.12265273e-10, 1.00000000e+00]),\n",
       " array([1.02059339e-10, 1.00000000e+00]),\n",
       " array([1.02059339e-10, 1.00000000e+00]),\n",
       " array([9.27812173e-11, 1.00000000e+00]),\n",
       " array([9.27812173e-11, 1.00000000e+00]),\n",
       " array([8.43465612e-11, 1.00000000e+00]),\n",
       " array([8.43465612e-11, 1.00000000e+00]),\n",
       " array([7.6678692e-11, 1.0000000e+00]),\n",
       " array([7.6678692e-11, 1.0000000e+00]),\n",
       " array([6.97079018e-11, 1.00000000e+00]),\n",
       " array([6.97079018e-11, 1.00000000e+00]),\n",
       " array([6.33708198e-11, 1.00000000e+00]),\n",
       " array([6.33708198e-11, 1.00000000e+00]),\n",
       " array([5.76098362e-11, 1.00000000e+00]),\n",
       " array([5.76098362e-11, 1.00000000e+00]),\n",
       " array([5.23725784e-11, 1.00000000e+00]),\n",
       " array([5.23725784e-11, 1.00000000e+00]),\n",
       " array([4.76114349e-11, 1.00000000e+00]),\n",
       " array([4.76114349e-11, 1.00000000e+00]),\n",
       " array([4.32831226e-11, 1.00000000e+00]),\n",
       " array([4.32831226e-11, 1.00000000e+00]),\n",
       " array([3.93482933e-11, 1.00000000e+00]),\n",
       " array([3.93482933e-11, 1.00000000e+00]),\n",
       " array([3.57711757e-11, 1.00000000e+00]),\n",
       " array([3.57711757e-11, 1.00000000e+00]),\n",
       " array([3.25192507e-11, 1.00000000e+00]),\n",
       " array([3.25192507e-11, 1.00000000e+00]),\n",
       " array([2.95629551e-11, 1.00000000e+00]),\n",
       " array([2.95629551e-11, 1.00000000e+00]),\n",
       " array([2.68754138e-11, 1.00000000e+00]),\n",
       " array([2.68754138e-11, 1.00000000e+00]),\n",
       " array([2.44321943e-11, 1.00000000e+00]),\n",
       " array([2.44321943e-11, 1.00000000e+00]),\n",
       " array([2.22110858e-11, 1.00000000e+00]),\n",
       " array([2.22110858e-11, 1.00000000e+00]),\n",
       " array([2.01918961e-11, 1.00000000e+00]),\n",
       " array([2.01918961e-11, 1.00000000e+00]),\n",
       " array([1.83562692e-11, 1.00000000e+00]),\n",
       " array([1.83562692e-11, 1.00000000e+00]),\n",
       " array([1.66875175e-11, 1.00000000e+00]),\n",
       " array([1.66875175e-11, 1.00000000e+00]),\n",
       " array([1.51704704e-11, 1.00000000e+00]),\n",
       " array([1.51704704e-11, 1.00000000e+00]),\n",
       " array([1.37913368e-11, 1.00000000e+00]),\n",
       " array([1.37913368e-11, 1.00000000e+00]),\n",
       " array([1.25375789e-11, 1.00000000e+00]),\n",
       " array([1.25375789e-11, 1.00000000e+00]),\n",
       " array([1.1397799e-11, 1.0000000e+00]),\n",
       " array([1.1397799e-11, 1.0000000e+00]),\n",
       " array([1.03616354e-11, 1.00000000e+00]),\n",
       " array([1.03616354e-11, 1.00000000e+00]),\n",
       " array([9.41966857e-12, 1.00000000e+00]),\n",
       " array([9.41966857e-12, 1.00000000e+00]),\n",
       " array([8.56333506e-12, 1.00000000e+00]),\n",
       " array([8.56333506e-12, 1.00000000e+00]),\n",
       " array([7.78485006e-12, 1.00000000e+00]),\n",
       " array([7.78485006e-12, 1.00000000e+00]),\n",
       " array([7.07713642e-12, 1.00000000e+00]),\n",
       " array([7.07713642e-12, 1.00000000e+00]),\n",
       " array([6.43376038e-12, 1.00000000e+00]),\n",
       " array([6.43376038e-12, 1.00000000e+00]),\n",
       " array([5.84887307e-12, 1.00000000e+00]),\n",
       " array([5.84887307e-12, 1.00000000e+00]),\n",
       " array([5.31715734e-12, 1.00000000e+00]),\n",
       " array([5.31715734e-12, 1.00000000e+00]),\n",
       " array([4.8337794e-12, 1.0000000e+00]),\n",
       " array([4.8337794e-12, 1.0000000e+00]),\n",
       " array([4.39434491e-12, 1.00000000e+00]),\n",
       " array([4.39434491e-12, 1.00000000e+00]),\n",
       " array([3.99485901e-12, 1.00000000e+00]),\n",
       " array([3.99485901e-12, 1.00000000e+00]),\n",
       " array([3.63169001e-12, 1.00000000e+00]),\n",
       " array([3.63169001e-12, 1.00000000e+00]),\n",
       " array([3.30153637e-12, 1.00000000e+00]),\n",
       " array([3.30153637e-12, 1.00000000e+00]),\n",
       " array([3.0013967e-12, 1.0000000e+00]),\n",
       " array([3.0013967e-12, 1.0000000e+00]),\n",
       " array([2.72854245e-12, 1.00000000e+00]),\n",
       " array([2.72854245e-12, 1.00000000e+00]),\n",
       " array([2.48049314e-12, 1.00000000e+00]),\n",
       " array([2.48049314e-12, 1.00000000e+00]),\n",
       " array([2.25499376e-12, 1.00000000e+00]),\n",
       " array([2.25499376e-12, 1.00000000e+00]),\n",
       " array([2.04999433e-12, 1.00000000e+00]),\n",
       " array([2.04999433e-12, 1.00000000e+00]),\n",
       " array([1.86363121e-12, 1.00000000e+00]),\n",
       " array([1.86363121e-12, 1.00000000e+00]),\n",
       " array([1.69421019e-12, 1.00000000e+00]),\n",
       " array([1.69421019e-12, 1.00000000e+00]),\n",
       " array([1.54019108e-12, 1.00000000e+00]),\n",
       " array([1.54019108e-12, 1.00000000e+00]),\n",
       " array([1.40017371e-12, 1.00000000e+00]),\n",
       " array([1.40017371e-12, 1.00000000e+00]),\n",
       " array([1.27288519e-12, 1.00000000e+00]),\n",
       " array([1.27288519e-12, 1.00000000e+00]),\n",
       " array([1.15716836e-12, 1.00000000e+00]),\n",
       " array([1.15716836e-12, 1.00000000e+00]),\n",
       " array([1.05197123e-12, 1.00000000e+00]),\n",
       " array([1.05197123e-12, 1.00000000e+00]),\n",
       " array([9.56337485e-13, 1.00000000e+00]),\n",
       " array([9.56337485e-13, 1.00000000e+00]),\n",
       " array([8.69397713e-13, 1.00000000e+00]),\n",
       " array([8.69397713e-13, 1.00000000e+00]),\n",
       " array([7.90361557e-13, 1.00000000e+00]),\n",
       " array([7.90361557e-13, 1.00000000e+00]),\n",
       " array([7.18510507e-13, 1.00000000e+00]),\n",
       " array([7.18510507e-13, 1.00000000e+00]),\n",
       " array([6.5319137e-13, 1.0000000e+00])]"
      ]
     },
     "execution_count": 41,
     "metadata": {},
     "output_type": "execute_result"
    }
   ],
   "source": [
    "mu_best_list"
   ]
  },
  {
   "cell_type": "code",
   "execution_count": null,
   "metadata": {},
   "outputs": [],
   "source": []
  }
 ],
 "metadata": {
  "colab": {
   "collapsed_sections": [],
   "name": "Fairness with hyperparameter tunning.ipynb",
   "provenance": [],
   "toc_visible": true
  },
  "kernelspec": {
   "display_name": "Python 3",
   "language": "python",
   "name": "python3"
  },
  "language_info": {
   "codemirror_mode": {
    "name": "ipython",
    "version": 3
   },
   "file_extension": ".py",
   "mimetype": "text/x-python",
   "name": "python",
   "nbconvert_exporter": "python",
   "pygments_lexer": "ipython3",
   "version": "3.7.7"
  }
 },
 "nbformat": 4,
 "nbformat_minor": 4
}
