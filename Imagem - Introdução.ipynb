{
 "cells": [
  {
   "cell_type": "code",
   "execution_count": 1,
   "metadata": {},
   "outputs": [
    {
     "name": "stderr",
     "output_type": "stream",
     "text": [
      "/root/anaconda3/envs/py36/lib/python3.6/site-packages/sklearn/utils/deprecation.py:143: FutureWarning: The sklearn.linear_model.base module is  deprecated in version 0.22 and will be removed in version 0.24. The corresponding classes / functions should instead be imported from sklearn.linear_model. Anything that cannot be imported from sklearn.linear_model is now part of the private API.\n",
      "  warnings.warn(message, FutureWarning)\n"
     ]
    }
   ],
   "source": [
    "from sklearn.metrics import log_loss\n",
    "from sklearn.utils.extmath import squared_norm\n",
    "from moopt.scalarization_interface import scalar_interface, single_interface, w_interface\n",
    "from moopt import monise\n",
    "import numpy as np\n",
    "import sklearn\n",
    "from sklego.metrics import equal_opportunity_score\n",
    "from sklego.metrics import p_percent_score\n",
    "from sklearn.metrics import log_loss\n",
    "from sklearn.utils.extmath import squared_norm\n",
    "from sklego.linear_model import DemographicParityClassifier\n",
    "from sklego.linear_model import EqualOpportunityClassifier\n",
    "from sklearn.linear_model import LogisticRegression\n",
    "import optuna\n",
    "import pandas as pd\n",
    "from scipy import stats\n",
    "import math\n",
    "\n",
    "import sys\n",
    "sys.path.append(\"./MMFP/\")\n",
    "from MMPF.MinimaxParetoFair.MMPF_trainer import SKLearn_Weighted_LLR, APSTAR\n",
    "\n",
    "import pandas as pd\n",
    "import math\n",
    "import random\n",
    "import numpy as np\n",
    "\n",
    "from sklearn import preprocessing\n",
    "from sklearn.model_selection import train_test_split\n",
    "from sklearn.linear_model import LogisticRegression\n",
    "from sklego.metrics import equal_opportunity_score\n",
    "from sklego.metrics import p_percent_score\n",
    "from sklearn.metrics import log_loss, accuracy_score\n",
    "from sklearn.utils.extmath import squared_norm\n",
    "import optuna, sklearn, sklearn.datasets\n",
    "\n",
    "from moopt.scalarization_interface import scalar_interface, single_interface, w_interface\n",
    "from moopt import monise\n",
    "\n",
    "from fair_models import coefficient_of_variation, MOOLogisticRegression, FindCLogisticRegression, FindCCLogisticRegression\n",
    "from fair_models import calc_reweight\n",
    "from fair_models import FairScalarization, EqualScalarization\n",
    "from fair_models import SimpleVoting\n",
    "\n",
    "import plotly\n",
    "import plotly.graph_objects as go\n",
    "import matplotlib.pyplot as plt\n",
    "\n",
    "import sys\n",
    "sys.path.append(\"./MMFP/\")\n",
    "from MMPF.MinimaxParetoFair.MMPF_trainer import SKLearn_Weighted_LLR, APSTAR"
   ]
  },
  {
   "cell_type": "code",
   "execution_count": 2,
   "metadata": {},
   "outputs": [],
   "source": [
    "import matplotlib.pyplot as plt\n",
    "import math"
   ]
  },
  {
   "cell_type": "code",
   "execution_count": 3,
   "metadata": {},
   "outputs": [],
   "source": [
    "class ImageScalarization(w_interface, single_interface, scalar_interface):\n",
    "    def __init__(self, X, y, fair_feat):\n",
    "        self.fair_feat = fair_feat\n",
    "        self.fair_att = sorted(X[fair_feat].unique())\n",
    "        self.__M = len(self.fair_att)\n",
    "        self.X, self.y = X, y\n",
    "\n",
    "    @property\n",
    "    def M(self):\n",
    "        return self.__M\n",
    "\n",
    "    @property\n",
    "    def feasible(self):\n",
    "        return True\n",
    "\n",
    "    @property\n",
    "    def optimum(self):\n",
    "        return True\n",
    "\n",
    "    @property\n",
    "    def objs(self):\n",
    "        return self.__objs\n",
    "\n",
    "    @property\n",
    "    def x(self):\n",
    "        return self.__x\n",
    "\n",
    "    @property\n",
    "    def w(self):\n",
    "        return self.__w\n",
    "\n",
    "    def optimize(self, w):\n",
    "        \"\"\"Calculates the a multiobjective scalarization\"\"\"\n",
    "        if type(w) is int:\n",
    "            self.__w = np.zeros(self.M)\n",
    "            self.__w[w] = 1\n",
    "        elif type(w) is np.ndarray and w.ndim==1 and w.size==self.M:\n",
    "            self.__w = w\n",
    "        else:\n",
    "            raise('w is in the wrong format')\n",
    "        #print('w', self.__w)\n",
    "            \n",
    "        lambd = math.exp(-20)\n",
    "        fair_weight = self.__w\n",
    "        \n",
    "        sample_weight = self.X[self.fair_feat].replace({ff:fw/sum(self.X[self.fair_feat]==ff) for ff, fw in zip(self.fair_att,fair_weight)})\n",
    "        prec = np.mean(sample_weight)\n",
    "        reg = LogisticRegression(multi_class='multinomial', solver='lbfgs', class_weight=None,\n",
    "                                 penalty='l2', max_iter=10**4, tol=prec*10**-6, \n",
    "                                 C=1/lambd).fit(self.X, self.y, sample_weight=sample_weight.values)\n",
    "        \n",
    "        y_pred = reg.predict_proba(self.X)\n",
    "        \n",
    "        self.__objs = np.zeros(len(self.fair_att))\n",
    "        for i, feat in enumerate(self.fair_att):\n",
    "            fair_weight = np.zeros(len(self.fair_att))\n",
    "            fair_weight[i] = 1\n",
    "            sample_weight = self.X[self.fair_feat].replace({ff:fw for ff, fw in zip(self.fair_att,fair_weight)})\n",
    "            self.__objs[i] = log_loss(self.y, y_pred, sample_weight=sample_weight)\n",
    "        \n",
    "        self.__x = reg\n",
    "        return self"
   ]
  },
  {
   "cell_type": "code",
   "execution_count": 4,
   "metadata": {},
   "outputs": [],
   "source": [
    "data = pd.read_csv(\"Datasets - Limpos/compas_onerace.csv\")\n",
    "fair_feature = \"not_white\"\n",
    "pred_feature = \"Two_yr_Recidivism\""
   ]
  },
  {
   "cell_type": "code",
   "execution_count": 5,
   "metadata": {},
   "outputs": [],
   "source": [
    "data = data.drop(\"Unnamed: 0\", axis=1)"
   ]
  },
  {
   "cell_type": "code",
   "execution_count": 6,
   "metadata": {},
   "outputs": [],
   "source": [
    "categories_fair_class = []\n",
    "\n",
    "for index, row in data.iterrows():\n",
    "    if row[pred_feature] == -1:\n",
    "        categories_fair_class.append(row[fair_feature])\n",
    "    else:\n",
    "        categories_fair_class.append(row[fair_feature]+2)"
   ]
  },
  {
   "cell_type": "code",
   "execution_count": 7,
   "metadata": {},
   "outputs": [],
   "source": [
    "X = data.drop([pred_feature], axis=1)\n",
    "y = data[pred_feature]\n",
    "\n",
    "X_train, X_test, y_train, y_test = train_test_split(X, y, test_size=int(data.shape[0]*0.2),stratify=categories_fair_class)"
   ]
  },
  {
   "cell_type": "code",
   "execution_count": 8,
   "metadata": {},
   "outputs": [],
   "source": [
    "X_raca1_train = X_train[X_train[fair_feature] == 1]\n",
    "y_raca1_train = y_train[X_train[fair_feature] == 1]\n",
    "X_raca0_train = X_train[X_train[fair_feature] == 0]\n",
    "y_raca0_train = y_train[X_train[fair_feature] == 0]"
   ]
  },
  {
   "cell_type": "code",
   "execution_count": 9,
   "metadata": {},
   "outputs": [],
   "source": [
    "X_raca1_test = X_test[X_test[fair_feature] == 1]\n",
    "y_raca1_test = y_test[X_test[fair_feature] == 1]\n",
    "X_raca0_test = X_test[X_test[fair_feature] == 0]\n",
    "y_raca0_test = y_test[X_test[fair_feature] == 0]"
   ]
  },
  {
   "cell_type": "code",
   "execution_count": 10,
   "metadata": {
    "scrolled": true
   },
   "outputs": [
    {
     "name": "stderr",
     "output_type": "stream",
     "text": [
      "2021-04-29 19:20:28,858 - moopt.monise - DEBUG: Finding 1th individual minima\n",
      "2021-04-29 19:20:28,915 - moopt.monise - DEBUG: Finding 2th individual minima\n"
     ]
    },
    {
     "name": "stdout",
     "output_type": "stream",
     "text": [
      "\n",
      "--------------------------------------------\n",
      "Warning: your license will expire in 8 days\n",
      "--------------------------------------------\n",
      "\n",
      "Using license file /opt/gurobi/gurobi.lic\n",
      "Academic license - for non-commercial use only\n"
     ]
    },
    {
     "name": "stderr",
     "output_type": "stream",
     "text": [
      "2021-04-29 19:20:29,045 - moopt.monise - DEBUG: 3th solution - importance: 1.0\n",
      "2021-04-29 19:20:29,113 - moopt.monise - DEBUG: 4th solution - importance: 1.0\n",
      "2021-04-29 19:20:29,222 - moopt.monise - DEBUG: 5th solution - importance: 1.0\n",
      "2021-04-29 19:20:29,290 - moopt.monise - DEBUG: 6th solution - importance: 1.0\n",
      "2021-04-29 19:20:29,364 - moopt.monise - DEBUG: 7th solution - importance: 1.0\n",
      "2021-04-29 19:20:29,445 - moopt.monise - DEBUG: 8th solution - importance: 0.32020799112082793\n",
      "2021-04-29 19:20:29,529 - moopt.monise - DEBUG: 9th solution - importance: 0.10847193746273583\n",
      "2021-04-29 19:20:29,605 - moopt.monise - DEBUG: 10th solution - importance: 0.08549316334059884\n",
      "2021-04-29 19:20:29,690 - moopt.monise - DEBUG: 11th solution - importance: 0.07499144745231186\n",
      "2021-04-29 19:20:29,778 - moopt.monise - DEBUG: 12th solution - importance: 0.04590401067630497\n",
      "2021-04-29 19:20:29,866 - moopt.monise - DEBUG: 13th solution - importance: 0.021768170638072452\n",
      "2021-04-29 19:20:29,971 - moopt.monise - DEBUG: 14th solution - importance: 0.02099145053288889\n",
      "2021-04-29 19:20:30,080 - moopt.monise - DEBUG: 15th solution - importance: 0.01994432936814003\n",
      "2021-04-29 19:20:30,180 - moopt.monise - DEBUG: 16th solution - importance: 0.017586103339350602\n",
      "2021-04-29 19:20:30,287 - moopt.monise - DEBUG: 17th solution - importance: 0.011512625856171755\n",
      "2021-04-29 19:20:30,397 - moopt.monise - DEBUG: 18th solution - importance: 0.011439354031710314\n",
      "2021-04-29 19:20:30,518 - moopt.monise - DEBUG: 19th solution - importance: 0.005489515169334262\n",
      "2021-04-29 19:20:30,637 - moopt.monise - DEBUG: 20th solution - importance: 0.005489515169334262\n",
      "2021-04-29 19:20:30,761 - moopt.monise - DEBUG: 21th solution - importance: 0.005489515169334262\n",
      "2021-04-29 19:20:30,887 - moopt.monise - DEBUG: 22th solution - importance: 0.005220595796240393\n",
      "2021-04-29 19:20:31,046 - moopt.monise - DEBUG: 23th solution - importance: 0.005220595796240393\n",
      "2021-04-29 19:20:31,185 - moopt.monise - DEBUG: 24th solution - importance: 0.0049679716478075895\n",
      "2021-04-29 19:20:31,333 - moopt.monise - DEBUG: 25th solution - importance: 0.004744553487790245\n",
      "2021-04-29 19:20:31,499 - moopt.monise - DEBUG: 26th solution - importance: 0.00403025493544392\n",
      "2021-04-29 19:20:31,673 - moopt.monise - DEBUG: 27th solution - importance: 0.0029045533053918948\n",
      "2021-04-29 19:20:31,847 - moopt.monise - DEBUG: 28th solution - importance: 0.00286739055711616\n",
      "2021-04-29 19:20:32,025 - moopt.monise - DEBUG: 29th solution - importance: 0.00286739055711616\n",
      "2021-04-29 19:20:32,224 - moopt.monise - DEBUG: 30th solution - importance: 0.00286739055711616\n",
      "2021-04-29 19:20:32,421 - moopt.monise - DEBUG: 31th solution - importance: 0.00274137239876936\n",
      "2021-04-29 19:20:32,598 - moopt.monise - DEBUG: 32th solution - importance: 0.0014015981267588194\n",
      "2021-04-29 19:20:32,816 - moopt.monise - DEBUG: 33th solution - importance: 0.0014015981267588194\n",
      "2021-04-29 19:20:33,030 - moopt.monise - DEBUG: 34th solution - importance: 0.0014015981267588194\n",
      "2021-04-29 19:20:33,236 - moopt.monise - DEBUG: 35th solution - importance: 0.001354646946084203\n",
      "2021-04-29 19:20:33,451 - moopt.monise - DEBUG: 36th solution - importance: 0.001342976744820322\n",
      "2021-04-29 19:20:33,671 - moopt.monise - DEBUG: 37th solution - importance: 0.0013246849410894616\n",
      "2021-04-29 19:20:33,875 - moopt.monise - DEBUG: 38th solution - importance: 0.0013246849410894616\n",
      "2021-04-29 19:20:34,121 - moopt.monise - DEBUG: 39th solution - importance: 0.0013246849410894616\n",
      "2021-04-29 19:20:34,363 - moopt.monise - DEBUG: 40th solution - importance: 0.001313278750355575\n",
      "2021-04-29 19:20:34,613 - moopt.monise - DEBUG: 41th solution - importance: 0.001313278750355575\n",
      "2021-04-29 19:20:34,869 - moopt.monise - DEBUG: 42th solution - importance: 0.0012494953431288463\n",
      "2021-04-29 19:20:35,129 - moopt.monise - DEBUG: 43th solution - importance: 0.0012450513660410365\n",
      "2021-04-29 19:20:35,375 - moopt.monise - DEBUG: 44th solution - importance: 0.0012345962107000732\n",
      "2021-04-29 19:20:35,630 - moopt.monise - DEBUG: 45th solution - importance: 0.0011991359583471378\n",
      "2021-04-29 19:20:35,904 - moopt.monise - DEBUG: 46th solution - importance: 0.0011732989262690885\n",
      "2021-04-29 19:20:36,197 - moopt.monise - DEBUG: 47th solution - importance: 0.0011394507683306992\n",
      "2021-04-29 19:20:36,497 - moopt.monise - DEBUG: 48th solution - importance: 0.0008529159207099102\n",
      "2021-04-29 19:20:36,795 - moopt.monise - DEBUG: 49th solution - importance: 0.0007312913653241848\n",
      "2021-04-29 19:20:37,098 - moopt.monise - DEBUG: 50th solution - importance: 0.0007245662574024624\n",
      "2021-04-29 19:20:37,402 - moopt.monise - DEBUG: 51th solution - importance: 0.0007207663005653286\n",
      "2021-04-29 19:20:37,720 - moopt.monise - DEBUG: 52th solution - importance: 0.0007181011171223081\n",
      "2021-04-29 19:20:38,041 - moopt.monise - DEBUG: 53th solution - importance: 0.0007155840344128859\n",
      "2021-04-29 19:20:38,360 - moopt.monise - DEBUG: 54th solution - importance: 0.0007144176510749776\n",
      "2021-04-29 19:20:38,673 - moopt.monise - DEBUG: 55th solution - importance: 0.0007117256466039509\n",
      "2021-04-29 19:20:38,983 - moopt.monise - DEBUG: 56th solution - importance: 0.0007008087759814368\n",
      "2021-04-29 19:20:39,311 - moopt.monise - DEBUG: 57th solution - importance: 0.00038495856974113727\n",
      "2021-04-29 19:20:39,631 - moopt.monise - DEBUG: 58th solution - importance: 0.00035031095647481965\n",
      "2021-04-29 19:20:39,950 - moopt.monise - DEBUG: 59th solution - importance: 0.00035031095647481965\n",
      "2021-04-29 19:20:40,271 - moopt.monise - DEBUG: 60th solution - importance: 0.00038495856974118085\n",
      "2021-04-29 19:20:40,600 - moopt.monise - DEBUG: 61th solution - importance: 0.00038495856974118085\n",
      "2021-04-29 19:20:40,938 - moopt.monise - DEBUG: 62th solution - importance: 0.00038495856974118085\n",
      "2021-04-29 19:20:41,265 - moopt.monise - DEBUG: 63th solution - importance: 0.00038495856974118085\n",
      "2021-04-29 19:20:41,615 - moopt.monise - DEBUG: 64th solution - importance: 0.00038495856974118085\n",
      "2021-04-29 19:20:41,980 - moopt.monise - DEBUG: 65th solution - importance: 0.00035031095647481965\n",
      "2021-04-29 19:20:42,323 - moopt.monise - DEBUG: 66th solution - importance: 0.00035031095647481965\n",
      "2021-04-29 19:20:42,675 - moopt.monise - DEBUG: 67th solution - importance: 0.00035031095647481965\n",
      "2021-04-29 19:20:43,044 - moopt.monise - DEBUG: 68th solution - importance: 0.00035031095647481965\n",
      "2021-04-29 19:20:43,474 - moopt.monise - DEBUG: 69th solution - importance: 0.00035031095647481965\n",
      "2021-04-29 19:20:43,904 - moopt.monise - DEBUG: 70th solution - importance: 0.00038495856974113244\n",
      "2021-04-29 19:20:44,364 - moopt.monise - DEBUG: 71th solution - importance: 0.00038495856974113244\n",
      "2021-04-29 19:20:44,814 - moopt.monise - DEBUG: 72th solution - importance: 0.00038495856974113244\n",
      "2021-04-29 19:20:45,310 - moopt.monise - DEBUG: 73th solution - importance: 0.00038495856974113244\n",
      "2021-04-29 19:20:45,794 - moopt.monise - DEBUG: 74th solution - importance: 0.00038495856974113244\n",
      "2021-04-29 19:20:46,305 - moopt.monise - DEBUG: 75th solution - importance: 0.000357343227215605\n",
      "2021-04-29 19:20:46,821 - moopt.monise - DEBUG: 76th solution - importance: 0.000357343227215605\n",
      "2021-04-29 19:20:47,357 - moopt.monise - DEBUG: 77th solution - importance: 0.000357343227215605\n",
      "2021-04-29 19:20:47,898 - moopt.monise - DEBUG: 78th solution - importance: 0.000357343227215605\n",
      "2021-04-29 19:20:48,448 - moopt.monise - DEBUG: 79th solution - importance: 0.0004177536276407689\n",
      "2021-04-29 19:20:49,039 - moopt.monise - DEBUG: 80th solution - importance: 0.0004177536276407689\n",
      "2021-04-29 19:20:49,631 - moopt.monise - DEBUG: 81th solution - importance: 0.0004177536276407689\n",
      "2021-04-29 19:20:50,220 - moopt.monise - DEBUG: 82th solution - importance: 0.0004177536276407689\n",
      "2021-04-29 19:20:50,862 - moopt.monise - DEBUG: 83th solution - importance: 0.0004177536276407689\n",
      "2021-04-29 19:20:51,475 - moopt.monise - DEBUG: 84th solution - importance: 0.0003503109564748326\n",
      "2021-04-29 19:20:52,074 - moopt.monise - DEBUG: 85th solution - importance: 0.0003503109564748326\n",
      "2021-04-29 19:20:52,716 - moopt.monise - DEBUG: 86th solution - importance: 0.00035031095647481965\n"
     ]
    },
    {
     "name": "stderr",
     "output_type": "stream",
     "text": [
      "2021-04-29 19:20:53,379 - moopt.monise - DEBUG: 87th solution - importance: 0.00035031095647481965\n",
      "2021-04-29 19:20:54,045 - moopt.monise - DEBUG: 88th solution - importance: 0.00035031095647481965\n",
      "2021-04-29 19:20:54,740 - moopt.monise - DEBUG: 89th solution - importance: 0.00035031095647481965\n",
      "2021-04-29 19:20:55,432 - moopt.monise - DEBUG: 90th solution - importance: 0.0003503109564747959\n",
      "2021-04-29 19:20:56,130 - moopt.monise - DEBUG: 91th solution - importance: 0.00035031095647481965\n",
      "2021-04-29 19:20:56,835 - moopt.monise - DEBUG: 92th solution - importance: 0.00035031095647481965\n",
      "2021-04-29 19:20:57,539 - moopt.monise - DEBUG: 93th solution - importance: 0.00035031095647481965\n",
      "2021-04-29 19:20:58,280 - moopt.monise - DEBUG: 94th solution - importance: 0.00035031095647481965\n",
      "2021-04-29 19:20:59,004 - moopt.monise - DEBUG: 95th solution - importance: 0.00035031095647481965\n",
      "2021-04-29 19:20:59,749 - moopt.monise - DEBUG: 96th solution - importance: 0.00035031095647481965\n",
      "2021-04-29 19:21:00,491 - moopt.monise - DEBUG: 97th solution - importance: 0.00035031095647481965\n",
      "2021-04-29 19:21:01,233 - moopt.monise - DEBUG: 98th solution - importance: 0.00035031095647481965\n",
      "2021-04-29 19:21:02,001 - moopt.monise - DEBUG: 99th solution - importance: 0.00035031095647481124\n",
      "2021-04-29 19:21:02,799 - moopt.monise - DEBUG: 100th solution - importance: 0.00035031095647481965\n",
      "2021-04-29 19:21:03,515 - moopt.monise - DEBUG: 101th solution - importance: 0.00035031095647481965\n",
      "2021-04-29 19:21:04,303 - moopt.monise - DEBUG: 102th solution - importance: 0.00035031095647481965\n",
      "2021-04-29 19:21:05,111 - moopt.monise - DEBUG: 103th solution - importance: 0.00035031095647481965\n",
      "2021-04-29 19:21:05,868 - moopt.monise - DEBUG: 104th solution - importance: 0.00035031095647481965\n",
      "2021-04-29 19:21:06,633 - moopt.monise - DEBUG: 105th solution - importance: 0.0003503109564747959\n",
      "2021-04-29 19:21:07,458 - moopt.monise - DEBUG: 106th solution - importance: 0.00035031095647481965\n",
      "2021-04-29 19:21:08,273 - moopt.monise - DEBUG: 107th solution - importance: 0.00035031095647481965\n",
      "2021-04-29 19:21:09,057 - moopt.monise - DEBUG: 108th solution - importance: 0.00035031095647481965\n",
      "2021-04-29 19:21:09,878 - moopt.monise - DEBUG: 109th solution - importance: 0.00035031095647481965\n",
      "2021-04-29 19:21:11,067 - moopt.monise - DEBUG: 110th solution - importance: 0.00035031095647481965\n",
      "2021-04-29 19:21:12,091 - moopt.monise - DEBUG: 111th solution - importance: 0.0003503109564747959\n",
      "2021-04-29 19:21:12,950 - moopt.monise - DEBUG: 112th solution - importance: 0.0003503109564747959\n",
      "2021-04-29 19:21:13,867 - moopt.monise - DEBUG: 113th solution - importance: 0.0003503109564747959\n",
      "2021-04-29 19:21:14,786 - moopt.monise - DEBUG: 114th solution - importance: 0.0003503109564747959\n",
      "2021-04-29 19:21:15,690 - moopt.monise - DEBUG: 115th solution - importance: 0.0003503109564747959\n",
      "2021-04-29 19:21:16,664 - moopt.monise - DEBUG: 116th solution - importance: 0.00038246547186959566\n",
      "2021-04-29 19:21:17,583 - moopt.monise - DEBUG: 117th solution - importance: 0.00038246547186959566\n",
      "2021-04-29 19:21:18,497 - moopt.monise - DEBUG: 118th solution - importance: 0.00038246547186959566\n",
      "2021-04-29 19:21:19,432 - moopt.monise - DEBUG: 119th solution - importance: 0.00038246547186959566\n",
      "2021-04-29 19:21:20,409 - moopt.monise - DEBUG: 120th solution - importance: 0.00038246547186959566\n",
      "2021-04-29 19:21:21,396 - moopt.monise - DEBUG: 121th solution - importance: 0.00035734322720607295\n",
      "2021-04-29 19:21:22,546 - moopt.monise - DEBUG: 122th solution - importance: 0.00035734322720607295\n",
      "2021-04-29 19:21:23,666 - moopt.monise - DEBUG: 123th solution - importance: 0.00035734322720607295\n",
      "2021-04-29 19:21:24,784 - moopt.monise - DEBUG: 124th solution - importance: 0.00035734322720607295\n",
      "2021-04-29 19:21:25,787 - moopt.monise - DEBUG: 125th solution - importance: 0.00035031095647481965\n",
      "2021-04-29 19:21:26,795 - moopt.monise - DEBUG: 126th solution - importance: 0.00035031095647481965\n",
      "2021-04-29 19:21:27,806 - moopt.monise - DEBUG: 127th solution - importance: 0.0003503109564747959\n",
      "2021-04-29 19:21:28,929 - moopt.monise - DEBUG: 128th solution - importance: 0.0003503109564747959\n",
      "2021-04-29 19:21:30,002 - moopt.monise - DEBUG: 129th solution - importance: 0.0003503109564747959\n",
      "2021-04-29 19:21:31,091 - moopt.monise - DEBUG: 130th solution - importance: 0.00035031095647481965\n",
      "2021-04-29 19:21:32,195 - moopt.monise - DEBUG: 131th solution - importance: 0.00035031095647481965\n",
      "2021-04-29 19:21:33,367 - moopt.monise - DEBUG: 132th solution - importance: 0.00035031095647481965\n",
      "2021-04-29 19:21:34,542 - moopt.monise - DEBUG: 133th solution - importance: 0.00035031095647481965\n",
      "2021-04-29 19:21:35,779 - moopt.monise - DEBUG: 134th solution - importance: 0.00035031095647481965\n",
      "2021-04-29 19:21:36,942 - moopt.monise - DEBUG: 135th solution - importance: 0.00035031095647481965\n",
      "2021-04-29 19:21:38,122 - moopt.monise - DEBUG: 136th solution - importance: 0.00035031095647481965\n",
      "2021-04-29 19:21:39,312 - moopt.monise - DEBUG: 137th solution - importance: 0.00035031095647481965\n",
      "2021-04-29 19:21:40,522 - moopt.monise - DEBUG: 138th solution - importance: 0.00038495856974117614\n",
      "2021-04-29 19:21:41,760 - moopt.monise - DEBUG: 139th solution - importance: 0.00038495856974117614\n",
      "2021-04-29 19:21:43,138 - moopt.monise - DEBUG: 140th solution - importance: 0.00038495856974117614\n",
      "2021-04-29 19:21:44,449 - moopt.monise - DEBUG: 141th solution - importance: 0.00038495856974117614\n",
      "2021-04-29 19:21:45,703 - moopt.monise - DEBUG: 142th solution - importance: 0.00038495856974117614\n",
      "2021-04-29 19:21:47,036 - moopt.monise - DEBUG: 143th solution - importance: 0.00035031095647481965\n",
      "2021-04-29 19:21:48,302 - moopt.monise - DEBUG: 144th solution - importance: 0.00035031095647481965\n",
      "2021-04-29 19:21:49,719 - moopt.monise - DEBUG: 145th solution - importance: 0.00035031095647481965\n",
      "2021-04-29 19:21:51,054 - moopt.monise - DEBUG: 146th solution - importance: 0.00035031095647481965\n",
      "2021-04-29 19:21:52,472 - moopt.monise - DEBUG: 147th solution - importance: 0.00035031095647481965\n",
      "2021-04-29 19:21:53,859 - moopt.monise - DEBUG: 148th solution - importance: 0.00035031095647481965\n",
      "2021-04-29 19:21:55,284 - moopt.monise - DEBUG: 149th solution - importance: 0.00035031095647481965\n",
      "2021-04-29 19:21:56,769 - moopt.monise - DEBUG: 150th solution - importance: 0.00035031095647481965\n"
     ]
    }
   ],
   "source": [
    "err_image = monise(weightedScalar=ImageScalarization(X_train, y_train, fair_feature),\n",
    "                 singleScalar=ImageScalarization(X_train, y_train, fair_feature),\n",
    "                  nodeTimeLimit=5, targetSize=150,\n",
    "                  targetGap=0, nodeGap=0.05, norm=False)\n",
    "\n",
    "err_image.optimize()"
   ]
  },
  {
   "cell_type": "code",
   "execution_count": 11,
   "metadata": {},
   "outputs": [],
   "source": [
    "loss = {\"Raca1\": [], \"Raca0\": []}\n",
    "\n",
    "for solution in err_image.solutionsList:\n",
    "    #sols.append(solution.x)\n",
    "    #erro['Raca1'].append(solution.x.score(X_raca1_train, y_raca1_train))\n",
    "    #erro['Raca0'].append(solution.x.score(X_raca0_train, y_raca0_train))\n",
    "    loss['Raca0'].append(log_loss(y_raca0_train, solution.x.predict_proba(X_raca0_train)))\n",
    "    loss['Raca1'].append(log_loss(y_raca1_train, solution.x.predict_proba(X_raca1_train)))"
   ]
  },
  {
   "cell_type": "code",
   "execution_count": 12,
   "metadata": {},
   "outputs": [],
   "source": [
    "loss_dt = pd.DataFrame.from_dict(loss).sort_values(by='Raca0')"
   ]
  },
  {
   "cell_type": "code",
   "execution_count": 13,
   "metadata": {},
   "outputs": [
    {
     "data": {
      "text/plain": [
       "<Figure size 432x288 with 0 Axes>"
      ]
     },
     "metadata": {},
     "output_type": "display_data"
    }
   ],
   "source": [
    "fig= plt.figure(figsize=(6,4))"
   ]
  },
  {
   "cell_type": "code",
   "execution_count": 17,
   "metadata": {},
   "outputs": [
    {
     "data": {
      "image/png": "[encoded data removed]",
      "text/plain": [
       "<Figure size 432x288 with 1 Axes>"
      ]
     },
     "metadata": {
      "needs_background": "light"
     },
     "output_type": "display_data"
    }
   ],
   "source": [
    "plt.scatter(loss_dt['Raca0'], loss_dt['Raca1'])\n",
    "#plt.plot(loss_dt['Raca0'], loss_dt['Raca1'])\n",
    "plt.xlabel('LogLoss - White person')\n",
    "plt.ylabel('LogLoss - Non-white person')\n",
    "#plt.title(\"Conflict between losses for white and non-white person for training data\")\n",
    "\n",
    "plt.savefig(\"Conflit-LossesProPublica-notitle.png\", dpi=300)\n",
    "plt.show()"
   ]
  },
  {
   "cell_type": "code",
   "execution_count": null,
   "metadata": {},
   "outputs": [],
   "source": []
  },
  {
   "cell_type": "code",
   "execution_count": 87,
   "metadata": {},
   "outputs": [],
   "source": [
    "import numpy as np\n",
    "\n",
    "C_values = np.logspace(-100, 100, 500)\n",
    "\n",
    "loss_reglog = {\"White\": [], \"Non-white\": []}\n",
    "\n",
    "for C in C_values:\n",
    "    model = LogisticRegression(C=C, max_iter=10**3, tol=10**-6)\n",
    "    model.fit(X_train, y_train)\n",
    "    \n",
    "    loss_reglog['White'].append(log_loss(y_raca0_train, model.predict_proba(X_raca0_train)))\n",
    "    loss_reglog['Non-white'].append(log_loss(y_raca1_train, model.predict_proba(X_raca1_train)))"
   ]
  },
  {
   "cell_type": "code",
   "execution_count": 88,
   "metadata": {},
   "outputs": [],
   "source": [
    "loss_reglog_dt = pd.DataFrame.from_dict(loss_reglog).sort_values(by='White')"
   ]
  },
  {
   "cell_type": "code",
   "execution_count": 89,
   "metadata": {},
   "outputs": [
    {
     "data": {
      "image/png": "[encoded data removed]",
      "text/plain": [
       "<Figure size 432x288 with 1 Axes>"
      ]
     },
     "metadata": {
      "needs_background": "light"
     },
     "output_type": "display_data"
    }
   ],
   "source": [
    "plt.scatter(loss_reglog_dt['White'], loss_reglog_dt['Non-white'])\n",
    "#plt.plot(loss_dt['Raca0'], loss_dt['Raca1'])\n",
    "plt.xlabel('Loss - White person')\n",
    "plt.ylabel('Loss - Non-white person')\n",
    "plt.title(\"Conflict between losses for white and non-white person for training data\")\n",
    "plt.show()"
   ]
  },
  {
   "cell_type": "code",
   "execution_count": null,
   "metadata": {},
   "outputs": [],
   "source": []
  }
 ],
 "metadata": {
  "kernelspec": {
   "display_name": "Python 3",
   "language": "python",
   "name": "python3"
  },
  "language_info": {
   "codemirror_mode": {
    "name": "ipython",
    "version": 3
   },
   "file_extension": ".py",
   "mimetype": "text/x-python",
   "name": "python",
   "nbconvert_exporter": "python",
   "pygments_lexer": "ipython3",
   "version": "3.6.10"
  }
 },
 "nbformat": 4,
 "nbformat_minor": 4
}
