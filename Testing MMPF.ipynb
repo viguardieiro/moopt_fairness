{
 "cells": [
  {
   "cell_type": "markdown",
   "metadata": {
    "colab_type": "text",
    "id": "KMz5TG5WpLEf"
   },
   "source": [
    "# Model comparison"
   ]
  },
  {
   "cell_type": "code",
   "execution_count": 1,
   "metadata": {
    "colab": {},
    "colab_type": "code",
    "executionInfo": {
     "elapsed": 66845,
     "status": "ok",
     "timestamp": 1595594667276,
     "user": {
      "displayName": "Vitoria Aquino Guardieiro",
      "photoUrl": "https://lh3.googleusercontent.com/a-/AOh14GiANFIcTTRvDT7PVZBuo-jPeY7jlUWjMOA0YaIC-Z4=s64",
      "userId": "08726576595430700752"
     },
     "user_tz": 180
    },
    "id": "e8l6HqNg4PEl"
   },
   "outputs": [
    {
     "name": "stderr",
     "output_type": "stream",
     "text": [
      "/root/anaconda3/envs/py36/lib/python3.6/site-packages/sklearn/utils/deprecation.py:143: FutureWarning: The sklearn.linear_model.base module is  deprecated in version 0.22 and will be removed in version 0.24. The corresponding classes / functions should instead be imported from sklearn.linear_model. Anything that cannot be imported from sklearn.linear_model is now part of the private API.\n",
      "  warnings.warn(message, FutureWarning)\n"
     ]
    }
   ],
   "source": [
    "import pandas as pd\n",
    "from sklearn.model_selection import train_test_split\n",
    "from sklearn.linear_model import LogisticRegression\n",
    "from sklego.metrics import equal_opportunity_score\n",
    "from sklego.metrics import p_percent_score\n",
    "from sklearn.metrics import log_loss, accuracy_score\n",
    "from sklearn.utils.extmath import squared_norm\n",
    "from moopt.scalarization_interface import scalar_interface, single_interface, w_interface\n",
    "from moopt import monise\n",
    "import numpy as np\n",
    "import optuna, sklearn, sklearn.datasets\n",
    "from fair_models import coefficient_of_variation, MOOLogisticRegression, FindCLogisticRegression, FindCCLogisticRegression\n",
    "from fair_models import calc_reweight\n",
    "from fair_models import FairScalarization, EqualScalarization"
   ]
  },
  {
   "cell_type": "code",
   "execution_count": 2,
   "metadata": {},
   "outputs": [],
   "source": [
    "import sys\n",
    "sys.path.append(\"./MMFP/\")"
   ]
  },
  {
   "cell_type": "code",
   "execution_count": 3,
   "metadata": {},
   "outputs": [],
   "source": [
    "from MMPF.MinimaxParetoFair.MMPF_trainer import SKLearn_Weighted_LLR, APSTAR"
   ]
  },
  {
   "cell_type": "code",
   "execution_count": 4,
   "metadata": {
    "colab": {},
    "colab_type": "code",
    "executionInfo": {
     "elapsed": 66114,
     "status": "ok",
     "timestamp": 1595594667279,
     "user": {
      "displayName": "Vitoria Aquino Guardieiro",
      "photoUrl": "https://lh3.googleusercontent.com/a-/AOh14GiANFIcTTRvDT7PVZBuo-jPeY7jlUWjMOA0YaIC-Z4=s64",
      "userId": "08726576595430700752"
     },
     "user_tz": 180
    },
    "id": "VgYbd1wT4PEo",
    "tags": []
   },
   "outputs": [],
   "source": [
    "%load_ext autoreload\n",
    "%autoreload 2\n",
    "%load_ext line_profiler"
   ]
  },
  {
   "cell_type": "markdown",
   "metadata": {
    "colab_type": "text",
    "id": "rUc0osRUQ1LK"
   },
   "source": [
    "## Parte 1: Data treatment"
   ]
  },
  {
   "cell_type": "code",
   "execution_count": 5,
   "metadata": {
    "colab": {},
    "colab_type": "code",
    "executionInfo": {
     "elapsed": 64004,
     "status": "ok",
     "timestamp": 1595594667666,
     "user": {
      "displayName": "Vitoria Aquino Guardieiro",
      "photoUrl": "https://lh3.googleusercontent.com/a-/AOh14GiANFIcTTRvDT7PVZBuo-jPeY7jlUWjMOA0YaIC-Z4=s64",
      "userId": "08726576595430700752"
     },
     "user_tz": 180
    },
    "id": "pXyCJxkm4PEu"
   },
   "outputs": [],
   "source": [
    "mydata= pd.read_csv(\"Datasets - Limpos/german.csv\")"
   ]
  },
  {
   "cell_type": "code",
   "execution_count": 6,
   "metadata": {
    "colab": {
     "base_uri": "https://localhost:8080/",
     "height": 204
    },
    "colab_type": "code",
    "executionInfo": {
     "elapsed": 62995,
     "status": "ok",
     "timestamp": 1595594667667,
     "user": {
      "displayName": "Vitoria Aquino Guardieiro",
      "photoUrl": "https://lh3.googleusercontent.com/a-/AOh14GiANFIcTTRvDT7PVZBuo-jPeY7jlUWjMOA0YaIC-Z4=s64",
      "userId": "08726576595430700752"
     },
     "user_tz": 180
    },
    "id": "rH24295ifUgz",
    "outputId": "f59ab0e5-dddc-45cc-a5cf-f24d3f6ba94f"
   },
   "outputs": [
    {
     "data": {
      "text/html": [
       "<div>\n",
       "<style scoped>\n",
       "    .dataframe tbody tr th:only-of-type {\n",
       "        vertical-align: middle;\n",
       "    }\n",
       "\n",
       "    .dataframe tbody tr th {\n",
       "        vertical-align: top;\n",
       "    }\n",
       "\n",
       "    .dataframe thead th {\n",
       "        text-align: right;\n",
       "    }\n",
       "</style>\n",
       "<table border=\"1\" class=\"dataframe\">\n",
       "  <thead>\n",
       "    <tr style=\"text-align: right;\">\n",
       "      <th></th>\n",
       "      <th>Unnamed: 0</th>\n",
       "      <th>Age</th>\n",
       "      <th>Sex</th>\n",
       "      <th>Job</th>\n",
       "      <th>Housing</th>\n",
       "      <th>Saving accounts</th>\n",
       "      <th>Checking account</th>\n",
       "      <th>Credit amount</th>\n",
       "      <th>Duration</th>\n",
       "      <th>Risk</th>\n",
       "    </tr>\n",
       "  </thead>\n",
       "  <tbody>\n",
       "    <tr>\n",
       "      <th>0</th>\n",
       "      <td>1</td>\n",
       "      <td>22</td>\n",
       "      <td>1</td>\n",
       "      <td>2</td>\n",
       "      <td>3</td>\n",
       "      <td>1</td>\n",
       "      <td>2</td>\n",
       "      <td>5951</td>\n",
       "      <td>48</td>\n",
       "      <td>-1</td>\n",
       "    </tr>\n",
       "    <tr>\n",
       "      <th>1</th>\n",
       "      <td>3</td>\n",
       "      <td>45</td>\n",
       "      <td>0</td>\n",
       "      <td>2</td>\n",
       "      <td>1</td>\n",
       "      <td>1</td>\n",
       "      <td>1</td>\n",
       "      <td>7882</td>\n",
       "      <td>42</td>\n",
       "      <td>1</td>\n",
       "    </tr>\n",
       "    <tr>\n",
       "      <th>2</th>\n",
       "      <td>4</td>\n",
       "      <td>53</td>\n",
       "      <td>0</td>\n",
       "      <td>2</td>\n",
       "      <td>1</td>\n",
       "      <td>1</td>\n",
       "      <td>1</td>\n",
       "      <td>4870</td>\n",
       "      <td>24</td>\n",
       "      <td>-1</td>\n",
       "    </tr>\n",
       "    <tr>\n",
       "      <th>3</th>\n",
       "      <td>7</td>\n",
       "      <td>35</td>\n",
       "      <td>0</td>\n",
       "      <td>3</td>\n",
       "      <td>2</td>\n",
       "      <td>1</td>\n",
       "      <td>2</td>\n",
       "      <td>6948</td>\n",
       "      <td>36</td>\n",
       "      <td>1</td>\n",
       "    </tr>\n",
       "    <tr>\n",
       "      <th>4</th>\n",
       "      <td>9</td>\n",
       "      <td>28</td>\n",
       "      <td>0</td>\n",
       "      <td>3</td>\n",
       "      <td>3</td>\n",
       "      <td>1</td>\n",
       "      <td>2</td>\n",
       "      <td>5234</td>\n",
       "      <td>30</td>\n",
       "      <td>-1</td>\n",
       "    </tr>\n",
       "  </tbody>\n",
       "</table>\n",
       "</div>"
      ],
      "text/plain": [
       "   Unnamed: 0  Age  Sex  Job  Housing  Saving accounts  Checking account  \\\n",
       "0           1   22    1    2        3                1                 2   \n",
       "1           3   45    0    2        1                1                 1   \n",
       "2           4   53    0    2        1                1                 1   \n",
       "3           7   35    0    3        2                1                 2   \n",
       "4           9   28    0    3        3                1                 2   \n",
       "\n",
       "   Credit amount  Duration  Risk  \n",
       "0           5951        48    -1  \n",
       "1           7882        42     1  \n",
       "2           4870        24    -1  \n",
       "3           6948        36     1  \n",
       "4           5234        30    -1  "
      ]
     },
     "execution_count": 6,
     "metadata": {},
     "output_type": "execute_result"
    }
   ],
   "source": [
    "mydata.head()"
   ]
  },
  {
   "cell_type": "code",
   "execution_count": 7,
   "metadata": {
    "colab": {},
    "colab_type": "code",
    "executionInfo": {
     "elapsed": 62012,
     "status": "ok",
     "timestamp": 1595594668066,
     "user": {
      "displayName": "Vitoria Aquino Guardieiro",
      "photoUrl": "https://lh3.googleusercontent.com/a-/AOh14GiANFIcTTRvDT7PVZBuo-jPeY7jlUWjMOA0YaIC-Z4=s64",
      "userId": "08726576595430700752"
     },
     "user_tz": 180
    },
    "id": "_43AS4aerbjj"
   },
   "outputs": [],
   "source": [
    "mydata = mydata.drop(['Unnamed: 0'], axis=1)"
   ]
  },
  {
   "cell_type": "code",
   "execution_count": 8,
   "metadata": {
    "colab": {},
    "colab_type": "code",
    "executionInfo": {
     "elapsed": 61063,
     "status": "ok",
     "timestamp": 1595594668068,
     "user": {
      "displayName": "Vitoria Aquino Guardieiro",
      "photoUrl": "https://lh3.googleusercontent.com/a-/AOh14GiANFIcTTRvDT7PVZBuo-jPeY7jlUWjMOA0YaIC-Z4=s64",
      "userId": "08726576595430700752"
     },
     "user_tz": 180
    },
    "id": "blQCM3i9qF24"
   },
   "outputs": [],
   "source": [
    "X = mydata.drop(['Risk'], axis=1)"
   ]
  },
  {
   "cell_type": "code",
   "execution_count": 9,
   "metadata": {
    "colab": {},
    "colab_type": "code",
    "executionInfo": {
     "elapsed": 60863,
     "status": "ok",
     "timestamp": 1595594668069,
     "user": {
      "displayName": "Vitoria Aquino Guardieiro",
      "photoUrl": "https://lh3.googleusercontent.com/a-/AOh14GiANFIcTTRvDT7PVZBuo-jPeY7jlUWjMOA0YaIC-Z4=s64",
      "userId": "08726576595430700752"
     },
     "user_tz": 180
    },
    "id": "bnHRL4Mem3Xi"
   },
   "outputs": [],
   "source": [
    "y = mydata['Risk']"
   ]
  },
  {
   "cell_type": "code",
   "execution_count": 10,
   "metadata": {},
   "outputs": [
    {
     "data": {
      "text/plain": [
       "2000"
      ]
     },
     "execution_count": 10,
     "metadata": {},
     "output_type": "execute_result"
    }
   ],
   "source": [
    "# 395, 808\n",
    "random_seed = 2000#np.random.randint(0, 1000)\n",
    "random_seed"
   ]
  },
  {
   "cell_type": "code",
   "execution_count": 11,
   "metadata": {},
   "outputs": [
    {
     "data": {
      "text/plain": [
       "2000"
      ]
     },
     "execution_count": 11,
     "metadata": {},
     "output_type": "execute_result"
    }
   ],
   "source": [
    "random_seed2 = 2000#np.random.randint(0, 1000)\n",
    "random_seed2"
   ]
  },
  {
   "cell_type": "code",
   "execution_count": 12,
   "metadata": {
    "colab": {},
    "colab_type": "code",
    "executionInfo": {
     "elapsed": 60572,
     "status": "ok",
     "timestamp": 1595594668069,
     "user": {
      "displayName": "Vitoria Aquino Guardieiro",
      "photoUrl": "https://lh3.googleusercontent.com/a-/AOh14GiANFIcTTRvDT7PVZBuo-jPeY7jlUWjMOA0YaIC-Z4=s64",
      "userId": "08726576595430700752"
     },
     "user_tz": 180
    },
    "id": "XAJLMFuHFmg0"
   },
   "outputs": [],
   "source": [
    "X_tv, X_test, y_tv, y_test = train_test_split(X, y, test_size=200, random_state = random_seed)\n",
    "X_train, X_val, y_train, y_val = train_test_split(X_tv, y_tv, test_size=100, random_state = random_seed2)"
   ]
  },
  {
   "cell_type": "code",
   "execution_count": 13,
   "metadata": {},
   "outputs": [],
   "source": [
    "sample_weight = calc_reweight(X_train, y_train, 'Sex')"
   ]
  },
  {
   "cell_type": "code",
   "execution_count": 14,
   "metadata": {},
   "outputs": [
    {
     "data": {
      "text/html": [
       "<div>\n",
       "<style scoped>\n",
       "    .dataframe tbody tr th:only-of-type {\n",
       "        vertical-align: middle;\n",
       "    }\n",
       "\n",
       "    .dataframe tbody tr th {\n",
       "        vertical-align: top;\n",
       "    }\n",
       "\n",
       "    .dataframe thead th {\n",
       "        text-align: right;\n",
       "    }\n",
       "</style>\n",
       "<table border=\"1\" class=\"dataframe\">\n",
       "  <thead>\n",
       "    <tr style=\"text-align: right;\">\n",
       "      <th></th>\n",
       "      <th>Age</th>\n",
       "      <th>Sex</th>\n",
       "      <th>Job</th>\n",
       "      <th>Housing</th>\n",
       "      <th>Saving accounts</th>\n",
       "      <th>Checking account</th>\n",
       "      <th>Credit amount</th>\n",
       "      <th>Duration</th>\n",
       "    </tr>\n",
       "  </thead>\n",
       "  <tbody>\n",
       "    <tr>\n",
       "      <th>494</th>\n",
       "      <td>24</td>\n",
       "      <td>0</td>\n",
       "      <td>2</td>\n",
       "      <td>3</td>\n",
       "      <td>1</td>\n",
       "      <td>1</td>\n",
       "      <td>2145</td>\n",
       "      <td>36</td>\n",
       "    </tr>\n",
       "    <tr>\n",
       "      <th>44</th>\n",
       "      <td>51</td>\n",
       "      <td>0</td>\n",
       "      <td>2</td>\n",
       "      <td>3</td>\n",
       "      <td>1</td>\n",
       "      <td>2</td>\n",
       "      <td>4771</td>\n",
       "      <td>11</td>\n",
       "    </tr>\n",
       "    <tr>\n",
       "      <th>508</th>\n",
       "      <td>57</td>\n",
       "      <td>1</td>\n",
       "      <td>1</td>\n",
       "      <td>3</td>\n",
       "      <td>3</td>\n",
       "      <td>3</td>\n",
       "      <td>1258</td>\n",
       "      <td>24</td>\n",
       "    </tr>\n",
       "    <tr>\n",
       "      <th>355</th>\n",
       "      <td>34</td>\n",
       "      <td>0</td>\n",
       "      <td>2</td>\n",
       "      <td>3</td>\n",
       "      <td>4</td>\n",
       "      <td>2</td>\n",
       "      <td>3496</td>\n",
       "      <td>30</td>\n",
       "    </tr>\n",
       "    <tr>\n",
       "      <th>22</th>\n",
       "      <td>33</td>\n",
       "      <td>1</td>\n",
       "      <td>3</td>\n",
       "      <td>3</td>\n",
       "      <td>1</td>\n",
       "      <td>3</td>\n",
       "      <td>1474</td>\n",
       "      <td>12</td>\n",
       "    </tr>\n",
       "    <tr>\n",
       "      <th>...</th>\n",
       "      <td>...</td>\n",
       "      <td>...</td>\n",
       "      <td>...</td>\n",
       "      <td>...</td>\n",
       "      <td>...</td>\n",
       "      <td>...</td>\n",
       "      <td>...</td>\n",
       "      <td>...</td>\n",
       "    </tr>\n",
       "    <tr>\n",
       "      <th>499</th>\n",
       "      <td>45</td>\n",
       "      <td>0</td>\n",
       "      <td>1</td>\n",
       "      <td>3</td>\n",
       "      <td>1</td>\n",
       "      <td>1</td>\n",
       "      <td>4006</td>\n",
       "      <td>28</td>\n",
       "    </tr>\n",
       "    <tr>\n",
       "      <th>28</th>\n",
       "      <td>44</td>\n",
       "      <td>0</td>\n",
       "      <td>1</td>\n",
       "      <td>3</td>\n",
       "      <td>1</td>\n",
       "      <td>2</td>\n",
       "      <td>6204</td>\n",
       "      <td>18</td>\n",
       "    </tr>\n",
       "    <tr>\n",
       "      <th>468</th>\n",
       "      <td>43</td>\n",
       "      <td>0</td>\n",
       "      <td>2</td>\n",
       "      <td>2</td>\n",
       "      <td>1</td>\n",
       "      <td>1</td>\n",
       "      <td>2625</td>\n",
       "      <td>16</td>\n",
       "    </tr>\n",
       "    <tr>\n",
       "      <th>101</th>\n",
       "      <td>52</td>\n",
       "      <td>0</td>\n",
       "      <td>2</td>\n",
       "      <td>3</td>\n",
       "      <td>3</td>\n",
       "      <td>1</td>\n",
       "      <td>338</td>\n",
       "      <td>6</td>\n",
       "    </tr>\n",
       "    <tr>\n",
       "      <th>425</th>\n",
       "      <td>55</td>\n",
       "      <td>0</td>\n",
       "      <td>3</td>\n",
       "      <td>1</td>\n",
       "      <td>1</td>\n",
       "      <td>2</td>\n",
       "      <td>9283</td>\n",
       "      <td>42</td>\n",
       "    </tr>\n",
       "  </tbody>\n",
       "</table>\n",
       "<p>222 rows × 8 columns</p>\n",
       "</div>"
      ],
      "text/plain": [
       "     Age  Sex  Job  Housing  Saving accounts  Checking account  Credit amount  \\\n",
       "494   24    0    2        3                1                 1           2145   \n",
       "44    51    0    2        3                1                 2           4771   \n",
       "508   57    1    1        3                3                 3           1258   \n",
       "355   34    0    2        3                4                 2           3496   \n",
       "22    33    1    3        3                1                 3           1474   \n",
       "..   ...  ...  ...      ...              ...               ...            ...   \n",
       "499   45    0    1        3                1                 1           4006   \n",
       "28    44    0    1        3                1                 2           6204   \n",
       "468   43    0    2        2                1                 1           2625   \n",
       "101   52    0    2        3                3                 1            338   \n",
       "425   55    0    3        1                1                 2           9283   \n",
       "\n",
       "     Duration  \n",
       "494        36  \n",
       "44         11  \n",
       "508        24  \n",
       "355        30  \n",
       "22         12  \n",
       "..        ...  \n",
       "499        28  \n",
       "28         18  \n",
       "468        16  \n",
       "101         6  \n",
       "425        42  \n",
       "\n",
       "[222 rows x 8 columns]"
      ]
     },
     "execution_count": 14,
     "metadata": {},
     "output_type": "execute_result"
    }
   ],
   "source": [
    "X_train"
   ]
  },
  {
   "cell_type": "code",
   "execution_count": 15,
   "metadata": {},
   "outputs": [
    {
     "name": "stderr",
     "output_type": "stream",
     "text": [
      "/root/anaconda3/envs/py36/lib/python3.6/site-packages/pandas/core/generic.py:8765: SettingWithCopyWarning: \n",
      "A value is trying to be set on a copy of a slice from a DataFrame\n",
      "\n",
      "See the caveats in the documentation: https://pandas.pydata.org/pandas-docs/stable/user_guide/indexing.html#returning-a-view-versus-a-copy\n",
      "  self._update_inplace(new_data)\n"
     ]
    }
   ],
   "source": [
    "a_train = X_train['Sex']\n",
    "a_val = X_val['Sex']\n",
    "\n",
    "a_train[a_train==0] = -1\n",
    "a_val[a_val==0] = -1"
   ]
  },
  {
   "cell_type": "code",
   "execution_count": 16,
   "metadata": {},
   "outputs": [
    {
     "name": "stdout",
     "output_type": "stream",
     "text": [
      "patience counter: 0 total iterations: 201\n",
      "-----------------------------------------\n"
     ]
    }
   ],
   "source": [
    "C = 10**2\n",
    "model = SKLearn_Weighted_LLR(X_train.values, y_train.values,\n",
    "                             a_train.values, X_val.values,\n",
    "                             y_val.values, a_val.values,\n",
    "                             C_reg=C)\n",
    "\n",
    "mua_ini = np.ones(a_val.max() + 1)\n",
    "mua_ini /= mua_ini.sum()\n",
    "results = APSTAR(model, mua_ini, niter=200, max_patience=200, Kini=1,\n",
    "                      Kmin=20, alpha=0.5, verbose=False)\n",
    "mu_best_list = results['mu_best_list']\n",
    "\n",
    "mu_best = mu_best_list[-1]\n",
    "model.weighted_fit(X_train.values, y_train.values, a_train.values, mu_best)"
   ]
  },
  {
   "cell_type": "code",
   "execution_count": 17,
   "metadata": {},
   "outputs": [
    {
     "data": {
      "text/plain": [
       "(0.635, 0.9215399610136453, 0.9540816326530612, 0.6959756269700474)"
      ]
     },
     "execution_count": 17,
     "metadata": {},
     "output_type": "execute_result"
    }
   ],
   "source": [
    "accuracy_score(y_test, model.predict(X_test)), equal_opportunity_score(sensitive_column=\"Sex\")(model, X_test, y_test), p_percent_score(sensitive_column=\"Sex\")(model, X_test, y_test), coefficient_of_variation(model, X_test, y_test)"
   ]
  },
  {
   "cell_type": "code",
   "execution_count": 18,
   "metadata": {},
   "outputs": [
    {
     "data": {
      "text/plain": [
       "[array([0.5, 0.5]),\n",
       " array([0.5, 0.5]),\n",
       " array([0.16666667, 0.83333333]),\n",
       " array([0.16666667, 0.83333333]),\n",
       " array([0.08333333, 0.91666667]),\n",
       " array([0.08333333, 0.91666667]),\n",
       " array([0.05, 0.95]),\n",
       " array([0.05, 0.95]),\n",
       " array([0.03333333, 0.96666667]),\n",
       " array([0.03333333, 0.96666667]),\n",
       " array([0.02380952, 0.97619048]),\n",
       " array([0.02380952, 0.97619048]),\n",
       " array([0.01785714, 0.98214286]),\n",
       " array([0.01785714, 0.98214286]),\n",
       " array([0.01388889, 0.98611111]),\n",
       " array([0.01388889, 0.98611111]),\n",
       " array([0.01111111, 0.98888889]),\n",
       " array([0.01111111, 0.98888889]),\n",
       " array([0.00909091, 0.99090909]),\n",
       " array([0.00909091, 0.99090909]),\n",
       " array([0.00757576, 0.99242424]),\n",
       " array([0.00757576, 0.99242424]),\n",
       " array([0.00641026, 0.99358974]),\n",
       " array([0.00641026, 0.99358974]),\n",
       " array([0.00549451, 0.99450549]),\n",
       " array([0.00549451, 0.99450549]),\n",
       " array([0.0047619, 0.9952381]),\n",
       " array([0.0047619, 0.9952381]),\n",
       " array([0.00416667, 0.99583333]),\n",
       " array([0.00416667, 0.99583333]),\n",
       " array([0.00367647, 0.99632353]),\n",
       " array([0.00367647, 0.99632353]),\n",
       " array([0.00326797, 0.99673203]),\n",
       " array([0.00326797, 0.99673203]),\n",
       " array([0.00292398, 0.99707602]),\n",
       " array([0.00292398, 0.99707602]),\n",
       " array([0.00263158, 0.99736842]),\n",
       " array([0.00263158, 0.99736842]),\n",
       " array([0.00238095, 0.99761905]),\n",
       " array([0.00238095, 0.99761905]),\n",
       " array([0.0021645, 0.9978355]),\n",
       " array([0.0021645, 0.9978355]),\n",
       " array([0.00196773, 0.99803227]),\n",
       " array([0.00196773, 0.99803227]),\n",
       " array([0.00178884, 0.99821116]),\n",
       " array([0.00178884, 0.99821116]),\n",
       " array([0.00162622, 0.99837378]),\n",
       " array([0.00162622, 0.99837378]),\n",
       " array([0.00147838, 0.99852162]),\n",
       " array([0.00147838, 0.99852162]),\n",
       " array([0.00134399, 0.99865601]),\n",
       " array([0.00134399, 0.99865601]),\n",
       " array([0.00122181, 0.99877819]),\n",
       " array([0.00122181, 0.99877819]),\n",
       " array([0.00111073, 0.99888927]),\n",
       " array([0.00111073, 0.99888927]),\n",
       " array([0.00100976, 0.99899024]),\n",
       " array([0.00100976, 0.99899024]),\n",
       " array([9.17960213e-04, 9.99082040e-01]),\n",
       " array([9.17960213e-04, 9.99082040e-01]),\n",
       " array([8.34509284e-04, 9.99165491e-01]),\n",
       " array([8.34509284e-04, 9.99165491e-01]),\n",
       " array([7.58644804e-04, 9.99241355e-01]),\n",
       " array([7.58644804e-04, 9.99241355e-01]),\n",
       " array([6.89677095e-04, 9.99310323e-01]),\n",
       " array([6.89677095e-04, 9.99310323e-01]),\n",
       " array([6.26979177e-04, 9.99373021e-01]),\n",
       " array([6.26979177e-04, 9.99373021e-01]),\n",
       " array([5.69981070e-04, 9.99430019e-01]),\n",
       " array([5.69981070e-04, 9.99430019e-01]),\n",
       " array([5.18164609e-04, 9.99481835e-01]),\n",
       " array([5.18164609e-04, 9.99481835e-01]),\n",
       " array([4.71058735e-04, 9.99528941e-01]),\n",
       " array([4.71058735e-04, 9.99528941e-01]),\n",
       " array([4.28235214e-04, 9.99571765e-01]),\n",
       " array([4.28235214e-04, 9.99571765e-01]),\n",
       " array([3.89304740e-04, 9.99610695e-01]),\n",
       " array([3.89304740e-04, 9.99610695e-01]),\n",
       " array([3.53913400e-04, 9.99646087e-01]),\n",
       " array([3.53913400e-04, 9.99646087e-01]),\n",
       " array([3.21739455e-04, 9.99678261e-01]),\n",
       " array([3.21739455e-04, 9.99678261e-01]),\n",
       " array([2.92490413e-04, 9.99707510e-01]),\n",
       " array([2.92490413e-04, 9.99707510e-01]),\n",
       " array([2.65900376e-04, 9.99734100e-01]),\n",
       " array([2.65900376e-04, 9.99734100e-01]),\n",
       " array([2.41727614e-04, 9.99758272e-01]),\n",
       " array([2.41727614e-04, 9.99758272e-01]),\n",
       " array([2.19752377e-04, 9.99780248e-01]),\n",
       " array([2.19752377e-04, 9.99780248e-01]),\n",
       " array([1.99774888e-04, 9.99800225e-01]),\n",
       " array([1.99774888e-04, 9.99800225e-01]),\n",
       " array([1.81613534e-04, 9.99818386e-01]),\n",
       " array([1.81613534e-04, 9.99818386e-01]),\n",
       " array([1.65103213e-04, 9.99834897e-01]),\n",
       " array([1.65103213e-04, 9.99834897e-01]),\n",
       " array([1.50093830e-04, 9.99849906e-01]),\n",
       " array([1.50093830e-04, 9.99849906e-01]),\n",
       " array([1.36448936e-04, 9.99863551e-01]),\n",
       " array([1.36448936e-04, 9.99863551e-01]),\n",
       " array([1.24044488e-04, 9.99875956e-01]),\n",
       " array([1.24044488e-04, 9.99875956e-01]),\n",
       " array([1.12767716e-04, 9.99887232e-01]),\n",
       " array([1.12767716e-04, 9.99887232e-01]),\n",
       " array([1.02516106e-04, 9.99897484e-01]),\n",
       " array([1.02516106e-04, 9.99897484e-01]),\n",
       " array([9.31964596e-05, 9.99906804e-01]),\n",
       " array([9.31964596e-05, 9.99906804e-01]),\n",
       " array([8.47240541e-05, 9.99915276e-01]),\n",
       " array([8.47240541e-05, 9.99915276e-01]),\n",
       " array([7.70218674e-05, 9.99922978e-01]),\n",
       " array([7.70218674e-05, 9.99922978e-01]),\n",
       " array([7.00198795e-05, 9.99929980e-01]),\n",
       " array([7.00198795e-05, 9.99929980e-01]),\n",
       " array([6.36544359e-05, 9.99936346e-01]),\n",
       " array([6.36544359e-05, 9.99936346e-01]),\n",
       " array([5.78676690e-05, 9.99942132e-01]),\n",
       " array([5.78676690e-05, 9.99942132e-01]),\n",
       " array([5.26069718e-05, 9.99947393e-01]),\n",
       " array([5.26069718e-05, 9.99947393e-01]),\n",
       " array([4.78245198e-05, 9.99952175e-01]),\n",
       " array([4.78245198e-05, 9.99952175e-01]),\n",
       " array([4.34768362e-05, 9.99956523e-01]),\n",
       " array([4.34768362e-05, 9.99956523e-01]),\n",
       " array([3.95243965e-05, 9.99960476e-01]),\n",
       " array([3.95243965e-05, 9.99960476e-01]),\n",
       " array([3.59312696e-05, 9.99964069e-01]),\n",
       " array([3.59312696e-05, 9.99964069e-01]),\n",
       " array([3.26647905e-05, 9.99967335e-01]),\n",
       " array([3.26647905e-05, 9.99967335e-01]),\n",
       " array([2.96952641e-05, 9.99970305e-01]),\n",
       " array([2.96952641e-05, 9.99970305e-01]),\n",
       " array([2.69956947e-05, 9.99973004e-01]),\n",
       " array([2.69956947e-05, 9.99973004e-01]),\n",
       " array([2.45415406e-05, 9.99975458e-01]),\n",
       " array([2.45415406e-05, 9.99975458e-01]),\n",
       " array([2.23104914e-05, 9.99977690e-01]),\n",
       " array([2.23104914e-05, 9.99977690e-01]),\n",
       " array([2.02822650e-05, 9.99979718e-01]),\n",
       " array([2.02822650e-05, 9.99979718e-01]),\n",
       " array([1.84384227e-05, 9.99981562e-01]),\n",
       " array([1.84384227e-05, 9.99981562e-01]),\n",
       " array([1.67622024e-05, 9.99983238e-01]),\n",
       " array([1.67622024e-05, 9.99983238e-01]),\n",
       " array([1.52383659e-05, 9.99984762e-01]),\n",
       " array([1.52383659e-05, 9.99984762e-01]),\n",
       " array([1.38530599e-05, 9.99986147e-01]),\n",
       " array([1.38530599e-05, 9.99986147e-01]),\n",
       " array([1.25936908e-05, 9.99987406e-01]),\n",
       " array([1.25936908e-05, 9.99987406e-01]),\n",
       " array([1.14488098e-05, 9.99988551e-01]),\n",
       " array([1.14488098e-05, 9.99988551e-01]),\n",
       " array([1.04080089e-05, 9.99989592e-01]),\n",
       " array([1.04080089e-05, 9.99989592e-01]),\n",
       " array([9.46182629e-06, 9.99990538e-01]),\n",
       " array([9.46182629e-06, 9.99990538e-01]),\n",
       " array([8.60166026e-06, 9.99991398e-01]),\n",
       " array([8.60166026e-06, 9.99991398e-01]),\n",
       " array([7.81969115e-06, 9.99992180e-01]),\n",
       " array([7.81969115e-06, 9.99992180e-01]),\n",
       " array([7.10881013e-06, 9.99992891e-01]),\n",
       " array([7.10881013e-06, 9.99992891e-01]),\n",
       " array([6.46255467e-06, 9.99993537e-01]),\n",
       " array([6.46255467e-06, 9.99993537e-01]),\n",
       " array([5.87504970e-06, 9.99994125e-01]),\n",
       " array([5.87504970e-06, 9.99994125e-01]),\n",
       " array([5.34095427e-06, 9.99994659e-01]),\n",
       " array([5.34095427e-06, 9.99994659e-01]),\n",
       " array([4.85541297e-06, 9.99995145e-01]),\n",
       " array([4.85541297e-06, 9.99995145e-01]),\n",
       " array([4.41401179e-06, 9.99995586e-01]),\n",
       " array([4.41401179e-06, 9.99995586e-01]),\n",
       " array([4.01273799e-06, 9.99995987e-01]),\n",
       " array([4.01273799e-06, 9.99995987e-01]),\n",
       " array([3.64794363e-06, 9.99996352e-01]),\n",
       " array([3.64794363e-06, 9.99996352e-01]),\n",
       " array([3.31631239e-06, 9.99996684e-01]),\n",
       " array([3.31631239e-06, 9.99996684e-01]),\n",
       " array([3.01482945e-06, 9.99996985e-01]),\n",
       " array([3.01482945e-06, 9.99996985e-01]),\n",
       " array([2.74075404e-06, 9.99997259e-01]),\n",
       " array([2.74075404e-06, 9.99997259e-01]),\n",
       " array([2.49159458e-06, 9.99997508e-01]),\n",
       " array([2.49159458e-06, 9.99997508e-01]),\n",
       " array([2.26508599e-06, 9.99997735e-01]),\n",
       " array([2.26508599e-06, 9.99997735e-01]),\n",
       " array([2.05916908e-06, 9.99997941e-01]),\n",
       " array([2.05916908e-06, 9.99997941e-01]),\n",
       " array([1.87197189e-06, 9.99998128e-01]),\n",
       " array([1.87197189e-06, 9.99998128e-01]),\n",
       " array([1.70179263e-06, 9.99998298e-01]),\n",
       " array([1.70179263e-06, 9.99998298e-01]),\n",
       " array([1.54708421e-06, 9.99998453e-01]),\n",
       " array([1.54708421e-06, 9.99998453e-01]),\n",
       " array([1.40644019e-06, 9.99998594e-01]),\n",
       " array([1.40644019e-06, 9.99998594e-01]),\n",
       " array([1.27858199e-06, 9.99998721e-01]),\n",
       " array([1.27858199e-06, 9.99998721e-01]),\n",
       " array([1.16234726e-06, 9.99998838e-01]),\n",
       " array([1.16234726e-06, 9.99998838e-01]),\n",
       " array([1.05667933e-06, 9.99998943e-01])]"
      ]
     },
     "execution_count": 18,
     "metadata": {},
     "output_type": "execute_result"
    }
   ],
   "source": [
    "mu_best_list"
   ]
  },
  {
   "cell_type": "code",
   "execution_count": 19,
   "metadata": {},
   "outputs": [],
   "source": [
    "reg_demo = FindCCLogisticRegression(X_train, y_train, X_val, y_val,\"Sex\", metric=\"accuracy\", \n",
    "                                                base_model='minimax').tune()"
   ]
  },
  {
   "cell_type": "code",
   "execution_count": 20,
   "metadata": {},
   "outputs": [
    {
     "ename": "AttributeError",
     "evalue": "'NoneType' object has no attribute 'score'",
     "output_type": "error",
     "traceback": [
      "\u001b[0;31m---------------------------------------------------------------------------\u001b[0m",
      "\u001b[0;31mAttributeError\u001b[0m                            Traceback (most recent call last)",
      "\u001b[0;32m<ipython-input-20-8e40fb6e99b0>\u001b[0m in \u001b[0;36m<module>\u001b[0;34m\u001b[0m\n\u001b[0;32m----> 1\u001b[0;31m \u001b[0mprint\u001b[0m\u001b[0;34m(\u001b[0m\u001b[0mreg_demo\u001b[0m\u001b[0;34m.\u001b[0m\u001b[0mscore\u001b[0m\u001b[0;34m(\u001b[0m\u001b[0mX_test\u001b[0m\u001b[0;34m,\u001b[0m \u001b[0my_test\u001b[0m\u001b[0;34m)\u001b[0m\u001b[0;34m)\u001b[0m\u001b[0;34m\u001b[0m\u001b[0;34m\u001b[0m\u001b[0m\n\u001b[0m\u001b[1;32m      2\u001b[0m \u001b[0mprint\u001b[0m\u001b[0;34m(\u001b[0m\u001b[0mequal_opportunity_score\u001b[0m\u001b[0;34m(\u001b[0m\u001b[0msensitive_column\u001b[0m\u001b[0;34m=\u001b[0m\u001b[0mfair_feature\u001b[0m\u001b[0;34m)\u001b[0m\u001b[0;34m(\u001b[0m\u001b[0mreg_demo\u001b[0m\u001b[0;34m,\u001b[0m\u001b[0mX_test\u001b[0m\u001b[0;34m,\u001b[0m \u001b[0my_test\u001b[0m\u001b[0;34m)\u001b[0m\u001b[0;34m)\u001b[0m\u001b[0;34m\u001b[0m\u001b[0;34m\u001b[0m\u001b[0m\n\u001b[1;32m      3\u001b[0m \u001b[0mprint\u001b[0m\u001b[0;34m(\u001b[0m\u001b[0mp_percent_score\u001b[0m\u001b[0;34m(\u001b[0m\u001b[0msensitive_column\u001b[0m\u001b[0;34m=\u001b[0m\u001b[0mfair_feature\u001b[0m\u001b[0;34m)\u001b[0m\u001b[0;34m(\u001b[0m\u001b[0mreg_demo\u001b[0m\u001b[0;34m,\u001b[0m \u001b[0mX_test\u001b[0m\u001b[0;34m)\u001b[0m\u001b[0;34m)\u001b[0m\u001b[0;34m\u001b[0m\u001b[0;34m\u001b[0m\u001b[0m\n\u001b[1;32m      4\u001b[0m \u001b[0mprint\u001b[0m\u001b[0;34m(\u001b[0m\u001b[0mcoefficient_of_variation\u001b[0m\u001b[0;34m(\u001b[0m\u001b[0mreg_demo\u001b[0m\u001b[0;34m,\u001b[0m \u001b[0mX_test\u001b[0m\u001b[0;34m,\u001b[0m \u001b[0my_test\u001b[0m\u001b[0;34m)\u001b[0m\u001b[0;34m)\u001b[0m\u001b[0;34m\u001b[0m\u001b[0;34m\u001b[0m\u001b[0m\n",
      "\u001b[0;31mAttributeError\u001b[0m: 'NoneType' object has no attribute 'score'"
     ]
    }
   ],
   "source": [
    "print(reg_demo.score(X_test, y_test))\n",
    "print(equal_opportunity_score(sensitive_column=fair_feature)(reg_demo,X_test, y_test))\n",
    "print(p_percent_score(sensitive_column=fair_feature)(reg_demo, X_test))\n",
    "print(coefficient_of_variation(reg_demo, X_test, y_test))\n"
   ]
  },
  {
   "cell_type": "code",
   "execution_count": 21,
   "metadata": {},
   "outputs": [],
   "source": [
    "reg_demo"
   ]
  },
  {
   "cell_type": "code",
   "execution_count": null,
   "metadata": {},
   "outputs": [],
   "source": []
  }
 ],
 "metadata": {
  "colab": {
   "collapsed_sections": [],
   "name": "Fairness with hyperparameter tunning.ipynb",
   "provenance": [],
   "toc_visible": true
  },
  "kernelspec": {
   "display_name": "Python 3",
   "language": "python",
   "name": "python3"
  },
  "language_info": {
   "codemirror_mode": {
    "name": "ipython",
    "version": 3
   },
   "file_extension": ".py",
   "mimetype": "text/x-python",
   "name": "python",
   "nbconvert_exporter": "python",
   "pygments_lexer": "ipython3",
   "version": "3.6.10"
  }
 },
 "nbformat": 4,
 "nbformat_minor": 4
}
