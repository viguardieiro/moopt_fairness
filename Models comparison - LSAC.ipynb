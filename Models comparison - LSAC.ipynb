{
 "cells": [
  {
   "cell_type": "markdown",
   "metadata": {
    "colab_type": "text",
    "id": "KMz5TG5WpLEf"
   },
   "source": [
    "# Model comparison"
   ]
  },
  {
   "cell_type": "code",
   "execution_count": 1,
   "metadata": {
    "colab": {},
    "colab_type": "code",
    "executionInfo": {
     "elapsed": 66845,
     "status": "ok",
     "timestamp": 1595594667276,
     "user": {
      "displayName": "Vitoria Aquino Guardieiro",
      "photoUrl": "https://lh3.googleusercontent.com/a-/AOh14GiANFIcTTRvDT7PVZBuo-jPeY7jlUWjMOA0YaIC-Z4=s64",
      "userId": "08726576595430700752"
     },
     "user_tz": 180
    },
    "id": "e8l6HqNg4PEl"
   },
   "outputs": [
    {
     "name": "stderr",
     "output_type": "stream",
     "text": [
      "/root/anaconda3/envs/py36/lib/python3.6/site-packages/sklearn/utils/deprecation.py:143: FutureWarning: The sklearn.linear_model.base module is  deprecated in version 0.22 and will be removed in version 0.24. The corresponding classes / functions should instead be imported from sklearn.linear_model. Anything that cannot be imported from sklearn.linear_model is now part of the private API.\n",
      "  warnings.warn(message, FutureWarning)\n"
     ]
    }
   ],
   "source": [
    "import pandas as pd\n",
    "from sklearn.model_selection import train_test_split\n",
    "from sklearn.linear_model import LogisticRegression\n",
    "from sklego.metrics import equal_opportunity_score\n",
    "from sklego.metrics import p_percent_score\n",
    "from sklearn.metrics import log_loss\n",
    "from sklearn.utils.extmath import squared_norm\n",
    "from moopt.scalarization_interface import scalar_interface, single_interface, w_interface\n",
    "from moopt import monise\n",
    "import numpy as np\n",
    "import optuna, sklearn, sklearn.datasets\n",
    "from fair_models import coefficient_of_variation, MOOLogisticRegression, FindCLogisticRegression, FindCCLogisticRegression\n",
    "from fair_models import calc_reweight\n",
    "from fair_models import FairScalarization, EqualScalarization"
   ]
  },
  {
   "cell_type": "markdown",
   "metadata": {
    "colab_type": "text",
    "id": "rUc0osRUQ1LK"
   },
   "source": [
    "## Parte 1: Data treatment"
   ]
  },
  {
   "cell_type": "code",
   "execution_count": 2,
   "metadata": {
    "colab": {},
    "colab_type": "code",
    "executionInfo": {
     "elapsed": 64004,
     "status": "ok",
     "timestamp": 1595594667666,
     "user": {
      "displayName": "Vitoria Aquino Guardieiro",
      "photoUrl": "https://lh3.googleusercontent.com/a-/AOh14GiANFIcTTRvDT7PVZBuo-jPeY7jlUWjMOA0YaIC-Z4=s64",
      "userId": "08726576595430700752"
     },
     "user_tz": 180
    },
    "id": "pXyCJxkm4PEu"
   },
   "outputs": [],
   "source": [
    "dataset = pd.read_csv(\"Datasets/lsat.csv\")\n",
    "\n",
    "dataset = dataset.dropna()"
   ]
  },
  {
   "cell_type": "code",
   "execution_count": 3,
   "metadata": {},
   "outputs": [
    {
     "data": {
      "text/html": [
       "<div>\n",
       "<style scoped>\n",
       "    .dataframe tbody tr th:only-of-type {\n",
       "        vertical-align: middle;\n",
       "    }\n",
       "\n",
       "    .dataframe tbody tr th {\n",
       "        vertical-align: top;\n",
       "    }\n",
       "\n",
       "    .dataframe thead th {\n",
       "        text-align: right;\n",
       "    }\n",
       "</style>\n",
       "<table border=\"1\" class=\"dataframe\">\n",
       "  <thead>\n",
       "    <tr style=\"text-align: right;\">\n",
       "      <th></th>\n",
       "      <th>Unnamed: 0</th>\n",
       "      <th>decile1b</th>\n",
       "      <th>decile3</th>\n",
       "      <th>ID</th>\n",
       "      <th>decile1</th>\n",
       "      <th>sex</th>\n",
       "      <th>race</th>\n",
       "      <th>cluster</th>\n",
       "      <th>lsat</th>\n",
       "      <th>ugpa</th>\n",
       "      <th>...</th>\n",
       "      <th>black</th>\n",
       "      <th>hisp</th>\n",
       "      <th>pass_bar</th>\n",
       "      <th>bar</th>\n",
       "      <th>tier</th>\n",
       "      <th>index6040</th>\n",
       "      <th>indxgrp</th>\n",
       "      <th>indxgrp2</th>\n",
       "      <th>dnn_bar_pass_prediction</th>\n",
       "      <th>gpa</th>\n",
       "    </tr>\n",
       "  </thead>\n",
       "  <tbody>\n",
       "    <tr>\n",
       "      <th>0</th>\n",
       "      <td>0</td>\n",
       "      <td>10.0</td>\n",
       "      <td>10.0</td>\n",
       "      <td>2</td>\n",
       "      <td>10.0</td>\n",
       "      <td>1.0</td>\n",
       "      <td>7.0</td>\n",
       "      <td>1.0</td>\n",
       "      <td>44.0</td>\n",
       "      <td>3.5</td>\n",
       "      <td>...</td>\n",
       "      <td>0</td>\n",
       "      <td>0</td>\n",
       "      <td>1.0</td>\n",
       "      <td>a Passed 1st time</td>\n",
       "      <td>4.0</td>\n",
       "      <td>886.842082</td>\n",
       "      <td>g 700+</td>\n",
       "      <td>i 820+</td>\n",
       "      <td>0.979804</td>\n",
       "      <td>3.5</td>\n",
       "    </tr>\n",
       "    <tr>\n",
       "      <th>1</th>\n",
       "      <td>1</td>\n",
       "      <td>5.0</td>\n",
       "      <td>4.0</td>\n",
       "      <td>3</td>\n",
       "      <td>5.0</td>\n",
       "      <td>1.0</td>\n",
       "      <td>7.0</td>\n",
       "      <td>2.0</td>\n",
       "      <td>29.0</td>\n",
       "      <td>3.5</td>\n",
       "      <td>...</td>\n",
       "      <td>0</td>\n",
       "      <td>0</td>\n",
       "      <td>1.0</td>\n",
       "      <td>a Passed 1st time</td>\n",
       "      <td>2.0</td>\n",
       "      <td>649.999987</td>\n",
       "      <td>f 640-700</td>\n",
       "      <td>f 640-700</td>\n",
       "      <td>0.979804</td>\n",
       "      <td>3.5</td>\n",
       "    </tr>\n",
       "    <tr>\n",
       "      <th>2</th>\n",
       "      <td>2</td>\n",
       "      <td>3.0</td>\n",
       "      <td>2.0</td>\n",
       "      <td>36</td>\n",
       "      <td>3.0</td>\n",
       "      <td>2.0</td>\n",
       "      <td>7.0</td>\n",
       "      <td>3.0</td>\n",
       "      <td>36.0</td>\n",
       "      <td>3.5</td>\n",
       "      <td>...</td>\n",
       "      <td>0</td>\n",
       "      <td>0</td>\n",
       "      <td>1.0</td>\n",
       "      <td>a Passed 1st time</td>\n",
       "      <td>3.0</td>\n",
       "      <td>760.526298</td>\n",
       "      <td>g 700+</td>\n",
       "      <td>h 760-820</td>\n",
       "      <td>0.979804</td>\n",
       "      <td>3.5</td>\n",
       "    </tr>\n",
       "    <tr>\n",
       "      <th>3</th>\n",
       "      <td>3</td>\n",
       "      <td>7.0</td>\n",
       "      <td>4.0</td>\n",
       "      <td>52</td>\n",
       "      <td>7.0</td>\n",
       "      <td>2.0</td>\n",
       "      <td>7.0</td>\n",
       "      <td>3.0</td>\n",
       "      <td>39.0</td>\n",
       "      <td>3.5</td>\n",
       "      <td>...</td>\n",
       "      <td>0</td>\n",
       "      <td>0</td>\n",
       "      <td>1.0</td>\n",
       "      <td>a Passed 1st time</td>\n",
       "      <td>3.0</td>\n",
       "      <td>807.894717</td>\n",
       "      <td>g 700+</td>\n",
       "      <td>h 760-820</td>\n",
       "      <td>0.979804</td>\n",
       "      <td>3.5</td>\n",
       "    </tr>\n",
       "    <tr>\n",
       "      <th>4</th>\n",
       "      <td>4</td>\n",
       "      <td>9.0</td>\n",
       "      <td>8.0</td>\n",
       "      <td>55</td>\n",
       "      <td>9.0</td>\n",
       "      <td>2.0</td>\n",
       "      <td>7.0</td>\n",
       "      <td>4.0</td>\n",
       "      <td>48.0</td>\n",
       "      <td>3.5</td>\n",
       "      <td>...</td>\n",
       "      <td>0</td>\n",
       "      <td>0</td>\n",
       "      <td>1.0</td>\n",
       "      <td>a Passed 1st time</td>\n",
       "      <td>5.0</td>\n",
       "      <td>949.999974</td>\n",
       "      <td>g 700+</td>\n",
       "      <td>i 820+</td>\n",
       "      <td>0.979804</td>\n",
       "      <td>3.5</td>\n",
       "    </tr>\n",
       "  </tbody>\n",
       "</table>\n",
       "<p>5 rows × 39 columns</p>\n",
       "</div>"
      ],
      "text/plain": [
       "   Unnamed: 0  decile1b  decile3  ID  decile1  sex  race  cluster  lsat  ugpa  \\\n",
       "0           0      10.0     10.0   2     10.0  1.0   7.0      1.0  44.0   3.5   \n",
       "1           1       5.0      4.0   3      5.0  1.0   7.0      2.0  29.0   3.5   \n",
       "2           2       3.0      2.0  36      3.0  2.0   7.0      3.0  36.0   3.5   \n",
       "3           3       7.0      4.0  52      7.0  2.0   7.0      3.0  39.0   3.5   \n",
       "4           4       9.0      8.0  55      9.0  2.0   7.0      4.0  48.0   3.5   \n",
       "\n",
       "   ...  black  hisp pass_bar                bar tier   index6040    indxgrp  \\\n",
       "0  ...      0     0      1.0  a Passed 1st time  4.0  886.842082     g 700+   \n",
       "1  ...      0     0      1.0  a Passed 1st time  2.0  649.999987  f 640-700   \n",
       "2  ...      0     0      1.0  a Passed 1st time  3.0  760.526298     g 700+   \n",
       "3  ...      0     0      1.0  a Passed 1st time  3.0  807.894717     g 700+   \n",
       "4  ...      0     0      1.0  a Passed 1st time  5.0  949.999974     g 700+   \n",
       "\n",
       "    indxgrp2  dnn_bar_pass_prediction  gpa  \n",
       "0     i 820+                 0.979804  3.5  \n",
       "1  f 640-700                 0.979804  3.5  \n",
       "2  h 760-820                 0.979804  3.5  \n",
       "3  h 760-820                 0.979804  3.5  \n",
       "4     i 820+                 0.979804  3.5  \n",
       "\n",
       "[5 rows x 39 columns]"
      ]
     },
     "execution_count": 3,
     "metadata": {},
     "output_type": "execute_result"
    }
   ],
   "source": [
    "dataset.head()"
   ]
  },
  {
   "cell_type": "code",
   "execution_count": 4,
   "metadata": {},
   "outputs": [
    {
     "data": {
      "text/html": [
       "<div>\n",
       "<style scoped>\n",
       "    .dataframe tbody tr th:only-of-type {\n",
       "        vertical-align: middle;\n",
       "    }\n",
       "\n",
       "    .dataframe tbody tr th {\n",
       "        vertical-align: top;\n",
       "    }\n",
       "\n",
       "    .dataframe thead th {\n",
       "        text-align: right;\n",
       "    }\n",
       "</style>\n",
       "<table border=\"1\" class=\"dataframe\">\n",
       "  <thead>\n",
       "    <tr style=\"text-align: right;\">\n",
       "      <th></th>\n",
       "      <th>gender</th>\n",
       "      <th>lsat</th>\n",
       "      <th>pass_bar</th>\n",
       "      <th>race1</th>\n",
       "      <th>ugpa</th>\n",
       "    </tr>\n",
       "  </thead>\n",
       "  <tbody>\n",
       "    <tr>\n",
       "      <th>0</th>\n",
       "      <td>female</td>\n",
       "      <td>44.0</td>\n",
       "      <td>1.0</td>\n",
       "      <td>white</td>\n",
       "      <td>3.5</td>\n",
       "    </tr>\n",
       "    <tr>\n",
       "      <th>1</th>\n",
       "      <td>female</td>\n",
       "      <td>29.0</td>\n",
       "      <td>1.0</td>\n",
       "      <td>white</td>\n",
       "      <td>3.5</td>\n",
       "    </tr>\n",
       "    <tr>\n",
       "      <th>2</th>\n",
       "      <td>male</td>\n",
       "      <td>36.0</td>\n",
       "      <td>1.0</td>\n",
       "      <td>white</td>\n",
       "      <td>3.5</td>\n",
       "    </tr>\n",
       "    <tr>\n",
       "      <th>3</th>\n",
       "      <td>male</td>\n",
       "      <td>39.0</td>\n",
       "      <td>1.0</td>\n",
       "      <td>white</td>\n",
       "      <td>3.5</td>\n",
       "    </tr>\n",
       "    <tr>\n",
       "      <th>4</th>\n",
       "      <td>male</td>\n",
       "      <td>48.0</td>\n",
       "      <td>1.0</td>\n",
       "      <td>white</td>\n",
       "      <td>3.5</td>\n",
       "    </tr>\n",
       "  </tbody>\n",
       "</table>\n",
       "</div>"
      ],
      "text/plain": [
       "   gender  lsat  pass_bar  race1  ugpa\n",
       "0  female  44.0       1.0  white   3.5\n",
       "1  female  29.0       1.0  white   3.5\n",
       "2    male  36.0       1.0  white   3.5\n",
       "3    male  39.0       1.0  white   3.5\n",
       "4    male  48.0       1.0  white   3.5"
      ]
     },
     "execution_count": 4,
     "metadata": {},
     "output_type": "execute_result"
    }
   ],
   "source": [
    "_COLUMN_NAMES = [\n",
    "  'gender',\n",
    "  'lsat',\n",
    "  'pass_bar',\n",
    "  'race1',\n",
    "  'ugpa',\n",
    "]\n",
    "\n",
    "dataset['gender'] = dataset['gender'].astype(str)\n",
    "dataset['race1'] = dataset['race1'].astype(str)\n",
    "dataset = dataset[_COLUMN_NAMES]\n",
    "\n",
    "dataset.head()"
   ]
  },
  {
   "cell_type": "code",
   "execution_count": 5,
   "metadata": {},
   "outputs": [
    {
     "data": {
      "text/html": [
       "<div>\n",
       "<style scoped>\n",
       "    .dataframe tbody tr th:only-of-type {\n",
       "        vertical-align: middle;\n",
       "    }\n",
       "\n",
       "    .dataframe tbody tr th {\n",
       "        vertical-align: top;\n",
       "    }\n",
       "\n",
       "    .dataframe thead th {\n",
       "        text-align: right;\n",
       "    }\n",
       "</style>\n",
       "<table border=\"1\" class=\"dataframe\">\n",
       "  <thead>\n",
       "    <tr style=\"text-align: right;\">\n",
       "      <th></th>\n",
       "      <th>lsat</th>\n",
       "      <th>pass_bar</th>\n",
       "      <th>ugpa</th>\n",
       "    </tr>\n",
       "    <tr>\n",
       "      <th>race1</th>\n",
       "      <th></th>\n",
       "      <th></th>\n",
       "      <th></th>\n",
       "    </tr>\n",
       "  </thead>\n",
       "  <tbody>\n",
       "    <tr>\n",
       "      <th>asian</th>\n",
       "      <td>36.290886</td>\n",
       "      <td>0.924051</td>\n",
       "      <td>3.210886</td>\n",
       "    </tr>\n",
       "    <tr>\n",
       "      <th>black</th>\n",
       "      <td>29.394073</td>\n",
       "      <td>0.777963</td>\n",
       "      <td>2.890735</td>\n",
       "    </tr>\n",
       "    <tr>\n",
       "      <th>hisp</th>\n",
       "      <td>33.306695</td>\n",
       "      <td>0.875810</td>\n",
       "      <td>3.070518</td>\n",
       "    </tr>\n",
       "    <tr>\n",
       "      <th>other</th>\n",
       "      <td>34.936096</td>\n",
       "      <td>0.901070</td>\n",
       "      <td>3.137968</td>\n",
       "    </tr>\n",
       "    <tr>\n",
       "      <th>white</th>\n",
       "      <td>37.463003</td>\n",
       "      <td>0.967326</td>\n",
       "      <td>3.244682</td>\n",
       "    </tr>\n",
       "  </tbody>\n",
       "</table>\n",
       "</div>"
      ],
      "text/plain": [
       "            lsat  pass_bar      ugpa\n",
       "race1                               \n",
       "asian  36.290886  0.924051  3.210886\n",
       "black  29.394073  0.777963  2.890735\n",
       "hisp   33.306695  0.875810  3.070518\n",
       "other  34.936096  0.901070  3.137968\n",
       "white  37.463003  0.967326  3.244682"
      ]
     },
     "execution_count": 5,
     "metadata": {},
     "output_type": "execute_result"
    }
   ],
   "source": [
    "dataset.groupby('race1').mean()"
   ]
  },
  {
   "cell_type": "code",
   "execution_count": 6,
   "metadata": {
    "colab": {
     "base_uri": "https://localhost:8080/",
     "height": 204
    },
    "colab_type": "code",
    "executionInfo": {
     "elapsed": 62995,
     "status": "ok",
     "timestamp": 1595594667667,
     "user": {
      "displayName": "Vitoria Aquino Guardieiro",
      "photoUrl": "https://lh3.googleusercontent.com/a-/AOh14GiANFIcTTRvDT7PVZBuo-jPeY7jlUWjMOA0YaIC-Z4=s64",
      "userId": "08726576595430700752"
     },
     "user_tz": 180
    },
    "id": "rH24295ifUgz",
    "outputId": "f59ab0e5-dddc-45cc-a5cf-f24d3f6ba94f"
   },
   "outputs": [],
   "source": [
    "# Convert Sex value to 0 and 1\n",
    "dataset[\"gender\"] = dataset[\"gender\"].map({\"male\": 0, \"female\":1})\n",
    "dataset[\"race1\"] = dataset[\"race1\"].map({\"white\": 0, \"black\":1, \"asian\":1, \"hisp\": 1, \"other\": 1})\n",
    "dataset[\"pass_bar\"] = dataset[\"pass_bar\"].map({1: 1, 0:-1})"
   ]
  },
  {
   "cell_type": "code",
   "execution_count": 7,
   "metadata": {
    "colab": {},
    "colab_type": "code",
    "executionInfo": {
     "elapsed": 62012,
     "status": "ok",
     "timestamp": 1595594668066,
     "user": {
      "displayName": "Vitoria Aquino Guardieiro",
      "photoUrl": "https://lh3.googleusercontent.com/a-/AOh14GiANFIcTTRvDT7PVZBuo-jPeY7jlUWjMOA0YaIC-Z4=s64",
      "userId": "08726576595430700752"
     },
     "user_tz": 180
    },
    "id": "_43AS4aerbjj"
   },
   "outputs": [
    {
     "data": {
      "text/html": [
       "<div>\n",
       "<style scoped>\n",
       "    .dataframe tbody tr th:only-of-type {\n",
       "        vertical-align: middle;\n",
       "    }\n",
       "\n",
       "    .dataframe tbody tr th {\n",
       "        vertical-align: top;\n",
       "    }\n",
       "\n",
       "    .dataframe thead th {\n",
       "        text-align: right;\n",
       "    }\n",
       "</style>\n",
       "<table border=\"1\" class=\"dataframe\">\n",
       "  <thead>\n",
       "    <tr style=\"text-align: right;\">\n",
       "      <th></th>\n",
       "      <th>gender</th>\n",
       "      <th>lsat</th>\n",
       "      <th>pass_bar</th>\n",
       "      <th>race1</th>\n",
       "      <th>ugpa</th>\n",
       "    </tr>\n",
       "  </thead>\n",
       "  <tbody>\n",
       "    <tr>\n",
       "      <th>0</th>\n",
       "      <td>1</td>\n",
       "      <td>44.0</td>\n",
       "      <td>1</td>\n",
       "      <td>0</td>\n",
       "      <td>3.5</td>\n",
       "    </tr>\n",
       "    <tr>\n",
       "      <th>1</th>\n",
       "      <td>1</td>\n",
       "      <td>29.0</td>\n",
       "      <td>1</td>\n",
       "      <td>0</td>\n",
       "      <td>3.5</td>\n",
       "    </tr>\n",
       "    <tr>\n",
       "      <th>2</th>\n",
       "      <td>0</td>\n",
       "      <td>36.0</td>\n",
       "      <td>1</td>\n",
       "      <td>0</td>\n",
       "      <td>3.5</td>\n",
       "    </tr>\n",
       "    <tr>\n",
       "      <th>3</th>\n",
       "      <td>0</td>\n",
       "      <td>39.0</td>\n",
       "      <td>1</td>\n",
       "      <td>0</td>\n",
       "      <td>3.5</td>\n",
       "    </tr>\n",
       "    <tr>\n",
       "      <th>4</th>\n",
       "      <td>0</td>\n",
       "      <td>48.0</td>\n",
       "      <td>1</td>\n",
       "      <td>0</td>\n",
       "      <td>3.5</td>\n",
       "    </tr>\n",
       "  </tbody>\n",
       "</table>\n",
       "</div>"
      ],
      "text/plain": [
       "   gender  lsat  pass_bar  race1  ugpa\n",
       "0       1  44.0         1      0   3.5\n",
       "1       1  29.0         1      0   3.5\n",
       "2       0  36.0         1      0   3.5\n",
       "3       0  39.0         1      0   3.5\n",
       "4       0  48.0         1      0   3.5"
      ]
     },
     "execution_count": 7,
     "metadata": {},
     "output_type": "execute_result"
    }
   ],
   "source": [
    "dataset.head()"
   ]
  },
  {
   "cell_type": "code",
   "execution_count": 8,
   "metadata": {
    "colab": {},
    "colab_type": "code",
    "executionInfo": {
     "elapsed": 61063,
     "status": "ok",
     "timestamp": 1595594668068,
     "user": {
      "displayName": "Vitoria Aquino Guardieiro",
      "photoUrl": "https://lh3.googleusercontent.com/a-/AOh14GiANFIcTTRvDT7PVZBuo-jPeY7jlUWjMOA0YaIC-Z4=s64",
      "userId": "08726576595430700752"
     },
     "user_tz": 180
    },
    "id": "blQCM3i9qF24"
   },
   "outputs": [],
   "source": [
    "X = dataset.drop(['pass_bar'], axis=1)"
   ]
  },
  {
   "cell_type": "code",
   "execution_count": 9,
   "metadata": {
    "colab": {},
    "colab_type": "code",
    "executionInfo": {
     "elapsed": 60863,
     "status": "ok",
     "timestamp": 1595594668069,
     "user": {
      "displayName": "Vitoria Aquino Guardieiro",
      "photoUrl": "https://lh3.googleusercontent.com/a-/AOh14GiANFIcTTRvDT7PVZBuo-jPeY7jlUWjMOA0YaIC-Z4=s64",
      "userId": "08726576595430700752"
     },
     "user_tz": 180
    },
    "id": "bnHRL4Mem3Xi"
   },
   "outputs": [],
   "source": [
    "y = dataset['pass_bar']"
   ]
  },
  {
   "cell_type": "code",
   "execution_count": 10,
   "metadata": {},
   "outputs": [
    {
     "data": {
      "text/plain": [
       "(20427, 4)"
      ]
     },
     "execution_count": 10,
     "metadata": {},
     "output_type": "execute_result"
    }
   ],
   "source": [
    "X.shape"
   ]
  },
  {
   "cell_type": "code",
   "execution_count": 11,
   "metadata": {},
   "outputs": [
    {
     "data": {
      "text/plain": [
       "2000"
      ]
     },
     "execution_count": 11,
     "metadata": {},
     "output_type": "execute_result"
    }
   ],
   "source": [
    "# 395, 808\n",
    "random_seed = 2000#np.random.randint(0, 1000)\n",
    "random_seed"
   ]
  },
  {
   "cell_type": "code",
   "execution_count": 12,
   "metadata": {},
   "outputs": [
    {
     "data": {
      "text/plain": [
       "2000"
      ]
     },
     "execution_count": 12,
     "metadata": {},
     "output_type": "execute_result"
    }
   ],
   "source": [
    "random_seed2 = 2000#np.random.randint(0, 1000)\n",
    "random_seed2"
   ]
  },
  {
   "cell_type": "code",
   "execution_count": 13,
   "metadata": {
    "colab": {},
    "colab_type": "code",
    "executionInfo": {
     "elapsed": 60572,
     "status": "ok",
     "timestamp": 1595594668069,
     "user": {
      "displayName": "Vitoria Aquino Guardieiro",
      "photoUrl": "https://lh3.googleusercontent.com/a-/AOh14GiANFIcTTRvDT7PVZBuo-jPeY7jlUWjMOA0YaIC-Z4=s64",
      "userId": "08726576595430700752"
     },
     "user_tz": 180
    },
    "id": "XAJLMFuHFmg0"
   },
   "outputs": [],
   "source": [
    "X_tv, X_test, y_tv, y_test = train_test_split(X, y, test_size=8000, random_state = random_seed)\n",
    "X_train, X_val, y_train, y_val = train_test_split(X_tv, y_tv, test_size=4000, random_state = random_seed2)"
   ]
  },
  {
   "cell_type": "code",
   "execution_count": 14,
   "metadata": {},
   "outputs": [],
   "source": [
    "fair_feat = 'race1'"
   ]
  },
  {
   "cell_type": "code",
   "execution_count": 15,
   "metadata": {},
   "outputs": [],
   "source": [
    "sample_weight = calc_reweight(X_train, y_train, fair_feat)"
   ]
  },
  {
   "cell_type": "markdown",
   "metadata": {
    "colab_type": "text",
    "id": "DufQzp18Qr_B"
   },
   "source": [
    "## Parte 3: Comparando os modelos"
   ]
  },
  {
   "cell_type": "code",
   "execution_count": 16,
   "metadata": {},
   "outputs": [],
   "source": [
    "optimize_metrics = {'accuracy': {'metrics': ['accuracy', 'equal_opportunity', 'p_percent', 'c_variation'],\n",
    "                'LogReg': [],\n",
    "                'RegEqual': [],\n",
    "                'RegDemo': [],\n",
    "                'RegRewe': [],\n",
    "                'RegMoo': [],\n",
    "                'RegEqMoo': []},\n",
    "                'equal_opportunity': {'metrics': ['accuracy', 'equal_opportunity', 'p_percent', 'c_variation'],\n",
    "                'LogReg': [],\n",
    "                'RegEqual': [],\n",
    "                'RegDemo': [],\n",
    "                'RegRewe': [],\n",
    "                'RegMoo': [],\n",
    "                'RegEqMoo': []},\n",
    "                'p_percent': {'metrics': ['accuracy', 'equal_opportunity', 'p_percent', 'c_variation'],\n",
    "                'LogReg': [],\n",
    "                'RegEqual': [],\n",
    "                'RegDemo': [],\n",
    "                'RegRewe': [],\n",
    "                'RegMoo': [],\n",
    "                'RegEqMoo': []},\n",
    "                'c_variation': {'metrics': ['accuracy', 'equal_opportunity', 'p_percent', 'c_variation'],\n",
    "                'LogReg': [],\n",
    "                'RegEqual': [],\n",
    "                'RegDemo': [],\n",
    "                'RegRewe': [],\n",
    "                'RegMoo': [],\n",
    "                'RegEqMoo': []}}"
   ]
  },
  {
   "cell_type": "code",
   "execution_count": 17,
   "metadata": {},
   "outputs": [],
   "source": [
    "metrics = ['accuracy', 'equal_opportunity', 'p_percent', 'c_variation']"
   ]
  },
  {
   "cell_type": "code",
   "execution_count": 18,
   "metadata": {},
   "outputs": [],
   "source": [
    "methods = ['LogReg', 'RegEqual', 'RegDemo', 'RegRewe', 'RegMoo', 'RegEqMoo']\n",
    "index = [sum([[method]*len(metrics) for method in methods],[]),\n",
    "        sum([metrics for method in methods],[])]\n",
    "results_test = pd.DataFrame(index=index, columns=metrics)\n",
    "results_val = pd.DataFrame(index=index, columns=metrics)"
   ]
  },
  {
   "cell_type": "code",
   "execution_count": 19,
   "metadata": {},
   "outputs": [],
   "source": [
    "fair_feature = \"race1\""
   ]
  },
  {
   "cell_type": "code",
   "execution_count": 20,
   "metadata": {
    "tags": []
   },
   "outputs": [],
   "source": [
    "# RegLog\n",
    "\n",
    "for metric in metrics:\n",
    "    reg_log = FindCLogisticRegression(X_train, y_train, X_val, y_val, fair_feature, metric=metric).tune()\n",
    "    # RegMoo\n",
    "    optimize_metrics[metric]['LogReg'] = [reg_log.score(X_test, y_test),\n",
    "                            equal_opportunity_score(sensitive_column=fair_feature)(reg_log, X_test, y_test),\n",
    "                            p_percent_score(sensitive_column=fair_feature)(reg_log, X_test),\n",
    "                            coefficient_of_variation(reg_log, X_test, y_test)]\n",
    "    results_test.loc[('LogReg',metric),:] = [reg_log.score(X_test, y_test),\n",
    "                            equal_opportunity_score(sensitive_column=fair_feature)(reg_log, X_test, y_test),\n",
    "                            p_percent_score(sensitive_column=fair_feature)(reg_log, X_test),\n",
    "                            coefficient_of_variation(reg_log, X_test, y_test)]"
   ]
  },
  {
   "cell_type": "code",
   "execution_count": 21,
   "metadata": {},
   "outputs": [],
   "source": [
    "# RegEqual\n",
    "\n",
    "for metric in metrics:\n",
    "    reg_equal = FindCCLogisticRegression(X_train, y_train, X_val, y_val, fair_feature, metric=metric, base_model='equal').tune()\n",
    "\n",
    "    optimize_metrics[metric]['RegEqual'] = [reg_equal.score(X_test, y_test),\n",
    "                            equal_opportunity_score(sensitive_column=fair_feature)(reg_equal, X_test, y_test),\n",
    "                            p_percent_score(sensitive_column=fair_feature)(reg_log, X_test),\n",
    "                            coefficient_of_variation(reg_equal, X_test, y_test)]\n",
    "    results_test.loc[('RegEqual',metric),:] = [reg_equal.score(X_test, y_test),\n",
    "                            equal_opportunity_score(sensitive_column=fair_feature)(reg_equal, X_test, y_test),\n",
    "                            p_percent_score(sensitive_column=fair_feature)(reg_log, X_test),\n",
    "                            coefficient_of_variation(reg_equal, X_test, y_test)]"
   ]
  },
  {
   "cell_type": "code",
   "execution_count": 22,
   "metadata": {},
   "outputs": [
    {
     "name": "stderr",
     "output_type": "stream",
     "text": [
      "/root/anaconda3/envs/py36/lib/python3.6/site-packages/cvxpy/problems/problem.py:1055: UserWarning: Solution may be inaccurate. Try another solver, adjusting the solver settings, or solve with verbose=True for more information.\n",
      "  \"Solution may be inaccurate. Try another solver, \"\n"
     ]
    }
   ],
   "source": [
    "# RegDemo\n",
    "\n",
    "for metric in metrics:\n",
    "    reg_demo = FindCCLogisticRegression(X_train, y_train, X_val, y_val,fair_feature, metric=metric, base_model='demographic').tune()\n",
    "\n",
    "    optimize_metrics[metric]['RegDemo'] = [reg_demo.score(X_test, y_test),\n",
    "                            equal_opportunity_score(sensitive_column=fair_feature)(reg_demo, X_test, y_test),\n",
    "                            p_percent_score(sensitive_column=fair_feature)(reg_demo, X_test),\n",
    "                            coefficient_of_variation(reg_demo, X_test, y_test)]\n",
    "    results_test.loc[('RegDemo',metric),:] = [reg_demo.score(X_test, y_test),\n",
    "                            equal_opportunity_score(sensitive_column=fair_feature)(reg_demo, X_test, y_test),\n",
    "                            p_percent_score(sensitive_column=fair_feature)(reg_demo, X_test),\n",
    "                            coefficient_of_variation(reg_demo, X_test, y_test)]"
   ]
  },
  {
   "cell_type": "code",
   "execution_count": 23,
   "metadata": {},
   "outputs": [],
   "source": [
    "# RegRewe\n",
    "\n",
    "for metric in metrics:\n",
    "    reg_rewe = FindCLogisticRegression(X_train, y_train, X_val, y_val, fair_feature,metric=metric, sample_weight=sample_weight).tune()\n",
    "\n",
    "    optimize_metrics[metric]['RegRewe'] = [reg_rewe.score(X_test, y_test),\n",
    "                            equal_opportunity_score(sensitive_column=fair_feature)(reg_rewe, X_test, y_test),\n",
    "                            p_percent_score(sensitive_column=fair_feature)(reg_rewe, X_test),\n",
    "                            coefficient_of_variation(reg_rewe, X_test, y_test)]\n",
    "    results_test.loc[('RegRewe',metric),:] = [reg_rewe.score(X_test, y_test),\n",
    "                            equal_opportunity_score(sensitive_column=fair_feature)(reg_rewe, X_test, y_test),\n",
    "                            p_percent_score(sensitive_column=fair_feature)(reg_rewe, X_test),\n",
    "                            coefficient_of_variation(reg_rewe, X_test, y_test)]"
   ]
  },
  {
   "cell_type": "code",
   "execution_count": 24,
   "metadata": {},
   "outputs": [
    {
     "name": "stdout",
     "output_type": "stream",
     "text": [
      "Using license file /opt/gurobi/gurobi.lic\n",
      "Academic license - for non-commercial use only\n"
     ]
    },
    {
     "name": "stderr",
     "output_type": "stream",
     "text": [
      "/root/anaconda3/envs/py36/lib/python3.6/site-packages/sklego/metrics.py:155: RuntimeWarning: invalid value encountered in double_scalars\n",
      "  score = np.minimum(p_y1_z1 / p_y1_z0, p_y1_z0 / p_y1_z1)\n",
      "/root/anaconda3/envs/py36/lib/python3.6/site-packages/sklego/metrics.py:79: RuntimeWarning: No samples with y_hat == 1 for race1 == 1, returning 0\n",
      "  RuntimeWarning,\n",
      "/root/anaconda3/envs/py36/lib/python3.6/site-packages/sklego/metrics.py:155: RuntimeWarning: invalid value encountered in double_scalars\n",
      "  score = np.minimum(p_y1_z1 / p_y1_z0, p_y1_z0 / p_y1_z1)\n",
      "/root/anaconda3/envs/py36/lib/python3.6/site-packages/sklego/metrics.py:79: RuntimeWarning: No samples with y_hat == 1 for race1 == 1, returning 0\n",
      "  RuntimeWarning,\n",
      "/root/anaconda3/envs/py36/lib/python3.6/site-packages/sklego/metrics.py:155: RuntimeWarning: invalid value encountered in double_scalars\n",
      "  score = np.minimum(p_y1_z1 / p_y1_z0, p_y1_z0 / p_y1_z1)\n",
      "/root/anaconda3/envs/py36/lib/python3.6/site-packages/sklego/metrics.py:79: RuntimeWarning: No samples with y_hat == 1 for race1 == 1, returning 0\n",
      "  RuntimeWarning,\n",
      "/root/anaconda3/envs/py36/lib/python3.6/site-packages/sklego/metrics.py:155: RuntimeWarning: invalid value encountered in double_scalars\n",
      "  score = np.minimum(p_y1_z1 / p_y1_z0, p_y1_z0 / p_y1_z1)\n",
      "/root/anaconda3/envs/py36/lib/python3.6/site-packages/sklego/metrics.py:79: RuntimeWarning: No samples with y_hat == 1 for race1 == 1, returning 0\n",
      "  RuntimeWarning,\n",
      "/root/anaconda3/envs/py36/lib/python3.6/site-packages/sklego/metrics.py:155: RuntimeWarning: invalid value encountered in double_scalars\n",
      "  score = np.minimum(p_y1_z1 / p_y1_z0, p_y1_z0 / p_y1_z1)\n",
      "/root/anaconda3/envs/py36/lib/python3.6/site-packages/sklego/metrics.py:79: RuntimeWarning: No samples with y_hat == 1 for race1 == 1, returning 0\n",
      "  RuntimeWarning,\n"
     ]
    }
   ],
   "source": [
    "# RegMoo\n",
    "\n",
    "scalarization = FairScalarization(X_train, y_train, fair_feature)\n",
    "moo_learn = MOOLogisticRegression(X_train, y_train, X_val, y_val, fair_feature, scalarization)\n",
    "moo_learn.tune()\n",
    "\n",
    "for metric in metrics:\n",
    "    reg_moo = moo_learn.tune(metric)\n",
    "    \n",
    "    results_test.loc[('RegMoo',metric),:] = [reg_moo.score(X_test, y_test),\n",
    "                            equal_opportunity_score(sensitive_column=fair_feature)(reg_moo, X_test, y_test),\n",
    "                            p_percent_score(sensitive_column=fair_feature)(reg_moo, X_test),\n",
    "                            coefficient_of_variation(reg_moo, X_test, y_test)]"
   ]
  },
  {
   "cell_type": "code",
   "execution_count": 25,
   "metadata": {},
   "outputs": [
    {
     "name": "stderr",
     "output_type": "stream",
     "text": [
      "/root/anaconda3/envs/py36/lib/python3.6/site-packages/sklego/metrics.py:155: RuntimeWarning: invalid value encountered in double_scalars\n",
      "  score = np.minimum(p_y1_z1 / p_y1_z0, p_y1_z0 / p_y1_z1)\n",
      "/root/anaconda3/envs/py36/lib/python3.6/site-packages/sklego/metrics.py:79: RuntimeWarning: No samples with y_hat == 1 for race1 == 1, returning 0\n",
      "  RuntimeWarning,\n",
      "/root/anaconda3/envs/py36/lib/python3.6/site-packages/sklego/metrics.py:155: RuntimeWarning: invalid value encountered in double_scalars\n",
      "  score = np.minimum(p_y1_z1 / p_y1_z0, p_y1_z0 / p_y1_z1)\n",
      "/root/anaconda3/envs/py36/lib/python3.6/site-packages/sklego/metrics.py:79: RuntimeWarning: No samples with y_hat == 1 for race1 == 1, returning 0\n",
      "  RuntimeWarning,\n",
      "/root/anaconda3/envs/py36/lib/python3.6/site-packages/sklego/metrics.py:155: RuntimeWarning: invalid value encountered in double_scalars\n",
      "  score = np.minimum(p_y1_z1 / p_y1_z0, p_y1_z0 / p_y1_z1)\n",
      "/root/anaconda3/envs/py36/lib/python3.6/site-packages/sklego/metrics.py:79: RuntimeWarning: No samples with y_hat == 1 for race1 == 1, returning 0\n",
      "  RuntimeWarning,\n",
      "/root/anaconda3/envs/py36/lib/python3.6/site-packages/sklego/metrics.py:155: RuntimeWarning: invalid value encountered in double_scalars\n",
      "  score = np.minimum(p_y1_z1 / p_y1_z0, p_y1_z0 / p_y1_z1)\n",
      "/root/anaconda3/envs/py36/lib/python3.6/site-packages/sklego/metrics.py:79: RuntimeWarning: No samples with y_hat == 1 for race1 == 1, returning 0\n",
      "  RuntimeWarning,\n",
      "/root/anaconda3/envs/py36/lib/python3.6/site-packages/sklego/metrics.py:155: RuntimeWarning: invalid value encountered in double_scalars\n",
      "  score = np.minimum(p_y1_z1 / p_y1_z0, p_y1_z0 / p_y1_z1)\n",
      "/root/anaconda3/envs/py36/lib/python3.6/site-packages/sklego/metrics.py:79: RuntimeWarning: No samples with y_hat == 1 for race1 == 1, returning 0\n",
      "  RuntimeWarning,\n"
     ]
    }
   ],
   "source": [
    "# RegEqMoo\n",
    "\n",
    "scalarization = EqualScalarization(X_train, y_train, fair_feature)\n",
    "moo_learn = MOOLogisticRegression(X_train, y_train, X_val, y_val, fair_feature, scalarization)\n",
    "moo_learn.tune()\n",
    "\n",
    "for metric in metrics:\n",
    "    reg_eqmoo = moo_learn.tune(metric)\n",
    "    \n",
    "    results_test.loc[('RegEqMoo',metric),:] = [reg_eqmoo.score(X_test, y_test),\n",
    "                            equal_opportunity_score(sensitive_column=fair_feature)(reg_eqmoo, X_test, y_test),\n",
    "                            p_percent_score(sensitive_column=fair_feature)(reg_eqmoo, X_test),\n",
    "                            coefficient_of_variation(reg_eqmoo, X_test, y_test)]"
   ]
  },
  {
   "cell_type": "code",
   "execution_count": 26,
   "metadata": {},
   "outputs": [
    {
     "data": {
      "text/html": [
       "<div>\n",
       "<style scoped>\n",
       "    .dataframe tbody tr th:only-of-type {\n",
       "        vertical-align: middle;\n",
       "    }\n",
       "\n",
       "    .dataframe tbody tr th {\n",
       "        vertical-align: top;\n",
       "    }\n",
       "\n",
       "    .dataframe thead th {\n",
       "        text-align: right;\n",
       "    }\n",
       "</style>\n",
       "<table border=\"1\" class=\"dataframe\">\n",
       "  <thead>\n",
       "    <tr style=\"text-align: right;\">\n",
       "      <th></th>\n",
       "      <th></th>\n",
       "      <th>accuracy</th>\n",
       "      <th>equal_opportunity</th>\n",
       "      <th>p_percent</th>\n",
       "      <th>c_variation</th>\n",
       "    </tr>\n",
       "  </thead>\n",
       "  <tbody>\n",
       "    <tr>\n",
       "      <th rowspan=\"4\" valign=\"top\">LogReg</th>\n",
       "      <th>accuracy</th>\n",
       "      <td>0.948875</td>\n",
       "      <td>0.991589</td>\n",
       "      <td>0.980174</td>\n",
       "      <td>0.297658</td>\n",
       "    </tr>\n",
       "    <tr>\n",
       "      <th>equal_opportunity</th>\n",
       "      <td>0.948</td>\n",
       "      <td>1</td>\n",
       "      <td>1</td>\n",
       "      <td>0.298473</td>\n",
       "    </tr>\n",
       "    <tr>\n",
       "      <th>p_percent</th>\n",
       "      <td>0.948</td>\n",
       "      <td>1</td>\n",
       "      <td>1</td>\n",
       "      <td>0.298473</td>\n",
       "    </tr>\n",
       "    <tr>\n",
       "      <th>c_variation</th>\n",
       "      <td>0.9485</td>\n",
       "      <td>0.999065</td>\n",
       "      <td>0.995242</td>\n",
       "      <td>0.297403</td>\n",
       "    </tr>\n",
       "    <tr>\n",
       "      <th rowspan=\"4\" valign=\"top\">RegEqual</th>\n",
       "      <th>accuracy</th>\n",
       "      <td>0.948375</td>\n",
       "      <td>1</td>\n",
       "      <td>0.995242</td>\n",
       "      <td>0.29756</td>\n",
       "    </tr>\n",
       "    <tr>\n",
       "      <th>equal_opportunity</th>\n",
       "      <td>0.948</td>\n",
       "      <td>1</td>\n",
       "      <td>0.995242</td>\n",
       "      <td>0.298473</td>\n",
       "    </tr>\n",
       "    <tr>\n",
       "      <th>p_percent</th>\n",
       "      <td>0.948</td>\n",
       "      <td>1</td>\n",
       "      <td>0.995242</td>\n",
       "      <td>0.298473</td>\n",
       "    </tr>\n",
       "    <tr>\n",
       "      <th>c_variation</th>\n",
       "      <td>0.948</td>\n",
       "      <td>1</td>\n",
       "      <td>0.995242</td>\n",
       "      <td>0.298473</td>\n",
       "    </tr>\n",
       "    <tr>\n",
       "      <th rowspan=\"4\" valign=\"top\">RegDemo</th>\n",
       "      <th>accuracy</th>\n",
       "      <td>0.948</td>\n",
       "      <td>1</td>\n",
       "      <td>1</td>\n",
       "      <td>0.298473</td>\n",
       "    </tr>\n",
       "    <tr>\n",
       "      <th>equal_opportunity</th>\n",
       "      <td>0.948</td>\n",
       "      <td>1</td>\n",
       "      <td>1</td>\n",
       "      <td>0.298473</td>\n",
       "    </tr>\n",
       "    <tr>\n",
       "      <th>p_percent</th>\n",
       "      <td>0.948</td>\n",
       "      <td>1</td>\n",
       "      <td>1</td>\n",
       "      <td>0.298473</td>\n",
       "    </tr>\n",
       "    <tr>\n",
       "      <th>c_variation</th>\n",
       "      <td>0.9485</td>\n",
       "      <td>0.999065</td>\n",
       "      <td>0.995242</td>\n",
       "      <td>0.297403</td>\n",
       "    </tr>\n",
       "    <tr>\n",
       "      <th rowspan=\"4\" valign=\"top\">RegRewe</th>\n",
       "      <th>accuracy</th>\n",
       "      <td>0.948</td>\n",
       "      <td>1</td>\n",
       "      <td>1</td>\n",
       "      <td>0.298473</td>\n",
       "    </tr>\n",
       "    <tr>\n",
       "      <th>equal_opportunity</th>\n",
       "      <td>0.948</td>\n",
       "      <td>1</td>\n",
       "      <td>1</td>\n",
       "      <td>0.298473</td>\n",
       "    </tr>\n",
       "    <tr>\n",
       "      <th>p_percent</th>\n",
       "      <td>0.948</td>\n",
       "      <td>1</td>\n",
       "      <td>1</td>\n",
       "      <td>0.298473</td>\n",
       "    </tr>\n",
       "    <tr>\n",
       "      <th>c_variation</th>\n",
       "      <td>0.948</td>\n",
       "      <td>1</td>\n",
       "      <td>1</td>\n",
       "      <td>0.298473</td>\n",
       "    </tr>\n",
       "    <tr>\n",
       "      <th rowspan=\"4\" valign=\"top\">RegMoo</th>\n",
       "      <th>accuracy</th>\n",
       "      <td>0.948375</td>\n",
       "      <td>0.999065</td>\n",
       "      <td>0.996035</td>\n",
       "      <td>0.297709</td>\n",
       "    </tr>\n",
       "    <tr>\n",
       "      <th>equal_opportunity</th>\n",
       "      <td>0.948</td>\n",
       "      <td>1</td>\n",
       "      <td>1</td>\n",
       "      <td>0.298473</td>\n",
       "    </tr>\n",
       "    <tr>\n",
       "      <th>p_percent</th>\n",
       "      <td>0.948</td>\n",
       "      <td>1</td>\n",
       "      <td>1</td>\n",
       "      <td>0.298473</td>\n",
       "    </tr>\n",
       "    <tr>\n",
       "      <th>c_variation</th>\n",
       "      <td>0.948375</td>\n",
       "      <td>0.999065</td>\n",
       "      <td>0.996035</td>\n",
       "      <td>0.297709</td>\n",
       "    </tr>\n",
       "    <tr>\n",
       "      <th rowspan=\"4\" valign=\"top\">RegEqMoo</th>\n",
       "      <th>accuracy</th>\n",
       "      <td>0.948875</td>\n",
       "      <td>0.991589</td>\n",
       "      <td>0.980174</td>\n",
       "      <td>0.297658</td>\n",
       "    </tr>\n",
       "    <tr>\n",
       "      <th>equal_opportunity</th>\n",
       "      <td>0.948</td>\n",
       "      <td>1</td>\n",
       "      <td>1</td>\n",
       "      <td>0.298473</td>\n",
       "    </tr>\n",
       "    <tr>\n",
       "      <th>p_percent</th>\n",
       "      <td>0.948</td>\n",
       "      <td>1</td>\n",
       "      <td>1</td>\n",
       "      <td>0.298473</td>\n",
       "    </tr>\n",
       "    <tr>\n",
       "      <th>c_variation</th>\n",
       "      <td>0.948625</td>\n",
       "      <td>0.998131</td>\n",
       "      <td>0.992863</td>\n",
       "      <td>0.297245</td>\n",
       "    </tr>\n",
       "  </tbody>\n",
       "</table>\n",
       "</div>"
      ],
      "text/plain": [
       "                            accuracy equal_opportunity p_percent c_variation\n",
       "LogReg   accuracy           0.948875          0.991589  0.980174    0.297658\n",
       "         equal_opportunity     0.948                 1         1    0.298473\n",
       "         p_percent             0.948                 1         1    0.298473\n",
       "         c_variation          0.9485          0.999065  0.995242    0.297403\n",
       "RegEqual accuracy           0.948375                 1  0.995242     0.29756\n",
       "         equal_opportunity     0.948                 1  0.995242    0.298473\n",
       "         p_percent             0.948                 1  0.995242    0.298473\n",
       "         c_variation           0.948                 1  0.995242    0.298473\n",
       "RegDemo  accuracy              0.948                 1         1    0.298473\n",
       "         equal_opportunity     0.948                 1         1    0.298473\n",
       "         p_percent             0.948                 1         1    0.298473\n",
       "         c_variation          0.9485          0.999065  0.995242    0.297403\n",
       "RegRewe  accuracy              0.948                 1         1    0.298473\n",
       "         equal_opportunity     0.948                 1         1    0.298473\n",
       "         p_percent             0.948                 1         1    0.298473\n",
       "         c_variation           0.948                 1         1    0.298473\n",
       "RegMoo   accuracy           0.948375          0.999065  0.996035    0.297709\n",
       "         equal_opportunity     0.948                 1         1    0.298473\n",
       "         p_percent             0.948                 1         1    0.298473\n",
       "         c_variation        0.948375          0.999065  0.996035    0.297709\n",
       "RegEqMoo accuracy           0.948875          0.991589  0.980174    0.297658\n",
       "         equal_opportunity     0.948                 1         1    0.298473\n",
       "         p_percent             0.948                 1         1    0.298473\n",
       "         c_variation        0.948625          0.998131  0.992863    0.297245"
      ]
     },
     "execution_count": 26,
     "metadata": {},
     "output_type": "execute_result"
    }
   ],
   "source": [
    "results_test"
   ]
  },
  {
   "cell_type": "markdown",
   "metadata": {},
   "source": [
    "## Models with ensemble"
   ]
  },
  {
   "cell_type": "code",
   "execution_count": 27,
   "metadata": {},
   "outputs": [],
   "source": [
    "ensemble_metrics = {'accuracy': {'ensembles': ['voting soft', 'voting hard', 'knorau', 'knorae'],\n",
    "                'RegMoo': [],\n",
    "                'RegEqMoo': []},\n",
    "                'equal_opportunity': {'ensembles': ['voting soft', 'voting hard', 'knorau', 'knorae'],\n",
    "                'RegMoo': [],\n",
    "                'RegEqMoo': []},\n",
    "                'p_percent': {'ensembles': ['voting soft', 'voting hard', 'knorau', 'knorae'],\n",
    "                'RegMoo': [],\n",
    "                'RegEqMoo': []},\n",
    "                'c_variation': {'ensembles': ['voting soft', 'voting hard', 'knorau', 'knorae'],\n",
    "                'RegMoo': [],\n",
    "                'RegEqMoo': []}}"
   ]
  },
  {
   "cell_type": "code",
   "execution_count": 28,
   "metadata": {},
   "outputs": [],
   "source": [
    "ensembles = ['voting soft', 'voting hard', 'knorau', 'knorae']"
   ]
  },
  {
   "cell_type": "code",
   "execution_count": 29,
   "metadata": {},
   "outputs": [],
   "source": [
    "methods = ['RegMoo', 'RegEqMoo']\n",
    "index = [sum([[method]*len(ensembles) for method in methods],[]),\n",
    "        sum([ensembles for method in methods],[])]\n",
    "results_test = pd.DataFrame(index=index, columns=metrics)"
   ]
  },
  {
   "cell_type": "code",
   "execution_count": 30,
   "metadata": {},
   "outputs": [],
   "source": [
    "# RegMoo\n",
    "\n",
    "scalarization = FairScalarization(X_train, y_train, fair_feature)\n",
    "moo_learn = MOOLogisticRegression(X_train, y_train, X_val, y_val, fair_feature, scalarization)\n",
    "\n",
    "for ensemble in ensembles:\n",
    "    reg_moo = moo_learn.ensemble_model(ensemble)\n",
    "    \n",
    "    results_test.loc[('RegMoo',ensemble),:] = [reg_moo.score(X_test, y_test),\n",
    "                            equal_opportunity_score(sensitive_column=fair_feature)(reg_moo, X_test, y_test),\n",
    "                            p_percent_score(sensitive_column=fair_feature)(reg_moo, X_test),\n",
    "                            coefficient_of_variation(reg_moo, X_test, y_test)]"
   ]
  },
  {
   "cell_type": "code",
   "execution_count": 31,
   "metadata": {},
   "outputs": [],
   "source": [
    "# RegEqMoo\n",
    "\n",
    "scalarization = EqualScalarization(X_train, y_train, fair_feature)\n",
    "moo_learn = MOOLogisticRegression(X_train, y_train, X_val, y_val, fair_feature, scalarization)\n",
    "\n",
    "for ensemble in ensembles:\n",
    "    reg_eqmoo = moo_learn.ensemble_model(ensemble)\n",
    "    \n",
    "    results_test.loc[('RegEqMoo',ensemble),:] = [reg_eqmoo.score(X_test, y_test),\n",
    "                            equal_opportunity_score(sensitive_column=fair_feature)(reg_eqmoo, X_test, y_test),\n",
    "                            p_percent_score(sensitive_column=fair_feature)(reg_eqmoo, X_test),\n",
    "                            coefficient_of_variation(reg_eqmoo, X_test, y_test)]"
   ]
  },
  {
   "cell_type": "code",
   "execution_count": 32,
   "metadata": {},
   "outputs": [
    {
     "data": {
      "text/html": [
       "<div>\n",
       "<style scoped>\n",
       "    .dataframe tbody tr th:only-of-type {\n",
       "        vertical-align: middle;\n",
       "    }\n",
       "\n",
       "    .dataframe tbody tr th {\n",
       "        vertical-align: top;\n",
       "    }\n",
       "\n",
       "    .dataframe thead th {\n",
       "        text-align: right;\n",
       "    }\n",
       "</style>\n",
       "<table border=\"1\" class=\"dataframe\">\n",
       "  <thead>\n",
       "    <tr style=\"text-align: right;\">\n",
       "      <th></th>\n",
       "      <th></th>\n",
       "      <th>accuracy</th>\n",
       "      <th>equal_opportunity</th>\n",
       "      <th>p_percent</th>\n",
       "      <th>c_variation</th>\n",
       "    </tr>\n",
       "  </thead>\n",
       "  <tbody>\n",
       "    <tr>\n",
       "      <th rowspan=\"4\" valign=\"top\">RegMoo</th>\n",
       "      <th>voting soft</th>\n",
       "      <td>0.94825</td>\n",
       "      <td>1</td>\n",
       "      <td>0.998414</td>\n",
       "      <td>0.297865</td>\n",
       "    </tr>\n",
       "    <tr>\n",
       "      <th>voting hard</th>\n",
       "      <td>0.9485</td>\n",
       "      <td>0.998131</td>\n",
       "      <td>0.993656</td>\n",
       "      <td>0.297552</td>\n",
       "    </tr>\n",
       "    <tr>\n",
       "      <th>knorau</th>\n",
       "      <td>0.948625</td>\n",
       "      <td>0.999065</td>\n",
       "      <td>0.994449</td>\n",
       "      <td>0.297097</td>\n",
       "    </tr>\n",
       "    <tr>\n",
       "      <th>knorae</th>\n",
       "      <td>0.911125</td>\n",
       "      <td>0.896862</td>\n",
       "      <td>0.882772</td>\n",
       "      <td>0.420914</td>\n",
       "    </tr>\n",
       "    <tr>\n",
       "      <th rowspan=\"4\" valign=\"top\">RegEqMoo</th>\n",
       "      <th>voting soft</th>\n",
       "      <td>0.948</td>\n",
       "      <td>1</td>\n",
       "      <td>1</td>\n",
       "      <td>0.298473</td>\n",
       "    </tr>\n",
       "    <tr>\n",
       "      <th>voting hard</th>\n",
       "      <td>0.948</td>\n",
       "      <td>1</td>\n",
       "      <td>1</td>\n",
       "      <td>0.298473</td>\n",
       "    </tr>\n",
       "    <tr>\n",
       "      <th>knorau</th>\n",
       "      <td>0.948</td>\n",
       "      <td>1</td>\n",
       "      <td>1</td>\n",
       "      <td>0.298473</td>\n",
       "    </tr>\n",
       "    <tr>\n",
       "      <th>knorae</th>\n",
       "      <td>0.911</td>\n",
       "      <td>0.896862</td>\n",
       "      <td>0.883592</td>\n",
       "      <td>0.421156</td>\n",
       "    </tr>\n",
       "  </tbody>\n",
       "</table>\n",
       "</div>"
      ],
      "text/plain": [
       "                      accuracy equal_opportunity p_percent c_variation\n",
       "RegMoo   voting soft   0.94825                 1  0.998414    0.297865\n",
       "         voting hard    0.9485          0.998131  0.993656    0.297552\n",
       "         knorau       0.948625          0.999065  0.994449    0.297097\n",
       "         knorae       0.911125          0.896862  0.882772    0.420914\n",
       "RegEqMoo voting soft     0.948                 1         1    0.298473\n",
       "         voting hard     0.948                 1         1    0.298473\n",
       "         knorau          0.948                 1         1    0.298473\n",
       "         knorae          0.911          0.896862  0.883592    0.421156"
      ]
     },
     "execution_count": 32,
     "metadata": {},
     "output_type": "execute_result"
    }
   ],
   "source": [
    "results_test"
   ]
  },
  {
   "cell_type": "code",
   "execution_count": null,
   "metadata": {},
   "outputs": [],
   "source": []
  }
 ],
 "metadata": {
  "colab": {
   "collapsed_sections": [],
   "name": "Fairness with hyperparameter tunning.ipynb",
   "provenance": [],
   "toc_visible": true
  },
  "kernelspec": {
   "display_name": "Python 3",
   "language": "python",
   "name": "python3"
  },
  "language_info": {
   "codemirror_mode": {
    "name": "ipython",
    "version": 3
   },
   "file_extension": ".py",
   "mimetype": "text/x-python",
   "name": "python",
   "nbconvert_exporter": "python",
   "pygments_lexer": "ipython3",
   "version": "3.6.10"
  }
 },
 "nbformat": 4,
 "nbformat_minor": 4
}
