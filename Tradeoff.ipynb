{
 "cells": [
  {
   "cell_type": "code",
   "execution_count": 1,
   "metadata": {},
   "outputs": [
    {
     "name": "stderr",
     "output_type": "stream",
     "text": [
      "/root/anaconda3/envs/py36/lib/python3.6/site-packages/sklearn/utils/deprecation.py:143: FutureWarning:\n",
      "\n",
      "The sklearn.linear_model.base module is  deprecated in version 0.22 and will be removed in version 0.24. The corresponding classes / functions should instead be imported from sklearn.linear_model. Anything that cannot be imported from sklearn.linear_model is now part of the private API.\n",
      "\n"
     ]
    }
   ],
   "source": [
    "import pandas as pd\n",
    "from sklearn.model_selection import train_test_split\n",
    "from sklearn.linear_model import LogisticRegression\n",
    "from sklego.metrics import equal_opportunity_score\n",
    "from sklego.metrics import p_percent_score\n",
    "from sklearn.metrics import log_loss\n",
    "from sklearn.utils.extmath import squared_norm\n",
    "from moopt.scalarization_interface import scalar_interface, single_interface, w_interface\n",
    "from moopt import monise\n",
    "import numpy as np\n",
    "import optuna, sklearn, sklearn.datasets\n",
    "from fair_models import coefficient_of_variation, MOOLogisticRegression, FindCLogisticRegression, FindCCLogisticRegression\n",
    "from fair_models import calc_reweight\n",
    "from fair_models import FairScalarization, EqualScalarization\n",
    "\n",
    "import plotly.graph_objects as go"
   ]
  },
  {
   "cell_type": "code",
   "execution_count": 2,
   "metadata": {},
   "outputs": [],
   "source": [
    "from sklego.linear_model import DemographicParityClassifier\n",
    "from sklego.linear_model import EqualOpportunityClassifier\n",
    "from sklearn.linear_model import LogisticRegression"
   ]
  },
  {
   "cell_type": "code",
   "execution_count": 10,
   "metadata": {},
   "outputs": [],
   "source": [
    "def dominate(a, b):\n",
    "    sense = np.array([1, 1, 1, 1])\n",
    "    if all((sense*a)>=(sense*b)) and any((sense*a)>(sense*b)):\n",
    "        return 1\n",
    "    else:\n",
    "        return 0"
   ]
  },
  {
   "cell_type": "markdown",
   "metadata": {},
   "source": [
    "## German"
   ]
  },
  {
   "cell_type": "code",
   "execution_count": 3,
   "metadata": {},
   "outputs": [],
   "source": [
    "german_data = pd.read_csv(\"Datasets - Limpos/german.csv\")\n",
    "german_fair_feature = \"Sex\"\n",
    "german_pred_feature = \"Risk\""
   ]
  },
  {
   "cell_type": "code",
   "execution_count": 4,
   "metadata": {},
   "outputs": [],
   "source": [
    "german_data = german_data.drop(\"Unnamed: 0\", axis=1)"
   ]
  },
  {
   "cell_type": "markdown",
   "metadata": {},
   "source": [
    "### Fair Moo"
   ]
  },
  {
   "cell_type": "code",
   "execution_count": 5,
   "metadata": {},
   "outputs": [],
   "source": [
    "X = german_data.drop([german_pred_feature], axis=1)\n",
    "y = german_data[german_pred_feature]\n",
    "\n",
    "\n",
    "X_tv, X_test, y_tv, y_test = train_test_split(X, y, test_size=200)\n",
    "X_train, X_val, y_train, y_val = train_test_split(X_tv, y_tv, test_size=100)"
   ]
  },
  {
   "cell_type": "code",
   "execution_count": 6,
   "metadata": {},
   "outputs": [],
   "source": [
    "m_aux = {\"Acurácia\": [], \"Igualdade de Oportunidade\": [], \"P porcento\": [], \"Coeficiente de variação\": []}"
   ]
  },
  {
   "cell_type": "code",
   "execution_count": 7,
   "metadata": {},
   "outputs": [
    {
     "name": "stderr",
     "output_type": "stream",
     "text": [
      "2020-11-11 09:31:27,405 - moopt.monise - DEBUG: Finding 1th individual minima\n",
      "2020-11-11 09:31:27,616 - moopt.monise - DEBUG: Finding 2th individual minima\n",
      "2020-11-11 09:31:27,664 - moopt.monise - DEBUG: Finding 3th individual minima\n"
     ]
    },
    {
     "name": "stdout",
     "output_type": "stream",
     "text": [
      "Using license file /opt/gurobi/gurobi.lic\n",
      "Academic license - for non-commercial use only\n"
     ]
    },
    {
     "name": "stderr",
     "output_type": "stream",
     "text": [
      "2020-11-11 09:31:28,280 - moopt.monise - DEBUG: 4th solution - importance: 1.0\n",
      "2020-11-11 09:31:28,454 - moopt.monise - DEBUG: 5th solution - importance: 1.0\n",
      "2020-11-11 09:31:28,505 - moopt.monise - DEBUG: 6th solution - importance: 1.0\n",
      "2020-11-11 09:31:28,565 - moopt.monise - DEBUG: 7th solution - importance: 1.0\n",
      "2020-11-11 09:31:28,636 - moopt.monise - DEBUG: 8th solution - importance: 1.0\n",
      "2020-11-11 09:31:28,727 - moopt.monise - DEBUG: 9th solution - importance: 0.7598821211729929\n",
      "2020-11-11 09:31:28,786 - moopt.monise - DEBUG: 10th solution - importance: 0.5444746328894028\n",
      "2020-11-11 09:31:28,893 - moopt.monise - DEBUG: 11th solution - importance: 0.37083838521143847\n",
      "2020-11-11 09:31:28,997 - moopt.monise - DEBUG: 12th solution - importance: 0.2602301128416963\n",
      "2020-11-11 09:31:29,078 - moopt.monise - DEBUG: 13th solution - importance: 0.24619378608437026\n",
      "2020-11-11 09:31:29,186 - moopt.monise - DEBUG: 14th solution - importance: 0.22147699162409631\n",
      "2020-11-11 09:31:29,294 - moopt.monise - DEBUG: 15th solution - importance: 0.17167677091376526\n",
      "2020-11-11 09:31:29,425 - moopt.monise - DEBUG: 16th solution - importance: 0.15679431532972748\n",
      "2020-11-11 09:31:29,544 - moopt.monise - DEBUG: 17th solution - importance: 0.1427147578648724\n",
      "2020-11-11 09:31:29,653 - moopt.monise - DEBUG: 18th solution - importance: 0.12310071704517289\n",
      "2020-11-11 09:31:29,806 - moopt.monise - DEBUG: 19th solution - importance: 0.09361663823301979\n",
      "2020-11-11 09:31:29,949 - moopt.monise - DEBUG: 20th solution - importance: 0.08775702552488171\n",
      "2020-11-11 09:31:30,064 - moopt.monise - DEBUG: 21th solution - importance: 0.0840888788211997\n",
      "2020-11-11 09:31:30,208 - moopt.monise - DEBUG: 22th solution - importance: 0.08186307009191897\n",
      "2020-11-11 09:31:30,344 - moopt.monise - DEBUG: 23th solution - importance: 0.0804663414128253\n",
      "2020-11-11 09:31:30,472 - moopt.monise - DEBUG: 24th solution - importance: 0.07384416298394632\n",
      "2020-11-11 09:31:30,647 - moopt.monise - DEBUG: 25th solution - importance: 0.07147580974236392\n",
      "2020-11-11 09:31:30,804 - moopt.monise - DEBUG: 26th solution - importance: 0.06103977523649376\n",
      "2020-11-11 09:31:30,982 - moopt.monise - DEBUG: 27th solution - importance: 0.058724593219220106\n",
      "2020-11-11 09:31:31,144 - moopt.monise - DEBUG: 28th solution - importance: 0.058633069701934486\n",
      "2020-11-11 09:31:31,335 - moopt.monise - DEBUG: 29th solution - importance: 0.05452346012411808\n",
      "2020-11-11 09:31:31,512 - moopt.monise - DEBUG: 30th solution - importance: 0.04901894931462299\n",
      "2020-11-11 09:31:31,723 - moopt.monise - DEBUG: 31th solution - importance: 0.048046460988671894\n",
      "2020-11-11 09:31:31,969 - moopt.monise - DEBUG: 32th solution - importance: 0.04753784429167253\n",
      "2020-11-11 09:31:32,168 - moopt.monise - DEBUG: 33th solution - importance: 0.04637142760688871\n",
      "2020-11-11 09:31:32,408 - moopt.monise - DEBUG: 34th solution - importance: 0.04300693552358083\n",
      "2020-11-11 09:31:32,639 - moopt.monise - DEBUG: 35th solution - importance: 0.04083528436769716\n",
      "2020-11-11 09:31:32,845 - moopt.monise - DEBUG: 36th solution - importance: 0.03603324922670543\n",
      "2020-11-11 09:31:33,044 - moopt.monise - DEBUG: 37th solution - importance: 0.03428097199167525\n",
      "2020-11-11 09:31:33,252 - moopt.monise - DEBUG: 38th solution - importance: 0.03139534597542841\n",
      "2020-11-11 09:31:33,485 - moopt.monise - DEBUG: 39th solution - importance: 0.030956399047012154\n",
      "2020-11-11 09:31:33,714 - moopt.monise - DEBUG: 40th solution - importance: 0.029871861196461923\n",
      "2020-11-11 09:31:33,960 - moopt.monise - DEBUG: 41th solution - importance: 0.0281520108615772\n",
      "2020-11-11 09:31:34,293 - moopt.monise - DEBUG: 42th solution - importance: 0.027847244522435383\n",
      "2020-11-11 09:31:34,595 - moopt.monise - DEBUG: 43th solution - importance: 0.027832820055501247\n",
      "2020-11-11 09:31:34,867 - moopt.monise - DEBUG: 44th solution - importance: 0.027087350344279233\n",
      "2020-11-11 09:31:35,198 - moopt.monise - DEBUG: 45th solution - importance: 0.0256456157788086\n",
      "2020-11-11 09:31:35,580 - moopt.monise - DEBUG: 46th solution - importance: 0.02414356756033346\n",
      "2020-11-11 09:31:35,906 - moopt.monise - DEBUG: 47th solution - importance: 0.023490200000458338\n",
      "2020-11-11 09:31:36,270 - moopt.monise - DEBUG: 48th solution - importance: 0.0227619262527283\n",
      "2020-11-11 09:31:36,662 - moopt.monise - DEBUG: 49th solution - importance: 0.022611420767012065\n",
      "2020-11-11 09:31:37,069 - moopt.monise - DEBUG: 50th solution - importance: 0.022541931268918337\n",
      "2020-11-11 09:31:37,503 - moopt.monise - DEBUG: 51th solution - importance: 0.02231576096415048\n",
      "2020-11-11 09:31:37,910 - moopt.monise - DEBUG: 52th solution - importance: 0.0214721195206719\n",
      "2020-11-11 09:31:38,306 - moopt.monise - DEBUG: 53th solution - importance: 0.020838840119962537\n",
      "2020-11-11 09:31:38,705 - moopt.monise - DEBUG: 54th solution - importance: 0.019960803466901957\n",
      "2020-11-11 09:31:39,140 - moopt.monise - DEBUG: 55th solution - importance: 0.0196188220632551\n",
      "2020-11-11 09:31:39,592 - moopt.monise - DEBUG: 56th solution - importance: 0.019452803377305455\n",
      "2020-11-11 09:31:40,056 - moopt.monise - DEBUG: 57th solution - importance: 0.01889664167682886\n",
      "2020-11-11 09:31:40,633 - moopt.monise - DEBUG: 58th solution - importance: 0.018577676111863825\n",
      "2020-11-11 09:31:41,072 - moopt.monise - DEBUG: 59th solution - importance: 0.018348423135565506\n",
      "2020-11-11 09:31:41,600 - moopt.monise - DEBUG: 60th solution - importance: 0.018139068701817657\n",
      "2020-11-11 09:31:42,140 - moopt.monise - DEBUG: 61th solution - importance: 0.01782667053775509\n",
      "2020-11-11 09:31:42,655 - moopt.monise - DEBUG: 62th solution - importance: 0.017677456170042186\n",
      "2020-11-11 09:31:43,227 - moopt.monise - DEBUG: 63th solution - importance: 0.016359491313513667\n",
      "2020-11-11 09:31:43,849 - moopt.monise - DEBUG: 64th solution - importance: 0.016096835358167312\n",
      "2020-11-11 09:31:44,395 - moopt.monise - DEBUG: 65th solution - importance: 0.015216073189637244\n",
      "2020-11-11 09:31:44,985 - moopt.monise - DEBUG: 66th solution - importance: 0.015145829157189929\n",
      "2020-11-11 09:31:45,560 - moopt.monise - DEBUG: 67th solution - importance: 0.014737324379593655\n",
      "2020-11-11 09:31:46,134 - moopt.monise - DEBUG: 68th solution - importance: 0.013449361736825182\n",
      "2020-11-11 09:31:46,783 - moopt.monise - DEBUG: 69th solution - importance: 0.012967860681504911\n",
      "2020-11-11 09:31:47,420 - moopt.monise - DEBUG: 70th solution - importance: 0.012956719448042683\n",
      "2020-11-11 09:31:48,108 - moopt.monise - DEBUG: 71th solution - importance: 0.012360030572970753\n",
      "2020-11-11 09:31:48,737 - moopt.monise - DEBUG: 72th solution - importance: 0.012314446649329496\n",
      "2020-11-11 09:31:49,340 - moopt.monise - DEBUG: 73th solution - importance: 0.01211549993698474\n",
      "2020-11-11 09:31:49,983 - moopt.monise - DEBUG: 74th solution - importance: 0.011922634767658783\n",
      "2020-11-11 09:31:50,713 - moopt.monise - DEBUG: 75th solution - importance: 0.011862316191762404\n",
      "2020-11-11 09:31:51,339 - moopt.monise - DEBUG: 76th solution - importance: 0.011794735860353142\n",
      "2020-11-11 09:31:52,024 - moopt.monise - DEBUG: 77th solution - importance: 0.011546507995811356\n",
      "2020-11-11 09:31:52,685 - moopt.monise - DEBUG: 78th solution - importance: 0.011527285031214864\n",
      "2020-11-11 09:31:53,339 - moopt.monise - DEBUG: 79th solution - importance: 0.011307298447084406\n",
      "2020-11-11 09:31:54,083 - moopt.monise - DEBUG: 80th solution - importance: 0.011281851572308398\n",
      "2020-11-11 09:31:54,835 - moopt.monise - DEBUG: 81th solution - importance: 0.011096207552749572\n",
      "2020-11-11 09:31:55,564 - moopt.monise - DEBUG: 82th solution - importance: 0.011044367994930651\n",
      "2020-11-11 09:31:56,301 - moopt.monise - DEBUG: 83th solution - importance: 0.010719070509753343\n",
      "2020-11-11 09:31:57,123 - moopt.monise - DEBUG: 84th solution - importance: 0.010694084601217136\n",
      "2020-11-11 09:31:57,979 - moopt.monise - DEBUG: 85th solution - importance: 0.010674391668937874\n",
      "2020-11-11 09:31:58,777 - moopt.monise - DEBUG: 86th solution - importance: 0.010595399910792603\n",
      "2020-11-11 09:32:00,030 - moopt.monise - DEBUG: 87th solution - importance: 0.00995347782374215\n",
      "2020-11-11 09:32:01,021 - moopt.monise - DEBUG: 88th solution - importance: 0.009940615735935873\n"
     ]
    },
    {
     "name": "stderr",
     "output_type": "stream",
     "text": [
      "2020-11-11 09:32:01,899 - moopt.monise - DEBUG: 89th solution - importance: 0.009523565923060398\n",
      "2020-11-11 09:32:02,788 - moopt.monise - DEBUG: 90th solution - importance: 0.009347909113144513\n",
      "2020-11-11 09:32:04,393 - moopt.monise - DEBUG: 91th solution - importance: 0.008933760828695913\n",
      "2020-11-11 09:32:05,467 - moopt.monise - DEBUG: 92th solution - importance: 0.008928439628250977\n",
      "2020-11-11 09:32:07,065 - moopt.monise - DEBUG: 93th solution - importance: 0.008927757588990051\n",
      "2020-11-11 09:32:08,781 - moopt.monise - DEBUG: 94th solution - importance: 0.008792391389795614\n",
      "2020-11-11 09:32:10,646 - moopt.monise - DEBUG: 95th solution - importance: 0.008520894169593026\n",
      "2020-11-11 09:32:12,428 - moopt.monise - DEBUG: 96th solution - importance: 0.008509711308737861\n",
      "2020-11-11 09:32:14,361 - moopt.monise - DEBUG: 97th solution - importance: 0.008435193375701663\n",
      "2020-11-11 09:32:16,324 - moopt.monise - DEBUG: 98th solution - importance: 0.008255676634573115\n",
      "2020-11-11 09:32:18,184 - moopt.monise - DEBUG: 99th solution - importance: 0.008149327759010257\n",
      "2020-11-11 09:32:19,935 - moopt.monise - DEBUG: 100th solution - importance: 0.00807049862136839\n",
      "2020-11-11 09:32:22,071 - moopt.monise - DEBUG: 101th solution - importance: 0.007938075005108052\n",
      "2020-11-11 09:32:24,290 - moopt.monise - DEBUG: 102th solution - importance: 0.007815717237246375\n",
      "2020-11-11 09:32:26,403 - moopt.monise - DEBUG: 103th solution - importance: 0.00764913015945677\n",
      "2020-11-11 09:32:28,283 - moopt.monise - DEBUG: 104th solution - importance: 0.007544025096638338\n",
      "2020-11-11 09:32:30,392 - moopt.monise - DEBUG: 105th solution - importance: 0.007499995727187397\n",
      "2020-11-11 09:32:32,488 - moopt.monise - DEBUG: 106th solution - importance: 0.007466244178957256\n",
      "2020-11-11 09:32:34,607 - moopt.monise - DEBUG: 107th solution - importance: 0.007466244178957256\n",
      "2020-11-11 09:32:36,729 - moopt.monise - DEBUG: 108th solution - importance: 0.007355501217915162\n",
      "2020-11-11 09:32:38,843 - moopt.monise - DEBUG: 109th solution - importance: 0.007328221868082875\n",
      "2020-11-11 09:32:40,945 - moopt.monise - DEBUG: 110th solution - importance: 0.007193255933840876\n",
      "2020-11-11 09:32:43,046 - moopt.monise - DEBUG: 111th solution - importance: 0.00698005666498525\n",
      "2020-11-11 09:32:45,143 - moopt.monise - DEBUG: 112th solution - importance: 0.00698005666498525\n",
      "2020-11-11 09:32:47,237 - moopt.monise - DEBUG: 113th solution - importance: 0.006810366642840799\n",
      "2020-11-11 09:32:49,337 - moopt.monise - DEBUG: 114th solution - importance: 0.006492333237144259\n",
      "2020-11-11 09:32:51,441 - moopt.monise - DEBUG: 115th solution - importance: 0.006492333237144259\n",
      "2020-11-11 09:32:53,560 - moopt.monise - DEBUG: 116th solution - importance: 0.006492333237144259\n",
      "2020-11-11 09:32:55,698 - moopt.monise - DEBUG: 117th solution - importance: 0.006492333237144259\n",
      "2020-11-11 09:32:57,806 - moopt.monise - DEBUG: 118th solution - importance: 0.0061343195291208245\n",
      "2020-11-11 09:32:59,922 - moopt.monise - DEBUG: 119th solution - importance: 0.0061343195291208245\n",
      "2020-11-11 09:33:02,048 - moopt.monise - DEBUG: 120th solution - importance: 0.006092339625311837\n",
      "2020-11-11 09:33:04,163 - moopt.monise - DEBUG: 121th solution - importance: 0.005828327860013713\n",
      "2020-11-11 09:33:06,289 - moopt.monise - DEBUG: 122th solution - importance: 0.0058218693869426085\n",
      "2020-11-11 09:33:08,392 - moopt.monise - DEBUG: 123th solution - importance: 0.005635195794591096\n",
      "2020-11-11 09:33:10,507 - moopt.monise - DEBUG: 124th solution - importance: 0.005635195794591096\n",
      "2020-11-11 09:33:12,623 - moopt.monise - DEBUG: 125th solution - importance: 0.00530181256174587\n",
      "2020-11-11 09:33:14,732 - moopt.monise - DEBUG: 126th solution - importance: 0.0052026447227615175\n",
      "2020-11-11 09:33:16,841 - moopt.monise - DEBUG: 127th solution - importance: 0.0052026447227615175\n",
      "2020-11-11 09:33:18,962 - moopt.monise - DEBUG: 128th solution - importance: 0.005171353590421133\n",
      "2020-11-11 09:33:21,077 - moopt.monise - DEBUG: 129th solution - importance: 0.00504967137718475\n",
      "2020-11-11 09:33:23,203 - moopt.monise - DEBUG: 130th solution - importance: 0.00504967137718475\n",
      "2020-11-11 09:33:25,328 - moopt.monise - DEBUG: 131th solution - importance: 0.00504967137718475\n",
      "2020-11-11 09:33:27,446 - moopt.monise - DEBUG: 132th solution - importance: 0.00504967137718475\n",
      "2020-11-11 09:33:29,564 - moopt.monise - DEBUG: 133th solution - importance: 0.004985319593824731\n",
      "2020-11-11 09:33:31,695 - moopt.monise - DEBUG: 134th solution - importance: 0.004892465547657828\n",
      "2020-11-11 09:33:33,820 - moopt.monise - DEBUG: 135th solution - importance: 0.004892465547657828\n",
      "2020-11-11 09:33:35,935 - moopt.monise - DEBUG: 136th solution - importance: 0.004862108014215448\n",
      "2020-11-11 09:33:38,048 - moopt.monise - DEBUG: 137th solution - importance: 0.00474125405151496\n",
      "2020-11-11 09:33:40,161 - moopt.monise - DEBUG: 138th solution - importance: 0.004724399589310907\n",
      "2020-11-11 09:33:42,287 - moopt.monise - DEBUG: 139th solution - importance: 0.004724399589310907\n",
      "2020-11-11 09:33:44,424 - moopt.monise - DEBUG: 140th solution - importance: 0.004724399589310907\n",
      "2020-11-11 09:33:46,544 - moopt.monise - DEBUG: 141th solution - importance: 0.004724399589310907\n",
      "2020-11-11 09:33:48,660 - moopt.monise - DEBUG: 142th solution - importance: 0.004508924553478529\n",
      "2020-11-11 09:33:50,794 - moopt.monise - DEBUG: 143th solution - importance: 0.00431381330361911\n",
      "2020-11-11 09:33:52,911 - moopt.monise - DEBUG: 144th solution - importance: 0.00431381330361911\n",
      "2020-11-11 09:33:55,043 - moopt.monise - DEBUG: 145th solution - importance: 0.00431381330361911\n",
      "2020-11-11 09:33:57,175 - moopt.monise - DEBUG: 146th solution - importance: 0.00431381330361911\n",
      "2020-11-11 09:33:59,319 - moopt.monise - DEBUG: 147th solution - importance: 0.004232564771749174\n",
      "2020-11-11 09:34:01,448 - moopt.monise - DEBUG: 148th solution - importance: 0.003869542820874131\n",
      "2020-11-11 09:34:03,576 - moopt.monise - DEBUG: 149th solution - importance: 0.003869542820874131\n",
      "2020-11-11 09:34:05,773 - moopt.monise - DEBUG: 150th solution - importance: 0.0038201455159146956\n",
      "/root/anaconda3/envs/py36/lib/python3.6/site-packages/sklego/metrics.py:155: RuntimeWarning:\n",
      "\n",
      "invalid value encountered in double_scalars\n",
      "\n",
      "/root/anaconda3/envs/py36/lib/python3.6/site-packages/sklego/metrics.py:79: RuntimeWarning:\n",
      "\n",
      "No samples with y_hat == 1 for Sex == 1, returning 0\n",
      "\n"
     ]
    }
   ],
   "source": [
    "moo = monise(weightedScalar=FairScalarization(X_train, y_train, 'Sex'),\n",
    "             singleScalar=FairScalarization(X_train, y_train, 'Sex'),\n",
    "              nodeTimeLimit=2, targetSize=150,\n",
    "              targetGap=0, nodeGap=0.01, norm=False)\n",
    "\n",
    "moo.optimize()\n",
    "\n",
    "sols = []\n",
    "\n",
    "for solution in moo.solutionsList:\n",
    "    sols.append(solution.x)\n",
    "    m_aux[\"Acurácia\"].append(solution.x.score(X_test, y_test))\n",
    "    m_aux[\"Igualdade de Oportunidade\"].append(equal_opportunity_score(sensitive_column=german_fair_feature)(solution.x,\n",
    "                                                                                                            X_test, y_test))\n",
    "    m_aux[\"P porcento\"].append(p_percent_score(sensitive_column=german_fair_feature)(solution.x,X_test))\n",
    "    m_aux[\"Coeficiente de variação\"].append(coefficient_of_variation(solution.x, X_test, y_test))"
   ]
  },
  {
   "cell_type": "code",
   "execution_count": 8,
   "metadata": {},
   "outputs": [],
   "source": [
    "m_metrics = pd.DataFrame(data=m_aux, columns=['Acurácia','Igualdade de Oportunidade','P porcento',\n",
    "                                     'Coeficiente de variação'])"
   ]
  },
  {
   "cell_type": "code",
   "execution_count": 9,
   "metadata": {},
   "outputs": [],
   "source": [
    "m_metrics['cv_aux'] = 1/m_metrics['Coeficiente de variação']"
   ]
  },
  {
   "cell_type": "code",
   "execution_count": 11,
   "metadata": {},
   "outputs": [
    {
     "data": {
      "text/html": [
       "<div>\n",
       "<style scoped>\n",
       "    .dataframe tbody tr th:only-of-type {\n",
       "        vertical-align: middle;\n",
       "    }\n",
       "\n",
       "    .dataframe tbody tr th {\n",
       "        vertical-align: top;\n",
       "    }\n",
       "\n",
       "    .dataframe thead th {\n",
       "        text-align: right;\n",
       "    }\n",
       "</style>\n",
       "<table border=\"1\" class=\"dataframe\">\n",
       "  <thead>\n",
       "    <tr style=\"text-align: right;\">\n",
       "      <th></th>\n",
       "      <th>Acurácia</th>\n",
       "      <th>Igualdade de Oportunidade</th>\n",
       "      <th>P porcento</th>\n",
       "      <th>cv_aux</th>\n",
       "      <th>dominated</th>\n",
       "    </tr>\n",
       "  </thead>\n",
       "  <tbody>\n",
       "    <tr>\n",
       "      <th>0</th>\n",
       "      <td>0.60</td>\n",
       "      <td>0.80</td>\n",
       "      <td>0.83</td>\n",
       "      <td>1.35</td>\n",
       "      <td>True</td>\n",
       "    </tr>\n",
       "    <tr>\n",
       "      <th>1</th>\n",
       "      <td>0.57</td>\n",
       "      <td>0.44</td>\n",
       "      <td>0.48</td>\n",
       "      <td>1.21</td>\n",
       "      <td>True</td>\n",
       "    </tr>\n",
       "    <tr>\n",
       "      <th>2</th>\n",
       "      <td>0.41</td>\n",
       "      <td>0.99</td>\n",
       "      <td>0.00</td>\n",
       "      <td>0.60</td>\n",
       "      <td>True</td>\n",
       "    </tr>\n",
       "    <tr>\n",
       "      <th>3</th>\n",
       "      <td>0.63</td>\n",
       "      <td>0.72</td>\n",
       "      <td>0.71</td>\n",
       "      <td>1.34</td>\n",
       "      <td>True</td>\n",
       "    </tr>\n",
       "    <tr>\n",
       "      <th>4</th>\n",
       "      <td>0.57</td>\n",
       "      <td>0.59</td>\n",
       "      <td>0.70</td>\n",
       "      <td>1.01</td>\n",
       "      <td>True</td>\n",
       "    </tr>\n",
       "    <tr>\n",
       "      <th>...</th>\n",
       "      <td>...</td>\n",
       "      <td>...</td>\n",
       "      <td>...</td>\n",
       "      <td>...</td>\n",
       "      <td>...</td>\n",
       "    </tr>\n",
       "    <tr>\n",
       "      <th>145</th>\n",
       "      <td>0.65</td>\n",
       "      <td>0.83</td>\n",
       "      <td>0.78</td>\n",
       "      <td>1.36</td>\n",
       "      <td>True</td>\n",
       "    </tr>\n",
       "    <tr>\n",
       "      <th>146</th>\n",
       "      <td>0.57</td>\n",
       "      <td>0.64</td>\n",
       "      <td>0.73</td>\n",
       "      <td>1.05</td>\n",
       "      <td>True</td>\n",
       "    </tr>\n",
       "    <tr>\n",
       "      <th>147</th>\n",
       "      <td>0.60</td>\n",
       "      <td>0.70</td>\n",
       "      <td>0.73</td>\n",
       "      <td>1.19</td>\n",
       "      <td>True</td>\n",
       "    </tr>\n",
       "    <tr>\n",
       "      <th>148</th>\n",
       "      <td>0.62</td>\n",
       "      <td>0.68</td>\n",
       "      <td>0.64</td>\n",
       "      <td>1.34</td>\n",
       "      <td>True</td>\n",
       "    </tr>\n",
       "    <tr>\n",
       "      <th>149</th>\n",
       "      <td>0.65</td>\n",
       "      <td>0.98</td>\n",
       "      <td>0.96</td>\n",
       "      <td>1.48</td>\n",
       "      <td>False</td>\n",
       "    </tr>\n",
       "  </tbody>\n",
       "</table>\n",
       "<p>150 rows × 5 columns</p>\n",
       "</div>"
      ],
      "text/plain": [
       "     Acurácia  Igualdade de Oportunidade  P porcento  cv_aux  dominated\n",
       "0        0.60                       0.80        0.83    1.35       True\n",
       "1        0.57                       0.44        0.48    1.21       True\n",
       "2        0.41                       0.99        0.00    0.60       True\n",
       "3        0.63                       0.72        0.71    1.34       True\n",
       "4        0.57                       0.59        0.70    1.01       True\n",
       "..        ...                        ...         ...     ...        ...\n",
       "145      0.65                       0.83        0.78    1.36       True\n",
       "146      0.57                       0.64        0.73    1.05       True\n",
       "147      0.60                       0.70        0.73    1.19       True\n",
       "148      0.62                       0.68        0.64    1.34       True\n",
       "149      0.65                       0.98        0.96    1.48      False\n",
       "\n",
       "[150 rows x 5 columns]"
      ]
     },
     "execution_count": 11,
     "metadata": {},
     "output_type": "execute_result"
    }
   ],
   "source": [
    "new_results = m_metrics.copy()//0.01/100\n",
    "new_results = new_results.drop('Coeficiente de variação', axis=1)\n",
    "dominate_metr = [any([dominate(other, row) for other in new_results.values]) for row in new_results.values]\n",
    "new_results['dominated'] = dominate_metr\n",
    "new_results"
   ]
  },
  {
   "cell_type": "code",
   "execution_count": 12,
   "metadata": {},
   "outputs": [
    {
     "data": {
      "text/html": [
       "<div>\n",
       "<style scoped>\n",
       "    .dataframe tbody tr th:only-of-type {\n",
       "        vertical-align: middle;\n",
       "    }\n",
       "\n",
       "    .dataframe tbody tr th {\n",
       "        vertical-align: top;\n",
       "    }\n",
       "\n",
       "    .dataframe thead th {\n",
       "        text-align: right;\n",
       "    }\n",
       "</style>\n",
       "<table border=\"1\" class=\"dataframe\">\n",
       "  <thead>\n",
       "    <tr style=\"text-align: right;\">\n",
       "      <th></th>\n",
       "      <th>Acurácia</th>\n",
       "      <th>Igualdade de Oportunidade</th>\n",
       "      <th>P porcento</th>\n",
       "      <th>cv_aux</th>\n",
       "      <th>dominated</th>\n",
       "    </tr>\n",
       "  </thead>\n",
       "  <tbody>\n",
       "    <tr>\n",
       "      <th>0</th>\n",
       "      <td>1.0</td>\n",
       "      <td>1.0</td>\n",
       "      <td>1.0</td>\n",
       "      <td>1.0</td>\n",
       "      <td>1</td>\n",
       "    </tr>\n",
       "    <tr>\n",
       "      <th>1</th>\n",
       "      <td>1.0</td>\n",
       "      <td>1.0</td>\n",
       "      <td>1.0</td>\n",
       "      <td>1.0</td>\n",
       "      <td>1</td>\n",
       "    </tr>\n",
       "    <tr>\n",
       "      <th>2</th>\n",
       "      <td>1.0</td>\n",
       "      <td>1.0</td>\n",
       "      <td>1.0</td>\n",
       "      <td>1.0</td>\n",
       "      <td>1</td>\n",
       "    </tr>\n",
       "    <tr>\n",
       "      <th>3</th>\n",
       "      <td>1.0</td>\n",
       "      <td>1.0</td>\n",
       "      <td>1.0</td>\n",
       "      <td>1.0</td>\n",
       "      <td>1</td>\n",
       "    </tr>\n",
       "    <tr>\n",
       "      <th>4</th>\n",
       "      <td>1.0</td>\n",
       "      <td>1.0</td>\n",
       "      <td>1.0</td>\n",
       "      <td>1.0</td>\n",
       "      <td>1</td>\n",
       "    </tr>\n",
       "    <tr>\n",
       "      <th>...</th>\n",
       "      <td>...</td>\n",
       "      <td>...</td>\n",
       "      <td>...</td>\n",
       "      <td>...</td>\n",
       "      <td>...</td>\n",
       "    </tr>\n",
       "    <tr>\n",
       "      <th>145</th>\n",
       "      <td>1.0</td>\n",
       "      <td>1.0</td>\n",
       "      <td>1.0</td>\n",
       "      <td>1.0</td>\n",
       "      <td>1</td>\n",
       "    </tr>\n",
       "    <tr>\n",
       "      <th>146</th>\n",
       "      <td>1.0</td>\n",
       "      <td>1.0</td>\n",
       "      <td>1.0</td>\n",
       "      <td>1.0</td>\n",
       "      <td>1</td>\n",
       "    </tr>\n",
       "    <tr>\n",
       "      <th>147</th>\n",
       "      <td>1.0</td>\n",
       "      <td>1.0</td>\n",
       "      <td>1.0</td>\n",
       "      <td>1.0</td>\n",
       "      <td>1</td>\n",
       "    </tr>\n",
       "    <tr>\n",
       "      <th>148</th>\n",
       "      <td>1.0</td>\n",
       "      <td>1.0</td>\n",
       "      <td>1.0</td>\n",
       "      <td>1.0</td>\n",
       "      <td>1</td>\n",
       "    </tr>\n",
       "    <tr>\n",
       "      <th>149</th>\n",
       "      <td>0.0</td>\n",
       "      <td>0.0</td>\n",
       "      <td>0.0</td>\n",
       "      <td>0.0</td>\n",
       "      <td>0</td>\n",
       "    </tr>\n",
       "  </tbody>\n",
       "</table>\n",
       "<p>150 rows × 5 columns</p>\n",
       "</div>"
      ],
      "text/plain": [
       "     Acurácia  Igualdade de Oportunidade  P porcento  cv_aux dominated\n",
       "0         1.0                        1.0         1.0     1.0         1\n",
       "1         1.0                        1.0         1.0     1.0         1\n",
       "2         1.0                        1.0         1.0     1.0         1\n",
       "3         1.0                        1.0         1.0     1.0         1\n",
       "4         1.0                        1.0         1.0     1.0         1\n",
       "..        ...                        ...         ...     ...       ...\n",
       "145       1.0                        1.0         1.0     1.0         1\n",
       "146       1.0                        1.0         1.0     1.0         1\n",
       "147       1.0                        1.0         1.0     1.0         1\n",
       "148       1.0                        1.0         1.0     1.0         1\n",
       "149       0.0                        0.0         0.0     0.0         0\n",
       "\n",
       "[150 rows x 5 columns]"
      ]
     },
     "execution_count": 12,
     "metadata": {},
     "output_type": "execute_result"
    }
   ],
   "source": [
    "new_results[new_results.dominated] = 1\n",
    "new_results[new_results.dominated == False] = 0\n",
    "new_results"
   ]
  },
  {
   "cell_type": "code",
   "execution_count": 34,
   "metadata": {},
   "outputs": [
    {
     "data": {
      "application/vnd.plotly.v1+json": {
       "config": {
        "plotlyServerURL": "https://plot.ly"
       },
       "data": [
        {
         "dimensions": [
          {
           "label": "Acurácia",
           "range": [
            0,
            1
           ],
           "values": [
            0.61,
            0.575,
            0.42,
            0.635,
            0.575,
            0.64,
            0.605,
            0.635,
            0.61,
            0.64,
            0.6,
            0.645,
            0.625,
            0.61,
            0.59,
            0.655,
            0.615,
            0.59,
            0.67,
            0.62,
            0.635,
            0.615,
            0.615,
            0.605,
            0.62,
            0.61,
            0.605,
            0.65,
            0.575,
            0.645,
            0.62,
            0.635,
            0.6,
            0.62,
            0.625,
            0.61,
            0.63,
            0.63,
            0.625,
            0.635,
            0.615,
            0.6,
            0.65,
            0.62,
            0.605,
            0.66,
            0.63,
            0.59,
            0.635,
            0.62,
            0.62,
            0.65,
            0.63,
            0.655,
            0.61,
            0.65,
            0.64,
            0.64,
            0.605,
            0.615,
            0.605,
            0.595,
            0.63,
            0.635,
            0.62,
            0.665,
            0.615,
            0.605,
            0.57,
            0.625,
            0.62,
            0.65,
            0.65,
            0.635,
            0.63,
            0.63,
            0.645,
            0.585,
            0.61,
            0.6,
            0.615,
            0.635,
            0.62,
            0.635,
            0.63,
            0.58,
            0.645,
            0.61,
            0.62,
            0.64,
            0.61,
            0.655,
            0.595,
            0.65,
            0.635,
            0.575,
            0.61,
            0.655,
            0.585,
            0.645,
            0.605,
            0.59,
            0.615,
            0.635,
            0.625,
            0.615,
            0.635,
            0.62,
            0.645,
            0.625,
            0.63,
            0.56,
            0.615,
            0.61,
            0.635,
            0.66,
            0.6,
            0.62,
            0.615,
            0.615,
            0.66,
            0.625,
            0.635,
            0.66,
            0.645,
            0.61,
            0.605,
            0.625,
            0.655,
            0.625,
            0.605,
            0.635,
            0.635,
            0.63,
            0.625,
            0.61,
            0.62,
            0.62,
            0.655,
            0.65,
            0.615,
            0.6,
            0.65,
            0.625,
            0.625,
            0.655,
            0.575,
            0.61,
            0.625,
            0.655
           ]
          },
          {
           "label": "Igualdade de Oportunidade",
           "range": [
            0,
            1
           ],
           "values": [
            0.8073260073260073,
            0.4462242562929062,
            1,
            0.7244582043343653,
            0.5921052631578948,
            0.9465201465201466,
            0.7868421052631579,
            0.8796992481203008,
            0.6631578947368422,
            0.9326007326007326,
            0.9942434210526316,
            0.8397129186602871,
            0.9157894736842105,
            0.7066436583261433,
            0.8063909774436091,
            0.9330143540669856,
            0.7066436583261433,
            0.5383951682484901,
            0.7848297213622291,
            0.8210526315789474,
            0.6942724458204335,
            0.9743589743589743,
            0.9439102564102564,
            0.7078039927404718,
            0.715311004784689,
            0.9393398751115076,
            0.8133068520357498,
            0.7775119617224882,
            0.4966044142614601,
            0.7244582043343653,
            0.7578947368421052,
            0.9019138755980862,
            0.5720448662640207,
            0.7697368421052632,
            0.9803613511390417,
            0.7402933563416739,
            0.9330143540669856,
            0.9313725490196079,
            0.9186813186813187,
            0.9300986842105264,
            0.7526315789473684,
            0.6717703349282296,
            0.8842105263157893,
            0.7283531409168083,
            0.9201451905626135,
            0.9202279202279203,
            0.8397129186602871,
            0.7222222222222222,
            0.7546439628482973,
            0.8607809847198643,
            0.8796992481203008,
            0.7437070938215103,
            0.7894736842105263,
            0.8271798900235664,
            0.8018092105263159,
            0.8708133971291866,
            0.7244582043343653,
            0.7244582043343653,
            0.639344262295082,
            0.7376644736842105,
            0.7868421052631579,
            0.5538847117794486,
            0.6842105263157895,
            0.9895833333333335,
            0.9190887666928516,
            0.815015479876161,
            0.7066436583261433,
            0.8349687778768956,
            0.6283566058002148,
            0.9421915444348576,
            0.7493734335839599,
            0.9337606837606838,
            0.9157894736842105,
            0.7046347211311862,
            0.7352710133542812,
            0.7046347211311862,
            0.7352710133542812,
            0.5297113752122241,
            0.7614601018675722,
            0.9540400296515938,
            0.7402933563416739,
            0.8397129186602871,
            0.8471177944862155,
            0.9473684210526315,
            0.8338815789473685,
            0.8742690058479532,
            0.8086124401913876,
            0.7066436583261433,
            0.8018092105263159,
            0.9641148325358851,
            0.7066436583261433,
            0.7848297213622291,
            0.581578947368421,
            0.9330143540669856,
            0.8842105263157893,
            0.6842105263157895,
            0.7376644736842105,
            0.8708133971291866,
            0.7697368421052633,
            0.7965435978004713,
            0.800178412132025,
            0.6016333938294011,
            0.8894736842105263,
            0.7244582043343653,
            0.7775119617224882,
            0.9269949066213922,
            0.8578161822466615,
            0.7046347211311862,
            0.8086124401913876,
            0.8526315789473684,
            0.9743589743589743,
            0.6842105263157895,
            0.7819548872180451,
            0.955535390199637,
            0.8397129186602871,
            0.8842105263157893,
            0.6735197368421053,
            0.9803613511390417,
            0.908541846419327,
            0.8894736842105263,
            0.815015479876161,
            0.6942724458204335,
            0.9743589743589743,
            0.8271798900235664,
            0.9157894736842105,
            0.8552631578947368,
            0.6056945642795513,
            0.6942724458204335,
            0.7848297213622291,
            0.7352710133542812,
            0.7066436583261433,
            0.8397129186602871,
            0.8708133971291866,
            0.7139588100686499,
            0.7046347211311862,
            0.8796992481203008,
            0.8938879456706282,
            0.9473684210526315,
            0.9743589743589743,
            0.8397129186602871,
            0.7402933563416739,
            0.8697591436217663,
            0.7546439628482973,
            0.7046347211311862,
            0.6842105263157895,
            0.8397129186602871,
            0.6461988304093568,
            0.7066436583261433,
            0.6842105263157895,
            0.9803613511390417
           ]
          },
          {
           "label": "P porcento",
           "range": [
            0,
            1
           ],
           "values": [
            0.8381344307270233,
            0.4864864864864865,
            0,
            0.7120879120879121,
            0.7012987012987013,
            0.9367003367003367,
            0.8039702233250621,
            0.8265306122448979,
            0.6515837104072398,
            0.8941798941798942,
            0.9444444444444444,
            0.7941176470588235,
            0.916289592760181,
            0.7369727047146402,
            0.8694096601073346,
            0.9650349650349651,
            0.7146401985111663,
            0.6029776674937966,
            0.7608530083777608,
            0.8431073876618431,
            0.69896449704142,
            0.9084556254367575,
            0.9251997095134351,
            0.7316433566433567,
            0.7608530083777608,
            0.9481605351170569,
            0.9170829170829171,
            0.7197258187357197,
            0.5841346153846154,
            0.69896449704142,
            0.7608530083777608,
            0.8872292755787902,
            0.6321070234113713,
            0.7762237762237763,
            0.9992743105950652,
            0.751227495908347,
            0.8901098901098901,
            0.9094650205761317,
            0.9027777777777778,
            0.9536891679748821,
            0.7449832775919732,
            0.7091932457786116,
            0.8601398601398602,
            0.751227495908347,
            0.9461538461538461,
            0.9191919191919192,
            0.8552036199095023,
            0.7598499061913697,
            0.7516483516483516,
            0.8963562753036437,
            0.8901098901098901,
            0.7053701015965167,
            0.7608530083777608,
            0.7662434652725916,
            0.801980198019802,
            0.8723076923076925,
            0.6661828737300436,
            0.7189349112426036,
            0.6699751861042184,
            0.7269230769230769,
            0.8352842809364548,
            0.5995241871530531,
            0.6515837104072398,
            0.9678864824495893,
            0.9985207100591716,
            0.7662434652725916,
            0.7146401985111663,
            0.9,
            0.7112750263435196,
            0.9500818330605564,
            0.7494052339413163,
            0.9542087542087543,
            0.9020979020979021,
            0.7402894135567404,
            0.7737556561085973,
            0.6527472527472526,
            0.7126696832579186,
            0.5841346153846154,
            0.7788461538461539,
            0.9504563233376793,
            0.7593052109181142,
            0.834841628959276,
            0.8778747026169705,
            0.945925361766946,
            0.8181818181818182,
            0.9395604395604396,
            0.7814166031987815,
            0.7369727047146402,
            0.8181818181818182,
            0.9773755656108598,
            0.7369727047146402,
            0.738905325443787,
            0.6390532544378699,
            0.9553846153846155,
            0.8930769230769231,
            0.726923076923077,
            0.7762237762237763,
            0.8225437928408226,
            0.8116710875331565,
            0.738905325443787,
            0.8538461538461538,
            0.6923076923076923,
            0.9255852842809364,
            0.7120879120879121,
            0.7662434652725916,
            0.9421094369547978,
            0.8307692307692308,
            0.7189349112426036,
            0.7814166031987815,
            0.8636709824828638,
            0.9912854030501089,
            0.7624148003894841,
            0.7841444270015697,
            0.9692307692307693,
            0.834841628959276,
            0.8181818181818182,
            0.6785986290936786,
            0.9814814814814815,
            0.9182186234817814,
            0.9255852842809364,
            0.7588757396449705,
            0.68577648766328,
            0.9818445896877269,
            0.7737556561085973,
            0.9230769230769232,
            0.8709677419354839,
            0.6546822742474917,
            0.6599568655643422,
            0.738905325443787,
            0.7120879120879121,
            0.6995951417004049,
            0.834841628959276,
            0.8755656108597285,
            0.6669019054340154,
            0.725914861837192,
            0.8723076923076925,
            0.9086538461538461,
            0.9477221807318894,
            0.9725925925925925,
            0.801980198019802,
            0.7593052109181142,
            0.9357565511411665,
            0.6923076923076923,
            0.753393665158371,
            0.6991622239146992,
            0.7814166031987815,
            0.7345215759849907,
            0.7369727047146402,
            0.647847565278758,
            0.9678864824495893
           ]
          },
          {
           "label": "Coeficiente de variação",
           "range": [
            0.5,
            2
           ],
           "values": [
            1.3587945842853508,
            1.2143957055944687,
            0.6017216678143157,
            1.3458343602478013,
            1.0192287104283162,
            1.5694598331984928,
            1.204678679035879,
            1.3132910511863183,
            1.2472016333029892,
            1.545418505411323,
            1.3948931314029693,
            1.3655185403274082,
            1.37857022778146,
            1.1927198519188358,
            1.138695192590169,
            1.4224425649313879,
            1.1940323139077027,
            1.1269514325160592,
            1.3920752656160469,
            1.326020753337394,
            1.3293134032593668,
            1.4147804041780436,
            1.3772282812962866,
            1.1422896014285329,
            1.294026252163533,
            1.2472016333029892,
            1.0978295833041716,
            1.3339459376998337,
            1.12423651161888,
            1.3486203962401189,
            1.294026252163533,
            1.398639268331226,
            1.1409652938638404,
            1.2787240261820143,
            1.4766114621036137,
            1.2057917512622198,
            1.41654378896969,
            1.4770978917519941,
            1.5208885953482927,
            1.362877976216113,
            1.1940323139077027,
            1.085715086387686,
            1.3670740790259652,
            1.2217041807275724,
            1.218174304290659,
            1.5975375426807157,
            1.3617826753173634,
            1.0827572586919014,
            1.3628779762161134,
            1.2787240261820143,
            1.3097847552299642,
            1.3844463457205303,
            1.3119797496035,
            1.3860924831758172,
            1.2922312311833262,
            1.3844463457205314,
            1.347150628109125,
            1.347150628109125,
            1.1662758474829482,
            1.2627565716265807,
            1.2046786790358786,
            1.1640248198607859,
            1.2812008217804371,
            1.4368319252119968,
            1.4348809693964693,
            1.4076253059521702,
            1.1940323139077027,
            1.2046786790358788,
            0.9906531659407524,
            1.2951244516588745,
            1.2494109961334188,
            1.6215039209944195,
            1.3844463457205307,
            1.313291051186318,
            1.328073615263495,
            1.3119797496034997,
            1.3322442071619347,
            1.137740527247292,
            1.2330181186493672,
            1.5960149377722126,
            1.2070353575362076,
            1.3628779762161136,
            1.2940262521635333,
            1.398639268331226,
            1.3119797496035002,
            1.1250281684747303,
            1.348620396240119,
            1.1927198519188356,
            1.2940262521635333,
            1.4377761444741144,
            1.1927198519188358,
            1.3860924831758172,
            1.1280911799730107,
            1.4209447453949977,
            1.3628779762161134,
            0.9289327243342992,
            1.261786536288092,
            1.3860924831758172,
            1.1259318245812326,
            1.3655185403274082,
            1.191539043067314,
            1.1043152607484654,
            1.2482401084755772,
            1.3458343602478013,
            1.3269776053940723,
            1.3088918861170855,
            1.3986392683312259,
            1.3097847552299642,
            1.3486203962401195,
            1.343642264805569,
            1.477097891751994,
            1.025229189260114,
            1.2627565716265807,
            1.2330181186493672,
            1.3628779762161134,
            1.3706837769771851,
            1.2311865668278434,
            1.4762685595038911,
            1.2776914681042073,
            1.2482401084755768,
            1.4057075151235778,
            1.326977605394072,
            1.4777318477033117,
            1.3879084718705053,
            1.3829642107320357,
            1.2330181186493672,
            1.1541285362941285,
            1.3269776053940718,
            1.3860924831758172,
            1.3269776053940723,
            1.1915390430673143,
            1.3628779762161138,
            1.38047024181033,
            1.3617826753173632,
            1.3108125581384342,
            1.3081297453676497,
            1.2940262521635333,
            1.3962251260729064,
            1.481831653630665,
            1.3670740790259652,
            1.2070353575362076,
            1.2172540068010347,
            1.3670740790259652,
            1.3108125581384338,
            1.279892256719569,
            1.368793835439218,
            1.0583144405520506,
            1.1927198519188358,
            1.3436422648055693,
            1.481831653630665
           ]
          }
         ],
         "line": {
          "color": [
           1,
           1,
           1,
           1,
           1,
           0,
           1,
           1,
           1,
           1,
           0,
           1,
           1,
           1,
           1,
           1,
           1,
           1,
           0,
           1,
           1,
           1,
           1,
           1,
           1,
           1,
           1,
           1,
           1,
           1,
           1,
           1,
           1,
           1,
           0,
           1,
           1,
           1,
           1,
           1,
           1,
           1,
           1,
           1,
           1,
           0,
           1,
           1,
           1,
           1,
           1,
           1,
           1,
           1,
           1,
           1,
           1,
           1,
           1,
           1,
           1,
           1,
           1,
           1,
           1,
           1,
           1,
           1,
           1,
           1,
           1,
           0,
           1,
           1,
           1,
           1,
           1,
           1,
           1,
           0,
           1,
           1,
           1,
           1,
           1,
           1,
           1,
           1,
           1,
           1,
           1,
           1,
           1,
           1,
           1,
           1,
           1,
           1,
           1,
           1,
           1,
           1,
           1,
           1,
           1,
           1,
           1,
           1,
           1,
           1,
           1,
           1,
           1,
           1,
           1,
           1,
           1,
           1,
           1,
           1,
           1,
           1,
           0,
           1,
           1,
           1,
           1,
           1,
           1,
           1,
           1,
           1,
           1,
           1,
           1,
           1,
           1,
           1,
           0,
           1,
           1,
           1,
           1,
           1,
           1,
           1,
           1,
           1,
           1,
           0
          ],
          "colorscale": [
           [
            0,
            "rgba(11,66,255, 1)"
           ],
           [
            1,
            "rgba(11,0,255, 0.5)"
           ]
          ]
         },
         "type": "parcoords"
        }
       ],
       "layout": {
        "paper_bgcolor": "white",
        "plot_bgcolor": "white",
        "template": {
         "data": {
          "bar": [
           {
            "error_x": {
             "color": "#2a3f5f"
            },
            "error_y": {
             "color": "#2a3f5f"
            },
            "marker": {
             "line": {
              "color": "#E5ECF6",
              "width": 0.5
             }
            },
            "type": "bar"
           }
          ],
          "barpolar": [
           {
            "marker": {
             "line": {
              "color": "#E5ECF6",
              "width": 0.5
             }
            },
            "type": "barpolar"
           }
          ],
          "carpet": [
           {
            "aaxis": {
             "endlinecolor": "#2a3f5f",
             "gridcolor": "white",
             "linecolor": "white",
             "minorgridcolor": "white",
             "startlinecolor": "#2a3f5f"
            },
            "baxis": {
             "endlinecolor": "#2a3f5f",
             "gridcolor": "white",
             "linecolor": "white",
             "minorgridcolor": "white",
             "startlinecolor": "#2a3f5f"
            },
            "type": "carpet"
           }
          ],
          "choropleth": [
           {
            "colorbar": {
             "outlinewidth": 0,
             "ticks": ""
            },
            "type": "choropleth"
           }
          ],
          "contour": [
           {
            "colorbar": {
             "outlinewidth": 0,
             "ticks": ""
            },
            "colorscale": [
             [
              0,
              "#0d0887"
             ],
             [
              0.1111111111111111,
              "#46039f"
             ],
             [
              0.2222222222222222,
              "#7201a8"
             ],
             [
              0.3333333333333333,
              "#9c179e"
             ],
             [
              0.4444444444444444,
              "#bd3786"
             ],
             [
              0.5555555555555556,
              "#d8576b"
             ],
             [
              0.6666666666666666,
              "#ed7953"
             ],
             [
              0.7777777777777778,
              "#fb9f3a"
             ],
             [
              0.8888888888888888,
              "#fdca26"
             ],
             [
              1,
              "#f0f921"
             ]
            ],
            "type": "contour"
           }
          ],
          "contourcarpet": [
           {
            "colorbar": {
             "outlinewidth": 0,
             "ticks": ""
            },
            "type": "contourcarpet"
           }
          ],
          "heatmap": [
           {
            "colorbar": {
             "outlinewidth": 0,
             "ticks": ""
            },
            "colorscale": [
             [
              0,
              "#0d0887"
             ],
             [
              0.1111111111111111,
              "#46039f"
             ],
             [
              0.2222222222222222,
              "#7201a8"
             ],
             [
              0.3333333333333333,
              "#9c179e"
             ],
             [
              0.4444444444444444,
              "#bd3786"
             ],
             [
              0.5555555555555556,
              "#d8576b"
             ],
             [
              0.6666666666666666,
              "#ed7953"
             ],
             [
              0.7777777777777778,
              "#fb9f3a"
             ],
             [
              0.8888888888888888,
              "#fdca26"
             ],
             [
              1,
              "#f0f921"
             ]
            ],
            "type": "heatmap"
           }
          ],
          "heatmapgl": [
           {
            "colorbar": {
             "outlinewidth": 0,
             "ticks": ""
            },
            "colorscale": [
             [
              0,
              "#0d0887"
             ],
             [
              0.1111111111111111,
              "#46039f"
             ],
             [
              0.2222222222222222,
              "#7201a8"
             ],
             [
              0.3333333333333333,
              "#9c179e"
             ],
             [
              0.4444444444444444,
              "#bd3786"
             ],
             [
              0.5555555555555556,
              "#d8576b"
             ],
             [
              0.6666666666666666,
              "#ed7953"
             ],
             [
              0.7777777777777778,
              "#fb9f3a"
             ],
             [
              0.8888888888888888,
              "#fdca26"
             ],
             [
              1,
              "#f0f921"
             ]
            ],
            "type": "heatmapgl"
           }
          ],
          "histogram": [
           {
            "marker": {
             "colorbar": {
              "outlinewidth": 0,
              "ticks": ""
             }
            },
            "type": "histogram"
           }
          ],
          "histogram2d": [
           {
            "colorbar": {
             "outlinewidth": 0,
             "ticks": ""
            },
            "colorscale": [
             [
              0,
              "#0d0887"
             ],
             [
              0.1111111111111111,
              "#46039f"
             ],
             [
              0.2222222222222222,
              "#7201a8"
             ],
             [
              0.3333333333333333,
              "#9c179e"
             ],
             [
              0.4444444444444444,
              "#bd3786"
             ],
             [
              0.5555555555555556,
              "#d8576b"
             ],
             [
              0.6666666666666666,
              "#ed7953"
             ],
             [
              0.7777777777777778,
              "#fb9f3a"
             ],
             [
              0.8888888888888888,
              "#fdca26"
             ],
             [
              1,
              "#f0f921"
             ]
            ],
            "type": "histogram2d"
           }
          ],
          "histogram2dcontour": [
           {
            "colorbar": {
             "outlinewidth": 0,
             "ticks": ""
            },
            "colorscale": [
             [
              0,
              "#0d0887"
             ],
             [
              0.1111111111111111,
              "#46039f"
             ],
             [
              0.2222222222222222,
              "#7201a8"
             ],
             [
              0.3333333333333333,
              "#9c179e"
             ],
             [
              0.4444444444444444,
              "#bd3786"
             ],
             [
              0.5555555555555556,
              "#d8576b"
             ],
             [
              0.6666666666666666,
              "#ed7953"
             ],
             [
              0.7777777777777778,
              "#fb9f3a"
             ],
             [
              0.8888888888888888,
              "#fdca26"
             ],
             [
              1,
              "#f0f921"
             ]
            ],
            "type": "histogram2dcontour"
           }
          ],
          "mesh3d": [
           {
            "colorbar": {
             "outlinewidth": 0,
             "ticks": ""
            },
            "type": "mesh3d"
           }
          ],
          "parcoords": [
           {
            "line": {
             "colorbar": {
              "outlinewidth": 0,
              "ticks": ""
             }
            },
            "type": "parcoords"
           }
          ],
          "pie": [
           {
            "automargin": true,
            "type": "pie"
           }
          ],
          "scatter": [
           {
            "marker": {
             "colorbar": {
              "outlinewidth": 0,
              "ticks": ""
             }
            },
            "type": "scatter"
           }
          ],
          "scatter3d": [
           {
            "line": {
             "colorbar": {
              "outlinewidth": 0,
              "ticks": ""
             }
            },
            "marker": {
             "colorbar": {
              "outlinewidth": 0,
              "ticks": ""
             }
            },
            "type": "scatter3d"
           }
          ],
          "scattercarpet": [
           {
            "marker": {
             "colorbar": {
              "outlinewidth": 0,
              "ticks": ""
             }
            },
            "type": "scattercarpet"
           }
          ],
          "scattergeo": [
           {
            "marker": {
             "colorbar": {
              "outlinewidth": 0,
              "ticks": ""
             }
            },
            "type": "scattergeo"
           }
          ],
          "scattergl": [
           {
            "marker": {
             "colorbar": {
              "outlinewidth": 0,
              "ticks": ""
             }
            },
            "type": "scattergl"
           }
          ],
          "scattermapbox": [
           {
            "marker": {
             "colorbar": {
              "outlinewidth": 0,
              "ticks": ""
             }
            },
            "type": "scattermapbox"
           }
          ],
          "scatterpolar": [
           {
            "marker": {
             "colorbar": {
              "outlinewidth": 0,
              "ticks": ""
             }
            },
            "type": "scatterpolar"
           }
          ],
          "scatterpolargl": [
           {
            "marker": {
             "colorbar": {
              "outlinewidth": 0,
              "ticks": ""
             }
            },
            "type": "scatterpolargl"
           }
          ],
          "scatterternary": [
           {
            "marker": {
             "colorbar": {
              "outlinewidth": 0,
              "ticks": ""
             }
            },
            "type": "scatterternary"
           }
          ],
          "surface": [
           {
            "colorbar": {
             "outlinewidth": 0,
             "ticks": ""
            },
            "colorscale": [
             [
              0,
              "#0d0887"
             ],
             [
              0.1111111111111111,
              "#46039f"
             ],
             [
              0.2222222222222222,
              "#7201a8"
             ],
             [
              0.3333333333333333,
              "#9c179e"
             ],
             [
              0.4444444444444444,
              "#bd3786"
             ],
             [
              0.5555555555555556,
              "#d8576b"
             ],
             [
              0.6666666666666666,
              "#ed7953"
             ],
             [
              0.7777777777777778,
              "#fb9f3a"
             ],
             [
              0.8888888888888888,
              "#fdca26"
             ],
             [
              1,
              "#f0f921"
             ]
            ],
            "type": "surface"
           }
          ],
          "table": [
           {
            "cells": {
             "fill": {
              "color": "#EBF0F8"
             },
             "line": {
              "color": "white"
             }
            },
            "header": {
             "fill": {
              "color": "#C8D4E3"
             },
             "line": {
              "color": "white"
             }
            },
            "type": "table"
           }
          ]
         },
         "layout": {
          "annotationdefaults": {
           "arrowcolor": "#2a3f5f",
           "arrowhead": 0,
           "arrowwidth": 1
          },
          "coloraxis": {
           "colorbar": {
            "outlinewidth": 0,
            "ticks": ""
           }
          },
          "colorscale": {
           "diverging": [
            [
             0,
             "#8e0152"
            ],
            [
             0.1,
             "#c51b7d"
            ],
            [
             0.2,
             "#de77ae"
            ],
            [
             0.3,
             "#f1b6da"
            ],
            [
             0.4,
             "#fde0ef"
            ],
            [
             0.5,
             "#f7f7f7"
            ],
            [
             0.6,
             "#e6f5d0"
            ],
            [
             0.7,
             "#b8e186"
            ],
            [
             0.8,
             "#7fbc41"
            ],
            [
             0.9,
             "#4d9221"
            ],
            [
             1,
             "#276419"
            ]
           ],
           "sequential": [
            [
             0,
             "#0d0887"
            ],
            [
             0.1111111111111111,
             "#46039f"
            ],
            [
             0.2222222222222222,
             "#7201a8"
            ],
            [
             0.3333333333333333,
             "#9c179e"
            ],
            [
             0.4444444444444444,
             "#bd3786"
            ],
            [
             0.5555555555555556,
             "#d8576b"
            ],
            [
             0.6666666666666666,
             "#ed7953"
            ],
            [
             0.7777777777777778,
             "#fb9f3a"
            ],
            [
             0.8888888888888888,
             "#fdca26"
            ],
            [
             1,
             "#f0f921"
            ]
           ],
           "sequentialminus": [
            [
             0,
             "#0d0887"
            ],
            [
             0.1111111111111111,
             "#46039f"
            ],
            [
             0.2222222222222222,
             "#7201a8"
            ],
            [
             0.3333333333333333,
             "#9c179e"
            ],
            [
             0.4444444444444444,
             "#bd3786"
            ],
            [
             0.5555555555555556,
             "#d8576b"
            ],
            [
             0.6666666666666666,
             "#ed7953"
            ],
            [
             0.7777777777777778,
             "#fb9f3a"
            ],
            [
             0.8888888888888888,
             "#fdca26"
            ],
            [
             1,
             "#f0f921"
            ]
           ]
          },
          "colorway": [
           "#636efa",
           "#EF553B",
           "#00cc96",
           "#ab63fa",
           "#FFA15A",
           "#19d3f3",
           "#FF6692",
           "#B6E880",
           "#FF97FF",
           "#FECB52"
          ],
          "font": {
           "color": "#2a3f5f"
          },
          "geo": {
           "bgcolor": "white",
           "lakecolor": "white",
           "landcolor": "#E5ECF6",
           "showlakes": true,
           "showland": true,
           "subunitcolor": "white"
          },
          "hoverlabel": {
           "align": "left"
          },
          "hovermode": "closest",
          "mapbox": {
           "style": "light"
          },
          "paper_bgcolor": "white",
          "plot_bgcolor": "#E5ECF6",
          "polar": {
           "angularaxis": {
            "gridcolor": "white",
            "linecolor": "white",
            "ticks": ""
           },
           "bgcolor": "#E5ECF6",
           "radialaxis": {
            "gridcolor": "white",
            "linecolor": "white",
            "ticks": ""
           }
          },
          "scene": {
           "xaxis": {
            "backgroundcolor": "#E5ECF6",
            "gridcolor": "white",
            "gridwidth": 2,
            "linecolor": "white",
            "showbackground": true,
            "ticks": "",
            "zerolinecolor": "white"
           },
           "yaxis": {
            "backgroundcolor": "#E5ECF6",
            "gridcolor": "white",
            "gridwidth": 2,
            "linecolor": "white",
            "showbackground": true,
            "ticks": "",
            "zerolinecolor": "white"
           },
           "zaxis": {
            "backgroundcolor": "#E5ECF6",
            "gridcolor": "white",
            "gridwidth": 2,
            "linecolor": "white",
            "showbackground": true,
            "ticks": "",
            "zerolinecolor": "white"
           }
          },
          "shapedefaults": {
           "line": {
            "color": "#2a3f5f"
           }
          },
          "ternary": {
           "aaxis": {
            "gridcolor": "white",
            "linecolor": "white",
            "ticks": ""
           },
           "baxis": {
            "gridcolor": "white",
            "linecolor": "white",
            "ticks": ""
           },
           "bgcolor": "#E5ECF6",
           "caxis": {
            "gridcolor": "white",
            "linecolor": "white",
            "ticks": ""
           }
          },
          "title": {
           "x": 0.05
          },
          "xaxis": {
           "automargin": true,
           "gridcolor": "white",
           "linecolor": "white",
           "ticks": "",
           "title": {
            "standoff": 15
           },
           "zerolinecolor": "white",
           "zerolinewidth": 2
          },
          "yaxis": {
           "automargin": true,
           "gridcolor": "white",
           "linecolor": "white",
           "ticks": "",
           "title": {
            "standoff": 15
           },
           "zerolinecolor": "white",
           "zerolinewidth": 2
          }
         }
        }
       }
      },
      "text/html": [
       "<div>                            <div id=\"5f1a3d28-7e63-4c0b-adfb-091823cb416a\" class=\"plotly-graph-div\" style=\"height:525px; width:100%;\"></div>            <script type=\"text/javascript\">                require([\"plotly\"], function(Plotly) {                    window.PLOTLYENV=window.PLOTLYENV || {};                                    if (document.getElementById(\"5f1a3d28-7e63-4c0b-adfb-091823cb416a\")) {                    Plotly.newPlot(                        \"5f1a3d28-7e63-4c0b-adfb-091823cb416a\",                        [{\"dimensions\": [{\"label\": \"Acur\\u00e1cia\", \"range\": [0, 1], \"values\": [0.61, 0.575, 0.42, 0.635, 0.575, 0.64, 0.605, 0.635, 0.61, 0.64, 0.6, 0.645, 0.625, 0.61, 0.59, 0.655, 0.615, 0.59, 0.67, 0.62, 0.635, 0.615, 0.615, 0.605, 0.62, 0.61, 0.605, 0.65, 0.575, 0.645, 0.62, 0.635, 0.6, 0.62, 0.625, 0.61, 0.63, 0.63, 0.625, 0.635, 0.615, 0.6, 0.65, 0.62, 0.605, 0.66, 0.63, 0.59, 0.635, 0.62, 0.62, 0.65, 0.63, 0.655, 0.61, 0.65, 0.64, 0.64, 0.605, 0.615, 0.605, 0.595, 0.63, 0.635, 0.62, 0.665, 0.615, 0.605, 0.57, 0.625, 0.62, 0.65, 0.65, 0.635, 0.63, 0.63, 0.645, 0.585, 0.61, 0.6, 0.615, 0.635, 0.62, 0.635, 0.63, 0.58, 0.645, 0.61, 0.62, 0.64, 0.61, 0.655, 0.595, 0.65, 0.635, 0.575, 0.61, 0.655, 0.585, 0.645, 0.605, 0.59, 0.615, 0.635, 0.625, 0.615, 0.635, 0.62, 0.645, 0.625, 0.63, 0.56, 0.615, 0.61, 0.635, 0.66, 0.6, 0.62, 0.615, 0.615, 0.66, 0.625, 0.635, 0.66, 0.645, 0.61, 0.605, 0.625, 0.655, 0.625, 0.605, 0.635, 0.635, 0.63, 0.625, 0.61, 0.62, 0.62, 0.655, 0.65, 0.615, 0.6, 0.65, 0.625, 0.625, 0.655, 0.575, 0.61, 0.625, 0.655]}, {\"label\": \"Igualdade de Oportunidade\", \"range\": [0, 1], \"values\": [0.8073260073260073, 0.4462242562929062, 1.0, 0.7244582043343653, 0.5921052631578948, 0.9465201465201466, 0.7868421052631579, 0.8796992481203008, 0.6631578947368422, 0.9326007326007326, 0.9942434210526316, 0.8397129186602871, 0.9157894736842105, 0.7066436583261433, 0.8063909774436091, 0.9330143540669856, 0.7066436583261433, 0.5383951682484901, 0.7848297213622291, 0.8210526315789474, 0.6942724458204335, 0.9743589743589743, 0.9439102564102564, 0.7078039927404718, 0.715311004784689, 0.9393398751115076, 0.8133068520357498, 0.7775119617224882, 0.4966044142614601, 0.7244582043343653, 0.7578947368421052, 0.9019138755980862, 0.5720448662640207, 0.7697368421052632, 0.9803613511390417, 0.7402933563416739, 0.9330143540669856, 0.9313725490196079, 0.9186813186813187, 0.9300986842105264, 0.7526315789473684, 0.6717703349282296, 0.8842105263157893, 0.7283531409168083, 0.9201451905626135, 0.9202279202279203, 0.8397129186602871, 0.7222222222222222, 0.7546439628482973, 0.8607809847198643, 0.8796992481203008, 0.7437070938215103, 0.7894736842105263, 0.8271798900235664, 0.8018092105263159, 0.8708133971291866, 0.7244582043343653, 0.7244582043343653, 0.639344262295082, 0.7376644736842105, 0.7868421052631579, 0.5538847117794486, 0.6842105263157895, 0.9895833333333335, 0.9190887666928516, 0.815015479876161, 0.7066436583261433, 0.8349687778768956, 0.6283566058002148, 0.9421915444348576, 0.7493734335839599, 0.9337606837606838, 0.9157894736842105, 0.7046347211311862, 0.7352710133542812, 0.7046347211311862, 0.7352710133542812, 0.5297113752122241, 0.7614601018675722, 0.9540400296515938, 0.7402933563416739, 0.8397129186602871, 0.8471177944862155, 0.9473684210526315, 0.8338815789473685, 0.8742690058479532, 0.8086124401913876, 0.7066436583261433, 0.8018092105263159, 0.9641148325358851, 0.7066436583261433, 0.7848297213622291, 0.581578947368421, 0.9330143540669856, 0.8842105263157893, 0.6842105263157895, 0.7376644736842105, 0.8708133971291866, 0.7697368421052633, 0.7965435978004713, 0.800178412132025, 0.6016333938294011, 0.8894736842105263, 0.7244582043343653, 0.7775119617224882, 0.9269949066213922, 0.8578161822466615, 0.7046347211311862, 0.8086124401913876, 0.8526315789473684, 0.9743589743589743, 0.6842105263157895, 0.7819548872180451, 0.955535390199637, 0.8397129186602871, 0.8842105263157893, 0.6735197368421053, 0.9803613511390417, 0.908541846419327, 0.8894736842105263, 0.815015479876161, 0.6942724458204335, 0.9743589743589743, 0.8271798900235664, 0.9157894736842105, 0.8552631578947368, 0.6056945642795513, 0.6942724458204335, 0.7848297213622291, 0.7352710133542812, 0.7066436583261433, 0.8397129186602871, 0.8708133971291866, 0.7139588100686499, 0.7046347211311862, 0.8796992481203008, 0.8938879456706282, 0.9473684210526315, 0.9743589743589743, 0.8397129186602871, 0.7402933563416739, 0.8697591436217663, 0.7546439628482973, 0.7046347211311862, 0.6842105263157895, 0.8397129186602871, 0.6461988304093568, 0.7066436583261433, 0.6842105263157895, 0.9803613511390417]}, {\"label\": \"P porcento\", \"range\": [0, 1], \"values\": [0.8381344307270233, 0.4864864864864865, 0.0, 0.7120879120879121, 0.7012987012987013, 0.9367003367003367, 0.8039702233250621, 0.8265306122448979, 0.6515837104072398, 0.8941798941798942, 0.9444444444444444, 0.7941176470588235, 0.916289592760181, 0.7369727047146402, 0.8694096601073346, 0.9650349650349651, 0.7146401985111663, 0.6029776674937966, 0.7608530083777608, 0.8431073876618431, 0.69896449704142, 0.9084556254367575, 0.9251997095134351, 0.7316433566433567, 0.7608530083777608, 0.9481605351170569, 0.9170829170829171, 0.7197258187357197, 0.5841346153846154, 0.69896449704142, 0.7608530083777608, 0.8872292755787902, 0.6321070234113713, 0.7762237762237763, 0.9992743105950652, 0.751227495908347, 0.8901098901098901, 0.9094650205761317, 0.9027777777777778, 0.9536891679748821, 0.7449832775919732, 0.7091932457786116, 0.8601398601398602, 0.751227495908347, 0.9461538461538461, 0.9191919191919192, 0.8552036199095023, 0.7598499061913697, 0.7516483516483516, 0.8963562753036437, 0.8901098901098901, 0.7053701015965167, 0.7608530083777608, 0.7662434652725916, 0.801980198019802, 0.8723076923076925, 0.6661828737300436, 0.7189349112426036, 0.6699751861042184, 0.7269230769230769, 0.8352842809364548, 0.5995241871530531, 0.6515837104072398, 0.9678864824495893, 0.9985207100591716, 0.7662434652725916, 0.7146401985111663, 0.9, 0.7112750263435196, 0.9500818330605564, 0.7494052339413163, 0.9542087542087543, 0.9020979020979021, 0.7402894135567404, 0.7737556561085973, 0.6527472527472526, 0.7126696832579186, 0.5841346153846154, 0.7788461538461539, 0.9504563233376793, 0.7593052109181142, 0.834841628959276, 0.8778747026169705, 0.945925361766946, 0.8181818181818182, 0.9395604395604396, 0.7814166031987815, 0.7369727047146402, 0.8181818181818182, 0.9773755656108598, 0.7369727047146402, 0.738905325443787, 0.6390532544378699, 0.9553846153846155, 0.8930769230769231, 0.726923076923077, 0.7762237762237763, 0.8225437928408226, 0.8116710875331565, 0.738905325443787, 0.8538461538461538, 0.6923076923076923, 0.9255852842809364, 0.7120879120879121, 0.7662434652725916, 0.9421094369547978, 0.8307692307692308, 0.7189349112426036, 0.7814166031987815, 0.8636709824828638, 0.9912854030501089, 0.7624148003894841, 0.7841444270015697, 0.9692307692307693, 0.834841628959276, 0.8181818181818182, 0.6785986290936786, 0.9814814814814815, 0.9182186234817814, 0.9255852842809364, 0.7588757396449705, 0.68577648766328, 0.9818445896877269, 0.7737556561085973, 0.9230769230769232, 0.8709677419354839, 0.6546822742474917, 0.6599568655643422, 0.738905325443787, 0.7120879120879121, 0.6995951417004049, 0.834841628959276, 0.8755656108597285, 0.6669019054340154, 0.725914861837192, 0.8723076923076925, 0.9086538461538461, 0.9477221807318894, 0.9725925925925925, 0.801980198019802, 0.7593052109181142, 0.9357565511411665, 0.6923076923076923, 0.753393665158371, 0.6991622239146992, 0.7814166031987815, 0.7345215759849907, 0.7369727047146402, 0.647847565278758, 0.9678864824495893]}, {\"label\": \"Coeficiente de varia\\u00e7\\u00e3o\", \"range\": [0.5, 2], \"values\": [1.3587945842853508, 1.2143957055944687, 0.6017216678143157, 1.3458343602478013, 1.0192287104283162, 1.5694598331984928, 1.204678679035879, 1.3132910511863183, 1.2472016333029892, 1.545418505411323, 1.3948931314029693, 1.3655185403274082, 1.37857022778146, 1.1927198519188358, 1.138695192590169, 1.4224425649313879, 1.1940323139077027, 1.1269514325160592, 1.3920752656160469, 1.326020753337394, 1.3293134032593668, 1.4147804041780436, 1.3772282812962866, 1.1422896014285329, 1.294026252163533, 1.2472016333029892, 1.0978295833041716, 1.3339459376998337, 1.12423651161888, 1.3486203962401189, 1.294026252163533, 1.398639268331226, 1.1409652938638404, 1.2787240261820143, 1.4766114621036137, 1.2057917512622198, 1.41654378896969, 1.4770978917519941, 1.5208885953482927, 1.362877976216113, 1.1940323139077027, 1.085715086387686, 1.3670740790259652, 1.2217041807275724, 1.218174304290659, 1.5975375426807157, 1.3617826753173634, 1.0827572586919014, 1.3628779762161134, 1.2787240261820143, 1.3097847552299642, 1.3844463457205303, 1.3119797496035, 1.3860924831758172, 1.2922312311833262, 1.3844463457205314, 1.347150628109125, 1.347150628109125, 1.1662758474829482, 1.2627565716265807, 1.2046786790358786, 1.1640248198607859, 1.2812008217804371, 1.4368319252119968, 1.4348809693964693, 1.4076253059521702, 1.1940323139077027, 1.2046786790358788, 0.9906531659407524, 1.2951244516588745, 1.2494109961334188, 1.6215039209944195, 1.3844463457205307, 1.313291051186318, 1.328073615263495, 1.3119797496034997, 1.3322442071619347, 1.137740527247292, 1.2330181186493672, 1.5960149377722126, 1.2070353575362076, 1.3628779762161136, 1.2940262521635333, 1.398639268331226, 1.3119797496035002, 1.1250281684747303, 1.348620396240119, 1.1927198519188356, 1.2940262521635333, 1.4377761444741144, 1.1927198519188358, 1.3860924831758172, 1.1280911799730107, 1.4209447453949977, 1.3628779762161134, 0.9289327243342992, 1.261786536288092, 1.3860924831758172, 1.1259318245812326, 1.3655185403274082, 1.191539043067314, 1.1043152607484654, 1.2482401084755772, 1.3458343602478013, 1.3269776053940723, 1.3088918861170855, 1.3986392683312259, 1.3097847552299642, 1.3486203962401195, 1.343642264805569, 1.477097891751994, 1.025229189260114, 1.2627565716265807, 1.2330181186493672, 1.3628779762161134, 1.3706837769771851, 1.2311865668278434, 1.4762685595038911, 1.2776914681042073, 1.2482401084755768, 1.4057075151235778, 1.326977605394072, 1.4777318477033117, 1.3879084718705053, 1.3829642107320357, 1.2330181186493672, 1.1541285362941285, 1.3269776053940718, 1.3860924831758172, 1.3269776053940723, 1.1915390430673143, 1.3628779762161138, 1.38047024181033, 1.3617826753173632, 1.3108125581384342, 1.3081297453676497, 1.2940262521635333, 1.3962251260729064, 1.481831653630665, 1.3670740790259652, 1.2070353575362076, 1.2172540068010347, 1.3670740790259652, 1.3108125581384338, 1.279892256719569, 1.368793835439218, 1.0583144405520506, 1.1927198519188358, 1.3436422648055693, 1.481831653630665]}], \"line\": {\"color\": [1, 1, 1, 1, 1, 0, 1, 1, 1, 1, 0, 1, 1, 1, 1, 1, 1, 1, 0, 1, 1, 1, 1, 1, 1, 1, 1, 1, 1, 1, 1, 1, 1, 1, 0, 1, 1, 1, 1, 1, 1, 1, 1, 1, 1, 0, 1, 1, 1, 1, 1, 1, 1, 1, 1, 1, 1, 1, 1, 1, 1, 1, 1, 1, 1, 1, 1, 1, 1, 1, 1, 0, 1, 1, 1, 1, 1, 1, 1, 0, 1, 1, 1, 1, 1, 1, 1, 1, 1, 1, 1, 1, 1, 1, 1, 1, 1, 1, 1, 1, 1, 1, 1, 1, 1, 1, 1, 1, 1, 1, 1, 1, 1, 1, 1, 1, 1, 1, 1, 1, 1, 1, 0, 1, 1, 1, 1, 1, 1, 1, 1, 1, 1, 1, 1, 1, 1, 1, 0, 1, 1, 1, 1, 1, 1, 1, 1, 1, 1, 0], \"colorscale\": [[0.0, \"rgba(11,66,255, 1)\"], [1.0, \"rgba(11,0,255, 0.5)\"]]}, \"type\": \"parcoords\"}],                        {\"paper_bgcolor\": \"white\", \"plot_bgcolor\": \"white\", \"template\": {\"data\": {\"bar\": [{\"error_x\": {\"color\": \"#2a3f5f\"}, \"error_y\": {\"color\": \"#2a3f5f\"}, \"marker\": {\"line\": {\"color\": \"#E5ECF6\", \"width\": 0.5}}, \"type\": \"bar\"}], \"barpolar\": [{\"marker\": {\"line\": {\"color\": \"#E5ECF6\", \"width\": 0.5}}, \"type\": \"barpolar\"}], \"carpet\": [{\"aaxis\": {\"endlinecolor\": \"#2a3f5f\", \"gridcolor\": \"white\", \"linecolor\": \"white\", \"minorgridcolor\": \"white\", \"startlinecolor\": \"#2a3f5f\"}, \"baxis\": {\"endlinecolor\": \"#2a3f5f\", \"gridcolor\": \"white\", \"linecolor\": \"white\", \"minorgridcolor\": \"white\", \"startlinecolor\": \"#2a3f5f\"}, \"type\": \"carpet\"}], \"choropleth\": [{\"colorbar\": {\"outlinewidth\": 0, \"ticks\": \"\"}, \"type\": \"choropleth\"}], \"contour\": [{\"colorbar\": {\"outlinewidth\": 0, \"ticks\": \"\"}, \"colorscale\": [[0.0, \"#0d0887\"], [0.1111111111111111, \"#46039f\"], [0.2222222222222222, \"#7201a8\"], [0.3333333333333333, \"#9c179e\"], [0.4444444444444444, \"#bd3786\"], [0.5555555555555556, \"#d8576b\"], [0.6666666666666666, \"#ed7953\"], [0.7777777777777778, \"#fb9f3a\"], [0.8888888888888888, \"#fdca26\"], [1.0, \"#f0f921\"]], \"type\": \"contour\"}], \"contourcarpet\": [{\"colorbar\": {\"outlinewidth\": 0, \"ticks\": \"\"}, \"type\": \"contourcarpet\"}], \"heatmap\": [{\"colorbar\": {\"outlinewidth\": 0, \"ticks\": \"\"}, \"colorscale\": [[0.0, \"#0d0887\"], [0.1111111111111111, \"#46039f\"], [0.2222222222222222, \"#7201a8\"], [0.3333333333333333, \"#9c179e\"], [0.4444444444444444, \"#bd3786\"], [0.5555555555555556, \"#d8576b\"], [0.6666666666666666, \"#ed7953\"], [0.7777777777777778, \"#fb9f3a\"], [0.8888888888888888, \"#fdca26\"], [1.0, \"#f0f921\"]], \"type\": \"heatmap\"}], \"heatmapgl\": [{\"colorbar\": {\"outlinewidth\": 0, \"ticks\": \"\"}, \"colorscale\": [[0.0, \"#0d0887\"], [0.1111111111111111, \"#46039f\"], [0.2222222222222222, \"#7201a8\"], [0.3333333333333333, \"#9c179e\"], [0.4444444444444444, \"#bd3786\"], [0.5555555555555556, \"#d8576b\"], [0.6666666666666666, \"#ed7953\"], [0.7777777777777778, \"#fb9f3a\"], [0.8888888888888888, \"#fdca26\"], [1.0, \"#f0f921\"]], \"type\": \"heatmapgl\"}], \"histogram\": [{\"marker\": {\"colorbar\": {\"outlinewidth\": 0, \"ticks\": \"\"}}, \"type\": \"histogram\"}], \"histogram2d\": [{\"colorbar\": {\"outlinewidth\": 0, \"ticks\": \"\"}, \"colorscale\": [[0.0, \"#0d0887\"], [0.1111111111111111, \"#46039f\"], [0.2222222222222222, \"#7201a8\"], [0.3333333333333333, \"#9c179e\"], [0.4444444444444444, \"#bd3786\"], [0.5555555555555556, \"#d8576b\"], [0.6666666666666666, \"#ed7953\"], [0.7777777777777778, \"#fb9f3a\"], [0.8888888888888888, \"#fdca26\"], [1.0, \"#f0f921\"]], \"type\": \"histogram2d\"}], \"histogram2dcontour\": [{\"colorbar\": {\"outlinewidth\": 0, \"ticks\": \"\"}, \"colorscale\": [[0.0, \"#0d0887\"], [0.1111111111111111, \"#46039f\"], [0.2222222222222222, \"#7201a8\"], [0.3333333333333333, \"#9c179e\"], [0.4444444444444444, \"#bd3786\"], [0.5555555555555556, \"#d8576b\"], [0.6666666666666666, \"#ed7953\"], [0.7777777777777778, \"#fb9f3a\"], [0.8888888888888888, \"#fdca26\"], [1.0, \"#f0f921\"]], \"type\": \"histogram2dcontour\"}], \"mesh3d\": [{\"colorbar\": {\"outlinewidth\": 0, \"ticks\": \"\"}, \"type\": \"mesh3d\"}], \"parcoords\": [{\"line\": {\"colorbar\": {\"outlinewidth\": 0, \"ticks\": \"\"}}, \"type\": \"parcoords\"}], \"pie\": [{\"automargin\": true, \"type\": \"pie\"}], \"scatter\": [{\"marker\": {\"colorbar\": {\"outlinewidth\": 0, \"ticks\": \"\"}}, \"type\": \"scatter\"}], \"scatter3d\": [{\"line\": {\"colorbar\": {\"outlinewidth\": 0, \"ticks\": \"\"}}, \"marker\": {\"colorbar\": {\"outlinewidth\": 0, \"ticks\": \"\"}}, \"type\": \"scatter3d\"}], \"scattercarpet\": [{\"marker\": {\"colorbar\": {\"outlinewidth\": 0, \"ticks\": \"\"}}, \"type\": \"scattercarpet\"}], \"scattergeo\": [{\"marker\": {\"colorbar\": {\"outlinewidth\": 0, \"ticks\": \"\"}}, \"type\": \"scattergeo\"}], \"scattergl\": [{\"marker\": {\"colorbar\": {\"outlinewidth\": 0, \"ticks\": \"\"}}, \"type\": \"scattergl\"}], \"scattermapbox\": [{\"marker\": {\"colorbar\": {\"outlinewidth\": 0, \"ticks\": \"\"}}, \"type\": \"scattermapbox\"}], \"scatterpolar\": [{\"marker\": {\"colorbar\": {\"outlinewidth\": 0, \"ticks\": \"\"}}, \"type\": \"scatterpolar\"}], \"scatterpolargl\": [{\"marker\": {\"colorbar\": {\"outlinewidth\": 0, \"ticks\": \"\"}}, \"type\": \"scatterpolargl\"}], \"scatterternary\": [{\"marker\": {\"colorbar\": {\"outlinewidth\": 0, \"ticks\": \"\"}}, \"type\": \"scatterternary\"}], \"surface\": [{\"colorbar\": {\"outlinewidth\": 0, \"ticks\": \"\"}, \"colorscale\": [[0.0, \"#0d0887\"], [0.1111111111111111, \"#46039f\"], [0.2222222222222222, \"#7201a8\"], [0.3333333333333333, \"#9c179e\"], [0.4444444444444444, \"#bd3786\"], [0.5555555555555556, \"#d8576b\"], [0.6666666666666666, \"#ed7953\"], [0.7777777777777778, \"#fb9f3a\"], [0.8888888888888888, \"#fdca26\"], [1.0, \"#f0f921\"]], \"type\": \"surface\"}], \"table\": [{\"cells\": {\"fill\": {\"color\": \"#EBF0F8\"}, \"line\": {\"color\": \"white\"}}, \"header\": {\"fill\": {\"color\": \"#C8D4E3\"}, \"line\": {\"color\": \"white\"}}, \"type\": \"table\"}]}, \"layout\": {\"annotationdefaults\": {\"arrowcolor\": \"#2a3f5f\", \"arrowhead\": 0, \"arrowwidth\": 1}, \"coloraxis\": {\"colorbar\": {\"outlinewidth\": 0, \"ticks\": \"\"}}, \"colorscale\": {\"diverging\": [[0, \"#8e0152\"], [0.1, \"#c51b7d\"], [0.2, \"#de77ae\"], [0.3, \"#f1b6da\"], [0.4, \"#fde0ef\"], [0.5, \"#f7f7f7\"], [0.6, \"#e6f5d0\"], [0.7, \"#b8e186\"], [0.8, \"#7fbc41\"], [0.9, \"#4d9221\"], [1, \"#276419\"]], \"sequential\": [[0.0, \"#0d0887\"], [0.1111111111111111, \"#46039f\"], [0.2222222222222222, \"#7201a8\"], [0.3333333333333333, \"#9c179e\"], [0.4444444444444444, \"#bd3786\"], [0.5555555555555556, \"#d8576b\"], [0.6666666666666666, \"#ed7953\"], [0.7777777777777778, \"#fb9f3a\"], [0.8888888888888888, \"#fdca26\"], [1.0, \"#f0f921\"]], \"sequentialminus\": [[0.0, \"#0d0887\"], [0.1111111111111111, \"#46039f\"], [0.2222222222222222, \"#7201a8\"], [0.3333333333333333, \"#9c179e\"], [0.4444444444444444, \"#bd3786\"], [0.5555555555555556, \"#d8576b\"], [0.6666666666666666, \"#ed7953\"], [0.7777777777777778, \"#fb9f3a\"], [0.8888888888888888, \"#fdca26\"], [1.0, \"#f0f921\"]]}, \"colorway\": [\"#636efa\", \"#EF553B\", \"#00cc96\", \"#ab63fa\", \"#FFA15A\", \"#19d3f3\", \"#FF6692\", \"#B6E880\", \"#FF97FF\", \"#FECB52\"], \"font\": {\"color\": \"#2a3f5f\"}, \"geo\": {\"bgcolor\": \"white\", \"lakecolor\": \"white\", \"landcolor\": \"#E5ECF6\", \"showlakes\": true, \"showland\": true, \"subunitcolor\": \"white\"}, \"hoverlabel\": {\"align\": \"left\"}, \"hovermode\": \"closest\", \"mapbox\": {\"style\": \"light\"}, \"paper_bgcolor\": \"white\", \"plot_bgcolor\": \"#E5ECF6\", \"polar\": {\"angularaxis\": {\"gridcolor\": \"white\", \"linecolor\": \"white\", \"ticks\": \"\"}, \"bgcolor\": \"#E5ECF6\", \"radialaxis\": {\"gridcolor\": \"white\", \"linecolor\": \"white\", \"ticks\": \"\"}}, \"scene\": {\"xaxis\": {\"backgroundcolor\": \"#E5ECF6\", \"gridcolor\": \"white\", \"gridwidth\": 2, \"linecolor\": \"white\", \"showbackground\": true, \"ticks\": \"\", \"zerolinecolor\": \"white\"}, \"yaxis\": {\"backgroundcolor\": \"#E5ECF6\", \"gridcolor\": \"white\", \"gridwidth\": 2, \"linecolor\": \"white\", \"showbackground\": true, \"ticks\": \"\", \"zerolinecolor\": \"white\"}, \"zaxis\": {\"backgroundcolor\": \"#E5ECF6\", \"gridcolor\": \"white\", \"gridwidth\": 2, \"linecolor\": \"white\", \"showbackground\": true, \"ticks\": \"\", \"zerolinecolor\": \"white\"}}, \"shapedefaults\": {\"line\": {\"color\": \"#2a3f5f\"}}, \"ternary\": {\"aaxis\": {\"gridcolor\": \"white\", \"linecolor\": \"white\", \"ticks\": \"\"}, \"baxis\": {\"gridcolor\": \"white\", \"linecolor\": \"white\", \"ticks\": \"\"}, \"bgcolor\": \"#E5ECF6\", \"caxis\": {\"gridcolor\": \"white\", \"linecolor\": \"white\", \"ticks\": \"\"}}, \"title\": {\"x\": 0.05}, \"xaxis\": {\"automargin\": true, \"gridcolor\": \"white\", \"linecolor\": \"white\", \"ticks\": \"\", \"title\": {\"standoff\": 15}, \"zerolinecolor\": \"white\", \"zerolinewidth\": 2}, \"yaxis\": {\"automargin\": true, \"gridcolor\": \"white\", \"linecolor\": \"white\", \"ticks\": \"\", \"title\": {\"standoff\": 15}, \"zerolinecolor\": \"white\", \"zerolinewidth\": 2}}}},                        {\"responsive\": true}                    ).then(function(){\n",
       "                            \n",
       "var gd = document.getElementById('5f1a3d28-7e63-4c0b-adfb-091823cb416a');\n",
       "var x = new MutationObserver(function (mutations, observer) {{\n",
       "        var display = window.getComputedStyle(gd).display;\n",
       "        if (!display || display === 'none') {{\n",
       "            console.log([gd, 'removed!']);\n",
       "            Plotly.purge(gd);\n",
       "            observer.disconnect();\n",
       "        }}\n",
       "}});\n",
       "\n",
       "// Listen for the removal of the full notebook cells\n",
       "var notebookContainer = gd.closest('#notebook-container');\n",
       "if (notebookContainer) {{\n",
       "    x.observe(notebookContainer, {childList: true});\n",
       "}}\n",
       "\n",
       "// Listen for the clearing of the current output cell\n",
       "var outputEl = gd.closest('.output');\n",
       "if (outputEl) {{\n",
       "    x.observe(outputEl, {childList: true});\n",
       "}}\n",
       "\n",
       "                        })                };                });            </script>        </div>"
      ]
     },
     "metadata": {},
     "output_type": "display_data"
    }
   ],
   "source": [
    "fig = go.Figure(data=\n",
    "    go.Parcoords(\n",
    "        line = dict(color = new_results['dominated'], \n",
    "                        colorscale = ['rgba(11,66,255, 1)', 'rgba(11,0,255, 0.5)']),\n",
    "        dimensions = list([\n",
    "            dict(range = [0,1],\n",
    "                label = 'Acurácia', values = m_metrics['Acurácia']),\n",
    "            dict(range = [0,1],\n",
    "                label = 'Igualdade de Oportunidade', values = m_metrics['Igualdade de Oportunidade']),\n",
    "            dict(range = [0,1],\n",
    "                label = 'P porcento', values = m_metrics['P porcento']),\n",
    "            dict(range = [0.5,2],\n",
    "                label = 'Coeficiente de variação', values = m_metrics['cv_aux']),\n",
    "        ])\n",
    "    )\n",
    ")\n",
    "\n",
    "fig.update_layout(\n",
    "    plot_bgcolor = 'white',\n",
    "    paper_bgcolor = 'white'\n",
    ")\n",
    "\n",
    "fig.show()"
   ]
  },
  {
   "cell_type": "code",
   "execution_count": null,
   "metadata": {},
   "outputs": [],
   "source": []
  },
  {
   "cell_type": "code",
   "execution_count": 46,
   "metadata": {},
   "outputs": [],
   "source": [
    "m_aux2 = {\"Acurácia\": [], \"Igualdade de Oportunidade\": [], \"P porcento\": [], \"Coeficiente de variação\": []}"
   ]
  },
  {
   "cell_type": "code",
   "execution_count": 47,
   "metadata": {},
   "outputs": [
    {
     "name": "stderr",
     "output_type": "stream",
     "text": [
      "2020-11-11 00:32:08,521 - moopt.monise - DEBUG: Finding 1th individual minima\n",
      "2020-11-11 00:32:08,555 - moopt.monise - DEBUG: Finding 2th individual minima\n",
      "2020-11-11 00:32:08,580 - moopt.monise - DEBUG: Finding 3th individual minima\n",
      "2020-11-11 00:32:08,597 - moopt.monise - DEBUG: Finding 4th individual minima\n",
      "2020-11-11 00:32:08,651 - moopt.monise - DEBUG: 5th solution - importance: 1.0\n",
      "2020-11-11 00:32:08,694 - moopt.monise - DEBUG: 6th solution - importance: 1.0000600756132034\n",
      "2020-11-11 00:32:08,730 - moopt.monise - DEBUG: 7th solution - importance: 1.0000600756132034\n",
      "2020-11-11 00:32:08,762 - moopt.monise - DEBUG: 8th solution - importance: 1.0000600756132034\n",
      "2020-11-11 00:32:08,819 - moopt.monise - DEBUG: 9th solution - importance: 1.0000600756132034\n",
      "2020-11-11 00:32:08,843 - moopt.monise - DEBUG: 10th solution - importance: 1.0000600756132034\n",
      "2020-11-11 00:32:08,870 - moopt.monise - DEBUG: 11th solution - importance: 0.2233404188338421\n",
      "2020-11-11 00:32:08,900 - moopt.monise - DEBUG: 12th solution - importance: 0.028711610159316094\n",
      "2020-11-11 00:32:08,937 - moopt.monise - DEBUG: 13th solution - importance: 0.02781824397299713\n",
      "/root/anaconda3/envs/py36/lib/python3.6/site-packages/sklego/metrics.py:155: RuntimeWarning:\n",
      "\n",
      "invalid value encountered in double_scalars\n",
      "\n",
      "/root/anaconda3/envs/py36/lib/python3.6/site-packages/sklego/metrics.py:79: RuntimeWarning:\n",
      "\n",
      "No samples with y_hat == 1 for Sex == 1, returning 0\n",
      "\n"
     ]
    }
   ],
   "source": [
    "moo = monise(weightedScalar=EqualScalarization(X_train, y_train, 'Sex'),\n",
    "             singleScalar=EqualScalarization(X_train, y_train, 'Sex'),\n",
    "              nodeTimeLimit=2, targetSize=150,\n",
    "              targetGap=0, nodeGap=0.01, norm=False)\n",
    "\n",
    "moo.optimize()\n",
    "\n",
    "sols = []\n",
    "\n",
    "for solution in moo.solutionsList:\n",
    "    sols.append(solution.x)\n",
    "    m_aux2[\"Acurácia\"].append(solution.x.score(X_test, y_test))\n",
    "    m_aux2[\"Igualdade de Oportunidade\"].append(equal_opportunity_score(sensitive_column=german_fair_feature)(solution.x,\n",
    "                                                                                                            X_test, y_test))\n",
    "    m_aux2[\"P porcento\"].append(p_percent_score(sensitive_column=german_fair_feature)(solution.x,X_test))\n",
    "    m_aux2[\"Coeficiente de variação\"].append(coefficient_of_variation(solution.x, X_test, y_test))"
   ]
  },
  {
   "cell_type": "code",
   "execution_count": 39,
   "metadata": {},
   "outputs": [],
   "source": [
    "m_metrics2 = pd.DataFrame(data=m_aux2, columns=['Acurácia','Igualdade de Oportunidade','P porcento',\n",
    "                                     'Coeficiente de variação'])"
   ]
  },
  {
   "cell_type": "code",
   "execution_count": 40,
   "metadata": {},
   "outputs": [
    {
     "data": {
      "text/html": [
       "<div>\n",
       "<style scoped>\n",
       "    .dataframe tbody tr th:only-of-type {\n",
       "        vertical-align: middle;\n",
       "    }\n",
       "\n",
       "    .dataframe tbody tr th {\n",
       "        vertical-align: top;\n",
       "    }\n",
       "\n",
       "    .dataframe thead th {\n",
       "        text-align: right;\n",
       "    }\n",
       "</style>\n",
       "<table border=\"1\" class=\"dataframe\">\n",
       "  <thead>\n",
       "    <tr style=\"text-align: right;\">\n",
       "      <th></th>\n",
       "      <th>Acurácia</th>\n",
       "      <th>Igualdade de Oportunidade</th>\n",
       "      <th>P porcento</th>\n",
       "      <th>Coeficiente de variação</th>\n",
       "    </tr>\n",
       "  </thead>\n",
       "  <tbody>\n",
       "    <tr>\n",
       "      <th>0</th>\n",
       "      <td>0.635</td>\n",
       "      <td>0.970626</td>\n",
       "      <td>0.941176</td>\n",
       "      <td>0.797597</td>\n",
       "    </tr>\n",
       "    <tr>\n",
       "      <th>1</th>\n",
       "      <td>0.535</td>\n",
       "      <td>1.000000</td>\n",
       "      <td>1.000000</td>\n",
       "      <td>0.481483</td>\n",
       "    </tr>\n",
       "    <tr>\n",
       "      <th>2</th>\n",
       "      <td>0.535</td>\n",
       "      <td>1.000000</td>\n",
       "      <td>1.000000</td>\n",
       "      <td>0.481483</td>\n",
       "    </tr>\n",
       "    <tr>\n",
       "      <th>3</th>\n",
       "      <td>0.465</td>\n",
       "      <td>1.000000</td>\n",
       "      <td>0.000000</td>\n",
       "      <td>1.516930</td>\n",
       "    </tr>\n",
       "    <tr>\n",
       "      <th>4</th>\n",
       "      <td>0.615</td>\n",
       "      <td>0.956250</td>\n",
       "      <td>0.896781</td>\n",
       "      <td>0.657593</td>\n",
       "    </tr>\n",
       "    <tr>\n",
       "      <th>5</th>\n",
       "      <td>0.535</td>\n",
       "      <td>1.000000</td>\n",
       "      <td>1.000000</td>\n",
       "      <td>0.481483</td>\n",
       "    </tr>\n",
       "    <tr>\n",
       "      <th>6</th>\n",
       "      <td>0.535</td>\n",
       "      <td>1.000000</td>\n",
       "      <td>1.000000</td>\n",
       "      <td>0.481483</td>\n",
       "    </tr>\n",
       "    <tr>\n",
       "      <th>7</th>\n",
       "      <td>0.535</td>\n",
       "      <td>1.000000</td>\n",
       "      <td>1.000000</td>\n",
       "      <td>0.481483</td>\n",
       "    </tr>\n",
       "    <tr>\n",
       "      <th>8</th>\n",
       "      <td>0.535</td>\n",
       "      <td>1.000000</td>\n",
       "      <td>1.000000</td>\n",
       "      <td>0.481483</td>\n",
       "    </tr>\n",
       "    <tr>\n",
       "      <th>9</th>\n",
       "      <td>0.535</td>\n",
       "      <td>1.000000</td>\n",
       "      <td>1.000000</td>\n",
       "      <td>0.481483</td>\n",
       "    </tr>\n",
       "  </tbody>\n",
       "</table>\n",
       "</div>"
      ],
      "text/plain": [
       "   Acurácia  Igualdade de Oportunidade  P porcento  Coeficiente de variação\n",
       "0     0.635                   0.970626    0.941176                 0.797597\n",
       "1     0.535                   1.000000    1.000000                 0.481483\n",
       "2     0.535                   1.000000    1.000000                 0.481483\n",
       "3     0.465                   1.000000    0.000000                 1.516930\n",
       "4     0.615                   0.956250    0.896781                 0.657593\n",
       "5     0.535                   1.000000    1.000000                 0.481483\n",
       "6     0.535                   1.000000    1.000000                 0.481483\n",
       "7     0.535                   1.000000    1.000000                 0.481483\n",
       "8     0.535                   1.000000    1.000000                 0.481483\n",
       "9     0.535                   1.000000    1.000000                 0.481483"
      ]
     },
     "execution_count": 40,
     "metadata": {},
     "output_type": "execute_result"
    }
   ],
   "source": [
    "m_metrics2"
   ]
  },
  {
   "cell_type": "code",
   "execution_count": 43,
   "metadata": {},
   "outputs": [],
   "source": [
    "m_metrics2['cv_aux'] = 1/m_metrics2['Coeficiente de variação']\n",
    "\n",
    "new_results2 = m_metrics2.copy()\n",
    "new_results2 = new_results2.drop('Coeficiente de variação', axis=1)\n",
    "dominate_metr = [any([dominate(other, row) for other in new_results2.values]) for row in new_results2.values]\n",
    "new_results2['dominated'] = dominate_metr\n",
    "\n",
    "new_results2[new_results2.dominated] = 1\n",
    "new_results2[new_results2.dominated == False] = 0"
   ]
  },
  {
   "cell_type": "code",
   "execution_count": 44,
   "metadata": {},
   "outputs": [
    {
     "data": {
      "text/html": [
       "<div>\n",
       "<style scoped>\n",
       "    .dataframe tbody tr th:only-of-type {\n",
       "        vertical-align: middle;\n",
       "    }\n",
       "\n",
       "    .dataframe tbody tr th {\n",
       "        vertical-align: top;\n",
       "    }\n",
       "\n",
       "    .dataframe thead th {\n",
       "        text-align: right;\n",
       "    }\n",
       "</style>\n",
       "<table border=\"1\" class=\"dataframe\">\n",
       "  <thead>\n",
       "    <tr style=\"text-align: right;\">\n",
       "      <th></th>\n",
       "      <th>Acurácia</th>\n",
       "      <th>Igualdade de Oportunidade</th>\n",
       "      <th>P porcento</th>\n",
       "      <th>cv_aux</th>\n",
       "      <th>dominated</th>\n",
       "    </tr>\n",
       "  </thead>\n",
       "  <tbody>\n",
       "    <tr>\n",
       "      <th>0</th>\n",
       "      <td>0.0</td>\n",
       "      <td>0.0</td>\n",
       "      <td>0.0</td>\n",
       "      <td>0.0</td>\n",
       "      <td>0</td>\n",
       "    </tr>\n",
       "    <tr>\n",
       "      <th>1</th>\n",
       "      <td>0.0</td>\n",
       "      <td>0.0</td>\n",
       "      <td>0.0</td>\n",
       "      <td>0.0</td>\n",
       "      <td>0</td>\n",
       "    </tr>\n",
       "    <tr>\n",
       "      <th>2</th>\n",
       "      <td>0.0</td>\n",
       "      <td>0.0</td>\n",
       "      <td>0.0</td>\n",
       "      <td>0.0</td>\n",
       "      <td>0</td>\n",
       "    </tr>\n",
       "    <tr>\n",
       "      <th>3</th>\n",
       "      <td>1.0</td>\n",
       "      <td>1.0</td>\n",
       "      <td>1.0</td>\n",
       "      <td>1.0</td>\n",
       "      <td>1</td>\n",
       "    </tr>\n",
       "    <tr>\n",
       "      <th>4</th>\n",
       "      <td>0.0</td>\n",
       "      <td>0.0</td>\n",
       "      <td>0.0</td>\n",
       "      <td>0.0</td>\n",
       "      <td>0</td>\n",
       "    </tr>\n",
       "    <tr>\n",
       "      <th>5</th>\n",
       "      <td>0.0</td>\n",
       "      <td>0.0</td>\n",
       "      <td>0.0</td>\n",
       "      <td>0.0</td>\n",
       "      <td>0</td>\n",
       "    </tr>\n",
       "    <tr>\n",
       "      <th>6</th>\n",
       "      <td>0.0</td>\n",
       "      <td>0.0</td>\n",
       "      <td>0.0</td>\n",
       "      <td>0.0</td>\n",
       "      <td>0</td>\n",
       "    </tr>\n",
       "    <tr>\n",
       "      <th>7</th>\n",
       "      <td>0.0</td>\n",
       "      <td>0.0</td>\n",
       "      <td>0.0</td>\n",
       "      <td>0.0</td>\n",
       "      <td>0</td>\n",
       "    </tr>\n",
       "    <tr>\n",
       "      <th>8</th>\n",
       "      <td>0.0</td>\n",
       "      <td>0.0</td>\n",
       "      <td>0.0</td>\n",
       "      <td>0.0</td>\n",
       "      <td>0</td>\n",
       "    </tr>\n",
       "    <tr>\n",
       "      <th>9</th>\n",
       "      <td>0.0</td>\n",
       "      <td>0.0</td>\n",
       "      <td>0.0</td>\n",
       "      <td>0.0</td>\n",
       "      <td>0</td>\n",
       "    </tr>\n",
       "  </tbody>\n",
       "</table>\n",
       "</div>"
      ],
      "text/plain": [
       "   Acurácia  Igualdade de Oportunidade  P porcento  cv_aux dominated\n",
       "0       0.0                        0.0         0.0     0.0         0\n",
       "1       0.0                        0.0         0.0     0.0         0\n",
       "2       0.0                        0.0         0.0     0.0         0\n",
       "3       1.0                        1.0         1.0     1.0         1\n",
       "4       0.0                        0.0         0.0     0.0         0\n",
       "5       0.0                        0.0         0.0     0.0         0\n",
       "6       0.0                        0.0         0.0     0.0         0\n",
       "7       0.0                        0.0         0.0     0.0         0\n",
       "8       0.0                        0.0         0.0     0.0         0\n",
       "9       0.0                        0.0         0.0     0.0         0"
      ]
     },
     "execution_count": 44,
     "metadata": {},
     "output_type": "execute_result"
    }
   ],
   "source": [
    "new_results2"
   ]
  },
  {
   "cell_type": "code",
   "execution_count": 22,
   "metadata": {},
   "outputs": [
    {
     "data": {
      "application/vnd.plotly.v1+json": {
       "config": {
        "plotlyServerURL": "https://plot.ly"
       },
       "data": [
        {
         "dimensions": [
          {
           "label": "Acurácia",
           "range": [
            0,
            1
           ],
           "values": [
            0.66,
            0.575,
            0.575,
            0.425,
            0.65,
            0.575,
            0.575,
            0.575,
            0.575,
            0.575,
            0.575,
            0.575,
            0.575,
            0.575,
            0.575,
            0.575,
            0.575,
            0.575,
            0.575,
            0.575,
            0.575,
            0.575,
            0.575,
            0.575,
            0.575,
            0.575,
            0.575,
            0.575,
            0.575,
            0.575,
            0.575,
            0.575,
            0.575,
            0.575,
            0.575,
            0.575,
            0.575,
            0.575,
            0.575,
            0.575,
            0.575,
            0.575,
            0.575,
            0.575,
            0.575,
            0.575,
            0.575,
            0.575,
            0.575,
            0.575,
            0.575,
            0.575,
            0.575,
            0.575,
            0.575,
            0.575,
            0.575,
            0.575,
            0.575,
            0.575,
            0.575,
            0.575,
            0.575,
            0.575,
            0.575,
            0.575,
            0.575,
            0.575,
            0.575,
            0.575,
            0.575,
            0.575,
            0.575,
            0.575,
            0.575,
            0.575,
            0.575,
            0.575,
            0.575,
            0.575,
            0.575,
            0.575,
            0.575,
            0.575,
            0.575,
            0.575,
            0.575,
            0.575,
            0.575,
            0.575,
            0.575,
            0.575,
            0.575,
            0.575,
            0.575,
            0.575,
            0.575,
            0.575,
            0.575,
            0.575,
            0.575,
            0.575,
            0.575,
            0.575,
            0.575,
            0.575,
            0.575,
            0.575,
            0.575,
            0.575,
            0.575,
            0.575,
            0.575,
            0.575,
            0.575,
            0.575,
            0.575,
            0.575,
            0.575,
            0.575,
            0.575,
            0.575,
            0.575,
            0.575,
            0.575,
            0.575,
            0.575,
            0.575,
            0.575,
            0.575,
            0.575,
            0.575,
            0.575,
            0.575,
            0.575,
            0.575,
            0.575,
            0.575,
            0.575,
            0.575,
            0.575,
            0.575,
            0.575,
            0.575,
            0.575,
            0.575,
            0.575,
            0.575,
            0.575,
            0.575
           ]
          },
          {
           "label": "Igualdade de Oportunidade",
           "range": [
            0,
            1
           ],
           "values": [
            0.6034632034632035,
            1,
            1,
            1,
            0.9792682926829269,
            1,
            1,
            1,
            1,
            1,
            1,
            1,
            1,
            1,
            1,
            1,
            1,
            1,
            1,
            1,
            1,
            1,
            1,
            1,
            1,
            1,
            1,
            1,
            1,
            1,
            1,
            1,
            1,
            1,
            1,
            1,
            1,
            1,
            1,
            1,
            1,
            1,
            1,
            1,
            1,
            1,
            1,
            1,
            1,
            1,
            1,
            1,
            1,
            1,
            1,
            1,
            1,
            1,
            1,
            1,
            1,
            1,
            1,
            1,
            1,
            1,
            1,
            1,
            1,
            1,
            1,
            1,
            1,
            1,
            1,
            1,
            1,
            1,
            1,
            1,
            1,
            1,
            1,
            1,
            1,
            1,
            1,
            1,
            1,
            1,
            1,
            1,
            1,
            1,
            1,
            1,
            1,
            1,
            1,
            1,
            1,
            1,
            1,
            1,
            1,
            1,
            1,
            1,
            1,
            1,
            1,
            1,
            1,
            1,
            1,
            1,
            1,
            1,
            1,
            1,
            1,
            1,
            1,
            1,
            1,
            1,
            1,
            1,
            1,
            1,
            1,
            1,
            1,
            1,
            1,
            1,
            1,
            1,
            1,
            1,
            1,
            1,
            1,
            1,
            1,
            1,
            1,
            1,
            1,
            1
           ]
          },
          {
           "label": "P porcento",
           "range": [
            0,
            1
           ],
           "values": [
            0.6000676132521974,
            1,
            1,
            0,
            0.9336016096579476,
            1,
            1,
            1,
            1,
            1,
            1,
            1,
            1,
            1,
            1,
            1,
            1,
            1,
            1,
            1,
            1,
            1,
            1,
            1,
            1,
            1,
            1,
            1,
            1,
            1,
            1,
            1,
            1,
            1,
            1,
            1,
            1,
            1,
            1,
            1,
            1,
            1,
            1,
            1,
            1,
            1,
            1,
            1,
            1,
            1,
            1,
            1,
            1,
            1,
            1,
            1,
            1,
            1,
            1,
            1,
            1,
            1,
            1,
            1,
            1,
            1,
            1,
            1,
            1,
            1,
            1,
            1,
            1,
            1,
            1,
            1,
            1,
            1,
            1,
            1,
            1,
            1,
            1,
            1,
            1,
            1,
            1,
            1,
            1,
            1,
            1,
            1,
            1,
            1,
            1,
            1,
            1,
            1,
            1,
            1,
            1,
            1,
            1,
            1,
            1,
            1,
            1,
            1,
            1,
            1,
            1,
            1,
            1,
            1,
            1,
            1,
            1,
            1,
            1,
            1,
            1,
            1,
            1,
            1,
            1,
            1,
            1,
            1,
            1,
            1,
            1,
            1,
            1,
            1,
            1,
            1,
            1,
            1,
            1,
            1,
            1,
            1,
            1,
            1,
            1,
            1,
            1,
            1,
            1,
            1
           ]
          },
          {
           "label": "Coeficiente de variação",
           "range": [
            0.5,
            2
           ],
           "values": [
            1.2922986000995553,
            2.0383158385786366,
            2.0383158385786366,
            0.6079187588743281,
            1.595654229480993,
            2.0383158385786366,
            2.0383158385786366,
            2.0383158385786366,
            2.0383158385786366,
            2.0383158385786366,
            2.0383158385786366,
            2.0383158385786366,
            2.0383158385786366,
            2.0383158385786366,
            2.0383158385786366,
            2.0383158385786366,
            2.0383158385786366,
            2.0383158385786366,
            2.0383158385786366,
            2.0383158385786366,
            2.0383158385786366,
            2.0383158385786366,
            2.0383158385786366,
            2.0383158385786366,
            2.0383158385786366,
            2.0383158385786366,
            2.0383158385786366,
            2.0383158385786366,
            2.0383158385786366,
            2.0383158385786366,
            2.0383158385786366,
            2.0383158385786366,
            2.0383158385786366,
            2.0383158385786366,
            2.0383158385786366,
            2.0383158385786366,
            2.0383158385786366,
            2.0383158385786366,
            2.0383158385786366,
            2.0383158385786366,
            2.0383158385786366,
            2.0383158385786366,
            2.0383158385786366,
            2.0383158385786366,
            2.0383158385786366,
            2.0383158385786366,
            2.0383158385786366,
            2.0383158385786366,
            2.0383158385786366,
            2.0383158385786366,
            2.0383158385786366,
            2.0383158385786366,
            2.0383158385786366,
            2.0383158385786366,
            2.0383158385786366,
            2.0383158385786366,
            2.0383158385786366,
            2.0383158385786366,
            2.0383158385786366,
            2.0383158385786366,
            2.0383158385786366,
            2.0383158385786366,
            2.0383158385786366,
            2.0383158385786366,
            2.0383158385786366,
            2.0383158385786366,
            2.0383158385786366,
            2.0383158385786366,
            2.0383158385786366,
            2.0383158385786366,
            2.0383158385786366,
            2.0383158385786366,
            2.0383158385786366,
            2.0383158385786366,
            2.0383158385786366,
            2.0383158385786366,
            2.0383158385786366,
            2.0383158385786366,
            2.0383158385786366,
            2.0383158385786366,
            2.0383158385786366,
            2.0383158385786366,
            2.0383158385786366,
            2.0383158385786366,
            2.0383158385786366,
            2.0383158385786366,
            2.0383158385786366,
            2.0383158385786366,
            2.0383158385786366,
            2.0383158385786366,
            2.0383158385786366,
            2.0383158385786366,
            2.0383158385786366,
            2.0383158385786366,
            2.0383158385786366,
            2.0383158385786366,
            2.0383158385786366,
            2.0383158385786366,
            2.0383158385786366,
            2.0383158385786366,
            2.0383158385786366,
            2.0383158385786366,
            2.0383158385786366,
            2.0383158385786366,
            2.0383158385786366,
            2.0383158385786366,
            2.0383158385786366,
            2.0383158385786366,
            2.0383158385786366,
            2.0383158385786366,
            2.0383158385786366,
            2.0383158385786366,
            2.0383158385786366,
            2.0383158385786366,
            2.0383158385786366,
            2.0383158385786366,
            2.0383158385786366,
            2.0383158385786366,
            2.0383158385786366,
            2.0383158385786366,
            2.0383158385786366,
            2.0383158385786366,
            2.0383158385786366,
            2.0383158385786366,
            2.0383158385786366,
            2.0383158385786366,
            2.0383158385786366,
            2.0383158385786366,
            2.0383158385786366,
            2.0383158385786366,
            2.0383158385786366,
            2.0383158385786366,
            2.0383158385786366,
            2.0383158385786366,
            2.0383158385786366,
            2.0383158385786366,
            2.0383158385786366,
            2.0383158385786366,
            2.0383158385786366,
            2.0383158385786366,
            2.0383158385786366,
            2.0383158385786366,
            2.0383158385786366,
            2.0383158385786366,
            2.0383158385786366,
            2.0383158385786366,
            2.0383158385786366,
            2.0383158385786366,
            2.0383158385786366,
            2.0383158385786366
           ]
          }
         ],
         "line": {
          "color": [
           0,
           0,
           0,
           1,
           0,
           0,
           0,
           0,
           0,
           0,
           0,
           0,
           0,
           0,
           0,
           0,
           0,
           0,
           0,
           0,
           0,
           0,
           0,
           0,
           0,
           0,
           0,
           0,
           0,
           0,
           0,
           0,
           0,
           0,
           0,
           0,
           0,
           0,
           0,
           0,
           0,
           0,
           0,
           0,
           0,
           0,
           0,
           0,
           0,
           0,
           0,
           0,
           0,
           0,
           0,
           0,
           0,
           0,
           0,
           0,
           0,
           0,
           0,
           0,
           0,
           0,
           0,
           0,
           0,
           0,
           0,
           0,
           0,
           0,
           0,
           0,
           0,
           0,
           0,
           0,
           0,
           0,
           0,
           0,
           0,
           0,
           0,
           0,
           0,
           0,
           0,
           0,
           0,
           0,
           0,
           0,
           0,
           0,
           0,
           0,
           0,
           0,
           0,
           0,
           0,
           0,
           0,
           0,
           0,
           0,
           0,
           0,
           0,
           0,
           0,
           0,
           0,
           0,
           0,
           0,
           0,
           0,
           0,
           0,
           0,
           0,
           0,
           0,
           0,
           0,
           0,
           0,
           0,
           0,
           0,
           0,
           0,
           0,
           0,
           0,
           0,
           0,
           0,
           0,
           0,
           0,
           0,
           0,
           0,
           0
          ],
          "colorscale": [
           [
            0,
            "#0043E0"
           ],
           [
            1,
            "#7F5EEF"
           ]
          ]
         },
         "type": "parcoords"
        }
       ],
       "layout": {
        "paper_bgcolor": "white",
        "plot_bgcolor": "white",
        "template": {
         "data": {
          "bar": [
           {
            "error_x": {
             "color": "#2a3f5f"
            },
            "error_y": {
             "color": "#2a3f5f"
            },
            "marker": {
             "line": {
              "color": "#E5ECF6",
              "width": 0.5
             }
            },
            "type": "bar"
           }
          ],
          "barpolar": [
           {
            "marker": {
             "line": {
              "color": "#E5ECF6",
              "width": 0.5
             }
            },
            "type": "barpolar"
           }
          ],
          "carpet": [
           {
            "aaxis": {
             "endlinecolor": "#2a3f5f",
             "gridcolor": "white",
             "linecolor": "white",
             "minorgridcolor": "white",
             "startlinecolor": "#2a3f5f"
            },
            "baxis": {
             "endlinecolor": "#2a3f5f",
             "gridcolor": "white",
             "linecolor": "white",
             "minorgridcolor": "white",
             "startlinecolor": "#2a3f5f"
            },
            "type": "carpet"
           }
          ],
          "choropleth": [
           {
            "colorbar": {
             "outlinewidth": 0,
             "ticks": ""
            },
            "type": "choropleth"
           }
          ],
          "contour": [
           {
            "colorbar": {
             "outlinewidth": 0,
             "ticks": ""
            },
            "colorscale": [
             [
              0,
              "#0d0887"
             ],
             [
              0.1111111111111111,
              "#46039f"
             ],
             [
              0.2222222222222222,
              "#7201a8"
             ],
             [
              0.3333333333333333,
              "#9c179e"
             ],
             [
              0.4444444444444444,
              "#bd3786"
             ],
             [
              0.5555555555555556,
              "#d8576b"
             ],
             [
              0.6666666666666666,
              "#ed7953"
             ],
             [
              0.7777777777777778,
              "#fb9f3a"
             ],
             [
              0.8888888888888888,
              "#fdca26"
             ],
             [
              1,
              "#f0f921"
             ]
            ],
            "type": "contour"
           }
          ],
          "contourcarpet": [
           {
            "colorbar": {
             "outlinewidth": 0,
             "ticks": ""
            },
            "type": "contourcarpet"
           }
          ],
          "heatmap": [
           {
            "colorbar": {
             "outlinewidth": 0,
             "ticks": ""
            },
            "colorscale": [
             [
              0,
              "#0d0887"
             ],
             [
              0.1111111111111111,
              "#46039f"
             ],
             [
              0.2222222222222222,
              "#7201a8"
             ],
             [
              0.3333333333333333,
              "#9c179e"
             ],
             [
              0.4444444444444444,
              "#bd3786"
             ],
             [
              0.5555555555555556,
              "#d8576b"
             ],
             [
              0.6666666666666666,
              "#ed7953"
             ],
             [
              0.7777777777777778,
              "#fb9f3a"
             ],
             [
              0.8888888888888888,
              "#fdca26"
             ],
             [
              1,
              "#f0f921"
             ]
            ],
            "type": "heatmap"
           }
          ],
          "heatmapgl": [
           {
            "colorbar": {
             "outlinewidth": 0,
             "ticks": ""
            },
            "colorscale": [
             [
              0,
              "#0d0887"
             ],
             [
              0.1111111111111111,
              "#46039f"
             ],
             [
              0.2222222222222222,
              "#7201a8"
             ],
             [
              0.3333333333333333,
              "#9c179e"
             ],
             [
              0.4444444444444444,
              "#bd3786"
             ],
             [
              0.5555555555555556,
              "#d8576b"
             ],
             [
              0.6666666666666666,
              "#ed7953"
             ],
             [
              0.7777777777777778,
              "#fb9f3a"
             ],
             [
              0.8888888888888888,
              "#fdca26"
             ],
             [
              1,
              "#f0f921"
             ]
            ],
            "type": "heatmapgl"
           }
          ],
          "histogram": [
           {
            "marker": {
             "colorbar": {
              "outlinewidth": 0,
              "ticks": ""
             }
            },
            "type": "histogram"
           }
          ],
          "histogram2d": [
           {
            "colorbar": {
             "outlinewidth": 0,
             "ticks": ""
            },
            "colorscale": [
             [
              0,
              "#0d0887"
             ],
             [
              0.1111111111111111,
              "#46039f"
             ],
             [
              0.2222222222222222,
              "#7201a8"
             ],
             [
              0.3333333333333333,
              "#9c179e"
             ],
             [
              0.4444444444444444,
              "#bd3786"
             ],
             [
              0.5555555555555556,
              "#d8576b"
             ],
             [
              0.6666666666666666,
              "#ed7953"
             ],
             [
              0.7777777777777778,
              "#fb9f3a"
             ],
             [
              0.8888888888888888,
              "#fdca26"
             ],
             [
              1,
              "#f0f921"
             ]
            ],
            "type": "histogram2d"
           }
          ],
          "histogram2dcontour": [
           {
            "colorbar": {
             "outlinewidth": 0,
             "ticks": ""
            },
            "colorscale": [
             [
              0,
              "#0d0887"
             ],
             [
              0.1111111111111111,
              "#46039f"
             ],
             [
              0.2222222222222222,
              "#7201a8"
             ],
             [
              0.3333333333333333,
              "#9c179e"
             ],
             [
              0.4444444444444444,
              "#bd3786"
             ],
             [
              0.5555555555555556,
              "#d8576b"
             ],
             [
              0.6666666666666666,
              "#ed7953"
             ],
             [
              0.7777777777777778,
              "#fb9f3a"
             ],
             [
              0.8888888888888888,
              "#fdca26"
             ],
             [
              1,
              "#f0f921"
             ]
            ],
            "type": "histogram2dcontour"
           }
          ],
          "mesh3d": [
           {
            "colorbar": {
             "outlinewidth": 0,
             "ticks": ""
            },
            "type": "mesh3d"
           }
          ],
          "parcoords": [
           {
            "line": {
             "colorbar": {
              "outlinewidth": 0,
              "ticks": ""
             }
            },
            "type": "parcoords"
           }
          ],
          "pie": [
           {
            "automargin": true,
            "type": "pie"
           }
          ],
          "scatter": [
           {
            "marker": {
             "colorbar": {
              "outlinewidth": 0,
              "ticks": ""
             }
            },
            "type": "scatter"
           }
          ],
          "scatter3d": [
           {
            "line": {
             "colorbar": {
              "outlinewidth": 0,
              "ticks": ""
             }
            },
            "marker": {
             "colorbar": {
              "outlinewidth": 0,
              "ticks": ""
             }
            },
            "type": "scatter3d"
           }
          ],
          "scattercarpet": [
           {
            "marker": {
             "colorbar": {
              "outlinewidth": 0,
              "ticks": ""
             }
            },
            "type": "scattercarpet"
           }
          ],
          "scattergeo": [
           {
            "marker": {
             "colorbar": {
              "outlinewidth": 0,
              "ticks": ""
             }
            },
            "type": "scattergeo"
           }
          ],
          "scattergl": [
           {
            "marker": {
             "colorbar": {
              "outlinewidth": 0,
              "ticks": ""
             }
            },
            "type": "scattergl"
           }
          ],
          "scattermapbox": [
           {
            "marker": {
             "colorbar": {
              "outlinewidth": 0,
              "ticks": ""
             }
            },
            "type": "scattermapbox"
           }
          ],
          "scatterpolar": [
           {
            "marker": {
             "colorbar": {
              "outlinewidth": 0,
              "ticks": ""
             }
            },
            "type": "scatterpolar"
           }
          ],
          "scatterpolargl": [
           {
            "marker": {
             "colorbar": {
              "outlinewidth": 0,
              "ticks": ""
             }
            },
            "type": "scatterpolargl"
           }
          ],
          "scatterternary": [
           {
            "marker": {
             "colorbar": {
              "outlinewidth": 0,
              "ticks": ""
             }
            },
            "type": "scatterternary"
           }
          ],
          "surface": [
           {
            "colorbar": {
             "outlinewidth": 0,
             "ticks": ""
            },
            "colorscale": [
             [
              0,
              "#0d0887"
             ],
             [
              0.1111111111111111,
              "#46039f"
             ],
             [
              0.2222222222222222,
              "#7201a8"
             ],
             [
              0.3333333333333333,
              "#9c179e"
             ],
             [
              0.4444444444444444,
              "#bd3786"
             ],
             [
              0.5555555555555556,
              "#d8576b"
             ],
             [
              0.6666666666666666,
              "#ed7953"
             ],
             [
              0.7777777777777778,
              "#fb9f3a"
             ],
             [
              0.8888888888888888,
              "#fdca26"
             ],
             [
              1,
              "#f0f921"
             ]
            ],
            "type": "surface"
           }
          ],
          "table": [
           {
            "cells": {
             "fill": {
              "color": "#EBF0F8"
             },
             "line": {
              "color": "white"
             }
            },
            "header": {
             "fill": {
              "color": "#C8D4E3"
             },
             "line": {
              "color": "white"
             }
            },
            "type": "table"
           }
          ]
         },
         "layout": {
          "annotationdefaults": {
           "arrowcolor": "#2a3f5f",
           "arrowhead": 0,
           "arrowwidth": 1
          },
          "coloraxis": {
           "colorbar": {
            "outlinewidth": 0,
            "ticks": ""
           }
          },
          "colorscale": {
           "diverging": [
            [
             0,
             "#8e0152"
            ],
            [
             0.1,
             "#c51b7d"
            ],
            [
             0.2,
             "#de77ae"
            ],
            [
             0.3,
             "#f1b6da"
            ],
            [
             0.4,
             "#fde0ef"
            ],
            [
             0.5,
             "#f7f7f7"
            ],
            [
             0.6,
             "#e6f5d0"
            ],
            [
             0.7,
             "#b8e186"
            ],
            [
             0.8,
             "#7fbc41"
            ],
            [
             0.9,
             "#4d9221"
            ],
            [
             1,
             "#276419"
            ]
           ],
           "sequential": [
            [
             0,
             "#0d0887"
            ],
            [
             0.1111111111111111,
             "#46039f"
            ],
            [
             0.2222222222222222,
             "#7201a8"
            ],
            [
             0.3333333333333333,
             "#9c179e"
            ],
            [
             0.4444444444444444,
             "#bd3786"
            ],
            [
             0.5555555555555556,
             "#d8576b"
            ],
            [
             0.6666666666666666,
             "#ed7953"
            ],
            [
             0.7777777777777778,
             "#fb9f3a"
            ],
            [
             0.8888888888888888,
             "#fdca26"
            ],
            [
             1,
             "#f0f921"
            ]
           ],
           "sequentialminus": [
            [
             0,
             "#0d0887"
            ],
            [
             0.1111111111111111,
             "#46039f"
            ],
            [
             0.2222222222222222,
             "#7201a8"
            ],
            [
             0.3333333333333333,
             "#9c179e"
            ],
            [
             0.4444444444444444,
             "#bd3786"
            ],
            [
             0.5555555555555556,
             "#d8576b"
            ],
            [
             0.6666666666666666,
             "#ed7953"
            ],
            [
             0.7777777777777778,
             "#fb9f3a"
            ],
            [
             0.8888888888888888,
             "#fdca26"
            ],
            [
             1,
             "#f0f921"
            ]
           ]
          },
          "colorway": [
           "#636efa",
           "#EF553B",
           "#00cc96",
           "#ab63fa",
           "#FFA15A",
           "#19d3f3",
           "#FF6692",
           "#B6E880",
           "#FF97FF",
           "#FECB52"
          ],
          "font": {
           "color": "#2a3f5f"
          },
          "geo": {
           "bgcolor": "white",
           "lakecolor": "white",
           "landcolor": "#E5ECF6",
           "showlakes": true,
           "showland": true,
           "subunitcolor": "white"
          },
          "hoverlabel": {
           "align": "left"
          },
          "hovermode": "closest",
          "mapbox": {
           "style": "light"
          },
          "paper_bgcolor": "white",
          "plot_bgcolor": "#E5ECF6",
          "polar": {
           "angularaxis": {
            "gridcolor": "white",
            "linecolor": "white",
            "ticks": ""
           },
           "bgcolor": "#E5ECF6",
           "radialaxis": {
            "gridcolor": "white",
            "linecolor": "white",
            "ticks": ""
           }
          },
          "scene": {
           "xaxis": {
            "backgroundcolor": "#E5ECF6",
            "gridcolor": "white",
            "gridwidth": 2,
            "linecolor": "white",
            "showbackground": true,
            "ticks": "",
            "zerolinecolor": "white"
           },
           "yaxis": {
            "backgroundcolor": "#E5ECF6",
            "gridcolor": "white",
            "gridwidth": 2,
            "linecolor": "white",
            "showbackground": true,
            "ticks": "",
            "zerolinecolor": "white"
           },
           "zaxis": {
            "backgroundcolor": "#E5ECF6",
            "gridcolor": "white",
            "gridwidth": 2,
            "linecolor": "white",
            "showbackground": true,
            "ticks": "",
            "zerolinecolor": "white"
           }
          },
          "shapedefaults": {
           "line": {
            "color": "#2a3f5f"
           }
          },
          "ternary": {
           "aaxis": {
            "gridcolor": "white",
            "linecolor": "white",
            "ticks": ""
           },
           "baxis": {
            "gridcolor": "white",
            "linecolor": "white",
            "ticks": ""
           },
           "bgcolor": "#E5ECF6",
           "caxis": {
            "gridcolor": "white",
            "linecolor": "white",
            "ticks": ""
           }
          },
          "title": {
           "x": 0.05
          },
          "xaxis": {
           "automargin": true,
           "gridcolor": "white",
           "linecolor": "white",
           "ticks": "",
           "title": {
            "standoff": 15
           },
           "zerolinecolor": "white",
           "zerolinewidth": 2
          },
          "yaxis": {
           "automargin": true,
           "gridcolor": "white",
           "linecolor": "white",
           "ticks": "",
           "title": {
            "standoff": 15
           },
           "zerolinecolor": "white",
           "zerolinewidth": 2
          }
         }
        }
       }
      },
      "text/html": [
       "<div>                            <div id=\"f75d34d4-e062-47d2-8a97-36154eff24d7\" class=\"plotly-graph-div\" style=\"height:525px; width:100%;\"></div>            <script type=\"text/javascript\">                require([\"plotly\"], function(Plotly) {                    window.PLOTLYENV=window.PLOTLYENV || {};                                    if (document.getElementById(\"f75d34d4-e062-47d2-8a97-36154eff24d7\")) {                    Plotly.newPlot(                        \"f75d34d4-e062-47d2-8a97-36154eff24d7\",                        [{\"dimensions\": [{\"label\": \"Acur\\u00e1cia\", \"range\": [0, 1], \"values\": [0.66, 0.575, 0.575, 0.425, 0.65, 0.575, 0.575, 0.575, 0.575, 0.575, 0.575, 0.575, 0.575, 0.575, 0.575, 0.575, 0.575, 0.575, 0.575, 0.575, 0.575, 0.575, 0.575, 0.575, 0.575, 0.575, 0.575, 0.575, 0.575, 0.575, 0.575, 0.575, 0.575, 0.575, 0.575, 0.575, 0.575, 0.575, 0.575, 0.575, 0.575, 0.575, 0.575, 0.575, 0.575, 0.575, 0.575, 0.575, 0.575, 0.575, 0.575, 0.575, 0.575, 0.575, 0.575, 0.575, 0.575, 0.575, 0.575, 0.575, 0.575, 0.575, 0.575, 0.575, 0.575, 0.575, 0.575, 0.575, 0.575, 0.575, 0.575, 0.575, 0.575, 0.575, 0.575, 0.575, 0.575, 0.575, 0.575, 0.575, 0.575, 0.575, 0.575, 0.575, 0.575, 0.575, 0.575, 0.575, 0.575, 0.575, 0.575, 0.575, 0.575, 0.575, 0.575, 0.575, 0.575, 0.575, 0.575, 0.575, 0.575, 0.575, 0.575, 0.575, 0.575, 0.575, 0.575, 0.575, 0.575, 0.575, 0.575, 0.575, 0.575, 0.575, 0.575, 0.575, 0.575, 0.575, 0.575, 0.575, 0.575, 0.575, 0.575, 0.575, 0.575, 0.575, 0.575, 0.575, 0.575, 0.575, 0.575, 0.575, 0.575, 0.575, 0.575, 0.575, 0.575, 0.575, 0.575, 0.575, 0.575, 0.575, 0.575, 0.575, 0.575, 0.575, 0.575, 0.575, 0.575, 0.575]}, {\"label\": \"Igualdade de Oportunidade\", \"range\": [0, 1], \"values\": [0.6034632034632035, 1.0, 1.0, 1.0, 0.9792682926829269, 1.0, 1.0, 1.0, 1.0, 1.0, 1.0, 1.0, 1.0, 1.0, 1.0, 1.0, 1.0, 1.0, 1.0, 1.0, 1.0, 1.0, 1.0, 1.0, 1.0, 1.0, 1.0, 1.0, 1.0, 1.0, 1.0, 1.0, 1.0, 1.0, 1.0, 1.0, 1.0, 1.0, 1.0, 1.0, 1.0, 1.0, 1.0, 1.0, 1.0, 1.0, 1.0, 1.0, 1.0, 1.0, 1.0, 1.0, 1.0, 1.0, 1.0, 1.0, 1.0, 1.0, 1.0, 1.0, 1.0, 1.0, 1.0, 1.0, 1.0, 1.0, 1.0, 1.0, 1.0, 1.0, 1.0, 1.0, 1.0, 1.0, 1.0, 1.0, 1.0, 1.0, 1.0, 1.0, 1.0, 1.0, 1.0, 1.0, 1.0, 1.0, 1.0, 1.0, 1.0, 1.0, 1.0, 1.0, 1.0, 1.0, 1.0, 1.0, 1.0, 1.0, 1.0, 1.0, 1.0, 1.0, 1.0, 1.0, 1.0, 1.0, 1.0, 1.0, 1.0, 1.0, 1.0, 1.0, 1.0, 1.0, 1.0, 1.0, 1.0, 1.0, 1.0, 1.0, 1.0, 1.0, 1.0, 1.0, 1.0, 1.0, 1.0, 1.0, 1.0, 1.0, 1.0, 1.0, 1.0, 1.0, 1.0, 1.0, 1.0, 1.0, 1.0, 1.0, 1.0, 1.0, 1.0, 1.0, 1.0, 1.0, 1.0, 1.0, 1.0, 1.0]}, {\"label\": \"P porcento\", \"range\": [0, 1], \"values\": [0.6000676132521974, 1.0, 1.0, 0.0, 0.9336016096579476, 1.0, 1.0, 1.0, 1.0, 1.0, 1.0, 1.0, 1.0, 1.0, 1.0, 1.0, 1.0, 1.0, 1.0, 1.0, 1.0, 1.0, 1.0, 1.0, 1.0, 1.0, 1.0, 1.0, 1.0, 1.0, 1.0, 1.0, 1.0, 1.0, 1.0, 1.0, 1.0, 1.0, 1.0, 1.0, 1.0, 1.0, 1.0, 1.0, 1.0, 1.0, 1.0, 1.0, 1.0, 1.0, 1.0, 1.0, 1.0, 1.0, 1.0, 1.0, 1.0, 1.0, 1.0, 1.0, 1.0, 1.0, 1.0, 1.0, 1.0, 1.0, 1.0, 1.0, 1.0, 1.0, 1.0, 1.0, 1.0, 1.0, 1.0, 1.0, 1.0, 1.0, 1.0, 1.0, 1.0, 1.0, 1.0, 1.0, 1.0, 1.0, 1.0, 1.0, 1.0, 1.0, 1.0, 1.0, 1.0, 1.0, 1.0, 1.0, 1.0, 1.0, 1.0, 1.0, 1.0, 1.0, 1.0, 1.0, 1.0, 1.0, 1.0, 1.0, 1.0, 1.0, 1.0, 1.0, 1.0, 1.0, 1.0, 1.0, 1.0, 1.0, 1.0, 1.0, 1.0, 1.0, 1.0, 1.0, 1.0, 1.0, 1.0, 1.0, 1.0, 1.0, 1.0, 1.0, 1.0, 1.0, 1.0, 1.0, 1.0, 1.0, 1.0, 1.0, 1.0, 1.0, 1.0, 1.0, 1.0, 1.0, 1.0, 1.0, 1.0, 1.0]}, {\"label\": \"Coeficiente de varia\\u00e7\\u00e3o\", \"range\": [0.5, 2], \"values\": [1.2922986000995553, 2.0383158385786366, 2.0383158385786366, 0.6079187588743281, 1.595654229480993, 2.0383158385786366, 2.0383158385786366, 2.0383158385786366, 2.0383158385786366, 2.0383158385786366, 2.0383158385786366, 2.0383158385786366, 2.0383158385786366, 2.0383158385786366, 2.0383158385786366, 2.0383158385786366, 2.0383158385786366, 2.0383158385786366, 2.0383158385786366, 2.0383158385786366, 2.0383158385786366, 2.0383158385786366, 2.0383158385786366, 2.0383158385786366, 2.0383158385786366, 2.0383158385786366, 2.0383158385786366, 2.0383158385786366, 2.0383158385786366, 2.0383158385786366, 2.0383158385786366, 2.0383158385786366, 2.0383158385786366, 2.0383158385786366, 2.0383158385786366, 2.0383158385786366, 2.0383158385786366, 2.0383158385786366, 2.0383158385786366, 2.0383158385786366, 2.0383158385786366, 2.0383158385786366, 2.0383158385786366, 2.0383158385786366, 2.0383158385786366, 2.0383158385786366, 2.0383158385786366, 2.0383158385786366, 2.0383158385786366, 2.0383158385786366, 2.0383158385786366, 2.0383158385786366, 2.0383158385786366, 2.0383158385786366, 2.0383158385786366, 2.0383158385786366, 2.0383158385786366, 2.0383158385786366, 2.0383158385786366, 2.0383158385786366, 2.0383158385786366, 2.0383158385786366, 2.0383158385786366, 2.0383158385786366, 2.0383158385786366, 2.0383158385786366, 2.0383158385786366, 2.0383158385786366, 2.0383158385786366, 2.0383158385786366, 2.0383158385786366, 2.0383158385786366, 2.0383158385786366, 2.0383158385786366, 2.0383158385786366, 2.0383158385786366, 2.0383158385786366, 2.0383158385786366, 2.0383158385786366, 2.0383158385786366, 2.0383158385786366, 2.0383158385786366, 2.0383158385786366, 2.0383158385786366, 2.0383158385786366, 2.0383158385786366, 2.0383158385786366, 2.0383158385786366, 2.0383158385786366, 2.0383158385786366, 2.0383158385786366, 2.0383158385786366, 2.0383158385786366, 2.0383158385786366, 2.0383158385786366, 2.0383158385786366, 2.0383158385786366, 2.0383158385786366, 2.0383158385786366, 2.0383158385786366, 2.0383158385786366, 2.0383158385786366, 2.0383158385786366, 2.0383158385786366, 2.0383158385786366, 2.0383158385786366, 2.0383158385786366, 2.0383158385786366, 2.0383158385786366, 2.0383158385786366, 2.0383158385786366, 2.0383158385786366, 2.0383158385786366, 2.0383158385786366, 2.0383158385786366, 2.0383158385786366, 2.0383158385786366, 2.0383158385786366, 2.0383158385786366, 2.0383158385786366, 2.0383158385786366, 2.0383158385786366, 2.0383158385786366, 2.0383158385786366, 2.0383158385786366, 2.0383158385786366, 2.0383158385786366, 2.0383158385786366, 2.0383158385786366, 2.0383158385786366, 2.0383158385786366, 2.0383158385786366, 2.0383158385786366, 2.0383158385786366, 2.0383158385786366, 2.0383158385786366, 2.0383158385786366, 2.0383158385786366, 2.0383158385786366, 2.0383158385786366, 2.0383158385786366, 2.0383158385786366, 2.0383158385786366, 2.0383158385786366, 2.0383158385786366, 2.0383158385786366, 2.0383158385786366, 2.0383158385786366, 2.0383158385786366, 2.0383158385786366]}], \"line\": {\"color\": [0, 0, 0, 1, 0, 0, 0, 0, 0, 0, 0, 0, 0, 0, 0, 0, 0, 0, 0, 0, 0, 0, 0, 0, 0, 0, 0, 0, 0, 0, 0, 0, 0, 0, 0, 0, 0, 0, 0, 0, 0, 0, 0, 0, 0, 0, 0, 0, 0, 0, 0, 0, 0, 0, 0, 0, 0, 0, 0, 0, 0, 0, 0, 0, 0, 0, 0, 0, 0, 0, 0, 0, 0, 0, 0, 0, 0, 0, 0, 0, 0, 0, 0, 0, 0, 0, 0, 0, 0, 0, 0, 0, 0, 0, 0, 0, 0, 0, 0, 0, 0, 0, 0, 0, 0, 0, 0, 0, 0, 0, 0, 0, 0, 0, 0, 0, 0, 0, 0, 0, 0, 0, 0, 0, 0, 0, 0, 0, 0, 0, 0, 0, 0, 0, 0, 0, 0, 0, 0, 0, 0, 0, 0, 0, 0, 0, 0, 0, 0, 0], \"colorscale\": [[0.0, \"#0043E0\"], [1.0, \"#7F5EEF\"]]}, \"type\": \"parcoords\"}],                        {\"paper_bgcolor\": \"white\", \"plot_bgcolor\": \"white\", \"template\": {\"data\": {\"bar\": [{\"error_x\": {\"color\": \"#2a3f5f\"}, \"error_y\": {\"color\": \"#2a3f5f\"}, \"marker\": {\"line\": {\"color\": \"#E5ECF6\", \"width\": 0.5}}, \"type\": \"bar\"}], \"barpolar\": [{\"marker\": {\"line\": {\"color\": \"#E5ECF6\", \"width\": 0.5}}, \"type\": \"barpolar\"}], \"carpet\": [{\"aaxis\": {\"endlinecolor\": \"#2a3f5f\", \"gridcolor\": \"white\", \"linecolor\": \"white\", \"minorgridcolor\": \"white\", \"startlinecolor\": \"#2a3f5f\"}, \"baxis\": {\"endlinecolor\": \"#2a3f5f\", \"gridcolor\": \"white\", \"linecolor\": \"white\", \"minorgridcolor\": \"white\", \"startlinecolor\": \"#2a3f5f\"}, \"type\": \"carpet\"}], \"choropleth\": [{\"colorbar\": {\"outlinewidth\": 0, \"ticks\": \"\"}, \"type\": \"choropleth\"}], \"contour\": [{\"colorbar\": {\"outlinewidth\": 0, \"ticks\": \"\"}, \"colorscale\": [[0.0, \"#0d0887\"], [0.1111111111111111, \"#46039f\"], [0.2222222222222222, \"#7201a8\"], [0.3333333333333333, \"#9c179e\"], [0.4444444444444444, \"#bd3786\"], [0.5555555555555556, \"#d8576b\"], [0.6666666666666666, \"#ed7953\"], [0.7777777777777778, \"#fb9f3a\"], [0.8888888888888888, \"#fdca26\"], [1.0, \"#f0f921\"]], \"type\": \"contour\"}], \"contourcarpet\": [{\"colorbar\": {\"outlinewidth\": 0, \"ticks\": \"\"}, \"type\": \"contourcarpet\"}], \"heatmap\": [{\"colorbar\": {\"outlinewidth\": 0, \"ticks\": \"\"}, \"colorscale\": [[0.0, \"#0d0887\"], [0.1111111111111111, \"#46039f\"], [0.2222222222222222, \"#7201a8\"], [0.3333333333333333, \"#9c179e\"], [0.4444444444444444, \"#bd3786\"], [0.5555555555555556, \"#d8576b\"], [0.6666666666666666, \"#ed7953\"], [0.7777777777777778, \"#fb9f3a\"], [0.8888888888888888, \"#fdca26\"], [1.0, \"#f0f921\"]], \"type\": \"heatmap\"}], \"heatmapgl\": [{\"colorbar\": {\"outlinewidth\": 0, \"ticks\": \"\"}, \"colorscale\": [[0.0, \"#0d0887\"], [0.1111111111111111, \"#46039f\"], [0.2222222222222222, \"#7201a8\"], [0.3333333333333333, \"#9c179e\"], [0.4444444444444444, \"#bd3786\"], [0.5555555555555556, \"#d8576b\"], [0.6666666666666666, \"#ed7953\"], [0.7777777777777778, \"#fb9f3a\"], [0.8888888888888888, \"#fdca26\"], [1.0, \"#f0f921\"]], \"type\": \"heatmapgl\"}], \"histogram\": [{\"marker\": {\"colorbar\": {\"outlinewidth\": 0, \"ticks\": \"\"}}, \"type\": \"histogram\"}], \"histogram2d\": [{\"colorbar\": {\"outlinewidth\": 0, \"ticks\": \"\"}, \"colorscale\": [[0.0, \"#0d0887\"], [0.1111111111111111, \"#46039f\"], [0.2222222222222222, \"#7201a8\"], [0.3333333333333333, \"#9c179e\"], [0.4444444444444444, \"#bd3786\"], [0.5555555555555556, \"#d8576b\"], [0.6666666666666666, \"#ed7953\"], [0.7777777777777778, \"#fb9f3a\"], [0.8888888888888888, \"#fdca26\"], [1.0, \"#f0f921\"]], \"type\": \"histogram2d\"}], \"histogram2dcontour\": [{\"colorbar\": {\"outlinewidth\": 0, \"ticks\": \"\"}, \"colorscale\": [[0.0, \"#0d0887\"], [0.1111111111111111, \"#46039f\"], [0.2222222222222222, \"#7201a8\"], [0.3333333333333333, \"#9c179e\"], [0.4444444444444444, \"#bd3786\"], [0.5555555555555556, \"#d8576b\"], [0.6666666666666666, \"#ed7953\"], [0.7777777777777778, \"#fb9f3a\"], [0.8888888888888888, \"#fdca26\"], [1.0, \"#f0f921\"]], \"type\": \"histogram2dcontour\"}], \"mesh3d\": [{\"colorbar\": {\"outlinewidth\": 0, \"ticks\": \"\"}, \"type\": \"mesh3d\"}], \"parcoords\": [{\"line\": {\"colorbar\": {\"outlinewidth\": 0, \"ticks\": \"\"}}, \"type\": \"parcoords\"}], \"pie\": [{\"automargin\": true, \"type\": \"pie\"}], \"scatter\": [{\"marker\": {\"colorbar\": {\"outlinewidth\": 0, \"ticks\": \"\"}}, \"type\": \"scatter\"}], \"scatter3d\": [{\"line\": {\"colorbar\": {\"outlinewidth\": 0, \"ticks\": \"\"}}, \"marker\": {\"colorbar\": {\"outlinewidth\": 0, \"ticks\": \"\"}}, \"type\": \"scatter3d\"}], \"scattercarpet\": [{\"marker\": {\"colorbar\": {\"outlinewidth\": 0, \"ticks\": \"\"}}, \"type\": \"scattercarpet\"}], \"scattergeo\": [{\"marker\": {\"colorbar\": {\"outlinewidth\": 0, \"ticks\": \"\"}}, \"type\": \"scattergeo\"}], \"scattergl\": [{\"marker\": {\"colorbar\": {\"outlinewidth\": 0, \"ticks\": \"\"}}, \"type\": \"scattergl\"}], \"scattermapbox\": [{\"marker\": {\"colorbar\": {\"outlinewidth\": 0, \"ticks\": \"\"}}, \"type\": \"scattermapbox\"}], \"scatterpolar\": [{\"marker\": {\"colorbar\": {\"outlinewidth\": 0, \"ticks\": \"\"}}, \"type\": \"scatterpolar\"}], \"scatterpolargl\": [{\"marker\": {\"colorbar\": {\"outlinewidth\": 0, \"ticks\": \"\"}}, \"type\": \"scatterpolargl\"}], \"scatterternary\": [{\"marker\": {\"colorbar\": {\"outlinewidth\": 0, \"ticks\": \"\"}}, \"type\": \"scatterternary\"}], \"surface\": [{\"colorbar\": {\"outlinewidth\": 0, \"ticks\": \"\"}, \"colorscale\": [[0.0, \"#0d0887\"], [0.1111111111111111, \"#46039f\"], [0.2222222222222222, \"#7201a8\"], [0.3333333333333333, \"#9c179e\"], [0.4444444444444444, \"#bd3786\"], [0.5555555555555556, \"#d8576b\"], [0.6666666666666666, \"#ed7953\"], [0.7777777777777778, \"#fb9f3a\"], [0.8888888888888888, \"#fdca26\"], [1.0, \"#f0f921\"]], \"type\": \"surface\"}], \"table\": [{\"cells\": {\"fill\": {\"color\": \"#EBF0F8\"}, \"line\": {\"color\": \"white\"}}, \"header\": {\"fill\": {\"color\": \"#C8D4E3\"}, \"line\": {\"color\": \"white\"}}, \"type\": \"table\"}]}, \"layout\": {\"annotationdefaults\": {\"arrowcolor\": \"#2a3f5f\", \"arrowhead\": 0, \"arrowwidth\": 1}, \"coloraxis\": {\"colorbar\": {\"outlinewidth\": 0, \"ticks\": \"\"}}, \"colorscale\": {\"diverging\": [[0, \"#8e0152\"], [0.1, \"#c51b7d\"], [0.2, \"#de77ae\"], [0.3, \"#f1b6da\"], [0.4, \"#fde0ef\"], [0.5, \"#f7f7f7\"], [0.6, \"#e6f5d0\"], [0.7, \"#b8e186\"], [0.8, \"#7fbc41\"], [0.9, \"#4d9221\"], [1, \"#276419\"]], \"sequential\": [[0.0, \"#0d0887\"], [0.1111111111111111, \"#46039f\"], [0.2222222222222222, \"#7201a8\"], [0.3333333333333333, \"#9c179e\"], [0.4444444444444444, \"#bd3786\"], [0.5555555555555556, \"#d8576b\"], [0.6666666666666666, \"#ed7953\"], [0.7777777777777778, \"#fb9f3a\"], [0.8888888888888888, \"#fdca26\"], [1.0, \"#f0f921\"]], \"sequentialminus\": [[0.0, \"#0d0887\"], [0.1111111111111111, \"#46039f\"], [0.2222222222222222, \"#7201a8\"], [0.3333333333333333, \"#9c179e\"], [0.4444444444444444, \"#bd3786\"], [0.5555555555555556, \"#d8576b\"], [0.6666666666666666, \"#ed7953\"], [0.7777777777777778, \"#fb9f3a\"], [0.8888888888888888, \"#fdca26\"], [1.0, \"#f0f921\"]]}, \"colorway\": [\"#636efa\", \"#EF553B\", \"#00cc96\", \"#ab63fa\", \"#FFA15A\", \"#19d3f3\", \"#FF6692\", \"#B6E880\", \"#FF97FF\", \"#FECB52\"], \"font\": {\"color\": \"#2a3f5f\"}, \"geo\": {\"bgcolor\": \"white\", \"lakecolor\": \"white\", \"landcolor\": \"#E5ECF6\", \"showlakes\": true, \"showland\": true, \"subunitcolor\": \"white\"}, \"hoverlabel\": {\"align\": \"left\"}, \"hovermode\": \"closest\", \"mapbox\": {\"style\": \"light\"}, \"paper_bgcolor\": \"white\", \"plot_bgcolor\": \"#E5ECF6\", \"polar\": {\"angularaxis\": {\"gridcolor\": \"white\", \"linecolor\": \"white\", \"ticks\": \"\"}, \"bgcolor\": \"#E5ECF6\", \"radialaxis\": {\"gridcolor\": \"white\", \"linecolor\": \"white\", \"ticks\": \"\"}}, \"scene\": {\"xaxis\": {\"backgroundcolor\": \"#E5ECF6\", \"gridcolor\": \"white\", \"gridwidth\": 2, \"linecolor\": \"white\", \"showbackground\": true, \"ticks\": \"\", \"zerolinecolor\": \"white\"}, \"yaxis\": {\"backgroundcolor\": \"#E5ECF6\", \"gridcolor\": \"white\", \"gridwidth\": 2, \"linecolor\": \"white\", \"showbackground\": true, \"ticks\": \"\", \"zerolinecolor\": \"white\"}, \"zaxis\": {\"backgroundcolor\": \"#E5ECF6\", \"gridcolor\": \"white\", \"gridwidth\": 2, \"linecolor\": \"white\", \"showbackground\": true, \"ticks\": \"\", \"zerolinecolor\": \"white\"}}, \"shapedefaults\": {\"line\": {\"color\": \"#2a3f5f\"}}, \"ternary\": {\"aaxis\": {\"gridcolor\": \"white\", \"linecolor\": \"white\", \"ticks\": \"\"}, \"baxis\": {\"gridcolor\": \"white\", \"linecolor\": \"white\", \"ticks\": \"\"}, \"bgcolor\": \"#E5ECF6\", \"caxis\": {\"gridcolor\": \"white\", \"linecolor\": \"white\", \"ticks\": \"\"}}, \"title\": {\"x\": 0.05}, \"xaxis\": {\"automargin\": true, \"gridcolor\": \"white\", \"linecolor\": \"white\", \"ticks\": \"\", \"title\": {\"standoff\": 15}, \"zerolinecolor\": \"white\", \"zerolinewidth\": 2}, \"yaxis\": {\"automargin\": true, \"gridcolor\": \"white\", \"linecolor\": \"white\", \"ticks\": \"\", \"title\": {\"standoff\": 15}, \"zerolinecolor\": \"white\", \"zerolinewidth\": 2}}}},                        {\"responsive\": true}                    ).then(function(){\n",
       "                            \n",
       "var gd = document.getElementById('f75d34d4-e062-47d2-8a97-36154eff24d7');\n",
       "var x = new MutationObserver(function (mutations, observer) {{\n",
       "        var display = window.getComputedStyle(gd).display;\n",
       "        if (!display || display === 'none') {{\n",
       "            console.log([gd, 'removed!']);\n",
       "            Plotly.purge(gd);\n",
       "            observer.disconnect();\n",
       "        }}\n",
       "}});\n",
       "\n",
       "// Listen for the removal of the full notebook cells\n",
       "var notebookContainer = gd.closest('#notebook-container');\n",
       "if (notebookContainer) {{\n",
       "    x.observe(notebookContainer, {childList: true});\n",
       "}}\n",
       "\n",
       "// Listen for the clearing of the current output cell\n",
       "var outputEl = gd.closest('.output');\n",
       "if (outputEl) {{\n",
       "    x.observe(outputEl, {childList: true});\n",
       "}}\n",
       "\n",
       "                        })                };                });            </script>        </div>"
      ]
     },
     "metadata": {},
     "output_type": "display_data"
    }
   ],
   "source": [
    "fig = go.Figure(data=\n",
    "    go.Parcoords(\n",
    "        line = dict(color = new_results2['dominated'], \n",
    "                        colorscale = ['#0043E0', '#7F5EEF']),\n",
    "        dimensions = list([\n",
    "            dict(range = [0,1],\n",
    "                label = 'Acurácia', values = m_metrics2['Acurácia']),\n",
    "            dict(range = [0,1],\n",
    "                label = 'Igualdade de Oportunidade', values = m_metrics2['Igualdade de Oportunidade']),\n",
    "            dict(range = [0,1],\n",
    "                label = 'P porcento', values = m_metrics2['P porcento']),\n",
    "            dict(range = [0.5,2],\n",
    "                label = 'Coeficiente de variação', values = m_metrics2['cv_aux']),\n",
    "        ])\n",
    "    )\n",
    ")\n",
    "\n",
    "fig.update_layout(\n",
    "    plot_bgcolor = 'white',\n",
    "    paper_bgcolor = 'white'\n",
    ")\n",
    "\n",
    "fig.show()"
   ]
  },
  {
   "cell_type": "code",
   "execution_count": null,
   "metadata": {},
   "outputs": [],
   "source": []
  },
  {
   "cell_type": "code",
   "execution_count": null,
   "metadata": {},
   "outputs": [],
   "source": []
  },
  {
   "cell_type": "markdown",
   "metadata": {},
   "source": [
    "## Adult"
   ]
  },
  {
   "cell_type": "code",
   "execution_count": 14,
   "metadata": {},
   "outputs": [],
   "source": [
    "data = pd.read_csv(\"Datasets - Limpos/adult.csv\")\n",
    "fair_feature = \"race\"\n",
    "pred_feature = \"income\""
   ]
  },
  {
   "cell_type": "code",
   "execution_count": 15,
   "metadata": {},
   "outputs": [],
   "source": [
    "X = data.drop([pred_feature], axis=1)\n",
    "y = data[pred_feature]\n",
    "\n",
    "\n",
    "X_tv, X_test, y_tv, y_test = train_test_split(X, y, test_size=5000)\n",
    "X_train, X_val, y_train, y_val = train_test_split(X_tv, y_tv, test_size=5000)"
   ]
  },
  {
   "cell_type": "markdown",
   "metadata": {},
   "source": [
    "### Fair Moo"
   ]
  },
  {
   "cell_type": "code",
   "execution_count": 16,
   "metadata": {},
   "outputs": [],
   "source": [
    "metrics_adult_fair_aux = {\"Acurácia\": [], \"Igualdade de Oportunidade\": [], \"P porcento\": [], \"Coeficiente de variação\": []}"
   ]
  },
  {
   "cell_type": "code",
   "execution_count": 17,
   "metadata": {},
   "outputs": [
    {
     "name": "stderr",
     "output_type": "stream",
     "text": [
      "2020-11-11 09:37:08,829 - moopt.monise - DEBUG: Finding 1th individual minima\n",
      "2020-11-11 09:37:09,166 - moopt.monise - DEBUG: Finding 2th individual minima\n",
      "2020-11-11 09:37:09,465 - moopt.monise - DEBUG: Finding 3th individual minima\n",
      "2020-11-11 09:37:09,675 - moopt.monise - DEBUG: 4th solution - importance: 1.0\n",
      "2020-11-11 09:37:09,968 - moopt.monise - DEBUG: 5th solution - importance: 1.0\n",
      "2020-11-11 09:37:10,215 - moopt.monise - DEBUG: 6th solution - importance: 1.0\n",
      "2020-11-11 09:37:10,514 - moopt.monise - DEBUG: 7th solution - importance: 1.0\n",
      "2020-11-11 09:37:10,757 - moopt.monise - DEBUG: 8th solution - importance: 1.0\n",
      "2020-11-11 09:37:11,063 - moopt.monise - DEBUG: 9th solution - importance: 0.25297094120846686\n",
      "2020-11-11 09:37:11,305 - moopt.monise - DEBUG: 10th solution - importance: 0.24390574461880976\n",
      "2020-11-11 09:37:11,534 - moopt.monise - DEBUG: 11th solution - importance: 0.07533778892009706\n",
      "2020-11-11 09:37:11,760 - moopt.monise - DEBUG: 12th solution - importance: 0.061846241636641\n",
      "2020-11-11 09:37:12,007 - moopt.monise - DEBUG: 13th solution - importance: 0.06012209905971\n",
      "2020-11-11 09:37:12,244 - moopt.monise - DEBUG: 14th solution - importance: 0.03437131841238201\n",
      "2020-11-11 09:37:12,507 - moopt.monise - DEBUG: 15th solution - importance: 0.02021567457987886\n",
      "2020-11-11 09:37:12,763 - moopt.monise - DEBUG: 16th solution - importance: 0.015494176229805205\n",
      "2020-11-11 09:37:13,049 - moopt.monise - DEBUG: 17th solution - importance: 0.015428976704169166\n",
      "2020-11-11 09:37:13,327 - moopt.monise - DEBUG: 18th solution - importance: 0.015186286496459981\n",
      "2020-11-11 09:37:13,566 - moopt.monise - DEBUG: 19th solution - importance: 0.014878674540476493\n",
      "2020-11-11 09:37:13,814 - moopt.monise - DEBUG: 20th solution - importance: 0.003884568646978018\n",
      "2020-11-11 09:37:14,103 - moopt.monise - DEBUG: 21th solution - importance: 0.0038736713233528054\n",
      "2020-11-11 09:37:14,388 - moopt.monise - DEBUG: 22th solution - importance: 0.003862256745102793\n",
      "2020-11-11 09:37:14,716 - moopt.monise - DEBUG: 23th solution - importance: 0.0038522596796405867\n",
      "2020-11-11 09:37:15,083 - moopt.monise - DEBUG: 24th solution - importance: 0.0038012388549155804\n",
      "2020-11-11 09:37:15,366 - moopt.monise - DEBUG: 25th solution - importance: 0.003791973902993743\n",
      "2020-11-11 09:37:15,694 - moopt.monise - DEBUG: 26th solution - importance: 0.0037244522199114333\n",
      "2020-11-11 09:37:16,096 - moopt.monise - DEBUG: 27th solution - importance: 0.0037149832938530745\n",
      "2020-11-11 09:37:16,486 - moopt.monise - DEBUG: 28th solution - importance: 0.002349427749537399\n",
      "2020-11-11 09:37:16,835 - moopt.monise - DEBUG: 29th solution - importance: 0.0012967603000891587\n",
      "2020-11-11 09:37:17,200 - moopt.monise - DEBUG: 30th solution - importance: 0.0010546127268401789\n",
      "2020-11-11 09:37:17,550 - moopt.monise - DEBUG: 31th solution - importance: 0.0009821855141718561\n",
      "2020-11-11 09:37:17,928 - moopt.monise - DEBUG: 32th solution - importance: 0.0009700007369467964\n",
      "2020-11-11 09:37:18,332 - moopt.monise - DEBUG: 33th solution - importance: 0.0009689752054469432\n",
      "2020-11-11 09:37:18,731 - moopt.monise - DEBUG: 34th solution - importance: 0.000968971092976144\n",
      "2020-11-11 09:37:19,073 - moopt.monise - DEBUG: 35th solution - importance: 0.0009678679042347663\n",
      "2020-11-11 09:37:19,472 - moopt.monise - DEBUG: 36th solution - importance: 0.000966700067608557\n",
      "2020-11-11 09:37:19,890 - moopt.monise - DEBUG: 37th solution - importance: 0.0009661572998994604\n",
      "2020-11-11 09:37:20,349 - moopt.monise - DEBUG: 38th solution - importance: 0.0009641297737840682\n",
      "2020-11-11 09:37:20,794 - moopt.monise - DEBUG: 39th solution - importance: 0.000962001983325866\n",
      "2020-11-11 09:37:21,324 - moopt.monise - DEBUG: 40th solution - importance: 0.0009536576201553975\n",
      "2020-11-11 09:37:21,792 - moopt.monise - DEBUG: 41th solution - importance: 0.0009506500925716383\n",
      "2020-11-11 09:37:22,247 - moopt.monise - DEBUG: 42th solution - importance: 0.0009499666179787063\n",
      "2020-11-11 09:37:22,729 - moopt.monise - DEBUG: 43th solution - importance: 0.0009422394360688778\n",
      "2020-11-11 09:37:23,332 - moopt.monise - DEBUG: 44th solution - importance: 0.0009398312184327257\n",
      "2020-11-11 09:37:24,011 - moopt.monise - DEBUG: 45th solution - importance: 0.0009358976134398722\n",
      "2020-11-11 09:37:24,541 - moopt.monise - DEBUG: 46th solution - importance: 0.0009221724831316676\n",
      "2020-11-11 09:37:25,199 - moopt.monise - DEBUG: 47th solution - importance: 0.0009214265647120636\n",
      "2020-11-11 09:37:25,720 - moopt.monise - DEBUG: 48th solution - importance: 0.0005869297217922871\n",
      "2020-11-11 09:37:26,229 - moopt.monise - DEBUG: 49th solution - importance: 0.00039404940847959075\n",
      "2020-11-11 09:37:26,801 - moopt.monise - DEBUG: 50th solution - importance: 0.00036616667638153207\n",
      "2020-11-11 09:37:27,424 - moopt.monise - DEBUG: 51th solution - importance: 0.00035746413533076617\n",
      "2020-11-11 09:37:28,032 - moopt.monise - DEBUG: 52th solution - importance: 0.00033516859611430034\n",
      "2020-11-11 09:37:28,643 - moopt.monise - DEBUG: 53th solution - importance: 0.0003126928953425971\n",
      "2020-11-11 09:37:29,436 - moopt.monise - DEBUG: 54th solution - importance: 0.00024317345220418034\n",
      "2020-11-11 09:37:30,104 - moopt.monise - DEBUG: 55th solution - importance: 0.00024257960793065006\n",
      "2020-11-11 09:37:30,727 - moopt.monise - DEBUG: 56th solution - importance: 0.00024244888784296476\n",
      "2020-11-11 09:37:31,388 - moopt.monise - DEBUG: 57th solution - importance: 0.00024244888784296476\n",
      "2020-11-11 09:37:32,093 - moopt.monise - DEBUG: 58th solution - importance: 0.00024210255433152635\n",
      "2020-11-11 09:37:32,776 - moopt.monise - DEBUG: 59th solution - importance: 0.00024159514067068554\n",
      "2020-11-11 09:37:33,598 - moopt.monise - DEBUG: 60th solution - importance: 0.00024082216865487895\n",
      "2020-11-11 09:37:34,469 - moopt.monise - DEBUG: 61th solution - importance: 0.00023937490905340817\n",
      "2020-11-11 09:37:35,494 - moopt.monise - DEBUG: 62th solution - importance: 0.00022636507604351284\n",
      "2020-11-11 09:37:36,374 - moopt.monise - DEBUG: 63th solution - importance: 0.0001848919491841625\n",
      "2020-11-11 09:37:37,242 - moopt.monise - DEBUG: 64th solution - importance: 0.00016167150225913451\n",
      "2020-11-11 09:37:38,141 - moopt.monise - DEBUG: 65th solution - importance: 0.000160184129590952\n",
      "2020-11-11 09:37:38,879 - moopt.monise - DEBUG: 66th solution - importance: 0.0001188463965612661\n",
      "2020-11-11 09:37:39,771 - moopt.monise - DEBUG: 67th solution - importance: 0.00010375068634851418\n",
      "2020-11-11 09:37:40,905 - moopt.monise - DEBUG: 68th solution - importance: 9.506072485749656e-05\n",
      "2020-11-11 09:37:41,806 - moopt.monise - DEBUG: 69th solution - importance: 9.008290586540157e-05\n",
      "2020-11-11 09:37:42,816 - moopt.monise - DEBUG: 70th solution - importance: 8.987570776483436e-05\n",
      "2020-11-11 09:37:43,870 - moopt.monise - DEBUG: 71th solution - importance: 8.629510613960034e-05\n",
      "2020-11-11 09:37:44,829 - moopt.monise - DEBUG: 72th solution - importance: 8.318645530990722e-05\n",
      "2020-11-11 09:37:45,873 - moopt.monise - DEBUG: 73th solution - importance: 8.305088632862582e-05\n",
      "2020-11-11 09:37:46,942 - moopt.monise - DEBUG: 74th solution - importance: 7.855975174889185e-05\n",
      "2020-11-11 09:37:48,135 - moopt.monise - DEBUG: 75th solution - importance: 8.302587927044081e-05\n",
      "2020-11-11 09:37:49,481 - moopt.monise - DEBUG: 76th solution - importance: 8.302587927044081e-05\n",
      "2020-11-11 09:37:50,787 - moopt.monise - DEBUG: 77th solution - importance: 8.302587927044081e-05\n",
      "2020-11-11 09:37:52,519 - moopt.monise - DEBUG: 78th solution - importance: 8.302587927044081e-05\n",
      "2020-11-11 09:37:54,515 - moopt.monise - DEBUG: 79th solution - importance: 8.302587927044081e-05\n",
      "2020-11-11 09:37:56,134 - moopt.monise - DEBUG: 80th solution - importance: 7.855975174889185e-05\n",
      "2020-11-11 09:37:57,551 - moopt.monise - DEBUG: 81th solution - importance: 7.855975174889185e-05\n",
      "2020-11-11 09:37:58,691 - moopt.monise - DEBUG: 82th solution - importance: 7.855975174889162e-05\n",
      "2020-11-11 09:38:00,141 - moopt.monise - DEBUG: 83th solution - importance: 7.855975174888445e-05\n",
      "2020-11-11 09:38:01,480 - moopt.monise - DEBUG: 84th solution - importance: 7.855975174889162e-05\n",
      "2020-11-11 09:38:03,089 - moopt.monise - DEBUG: 85th solution - importance: 7.855975174889162e-05\n"
     ]
    },
    {
     "name": "stderr",
     "output_type": "stream",
     "text": [
      "2020-11-11 09:38:05,356 - moopt.monise - DEBUG: 86th solution - importance: 7.855975174890816e-05\n",
      "2020-11-11 09:38:07,457 - moopt.monise - DEBUG: 87th solution - importance: 7.855975174890816e-05\n",
      "2020-11-11 09:38:09,711 - moopt.monise - DEBUG: 88th solution - importance: 7.855975174890816e-05\n",
      "2020-11-11 09:38:12,034 - moopt.monise - DEBUG: 89th solution - importance: 7.855975174890816e-05\n",
      "2020-11-11 09:38:14,139 - moopt.monise - DEBUG: 90th solution - importance: 7.855975174890816e-05\n",
      "2020-11-11 09:38:16,554 - moopt.monise - DEBUG: 91th solution - importance: 7.85597517488918e-05\n",
      "2020-11-11 09:38:18,503 - moopt.monise - DEBUG: 92th solution - importance: 7.8559751748892e-05\n",
      "2020-11-11 09:38:20,784 - moopt.monise - DEBUG: 93th solution - importance: 0.00011987265471663516\n",
      "2020-11-11 09:38:23,067 - moopt.monise - DEBUG: 94th solution - importance: 0.00011987265471663516\n",
      "2020-11-11 09:38:25,252 - moopt.monise - DEBUG: 95th solution - importance: 0.00011987265471663516\n",
      "2020-11-11 09:38:27,500 - moopt.monise - DEBUG: 96th solution - importance: 0.00011987265471663516\n",
      "2020-11-11 09:38:29,582 - moopt.monise - DEBUG: 97th solution - importance: 0.00011987265471663516\n",
      "2020-11-11 09:38:31,797 - moopt.monise - DEBUG: 98th solution - importance: 7.855975174997992e-05\n",
      "2020-11-11 09:38:34,090 - moopt.monise - DEBUG: 99th solution - importance: 7.855975174997992e-05\n",
      "2020-11-11 09:38:36,357 - moopt.monise - DEBUG: 100th solution - importance: 7.855975174997992e-05\n",
      "2020-11-11 09:38:38,277 - moopt.monise - DEBUG: 101th solution - importance: 7.855975175062196e-05\n",
      "2020-11-11 09:38:40,540 - moopt.monise - DEBUG: 102th solution - importance: 7.855975175062196e-05\n",
      "2020-11-11 09:38:42,798 - moopt.monise - DEBUG: 103th solution - importance: 7.855975175062196e-05\n",
      "2020-11-11 09:38:45,092 - moopt.monise - DEBUG: 104th solution - importance: 7.855975175062196e-05\n",
      "2020-11-11 09:38:47,457 - moopt.monise - DEBUG: 105th solution - importance: 7.855975175062196e-05\n",
      "2020-11-11 09:38:49,756 - moopt.monise - DEBUG: 106th solution - importance: 7.118251698218042e-05\n",
      "2020-11-11 09:38:52,017 - moopt.monise - DEBUG: 107th solution - importance: 7.855975174886644e-05\n",
      "2020-11-11 09:38:54,301 - moopt.monise - DEBUG: 108th solution - importance: 7.855975174886644e-05\n",
      "2020-11-11 09:38:56,572 - moopt.monise - DEBUG: 109th solution - importance: 7.855975174886644e-05\n",
      "2020-11-11 09:38:58,849 - moopt.monise - DEBUG: 110th solution - importance: 7.855975174889162e-05\n",
      "2020-11-11 09:39:01,097 - moopt.monise - DEBUG: 111th solution - importance: 7.855975174889162e-05\n",
      "2020-11-11 09:39:03,393 - moopt.monise - DEBUG: 112th solution - importance: 7.855975174889162e-05\n",
      "2020-11-11 09:39:05,635 - moopt.monise - DEBUG: 113th solution - importance: 7.855975174889179e-05\n",
      "2020-11-11 09:39:07,864 - moopt.monise - DEBUG: 114th solution - importance: 7.855975174889179e-05\n",
      "2020-11-11 09:39:10,129 - moopt.monise - DEBUG: 115th solution - importance: 7.855975174889179e-05\n",
      "2020-11-11 09:39:12,391 - moopt.monise - DEBUG: 116th solution - importance: 7.855975174889179e-05\n",
      "2020-11-11 09:39:14,709 - moopt.monise - DEBUG: 117th solution - importance: 7.855975174889179e-05\n",
      "2020-11-11 09:39:17,029 - moopt.monise - DEBUG: 118th solution - importance: 7.855975174889162e-05\n",
      "2020-11-11 09:39:19,326 - moopt.monise - DEBUG: 119th solution - importance: 7.855975174889162e-05\n",
      "2020-11-11 09:39:21,615 - moopt.monise - DEBUG: 120th solution - importance: 7.855975174889162e-05\n",
      "2020-11-11 09:39:24,014 - moopt.monise - DEBUG: 121th solution - importance: 7.118251698114246e-05\n",
      "2020-11-11 09:39:26,336 - moopt.monise - DEBUG: 122th solution - importance: 8.318645530990722e-05\n",
      "2020-11-11 09:39:28,707 - moopt.monise - DEBUG: 123th solution - importance: 8.318645530990722e-05\n",
      "2020-11-11 09:39:31,104 - moopt.monise - DEBUG: 124th solution - importance: 8.318645530990722e-05\n",
      "2020-11-11 09:39:33,379 - moopt.monise - DEBUG: 125th solution - importance: 8.318645530990722e-05\n",
      "2020-11-11 09:39:35,646 - moopt.monise - DEBUG: 126th solution - importance: 0.00011727810274028276\n",
      "2020-11-11 09:39:38,135 - moopt.monise - DEBUG: 127th solution - importance: 0.00011727810274028276\n",
      "2020-11-11 09:39:40,515 - moopt.monise - DEBUG: 128th solution - importance: 0.00011727810274028276\n",
      "2020-11-11 09:39:42,917 - moopt.monise - DEBUG: 129th solution - importance: 0.00011727810274028276\n",
      "2020-11-11 09:39:45,302 - moopt.monise - DEBUG: 130th solution - importance: 0.00011727810274028276\n",
      "2020-11-11 09:39:47,665 - moopt.monise - DEBUG: 131th solution - importance: 7.855975174889162e-05\n",
      "2020-11-11 09:39:49,917 - moopt.monise - DEBUG: 132th solution - importance: 7.855975174889162e-05\n",
      "2020-11-11 09:39:52,189 - moopt.monise - DEBUG: 133th solution - importance: 7.855975174889162e-05\n",
      "2020-11-11 09:39:54,460 - moopt.monise - DEBUG: 134th solution - importance: 0.00011834978380232436\n",
      "2020-11-11 09:39:56,687 - moopt.monise - DEBUG: 135th solution - importance: 0.00011834978380232436\n",
      "2020-11-11 09:39:58,956 - moopt.monise - DEBUG: 136th solution - importance: 0.00011834978380232436\n",
      "2020-11-11 09:40:01,235 - moopt.monise - DEBUG: 137th solution - importance: 0.00011834978380232436\n",
      "2020-11-11 09:40:03,507 - moopt.monise - DEBUG: 138th solution - importance: 0.00011834978380232436\n",
      "2020-11-11 09:40:05,811 - moopt.monise - DEBUG: 139th solution - importance: 0.00023904277314520402\n",
      "2020-11-11 09:40:08,031 - moopt.monise - DEBUG: 140th solution - importance: 0.00023904277314520402\n",
      "2020-11-11 09:40:10,372 - moopt.monise - DEBUG: 141th solution - importance: 0.00023904277314520402\n",
      "2020-11-11 09:40:12,615 - moopt.monise - DEBUG: 142th solution - importance: 0.00023904277314520402\n",
      "2020-11-11 09:40:14,893 - moopt.monise - DEBUG: 143th solution - importance: 0.00023904277314520402\n",
      "2020-11-11 09:40:17,172 - moopt.monise - DEBUG: 144th solution - importance: 7.855975174889162e-05\n",
      "2020-11-11 09:40:19,427 - moopt.monise - DEBUG: 145th solution - importance: 7.85597517488746e-05\n",
      "2020-11-11 09:40:21,698 - moopt.monise - DEBUG: 146th solution - importance: 7.855975174887688e-05\n",
      "2020-11-11 09:40:24,005 - moopt.monise - DEBUG: 147th solution - importance: 7.855975174887688e-05\n",
      "2020-11-11 09:40:26,325 - moopt.monise - DEBUG: 148th solution - importance: 7.855975174887688e-05\n",
      "2020-11-11 09:40:28,630 - moopt.monise - DEBUG: 149th solution - importance: 7.855975174887688e-05\n",
      "2020-11-11 09:40:30,907 - moopt.monise - DEBUG: 150th solution - importance: 7.855975174887688e-05\n",
      "/root/anaconda3/envs/py36/lib/python3.6/site-packages/sklego/metrics.py:155: RuntimeWarning:\n",
      "\n",
      "invalid value encountered in double_scalars\n",
      "\n",
      "/root/anaconda3/envs/py36/lib/python3.6/site-packages/sklego/metrics.py:79: RuntimeWarning:\n",
      "\n",
      "No samples with y_hat == 1 for race == 1, returning 0\n",
      "\n"
     ]
    }
   ],
   "source": [
    "moo = monise(weightedScalar=FairScalarization(X_train, y_train, fair_feature),\n",
    "             singleScalar=FairScalarization(X_train, y_train, fair_feature),\n",
    "              nodeTimeLimit=2, targetSize=150,\n",
    "              targetGap=0, nodeGap=0.01, norm=False)\n",
    "\n",
    "moo.optimize()\n",
    "\n",
    "sols = []\n",
    "\n",
    "for solution in moo.solutionsList:\n",
    "    sols.append(solution.x)\n",
    "    metrics_adult_fair_aux[\"Acurácia\"].append(solution.x.score(X_test, y_test))\n",
    "    metrics_adult_fair_aux[\"Igualdade de Oportunidade\"].append(equal_opportunity_score(sensitive_column=fair_feature)(solution.x,\n",
    "                                                                                                            X_test, y_test))\n",
    "    metrics_adult_fair_aux[\"P porcento\"].append(p_percent_score(sensitive_column=fair_feature)(solution.x,X_test))\n",
    "    metrics_adult_fair_aux[\"Coeficiente de variação\"].append(coefficient_of_variation(solution.x, X_test, y_test))"
   ]
  },
  {
   "cell_type": "code",
   "execution_count": 18,
   "metadata": {},
   "outputs": [],
   "source": [
    "metrics_adult_fair = pd.DataFrame(data=metrics_adult_fair_aux, columns=['Acurácia','Igualdade de Oportunidade','P porcento',\n",
    "                                     'Coeficiente de variação'])\n",
    "\n",
    "metrics_adult_fair['cv_aux'] = 1/metrics_adult_fair['Coeficiente de variação']\n",
    "\n",
    "metrics_adult_fair = metrics_adult_fair.drop('Coeficiente de variação', axis=1)\n",
    "dominate_metr = [any([dominate(other, row) for other in metrics_adult_fair.values]) for row in metrics_adult_fair.values]\n",
    "metrics_adult_fair['dominated'] = dominate_metr"
   ]
  },
  {
   "cell_type": "code",
   "execution_count": 22,
   "metadata": {},
   "outputs": [
    {
     "data": {
      "application/vnd.plotly.v1+json": {
       "config": {
        "plotlyServerURL": "https://plot.ly"
       },
       "data": [
        {
         "dimensions": [
          {
           "label": "Acurácia",
           "range": [
            0,
            1
           ],
           "values": [
            0.8006,
            0.7996,
            0.7638,
            0.7984,
            0.799,
            0.799,
            0.7994,
            0.8006,
            0.7994,
            0.798,
            0.798,
            0.801,
            0.7994,
            0.7986,
            0.7988,
            0.8008,
            0.8006,
            0.7998,
            0.7998,
            0.799,
            0.7992,
            0.7982,
            0.799,
            0.7998,
            0.798,
            0.798,
            0.7978,
            0.8006,
            0.8008,
            0.8004,
            0.8008,
            0.8008,
            0.7994,
            0.7994,
            0.7998,
            0.7996,
            0.7994,
            0.7984,
            0.7986,
            0.7988,
            0.7988,
            0.7988,
            0.7984,
            0.7992,
            0.799,
            0.7972,
            0.7994,
            0.7982,
            0.7984,
            0.8006,
            0.8006,
            0.801,
            0.7988,
            0.7964,
            0.7992,
            0.7986,
            0.7994,
            0.7986,
            0.7968,
            0.7974,
            0.7996,
            0.7994,
            0.7988,
            0.7966,
            0.7994,
            0.7982,
            0.7986,
            0.7986,
            0.7966,
            0.7996,
            0.7996,
            0.7996,
            0.7996,
            0.7996,
            0.7984,
            0.7996,
            0.7996,
            0.7996,
            0.7996,
            0.7996,
            0.7972,
            0.7996,
            0.7996,
            0.7996,
            0.7996,
            0.7996,
            0.7996,
            0.7986,
            0.7996,
            0.7996,
            0.7996,
            0.7996,
            0.799,
            0.7996,
            0.7996,
            0.7996,
            0.7996,
            0.7972,
            0.7996,
            0.7996,
            0.7996,
            0.801,
            0.7992,
            0.7996,
            0.7996,
            0.7996,
            0.7996,
            0.7996,
            0.8008,
            0.7996,
            0.7996,
            0.7994,
            0.7996,
            0.7996,
            0.8008,
            0.7996,
            0.8008,
            0.7996,
            0.8008,
            0.8008,
            0.798,
            0.7972,
            0.7992,
            0.7996,
            0.7994,
            0.7996,
            0.7996,
            0.7994,
            0.8008,
            0.7998,
            0.801,
            0.7996,
            0.8008,
            0.7998,
            0.7998,
            0.7996,
            0.7992,
            0.8008,
            0.7986,
            0.7998,
            0.7976,
            0.7998,
            0.801,
            0.8008,
            0.8008,
            0.7998,
            0.7996,
            0.8008,
            0.7992,
            0.801
           ]
          },
          {
           "label": "Igualdade de Oportunidade",
           "range": [
            0,
            1
           ],
           "values": [
            0.7610765643218034,
            0.8745914452181328,
            1,
            0.7435665096049294,
            0.7647621651175506,
            0.7794984460400814,
            0.8631837307152876,
            0.787157069641242,
            0.7546363942902101,
            0.760659992584353,
            0.8272177419354839,
            0.7727138206569991,
            0.7593172564985906,
            0.741714538223597,
            0.7141448131817127,
            0.7633758892895429,
            0.7822830320583242,
            0.804705157181015,
            0.7642639487233372,
            0.7899967416096448,
            0.746829810901001,
            0.7115851543531044,
            0.7219354838709678,
            0.8631837307152876,
            0.757756710169909,
            0.760659992584353,
            0.7779477196885428,
            0.7610765643218034,
            0.7920922236828799,
            0.7847124824684432,
            0.7774689826302729,
            0.7680164722031572,
            0.8124675863499637,
            0.7718060271646859,
            0.7593172564985906,
            0.7494139970978904,
            0.7847124824684433,
            0.7391830892876802,
            0.746829810901001,
            0.7115851543531044,
            0.7298980075901329,
            0.6966044142614601,
            0.7219354838709678,
            0.8707555178268251,
            0.7813154587348136,
            0.8037743241478387,
            0.8707555178268251,
            0.757756710169909,
            0.7491783323189288,
            0.7610765643218034,
            0.7847124824684432,
            0.7633758892895429,
            0.7141448131817127,
            0.7996120865659453,
            0.7546363942902101,
            0.7380381340688332,
            0.7546363942902101,
            0.7272243885147112,
            0.7941290322580646,
            0.771298593879239,
            0.8707555178268251,
            0.7813154587348136,
            0.7847124824684433,
            0.7847124824684433,
            0.7743532417757905,
            0.757756710169909,
            0.7779477196885428,
            0.7785578747628084,
            0.8203812316715543,
            0.7667615433270082,
            0.7617825722664433,
            0.7667615433270082,
            0.7667615433270082,
            0.7667615433270082,
            0.8272177419354839,
            0.7667615433270082,
            0.7667615433270082,
            0.7667615433270082,
            0.8707555178268251,
            0.7593172564985906,
            0.8037743241478387,
            0.7667615433270082,
            0.8707555178268251,
            0.7667615433270082,
            0.7667615433270082,
            0.7667615433270082,
            0.7667615433270082,
            0.6990572467060426,
            0.7617825722664433,
            0.7667615433270082,
            0.7617825722664433,
            0.7667615433270082,
            0.7794984460400814,
            0.7593172564985906,
            0.7617825722664433,
            0.7617825722664433,
            0.7667615433270082,
            0.8037743241478387,
            0.7593172564985906,
            0.7667615433270082,
            0.7667615433270082,
            0.787157069641242,
            0.7593172564985906,
            0.7593172564985906,
            0.8707555178268251,
            0.7617825722664433,
            0.7667615433270082,
            0.7593172564985906,
            0.7633758892895429,
            0.7667615433270082,
            0.7667615433270082,
            0.8124675863499637,
            0.7667615433270082,
            0.7667615433270082,
            0.7633758892895429,
            0.7667615433270082,
            0.7633758892895429,
            0.7617825722664433,
            0.7633758892895429,
            0.7633758892895429,
            0.7755166330645162,
            0.7973183054799845,
            0.746829810901001,
            0.8707555178268251,
            0.8124675863499637,
            0.7667615433270082,
            0.8707555178268251,
            0.7718060271646859,
            0.7633758892895429,
            0.7642639487233372,
            0.787157069641242,
            0.7667615433270082,
            0.7920922236828799,
            0.7593172564985906,
            0.7642639487233372,
            0.7593172564985906,
            0.7593172564985906,
            0.7633758892895429,
            0.7219354838709678,
            0.7642639487233372,
            0.7724990586167944,
            0.7642639487233372,
            0.787157069641242,
            0.7633758892895429,
            0.7633758892895429,
            0.7642639487233372,
            0.7667615433270082,
            0.7633758892895429,
            0.7593172564985906,
            0.787157069641242
           ]
          },
          {
           "label": "P porcento",
           "range": [
            0,
            1
           ],
           "values": [
            0.5149590798320328,
            0.5164177077675176,
            0,
            0.4439790247775038,
            0.48360186680570216,
            0.5403623350480877,
            0.5038221539195294,
            0.5199993358460491,
            0.4927737498922527,
            0.4565208051384502,
            0.489145883696352,
            0.5281914330611215,
            0.5231298232242306,
            0.5199085221303931,
            0.44416205859285807,
            0.5182046202511423,
            0.5350659419512879,
            0.531606463878327,
            0.5303787353243355,
            0.529062892280823,
            0.5065431318344357,
            0.48478102405484735,
            0.428669403233452,
            0.5073577479821226,
            0.45395608151407696,
            0.4565208051384502,
            0.48685844503334996,
            0.5149590798320328,
            0.5257388428642175,
            0.5362291287816168,
            0.531606463878327,
            0.5225961848295417,
            0.5363957113006542,
            0.5353239915977559,
            0.5255240100582088,
            0.4890779467680608,
            0.5265435451747239,
            0.5161227804643951,
            0.502800202288861,
            0.4651556558935361,
            0.43443108876078335,
            0.47373538046878755,
            0.4488497848049199,
            0.5091442189257216,
            0.46928018880293687,
            0.4897223182394285,
            0.5109433151056711,
            0.4552348310394687,
            0.4489121250528094,
            0.5149590798320328,
            0.5373973839641475,
            0.5192955773464079,
            0.44416205859285807,
            0.5464049307528843,
            0.49153562489252345,
            0.44034976844417273,
            0.5154971770941352,
            0.43095564005069703,
            0.47813125745269647,
            0.47721768374556084,
            0.5127551708329963,
            0.4725390790029574,
            0.5228091937905059,
            0.4684300435333663,
            0.5378313639237406,
            0.4552348310394687,
            0.49350497670616017,
            0.5032960604765226,
            0.47253907900295733,
            0.531606463878327,
            0.5267293403565074,
            0.531606463878327,
            0.531606463878327,
            0.531606463878327,
            0.49229151638893304,
            0.531606463878327,
            0.531606463878327,
            0.531606463878327,
            0.5127551708329963,
            0.5243241835512267,
            0.4897223182394285,
            0.531606463878327,
            0.5127551708329963,
            0.531606463878327,
            0.531606463878327,
            0.531606463878327,
            0.531606463878327,
            0.47493775453089104,
            0.5267293403565074,
            0.531606463878327,
            0.5267293403565074,
            0.531606463878327,
            0.5403623350480877,
            0.5243241835512267,
            0.5267293403565074,
            0.5267293403565074,
            0.531606463878327,
            0.4897223182394285,
            0.5243241835512267,
            0.531606463878327,
            0.531606463878327,
            0.5222800346874792,
            0.521940891807812,
            0.5243241835512267,
            0.5127551708329963,
            0.5267293403565074,
            0.531606463878327,
            0.5243241835512267,
            0.5182046202511423,
            0.531606463878327,
            0.531606463878327,
            0.5363957113006542,
            0.531606463878327,
            0.531606463878327,
            0.5182046202511423,
            0.531606463878327,
            0.5182046202511423,
            0.5267293403565074,
            0.5182046202511423,
            0.5182046202511423,
            0.4697917587761959,
            0.48385738029644126,
            0.5065431318344357,
            0.5127551708329963,
            0.5363957113006542,
            0.531606463878327,
            0.5127551708329963,
            0.5353239915977559,
            0.5182046202511423,
            0.5303787353243355,
            0.5222800346874792,
            0.531606463878327,
            0.5257388428642175,
            0.5255240100582088,
            0.5303787353243355,
            0.5243241835512267,
            0.521940891807812,
            0.5182046202511423,
            0.4500372180980546,
            0.5303787353243355,
            0.4643918535029063,
            0.5303787353243355,
            0.5222800346874792,
            0.5182046202511423,
            0.5182046202511423,
            0.5303787353243355,
            0.531606463878327,
            0.5182046202511423,
            0.521940891807812,
            0.5222800346874792
           ]
          },
          {
           "label": "cv_aux",
           "range": [
            1.2,
            1.5
           ],
           "values": [
            1.43722096889781,
            1.4153535588676232,
            1.271554217094541,
            1.4159797462871684,
            1.4138466745416256,
            1.4246866325084657,
            1.4148647914765033,
            1.4346852008397952,
            1.4231758749378263,
            1.413583043638126,
            1.4106346929156615,
            1.4374112901494485,
            1.4277346035263532,
            1.4213049685006596,
            1.4192553197461562,
            1.4376601715221755,
            1.435134858309605,
            1.4303997346412638,
            1.428691190765873,
            1.4238773994048082,
            1.423025175978368,
            1.417296411548617,
            1.4194614862171255,
            1.416434079572115,
            1.4137386354239532,
            1.413583043638126,
            1.4087990192627569,
            1.43722096889781,
            1.4349285851718632,
            1.4342264803079585,
            1.4362715232377548,
            1.4371922334360847,
            1.4283795354107252,
            1.426685276598546,
            1.4291106391164838,
            1.4242541966530486,
            1.425668113035365,
            1.4208051670012296,
            1.420919410190288,
            1.4194292051922266,
            1.4182401634634898,
            1.420500455285449,
            1.4173086245527171,
            1.4138804221450547,
            1.4133053933939312,
            1.408594357728517,
            1.4146641027181026,
            1.4144647992797479,
            1.4156610344891287,
            1.43722096889781,
            1.4349093937663648,
            1.4383381812509808,
            1.4192553197461562,
            1.4195304157104887,
            1.4224664386036676,
            1.417026240293009,
            1.4231758749378256,
            1.4176860778645162,
            1.4075655329078403,
            1.407517187584537,
            1.4154502691954165,
            1.4148647914765022,
            1.4235881846574094,
            1.4072914429486683,
            1.4264792627792033,
            1.4144647992797479,
            1.4118638110479211,
            1.4148886353591088,
            1.4056984815978417,
            1.4277912565724407,
            1.4282102062050204,
            1.4277912565724407,
            1.4277912565724407,
            1.4277912565724407,
            1.4121435520524126,
            1.4277912565724407,
            1.4277912565724407,
            1.4277912565724407,
            1.4154502691954165,
            1.4284216053065018,
            1.408594357728517,
            1.4277912565724407,
            1.4154502691954165,
            1.4277912565724407,
            1.4277912565724407,
            1.4277912565724407,
            1.4277912565724407,
            1.4196111147773247,
            1.4282102062050204,
            1.4277912565724407,
            1.4282102062050204,
            1.4277912565724407,
            1.4246866325084657,
            1.4284216053065018,
            1.4282102062050204,
            1.4282102062050204,
            1.4277912565724407,
            1.408594357728517,
            1.4284216053065018,
            1.4277912565724407,
            1.4277912565724407,
            1.4360590772173516,
            1.4270496256767677,
            1.4284216053065018,
            1.4154502691954165,
            1.4282102062050204,
            1.4277912565724407,
            1.4284216053065018,
            1.4376601715221755,
            1.4277912565724407,
            1.4277912565724407,
            1.4283795354107252,
            1.4277912565724407,
            1.4277912565724407,
            1.4376601715221755,
            1.4277912565724407,
            1.4376601715221755,
            1.4282102062050204,
            1.4376601715221755,
            1.4376601715221755,
            1.4128255827384597,
            1.408878121297059,
            1.423025175978368,
            1.4154502691954165,
            1.4283795354107252,
            1.4277912565724407,
            1.4154502691954165,
            1.426685276598546,
            1.4376601715221755,
            1.428691190765873,
            1.4360590772173516,
            1.4277912565724407,
            1.4349285851718632,
            1.4291106391164838,
            1.428691190765873,
            1.4284216053065018,
            1.4270496256767677,
            1.4376601715221755,
            1.4180240758278695,
            1.428691190765873,
            1.411516771019737,
            1.428691190765873,
            1.4360590772173516,
            1.4376601715221755,
            1.4376601715221755,
            1.428691190765873,
            1.4277912565724407,
            1.4376601715221755,
            1.4270496256767677,
            1.4360590772173516
           ]
          }
         ],
         "line": {
          "color": [
           true,
           false,
           false,
           true,
           true,
           false,
           true,
           true,
           true,
           true,
           true,
           false,
           true,
           true,
           true,
           true,
           false,
           false,
           true,
           true,
           true,
           true,
           true,
           false,
           true,
           true,
           true,
           true,
           false,
           true,
           false,
           true,
           false,
           true,
           true,
           true,
           true,
           true,
           true,
           true,
           true,
           true,
           true,
           true,
           true,
           true,
           true,
           true,
           true,
           true,
           false,
           false,
           true,
           false,
           true,
           true,
           true,
           true,
           true,
           true,
           false,
           true,
           true,
           true,
           false,
           true,
           true,
           true,
           true,
           true,
           true,
           true,
           true,
           true,
           true,
           true,
           true,
           true,
           false,
           true,
           true,
           true,
           false,
           true,
           true,
           true,
           true,
           true,
           true,
           true,
           true,
           true,
           false,
           true,
           true,
           true,
           true,
           true,
           true,
           true,
           true,
           false,
           true,
           true,
           false,
           true,
           true,
           true,
           true,
           true,
           true,
           false,
           true,
           true,
           true,
           true,
           true,
           true,
           true,
           true,
           true,
           true,
           true,
           false,
           false,
           true,
           false,
           true,
           true,
           true,
           false,
           true,
           false,
           true,
           true,
           true,
           true,
           true,
           true,
           true,
           true,
           true,
           false,
           true,
           true,
           true,
           true,
           true,
           true,
           false
          ],
          "colorscale": [
           [
            0,
            "rgba(0.0,0.0,255,0.0)"
           ],
           [
            1,
            "rgba(0.0,0.0,255,0.5)"
           ]
          ]
         },
         "type": "parcoords"
        }
       ],
       "layout": {
        "paper_bgcolor": "white",
        "plot_bgcolor": "white",
        "template": {
         "data": {
          "bar": [
           {
            "error_x": {
             "color": "#2a3f5f"
            },
            "error_y": {
             "color": "#2a3f5f"
            },
            "marker": {
             "line": {
              "color": "#E5ECF6",
              "width": 0.5
             }
            },
            "type": "bar"
           }
          ],
          "barpolar": [
           {
            "marker": {
             "line": {
              "color": "#E5ECF6",
              "width": 0.5
             }
            },
            "type": "barpolar"
           }
          ],
          "carpet": [
           {
            "aaxis": {
             "endlinecolor": "#2a3f5f",
             "gridcolor": "white",
             "linecolor": "white",
             "minorgridcolor": "white",
             "startlinecolor": "#2a3f5f"
            },
            "baxis": {
             "endlinecolor": "#2a3f5f",
             "gridcolor": "white",
             "linecolor": "white",
             "minorgridcolor": "white",
             "startlinecolor": "#2a3f5f"
            },
            "type": "carpet"
           }
          ],
          "choropleth": [
           {
            "colorbar": {
             "outlinewidth": 0,
             "ticks": ""
            },
            "type": "choropleth"
           }
          ],
          "contour": [
           {
            "colorbar": {
             "outlinewidth": 0,
             "ticks": ""
            },
            "colorscale": [
             [
              0,
              "#0d0887"
             ],
             [
              0.1111111111111111,
              "#46039f"
             ],
             [
              0.2222222222222222,
              "#7201a8"
             ],
             [
              0.3333333333333333,
              "#9c179e"
             ],
             [
              0.4444444444444444,
              "#bd3786"
             ],
             [
              0.5555555555555556,
              "#d8576b"
             ],
             [
              0.6666666666666666,
              "#ed7953"
             ],
             [
              0.7777777777777778,
              "#fb9f3a"
             ],
             [
              0.8888888888888888,
              "#fdca26"
             ],
             [
              1,
              "#f0f921"
             ]
            ],
            "type": "contour"
           }
          ],
          "contourcarpet": [
           {
            "colorbar": {
             "outlinewidth": 0,
             "ticks": ""
            },
            "type": "contourcarpet"
           }
          ],
          "heatmap": [
           {
            "colorbar": {
             "outlinewidth": 0,
             "ticks": ""
            },
            "colorscale": [
             [
              0,
              "#0d0887"
             ],
             [
              0.1111111111111111,
              "#46039f"
             ],
             [
              0.2222222222222222,
              "#7201a8"
             ],
             [
              0.3333333333333333,
              "#9c179e"
             ],
             [
              0.4444444444444444,
              "#bd3786"
             ],
             [
              0.5555555555555556,
              "#d8576b"
             ],
             [
              0.6666666666666666,
              "#ed7953"
             ],
             [
              0.7777777777777778,
              "#fb9f3a"
             ],
             [
              0.8888888888888888,
              "#fdca26"
             ],
             [
              1,
              "#f0f921"
             ]
            ],
            "type": "heatmap"
           }
          ],
          "heatmapgl": [
           {
            "colorbar": {
             "outlinewidth": 0,
             "ticks": ""
            },
            "colorscale": [
             [
              0,
              "#0d0887"
             ],
             [
              0.1111111111111111,
              "#46039f"
             ],
             [
              0.2222222222222222,
              "#7201a8"
             ],
             [
              0.3333333333333333,
              "#9c179e"
             ],
             [
              0.4444444444444444,
              "#bd3786"
             ],
             [
              0.5555555555555556,
              "#d8576b"
             ],
             [
              0.6666666666666666,
              "#ed7953"
             ],
             [
              0.7777777777777778,
              "#fb9f3a"
             ],
             [
              0.8888888888888888,
              "#fdca26"
             ],
             [
              1,
              "#f0f921"
             ]
            ],
            "type": "heatmapgl"
           }
          ],
          "histogram": [
           {
            "marker": {
             "colorbar": {
              "outlinewidth": 0,
              "ticks": ""
             }
            },
            "type": "histogram"
           }
          ],
          "histogram2d": [
           {
            "colorbar": {
             "outlinewidth": 0,
             "ticks": ""
            },
            "colorscale": [
             [
              0,
              "#0d0887"
             ],
             [
              0.1111111111111111,
              "#46039f"
             ],
             [
              0.2222222222222222,
              "#7201a8"
             ],
             [
              0.3333333333333333,
              "#9c179e"
             ],
             [
              0.4444444444444444,
              "#bd3786"
             ],
             [
              0.5555555555555556,
              "#d8576b"
             ],
             [
              0.6666666666666666,
              "#ed7953"
             ],
             [
              0.7777777777777778,
              "#fb9f3a"
             ],
             [
              0.8888888888888888,
              "#fdca26"
             ],
             [
              1,
              "#f0f921"
             ]
            ],
            "type": "histogram2d"
           }
          ],
          "histogram2dcontour": [
           {
            "colorbar": {
             "outlinewidth": 0,
             "ticks": ""
            },
            "colorscale": [
             [
              0,
              "#0d0887"
             ],
             [
              0.1111111111111111,
              "#46039f"
             ],
             [
              0.2222222222222222,
              "#7201a8"
             ],
             [
              0.3333333333333333,
              "#9c179e"
             ],
             [
              0.4444444444444444,
              "#bd3786"
             ],
             [
              0.5555555555555556,
              "#d8576b"
             ],
             [
              0.6666666666666666,
              "#ed7953"
             ],
             [
              0.7777777777777778,
              "#fb9f3a"
             ],
             [
              0.8888888888888888,
              "#fdca26"
             ],
             [
              1,
              "#f0f921"
             ]
            ],
            "type": "histogram2dcontour"
           }
          ],
          "mesh3d": [
           {
            "colorbar": {
             "outlinewidth": 0,
             "ticks": ""
            },
            "type": "mesh3d"
           }
          ],
          "parcoords": [
           {
            "line": {
             "colorbar": {
              "outlinewidth": 0,
              "ticks": ""
             }
            },
            "type": "parcoords"
           }
          ],
          "pie": [
           {
            "automargin": true,
            "type": "pie"
           }
          ],
          "scatter": [
           {
            "marker": {
             "colorbar": {
              "outlinewidth": 0,
              "ticks": ""
             }
            },
            "type": "scatter"
           }
          ],
          "scatter3d": [
           {
            "line": {
             "colorbar": {
              "outlinewidth": 0,
              "ticks": ""
             }
            },
            "marker": {
             "colorbar": {
              "outlinewidth": 0,
              "ticks": ""
             }
            },
            "type": "scatter3d"
           }
          ],
          "scattercarpet": [
           {
            "marker": {
             "colorbar": {
              "outlinewidth": 0,
              "ticks": ""
             }
            },
            "type": "scattercarpet"
           }
          ],
          "scattergeo": [
           {
            "marker": {
             "colorbar": {
              "outlinewidth": 0,
              "ticks": ""
             }
            },
            "type": "scattergeo"
           }
          ],
          "scattergl": [
           {
            "marker": {
             "colorbar": {
              "outlinewidth": 0,
              "ticks": ""
             }
            },
            "type": "scattergl"
           }
          ],
          "scattermapbox": [
           {
            "marker": {
             "colorbar": {
              "outlinewidth": 0,
              "ticks": ""
             }
            },
            "type": "scattermapbox"
           }
          ],
          "scatterpolar": [
           {
            "marker": {
             "colorbar": {
              "outlinewidth": 0,
              "ticks": ""
             }
            },
            "type": "scatterpolar"
           }
          ],
          "scatterpolargl": [
           {
            "marker": {
             "colorbar": {
              "outlinewidth": 0,
              "ticks": ""
             }
            },
            "type": "scatterpolargl"
           }
          ],
          "scatterternary": [
           {
            "marker": {
             "colorbar": {
              "outlinewidth": 0,
              "ticks": ""
             }
            },
            "type": "scatterternary"
           }
          ],
          "surface": [
           {
            "colorbar": {
             "outlinewidth": 0,
             "ticks": ""
            },
            "colorscale": [
             [
              0,
              "#0d0887"
             ],
             [
              0.1111111111111111,
              "#46039f"
             ],
             [
              0.2222222222222222,
              "#7201a8"
             ],
             [
              0.3333333333333333,
              "#9c179e"
             ],
             [
              0.4444444444444444,
              "#bd3786"
             ],
             [
              0.5555555555555556,
              "#d8576b"
             ],
             [
              0.6666666666666666,
              "#ed7953"
             ],
             [
              0.7777777777777778,
              "#fb9f3a"
             ],
             [
              0.8888888888888888,
              "#fdca26"
             ],
             [
              1,
              "#f0f921"
             ]
            ],
            "type": "surface"
           }
          ],
          "table": [
           {
            "cells": {
             "fill": {
              "color": "#EBF0F8"
             },
             "line": {
              "color": "white"
             }
            },
            "header": {
             "fill": {
              "color": "#C8D4E3"
             },
             "line": {
              "color": "white"
             }
            },
            "type": "table"
           }
          ]
         },
         "layout": {
          "annotationdefaults": {
           "arrowcolor": "#2a3f5f",
           "arrowhead": 0,
           "arrowwidth": 1
          },
          "coloraxis": {
           "colorbar": {
            "outlinewidth": 0,
            "ticks": ""
           }
          },
          "colorscale": {
           "diverging": [
            [
             0,
             "#8e0152"
            ],
            [
             0.1,
             "#c51b7d"
            ],
            [
             0.2,
             "#de77ae"
            ],
            [
             0.3,
             "#f1b6da"
            ],
            [
             0.4,
             "#fde0ef"
            ],
            [
             0.5,
             "#f7f7f7"
            ],
            [
             0.6,
             "#e6f5d0"
            ],
            [
             0.7,
             "#b8e186"
            ],
            [
             0.8,
             "#7fbc41"
            ],
            [
             0.9,
             "#4d9221"
            ],
            [
             1,
             "#276419"
            ]
           ],
           "sequential": [
            [
             0,
             "#0d0887"
            ],
            [
             0.1111111111111111,
             "#46039f"
            ],
            [
             0.2222222222222222,
             "#7201a8"
            ],
            [
             0.3333333333333333,
             "#9c179e"
            ],
            [
             0.4444444444444444,
             "#bd3786"
            ],
            [
             0.5555555555555556,
             "#d8576b"
            ],
            [
             0.6666666666666666,
             "#ed7953"
            ],
            [
             0.7777777777777778,
             "#fb9f3a"
            ],
            [
             0.8888888888888888,
             "#fdca26"
            ],
            [
             1,
             "#f0f921"
            ]
           ],
           "sequentialminus": [
            [
             0,
             "#0d0887"
            ],
            [
             0.1111111111111111,
             "#46039f"
            ],
            [
             0.2222222222222222,
             "#7201a8"
            ],
            [
             0.3333333333333333,
             "#9c179e"
            ],
            [
             0.4444444444444444,
             "#bd3786"
            ],
            [
             0.5555555555555556,
             "#d8576b"
            ],
            [
             0.6666666666666666,
             "#ed7953"
            ],
            [
             0.7777777777777778,
             "#fb9f3a"
            ],
            [
             0.8888888888888888,
             "#fdca26"
            ],
            [
             1,
             "#f0f921"
            ]
           ]
          },
          "colorway": [
           "#636efa",
           "#EF553B",
           "#00cc96",
           "#ab63fa",
           "#FFA15A",
           "#19d3f3",
           "#FF6692",
           "#B6E880",
           "#FF97FF",
           "#FECB52"
          ],
          "font": {
           "color": "#2a3f5f"
          },
          "geo": {
           "bgcolor": "white",
           "lakecolor": "white",
           "landcolor": "#E5ECF6",
           "showlakes": true,
           "showland": true,
           "subunitcolor": "white"
          },
          "hoverlabel": {
           "align": "left"
          },
          "hovermode": "closest",
          "mapbox": {
           "style": "light"
          },
          "paper_bgcolor": "white",
          "plot_bgcolor": "#E5ECF6",
          "polar": {
           "angularaxis": {
            "gridcolor": "white",
            "linecolor": "white",
            "ticks": ""
           },
           "bgcolor": "#E5ECF6",
           "radialaxis": {
            "gridcolor": "white",
            "linecolor": "white",
            "ticks": ""
           }
          },
          "scene": {
           "xaxis": {
            "backgroundcolor": "#E5ECF6",
            "gridcolor": "white",
            "gridwidth": 2,
            "linecolor": "white",
            "showbackground": true,
            "ticks": "",
            "zerolinecolor": "white"
           },
           "yaxis": {
            "backgroundcolor": "#E5ECF6",
            "gridcolor": "white",
            "gridwidth": 2,
            "linecolor": "white",
            "showbackground": true,
            "ticks": "",
            "zerolinecolor": "white"
           },
           "zaxis": {
            "backgroundcolor": "#E5ECF6",
            "gridcolor": "white",
            "gridwidth": 2,
            "linecolor": "white",
            "showbackground": true,
            "ticks": "",
            "zerolinecolor": "white"
           }
          },
          "shapedefaults": {
           "line": {
            "color": "#2a3f5f"
           }
          },
          "ternary": {
           "aaxis": {
            "gridcolor": "white",
            "linecolor": "white",
            "ticks": ""
           },
           "baxis": {
            "gridcolor": "white",
            "linecolor": "white",
            "ticks": ""
           },
           "bgcolor": "#E5ECF6",
           "caxis": {
            "gridcolor": "white",
            "linecolor": "white",
            "ticks": ""
           }
          },
          "title": {
           "x": 0.05
          },
          "xaxis": {
           "automargin": true,
           "gridcolor": "white",
           "linecolor": "white",
           "ticks": "",
           "title": {
            "standoff": 15
           },
           "zerolinecolor": "white",
           "zerolinewidth": 2
          },
          "yaxis": {
           "automargin": true,
           "gridcolor": "white",
           "linecolor": "white",
           "ticks": "",
           "title": {
            "standoff": 15
           },
           "zerolinecolor": "white",
           "zerolinewidth": 2
          }
         }
        }
       }
      },
      "text/html": [
       "<div>                            <div id=\"4410a82b-cf35-4971-a19b-133071bb5a16\" class=\"plotly-graph-div\" style=\"height:525px; width:100%;\"></div>            <script type=\"text/javascript\">                require([\"plotly\"], function(Plotly) {                    window.PLOTLYENV=window.PLOTLYENV || {};                                    if (document.getElementById(\"4410a82b-cf35-4971-a19b-133071bb5a16\")) {                    Plotly.newPlot(                        \"4410a82b-cf35-4971-a19b-133071bb5a16\",                        [{\"dimensions\": [{\"label\": \"Acur\\u00e1cia\", \"range\": [0, 1], \"values\": [0.8006, 0.7996, 0.7638, 0.7984, 0.799, 0.799, 0.7994, 0.8006, 0.7994, 0.798, 0.798, 0.801, 0.7994, 0.7986, 0.7988, 0.8008, 0.8006, 0.7998, 0.7998, 0.799, 0.7992, 0.7982, 0.799, 0.7998, 0.798, 0.798, 0.7978, 0.8006, 0.8008, 0.8004, 0.8008, 0.8008, 0.7994, 0.7994, 0.7998, 0.7996, 0.7994, 0.7984, 0.7986, 0.7988, 0.7988, 0.7988, 0.7984, 0.7992, 0.799, 0.7972, 0.7994, 0.7982, 0.7984, 0.8006, 0.8006, 0.801, 0.7988, 0.7964, 0.7992, 0.7986, 0.7994, 0.7986, 0.7968, 0.7974, 0.7996, 0.7994, 0.7988, 0.7966, 0.7994, 0.7982, 0.7986, 0.7986, 0.7966, 0.7996, 0.7996, 0.7996, 0.7996, 0.7996, 0.7984, 0.7996, 0.7996, 0.7996, 0.7996, 0.7996, 0.7972, 0.7996, 0.7996, 0.7996, 0.7996, 0.7996, 0.7996, 0.7986, 0.7996, 0.7996, 0.7996, 0.7996, 0.799, 0.7996, 0.7996, 0.7996, 0.7996, 0.7972, 0.7996, 0.7996, 0.7996, 0.801, 0.7992, 0.7996, 0.7996, 0.7996, 0.7996, 0.7996, 0.8008, 0.7996, 0.7996, 0.7994, 0.7996, 0.7996, 0.8008, 0.7996, 0.8008, 0.7996, 0.8008, 0.8008, 0.798, 0.7972, 0.7992, 0.7996, 0.7994, 0.7996, 0.7996, 0.7994, 0.8008, 0.7998, 0.801, 0.7996, 0.8008, 0.7998, 0.7998, 0.7996, 0.7992, 0.8008, 0.7986, 0.7998, 0.7976, 0.7998, 0.801, 0.8008, 0.8008, 0.7998, 0.7996, 0.8008, 0.7992, 0.801]}, {\"label\": \"Igualdade de Oportunidade\", \"range\": [0, 1], \"values\": [0.7610765643218034, 0.8745914452181328, 1.0, 0.7435665096049294, 0.7647621651175506, 0.7794984460400814, 0.8631837307152876, 0.787157069641242, 0.7546363942902101, 0.760659992584353, 0.8272177419354839, 0.7727138206569991, 0.7593172564985906, 0.741714538223597, 0.7141448131817127, 0.7633758892895429, 0.7822830320583242, 0.804705157181015, 0.7642639487233372, 0.7899967416096448, 0.746829810901001, 0.7115851543531044, 0.7219354838709678, 0.8631837307152876, 0.757756710169909, 0.760659992584353, 0.7779477196885428, 0.7610765643218034, 0.7920922236828799, 0.7847124824684432, 0.7774689826302729, 0.7680164722031572, 0.8124675863499637, 0.7718060271646859, 0.7593172564985906, 0.7494139970978904, 0.7847124824684433, 0.7391830892876802, 0.746829810901001, 0.7115851543531044, 0.7298980075901329, 0.6966044142614601, 0.7219354838709678, 0.8707555178268251, 0.7813154587348136, 0.8037743241478387, 0.8707555178268251, 0.757756710169909, 0.7491783323189288, 0.7610765643218034, 0.7847124824684432, 0.7633758892895429, 0.7141448131817127, 0.7996120865659453, 0.7546363942902101, 0.7380381340688332, 0.7546363942902101, 0.7272243885147112, 0.7941290322580646, 0.771298593879239, 0.8707555178268251, 0.7813154587348136, 0.7847124824684433, 0.7847124824684433, 0.7743532417757905, 0.757756710169909, 0.7779477196885428, 0.7785578747628084, 0.8203812316715543, 0.7667615433270082, 0.7617825722664433, 0.7667615433270082, 0.7667615433270082, 0.7667615433270082, 0.8272177419354839, 0.7667615433270082, 0.7667615433270082, 0.7667615433270082, 0.8707555178268251, 0.7593172564985906, 0.8037743241478387, 0.7667615433270082, 0.8707555178268251, 0.7667615433270082, 0.7667615433270082, 0.7667615433270082, 0.7667615433270082, 0.6990572467060426, 0.7617825722664433, 0.7667615433270082, 0.7617825722664433, 0.7667615433270082, 0.7794984460400814, 0.7593172564985906, 0.7617825722664433, 0.7617825722664433, 0.7667615433270082, 0.8037743241478387, 0.7593172564985906, 0.7667615433270082, 0.7667615433270082, 0.787157069641242, 0.7593172564985906, 0.7593172564985906, 0.8707555178268251, 0.7617825722664433, 0.7667615433270082, 0.7593172564985906, 0.7633758892895429, 0.7667615433270082, 0.7667615433270082, 0.8124675863499637, 0.7667615433270082, 0.7667615433270082, 0.7633758892895429, 0.7667615433270082, 0.7633758892895429, 0.7617825722664433, 0.7633758892895429, 0.7633758892895429, 0.7755166330645162, 0.7973183054799845, 0.746829810901001, 0.8707555178268251, 0.8124675863499637, 0.7667615433270082, 0.8707555178268251, 0.7718060271646859, 0.7633758892895429, 0.7642639487233372, 0.787157069641242, 0.7667615433270082, 0.7920922236828799, 0.7593172564985906, 0.7642639487233372, 0.7593172564985906, 0.7593172564985906, 0.7633758892895429, 0.7219354838709678, 0.7642639487233372, 0.7724990586167944, 0.7642639487233372, 0.787157069641242, 0.7633758892895429, 0.7633758892895429, 0.7642639487233372, 0.7667615433270082, 0.7633758892895429, 0.7593172564985906, 0.787157069641242]}, {\"label\": \"P porcento\", \"range\": [0, 1], \"values\": [0.5149590798320328, 0.5164177077675176, 0.0, 0.4439790247775038, 0.48360186680570216, 0.5403623350480877, 0.5038221539195294, 0.5199993358460491, 0.4927737498922527, 0.4565208051384502, 0.489145883696352, 0.5281914330611215, 0.5231298232242306, 0.5199085221303931, 0.44416205859285807, 0.5182046202511423, 0.5350659419512879, 0.531606463878327, 0.5303787353243355, 0.529062892280823, 0.5065431318344357, 0.48478102405484735, 0.428669403233452, 0.5073577479821226, 0.45395608151407696, 0.4565208051384502, 0.48685844503334996, 0.5149590798320328, 0.5257388428642175, 0.5362291287816168, 0.531606463878327, 0.5225961848295417, 0.5363957113006542, 0.5353239915977559, 0.5255240100582088, 0.4890779467680608, 0.5265435451747239, 0.5161227804643951, 0.502800202288861, 0.4651556558935361, 0.43443108876078335, 0.47373538046878755, 0.4488497848049199, 0.5091442189257216, 0.46928018880293687, 0.4897223182394285, 0.5109433151056711, 0.4552348310394687, 0.4489121250528094, 0.5149590798320328, 0.5373973839641475, 0.5192955773464079, 0.44416205859285807, 0.5464049307528843, 0.49153562489252345, 0.44034976844417273, 0.5154971770941352, 0.43095564005069703, 0.47813125745269647, 0.47721768374556084, 0.5127551708329963, 0.4725390790029574, 0.5228091937905059, 0.4684300435333663, 0.5378313639237406, 0.4552348310394687, 0.49350497670616017, 0.5032960604765226, 0.47253907900295733, 0.531606463878327, 0.5267293403565074, 0.531606463878327, 0.531606463878327, 0.531606463878327, 0.49229151638893304, 0.531606463878327, 0.531606463878327, 0.531606463878327, 0.5127551708329963, 0.5243241835512267, 0.4897223182394285, 0.531606463878327, 0.5127551708329963, 0.531606463878327, 0.531606463878327, 0.531606463878327, 0.531606463878327, 0.47493775453089104, 0.5267293403565074, 0.531606463878327, 0.5267293403565074, 0.531606463878327, 0.5403623350480877, 0.5243241835512267, 0.5267293403565074, 0.5267293403565074, 0.531606463878327, 0.4897223182394285, 0.5243241835512267, 0.531606463878327, 0.531606463878327, 0.5222800346874792, 0.521940891807812, 0.5243241835512267, 0.5127551708329963, 0.5267293403565074, 0.531606463878327, 0.5243241835512267, 0.5182046202511423, 0.531606463878327, 0.531606463878327, 0.5363957113006542, 0.531606463878327, 0.531606463878327, 0.5182046202511423, 0.531606463878327, 0.5182046202511423, 0.5267293403565074, 0.5182046202511423, 0.5182046202511423, 0.4697917587761959, 0.48385738029644126, 0.5065431318344357, 0.5127551708329963, 0.5363957113006542, 0.531606463878327, 0.5127551708329963, 0.5353239915977559, 0.5182046202511423, 0.5303787353243355, 0.5222800346874792, 0.531606463878327, 0.5257388428642175, 0.5255240100582088, 0.5303787353243355, 0.5243241835512267, 0.521940891807812, 0.5182046202511423, 0.4500372180980546, 0.5303787353243355, 0.4643918535029063, 0.5303787353243355, 0.5222800346874792, 0.5182046202511423, 0.5182046202511423, 0.5303787353243355, 0.531606463878327, 0.5182046202511423, 0.521940891807812, 0.5222800346874792]}, {\"label\": \"cv_aux\", \"range\": [1.2, 1.5], \"values\": [1.43722096889781, 1.4153535588676232, 1.271554217094541, 1.4159797462871684, 1.4138466745416256, 1.4246866325084657, 1.4148647914765033, 1.4346852008397952, 1.4231758749378263, 1.413583043638126, 1.4106346929156615, 1.4374112901494485, 1.4277346035263532, 1.4213049685006596, 1.4192553197461562, 1.4376601715221755, 1.435134858309605, 1.4303997346412638, 1.428691190765873, 1.4238773994048082, 1.423025175978368, 1.417296411548617, 1.4194614862171255, 1.416434079572115, 1.4137386354239532, 1.413583043638126, 1.4087990192627569, 1.43722096889781, 1.4349285851718632, 1.4342264803079585, 1.4362715232377548, 1.4371922334360847, 1.4283795354107252, 1.426685276598546, 1.4291106391164838, 1.4242541966530486, 1.425668113035365, 1.4208051670012296, 1.420919410190288, 1.4194292051922266, 1.4182401634634898, 1.420500455285449, 1.4173086245527171, 1.4138804221450547, 1.4133053933939312, 1.408594357728517, 1.4146641027181026, 1.4144647992797479, 1.4156610344891287, 1.43722096889781, 1.4349093937663648, 1.4383381812509808, 1.4192553197461562, 1.4195304157104887, 1.4224664386036676, 1.417026240293009, 1.4231758749378256, 1.4176860778645162, 1.4075655329078403, 1.407517187584537, 1.4154502691954165, 1.4148647914765022, 1.4235881846574094, 1.4072914429486683, 1.4264792627792033, 1.4144647992797479, 1.4118638110479211, 1.4148886353591088, 1.4056984815978417, 1.4277912565724407, 1.4282102062050204, 1.4277912565724407, 1.4277912565724407, 1.4277912565724407, 1.4121435520524126, 1.4277912565724407, 1.4277912565724407, 1.4277912565724407, 1.4154502691954165, 1.4284216053065018, 1.408594357728517, 1.4277912565724407, 1.4154502691954165, 1.4277912565724407, 1.4277912565724407, 1.4277912565724407, 1.4277912565724407, 1.4196111147773247, 1.4282102062050204, 1.4277912565724407, 1.4282102062050204, 1.4277912565724407, 1.4246866325084657, 1.4284216053065018, 1.4282102062050204, 1.4282102062050204, 1.4277912565724407, 1.408594357728517, 1.4284216053065018, 1.4277912565724407, 1.4277912565724407, 1.4360590772173516, 1.4270496256767677, 1.4284216053065018, 1.4154502691954165, 1.4282102062050204, 1.4277912565724407, 1.4284216053065018, 1.4376601715221755, 1.4277912565724407, 1.4277912565724407, 1.4283795354107252, 1.4277912565724407, 1.4277912565724407, 1.4376601715221755, 1.4277912565724407, 1.4376601715221755, 1.4282102062050204, 1.4376601715221755, 1.4376601715221755, 1.4128255827384597, 1.408878121297059, 1.423025175978368, 1.4154502691954165, 1.4283795354107252, 1.4277912565724407, 1.4154502691954165, 1.426685276598546, 1.4376601715221755, 1.428691190765873, 1.4360590772173516, 1.4277912565724407, 1.4349285851718632, 1.4291106391164838, 1.428691190765873, 1.4284216053065018, 1.4270496256767677, 1.4376601715221755, 1.4180240758278695, 1.428691190765873, 1.411516771019737, 1.428691190765873, 1.4360590772173516, 1.4376601715221755, 1.4376601715221755, 1.428691190765873, 1.4277912565724407, 1.4376601715221755, 1.4270496256767677, 1.4360590772173516]}], \"line\": {\"color\": [true, false, false, true, true, false, true, true, true, true, true, false, true, true, true, true, false, false, true, true, true, true, true, false, true, true, true, true, false, true, false, true, false, true, true, true, true, true, true, true, true, true, true, true, true, true, true, true, true, true, false, false, true, false, true, true, true, true, true, true, false, true, true, true, false, true, true, true, true, true, true, true, true, true, true, true, true, true, false, true, true, true, false, true, true, true, true, true, true, true, true, true, false, true, true, true, true, true, true, true, true, false, true, true, false, true, true, true, true, true, true, false, true, true, true, true, true, true, true, true, true, true, true, false, false, true, false, true, true, true, false, true, false, true, true, true, true, true, true, true, true, true, false, true, true, true, true, true, true, false], \"colorscale\": [[0.0, \"rgba(0.0,0.0,255,0.0)\"], [1.0, \"rgba(0.0,0.0,255,0.5)\"]]}, \"type\": \"parcoords\"}],                        {\"paper_bgcolor\": \"white\", \"plot_bgcolor\": \"white\", \"template\": {\"data\": {\"bar\": [{\"error_x\": {\"color\": \"#2a3f5f\"}, \"error_y\": {\"color\": \"#2a3f5f\"}, \"marker\": {\"line\": {\"color\": \"#E5ECF6\", \"width\": 0.5}}, \"type\": \"bar\"}], \"barpolar\": [{\"marker\": {\"line\": {\"color\": \"#E5ECF6\", \"width\": 0.5}}, \"type\": \"barpolar\"}], \"carpet\": [{\"aaxis\": {\"endlinecolor\": \"#2a3f5f\", \"gridcolor\": \"white\", \"linecolor\": \"white\", \"minorgridcolor\": \"white\", \"startlinecolor\": \"#2a3f5f\"}, \"baxis\": {\"endlinecolor\": \"#2a3f5f\", \"gridcolor\": \"white\", \"linecolor\": \"white\", \"minorgridcolor\": \"white\", \"startlinecolor\": \"#2a3f5f\"}, \"type\": \"carpet\"}], \"choropleth\": [{\"colorbar\": {\"outlinewidth\": 0, \"ticks\": \"\"}, \"type\": \"choropleth\"}], \"contour\": [{\"colorbar\": {\"outlinewidth\": 0, \"ticks\": \"\"}, \"colorscale\": [[0.0, \"#0d0887\"], [0.1111111111111111, \"#46039f\"], [0.2222222222222222, \"#7201a8\"], [0.3333333333333333, \"#9c179e\"], [0.4444444444444444, \"#bd3786\"], [0.5555555555555556, \"#d8576b\"], [0.6666666666666666, \"#ed7953\"], [0.7777777777777778, \"#fb9f3a\"], [0.8888888888888888, \"#fdca26\"], [1.0, \"#f0f921\"]], \"type\": \"contour\"}], \"contourcarpet\": [{\"colorbar\": {\"outlinewidth\": 0, \"ticks\": \"\"}, \"type\": \"contourcarpet\"}], \"heatmap\": [{\"colorbar\": {\"outlinewidth\": 0, \"ticks\": \"\"}, \"colorscale\": [[0.0, \"#0d0887\"], [0.1111111111111111, \"#46039f\"], [0.2222222222222222, \"#7201a8\"], [0.3333333333333333, \"#9c179e\"], [0.4444444444444444, \"#bd3786\"], [0.5555555555555556, \"#d8576b\"], [0.6666666666666666, \"#ed7953\"], [0.7777777777777778, \"#fb9f3a\"], [0.8888888888888888, \"#fdca26\"], [1.0, \"#f0f921\"]], \"type\": \"heatmap\"}], \"heatmapgl\": [{\"colorbar\": {\"outlinewidth\": 0, \"ticks\": \"\"}, \"colorscale\": [[0.0, \"#0d0887\"], [0.1111111111111111, \"#46039f\"], [0.2222222222222222, \"#7201a8\"], [0.3333333333333333, \"#9c179e\"], [0.4444444444444444, \"#bd3786\"], [0.5555555555555556, \"#d8576b\"], [0.6666666666666666, \"#ed7953\"], [0.7777777777777778, \"#fb9f3a\"], [0.8888888888888888, \"#fdca26\"], [1.0, \"#f0f921\"]], \"type\": \"heatmapgl\"}], \"histogram\": [{\"marker\": {\"colorbar\": {\"outlinewidth\": 0, \"ticks\": \"\"}}, \"type\": \"histogram\"}], \"histogram2d\": [{\"colorbar\": {\"outlinewidth\": 0, \"ticks\": \"\"}, \"colorscale\": [[0.0, \"#0d0887\"], [0.1111111111111111, \"#46039f\"], [0.2222222222222222, \"#7201a8\"], [0.3333333333333333, \"#9c179e\"], [0.4444444444444444, \"#bd3786\"], [0.5555555555555556, \"#d8576b\"], [0.6666666666666666, \"#ed7953\"], [0.7777777777777778, \"#fb9f3a\"], [0.8888888888888888, \"#fdca26\"], [1.0, \"#f0f921\"]], \"type\": \"histogram2d\"}], \"histogram2dcontour\": [{\"colorbar\": {\"outlinewidth\": 0, \"ticks\": \"\"}, \"colorscale\": [[0.0, \"#0d0887\"], [0.1111111111111111, \"#46039f\"], [0.2222222222222222, \"#7201a8\"], [0.3333333333333333, \"#9c179e\"], [0.4444444444444444, \"#bd3786\"], [0.5555555555555556, \"#d8576b\"], [0.6666666666666666, \"#ed7953\"], [0.7777777777777778, \"#fb9f3a\"], [0.8888888888888888, \"#fdca26\"], [1.0, \"#f0f921\"]], \"type\": \"histogram2dcontour\"}], \"mesh3d\": [{\"colorbar\": {\"outlinewidth\": 0, \"ticks\": \"\"}, \"type\": \"mesh3d\"}], \"parcoords\": [{\"line\": {\"colorbar\": {\"outlinewidth\": 0, \"ticks\": \"\"}}, \"type\": \"parcoords\"}], \"pie\": [{\"automargin\": true, \"type\": \"pie\"}], \"scatter\": [{\"marker\": {\"colorbar\": {\"outlinewidth\": 0, \"ticks\": \"\"}}, \"type\": \"scatter\"}], \"scatter3d\": [{\"line\": {\"colorbar\": {\"outlinewidth\": 0, \"ticks\": \"\"}}, \"marker\": {\"colorbar\": {\"outlinewidth\": 0, \"ticks\": \"\"}}, \"type\": \"scatter3d\"}], \"scattercarpet\": [{\"marker\": {\"colorbar\": {\"outlinewidth\": 0, \"ticks\": \"\"}}, \"type\": \"scattercarpet\"}], \"scattergeo\": [{\"marker\": {\"colorbar\": {\"outlinewidth\": 0, \"ticks\": \"\"}}, \"type\": \"scattergeo\"}], \"scattergl\": [{\"marker\": {\"colorbar\": {\"outlinewidth\": 0, \"ticks\": \"\"}}, \"type\": \"scattergl\"}], \"scattermapbox\": [{\"marker\": {\"colorbar\": {\"outlinewidth\": 0, \"ticks\": \"\"}}, \"type\": \"scattermapbox\"}], \"scatterpolar\": [{\"marker\": {\"colorbar\": {\"outlinewidth\": 0, \"ticks\": \"\"}}, \"type\": \"scatterpolar\"}], \"scatterpolargl\": [{\"marker\": {\"colorbar\": {\"outlinewidth\": 0, \"ticks\": \"\"}}, \"type\": \"scatterpolargl\"}], \"scatterternary\": [{\"marker\": {\"colorbar\": {\"outlinewidth\": 0, \"ticks\": \"\"}}, \"type\": \"scatterternary\"}], \"surface\": [{\"colorbar\": {\"outlinewidth\": 0, \"ticks\": \"\"}, \"colorscale\": [[0.0, \"#0d0887\"], [0.1111111111111111, \"#46039f\"], [0.2222222222222222, \"#7201a8\"], [0.3333333333333333, \"#9c179e\"], [0.4444444444444444, \"#bd3786\"], [0.5555555555555556, \"#d8576b\"], [0.6666666666666666, \"#ed7953\"], [0.7777777777777778, \"#fb9f3a\"], [0.8888888888888888, \"#fdca26\"], [1.0, \"#f0f921\"]], \"type\": \"surface\"}], \"table\": [{\"cells\": {\"fill\": {\"color\": \"#EBF0F8\"}, \"line\": {\"color\": \"white\"}}, \"header\": {\"fill\": {\"color\": \"#C8D4E3\"}, \"line\": {\"color\": \"white\"}}, \"type\": \"table\"}]}, \"layout\": {\"annotationdefaults\": {\"arrowcolor\": \"#2a3f5f\", \"arrowhead\": 0, \"arrowwidth\": 1}, \"coloraxis\": {\"colorbar\": {\"outlinewidth\": 0, \"ticks\": \"\"}}, \"colorscale\": {\"diverging\": [[0, \"#8e0152\"], [0.1, \"#c51b7d\"], [0.2, \"#de77ae\"], [0.3, \"#f1b6da\"], [0.4, \"#fde0ef\"], [0.5, \"#f7f7f7\"], [0.6, \"#e6f5d0\"], [0.7, \"#b8e186\"], [0.8, \"#7fbc41\"], [0.9, \"#4d9221\"], [1, \"#276419\"]], \"sequential\": [[0.0, \"#0d0887\"], [0.1111111111111111, \"#46039f\"], [0.2222222222222222, \"#7201a8\"], [0.3333333333333333, \"#9c179e\"], [0.4444444444444444, \"#bd3786\"], [0.5555555555555556, \"#d8576b\"], [0.6666666666666666, \"#ed7953\"], [0.7777777777777778, \"#fb9f3a\"], [0.8888888888888888, \"#fdca26\"], [1.0, \"#f0f921\"]], \"sequentialminus\": [[0.0, \"#0d0887\"], [0.1111111111111111, \"#46039f\"], [0.2222222222222222, \"#7201a8\"], [0.3333333333333333, \"#9c179e\"], [0.4444444444444444, \"#bd3786\"], [0.5555555555555556, \"#d8576b\"], [0.6666666666666666, \"#ed7953\"], [0.7777777777777778, \"#fb9f3a\"], [0.8888888888888888, \"#fdca26\"], [1.0, \"#f0f921\"]]}, \"colorway\": [\"#636efa\", \"#EF553B\", \"#00cc96\", \"#ab63fa\", \"#FFA15A\", \"#19d3f3\", \"#FF6692\", \"#B6E880\", \"#FF97FF\", \"#FECB52\"], \"font\": {\"color\": \"#2a3f5f\"}, \"geo\": {\"bgcolor\": \"white\", \"lakecolor\": \"white\", \"landcolor\": \"#E5ECF6\", \"showlakes\": true, \"showland\": true, \"subunitcolor\": \"white\"}, \"hoverlabel\": {\"align\": \"left\"}, \"hovermode\": \"closest\", \"mapbox\": {\"style\": \"light\"}, \"paper_bgcolor\": \"white\", \"plot_bgcolor\": \"#E5ECF6\", \"polar\": {\"angularaxis\": {\"gridcolor\": \"white\", \"linecolor\": \"white\", \"ticks\": \"\"}, \"bgcolor\": \"#E5ECF6\", \"radialaxis\": {\"gridcolor\": \"white\", \"linecolor\": \"white\", \"ticks\": \"\"}}, \"scene\": {\"xaxis\": {\"backgroundcolor\": \"#E5ECF6\", \"gridcolor\": \"white\", \"gridwidth\": 2, \"linecolor\": \"white\", \"showbackground\": true, \"ticks\": \"\", \"zerolinecolor\": \"white\"}, \"yaxis\": {\"backgroundcolor\": \"#E5ECF6\", \"gridcolor\": \"white\", \"gridwidth\": 2, \"linecolor\": \"white\", \"showbackground\": true, \"ticks\": \"\", \"zerolinecolor\": \"white\"}, \"zaxis\": {\"backgroundcolor\": \"#E5ECF6\", \"gridcolor\": \"white\", \"gridwidth\": 2, \"linecolor\": \"white\", \"showbackground\": true, \"ticks\": \"\", \"zerolinecolor\": \"white\"}}, \"shapedefaults\": {\"line\": {\"color\": \"#2a3f5f\"}}, \"ternary\": {\"aaxis\": {\"gridcolor\": \"white\", \"linecolor\": \"white\", \"ticks\": \"\"}, \"baxis\": {\"gridcolor\": \"white\", \"linecolor\": \"white\", \"ticks\": \"\"}, \"bgcolor\": \"#E5ECF6\", \"caxis\": {\"gridcolor\": \"white\", \"linecolor\": \"white\", \"ticks\": \"\"}}, \"title\": {\"x\": 0.05}, \"xaxis\": {\"automargin\": true, \"gridcolor\": \"white\", \"linecolor\": \"white\", \"ticks\": \"\", \"title\": {\"standoff\": 15}, \"zerolinecolor\": \"white\", \"zerolinewidth\": 2}, \"yaxis\": {\"automargin\": true, \"gridcolor\": \"white\", \"linecolor\": \"white\", \"ticks\": \"\", \"title\": {\"standoff\": 15}, \"zerolinecolor\": \"white\", \"zerolinewidth\": 2}}}},                        {\"responsive\": true}                    ).then(function(){\n",
       "                            \n",
       "var gd = document.getElementById('4410a82b-cf35-4971-a19b-133071bb5a16');\n",
       "var x = new MutationObserver(function (mutations, observer) {{\n",
       "        var display = window.getComputedStyle(gd).display;\n",
       "        if (!display || display === 'none') {{\n",
       "            console.log([gd, 'removed!']);\n",
       "            Plotly.purge(gd);\n",
       "            observer.disconnect();\n",
       "        }}\n",
       "}});\n",
       "\n",
       "// Listen for the removal of the full notebook cells\n",
       "var notebookContainer = gd.closest('#notebook-container');\n",
       "if (notebookContainer) {{\n",
       "    x.observe(notebookContainer, {childList: true});\n",
       "}}\n",
       "\n",
       "// Listen for the clearing of the current output cell\n",
       "var outputEl = gd.closest('.output');\n",
       "if (outputEl) {{\n",
       "    x.observe(outputEl, {childList: true});\n",
       "}}\n",
       "\n",
       "                        })                };                });            </script>        </div>"
      ]
     },
     "metadata": {},
     "output_type": "display_data"
    }
   ],
   "source": [
    "fig = go.Figure(data=\n",
    "    go.Parcoords(\n",
    "        line = dict(color = metrics_adult_fair['dominated'], \n",
    "                        colorscale = ['rgba(0.0,0.0,255,0.0)', 'rgba(0.0,0.0,255,0.5)']),\n",
    "        dimensions = list([\n",
    "            dict(range = [0,1],\n",
    "                label = 'Acurácia', values = metrics_adult_fair['Acurácia']),\n",
    "            dict(range = [0,1],\n",
    "                label = 'Igualdade de Oportunidade', values = metrics_adult_fair['Igualdade de Oportunidade']),\n",
    "            dict(range = [0,1],\n",
    "                label = 'P porcento', values = metrics_adult_fair['P porcento']),\n",
    "            dict(range = [1.2,1.5],\n",
    "                label = 'cv_aux', values = metrics_adult_fair['cv_aux']),\n",
    "        ])\n",
    "    )\n",
    ")\n",
    "\n",
    "fig.update_layout(\n",
    "    plot_bgcolor = 'white',\n",
    "    paper_bgcolor = 'white'\n",
    ")\n",
    "\n",
    "fig.show()"
   ]
  },
  {
   "cell_type": "markdown",
   "metadata": {},
   "source": [
    "### Equal Moo"
   ]
  },
  {
   "cell_type": "code",
   "execution_count": 23,
   "metadata": {},
   "outputs": [],
   "source": [
    "metrics_adult_equal_aux = {\"Acurácia\": [], \"Igualdade de Oportunidade\": [], \"P porcento\": [], \"Coeficiente de variação\": []}"
   ]
  },
  {
   "cell_type": "code",
   "execution_count": 24,
   "metadata": {
    "collapsed": true
   },
   "outputs": [
    {
     "name": "stderr",
     "output_type": "stream",
     "text": [
      "2020-11-11 09:42:39,994 - moopt.monise - DEBUG: Finding 1th individual minima\n",
      "2020-11-11 09:42:40,388 - moopt.monise - DEBUG: Finding 2th individual minima\n",
      "2020-11-11 09:42:40,505 - moopt.monise - DEBUG: Finding 3th individual minima\n",
      "2020-11-11 09:42:40,625 - moopt.monise - DEBUG: Finding 4th individual minima\n",
      "2020-11-11 09:42:41,061 - moopt.monise - DEBUG: 5th solution - importance: 1.0\n",
      "2020-11-11 09:42:41,379 - moopt.monise - DEBUG: 6th solution - importance: 1.0000006622388495\n",
      "2020-11-11 09:42:41,706 - moopt.monise - DEBUG: 7th solution - importance: 1.0000006622388495\n",
      "2020-11-11 09:42:41,802 - moopt.monise - DEBUG: 8th solution - importance: 1.0000006622388495\n",
      "2020-11-11 09:42:41,931 - moopt.monise - DEBUG: 9th solution - importance: 1.0000006622388495\n",
      "2020-11-11 09:42:42,067 - moopt.monise - DEBUG: 10th solution - importance: 1.0000006622388495\n",
      "2020-11-11 09:42:42,193 - moopt.monise - DEBUG: 11th solution - importance: 0.9962161423794477\n",
      "2020-11-11 09:42:42,323 - moopt.monise - DEBUG: 12th solution - importance: 0.015524267791238921\n",
      "2020-11-11 09:42:42,467 - moopt.monise - DEBUG: 13th solution - importance: 1.195793329992755e-05\n",
      "2020-11-11 09:42:42,599 - moopt.monise - DEBUG: 14th solution - importance: 1.195793329992755e-05\n",
      "2020-11-11 09:42:42,735 - moopt.monise - DEBUG: 15th solution - importance: 1.195793329992755e-05\n",
      "2020-11-11 09:42:42,867 - moopt.monise - DEBUG: 16th solution - importance: 1.195793329992755e-05\n",
      "2020-11-11 09:42:43,015 - moopt.monise - DEBUG: 17th solution - importance: 1.195793329992755e-05\n",
      "2020-11-11 09:42:43,161 - moopt.monise - DEBUG: 18th solution - importance: 1.195793329992755e-05\n",
      "2020-11-11 09:42:43,289 - moopt.monise - DEBUG: 19th solution - importance: 1.195793329992755e-05\n",
      "2020-11-11 09:42:43,435 - moopt.monise - DEBUG: 20th solution - importance: 1.195793329992755e-05\n",
      "2020-11-11 09:42:43,561 - moopt.monise - DEBUG: 21th solution - importance: 1.195793329992755e-05\n",
      "2020-11-11 09:42:43,706 - moopt.monise - DEBUG: 22th solution - importance: 1.195793329992755e-05\n",
      "2020-11-11 09:42:43,899 - moopt.monise - DEBUG: 23th solution - importance: 1.195793329992755e-05\n",
      "2020-11-11 09:42:44,054 - moopt.monise - DEBUG: 24th solution - importance: 1.195793329992755e-05\n",
      "2020-11-11 09:42:44,207 - moopt.monise - DEBUG: 25th solution - importance: 1.195793329992755e-05\n",
      "2020-11-11 09:42:44,354 - moopt.monise - DEBUG: 26th solution - importance: 1.195793329992755e-05\n",
      "2020-11-11 09:42:44,712 - moopt.monise - DEBUG: 27th solution - importance: 1.195793329992755e-05\n",
      "2020-11-11 09:42:44,854 - moopt.monise - DEBUG: 28th solution - importance: 1.195793329992755e-05\n",
      "2020-11-11 09:42:44,997 - moopt.monise - DEBUG: 29th solution - importance: 1.195793329992755e-05\n",
      "2020-11-11 09:42:45,150 - moopt.monise - DEBUG: 30th solution - importance: 1.195793329992755e-05\n",
      "2020-11-11 09:42:45,293 - moopt.monise - DEBUG: 31th solution - importance: 1.195793329992755e-05\n",
      "/root/anaconda3/envs/py36/lib/python3.6/site-packages/sklego/metrics.py:155: RuntimeWarning:\n",
      "\n",
      "invalid value encountered in double_scalars\n",
      "\n",
      "/root/anaconda3/envs/py36/lib/python3.6/site-packages/sklego/metrics.py:79: RuntimeWarning:\n",
      "\n",
      "No samples with y_hat == 1 for race == 1, returning 0\n",
      "\n",
      "/root/anaconda3/envs/py36/lib/python3.6/site-packages/sklego/metrics.py:155: RuntimeWarning:\n",
      "\n",
      "invalid value encountered in double_scalars\n",
      "\n",
      "/root/anaconda3/envs/py36/lib/python3.6/site-packages/sklego/metrics.py:79: RuntimeWarning:\n",
      "\n",
      "No samples with y_hat == 1 for race == 1, returning 0\n",
      "\n"
     ]
    }
   ],
   "source": [
    "moo = monise(weightedScalar=EqualScalarization(X_train, y_train, fair_feature),\n",
    "             singleScalar=EqualScalarization(X_train, y_train, fair_feature),\n",
    "              nodeTimeLimit=2, targetSize=150,\n",
    "              targetGap=0, nodeGap=0.01, norm=False)\n",
    "\n",
    "moo.optimize()\n",
    "\n",
    "sols = []\n",
    "\n",
    "for solution in moo.solutionsList:\n",
    "    sols.append(solution.x)\n",
    "    metrics_adult_equal_aux[\"Acurácia\"].append(solution.x.score(X_test, y_test))\n",
    "    metrics_adult_equal_aux[\"Igualdade de Oportunidade\"].append(equal_opportunity_score(sensitive_column=fair_feature)(solution.x,\n",
    "                                                                                                            X_test, y_test))\n",
    "    metrics_adult_equal_aux[\"P porcento\"].append(p_percent_score(sensitive_column=fair_feature)(solution.x,X_test))\n",
    "    metrics_adult_equal_aux[\"Coeficiente de variação\"].append(coefficient_of_variation(solution.x, X_test, y_test))"
   ]
  },
  {
   "cell_type": "code",
   "execution_count": 25,
   "metadata": {},
   "outputs": [],
   "source": [
    "metrics_adult_equal = pd.DataFrame(data=metrics_adult_equal_aux, columns=['Acurácia','Igualdade de Oportunidade','P porcento',\n",
    "                                     'Coeficiente de variação'])\n",
    "\n",
    "metrics_adult_equal['cv_aux'] = 1/metrics_adult_equal['Coeficiente de variação']\n",
    "\n",
    "metrics_adult_equal = metrics_adult_equal.drop('Coeficiente de variação', axis=1)\n",
    "dominate_metr = [any([dominate(other, row) for other in metrics_adult_equal.values]) for row in metrics_adult_equal.values]\n",
    "metrics_adult_equal['dominated'] = dominate_metr"
   ]
  },
  {
   "cell_type": "code",
   "execution_count": 26,
   "metadata": {},
   "outputs": [
    {
     "data": {
      "application/vnd.plotly.v1+json": {
       "config": {
        "plotlyServerURL": "https://plot.ly"
       },
       "data": [
        {
         "dimensions": [
          {
           "label": "Acurácia",
           "range": [
            0,
            1
           ],
           "values": [
            0.8006,
            0.2362,
            0.2362,
            0.7638,
            0.7968,
            0.2362,
            0.2362,
            0.7638,
            0.2362,
            0.2362,
            0.2362,
            0.2362,
            0.2362,
            0.2362,
            0.2362,
            0.2362,
            0.2362,
            0.2362,
            0.2362,
            0.2362,
            0.2362,
            0.2362,
            0.2362,
            0.2362,
            0.2362,
            0.2362,
            0.2362,
            0.2362,
            0.2362,
            0.2362,
            0.2362
           ]
          },
          {
           "label": "Igualdade de Oportunidade",
           "range": [
            0,
            1
           ],
           "values": [
            0.7798685782556749,
            1,
            1,
            1,
            0.7491783323189288,
            1,
            1,
            1,
            1,
            1,
            1,
            1,
            1,
            1,
            1,
            1,
            1,
            1,
            1,
            1,
            1,
            1,
            1,
            1,
            1,
            1,
            1,
            1,
            1,
            1,
            1
           ]
          },
          {
           "label": "P porcento",
           "range": [
            0,
            1
           ],
           "values": [
            0.5327546419860556,
            1,
            1,
            0,
            0.43915316581253094,
            1,
            1,
            0,
            1,
            1,
            1,
            1,
            1,
            1,
            1,
            1,
            1,
            1,
            1,
            1,
            1,
            1,
            1,
            1,
            1,
            1,
            1,
            1,
            1,
            1,
            1
           ]
          },
          {
           "label": "cv_aux",
           "range": [
            1.2,
            3
           ],
           "values": [
            1.435361592664516,
            2.936328002240554,
            2.936328002240554,
            1.271554217094541,
            1.4099234752931706,
            2.936328002240554,
            2.936328002240554,
            1.271554217094541,
            2.936328002240554,
            2.936328002240554,
            2.936328002240554,
            2.936328002240554,
            2.936328002240554,
            2.936328002240554,
            2.936328002240554,
            2.936328002240554,
            2.936328002240554,
            2.936328002240554,
            2.936328002240554,
            2.936328002240554,
            2.936328002240554,
            2.936328002240554,
            2.936328002240554,
            2.936328002240554,
            2.936328002240554,
            2.936328002240554,
            2.936328002240554,
            2.936328002240554,
            2.936328002240554,
            2.936328002240554,
            2.936328002240554
           ]
          }
         ],
         "type": "parcoords"
        }
       ],
       "layout": {
        "paper_bgcolor": "white",
        "plot_bgcolor": "white",
        "template": {
         "data": {
          "bar": [
           {
            "error_x": {
             "color": "#2a3f5f"
            },
            "error_y": {
             "color": "#2a3f5f"
            },
            "marker": {
             "line": {
              "color": "#E5ECF6",
              "width": 0.5
             }
            },
            "type": "bar"
           }
          ],
          "barpolar": [
           {
            "marker": {
             "line": {
              "color": "#E5ECF6",
              "width": 0.5
             }
            },
            "type": "barpolar"
           }
          ],
          "carpet": [
           {
            "aaxis": {
             "endlinecolor": "#2a3f5f",
             "gridcolor": "white",
             "linecolor": "white",
             "minorgridcolor": "white",
             "startlinecolor": "#2a3f5f"
            },
            "baxis": {
             "endlinecolor": "#2a3f5f",
             "gridcolor": "white",
             "linecolor": "white",
             "minorgridcolor": "white",
             "startlinecolor": "#2a3f5f"
            },
            "type": "carpet"
           }
          ],
          "choropleth": [
           {
            "colorbar": {
             "outlinewidth": 0,
             "ticks": ""
            },
            "type": "choropleth"
           }
          ],
          "contour": [
           {
            "colorbar": {
             "outlinewidth": 0,
             "ticks": ""
            },
            "colorscale": [
             [
              0,
              "#0d0887"
             ],
             [
              0.1111111111111111,
              "#46039f"
             ],
             [
              0.2222222222222222,
              "#7201a8"
             ],
             [
              0.3333333333333333,
              "#9c179e"
             ],
             [
              0.4444444444444444,
              "#bd3786"
             ],
             [
              0.5555555555555556,
              "#d8576b"
             ],
             [
              0.6666666666666666,
              "#ed7953"
             ],
             [
              0.7777777777777778,
              "#fb9f3a"
             ],
             [
              0.8888888888888888,
              "#fdca26"
             ],
             [
              1,
              "#f0f921"
             ]
            ],
            "type": "contour"
           }
          ],
          "contourcarpet": [
           {
            "colorbar": {
             "outlinewidth": 0,
             "ticks": ""
            },
            "type": "contourcarpet"
           }
          ],
          "heatmap": [
           {
            "colorbar": {
             "outlinewidth": 0,
             "ticks": ""
            },
            "colorscale": [
             [
              0,
              "#0d0887"
             ],
             [
              0.1111111111111111,
              "#46039f"
             ],
             [
              0.2222222222222222,
              "#7201a8"
             ],
             [
              0.3333333333333333,
              "#9c179e"
             ],
             [
              0.4444444444444444,
              "#bd3786"
             ],
             [
              0.5555555555555556,
              "#d8576b"
             ],
             [
              0.6666666666666666,
              "#ed7953"
             ],
             [
              0.7777777777777778,
              "#fb9f3a"
             ],
             [
              0.8888888888888888,
              "#fdca26"
             ],
             [
              1,
              "#f0f921"
             ]
            ],
            "type": "heatmap"
           }
          ],
          "heatmapgl": [
           {
            "colorbar": {
             "outlinewidth": 0,
             "ticks": ""
            },
            "colorscale": [
             [
              0,
              "#0d0887"
             ],
             [
              0.1111111111111111,
              "#46039f"
             ],
             [
              0.2222222222222222,
              "#7201a8"
             ],
             [
              0.3333333333333333,
              "#9c179e"
             ],
             [
              0.4444444444444444,
              "#bd3786"
             ],
             [
              0.5555555555555556,
              "#d8576b"
             ],
             [
              0.6666666666666666,
              "#ed7953"
             ],
             [
              0.7777777777777778,
              "#fb9f3a"
             ],
             [
              0.8888888888888888,
              "#fdca26"
             ],
             [
              1,
              "#f0f921"
             ]
            ],
            "type": "heatmapgl"
           }
          ],
          "histogram": [
           {
            "marker": {
             "colorbar": {
              "outlinewidth": 0,
              "ticks": ""
             }
            },
            "type": "histogram"
           }
          ],
          "histogram2d": [
           {
            "colorbar": {
             "outlinewidth": 0,
             "ticks": ""
            },
            "colorscale": [
             [
              0,
              "#0d0887"
             ],
             [
              0.1111111111111111,
              "#46039f"
             ],
             [
              0.2222222222222222,
              "#7201a8"
             ],
             [
              0.3333333333333333,
              "#9c179e"
             ],
             [
              0.4444444444444444,
              "#bd3786"
             ],
             [
              0.5555555555555556,
              "#d8576b"
             ],
             [
              0.6666666666666666,
              "#ed7953"
             ],
             [
              0.7777777777777778,
              "#fb9f3a"
             ],
             [
              0.8888888888888888,
              "#fdca26"
             ],
             [
              1,
              "#f0f921"
             ]
            ],
            "type": "histogram2d"
           }
          ],
          "histogram2dcontour": [
           {
            "colorbar": {
             "outlinewidth": 0,
             "ticks": ""
            },
            "colorscale": [
             [
              0,
              "#0d0887"
             ],
             [
              0.1111111111111111,
              "#46039f"
             ],
             [
              0.2222222222222222,
              "#7201a8"
             ],
             [
              0.3333333333333333,
              "#9c179e"
             ],
             [
              0.4444444444444444,
              "#bd3786"
             ],
             [
              0.5555555555555556,
              "#d8576b"
             ],
             [
              0.6666666666666666,
              "#ed7953"
             ],
             [
              0.7777777777777778,
              "#fb9f3a"
             ],
             [
              0.8888888888888888,
              "#fdca26"
             ],
             [
              1,
              "#f0f921"
             ]
            ],
            "type": "histogram2dcontour"
           }
          ],
          "mesh3d": [
           {
            "colorbar": {
             "outlinewidth": 0,
             "ticks": ""
            },
            "type": "mesh3d"
           }
          ],
          "parcoords": [
           {
            "line": {
             "colorbar": {
              "outlinewidth": 0,
              "ticks": ""
             }
            },
            "type": "parcoords"
           }
          ],
          "pie": [
           {
            "automargin": true,
            "type": "pie"
           }
          ],
          "scatter": [
           {
            "marker": {
             "colorbar": {
              "outlinewidth": 0,
              "ticks": ""
             }
            },
            "type": "scatter"
           }
          ],
          "scatter3d": [
           {
            "line": {
             "colorbar": {
              "outlinewidth": 0,
              "ticks": ""
             }
            },
            "marker": {
             "colorbar": {
              "outlinewidth": 0,
              "ticks": ""
             }
            },
            "type": "scatter3d"
           }
          ],
          "scattercarpet": [
           {
            "marker": {
             "colorbar": {
              "outlinewidth": 0,
              "ticks": ""
             }
            },
            "type": "scattercarpet"
           }
          ],
          "scattergeo": [
           {
            "marker": {
             "colorbar": {
              "outlinewidth": 0,
              "ticks": ""
             }
            },
            "type": "scattergeo"
           }
          ],
          "scattergl": [
           {
            "marker": {
             "colorbar": {
              "outlinewidth": 0,
              "ticks": ""
             }
            },
            "type": "scattergl"
           }
          ],
          "scattermapbox": [
           {
            "marker": {
             "colorbar": {
              "outlinewidth": 0,
              "ticks": ""
             }
            },
            "type": "scattermapbox"
           }
          ],
          "scatterpolar": [
           {
            "marker": {
             "colorbar": {
              "outlinewidth": 0,
              "ticks": ""
             }
            },
            "type": "scatterpolar"
           }
          ],
          "scatterpolargl": [
           {
            "marker": {
             "colorbar": {
              "outlinewidth": 0,
              "ticks": ""
             }
            },
            "type": "scatterpolargl"
           }
          ],
          "scatterternary": [
           {
            "marker": {
             "colorbar": {
              "outlinewidth": 0,
              "ticks": ""
             }
            },
            "type": "scatterternary"
           }
          ],
          "surface": [
           {
            "colorbar": {
             "outlinewidth": 0,
             "ticks": ""
            },
            "colorscale": [
             [
              0,
              "#0d0887"
             ],
             [
              0.1111111111111111,
              "#46039f"
             ],
             [
              0.2222222222222222,
              "#7201a8"
             ],
             [
              0.3333333333333333,
              "#9c179e"
             ],
             [
              0.4444444444444444,
              "#bd3786"
             ],
             [
              0.5555555555555556,
              "#d8576b"
             ],
             [
              0.6666666666666666,
              "#ed7953"
             ],
             [
              0.7777777777777778,
              "#fb9f3a"
             ],
             [
              0.8888888888888888,
              "#fdca26"
             ],
             [
              1,
              "#f0f921"
             ]
            ],
            "type": "surface"
           }
          ],
          "table": [
           {
            "cells": {
             "fill": {
              "color": "#EBF0F8"
             },
             "line": {
              "color": "white"
             }
            },
            "header": {
             "fill": {
              "color": "#C8D4E3"
             },
             "line": {
              "color": "white"
             }
            },
            "type": "table"
           }
          ]
         },
         "layout": {
          "annotationdefaults": {
           "arrowcolor": "#2a3f5f",
           "arrowhead": 0,
           "arrowwidth": 1
          },
          "coloraxis": {
           "colorbar": {
            "outlinewidth": 0,
            "ticks": ""
           }
          },
          "colorscale": {
           "diverging": [
            [
             0,
             "#8e0152"
            ],
            [
             0.1,
             "#c51b7d"
            ],
            [
             0.2,
             "#de77ae"
            ],
            [
             0.3,
             "#f1b6da"
            ],
            [
             0.4,
             "#fde0ef"
            ],
            [
             0.5,
             "#f7f7f7"
            ],
            [
             0.6,
             "#e6f5d0"
            ],
            [
             0.7,
             "#b8e186"
            ],
            [
             0.8,
             "#7fbc41"
            ],
            [
             0.9,
             "#4d9221"
            ],
            [
             1,
             "#276419"
            ]
           ],
           "sequential": [
            [
             0,
             "#0d0887"
            ],
            [
             0.1111111111111111,
             "#46039f"
            ],
            [
             0.2222222222222222,
             "#7201a8"
            ],
            [
             0.3333333333333333,
             "#9c179e"
            ],
            [
             0.4444444444444444,
             "#bd3786"
            ],
            [
             0.5555555555555556,
             "#d8576b"
            ],
            [
             0.6666666666666666,
             "#ed7953"
            ],
            [
             0.7777777777777778,
             "#fb9f3a"
            ],
            [
             0.8888888888888888,
             "#fdca26"
            ],
            [
             1,
             "#f0f921"
            ]
           ],
           "sequentialminus": [
            [
             0,
             "#0d0887"
            ],
            [
             0.1111111111111111,
             "#46039f"
            ],
            [
             0.2222222222222222,
             "#7201a8"
            ],
            [
             0.3333333333333333,
             "#9c179e"
            ],
            [
             0.4444444444444444,
             "#bd3786"
            ],
            [
             0.5555555555555556,
             "#d8576b"
            ],
            [
             0.6666666666666666,
             "#ed7953"
            ],
            [
             0.7777777777777778,
             "#fb9f3a"
            ],
            [
             0.8888888888888888,
             "#fdca26"
            ],
            [
             1,
             "#f0f921"
            ]
           ]
          },
          "colorway": [
           "#636efa",
           "#EF553B",
           "#00cc96",
           "#ab63fa",
           "#FFA15A",
           "#19d3f3",
           "#FF6692",
           "#B6E880",
           "#FF97FF",
           "#FECB52"
          ],
          "font": {
           "color": "#2a3f5f"
          },
          "geo": {
           "bgcolor": "white",
           "lakecolor": "white",
           "landcolor": "#E5ECF6",
           "showlakes": true,
           "showland": true,
           "subunitcolor": "white"
          },
          "hoverlabel": {
           "align": "left"
          },
          "hovermode": "closest",
          "mapbox": {
           "style": "light"
          },
          "paper_bgcolor": "white",
          "plot_bgcolor": "#E5ECF6",
          "polar": {
           "angularaxis": {
            "gridcolor": "white",
            "linecolor": "white",
            "ticks": ""
           },
           "bgcolor": "#E5ECF6",
           "radialaxis": {
            "gridcolor": "white",
            "linecolor": "white",
            "ticks": ""
           }
          },
          "scene": {
           "xaxis": {
            "backgroundcolor": "#E5ECF6",
            "gridcolor": "white",
            "gridwidth": 2,
            "linecolor": "white",
            "showbackground": true,
            "ticks": "",
            "zerolinecolor": "white"
           },
           "yaxis": {
            "backgroundcolor": "#E5ECF6",
            "gridcolor": "white",
            "gridwidth": 2,
            "linecolor": "white",
            "showbackground": true,
            "ticks": "",
            "zerolinecolor": "white"
           },
           "zaxis": {
            "backgroundcolor": "#E5ECF6",
            "gridcolor": "white",
            "gridwidth": 2,
            "linecolor": "white",
            "showbackground": true,
            "ticks": "",
            "zerolinecolor": "white"
           }
          },
          "shapedefaults": {
           "line": {
            "color": "#2a3f5f"
           }
          },
          "ternary": {
           "aaxis": {
            "gridcolor": "white",
            "linecolor": "white",
            "ticks": ""
           },
           "baxis": {
            "gridcolor": "white",
            "linecolor": "white",
            "ticks": ""
           },
           "bgcolor": "#E5ECF6",
           "caxis": {
            "gridcolor": "white",
            "linecolor": "white",
            "ticks": ""
           }
          },
          "title": {
           "x": 0.05
          },
          "xaxis": {
           "automargin": true,
           "gridcolor": "white",
           "linecolor": "white",
           "ticks": "",
           "title": {
            "standoff": 15
           },
           "zerolinecolor": "white",
           "zerolinewidth": 2
          },
          "yaxis": {
           "automargin": true,
           "gridcolor": "white",
           "linecolor": "white",
           "ticks": "",
           "title": {
            "standoff": 15
           },
           "zerolinecolor": "white",
           "zerolinewidth": 2
          }
         }
        }
       }
      },
      "text/html": [
       "<div>                            <div id=\"d5bf5fdc-4535-4b51-84d2-77a847c61354\" class=\"plotly-graph-div\" style=\"height:525px; width:100%;\"></div>            <script type=\"text/javascript\">                require([\"plotly\"], function(Plotly) {                    window.PLOTLYENV=window.PLOTLYENV || {};                                    if (document.getElementById(\"d5bf5fdc-4535-4b51-84d2-77a847c61354\")) {                    Plotly.newPlot(                        \"d5bf5fdc-4535-4b51-84d2-77a847c61354\",                        [{\"dimensions\": [{\"label\": \"Acur\\u00e1cia\", \"range\": [0, 1], \"values\": [0.8006, 0.2362, 0.2362, 0.7638, 0.7968, 0.2362, 0.2362, 0.7638, 0.2362, 0.2362, 0.2362, 0.2362, 0.2362, 0.2362, 0.2362, 0.2362, 0.2362, 0.2362, 0.2362, 0.2362, 0.2362, 0.2362, 0.2362, 0.2362, 0.2362, 0.2362, 0.2362, 0.2362, 0.2362, 0.2362, 0.2362]}, {\"label\": \"Igualdade de Oportunidade\", \"range\": [0, 1], \"values\": [0.7798685782556749, 1.0, 1.0, 1.0, 0.7491783323189288, 1.0, 1.0, 1.0, 1.0, 1.0, 1.0, 1.0, 1.0, 1.0, 1.0, 1.0, 1.0, 1.0, 1.0, 1.0, 1.0, 1.0, 1.0, 1.0, 1.0, 1.0, 1.0, 1.0, 1.0, 1.0, 1.0]}, {\"label\": \"P porcento\", \"range\": [0, 1], \"values\": [0.5327546419860556, 1.0, 1.0, 0.0, 0.43915316581253094, 1.0, 1.0, 0.0, 1.0, 1.0, 1.0, 1.0, 1.0, 1.0, 1.0, 1.0, 1.0, 1.0, 1.0, 1.0, 1.0, 1.0, 1.0, 1.0, 1.0, 1.0, 1.0, 1.0, 1.0, 1.0, 1.0]}, {\"label\": \"cv_aux\", \"range\": [1.2, 3], \"values\": [1.435361592664516, 2.936328002240554, 2.936328002240554, 1.271554217094541, 1.4099234752931706, 2.936328002240554, 2.936328002240554, 1.271554217094541, 2.936328002240554, 2.936328002240554, 2.936328002240554, 2.936328002240554, 2.936328002240554, 2.936328002240554, 2.936328002240554, 2.936328002240554, 2.936328002240554, 2.936328002240554, 2.936328002240554, 2.936328002240554, 2.936328002240554, 2.936328002240554, 2.936328002240554, 2.936328002240554, 2.936328002240554, 2.936328002240554, 2.936328002240554, 2.936328002240554, 2.936328002240554, 2.936328002240554, 2.936328002240554]}], \"type\": \"parcoords\"}],                        {\"paper_bgcolor\": \"white\", \"plot_bgcolor\": \"white\", \"template\": {\"data\": {\"bar\": [{\"error_x\": {\"color\": \"#2a3f5f\"}, \"error_y\": {\"color\": \"#2a3f5f\"}, \"marker\": {\"line\": {\"color\": \"#E5ECF6\", \"width\": 0.5}}, \"type\": \"bar\"}], \"barpolar\": [{\"marker\": {\"line\": {\"color\": \"#E5ECF6\", \"width\": 0.5}}, \"type\": \"barpolar\"}], \"carpet\": [{\"aaxis\": {\"endlinecolor\": \"#2a3f5f\", \"gridcolor\": \"white\", \"linecolor\": \"white\", \"minorgridcolor\": \"white\", \"startlinecolor\": \"#2a3f5f\"}, \"baxis\": {\"endlinecolor\": \"#2a3f5f\", \"gridcolor\": \"white\", \"linecolor\": \"white\", \"minorgridcolor\": \"white\", \"startlinecolor\": \"#2a3f5f\"}, \"type\": \"carpet\"}], \"choropleth\": [{\"colorbar\": {\"outlinewidth\": 0, \"ticks\": \"\"}, \"type\": \"choropleth\"}], \"contour\": [{\"colorbar\": {\"outlinewidth\": 0, \"ticks\": \"\"}, \"colorscale\": [[0.0, \"#0d0887\"], [0.1111111111111111, \"#46039f\"], [0.2222222222222222, \"#7201a8\"], [0.3333333333333333, \"#9c179e\"], [0.4444444444444444, \"#bd3786\"], [0.5555555555555556, \"#d8576b\"], [0.6666666666666666, \"#ed7953\"], [0.7777777777777778, \"#fb9f3a\"], [0.8888888888888888, \"#fdca26\"], [1.0, \"#f0f921\"]], \"type\": \"contour\"}], \"contourcarpet\": [{\"colorbar\": {\"outlinewidth\": 0, \"ticks\": \"\"}, \"type\": \"contourcarpet\"}], \"heatmap\": [{\"colorbar\": {\"outlinewidth\": 0, \"ticks\": \"\"}, \"colorscale\": [[0.0, \"#0d0887\"], [0.1111111111111111, \"#46039f\"], [0.2222222222222222, \"#7201a8\"], [0.3333333333333333, \"#9c179e\"], [0.4444444444444444, \"#bd3786\"], [0.5555555555555556, \"#d8576b\"], [0.6666666666666666, \"#ed7953\"], [0.7777777777777778, \"#fb9f3a\"], [0.8888888888888888, \"#fdca26\"], [1.0, \"#f0f921\"]], \"type\": \"heatmap\"}], \"heatmapgl\": [{\"colorbar\": {\"outlinewidth\": 0, \"ticks\": \"\"}, \"colorscale\": [[0.0, \"#0d0887\"], [0.1111111111111111, \"#46039f\"], [0.2222222222222222, \"#7201a8\"], [0.3333333333333333, \"#9c179e\"], [0.4444444444444444, \"#bd3786\"], [0.5555555555555556, \"#d8576b\"], [0.6666666666666666, \"#ed7953\"], [0.7777777777777778, \"#fb9f3a\"], [0.8888888888888888, \"#fdca26\"], [1.0, \"#f0f921\"]], \"type\": \"heatmapgl\"}], \"histogram\": [{\"marker\": {\"colorbar\": {\"outlinewidth\": 0, \"ticks\": \"\"}}, \"type\": \"histogram\"}], \"histogram2d\": [{\"colorbar\": {\"outlinewidth\": 0, \"ticks\": \"\"}, \"colorscale\": [[0.0, \"#0d0887\"], [0.1111111111111111, \"#46039f\"], [0.2222222222222222, \"#7201a8\"], [0.3333333333333333, \"#9c179e\"], [0.4444444444444444, \"#bd3786\"], [0.5555555555555556, \"#d8576b\"], [0.6666666666666666, \"#ed7953\"], [0.7777777777777778, \"#fb9f3a\"], [0.8888888888888888, \"#fdca26\"], [1.0, \"#f0f921\"]], \"type\": \"histogram2d\"}], \"histogram2dcontour\": [{\"colorbar\": {\"outlinewidth\": 0, \"ticks\": \"\"}, \"colorscale\": [[0.0, \"#0d0887\"], [0.1111111111111111, \"#46039f\"], [0.2222222222222222, \"#7201a8\"], [0.3333333333333333, \"#9c179e\"], [0.4444444444444444, \"#bd3786\"], [0.5555555555555556, \"#d8576b\"], [0.6666666666666666, \"#ed7953\"], [0.7777777777777778, \"#fb9f3a\"], [0.8888888888888888, \"#fdca26\"], [1.0, \"#f0f921\"]], \"type\": \"histogram2dcontour\"}], \"mesh3d\": [{\"colorbar\": {\"outlinewidth\": 0, \"ticks\": \"\"}, \"type\": \"mesh3d\"}], \"parcoords\": [{\"line\": {\"colorbar\": {\"outlinewidth\": 0, \"ticks\": \"\"}}, \"type\": \"parcoords\"}], \"pie\": [{\"automargin\": true, \"type\": \"pie\"}], \"scatter\": [{\"marker\": {\"colorbar\": {\"outlinewidth\": 0, \"ticks\": \"\"}}, \"type\": \"scatter\"}], \"scatter3d\": [{\"line\": {\"colorbar\": {\"outlinewidth\": 0, \"ticks\": \"\"}}, \"marker\": {\"colorbar\": {\"outlinewidth\": 0, \"ticks\": \"\"}}, \"type\": \"scatter3d\"}], \"scattercarpet\": [{\"marker\": {\"colorbar\": {\"outlinewidth\": 0, \"ticks\": \"\"}}, \"type\": \"scattercarpet\"}], \"scattergeo\": [{\"marker\": {\"colorbar\": {\"outlinewidth\": 0, \"ticks\": \"\"}}, \"type\": \"scattergeo\"}], \"scattergl\": [{\"marker\": {\"colorbar\": {\"outlinewidth\": 0, \"ticks\": \"\"}}, \"type\": \"scattergl\"}], \"scattermapbox\": [{\"marker\": {\"colorbar\": {\"outlinewidth\": 0, \"ticks\": \"\"}}, \"type\": \"scattermapbox\"}], \"scatterpolar\": [{\"marker\": {\"colorbar\": {\"outlinewidth\": 0, \"ticks\": \"\"}}, \"type\": \"scatterpolar\"}], \"scatterpolargl\": [{\"marker\": {\"colorbar\": {\"outlinewidth\": 0, \"ticks\": \"\"}}, \"type\": \"scatterpolargl\"}], \"scatterternary\": [{\"marker\": {\"colorbar\": {\"outlinewidth\": 0, \"ticks\": \"\"}}, \"type\": \"scatterternary\"}], \"surface\": [{\"colorbar\": {\"outlinewidth\": 0, \"ticks\": \"\"}, \"colorscale\": [[0.0, \"#0d0887\"], [0.1111111111111111, \"#46039f\"], [0.2222222222222222, \"#7201a8\"], [0.3333333333333333, \"#9c179e\"], [0.4444444444444444, \"#bd3786\"], [0.5555555555555556, \"#d8576b\"], [0.6666666666666666, \"#ed7953\"], [0.7777777777777778, \"#fb9f3a\"], [0.8888888888888888, \"#fdca26\"], [1.0, \"#f0f921\"]], \"type\": \"surface\"}], \"table\": [{\"cells\": {\"fill\": {\"color\": \"#EBF0F8\"}, \"line\": {\"color\": \"white\"}}, \"header\": {\"fill\": {\"color\": \"#C8D4E3\"}, \"line\": {\"color\": \"white\"}}, \"type\": \"table\"}]}, \"layout\": {\"annotationdefaults\": {\"arrowcolor\": \"#2a3f5f\", \"arrowhead\": 0, \"arrowwidth\": 1}, \"coloraxis\": {\"colorbar\": {\"outlinewidth\": 0, \"ticks\": \"\"}}, \"colorscale\": {\"diverging\": [[0, \"#8e0152\"], [0.1, \"#c51b7d\"], [0.2, \"#de77ae\"], [0.3, \"#f1b6da\"], [0.4, \"#fde0ef\"], [0.5, \"#f7f7f7\"], [0.6, \"#e6f5d0\"], [0.7, \"#b8e186\"], [0.8, \"#7fbc41\"], [0.9, \"#4d9221\"], [1, \"#276419\"]], \"sequential\": [[0.0, \"#0d0887\"], [0.1111111111111111, \"#46039f\"], [0.2222222222222222, \"#7201a8\"], [0.3333333333333333, \"#9c179e\"], [0.4444444444444444, \"#bd3786\"], [0.5555555555555556, \"#d8576b\"], [0.6666666666666666, \"#ed7953\"], [0.7777777777777778, \"#fb9f3a\"], [0.8888888888888888, \"#fdca26\"], [1.0, \"#f0f921\"]], \"sequentialminus\": [[0.0, \"#0d0887\"], [0.1111111111111111, \"#46039f\"], [0.2222222222222222, \"#7201a8\"], [0.3333333333333333, \"#9c179e\"], [0.4444444444444444, \"#bd3786\"], [0.5555555555555556, \"#d8576b\"], [0.6666666666666666, \"#ed7953\"], [0.7777777777777778, \"#fb9f3a\"], [0.8888888888888888, \"#fdca26\"], [1.0, \"#f0f921\"]]}, \"colorway\": [\"#636efa\", \"#EF553B\", \"#00cc96\", \"#ab63fa\", \"#FFA15A\", \"#19d3f3\", \"#FF6692\", \"#B6E880\", \"#FF97FF\", \"#FECB52\"], \"font\": {\"color\": \"#2a3f5f\"}, \"geo\": {\"bgcolor\": \"white\", \"lakecolor\": \"white\", \"landcolor\": \"#E5ECF6\", \"showlakes\": true, \"showland\": true, \"subunitcolor\": \"white\"}, \"hoverlabel\": {\"align\": \"left\"}, \"hovermode\": \"closest\", \"mapbox\": {\"style\": \"light\"}, \"paper_bgcolor\": \"white\", \"plot_bgcolor\": \"#E5ECF6\", \"polar\": {\"angularaxis\": {\"gridcolor\": \"white\", \"linecolor\": \"white\", \"ticks\": \"\"}, \"bgcolor\": \"#E5ECF6\", \"radialaxis\": {\"gridcolor\": \"white\", \"linecolor\": \"white\", \"ticks\": \"\"}}, \"scene\": {\"xaxis\": {\"backgroundcolor\": \"#E5ECF6\", \"gridcolor\": \"white\", \"gridwidth\": 2, \"linecolor\": \"white\", \"showbackground\": true, \"ticks\": \"\", \"zerolinecolor\": \"white\"}, \"yaxis\": {\"backgroundcolor\": \"#E5ECF6\", \"gridcolor\": \"white\", \"gridwidth\": 2, \"linecolor\": \"white\", \"showbackground\": true, \"ticks\": \"\", \"zerolinecolor\": \"white\"}, \"zaxis\": {\"backgroundcolor\": \"#E5ECF6\", \"gridcolor\": \"white\", \"gridwidth\": 2, \"linecolor\": \"white\", \"showbackground\": true, \"ticks\": \"\", \"zerolinecolor\": \"white\"}}, \"shapedefaults\": {\"line\": {\"color\": \"#2a3f5f\"}}, \"ternary\": {\"aaxis\": {\"gridcolor\": \"white\", \"linecolor\": \"white\", \"ticks\": \"\"}, \"baxis\": {\"gridcolor\": \"white\", \"linecolor\": \"white\", \"ticks\": \"\"}, \"bgcolor\": \"#E5ECF6\", \"caxis\": {\"gridcolor\": \"white\", \"linecolor\": \"white\", \"ticks\": \"\"}}, \"title\": {\"x\": 0.05}, \"xaxis\": {\"automargin\": true, \"gridcolor\": \"white\", \"linecolor\": \"white\", \"ticks\": \"\", \"title\": {\"standoff\": 15}, \"zerolinecolor\": \"white\", \"zerolinewidth\": 2}, \"yaxis\": {\"automargin\": true, \"gridcolor\": \"white\", \"linecolor\": \"white\", \"ticks\": \"\", \"title\": {\"standoff\": 15}, \"zerolinecolor\": \"white\", \"zerolinewidth\": 2}}}},                        {\"responsive\": true}                    ).then(function(){\n",
       "                            \n",
       "var gd = document.getElementById('d5bf5fdc-4535-4b51-84d2-77a847c61354');\n",
       "var x = new MutationObserver(function (mutations, observer) {{\n",
       "        var display = window.getComputedStyle(gd).display;\n",
       "        if (!display || display === 'none') {{\n",
       "            console.log([gd, 'removed!']);\n",
       "            Plotly.purge(gd);\n",
       "            observer.disconnect();\n",
       "        }}\n",
       "}});\n",
       "\n",
       "// Listen for the removal of the full notebook cells\n",
       "var notebookContainer = gd.closest('#notebook-container');\n",
       "if (notebookContainer) {{\n",
       "    x.observe(notebookContainer, {childList: true});\n",
       "}}\n",
       "\n",
       "// Listen for the clearing of the current output cell\n",
       "var outputEl = gd.closest('.output');\n",
       "if (outputEl) {{\n",
       "    x.observe(outputEl, {childList: true});\n",
       "}}\n",
       "\n",
       "                        })                };                });            </script>        </div>"
      ]
     },
     "metadata": {},
     "output_type": "display_data"
    }
   ],
   "source": [
    "fig = go.Figure(data=\n",
    "    go.Parcoords(\n",
    "        line = dict(),\n",
    "        dimensions = list([\n",
    "            dict(range = [0,1],\n",
    "                label = 'Acurácia', values = metrics_adult_equal['Acurácia']),\n",
    "            dict(range = [0,1],\n",
    "                label = 'Igualdade de Oportunidade', values = metrics_adult_equal['Igualdade de Oportunidade']),\n",
    "            dict(range = [0,1],\n",
    "                label = 'P porcento', values = metrics_adult_equal['P porcento']),\n",
    "            dict(range = [1.2,3],\n",
    "                label = 'cv_aux', values = metrics_adult_equal['cv_aux']),\n",
    "        ])\n",
    "    )\n",
    ")\n",
    "\n",
    "fig.update_layout(\n",
    "    plot_bgcolor = 'white',\n",
    "    paper_bgcolor = 'white'\n",
    ")\n",
    "\n",
    "fig.show()"
   ]
  },
  {
   "cell_type": "code",
   "execution_count": 27,
   "metadata": {},
   "outputs": [
    {
     "name": "stderr",
     "output_type": "stream",
     "text": [
      "/root/anaconda3/envs/py36/lib/python3.6/site-packages/sklego/metrics.py:155: RuntimeWarning:\n",
      "\n",
      "invalid value encountered in double_scalars\n",
      "\n",
      "/root/anaconda3/envs/py36/lib/python3.6/site-packages/sklego/metrics.py:79: RuntimeWarning:\n",
      "\n",
      "No samples with y_hat == 1 for race == 1, returning 0\n",
      "\n"
     ]
    }
   ],
   "source": [
    "import numpy as np\n",
    "\n",
    "C_values = np.linspace(1e-10, 10, 150)**2\n",
    "\n",
    "metrics_adult_log_aux = {\"Acurácia\": [], \"Igualdade de Oportunidade\": [], \"P porcento\": [], \"Coeficiente de variação\": []}\n",
    "\n",
    "for C in C_values:\n",
    "    model = LogisticRegression(C=C, max_iter=10**3, tol=10**-6)\n",
    "    model.fit(X_train, y_train)\n",
    "    metrics_adult_log_aux[\"Acurácia\"].append(model.score(X_test, y_test))\n",
    "    metrics_adult_log_aux[\"Igualdade de Oportunidade\"].append(equal_opportunity_score(sensitive_column=fair_feature)(model,\n",
    "                                                                                                            X_test, y_test))\n",
    "    metrics_adult_log_aux[\"P porcento\"].append(p_percent_score(sensitive_column=fair_feature)(model,X_test))\n",
    "    metrics_adult_log_aux[\"Coeficiente de variação\"].append(coefficient_of_variation(model, X_test, y_test))"
   ]
  },
  {
   "cell_type": "code",
   "execution_count": 28,
   "metadata": {},
   "outputs": [],
   "source": [
    "metrics_adult_log = pd.DataFrame(data=metrics_adult_log_aux, columns=['Acurácia','Igualdade de Oportunidade','P porcento',\n",
    "                                     'Coeficiente de variação'])\n",
    "\n",
    "metrics_adult_log['cv_aux'] = 1/metrics_adult_log['Coeficiente de variação']\n",
    "\n",
    "metrics_adult_log = metrics_adult_log.drop('Coeficiente de variação', axis=1)\n",
    "dominate_metr = [any([dominate(other, row) for other in metrics_adult_log.values]) for row in metrics_adult_log.values]\n",
    "metrics_adult_log['dominated'] = dominate_metr"
   ]
  },
  {
   "cell_type": "code",
   "execution_count": 29,
   "metadata": {},
   "outputs": [
    {
     "data": {
      "text/html": [
       "<div>\n",
       "<style scoped>\n",
       "    .dataframe tbody tr th:only-of-type {\n",
       "        vertical-align: middle;\n",
       "    }\n",
       "\n",
       "    .dataframe tbody tr th {\n",
       "        vertical-align: top;\n",
       "    }\n",
       "\n",
       "    .dataframe thead th {\n",
       "        text-align: right;\n",
       "    }\n",
       "</style>\n",
       "<table border=\"1\" class=\"dataframe\">\n",
       "  <thead>\n",
       "    <tr style=\"text-align: right;\">\n",
       "      <th></th>\n",
       "      <th>Acurácia</th>\n",
       "      <th>Igualdade de Oportunidade</th>\n",
       "      <th>P porcento</th>\n",
       "      <th>cv_aux</th>\n",
       "      <th>dominated</th>\n",
       "    </tr>\n",
       "  </thead>\n",
       "  <tbody>\n",
       "    <tr>\n",
       "      <th>0</th>\n",
       "      <td>0.7638</td>\n",
       "      <td>1.000000</td>\n",
       "      <td>0.000000</td>\n",
       "      <td>1.271554</td>\n",
       "      <td>False</td>\n",
       "    </tr>\n",
       "    <tr>\n",
       "      <th>1</th>\n",
       "      <td>0.8006</td>\n",
       "      <td>0.779869</td>\n",
       "      <td>0.532755</td>\n",
       "      <td>1.435362</td>\n",
       "      <td>False</td>\n",
       "    </tr>\n",
       "    <tr>\n",
       "      <th>2</th>\n",
       "      <td>0.8006</td>\n",
       "      <td>0.779869</td>\n",
       "      <td>0.532755</td>\n",
       "      <td>1.435362</td>\n",
       "      <td>False</td>\n",
       "    </tr>\n",
       "    <tr>\n",
       "      <th>3</th>\n",
       "      <td>0.8006</td>\n",
       "      <td>0.779869</td>\n",
       "      <td>0.532755</td>\n",
       "      <td>1.435362</td>\n",
       "      <td>False</td>\n",
       "    </tr>\n",
       "    <tr>\n",
       "      <th>4</th>\n",
       "      <td>0.8006</td>\n",
       "      <td>0.779869</td>\n",
       "      <td>0.532755</td>\n",
       "      <td>1.435362</td>\n",
       "      <td>False</td>\n",
       "    </tr>\n",
       "    <tr>\n",
       "      <th>...</th>\n",
       "      <td>...</td>\n",
       "      <td>...</td>\n",
       "      <td>...</td>\n",
       "      <td>...</td>\n",
       "      <td>...</td>\n",
       "    </tr>\n",
       "    <tr>\n",
       "      <th>145</th>\n",
       "      <td>0.8006</td>\n",
       "      <td>0.779869</td>\n",
       "      <td>0.532755</td>\n",
       "      <td>1.435362</td>\n",
       "      <td>False</td>\n",
       "    </tr>\n",
       "    <tr>\n",
       "      <th>146</th>\n",
       "      <td>0.8006</td>\n",
       "      <td>0.779869</td>\n",
       "      <td>0.532755</td>\n",
       "      <td>1.435362</td>\n",
       "      <td>False</td>\n",
       "    </tr>\n",
       "    <tr>\n",
       "      <th>147</th>\n",
       "      <td>0.8006</td>\n",
       "      <td>0.779869</td>\n",
       "      <td>0.532755</td>\n",
       "      <td>1.435362</td>\n",
       "      <td>False</td>\n",
       "    </tr>\n",
       "    <tr>\n",
       "      <th>148</th>\n",
       "      <td>0.8006</td>\n",
       "      <td>0.779869</td>\n",
       "      <td>0.532755</td>\n",
       "      <td>1.435362</td>\n",
       "      <td>False</td>\n",
       "    </tr>\n",
       "    <tr>\n",
       "      <th>149</th>\n",
       "      <td>0.8006</td>\n",
       "      <td>0.779869</td>\n",
       "      <td>0.532755</td>\n",
       "      <td>1.435362</td>\n",
       "      <td>False</td>\n",
       "    </tr>\n",
       "  </tbody>\n",
       "</table>\n",
       "<p>150 rows × 5 columns</p>\n",
       "</div>"
      ],
      "text/plain": [
       "     Acurácia  Igualdade de Oportunidade  P porcento    cv_aux  dominated\n",
       "0      0.7638                   1.000000    0.000000  1.271554      False\n",
       "1      0.8006                   0.779869    0.532755  1.435362      False\n",
       "2      0.8006                   0.779869    0.532755  1.435362      False\n",
       "3      0.8006                   0.779869    0.532755  1.435362      False\n",
       "4      0.8006                   0.779869    0.532755  1.435362      False\n",
       "..        ...                        ...         ...       ...        ...\n",
       "145    0.8006                   0.779869    0.532755  1.435362      False\n",
       "146    0.8006                   0.779869    0.532755  1.435362      False\n",
       "147    0.8006                   0.779869    0.532755  1.435362      False\n",
       "148    0.8006                   0.779869    0.532755  1.435362      False\n",
       "149    0.8006                   0.779869    0.532755  1.435362      False\n",
       "\n",
       "[150 rows x 5 columns]"
      ]
     },
     "execution_count": 29,
     "metadata": {},
     "output_type": "execute_result"
    }
   ],
   "source": [
    "metrics_adult_log"
   ]
  },
  {
   "cell_type": "code",
   "execution_count": 30,
   "metadata": {},
   "outputs": [
    {
     "data": {
      "application/vnd.plotly.v1+json": {
       "config": {
        "plotlyServerURL": "https://plot.ly"
       },
       "data": [
        {
         "dimensions": [
          {
           "label": "Acurácia",
           "range": [
            0,
            1
           ],
           "values": [
            0.7638,
            0.8006,
            0.8006,
            0.8006,
            0.8006,
            0.8006,
            0.8006,
            0.8006,
            0.8006,
            0.8006,
            0.8006,
            0.8006,
            0.8006,
            0.8006,
            0.8006,
            0.8006,
            0.8006,
            0.8006,
            0.8006,
            0.8006,
            0.8006,
            0.8006,
            0.8006,
            0.8006,
            0.8006,
            0.8006,
            0.8006,
            0.8006,
            0.8006,
            0.8006,
            0.8006,
            0.8006,
            0.8006,
            0.8006,
            0.8006,
            0.8006,
            0.8006,
            0.8006,
            0.8006,
            0.8006,
            0.8006,
            0.8006,
            0.8006,
            0.8006,
            0.8006,
            0.8006,
            0.8006,
            0.8006,
            0.8006,
            0.8006,
            0.8006,
            0.8006,
            0.8006,
            0.8006,
            0.8006,
            0.8006,
            0.8006,
            0.8006,
            0.8006,
            0.8006,
            0.8006,
            0.8006,
            0.8006,
            0.8006,
            0.8006,
            0.8006,
            0.8006,
            0.8006,
            0.8006,
            0.8006,
            0.8006,
            0.8006,
            0.8006,
            0.8006,
            0.8006,
            0.8006,
            0.8006,
            0.8006,
            0.8006,
            0.8006,
            0.8006,
            0.8006,
            0.8006,
            0.8006,
            0.8006,
            0.8006,
            0.8006,
            0.8006,
            0.8006,
            0.8006,
            0.8006,
            0.8006,
            0.8006,
            0.8006,
            0.8006,
            0.8006,
            0.8006,
            0.8006,
            0.8006,
            0.8006,
            0.8006,
            0.8006,
            0.8006,
            0.8006,
            0.8006,
            0.8006,
            0.8006,
            0.8006,
            0.8006,
            0.8006,
            0.8006,
            0.8006,
            0.8006,
            0.8006,
            0.8006,
            0.8006,
            0.8006,
            0.8006,
            0.8006,
            0.8006,
            0.8006,
            0.8006,
            0.8006,
            0.8006,
            0.8006,
            0.8006,
            0.8006,
            0.8006,
            0.8006,
            0.8006,
            0.8006,
            0.8006,
            0.8006,
            0.8006,
            0.8006,
            0.8006,
            0.8006,
            0.8006,
            0.8006,
            0.8006,
            0.8006,
            0.8006,
            0.8006,
            0.8006,
            0.8006,
            0.8006,
            0.8006,
            0.8006,
            0.8006,
            0.8006
           ]
          },
          {
           "label": "Igualdade de Oportunidade",
           "range": [
            0,
            1
           ],
           "values": [
            1,
            0.7798685782556749,
            0.7798685782556749,
            0.7798685782556749,
            0.7798685782556749,
            0.7798685782556749,
            0.7798685782556749,
            0.7798685782556749,
            0.7798685782556749,
            0.7798685782556749,
            0.7798685782556749,
            0.7798685782556749,
            0.7798685782556749,
            0.7798685782556749,
            0.7798685782556749,
            0.7798685782556749,
            0.7798685782556749,
            0.7798685782556749,
            0.7798685782556749,
            0.7798685782556749,
            0.7798685782556749,
            0.7798685782556749,
            0.7798685782556749,
            0.7798685782556749,
            0.7798685782556749,
            0.7798685782556749,
            0.7798685782556749,
            0.7798685782556749,
            0.7798685782556749,
            0.7798685782556749,
            0.7798685782556749,
            0.7798685782556749,
            0.7798685782556749,
            0.7798685782556749,
            0.7798685782556749,
            0.7798685782556749,
            0.7798685782556749,
            0.7798685782556749,
            0.7798685782556749,
            0.7798685782556749,
            0.7798685782556749,
            0.7798685782556749,
            0.7798685782556749,
            0.7798685782556749,
            0.7798685782556749,
            0.7798685782556749,
            0.7798685782556749,
            0.7798685782556749,
            0.7798685782556749,
            0.7798685782556749,
            0.7798685782556749,
            0.7798685782556749,
            0.7798685782556749,
            0.7798685782556749,
            0.7798685782556749,
            0.7798685782556749,
            0.7798685782556749,
            0.7798685782556749,
            0.7798685782556749,
            0.7798685782556749,
            0.7798685782556749,
            0.7798685782556749,
            0.7798685782556749,
            0.7798685782556749,
            0.7798685782556749,
            0.7798685782556749,
            0.7798685782556749,
            0.7798685782556749,
            0.7798685782556749,
            0.7798685782556749,
            0.7798685782556749,
            0.7798685782556749,
            0.7798685782556749,
            0.7798685782556749,
            0.7798685782556749,
            0.7798685782556749,
            0.7798685782556749,
            0.7798685782556749,
            0.7798685782556749,
            0.7798685782556749,
            0.7798685782556749,
            0.7798685782556749,
            0.7798685782556749,
            0.7798685782556749,
            0.7798685782556749,
            0.7798685782556749,
            0.7798685782556749,
            0.7798685782556749,
            0.7798685782556749,
            0.7798685782556749,
            0.7798685782556749,
            0.7798685782556749,
            0.7798685782556749,
            0.7798685782556749,
            0.7798685782556749,
            0.7798685782556749,
            0.7798685782556749,
            0.7798685782556749,
            0.7798685782556749,
            0.7798685782556749,
            0.7798685782556749,
            0.7798685782556749,
            0.7798685782556749,
            0.7798685782556749,
            0.7798685782556749,
            0.7798685782556749,
            0.7798685782556749,
            0.7798685782556749,
            0.7798685782556749,
            0.7798685782556749,
            0.7798685782556749,
            0.7798685782556749,
            0.7798685782556749,
            0.7798685782556749,
            0.7798685782556749,
            0.7798685782556749,
            0.7798685782556749,
            0.7798685782556749,
            0.7798685782556749,
            0.7798685782556749,
            0.7798685782556749,
            0.7798685782556749,
            0.7798685782556749,
            0.7798685782556749,
            0.7798685782556749,
            0.7798685782556749,
            0.7798685782556749,
            0.7798685782556749,
            0.7798685782556749,
            0.7798685782556749,
            0.7798685782556749,
            0.7798685782556749,
            0.7798685782556749,
            0.7798685782556749,
            0.7798685782556749,
            0.7798685782556749,
            0.7798685782556749,
            0.7798685782556749,
            0.7798685782556749,
            0.7798685782556749,
            0.7798685782556749,
            0.7798685782556749,
            0.7798685782556749,
            0.7798685782556749,
            0.7798685782556749,
            0.7798685782556749,
            0.7798685782556749,
            0.7798685782556749,
            0.7798685782556749,
            0.7798685782556749
           ]
          },
          {
           "label": "P porcento",
           "range": [
            0,
            1
           ],
           "values": [
            0,
            0.5327546419860556,
            0.5327546419860556,
            0.5327546419860556,
            0.5327546419860556,
            0.5327546419860556,
            0.5327546419860556,
            0.5327546419860556,
            0.5327546419860556,
            0.5327546419860556,
            0.5327546419860556,
            0.5327546419860556,
            0.5327546419860556,
            0.5327546419860556,
            0.5327546419860556,
            0.5327546419860556,
            0.5327546419860556,
            0.5327546419860556,
            0.5327546419860556,
            0.5327546419860556,
            0.5327546419860556,
            0.5327546419860556,
            0.5327546419860556,
            0.5327546419860556,
            0.5327546419860556,
            0.5327546419860556,
            0.5327546419860556,
            0.5327546419860556,
            0.5327546419860556,
            0.5327546419860556,
            0.5327546419860556,
            0.5327546419860556,
            0.5327546419860556,
            0.5327546419860556,
            0.5327546419860556,
            0.5327546419860556,
            0.5327546419860556,
            0.5327546419860556,
            0.5327546419860556,
            0.5327546419860556,
            0.5327546419860556,
            0.5327546419860556,
            0.5327546419860556,
            0.5327546419860556,
            0.5327546419860556,
            0.5327546419860556,
            0.5327546419860556,
            0.5327546419860556,
            0.5327546419860556,
            0.5327546419860556,
            0.5327546419860556,
            0.5327546419860556,
            0.5327546419860556,
            0.5327546419860556,
            0.5327546419860556,
            0.5327546419860556,
            0.5327546419860556,
            0.5327546419860556,
            0.5327546419860556,
            0.5327546419860556,
            0.5327546419860556,
            0.5327546419860556,
            0.5327546419860556,
            0.5327546419860556,
            0.5327546419860556,
            0.5327546419860556,
            0.5327546419860556,
            0.5327546419860556,
            0.5327546419860556,
            0.5327546419860556,
            0.5327546419860556,
            0.5327546419860556,
            0.5327546419860556,
            0.5327546419860556,
            0.5327546419860556,
            0.5327546419860556,
            0.5327546419860556,
            0.5327546419860556,
            0.5327546419860556,
            0.5327546419860556,
            0.5327546419860556,
            0.5327546419860556,
            0.5327546419860556,
            0.5327546419860556,
            0.5327546419860556,
            0.5327546419860556,
            0.5327546419860556,
            0.5327546419860556,
            0.5327546419860556,
            0.5327546419860556,
            0.5327546419860556,
            0.5327546419860556,
            0.5327546419860556,
            0.5327546419860556,
            0.5327546419860556,
            0.5327546419860556,
            0.5327546419860556,
            0.5327546419860556,
            0.5327546419860556,
            0.5327546419860556,
            0.5327546419860556,
            0.5327546419860556,
            0.5327546419860556,
            0.5327546419860556,
            0.5327546419860556,
            0.5327546419860556,
            0.5327546419860556,
            0.5327546419860556,
            0.5327546419860556,
            0.5327546419860556,
            0.5327546419860556,
            0.5327546419860556,
            0.5327546419860556,
            0.5327546419860556,
            0.5327546419860556,
            0.5327546419860556,
            0.5327546419860556,
            0.5327546419860556,
            0.5327546419860556,
            0.5327546419860556,
            0.5327546419860556,
            0.5327546419860556,
            0.5327546419860556,
            0.5327546419860556,
            0.5327546419860556,
            0.5327546419860556,
            0.5327546419860556,
            0.5327546419860556,
            0.5327546419860556,
            0.5327546419860556,
            0.5327546419860556,
            0.5327546419860556,
            0.5327546419860556,
            0.5327546419860556,
            0.5327546419860556,
            0.5327546419860556,
            0.5327546419860556,
            0.5327546419860556,
            0.5327546419860556,
            0.5327546419860556,
            0.5327546419860556,
            0.5327546419860556,
            0.5327546419860556,
            0.5327546419860556,
            0.5327546419860556,
            0.5327546419860556,
            0.5327546419860556,
            0.5327546419860556,
            0.5327546419860556,
            0.5327546419860556
           ]
          },
          {
           "label": "cv_aux",
           "range": [
            1.2,
            3
           ],
           "values": [
            1.271554217094541,
            1.435361592664516,
            1.435361592664516,
            1.435361592664516,
            1.435361592664516,
            1.435361592664516,
            1.435361592664516,
            1.435361592664516,
            1.435361592664516,
            1.435361592664516,
            1.435361592664516,
            1.435361592664516,
            1.435361592664516,
            1.435361592664516,
            1.435361592664516,
            1.435361592664516,
            1.435361592664516,
            1.435361592664516,
            1.435361592664516,
            1.435361592664516,
            1.435361592664516,
            1.435361592664516,
            1.435361592664516,
            1.435361592664516,
            1.435361592664516,
            1.435361592664516,
            1.435361592664516,
            1.435361592664516,
            1.435361592664516,
            1.435361592664516,
            1.435361592664516,
            1.435361592664516,
            1.435361592664516,
            1.435361592664516,
            1.435361592664516,
            1.435361592664516,
            1.435361592664516,
            1.435361592664516,
            1.435361592664516,
            1.435361592664516,
            1.435361592664516,
            1.435361592664516,
            1.435361592664516,
            1.435361592664516,
            1.435361592664516,
            1.435361592664516,
            1.435361592664516,
            1.435361592664516,
            1.435361592664516,
            1.435361592664516,
            1.435361592664516,
            1.435361592664516,
            1.435361592664516,
            1.435361592664516,
            1.435361592664516,
            1.435361592664516,
            1.435361592664516,
            1.435361592664516,
            1.435361592664516,
            1.435361592664516,
            1.435361592664516,
            1.435361592664516,
            1.435361592664516,
            1.435361592664516,
            1.435361592664516,
            1.435361592664516,
            1.435361592664516,
            1.435361592664516,
            1.435361592664516,
            1.435361592664516,
            1.435361592664516,
            1.435361592664516,
            1.435361592664516,
            1.435361592664516,
            1.435361592664516,
            1.435361592664516,
            1.435361592664516,
            1.435361592664516,
            1.435361592664516,
            1.435361592664516,
            1.435361592664516,
            1.435361592664516,
            1.435361592664516,
            1.435361592664516,
            1.435361592664516,
            1.435361592664516,
            1.435361592664516,
            1.435361592664516,
            1.435361592664516,
            1.435361592664516,
            1.435361592664516,
            1.435361592664516,
            1.435361592664516,
            1.435361592664516,
            1.435361592664516,
            1.435361592664516,
            1.435361592664516,
            1.435361592664516,
            1.435361592664516,
            1.435361592664516,
            1.435361592664516,
            1.435361592664516,
            1.435361592664516,
            1.435361592664516,
            1.435361592664516,
            1.435361592664516,
            1.435361592664516,
            1.435361592664516,
            1.435361592664516,
            1.435361592664516,
            1.435361592664516,
            1.435361592664516,
            1.435361592664516,
            1.435361592664516,
            1.435361592664516,
            1.435361592664516,
            1.435361592664516,
            1.435361592664516,
            1.435361592664516,
            1.435361592664516,
            1.435361592664516,
            1.435361592664516,
            1.435361592664516,
            1.435361592664516,
            1.435361592664516,
            1.435361592664516,
            1.435361592664516,
            1.435361592664516,
            1.435361592664516,
            1.435361592664516,
            1.435361592664516,
            1.435361592664516,
            1.435361592664516,
            1.435361592664516,
            1.435361592664516,
            1.435361592664516,
            1.435361592664516,
            1.435361592664516,
            1.435361592664516,
            1.435361592664516,
            1.435361592664516,
            1.435361592664516,
            1.435361592664516,
            1.435361592664516,
            1.435361592664516,
            1.435361592664516,
            1.435361592664516,
            1.435361592664516,
            1.435361592664516,
            1.435361592664516
           ]
          }
         ],
         "type": "parcoords"
        }
       ],
       "layout": {
        "paper_bgcolor": "white",
        "plot_bgcolor": "white",
        "template": {
         "data": {
          "bar": [
           {
            "error_x": {
             "color": "#2a3f5f"
            },
            "error_y": {
             "color": "#2a3f5f"
            },
            "marker": {
             "line": {
              "color": "#E5ECF6",
              "width": 0.5
             }
            },
            "type": "bar"
           }
          ],
          "barpolar": [
           {
            "marker": {
             "line": {
              "color": "#E5ECF6",
              "width": 0.5
             }
            },
            "type": "barpolar"
           }
          ],
          "carpet": [
           {
            "aaxis": {
             "endlinecolor": "#2a3f5f",
             "gridcolor": "white",
             "linecolor": "white",
             "minorgridcolor": "white",
             "startlinecolor": "#2a3f5f"
            },
            "baxis": {
             "endlinecolor": "#2a3f5f",
             "gridcolor": "white",
             "linecolor": "white",
             "minorgridcolor": "white",
             "startlinecolor": "#2a3f5f"
            },
            "type": "carpet"
           }
          ],
          "choropleth": [
           {
            "colorbar": {
             "outlinewidth": 0,
             "ticks": ""
            },
            "type": "choropleth"
           }
          ],
          "contour": [
           {
            "colorbar": {
             "outlinewidth": 0,
             "ticks": ""
            },
            "colorscale": [
             [
              0,
              "#0d0887"
             ],
             [
              0.1111111111111111,
              "#46039f"
             ],
             [
              0.2222222222222222,
              "#7201a8"
             ],
             [
              0.3333333333333333,
              "#9c179e"
             ],
             [
              0.4444444444444444,
              "#bd3786"
             ],
             [
              0.5555555555555556,
              "#d8576b"
             ],
             [
              0.6666666666666666,
              "#ed7953"
             ],
             [
              0.7777777777777778,
              "#fb9f3a"
             ],
             [
              0.8888888888888888,
              "#fdca26"
             ],
             [
              1,
              "#f0f921"
             ]
            ],
            "type": "contour"
           }
          ],
          "contourcarpet": [
           {
            "colorbar": {
             "outlinewidth": 0,
             "ticks": ""
            },
            "type": "contourcarpet"
           }
          ],
          "heatmap": [
           {
            "colorbar": {
             "outlinewidth": 0,
             "ticks": ""
            },
            "colorscale": [
             [
              0,
              "#0d0887"
             ],
             [
              0.1111111111111111,
              "#46039f"
             ],
             [
              0.2222222222222222,
              "#7201a8"
             ],
             [
              0.3333333333333333,
              "#9c179e"
             ],
             [
              0.4444444444444444,
              "#bd3786"
             ],
             [
              0.5555555555555556,
              "#d8576b"
             ],
             [
              0.6666666666666666,
              "#ed7953"
             ],
             [
              0.7777777777777778,
              "#fb9f3a"
             ],
             [
              0.8888888888888888,
              "#fdca26"
             ],
             [
              1,
              "#f0f921"
             ]
            ],
            "type": "heatmap"
           }
          ],
          "heatmapgl": [
           {
            "colorbar": {
             "outlinewidth": 0,
             "ticks": ""
            },
            "colorscale": [
             [
              0,
              "#0d0887"
             ],
             [
              0.1111111111111111,
              "#46039f"
             ],
             [
              0.2222222222222222,
              "#7201a8"
             ],
             [
              0.3333333333333333,
              "#9c179e"
             ],
             [
              0.4444444444444444,
              "#bd3786"
             ],
             [
              0.5555555555555556,
              "#d8576b"
             ],
             [
              0.6666666666666666,
              "#ed7953"
             ],
             [
              0.7777777777777778,
              "#fb9f3a"
             ],
             [
              0.8888888888888888,
              "#fdca26"
             ],
             [
              1,
              "#f0f921"
             ]
            ],
            "type": "heatmapgl"
           }
          ],
          "histogram": [
           {
            "marker": {
             "colorbar": {
              "outlinewidth": 0,
              "ticks": ""
             }
            },
            "type": "histogram"
           }
          ],
          "histogram2d": [
           {
            "colorbar": {
             "outlinewidth": 0,
             "ticks": ""
            },
            "colorscale": [
             [
              0,
              "#0d0887"
             ],
             [
              0.1111111111111111,
              "#46039f"
             ],
             [
              0.2222222222222222,
              "#7201a8"
             ],
             [
              0.3333333333333333,
              "#9c179e"
             ],
             [
              0.4444444444444444,
              "#bd3786"
             ],
             [
              0.5555555555555556,
              "#d8576b"
             ],
             [
              0.6666666666666666,
              "#ed7953"
             ],
             [
              0.7777777777777778,
              "#fb9f3a"
             ],
             [
              0.8888888888888888,
              "#fdca26"
             ],
             [
              1,
              "#f0f921"
             ]
            ],
            "type": "histogram2d"
           }
          ],
          "histogram2dcontour": [
           {
            "colorbar": {
             "outlinewidth": 0,
             "ticks": ""
            },
            "colorscale": [
             [
              0,
              "#0d0887"
             ],
             [
              0.1111111111111111,
              "#46039f"
             ],
             [
              0.2222222222222222,
              "#7201a8"
             ],
             [
              0.3333333333333333,
              "#9c179e"
             ],
             [
              0.4444444444444444,
              "#bd3786"
             ],
             [
              0.5555555555555556,
              "#d8576b"
             ],
             [
              0.6666666666666666,
              "#ed7953"
             ],
             [
              0.7777777777777778,
              "#fb9f3a"
             ],
             [
              0.8888888888888888,
              "#fdca26"
             ],
             [
              1,
              "#f0f921"
             ]
            ],
            "type": "histogram2dcontour"
           }
          ],
          "mesh3d": [
           {
            "colorbar": {
             "outlinewidth": 0,
             "ticks": ""
            },
            "type": "mesh3d"
           }
          ],
          "parcoords": [
           {
            "line": {
             "colorbar": {
              "outlinewidth": 0,
              "ticks": ""
             }
            },
            "type": "parcoords"
           }
          ],
          "pie": [
           {
            "automargin": true,
            "type": "pie"
           }
          ],
          "scatter": [
           {
            "marker": {
             "colorbar": {
              "outlinewidth": 0,
              "ticks": ""
             }
            },
            "type": "scatter"
           }
          ],
          "scatter3d": [
           {
            "line": {
             "colorbar": {
              "outlinewidth": 0,
              "ticks": ""
             }
            },
            "marker": {
             "colorbar": {
              "outlinewidth": 0,
              "ticks": ""
             }
            },
            "type": "scatter3d"
           }
          ],
          "scattercarpet": [
           {
            "marker": {
             "colorbar": {
              "outlinewidth": 0,
              "ticks": ""
             }
            },
            "type": "scattercarpet"
           }
          ],
          "scattergeo": [
           {
            "marker": {
             "colorbar": {
              "outlinewidth": 0,
              "ticks": ""
             }
            },
            "type": "scattergeo"
           }
          ],
          "scattergl": [
           {
            "marker": {
             "colorbar": {
              "outlinewidth": 0,
              "ticks": ""
             }
            },
            "type": "scattergl"
           }
          ],
          "scattermapbox": [
           {
            "marker": {
             "colorbar": {
              "outlinewidth": 0,
              "ticks": ""
             }
            },
            "type": "scattermapbox"
           }
          ],
          "scatterpolar": [
           {
            "marker": {
             "colorbar": {
              "outlinewidth": 0,
              "ticks": ""
             }
            },
            "type": "scatterpolar"
           }
          ],
          "scatterpolargl": [
           {
            "marker": {
             "colorbar": {
              "outlinewidth": 0,
              "ticks": ""
             }
            },
            "type": "scatterpolargl"
           }
          ],
          "scatterternary": [
           {
            "marker": {
             "colorbar": {
              "outlinewidth": 0,
              "ticks": ""
             }
            },
            "type": "scatterternary"
           }
          ],
          "surface": [
           {
            "colorbar": {
             "outlinewidth": 0,
             "ticks": ""
            },
            "colorscale": [
             [
              0,
              "#0d0887"
             ],
             [
              0.1111111111111111,
              "#46039f"
             ],
             [
              0.2222222222222222,
              "#7201a8"
             ],
             [
              0.3333333333333333,
              "#9c179e"
             ],
             [
              0.4444444444444444,
              "#bd3786"
             ],
             [
              0.5555555555555556,
              "#d8576b"
             ],
             [
              0.6666666666666666,
              "#ed7953"
             ],
             [
              0.7777777777777778,
              "#fb9f3a"
             ],
             [
              0.8888888888888888,
              "#fdca26"
             ],
             [
              1,
              "#f0f921"
             ]
            ],
            "type": "surface"
           }
          ],
          "table": [
           {
            "cells": {
             "fill": {
              "color": "#EBF0F8"
             },
             "line": {
              "color": "white"
             }
            },
            "header": {
             "fill": {
              "color": "#C8D4E3"
             },
             "line": {
              "color": "white"
             }
            },
            "type": "table"
           }
          ]
         },
         "layout": {
          "annotationdefaults": {
           "arrowcolor": "#2a3f5f",
           "arrowhead": 0,
           "arrowwidth": 1
          },
          "coloraxis": {
           "colorbar": {
            "outlinewidth": 0,
            "ticks": ""
           }
          },
          "colorscale": {
           "diverging": [
            [
             0,
             "#8e0152"
            ],
            [
             0.1,
             "#c51b7d"
            ],
            [
             0.2,
             "#de77ae"
            ],
            [
             0.3,
             "#f1b6da"
            ],
            [
             0.4,
             "#fde0ef"
            ],
            [
             0.5,
             "#f7f7f7"
            ],
            [
             0.6,
             "#e6f5d0"
            ],
            [
             0.7,
             "#b8e186"
            ],
            [
             0.8,
             "#7fbc41"
            ],
            [
             0.9,
             "#4d9221"
            ],
            [
             1,
             "#276419"
            ]
           ],
           "sequential": [
            [
             0,
             "#0d0887"
            ],
            [
             0.1111111111111111,
             "#46039f"
            ],
            [
             0.2222222222222222,
             "#7201a8"
            ],
            [
             0.3333333333333333,
             "#9c179e"
            ],
            [
             0.4444444444444444,
             "#bd3786"
            ],
            [
             0.5555555555555556,
             "#d8576b"
            ],
            [
             0.6666666666666666,
             "#ed7953"
            ],
            [
             0.7777777777777778,
             "#fb9f3a"
            ],
            [
             0.8888888888888888,
             "#fdca26"
            ],
            [
             1,
             "#f0f921"
            ]
           ],
           "sequentialminus": [
            [
             0,
             "#0d0887"
            ],
            [
             0.1111111111111111,
             "#46039f"
            ],
            [
             0.2222222222222222,
             "#7201a8"
            ],
            [
             0.3333333333333333,
             "#9c179e"
            ],
            [
             0.4444444444444444,
             "#bd3786"
            ],
            [
             0.5555555555555556,
             "#d8576b"
            ],
            [
             0.6666666666666666,
             "#ed7953"
            ],
            [
             0.7777777777777778,
             "#fb9f3a"
            ],
            [
             0.8888888888888888,
             "#fdca26"
            ],
            [
             1,
             "#f0f921"
            ]
           ]
          },
          "colorway": [
           "#636efa",
           "#EF553B",
           "#00cc96",
           "#ab63fa",
           "#FFA15A",
           "#19d3f3",
           "#FF6692",
           "#B6E880",
           "#FF97FF",
           "#FECB52"
          ],
          "font": {
           "color": "#2a3f5f"
          },
          "geo": {
           "bgcolor": "white",
           "lakecolor": "white",
           "landcolor": "#E5ECF6",
           "showlakes": true,
           "showland": true,
           "subunitcolor": "white"
          },
          "hoverlabel": {
           "align": "left"
          },
          "hovermode": "closest",
          "mapbox": {
           "style": "light"
          },
          "paper_bgcolor": "white",
          "plot_bgcolor": "#E5ECF6",
          "polar": {
           "angularaxis": {
            "gridcolor": "white",
            "linecolor": "white",
            "ticks": ""
           },
           "bgcolor": "#E5ECF6",
           "radialaxis": {
            "gridcolor": "white",
            "linecolor": "white",
            "ticks": ""
           }
          },
          "scene": {
           "xaxis": {
            "backgroundcolor": "#E5ECF6",
            "gridcolor": "white",
            "gridwidth": 2,
            "linecolor": "white",
            "showbackground": true,
            "ticks": "",
            "zerolinecolor": "white"
           },
           "yaxis": {
            "backgroundcolor": "#E5ECF6",
            "gridcolor": "white",
            "gridwidth": 2,
            "linecolor": "white",
            "showbackground": true,
            "ticks": "",
            "zerolinecolor": "white"
           },
           "zaxis": {
            "backgroundcolor": "#E5ECF6",
            "gridcolor": "white",
            "gridwidth": 2,
            "linecolor": "white",
            "showbackground": true,
            "ticks": "",
            "zerolinecolor": "white"
           }
          },
          "shapedefaults": {
           "line": {
            "color": "#2a3f5f"
           }
          },
          "ternary": {
           "aaxis": {
            "gridcolor": "white",
            "linecolor": "white",
            "ticks": ""
           },
           "baxis": {
            "gridcolor": "white",
            "linecolor": "white",
            "ticks": ""
           },
           "bgcolor": "#E5ECF6",
           "caxis": {
            "gridcolor": "white",
            "linecolor": "white",
            "ticks": ""
           }
          },
          "title": {
           "x": 0.05
          },
          "xaxis": {
           "automargin": true,
           "gridcolor": "white",
           "linecolor": "white",
           "ticks": "",
           "title": {
            "standoff": 15
           },
           "zerolinecolor": "white",
           "zerolinewidth": 2
          },
          "yaxis": {
           "automargin": true,
           "gridcolor": "white",
           "linecolor": "white",
           "ticks": "",
           "title": {
            "standoff": 15
           },
           "zerolinecolor": "white",
           "zerolinewidth": 2
          }
         }
        }
       }
      },
      "text/html": [
       "<div>                            <div id=\"25163a18-3a83-4658-bbe4-bffdcaf95233\" class=\"plotly-graph-div\" style=\"height:525px; width:100%;\"></div>            <script type=\"text/javascript\">                require([\"plotly\"], function(Plotly) {                    window.PLOTLYENV=window.PLOTLYENV || {};                                    if (document.getElementById(\"25163a18-3a83-4658-bbe4-bffdcaf95233\")) {                    Plotly.newPlot(                        \"25163a18-3a83-4658-bbe4-bffdcaf95233\",                        [{\"dimensions\": [{\"label\": \"Acur\\u00e1cia\", \"range\": [0, 1], \"values\": [0.7638, 0.8006, 0.8006, 0.8006, 0.8006, 0.8006, 0.8006, 0.8006, 0.8006, 0.8006, 0.8006, 0.8006, 0.8006, 0.8006, 0.8006, 0.8006, 0.8006, 0.8006, 0.8006, 0.8006, 0.8006, 0.8006, 0.8006, 0.8006, 0.8006, 0.8006, 0.8006, 0.8006, 0.8006, 0.8006, 0.8006, 0.8006, 0.8006, 0.8006, 0.8006, 0.8006, 0.8006, 0.8006, 0.8006, 0.8006, 0.8006, 0.8006, 0.8006, 0.8006, 0.8006, 0.8006, 0.8006, 0.8006, 0.8006, 0.8006, 0.8006, 0.8006, 0.8006, 0.8006, 0.8006, 0.8006, 0.8006, 0.8006, 0.8006, 0.8006, 0.8006, 0.8006, 0.8006, 0.8006, 0.8006, 0.8006, 0.8006, 0.8006, 0.8006, 0.8006, 0.8006, 0.8006, 0.8006, 0.8006, 0.8006, 0.8006, 0.8006, 0.8006, 0.8006, 0.8006, 0.8006, 0.8006, 0.8006, 0.8006, 0.8006, 0.8006, 0.8006, 0.8006, 0.8006, 0.8006, 0.8006, 0.8006, 0.8006, 0.8006, 0.8006, 0.8006, 0.8006, 0.8006, 0.8006, 0.8006, 0.8006, 0.8006, 0.8006, 0.8006, 0.8006, 0.8006, 0.8006, 0.8006, 0.8006, 0.8006, 0.8006, 0.8006, 0.8006, 0.8006, 0.8006, 0.8006, 0.8006, 0.8006, 0.8006, 0.8006, 0.8006, 0.8006, 0.8006, 0.8006, 0.8006, 0.8006, 0.8006, 0.8006, 0.8006, 0.8006, 0.8006, 0.8006, 0.8006, 0.8006, 0.8006, 0.8006, 0.8006, 0.8006, 0.8006, 0.8006, 0.8006, 0.8006, 0.8006, 0.8006, 0.8006, 0.8006, 0.8006, 0.8006, 0.8006, 0.8006]}, {\"label\": \"Igualdade de Oportunidade\", \"range\": [0, 1], \"values\": [1.0, 0.7798685782556749, 0.7798685782556749, 0.7798685782556749, 0.7798685782556749, 0.7798685782556749, 0.7798685782556749, 0.7798685782556749, 0.7798685782556749, 0.7798685782556749, 0.7798685782556749, 0.7798685782556749, 0.7798685782556749, 0.7798685782556749, 0.7798685782556749, 0.7798685782556749, 0.7798685782556749, 0.7798685782556749, 0.7798685782556749, 0.7798685782556749, 0.7798685782556749, 0.7798685782556749, 0.7798685782556749, 0.7798685782556749, 0.7798685782556749, 0.7798685782556749, 0.7798685782556749, 0.7798685782556749, 0.7798685782556749, 0.7798685782556749, 0.7798685782556749, 0.7798685782556749, 0.7798685782556749, 0.7798685782556749, 0.7798685782556749, 0.7798685782556749, 0.7798685782556749, 0.7798685782556749, 0.7798685782556749, 0.7798685782556749, 0.7798685782556749, 0.7798685782556749, 0.7798685782556749, 0.7798685782556749, 0.7798685782556749, 0.7798685782556749, 0.7798685782556749, 0.7798685782556749, 0.7798685782556749, 0.7798685782556749, 0.7798685782556749, 0.7798685782556749, 0.7798685782556749, 0.7798685782556749, 0.7798685782556749, 0.7798685782556749, 0.7798685782556749, 0.7798685782556749, 0.7798685782556749, 0.7798685782556749, 0.7798685782556749, 0.7798685782556749, 0.7798685782556749, 0.7798685782556749, 0.7798685782556749, 0.7798685782556749, 0.7798685782556749, 0.7798685782556749, 0.7798685782556749, 0.7798685782556749, 0.7798685782556749, 0.7798685782556749, 0.7798685782556749, 0.7798685782556749, 0.7798685782556749, 0.7798685782556749, 0.7798685782556749, 0.7798685782556749, 0.7798685782556749, 0.7798685782556749, 0.7798685782556749, 0.7798685782556749, 0.7798685782556749, 0.7798685782556749, 0.7798685782556749, 0.7798685782556749, 0.7798685782556749, 0.7798685782556749, 0.7798685782556749, 0.7798685782556749, 0.7798685782556749, 0.7798685782556749, 0.7798685782556749, 0.7798685782556749, 0.7798685782556749, 0.7798685782556749, 0.7798685782556749, 0.7798685782556749, 0.7798685782556749, 0.7798685782556749, 0.7798685782556749, 0.7798685782556749, 0.7798685782556749, 0.7798685782556749, 0.7798685782556749, 0.7798685782556749, 0.7798685782556749, 0.7798685782556749, 0.7798685782556749, 0.7798685782556749, 0.7798685782556749, 0.7798685782556749, 0.7798685782556749, 0.7798685782556749, 0.7798685782556749, 0.7798685782556749, 0.7798685782556749, 0.7798685782556749, 0.7798685782556749, 0.7798685782556749, 0.7798685782556749, 0.7798685782556749, 0.7798685782556749, 0.7798685782556749, 0.7798685782556749, 0.7798685782556749, 0.7798685782556749, 0.7798685782556749, 0.7798685782556749, 0.7798685782556749, 0.7798685782556749, 0.7798685782556749, 0.7798685782556749, 0.7798685782556749, 0.7798685782556749, 0.7798685782556749, 0.7798685782556749, 0.7798685782556749, 0.7798685782556749, 0.7798685782556749, 0.7798685782556749, 0.7798685782556749, 0.7798685782556749, 0.7798685782556749, 0.7798685782556749, 0.7798685782556749, 0.7798685782556749, 0.7798685782556749, 0.7798685782556749, 0.7798685782556749]}, {\"label\": \"P porcento\", \"range\": [0, 1], \"values\": [0.0, 0.5327546419860556, 0.5327546419860556, 0.5327546419860556, 0.5327546419860556, 0.5327546419860556, 0.5327546419860556, 0.5327546419860556, 0.5327546419860556, 0.5327546419860556, 0.5327546419860556, 0.5327546419860556, 0.5327546419860556, 0.5327546419860556, 0.5327546419860556, 0.5327546419860556, 0.5327546419860556, 0.5327546419860556, 0.5327546419860556, 0.5327546419860556, 0.5327546419860556, 0.5327546419860556, 0.5327546419860556, 0.5327546419860556, 0.5327546419860556, 0.5327546419860556, 0.5327546419860556, 0.5327546419860556, 0.5327546419860556, 0.5327546419860556, 0.5327546419860556, 0.5327546419860556, 0.5327546419860556, 0.5327546419860556, 0.5327546419860556, 0.5327546419860556, 0.5327546419860556, 0.5327546419860556, 0.5327546419860556, 0.5327546419860556, 0.5327546419860556, 0.5327546419860556, 0.5327546419860556, 0.5327546419860556, 0.5327546419860556, 0.5327546419860556, 0.5327546419860556, 0.5327546419860556, 0.5327546419860556, 0.5327546419860556, 0.5327546419860556, 0.5327546419860556, 0.5327546419860556, 0.5327546419860556, 0.5327546419860556, 0.5327546419860556, 0.5327546419860556, 0.5327546419860556, 0.5327546419860556, 0.5327546419860556, 0.5327546419860556, 0.5327546419860556, 0.5327546419860556, 0.5327546419860556, 0.5327546419860556, 0.5327546419860556, 0.5327546419860556, 0.5327546419860556, 0.5327546419860556, 0.5327546419860556, 0.5327546419860556, 0.5327546419860556, 0.5327546419860556, 0.5327546419860556, 0.5327546419860556, 0.5327546419860556, 0.5327546419860556, 0.5327546419860556, 0.5327546419860556, 0.5327546419860556, 0.5327546419860556, 0.5327546419860556, 0.5327546419860556, 0.5327546419860556, 0.5327546419860556, 0.5327546419860556, 0.5327546419860556, 0.5327546419860556, 0.5327546419860556, 0.5327546419860556, 0.5327546419860556, 0.5327546419860556, 0.5327546419860556, 0.5327546419860556, 0.5327546419860556, 0.5327546419860556, 0.5327546419860556, 0.5327546419860556, 0.5327546419860556, 0.5327546419860556, 0.5327546419860556, 0.5327546419860556, 0.5327546419860556, 0.5327546419860556, 0.5327546419860556, 0.5327546419860556, 0.5327546419860556, 0.5327546419860556, 0.5327546419860556, 0.5327546419860556, 0.5327546419860556, 0.5327546419860556, 0.5327546419860556, 0.5327546419860556, 0.5327546419860556, 0.5327546419860556, 0.5327546419860556, 0.5327546419860556, 0.5327546419860556, 0.5327546419860556, 0.5327546419860556, 0.5327546419860556, 0.5327546419860556, 0.5327546419860556, 0.5327546419860556, 0.5327546419860556, 0.5327546419860556, 0.5327546419860556, 0.5327546419860556, 0.5327546419860556, 0.5327546419860556, 0.5327546419860556, 0.5327546419860556, 0.5327546419860556, 0.5327546419860556, 0.5327546419860556, 0.5327546419860556, 0.5327546419860556, 0.5327546419860556, 0.5327546419860556, 0.5327546419860556, 0.5327546419860556, 0.5327546419860556, 0.5327546419860556, 0.5327546419860556, 0.5327546419860556, 0.5327546419860556, 0.5327546419860556, 0.5327546419860556, 0.5327546419860556]}, {\"label\": \"cv_aux\", \"range\": [1.2, 3], \"values\": [1.271554217094541, 1.435361592664516, 1.435361592664516, 1.435361592664516, 1.435361592664516, 1.435361592664516, 1.435361592664516, 1.435361592664516, 1.435361592664516, 1.435361592664516, 1.435361592664516, 1.435361592664516, 1.435361592664516, 1.435361592664516, 1.435361592664516, 1.435361592664516, 1.435361592664516, 1.435361592664516, 1.435361592664516, 1.435361592664516, 1.435361592664516, 1.435361592664516, 1.435361592664516, 1.435361592664516, 1.435361592664516, 1.435361592664516, 1.435361592664516, 1.435361592664516, 1.435361592664516, 1.435361592664516, 1.435361592664516, 1.435361592664516, 1.435361592664516, 1.435361592664516, 1.435361592664516, 1.435361592664516, 1.435361592664516, 1.435361592664516, 1.435361592664516, 1.435361592664516, 1.435361592664516, 1.435361592664516, 1.435361592664516, 1.435361592664516, 1.435361592664516, 1.435361592664516, 1.435361592664516, 1.435361592664516, 1.435361592664516, 1.435361592664516, 1.435361592664516, 1.435361592664516, 1.435361592664516, 1.435361592664516, 1.435361592664516, 1.435361592664516, 1.435361592664516, 1.435361592664516, 1.435361592664516, 1.435361592664516, 1.435361592664516, 1.435361592664516, 1.435361592664516, 1.435361592664516, 1.435361592664516, 1.435361592664516, 1.435361592664516, 1.435361592664516, 1.435361592664516, 1.435361592664516, 1.435361592664516, 1.435361592664516, 1.435361592664516, 1.435361592664516, 1.435361592664516, 1.435361592664516, 1.435361592664516, 1.435361592664516, 1.435361592664516, 1.435361592664516, 1.435361592664516, 1.435361592664516, 1.435361592664516, 1.435361592664516, 1.435361592664516, 1.435361592664516, 1.435361592664516, 1.435361592664516, 1.435361592664516, 1.435361592664516, 1.435361592664516, 1.435361592664516, 1.435361592664516, 1.435361592664516, 1.435361592664516, 1.435361592664516, 1.435361592664516, 1.435361592664516, 1.435361592664516, 1.435361592664516, 1.435361592664516, 1.435361592664516, 1.435361592664516, 1.435361592664516, 1.435361592664516, 1.435361592664516, 1.435361592664516, 1.435361592664516, 1.435361592664516, 1.435361592664516, 1.435361592664516, 1.435361592664516, 1.435361592664516, 1.435361592664516, 1.435361592664516, 1.435361592664516, 1.435361592664516, 1.435361592664516, 1.435361592664516, 1.435361592664516, 1.435361592664516, 1.435361592664516, 1.435361592664516, 1.435361592664516, 1.435361592664516, 1.435361592664516, 1.435361592664516, 1.435361592664516, 1.435361592664516, 1.435361592664516, 1.435361592664516, 1.435361592664516, 1.435361592664516, 1.435361592664516, 1.435361592664516, 1.435361592664516, 1.435361592664516, 1.435361592664516, 1.435361592664516, 1.435361592664516, 1.435361592664516, 1.435361592664516, 1.435361592664516, 1.435361592664516, 1.435361592664516, 1.435361592664516, 1.435361592664516, 1.435361592664516, 1.435361592664516, 1.435361592664516]}], \"type\": \"parcoords\"}],                        {\"paper_bgcolor\": \"white\", \"plot_bgcolor\": \"white\", \"template\": {\"data\": {\"bar\": [{\"error_x\": {\"color\": \"#2a3f5f\"}, \"error_y\": {\"color\": \"#2a3f5f\"}, \"marker\": {\"line\": {\"color\": \"#E5ECF6\", \"width\": 0.5}}, \"type\": \"bar\"}], \"barpolar\": [{\"marker\": {\"line\": {\"color\": \"#E5ECF6\", \"width\": 0.5}}, \"type\": \"barpolar\"}], \"carpet\": [{\"aaxis\": {\"endlinecolor\": \"#2a3f5f\", \"gridcolor\": \"white\", \"linecolor\": \"white\", \"minorgridcolor\": \"white\", \"startlinecolor\": \"#2a3f5f\"}, \"baxis\": {\"endlinecolor\": \"#2a3f5f\", \"gridcolor\": \"white\", \"linecolor\": \"white\", \"minorgridcolor\": \"white\", \"startlinecolor\": \"#2a3f5f\"}, \"type\": \"carpet\"}], \"choropleth\": [{\"colorbar\": {\"outlinewidth\": 0, \"ticks\": \"\"}, \"type\": \"choropleth\"}], \"contour\": [{\"colorbar\": {\"outlinewidth\": 0, \"ticks\": \"\"}, \"colorscale\": [[0.0, \"#0d0887\"], [0.1111111111111111, \"#46039f\"], [0.2222222222222222, \"#7201a8\"], [0.3333333333333333, \"#9c179e\"], [0.4444444444444444, \"#bd3786\"], [0.5555555555555556, \"#d8576b\"], [0.6666666666666666, \"#ed7953\"], [0.7777777777777778, \"#fb9f3a\"], [0.8888888888888888, \"#fdca26\"], [1.0, \"#f0f921\"]], \"type\": \"contour\"}], \"contourcarpet\": [{\"colorbar\": {\"outlinewidth\": 0, \"ticks\": \"\"}, \"type\": \"contourcarpet\"}], \"heatmap\": [{\"colorbar\": {\"outlinewidth\": 0, \"ticks\": \"\"}, \"colorscale\": [[0.0, \"#0d0887\"], [0.1111111111111111, \"#46039f\"], [0.2222222222222222, \"#7201a8\"], [0.3333333333333333, \"#9c179e\"], [0.4444444444444444, \"#bd3786\"], [0.5555555555555556, \"#d8576b\"], [0.6666666666666666, \"#ed7953\"], [0.7777777777777778, \"#fb9f3a\"], [0.8888888888888888, \"#fdca26\"], [1.0, \"#f0f921\"]], \"type\": \"heatmap\"}], \"heatmapgl\": [{\"colorbar\": {\"outlinewidth\": 0, \"ticks\": \"\"}, \"colorscale\": [[0.0, \"#0d0887\"], [0.1111111111111111, \"#46039f\"], [0.2222222222222222, \"#7201a8\"], [0.3333333333333333, \"#9c179e\"], [0.4444444444444444, \"#bd3786\"], [0.5555555555555556, \"#d8576b\"], [0.6666666666666666, \"#ed7953\"], [0.7777777777777778, \"#fb9f3a\"], [0.8888888888888888, \"#fdca26\"], [1.0, \"#f0f921\"]], \"type\": \"heatmapgl\"}], \"histogram\": [{\"marker\": {\"colorbar\": {\"outlinewidth\": 0, \"ticks\": \"\"}}, \"type\": \"histogram\"}], \"histogram2d\": [{\"colorbar\": {\"outlinewidth\": 0, \"ticks\": \"\"}, \"colorscale\": [[0.0, \"#0d0887\"], [0.1111111111111111, \"#46039f\"], [0.2222222222222222, \"#7201a8\"], [0.3333333333333333, \"#9c179e\"], [0.4444444444444444, \"#bd3786\"], [0.5555555555555556, \"#d8576b\"], [0.6666666666666666, \"#ed7953\"], [0.7777777777777778, \"#fb9f3a\"], [0.8888888888888888, \"#fdca26\"], [1.0, \"#f0f921\"]], \"type\": \"histogram2d\"}], \"histogram2dcontour\": [{\"colorbar\": {\"outlinewidth\": 0, \"ticks\": \"\"}, \"colorscale\": [[0.0, \"#0d0887\"], [0.1111111111111111, \"#46039f\"], [0.2222222222222222, \"#7201a8\"], [0.3333333333333333, \"#9c179e\"], [0.4444444444444444, \"#bd3786\"], [0.5555555555555556, \"#d8576b\"], [0.6666666666666666, \"#ed7953\"], [0.7777777777777778, \"#fb9f3a\"], [0.8888888888888888, \"#fdca26\"], [1.0, \"#f0f921\"]], \"type\": \"histogram2dcontour\"}], \"mesh3d\": [{\"colorbar\": {\"outlinewidth\": 0, \"ticks\": \"\"}, \"type\": \"mesh3d\"}], \"parcoords\": [{\"line\": {\"colorbar\": {\"outlinewidth\": 0, \"ticks\": \"\"}}, \"type\": \"parcoords\"}], \"pie\": [{\"automargin\": true, \"type\": \"pie\"}], \"scatter\": [{\"marker\": {\"colorbar\": {\"outlinewidth\": 0, \"ticks\": \"\"}}, \"type\": \"scatter\"}], \"scatter3d\": [{\"line\": {\"colorbar\": {\"outlinewidth\": 0, \"ticks\": \"\"}}, \"marker\": {\"colorbar\": {\"outlinewidth\": 0, \"ticks\": \"\"}}, \"type\": \"scatter3d\"}], \"scattercarpet\": [{\"marker\": {\"colorbar\": {\"outlinewidth\": 0, \"ticks\": \"\"}}, \"type\": \"scattercarpet\"}], \"scattergeo\": [{\"marker\": {\"colorbar\": {\"outlinewidth\": 0, \"ticks\": \"\"}}, \"type\": \"scattergeo\"}], \"scattergl\": [{\"marker\": {\"colorbar\": {\"outlinewidth\": 0, \"ticks\": \"\"}}, \"type\": \"scattergl\"}], \"scattermapbox\": [{\"marker\": {\"colorbar\": {\"outlinewidth\": 0, \"ticks\": \"\"}}, \"type\": \"scattermapbox\"}], \"scatterpolar\": [{\"marker\": {\"colorbar\": {\"outlinewidth\": 0, \"ticks\": \"\"}}, \"type\": \"scatterpolar\"}], \"scatterpolargl\": [{\"marker\": {\"colorbar\": {\"outlinewidth\": 0, \"ticks\": \"\"}}, \"type\": \"scatterpolargl\"}], \"scatterternary\": [{\"marker\": {\"colorbar\": {\"outlinewidth\": 0, \"ticks\": \"\"}}, \"type\": \"scatterternary\"}], \"surface\": [{\"colorbar\": {\"outlinewidth\": 0, \"ticks\": \"\"}, \"colorscale\": [[0.0, \"#0d0887\"], [0.1111111111111111, \"#46039f\"], [0.2222222222222222, \"#7201a8\"], [0.3333333333333333, \"#9c179e\"], [0.4444444444444444, \"#bd3786\"], [0.5555555555555556, \"#d8576b\"], [0.6666666666666666, \"#ed7953\"], [0.7777777777777778, \"#fb9f3a\"], [0.8888888888888888, \"#fdca26\"], [1.0, \"#f0f921\"]], \"type\": \"surface\"}], \"table\": [{\"cells\": {\"fill\": {\"color\": \"#EBF0F8\"}, \"line\": {\"color\": \"white\"}}, \"header\": {\"fill\": {\"color\": \"#C8D4E3\"}, \"line\": {\"color\": \"white\"}}, \"type\": \"table\"}]}, \"layout\": {\"annotationdefaults\": {\"arrowcolor\": \"#2a3f5f\", \"arrowhead\": 0, \"arrowwidth\": 1}, \"coloraxis\": {\"colorbar\": {\"outlinewidth\": 0, \"ticks\": \"\"}}, \"colorscale\": {\"diverging\": [[0, \"#8e0152\"], [0.1, \"#c51b7d\"], [0.2, \"#de77ae\"], [0.3, \"#f1b6da\"], [0.4, \"#fde0ef\"], [0.5, \"#f7f7f7\"], [0.6, \"#e6f5d0\"], [0.7, \"#b8e186\"], [0.8, \"#7fbc41\"], [0.9, \"#4d9221\"], [1, \"#276419\"]], \"sequential\": [[0.0, \"#0d0887\"], [0.1111111111111111, \"#46039f\"], [0.2222222222222222, \"#7201a8\"], [0.3333333333333333, \"#9c179e\"], [0.4444444444444444, \"#bd3786\"], [0.5555555555555556, \"#d8576b\"], [0.6666666666666666, \"#ed7953\"], [0.7777777777777778, \"#fb9f3a\"], [0.8888888888888888, \"#fdca26\"], [1.0, \"#f0f921\"]], \"sequentialminus\": [[0.0, \"#0d0887\"], [0.1111111111111111, \"#46039f\"], [0.2222222222222222, \"#7201a8\"], [0.3333333333333333, \"#9c179e\"], [0.4444444444444444, \"#bd3786\"], [0.5555555555555556, \"#d8576b\"], [0.6666666666666666, \"#ed7953\"], [0.7777777777777778, \"#fb9f3a\"], [0.8888888888888888, \"#fdca26\"], [1.0, \"#f0f921\"]]}, \"colorway\": [\"#636efa\", \"#EF553B\", \"#00cc96\", \"#ab63fa\", \"#FFA15A\", \"#19d3f3\", \"#FF6692\", \"#B6E880\", \"#FF97FF\", \"#FECB52\"], \"font\": {\"color\": \"#2a3f5f\"}, \"geo\": {\"bgcolor\": \"white\", \"lakecolor\": \"white\", \"landcolor\": \"#E5ECF6\", \"showlakes\": true, \"showland\": true, \"subunitcolor\": \"white\"}, \"hoverlabel\": {\"align\": \"left\"}, \"hovermode\": \"closest\", \"mapbox\": {\"style\": \"light\"}, \"paper_bgcolor\": \"white\", \"plot_bgcolor\": \"#E5ECF6\", \"polar\": {\"angularaxis\": {\"gridcolor\": \"white\", \"linecolor\": \"white\", \"ticks\": \"\"}, \"bgcolor\": \"#E5ECF6\", \"radialaxis\": {\"gridcolor\": \"white\", \"linecolor\": \"white\", \"ticks\": \"\"}}, \"scene\": {\"xaxis\": {\"backgroundcolor\": \"#E5ECF6\", \"gridcolor\": \"white\", \"gridwidth\": 2, \"linecolor\": \"white\", \"showbackground\": true, \"ticks\": \"\", \"zerolinecolor\": \"white\"}, \"yaxis\": {\"backgroundcolor\": \"#E5ECF6\", \"gridcolor\": \"white\", \"gridwidth\": 2, \"linecolor\": \"white\", \"showbackground\": true, \"ticks\": \"\", \"zerolinecolor\": \"white\"}, \"zaxis\": {\"backgroundcolor\": \"#E5ECF6\", \"gridcolor\": \"white\", \"gridwidth\": 2, \"linecolor\": \"white\", \"showbackground\": true, \"ticks\": \"\", \"zerolinecolor\": \"white\"}}, \"shapedefaults\": {\"line\": {\"color\": \"#2a3f5f\"}}, \"ternary\": {\"aaxis\": {\"gridcolor\": \"white\", \"linecolor\": \"white\", \"ticks\": \"\"}, \"baxis\": {\"gridcolor\": \"white\", \"linecolor\": \"white\", \"ticks\": \"\"}, \"bgcolor\": \"#E5ECF6\", \"caxis\": {\"gridcolor\": \"white\", \"linecolor\": \"white\", \"ticks\": \"\"}}, \"title\": {\"x\": 0.05}, \"xaxis\": {\"automargin\": true, \"gridcolor\": \"white\", \"linecolor\": \"white\", \"ticks\": \"\", \"title\": {\"standoff\": 15}, \"zerolinecolor\": \"white\", \"zerolinewidth\": 2}, \"yaxis\": {\"automargin\": true, \"gridcolor\": \"white\", \"linecolor\": \"white\", \"ticks\": \"\", \"title\": {\"standoff\": 15}, \"zerolinecolor\": \"white\", \"zerolinewidth\": 2}}}},                        {\"responsive\": true}                    ).then(function(){\n",
       "                            \n",
       "var gd = document.getElementById('25163a18-3a83-4658-bbe4-bffdcaf95233');\n",
       "var x = new MutationObserver(function (mutations, observer) {{\n",
       "        var display = window.getComputedStyle(gd).display;\n",
       "        if (!display || display === 'none') {{\n",
       "            console.log([gd, 'removed!']);\n",
       "            Plotly.purge(gd);\n",
       "            observer.disconnect();\n",
       "        }}\n",
       "}});\n",
       "\n",
       "// Listen for the removal of the full notebook cells\n",
       "var notebookContainer = gd.closest('#notebook-container');\n",
       "if (notebookContainer) {{\n",
       "    x.observe(notebookContainer, {childList: true});\n",
       "}}\n",
       "\n",
       "// Listen for the clearing of the current output cell\n",
       "var outputEl = gd.closest('.output');\n",
       "if (outputEl) {{\n",
       "    x.observe(outputEl, {childList: true});\n",
       "}}\n",
       "\n",
       "                        })                };                });            </script>        </div>"
      ]
     },
     "metadata": {},
     "output_type": "display_data"
    }
   ],
   "source": [
    "fig = go.Figure(data=\n",
    "    go.Parcoords(\n",
    "        line = dict(),\n",
    "        dimensions = list([\n",
    "            dict(range = [0,1],\n",
    "                label = 'Acurácia', values = metrics_adult_log['Acurácia']),\n",
    "            dict(range = [0,1],\n",
    "                label = 'Igualdade de Oportunidade', values = metrics_adult_log['Igualdade de Oportunidade']),\n",
    "            dict(range = [0,1],\n",
    "                label = 'P porcento', values = metrics_adult_log['P porcento']),\n",
    "            dict(range = [1.2,3],\n",
    "                label = 'cv_aux', values = metrics_adult_log['cv_aux']),\n",
    "        ])\n",
    "    )\n",
    ")\n",
    "\n",
    "fig.update_layout(\n",
    "    plot_bgcolor = 'white',\n",
    "    paper_bgcolor = 'white'\n",
    ")\n",
    "\n",
    "fig.show()"
   ]
  },
  {
   "cell_type": "code",
   "execution_count": 31,
   "metadata": {},
   "outputs": [
    {
     "name": "stdout",
     "output_type": "stream",
     "text": [
      "C:  1.0000000000000001e-20  - c:  1e-05\n",
      "C:  1.0000000000000001e-20  - c:  0.11112\n",
      "C:  1.0000000000000001e-20  - c:  0.22223\n",
      "C:  1.0000000000000001e-20  - c:  0.33334\n",
      "C:  1.0000000000000001e-20  - c:  0.44445\n",
      "C:  1.0000000000000001e-20  - c:  0.5555599999999999\n",
      "C:  1.0000000000000001e-20  - c:  0.66667\n",
      "C:  1.0000000000000001e-20  - c:  0.7777799999999999\n",
      "C:  1.0000000000000001e-20  - c:  0.88889\n",
      "C:  1.0000000000000001e-20  - c:  1.0\n"
     ]
    }
   ],
   "source": [
    "C_values = np.linspace(1e-10, 10, 15)**2\n",
    "c_values = np.linspace(1e-5, 1, 10)\n",
    "\n",
    "metrics_adult_eqo_aux = {\"Acurácia\": [], \"Igualdade de Oportunidade\": [], \"P porcento\": [], \"Coeficiente de variação\": []}\n",
    "\n",
    "for C in C_values:\n",
    "    for c in c_values:\n",
    "        try:\n",
    "            model = EqualOpportunityClassifier(sensitive_cols=fair_feature, positive_target=True, covariance_threshold=c, \n",
    "                                               C=C, max_iter=10**3)\n",
    "            model.fit(X_train, y_train)\n",
    "            metrics_adult_eqo_aux[\"Acurácia\"].append(model.score(X_test, y_test))\n",
    "            metrics_adult_eqo_aux[\"Igualdade de Oportunidade\"].append(equal_opportunity_score(sensitive_column=fair_feature)(model,\n",
    "                                                                                                                    X_test, y_test))\n",
    "            metrics_adult_eqo_aux[\"P porcento\"].append(p_percent_score(sensitive_column=fair_feature)(model,X_test))\n",
    "            metrics_adult_eqo_aux[\"Coeficiente de variação\"].append(coefficient_of_variation(model, X_test, y_test))\n",
    "        except:\n",
    "            print(\"C: \",C,\" - c: \",c)"
   ]
  },
  {
   "cell_type": "code",
   "execution_count": 32,
   "metadata": {},
   "outputs": [],
   "source": [
    "metrics_adult_eqo = pd.DataFrame(data=metrics_adult_eqo_aux, columns=['Acurácia','Igualdade de Oportunidade','P porcento',\n",
    "                                     'Coeficiente de variação'])\n",
    "\n",
    "metrics_adult_eqo['cv_aux'] = 1/metrics_adult_eqo['Coeficiente de variação']\n",
    "\n",
    "metrics_adult_eqo = metrics_adult_eqo.drop('Coeficiente de variação', axis=1)\n",
    "dominate_metr = [any([dominate(other, row) for other in metrics_adult_eqo.values]) for row in metrics_adult_eqo.values]\n",
    "metrics_adult_eqo['dominated'] = dominate_metr"
   ]
  },
  {
   "cell_type": "code",
   "execution_count": 33,
   "metadata": {},
   "outputs": [
    {
     "data": {
      "application/vnd.plotly.v1+json": {
       "config": {
        "plotlyServerURL": "https://plot.ly"
       },
       "data": [
        {
         "dimensions": [
          {
           "label": "Acurácia",
           "range": [
            0,
            1
           ],
           "values": [
            0.8274,
            0.848,
            0.848,
            0.848,
            0.848,
            0.848,
            0.848,
            0.848,
            0.848,
            0.848,
            0.8274,
            0.848,
            0.848,
            0.848,
            0.848,
            0.848,
            0.848,
            0.848,
            0.848,
            0.848,
            0.8276,
            0.848,
            0.848,
            0.848,
            0.848,
            0.848,
            0.848,
            0.848,
            0.848,
            0.848,
            0.8276,
            0.848,
            0.848,
            0.848,
            0.848,
            0.848,
            0.848,
            0.848,
            0.848,
            0.848,
            0.8276,
            0.848,
            0.848,
            0.848,
            0.848,
            0.848,
            0.848,
            0.848,
            0.848,
            0.848,
            0.8276,
            0.848,
            0.848,
            0.848,
            0.848,
            0.848,
            0.848,
            0.848,
            0.848,
            0.848,
            0.8276,
            0.848,
            0.848,
            0.848,
            0.848,
            0.848,
            0.848,
            0.848,
            0.848,
            0.848,
            0.8276,
            0.848,
            0.848,
            0.848,
            0.848,
            0.848,
            0.848,
            0.848,
            0.848,
            0.848,
            0.8276,
            0.848,
            0.848,
            0.848,
            0.848,
            0.848,
            0.848,
            0.848,
            0.848,
            0.848,
            0.8276,
            0.848,
            0.848,
            0.848,
            0.848,
            0.848,
            0.848,
            0.848,
            0.848,
            0.848,
            0.8276,
            0.848,
            0.848,
            0.848,
            0.848,
            0.848,
            0.848,
            0.848,
            0.848,
            0.848,
            0.8276,
            0.848,
            0.848,
            0.848,
            0.848,
            0.848,
            0.848,
            0.848,
            0.848,
            0.848,
            0.8276,
            0.848,
            0.848,
            0.848,
            0.848,
            0.848,
            0.848,
            0.848,
            0.848,
            0.848,
            0.8276,
            0.848,
            0.848,
            0.848,
            0.848,
            0.848,
            0.848,
            0.848,
            0.848,
            0.848
           ]
          },
          {
           "label": "Igualdade de Oportunidade",
           "range": [
            0,
            1
           ],
           "values": [
            0.863559191233215,
            0.7786669317560515,
            0.7786669317560515,
            0.7786669317560515,
            0.7786669317560515,
            0.7786669317560515,
            0.7786669317560515,
            0.7786669317560515,
            0.7786669317560515,
            0.7786669317560515,
            0.863559191233215,
            0.7786669317560515,
            0.7786669317560515,
            0.7786669317560515,
            0.7786669317560515,
            0.7786669317560515,
            0.7786669317560515,
            0.7786669317560515,
            0.7786669317560515,
            0.7786669317560515,
            0.8614981907768111,
            0.7786669317560515,
            0.7786669317560515,
            0.7786669317560515,
            0.7786669317560515,
            0.7786669317560515,
            0.7786669317560515,
            0.7786669317560515,
            0.7786669317560515,
            0.7786669317560515,
            0.8614981907768111,
            0.7786669317560515,
            0.7786669317560515,
            0.7786669317560515,
            0.7786669317560515,
            0.7786669317560515,
            0.7786669317560515,
            0.7786669317560515,
            0.7786669317560515,
            0.7786669317560515,
            0.8614981907768111,
            0.7786669317560515,
            0.7786669317560515,
            0.7786669317560515,
            0.7786669317560515,
            0.7786669317560515,
            0.7786669317560515,
            0.7786669317560515,
            0.7786669317560515,
            0.7786669317560515,
            0.8614981907768111,
            0.7786669317560515,
            0.7786669317560515,
            0.7786669317560515,
            0.7786669317560515,
            0.7786669317560515,
            0.7786669317560515,
            0.7786669317560515,
            0.7786669317560515,
            0.7786669317560515,
            0.8614981907768111,
            0.7786669317560515,
            0.7786669317560515,
            0.7786669317560515,
            0.7786669317560515,
            0.7786669317560515,
            0.7786669317560515,
            0.7786669317560515,
            0.7786669317560515,
            0.7786669317560515,
            0.8614981907768111,
            0.7786669317560515,
            0.7786669317560515,
            0.7786669317560515,
            0.7786669317560515,
            0.7786669317560515,
            0.7786669317560515,
            0.7786669317560515,
            0.7786669317560515,
            0.7786669317560515,
            0.8614981907768111,
            0.7786669317560515,
            0.7786669317560515,
            0.7786669317560515,
            0.7786669317560515,
            0.7786669317560515,
            0.7786669317560515,
            0.7786669317560515,
            0.7786669317560515,
            0.7786669317560515,
            0.8614981907768111,
            0.7786669317560515,
            0.7786669317560515,
            0.7786669317560515,
            0.7786669317560515,
            0.7786669317560515,
            0.7786669317560515,
            0.7786669317560515,
            0.7786669317560515,
            0.7786669317560515,
            0.8614981907768111,
            0.7786669317560515,
            0.7786669317560515,
            0.7786669317560515,
            0.7786669317560515,
            0.7786669317560515,
            0.7786669317560515,
            0.7786669317560515,
            0.7786669317560515,
            0.7786669317560515,
            0.8614981907768111,
            0.7786669317560515,
            0.7786669317560515,
            0.7786669317560515,
            0.7786669317560515,
            0.7786669317560515,
            0.7786669317560515,
            0.7786669317560515,
            0.7786669317560515,
            0.7786669317560515,
            0.8614981907768111,
            0.7786669317560515,
            0.7786669317560515,
            0.7786669317560515,
            0.7786669317560515,
            0.7786669317560515,
            0.7786669317560515,
            0.7786669317560515,
            0.7786669317560515,
            0.7786669317560515,
            0.8614981907768111,
            0.7786669317560515,
            0.7786669317560515,
            0.7786669317560515,
            0.7786669317560515,
            0.7786669317560515,
            0.7786669317560515,
            0.7786669317560515,
            0.7786669317560515,
            0.7786669317560515
           ]
          },
          {
           "label": "P porcento",
           "range": [
            0,
            1
           ],
           "values": [
            0.46628619894053636,
            0.4009422488509941,
            0.4009422488509941,
            0.4009422488509941,
            0.4009422488509941,
            0.4009422488509941,
            0.4009422488509941,
            0.4009422488509941,
            0.4009422488509941,
            0.4009422488509941,
            0.46628619894053636,
            0.4009422488509941,
            0.4009422488509941,
            0.4009422488509941,
            0.4009422488509941,
            0.4009422488509941,
            0.4009422488509941,
            0.4009422488509941,
            0.4009422488509941,
            0.4009422488509941,
            0.46540641365951646,
            0.4009422488509941,
            0.4009422488509941,
            0.4009422488509941,
            0.4009422488509941,
            0.4009422488509941,
            0.4009422488509941,
            0.4009422488509941,
            0.4009422488509941,
            0.4009422488509941,
            0.46540641365951646,
            0.4009422488509941,
            0.4009422488509941,
            0.4009422488509941,
            0.4009422488509941,
            0.4009422488509941,
            0.4009422488509941,
            0.4009422488509941,
            0.4009422488509941,
            0.4009422488509941,
            0.46540641365951646,
            0.4009422488509941,
            0.4009422488509941,
            0.4009422488509941,
            0.4009422488509941,
            0.4009422488509941,
            0.4009422488509941,
            0.4009422488509941,
            0.4009422488509941,
            0.4009422488509941,
            0.46540641365951646,
            0.4009422488509941,
            0.4009422488509941,
            0.4009422488509941,
            0.4009422488509941,
            0.4009422488509941,
            0.4009422488509941,
            0.4009422488509941,
            0.4009422488509941,
            0.4009422488509941,
            0.46540641365951646,
            0.4009422488509941,
            0.4009422488509941,
            0.4009422488509941,
            0.4009422488509941,
            0.4009422488509941,
            0.4009422488509941,
            0.4009422488509941,
            0.4009422488509941,
            0.4009422488509941,
            0.46540641365951646,
            0.4009422488509941,
            0.4009422488509941,
            0.4009422488509941,
            0.4009422488509941,
            0.4009422488509941,
            0.4009422488509941,
            0.4009422488509941,
            0.4009422488509941,
            0.4009422488509941,
            0.46540641365951646,
            0.4009422488509941,
            0.4009422488509941,
            0.4009422488509941,
            0.4009422488509941,
            0.4009422488509941,
            0.4009422488509941,
            0.4009422488509941,
            0.4009422488509941,
            0.4009422488509941,
            0.46540641365951646,
            0.4009422488509941,
            0.4009422488509941,
            0.4009422488509941,
            0.4009422488509941,
            0.4009422488509941,
            0.4009422488509941,
            0.4009422488509941,
            0.4009422488509941,
            0.4009422488509941,
            0.46540641365951646,
            0.4009422488509941,
            0.4009422488509941,
            0.4009422488509941,
            0.4009422488509941,
            0.4009422488509941,
            0.4009422488509941,
            0.4009422488509941,
            0.4009422488509941,
            0.4009422488509941,
            0.46540641365951646,
            0.4009422488509941,
            0.4009422488509941,
            0.4009422488509941,
            0.4009422488509941,
            0.4009422488509941,
            0.4009422488509941,
            0.4009422488509941,
            0.4009422488509941,
            0.4009422488509941,
            0.46540641365951646,
            0.4009422488509941,
            0.4009422488509941,
            0.4009422488509941,
            0.4009422488509941,
            0.4009422488509941,
            0.4009422488509941,
            0.4009422488509941,
            0.4009422488509941,
            0.4009422488509941,
            0.46540641365951646,
            0.4009422488509941,
            0.4009422488509941,
            0.4009422488509941,
            0.4009422488509941,
            0.4009422488509941,
            0.4009422488509941,
            0.4009422488509941,
            0.4009422488509941,
            0.4009422488509941
           ]
          },
          {
           "label": "cv_aux",
           "range": [
            1.2,
            3
           ],
           "values": [
            1.5618460783181165,
            1.737852744077828,
            1.737852744077828,
            1.737852744077828,
            1.737852744077828,
            1.737852744077828,
            1.737852744077828,
            1.737852744077828,
            1.737852744077828,
            1.737852744077828,
            1.5618460783181165,
            1.737852744077828,
            1.737852744077828,
            1.737852744077828,
            1.737852744077828,
            1.737852744077828,
            1.737852744077828,
            1.737852744077828,
            1.737852744077828,
            1.737852744077828,
            1.562950358943256,
            1.737852744077828,
            1.737852744077828,
            1.737852744077828,
            1.737852744077828,
            1.737852744077828,
            1.737852744077828,
            1.737852744077828,
            1.737852744077828,
            1.737852744077828,
            1.562950358943256,
            1.737852744077828,
            1.737852744077828,
            1.737852744077828,
            1.737852744077828,
            1.737852744077828,
            1.737852744077828,
            1.737852744077828,
            1.737852744077828,
            1.737852744077828,
            1.562950358943256,
            1.737852744077828,
            1.737852744077828,
            1.737852744077828,
            1.737852744077828,
            1.737852744077828,
            1.737852744077828,
            1.737852744077828,
            1.737852744077828,
            1.737852744077828,
            1.562950358943256,
            1.737852744077828,
            1.737852744077828,
            1.737852744077828,
            1.737852744077828,
            1.737852744077828,
            1.737852744077828,
            1.737852744077828,
            1.737852744077828,
            1.737852744077828,
            1.562950358943256,
            1.737852744077828,
            1.737852744077828,
            1.737852744077828,
            1.737852744077828,
            1.737852744077828,
            1.737852744077828,
            1.737852744077828,
            1.737852744077828,
            1.737852744077828,
            1.562950358943256,
            1.737852744077828,
            1.737852744077828,
            1.737852744077828,
            1.737852744077828,
            1.737852744077828,
            1.737852744077828,
            1.737852744077828,
            1.737852744077828,
            1.737852744077828,
            1.562950358943256,
            1.737852744077828,
            1.737852744077828,
            1.737852744077828,
            1.737852744077828,
            1.737852744077828,
            1.737852744077828,
            1.737852744077828,
            1.737852744077828,
            1.737852744077828,
            1.562950358943256,
            1.737852744077828,
            1.737852744077828,
            1.737852744077828,
            1.737852744077828,
            1.737852744077828,
            1.737852744077828,
            1.737852744077828,
            1.737852744077828,
            1.737852744077828,
            1.562950358943256,
            1.737852744077828,
            1.737852744077828,
            1.737852744077828,
            1.737852744077828,
            1.737852744077828,
            1.737852744077828,
            1.737852744077828,
            1.737852744077828,
            1.737852744077828,
            1.562950358943256,
            1.737852744077828,
            1.737852744077828,
            1.737852744077828,
            1.737852744077828,
            1.737852744077828,
            1.737852744077828,
            1.737852744077828,
            1.737852744077828,
            1.737852744077828,
            1.562950358943256,
            1.737852744077828,
            1.737852744077828,
            1.737852744077828,
            1.737852744077828,
            1.737852744077828,
            1.737852744077828,
            1.737852744077828,
            1.737852744077828,
            1.737852744077828,
            1.562950358943256,
            1.737852744077828,
            1.737852744077828,
            1.737852744077828,
            1.737852744077828,
            1.737852744077828,
            1.737852744077828,
            1.737852744077828,
            1.737852744077828,
            1.737852744077828
           ]
          }
         ],
         "type": "parcoords"
        }
       ],
       "layout": {
        "paper_bgcolor": "white",
        "plot_bgcolor": "white",
        "template": {
         "data": {
          "bar": [
           {
            "error_x": {
             "color": "#2a3f5f"
            },
            "error_y": {
             "color": "#2a3f5f"
            },
            "marker": {
             "line": {
              "color": "#E5ECF6",
              "width": 0.5
             }
            },
            "type": "bar"
           }
          ],
          "barpolar": [
           {
            "marker": {
             "line": {
              "color": "#E5ECF6",
              "width": 0.5
             }
            },
            "type": "barpolar"
           }
          ],
          "carpet": [
           {
            "aaxis": {
             "endlinecolor": "#2a3f5f",
             "gridcolor": "white",
             "linecolor": "white",
             "minorgridcolor": "white",
             "startlinecolor": "#2a3f5f"
            },
            "baxis": {
             "endlinecolor": "#2a3f5f",
             "gridcolor": "white",
             "linecolor": "white",
             "minorgridcolor": "white",
             "startlinecolor": "#2a3f5f"
            },
            "type": "carpet"
           }
          ],
          "choropleth": [
           {
            "colorbar": {
             "outlinewidth": 0,
             "ticks": ""
            },
            "type": "choropleth"
           }
          ],
          "contour": [
           {
            "colorbar": {
             "outlinewidth": 0,
             "ticks": ""
            },
            "colorscale": [
             [
              0,
              "#0d0887"
             ],
             [
              0.1111111111111111,
              "#46039f"
             ],
             [
              0.2222222222222222,
              "#7201a8"
             ],
             [
              0.3333333333333333,
              "#9c179e"
             ],
             [
              0.4444444444444444,
              "#bd3786"
             ],
             [
              0.5555555555555556,
              "#d8576b"
             ],
             [
              0.6666666666666666,
              "#ed7953"
             ],
             [
              0.7777777777777778,
              "#fb9f3a"
             ],
             [
              0.8888888888888888,
              "#fdca26"
             ],
             [
              1,
              "#f0f921"
             ]
            ],
            "type": "contour"
           }
          ],
          "contourcarpet": [
           {
            "colorbar": {
             "outlinewidth": 0,
             "ticks": ""
            },
            "type": "contourcarpet"
           }
          ],
          "heatmap": [
           {
            "colorbar": {
             "outlinewidth": 0,
             "ticks": ""
            },
            "colorscale": [
             [
              0,
              "#0d0887"
             ],
             [
              0.1111111111111111,
              "#46039f"
             ],
             [
              0.2222222222222222,
              "#7201a8"
             ],
             [
              0.3333333333333333,
              "#9c179e"
             ],
             [
              0.4444444444444444,
              "#bd3786"
             ],
             [
              0.5555555555555556,
              "#d8576b"
             ],
             [
              0.6666666666666666,
              "#ed7953"
             ],
             [
              0.7777777777777778,
              "#fb9f3a"
             ],
             [
              0.8888888888888888,
              "#fdca26"
             ],
             [
              1,
              "#f0f921"
             ]
            ],
            "type": "heatmap"
           }
          ],
          "heatmapgl": [
           {
            "colorbar": {
             "outlinewidth": 0,
             "ticks": ""
            },
            "colorscale": [
             [
              0,
              "#0d0887"
             ],
             [
              0.1111111111111111,
              "#46039f"
             ],
             [
              0.2222222222222222,
              "#7201a8"
             ],
             [
              0.3333333333333333,
              "#9c179e"
             ],
             [
              0.4444444444444444,
              "#bd3786"
             ],
             [
              0.5555555555555556,
              "#d8576b"
             ],
             [
              0.6666666666666666,
              "#ed7953"
             ],
             [
              0.7777777777777778,
              "#fb9f3a"
             ],
             [
              0.8888888888888888,
              "#fdca26"
             ],
             [
              1,
              "#f0f921"
             ]
            ],
            "type": "heatmapgl"
           }
          ],
          "histogram": [
           {
            "marker": {
             "colorbar": {
              "outlinewidth": 0,
              "ticks": ""
             }
            },
            "type": "histogram"
           }
          ],
          "histogram2d": [
           {
            "colorbar": {
             "outlinewidth": 0,
             "ticks": ""
            },
            "colorscale": [
             [
              0,
              "#0d0887"
             ],
             [
              0.1111111111111111,
              "#46039f"
             ],
             [
              0.2222222222222222,
              "#7201a8"
             ],
             [
              0.3333333333333333,
              "#9c179e"
             ],
             [
              0.4444444444444444,
              "#bd3786"
             ],
             [
              0.5555555555555556,
              "#d8576b"
             ],
             [
              0.6666666666666666,
              "#ed7953"
             ],
             [
              0.7777777777777778,
              "#fb9f3a"
             ],
             [
              0.8888888888888888,
              "#fdca26"
             ],
             [
              1,
              "#f0f921"
             ]
            ],
            "type": "histogram2d"
           }
          ],
          "histogram2dcontour": [
           {
            "colorbar": {
             "outlinewidth": 0,
             "ticks": ""
            },
            "colorscale": [
             [
              0,
              "#0d0887"
             ],
             [
              0.1111111111111111,
              "#46039f"
             ],
             [
              0.2222222222222222,
              "#7201a8"
             ],
             [
              0.3333333333333333,
              "#9c179e"
             ],
             [
              0.4444444444444444,
              "#bd3786"
             ],
             [
              0.5555555555555556,
              "#d8576b"
             ],
             [
              0.6666666666666666,
              "#ed7953"
             ],
             [
              0.7777777777777778,
              "#fb9f3a"
             ],
             [
              0.8888888888888888,
              "#fdca26"
             ],
             [
              1,
              "#f0f921"
             ]
            ],
            "type": "histogram2dcontour"
           }
          ],
          "mesh3d": [
           {
            "colorbar": {
             "outlinewidth": 0,
             "ticks": ""
            },
            "type": "mesh3d"
           }
          ],
          "parcoords": [
           {
            "line": {
             "colorbar": {
              "outlinewidth": 0,
              "ticks": ""
             }
            },
            "type": "parcoords"
           }
          ],
          "pie": [
           {
            "automargin": true,
            "type": "pie"
           }
          ],
          "scatter": [
           {
            "marker": {
             "colorbar": {
              "outlinewidth": 0,
              "ticks": ""
             }
            },
            "type": "scatter"
           }
          ],
          "scatter3d": [
           {
            "line": {
             "colorbar": {
              "outlinewidth": 0,
              "ticks": ""
             }
            },
            "marker": {
             "colorbar": {
              "outlinewidth": 0,
              "ticks": ""
             }
            },
            "type": "scatter3d"
           }
          ],
          "scattercarpet": [
           {
            "marker": {
             "colorbar": {
              "outlinewidth": 0,
              "ticks": ""
             }
            },
            "type": "scattercarpet"
           }
          ],
          "scattergeo": [
           {
            "marker": {
             "colorbar": {
              "outlinewidth": 0,
              "ticks": ""
             }
            },
            "type": "scattergeo"
           }
          ],
          "scattergl": [
           {
            "marker": {
             "colorbar": {
              "outlinewidth": 0,
              "ticks": ""
             }
            },
            "type": "scattergl"
           }
          ],
          "scattermapbox": [
           {
            "marker": {
             "colorbar": {
              "outlinewidth": 0,
              "ticks": ""
             }
            },
            "type": "scattermapbox"
           }
          ],
          "scatterpolar": [
           {
            "marker": {
             "colorbar": {
              "outlinewidth": 0,
              "ticks": ""
             }
            },
            "type": "scatterpolar"
           }
          ],
          "scatterpolargl": [
           {
            "marker": {
             "colorbar": {
              "outlinewidth": 0,
              "ticks": ""
             }
            },
            "type": "scatterpolargl"
           }
          ],
          "scatterternary": [
           {
            "marker": {
             "colorbar": {
              "outlinewidth": 0,
              "ticks": ""
             }
            },
            "type": "scatterternary"
           }
          ],
          "surface": [
           {
            "colorbar": {
             "outlinewidth": 0,
             "ticks": ""
            },
            "colorscale": [
             [
              0,
              "#0d0887"
             ],
             [
              0.1111111111111111,
              "#46039f"
             ],
             [
              0.2222222222222222,
              "#7201a8"
             ],
             [
              0.3333333333333333,
              "#9c179e"
             ],
             [
              0.4444444444444444,
              "#bd3786"
             ],
             [
              0.5555555555555556,
              "#d8576b"
             ],
             [
              0.6666666666666666,
              "#ed7953"
             ],
             [
              0.7777777777777778,
              "#fb9f3a"
             ],
             [
              0.8888888888888888,
              "#fdca26"
             ],
             [
              1,
              "#f0f921"
             ]
            ],
            "type": "surface"
           }
          ],
          "table": [
           {
            "cells": {
             "fill": {
              "color": "#EBF0F8"
             },
             "line": {
              "color": "white"
             }
            },
            "header": {
             "fill": {
              "color": "#C8D4E3"
             },
             "line": {
              "color": "white"
             }
            },
            "type": "table"
           }
          ]
         },
         "layout": {
          "annotationdefaults": {
           "arrowcolor": "#2a3f5f",
           "arrowhead": 0,
           "arrowwidth": 1
          },
          "coloraxis": {
           "colorbar": {
            "outlinewidth": 0,
            "ticks": ""
           }
          },
          "colorscale": {
           "diverging": [
            [
             0,
             "#8e0152"
            ],
            [
             0.1,
             "#c51b7d"
            ],
            [
             0.2,
             "#de77ae"
            ],
            [
             0.3,
             "#f1b6da"
            ],
            [
             0.4,
             "#fde0ef"
            ],
            [
             0.5,
             "#f7f7f7"
            ],
            [
             0.6,
             "#e6f5d0"
            ],
            [
             0.7,
             "#b8e186"
            ],
            [
             0.8,
             "#7fbc41"
            ],
            [
             0.9,
             "#4d9221"
            ],
            [
             1,
             "#276419"
            ]
           ],
           "sequential": [
            [
             0,
             "#0d0887"
            ],
            [
             0.1111111111111111,
             "#46039f"
            ],
            [
             0.2222222222222222,
             "#7201a8"
            ],
            [
             0.3333333333333333,
             "#9c179e"
            ],
            [
             0.4444444444444444,
             "#bd3786"
            ],
            [
             0.5555555555555556,
             "#d8576b"
            ],
            [
             0.6666666666666666,
             "#ed7953"
            ],
            [
             0.7777777777777778,
             "#fb9f3a"
            ],
            [
             0.8888888888888888,
             "#fdca26"
            ],
            [
             1,
             "#f0f921"
            ]
           ],
           "sequentialminus": [
            [
             0,
             "#0d0887"
            ],
            [
             0.1111111111111111,
             "#46039f"
            ],
            [
             0.2222222222222222,
             "#7201a8"
            ],
            [
             0.3333333333333333,
             "#9c179e"
            ],
            [
             0.4444444444444444,
             "#bd3786"
            ],
            [
             0.5555555555555556,
             "#d8576b"
            ],
            [
             0.6666666666666666,
             "#ed7953"
            ],
            [
             0.7777777777777778,
             "#fb9f3a"
            ],
            [
             0.8888888888888888,
             "#fdca26"
            ],
            [
             1,
             "#f0f921"
            ]
           ]
          },
          "colorway": [
           "#636efa",
           "#EF553B",
           "#00cc96",
           "#ab63fa",
           "#FFA15A",
           "#19d3f3",
           "#FF6692",
           "#B6E880",
           "#FF97FF",
           "#FECB52"
          ],
          "font": {
           "color": "#2a3f5f"
          },
          "geo": {
           "bgcolor": "white",
           "lakecolor": "white",
           "landcolor": "#E5ECF6",
           "showlakes": true,
           "showland": true,
           "subunitcolor": "white"
          },
          "hoverlabel": {
           "align": "left"
          },
          "hovermode": "closest",
          "mapbox": {
           "style": "light"
          },
          "paper_bgcolor": "white",
          "plot_bgcolor": "#E5ECF6",
          "polar": {
           "angularaxis": {
            "gridcolor": "white",
            "linecolor": "white",
            "ticks": ""
           },
           "bgcolor": "#E5ECF6",
           "radialaxis": {
            "gridcolor": "white",
            "linecolor": "white",
            "ticks": ""
           }
          },
          "scene": {
           "xaxis": {
            "backgroundcolor": "#E5ECF6",
            "gridcolor": "white",
            "gridwidth": 2,
            "linecolor": "white",
            "showbackground": true,
            "ticks": "",
            "zerolinecolor": "white"
           },
           "yaxis": {
            "backgroundcolor": "#E5ECF6",
            "gridcolor": "white",
            "gridwidth": 2,
            "linecolor": "white",
            "showbackground": true,
            "ticks": "",
            "zerolinecolor": "white"
           },
           "zaxis": {
            "backgroundcolor": "#E5ECF6",
            "gridcolor": "white",
            "gridwidth": 2,
            "linecolor": "white",
            "showbackground": true,
            "ticks": "",
            "zerolinecolor": "white"
           }
          },
          "shapedefaults": {
           "line": {
            "color": "#2a3f5f"
           }
          },
          "ternary": {
           "aaxis": {
            "gridcolor": "white",
            "linecolor": "white",
            "ticks": ""
           },
           "baxis": {
            "gridcolor": "white",
            "linecolor": "white",
            "ticks": ""
           },
           "bgcolor": "#E5ECF6",
           "caxis": {
            "gridcolor": "white",
            "linecolor": "white",
            "ticks": ""
           }
          },
          "title": {
           "x": 0.05
          },
          "xaxis": {
           "automargin": true,
           "gridcolor": "white",
           "linecolor": "white",
           "ticks": "",
           "title": {
            "standoff": 15
           },
           "zerolinecolor": "white",
           "zerolinewidth": 2
          },
          "yaxis": {
           "automargin": true,
           "gridcolor": "white",
           "linecolor": "white",
           "ticks": "",
           "title": {
            "standoff": 15
           },
           "zerolinecolor": "white",
           "zerolinewidth": 2
          }
         }
        }
       }
      },
      "text/html": [
       "<div>                            <div id=\"617bc4dd-6bcf-451b-b6df-518d439052a2\" class=\"plotly-graph-div\" style=\"height:525px; width:100%;\"></div>            <script type=\"text/javascript\">                require([\"plotly\"], function(Plotly) {                    window.PLOTLYENV=window.PLOTLYENV || {};                                    if (document.getElementById(\"617bc4dd-6bcf-451b-b6df-518d439052a2\")) {                    Plotly.newPlot(                        \"617bc4dd-6bcf-451b-b6df-518d439052a2\",                        [{\"dimensions\": [{\"label\": \"Acur\\u00e1cia\", \"range\": [0, 1], \"values\": [0.8274, 0.848, 0.848, 0.848, 0.848, 0.848, 0.848, 0.848, 0.848, 0.848, 0.8274, 0.848, 0.848, 0.848, 0.848, 0.848, 0.848, 0.848, 0.848, 0.848, 0.8276, 0.848, 0.848, 0.848, 0.848, 0.848, 0.848, 0.848, 0.848, 0.848, 0.8276, 0.848, 0.848, 0.848, 0.848, 0.848, 0.848, 0.848, 0.848, 0.848, 0.8276, 0.848, 0.848, 0.848, 0.848, 0.848, 0.848, 0.848, 0.848, 0.848, 0.8276, 0.848, 0.848, 0.848, 0.848, 0.848, 0.848, 0.848, 0.848, 0.848, 0.8276, 0.848, 0.848, 0.848, 0.848, 0.848, 0.848, 0.848, 0.848, 0.848, 0.8276, 0.848, 0.848, 0.848, 0.848, 0.848, 0.848, 0.848, 0.848, 0.848, 0.8276, 0.848, 0.848, 0.848, 0.848, 0.848, 0.848, 0.848, 0.848, 0.848, 0.8276, 0.848, 0.848, 0.848, 0.848, 0.848, 0.848, 0.848, 0.848, 0.848, 0.8276, 0.848, 0.848, 0.848, 0.848, 0.848, 0.848, 0.848, 0.848, 0.848, 0.8276, 0.848, 0.848, 0.848, 0.848, 0.848, 0.848, 0.848, 0.848, 0.848, 0.8276, 0.848, 0.848, 0.848, 0.848, 0.848, 0.848, 0.848, 0.848, 0.848, 0.8276, 0.848, 0.848, 0.848, 0.848, 0.848, 0.848, 0.848, 0.848, 0.848]}, {\"label\": \"Igualdade de Oportunidade\", \"range\": [0, 1], \"values\": [0.863559191233215, 0.7786669317560515, 0.7786669317560515, 0.7786669317560515, 0.7786669317560515, 0.7786669317560515, 0.7786669317560515, 0.7786669317560515, 0.7786669317560515, 0.7786669317560515, 0.863559191233215, 0.7786669317560515, 0.7786669317560515, 0.7786669317560515, 0.7786669317560515, 0.7786669317560515, 0.7786669317560515, 0.7786669317560515, 0.7786669317560515, 0.7786669317560515, 0.8614981907768111, 0.7786669317560515, 0.7786669317560515, 0.7786669317560515, 0.7786669317560515, 0.7786669317560515, 0.7786669317560515, 0.7786669317560515, 0.7786669317560515, 0.7786669317560515, 0.8614981907768111, 0.7786669317560515, 0.7786669317560515, 0.7786669317560515, 0.7786669317560515, 0.7786669317560515, 0.7786669317560515, 0.7786669317560515, 0.7786669317560515, 0.7786669317560515, 0.8614981907768111, 0.7786669317560515, 0.7786669317560515, 0.7786669317560515, 0.7786669317560515, 0.7786669317560515, 0.7786669317560515, 0.7786669317560515, 0.7786669317560515, 0.7786669317560515, 0.8614981907768111, 0.7786669317560515, 0.7786669317560515, 0.7786669317560515, 0.7786669317560515, 0.7786669317560515, 0.7786669317560515, 0.7786669317560515, 0.7786669317560515, 0.7786669317560515, 0.8614981907768111, 0.7786669317560515, 0.7786669317560515, 0.7786669317560515, 0.7786669317560515, 0.7786669317560515, 0.7786669317560515, 0.7786669317560515, 0.7786669317560515, 0.7786669317560515, 0.8614981907768111, 0.7786669317560515, 0.7786669317560515, 0.7786669317560515, 0.7786669317560515, 0.7786669317560515, 0.7786669317560515, 0.7786669317560515, 0.7786669317560515, 0.7786669317560515, 0.8614981907768111, 0.7786669317560515, 0.7786669317560515, 0.7786669317560515, 0.7786669317560515, 0.7786669317560515, 0.7786669317560515, 0.7786669317560515, 0.7786669317560515, 0.7786669317560515, 0.8614981907768111, 0.7786669317560515, 0.7786669317560515, 0.7786669317560515, 0.7786669317560515, 0.7786669317560515, 0.7786669317560515, 0.7786669317560515, 0.7786669317560515, 0.7786669317560515, 0.8614981907768111, 0.7786669317560515, 0.7786669317560515, 0.7786669317560515, 0.7786669317560515, 0.7786669317560515, 0.7786669317560515, 0.7786669317560515, 0.7786669317560515, 0.7786669317560515, 0.8614981907768111, 0.7786669317560515, 0.7786669317560515, 0.7786669317560515, 0.7786669317560515, 0.7786669317560515, 0.7786669317560515, 0.7786669317560515, 0.7786669317560515, 0.7786669317560515, 0.8614981907768111, 0.7786669317560515, 0.7786669317560515, 0.7786669317560515, 0.7786669317560515, 0.7786669317560515, 0.7786669317560515, 0.7786669317560515, 0.7786669317560515, 0.7786669317560515, 0.8614981907768111, 0.7786669317560515, 0.7786669317560515, 0.7786669317560515, 0.7786669317560515, 0.7786669317560515, 0.7786669317560515, 0.7786669317560515, 0.7786669317560515, 0.7786669317560515]}, {\"label\": \"P porcento\", \"range\": [0, 1], \"values\": [0.46628619894053636, 0.4009422488509941, 0.4009422488509941, 0.4009422488509941, 0.4009422488509941, 0.4009422488509941, 0.4009422488509941, 0.4009422488509941, 0.4009422488509941, 0.4009422488509941, 0.46628619894053636, 0.4009422488509941, 0.4009422488509941, 0.4009422488509941, 0.4009422488509941, 0.4009422488509941, 0.4009422488509941, 0.4009422488509941, 0.4009422488509941, 0.4009422488509941, 0.46540641365951646, 0.4009422488509941, 0.4009422488509941, 0.4009422488509941, 0.4009422488509941, 0.4009422488509941, 0.4009422488509941, 0.4009422488509941, 0.4009422488509941, 0.4009422488509941, 0.46540641365951646, 0.4009422488509941, 0.4009422488509941, 0.4009422488509941, 0.4009422488509941, 0.4009422488509941, 0.4009422488509941, 0.4009422488509941, 0.4009422488509941, 0.4009422488509941, 0.46540641365951646, 0.4009422488509941, 0.4009422488509941, 0.4009422488509941, 0.4009422488509941, 0.4009422488509941, 0.4009422488509941, 0.4009422488509941, 0.4009422488509941, 0.4009422488509941, 0.46540641365951646, 0.4009422488509941, 0.4009422488509941, 0.4009422488509941, 0.4009422488509941, 0.4009422488509941, 0.4009422488509941, 0.4009422488509941, 0.4009422488509941, 0.4009422488509941, 0.46540641365951646, 0.4009422488509941, 0.4009422488509941, 0.4009422488509941, 0.4009422488509941, 0.4009422488509941, 0.4009422488509941, 0.4009422488509941, 0.4009422488509941, 0.4009422488509941, 0.46540641365951646, 0.4009422488509941, 0.4009422488509941, 0.4009422488509941, 0.4009422488509941, 0.4009422488509941, 0.4009422488509941, 0.4009422488509941, 0.4009422488509941, 0.4009422488509941, 0.46540641365951646, 0.4009422488509941, 0.4009422488509941, 0.4009422488509941, 0.4009422488509941, 0.4009422488509941, 0.4009422488509941, 0.4009422488509941, 0.4009422488509941, 0.4009422488509941, 0.46540641365951646, 0.4009422488509941, 0.4009422488509941, 0.4009422488509941, 0.4009422488509941, 0.4009422488509941, 0.4009422488509941, 0.4009422488509941, 0.4009422488509941, 0.4009422488509941, 0.46540641365951646, 0.4009422488509941, 0.4009422488509941, 0.4009422488509941, 0.4009422488509941, 0.4009422488509941, 0.4009422488509941, 0.4009422488509941, 0.4009422488509941, 0.4009422488509941, 0.46540641365951646, 0.4009422488509941, 0.4009422488509941, 0.4009422488509941, 0.4009422488509941, 0.4009422488509941, 0.4009422488509941, 0.4009422488509941, 0.4009422488509941, 0.4009422488509941, 0.46540641365951646, 0.4009422488509941, 0.4009422488509941, 0.4009422488509941, 0.4009422488509941, 0.4009422488509941, 0.4009422488509941, 0.4009422488509941, 0.4009422488509941, 0.4009422488509941, 0.46540641365951646, 0.4009422488509941, 0.4009422488509941, 0.4009422488509941, 0.4009422488509941, 0.4009422488509941, 0.4009422488509941, 0.4009422488509941, 0.4009422488509941, 0.4009422488509941]}, {\"label\": \"cv_aux\", \"range\": [1.2, 3], \"values\": [1.5618460783181165, 1.737852744077828, 1.737852744077828, 1.737852744077828, 1.737852744077828, 1.737852744077828, 1.737852744077828, 1.737852744077828, 1.737852744077828, 1.737852744077828, 1.5618460783181165, 1.737852744077828, 1.737852744077828, 1.737852744077828, 1.737852744077828, 1.737852744077828, 1.737852744077828, 1.737852744077828, 1.737852744077828, 1.737852744077828, 1.562950358943256, 1.737852744077828, 1.737852744077828, 1.737852744077828, 1.737852744077828, 1.737852744077828, 1.737852744077828, 1.737852744077828, 1.737852744077828, 1.737852744077828, 1.562950358943256, 1.737852744077828, 1.737852744077828, 1.737852744077828, 1.737852744077828, 1.737852744077828, 1.737852744077828, 1.737852744077828, 1.737852744077828, 1.737852744077828, 1.562950358943256, 1.737852744077828, 1.737852744077828, 1.737852744077828, 1.737852744077828, 1.737852744077828, 1.737852744077828, 1.737852744077828, 1.737852744077828, 1.737852744077828, 1.562950358943256, 1.737852744077828, 1.737852744077828, 1.737852744077828, 1.737852744077828, 1.737852744077828, 1.737852744077828, 1.737852744077828, 1.737852744077828, 1.737852744077828, 1.562950358943256, 1.737852744077828, 1.737852744077828, 1.737852744077828, 1.737852744077828, 1.737852744077828, 1.737852744077828, 1.737852744077828, 1.737852744077828, 1.737852744077828, 1.562950358943256, 1.737852744077828, 1.737852744077828, 1.737852744077828, 1.737852744077828, 1.737852744077828, 1.737852744077828, 1.737852744077828, 1.737852744077828, 1.737852744077828, 1.562950358943256, 1.737852744077828, 1.737852744077828, 1.737852744077828, 1.737852744077828, 1.737852744077828, 1.737852744077828, 1.737852744077828, 1.737852744077828, 1.737852744077828, 1.562950358943256, 1.737852744077828, 1.737852744077828, 1.737852744077828, 1.737852744077828, 1.737852744077828, 1.737852744077828, 1.737852744077828, 1.737852744077828, 1.737852744077828, 1.562950358943256, 1.737852744077828, 1.737852744077828, 1.737852744077828, 1.737852744077828, 1.737852744077828, 1.737852744077828, 1.737852744077828, 1.737852744077828, 1.737852744077828, 1.562950358943256, 1.737852744077828, 1.737852744077828, 1.737852744077828, 1.737852744077828, 1.737852744077828, 1.737852744077828, 1.737852744077828, 1.737852744077828, 1.737852744077828, 1.562950358943256, 1.737852744077828, 1.737852744077828, 1.737852744077828, 1.737852744077828, 1.737852744077828, 1.737852744077828, 1.737852744077828, 1.737852744077828, 1.737852744077828, 1.562950358943256, 1.737852744077828, 1.737852744077828, 1.737852744077828, 1.737852744077828, 1.737852744077828, 1.737852744077828, 1.737852744077828, 1.737852744077828, 1.737852744077828]}], \"type\": \"parcoords\"}],                        {\"paper_bgcolor\": \"white\", \"plot_bgcolor\": \"white\", \"template\": {\"data\": {\"bar\": [{\"error_x\": {\"color\": \"#2a3f5f\"}, \"error_y\": {\"color\": \"#2a3f5f\"}, \"marker\": {\"line\": {\"color\": \"#E5ECF6\", \"width\": 0.5}}, \"type\": \"bar\"}], \"barpolar\": [{\"marker\": {\"line\": {\"color\": \"#E5ECF6\", \"width\": 0.5}}, \"type\": \"barpolar\"}], \"carpet\": [{\"aaxis\": {\"endlinecolor\": \"#2a3f5f\", \"gridcolor\": \"white\", \"linecolor\": \"white\", \"minorgridcolor\": \"white\", \"startlinecolor\": \"#2a3f5f\"}, \"baxis\": {\"endlinecolor\": \"#2a3f5f\", \"gridcolor\": \"white\", \"linecolor\": \"white\", \"minorgridcolor\": \"white\", \"startlinecolor\": \"#2a3f5f\"}, \"type\": \"carpet\"}], \"choropleth\": [{\"colorbar\": {\"outlinewidth\": 0, \"ticks\": \"\"}, \"type\": \"choropleth\"}], \"contour\": [{\"colorbar\": {\"outlinewidth\": 0, \"ticks\": \"\"}, \"colorscale\": [[0.0, \"#0d0887\"], [0.1111111111111111, \"#46039f\"], [0.2222222222222222, \"#7201a8\"], [0.3333333333333333, \"#9c179e\"], [0.4444444444444444, \"#bd3786\"], [0.5555555555555556, \"#d8576b\"], [0.6666666666666666, \"#ed7953\"], [0.7777777777777778, \"#fb9f3a\"], [0.8888888888888888, \"#fdca26\"], [1.0, \"#f0f921\"]], \"type\": \"contour\"}], \"contourcarpet\": [{\"colorbar\": {\"outlinewidth\": 0, \"ticks\": \"\"}, \"type\": \"contourcarpet\"}], \"heatmap\": [{\"colorbar\": {\"outlinewidth\": 0, \"ticks\": \"\"}, \"colorscale\": [[0.0, \"#0d0887\"], [0.1111111111111111, \"#46039f\"], [0.2222222222222222, \"#7201a8\"], [0.3333333333333333, \"#9c179e\"], [0.4444444444444444, \"#bd3786\"], [0.5555555555555556, \"#d8576b\"], [0.6666666666666666, \"#ed7953\"], [0.7777777777777778, \"#fb9f3a\"], [0.8888888888888888, \"#fdca26\"], [1.0, \"#f0f921\"]], \"type\": \"heatmap\"}], \"heatmapgl\": [{\"colorbar\": {\"outlinewidth\": 0, \"ticks\": \"\"}, \"colorscale\": [[0.0, \"#0d0887\"], [0.1111111111111111, \"#46039f\"], [0.2222222222222222, \"#7201a8\"], [0.3333333333333333, \"#9c179e\"], [0.4444444444444444, \"#bd3786\"], [0.5555555555555556, \"#d8576b\"], [0.6666666666666666, \"#ed7953\"], [0.7777777777777778, \"#fb9f3a\"], [0.8888888888888888, \"#fdca26\"], [1.0, \"#f0f921\"]], \"type\": \"heatmapgl\"}], \"histogram\": [{\"marker\": {\"colorbar\": {\"outlinewidth\": 0, \"ticks\": \"\"}}, \"type\": \"histogram\"}], \"histogram2d\": [{\"colorbar\": {\"outlinewidth\": 0, \"ticks\": \"\"}, \"colorscale\": [[0.0, \"#0d0887\"], [0.1111111111111111, \"#46039f\"], [0.2222222222222222, \"#7201a8\"], [0.3333333333333333, \"#9c179e\"], [0.4444444444444444, \"#bd3786\"], [0.5555555555555556, \"#d8576b\"], [0.6666666666666666, \"#ed7953\"], [0.7777777777777778, \"#fb9f3a\"], [0.8888888888888888, \"#fdca26\"], [1.0, \"#f0f921\"]], \"type\": \"histogram2d\"}], \"histogram2dcontour\": [{\"colorbar\": {\"outlinewidth\": 0, \"ticks\": \"\"}, \"colorscale\": [[0.0, \"#0d0887\"], [0.1111111111111111, \"#46039f\"], [0.2222222222222222, \"#7201a8\"], [0.3333333333333333, \"#9c179e\"], [0.4444444444444444, \"#bd3786\"], [0.5555555555555556, \"#d8576b\"], [0.6666666666666666, \"#ed7953\"], [0.7777777777777778, \"#fb9f3a\"], [0.8888888888888888, \"#fdca26\"], [1.0, \"#f0f921\"]], \"type\": \"histogram2dcontour\"}], \"mesh3d\": [{\"colorbar\": {\"outlinewidth\": 0, \"ticks\": \"\"}, \"type\": \"mesh3d\"}], \"parcoords\": [{\"line\": {\"colorbar\": {\"outlinewidth\": 0, \"ticks\": \"\"}}, \"type\": \"parcoords\"}], \"pie\": [{\"automargin\": true, \"type\": \"pie\"}], \"scatter\": [{\"marker\": {\"colorbar\": {\"outlinewidth\": 0, \"ticks\": \"\"}}, \"type\": \"scatter\"}], \"scatter3d\": [{\"line\": {\"colorbar\": {\"outlinewidth\": 0, \"ticks\": \"\"}}, \"marker\": {\"colorbar\": {\"outlinewidth\": 0, \"ticks\": \"\"}}, \"type\": \"scatter3d\"}], \"scattercarpet\": [{\"marker\": {\"colorbar\": {\"outlinewidth\": 0, \"ticks\": \"\"}}, \"type\": \"scattercarpet\"}], \"scattergeo\": [{\"marker\": {\"colorbar\": {\"outlinewidth\": 0, \"ticks\": \"\"}}, \"type\": \"scattergeo\"}], \"scattergl\": [{\"marker\": {\"colorbar\": {\"outlinewidth\": 0, \"ticks\": \"\"}}, \"type\": \"scattergl\"}], \"scattermapbox\": [{\"marker\": {\"colorbar\": {\"outlinewidth\": 0, \"ticks\": \"\"}}, \"type\": \"scattermapbox\"}], \"scatterpolar\": [{\"marker\": {\"colorbar\": {\"outlinewidth\": 0, \"ticks\": \"\"}}, \"type\": \"scatterpolar\"}], \"scatterpolargl\": [{\"marker\": {\"colorbar\": {\"outlinewidth\": 0, \"ticks\": \"\"}}, \"type\": \"scatterpolargl\"}], \"scatterternary\": [{\"marker\": {\"colorbar\": {\"outlinewidth\": 0, \"ticks\": \"\"}}, \"type\": \"scatterternary\"}], \"surface\": [{\"colorbar\": {\"outlinewidth\": 0, \"ticks\": \"\"}, \"colorscale\": [[0.0, \"#0d0887\"], [0.1111111111111111, \"#46039f\"], [0.2222222222222222, \"#7201a8\"], [0.3333333333333333, \"#9c179e\"], [0.4444444444444444, \"#bd3786\"], [0.5555555555555556, \"#d8576b\"], [0.6666666666666666, \"#ed7953\"], [0.7777777777777778, \"#fb9f3a\"], [0.8888888888888888, \"#fdca26\"], [1.0, \"#f0f921\"]], \"type\": \"surface\"}], \"table\": [{\"cells\": {\"fill\": {\"color\": \"#EBF0F8\"}, \"line\": {\"color\": \"white\"}}, \"header\": {\"fill\": {\"color\": \"#C8D4E3\"}, \"line\": {\"color\": \"white\"}}, \"type\": \"table\"}]}, \"layout\": {\"annotationdefaults\": {\"arrowcolor\": \"#2a3f5f\", \"arrowhead\": 0, \"arrowwidth\": 1}, \"coloraxis\": {\"colorbar\": {\"outlinewidth\": 0, \"ticks\": \"\"}}, \"colorscale\": {\"diverging\": [[0, \"#8e0152\"], [0.1, \"#c51b7d\"], [0.2, \"#de77ae\"], [0.3, \"#f1b6da\"], [0.4, \"#fde0ef\"], [0.5, \"#f7f7f7\"], [0.6, \"#e6f5d0\"], [0.7, \"#b8e186\"], [0.8, \"#7fbc41\"], [0.9, \"#4d9221\"], [1, \"#276419\"]], \"sequential\": [[0.0, \"#0d0887\"], [0.1111111111111111, \"#46039f\"], [0.2222222222222222, \"#7201a8\"], [0.3333333333333333, \"#9c179e\"], [0.4444444444444444, \"#bd3786\"], [0.5555555555555556, \"#d8576b\"], [0.6666666666666666, \"#ed7953\"], [0.7777777777777778, \"#fb9f3a\"], [0.8888888888888888, \"#fdca26\"], [1.0, \"#f0f921\"]], \"sequentialminus\": [[0.0, \"#0d0887\"], [0.1111111111111111, \"#46039f\"], [0.2222222222222222, \"#7201a8\"], [0.3333333333333333, \"#9c179e\"], [0.4444444444444444, \"#bd3786\"], [0.5555555555555556, \"#d8576b\"], [0.6666666666666666, \"#ed7953\"], [0.7777777777777778, \"#fb9f3a\"], [0.8888888888888888, \"#fdca26\"], [1.0, \"#f0f921\"]]}, \"colorway\": [\"#636efa\", \"#EF553B\", \"#00cc96\", \"#ab63fa\", \"#FFA15A\", \"#19d3f3\", \"#FF6692\", \"#B6E880\", \"#FF97FF\", \"#FECB52\"], \"font\": {\"color\": \"#2a3f5f\"}, \"geo\": {\"bgcolor\": \"white\", \"lakecolor\": \"white\", \"landcolor\": \"#E5ECF6\", \"showlakes\": true, \"showland\": true, \"subunitcolor\": \"white\"}, \"hoverlabel\": {\"align\": \"left\"}, \"hovermode\": \"closest\", \"mapbox\": {\"style\": \"light\"}, \"paper_bgcolor\": \"white\", \"plot_bgcolor\": \"#E5ECF6\", \"polar\": {\"angularaxis\": {\"gridcolor\": \"white\", \"linecolor\": \"white\", \"ticks\": \"\"}, \"bgcolor\": \"#E5ECF6\", \"radialaxis\": {\"gridcolor\": \"white\", \"linecolor\": \"white\", \"ticks\": \"\"}}, \"scene\": {\"xaxis\": {\"backgroundcolor\": \"#E5ECF6\", \"gridcolor\": \"white\", \"gridwidth\": 2, \"linecolor\": \"white\", \"showbackground\": true, \"ticks\": \"\", \"zerolinecolor\": \"white\"}, \"yaxis\": {\"backgroundcolor\": \"#E5ECF6\", \"gridcolor\": \"white\", \"gridwidth\": 2, \"linecolor\": \"white\", \"showbackground\": true, \"ticks\": \"\", \"zerolinecolor\": \"white\"}, \"zaxis\": {\"backgroundcolor\": \"#E5ECF6\", \"gridcolor\": \"white\", \"gridwidth\": 2, \"linecolor\": \"white\", \"showbackground\": true, \"ticks\": \"\", \"zerolinecolor\": \"white\"}}, \"shapedefaults\": {\"line\": {\"color\": \"#2a3f5f\"}}, \"ternary\": {\"aaxis\": {\"gridcolor\": \"white\", \"linecolor\": \"white\", \"ticks\": \"\"}, \"baxis\": {\"gridcolor\": \"white\", \"linecolor\": \"white\", \"ticks\": \"\"}, \"bgcolor\": \"#E5ECF6\", \"caxis\": {\"gridcolor\": \"white\", \"linecolor\": \"white\", \"ticks\": \"\"}}, \"title\": {\"x\": 0.05}, \"xaxis\": {\"automargin\": true, \"gridcolor\": \"white\", \"linecolor\": \"white\", \"ticks\": \"\", \"title\": {\"standoff\": 15}, \"zerolinecolor\": \"white\", \"zerolinewidth\": 2}, \"yaxis\": {\"automargin\": true, \"gridcolor\": \"white\", \"linecolor\": \"white\", \"ticks\": \"\", \"title\": {\"standoff\": 15}, \"zerolinecolor\": \"white\", \"zerolinewidth\": 2}}}},                        {\"responsive\": true}                    ).then(function(){\n",
       "                            \n",
       "var gd = document.getElementById('617bc4dd-6bcf-451b-b6df-518d439052a2');\n",
       "var x = new MutationObserver(function (mutations, observer) {{\n",
       "        var display = window.getComputedStyle(gd).display;\n",
       "        if (!display || display === 'none') {{\n",
       "            console.log([gd, 'removed!']);\n",
       "            Plotly.purge(gd);\n",
       "            observer.disconnect();\n",
       "        }}\n",
       "}});\n",
       "\n",
       "// Listen for the removal of the full notebook cells\n",
       "var notebookContainer = gd.closest('#notebook-container');\n",
       "if (notebookContainer) {{\n",
       "    x.observe(notebookContainer, {childList: true});\n",
       "}}\n",
       "\n",
       "// Listen for the clearing of the current output cell\n",
       "var outputEl = gd.closest('.output');\n",
       "if (outputEl) {{\n",
       "    x.observe(outputEl, {childList: true});\n",
       "}}\n",
       "\n",
       "                        })                };                });            </script>        </div>"
      ]
     },
     "metadata": {},
     "output_type": "display_data"
    }
   ],
   "source": [
    "fig = go.Figure(data=\n",
    "    go.Parcoords(\n",
    "        line = dict(),\n",
    "        dimensions = list([\n",
    "            dict(range = [0,1],\n",
    "                label = 'Acurácia', values = metrics_adult_eqo['Acurácia']),\n",
    "            dict(range = [0,1],\n",
    "                label = 'Igualdade de Oportunidade', values = metrics_adult_eqo['Igualdade de Oportunidade']),\n",
    "            dict(range = [0,1],\n",
    "                label = 'P porcento', values = metrics_adult_eqo['P porcento']),\n",
    "            dict(range = [1.2,3],\n",
    "                label = 'cv_aux', values = metrics_adult_eqo['cv_aux']),\n",
    "        ])\n",
    "    )\n",
    ")\n",
    "\n",
    "fig.update_layout(\n",
    "    plot_bgcolor = 'white',\n",
    "    paper_bgcolor = 'white'\n",
    ")\n",
    "\n",
    "fig.show()"
   ]
  },
  {
   "cell_type": "code",
   "execution_count": null,
   "metadata": {},
   "outputs": [],
   "source": []
  },
  {
   "cell_type": "markdown",
   "metadata": {},
   "source": [
    "## COMPAS"
   ]
  },
  {
   "cell_type": "code",
   "execution_count": 15,
   "metadata": {},
   "outputs": [],
   "source": [
    "data = pd.read_csv(\"Datasets - Limpos/compas_onerace.csv\")\n",
    "fair_feature = \"not_white\"\n",
    "pred_feature = \"Two_yr_Recidivism\""
   ]
  },
  {
   "cell_type": "code",
   "execution_count": 16,
   "metadata": {},
   "outputs": [],
   "source": [
    "X = data.drop([pred_feature], axis=1)\n",
    "y = data[pred_feature]\n",
    "\n",
    "\n",
    "X_tv, X_test, y_tv, y_test = train_test_split(X, y, test_size=1000)\n",
    "X_train, X_val, y_train, y_val = train_test_split(X_tv, y_tv, test_size=1000)"
   ]
  },
  {
   "cell_type": "code",
   "execution_count": null,
   "metadata": {},
   "outputs": [],
   "source": []
  }
 ],
 "metadata": {
  "kernelspec": {
   "display_name": "Python 3",
   "language": "python",
   "name": "python3"
  },
  "language_info": {
   "codemirror_mode": {
    "name": "ipython",
    "version": 3
   },
   "file_extension": ".py",
   "mimetype": "text/x-python",
   "name": "python",
   "nbconvert_exporter": "python",
   "pygments_lexer": "ipython3",
   "version": "3.6.10"
  }
 },
 "nbformat": 4,
 "nbformat_minor": 4
}
