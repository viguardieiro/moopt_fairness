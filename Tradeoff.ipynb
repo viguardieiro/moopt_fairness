{
 "cells": [
  {
   "cell_type": "code",
   "execution_count": 1,
   "metadata": {},
   "outputs": [
    {
     "name": "stdout",
     "output_type": "stream",
     "text": [
      "Using Python-MIP package version 1.7.2\n"
     ]
    },
    {
     "name": "stderr",
     "output_type": "stream",
     "text": [
      "/home/marcos/Documents/Experiments/envs/crime/lib/python3.7/site-packages/sklearn/utils/deprecation.py:143: FutureWarning: The sklearn.linear_model.base module is  deprecated in version 0.22 and will be removed in version 0.24. The corresponding classes / functions should instead be imported from sklearn.linear_model. Anything that cannot be imported from sklearn.linear_model is now part of the private API.\n",
      "  warnings.warn(message, FutureWarning)\n"
     ]
    }
   ],
   "source": [
    "import pandas as pd\n",
    "from sklearn.model_selection import train_test_split\n",
    "from sklearn.linear_model import LogisticRegression\n",
    "from sklego.metrics import equal_opportunity_score\n",
    "from sklego.metrics import p_percent_score\n",
    "from sklearn.metrics import log_loss, accuracy_score\n",
    "from sklearn.utils.extmath import squared_norm\n",
    "from moopt.scalarization_interface import scalar_interface, single_interface, w_interface\n",
    "from moopt import monise\n",
    "import numpy as np\n",
    "import optuna, sklearn, sklearn.datasets\n",
    "from fair_models import coefficient_of_variation, MOOLogisticRegression, FindCLogisticRegression, FindCCLogisticRegression\n",
    "from fair_models import calc_reweight\n",
    "from fair_models import FairScalarization, EqualScalarization\n",
    "from fair_models import SimpleVoting\n",
    "\n",
    "import plotly.graph_objects as go"
   ]
  },
  {
   "cell_type": "code",
   "execution_count": 2,
   "metadata": {},
   "outputs": [],
   "source": [
    "from sklego.linear_model import DemographicParityClassifier\n",
    "from sklego.linear_model import EqualOpportunityClassifier\n",
    "from sklearn.linear_model import LogisticRegression"
   ]
  },
  {
   "cell_type": "code",
   "execution_count": 3,
   "metadata": {},
   "outputs": [],
   "source": [
    "def dominate(a, b):\n",
    "    sense = np.array([1, 1, 1, 1])\n",
    "    if all((sense*a)>=(sense*b)) and any((sense*a)>(sense*b)):\n",
    "        return 1\n",
    "    else:\n",
    "        return 0"
   ]
  },
  {
   "cell_type": "code",
   "execution_count": 4,
   "metadata": {},
   "outputs": [],
   "source": [
    "def all_metrics_parallel_coord(dataset, metric = 'accuracy',\n",
    "                               acc_min = None, acc_max = None,\n",
    "                               eo_min = None, eo_max = None,\n",
    "                               pp_min=None, pp_max = None,\n",
    "                               cv_min = None, cv_max = None):\n",
    "    \n",
    "    dominate_metr = np.array([any([dominate(other, row)\n",
    "                                   for other in dataset.values])\n",
    "                              for row in dataset.values])\n",
    "    \n",
    "    metrics = ['accuracy', 'equal_opportunity', 'p_percent', 'c_variation']\n",
    "    \n",
    "    met_aux = {\"Modelo\": [],\n",
    "              \"Acurácia\": [],\n",
    "              \"Igualdade de Oportunidade\": [],\n",
    "              \"P porcento\": [],\n",
    "              \"Coeficiente de variação\": [],\n",
    "              'model_id': [],\n",
    "              \"metric_id\": [],\n",
    "              \"metric\": []}\n",
    "\n",
    "    for m in range(len(metrics)):\n",
    "        metric = metrics[m]\n",
    "        \n",
    "        met_aux[\"Modelo\"].extend(['RegLogistica', 'EqualOp', 'ParDemo', 'Reweight', 'MinMax', 'ErroMO', 'ProbMO'])\n",
    "        met_aux[\"Acurácia\"].extend([dataset.loc[('LogReg',metric),metrics[0]],\n",
    "                          dataset.loc[('RegEqual',metric),metrics[0]],\n",
    "                          dataset.loc[('RegDemo',metric),metrics[0]],\n",
    "                          dataset.loc[('RegRewe',metric),metrics[0]],\n",
    "                          dataset.loc[('Minimax',metric),metrics[0]],\n",
    "                          dataset.loc[('RegMoo',metric),metrics[0]],\n",
    "                          dataset.loc[('RegEqMoo',metric),metrics[0]]])\n",
    "        met_aux[\"Igualdade de Oportunidade\"].extend([dataset.loc[('LogReg',metric),metrics[1]],\n",
    "                          dataset.loc[('RegEqual',metric),metrics[1]],\n",
    "                          dataset.loc[('RegDemo',metric),metrics[1]],\n",
    "                          dataset.loc[('RegRewe',metric),metrics[1]],\n",
    "                          dataset.loc[('Minimax',metric),metrics[1]],\n",
    "                          dataset.loc[('RegMoo',metric),metrics[1]],\n",
    "                          dataset.loc[('RegEqMoo',metric),metrics[1]]])\n",
    "        met_aux[\"P porcento\"].extend([dataset.loc[('LogReg',metric),metrics[2]],\n",
    "                          dataset.loc[('RegEqual',metric),metrics[2]],\n",
    "                          dataset.loc[('RegDemo',metric),metrics[2]],\n",
    "                          dataset.loc[('RegRewe',metric),metrics[2]],\n",
    "                          dataset.loc[('Minimax',metric),metrics[2]],\n",
    "                          dataset.loc[('RegMoo',metric),metrics[2]],\n",
    "                          dataset.loc[('RegEqMoo',metric),metrics[2]]])\n",
    "        met_aux[\"Coeficiente de variação\"].extend([dataset.loc[('LogReg',metric),metrics[3]],\n",
    "                          dataset.loc[('RegEqual',metric),metrics[3]],\n",
    "                          dataset.loc[('RegDemo',metric),metrics[3]],\n",
    "                          dataset.loc[('RegRewe',metric),metrics[3]],\n",
    "                          dataset.loc[('Minimax',metric),metrics[3]],\n",
    "                          dataset.loc[('RegMoo',metric),metrics[3]],\n",
    "                          dataset.loc[('RegEqMoo',metric),metrics[3]]])\n",
    "        met_aux['model_id'].extend([0,1,2,3,4,5,6])\n",
    "        met_aux['metric_id'].extend([m,m,m,m,m,m,m])\n",
    "        met_aux['metric'].extend([metric,metric,metric,metric,metric,metric,metric])\n",
    "\n",
    "    m_metrics = pd.DataFrame(data=met_aux, \n",
    "                                columns=['Modelo','Acurácia','Igualdade de Oportunidade','P porcento',\n",
    "                                         'Coeficiente de variação','model_id', 'metric_id', 'metric'])\n",
    "    \n",
    "    acc_min = acc_min if acc_min is not None else m_metrics['Acurácia'].min()\n",
    "    acc_max = acc_max if acc_max is not None else m_metrics['Acurácia'].max()\n",
    "    eo_min = eo_min if eo_min is not None else m_metrics['Igualdade de Oportunidade'].min()\n",
    "    eo_max = eo_max if eo_max is not None else m_metrics['Igualdade de Oportunidade'].max()\n",
    "    pp_min = pp_min if pp_min is not None else m_metrics['P porcento'].min()\n",
    "    pp_max = pp_max if pp_max is not None else m_metrics['P porcento'].max()\n",
    "    cv_min = cv_min if cv_min is not None else m_metrics['Coeficiente de variação'].min()\n",
    "    cv_max = cv_max if cv_max is not None else m_metrics['Coeficiente de variação'].max()\n",
    "\n",
    "    fig = go.FigureWidget(data=\n",
    "        go.Parcoords(\n",
    "            line = dict(color = m_metrics['model_id'], \n",
    "                        colorscale = [(0.0, colors[0]),(0.14, colors[0]),\n",
    "                            (0.14, colors[1]), (0.28, colors[1]),\n",
    "                            (0.28, colors[2]),(0.42, colors[2]),\n",
    "                            (0.42, colors[3]),(0.56, colors[3]),\n",
    "                            (0.56, colors[4]),(0.7, colors[4]),\n",
    "                            (0.7, colors[5]),(0.84, colors[5]),\n",
    "                            (0.84, colors[6]),(1.0, colors[6])], \n",
    "                        showscale = True, cmin = 0, cmax = 6,\n",
    "                       colorbar = {'tickvals': m_metrics['model_id'].tolist(),\n",
    "                              'ticktext': m_metrics['Modelo'].tolist(),\n",
    "                                  'title': 'Modelo'}),\n",
    "            dimensions = list([\n",
    "                dict(tickvals = [0,1,2,3],\n",
    "                     ticktext = ['Acurácia','Iguald Oport','P porcento',\n",
    "                                         'Coef de var'],\n",
    "                     label = 'Métrica otimizada', values = m_metrics['metric_id']),\n",
    "                #dict(tickvals = [0,1,2,3,4,5,6],\n",
    "                #     ticktext = ['LogReg', 'RegEqual', 'RegDemo', 'RegRewe', 'Minimax','RegMoo', 'RegEqMoo'],\n",
    "                #     label = 'Modelo', values = m_metrics['model_id']),\n",
    "                dict(range = [acc_min, acc_max],\n",
    "                    label = 'Acurácia', values = m_metrics['Acurácia']),\n",
    "                dict(range = [eo_min, eo_max],\n",
    "                    label = 'Igualdade de Oportunidade', values = m_metrics['Igualdade de Oportunidade']),\n",
    "                dict(range = [pp_min, pp_max],\n",
    "                    label = 'P porcento', values = m_metrics['P porcento']),\n",
    "                dict(range = [cv_min, cv_max],\n",
    "                    label = 'Coeficiente de variação', values = m_metrics['Coeficiente de variação']),\n",
    "            ])\n",
    "        ), layout = dict(height=400)#title = \"Resultado para cada modelo - German\")\n",
    "    )\n",
    "    \n",
    "    def selection_handler(trace, points, selector):\n",
    "        print(points, selection)\n",
    "\n",
    "    fig.data[0].on_selection(selection_handler)\n",
    "    \n",
    "    \n",
    "    fig.update_layout(\n",
    "        plot_bgcolor = 'white',\n",
    "        paper_bgcolor = 'white'\n",
    "    )\n",
    "\n",
    "    return fig"
   ]
  },
  {
   "cell_type": "markdown",
   "metadata": {},
   "source": [
    "## German"
   ]
  },
  {
   "cell_type": "code",
   "execution_count": 5,
   "metadata": {},
   "outputs": [],
   "source": [
    "german_result_metrics = pd.read_csv('Results/german_result_metrics.csv')\n",
    "german_result_metrics = german_result_metrics.set_index(['Unnamed: 0', 'Unnamed: 1'])"
   ]
  },
  {
   "cell_type": "code",
   "execution_count": 6,
   "metadata": {},
   "outputs": [],
   "source": [
    "german_data = pd.read_csv(\"Datasets - Limpos/german.csv\")\n",
    "german_fair_feature = \"Sex\"\n",
    "german_pred_feature = \"Risk\""
   ]
  },
  {
   "cell_type": "code",
   "execution_count": 7,
   "metadata": {},
   "outputs": [],
   "source": [
    "german_data = german_data.drop(\"Unnamed: 0\", axis=1)"
   ]
  },
  {
   "cell_type": "markdown",
   "metadata": {},
   "source": [
    "### Fair Moo"
   ]
  },
  {
   "cell_type": "code",
   "execution_count": 8,
   "metadata": {},
   "outputs": [],
   "source": [
    "X = german_data.drop([german_pred_feature], axis=1)\n",
    "y = german_data[german_pred_feature]\n",
    "\n",
    "\n",
    "X_tv, X_test, y_tv, y_test = train_test_split(X, y, test_size=200)\n",
    "X_train, X_val, y_train, y_val = train_test_split(X_tv, y_tv, test_size=100)"
   ]
  },
  {
   "cell_type": "code",
   "execution_count": 9,
   "metadata": {},
   "outputs": [],
   "source": [
    "m_aux = {\"Acurácia\": [], \"Igualdade de Oportunidade\": [], \"P porcento\": [], \"Coeficiente de variação\": []}"
   ]
  },
  {
   "cell_type": "code",
   "execution_count": 10,
   "metadata": {
    "scrolled": true
   },
   "outputs": [
    {
     "name": "stderr",
     "output_type": "stream",
     "text": [
      "2020-11-18 09:49:26,354 - moopt.monise - DEBUG: Finding 1th individual minima\n",
      "2020-11-18 09:49:26,388 - moopt.monise - DEBUG: Finding 2th individual minima\n",
      "2020-11-18 09:49:26,420 - moopt.monise - DEBUG: Finding 3th individual minima\n"
     ]
    },
    {
     "name": "stdout",
     "output_type": "stream",
     "text": [
      "Using license file /home/marcos/gurobi.lic\n",
      "Academic license - for non-commercial use only\n"
     ]
    },
    {
     "name": "stderr",
     "output_type": "stream",
     "text": [
      "2020-11-18 09:49:26,506 - moopt.monise - DEBUG: 4th solution - importance: 1.0\n",
      "2020-11-18 09:49:26,543 - moopt.monise - DEBUG: 5th solution - importance: 1.0\n",
      "2020-11-18 09:49:26,564 - moopt.monise - DEBUG: 6th solution - importance: 1.0\n",
      "2020-11-18 09:49:26,619 - moopt.monise - DEBUG: 7th solution - importance: 1.0\n",
      "2020-11-18 09:49:26,657 - moopt.monise - DEBUG: 8th solution - importance: 1.0\n",
      "2020-11-18 09:49:26,690 - moopt.monise - DEBUG: 9th solution - importance: 0.5339384566285893\n",
      "2020-11-18 09:49:26,749 - moopt.monise - DEBUG: 10th solution - importance: 0.49587277117558626\n",
      "2020-11-18 09:49:26,782 - moopt.monise - DEBUG: 11th solution - importance: 0.20448755961946657\n",
      "2020-11-18 09:49:26,817 - moopt.monise - DEBUG: 12th solution - importance: 0.20142087616789603\n",
      "2020-11-18 09:49:26,854 - moopt.monise - DEBUG: 13th solution - importance: 0.15097986835517202\n",
      "2020-11-18 09:49:26,895 - moopt.monise - DEBUG: 14th solution - importance: 0.1492935916337049\n",
      "2020-11-18 09:49:26,944 - moopt.monise - DEBUG: 15th solution - importance: 0.12962795408025038\n",
      "2020-11-18 09:49:27,005 - moopt.monise - DEBUG: 16th solution - importance: 0.12807943706387226\n",
      "2020-11-18 09:49:27,057 - moopt.monise - DEBUG: 17th solution - importance: 0.11371161017442721\n",
      "2020-11-18 09:49:27,112 - moopt.monise - DEBUG: 18th solution - importance: 0.09662858618769857\n",
      "2020-11-18 09:49:27,179 - moopt.monise - DEBUG: 19th solution - importance: 0.08200209703819789\n",
      "2020-11-18 09:49:27,236 - moopt.monise - DEBUG: 20th solution - importance: 0.06527515646562264\n",
      "2020-11-18 09:49:27,306 - moopt.monise - DEBUG: 21th solution - importance: 0.06264138522935433\n",
      "2020-11-18 09:49:27,370 - moopt.monise - DEBUG: 22th solution - importance: 0.04291905768375246\n",
      "2020-11-18 09:49:27,441 - moopt.monise - DEBUG: 23th solution - importance: 0.03929562776393451\n",
      "2020-11-18 09:49:27,514 - moopt.monise - DEBUG: 24th solution - importance: 0.036186072427871814\n",
      "2020-11-18 09:49:27,584 - moopt.monise - DEBUG: 25th solution - importance: 0.036150252694144014\n",
      "2020-11-18 09:49:27,664 - moopt.monise - DEBUG: 26th solution - importance: 0.03519430334708441\n",
      "2020-11-18 09:49:27,752 - moopt.monise - DEBUG: 27th solution - importance: 0.03287466324791853\n",
      "2020-11-18 09:49:27,843 - moopt.monise - DEBUG: 28th solution - importance: 0.03149109419547324\n",
      "2020-11-18 09:49:27,961 - moopt.monise - DEBUG: 29th solution - importance: 0.024588885803501215\n",
      "2020-11-18 09:49:28,071 - moopt.monise - DEBUG: 30th solution - importance: 0.019254107702680132\n",
      "2020-11-18 09:49:28,183 - moopt.monise - DEBUG: 31th solution - importance: 0.01735214891127751\n",
      "2020-11-18 09:49:28,289 - moopt.monise - DEBUG: 32th solution - importance: 0.014003907438614908\n",
      "2020-11-18 09:49:28,412 - moopt.monise - DEBUG: 33th solution - importance: 0.012467628462677571\n",
      "2020-11-18 09:49:28,543 - moopt.monise - DEBUG: 34th solution - importance: 0.012425872248998632\n",
      "2020-11-18 09:49:28,673 - moopt.monise - DEBUG: 35th solution - importance: 0.011495480137541416\n",
      "2020-11-18 09:49:28,795 - moopt.monise - DEBUG: 36th solution - importance: 0.01044991953336018\n",
      "2020-11-18 09:49:28,927 - moopt.monise - DEBUG: 37th solution - importance: 0.010348348336307971\n",
      "2020-11-18 09:49:29,075 - moopt.monise - DEBUG: 38th solution - importance: 0.010318117695985368\n",
      "2020-11-18 09:49:29,236 - moopt.monise - DEBUG: 39th solution - importance: 0.009361788170342963\n",
      "2020-11-18 09:49:29,394 - moopt.monise - DEBUG: 40th solution - importance: 0.008898531469842454\n",
      "2020-11-18 09:49:29,559 - moopt.monise - DEBUG: 41th solution - importance: 0.00857637124154845\n",
      "2020-11-18 09:49:29,729 - moopt.monise - DEBUG: 42th solution - importance: 0.008300401173294166\n",
      "2020-11-18 09:49:29,905 - moopt.monise - DEBUG: 43th solution - importance: 0.008115279712420584\n",
      "2020-11-18 09:49:30,088 - moopt.monise - DEBUG: 44th solution - importance: 0.007759900813656433\n",
      "2020-11-18 09:49:30,263 - moopt.monise - DEBUG: 45th solution - importance: 0.0071736807846438655\n",
      "2020-11-18 09:49:30,466 - moopt.monise - DEBUG: 46th solution - importance: 0.006821673612956874\n",
      "2020-11-18 09:49:30,666 - moopt.monise - DEBUG: 47th solution - importance: 0.006389078154307614\n",
      "2020-11-18 09:49:30,878 - moopt.monise - DEBUG: 48th solution - importance: 0.006097852428913853\n",
      "2020-11-18 09:49:31,092 - moopt.monise - DEBUG: 49th solution - importance: 0.006064079443595775\n",
      "2020-11-18 09:49:31,313 - moopt.monise - DEBUG: 50th solution - importance: 0.006020892537574352\n",
      "2020-11-18 09:49:31,584 - moopt.monise - DEBUG: 51th solution - importance: 0.0055152230794513965\n",
      "2020-11-18 09:49:31,844 - moopt.monise - DEBUG: 52th solution - importance: 0.0054464751184504535\n",
      "2020-11-18 09:49:32,138 - moopt.monise - DEBUG: 53th solution - importance: 0.005382775817663659\n",
      "2020-11-18 09:49:32,402 - moopt.monise - DEBUG: 54th solution - importance: 0.005092357835318058\n",
      "2020-11-18 09:49:32,671 - moopt.monise - DEBUG: 55th solution - importance: 0.0048542289304182255\n",
      "2020-11-18 09:49:32,974 - moopt.monise - DEBUG: 56th solution - importance: 0.004586562753161654\n",
      "2020-11-18 09:49:33,299 - moopt.monise - DEBUG: 57th solution - importance: 0.00441084914897113\n",
      "2020-11-18 09:49:33,616 - moopt.monise - DEBUG: 58th solution - importance: 0.004261217984461908\n",
      "2020-11-18 09:49:33,939 - moopt.monise - DEBUG: 59th solution - importance: 0.004174581479064737\n",
      "2020-11-18 09:49:34,272 - moopt.monise - DEBUG: 60th solution - importance: 0.0038138323074555012\n",
      "2020-11-18 09:49:34,606 - moopt.monise - DEBUG: 61th solution - importance: 0.0037742422863946096\n",
      "2020-11-18 09:49:34,959 - moopt.monise - DEBUG: 62th solution - importance: 0.003665276794394474\n",
      "2020-11-18 09:49:35,341 - moopt.monise - DEBUG: 63th solution - importance: 0.003440830750691014\n",
      "2020-11-18 09:49:35,697 - moopt.monise - DEBUG: 64th solution - importance: 0.003364896947099675\n",
      "2020-11-18 09:49:36,070 - moopt.monise - DEBUG: 65th solution - importance: 0.00323081146456403\n",
      "2020-11-18 09:49:36,460 - moopt.monise - DEBUG: 66th solution - importance: 0.003205958472612932\n",
      "2020-11-18 09:49:36,885 - moopt.monise - DEBUG: 67th solution - importance: 0.0031336782498047563\n",
      "2020-11-18 09:49:37,326 - moopt.monise - DEBUG: 68th solution - importance: 0.003131302668191923\n",
      "2020-11-18 09:49:37,777 - moopt.monise - DEBUG: 69th solution - importance: 0.0029023817144190225\n",
      "2020-11-18 09:49:38,218 - moopt.monise - DEBUG: 70th solution - importance: 0.0028133171528248084\n",
      "2020-11-18 09:49:38,683 - moopt.monise - DEBUG: 71th solution - importance: 0.0027475324493071397\n",
      "2020-11-18 09:49:39,182 - moopt.monise - DEBUG: 72th solution - importance: 0.002598584924162172\n",
      "2020-11-18 09:49:39,687 - moopt.monise - DEBUG: 73th solution - importance: 0.002569690764861327\n",
      "2020-11-18 09:49:40,187 - moopt.monise - DEBUG: 74th solution - importance: 0.0025488458735469966\n",
      "2020-11-18 09:49:40,748 - moopt.monise - DEBUG: 75th solution - importance: 0.002322051789035861\n",
      "2020-11-18 09:49:41,294 - moopt.monise - DEBUG: 76th solution - importance: 0.002290108313361785\n",
      "2020-11-18 09:49:41,849 - moopt.monise - DEBUG: 77th solution - importance: 0.002248415593525519\n",
      "2020-11-18 09:49:42,466 - moopt.monise - DEBUG: 78th solution - importance: 0.002223009050422172\n",
      "2020-11-18 09:49:43,093 - moopt.monise - DEBUG: 79th solution - importance: 0.002215317073078126\n",
      "2020-11-18 09:49:43,637 - moopt.monise - DEBUG: 80th solution - importance: 0.0021856377323602673\n",
      "2020-11-18 09:49:44,312 - moopt.monise - DEBUG: 81th solution - importance: 0.0021010312318820975\n",
      "2020-11-18 09:49:45,032 - moopt.monise - DEBUG: 82th solution - importance: 0.00209492378530231\n",
      "2020-11-18 09:49:46,132 - moopt.monise - DEBUG: 83th solution - importance: 0.0020312675740588944\n",
      "2020-11-18 09:49:46,808 - moopt.monise - DEBUG: 84th solution - importance: 0.0019598460694894232\n",
      "2020-11-18 09:49:47,947 - moopt.monise - DEBUG: 85th solution - importance: 0.0019224840183889097\n",
      "2020-11-18 09:49:49,252 - moopt.monise - DEBUG: 86th solution - importance: 0.001919453184038481\n",
      "2020-11-18 09:49:50,476 - moopt.monise - DEBUG: 87th solution - importance: 0.0018695040032413865\n",
      "2020-11-18 09:49:51,899 - moopt.monise - DEBUG: 88th solution - importance: 0.0018453307515094025\n",
      "2020-11-18 09:49:53,106 - moopt.monise - DEBUG: 89th solution - importance: 0.0017511708408816272\n"
     ]
    },
    {
     "name": "stderr",
     "output_type": "stream",
     "text": [
      "2020-11-18 09:49:54,435 - moopt.monise - DEBUG: 90th solution - importance: 0.0017383360654968849\n",
      "2020-11-18 09:49:55,820 - moopt.monise - DEBUG: 91th solution - importance: 0.0016947682286262283\n",
      "2020-11-18 09:49:57,189 - moopt.monise - DEBUG: 92th solution - importance: 0.0016834691171875497\n",
      "2020-11-18 09:49:58,633 - moopt.monise - DEBUG: 93th solution - importance: 0.0016162799990929791\n",
      "2020-11-18 09:50:00,130 - moopt.monise - DEBUG: 94th solution - importance: 0.0015105385633296608\n",
      "2020-11-18 09:50:01,624 - moopt.monise - DEBUG: 95th solution - importance: 0.0015103112656135456\n",
      "2020-11-18 09:50:03,012 - moopt.monise - DEBUG: 96th solution - importance: 0.001500946365577341\n",
      "2020-11-18 09:50:04,601 - moopt.monise - DEBUG: 97th solution - importance: 0.0014351578491263273\n",
      "2020-11-18 09:50:06,057 - moopt.monise - DEBUG: 98th solution - importance: 0.0014215295102785795\n",
      "2020-11-18 09:50:07,543 - moopt.monise - DEBUG: 99th solution - importance: 0.0014145061107510085\n",
      "2020-11-18 09:50:09,353 - moopt.monise - DEBUG: 100th solution - importance: 0.0013579053087591048\n",
      "2020-11-18 09:50:11,113 - moopt.monise - DEBUG: 101th solution - importance: 0.00134121304295666\n",
      "2020-11-18 09:50:12,979 - moopt.monise - DEBUG: 102th solution - importance: 0.0013385329502154414\n",
      "2020-11-18 09:50:14,665 - moopt.monise - DEBUG: 103th solution - importance: 0.0013297813995581226\n",
      "2020-11-18 09:50:16,724 - moopt.monise - DEBUG: 104th solution - importance: 0.0012963155762716096\n",
      "2020-11-18 09:50:18,677 - moopt.monise - DEBUG: 105th solution - importance: 0.001293913775131121\n",
      "2020-11-18 09:50:20,735 - moopt.monise - DEBUG: 106th solution - importance: 0.0012412353084273304\n",
      "2020-11-18 09:50:22,793 - moopt.monise - DEBUG: 107th solution - importance: 0.0012175509087528362\n",
      "2020-11-18 09:50:24,603 - moopt.monise - DEBUG: 108th solution - importance: 0.0012169382136722787\n",
      "2020-11-18 09:50:26,661 - moopt.monise - DEBUG: 109th solution - importance: 0.0012124270613440098\n",
      "2020-11-18 09:50:28,720 - moopt.monise - DEBUG: 110th solution - importance: 0.0011901654423667456\n",
      "2020-11-18 09:50:30,780 - moopt.monise - DEBUG: 111th solution - importance: 0.001178888248581561\n",
      "2020-11-18 09:50:32,841 - moopt.monise - DEBUG: 112th solution - importance: 0.001156946130315099\n",
      "2020-11-18 09:50:34,901 - moopt.monise - DEBUG: 113th solution - importance: 0.0011169918519189647\n",
      "2020-11-18 09:50:36,960 - moopt.monise - DEBUG: 114th solution - importance: 0.0011115576088560556\n",
      "2020-11-18 09:50:39,021 - moopt.monise - DEBUG: 115th solution - importance: 0.0010674944749288233\n",
      "2020-11-18 09:50:41,082 - moopt.monise - DEBUG: 116th solution - importance: 0.0010255792034962476\n",
      "2020-11-18 09:50:43,144 - moopt.monise - DEBUG: 117th solution - importance: 0.001020765759591775\n",
      "2020-11-18 09:50:45,206 - moopt.monise - DEBUG: 118th solution - importance: 0.0010078580605909731\n",
      "2020-11-18 09:50:47,269 - moopt.monise - DEBUG: 119th solution - importance: 0.0009891917301066795\n",
      "2020-11-18 09:50:49,332 - moopt.monise - DEBUG: 120th solution - importance: 0.0009648740375658687\n",
      "2020-11-18 09:50:51,396 - moopt.monise - DEBUG: 121th solution - importance: 0.000964541089319954\n",
      "2020-11-18 09:50:53,458 - moopt.monise - DEBUG: 122th solution - importance: 0.0009357754546953237\n",
      "2020-11-18 09:50:55,523 - moopt.monise - DEBUG: 123th solution - importance: 0.000916522968478528\n",
      "2020-11-18 09:50:57,588 - moopt.monise - DEBUG: 124th solution - importance: 0.0009159947020857209\n",
      "2020-11-18 09:50:59,653 - moopt.monise - DEBUG: 125th solution - importance: 0.000913600357511608\n",
      "2020-11-18 09:51:01,718 - moopt.monise - DEBUG: 126th solution - importance: 0.0008949579037344278\n",
      "2020-11-18 09:51:03,784 - moopt.monise - DEBUG: 127th solution - importance: 0.0008947521679502442\n",
      "2020-11-18 09:51:05,851 - moopt.monise - DEBUG: 128th solution - importance: 0.0008833600814343608\n",
      "2020-11-18 09:51:07,917 - moopt.monise - DEBUG: 129th solution - importance: 0.0008833600814343608\n",
      "2020-11-18 09:51:09,988 - moopt.monise - DEBUG: 130th solution - importance: 0.0008833600814343608\n",
      "2020-11-18 09:51:12,070 - moopt.monise - DEBUG: 131th solution - importance: 0.0008833600814343608\n",
      "2020-11-18 09:51:14,139 - moopt.monise - DEBUG: 132th solution - importance: 0.0008412299167880906\n",
      "2020-11-18 09:51:16,206 - moopt.monise - DEBUG: 133th solution - importance: 0.0008412299167880906\n",
      "2020-11-18 09:51:18,347 - moopt.monise - DEBUG: 134th solution - importance: 0.0008412299167880906\n",
      "2020-11-18 09:51:20,415 - moopt.monise - DEBUG: 135th solution - importance: 0.0008336039457095558\n",
      "2020-11-18 09:51:22,484 - moopt.monise - DEBUG: 136th solution - importance: 0.0008162763294314578\n",
      "2020-11-18 09:51:24,555 - moopt.monise - DEBUG: 137th solution - importance: 0.0007656737891429292\n",
      "2020-11-18 09:51:26,626 - moopt.monise - DEBUG: 138th solution - importance: 0.0007378910138385251\n",
      "2020-11-18 09:51:28,698 - moopt.monise - DEBUG: 139th solution - importance: 0.0007348382955441945\n",
      "2020-11-18 09:51:30,768 - moopt.monise - DEBUG: 140th solution - importance: 0.0007513387993536027\n",
      "2020-11-18 09:51:32,841 - moopt.monise - DEBUG: 141th solution - importance: 0.0007513387993536027\n",
      "2020-11-18 09:51:34,915 - moopt.monise - DEBUG: 142th solution - importance: 0.0007513387993536027\n",
      "2020-11-18 09:51:36,988 - moopt.monise - DEBUG: 143th solution - importance: 0.0007513387993536027\n",
      "2020-11-18 09:51:39,060 - moopt.monise - DEBUG: 144th solution - importance: 0.0007513387993536027\n",
      "2020-11-18 09:51:41,134 - moopt.monise - DEBUG: 145th solution - importance: 0.0007274912529967138\n",
      "2020-11-18 09:51:43,210 - moopt.monise - DEBUG: 146th solution - importance: 0.0007274912529967138\n",
      "2020-11-18 09:51:45,286 - moopt.monise - DEBUG: 147th solution - importance: 0.0007274912529967138\n",
      "2020-11-18 09:51:47,360 - moopt.monise - DEBUG: 148th solution - importance: 0.0007088438886516649\n",
      "2020-11-18 09:51:49,436 - moopt.monise - DEBUG: 149th solution - importance: 0.0007088438886516649\n",
      "2020-11-18 09:51:51,513 - moopt.monise - DEBUG: 150th solution - importance: 0.0007088438886516649\n",
      "/home/marcos/Documents/Experiments/envs/crime/lib/python3.7/site-packages/sklego/metrics.py:155: RuntimeWarning: invalid value encountered in double_scalars\n",
      "  score = np.minimum(p_y1_z1 / p_y1_z0, p_y1_z0 / p_y1_z1)\n",
      "/home/marcos/Documents/Experiments/envs/crime/lib/python3.7/site-packages/sklego/metrics.py:79: RuntimeWarning: No samples with y_hat == 1 for Sex == 1, returning 0\n",
      "  RuntimeWarning,\n"
     ]
    }
   ],
   "source": [
    "moo_err = monise(weightedScalar=FairScalarization(X_train, y_train, 'Sex'),\n",
    "             singleScalar=FairScalarization(X_train, y_train, 'Sex'),\n",
    "              nodeTimeLimit=2, targetSize=150,\n",
    "              targetGap=0, nodeGap=0.01, norm=False)\n",
    "\n",
    "moo_err.optimize()\n",
    "\n",
    "sols = []\n",
    "\n",
    "for solution in moo_err.solutionsList:\n",
    "    sols.append(solution.x)\n",
    "    m_aux[\"Acurácia\"].append(solution.x.score(X_test, y_test))\n",
    "    m_aux[\"Igualdade de Oportunidade\"].append(equal_opportunity_score(sensitive_column=german_fair_feature)(solution.x,\n",
    "                                                                                                            X_test, y_test))\n",
    "    m_aux[\"P porcento\"].append(p_percent_score(sensitive_column=german_fair_feature)(solution.x,X_test))\n",
    "    m_aux[\"Coeficiente de variação\"].append(coefficient_of_variation(solution.x, X_test, y_test))"
   ]
  },
  {
   "cell_type": "code",
   "execution_count": 11,
   "metadata": {},
   "outputs": [],
   "source": [
    "m_metrics = pd.DataFrame(data=m_aux, columns=['Acurácia','Igualdade de Oportunidade','P porcento',\n",
    "                                     'Coeficiente de variação'])"
   ]
  },
  {
   "cell_type": "code",
   "execution_count": 12,
   "metadata": {},
   "outputs": [],
   "source": [
    "m_metrics['cv_aux'] = 1/m_metrics['Coeficiente de variação']"
   ]
  },
  {
   "cell_type": "code",
   "execution_count": 13,
   "metadata": {},
   "outputs": [
    {
     "data": {
      "text/html": [
       "<div>\n",
       "<style scoped>\n",
       "    .dataframe tbody tr th:only-of-type {\n",
       "        vertical-align: middle;\n",
       "    }\n",
       "\n",
       "    .dataframe tbody tr th {\n",
       "        vertical-align: top;\n",
       "    }\n",
       "\n",
       "    .dataframe thead th {\n",
       "        text-align: right;\n",
       "    }\n",
       "</style>\n",
       "<table border=\"1\" class=\"dataframe\">\n",
       "  <thead>\n",
       "    <tr style=\"text-align: right;\">\n",
       "      <th></th>\n",
       "      <th>Acurácia</th>\n",
       "      <th>Igualdade de Oportunidade</th>\n",
       "      <th>P porcento</th>\n",
       "      <th>cv_aux</th>\n",
       "      <th>dominated</th>\n",
       "    </tr>\n",
       "  </thead>\n",
       "  <tbody>\n",
       "    <tr>\n",
       "      <th>0</th>\n",
       "      <td>0.57</td>\n",
       "      <td>0.91</td>\n",
       "      <td>0.95</td>\n",
       "      <td>1.27</td>\n",
       "      <td>1</td>\n",
       "    </tr>\n",
       "    <tr>\n",
       "      <th>1</th>\n",
       "      <td>0.60</td>\n",
       "      <td>0.81</td>\n",
       "      <td>0.70</td>\n",
       "      <td>1.74</td>\n",
       "      <td>1</td>\n",
       "    </tr>\n",
       "    <tr>\n",
       "      <th>2</th>\n",
       "      <td>0.42</td>\n",
       "      <td>0.99</td>\n",
       "      <td>0.00</td>\n",
       "      <td>0.61</td>\n",
       "      <td>1</td>\n",
       "    </tr>\n",
       "    <tr>\n",
       "      <th>3</th>\n",
       "      <td>0.60</td>\n",
       "      <td>0.92</td>\n",
       "      <td>0.98</td>\n",
       "      <td>1.41</td>\n",
       "      <td>1</td>\n",
       "    </tr>\n",
       "    <tr>\n",
       "      <th>4</th>\n",
       "      <td>0.57</td>\n",
       "      <td>0.97</td>\n",
       "      <td>0.93</td>\n",
       "      <td>1.27</td>\n",
       "      <td>1</td>\n",
       "    </tr>\n",
       "    <tr>\n",
       "      <th>...</th>\n",
       "      <td>...</td>\n",
       "      <td>...</td>\n",
       "      <td>...</td>\n",
       "      <td>...</td>\n",
       "      <td>...</td>\n",
       "    </tr>\n",
       "    <tr>\n",
       "      <th>145</th>\n",
       "      <td>0.61</td>\n",
       "      <td>0.96</td>\n",
       "      <td>0.98</td>\n",
       "      <td>1.59</td>\n",
       "      <td>0</td>\n",
       "    </tr>\n",
       "    <tr>\n",
       "      <th>146</th>\n",
       "      <td>0.63</td>\n",
       "      <td>0.98</td>\n",
       "      <td>0.93</td>\n",
       "      <td>1.49</td>\n",
       "      <td>1</td>\n",
       "    </tr>\n",
       "    <tr>\n",
       "      <th>147</th>\n",
       "      <td>0.62</td>\n",
       "      <td>0.92</td>\n",
       "      <td>0.97</td>\n",
       "      <td>1.47</td>\n",
       "      <td>1</td>\n",
       "    </tr>\n",
       "    <tr>\n",
       "      <th>148</th>\n",
       "      <td>0.62</td>\n",
       "      <td>0.89</td>\n",
       "      <td>0.99</td>\n",
       "      <td>1.43</td>\n",
       "      <td>1</td>\n",
       "    </tr>\n",
       "    <tr>\n",
       "      <th>149</th>\n",
       "      <td>0.62</td>\n",
       "      <td>0.88</td>\n",
       "      <td>0.99</td>\n",
       "      <td>1.41</td>\n",
       "      <td>1</td>\n",
       "    </tr>\n",
       "  </tbody>\n",
       "</table>\n",
       "<p>150 rows × 5 columns</p>\n",
       "</div>"
      ],
      "text/plain": [
       "     Acurácia  Igualdade de Oportunidade  P porcento  cv_aux  dominated\n",
       "0        0.57                       0.91        0.95    1.27          1\n",
       "1        0.60                       0.81        0.70    1.74          1\n",
       "2        0.42                       0.99        0.00    0.61          1\n",
       "3        0.60                       0.92        0.98    1.41          1\n",
       "4        0.57                       0.97        0.93    1.27          1\n",
       "..        ...                        ...         ...     ...        ...\n",
       "145      0.61                       0.96        0.98    1.59          0\n",
       "146      0.63                       0.98        0.93    1.49          1\n",
       "147      0.62                       0.92        0.97    1.47          1\n",
       "148      0.62                       0.89        0.99    1.43          1\n",
       "149      0.62                       0.88        0.99    1.41          1\n",
       "\n",
       "[150 rows x 5 columns]"
      ]
     },
     "execution_count": 13,
     "metadata": {},
     "output_type": "execute_result"
    }
   ],
   "source": [
    "new_results = m_metrics.copy()//0.01/100\n",
    "new_results = new_results.drop('Coeficiente de variação', axis=1)\n",
    "dominate_metr = [1*any([dominate(other, row) for other in new_results.values]) for row in new_results.values]\n",
    "new_results['dominated'] = dominate_metr\n",
    "new_results"
   ]
  },
  {
   "cell_type": "code",
   "execution_count": 14,
   "metadata": {},
   "outputs": [],
   "source": [
    "#new_results[new_results.dominated] = 1\n",
    "#new_results[new_results.dominated == False] = 0\n",
    "#new_results = new_results[new_results.dominated == False]"
   ]
  },
  {
   "cell_type": "code",
   "execution_count": 30,
   "metadata": {
    "scrolled": false
   },
   "outputs": [
    {
     "data": {
      "application/vnd.jupyter.widget-view+json": {
       "model_id": "5d86341a4825438799b1d7669149f8c4",
       "version_major": 2,
       "version_minor": 0
      },
      "text/plain": [
       "FigureWidget({\n",
       "    'data': [{'dimensions': [{'label': 'Acurácia',\n",
       "                              'range': [0, 1…"
      ]
     },
     "metadata": {},
     "output_type": "display_data"
    }
   ],
   "source": [
    "fig = go.FigureWidget(data=\n",
    "    go.Parcoords(\n",
    "        #line = dict(color = new_results['dominated'], \n",
    "        #                colorscale = ['rgba(11,66,255)', 'rgba(11,0,255)']),\n",
    "        dimensions = list([\n",
    "            dict(range = [0,1],\n",
    "                label = 'Acurácia', values = new_results['Acurácia']),\n",
    "            dict(range = [0,1],\n",
    "                label = 'Igualdade de Oportunidade', values = new_results['Igualdade de Oportunidade']),\n",
    "            dict(range = [0,1],\n",
    "                label = 'P porcento', values = new_results['P porcento']),\n",
    "            dict(range = [0.5,2.5],\n",
    "                label = 'Coeficiente de variação', values = new_results['cv_aux']),\n",
    "        ])\n",
    "    )\n",
    ")\n",
    "\n",
    "fig.update_layout(\n",
    "    plot_bgcolor = 'white',\n",
    "    paper_bgcolor = 'white'\n",
    ")\n",
    "\n",
    "fig"
   ]
  },
  {
   "cell_type": "code",
   "execution_count": 33,
   "metadata": {},
   "outputs": [],
   "source": [
    "def calc_res(model__):\n",
    "    return [accuracy_score(y_test, model__.predict(X_test)),\n",
    "            equal_opportunity_score(sensitive_column=german_fair_feature)(model__, X_test, y_test),\n",
    "            p_percent_score(sensitive_column=german_fair_feature)(model__, X_test),\n",
    "            coefficient_of_variation(model__, X_test, y_test)]"
   ]
  },
  {
   "cell_type": "code",
   "execution_count": 34,
   "metadata": {},
   "outputs": [
    {
     "name": "stdout",
     "output_type": "stream",
     "text": [
      "0.65\n",
      "0.99\n",
      "0.99\n",
      "0.61\n"
     ]
    },
    {
     "data": {
      "text/html": [
       "<div>\n",
       "<style scoped>\n",
       "    .dataframe tbody tr th:only-of-type {\n",
       "        vertical-align: middle;\n",
       "    }\n",
       "\n",
       "    .dataframe tbody tr th {\n",
       "        vertical-align: top;\n",
       "    }\n",
       "\n",
       "    .dataframe thead th {\n",
       "        text-align: right;\n",
       "    }\n",
       "</style>\n",
       "<table border=\"1\" class=\"dataframe\">\n",
       "  <thead>\n",
       "    <tr style=\"text-align: right;\">\n",
       "      <th></th>\n",
       "      <th>Acurácia</th>\n",
       "      <th>Igualdade de Oportunidade</th>\n",
       "      <th>P porcento</th>\n",
       "      <th>Coeficiente de variação</th>\n",
       "    </tr>\n",
       "  </thead>\n",
       "  <tbody>\n",
       "    <tr>\n",
       "      <th>Acurácia</th>\n",
       "      <td>0.65</td>\n",
       "      <td>0.97</td>\n",
       "      <td>0.91</td>\n",
       "      <td>1.57</td>\n",
       "    </tr>\n",
       "    <tr>\n",
       "      <th>Igualdade de Oportunidade</th>\n",
       "      <td>0.42</td>\n",
       "      <td>0.99</td>\n",
       "      <td>0</td>\n",
       "      <td>0.61</td>\n",
       "    </tr>\n",
       "    <tr>\n",
       "      <th>P porcento</th>\n",
       "      <td>0.62</td>\n",
       "      <td>0.88</td>\n",
       "      <td>0.99</td>\n",
       "      <td>1.41</td>\n",
       "    </tr>\n",
       "    <tr>\n",
       "      <th>Coeficiente de variação</th>\n",
       "      <td>0.42</td>\n",
       "      <td>0.99</td>\n",
       "      <td>0</td>\n",
       "      <td>0.61</td>\n",
       "    </tr>\n",
       "    <tr>\n",
       "      <th>Ensemble</th>\n",
       "      <td>0.625</td>\n",
       "      <td>0.968318</td>\n",
       "      <td>0.968638</td>\n",
       "      <td>0.677226</td>\n",
       "    </tr>\n",
       "  </tbody>\n",
       "</table>\n",
       "</div>"
      ],
      "text/plain": [
       "                          Acurácia Igualdade de Oportunidade P porcento  \\\n",
       "Acurácia                      0.65                      0.97       0.91   \n",
       "Igualdade de Oportunidade     0.42                      0.99          0   \n",
       "P porcento                    0.62                      0.88       0.99   \n",
       "Coeficiente de variação       0.42                      0.99          0   \n",
       "Ensemble                     0.625                  0.968318   0.968638   \n",
       "\n",
       "                          Coeficiente de variação  \n",
       "Acurácia                                     1.57  \n",
       "Igualdade de Oportunidade                    0.61  \n",
       "P porcento                                   1.41  \n",
       "Coeficiente de variação                      0.61  \n",
       "Ensemble                                 0.677226  "
      ]
     },
     "execution_count": 34,
     "metadata": {},
     "output_type": "execute_result"
    }
   ],
   "source": [
    "metrics = ['Acurácia', 'Igualdade de Oportunidade', 'P porcento', 'Coeficiente de variação']\n",
    "ens_resuls = pd.DataFrame(index=metrics+['Ensemble'], columns=metrics)\n",
    "for metr in metrics:\n",
    "    if metr=='Coeficiente de variação':\n",
    "        min_idx = np.argmin(np.array(new_results['cv_aux']))\n",
    "        print(np.array(new_results['cv_aux'])[min_idx])\n",
    "    else:\n",
    "        min_idx = np.argmax(np.array(new_results[metr]))\n",
    "        print(np.array(new_results[metr])[min_idx])\n",
    "        \n",
    "    #min_model = moo_err.solutionsList[min_idx].x\n",
    "    ens_resuls.loc[metr,:] = new_results.iloc[min_idx,:].values[:-1]#calc_res(min_model)\n",
    "    \n",
    "selected_idx = new_results.index\n",
    "for dimension in fig.data[0]['dimensions']:\n",
    "    if dimension['label']=='Coeficiente de variação':\n",
    "        label = 'cv_aux'\n",
    "    else:\n",
    "        label = dimension['label']\n",
    "        \n",
    "    constr = dimension['constraintrange']\n",
    "    curr_pd = new_results.loc[selected_idx,:]\n",
    "    if constr is not None:\n",
    "        selected_idx = curr_pd[(curr_pd[label]>=constr[0])&(curr_pd[label]<=constr[1])].index\n",
    "        \n",
    "models_t = [(\"Model \"+str(idx), moo_model.x) \n",
    "            for idx, moo_model in enumerate(moo_err.solutionsList)\n",
    "            if idx in selected_idx]\n",
    "ensemble_model = SimpleVoting(estimators=models_t, voting='soft')\n",
    "\n",
    "ens_resuls.loc['Ensemble',:] = calc_res(ensemble_model)\n",
    "ens_resuls"
   ]
  },
  {
   "cell_type": "code",
   "execution_count": 18,
   "metadata": {},
   "outputs": [],
   "source": [
    "m_aux2 = {\"Acurácia\": [], \"Igualdade de Oportunidade\": [], \"P porcento\": [], \"Coeficiente de variação\": []}"
   ]
  },
  {
   "cell_type": "code",
   "execution_count": 19,
   "metadata": {},
   "outputs": [
    {
     "name": "stderr",
     "output_type": "stream",
     "text": [
      "2020-11-17 22:16:28,703 - moopt.monise - DEBUG: Finding 1th individual minima\n",
      "2020-11-17 22:16:28,731 - moopt.monise - DEBUG: Finding 2th individual minima\n",
      "2020-11-17 22:16:28,740 - moopt.monise - DEBUG: Finding 3th individual minima\n",
      "2020-11-17 22:16:28,749 - moopt.monise - DEBUG: Finding 4th individual minima\n",
      "2020-11-17 22:16:28,772 - moopt.monise - DEBUG: 5th solution - importance: 1.0\n",
      "2020-11-17 22:16:28,798 - moopt.monise - DEBUG: 6th solution - importance: 1.000058871949015\n",
      "2020-11-17 22:16:28,812 - moopt.monise - DEBUG: 7th solution - importance: 1.000058871949015\n",
      "2020-11-17 22:16:28,826 - moopt.monise - DEBUG: 8th solution - importance: 1.000058871949015\n",
      "2020-11-17 22:16:28,840 - moopt.monise - DEBUG: 9th solution - importance: 1.000058871949015\n",
      "2020-11-17 22:16:28,854 - moopt.monise - DEBUG: 10th solution - importance: 1.000058871949015\n",
      "/home/marcos/Documents/Experiments/envs/crime/lib/python3.7/site-packages/sklego/metrics.py:155: RuntimeWarning:\n",
      "\n",
      "invalid value encountered in double_scalars\n",
      "\n",
      "/home/marcos/Documents/Experiments/envs/crime/lib/python3.7/site-packages/sklego/metrics.py:79: RuntimeWarning:\n",
      "\n",
      "No samples with y_hat == 1 for Sex == 1, returning 0\n",
      "\n"
     ]
    }
   ],
   "source": [
    "moo = monise(weightedScalar=EqualScalarization(X_train, y_train, 'Sex'),\n",
    "             singleScalar=EqualScalarization(X_train, y_train, 'Sex'),\n",
    "              nodeTimeLimit=2, targetSize=150,\n",
    "              targetGap=0, nodeGap=0.01, norm=False)\n",
    "\n",
    "moo.optimize()\n",
    "\n",
    "sols = []\n",
    "\n",
    "for solution in moo.solutionsList:\n",
    "    sols.append(solution.x)\n",
    "    m_aux2[\"Acurácia\"].append(solution.x.score(X_test, y_test))\n",
    "    m_aux2[\"Igualdade de Oportunidade\"].append(equal_opportunity_score(sensitive_column=german_fair_feature)(solution.x,\n",
    "                                                                                                            X_test, y_test))\n",
    "    m_aux2[\"P porcento\"].append(p_percent_score(sensitive_column=german_fair_feature)(solution.x,X_test))\n",
    "    m_aux2[\"Coeficiente de variação\"].append(coefficient_of_variation(solution.x, X_test, y_test))"
   ]
  },
  {
   "cell_type": "code",
   "execution_count": 17,
   "metadata": {},
   "outputs": [],
   "source": [
    "m_metrics2 = pd.DataFrame(data=m_aux2, columns=['Acurácia','Igualdade de Oportunidade','P porcento',\n",
    "                                     'Coeficiente de variação'])"
   ]
  },
  {
   "cell_type": "code",
   "execution_count": 18,
   "metadata": {},
   "outputs": [
    {
     "data": {
      "text/html": [
       "<div>\n",
       "<style scoped>\n",
       "    .dataframe tbody tr th:only-of-type {\n",
       "        vertical-align: middle;\n",
       "    }\n",
       "\n",
       "    .dataframe tbody tr th {\n",
       "        vertical-align: top;\n",
       "    }\n",
       "\n",
       "    .dataframe thead th {\n",
       "        text-align: right;\n",
       "    }\n",
       "</style>\n",
       "<table border=\"1\" class=\"dataframe\">\n",
       "  <thead>\n",
       "    <tr style=\"text-align: right;\">\n",
       "      <th></th>\n",
       "      <th>Acurácia</th>\n",
       "      <th>Igualdade de Oportunidade</th>\n",
       "      <th>P porcento</th>\n",
       "      <th>Coeficiente de variação</th>\n",
       "    </tr>\n",
       "  </thead>\n",
       "  <tbody>\n",
       "    <tr>\n",
       "      <th>0</th>\n",
       "      <td>0.645</td>\n",
       "      <td>0.813492</td>\n",
       "      <td>0.666095</td>\n",
       "      <td>0.685490</td>\n",
       "    </tr>\n",
       "    <tr>\n",
       "      <th>1</th>\n",
       "      <td>0.550</td>\n",
       "      <td>1.000000</td>\n",
       "      <td>1.000000</td>\n",
       "      <td>0.485215</td>\n",
       "    </tr>\n",
       "    <tr>\n",
       "      <th>2</th>\n",
       "      <td>0.550</td>\n",
       "      <td>1.000000</td>\n",
       "      <td>1.000000</td>\n",
       "      <td>0.485215</td>\n",
       "    </tr>\n",
       "    <tr>\n",
       "      <th>3</th>\n",
       "      <td>0.450</td>\n",
       "      <td>1.000000</td>\n",
       "      <td>0.000000</td>\n",
       "      <td>1.563472</td>\n",
       "    </tr>\n",
       "    <tr>\n",
       "      <th>4</th>\n",
       "      <td>0.590</td>\n",
       "      <td>0.995935</td>\n",
       "      <td>0.959960</td>\n",
       "      <td>0.666933</td>\n",
       "    </tr>\n",
       "    <tr>\n",
       "      <th>5</th>\n",
       "      <td>0.550</td>\n",
       "      <td>1.000000</td>\n",
       "      <td>1.000000</td>\n",
       "      <td>0.485215</td>\n",
       "    </tr>\n",
       "    <tr>\n",
       "      <th>6</th>\n",
       "      <td>0.550</td>\n",
       "      <td>1.000000</td>\n",
       "      <td>1.000000</td>\n",
       "      <td>0.485215</td>\n",
       "    </tr>\n",
       "    <tr>\n",
       "      <th>7</th>\n",
       "      <td>0.550</td>\n",
       "      <td>1.000000</td>\n",
       "      <td>1.000000</td>\n",
       "      <td>0.485215</td>\n",
       "    </tr>\n",
       "    <tr>\n",
       "      <th>8</th>\n",
       "      <td>0.550</td>\n",
       "      <td>1.000000</td>\n",
       "      <td>1.000000</td>\n",
       "      <td>0.485215</td>\n",
       "    </tr>\n",
       "    <tr>\n",
       "      <th>9</th>\n",
       "      <td>0.550</td>\n",
       "      <td>1.000000</td>\n",
       "      <td>1.000000</td>\n",
       "      <td>0.485215</td>\n",
       "    </tr>\n",
       "  </tbody>\n",
       "</table>\n",
       "</div>"
      ],
      "text/plain": [
       "   Acurácia  Igualdade de Oportunidade  P porcento  Coeficiente de variação\n",
       "0     0.645                   0.813492    0.666095                 0.685490\n",
       "1     0.550                   1.000000    1.000000                 0.485215\n",
       "2     0.550                   1.000000    1.000000                 0.485215\n",
       "3     0.450                   1.000000    0.000000                 1.563472\n",
       "4     0.590                   0.995935    0.959960                 0.666933\n",
       "5     0.550                   1.000000    1.000000                 0.485215\n",
       "6     0.550                   1.000000    1.000000                 0.485215\n",
       "7     0.550                   1.000000    1.000000                 0.485215\n",
       "8     0.550                   1.000000    1.000000                 0.485215\n",
       "9     0.550                   1.000000    1.000000                 0.485215"
      ]
     },
     "execution_count": 18,
     "metadata": {},
     "output_type": "execute_result"
    }
   ],
   "source": [
    "m_metrics2"
   ]
  },
  {
   "cell_type": "code",
   "execution_count": 19,
   "metadata": {},
   "outputs": [],
   "source": [
    "m_metrics2['cv_aux'] = 1/m_metrics2['Coeficiente de variação']\n",
    "\n",
    "new_results2 = m_metrics2.copy()\n",
    "new_results2 = new_results2.drop('Coeficiente de variação', axis=1)\n",
    "dominate_metr = [any([dominate(other, row) for other in new_results2.values]) for row in new_results2.values]\n",
    "new_results2['dominated'] = dominate_metr\n",
    "\n",
    "new_results2[new_results2.dominated] = 1\n",
    "new_results2[new_results2.dominated == False] = 0"
   ]
  },
  {
   "cell_type": "code",
   "execution_count": 20,
   "metadata": {},
   "outputs": [
    {
     "data": {
      "text/html": [
       "<div>\n",
       "<style scoped>\n",
       "    .dataframe tbody tr th:only-of-type {\n",
       "        vertical-align: middle;\n",
       "    }\n",
       "\n",
       "    .dataframe tbody tr th {\n",
       "        vertical-align: top;\n",
       "    }\n",
       "\n",
       "    .dataframe thead th {\n",
       "        text-align: right;\n",
       "    }\n",
       "</style>\n",
       "<table border=\"1\" class=\"dataframe\">\n",
       "  <thead>\n",
       "    <tr style=\"text-align: right;\">\n",
       "      <th></th>\n",
       "      <th>Acurácia</th>\n",
       "      <th>Igualdade de Oportunidade</th>\n",
       "      <th>P porcento</th>\n",
       "      <th>cv_aux</th>\n",
       "      <th>dominated</th>\n",
       "    </tr>\n",
       "  </thead>\n",
       "  <tbody>\n",
       "    <tr>\n",
       "      <th>0</th>\n",
       "      <td>0.0</td>\n",
       "      <td>0.0</td>\n",
       "      <td>0.0</td>\n",
       "      <td>0.0</td>\n",
       "      <td>0</td>\n",
       "    </tr>\n",
       "    <tr>\n",
       "      <th>1</th>\n",
       "      <td>0.0</td>\n",
       "      <td>0.0</td>\n",
       "      <td>0.0</td>\n",
       "      <td>0.0</td>\n",
       "      <td>0</td>\n",
       "    </tr>\n",
       "    <tr>\n",
       "      <th>2</th>\n",
       "      <td>0.0</td>\n",
       "      <td>0.0</td>\n",
       "      <td>0.0</td>\n",
       "      <td>0.0</td>\n",
       "      <td>0</td>\n",
       "    </tr>\n",
       "    <tr>\n",
       "      <th>3</th>\n",
       "      <td>1.0</td>\n",
       "      <td>1.0</td>\n",
       "      <td>1.0</td>\n",
       "      <td>1.0</td>\n",
       "      <td>1</td>\n",
       "    </tr>\n",
       "    <tr>\n",
       "      <th>4</th>\n",
       "      <td>0.0</td>\n",
       "      <td>0.0</td>\n",
       "      <td>0.0</td>\n",
       "      <td>0.0</td>\n",
       "      <td>0</td>\n",
       "    </tr>\n",
       "    <tr>\n",
       "      <th>5</th>\n",
       "      <td>0.0</td>\n",
       "      <td>0.0</td>\n",
       "      <td>0.0</td>\n",
       "      <td>0.0</td>\n",
       "      <td>0</td>\n",
       "    </tr>\n",
       "    <tr>\n",
       "      <th>6</th>\n",
       "      <td>0.0</td>\n",
       "      <td>0.0</td>\n",
       "      <td>0.0</td>\n",
       "      <td>0.0</td>\n",
       "      <td>0</td>\n",
       "    </tr>\n",
       "    <tr>\n",
       "      <th>7</th>\n",
       "      <td>0.0</td>\n",
       "      <td>0.0</td>\n",
       "      <td>0.0</td>\n",
       "      <td>0.0</td>\n",
       "      <td>0</td>\n",
       "    </tr>\n",
       "    <tr>\n",
       "      <th>8</th>\n",
       "      <td>0.0</td>\n",
       "      <td>0.0</td>\n",
       "      <td>0.0</td>\n",
       "      <td>0.0</td>\n",
       "      <td>0</td>\n",
       "    </tr>\n",
       "    <tr>\n",
       "      <th>9</th>\n",
       "      <td>0.0</td>\n",
       "      <td>0.0</td>\n",
       "      <td>0.0</td>\n",
       "      <td>0.0</td>\n",
       "      <td>0</td>\n",
       "    </tr>\n",
       "  </tbody>\n",
       "</table>\n",
       "</div>"
      ],
      "text/plain": [
       "   Acurácia  Igualdade de Oportunidade  P porcento  cv_aux  dominated\n",
       "0       0.0                        0.0         0.0     0.0          0\n",
       "1       0.0                        0.0         0.0     0.0          0\n",
       "2       0.0                        0.0         0.0     0.0          0\n",
       "3       1.0                        1.0         1.0     1.0          1\n",
       "4       0.0                        0.0         0.0     0.0          0\n",
       "5       0.0                        0.0         0.0     0.0          0\n",
       "6       0.0                        0.0         0.0     0.0          0\n",
       "7       0.0                        0.0         0.0     0.0          0\n",
       "8       0.0                        0.0         0.0     0.0          0\n",
       "9       0.0                        0.0         0.0     0.0          0"
      ]
     },
     "execution_count": 20,
     "metadata": {},
     "output_type": "execute_result"
    }
   ],
   "source": [
    "new_results2"
   ]
  },
  {
   "cell_type": "code",
   "execution_count": 21,
   "metadata": {},
   "outputs": [
    {
     "data": {
      "application/vnd.plotly.v1+json": {
       "config": {
        "plotlyServerURL": "https://plot.ly"
       },
       "data": [
        {
         "dimensions": [
          {
           "label": "Acurácia",
           "range": [
            0,
            1
           ],
           "values": [
            0.645,
            0.55,
            0.55,
            0.45,
            0.59,
            0.55,
            0.55,
            0.55,
            0.55,
            0.55
           ]
          },
          {
           "label": "Igualdade de Oportunidade",
           "range": [
            0,
            1
           ],
           "values": [
            0.8134920634920635,
            1,
            1,
            1,
            0.9959349593495935,
            1,
            1,
            1,
            1,
            1
           ]
          },
          {
           "label": "P porcento",
           "range": [
            0,
            1
           ],
           "values": [
            0.666094666094666,
            1,
            1,
            0,
            0.95995995995996,
            1,
            1,
            1,
            1,
            1
           ]
          },
          {
           "label": "Coeficiente de variação",
           "range": [
            0.5,
            2
           ],
           "values": [
            1.458811509823872,
            2.060940258104233,
            2.060940258104233,
            0.6396021490668312,
            1.499400359760167,
            2.060940258104233,
            2.060940258104233,
            2.060940258104233,
            2.060940258104233,
            2.060940258104233
           ]
          }
         ],
         "line": {
          "color": [
           0,
           0,
           0,
           1,
           0,
           0,
           0,
           0,
           0,
           0
          ],
          "colorscale": [
           [
            0,
            "#0043E0"
           ],
           [
            1,
            "#7F5EEF"
           ]
          ]
         },
         "type": "parcoords"
        }
       ],
       "layout": {
        "paper_bgcolor": "white",
        "plot_bgcolor": "white",
        "template": {
         "data": {
          "bar": [
           {
            "error_x": {
             "color": "#2a3f5f"
            },
            "error_y": {
             "color": "#2a3f5f"
            },
            "marker": {
             "line": {
              "color": "#E5ECF6",
              "width": 0.5
             }
            },
            "type": "bar"
           }
          ],
          "barpolar": [
           {
            "marker": {
             "line": {
              "color": "#E5ECF6",
              "width": 0.5
             }
            },
            "type": "barpolar"
           }
          ],
          "carpet": [
           {
            "aaxis": {
             "endlinecolor": "#2a3f5f",
             "gridcolor": "white",
             "linecolor": "white",
             "minorgridcolor": "white",
             "startlinecolor": "#2a3f5f"
            },
            "baxis": {
             "endlinecolor": "#2a3f5f",
             "gridcolor": "white",
             "linecolor": "white",
             "minorgridcolor": "white",
             "startlinecolor": "#2a3f5f"
            },
            "type": "carpet"
           }
          ],
          "choropleth": [
           {
            "colorbar": {
             "outlinewidth": 0,
             "ticks": ""
            },
            "type": "choropleth"
           }
          ],
          "contour": [
           {
            "colorbar": {
             "outlinewidth": 0,
             "ticks": ""
            },
            "colorscale": [
             [
              0,
              "#0d0887"
             ],
             [
              0.1111111111111111,
              "#46039f"
             ],
             [
              0.2222222222222222,
              "#7201a8"
             ],
             [
              0.3333333333333333,
              "#9c179e"
             ],
             [
              0.4444444444444444,
              "#bd3786"
             ],
             [
              0.5555555555555556,
              "#d8576b"
             ],
             [
              0.6666666666666666,
              "#ed7953"
             ],
             [
              0.7777777777777778,
              "#fb9f3a"
             ],
             [
              0.8888888888888888,
              "#fdca26"
             ],
             [
              1,
              "#f0f921"
             ]
            ],
            "type": "contour"
           }
          ],
          "contourcarpet": [
           {
            "colorbar": {
             "outlinewidth": 0,
             "ticks": ""
            },
            "type": "contourcarpet"
           }
          ],
          "heatmap": [
           {
            "colorbar": {
             "outlinewidth": 0,
             "ticks": ""
            },
            "colorscale": [
             [
              0,
              "#0d0887"
             ],
             [
              0.1111111111111111,
              "#46039f"
             ],
             [
              0.2222222222222222,
              "#7201a8"
             ],
             [
              0.3333333333333333,
              "#9c179e"
             ],
             [
              0.4444444444444444,
              "#bd3786"
             ],
             [
              0.5555555555555556,
              "#d8576b"
             ],
             [
              0.6666666666666666,
              "#ed7953"
             ],
             [
              0.7777777777777778,
              "#fb9f3a"
             ],
             [
              0.8888888888888888,
              "#fdca26"
             ],
             [
              1,
              "#f0f921"
             ]
            ],
            "type": "heatmap"
           }
          ],
          "heatmapgl": [
           {
            "colorbar": {
             "outlinewidth": 0,
             "ticks": ""
            },
            "colorscale": [
             [
              0,
              "#0d0887"
             ],
             [
              0.1111111111111111,
              "#46039f"
             ],
             [
              0.2222222222222222,
              "#7201a8"
             ],
             [
              0.3333333333333333,
              "#9c179e"
             ],
             [
              0.4444444444444444,
              "#bd3786"
             ],
             [
              0.5555555555555556,
              "#d8576b"
             ],
             [
              0.6666666666666666,
              "#ed7953"
             ],
             [
              0.7777777777777778,
              "#fb9f3a"
             ],
             [
              0.8888888888888888,
              "#fdca26"
             ],
             [
              1,
              "#f0f921"
             ]
            ],
            "type": "heatmapgl"
           }
          ],
          "histogram": [
           {
            "marker": {
             "colorbar": {
              "outlinewidth": 0,
              "ticks": ""
             }
            },
            "type": "histogram"
           }
          ],
          "histogram2d": [
           {
            "colorbar": {
             "outlinewidth": 0,
             "ticks": ""
            },
            "colorscale": [
             [
              0,
              "#0d0887"
             ],
             [
              0.1111111111111111,
              "#46039f"
             ],
             [
              0.2222222222222222,
              "#7201a8"
             ],
             [
              0.3333333333333333,
              "#9c179e"
             ],
             [
              0.4444444444444444,
              "#bd3786"
             ],
             [
              0.5555555555555556,
              "#d8576b"
             ],
             [
              0.6666666666666666,
              "#ed7953"
             ],
             [
              0.7777777777777778,
              "#fb9f3a"
             ],
             [
              0.8888888888888888,
              "#fdca26"
             ],
             [
              1,
              "#f0f921"
             ]
            ],
            "type": "histogram2d"
           }
          ],
          "histogram2dcontour": [
           {
            "colorbar": {
             "outlinewidth": 0,
             "ticks": ""
            },
            "colorscale": [
             [
              0,
              "#0d0887"
             ],
             [
              0.1111111111111111,
              "#46039f"
             ],
             [
              0.2222222222222222,
              "#7201a8"
             ],
             [
              0.3333333333333333,
              "#9c179e"
             ],
             [
              0.4444444444444444,
              "#bd3786"
             ],
             [
              0.5555555555555556,
              "#d8576b"
             ],
             [
              0.6666666666666666,
              "#ed7953"
             ],
             [
              0.7777777777777778,
              "#fb9f3a"
             ],
             [
              0.8888888888888888,
              "#fdca26"
             ],
             [
              1,
              "#f0f921"
             ]
            ],
            "type": "histogram2dcontour"
           }
          ],
          "mesh3d": [
           {
            "colorbar": {
             "outlinewidth": 0,
             "ticks": ""
            },
            "type": "mesh3d"
           }
          ],
          "parcoords": [
           {
            "line": {
             "colorbar": {
              "outlinewidth": 0,
              "ticks": ""
             }
            },
            "type": "parcoords"
           }
          ],
          "pie": [
           {
            "automargin": true,
            "type": "pie"
           }
          ],
          "scatter": [
           {
            "marker": {
             "colorbar": {
              "outlinewidth": 0,
              "ticks": ""
             }
            },
            "type": "scatter"
           }
          ],
          "scatter3d": [
           {
            "line": {
             "colorbar": {
              "outlinewidth": 0,
              "ticks": ""
             }
            },
            "marker": {
             "colorbar": {
              "outlinewidth": 0,
              "ticks": ""
             }
            },
            "type": "scatter3d"
           }
          ],
          "scattercarpet": [
           {
            "marker": {
             "colorbar": {
              "outlinewidth": 0,
              "ticks": ""
             }
            },
            "type": "scattercarpet"
           }
          ],
          "scattergeo": [
           {
            "marker": {
             "colorbar": {
              "outlinewidth": 0,
              "ticks": ""
             }
            },
            "type": "scattergeo"
           }
          ],
          "scattergl": [
           {
            "marker": {
             "colorbar": {
              "outlinewidth": 0,
              "ticks": ""
             }
            },
            "type": "scattergl"
           }
          ],
          "scattermapbox": [
           {
            "marker": {
             "colorbar": {
              "outlinewidth": 0,
              "ticks": ""
             }
            },
            "type": "scattermapbox"
           }
          ],
          "scatterpolar": [
           {
            "marker": {
             "colorbar": {
              "outlinewidth": 0,
              "ticks": ""
             }
            },
            "type": "scatterpolar"
           }
          ],
          "scatterpolargl": [
           {
            "marker": {
             "colorbar": {
              "outlinewidth": 0,
              "ticks": ""
             }
            },
            "type": "scatterpolargl"
           }
          ],
          "scatterternary": [
           {
            "marker": {
             "colorbar": {
              "outlinewidth": 0,
              "ticks": ""
             }
            },
            "type": "scatterternary"
           }
          ],
          "surface": [
           {
            "colorbar": {
             "outlinewidth": 0,
             "ticks": ""
            },
            "colorscale": [
             [
              0,
              "#0d0887"
             ],
             [
              0.1111111111111111,
              "#46039f"
             ],
             [
              0.2222222222222222,
              "#7201a8"
             ],
             [
              0.3333333333333333,
              "#9c179e"
             ],
             [
              0.4444444444444444,
              "#bd3786"
             ],
             [
              0.5555555555555556,
              "#d8576b"
             ],
             [
              0.6666666666666666,
              "#ed7953"
             ],
             [
              0.7777777777777778,
              "#fb9f3a"
             ],
             [
              0.8888888888888888,
              "#fdca26"
             ],
             [
              1,
              "#f0f921"
             ]
            ],
            "type": "surface"
           }
          ],
          "table": [
           {
            "cells": {
             "fill": {
              "color": "#EBF0F8"
             },
             "line": {
              "color": "white"
             }
            },
            "header": {
             "fill": {
              "color": "#C8D4E3"
             },
             "line": {
              "color": "white"
             }
            },
            "type": "table"
           }
          ]
         },
         "layout": {
          "annotationdefaults": {
           "arrowcolor": "#2a3f5f",
           "arrowhead": 0,
           "arrowwidth": 1
          },
          "coloraxis": {
           "colorbar": {
            "outlinewidth": 0,
            "ticks": ""
           }
          },
          "colorscale": {
           "diverging": [
            [
             0,
             "#8e0152"
            ],
            [
             0.1,
             "#c51b7d"
            ],
            [
             0.2,
             "#de77ae"
            ],
            [
             0.3,
             "#f1b6da"
            ],
            [
             0.4,
             "#fde0ef"
            ],
            [
             0.5,
             "#f7f7f7"
            ],
            [
             0.6,
             "#e6f5d0"
            ],
            [
             0.7,
             "#b8e186"
            ],
            [
             0.8,
             "#7fbc41"
            ],
            [
             0.9,
             "#4d9221"
            ],
            [
             1,
             "#276419"
            ]
           ],
           "sequential": [
            [
             0,
             "#0d0887"
            ],
            [
             0.1111111111111111,
             "#46039f"
            ],
            [
             0.2222222222222222,
             "#7201a8"
            ],
            [
             0.3333333333333333,
             "#9c179e"
            ],
            [
             0.4444444444444444,
             "#bd3786"
            ],
            [
             0.5555555555555556,
             "#d8576b"
            ],
            [
             0.6666666666666666,
             "#ed7953"
            ],
            [
             0.7777777777777778,
             "#fb9f3a"
            ],
            [
             0.8888888888888888,
             "#fdca26"
            ],
            [
             1,
             "#f0f921"
            ]
           ],
           "sequentialminus": [
            [
             0,
             "#0d0887"
            ],
            [
             0.1111111111111111,
             "#46039f"
            ],
            [
             0.2222222222222222,
             "#7201a8"
            ],
            [
             0.3333333333333333,
             "#9c179e"
            ],
            [
             0.4444444444444444,
             "#bd3786"
            ],
            [
             0.5555555555555556,
             "#d8576b"
            ],
            [
             0.6666666666666666,
             "#ed7953"
            ],
            [
             0.7777777777777778,
             "#fb9f3a"
            ],
            [
             0.8888888888888888,
             "#fdca26"
            ],
            [
             1,
             "#f0f921"
            ]
           ]
          },
          "colorway": [
           "#636efa",
           "#EF553B",
           "#00cc96",
           "#ab63fa",
           "#FFA15A",
           "#19d3f3",
           "#FF6692",
           "#B6E880",
           "#FF97FF",
           "#FECB52"
          ],
          "font": {
           "color": "#2a3f5f"
          },
          "geo": {
           "bgcolor": "white",
           "lakecolor": "white",
           "landcolor": "#E5ECF6",
           "showlakes": true,
           "showland": true,
           "subunitcolor": "white"
          },
          "hoverlabel": {
           "align": "left"
          },
          "hovermode": "closest",
          "mapbox": {
           "style": "light"
          },
          "paper_bgcolor": "white",
          "plot_bgcolor": "#E5ECF6",
          "polar": {
           "angularaxis": {
            "gridcolor": "white",
            "linecolor": "white",
            "ticks": ""
           },
           "bgcolor": "#E5ECF6",
           "radialaxis": {
            "gridcolor": "white",
            "linecolor": "white",
            "ticks": ""
           }
          },
          "scene": {
           "xaxis": {
            "backgroundcolor": "#E5ECF6",
            "gridcolor": "white",
            "gridwidth": 2,
            "linecolor": "white",
            "showbackground": true,
            "ticks": "",
            "zerolinecolor": "white"
           },
           "yaxis": {
            "backgroundcolor": "#E5ECF6",
            "gridcolor": "white",
            "gridwidth": 2,
            "linecolor": "white",
            "showbackground": true,
            "ticks": "",
            "zerolinecolor": "white"
           },
           "zaxis": {
            "backgroundcolor": "#E5ECF6",
            "gridcolor": "white",
            "gridwidth": 2,
            "linecolor": "white",
            "showbackground": true,
            "ticks": "",
            "zerolinecolor": "white"
           }
          },
          "shapedefaults": {
           "line": {
            "color": "#2a3f5f"
           }
          },
          "ternary": {
           "aaxis": {
            "gridcolor": "white",
            "linecolor": "white",
            "ticks": ""
           },
           "baxis": {
            "gridcolor": "white",
            "linecolor": "white",
            "ticks": ""
           },
           "bgcolor": "#E5ECF6",
           "caxis": {
            "gridcolor": "white",
            "linecolor": "white",
            "ticks": ""
           }
          },
          "title": {
           "x": 0.05
          },
          "xaxis": {
           "automargin": true,
           "gridcolor": "white",
           "linecolor": "white",
           "ticks": "",
           "title": {
            "standoff": 15
           },
           "zerolinecolor": "white",
           "zerolinewidth": 2
          },
          "yaxis": {
           "automargin": true,
           "gridcolor": "white",
           "linecolor": "white",
           "ticks": "",
           "title": {
            "standoff": 15
           },
           "zerolinecolor": "white",
           "zerolinewidth": 2
          }
         }
        }
       }
      },
      "text/html": [
       "<div>\n",
       "        \n",
       "        \n",
       "            <div id=\"44932237-2cde-49d9-a278-17ade681fb9f\" class=\"plotly-graph-div\" style=\"height:525px; width:100%;\"></div>\n",
       "            <script type=\"text/javascript\">\n",
       "                require([\"plotly\"], function(Plotly) {\n",
       "                    window.PLOTLYENV=window.PLOTLYENV || {};\n",
       "                    \n",
       "                if (document.getElementById(\"44932237-2cde-49d9-a278-17ade681fb9f\")) {\n",
       "                    Plotly.newPlot(\n",
       "                        '44932237-2cde-49d9-a278-17ade681fb9f',\n",
       "                        [{\"dimensions\": [{\"label\": \"Acur\\u00e1cia\", \"range\": [0, 1], \"values\": [0.645, 0.55, 0.55, 0.45, 0.59, 0.55, 0.55, 0.55, 0.55, 0.55]}, {\"label\": \"Igualdade de Oportunidade\", \"range\": [0, 1], \"values\": [0.8134920634920635, 1.0, 1.0, 1.0, 0.9959349593495935, 1.0, 1.0, 1.0, 1.0, 1.0]}, {\"label\": \"P porcento\", \"range\": [0, 1], \"values\": [0.666094666094666, 1.0, 1.0, 0.0, 0.95995995995996, 1.0, 1.0, 1.0, 1.0, 1.0]}, {\"label\": \"Coeficiente de varia\\u00e7\\u00e3o\", \"range\": [0.5, 2], \"values\": [1.458811509823872, 2.060940258104233, 2.060940258104233, 0.6396021490668312, 1.499400359760167, 2.060940258104233, 2.060940258104233, 2.060940258104233, 2.060940258104233, 2.060940258104233]}], \"line\": {\"color\": [0, 0, 0, 1, 0, 0, 0, 0, 0, 0], \"colorscale\": [[0.0, \"#0043E0\"], [1.0, \"#7F5EEF\"]]}, \"type\": \"parcoords\"}],\n",
       "                        {\"paper_bgcolor\": \"white\", \"plot_bgcolor\": \"white\", \"template\": {\"data\": {\"bar\": [{\"error_x\": {\"color\": \"#2a3f5f\"}, \"error_y\": {\"color\": \"#2a3f5f\"}, \"marker\": {\"line\": {\"color\": \"#E5ECF6\", \"width\": 0.5}}, \"type\": \"bar\"}], \"barpolar\": [{\"marker\": {\"line\": {\"color\": \"#E5ECF6\", \"width\": 0.5}}, \"type\": \"barpolar\"}], \"carpet\": [{\"aaxis\": {\"endlinecolor\": \"#2a3f5f\", \"gridcolor\": \"white\", \"linecolor\": \"white\", \"minorgridcolor\": \"white\", \"startlinecolor\": \"#2a3f5f\"}, \"baxis\": {\"endlinecolor\": \"#2a3f5f\", \"gridcolor\": \"white\", \"linecolor\": \"white\", \"minorgridcolor\": \"white\", \"startlinecolor\": \"#2a3f5f\"}, \"type\": \"carpet\"}], \"choropleth\": [{\"colorbar\": {\"outlinewidth\": 0, \"ticks\": \"\"}, \"type\": \"choropleth\"}], \"contour\": [{\"colorbar\": {\"outlinewidth\": 0, \"ticks\": \"\"}, \"colorscale\": [[0.0, \"#0d0887\"], [0.1111111111111111, \"#46039f\"], [0.2222222222222222, \"#7201a8\"], [0.3333333333333333, \"#9c179e\"], [0.4444444444444444, \"#bd3786\"], [0.5555555555555556, \"#d8576b\"], [0.6666666666666666, \"#ed7953\"], [0.7777777777777778, \"#fb9f3a\"], [0.8888888888888888, \"#fdca26\"], [1.0, \"#f0f921\"]], \"type\": \"contour\"}], \"contourcarpet\": [{\"colorbar\": {\"outlinewidth\": 0, \"ticks\": \"\"}, \"type\": \"contourcarpet\"}], \"heatmap\": [{\"colorbar\": {\"outlinewidth\": 0, \"ticks\": \"\"}, \"colorscale\": [[0.0, \"#0d0887\"], [0.1111111111111111, \"#46039f\"], [0.2222222222222222, \"#7201a8\"], [0.3333333333333333, \"#9c179e\"], [0.4444444444444444, \"#bd3786\"], [0.5555555555555556, \"#d8576b\"], [0.6666666666666666, \"#ed7953\"], [0.7777777777777778, \"#fb9f3a\"], [0.8888888888888888, \"#fdca26\"], [1.0, \"#f0f921\"]], \"type\": \"heatmap\"}], \"heatmapgl\": [{\"colorbar\": {\"outlinewidth\": 0, \"ticks\": \"\"}, \"colorscale\": [[0.0, \"#0d0887\"], [0.1111111111111111, \"#46039f\"], [0.2222222222222222, \"#7201a8\"], [0.3333333333333333, \"#9c179e\"], [0.4444444444444444, \"#bd3786\"], [0.5555555555555556, \"#d8576b\"], [0.6666666666666666, \"#ed7953\"], [0.7777777777777778, \"#fb9f3a\"], [0.8888888888888888, \"#fdca26\"], [1.0, \"#f0f921\"]], \"type\": \"heatmapgl\"}], \"histogram\": [{\"marker\": {\"colorbar\": {\"outlinewidth\": 0, \"ticks\": \"\"}}, \"type\": \"histogram\"}], \"histogram2d\": [{\"colorbar\": {\"outlinewidth\": 0, \"ticks\": \"\"}, \"colorscale\": [[0.0, \"#0d0887\"], [0.1111111111111111, \"#46039f\"], [0.2222222222222222, \"#7201a8\"], [0.3333333333333333, \"#9c179e\"], [0.4444444444444444, \"#bd3786\"], [0.5555555555555556, \"#d8576b\"], [0.6666666666666666, \"#ed7953\"], [0.7777777777777778, \"#fb9f3a\"], [0.8888888888888888, \"#fdca26\"], [1.0, \"#f0f921\"]], \"type\": \"histogram2d\"}], \"histogram2dcontour\": [{\"colorbar\": {\"outlinewidth\": 0, \"ticks\": \"\"}, \"colorscale\": [[0.0, \"#0d0887\"], [0.1111111111111111, \"#46039f\"], [0.2222222222222222, \"#7201a8\"], [0.3333333333333333, \"#9c179e\"], [0.4444444444444444, \"#bd3786\"], [0.5555555555555556, \"#d8576b\"], [0.6666666666666666, \"#ed7953\"], [0.7777777777777778, \"#fb9f3a\"], [0.8888888888888888, \"#fdca26\"], [1.0, \"#f0f921\"]], \"type\": \"histogram2dcontour\"}], \"mesh3d\": [{\"colorbar\": {\"outlinewidth\": 0, \"ticks\": \"\"}, \"type\": \"mesh3d\"}], \"parcoords\": [{\"line\": {\"colorbar\": {\"outlinewidth\": 0, \"ticks\": \"\"}}, \"type\": \"parcoords\"}], \"pie\": [{\"automargin\": true, \"type\": \"pie\"}], \"scatter\": [{\"marker\": {\"colorbar\": {\"outlinewidth\": 0, \"ticks\": \"\"}}, \"type\": \"scatter\"}], \"scatter3d\": [{\"line\": {\"colorbar\": {\"outlinewidth\": 0, \"ticks\": \"\"}}, \"marker\": {\"colorbar\": {\"outlinewidth\": 0, \"ticks\": \"\"}}, \"type\": \"scatter3d\"}], \"scattercarpet\": [{\"marker\": {\"colorbar\": {\"outlinewidth\": 0, \"ticks\": \"\"}}, \"type\": \"scattercarpet\"}], \"scattergeo\": [{\"marker\": {\"colorbar\": {\"outlinewidth\": 0, \"ticks\": \"\"}}, \"type\": \"scattergeo\"}], \"scattergl\": [{\"marker\": {\"colorbar\": {\"outlinewidth\": 0, \"ticks\": \"\"}}, \"type\": \"scattergl\"}], \"scattermapbox\": [{\"marker\": {\"colorbar\": {\"outlinewidth\": 0, \"ticks\": \"\"}}, \"type\": \"scattermapbox\"}], \"scatterpolar\": [{\"marker\": {\"colorbar\": {\"outlinewidth\": 0, \"ticks\": \"\"}}, \"type\": \"scatterpolar\"}], \"scatterpolargl\": [{\"marker\": {\"colorbar\": {\"outlinewidth\": 0, \"ticks\": \"\"}}, \"type\": \"scatterpolargl\"}], \"scatterternary\": [{\"marker\": {\"colorbar\": {\"outlinewidth\": 0, \"ticks\": \"\"}}, \"type\": \"scatterternary\"}], \"surface\": [{\"colorbar\": {\"outlinewidth\": 0, \"ticks\": \"\"}, \"colorscale\": [[0.0, \"#0d0887\"], [0.1111111111111111, \"#46039f\"], [0.2222222222222222, \"#7201a8\"], [0.3333333333333333, \"#9c179e\"], [0.4444444444444444, \"#bd3786\"], [0.5555555555555556, \"#d8576b\"], [0.6666666666666666, \"#ed7953\"], [0.7777777777777778, \"#fb9f3a\"], [0.8888888888888888, \"#fdca26\"], [1.0, \"#f0f921\"]], \"type\": \"surface\"}], \"table\": [{\"cells\": {\"fill\": {\"color\": \"#EBF0F8\"}, \"line\": {\"color\": \"white\"}}, \"header\": {\"fill\": {\"color\": \"#C8D4E3\"}, \"line\": {\"color\": \"white\"}}, \"type\": \"table\"}]}, \"layout\": {\"annotationdefaults\": {\"arrowcolor\": \"#2a3f5f\", \"arrowhead\": 0, \"arrowwidth\": 1}, \"coloraxis\": {\"colorbar\": {\"outlinewidth\": 0, \"ticks\": \"\"}}, \"colorscale\": {\"diverging\": [[0, \"#8e0152\"], [0.1, \"#c51b7d\"], [0.2, \"#de77ae\"], [0.3, \"#f1b6da\"], [0.4, \"#fde0ef\"], [0.5, \"#f7f7f7\"], [0.6, \"#e6f5d0\"], [0.7, \"#b8e186\"], [0.8, \"#7fbc41\"], [0.9, \"#4d9221\"], [1, \"#276419\"]], \"sequential\": [[0.0, \"#0d0887\"], [0.1111111111111111, \"#46039f\"], [0.2222222222222222, \"#7201a8\"], [0.3333333333333333, \"#9c179e\"], [0.4444444444444444, \"#bd3786\"], [0.5555555555555556, \"#d8576b\"], [0.6666666666666666, \"#ed7953\"], [0.7777777777777778, \"#fb9f3a\"], [0.8888888888888888, \"#fdca26\"], [1.0, \"#f0f921\"]], \"sequentialminus\": [[0.0, \"#0d0887\"], [0.1111111111111111, \"#46039f\"], [0.2222222222222222, \"#7201a8\"], [0.3333333333333333, \"#9c179e\"], [0.4444444444444444, \"#bd3786\"], [0.5555555555555556, \"#d8576b\"], [0.6666666666666666, \"#ed7953\"], [0.7777777777777778, \"#fb9f3a\"], [0.8888888888888888, \"#fdca26\"], [1.0, \"#f0f921\"]]}, \"colorway\": [\"#636efa\", \"#EF553B\", \"#00cc96\", \"#ab63fa\", \"#FFA15A\", \"#19d3f3\", \"#FF6692\", \"#B6E880\", \"#FF97FF\", \"#FECB52\"], \"font\": {\"color\": \"#2a3f5f\"}, \"geo\": {\"bgcolor\": \"white\", \"lakecolor\": \"white\", \"landcolor\": \"#E5ECF6\", \"showlakes\": true, \"showland\": true, \"subunitcolor\": \"white\"}, \"hoverlabel\": {\"align\": \"left\"}, \"hovermode\": \"closest\", \"mapbox\": {\"style\": \"light\"}, \"paper_bgcolor\": \"white\", \"plot_bgcolor\": \"#E5ECF6\", \"polar\": {\"angularaxis\": {\"gridcolor\": \"white\", \"linecolor\": \"white\", \"ticks\": \"\"}, \"bgcolor\": \"#E5ECF6\", \"radialaxis\": {\"gridcolor\": \"white\", \"linecolor\": \"white\", \"ticks\": \"\"}}, \"scene\": {\"xaxis\": {\"backgroundcolor\": \"#E5ECF6\", \"gridcolor\": \"white\", \"gridwidth\": 2, \"linecolor\": \"white\", \"showbackground\": true, \"ticks\": \"\", \"zerolinecolor\": \"white\"}, \"yaxis\": {\"backgroundcolor\": \"#E5ECF6\", \"gridcolor\": \"white\", \"gridwidth\": 2, \"linecolor\": \"white\", \"showbackground\": true, \"ticks\": \"\", \"zerolinecolor\": \"white\"}, \"zaxis\": {\"backgroundcolor\": \"#E5ECF6\", \"gridcolor\": \"white\", \"gridwidth\": 2, \"linecolor\": \"white\", \"showbackground\": true, \"ticks\": \"\", \"zerolinecolor\": \"white\"}}, \"shapedefaults\": {\"line\": {\"color\": \"#2a3f5f\"}}, \"ternary\": {\"aaxis\": {\"gridcolor\": \"white\", \"linecolor\": \"white\", \"ticks\": \"\"}, \"baxis\": {\"gridcolor\": \"white\", \"linecolor\": \"white\", \"ticks\": \"\"}, \"bgcolor\": \"#E5ECF6\", \"caxis\": {\"gridcolor\": \"white\", \"linecolor\": \"white\", \"ticks\": \"\"}}, \"title\": {\"x\": 0.05}, \"xaxis\": {\"automargin\": true, \"gridcolor\": \"white\", \"linecolor\": \"white\", \"ticks\": \"\", \"title\": {\"standoff\": 15}, \"zerolinecolor\": \"white\", \"zerolinewidth\": 2}, \"yaxis\": {\"automargin\": true, \"gridcolor\": \"white\", \"linecolor\": \"white\", \"ticks\": \"\", \"title\": {\"standoff\": 15}, \"zerolinecolor\": \"white\", \"zerolinewidth\": 2}}}},\n",
       "                        {\"responsive\": true}\n",
       "                    ).then(function(){\n",
       "                            \n",
       "var gd = document.getElementById('44932237-2cde-49d9-a278-17ade681fb9f');\n",
       "var x = new MutationObserver(function (mutations, observer) {{\n",
       "        var display = window.getComputedStyle(gd).display;\n",
       "        if (!display || display === 'none') {{\n",
       "            console.log([gd, 'removed!']);\n",
       "            Plotly.purge(gd);\n",
       "            observer.disconnect();\n",
       "        }}\n",
       "}});\n",
       "\n",
       "// Listen for the removal of the full notebook cells\n",
       "var notebookContainer = gd.closest('#notebook-container');\n",
       "if (notebookContainer) {{\n",
       "    x.observe(notebookContainer, {childList: true});\n",
       "}}\n",
       "\n",
       "// Listen for the clearing of the current output cell\n",
       "var outputEl = gd.closest('.output');\n",
       "if (outputEl) {{\n",
       "    x.observe(outputEl, {childList: true});\n",
       "}}\n",
       "\n",
       "                        })\n",
       "                };\n",
       "                });\n",
       "            </script>\n",
       "        </div>"
      ]
     },
     "metadata": {},
     "output_type": "display_data"
    }
   ],
   "source": [
    "fig = go.Figure(data=\n",
    "    go.Parcoords(\n",
    "        line = dict(color = new_results2['dominated'], \n",
    "                        colorscale = ['#0043E0', '#7F5EEF']),\n",
    "        dimensions = list([\n",
    "            dict(range = [0,1],\n",
    "                label = 'Acurácia', values = m_metrics2['Acurácia']),\n",
    "            dict(range = [0,1],\n",
    "                label = 'Igualdade de Oportunidade', values = m_metrics2['Igualdade de Oportunidade']),\n",
    "            dict(range = [0,1],\n",
    "                label = 'P porcento', values = m_metrics2['P porcento']),\n",
    "            dict(range = [0.5,2],\n",
    "                label = 'Coeficiente de variação', values = m_metrics2['cv_aux']),\n",
    "        ])\n",
    "    )\n",
    ")\n",
    "\n",
    "fig.update_layout(\n",
    "    plot_bgcolor = 'white',\n",
    "    paper_bgcolor = 'white'\n",
    ")\n",
    "\n",
    "fig.show()"
   ]
  },
  {
   "cell_type": "markdown",
   "metadata": {},
   "source": [
    "## Logistic regression"
   ]
  },
  {
   "cell_type": "code",
   "execution_count": 40,
   "metadata": {},
   "outputs": [
    {
     "name": "stderr",
     "output_type": "stream",
     "text": [
      "/home/marcos/Documents/Experiments/envs/crime/lib/python3.7/site-packages/sklego/metrics.py:155: RuntimeWarning:\n",
      "\n",
      "invalid value encountered in double_scalars\n",
      "\n",
      "/home/marcos/Documents/Experiments/envs/crime/lib/python3.7/site-packages/sklego/metrics.py:79: RuntimeWarning:\n",
      "\n",
      "No samples with y_hat == 1 for Sex == 1, returning 0\n",
      "\n",
      "/home/marcos/Documents/Experiments/envs/crime/lib/python3.7/site-packages/sklego/metrics.py:155: RuntimeWarning:\n",
      "\n",
      "invalid value encountered in double_scalars\n",
      "\n",
      "/home/marcos/Documents/Experiments/envs/crime/lib/python3.7/site-packages/sklego/metrics.py:79: RuntimeWarning:\n",
      "\n",
      "No samples with y_hat == 1 for Sex == 1, returning 0\n",
      "\n",
      "/home/marcos/Documents/Experiments/envs/crime/lib/python3.7/site-packages/sklego/metrics.py:155: RuntimeWarning:\n",
      "\n",
      "invalid value encountered in double_scalars\n",
      "\n",
      "/home/marcos/Documents/Experiments/envs/crime/lib/python3.7/site-packages/sklego/metrics.py:79: RuntimeWarning:\n",
      "\n",
      "No samples with y_hat == 1 for Sex == 1, returning 0\n",
      "\n",
      "/home/marcos/Documents/Experiments/envs/crime/lib/python3.7/site-packages/sklego/metrics.py:155: RuntimeWarning:\n",
      "\n",
      "invalid value encountered in double_scalars\n",
      "\n",
      "/home/marcos/Documents/Experiments/envs/crime/lib/python3.7/site-packages/sklego/metrics.py:79: RuntimeWarning:\n",
      "\n",
      "No samples with y_hat == 1 for Sex == 1, returning 0\n",
      "\n",
      "/home/marcos/Documents/Experiments/envs/crime/lib/python3.7/site-packages/sklego/metrics.py:155: RuntimeWarning:\n",
      "\n",
      "invalid value encountered in double_scalars\n",
      "\n",
      "/home/marcos/Documents/Experiments/envs/crime/lib/python3.7/site-packages/sklego/metrics.py:79: RuntimeWarning:\n",
      "\n",
      "No samples with y_hat == 1 for Sex == 1, returning 0\n",
      "\n",
      "/home/marcos/Documents/Experiments/envs/crime/lib/python3.7/site-packages/sklego/metrics.py:155: RuntimeWarning:\n",
      "\n",
      "invalid value encountered in double_scalars\n",
      "\n",
      "/home/marcos/Documents/Experiments/envs/crime/lib/python3.7/site-packages/sklego/metrics.py:79: RuntimeWarning:\n",
      "\n",
      "No samples with y_hat == 1 for Sex == 1, returning 0\n",
      "\n",
      "/home/marcos/Documents/Experiments/envs/crime/lib/python3.7/site-packages/sklego/metrics.py:155: RuntimeWarning:\n",
      "\n",
      "invalid value encountered in double_scalars\n",
      "\n",
      "/home/marcos/Documents/Experiments/envs/crime/lib/python3.7/site-packages/sklego/metrics.py:79: RuntimeWarning:\n",
      "\n",
      "No samples with y_hat == 1 for Sex == 1, returning 0\n",
      "\n"
     ]
    }
   ],
   "source": [
    "import numpy as np\n",
    "\n",
    "C_values = np.logspace(-10, 10, 150)\n",
    "\n",
    "metrics_adult_log_aux = {\"Acurácia\": [], \"Igualdade de Oportunidade\": [], \"P porcento\": [], \"Coeficiente de variação\": []}\n",
    "\n",
    "for C in C_values:\n",
    "    model = LogisticRegression(C=C, max_iter=10**3, tol=10**-6)\n",
    "    model.fit(X_train, y_train)\n",
    "    metrics_adult_log_aux[\"Acurácia\"].append(model.score(X_test, y_test))\n",
    "    metrics_adult_log_aux[\"Igualdade de Oportunidade\"].append(equal_opportunity_score(sensitive_column=german_fair_feature)(model,\n",
    "                                                                                                            X_test, y_test))\n",
    "    metrics_adult_log_aux[\"P porcento\"].append(p_percent_score(sensitive_column=german_fair_feature)(model,X_test))\n",
    "    metrics_adult_log_aux[\"Coeficiente de variação\"].append(coefficient_of_variation(model, X_test, y_test))"
   ]
  },
  {
   "cell_type": "code",
   "execution_count": 41,
   "metadata": {},
   "outputs": [],
   "source": [
    "metrics_adult_log = pd.DataFrame(data=metrics_adult_log_aux, columns=['Acurácia','Igualdade de Oportunidade','P porcento',\n",
    "                                     'Coeficiente de variação'])\n",
    "\n",
    "metrics_adult_log['cv_aux'] = 1/metrics_adult_log['Coeficiente de variação']\n",
    "\n",
    "metrics_adult_log = metrics_adult_log.drop('Coeficiente de variação', axis=1)\n",
    "dominate_metr = [any([dominate(other, row) for other in metrics_adult_log.values]) for row in metrics_adult_log.values]\n",
    "metrics_adult_log['dominated'] = dominate_metr"
   ]
  },
  {
   "cell_type": "code",
   "execution_count": 42,
   "metadata": {},
   "outputs": [
    {
     "data": {
      "application/vnd.plotly.v1+json": {
       "config": {
        "plotlyServerURL": "https://plot.ly"
       },
       "data": [
        {
         "dimensions": [
          {
           "label": "Acurácia",
           "range": [
            0,
            1
           ],
           "values": [
            0.45,
            0.45,
            0.45,
            0.45,
            0.45,
            0.45,
            0.45,
            0.585,
            0.585,
            0.595,
            0.59,
            0.585,
            0.585,
            0.58,
            0.575,
            0.57,
            0.58,
            0.575,
            0.575,
            0.575,
            0.575,
            0.58,
            0.58,
            0.58,
            0.58,
            0.58,
            0.58,
            0.575,
            0.575,
            0.575,
            0.575,
            0.575,
            0.575,
            0.575,
            0.575,
            0.575,
            0.575,
            0.575,
            0.575,
            0.575,
            0.575,
            0.575,
            0.565,
            0.575,
            0.575,
            0.595,
            0.59,
            0.595,
            0.59,
            0.595,
            0.57,
            0.575,
            0.61,
            0.615,
            0.575,
            0.575,
            0.58,
            0.615,
            0.585,
            0.595,
            0.6,
            0.62,
            0.62,
            0.605,
            0.605,
            0.615,
            0.62,
            0.63,
            0.63,
            0.635,
            0.635,
            0.625,
            0.625,
            0.625,
            0.635,
            0.64,
            0.63,
            0.62,
            0.62,
            0.645,
            0.625,
            0.625,
            0.625,
            0.645,
            0.645,
            0.645,
            0.625,
            0.625,
            0.625,
            0.625,
            0.645,
            0.64,
            0.625,
            0.625,
            0.625,
            0.625,
            0.645,
            0.645,
            0.625,
            0.645,
            0.64,
            0.645,
            0.645,
            0.645,
            0.645,
            0.645,
            0.645,
            0.64,
            0.645,
            0.645,
            0.645,
            0.645,
            0.645,
            0.645,
            0.645,
            0.645,
            0.645,
            0.645,
            0.645,
            0.645,
            0.645,
            0.645,
            0.645,
            0.645,
            0.645,
            0.645,
            0.645,
            0.645,
            0.645,
            0.645,
            0.645,
            0.645,
            0.645,
            0.645,
            0.645,
            0.645,
            0.64,
            0.645,
            0.645,
            0.645,
            0.645,
            0.645,
            0.645,
            0.645,
            0.645,
            0.645,
            0.645,
            0.645,
            0.645,
            0.645
           ]
          },
          {
           "label": "Igualdade de Oportunidade",
           "range": [
            0,
            1
           ],
           "values": [
            1,
            1,
            1,
            1,
            1,
            1,
            1,
            0.9878048780487805,
            0.9761904761904762,
            0.9761904761904762,
            0.9517857142857143,
            0.9386446886446888,
            0.9386446886446888,
            0.9633458646616542,
            0.9893822393822395,
            0.9834146341463414,
            0.9834146341463414,
            0.9697560975609756,
            0.9697560975609756,
            0.9697560975609756,
            0.9697560975609756,
            0.9697560975609756,
            0.9697560975609756,
            0.9697560975609756,
            0.9697560975609756,
            0.9697560975609756,
            0.9697560975609756,
            0.9560975609756097,
            0.9560975609756097,
            0.9560975609756097,
            0.9560975609756097,
            0.9560975609756097,
            0.9560975609756097,
            0.9560975609756097,
            0.9560975609756097,
            0.9560975609756097,
            0.9560975609756097,
            0.9560975609756097,
            0.9560975609756097,
            0.9560975609756097,
            0.9424390243902439,
            0.9424390243902439,
            0.9761904761904762,
            0.9959349593495935,
            0.9501590668080595,
            0.9899396378269617,
            0.9959349593495935,
            0.9899396378269617,
            0.9899396378269617,
            0.9817073170731707,
            0.9778270509977828,
            0.9778270509977828,
            0.967479674796748,
            0.9817073170731707,
            0.9778270509977828,
            0.9778270509977828,
            0.9778270509977828,
            0.967479674796748,
            0.9933481152993349,
            0.9650053022269354,
            0.9798515376458113,
            0.928780487804878,
            0.928780487804878,
            0.9390243902439025,
            0.9390243902439025,
            0.9761904761904762,
            0.9817073170731707,
            0.9899396378269617,
            0.9899396378269617,
            0.9899396378269617,
            0.948692152917505,
            0.9622448979591837,
            0.9204081632653062,
            0.9204081632653062,
            0.8249496981891349,
            0.8249496981891349,
            0.9204081632653062,
            0.8785714285714286,
            0.8785714285714286,
            0.8134920634920635,
            0.8785714285714286,
            0.8785714285714286,
            0.8785714285714286,
            0.8134920634920635,
            0.8134920634920635,
            0.8134920634920635,
            0.8785714285714286,
            0.8785714285714286,
            0.8785714285714286,
            0.8785714285714286,
            0.8134920634920635,
            0.8249496981891349,
            0.8785714285714286,
            0.8785714285714286,
            0.8785714285714286,
            0.8785714285714286,
            0.8134920634920635,
            0.8134920634920635,
            0.8785714285714286,
            0.8134920634920635,
            0.8249496981891349,
            0.8134920634920635,
            0.8134920634920635,
            0.8134920634920635,
            0.8134920634920635,
            0.8134920634920635,
            0.8134920634920635,
            0.8249496981891349,
            0.8134920634920635,
            0.8134920634920635,
            0.8134920634920635,
            0.8134920634920635,
            0.8134920634920635,
            0.8134920634920635,
            0.8134920634920635,
            0.8134920634920635,
            0.8134920634920635,
            0.8134920634920635,
            0.8134920634920635,
            0.8134920634920635,
            0.8134920634920635,
            0.8134920634920635,
            0.8134920634920635,
            0.8134920634920635,
            0.8134920634920635,
            0.8134920634920635,
            0.8134920634920635,
            0.8134920634920635,
            0.8134920634920635,
            0.8134920634920635,
            0.8134920634920635,
            0.8134920634920635,
            0.8134920634920635,
            0.8134920634920635,
            0.8134920634920635,
            0.8134920634920635,
            0.8249496981891349,
            0.8134920634920635,
            0.8134920634920635,
            0.8134920634920635,
            0.8134920634920635,
            0.8134920634920635,
            0.8134920634920635,
            0.8134920634920635,
            0.8134920634920635,
            0.8134920634920635,
            0.8134920634920635,
            0.8134920634920635,
            0.8134920634920635,
            0.8134920634920635
           ]
          },
          {
           "label": "P porcento",
           "range": [
            0,
            1
           ],
           "values": [
            0,
            0,
            0,
            0,
            0,
            0,
            0,
            0.971981721981722,
            0.939033189033189,
            0.9534798534798535,
            0.9271563922726714,
            0.9147140337616528,
            0.9147140337616528,
            0.9119303635432667,
            0.9090554254488681,
            0.9319727891156462,
            0.9214420231369383,
            0.9293175959842627,
            0.9293175959842627,
            0.9293175959842627,
            0.9293175959842627,
            0.9373289545703338,
            0.9373289545703338,
            0.9373289545703338,
            0.9373289545703338,
            0.9373289545703338,
            0.9373289545703338,
            0.945479641131815,
            0.945479641131815,
            0.945479641131815,
            0.945479641131815,
            0.945479641131815,
            0.945479641131815,
            0.945479641131815,
            0.945479641131815,
            0.945479641131815,
            0.945479641131815,
            0.945479641131815,
            0.945479641131815,
            0.945479641131815,
            0.9622137940722011,
            0.9622137940722011,
            0.906084656084656,
            0.9346978557504874,
            0.9711820003082139,
            0.951388888888889,
            0.95995995995996,
            0.951388888888889,
            0.9429695181907571,
            0.9866255144032922,
            0.9380641145347027,
            0.916744475568005,
            0.9436957172806228,
            0.9348761311378133,
            0.916744475568005,
            0.916744475568005,
            0.9258211535439259,
            0.9526832955404384,
            0.916744475568005,
            0.9289566959469872,
            0.92002442002442,
            0.9733938019652306,
            0.9733938019652306,
            0.9112622826908541,
            0.9112622826908541,
            0.865814226925338,
            0.885949441504997,
            0.8698412698412697,
            0.8698412698412697,
            0.8500721500721501,
            0.8105339105339106,
            0.837920489296636,
            0.7980195136158438,
            0.7980195136158438,
            0.6919191919191919,
            0.672150072150072,
            0.7780690257754478,
            0.7780690257754478,
            0.7780690257754478,
            0.666094666094666,
            0.7581185379350516,
            0.7581185379350516,
            0.7581185379350516,
            0.666094666094666,
            0.666094666094666,
            0.666094666094666,
            0.7581185379350516,
            0.7581185379350516,
            0.7581185379350516,
            0.7581185379350516,
            0.666094666094666,
            0.672150072150072,
            0.7581185379350516,
            0.7581185379350516,
            0.7581185379350516,
            0.7581185379350516,
            0.666094666094666,
            0.666094666094666,
            0.7581185379350516,
            0.666094666094666,
            0.672150072150072,
            0.666094666094666,
            0.666094666094666,
            0.666094666094666,
            0.666094666094666,
            0.666094666094666,
            0.666094666094666,
            0.672150072150072,
            0.666094666094666,
            0.666094666094666,
            0.666094666094666,
            0.666094666094666,
            0.666094666094666,
            0.666094666094666,
            0.666094666094666,
            0.666094666094666,
            0.666094666094666,
            0.666094666094666,
            0.666094666094666,
            0.666094666094666,
            0.666094666094666,
            0.666094666094666,
            0.666094666094666,
            0.666094666094666,
            0.666094666094666,
            0.666094666094666,
            0.666094666094666,
            0.666094666094666,
            0.666094666094666,
            0.666094666094666,
            0.666094666094666,
            0.666094666094666,
            0.666094666094666,
            0.666094666094666,
            0.666094666094666,
            0.666094666094666,
            0.672150072150072,
            0.666094666094666,
            0.666094666094666,
            0.666094666094666,
            0.666094666094666,
            0.666094666094666,
            0.666094666094666,
            0.666094666094666,
            0.666094666094666,
            0.666094666094666,
            0.666094666094666,
            0.666094666094666,
            0.666094666094666,
            0.666094666094666
           ]
          },
          {
           "label": "cv_aux",
           "range": [
            1.2,
            3
           ],
           "values": [
            0.6396021490668312,
            0.6396021490668312,
            0.6396021490668312,
            0.6396021490668312,
            0.6396021490668312,
            0.6396021490668312,
            0.6396021490668312,
            1.9831067599995535,
            1.9383414766954816,
            1.9326731208044596,
            1.8537224911867878,
            1.7481543366540102,
            1.7481543366540102,
            1.6861128476102207,
            1.6291155094892382,
            1.576481562736165,
            1.573873092363654,
            1.5497119589921258,
            1.5497119589921258,
            1.5497119589921258,
            1.5497119589921258,
            1.5485885391866472,
            1.5485885391866472,
            1.5485885391866472,
            1.5485885391866472,
            1.5485885391866472,
            1.5485885391866472,
            1.5252789416141754,
            1.5252789416141754,
            1.5252789416141754,
            1.5252789416141754,
            1.5252789416141754,
            1.5252789416141754,
            1.5252789416141754,
            1.5252789416141754,
            1.5252789416141754,
            1.5252789416141754,
            1.5252789416141754,
            1.5252789416141754,
            1.5252789416141754,
            1.5017547812524465,
            1.5017547812524465,
            1.3778822802265,
            1.5017547812524465,
            1.358349267817637,
            1.5219670028008259,
            1.499400359760167,
            1.5219670028008259,
            1.522609970246921,
            1.4765820244807457,
            1.323255846847956,
            1.323025395264003,
            1.4547725288599733,
            1.4760654099774075,
            1.323025395264003,
            1.323025395264003,
            1.322899815658963,
            1.454925704394046,
            1.3401249790036727,
            1.3760940933718744,
            1.3948931314029667,
            1.4762685595038914,
            1.4762685595038914,
            1.4142754619552291,
            1.4142754619552291,
            1.454925704394046,
            1.4762685595038914,
            1.5212017375641402,
            1.5212017375641402,
            1.5216653553557398,
            1.4992967363450216,
            1.4766114621036128,
            1.4556402857816984,
            1.4556402857816984,
            1.436831925211996,
            1.437776144474113,
            1.4562091447917986,
            1.4348809693964668,
            1.4348809693964668,
            1.458811509823872,
            1.435388588695603,
            1.435388588695603,
            1.435388588695603,
            1.458811509823872,
            1.458811509823872,
            1.458811509823872,
            1.435388588695603,
            1.435388588695603,
            1.435388588695603,
            1.435388588695603,
            1.458811509823872,
            1.437776144474113,
            1.435388588695603,
            1.435388588695603,
            1.435388588695603,
            1.435388588695603,
            1.458811509823872,
            1.458811509823872,
            1.435388588695603,
            1.458811509823872,
            1.437776144474113,
            1.458811509823872,
            1.458811509823872,
            1.458811509823872,
            1.458811509823872,
            1.458811509823872,
            1.458811509823872,
            1.437776144474113,
            1.458811509823872,
            1.458811509823872,
            1.458811509823872,
            1.458811509823872,
            1.458811509823872,
            1.458811509823872,
            1.458811509823872,
            1.458811509823872,
            1.458811509823872,
            1.458811509823872,
            1.458811509823872,
            1.458811509823872,
            1.458811509823872,
            1.458811509823872,
            1.458811509823872,
            1.458811509823872,
            1.458811509823872,
            1.458811509823872,
            1.458811509823872,
            1.458811509823872,
            1.458811509823872,
            1.458811509823872,
            1.458811509823872,
            1.458811509823872,
            1.458811509823872,
            1.458811509823872,
            1.458811509823872,
            1.458811509823872,
            1.437776144474113,
            1.458811509823872,
            1.458811509823872,
            1.458811509823872,
            1.458811509823872,
            1.458811509823872,
            1.458811509823872,
            1.458811509823872,
            1.458811509823872,
            1.458811509823872,
            1.458811509823872,
            1.458811509823872,
            1.458811509823872,
            1.458811509823872
           ]
          }
         ],
         "type": "parcoords"
        }
       ],
       "layout": {
        "paper_bgcolor": "white",
        "plot_bgcolor": "white",
        "template": {
         "data": {
          "bar": [
           {
            "error_x": {
             "color": "#2a3f5f"
            },
            "error_y": {
             "color": "#2a3f5f"
            },
            "marker": {
             "line": {
              "color": "#E5ECF6",
              "width": 0.5
             }
            },
            "type": "bar"
           }
          ],
          "barpolar": [
           {
            "marker": {
             "line": {
              "color": "#E5ECF6",
              "width": 0.5
             }
            },
            "type": "barpolar"
           }
          ],
          "carpet": [
           {
            "aaxis": {
             "endlinecolor": "#2a3f5f",
             "gridcolor": "white",
             "linecolor": "white",
             "minorgridcolor": "white",
             "startlinecolor": "#2a3f5f"
            },
            "baxis": {
             "endlinecolor": "#2a3f5f",
             "gridcolor": "white",
             "linecolor": "white",
             "minorgridcolor": "white",
             "startlinecolor": "#2a3f5f"
            },
            "type": "carpet"
           }
          ],
          "choropleth": [
           {
            "colorbar": {
             "outlinewidth": 0,
             "ticks": ""
            },
            "type": "choropleth"
           }
          ],
          "contour": [
           {
            "colorbar": {
             "outlinewidth": 0,
             "ticks": ""
            },
            "colorscale": [
             [
              0,
              "#0d0887"
             ],
             [
              0.1111111111111111,
              "#46039f"
             ],
             [
              0.2222222222222222,
              "#7201a8"
             ],
             [
              0.3333333333333333,
              "#9c179e"
             ],
             [
              0.4444444444444444,
              "#bd3786"
             ],
             [
              0.5555555555555556,
              "#d8576b"
             ],
             [
              0.6666666666666666,
              "#ed7953"
             ],
             [
              0.7777777777777778,
              "#fb9f3a"
             ],
             [
              0.8888888888888888,
              "#fdca26"
             ],
             [
              1,
              "#f0f921"
             ]
            ],
            "type": "contour"
           }
          ],
          "contourcarpet": [
           {
            "colorbar": {
             "outlinewidth": 0,
             "ticks": ""
            },
            "type": "contourcarpet"
           }
          ],
          "heatmap": [
           {
            "colorbar": {
             "outlinewidth": 0,
             "ticks": ""
            },
            "colorscale": [
             [
              0,
              "#0d0887"
             ],
             [
              0.1111111111111111,
              "#46039f"
             ],
             [
              0.2222222222222222,
              "#7201a8"
             ],
             [
              0.3333333333333333,
              "#9c179e"
             ],
             [
              0.4444444444444444,
              "#bd3786"
             ],
             [
              0.5555555555555556,
              "#d8576b"
             ],
             [
              0.6666666666666666,
              "#ed7953"
             ],
             [
              0.7777777777777778,
              "#fb9f3a"
             ],
             [
              0.8888888888888888,
              "#fdca26"
             ],
             [
              1,
              "#f0f921"
             ]
            ],
            "type": "heatmap"
           }
          ],
          "heatmapgl": [
           {
            "colorbar": {
             "outlinewidth": 0,
             "ticks": ""
            },
            "colorscale": [
             [
              0,
              "#0d0887"
             ],
             [
              0.1111111111111111,
              "#46039f"
             ],
             [
              0.2222222222222222,
              "#7201a8"
             ],
             [
              0.3333333333333333,
              "#9c179e"
             ],
             [
              0.4444444444444444,
              "#bd3786"
             ],
             [
              0.5555555555555556,
              "#d8576b"
             ],
             [
              0.6666666666666666,
              "#ed7953"
             ],
             [
              0.7777777777777778,
              "#fb9f3a"
             ],
             [
              0.8888888888888888,
              "#fdca26"
             ],
             [
              1,
              "#f0f921"
             ]
            ],
            "type": "heatmapgl"
           }
          ],
          "histogram": [
           {
            "marker": {
             "colorbar": {
              "outlinewidth": 0,
              "ticks": ""
             }
            },
            "type": "histogram"
           }
          ],
          "histogram2d": [
           {
            "colorbar": {
             "outlinewidth": 0,
             "ticks": ""
            },
            "colorscale": [
             [
              0,
              "#0d0887"
             ],
             [
              0.1111111111111111,
              "#46039f"
             ],
             [
              0.2222222222222222,
              "#7201a8"
             ],
             [
              0.3333333333333333,
              "#9c179e"
             ],
             [
              0.4444444444444444,
              "#bd3786"
             ],
             [
              0.5555555555555556,
              "#d8576b"
             ],
             [
              0.6666666666666666,
              "#ed7953"
             ],
             [
              0.7777777777777778,
              "#fb9f3a"
             ],
             [
              0.8888888888888888,
              "#fdca26"
             ],
             [
              1,
              "#f0f921"
             ]
            ],
            "type": "histogram2d"
           }
          ],
          "histogram2dcontour": [
           {
            "colorbar": {
             "outlinewidth": 0,
             "ticks": ""
            },
            "colorscale": [
             [
              0,
              "#0d0887"
             ],
             [
              0.1111111111111111,
              "#46039f"
             ],
             [
              0.2222222222222222,
              "#7201a8"
             ],
             [
              0.3333333333333333,
              "#9c179e"
             ],
             [
              0.4444444444444444,
              "#bd3786"
             ],
             [
              0.5555555555555556,
              "#d8576b"
             ],
             [
              0.6666666666666666,
              "#ed7953"
             ],
             [
              0.7777777777777778,
              "#fb9f3a"
             ],
             [
              0.8888888888888888,
              "#fdca26"
             ],
             [
              1,
              "#f0f921"
             ]
            ],
            "type": "histogram2dcontour"
           }
          ],
          "mesh3d": [
           {
            "colorbar": {
             "outlinewidth": 0,
             "ticks": ""
            },
            "type": "mesh3d"
           }
          ],
          "parcoords": [
           {
            "line": {
             "colorbar": {
              "outlinewidth": 0,
              "ticks": ""
             }
            },
            "type": "parcoords"
           }
          ],
          "pie": [
           {
            "automargin": true,
            "type": "pie"
           }
          ],
          "scatter": [
           {
            "marker": {
             "colorbar": {
              "outlinewidth": 0,
              "ticks": ""
             }
            },
            "type": "scatter"
           }
          ],
          "scatter3d": [
           {
            "line": {
             "colorbar": {
              "outlinewidth": 0,
              "ticks": ""
             }
            },
            "marker": {
             "colorbar": {
              "outlinewidth": 0,
              "ticks": ""
             }
            },
            "type": "scatter3d"
           }
          ],
          "scattercarpet": [
           {
            "marker": {
             "colorbar": {
              "outlinewidth": 0,
              "ticks": ""
             }
            },
            "type": "scattercarpet"
           }
          ],
          "scattergeo": [
           {
            "marker": {
             "colorbar": {
              "outlinewidth": 0,
              "ticks": ""
             }
            },
            "type": "scattergeo"
           }
          ],
          "scattergl": [
           {
            "marker": {
             "colorbar": {
              "outlinewidth": 0,
              "ticks": ""
             }
            },
            "type": "scattergl"
           }
          ],
          "scattermapbox": [
           {
            "marker": {
             "colorbar": {
              "outlinewidth": 0,
              "ticks": ""
             }
            },
            "type": "scattermapbox"
           }
          ],
          "scatterpolar": [
           {
            "marker": {
             "colorbar": {
              "outlinewidth": 0,
              "ticks": ""
             }
            },
            "type": "scatterpolar"
           }
          ],
          "scatterpolargl": [
           {
            "marker": {
             "colorbar": {
              "outlinewidth": 0,
              "ticks": ""
             }
            },
            "type": "scatterpolargl"
           }
          ],
          "scatterternary": [
           {
            "marker": {
             "colorbar": {
              "outlinewidth": 0,
              "ticks": ""
             }
            },
            "type": "scatterternary"
           }
          ],
          "surface": [
           {
            "colorbar": {
             "outlinewidth": 0,
             "ticks": ""
            },
            "colorscale": [
             [
              0,
              "#0d0887"
             ],
             [
              0.1111111111111111,
              "#46039f"
             ],
             [
              0.2222222222222222,
              "#7201a8"
             ],
             [
              0.3333333333333333,
              "#9c179e"
             ],
             [
              0.4444444444444444,
              "#bd3786"
             ],
             [
              0.5555555555555556,
              "#d8576b"
             ],
             [
              0.6666666666666666,
              "#ed7953"
             ],
             [
              0.7777777777777778,
              "#fb9f3a"
             ],
             [
              0.8888888888888888,
              "#fdca26"
             ],
             [
              1,
              "#f0f921"
             ]
            ],
            "type": "surface"
           }
          ],
          "table": [
           {
            "cells": {
             "fill": {
              "color": "#EBF0F8"
             },
             "line": {
              "color": "white"
             }
            },
            "header": {
             "fill": {
              "color": "#C8D4E3"
             },
             "line": {
              "color": "white"
             }
            },
            "type": "table"
           }
          ]
         },
         "layout": {
          "annotationdefaults": {
           "arrowcolor": "#2a3f5f",
           "arrowhead": 0,
           "arrowwidth": 1
          },
          "coloraxis": {
           "colorbar": {
            "outlinewidth": 0,
            "ticks": ""
           }
          },
          "colorscale": {
           "diverging": [
            [
             0,
             "#8e0152"
            ],
            [
             0.1,
             "#c51b7d"
            ],
            [
             0.2,
             "#de77ae"
            ],
            [
             0.3,
             "#f1b6da"
            ],
            [
             0.4,
             "#fde0ef"
            ],
            [
             0.5,
             "#f7f7f7"
            ],
            [
             0.6,
             "#e6f5d0"
            ],
            [
             0.7,
             "#b8e186"
            ],
            [
             0.8,
             "#7fbc41"
            ],
            [
             0.9,
             "#4d9221"
            ],
            [
             1,
             "#276419"
            ]
           ],
           "sequential": [
            [
             0,
             "#0d0887"
            ],
            [
             0.1111111111111111,
             "#46039f"
            ],
            [
             0.2222222222222222,
             "#7201a8"
            ],
            [
             0.3333333333333333,
             "#9c179e"
            ],
            [
             0.4444444444444444,
             "#bd3786"
            ],
            [
             0.5555555555555556,
             "#d8576b"
            ],
            [
             0.6666666666666666,
             "#ed7953"
            ],
            [
             0.7777777777777778,
             "#fb9f3a"
            ],
            [
             0.8888888888888888,
             "#fdca26"
            ],
            [
             1,
             "#f0f921"
            ]
           ],
           "sequentialminus": [
            [
             0,
             "#0d0887"
            ],
            [
             0.1111111111111111,
             "#46039f"
            ],
            [
             0.2222222222222222,
             "#7201a8"
            ],
            [
             0.3333333333333333,
             "#9c179e"
            ],
            [
             0.4444444444444444,
             "#bd3786"
            ],
            [
             0.5555555555555556,
             "#d8576b"
            ],
            [
             0.6666666666666666,
             "#ed7953"
            ],
            [
             0.7777777777777778,
             "#fb9f3a"
            ],
            [
             0.8888888888888888,
             "#fdca26"
            ],
            [
             1,
             "#f0f921"
            ]
           ]
          },
          "colorway": [
           "#636efa",
           "#EF553B",
           "#00cc96",
           "#ab63fa",
           "#FFA15A",
           "#19d3f3",
           "#FF6692",
           "#B6E880",
           "#FF97FF",
           "#FECB52"
          ],
          "font": {
           "color": "#2a3f5f"
          },
          "geo": {
           "bgcolor": "white",
           "lakecolor": "white",
           "landcolor": "#E5ECF6",
           "showlakes": true,
           "showland": true,
           "subunitcolor": "white"
          },
          "hoverlabel": {
           "align": "left"
          },
          "hovermode": "closest",
          "mapbox": {
           "style": "light"
          },
          "paper_bgcolor": "white",
          "plot_bgcolor": "#E5ECF6",
          "polar": {
           "angularaxis": {
            "gridcolor": "white",
            "linecolor": "white",
            "ticks": ""
           },
           "bgcolor": "#E5ECF6",
           "radialaxis": {
            "gridcolor": "white",
            "linecolor": "white",
            "ticks": ""
           }
          },
          "scene": {
           "xaxis": {
            "backgroundcolor": "#E5ECF6",
            "gridcolor": "white",
            "gridwidth": 2,
            "linecolor": "white",
            "showbackground": true,
            "ticks": "",
            "zerolinecolor": "white"
           },
           "yaxis": {
            "backgroundcolor": "#E5ECF6",
            "gridcolor": "white",
            "gridwidth": 2,
            "linecolor": "white",
            "showbackground": true,
            "ticks": "",
            "zerolinecolor": "white"
           },
           "zaxis": {
            "backgroundcolor": "#E5ECF6",
            "gridcolor": "white",
            "gridwidth": 2,
            "linecolor": "white",
            "showbackground": true,
            "ticks": "",
            "zerolinecolor": "white"
           }
          },
          "shapedefaults": {
           "line": {
            "color": "#2a3f5f"
           }
          },
          "ternary": {
           "aaxis": {
            "gridcolor": "white",
            "linecolor": "white",
            "ticks": ""
           },
           "baxis": {
            "gridcolor": "white",
            "linecolor": "white",
            "ticks": ""
           },
           "bgcolor": "#E5ECF6",
           "caxis": {
            "gridcolor": "white",
            "linecolor": "white",
            "ticks": ""
           }
          },
          "title": {
           "x": 0.05
          },
          "xaxis": {
           "automargin": true,
           "gridcolor": "white",
           "linecolor": "white",
           "ticks": "",
           "title": {
            "standoff": 15
           },
           "zerolinecolor": "white",
           "zerolinewidth": 2
          },
          "yaxis": {
           "automargin": true,
           "gridcolor": "white",
           "linecolor": "white",
           "ticks": "",
           "title": {
            "standoff": 15
           },
           "zerolinecolor": "white",
           "zerolinewidth": 2
          }
         }
        }
       }
      },
      "text/html": [
       "<div>\n",
       "        \n",
       "        \n",
       "            <div id=\"5d2425dd-ce1b-4320-ba32-f9a2f3d8e9d3\" class=\"plotly-graph-div\" style=\"height:525px; width:100%;\"></div>\n",
       "            <script type=\"text/javascript\">\n",
       "                require([\"plotly\"], function(Plotly) {\n",
       "                    window.PLOTLYENV=window.PLOTLYENV || {};\n",
       "                    \n",
       "                if (document.getElementById(\"5d2425dd-ce1b-4320-ba32-f9a2f3d8e9d3\")) {\n",
       "                    Plotly.newPlot(\n",
       "                        '5d2425dd-ce1b-4320-ba32-f9a2f3d8e9d3',\n",
       "                        [{\"dimensions\": [{\"label\": \"Acur\\u00e1cia\", \"range\": [0, 1], \"values\": [0.45, 0.45, 0.45, 0.45, 0.45, 0.45, 0.45, 0.585, 0.585, 0.595, 0.59, 0.585, 0.585, 0.58, 0.575, 0.57, 0.58, 0.575, 0.575, 0.575, 0.575, 0.58, 0.58, 0.58, 0.58, 0.58, 0.58, 0.575, 0.575, 0.575, 0.575, 0.575, 0.575, 0.575, 0.575, 0.575, 0.575, 0.575, 0.575, 0.575, 0.575, 0.575, 0.565, 0.575, 0.575, 0.595, 0.59, 0.595, 0.59, 0.595, 0.57, 0.575, 0.61, 0.615, 0.575, 0.575, 0.58, 0.615, 0.585, 0.595, 0.6, 0.62, 0.62, 0.605, 0.605, 0.615, 0.62, 0.63, 0.63, 0.635, 0.635, 0.625, 0.625, 0.625, 0.635, 0.64, 0.63, 0.62, 0.62, 0.645, 0.625, 0.625, 0.625, 0.645, 0.645, 0.645, 0.625, 0.625, 0.625, 0.625, 0.645, 0.64, 0.625, 0.625, 0.625, 0.625, 0.645, 0.645, 0.625, 0.645, 0.64, 0.645, 0.645, 0.645, 0.645, 0.645, 0.645, 0.64, 0.645, 0.645, 0.645, 0.645, 0.645, 0.645, 0.645, 0.645, 0.645, 0.645, 0.645, 0.645, 0.645, 0.645, 0.645, 0.645, 0.645, 0.645, 0.645, 0.645, 0.645, 0.645, 0.645, 0.645, 0.645, 0.645, 0.645, 0.645, 0.64, 0.645, 0.645, 0.645, 0.645, 0.645, 0.645, 0.645, 0.645, 0.645, 0.645, 0.645, 0.645, 0.645]}, {\"label\": \"Igualdade de Oportunidade\", \"range\": [0, 1], \"values\": [1.0, 1.0, 1.0, 1.0, 1.0, 1.0, 1.0, 0.9878048780487805, 0.9761904761904762, 0.9761904761904762, 0.9517857142857143, 0.9386446886446888, 0.9386446886446888, 0.9633458646616542, 0.9893822393822395, 0.9834146341463414, 0.9834146341463414, 0.9697560975609756, 0.9697560975609756, 0.9697560975609756, 0.9697560975609756, 0.9697560975609756, 0.9697560975609756, 0.9697560975609756, 0.9697560975609756, 0.9697560975609756, 0.9697560975609756, 0.9560975609756097, 0.9560975609756097, 0.9560975609756097, 0.9560975609756097, 0.9560975609756097, 0.9560975609756097, 0.9560975609756097, 0.9560975609756097, 0.9560975609756097, 0.9560975609756097, 0.9560975609756097, 0.9560975609756097, 0.9560975609756097, 0.9424390243902439, 0.9424390243902439, 0.9761904761904762, 0.9959349593495935, 0.9501590668080595, 0.9899396378269617, 0.9959349593495935, 0.9899396378269617, 0.9899396378269617, 0.9817073170731707, 0.9778270509977828, 0.9778270509977828, 0.967479674796748, 0.9817073170731707, 0.9778270509977828, 0.9778270509977828, 0.9778270509977828, 0.967479674796748, 0.9933481152993349, 0.9650053022269354, 0.9798515376458113, 0.928780487804878, 0.928780487804878, 0.9390243902439025, 0.9390243902439025, 0.9761904761904762, 0.9817073170731707, 0.9899396378269617, 0.9899396378269617, 0.9899396378269617, 0.948692152917505, 0.9622448979591837, 0.9204081632653062, 0.9204081632653062, 0.8249496981891349, 0.8249496981891349, 0.9204081632653062, 0.8785714285714286, 0.8785714285714286, 0.8134920634920635, 0.8785714285714286, 0.8785714285714286, 0.8785714285714286, 0.8134920634920635, 0.8134920634920635, 0.8134920634920635, 0.8785714285714286, 0.8785714285714286, 0.8785714285714286, 0.8785714285714286, 0.8134920634920635, 0.8249496981891349, 0.8785714285714286, 0.8785714285714286, 0.8785714285714286, 0.8785714285714286, 0.8134920634920635, 0.8134920634920635, 0.8785714285714286, 0.8134920634920635, 0.8249496981891349, 0.8134920634920635, 0.8134920634920635, 0.8134920634920635, 0.8134920634920635, 0.8134920634920635, 0.8134920634920635, 0.8249496981891349, 0.8134920634920635, 0.8134920634920635, 0.8134920634920635, 0.8134920634920635, 0.8134920634920635, 0.8134920634920635, 0.8134920634920635, 0.8134920634920635, 0.8134920634920635, 0.8134920634920635, 0.8134920634920635, 0.8134920634920635, 0.8134920634920635, 0.8134920634920635, 0.8134920634920635, 0.8134920634920635, 0.8134920634920635, 0.8134920634920635, 0.8134920634920635, 0.8134920634920635, 0.8134920634920635, 0.8134920634920635, 0.8134920634920635, 0.8134920634920635, 0.8134920634920635, 0.8134920634920635, 0.8134920634920635, 0.8134920634920635, 0.8249496981891349, 0.8134920634920635, 0.8134920634920635, 0.8134920634920635, 0.8134920634920635, 0.8134920634920635, 0.8134920634920635, 0.8134920634920635, 0.8134920634920635, 0.8134920634920635, 0.8134920634920635, 0.8134920634920635, 0.8134920634920635, 0.8134920634920635]}, {\"label\": \"P porcento\", \"range\": [0, 1], \"values\": [0.0, 0.0, 0.0, 0.0, 0.0, 0.0, 0.0, 0.971981721981722, 0.939033189033189, 0.9534798534798535, 0.9271563922726714, 0.9147140337616528, 0.9147140337616528, 0.9119303635432667, 0.9090554254488681, 0.9319727891156462, 0.9214420231369383, 0.9293175959842627, 0.9293175959842627, 0.9293175959842627, 0.9293175959842627, 0.9373289545703338, 0.9373289545703338, 0.9373289545703338, 0.9373289545703338, 0.9373289545703338, 0.9373289545703338, 0.945479641131815, 0.945479641131815, 0.945479641131815, 0.945479641131815, 0.945479641131815, 0.945479641131815, 0.945479641131815, 0.945479641131815, 0.945479641131815, 0.945479641131815, 0.945479641131815, 0.945479641131815, 0.945479641131815, 0.9622137940722011, 0.9622137940722011, 0.906084656084656, 0.9346978557504874, 0.9711820003082139, 0.951388888888889, 0.95995995995996, 0.951388888888889, 0.9429695181907571, 0.9866255144032922, 0.9380641145347027, 0.916744475568005, 0.9436957172806228, 0.9348761311378133, 0.916744475568005, 0.916744475568005, 0.9258211535439259, 0.9526832955404384, 0.916744475568005, 0.9289566959469872, 0.92002442002442, 0.9733938019652306, 0.9733938019652306, 0.9112622826908541, 0.9112622826908541, 0.865814226925338, 0.885949441504997, 0.8698412698412697, 0.8698412698412697, 0.8500721500721501, 0.8105339105339106, 0.837920489296636, 0.7980195136158438, 0.7980195136158438, 0.6919191919191919, 0.672150072150072, 0.7780690257754478, 0.7780690257754478, 0.7780690257754478, 0.666094666094666, 0.7581185379350516, 0.7581185379350516, 0.7581185379350516, 0.666094666094666, 0.666094666094666, 0.666094666094666, 0.7581185379350516, 0.7581185379350516, 0.7581185379350516, 0.7581185379350516, 0.666094666094666, 0.672150072150072, 0.7581185379350516, 0.7581185379350516, 0.7581185379350516, 0.7581185379350516, 0.666094666094666, 0.666094666094666, 0.7581185379350516, 0.666094666094666, 0.672150072150072, 0.666094666094666, 0.666094666094666, 0.666094666094666, 0.666094666094666, 0.666094666094666, 0.666094666094666, 0.672150072150072, 0.666094666094666, 0.666094666094666, 0.666094666094666, 0.666094666094666, 0.666094666094666, 0.666094666094666, 0.666094666094666, 0.666094666094666, 0.666094666094666, 0.666094666094666, 0.666094666094666, 0.666094666094666, 0.666094666094666, 0.666094666094666, 0.666094666094666, 0.666094666094666, 0.666094666094666, 0.666094666094666, 0.666094666094666, 0.666094666094666, 0.666094666094666, 0.666094666094666, 0.666094666094666, 0.666094666094666, 0.666094666094666, 0.666094666094666, 0.666094666094666, 0.666094666094666, 0.672150072150072, 0.666094666094666, 0.666094666094666, 0.666094666094666, 0.666094666094666, 0.666094666094666, 0.666094666094666, 0.666094666094666, 0.666094666094666, 0.666094666094666, 0.666094666094666, 0.666094666094666, 0.666094666094666, 0.666094666094666]}, {\"label\": \"cv_aux\", \"range\": [1.2, 3], \"values\": [0.6396021490668312, 0.6396021490668312, 0.6396021490668312, 0.6396021490668312, 0.6396021490668312, 0.6396021490668312, 0.6396021490668312, 1.9831067599995535, 1.9383414766954816, 1.9326731208044596, 1.8537224911867878, 1.7481543366540102, 1.7481543366540102, 1.6861128476102207, 1.6291155094892382, 1.576481562736165, 1.573873092363654, 1.5497119589921258, 1.5497119589921258, 1.5497119589921258, 1.5497119589921258, 1.5485885391866472, 1.5485885391866472, 1.5485885391866472, 1.5485885391866472, 1.5485885391866472, 1.5485885391866472, 1.5252789416141754, 1.5252789416141754, 1.5252789416141754, 1.5252789416141754, 1.5252789416141754, 1.5252789416141754, 1.5252789416141754, 1.5252789416141754, 1.5252789416141754, 1.5252789416141754, 1.5252789416141754, 1.5252789416141754, 1.5252789416141754, 1.5017547812524465, 1.5017547812524465, 1.3778822802265, 1.5017547812524465, 1.358349267817637, 1.5219670028008259, 1.499400359760167, 1.5219670028008259, 1.522609970246921, 1.4765820244807457, 1.323255846847956, 1.323025395264003, 1.4547725288599733, 1.4760654099774075, 1.323025395264003, 1.323025395264003, 1.322899815658963, 1.454925704394046, 1.3401249790036727, 1.3760940933718744, 1.3948931314029667, 1.4762685595038914, 1.4762685595038914, 1.4142754619552291, 1.4142754619552291, 1.454925704394046, 1.4762685595038914, 1.5212017375641402, 1.5212017375641402, 1.5216653553557398, 1.4992967363450216, 1.4766114621036128, 1.4556402857816984, 1.4556402857816984, 1.436831925211996, 1.437776144474113, 1.4562091447917986, 1.4348809693964668, 1.4348809693964668, 1.458811509823872, 1.435388588695603, 1.435388588695603, 1.435388588695603, 1.458811509823872, 1.458811509823872, 1.458811509823872, 1.435388588695603, 1.435388588695603, 1.435388588695603, 1.435388588695603, 1.458811509823872, 1.437776144474113, 1.435388588695603, 1.435388588695603, 1.435388588695603, 1.435388588695603, 1.458811509823872, 1.458811509823872, 1.435388588695603, 1.458811509823872, 1.437776144474113, 1.458811509823872, 1.458811509823872, 1.458811509823872, 1.458811509823872, 1.458811509823872, 1.458811509823872, 1.437776144474113, 1.458811509823872, 1.458811509823872, 1.458811509823872, 1.458811509823872, 1.458811509823872, 1.458811509823872, 1.458811509823872, 1.458811509823872, 1.458811509823872, 1.458811509823872, 1.458811509823872, 1.458811509823872, 1.458811509823872, 1.458811509823872, 1.458811509823872, 1.458811509823872, 1.458811509823872, 1.458811509823872, 1.458811509823872, 1.458811509823872, 1.458811509823872, 1.458811509823872, 1.458811509823872, 1.458811509823872, 1.458811509823872, 1.458811509823872, 1.458811509823872, 1.458811509823872, 1.437776144474113, 1.458811509823872, 1.458811509823872, 1.458811509823872, 1.458811509823872, 1.458811509823872, 1.458811509823872, 1.458811509823872, 1.458811509823872, 1.458811509823872, 1.458811509823872, 1.458811509823872, 1.458811509823872, 1.458811509823872]}], \"type\": \"parcoords\"}],\n",
       "                        {\"paper_bgcolor\": \"white\", \"plot_bgcolor\": \"white\", \"template\": {\"data\": {\"bar\": [{\"error_x\": {\"color\": \"#2a3f5f\"}, \"error_y\": {\"color\": \"#2a3f5f\"}, \"marker\": {\"line\": {\"color\": \"#E5ECF6\", \"width\": 0.5}}, \"type\": \"bar\"}], \"barpolar\": [{\"marker\": {\"line\": {\"color\": \"#E5ECF6\", \"width\": 0.5}}, \"type\": \"barpolar\"}], \"carpet\": [{\"aaxis\": {\"endlinecolor\": \"#2a3f5f\", \"gridcolor\": \"white\", \"linecolor\": \"white\", \"minorgridcolor\": \"white\", \"startlinecolor\": \"#2a3f5f\"}, \"baxis\": {\"endlinecolor\": \"#2a3f5f\", \"gridcolor\": \"white\", \"linecolor\": \"white\", \"minorgridcolor\": \"white\", \"startlinecolor\": \"#2a3f5f\"}, \"type\": \"carpet\"}], \"choropleth\": [{\"colorbar\": {\"outlinewidth\": 0, \"ticks\": \"\"}, \"type\": \"choropleth\"}], \"contour\": [{\"colorbar\": {\"outlinewidth\": 0, \"ticks\": \"\"}, \"colorscale\": [[0.0, \"#0d0887\"], [0.1111111111111111, \"#46039f\"], [0.2222222222222222, \"#7201a8\"], [0.3333333333333333, \"#9c179e\"], [0.4444444444444444, \"#bd3786\"], [0.5555555555555556, \"#d8576b\"], [0.6666666666666666, \"#ed7953\"], [0.7777777777777778, \"#fb9f3a\"], [0.8888888888888888, \"#fdca26\"], [1.0, \"#f0f921\"]], \"type\": \"contour\"}], \"contourcarpet\": [{\"colorbar\": {\"outlinewidth\": 0, \"ticks\": \"\"}, \"type\": \"contourcarpet\"}], \"heatmap\": [{\"colorbar\": {\"outlinewidth\": 0, \"ticks\": \"\"}, \"colorscale\": [[0.0, \"#0d0887\"], [0.1111111111111111, \"#46039f\"], [0.2222222222222222, \"#7201a8\"], [0.3333333333333333, \"#9c179e\"], [0.4444444444444444, \"#bd3786\"], [0.5555555555555556, \"#d8576b\"], [0.6666666666666666, \"#ed7953\"], [0.7777777777777778, \"#fb9f3a\"], [0.8888888888888888, \"#fdca26\"], [1.0, \"#f0f921\"]], \"type\": \"heatmap\"}], \"heatmapgl\": [{\"colorbar\": {\"outlinewidth\": 0, \"ticks\": \"\"}, \"colorscale\": [[0.0, \"#0d0887\"], [0.1111111111111111, \"#46039f\"], [0.2222222222222222, \"#7201a8\"], [0.3333333333333333, \"#9c179e\"], [0.4444444444444444, \"#bd3786\"], [0.5555555555555556, \"#d8576b\"], [0.6666666666666666, \"#ed7953\"], [0.7777777777777778, \"#fb9f3a\"], [0.8888888888888888, \"#fdca26\"], [1.0, \"#f0f921\"]], \"type\": \"heatmapgl\"}], \"histogram\": [{\"marker\": {\"colorbar\": {\"outlinewidth\": 0, \"ticks\": \"\"}}, \"type\": \"histogram\"}], \"histogram2d\": [{\"colorbar\": {\"outlinewidth\": 0, \"ticks\": \"\"}, \"colorscale\": [[0.0, \"#0d0887\"], [0.1111111111111111, \"#46039f\"], [0.2222222222222222, \"#7201a8\"], [0.3333333333333333, \"#9c179e\"], [0.4444444444444444, \"#bd3786\"], [0.5555555555555556, \"#d8576b\"], [0.6666666666666666, \"#ed7953\"], [0.7777777777777778, \"#fb9f3a\"], [0.8888888888888888, \"#fdca26\"], [1.0, \"#f0f921\"]], \"type\": \"histogram2d\"}], \"histogram2dcontour\": [{\"colorbar\": {\"outlinewidth\": 0, \"ticks\": \"\"}, \"colorscale\": [[0.0, \"#0d0887\"], [0.1111111111111111, \"#46039f\"], [0.2222222222222222, \"#7201a8\"], [0.3333333333333333, \"#9c179e\"], [0.4444444444444444, \"#bd3786\"], [0.5555555555555556, \"#d8576b\"], [0.6666666666666666, \"#ed7953\"], [0.7777777777777778, \"#fb9f3a\"], [0.8888888888888888, \"#fdca26\"], [1.0, \"#f0f921\"]], \"type\": \"histogram2dcontour\"}], \"mesh3d\": [{\"colorbar\": {\"outlinewidth\": 0, \"ticks\": \"\"}, \"type\": \"mesh3d\"}], \"parcoords\": [{\"line\": {\"colorbar\": {\"outlinewidth\": 0, \"ticks\": \"\"}}, \"type\": \"parcoords\"}], \"pie\": [{\"automargin\": true, \"type\": \"pie\"}], \"scatter\": [{\"marker\": {\"colorbar\": {\"outlinewidth\": 0, \"ticks\": \"\"}}, \"type\": \"scatter\"}], \"scatter3d\": [{\"line\": {\"colorbar\": {\"outlinewidth\": 0, \"ticks\": \"\"}}, \"marker\": {\"colorbar\": {\"outlinewidth\": 0, \"ticks\": \"\"}}, \"type\": \"scatter3d\"}], \"scattercarpet\": [{\"marker\": {\"colorbar\": {\"outlinewidth\": 0, \"ticks\": \"\"}}, \"type\": \"scattercarpet\"}], \"scattergeo\": [{\"marker\": {\"colorbar\": {\"outlinewidth\": 0, \"ticks\": \"\"}}, \"type\": \"scattergeo\"}], \"scattergl\": [{\"marker\": {\"colorbar\": {\"outlinewidth\": 0, \"ticks\": \"\"}}, \"type\": \"scattergl\"}], \"scattermapbox\": [{\"marker\": {\"colorbar\": {\"outlinewidth\": 0, \"ticks\": \"\"}}, \"type\": \"scattermapbox\"}], \"scatterpolar\": [{\"marker\": {\"colorbar\": {\"outlinewidth\": 0, \"ticks\": \"\"}}, \"type\": \"scatterpolar\"}], \"scatterpolargl\": [{\"marker\": {\"colorbar\": {\"outlinewidth\": 0, \"ticks\": \"\"}}, \"type\": \"scatterpolargl\"}], \"scatterternary\": [{\"marker\": {\"colorbar\": {\"outlinewidth\": 0, \"ticks\": \"\"}}, \"type\": \"scatterternary\"}], \"surface\": [{\"colorbar\": {\"outlinewidth\": 0, \"ticks\": \"\"}, \"colorscale\": [[0.0, \"#0d0887\"], [0.1111111111111111, \"#46039f\"], [0.2222222222222222, \"#7201a8\"], [0.3333333333333333, \"#9c179e\"], [0.4444444444444444, \"#bd3786\"], [0.5555555555555556, \"#d8576b\"], [0.6666666666666666, \"#ed7953\"], [0.7777777777777778, \"#fb9f3a\"], [0.8888888888888888, \"#fdca26\"], [1.0, \"#f0f921\"]], \"type\": \"surface\"}], \"table\": [{\"cells\": {\"fill\": {\"color\": \"#EBF0F8\"}, \"line\": {\"color\": \"white\"}}, \"header\": {\"fill\": {\"color\": \"#C8D4E3\"}, \"line\": {\"color\": \"white\"}}, \"type\": \"table\"}]}, \"layout\": {\"annotationdefaults\": {\"arrowcolor\": \"#2a3f5f\", \"arrowhead\": 0, \"arrowwidth\": 1}, \"coloraxis\": {\"colorbar\": {\"outlinewidth\": 0, \"ticks\": \"\"}}, \"colorscale\": {\"diverging\": [[0, \"#8e0152\"], [0.1, \"#c51b7d\"], [0.2, \"#de77ae\"], [0.3, \"#f1b6da\"], [0.4, \"#fde0ef\"], [0.5, \"#f7f7f7\"], [0.6, \"#e6f5d0\"], [0.7, \"#b8e186\"], [0.8, \"#7fbc41\"], [0.9, \"#4d9221\"], [1, \"#276419\"]], \"sequential\": [[0.0, \"#0d0887\"], [0.1111111111111111, \"#46039f\"], [0.2222222222222222, \"#7201a8\"], [0.3333333333333333, \"#9c179e\"], [0.4444444444444444, \"#bd3786\"], [0.5555555555555556, \"#d8576b\"], [0.6666666666666666, \"#ed7953\"], [0.7777777777777778, \"#fb9f3a\"], [0.8888888888888888, \"#fdca26\"], [1.0, \"#f0f921\"]], \"sequentialminus\": [[0.0, \"#0d0887\"], [0.1111111111111111, \"#46039f\"], [0.2222222222222222, \"#7201a8\"], [0.3333333333333333, \"#9c179e\"], [0.4444444444444444, \"#bd3786\"], [0.5555555555555556, \"#d8576b\"], [0.6666666666666666, \"#ed7953\"], [0.7777777777777778, \"#fb9f3a\"], [0.8888888888888888, \"#fdca26\"], [1.0, \"#f0f921\"]]}, \"colorway\": [\"#636efa\", \"#EF553B\", \"#00cc96\", \"#ab63fa\", \"#FFA15A\", \"#19d3f3\", \"#FF6692\", \"#B6E880\", \"#FF97FF\", \"#FECB52\"], \"font\": {\"color\": \"#2a3f5f\"}, \"geo\": {\"bgcolor\": \"white\", \"lakecolor\": \"white\", \"landcolor\": \"#E5ECF6\", \"showlakes\": true, \"showland\": true, \"subunitcolor\": \"white\"}, \"hoverlabel\": {\"align\": \"left\"}, \"hovermode\": \"closest\", \"mapbox\": {\"style\": \"light\"}, \"paper_bgcolor\": \"white\", \"plot_bgcolor\": \"#E5ECF6\", \"polar\": {\"angularaxis\": {\"gridcolor\": \"white\", \"linecolor\": \"white\", \"ticks\": \"\"}, \"bgcolor\": \"#E5ECF6\", \"radialaxis\": {\"gridcolor\": \"white\", \"linecolor\": \"white\", \"ticks\": \"\"}}, \"scene\": {\"xaxis\": {\"backgroundcolor\": \"#E5ECF6\", \"gridcolor\": \"white\", \"gridwidth\": 2, \"linecolor\": \"white\", \"showbackground\": true, \"ticks\": \"\", \"zerolinecolor\": \"white\"}, \"yaxis\": {\"backgroundcolor\": \"#E5ECF6\", \"gridcolor\": \"white\", \"gridwidth\": 2, \"linecolor\": \"white\", \"showbackground\": true, \"ticks\": \"\", \"zerolinecolor\": \"white\"}, \"zaxis\": {\"backgroundcolor\": \"#E5ECF6\", \"gridcolor\": \"white\", \"gridwidth\": 2, \"linecolor\": \"white\", \"showbackground\": true, \"ticks\": \"\", \"zerolinecolor\": \"white\"}}, \"shapedefaults\": {\"line\": {\"color\": \"#2a3f5f\"}}, \"ternary\": {\"aaxis\": {\"gridcolor\": \"white\", \"linecolor\": \"white\", \"ticks\": \"\"}, \"baxis\": {\"gridcolor\": \"white\", \"linecolor\": \"white\", \"ticks\": \"\"}, \"bgcolor\": \"#E5ECF6\", \"caxis\": {\"gridcolor\": \"white\", \"linecolor\": \"white\", \"ticks\": \"\"}}, \"title\": {\"x\": 0.05}, \"xaxis\": {\"automargin\": true, \"gridcolor\": \"white\", \"linecolor\": \"white\", \"ticks\": \"\", \"title\": {\"standoff\": 15}, \"zerolinecolor\": \"white\", \"zerolinewidth\": 2}, \"yaxis\": {\"automargin\": true, \"gridcolor\": \"white\", \"linecolor\": \"white\", \"ticks\": \"\", \"title\": {\"standoff\": 15}, \"zerolinecolor\": \"white\", \"zerolinewidth\": 2}}}},\n",
       "                        {\"responsive\": true}\n",
       "                    ).then(function(){\n",
       "                            \n",
       "var gd = document.getElementById('5d2425dd-ce1b-4320-ba32-f9a2f3d8e9d3');\n",
       "var x = new MutationObserver(function (mutations, observer) {{\n",
       "        var display = window.getComputedStyle(gd).display;\n",
       "        if (!display || display === 'none') {{\n",
       "            console.log([gd, 'removed!']);\n",
       "            Plotly.purge(gd);\n",
       "            observer.disconnect();\n",
       "        }}\n",
       "}});\n",
       "\n",
       "// Listen for the removal of the full notebook cells\n",
       "var notebookContainer = gd.closest('#notebook-container');\n",
       "if (notebookContainer) {{\n",
       "    x.observe(notebookContainer, {childList: true});\n",
       "}}\n",
       "\n",
       "// Listen for the clearing of the current output cell\n",
       "var outputEl = gd.closest('.output');\n",
       "if (outputEl) {{\n",
       "    x.observe(outputEl, {childList: true});\n",
       "}}\n",
       "\n",
       "                        })\n",
       "                };\n",
       "                });\n",
       "            </script>\n",
       "        </div>"
      ]
     },
     "metadata": {},
     "output_type": "display_data"
    }
   ],
   "source": [
    "fig = go.Figure(data=\n",
    "    go.Parcoords(\n",
    "        line = dict(),\n",
    "        dimensions = list([\n",
    "            dict(range = [0,1],\n",
    "                label = 'Acurácia', values = metrics_adult_log['Acurácia']),\n",
    "            dict(range = [0,1],\n",
    "                label = 'Igualdade de Oportunidade', values = metrics_adult_log['Igualdade de Oportunidade']),\n",
    "            dict(range = [0,1],\n",
    "                label = 'P porcento', values = metrics_adult_log['P porcento']),\n",
    "            dict(range = [1.2,3],\n",
    "                label = 'cv_aux', values = metrics_adult_log['cv_aux']),\n",
    "        ])\n",
    "    )\n",
    ")\n",
    "\n",
    "fig.update_layout(\n",
    "    plot_bgcolor = 'white',\n",
    "    paper_bgcolor = 'white'\n",
    ")\n",
    "\n",
    "fig.show()"
   ]
  },
  {
   "cell_type": "code",
   "execution_count": null,
   "metadata": {},
   "outputs": [],
   "source": []
  },
  {
   "cell_type": "markdown",
   "metadata": {},
   "source": [
    "## Adult"
   ]
  },
  {
   "cell_type": "code",
   "execution_count": 43,
   "metadata": {},
   "outputs": [],
   "source": [
    "data = pd.read_csv(\"Datasets - Limpos/adult.csv\")\n",
    "fair_feature = \"race\"\n",
    "pred_feature = \"income\""
   ]
  },
  {
   "cell_type": "code",
   "execution_count": 44,
   "metadata": {},
   "outputs": [],
   "source": [
    "X = data.drop([pred_feature], axis=1)\n",
    "y = data[pred_feature]\n",
    "\n",
    "\n",
    "X_tv, X_test, y_tv, y_test = train_test_split(X, y, test_size=5000)\n",
    "X_train, X_val, y_train, y_val = train_test_split(X_tv, y_tv, test_size=5000)"
   ]
  },
  {
   "cell_type": "markdown",
   "metadata": {},
   "source": [
    "### Fair Moo"
   ]
  },
  {
   "cell_type": "code",
   "execution_count": 45,
   "metadata": {},
   "outputs": [],
   "source": [
    "metrics_adult_fair_aux = {\"Acurácia\": [], \"Igualdade de Oportunidade\": [], \"P porcento\": [], \"Coeficiente de variação\": []}"
   ]
  },
  {
   "cell_type": "code",
   "execution_count": 46,
   "metadata": {},
   "outputs": [
    {
     "name": "stderr",
     "output_type": "stream",
     "text": [
      "2020-11-12 17:27:54,376 - moopt.monise - DEBUG: Finding 1th individual minima\n",
      "2020-11-12 17:27:54,767 - moopt.monise - DEBUG: Finding 2th individual minima\n",
      "2020-11-12 17:27:55,415 - moopt.monise - DEBUG: Finding 3th individual minima\n",
      "2020-11-12 17:27:55,849 - moopt.monise - DEBUG: 4th solution - importance: 1.0\n",
      "2020-11-12 17:27:56,222 - moopt.monise - DEBUG: 5th solution - importance: 1.0\n",
      "2020-11-12 17:27:56,598 - moopt.monise - DEBUG: 6th solution - importance: 1.0\n",
      "2020-11-12 17:27:56,999 - moopt.monise - DEBUG: 7th solution - importance: 1.0\n",
      "2020-11-12 17:27:57,439 - moopt.monise - DEBUG: 8th solution - importance: 1.0\n",
      "2020-11-12 17:27:57,780 - moopt.monise - DEBUG: 9th solution - importance: 0.2518029585418239\n",
      "2020-11-12 17:27:58,210 - moopt.monise - DEBUG: 10th solution - importance: 0.24617348594768693\n",
      "2020-11-12 17:27:58,659 - moopt.monise - DEBUG: 11th solution - importance: 0.06248614541647035\n",
      "2020-11-12 17:27:59,078 - moopt.monise - DEBUG: 12th solution - importance: 0.06061928620509666\n",
      "2020-11-12 17:27:59,469 - moopt.monise - DEBUG: 13th solution - importance: 0.0556046766298305\n",
      "2020-11-12 17:28:00,129 - moopt.monise - DEBUG: 14th solution - importance: 0.034857358545549014\n",
      "2020-11-12 17:28:00,510 - moopt.monise - DEBUG: 15th solution - importance: 0.015662082725200144\n",
      "2020-11-12 17:28:00,939 - moopt.monise - DEBUG: 16th solution - importance: 0.015581057625545604\n",
      "2020-11-12 17:28:01,353 - moopt.monise - DEBUG: 17th solution - importance: 0.0153229610643695\n",
      "2020-11-12 17:28:01,789 - moopt.monise - DEBUG: 18th solution - importance: 0.01499106807245417\n",
      "2020-11-12 17:28:02,207 - moopt.monise - DEBUG: 19th solution - importance: 0.008652615981297544\n",
      "2020-11-12 17:28:02,625 - moopt.monise - DEBUG: 20th solution - importance: 0.003915765831026691\n",
      "2020-11-12 17:28:03,218 - moopt.monise - DEBUG: 21th solution - importance: 0.003915275055202223\n",
      "2020-11-12 17:28:03,667 - moopt.monise - DEBUG: 22th solution - importance: 0.003901658064566529\n",
      "2020-11-12 17:28:04,136 - moopt.monise - DEBUG: 23th solution - importance: 0.0038889127859284695\n",
      "2020-11-12 17:28:04,712 - moopt.monise - DEBUG: 24th solution - importance: 0.003841980406286417\n",
      "2020-11-12 17:28:05,115 - moopt.monise - DEBUG: 25th solution - importance: 0.0037663403417111762\n",
      "2020-11-12 17:28:05,536 - moopt.monise - DEBUG: 26th solution - importance: 0.0031925687024594624\n",
      "2020-11-12 17:28:06,201 - moopt.monise - DEBUG: 27th solution - importance: 0.002177502611328544\n",
      "2020-11-12 17:28:06,657 - moopt.monise - DEBUG: 28th solution - importance: 0.0020935828010729103\n",
      "2020-11-12 17:28:07,236 - moopt.monise - DEBUG: 29th solution - importance: 0.0019428754519072798\n",
      "2020-11-12 17:28:07,678 - moopt.monise - DEBUG: 30th solution - importance: 0.001587742049394485\n",
      "2020-11-12 17:28:08,115 - moopt.monise - DEBUG: 31th solution - importance: 0.0011880709014551\n",
      "2020-11-12 17:28:08,528 - moopt.monise - DEBUG: 32th solution - importance: 0.0009884458820846153\n",
      "2020-11-12 17:28:08,945 - moopt.monise - DEBUG: 33th solution - importance: 0.0009791195760877171\n",
      "2020-11-12 17:28:09,617 - moopt.monise - DEBUG: 34th solution - importance: 0.0009777750470282307\n",
      "2020-11-12 17:28:10,138 - moopt.monise - DEBUG: 35th solution - importance: 0.0009732010288754126\n",
      "2020-11-12 17:28:10,671 - moopt.monise - DEBUG: 36th solution - importance: 0.0009712532561665778\n",
      "2020-11-12 17:28:11,174 - moopt.monise - DEBUG: 37th solution - importance: 0.0009597807134462273\n",
      "2020-11-12 17:28:11,827 - moopt.monise - DEBUG: 38th solution - importance: 0.0006017705261176397\n",
      "2020-11-12 17:28:12,378 - moopt.monise - DEBUG: 39th solution - importance: 0.0005563761224563348\n",
      "2020-11-12 17:28:13,111 - moopt.monise - DEBUG: 40th solution - importance: 0.0005316917204197908\n",
      "2020-11-12 17:28:13,654 - moopt.monise - DEBUG: 41th solution - importance: 0.00045247496391715754\n",
      "2020-11-12 17:28:14,225 - moopt.monise - DEBUG: 42th solution - importance: 0.00037884985708184853\n",
      "2020-11-12 17:28:14,812 - moopt.monise - DEBUG: 43th solution - importance: 0.0002970113932840842\n",
      "2020-11-12 17:28:15,385 - moopt.monise - DEBUG: 44th solution - importance: 0.0002640302528532456\n",
      "2020-11-12 17:28:15,981 - moopt.monise - DEBUG: 45th solution - importance: 0.0002453744594046087\n",
      "2020-11-12 17:28:16,592 - moopt.monise - DEBUG: 46th solution - importance: 0.00024521237830326135\n",
      "2020-11-12 17:28:17,211 - moopt.monise - DEBUG: 47th solution - importance: 0.0002447161287883075\n",
      "2020-11-12 17:28:17,922 - moopt.monise - DEBUG: 48th solution - importance: 0.0002446842112041737\n",
      "2020-11-12 17:28:18,788 - moopt.monise - DEBUG: 49th solution - importance: 0.000243800742547761\n",
      "2020-11-12 17:28:19,398 - moopt.monise - DEBUG: 50th solution - importance: 0.00024181642424364852\n",
      "2020-11-12 17:28:20,220 - moopt.monise - DEBUG: 51th solution - importance: 0.00024119187252552994\n",
      "2020-11-12 17:28:21,055 - moopt.monise - DEBUG: 52th solution - importance: 0.00023790643921408442\n",
      "2020-11-12 17:28:21,867 - moopt.monise - DEBUG: 53th solution - importance: 0.00020715434632152894\n",
      "2020-11-12 17:28:22,703 - moopt.monise - DEBUG: 54th solution - importance: 0.00014388468789554637\n",
      "2020-11-12 17:28:23,464 - moopt.monise - DEBUG: 55th solution - importance: 0.0001196262368594291\n",
      "2020-11-12 17:28:24,403 - moopt.monise - DEBUG: 56th solution - importance: 0.00010923035838503155\n",
      "2020-11-12 17:28:25,380 - moopt.monise - DEBUG: 57th solution - importance: 0.00010541604153329688\n",
      "2020-11-12 17:28:26,222 - moopt.monise - DEBUG: 58th solution - importance: 9.66853131842299e-05\n",
      "2020-11-12 17:28:26,962 - moopt.monise - DEBUG: 59th solution - importance: 9.351416353820647e-05\n",
      "2020-11-12 17:28:27,997 - moopt.monise - DEBUG: 60th solution - importance: 9.2012970866549e-05\n",
      "2020-11-12 17:28:29,064 - moopt.monise - DEBUG: 61th solution - importance: 7.567831318320265e-05\n",
      "2020-11-12 17:28:29,883 - moopt.monise - DEBUG: 62th solution - importance: 7.375100196306792e-05\n",
      "2020-11-12 17:28:31,022 - moopt.monise - DEBUG: 63th solution - importance: 7.544362206772059e-05\n",
      "2020-11-12 17:28:32,139 - moopt.monise - DEBUG: 64th solution - importance: 7.544362206772059e-05\n",
      "2020-11-12 17:28:33,307 - moopt.monise - DEBUG: 65th solution - importance: 7.588395292472901e-05\n",
      "2020-11-12 17:28:34,220 - moopt.monise - DEBUG: 66th solution - importance: 7.588395292472901e-05\n",
      "2020-11-12 17:28:35,598 - moopt.monise - DEBUG: 67th solution - importance: 7.588395292472901e-05\n",
      "2020-11-12 17:28:36,757 - moopt.monise - DEBUG: 68th solution - importance: 7.588395292472901e-05\n",
      "2020-11-12 17:28:37,967 - moopt.monise - DEBUG: 69th solution - importance: 7.588395292472901e-05\n",
      "2020-11-12 17:28:39,352 - moopt.monise - DEBUG: 70th solution - importance: 7.588395292472897e-05\n",
      "2020-11-12 17:28:40,531 - moopt.monise - DEBUG: 71th solution - importance: 7.588395292472897e-05\n",
      "2020-11-12 17:28:41,779 - moopt.monise - DEBUG: 72th solution - importance: 7.58839528767902e-05\n",
      "2020-11-12 17:28:43,023 - moopt.monise - DEBUG: 73th solution - importance: 7.58839529247289e-05\n",
      "2020-11-12 17:28:44,218 - moopt.monise - DEBUG: 74th solution - importance: 7.58839529247289e-05\n",
      "2020-11-12 17:28:45,512 - moopt.monise - DEBUG: 75th solution - importance: 7.58839529247289e-05\n",
      "2020-11-12 17:28:46,943 - moopt.monise - DEBUG: 76th solution - importance: 7.58839529247289e-05\n",
      "2020-11-12 17:28:48,621 - moopt.monise - DEBUG: 77th solution - importance: 7.58839529247289e-05\n",
      "2020-11-12 17:28:49,969 - moopt.monise - DEBUG: 78th solution - importance: 7.588395292472898e-05\n",
      "2020-11-12 17:28:51,098 - moopt.monise - DEBUG: 79th solution - importance: 7.588395292472898e-05\n",
      "2020-11-12 17:28:52,517 - moopt.monise - DEBUG: 80th solution - importance: 7.588395292472898e-05\n",
      "2020-11-12 17:28:53,864 - moopt.monise - DEBUG: 81th solution - importance: 7.588395292472898e-05\n",
      "2020-11-12 17:28:55,426 - moopt.monise - DEBUG: 82th solution - importance: 7.588395292472898e-05\n",
      "2020-11-12 17:28:56,791 - moopt.monise - DEBUG: 83th solution - importance: 8.448684363626858e-05\n",
      "2020-11-12 17:28:58,629 - moopt.monise - DEBUG: 84th solution - importance: 8.448684363626858e-05\n",
      "2020-11-12 17:28:59,852 - moopt.monise - DEBUG: 85th solution - importance: 8.448684363626858e-05\n",
      "2020-11-12 17:29:01,386 - moopt.monise - DEBUG: 86th solution - importance: 8.448684363626858e-05\n"
     ]
    },
    {
     "name": "stderr",
     "output_type": "stream",
     "text": [
      "2020-11-12 17:29:03,275 - moopt.monise - DEBUG: 87th solution - importance: 8.448684363626858e-05\n",
      "2020-11-12 17:29:05,004 - moopt.monise - DEBUG: 88th solution - importance: 6.135704002134124e-05\n",
      "2020-11-12 17:29:07,462 - moopt.monise - DEBUG: 89th solution - importance: 6.135704002134124e-05\n",
      "2020-11-12 17:29:09,865 - moopt.monise - DEBUG: 90th solution - importance: 6.135704002134124e-05\n",
      "2020-11-12 17:29:12,065 - moopt.monise - DEBUG: 91th solution - importance: 6.135704002134124e-05\n",
      "2020-11-12 17:29:14,513 - moopt.monise - DEBUG: 92th solution - importance: 6.135704002134124e-05\n",
      "2020-11-12 17:29:16,619 - moopt.monise - DEBUG: 93th solution - importance: 6.135704002134124e-05\n",
      "2020-11-12 17:29:19,069 - moopt.monise - DEBUG: 94th solution - importance: 6.135704002134124e-05\n",
      "2020-11-12 17:29:21,409 - moopt.monise - DEBUG: 95th solution - importance: 6.135704002134124e-05\n",
      "2020-11-12 17:29:23,874 - moopt.monise - DEBUG: 96th solution - importance: 6.135704002134124e-05\n",
      "2020-11-12 17:29:26,340 - moopt.monise - DEBUG: 97th solution - importance: 6.135704002134124e-05\n",
      "2020-11-12 17:29:28,805 - moopt.monise - DEBUG: 98th solution - importance: 6.135704002134124e-05\n",
      "2020-11-12 17:29:31,290 - moopt.monise - DEBUG: 99th solution - importance: 7.420654459974543e-05\n",
      "2020-11-12 17:29:33,741 - moopt.monise - DEBUG: 100th solution - importance: 7.420654459974543e-05\n",
      "2020-11-12 17:29:36,207 - moopt.monise - DEBUG: 101th solution - importance: 7.420654459974543e-05\n",
      "2020-11-12 17:29:38,643 - moopt.monise - DEBUG: 102th solution - importance: 7.420654459974543e-05\n",
      "2020-11-12 17:29:41,125 - moopt.monise - DEBUG: 103th solution - importance: 7.420654459974543e-05\n",
      "2020-11-12 17:29:43,593 - moopt.monise - DEBUG: 104th solution - importance: 6.268553520843702e-05\n",
      "2020-11-12 17:29:46,052 - moopt.monise - DEBUG: 105th solution - importance: 6.268553520843702e-05\n",
      "2020-11-12 17:29:48,534 - moopt.monise - DEBUG: 106th solution - importance: 6.268553520843702e-05\n",
      "2020-11-12 17:29:50,994 - moopt.monise - DEBUG: 107th solution - importance: 6.268553520843702e-05\n",
      "2020-11-12 17:29:53,453 - moopt.monise - DEBUG: 108th solution - importance: 6.135704002134124e-05\n",
      "2020-11-12 17:29:55,887 - moopt.monise - DEBUG: 109th solution - importance: 6.140910010061887e-05\n",
      "2020-11-12 17:29:58,348 - moopt.monise - DEBUG: 110th solution - importance: 6.140910010061887e-05\n",
      "2020-11-12 17:30:00,793 - moopt.monise - DEBUG: 111th solution - importance: 6.141828170489646e-05\n",
      "2020-11-12 17:30:03,228 - moopt.monise - DEBUG: 112th solution - importance: 6.141828170489646e-05\n",
      "2020-11-12 17:30:05,631 - moopt.monise - DEBUG: 113th solution - importance: 6.141828170489646e-05\n",
      "2020-11-12 17:30:08,068 - moopt.monise - DEBUG: 114th solution - importance: 6.141828170489646e-05\n",
      "2020-11-12 17:30:10,518 - moopt.monise - DEBUG: 115th solution - importance: 6.141828170489646e-05\n",
      "2020-11-12 17:30:12,967 - moopt.monise - DEBUG: 116th solution - importance: 6.141828170489646e-05\n",
      "2020-11-12 17:30:15,430 - moopt.monise - DEBUG: 117th solution - importance: 6.141828170489646e-05\n",
      "2020-11-12 17:30:17,867 - moopt.monise - DEBUG: 118th solution - importance: 6.141828170489646e-05\n",
      "2020-11-12 17:30:20,341 - moopt.monise - DEBUG: 119th solution - importance: 6.141828170489646e-05\n",
      "2020-11-12 17:30:22,780 - moopt.monise - DEBUG: 120th solution - importance: 6.141828170473086e-05\n",
      "2020-11-12 17:30:25,244 - moopt.monise - DEBUG: 121th solution - importance: 6.141828170473086e-05\n",
      "2020-11-12 17:30:27,723 - moopt.monise - DEBUG: 122th solution - importance: 6.141828170473086e-05\n",
      "2020-11-12 17:30:30,190 - moopt.monise - DEBUG: 123th solution - importance: 6.141828166541789e-05\n",
      "2020-11-12 17:30:32,671 - moopt.monise - DEBUG: 124th solution - importance: 6.141828166541789e-05\n",
      "2020-11-12 17:30:35,122 - moopt.monise - DEBUG: 125th solution - importance: 6.140910008200445e-05\n",
      "2020-11-12 17:30:37,602 - moopt.monise - DEBUG: 126th solution - importance: 6.140910008200445e-05\n",
      "2020-11-12 17:30:40,068 - moopt.monise - DEBUG: 127th solution - importance: 6.140910008200445e-05\n",
      "2020-11-12 17:30:42,536 - moopt.monise - DEBUG: 128th solution - importance: 6.408637549343079e-05\n",
      "2020-11-12 17:30:44,976 - moopt.monise - DEBUG: 129th solution - importance: 6.408637549343079e-05\n",
      "2020-11-12 17:30:47,417 - moopt.monise - DEBUG: 130th solution - importance: 6.408637549343079e-05\n",
      "2020-11-12 17:30:49,884 - moopt.monise - DEBUG: 131th solution - importance: 6.408637549343079e-05\n",
      "2020-11-12 17:30:52,326 - moopt.monise - DEBUG: 132th solution - importance: 6.408637549343079e-05\n",
      "2020-11-12 17:30:54,809 - moopt.monise - DEBUG: 133th solution - importance: 6.141828170489646e-05\n",
      "2020-11-12 17:30:57,252 - moopt.monise - DEBUG: 134th solution - importance: 6.141828170473086e-05\n",
      "2020-11-12 17:30:59,737 - moopt.monise - DEBUG: 135th solution - importance: 6.141828170473086e-05\n",
      "2020-11-12 17:31:02,207 - moopt.monise - DEBUG: 136th solution - importance: 6.141828170473086e-05\n",
      "2020-11-12 17:31:04,651 - moopt.monise - DEBUG: 137th solution - importance: 6.141828170473086e-05\n",
      "2020-11-12 17:31:07,137 - moopt.monise - DEBUG: 138th solution - importance: 6.141828170473086e-05\n",
      "2020-11-12 17:31:09,633 - moopt.monise - DEBUG: 139th solution - importance: 6.728788934932165e-05\n",
      "2020-11-12 17:31:12,106 - moopt.monise - DEBUG: 140th solution - importance: 6.728788934932165e-05\n",
      "2020-11-12 17:31:14,550 - moopt.monise - DEBUG: 141th solution - importance: 6.728788934932165e-05\n",
      "2020-11-12 17:31:16,995 - moopt.monise - DEBUG: 142th solution - importance: 6.728788934932165e-05\n",
      "2020-11-12 17:31:19,448 - moopt.monise - DEBUG: 143th solution - importance: 6.728788934932165e-05\n",
      "2020-11-12 17:31:21,919 - moopt.monise - DEBUG: 144th solution - importance: 6.141828167626678e-05\n",
      "2020-11-12 17:31:24,393 - moopt.monise - DEBUG: 145th solution - importance: 6.141828167626678e-05\n",
      "2020-11-12 17:31:26,882 - moopt.monise - DEBUG: 146th solution - importance: 6.141828167626678e-05\n",
      "2020-11-12 17:31:29,328 - moopt.monise - DEBUG: 147th solution - importance: 6.140910010075475e-05\n",
      "2020-11-12 17:31:31,790 - moopt.monise - DEBUG: 148th solution - importance: 6.141828170489594e-05\n",
      "2020-11-12 17:31:34,264 - moopt.monise - DEBUG: 149th solution - importance: 6.141828170489594e-05\n",
      "2020-11-12 17:31:36,753 - moopt.monise - DEBUG: 150th solution - importance: 6.141828170489594e-05\n",
      "/home/marcos/Documents/Experiments/envs/crime/lib/python3.7/site-packages/sklego/metrics.py:155: RuntimeWarning:\n",
      "\n",
      "invalid value encountered in double_scalars\n",
      "\n",
      "/home/marcos/Documents/Experiments/envs/crime/lib/python3.7/site-packages/sklego/metrics.py:79: RuntimeWarning:\n",
      "\n",
      "No samples with y_hat == 1 for race == 1, returning 0\n",
      "\n"
     ]
    }
   ],
   "source": [
    "moo = monise(weightedScalar=FairScalarization(X_train, y_train, fair_feature),\n",
    "             singleScalar=FairScalarization(X_train, y_train, fair_feature),\n",
    "              nodeTimeLimit=2, targetSize=150,\n",
    "              targetGap=0, nodeGap=0.01, norm=False)\n",
    "\n",
    "moo.optimize()\n",
    "\n",
    "sols = []\n",
    "\n",
    "for solution in moo.solutionsList:\n",
    "    sols.append(solution.x)\n",
    "    metrics_adult_fair_aux[\"Acurácia\"].append(solution.x.score(X_test, y_test))\n",
    "    metrics_adult_fair_aux[\"Igualdade de Oportunidade\"].append(equal_opportunity_score(sensitive_column=fair_feature)(solution.x,\n",
    "                                                                                                            X_test, y_test))\n",
    "    metrics_adult_fair_aux[\"P porcento\"].append(p_percent_score(sensitive_column=fair_feature)(solution.x,X_test))\n",
    "    metrics_adult_fair_aux[\"Coeficiente de variação\"].append(coefficient_of_variation(solution.x, X_test, y_test))"
   ]
  },
  {
   "cell_type": "code",
   "execution_count": 47,
   "metadata": {},
   "outputs": [],
   "source": [
    "metrics_adult_fair = pd.DataFrame(data=metrics_adult_fair_aux, columns=['Acurácia','Igualdade de Oportunidade','P porcento',\n",
    "                                     'Coeficiente de variação'])\n",
    "\n",
    "metrics_adult_fair['cv_aux'] = 1/metrics_adult_fair['Coeficiente de variação']\n",
    "\n",
    "metrics_adult_fair = metrics_adult_fair.drop('Coeficiente de variação', axis=1)\n",
    "dominate_metr = [any([dominate(other, row) for other in metrics_adult_fair.values]) for row in metrics_adult_fair.values]\n",
    "metrics_adult_fair['dominated'] = dominate_metr"
   ]
  },
  {
   "cell_type": "code",
   "execution_count": 48,
   "metadata": {},
   "outputs": [
    {
     "data": {
      "application/vnd.plotly.v1+json": {
       "config": {
        "plotlyServerURL": "https://plot.ly"
       },
       "data": [
        {
         "dimensions": [
          {
           "label": "Acurácia",
           "range": [
            0,
            1
           ],
           "values": [
            0.7874,
            0.7898,
            0.7482,
            0.7882,
            0.788,
            0.7916,
            0.79,
            0.7894,
            0.7886,
            0.788,
            0.7876,
            0.7906,
            0.7912,
            0.7896,
            0.788,
            0.7888,
            0.7874,
            0.7898,
            0.7914,
            0.7912,
            0.7904,
            0.7886,
            0.788,
            0.7906,
            0.7884,
            0.7892,
            0.7904,
            0.7874,
            0.791,
            0.7874,
            0.7916,
            0.7908,
            0.7914,
            0.79,
            0.7878,
            0.788,
            0.7878,
            0.7896,
            0.7888,
            0.7898,
            0.7916,
            0.7876,
            0.7874,
            0.7872,
            0.7906,
            0.7908,
            0.7916,
            0.7922,
            0.7906,
            0.7884,
            0.7896,
            0.79,
            0.7892,
            0.7898,
            0.7874,
            0.7894,
            0.79,
            0.7906,
            0.789,
            0.7908,
            0.7908,
            0.7876,
            0.7904,
            0.7908,
            0.7904,
            0.7902,
            0.7904,
            0.7908,
            0.7906,
            0.7908,
            0.7904,
            0.7904,
            0.7904,
            0.7904,
            0.7904,
            0.7908,
            0.7876,
            0.7904,
            0.7876,
            0.7904,
            0.7904,
            0.7888,
            0.7884,
            0.7876,
            0.7876,
            0.7876,
            0.7876,
            0.7876,
            0.7876,
            0.7876,
            0.7876,
            0.7876,
            0.7876,
            0.7876,
            0.7876,
            0.7876,
            0.7876,
            0.7876,
            0.7872,
            0.7876,
            0.7876,
            0.7876,
            0.7874,
            0.7876,
            0.7876,
            0.7874,
            0.7876,
            0.7876,
            0.7874,
            0.7876,
            0.7874,
            0.7874,
            0.7874,
            0.7874,
            0.7874,
            0.7874,
            0.7876,
            0.7874,
            0.7876,
            0.7874,
            0.7876,
            0.7876,
            0.7876,
            0.7876,
            0.7874,
            0.7876,
            0.7876,
            0.7876,
            0.7874,
            0.7874,
            0.7876,
            0.7874,
            0.7876,
            0.7874,
            0.7876,
            0.7876,
            0.7874,
            0.7876,
            0.7874,
            0.7876,
            0.7874,
            0.7874,
            0.7874,
            0.7876,
            0.7876,
            0.7876,
            0.7874,
            0.7874,
            0.7876,
            0.7876
           ]
          },
          {
           "label": "Igualdade de Oportunidade",
           "range": [
            0,
            1
           ],
           "values": [
            0.9191390842051106,
            0.9218266253869968,
            1,
            0.8757352941176471,
            0.8634009942004971,
            0.9077743902439025,
            0.8888059701492538,
            0.957395498392283,
            0.8757352941176471,
            0.8997280419016922,
            0.9299843831337846,
            0.9022727272727272,
            0.927570093457944,
            0.9341176470588235,
            0.9186034553681612,
            0.9355035782859137,
            0.9245299292737623,
            0.9022727272727272,
            0.905015197568389,
            0.9161538461538462,
            0.9512779552715656,
            0.8757352941176471,
            0.9218266253869969,
            0.9467408585055644,
            0.9028198908429351,
            0.8634009942004971,
            0.896421954608615,
            0.9218266253869969,
            0.9382878151260504,
            0.9299843831337846,
            0.905015197568389,
            0.9022727272727272,
            0.9133435582822086,
            0.9107647058823529,
            0.8634009942004971,
            0.9218266253869969,
            0.9122242647058824,
            0.987671384343211,
            0.9115460310518259,
            0.9181095825426945,
            0.9077743902439025,
            0.9191390842051106,
            0.9245299292737623,
            0.9299843831337846,
            0.905015197568389,
            0.9022727272727272,
            0.905015197568389,
            0.967069649945868,
            0.9615916955017301,
            0.9014922145328719,
            0.9218266253869968,
            0.925305216426193,
            0.9248689574839836,
            0.9107647058823529,
            0.9299843831337846,
            0.8905782652043869,
            0.9115460310518259,
            0.9022727272727272,
            0.9115460310518259,
            0.8929065743944636,
            0.8929065743944636,
            0.9218266253869969,
            0.896421954608615,
            0.8929065743944636,
            0.896421954608615,
            0.9452380952380952,
            0.896421954608615,
            0.8929065743944636,
            0.9022727272727272,
            0.9782255807444725,
            0.896421954608615,
            0.896421954608615,
            0.896421954608615,
            0.896421954608615,
            0.896421954608615,
            0.9615916955017301,
            0.9218266253869969,
            0.896421954608615,
            0.9218266253869969,
            0.896421954608615,
            0.896421954608615,
            0.9115460310518259,
            0.8949119793902962,
            0.9218266253869969,
            0.9218266253869969,
            0.9218266253869969,
            0.9218266253869969,
            0.9218266253869969,
            0.9218266253869969,
            0.9218266253869969,
            0.9218266253869969,
            0.9218266253869969,
            0.9218266253869969,
            0.9218266253869969,
            0.9218266253869969,
            0.9218266253869969,
            0.9218266253869969,
            0.9218266253869969,
            0.9299843831337846,
            0.9218266253869969,
            0.9218266253869969,
            0.9218266253869969,
            0.9191390842051106,
            0.9218266253869969,
            0.9218266253869969,
            0.9218266253869969,
            0.9218266253869969,
            0.9218266253869969,
            0.9218266253869969,
            0.9218266253869969,
            0.9218266253869969,
            0.9218266253869969,
            0.9218266253869969,
            0.9218266253869969,
            0.9218266253869969,
            0.9218266253869969,
            0.9218266253869969,
            0.9218266253869969,
            0.9218266253869969,
            0.9218266253869969,
            0.9218266253869969,
            0.9218266253869969,
            0.9218266253869969,
            0.9218266253869969,
            0.9218266253869969,
            0.9218266253869969,
            0.9218266253869969,
            0.9218266253869969,
            0.9218266253869969,
            0.9218266253869969,
            0.9218266253869969,
            0.9218266253869969,
            0.9218266253869969,
            0.9218266253869969,
            0.9218266253869969,
            0.9218266253869969,
            0.9218266253869969,
            0.9218266253869969,
            0.9191390842051106,
            0.9218266253869969,
            0.9218266253869969,
            0.9218266253869969,
            0.9218266253869969,
            0.9218266253869969,
            0.9218266253869969,
            0.9218266253869969,
            0.9218266253869969,
            0.9218266253869969,
            0.9218266253869969,
            0.9218266253869969
           ]
          },
          {
           "label": "P porcento",
           "range": [
            0,
            1
           ],
           "values": [
            0.5239862327658567,
            0.42188107007461584,
            0,
            0.48421783883213965,
            0.45137766794453427,
            0.5223289439019053,
            0.4978273729726049,
            0.5282376423623342,
            0.43924108305128867,
            0.5026994357341297,
            0.5336499132881778,
            0.5120198200091046,
            0.5149105458807156,
            0.5137833785165986,
            0.49366711602972063,
            0.5249292646439897,
            0.5282376423623342,
            0.5075674737481558,
            0.5188467509425593,
            0.5056328783873695,
            0.5519646286622971,
            0.43924108305128867,
            0.49626536400882443,
            0.42225893041503204,
            0.5078685816028612,
            0.4333531328763385,
            0.4068626501043221,
            0.5261033488578399,
            0.5395732140868478,
            0.5325586046720465,
            0.5200023116350817,
            0.5131451382948389,
            0.504496624728072,
            0.4149193362450017,
            0.47513438731003604,
            0.49626536400882443,
            0.5118157467448522,
            0.4796460491479948,
            0.4412158342274988,
            0.4190685296074517,
            0.5223289439019053,
            0.5250426566222395,
            0.5282376423623342,
            0.5314717503767974,
            0.5142754139298495,
            0.5131451382948389,
            0.5200023116350817,
            0.549798362458756,
            0.43312089647072416,
            0.4312448549229225,
            0.42047009659610546,
            0.4598213212129957,
            0.5269461077844312,
            0.4135544700073537,
            0.5325586046720465,
            0.5039818322538596,
            0.449001996007984,
            0.5120198200091046,
            0.44249472070352047,
            0.4068626501043221,
            0.4068626501043221,
            0.5271683353939893,
            0.4068626501043221,
            0.4068626501043221,
            0.4068626501043221,
            0.5233123496596551,
            0.4068626501043221,
            0.4068626501043221,
            0.5120198200091046,
            0.4561290118176345,
            0.4068626501043221,
            0.4068626501043221,
            0.4068626501043221,
            0.4068626501043221,
            0.4068626501043221,
            0.4345180606528878,
            0.5271683353939893,
            0.4068626501043221,
            0.5271683353939893,
            0.4068626501043221,
            0.4068626501043221,
            0.4412158342274988,
            0.4264264766556273,
            0.5271683353939893,
            0.5271683353939893,
            0.5271683353939893,
            0.5271683353939893,
            0.5271683353939893,
            0.5271683353939893,
            0.5271683353939893,
            0.5271683353939893,
            0.5271683353939893,
            0.5271683353939893,
            0.5271683353939893,
            0.5271683353939893,
            0.5271683353939893,
            0.5271683353939893,
            0.5271683353939893,
            0.5314717503767974,
            0.5271683353939893,
            0.5271683353939893,
            0.5271683353939893,
            0.5239862327658567,
            0.5271683353939893,
            0.5271683353939893,
            0.5261033488578399,
            0.5271683353939893,
            0.5271683353939893,
            0.5261033488578399,
            0.5271683353939893,
            0.5261033488578399,
            0.5261033488578399,
            0.5261033488578399,
            0.5261033488578399,
            0.5261033488578399,
            0.5261033488578399,
            0.5271683353939893,
            0.5261033488578399,
            0.5271683353939893,
            0.5261033488578399,
            0.5271683353939893,
            0.5271683353939893,
            0.5271683353939893,
            0.5271683353939893,
            0.5261033488578399,
            0.5271683353939893,
            0.5271683353939893,
            0.5271683353939893,
            0.5261033488578399,
            0.5261033488578399,
            0.5271683353939893,
            0.5261033488578399,
            0.5271683353939893,
            0.5261033488578399,
            0.5271683353939893,
            0.5271683353939893,
            0.5261033488578399,
            0.5271683353939893,
            0.5239862327658567,
            0.5271683353939893,
            0.5261033488578399,
            0.5261033488578399,
            0.5261033488578399,
            0.5271683353939893,
            0.5271683353939893,
            0.5271683353939893,
            0.5261033488578399,
            0.5261033488578399,
            0.5271683353939893,
            0.5271683353939893
           ]
          },
          {
           "label": "cv_aux",
           "range": [
            1.2,
            1.5
           ],
           "values": [
            1.3803769763988625,
            1.3728038110514733,
            1.2188941458717195,
            1.3739796928358778,
            1.370686296369369,
            1.3904934491632162,
            1.3866103553230054,
            1.3801546562755171,
            1.372184061465299,
            1.3720335768497014,
            1.380107492535439,
            1.3875734656311356,
            1.3878957156753202,
            1.3788287368652863,
            1.3711238683588851,
            1.3834130700608873,
            1.3799323871624531,
            1.3849757532754803,
            1.390015027840485,
            1.3886148736903323,
            1.3838259098061108,
            1.372184061465299,
            1.3709767249115674,
            1.3769131506602923,
            1.37322492312415,
            1.3748035781363825,
            1.3756283178967714,
            1.3801541067079985,
            1.3902405656522523,
            1.3794924050620145,
            1.3906780201082183,
            1.3882276718022586,
            1.3894619365409477,
            1.3737969740881377,
            1.3700073081529893,
            1.3709767249115674,
            1.3707486254662293,
            1.3740968706498204,
            1.37148127573879,
            1.3728853624137751,
            1.3904934491632162,
            1.380988429436395,
            1.3799323871624531,
            1.3788790803510727,
            1.3873825218308278,
            1.3882276718022586,
            1.3906780201082183,
            1.3923172010439326,
            1.3765480589720096,
            1.3704449770544886,
            1.3720579159489072,
            1.3753202949667702,
            1.3779669635630185,
            1.3730527977957703,
            1.3794924050620145,
            1.3772215363876021,
            1.3757572296140819,
            1.3875734656311356,
            1.3721884646320535,
            1.3772071760222633,
            1.3772071760222633,
            1.3807664637807517,
            1.3756283178967714,
            1.3772071760222633,
            1.3756283178967714,
            1.3835055203895907,
            1.3756283178967714,
            1.3772071760222633,
            1.3875734656311356,
            1.3775611759024078,
            1.3756283178967714,
            1.3756283178967714,
            1.3756283178967714,
            1.3756283178967714,
            1.3756283178967714,
            1.3772935154337513,
            1.3807664637807517,
            1.3756283178967714,
            1.3807664637807517,
            1.3756283178967714,
            1.3756283178967714,
            1.37148127573879,
            1.3706993664760392,
            1.3807664637807517,
            1.3807664637807517,
            1.3807664637807517,
            1.3807664637807517,
            1.3807664637807517,
            1.3807664637807517,
            1.3807664637807517,
            1.3807664637807517,
            1.3807664637807517,
            1.3807664637807517,
            1.3807664637807517,
            1.3807664637807517,
            1.3807664637807517,
            1.3807664637807517,
            1.3807664637807517,
            1.3788790803510727,
            1.3807664637807517,
            1.3807664637807517,
            1.3807664637807517,
            1.3803769763988625,
            1.3807664637807517,
            1.3807664637807517,
            1.3801541067079985,
            1.3807664637807517,
            1.3807664637807517,
            1.3801541067079985,
            1.3807664637807517,
            1.3801541067079985,
            1.3801541067079985,
            1.3801541067079985,
            1.3801541067079985,
            1.3801541067079985,
            1.3801541067079985,
            1.3807664637807517,
            1.3801541067079985,
            1.3807664637807517,
            1.3801541067079985,
            1.3807664637807517,
            1.3807664637807517,
            1.3807664637807517,
            1.3807664637807517,
            1.3801541067079985,
            1.3807664637807517,
            1.3807664637807517,
            1.3807664637807517,
            1.3801541067079985,
            1.3801541067079985,
            1.3807664637807517,
            1.3801541067079985,
            1.3807664637807517,
            1.3801541067079985,
            1.3807664637807517,
            1.3807664637807517,
            1.3801541067079985,
            1.3807664637807517,
            1.3803769763988625,
            1.3807664637807517,
            1.3801541067079985,
            1.3801541067079985,
            1.3801541067079985,
            1.3807664637807517,
            1.3807664637807517,
            1.3807664637807517,
            1.3801541067079985,
            1.3801541067079985,
            1.3807664637807517,
            1.3807664637807517
           ]
          }
         ],
         "line": {
          "color": [
           true,
           true,
           false,
           true,
           true,
           true,
           true,
           true,
           true,
           true,
           true,
           true,
           true,
           true,
           true,
           true,
           true,
           true,
           true,
           true,
           false,
           true,
           true,
           true,
           true,
           true,
           true,
           true,
           true,
           true,
           true,
           true,
           true,
           true,
           true,
           true,
           true,
           false,
           true,
           true,
           true,
           true,
           true,
           true,
           true,
           true,
           true,
           false,
           true,
           true,
           true,
           true,
           true,
           true,
           true,
           true,
           true,
           true,
           true,
           true,
           true,
           true,
           true,
           true,
           true,
           true,
           true,
           true,
           true,
           false,
           true,
           true,
           true,
           true,
           true,
           true,
           true,
           true,
           true,
           true,
           true,
           true,
           true,
           true,
           true,
           true,
           true,
           true,
           true,
           true,
           true,
           true,
           true,
           true,
           true,
           true,
           true,
           true,
           true,
           true,
           true,
           true,
           true,
           true,
           true,
           true,
           true,
           true,
           true,
           true,
           true,
           true,
           true,
           true,
           true,
           true,
           true,
           true,
           true,
           true,
           true,
           true,
           true,
           true,
           true,
           true,
           true,
           true,
           true,
           true,
           true,
           true,
           true,
           true,
           true,
           true,
           true,
           true,
           true,
           true,
           true,
           true,
           true,
           true,
           true,
           true,
           true,
           true,
           true,
           true
          ],
          "colorscale": [
           [
            0,
            "rgba(0.0,0.0,255,0.0)"
           ],
           [
            1,
            "rgba(0.0,0.0,255,0.5)"
           ]
          ]
         },
         "type": "parcoords"
        }
       ],
       "layout": {
        "paper_bgcolor": "white",
        "plot_bgcolor": "white",
        "template": {
         "data": {
          "bar": [
           {
            "error_x": {
             "color": "#2a3f5f"
            },
            "error_y": {
             "color": "#2a3f5f"
            },
            "marker": {
             "line": {
              "color": "#E5ECF6",
              "width": 0.5
             }
            },
            "type": "bar"
           }
          ],
          "barpolar": [
           {
            "marker": {
             "line": {
              "color": "#E5ECF6",
              "width": 0.5
             }
            },
            "type": "barpolar"
           }
          ],
          "carpet": [
           {
            "aaxis": {
             "endlinecolor": "#2a3f5f",
             "gridcolor": "white",
             "linecolor": "white",
             "minorgridcolor": "white",
             "startlinecolor": "#2a3f5f"
            },
            "baxis": {
             "endlinecolor": "#2a3f5f",
             "gridcolor": "white",
             "linecolor": "white",
             "minorgridcolor": "white",
             "startlinecolor": "#2a3f5f"
            },
            "type": "carpet"
           }
          ],
          "choropleth": [
           {
            "colorbar": {
             "outlinewidth": 0,
             "ticks": ""
            },
            "type": "choropleth"
           }
          ],
          "contour": [
           {
            "colorbar": {
             "outlinewidth": 0,
             "ticks": ""
            },
            "colorscale": [
             [
              0,
              "#0d0887"
             ],
             [
              0.1111111111111111,
              "#46039f"
             ],
             [
              0.2222222222222222,
              "#7201a8"
             ],
             [
              0.3333333333333333,
              "#9c179e"
             ],
             [
              0.4444444444444444,
              "#bd3786"
             ],
             [
              0.5555555555555556,
              "#d8576b"
             ],
             [
              0.6666666666666666,
              "#ed7953"
             ],
             [
              0.7777777777777778,
              "#fb9f3a"
             ],
             [
              0.8888888888888888,
              "#fdca26"
             ],
             [
              1,
              "#f0f921"
             ]
            ],
            "type": "contour"
           }
          ],
          "contourcarpet": [
           {
            "colorbar": {
             "outlinewidth": 0,
             "ticks": ""
            },
            "type": "contourcarpet"
           }
          ],
          "heatmap": [
           {
            "colorbar": {
             "outlinewidth": 0,
             "ticks": ""
            },
            "colorscale": [
             [
              0,
              "#0d0887"
             ],
             [
              0.1111111111111111,
              "#46039f"
             ],
             [
              0.2222222222222222,
              "#7201a8"
             ],
             [
              0.3333333333333333,
              "#9c179e"
             ],
             [
              0.4444444444444444,
              "#bd3786"
             ],
             [
              0.5555555555555556,
              "#d8576b"
             ],
             [
              0.6666666666666666,
              "#ed7953"
             ],
             [
              0.7777777777777778,
              "#fb9f3a"
             ],
             [
              0.8888888888888888,
              "#fdca26"
             ],
             [
              1,
              "#f0f921"
             ]
            ],
            "type": "heatmap"
           }
          ],
          "heatmapgl": [
           {
            "colorbar": {
             "outlinewidth": 0,
             "ticks": ""
            },
            "colorscale": [
             [
              0,
              "#0d0887"
             ],
             [
              0.1111111111111111,
              "#46039f"
             ],
             [
              0.2222222222222222,
              "#7201a8"
             ],
             [
              0.3333333333333333,
              "#9c179e"
             ],
             [
              0.4444444444444444,
              "#bd3786"
             ],
             [
              0.5555555555555556,
              "#d8576b"
             ],
             [
              0.6666666666666666,
              "#ed7953"
             ],
             [
              0.7777777777777778,
              "#fb9f3a"
             ],
             [
              0.8888888888888888,
              "#fdca26"
             ],
             [
              1,
              "#f0f921"
             ]
            ],
            "type": "heatmapgl"
           }
          ],
          "histogram": [
           {
            "marker": {
             "colorbar": {
              "outlinewidth": 0,
              "ticks": ""
             }
            },
            "type": "histogram"
           }
          ],
          "histogram2d": [
           {
            "colorbar": {
             "outlinewidth": 0,
             "ticks": ""
            },
            "colorscale": [
             [
              0,
              "#0d0887"
             ],
             [
              0.1111111111111111,
              "#46039f"
             ],
             [
              0.2222222222222222,
              "#7201a8"
             ],
             [
              0.3333333333333333,
              "#9c179e"
             ],
             [
              0.4444444444444444,
              "#bd3786"
             ],
             [
              0.5555555555555556,
              "#d8576b"
             ],
             [
              0.6666666666666666,
              "#ed7953"
             ],
             [
              0.7777777777777778,
              "#fb9f3a"
             ],
             [
              0.8888888888888888,
              "#fdca26"
             ],
             [
              1,
              "#f0f921"
             ]
            ],
            "type": "histogram2d"
           }
          ],
          "histogram2dcontour": [
           {
            "colorbar": {
             "outlinewidth": 0,
             "ticks": ""
            },
            "colorscale": [
             [
              0,
              "#0d0887"
             ],
             [
              0.1111111111111111,
              "#46039f"
             ],
             [
              0.2222222222222222,
              "#7201a8"
             ],
             [
              0.3333333333333333,
              "#9c179e"
             ],
             [
              0.4444444444444444,
              "#bd3786"
             ],
             [
              0.5555555555555556,
              "#d8576b"
             ],
             [
              0.6666666666666666,
              "#ed7953"
             ],
             [
              0.7777777777777778,
              "#fb9f3a"
             ],
             [
              0.8888888888888888,
              "#fdca26"
             ],
             [
              1,
              "#f0f921"
             ]
            ],
            "type": "histogram2dcontour"
           }
          ],
          "mesh3d": [
           {
            "colorbar": {
             "outlinewidth": 0,
             "ticks": ""
            },
            "type": "mesh3d"
           }
          ],
          "parcoords": [
           {
            "line": {
             "colorbar": {
              "outlinewidth": 0,
              "ticks": ""
             }
            },
            "type": "parcoords"
           }
          ],
          "pie": [
           {
            "automargin": true,
            "type": "pie"
           }
          ],
          "scatter": [
           {
            "marker": {
             "colorbar": {
              "outlinewidth": 0,
              "ticks": ""
             }
            },
            "type": "scatter"
           }
          ],
          "scatter3d": [
           {
            "line": {
             "colorbar": {
              "outlinewidth": 0,
              "ticks": ""
             }
            },
            "marker": {
             "colorbar": {
              "outlinewidth": 0,
              "ticks": ""
             }
            },
            "type": "scatter3d"
           }
          ],
          "scattercarpet": [
           {
            "marker": {
             "colorbar": {
              "outlinewidth": 0,
              "ticks": ""
             }
            },
            "type": "scattercarpet"
           }
          ],
          "scattergeo": [
           {
            "marker": {
             "colorbar": {
              "outlinewidth": 0,
              "ticks": ""
             }
            },
            "type": "scattergeo"
           }
          ],
          "scattergl": [
           {
            "marker": {
             "colorbar": {
              "outlinewidth": 0,
              "ticks": ""
             }
            },
            "type": "scattergl"
           }
          ],
          "scattermapbox": [
           {
            "marker": {
             "colorbar": {
              "outlinewidth": 0,
              "ticks": ""
             }
            },
            "type": "scattermapbox"
           }
          ],
          "scatterpolar": [
           {
            "marker": {
             "colorbar": {
              "outlinewidth": 0,
              "ticks": ""
             }
            },
            "type": "scatterpolar"
           }
          ],
          "scatterpolargl": [
           {
            "marker": {
             "colorbar": {
              "outlinewidth": 0,
              "ticks": ""
             }
            },
            "type": "scatterpolargl"
           }
          ],
          "scatterternary": [
           {
            "marker": {
             "colorbar": {
              "outlinewidth": 0,
              "ticks": ""
             }
            },
            "type": "scatterternary"
           }
          ],
          "surface": [
           {
            "colorbar": {
             "outlinewidth": 0,
             "ticks": ""
            },
            "colorscale": [
             [
              0,
              "#0d0887"
             ],
             [
              0.1111111111111111,
              "#46039f"
             ],
             [
              0.2222222222222222,
              "#7201a8"
             ],
             [
              0.3333333333333333,
              "#9c179e"
             ],
             [
              0.4444444444444444,
              "#bd3786"
             ],
             [
              0.5555555555555556,
              "#d8576b"
             ],
             [
              0.6666666666666666,
              "#ed7953"
             ],
             [
              0.7777777777777778,
              "#fb9f3a"
             ],
             [
              0.8888888888888888,
              "#fdca26"
             ],
             [
              1,
              "#f0f921"
             ]
            ],
            "type": "surface"
           }
          ],
          "table": [
           {
            "cells": {
             "fill": {
              "color": "#EBF0F8"
             },
             "line": {
              "color": "white"
             }
            },
            "header": {
             "fill": {
              "color": "#C8D4E3"
             },
             "line": {
              "color": "white"
             }
            },
            "type": "table"
           }
          ]
         },
         "layout": {
          "annotationdefaults": {
           "arrowcolor": "#2a3f5f",
           "arrowhead": 0,
           "arrowwidth": 1
          },
          "coloraxis": {
           "colorbar": {
            "outlinewidth": 0,
            "ticks": ""
           }
          },
          "colorscale": {
           "diverging": [
            [
             0,
             "#8e0152"
            ],
            [
             0.1,
             "#c51b7d"
            ],
            [
             0.2,
             "#de77ae"
            ],
            [
             0.3,
             "#f1b6da"
            ],
            [
             0.4,
             "#fde0ef"
            ],
            [
             0.5,
             "#f7f7f7"
            ],
            [
             0.6,
             "#e6f5d0"
            ],
            [
             0.7,
             "#b8e186"
            ],
            [
             0.8,
             "#7fbc41"
            ],
            [
             0.9,
             "#4d9221"
            ],
            [
             1,
             "#276419"
            ]
           ],
           "sequential": [
            [
             0,
             "#0d0887"
            ],
            [
             0.1111111111111111,
             "#46039f"
            ],
            [
             0.2222222222222222,
             "#7201a8"
            ],
            [
             0.3333333333333333,
             "#9c179e"
            ],
            [
             0.4444444444444444,
             "#bd3786"
            ],
            [
             0.5555555555555556,
             "#d8576b"
            ],
            [
             0.6666666666666666,
             "#ed7953"
            ],
            [
             0.7777777777777778,
             "#fb9f3a"
            ],
            [
             0.8888888888888888,
             "#fdca26"
            ],
            [
             1,
             "#f0f921"
            ]
           ],
           "sequentialminus": [
            [
             0,
             "#0d0887"
            ],
            [
             0.1111111111111111,
             "#46039f"
            ],
            [
             0.2222222222222222,
             "#7201a8"
            ],
            [
             0.3333333333333333,
             "#9c179e"
            ],
            [
             0.4444444444444444,
             "#bd3786"
            ],
            [
             0.5555555555555556,
             "#d8576b"
            ],
            [
             0.6666666666666666,
             "#ed7953"
            ],
            [
             0.7777777777777778,
             "#fb9f3a"
            ],
            [
             0.8888888888888888,
             "#fdca26"
            ],
            [
             1,
             "#f0f921"
            ]
           ]
          },
          "colorway": [
           "#636efa",
           "#EF553B",
           "#00cc96",
           "#ab63fa",
           "#FFA15A",
           "#19d3f3",
           "#FF6692",
           "#B6E880",
           "#FF97FF",
           "#FECB52"
          ],
          "font": {
           "color": "#2a3f5f"
          },
          "geo": {
           "bgcolor": "white",
           "lakecolor": "white",
           "landcolor": "#E5ECF6",
           "showlakes": true,
           "showland": true,
           "subunitcolor": "white"
          },
          "hoverlabel": {
           "align": "left"
          },
          "hovermode": "closest",
          "mapbox": {
           "style": "light"
          },
          "paper_bgcolor": "white",
          "plot_bgcolor": "#E5ECF6",
          "polar": {
           "angularaxis": {
            "gridcolor": "white",
            "linecolor": "white",
            "ticks": ""
           },
           "bgcolor": "#E5ECF6",
           "radialaxis": {
            "gridcolor": "white",
            "linecolor": "white",
            "ticks": ""
           }
          },
          "scene": {
           "xaxis": {
            "backgroundcolor": "#E5ECF6",
            "gridcolor": "white",
            "gridwidth": 2,
            "linecolor": "white",
            "showbackground": true,
            "ticks": "",
            "zerolinecolor": "white"
           },
           "yaxis": {
            "backgroundcolor": "#E5ECF6",
            "gridcolor": "white",
            "gridwidth": 2,
            "linecolor": "white",
            "showbackground": true,
            "ticks": "",
            "zerolinecolor": "white"
           },
           "zaxis": {
            "backgroundcolor": "#E5ECF6",
            "gridcolor": "white",
            "gridwidth": 2,
            "linecolor": "white",
            "showbackground": true,
            "ticks": "",
            "zerolinecolor": "white"
           }
          },
          "shapedefaults": {
           "line": {
            "color": "#2a3f5f"
           }
          },
          "ternary": {
           "aaxis": {
            "gridcolor": "white",
            "linecolor": "white",
            "ticks": ""
           },
           "baxis": {
            "gridcolor": "white",
            "linecolor": "white",
            "ticks": ""
           },
           "bgcolor": "#E5ECF6",
           "caxis": {
            "gridcolor": "white",
            "linecolor": "white",
            "ticks": ""
           }
          },
          "title": {
           "x": 0.05
          },
          "xaxis": {
           "automargin": true,
           "gridcolor": "white",
           "linecolor": "white",
           "ticks": "",
           "title": {
            "standoff": 15
           },
           "zerolinecolor": "white",
           "zerolinewidth": 2
          },
          "yaxis": {
           "automargin": true,
           "gridcolor": "white",
           "linecolor": "white",
           "ticks": "",
           "title": {
            "standoff": 15
           },
           "zerolinecolor": "white",
           "zerolinewidth": 2
          }
         }
        }
       }
      },
      "text/html": [
       "<div>\n",
       "        \n",
       "        \n",
       "            <div id=\"7f83f6ff-9c7d-44f1-afd7-2665b54a7612\" class=\"plotly-graph-div\" style=\"height:525px; width:100%;\"></div>\n",
       "            <script type=\"text/javascript\">\n",
       "                require([\"plotly\"], function(Plotly) {\n",
       "                    window.PLOTLYENV=window.PLOTLYENV || {};\n",
       "                    \n",
       "                if (document.getElementById(\"7f83f6ff-9c7d-44f1-afd7-2665b54a7612\")) {\n",
       "                    Plotly.newPlot(\n",
       "                        '7f83f6ff-9c7d-44f1-afd7-2665b54a7612',\n",
       "                        [{\"dimensions\": [{\"label\": \"Acur\\u00e1cia\", \"range\": [0, 1], \"values\": [0.7874, 0.7898, 0.7482, 0.7882, 0.788, 0.7916, 0.79, 0.7894, 0.7886, 0.788, 0.7876, 0.7906, 0.7912, 0.7896, 0.788, 0.7888, 0.7874, 0.7898, 0.7914, 0.7912, 0.7904, 0.7886, 0.788, 0.7906, 0.7884, 0.7892, 0.7904, 0.7874, 0.791, 0.7874, 0.7916, 0.7908, 0.7914, 0.79, 0.7878, 0.788, 0.7878, 0.7896, 0.7888, 0.7898, 0.7916, 0.7876, 0.7874, 0.7872, 0.7906, 0.7908, 0.7916, 0.7922, 0.7906, 0.7884, 0.7896, 0.79, 0.7892, 0.7898, 0.7874, 0.7894, 0.79, 0.7906, 0.789, 0.7908, 0.7908, 0.7876, 0.7904, 0.7908, 0.7904, 0.7902, 0.7904, 0.7908, 0.7906, 0.7908, 0.7904, 0.7904, 0.7904, 0.7904, 0.7904, 0.7908, 0.7876, 0.7904, 0.7876, 0.7904, 0.7904, 0.7888, 0.7884, 0.7876, 0.7876, 0.7876, 0.7876, 0.7876, 0.7876, 0.7876, 0.7876, 0.7876, 0.7876, 0.7876, 0.7876, 0.7876, 0.7876, 0.7876, 0.7872, 0.7876, 0.7876, 0.7876, 0.7874, 0.7876, 0.7876, 0.7874, 0.7876, 0.7876, 0.7874, 0.7876, 0.7874, 0.7874, 0.7874, 0.7874, 0.7874, 0.7874, 0.7876, 0.7874, 0.7876, 0.7874, 0.7876, 0.7876, 0.7876, 0.7876, 0.7874, 0.7876, 0.7876, 0.7876, 0.7874, 0.7874, 0.7876, 0.7874, 0.7876, 0.7874, 0.7876, 0.7876, 0.7874, 0.7876, 0.7874, 0.7876, 0.7874, 0.7874, 0.7874, 0.7876, 0.7876, 0.7876, 0.7874, 0.7874, 0.7876, 0.7876]}, {\"label\": \"Igualdade de Oportunidade\", \"range\": [0, 1], \"values\": [0.9191390842051106, 0.9218266253869968, 1.0, 0.8757352941176471, 0.8634009942004971, 0.9077743902439025, 0.8888059701492538, 0.957395498392283, 0.8757352941176471, 0.8997280419016922, 0.9299843831337846, 0.9022727272727272, 0.927570093457944, 0.9341176470588235, 0.9186034553681612, 0.9355035782859137, 0.9245299292737623, 0.9022727272727272, 0.905015197568389, 0.9161538461538462, 0.9512779552715656, 0.8757352941176471, 0.9218266253869969, 0.9467408585055644, 0.9028198908429351, 0.8634009942004971, 0.896421954608615, 0.9218266253869969, 0.9382878151260504, 0.9299843831337846, 0.905015197568389, 0.9022727272727272, 0.9133435582822086, 0.9107647058823529, 0.8634009942004971, 0.9218266253869969, 0.9122242647058824, 0.987671384343211, 0.9115460310518259, 0.9181095825426945, 0.9077743902439025, 0.9191390842051106, 0.9245299292737623, 0.9299843831337846, 0.905015197568389, 0.9022727272727272, 0.905015197568389, 0.967069649945868, 0.9615916955017301, 0.9014922145328719, 0.9218266253869968, 0.925305216426193, 0.9248689574839836, 0.9107647058823529, 0.9299843831337846, 0.8905782652043869, 0.9115460310518259, 0.9022727272727272, 0.9115460310518259, 0.8929065743944636, 0.8929065743944636, 0.9218266253869969, 0.896421954608615, 0.8929065743944636, 0.896421954608615, 0.9452380952380952, 0.896421954608615, 0.8929065743944636, 0.9022727272727272, 0.9782255807444725, 0.896421954608615, 0.896421954608615, 0.896421954608615, 0.896421954608615, 0.896421954608615, 0.9615916955017301, 0.9218266253869969, 0.896421954608615, 0.9218266253869969, 0.896421954608615, 0.896421954608615, 0.9115460310518259, 0.8949119793902962, 0.9218266253869969, 0.9218266253869969, 0.9218266253869969, 0.9218266253869969, 0.9218266253869969, 0.9218266253869969, 0.9218266253869969, 0.9218266253869969, 0.9218266253869969, 0.9218266253869969, 0.9218266253869969, 0.9218266253869969, 0.9218266253869969, 0.9218266253869969, 0.9218266253869969, 0.9299843831337846, 0.9218266253869969, 0.9218266253869969, 0.9218266253869969, 0.9191390842051106, 0.9218266253869969, 0.9218266253869969, 0.9218266253869969, 0.9218266253869969, 0.9218266253869969, 0.9218266253869969, 0.9218266253869969, 0.9218266253869969, 0.9218266253869969, 0.9218266253869969, 0.9218266253869969, 0.9218266253869969, 0.9218266253869969, 0.9218266253869969, 0.9218266253869969, 0.9218266253869969, 0.9218266253869969, 0.9218266253869969, 0.9218266253869969, 0.9218266253869969, 0.9218266253869969, 0.9218266253869969, 0.9218266253869969, 0.9218266253869969, 0.9218266253869969, 0.9218266253869969, 0.9218266253869969, 0.9218266253869969, 0.9218266253869969, 0.9218266253869969, 0.9218266253869969, 0.9218266253869969, 0.9218266253869969, 0.9218266253869969, 0.9218266253869969, 0.9191390842051106, 0.9218266253869969, 0.9218266253869969, 0.9218266253869969, 0.9218266253869969, 0.9218266253869969, 0.9218266253869969, 0.9218266253869969, 0.9218266253869969, 0.9218266253869969, 0.9218266253869969, 0.9218266253869969]}, {\"label\": \"P porcento\", \"range\": [0, 1], \"values\": [0.5239862327658567, 0.42188107007461584, 0.0, 0.48421783883213965, 0.45137766794453427, 0.5223289439019053, 0.4978273729726049, 0.5282376423623342, 0.43924108305128867, 0.5026994357341297, 0.5336499132881778, 0.5120198200091046, 0.5149105458807156, 0.5137833785165986, 0.49366711602972063, 0.5249292646439897, 0.5282376423623342, 0.5075674737481558, 0.5188467509425593, 0.5056328783873695, 0.5519646286622971, 0.43924108305128867, 0.49626536400882443, 0.42225893041503204, 0.5078685816028612, 0.4333531328763385, 0.4068626501043221, 0.5261033488578399, 0.5395732140868478, 0.5325586046720465, 0.5200023116350817, 0.5131451382948389, 0.504496624728072, 0.4149193362450017, 0.47513438731003604, 0.49626536400882443, 0.5118157467448522, 0.4796460491479948, 0.4412158342274988, 0.4190685296074517, 0.5223289439019053, 0.5250426566222395, 0.5282376423623342, 0.5314717503767974, 0.5142754139298495, 0.5131451382948389, 0.5200023116350817, 0.549798362458756, 0.43312089647072416, 0.4312448549229225, 0.42047009659610546, 0.4598213212129957, 0.5269461077844312, 0.4135544700073537, 0.5325586046720465, 0.5039818322538596, 0.449001996007984, 0.5120198200091046, 0.44249472070352047, 0.4068626501043221, 0.4068626501043221, 0.5271683353939893, 0.4068626501043221, 0.4068626501043221, 0.4068626501043221, 0.5233123496596551, 0.4068626501043221, 0.4068626501043221, 0.5120198200091046, 0.4561290118176345, 0.4068626501043221, 0.4068626501043221, 0.4068626501043221, 0.4068626501043221, 0.4068626501043221, 0.4345180606528878, 0.5271683353939893, 0.4068626501043221, 0.5271683353939893, 0.4068626501043221, 0.4068626501043221, 0.4412158342274988, 0.4264264766556273, 0.5271683353939893, 0.5271683353939893, 0.5271683353939893, 0.5271683353939893, 0.5271683353939893, 0.5271683353939893, 0.5271683353939893, 0.5271683353939893, 0.5271683353939893, 0.5271683353939893, 0.5271683353939893, 0.5271683353939893, 0.5271683353939893, 0.5271683353939893, 0.5271683353939893, 0.5314717503767974, 0.5271683353939893, 0.5271683353939893, 0.5271683353939893, 0.5239862327658567, 0.5271683353939893, 0.5271683353939893, 0.5261033488578399, 0.5271683353939893, 0.5271683353939893, 0.5261033488578399, 0.5271683353939893, 0.5261033488578399, 0.5261033488578399, 0.5261033488578399, 0.5261033488578399, 0.5261033488578399, 0.5261033488578399, 0.5271683353939893, 0.5261033488578399, 0.5271683353939893, 0.5261033488578399, 0.5271683353939893, 0.5271683353939893, 0.5271683353939893, 0.5271683353939893, 0.5261033488578399, 0.5271683353939893, 0.5271683353939893, 0.5271683353939893, 0.5261033488578399, 0.5261033488578399, 0.5271683353939893, 0.5261033488578399, 0.5271683353939893, 0.5261033488578399, 0.5271683353939893, 0.5271683353939893, 0.5261033488578399, 0.5271683353939893, 0.5239862327658567, 0.5271683353939893, 0.5261033488578399, 0.5261033488578399, 0.5261033488578399, 0.5271683353939893, 0.5271683353939893, 0.5271683353939893, 0.5261033488578399, 0.5261033488578399, 0.5271683353939893, 0.5271683353939893]}, {\"label\": \"cv_aux\", \"range\": [1.2, 1.5], \"values\": [1.3803769763988625, 1.3728038110514733, 1.2188941458717195, 1.3739796928358778, 1.370686296369369, 1.3904934491632162, 1.3866103553230054, 1.3801546562755171, 1.372184061465299, 1.3720335768497014, 1.380107492535439, 1.3875734656311356, 1.3878957156753202, 1.3788287368652863, 1.3711238683588851, 1.3834130700608873, 1.3799323871624531, 1.3849757532754803, 1.390015027840485, 1.3886148736903323, 1.3838259098061108, 1.372184061465299, 1.3709767249115674, 1.3769131506602923, 1.37322492312415, 1.3748035781363825, 1.3756283178967714, 1.3801541067079985, 1.3902405656522523, 1.3794924050620145, 1.3906780201082183, 1.3882276718022586, 1.3894619365409477, 1.3737969740881377, 1.3700073081529893, 1.3709767249115674, 1.3707486254662293, 1.3740968706498204, 1.37148127573879, 1.3728853624137751, 1.3904934491632162, 1.380988429436395, 1.3799323871624531, 1.3788790803510727, 1.3873825218308278, 1.3882276718022586, 1.3906780201082183, 1.3923172010439326, 1.3765480589720096, 1.3704449770544886, 1.3720579159489072, 1.3753202949667702, 1.3779669635630185, 1.3730527977957703, 1.3794924050620145, 1.3772215363876021, 1.3757572296140819, 1.3875734656311356, 1.3721884646320535, 1.3772071760222633, 1.3772071760222633, 1.3807664637807517, 1.3756283178967714, 1.3772071760222633, 1.3756283178967714, 1.3835055203895907, 1.3756283178967714, 1.3772071760222633, 1.3875734656311356, 1.3775611759024078, 1.3756283178967714, 1.3756283178967714, 1.3756283178967714, 1.3756283178967714, 1.3756283178967714, 1.3772935154337513, 1.3807664637807517, 1.3756283178967714, 1.3807664637807517, 1.3756283178967714, 1.3756283178967714, 1.37148127573879, 1.3706993664760392, 1.3807664637807517, 1.3807664637807517, 1.3807664637807517, 1.3807664637807517, 1.3807664637807517, 1.3807664637807517, 1.3807664637807517, 1.3807664637807517, 1.3807664637807517, 1.3807664637807517, 1.3807664637807517, 1.3807664637807517, 1.3807664637807517, 1.3807664637807517, 1.3807664637807517, 1.3788790803510727, 1.3807664637807517, 1.3807664637807517, 1.3807664637807517, 1.3803769763988625, 1.3807664637807517, 1.3807664637807517, 1.3801541067079985, 1.3807664637807517, 1.3807664637807517, 1.3801541067079985, 1.3807664637807517, 1.3801541067079985, 1.3801541067079985, 1.3801541067079985, 1.3801541067079985, 1.3801541067079985, 1.3801541067079985, 1.3807664637807517, 1.3801541067079985, 1.3807664637807517, 1.3801541067079985, 1.3807664637807517, 1.3807664637807517, 1.3807664637807517, 1.3807664637807517, 1.3801541067079985, 1.3807664637807517, 1.3807664637807517, 1.3807664637807517, 1.3801541067079985, 1.3801541067079985, 1.3807664637807517, 1.3801541067079985, 1.3807664637807517, 1.3801541067079985, 1.3807664637807517, 1.3807664637807517, 1.3801541067079985, 1.3807664637807517, 1.3803769763988625, 1.3807664637807517, 1.3801541067079985, 1.3801541067079985, 1.3801541067079985, 1.3807664637807517, 1.3807664637807517, 1.3807664637807517, 1.3801541067079985, 1.3801541067079985, 1.3807664637807517, 1.3807664637807517]}], \"line\": {\"color\": [true, true, false, true, true, true, true, true, true, true, true, true, true, true, true, true, true, true, true, true, false, true, true, true, true, true, true, true, true, true, true, true, true, true, true, true, true, false, true, true, true, true, true, true, true, true, true, false, true, true, true, true, true, true, true, true, true, true, true, true, true, true, true, true, true, true, true, true, true, false, true, true, true, true, true, true, true, true, true, true, true, true, true, true, true, true, true, true, true, true, true, true, true, true, true, true, true, true, true, true, true, true, true, true, true, true, true, true, true, true, true, true, true, true, true, true, true, true, true, true, true, true, true, true, true, true, true, true, true, true, true, true, true, true, true, true, true, true, true, true, true, true, true, true, true, true, true, true, true, true], \"colorscale\": [[0.0, \"rgba(0.0,0.0,255,0.0)\"], [1.0, \"rgba(0.0,0.0,255,0.5)\"]]}, \"type\": \"parcoords\"}],\n",
       "                        {\"paper_bgcolor\": \"white\", \"plot_bgcolor\": \"white\", \"template\": {\"data\": {\"bar\": [{\"error_x\": {\"color\": \"#2a3f5f\"}, \"error_y\": {\"color\": \"#2a3f5f\"}, \"marker\": {\"line\": {\"color\": \"#E5ECF6\", \"width\": 0.5}}, \"type\": \"bar\"}], \"barpolar\": [{\"marker\": {\"line\": {\"color\": \"#E5ECF6\", \"width\": 0.5}}, \"type\": \"barpolar\"}], \"carpet\": [{\"aaxis\": {\"endlinecolor\": \"#2a3f5f\", \"gridcolor\": \"white\", \"linecolor\": \"white\", \"minorgridcolor\": \"white\", \"startlinecolor\": \"#2a3f5f\"}, \"baxis\": {\"endlinecolor\": \"#2a3f5f\", \"gridcolor\": \"white\", \"linecolor\": \"white\", \"minorgridcolor\": \"white\", \"startlinecolor\": \"#2a3f5f\"}, \"type\": \"carpet\"}], \"choropleth\": [{\"colorbar\": {\"outlinewidth\": 0, \"ticks\": \"\"}, \"type\": \"choropleth\"}], \"contour\": [{\"colorbar\": {\"outlinewidth\": 0, \"ticks\": \"\"}, \"colorscale\": [[0.0, \"#0d0887\"], [0.1111111111111111, \"#46039f\"], [0.2222222222222222, \"#7201a8\"], [0.3333333333333333, \"#9c179e\"], [0.4444444444444444, \"#bd3786\"], [0.5555555555555556, \"#d8576b\"], [0.6666666666666666, \"#ed7953\"], [0.7777777777777778, \"#fb9f3a\"], [0.8888888888888888, \"#fdca26\"], [1.0, \"#f0f921\"]], \"type\": \"contour\"}], \"contourcarpet\": [{\"colorbar\": {\"outlinewidth\": 0, \"ticks\": \"\"}, \"type\": \"contourcarpet\"}], \"heatmap\": [{\"colorbar\": {\"outlinewidth\": 0, \"ticks\": \"\"}, \"colorscale\": [[0.0, \"#0d0887\"], [0.1111111111111111, \"#46039f\"], [0.2222222222222222, \"#7201a8\"], [0.3333333333333333, \"#9c179e\"], [0.4444444444444444, \"#bd3786\"], [0.5555555555555556, \"#d8576b\"], [0.6666666666666666, \"#ed7953\"], [0.7777777777777778, \"#fb9f3a\"], [0.8888888888888888, \"#fdca26\"], [1.0, \"#f0f921\"]], \"type\": \"heatmap\"}], \"heatmapgl\": [{\"colorbar\": {\"outlinewidth\": 0, \"ticks\": \"\"}, \"colorscale\": [[0.0, \"#0d0887\"], [0.1111111111111111, \"#46039f\"], [0.2222222222222222, \"#7201a8\"], [0.3333333333333333, \"#9c179e\"], [0.4444444444444444, \"#bd3786\"], [0.5555555555555556, \"#d8576b\"], [0.6666666666666666, \"#ed7953\"], [0.7777777777777778, \"#fb9f3a\"], [0.8888888888888888, \"#fdca26\"], [1.0, \"#f0f921\"]], \"type\": \"heatmapgl\"}], \"histogram\": [{\"marker\": {\"colorbar\": {\"outlinewidth\": 0, \"ticks\": \"\"}}, \"type\": \"histogram\"}], \"histogram2d\": [{\"colorbar\": {\"outlinewidth\": 0, \"ticks\": \"\"}, \"colorscale\": [[0.0, \"#0d0887\"], [0.1111111111111111, \"#46039f\"], [0.2222222222222222, \"#7201a8\"], [0.3333333333333333, \"#9c179e\"], [0.4444444444444444, \"#bd3786\"], [0.5555555555555556, \"#d8576b\"], [0.6666666666666666, \"#ed7953\"], [0.7777777777777778, \"#fb9f3a\"], [0.8888888888888888, \"#fdca26\"], [1.0, \"#f0f921\"]], \"type\": \"histogram2d\"}], \"histogram2dcontour\": [{\"colorbar\": {\"outlinewidth\": 0, \"ticks\": \"\"}, \"colorscale\": [[0.0, \"#0d0887\"], [0.1111111111111111, \"#46039f\"], [0.2222222222222222, \"#7201a8\"], [0.3333333333333333, \"#9c179e\"], [0.4444444444444444, \"#bd3786\"], [0.5555555555555556, \"#d8576b\"], [0.6666666666666666, \"#ed7953\"], [0.7777777777777778, \"#fb9f3a\"], [0.8888888888888888, \"#fdca26\"], [1.0, \"#f0f921\"]], \"type\": \"histogram2dcontour\"}], \"mesh3d\": [{\"colorbar\": {\"outlinewidth\": 0, \"ticks\": \"\"}, \"type\": \"mesh3d\"}], \"parcoords\": [{\"line\": {\"colorbar\": {\"outlinewidth\": 0, \"ticks\": \"\"}}, \"type\": \"parcoords\"}], \"pie\": [{\"automargin\": true, \"type\": \"pie\"}], \"scatter\": [{\"marker\": {\"colorbar\": {\"outlinewidth\": 0, \"ticks\": \"\"}}, \"type\": \"scatter\"}], \"scatter3d\": [{\"line\": {\"colorbar\": {\"outlinewidth\": 0, \"ticks\": \"\"}}, \"marker\": {\"colorbar\": {\"outlinewidth\": 0, \"ticks\": \"\"}}, \"type\": \"scatter3d\"}], \"scattercarpet\": [{\"marker\": {\"colorbar\": {\"outlinewidth\": 0, \"ticks\": \"\"}}, \"type\": \"scattercarpet\"}], \"scattergeo\": [{\"marker\": {\"colorbar\": {\"outlinewidth\": 0, \"ticks\": \"\"}}, \"type\": \"scattergeo\"}], \"scattergl\": [{\"marker\": {\"colorbar\": {\"outlinewidth\": 0, \"ticks\": \"\"}}, \"type\": \"scattergl\"}], \"scattermapbox\": [{\"marker\": {\"colorbar\": {\"outlinewidth\": 0, \"ticks\": \"\"}}, \"type\": \"scattermapbox\"}], \"scatterpolar\": [{\"marker\": {\"colorbar\": {\"outlinewidth\": 0, \"ticks\": \"\"}}, \"type\": \"scatterpolar\"}], \"scatterpolargl\": [{\"marker\": {\"colorbar\": {\"outlinewidth\": 0, \"ticks\": \"\"}}, \"type\": \"scatterpolargl\"}], \"scatterternary\": [{\"marker\": {\"colorbar\": {\"outlinewidth\": 0, \"ticks\": \"\"}}, \"type\": \"scatterternary\"}], \"surface\": [{\"colorbar\": {\"outlinewidth\": 0, \"ticks\": \"\"}, \"colorscale\": [[0.0, \"#0d0887\"], [0.1111111111111111, \"#46039f\"], [0.2222222222222222, \"#7201a8\"], [0.3333333333333333, \"#9c179e\"], [0.4444444444444444, \"#bd3786\"], [0.5555555555555556, \"#d8576b\"], [0.6666666666666666, \"#ed7953\"], [0.7777777777777778, \"#fb9f3a\"], [0.8888888888888888, \"#fdca26\"], [1.0, \"#f0f921\"]], \"type\": \"surface\"}], \"table\": [{\"cells\": {\"fill\": {\"color\": \"#EBF0F8\"}, \"line\": {\"color\": \"white\"}}, \"header\": {\"fill\": {\"color\": \"#C8D4E3\"}, \"line\": {\"color\": \"white\"}}, \"type\": \"table\"}]}, \"layout\": {\"annotationdefaults\": {\"arrowcolor\": \"#2a3f5f\", \"arrowhead\": 0, \"arrowwidth\": 1}, \"coloraxis\": {\"colorbar\": {\"outlinewidth\": 0, \"ticks\": \"\"}}, \"colorscale\": {\"diverging\": [[0, \"#8e0152\"], [0.1, \"#c51b7d\"], [0.2, \"#de77ae\"], [0.3, \"#f1b6da\"], [0.4, \"#fde0ef\"], [0.5, \"#f7f7f7\"], [0.6, \"#e6f5d0\"], [0.7, \"#b8e186\"], [0.8, \"#7fbc41\"], [0.9, \"#4d9221\"], [1, \"#276419\"]], \"sequential\": [[0.0, \"#0d0887\"], [0.1111111111111111, \"#46039f\"], [0.2222222222222222, \"#7201a8\"], [0.3333333333333333, \"#9c179e\"], [0.4444444444444444, \"#bd3786\"], [0.5555555555555556, \"#d8576b\"], [0.6666666666666666, \"#ed7953\"], [0.7777777777777778, \"#fb9f3a\"], [0.8888888888888888, \"#fdca26\"], [1.0, \"#f0f921\"]], \"sequentialminus\": [[0.0, \"#0d0887\"], [0.1111111111111111, \"#46039f\"], [0.2222222222222222, \"#7201a8\"], [0.3333333333333333, \"#9c179e\"], [0.4444444444444444, \"#bd3786\"], [0.5555555555555556, \"#d8576b\"], [0.6666666666666666, \"#ed7953\"], [0.7777777777777778, \"#fb9f3a\"], [0.8888888888888888, \"#fdca26\"], [1.0, \"#f0f921\"]]}, \"colorway\": [\"#636efa\", \"#EF553B\", \"#00cc96\", \"#ab63fa\", \"#FFA15A\", \"#19d3f3\", \"#FF6692\", \"#B6E880\", \"#FF97FF\", \"#FECB52\"], \"font\": {\"color\": \"#2a3f5f\"}, \"geo\": {\"bgcolor\": \"white\", \"lakecolor\": \"white\", \"landcolor\": \"#E5ECF6\", \"showlakes\": true, \"showland\": true, \"subunitcolor\": \"white\"}, \"hoverlabel\": {\"align\": \"left\"}, \"hovermode\": \"closest\", \"mapbox\": {\"style\": \"light\"}, \"paper_bgcolor\": \"white\", \"plot_bgcolor\": \"#E5ECF6\", \"polar\": {\"angularaxis\": {\"gridcolor\": \"white\", \"linecolor\": \"white\", \"ticks\": \"\"}, \"bgcolor\": \"#E5ECF6\", \"radialaxis\": {\"gridcolor\": \"white\", \"linecolor\": \"white\", \"ticks\": \"\"}}, \"scene\": {\"xaxis\": {\"backgroundcolor\": \"#E5ECF6\", \"gridcolor\": \"white\", \"gridwidth\": 2, \"linecolor\": \"white\", \"showbackground\": true, \"ticks\": \"\", \"zerolinecolor\": \"white\"}, \"yaxis\": {\"backgroundcolor\": \"#E5ECF6\", \"gridcolor\": \"white\", \"gridwidth\": 2, \"linecolor\": \"white\", \"showbackground\": true, \"ticks\": \"\", \"zerolinecolor\": \"white\"}, \"zaxis\": {\"backgroundcolor\": \"#E5ECF6\", \"gridcolor\": \"white\", \"gridwidth\": 2, \"linecolor\": \"white\", \"showbackground\": true, \"ticks\": \"\", \"zerolinecolor\": \"white\"}}, \"shapedefaults\": {\"line\": {\"color\": \"#2a3f5f\"}}, \"ternary\": {\"aaxis\": {\"gridcolor\": \"white\", \"linecolor\": \"white\", \"ticks\": \"\"}, \"baxis\": {\"gridcolor\": \"white\", \"linecolor\": \"white\", \"ticks\": \"\"}, \"bgcolor\": \"#E5ECF6\", \"caxis\": {\"gridcolor\": \"white\", \"linecolor\": \"white\", \"ticks\": \"\"}}, \"title\": {\"x\": 0.05}, \"xaxis\": {\"automargin\": true, \"gridcolor\": \"white\", \"linecolor\": \"white\", \"ticks\": \"\", \"title\": {\"standoff\": 15}, \"zerolinecolor\": \"white\", \"zerolinewidth\": 2}, \"yaxis\": {\"automargin\": true, \"gridcolor\": \"white\", \"linecolor\": \"white\", \"ticks\": \"\", \"title\": {\"standoff\": 15}, \"zerolinecolor\": \"white\", \"zerolinewidth\": 2}}}},\n",
       "                        {\"responsive\": true}\n",
       "                    ).then(function(){\n",
       "                            \n",
       "var gd = document.getElementById('7f83f6ff-9c7d-44f1-afd7-2665b54a7612');\n",
       "var x = new MutationObserver(function (mutations, observer) {{\n",
       "        var display = window.getComputedStyle(gd).display;\n",
       "        if (!display || display === 'none') {{\n",
       "            console.log([gd, 'removed!']);\n",
       "            Plotly.purge(gd);\n",
       "            observer.disconnect();\n",
       "        }}\n",
       "}});\n",
       "\n",
       "// Listen for the removal of the full notebook cells\n",
       "var notebookContainer = gd.closest('#notebook-container');\n",
       "if (notebookContainer) {{\n",
       "    x.observe(notebookContainer, {childList: true});\n",
       "}}\n",
       "\n",
       "// Listen for the clearing of the current output cell\n",
       "var outputEl = gd.closest('.output');\n",
       "if (outputEl) {{\n",
       "    x.observe(outputEl, {childList: true});\n",
       "}}\n",
       "\n",
       "                        })\n",
       "                };\n",
       "                });\n",
       "            </script>\n",
       "        </div>"
      ]
     },
     "metadata": {},
     "output_type": "display_data"
    }
   ],
   "source": [
    "fig = go.Figure(data=\n",
    "    go.Parcoords(\n",
    "        line = dict(color = metrics_adult_fair['dominated'], \n",
    "                        colorscale = ['rgba(0.0,0.0,255,0.0)', 'rgba(0.0,0.0,255,0.5)']),\n",
    "        dimensions = list([\n",
    "            dict(range = [0,1],\n",
    "                label = 'Acurácia', values = metrics_adult_fair['Acurácia']),\n",
    "            dict(range = [0,1],\n",
    "                label = 'Igualdade de Oportunidade', values = metrics_adult_fair['Igualdade de Oportunidade']),\n",
    "            dict(range = [0,1],\n",
    "                label = 'P porcento', values = metrics_adult_fair['P porcento']),\n",
    "            dict(range = [1.2,1.5],\n",
    "                label = 'cv_aux', values = metrics_adult_fair['cv_aux']),\n",
    "        ])\n",
    "    )\n",
    ")\n",
    "\n",
    "fig.update_layout(\n",
    "    plot_bgcolor = 'white',\n",
    "    paper_bgcolor = 'white'\n",
    ")\n",
    "\n",
    "fig.show()"
   ]
  },
  {
   "cell_type": "markdown",
   "metadata": {},
   "source": [
    "### Equal Moo"
   ]
  },
  {
   "cell_type": "code",
   "execution_count": 49,
   "metadata": {},
   "outputs": [],
   "source": [
    "metrics_adult_equal_aux = {\"Acurácia\": [], \"Igualdade de Oportunidade\": [], \"P porcento\": [], \"Coeficiente de variação\": []}"
   ]
  },
  {
   "cell_type": "code",
   "execution_count": 50,
   "metadata": {},
   "outputs": [
    {
     "name": "stderr",
     "output_type": "stream",
     "text": [
      "2020-11-12 17:31:41,879 - moopt.monise - DEBUG: Finding 1th individual minima\n",
      "2020-11-12 17:31:42,634 - moopt.monise - DEBUG: Finding 2th individual minima\n",
      "2020-11-12 17:31:42,815 - moopt.monise - DEBUG: Finding 3th individual minima\n",
      "2020-11-12 17:31:42,996 - moopt.monise - DEBUG: Finding 4th individual minima\n",
      "2020-11-12 17:31:43,864 - moopt.monise - DEBUG: 5th solution - importance: 1.0\n",
      "2020-11-12 17:31:43,989 - moopt.monise - DEBUG: 6th solution - importance: 1.0000009437597428\n",
      "2020-11-12 17:31:44,115 - moopt.monise - DEBUG: 7th solution - importance: 1.0000009437597428\n",
      "2020-11-12 17:31:44,242 - moopt.monise - DEBUG: 8th solution - importance: 1.0000009437597428\n",
      "2020-11-12 17:31:44,369 - moopt.monise - DEBUG: 9th solution - importance: 1.0000009437597428\n",
      "2020-11-12 17:31:44,497 - moopt.monise - DEBUG: 10th solution - importance: 1.0000009437597428\n",
      "2020-11-12 17:31:44,625 - moopt.monise - DEBUG: 11th solution - importance: 1.0000009437597428\n",
      "2020-11-12 17:31:44,753 - moopt.monise - DEBUG: 12th solution - importance: 1.0000009437597428\n",
      "2020-11-12 17:31:44,881 - moopt.monise - DEBUG: 13th solution - importance: 1.0000009437597428\n",
      "2020-11-12 17:31:45,009 - moopt.monise - DEBUG: 14th solution - importance: 1.0000009437597428\n",
      "2020-11-12 17:31:45,138 - moopt.monise - DEBUG: 15th solution - importance: 1.0000009437597428\n",
      "2020-11-12 17:31:45,268 - moopt.monise - DEBUG: 16th solution - importance: 1.0000009437597428\n",
      "2020-11-12 17:31:45,397 - moopt.monise - DEBUG: 17th solution - importance: 1.0000009437597428\n",
      "2020-11-12 17:31:45,527 - moopt.monise - DEBUG: 18th solution - importance: 1.0000009437597428\n",
      "2020-11-12 17:31:45,657 - moopt.monise - DEBUG: 19th solution - importance: 1.0000009437597428\n",
      "2020-11-12 17:31:45,788 - moopt.monise - DEBUG: 20th solution - importance: 1.0000009437597428\n",
      "2020-11-12 17:31:45,918 - moopt.monise - DEBUG: 21th solution - importance: 1.0000009437597428\n",
      "2020-11-12 17:31:46,050 - moopt.monise - DEBUG: 22th solution - importance: 1.0000009437597428\n",
      "2020-11-12 17:31:46,182 - moopt.monise - DEBUG: 23th solution - importance: 1.0000009437597428\n",
      "2020-11-12 17:31:46,314 - moopt.monise - DEBUG: 24th solution - importance: 1.0000009437597428\n",
      "2020-11-12 17:31:46,445 - moopt.monise - DEBUG: 25th solution - importance: 1.0000009437597428\n",
      "2020-11-12 17:31:46,579 - moopt.monise - DEBUG: 26th solution - importance: 1.0000009437597428\n",
      "2020-11-12 17:31:46,712 - moopt.monise - DEBUG: 27th solution - importance: 1.0000009437597428\n",
      "2020-11-12 17:31:46,846 - moopt.monise - DEBUG: 28th solution - importance: 1.0000009437597428\n",
      "2020-11-12 17:31:46,979 - moopt.monise - DEBUG: 29th solution - importance: 1.0000009437597428\n",
      "2020-11-12 17:31:47,114 - moopt.monise - DEBUG: 30th solution - importance: 1.0000009437597428\n",
      "2020-11-12 17:31:47,249 - moopt.monise - DEBUG: 31th solution - importance: 1.0000009437597428\n",
      "2020-11-12 17:31:47,383 - moopt.monise - DEBUG: 32th solution - importance: 1.0000009437597428\n",
      "2020-11-12 17:31:47,517 - moopt.monise - DEBUG: 33th solution - importance: 1.0000009437597428\n",
      "2020-11-12 17:31:47,653 - moopt.monise - DEBUG: 34th solution - importance: 1.0000009437597428\n",
      "2020-11-12 17:31:47,788 - moopt.monise - DEBUG: 35th solution - importance: 1.0000009437597428\n",
      "2020-11-12 17:31:47,926 - moopt.monise - DEBUG: 36th solution - importance: 1.0000009437597428\n",
      "2020-11-12 17:31:48,063 - moopt.monise - DEBUG: 37th solution - importance: 1.0000009437597428\n",
      "2020-11-12 17:31:48,204 - moopt.monise - DEBUG: 38th solution - importance: 1.0000009437597428\n",
      "2020-11-12 17:31:48,340 - moopt.monise - DEBUG: 39th solution - importance: 1.0000009437597428\n",
      "2020-11-12 17:31:48,479 - moopt.monise - DEBUG: 40th solution - importance: 1.0000009437597428\n",
      "2020-11-12 17:31:48,617 - moopt.monise - DEBUG: 41th solution - importance: 1.0000009437597428\n",
      "2020-11-12 17:31:48,757 - moopt.monise - DEBUG: 42th solution - importance: 1.0000009437597428\n",
      "2020-11-12 17:31:48,896 - moopt.monise - DEBUG: 43th solution - importance: 1.0000009437597428\n",
      "2020-11-12 17:31:49,035 - moopt.monise - DEBUG: 44th solution - importance: 1.0000009437597428\n",
      "2020-11-12 17:31:49,175 - moopt.monise - DEBUG: 45th solution - importance: 1.0000009437597428\n",
      "2020-11-12 17:31:49,315 - moopt.monise - DEBUG: 46th solution - importance: 1.0000009437597428\n",
      "2020-11-12 17:31:49,456 - moopt.monise - DEBUG: 47th solution - importance: 1.0000009437597428\n",
      "2020-11-12 17:31:49,596 - moopt.monise - DEBUG: 48th solution - importance: 1.0000009437597428\n",
      "2020-11-12 17:31:49,736 - moopt.monise - DEBUG: 49th solution - importance: 1.0000009437597428\n",
      "2020-11-12 17:31:49,878 - moopt.monise - DEBUG: 50th solution - importance: 1.0000009437597428\n",
      "2020-11-12 17:31:50,019 - moopt.monise - DEBUG: 51th solution - importance: 1.0000009437597428\n",
      "2020-11-12 17:31:50,161 - moopt.monise - DEBUG: 52th solution - importance: 1.0000009437597428\n",
      "2020-11-12 17:31:50,305 - moopt.monise - DEBUG: 53th solution - importance: 1.0000009437597428\n",
      "2020-11-12 17:31:50,448 - moopt.monise - DEBUG: 54th solution - importance: 1.0000009437597428\n",
      "2020-11-12 17:31:50,590 - moopt.monise - DEBUG: 55th solution - importance: 1.0000009437597428\n",
      "2020-11-12 17:31:50,733 - moopt.monise - DEBUG: 56th solution - importance: 1.0000009437597428\n",
      "2020-11-12 17:31:50,875 - moopt.monise - DEBUG: 57th solution - importance: 1.0000009437597428\n",
      "2020-11-12 17:31:51,020 - moopt.monise - DEBUG: 58th solution - importance: 1.0000009437597428\n",
      "2020-11-12 17:31:51,165 - moopt.monise - DEBUG: 59th solution - importance: 1.0000009437597428\n",
      "2020-11-12 17:31:51,311 - moopt.monise - DEBUG: 60th solution - importance: 1.0000009437597428\n",
      "2020-11-12 17:31:51,456 - moopt.monise - DEBUG: 61th solution - importance: 1.0000009437597428\n",
      "2020-11-12 17:31:51,602 - moopt.monise - DEBUG: 62th solution - importance: 1.0000009437597428\n",
      "2020-11-12 17:31:51,747 - moopt.monise - DEBUG: 63th solution - importance: 1.0000009437597428\n",
      "2020-11-12 17:31:51,894 - moopt.monise - DEBUG: 64th solution - importance: 1.0000009437597428\n",
      "2020-11-12 17:31:52,041 - moopt.monise - DEBUG: 65th solution - importance: 1.0000009437597428\n",
      "2020-11-12 17:31:52,187 - moopt.monise - DEBUG: 66th solution - importance: 1.0000009437597428\n",
      "2020-11-12 17:31:52,334 - moopt.monise - DEBUG: 67th solution - importance: 1.0000009437597428\n",
      "2020-11-12 17:31:52,481 - moopt.monise - DEBUG: 68th solution - importance: 1.0000009437597428\n",
      "2020-11-12 17:31:52,629 - moopt.monise - DEBUG: 69th solution - importance: 1.0000009437597428\n",
      "2020-11-12 17:31:52,778 - moopt.monise - DEBUG: 70th solution - importance: 1.0000009437597428\n",
      "2020-11-12 17:31:52,928 - moopt.monise - DEBUG: 71th solution - importance: 1.0000009437597428\n",
      "2020-11-12 17:31:53,077 - moopt.monise - DEBUG: 72th solution - importance: 1.0000009437597428\n",
      "2020-11-12 17:31:53,226 - moopt.monise - DEBUG: 73th solution - importance: 1.0000009437597428\n",
      "2020-11-12 17:31:53,374 - moopt.monise - DEBUG: 74th solution - importance: 1.0000009437597428\n",
      "2020-11-12 17:31:53,525 - moopt.monise - DEBUG: 75th solution - importance: 1.0000009437597428\n",
      "2020-11-12 17:31:53,676 - moopt.monise - DEBUG: 76th solution - importance: 1.0000009437597428\n",
      "2020-11-12 17:31:53,827 - moopt.monise - DEBUG: 77th solution - importance: 1.0000009437597428\n",
      "2020-11-12 17:31:53,978 - moopt.monise - DEBUG: 78th solution - importance: 1.0000009437597428\n",
      "2020-11-12 17:31:54,128 - moopt.monise - DEBUG: 79th solution - importance: 1.0000009437597428\n",
      "2020-11-12 17:31:54,281 - moopt.monise - DEBUG: 80th solution - importance: 1.0000009437597428\n",
      "2020-11-12 17:31:54,433 - moopt.monise - DEBUG: 81th solution - importance: 1.0000009437597428\n",
      "2020-11-12 17:31:54,586 - moopt.monise - DEBUG: 82th solution - importance: 1.0000009437597428\n",
      "2020-11-12 17:31:54,738 - moopt.monise - DEBUG: 83th solution - importance: 1.0000009437597428\n",
      "2020-11-12 17:31:54,891 - moopt.monise - DEBUG: 84th solution - importance: 1.0000009437597428\n",
      "2020-11-12 17:31:55,045 - moopt.monise - DEBUG: 85th solution - importance: 1.0000009437597428\n",
      "2020-11-12 17:31:55,197 - moopt.monise - DEBUG: 86th solution - importance: 1.0000009437597428\n",
      "2020-11-12 17:31:55,352 - moopt.monise - DEBUG: 87th solution - importance: 1.0000009437597428\n",
      "2020-11-12 17:31:55,505 - moopt.monise - DEBUG: 88th solution - importance: 1.0000009437597428\n"
     ]
    },
    {
     "name": "stderr",
     "output_type": "stream",
     "text": [
      "2020-11-12 17:31:55,660 - moopt.monise - DEBUG: 89th solution - importance: 1.0000009437597428\n",
      "2020-11-12 17:31:55,814 - moopt.monise - DEBUG: 90th solution - importance: 1.0000009437597428\n",
      "2020-11-12 17:31:55,971 - moopt.monise - DEBUG: 91th solution - importance: 1.0000009437597428\n",
      "2020-11-12 17:31:56,127 - moopt.monise - DEBUG: 92th solution - importance: 1.0000009437597428\n",
      "2020-11-12 17:31:56,284 - moopt.monise - DEBUG: 93th solution - importance: 1.0000009437597428\n",
      "2020-11-12 17:31:56,441 - moopt.monise - DEBUG: 94th solution - importance: 1.0000009437597428\n",
      "2020-11-12 17:31:56,598 - moopt.monise - DEBUG: 95th solution - importance: 1.0000009437597428\n",
      "2020-11-12 17:31:56,756 - moopt.monise - DEBUG: 96th solution - importance: 1.0000009437597428\n",
      "2020-11-12 17:31:56,914 - moopt.monise - DEBUG: 97th solution - importance: 1.0000009437597428\n",
      "2020-11-12 17:31:57,072 - moopt.monise - DEBUG: 98th solution - importance: 1.0000009437597428\n",
      "2020-11-12 17:31:57,231 - moopt.monise - DEBUG: 99th solution - importance: 1.0000009437597428\n",
      "2020-11-12 17:31:57,391 - moopt.monise - DEBUG: 100th solution - importance: 1.0000009437597428\n",
      "2020-11-12 17:31:57,551 - moopt.monise - DEBUG: 101th solution - importance: 1.0000009437597428\n",
      "2020-11-12 17:31:57,713 - moopt.monise - DEBUG: 102th solution - importance: 1.0000009437597428\n",
      "2020-11-12 17:31:57,873 - moopt.monise - DEBUG: 103th solution - importance: 1.0000009437597428\n",
      "2020-11-12 17:31:58,034 - moopt.monise - DEBUG: 104th solution - importance: 1.0000009437597428\n",
      "2020-11-12 17:31:58,196 - moopt.monise - DEBUG: 105th solution - importance: 1.0000009437597428\n",
      "2020-11-12 17:31:58,355 - moopt.monise - DEBUG: 106th solution - importance: 1.0000009437597428\n",
      "2020-11-12 17:31:58,515 - moopt.monise - DEBUG: 107th solution - importance: 1.0000009437597428\n",
      "2020-11-12 17:31:58,677 - moopt.monise - DEBUG: 108th solution - importance: 1.0000009437597428\n",
      "2020-11-12 17:31:58,838 - moopt.monise - DEBUG: 109th solution - importance: 1.0000009437597428\n",
      "2020-11-12 17:31:58,998 - moopt.monise - DEBUG: 110th solution - importance: 1.0000009437597428\n",
      "2020-11-12 17:31:59,159 - moopt.monise - DEBUG: 111th solution - importance: 1.0000009437597428\n",
      "2020-11-12 17:31:59,323 - moopt.monise - DEBUG: 112th solution - importance: 1.0000009437597428\n",
      "2020-11-12 17:31:59,485 - moopt.monise - DEBUG: 113th solution - importance: 1.0000009437597428\n",
      "2020-11-12 17:31:59,646 - moopt.monise - DEBUG: 114th solution - importance: 1.0000009437597428\n",
      "2020-11-12 17:31:59,812 - moopt.monise - DEBUG: 115th solution - importance: 1.0000009437597428\n",
      "2020-11-12 17:31:59,977 - moopt.monise - DEBUG: 116th solution - importance: 1.0000009437597428\n",
      "2020-11-12 17:32:00,142 - moopt.monise - DEBUG: 117th solution - importance: 1.0000009437597428\n",
      "2020-11-12 17:32:00,307 - moopt.monise - DEBUG: 118th solution - importance: 1.0000009437597428\n",
      "2020-11-12 17:32:00,473 - moopt.monise - DEBUG: 119th solution - importance: 1.0000009437597428\n",
      "2020-11-12 17:32:00,636 - moopt.monise - DEBUG: 120th solution - importance: 1.0000009437597428\n",
      "2020-11-12 17:32:00,801 - moopt.monise - DEBUG: 121th solution - importance: 1.0000009437597428\n",
      "2020-11-12 17:32:00,968 - moopt.monise - DEBUG: 122th solution - importance: 1.0000009437597428\n",
      "2020-11-12 17:32:01,134 - moopt.monise - DEBUG: 123th solution - importance: 1.0000009437597428\n",
      "2020-11-12 17:32:01,299 - moopt.monise - DEBUG: 124th solution - importance: 1.0000009437597428\n",
      "2020-11-12 17:32:01,466 - moopt.monise - DEBUG: 125th solution - importance: 1.0000009437597428\n",
      "2020-11-12 17:32:01,629 - moopt.monise - DEBUG: 126th solution - importance: 1.0000009437597428\n",
      "2020-11-12 17:32:01,800 - moopt.monise - DEBUG: 127th solution - importance: 1.0000009437597428\n",
      "2020-11-12 17:32:01,966 - moopt.monise - DEBUG: 128th solution - importance: 1.0000009437597428\n",
      "2020-11-12 17:32:02,133 - moopt.monise - DEBUG: 129th solution - importance: 1.0000009437597428\n",
      "2020-11-12 17:32:02,302 - moopt.monise - DEBUG: 130th solution - importance: 1.0000009437597428\n",
      "2020-11-12 17:32:02,471 - moopt.monise - DEBUG: 131th solution - importance: 1.0000009437597428\n",
      "2020-11-12 17:32:02,638 - moopt.monise - DEBUG: 132th solution - importance: 1.0000009437597428\n",
      "2020-11-12 17:32:02,808 - moopt.monise - DEBUG: 133th solution - importance: 1.0000009437597428\n",
      "2020-11-12 17:32:02,979 - moopt.monise - DEBUG: 134th solution - importance: 1.0000009437597428\n",
      "2020-11-12 17:32:03,147 - moopt.monise - DEBUG: 135th solution - importance: 1.0000009437597428\n",
      "2020-11-12 17:32:03,318 - moopt.monise - DEBUG: 136th solution - importance: 1.0000009437597428\n",
      "2020-11-12 17:32:03,489 - moopt.monise - DEBUG: 137th solution - importance: 1.0000009437597428\n",
      "2020-11-12 17:32:03,660 - moopt.monise - DEBUG: 138th solution - importance: 1.0000009437597428\n",
      "2020-11-12 17:32:03,832 - moopt.monise - DEBUG: 139th solution - importance: 1.0000009437597428\n",
      "2020-11-12 17:32:04,005 - moopt.monise - DEBUG: 140th solution - importance: 1.0000009437597428\n",
      "2020-11-12 17:32:04,174 - moopt.monise - DEBUG: 141th solution - importance: 1.0000009437597428\n",
      "2020-11-12 17:32:04,348 - moopt.monise - DEBUG: 142th solution - importance: 1.0000009437597428\n",
      "2020-11-12 17:32:04,518 - moopt.monise - DEBUG: 143th solution - importance: 1.0000009437597428\n",
      "2020-11-12 17:32:04,688 - moopt.monise - DEBUG: 144th solution - importance: 1.0000009437597428\n",
      "2020-11-12 17:32:04,863 - moopt.monise - DEBUG: 145th solution - importance: 1.0000009437597428\n",
      "2020-11-12 17:32:05,037 - moopt.monise - DEBUG: 146th solution - importance: 1.0000009437597428\n",
      "2020-11-12 17:32:05,212 - moopt.monise - DEBUG: 147th solution - importance: 1.0000009437597428\n",
      "2020-11-12 17:32:05,387 - moopt.monise - DEBUG: 148th solution - importance: 1.0000009437597428\n",
      "2020-11-12 17:32:05,560 - moopt.monise - DEBUG: 149th solution - importance: 1.0000009437597428\n",
      "2020-11-12 17:32:05,735 - moopt.monise - DEBUG: 150th solution - importance: 1.0000009437597428\n",
      "/home/marcos/Documents/Experiments/envs/crime/lib/python3.7/site-packages/sklego/metrics.py:155: RuntimeWarning:\n",
      "\n",
      "invalid value encountered in double_scalars\n",
      "\n",
      "/home/marcos/Documents/Experiments/envs/crime/lib/python3.7/site-packages/sklego/metrics.py:79: RuntimeWarning:\n",
      "\n",
      "No samples with y_hat == 1 for race == 1, returning 0\n",
      "\n",
      "/home/marcos/Documents/Experiments/envs/crime/lib/python3.7/site-packages/sklego/metrics.py:155: RuntimeWarning:\n",
      "\n",
      "invalid value encountered in double_scalars\n",
      "\n",
      "/home/marcos/Documents/Experiments/envs/crime/lib/python3.7/site-packages/sklego/metrics.py:79: RuntimeWarning:\n",
      "\n",
      "No samples with y_hat == 1 for race == 1, returning 0\n",
      "\n",
      "/home/marcos/Documents/Experiments/envs/crime/lib/python3.7/site-packages/sklego/metrics.py:155: RuntimeWarning:\n",
      "\n",
      "invalid value encountered in double_scalars\n",
      "\n",
      "/home/marcos/Documents/Experiments/envs/crime/lib/python3.7/site-packages/sklego/metrics.py:79: RuntimeWarning:\n",
      "\n",
      "No samples with y_hat == 1 for race == 1, returning 0\n",
      "\n",
      "/home/marcos/Documents/Experiments/envs/crime/lib/python3.7/site-packages/sklego/metrics.py:155: RuntimeWarning:\n",
      "\n",
      "invalid value encountered in double_scalars\n",
      "\n",
      "/home/marcos/Documents/Experiments/envs/crime/lib/python3.7/site-packages/sklego/metrics.py:79: RuntimeWarning:\n",
      "\n",
      "No samples with y_hat == 1 for race == 1, returning 0\n",
      "\n",
      "/home/marcos/Documents/Experiments/envs/crime/lib/python3.7/site-packages/sklego/metrics.py:155: RuntimeWarning:\n",
      "\n",
      "invalid value encountered in double_scalars\n",
      "\n",
      "/home/marcos/Documents/Experiments/envs/crime/lib/python3.7/site-packages/sklego/metrics.py:79: RuntimeWarning:\n",
      "\n",
      "No samples with y_hat == 1 for race == 1, returning 0\n",
      "\n",
      "/home/marcos/Documents/Experiments/envs/crime/lib/python3.7/site-packages/sklego/metrics.py:155: RuntimeWarning:\n",
      "\n",
      "invalid value encountered in double_scalars\n",
      "\n",
      "/home/marcos/Documents/Experiments/envs/crime/lib/python3.7/site-packages/sklego/metrics.py:79: RuntimeWarning:\n",
      "\n",
      "No samples with y_hat == 1 for race == 1, returning 0\n",
      "\n",
      "/home/marcos/Documents/Experiments/envs/crime/lib/python3.7/site-packages/sklego/metrics.py:155: RuntimeWarning:\n",
      "\n",
      "invalid value encountered in double_scalars\n",
      "\n",
      "/home/marcos/Documents/Experiments/envs/crime/lib/python3.7/site-packages/sklego/metrics.py:79: RuntimeWarning:\n",
      "\n",
      "No samples with y_hat == 1 for race == 1, returning 0\n",
      "\n"
     ]
    },
    {
     "name": "stderr",
     "output_type": "stream",
     "text": [
      "/home/marcos/Documents/Experiments/envs/crime/lib/python3.7/site-packages/sklego/metrics.py:155: RuntimeWarning:\n",
      "\n",
      "invalid value encountered in double_scalars\n",
      "\n",
      "/home/marcos/Documents/Experiments/envs/crime/lib/python3.7/site-packages/sklego/metrics.py:79: RuntimeWarning:\n",
      "\n",
      "No samples with y_hat == 1 for race == 1, returning 0\n",
      "\n",
      "/home/marcos/Documents/Experiments/envs/crime/lib/python3.7/site-packages/sklego/metrics.py:155: RuntimeWarning:\n",
      "\n",
      "invalid value encountered in double_scalars\n",
      "\n",
      "/home/marcos/Documents/Experiments/envs/crime/lib/python3.7/site-packages/sklego/metrics.py:79: RuntimeWarning:\n",
      "\n",
      "No samples with y_hat == 1 for race == 1, returning 0\n",
      "\n",
      "/home/marcos/Documents/Experiments/envs/crime/lib/python3.7/site-packages/sklego/metrics.py:155: RuntimeWarning:\n",
      "\n",
      "invalid value encountered in double_scalars\n",
      "\n",
      "/home/marcos/Documents/Experiments/envs/crime/lib/python3.7/site-packages/sklego/metrics.py:79: RuntimeWarning:\n",
      "\n",
      "No samples with y_hat == 1 for race == 1, returning 0\n",
      "\n",
      "/home/marcos/Documents/Experiments/envs/crime/lib/python3.7/site-packages/sklego/metrics.py:155: RuntimeWarning:\n",
      "\n",
      "invalid value encountered in double_scalars\n",
      "\n",
      "/home/marcos/Documents/Experiments/envs/crime/lib/python3.7/site-packages/sklego/metrics.py:79: RuntimeWarning:\n",
      "\n",
      "No samples with y_hat == 1 for race == 1, returning 0\n",
      "\n",
      "/home/marcos/Documents/Experiments/envs/crime/lib/python3.7/site-packages/sklego/metrics.py:155: RuntimeWarning:\n",
      "\n",
      "invalid value encountered in double_scalars\n",
      "\n",
      "/home/marcos/Documents/Experiments/envs/crime/lib/python3.7/site-packages/sklego/metrics.py:79: RuntimeWarning:\n",
      "\n",
      "No samples with y_hat == 1 for race == 1, returning 0\n",
      "\n",
      "/home/marcos/Documents/Experiments/envs/crime/lib/python3.7/site-packages/sklego/metrics.py:155: RuntimeWarning:\n",
      "\n",
      "invalid value encountered in double_scalars\n",
      "\n",
      "/home/marcos/Documents/Experiments/envs/crime/lib/python3.7/site-packages/sklego/metrics.py:79: RuntimeWarning:\n",
      "\n",
      "No samples with y_hat == 1 for race == 1, returning 0\n",
      "\n",
      "/home/marcos/Documents/Experiments/envs/crime/lib/python3.7/site-packages/sklego/metrics.py:155: RuntimeWarning:\n",
      "\n",
      "invalid value encountered in double_scalars\n",
      "\n",
      "/home/marcos/Documents/Experiments/envs/crime/lib/python3.7/site-packages/sklego/metrics.py:79: RuntimeWarning:\n",
      "\n",
      "No samples with y_hat == 1 for race == 1, returning 0\n",
      "\n",
      "/home/marcos/Documents/Experiments/envs/crime/lib/python3.7/site-packages/sklego/metrics.py:155: RuntimeWarning:\n",
      "\n",
      "invalid value encountered in double_scalars\n",
      "\n",
      "/home/marcos/Documents/Experiments/envs/crime/lib/python3.7/site-packages/sklego/metrics.py:79: RuntimeWarning:\n",
      "\n",
      "No samples with y_hat == 1 for race == 1, returning 0\n",
      "\n",
      "/home/marcos/Documents/Experiments/envs/crime/lib/python3.7/site-packages/sklego/metrics.py:155: RuntimeWarning:\n",
      "\n",
      "invalid value encountered in double_scalars\n",
      "\n",
      "/home/marcos/Documents/Experiments/envs/crime/lib/python3.7/site-packages/sklego/metrics.py:79: RuntimeWarning:\n",
      "\n",
      "No samples with y_hat == 1 for race == 1, returning 0\n",
      "\n",
      "/home/marcos/Documents/Experiments/envs/crime/lib/python3.7/site-packages/sklego/metrics.py:155: RuntimeWarning:\n",
      "\n",
      "invalid value encountered in double_scalars\n",
      "\n",
      "/home/marcos/Documents/Experiments/envs/crime/lib/python3.7/site-packages/sklego/metrics.py:79: RuntimeWarning:\n",
      "\n",
      "No samples with y_hat == 1 for race == 1, returning 0\n",
      "\n",
      "/home/marcos/Documents/Experiments/envs/crime/lib/python3.7/site-packages/sklego/metrics.py:155: RuntimeWarning:\n",
      "\n",
      "invalid value encountered in double_scalars\n",
      "\n",
      "/home/marcos/Documents/Experiments/envs/crime/lib/python3.7/site-packages/sklego/metrics.py:79: RuntimeWarning:\n",
      "\n",
      "No samples with y_hat == 1 for race == 1, returning 0\n",
      "\n",
      "/home/marcos/Documents/Experiments/envs/crime/lib/python3.7/site-packages/sklego/metrics.py:155: RuntimeWarning:\n",
      "\n",
      "invalid value encountered in double_scalars\n",
      "\n",
      "/home/marcos/Documents/Experiments/envs/crime/lib/python3.7/site-packages/sklego/metrics.py:79: RuntimeWarning:\n",
      "\n",
      "No samples with y_hat == 1 for race == 1, returning 0\n",
      "\n",
      "/home/marcos/Documents/Experiments/envs/crime/lib/python3.7/site-packages/sklego/metrics.py:155: RuntimeWarning:\n",
      "\n",
      "invalid value encountered in double_scalars\n",
      "\n",
      "/home/marcos/Documents/Experiments/envs/crime/lib/python3.7/site-packages/sklego/metrics.py:79: RuntimeWarning:\n",
      "\n",
      "No samples with y_hat == 1 for race == 1, returning 0\n",
      "\n",
      "/home/marcos/Documents/Experiments/envs/crime/lib/python3.7/site-packages/sklego/metrics.py:155: RuntimeWarning:\n",
      "\n",
      "invalid value encountered in double_scalars\n",
      "\n",
      "/home/marcos/Documents/Experiments/envs/crime/lib/python3.7/site-packages/sklego/metrics.py:79: RuntimeWarning:\n",
      "\n",
      "No samples with y_hat == 1 for race == 1, returning 0\n",
      "\n",
      "/home/marcos/Documents/Experiments/envs/crime/lib/python3.7/site-packages/sklego/metrics.py:155: RuntimeWarning:\n",
      "\n",
      "invalid value encountered in double_scalars\n",
      "\n",
      "/home/marcos/Documents/Experiments/envs/crime/lib/python3.7/site-packages/sklego/metrics.py:79: RuntimeWarning:\n",
      "\n",
      "No samples with y_hat == 1 for race == 1, returning 0\n",
      "\n",
      "/home/marcos/Documents/Experiments/envs/crime/lib/python3.7/site-packages/sklego/metrics.py:155: RuntimeWarning:\n",
      "\n",
      "invalid value encountered in double_scalars\n",
      "\n",
      "/home/marcos/Documents/Experiments/envs/crime/lib/python3.7/site-packages/sklego/metrics.py:79: RuntimeWarning:\n",
      "\n",
      "No samples with y_hat == 1 for race == 1, returning 0\n",
      "\n",
      "/home/marcos/Documents/Experiments/envs/crime/lib/python3.7/site-packages/sklego/metrics.py:155: RuntimeWarning:\n",
      "\n",
      "invalid value encountered in double_scalars\n",
      "\n",
      "/home/marcos/Documents/Experiments/envs/crime/lib/python3.7/site-packages/sklego/metrics.py:79: RuntimeWarning:\n",
      "\n",
      "No samples with y_hat == 1 for race == 1, returning 0\n",
      "\n",
      "/home/marcos/Documents/Experiments/envs/crime/lib/python3.7/site-packages/sklego/metrics.py:155: RuntimeWarning:\n",
      "\n",
      "invalid value encountered in double_scalars\n",
      "\n",
      "/home/marcos/Documents/Experiments/envs/crime/lib/python3.7/site-packages/sklego/metrics.py:79: RuntimeWarning:\n",
      "\n",
      "No samples with y_hat == 1 for race == 1, returning 0\n",
      "\n",
      "/home/marcos/Documents/Experiments/envs/crime/lib/python3.7/site-packages/sklego/metrics.py:155: RuntimeWarning:\n",
      "\n",
      "invalid value encountered in double_scalars\n",
      "\n",
      "/home/marcos/Documents/Experiments/envs/crime/lib/python3.7/site-packages/sklego/metrics.py:79: RuntimeWarning:\n",
      "\n",
      "No samples with y_hat == 1 for race == 1, returning 0\n",
      "\n",
      "/home/marcos/Documents/Experiments/envs/crime/lib/python3.7/site-packages/sklego/metrics.py:155: RuntimeWarning:\n",
      "\n",
      "invalid value encountered in double_scalars\n",
      "\n",
      "/home/marcos/Documents/Experiments/envs/crime/lib/python3.7/site-packages/sklego/metrics.py:79: RuntimeWarning:\n",
      "\n",
      "No samples with y_hat == 1 for race == 1, returning 0\n",
      "\n",
      "/home/marcos/Documents/Experiments/envs/crime/lib/python3.7/site-packages/sklego/metrics.py:155: RuntimeWarning:\n",
      "\n",
      "invalid value encountered in double_scalars\n",
      "\n",
      "/home/marcos/Documents/Experiments/envs/crime/lib/python3.7/site-packages/sklego/metrics.py:79: RuntimeWarning:\n",
      "\n",
      "No samples with y_hat == 1 for race == 1, returning 0\n",
      "\n",
      "/home/marcos/Documents/Experiments/envs/crime/lib/python3.7/site-packages/sklego/metrics.py:155: RuntimeWarning:\n",
      "\n",
      "invalid value encountered in double_scalars\n",
      "\n",
      "/home/marcos/Documents/Experiments/envs/crime/lib/python3.7/site-packages/sklego/metrics.py:79: RuntimeWarning:\n",
      "\n",
      "No samples with y_hat == 1 for race == 1, returning 0\n",
      "\n",
      "/home/marcos/Documents/Experiments/envs/crime/lib/python3.7/site-packages/sklego/metrics.py:155: RuntimeWarning:\n",
      "\n",
      "invalid value encountered in double_scalars\n",
      "\n",
      "/home/marcos/Documents/Experiments/envs/crime/lib/python3.7/site-packages/sklego/metrics.py:79: RuntimeWarning:\n",
      "\n",
      "No samples with y_hat == 1 for race == 1, returning 0\n",
      "\n",
      "/home/marcos/Documents/Experiments/envs/crime/lib/python3.7/site-packages/sklego/metrics.py:155: RuntimeWarning:\n",
      "\n",
      "invalid value encountered in double_scalars\n",
      "\n",
      "/home/marcos/Documents/Experiments/envs/crime/lib/python3.7/site-packages/sklego/metrics.py:79: RuntimeWarning:\n",
      "\n",
      "No samples with y_hat == 1 for race == 1, returning 0\n",
      "\n",
      "/home/marcos/Documents/Experiments/envs/crime/lib/python3.7/site-packages/sklego/metrics.py:155: RuntimeWarning:\n",
      "\n",
      "invalid value encountered in double_scalars\n",
      "\n",
      "/home/marcos/Documents/Experiments/envs/crime/lib/python3.7/site-packages/sklego/metrics.py:79: RuntimeWarning:\n",
      "\n",
      "No samples with y_hat == 1 for race == 1, returning 0\n",
      "\n",
      "/home/marcos/Documents/Experiments/envs/crime/lib/python3.7/site-packages/sklego/metrics.py:155: RuntimeWarning:\n",
      "\n",
      "invalid value encountered in double_scalars\n",
      "\n"
     ]
    },
    {
     "name": "stderr",
     "output_type": "stream",
     "text": [
      "/home/marcos/Documents/Experiments/envs/crime/lib/python3.7/site-packages/sklego/metrics.py:79: RuntimeWarning:\n",
      "\n",
      "No samples with y_hat == 1 for race == 1, returning 0\n",
      "\n",
      "/home/marcos/Documents/Experiments/envs/crime/lib/python3.7/site-packages/sklego/metrics.py:155: RuntimeWarning:\n",
      "\n",
      "invalid value encountered in double_scalars\n",
      "\n",
      "/home/marcos/Documents/Experiments/envs/crime/lib/python3.7/site-packages/sklego/metrics.py:79: RuntimeWarning:\n",
      "\n",
      "No samples with y_hat == 1 for race == 1, returning 0\n",
      "\n",
      "/home/marcos/Documents/Experiments/envs/crime/lib/python3.7/site-packages/sklego/metrics.py:155: RuntimeWarning:\n",
      "\n",
      "invalid value encountered in double_scalars\n",
      "\n",
      "/home/marcos/Documents/Experiments/envs/crime/lib/python3.7/site-packages/sklego/metrics.py:79: RuntimeWarning:\n",
      "\n",
      "No samples with y_hat == 1 for race == 1, returning 0\n",
      "\n",
      "/home/marcos/Documents/Experiments/envs/crime/lib/python3.7/site-packages/sklego/metrics.py:155: RuntimeWarning:\n",
      "\n",
      "invalid value encountered in double_scalars\n",
      "\n",
      "/home/marcos/Documents/Experiments/envs/crime/lib/python3.7/site-packages/sklego/metrics.py:79: RuntimeWarning:\n",
      "\n",
      "No samples with y_hat == 1 for race == 1, returning 0\n",
      "\n",
      "/home/marcos/Documents/Experiments/envs/crime/lib/python3.7/site-packages/sklego/metrics.py:155: RuntimeWarning:\n",
      "\n",
      "invalid value encountered in double_scalars\n",
      "\n",
      "/home/marcos/Documents/Experiments/envs/crime/lib/python3.7/site-packages/sklego/metrics.py:79: RuntimeWarning:\n",
      "\n",
      "No samples with y_hat == 1 for race == 1, returning 0\n",
      "\n",
      "/home/marcos/Documents/Experiments/envs/crime/lib/python3.7/site-packages/sklego/metrics.py:155: RuntimeWarning:\n",
      "\n",
      "invalid value encountered in double_scalars\n",
      "\n",
      "/home/marcos/Documents/Experiments/envs/crime/lib/python3.7/site-packages/sklego/metrics.py:79: RuntimeWarning:\n",
      "\n",
      "No samples with y_hat == 1 for race == 1, returning 0\n",
      "\n",
      "/home/marcos/Documents/Experiments/envs/crime/lib/python3.7/site-packages/sklego/metrics.py:155: RuntimeWarning:\n",
      "\n",
      "invalid value encountered in double_scalars\n",
      "\n",
      "/home/marcos/Documents/Experiments/envs/crime/lib/python3.7/site-packages/sklego/metrics.py:79: RuntimeWarning:\n",
      "\n",
      "No samples with y_hat == 1 for race == 1, returning 0\n",
      "\n",
      "/home/marcos/Documents/Experiments/envs/crime/lib/python3.7/site-packages/sklego/metrics.py:155: RuntimeWarning:\n",
      "\n",
      "invalid value encountered in double_scalars\n",
      "\n",
      "/home/marcos/Documents/Experiments/envs/crime/lib/python3.7/site-packages/sklego/metrics.py:79: RuntimeWarning:\n",
      "\n",
      "No samples with y_hat == 1 for race == 1, returning 0\n",
      "\n",
      "/home/marcos/Documents/Experiments/envs/crime/lib/python3.7/site-packages/sklego/metrics.py:155: RuntimeWarning:\n",
      "\n",
      "invalid value encountered in double_scalars\n",
      "\n",
      "/home/marcos/Documents/Experiments/envs/crime/lib/python3.7/site-packages/sklego/metrics.py:79: RuntimeWarning:\n",
      "\n",
      "No samples with y_hat == 1 for race == 1, returning 0\n",
      "\n",
      "/home/marcos/Documents/Experiments/envs/crime/lib/python3.7/site-packages/sklego/metrics.py:155: RuntimeWarning:\n",
      "\n",
      "invalid value encountered in double_scalars\n",
      "\n",
      "/home/marcos/Documents/Experiments/envs/crime/lib/python3.7/site-packages/sklego/metrics.py:79: RuntimeWarning:\n",
      "\n",
      "No samples with y_hat == 1 for race == 1, returning 0\n",
      "\n",
      "/home/marcos/Documents/Experiments/envs/crime/lib/python3.7/site-packages/sklego/metrics.py:155: RuntimeWarning:\n",
      "\n",
      "invalid value encountered in double_scalars\n",
      "\n",
      "/home/marcos/Documents/Experiments/envs/crime/lib/python3.7/site-packages/sklego/metrics.py:79: RuntimeWarning:\n",
      "\n",
      "No samples with y_hat == 1 for race == 1, returning 0\n",
      "\n",
      "/home/marcos/Documents/Experiments/envs/crime/lib/python3.7/site-packages/sklego/metrics.py:155: RuntimeWarning:\n",
      "\n",
      "invalid value encountered in double_scalars\n",
      "\n",
      "/home/marcos/Documents/Experiments/envs/crime/lib/python3.7/site-packages/sklego/metrics.py:79: RuntimeWarning:\n",
      "\n",
      "No samples with y_hat == 1 for race == 1, returning 0\n",
      "\n",
      "/home/marcos/Documents/Experiments/envs/crime/lib/python3.7/site-packages/sklego/metrics.py:155: RuntimeWarning:\n",
      "\n",
      "invalid value encountered in double_scalars\n",
      "\n",
      "/home/marcos/Documents/Experiments/envs/crime/lib/python3.7/site-packages/sklego/metrics.py:79: RuntimeWarning:\n",
      "\n",
      "No samples with y_hat == 1 for race == 1, returning 0\n",
      "\n",
      "/home/marcos/Documents/Experiments/envs/crime/lib/python3.7/site-packages/sklego/metrics.py:155: RuntimeWarning:\n",
      "\n",
      "invalid value encountered in double_scalars\n",
      "\n",
      "/home/marcos/Documents/Experiments/envs/crime/lib/python3.7/site-packages/sklego/metrics.py:79: RuntimeWarning:\n",
      "\n",
      "No samples with y_hat == 1 for race == 1, returning 0\n",
      "\n",
      "/home/marcos/Documents/Experiments/envs/crime/lib/python3.7/site-packages/sklego/metrics.py:155: RuntimeWarning:\n",
      "\n",
      "invalid value encountered in double_scalars\n",
      "\n",
      "/home/marcos/Documents/Experiments/envs/crime/lib/python3.7/site-packages/sklego/metrics.py:79: RuntimeWarning:\n",
      "\n",
      "No samples with y_hat == 1 for race == 1, returning 0\n",
      "\n",
      "/home/marcos/Documents/Experiments/envs/crime/lib/python3.7/site-packages/sklego/metrics.py:155: RuntimeWarning:\n",
      "\n",
      "invalid value encountered in double_scalars\n",
      "\n",
      "/home/marcos/Documents/Experiments/envs/crime/lib/python3.7/site-packages/sklego/metrics.py:79: RuntimeWarning:\n",
      "\n",
      "No samples with y_hat == 1 for race == 1, returning 0\n",
      "\n",
      "/home/marcos/Documents/Experiments/envs/crime/lib/python3.7/site-packages/sklego/metrics.py:155: RuntimeWarning:\n",
      "\n",
      "invalid value encountered in double_scalars\n",
      "\n",
      "/home/marcos/Documents/Experiments/envs/crime/lib/python3.7/site-packages/sklego/metrics.py:79: RuntimeWarning:\n",
      "\n",
      "No samples with y_hat == 1 for race == 1, returning 0\n",
      "\n",
      "/home/marcos/Documents/Experiments/envs/crime/lib/python3.7/site-packages/sklego/metrics.py:155: RuntimeWarning:\n",
      "\n",
      "invalid value encountered in double_scalars\n",
      "\n",
      "/home/marcos/Documents/Experiments/envs/crime/lib/python3.7/site-packages/sklego/metrics.py:79: RuntimeWarning:\n",
      "\n",
      "No samples with y_hat == 1 for race == 1, returning 0\n",
      "\n",
      "/home/marcos/Documents/Experiments/envs/crime/lib/python3.7/site-packages/sklego/metrics.py:155: RuntimeWarning:\n",
      "\n",
      "invalid value encountered in double_scalars\n",
      "\n",
      "/home/marcos/Documents/Experiments/envs/crime/lib/python3.7/site-packages/sklego/metrics.py:79: RuntimeWarning:\n",
      "\n",
      "No samples with y_hat == 1 for race == 1, returning 0\n",
      "\n",
      "/home/marcos/Documents/Experiments/envs/crime/lib/python3.7/site-packages/sklego/metrics.py:155: RuntimeWarning:\n",
      "\n",
      "invalid value encountered in double_scalars\n",
      "\n",
      "/home/marcos/Documents/Experiments/envs/crime/lib/python3.7/site-packages/sklego/metrics.py:79: RuntimeWarning:\n",
      "\n",
      "No samples with y_hat == 1 for race == 1, returning 0\n",
      "\n",
      "/home/marcos/Documents/Experiments/envs/crime/lib/python3.7/site-packages/sklego/metrics.py:155: RuntimeWarning:\n",
      "\n",
      "invalid value encountered in double_scalars\n",
      "\n",
      "/home/marcos/Documents/Experiments/envs/crime/lib/python3.7/site-packages/sklego/metrics.py:79: RuntimeWarning:\n",
      "\n",
      "No samples with y_hat == 1 for race == 1, returning 0\n",
      "\n",
      "/home/marcos/Documents/Experiments/envs/crime/lib/python3.7/site-packages/sklego/metrics.py:155: RuntimeWarning:\n",
      "\n",
      "invalid value encountered in double_scalars\n",
      "\n",
      "/home/marcos/Documents/Experiments/envs/crime/lib/python3.7/site-packages/sklego/metrics.py:79: RuntimeWarning:\n",
      "\n",
      "No samples with y_hat == 1 for race == 1, returning 0\n",
      "\n",
      "/home/marcos/Documents/Experiments/envs/crime/lib/python3.7/site-packages/sklego/metrics.py:155: RuntimeWarning:\n",
      "\n",
      "invalid value encountered in double_scalars\n",
      "\n",
      "/home/marcos/Documents/Experiments/envs/crime/lib/python3.7/site-packages/sklego/metrics.py:79: RuntimeWarning:\n",
      "\n",
      "No samples with y_hat == 1 for race == 1, returning 0\n",
      "\n",
      "/home/marcos/Documents/Experiments/envs/crime/lib/python3.7/site-packages/sklego/metrics.py:155: RuntimeWarning:\n",
      "\n",
      "invalid value encountered in double_scalars\n",
      "\n",
      "/home/marcos/Documents/Experiments/envs/crime/lib/python3.7/site-packages/sklego/metrics.py:79: RuntimeWarning:\n",
      "\n",
      "No samples with y_hat == 1 for race == 1, returning 0\n",
      "\n",
      "/home/marcos/Documents/Experiments/envs/crime/lib/python3.7/site-packages/sklego/metrics.py:155: RuntimeWarning:\n",
      "\n",
      "invalid value encountered in double_scalars\n",
      "\n",
      "/home/marcos/Documents/Experiments/envs/crime/lib/python3.7/site-packages/sklego/metrics.py:79: RuntimeWarning:\n",
      "\n",
      "No samples with y_hat == 1 for race == 1, returning 0\n",
      "\n",
      "/home/marcos/Documents/Experiments/envs/crime/lib/python3.7/site-packages/sklego/metrics.py:155: RuntimeWarning:\n",
      "\n",
      "invalid value encountered in double_scalars\n",
      "\n",
      "/home/marcos/Documents/Experiments/envs/crime/lib/python3.7/site-packages/sklego/metrics.py:79: RuntimeWarning:\n",
      "\n",
      "No samples with y_hat == 1 for race == 1, returning 0\n",
      "\n"
     ]
    },
    {
     "name": "stderr",
     "output_type": "stream",
     "text": [
      "/home/marcos/Documents/Experiments/envs/crime/lib/python3.7/site-packages/sklego/metrics.py:155: RuntimeWarning:\n",
      "\n",
      "invalid value encountered in double_scalars\n",
      "\n",
      "/home/marcos/Documents/Experiments/envs/crime/lib/python3.7/site-packages/sklego/metrics.py:79: RuntimeWarning:\n",
      "\n",
      "No samples with y_hat == 1 for race == 1, returning 0\n",
      "\n",
      "/home/marcos/Documents/Experiments/envs/crime/lib/python3.7/site-packages/sklego/metrics.py:155: RuntimeWarning:\n",
      "\n",
      "invalid value encountered in double_scalars\n",
      "\n",
      "/home/marcos/Documents/Experiments/envs/crime/lib/python3.7/site-packages/sklego/metrics.py:79: RuntimeWarning:\n",
      "\n",
      "No samples with y_hat == 1 for race == 1, returning 0\n",
      "\n",
      "/home/marcos/Documents/Experiments/envs/crime/lib/python3.7/site-packages/sklego/metrics.py:155: RuntimeWarning:\n",
      "\n",
      "invalid value encountered in double_scalars\n",
      "\n",
      "/home/marcos/Documents/Experiments/envs/crime/lib/python3.7/site-packages/sklego/metrics.py:79: RuntimeWarning:\n",
      "\n",
      "No samples with y_hat == 1 for race == 1, returning 0\n",
      "\n",
      "/home/marcos/Documents/Experiments/envs/crime/lib/python3.7/site-packages/sklego/metrics.py:155: RuntimeWarning:\n",
      "\n",
      "invalid value encountered in double_scalars\n",
      "\n",
      "/home/marcos/Documents/Experiments/envs/crime/lib/python3.7/site-packages/sklego/metrics.py:79: RuntimeWarning:\n",
      "\n",
      "No samples with y_hat == 1 for race == 1, returning 0\n",
      "\n",
      "/home/marcos/Documents/Experiments/envs/crime/lib/python3.7/site-packages/sklego/metrics.py:155: RuntimeWarning:\n",
      "\n",
      "invalid value encountered in double_scalars\n",
      "\n",
      "/home/marcos/Documents/Experiments/envs/crime/lib/python3.7/site-packages/sklego/metrics.py:79: RuntimeWarning:\n",
      "\n",
      "No samples with y_hat == 1 for race == 1, returning 0\n",
      "\n",
      "/home/marcos/Documents/Experiments/envs/crime/lib/python3.7/site-packages/sklego/metrics.py:155: RuntimeWarning:\n",
      "\n",
      "invalid value encountered in double_scalars\n",
      "\n",
      "/home/marcos/Documents/Experiments/envs/crime/lib/python3.7/site-packages/sklego/metrics.py:79: RuntimeWarning:\n",
      "\n",
      "No samples with y_hat == 1 for race == 1, returning 0\n",
      "\n",
      "/home/marcos/Documents/Experiments/envs/crime/lib/python3.7/site-packages/sklego/metrics.py:155: RuntimeWarning:\n",
      "\n",
      "invalid value encountered in double_scalars\n",
      "\n",
      "/home/marcos/Documents/Experiments/envs/crime/lib/python3.7/site-packages/sklego/metrics.py:79: RuntimeWarning:\n",
      "\n",
      "No samples with y_hat == 1 for race == 1, returning 0\n",
      "\n",
      "/home/marcos/Documents/Experiments/envs/crime/lib/python3.7/site-packages/sklego/metrics.py:155: RuntimeWarning:\n",
      "\n",
      "invalid value encountered in double_scalars\n",
      "\n",
      "/home/marcos/Documents/Experiments/envs/crime/lib/python3.7/site-packages/sklego/metrics.py:79: RuntimeWarning:\n",
      "\n",
      "No samples with y_hat == 1 for race == 1, returning 0\n",
      "\n",
      "/home/marcos/Documents/Experiments/envs/crime/lib/python3.7/site-packages/sklego/metrics.py:155: RuntimeWarning:\n",
      "\n",
      "invalid value encountered in double_scalars\n",
      "\n",
      "/home/marcos/Documents/Experiments/envs/crime/lib/python3.7/site-packages/sklego/metrics.py:79: RuntimeWarning:\n",
      "\n",
      "No samples with y_hat == 1 for race == 1, returning 0\n",
      "\n",
      "/home/marcos/Documents/Experiments/envs/crime/lib/python3.7/site-packages/sklego/metrics.py:155: RuntimeWarning:\n",
      "\n",
      "invalid value encountered in double_scalars\n",
      "\n",
      "/home/marcos/Documents/Experiments/envs/crime/lib/python3.7/site-packages/sklego/metrics.py:79: RuntimeWarning:\n",
      "\n",
      "No samples with y_hat == 1 for race == 1, returning 0\n",
      "\n",
      "/home/marcos/Documents/Experiments/envs/crime/lib/python3.7/site-packages/sklego/metrics.py:155: RuntimeWarning:\n",
      "\n",
      "invalid value encountered in double_scalars\n",
      "\n",
      "/home/marcos/Documents/Experiments/envs/crime/lib/python3.7/site-packages/sklego/metrics.py:79: RuntimeWarning:\n",
      "\n",
      "No samples with y_hat == 1 for race == 1, returning 0\n",
      "\n",
      "/home/marcos/Documents/Experiments/envs/crime/lib/python3.7/site-packages/sklego/metrics.py:155: RuntimeWarning:\n",
      "\n",
      "invalid value encountered in double_scalars\n",
      "\n",
      "/home/marcos/Documents/Experiments/envs/crime/lib/python3.7/site-packages/sklego/metrics.py:79: RuntimeWarning:\n",
      "\n",
      "No samples with y_hat == 1 for race == 1, returning 0\n",
      "\n",
      "/home/marcos/Documents/Experiments/envs/crime/lib/python3.7/site-packages/sklego/metrics.py:155: RuntimeWarning:\n",
      "\n",
      "invalid value encountered in double_scalars\n",
      "\n",
      "/home/marcos/Documents/Experiments/envs/crime/lib/python3.7/site-packages/sklego/metrics.py:79: RuntimeWarning:\n",
      "\n",
      "No samples with y_hat == 1 for race == 1, returning 0\n",
      "\n",
      "/home/marcos/Documents/Experiments/envs/crime/lib/python3.7/site-packages/sklego/metrics.py:155: RuntimeWarning:\n",
      "\n",
      "invalid value encountered in double_scalars\n",
      "\n",
      "/home/marcos/Documents/Experiments/envs/crime/lib/python3.7/site-packages/sklego/metrics.py:79: RuntimeWarning:\n",
      "\n",
      "No samples with y_hat == 1 for race == 1, returning 0\n",
      "\n",
      "/home/marcos/Documents/Experiments/envs/crime/lib/python3.7/site-packages/sklego/metrics.py:155: RuntimeWarning:\n",
      "\n",
      "invalid value encountered in double_scalars\n",
      "\n",
      "/home/marcos/Documents/Experiments/envs/crime/lib/python3.7/site-packages/sklego/metrics.py:79: RuntimeWarning:\n",
      "\n",
      "No samples with y_hat == 1 for race == 1, returning 0\n",
      "\n",
      "/home/marcos/Documents/Experiments/envs/crime/lib/python3.7/site-packages/sklego/metrics.py:155: RuntimeWarning:\n",
      "\n",
      "invalid value encountered in double_scalars\n",
      "\n",
      "/home/marcos/Documents/Experiments/envs/crime/lib/python3.7/site-packages/sklego/metrics.py:79: RuntimeWarning:\n",
      "\n",
      "No samples with y_hat == 1 for race == 1, returning 0\n",
      "\n",
      "/home/marcos/Documents/Experiments/envs/crime/lib/python3.7/site-packages/sklego/metrics.py:155: RuntimeWarning:\n",
      "\n",
      "invalid value encountered in double_scalars\n",
      "\n",
      "/home/marcos/Documents/Experiments/envs/crime/lib/python3.7/site-packages/sklego/metrics.py:79: RuntimeWarning:\n",
      "\n",
      "No samples with y_hat == 1 for race == 1, returning 0\n",
      "\n",
      "/home/marcos/Documents/Experiments/envs/crime/lib/python3.7/site-packages/sklego/metrics.py:155: RuntimeWarning:\n",
      "\n",
      "invalid value encountered in double_scalars\n",
      "\n",
      "/home/marcos/Documents/Experiments/envs/crime/lib/python3.7/site-packages/sklego/metrics.py:79: RuntimeWarning:\n",
      "\n",
      "No samples with y_hat == 1 for race == 1, returning 0\n",
      "\n",
      "/home/marcos/Documents/Experiments/envs/crime/lib/python3.7/site-packages/sklego/metrics.py:155: RuntimeWarning:\n",
      "\n",
      "invalid value encountered in double_scalars\n",
      "\n",
      "/home/marcos/Documents/Experiments/envs/crime/lib/python3.7/site-packages/sklego/metrics.py:79: RuntimeWarning:\n",
      "\n",
      "No samples with y_hat == 1 for race == 1, returning 0\n",
      "\n",
      "/home/marcos/Documents/Experiments/envs/crime/lib/python3.7/site-packages/sklego/metrics.py:155: RuntimeWarning:\n",
      "\n",
      "invalid value encountered in double_scalars\n",
      "\n",
      "/home/marcos/Documents/Experiments/envs/crime/lib/python3.7/site-packages/sklego/metrics.py:79: RuntimeWarning:\n",
      "\n",
      "No samples with y_hat == 1 for race == 1, returning 0\n",
      "\n",
      "/home/marcos/Documents/Experiments/envs/crime/lib/python3.7/site-packages/sklego/metrics.py:155: RuntimeWarning:\n",
      "\n",
      "invalid value encountered in double_scalars\n",
      "\n",
      "/home/marcos/Documents/Experiments/envs/crime/lib/python3.7/site-packages/sklego/metrics.py:79: RuntimeWarning:\n",
      "\n",
      "No samples with y_hat == 1 for race == 1, returning 0\n",
      "\n",
      "/home/marcos/Documents/Experiments/envs/crime/lib/python3.7/site-packages/sklego/metrics.py:155: RuntimeWarning:\n",
      "\n",
      "invalid value encountered in double_scalars\n",
      "\n",
      "/home/marcos/Documents/Experiments/envs/crime/lib/python3.7/site-packages/sklego/metrics.py:79: RuntimeWarning:\n",
      "\n",
      "No samples with y_hat == 1 for race == 1, returning 0\n",
      "\n",
      "/home/marcos/Documents/Experiments/envs/crime/lib/python3.7/site-packages/sklego/metrics.py:155: RuntimeWarning:\n",
      "\n",
      "invalid value encountered in double_scalars\n",
      "\n",
      "/home/marcos/Documents/Experiments/envs/crime/lib/python3.7/site-packages/sklego/metrics.py:79: RuntimeWarning:\n",
      "\n",
      "No samples with y_hat == 1 for race == 1, returning 0\n",
      "\n",
      "/home/marcos/Documents/Experiments/envs/crime/lib/python3.7/site-packages/sklego/metrics.py:155: RuntimeWarning:\n",
      "\n",
      "invalid value encountered in double_scalars\n",
      "\n",
      "/home/marcos/Documents/Experiments/envs/crime/lib/python3.7/site-packages/sklego/metrics.py:79: RuntimeWarning:\n",
      "\n",
      "No samples with y_hat == 1 for race == 1, returning 0\n",
      "\n",
      "/home/marcos/Documents/Experiments/envs/crime/lib/python3.7/site-packages/sklego/metrics.py:155: RuntimeWarning:\n",
      "\n",
      "invalid value encountered in double_scalars\n",
      "\n",
      "/home/marcos/Documents/Experiments/envs/crime/lib/python3.7/site-packages/sklego/metrics.py:79: RuntimeWarning:\n",
      "\n",
      "No samples with y_hat == 1 for race == 1, returning 0\n",
      "\n",
      "/home/marcos/Documents/Experiments/envs/crime/lib/python3.7/site-packages/sklego/metrics.py:155: RuntimeWarning:\n",
      "\n",
      "invalid value encountered in double_scalars\n",
      "\n"
     ]
    },
    {
     "name": "stderr",
     "output_type": "stream",
     "text": [
      "/home/marcos/Documents/Experiments/envs/crime/lib/python3.7/site-packages/sklego/metrics.py:79: RuntimeWarning:\n",
      "\n",
      "No samples with y_hat == 1 for race == 1, returning 0\n",
      "\n",
      "/home/marcos/Documents/Experiments/envs/crime/lib/python3.7/site-packages/sklego/metrics.py:155: RuntimeWarning:\n",
      "\n",
      "invalid value encountered in double_scalars\n",
      "\n",
      "/home/marcos/Documents/Experiments/envs/crime/lib/python3.7/site-packages/sklego/metrics.py:79: RuntimeWarning:\n",
      "\n",
      "No samples with y_hat == 1 for race == 1, returning 0\n",
      "\n",
      "/home/marcos/Documents/Experiments/envs/crime/lib/python3.7/site-packages/sklego/metrics.py:155: RuntimeWarning:\n",
      "\n",
      "invalid value encountered in double_scalars\n",
      "\n",
      "/home/marcos/Documents/Experiments/envs/crime/lib/python3.7/site-packages/sklego/metrics.py:79: RuntimeWarning:\n",
      "\n",
      "No samples with y_hat == 1 for race == 1, returning 0\n",
      "\n",
      "/home/marcos/Documents/Experiments/envs/crime/lib/python3.7/site-packages/sklego/metrics.py:155: RuntimeWarning:\n",
      "\n",
      "invalid value encountered in double_scalars\n",
      "\n",
      "/home/marcos/Documents/Experiments/envs/crime/lib/python3.7/site-packages/sklego/metrics.py:79: RuntimeWarning:\n",
      "\n",
      "No samples with y_hat == 1 for race == 1, returning 0\n",
      "\n",
      "/home/marcos/Documents/Experiments/envs/crime/lib/python3.7/site-packages/sklego/metrics.py:155: RuntimeWarning:\n",
      "\n",
      "invalid value encountered in double_scalars\n",
      "\n",
      "/home/marcos/Documents/Experiments/envs/crime/lib/python3.7/site-packages/sklego/metrics.py:79: RuntimeWarning:\n",
      "\n",
      "No samples with y_hat == 1 for race == 1, returning 0\n",
      "\n",
      "/home/marcos/Documents/Experiments/envs/crime/lib/python3.7/site-packages/sklego/metrics.py:155: RuntimeWarning:\n",
      "\n",
      "invalid value encountered in double_scalars\n",
      "\n",
      "/home/marcos/Documents/Experiments/envs/crime/lib/python3.7/site-packages/sklego/metrics.py:79: RuntimeWarning:\n",
      "\n",
      "No samples with y_hat == 1 for race == 1, returning 0\n",
      "\n",
      "/home/marcos/Documents/Experiments/envs/crime/lib/python3.7/site-packages/sklego/metrics.py:155: RuntimeWarning:\n",
      "\n",
      "invalid value encountered in double_scalars\n",
      "\n",
      "/home/marcos/Documents/Experiments/envs/crime/lib/python3.7/site-packages/sklego/metrics.py:79: RuntimeWarning:\n",
      "\n",
      "No samples with y_hat == 1 for race == 1, returning 0\n",
      "\n",
      "/home/marcos/Documents/Experiments/envs/crime/lib/python3.7/site-packages/sklego/metrics.py:155: RuntimeWarning:\n",
      "\n",
      "invalid value encountered in double_scalars\n",
      "\n",
      "/home/marcos/Documents/Experiments/envs/crime/lib/python3.7/site-packages/sklego/metrics.py:79: RuntimeWarning:\n",
      "\n",
      "No samples with y_hat == 1 for race == 1, returning 0\n",
      "\n",
      "/home/marcos/Documents/Experiments/envs/crime/lib/python3.7/site-packages/sklego/metrics.py:155: RuntimeWarning:\n",
      "\n",
      "invalid value encountered in double_scalars\n",
      "\n",
      "/home/marcos/Documents/Experiments/envs/crime/lib/python3.7/site-packages/sklego/metrics.py:79: RuntimeWarning:\n",
      "\n",
      "No samples with y_hat == 1 for race == 1, returning 0\n",
      "\n",
      "/home/marcos/Documents/Experiments/envs/crime/lib/python3.7/site-packages/sklego/metrics.py:155: RuntimeWarning:\n",
      "\n",
      "invalid value encountered in double_scalars\n",
      "\n",
      "/home/marcos/Documents/Experiments/envs/crime/lib/python3.7/site-packages/sklego/metrics.py:79: RuntimeWarning:\n",
      "\n",
      "No samples with y_hat == 1 for race == 1, returning 0\n",
      "\n",
      "/home/marcos/Documents/Experiments/envs/crime/lib/python3.7/site-packages/sklego/metrics.py:155: RuntimeWarning:\n",
      "\n",
      "invalid value encountered in double_scalars\n",
      "\n",
      "/home/marcos/Documents/Experiments/envs/crime/lib/python3.7/site-packages/sklego/metrics.py:79: RuntimeWarning:\n",
      "\n",
      "No samples with y_hat == 1 for race == 1, returning 0\n",
      "\n",
      "/home/marcos/Documents/Experiments/envs/crime/lib/python3.7/site-packages/sklego/metrics.py:155: RuntimeWarning:\n",
      "\n",
      "invalid value encountered in double_scalars\n",
      "\n",
      "/home/marcos/Documents/Experiments/envs/crime/lib/python3.7/site-packages/sklego/metrics.py:79: RuntimeWarning:\n",
      "\n",
      "No samples with y_hat == 1 for race == 1, returning 0\n",
      "\n",
      "/home/marcos/Documents/Experiments/envs/crime/lib/python3.7/site-packages/sklego/metrics.py:155: RuntimeWarning:\n",
      "\n",
      "invalid value encountered in double_scalars\n",
      "\n",
      "/home/marcos/Documents/Experiments/envs/crime/lib/python3.7/site-packages/sklego/metrics.py:79: RuntimeWarning:\n",
      "\n",
      "No samples with y_hat == 1 for race == 1, returning 0\n",
      "\n",
      "/home/marcos/Documents/Experiments/envs/crime/lib/python3.7/site-packages/sklego/metrics.py:155: RuntimeWarning:\n",
      "\n",
      "invalid value encountered in double_scalars\n",
      "\n",
      "/home/marcos/Documents/Experiments/envs/crime/lib/python3.7/site-packages/sklego/metrics.py:79: RuntimeWarning:\n",
      "\n",
      "No samples with y_hat == 1 for race == 1, returning 0\n",
      "\n",
      "/home/marcos/Documents/Experiments/envs/crime/lib/python3.7/site-packages/sklego/metrics.py:155: RuntimeWarning:\n",
      "\n",
      "invalid value encountered in double_scalars\n",
      "\n",
      "/home/marcos/Documents/Experiments/envs/crime/lib/python3.7/site-packages/sklego/metrics.py:79: RuntimeWarning:\n",
      "\n",
      "No samples with y_hat == 1 for race == 1, returning 0\n",
      "\n",
      "/home/marcos/Documents/Experiments/envs/crime/lib/python3.7/site-packages/sklego/metrics.py:155: RuntimeWarning:\n",
      "\n",
      "invalid value encountered in double_scalars\n",
      "\n",
      "/home/marcos/Documents/Experiments/envs/crime/lib/python3.7/site-packages/sklego/metrics.py:79: RuntimeWarning:\n",
      "\n",
      "No samples with y_hat == 1 for race == 1, returning 0\n",
      "\n",
      "/home/marcos/Documents/Experiments/envs/crime/lib/python3.7/site-packages/sklego/metrics.py:155: RuntimeWarning:\n",
      "\n",
      "invalid value encountered in double_scalars\n",
      "\n",
      "/home/marcos/Documents/Experiments/envs/crime/lib/python3.7/site-packages/sklego/metrics.py:79: RuntimeWarning:\n",
      "\n",
      "No samples with y_hat == 1 for race == 1, returning 0\n",
      "\n",
      "/home/marcos/Documents/Experiments/envs/crime/lib/python3.7/site-packages/sklego/metrics.py:155: RuntimeWarning:\n",
      "\n",
      "invalid value encountered in double_scalars\n",
      "\n",
      "/home/marcos/Documents/Experiments/envs/crime/lib/python3.7/site-packages/sklego/metrics.py:79: RuntimeWarning:\n",
      "\n",
      "No samples with y_hat == 1 for race == 1, returning 0\n",
      "\n",
      "/home/marcos/Documents/Experiments/envs/crime/lib/python3.7/site-packages/sklego/metrics.py:155: RuntimeWarning:\n",
      "\n",
      "invalid value encountered in double_scalars\n",
      "\n",
      "/home/marcos/Documents/Experiments/envs/crime/lib/python3.7/site-packages/sklego/metrics.py:79: RuntimeWarning:\n",
      "\n",
      "No samples with y_hat == 1 for race == 1, returning 0\n",
      "\n",
      "/home/marcos/Documents/Experiments/envs/crime/lib/python3.7/site-packages/sklego/metrics.py:155: RuntimeWarning:\n",
      "\n",
      "invalid value encountered in double_scalars\n",
      "\n",
      "/home/marcos/Documents/Experiments/envs/crime/lib/python3.7/site-packages/sklego/metrics.py:79: RuntimeWarning:\n",
      "\n",
      "No samples with y_hat == 1 for race == 1, returning 0\n",
      "\n",
      "/home/marcos/Documents/Experiments/envs/crime/lib/python3.7/site-packages/sklego/metrics.py:155: RuntimeWarning:\n",
      "\n",
      "invalid value encountered in double_scalars\n",
      "\n",
      "/home/marcos/Documents/Experiments/envs/crime/lib/python3.7/site-packages/sklego/metrics.py:79: RuntimeWarning:\n",
      "\n",
      "No samples with y_hat == 1 for race == 1, returning 0\n",
      "\n",
      "/home/marcos/Documents/Experiments/envs/crime/lib/python3.7/site-packages/sklego/metrics.py:155: RuntimeWarning:\n",
      "\n",
      "invalid value encountered in double_scalars\n",
      "\n",
      "/home/marcos/Documents/Experiments/envs/crime/lib/python3.7/site-packages/sklego/metrics.py:79: RuntimeWarning:\n",
      "\n",
      "No samples with y_hat == 1 for race == 1, returning 0\n",
      "\n",
      "/home/marcos/Documents/Experiments/envs/crime/lib/python3.7/site-packages/sklego/metrics.py:155: RuntimeWarning:\n",
      "\n",
      "invalid value encountered in double_scalars\n",
      "\n",
      "/home/marcos/Documents/Experiments/envs/crime/lib/python3.7/site-packages/sklego/metrics.py:79: RuntimeWarning:\n",
      "\n",
      "No samples with y_hat == 1 for race == 1, returning 0\n",
      "\n",
      "/home/marcos/Documents/Experiments/envs/crime/lib/python3.7/site-packages/sklego/metrics.py:155: RuntimeWarning:\n",
      "\n",
      "invalid value encountered in double_scalars\n",
      "\n",
      "/home/marcos/Documents/Experiments/envs/crime/lib/python3.7/site-packages/sklego/metrics.py:79: RuntimeWarning:\n",
      "\n",
      "No samples with y_hat == 1 for race == 1, returning 0\n",
      "\n",
      "/home/marcos/Documents/Experiments/envs/crime/lib/python3.7/site-packages/sklego/metrics.py:155: RuntimeWarning:\n",
      "\n",
      "invalid value encountered in double_scalars\n",
      "\n",
      "/home/marcos/Documents/Experiments/envs/crime/lib/python3.7/site-packages/sklego/metrics.py:79: RuntimeWarning:\n",
      "\n",
      "No samples with y_hat == 1 for race == 1, returning 0\n",
      "\n",
      "/home/marcos/Documents/Experiments/envs/crime/lib/python3.7/site-packages/sklego/metrics.py:155: RuntimeWarning:\n",
      "\n",
      "invalid value encountered in double_scalars\n",
      "\n",
      "/home/marcos/Documents/Experiments/envs/crime/lib/python3.7/site-packages/sklego/metrics.py:79: RuntimeWarning:\n",
      "\n",
      "No samples with y_hat == 1 for race == 1, returning 0\n",
      "\n"
     ]
    },
    {
     "name": "stderr",
     "output_type": "stream",
     "text": [
      "/home/marcos/Documents/Experiments/envs/crime/lib/python3.7/site-packages/sklego/metrics.py:155: RuntimeWarning:\n",
      "\n",
      "invalid value encountered in double_scalars\n",
      "\n",
      "/home/marcos/Documents/Experiments/envs/crime/lib/python3.7/site-packages/sklego/metrics.py:79: RuntimeWarning:\n",
      "\n",
      "No samples with y_hat == 1 for race == 1, returning 0\n",
      "\n",
      "/home/marcos/Documents/Experiments/envs/crime/lib/python3.7/site-packages/sklego/metrics.py:155: RuntimeWarning:\n",
      "\n",
      "invalid value encountered in double_scalars\n",
      "\n",
      "/home/marcos/Documents/Experiments/envs/crime/lib/python3.7/site-packages/sklego/metrics.py:79: RuntimeWarning:\n",
      "\n",
      "No samples with y_hat == 1 for race == 1, returning 0\n",
      "\n",
      "/home/marcos/Documents/Experiments/envs/crime/lib/python3.7/site-packages/sklego/metrics.py:155: RuntimeWarning:\n",
      "\n",
      "invalid value encountered in double_scalars\n",
      "\n",
      "/home/marcos/Documents/Experiments/envs/crime/lib/python3.7/site-packages/sklego/metrics.py:79: RuntimeWarning:\n",
      "\n",
      "No samples with y_hat == 1 for race == 1, returning 0\n",
      "\n",
      "/home/marcos/Documents/Experiments/envs/crime/lib/python3.7/site-packages/sklego/metrics.py:155: RuntimeWarning:\n",
      "\n",
      "invalid value encountered in double_scalars\n",
      "\n",
      "/home/marcos/Documents/Experiments/envs/crime/lib/python3.7/site-packages/sklego/metrics.py:79: RuntimeWarning:\n",
      "\n",
      "No samples with y_hat == 1 for race == 1, returning 0\n",
      "\n",
      "/home/marcos/Documents/Experiments/envs/crime/lib/python3.7/site-packages/sklego/metrics.py:155: RuntimeWarning:\n",
      "\n",
      "invalid value encountered in double_scalars\n",
      "\n",
      "/home/marcos/Documents/Experiments/envs/crime/lib/python3.7/site-packages/sklego/metrics.py:79: RuntimeWarning:\n",
      "\n",
      "No samples with y_hat == 1 for race == 1, returning 0\n",
      "\n",
      "/home/marcos/Documents/Experiments/envs/crime/lib/python3.7/site-packages/sklego/metrics.py:155: RuntimeWarning:\n",
      "\n",
      "invalid value encountered in double_scalars\n",
      "\n",
      "/home/marcos/Documents/Experiments/envs/crime/lib/python3.7/site-packages/sklego/metrics.py:79: RuntimeWarning:\n",
      "\n",
      "No samples with y_hat == 1 for race == 1, returning 0\n",
      "\n",
      "/home/marcos/Documents/Experiments/envs/crime/lib/python3.7/site-packages/sklego/metrics.py:155: RuntimeWarning:\n",
      "\n",
      "invalid value encountered in double_scalars\n",
      "\n",
      "/home/marcos/Documents/Experiments/envs/crime/lib/python3.7/site-packages/sklego/metrics.py:79: RuntimeWarning:\n",
      "\n",
      "No samples with y_hat == 1 for race == 1, returning 0\n",
      "\n",
      "/home/marcos/Documents/Experiments/envs/crime/lib/python3.7/site-packages/sklego/metrics.py:155: RuntimeWarning:\n",
      "\n",
      "invalid value encountered in double_scalars\n",
      "\n",
      "/home/marcos/Documents/Experiments/envs/crime/lib/python3.7/site-packages/sklego/metrics.py:79: RuntimeWarning:\n",
      "\n",
      "No samples with y_hat == 1 for race == 1, returning 0\n",
      "\n",
      "/home/marcos/Documents/Experiments/envs/crime/lib/python3.7/site-packages/sklego/metrics.py:155: RuntimeWarning:\n",
      "\n",
      "invalid value encountered in double_scalars\n",
      "\n",
      "/home/marcos/Documents/Experiments/envs/crime/lib/python3.7/site-packages/sklego/metrics.py:79: RuntimeWarning:\n",
      "\n",
      "No samples with y_hat == 1 for race == 1, returning 0\n",
      "\n",
      "/home/marcos/Documents/Experiments/envs/crime/lib/python3.7/site-packages/sklego/metrics.py:155: RuntimeWarning:\n",
      "\n",
      "invalid value encountered in double_scalars\n",
      "\n",
      "/home/marcos/Documents/Experiments/envs/crime/lib/python3.7/site-packages/sklego/metrics.py:79: RuntimeWarning:\n",
      "\n",
      "No samples with y_hat == 1 for race == 1, returning 0\n",
      "\n",
      "/home/marcos/Documents/Experiments/envs/crime/lib/python3.7/site-packages/sklego/metrics.py:155: RuntimeWarning:\n",
      "\n",
      "invalid value encountered in double_scalars\n",
      "\n",
      "/home/marcos/Documents/Experiments/envs/crime/lib/python3.7/site-packages/sklego/metrics.py:79: RuntimeWarning:\n",
      "\n",
      "No samples with y_hat == 1 for race == 1, returning 0\n",
      "\n",
      "/home/marcos/Documents/Experiments/envs/crime/lib/python3.7/site-packages/sklego/metrics.py:155: RuntimeWarning:\n",
      "\n",
      "invalid value encountered in double_scalars\n",
      "\n",
      "/home/marcos/Documents/Experiments/envs/crime/lib/python3.7/site-packages/sklego/metrics.py:79: RuntimeWarning:\n",
      "\n",
      "No samples with y_hat == 1 for race == 1, returning 0\n",
      "\n",
      "/home/marcos/Documents/Experiments/envs/crime/lib/python3.7/site-packages/sklego/metrics.py:155: RuntimeWarning:\n",
      "\n",
      "invalid value encountered in double_scalars\n",
      "\n",
      "/home/marcos/Documents/Experiments/envs/crime/lib/python3.7/site-packages/sklego/metrics.py:79: RuntimeWarning:\n",
      "\n",
      "No samples with y_hat == 1 for race == 1, returning 0\n",
      "\n",
      "/home/marcos/Documents/Experiments/envs/crime/lib/python3.7/site-packages/sklego/metrics.py:155: RuntimeWarning:\n",
      "\n",
      "invalid value encountered in double_scalars\n",
      "\n",
      "/home/marcos/Documents/Experiments/envs/crime/lib/python3.7/site-packages/sklego/metrics.py:79: RuntimeWarning:\n",
      "\n",
      "No samples with y_hat == 1 for race == 1, returning 0\n",
      "\n",
      "/home/marcos/Documents/Experiments/envs/crime/lib/python3.7/site-packages/sklego/metrics.py:155: RuntimeWarning:\n",
      "\n",
      "invalid value encountered in double_scalars\n",
      "\n",
      "/home/marcos/Documents/Experiments/envs/crime/lib/python3.7/site-packages/sklego/metrics.py:79: RuntimeWarning:\n",
      "\n",
      "No samples with y_hat == 1 for race == 1, returning 0\n",
      "\n",
      "/home/marcos/Documents/Experiments/envs/crime/lib/python3.7/site-packages/sklego/metrics.py:155: RuntimeWarning:\n",
      "\n",
      "invalid value encountered in double_scalars\n",
      "\n",
      "/home/marcos/Documents/Experiments/envs/crime/lib/python3.7/site-packages/sklego/metrics.py:79: RuntimeWarning:\n",
      "\n",
      "No samples with y_hat == 1 for race == 1, returning 0\n",
      "\n",
      "/home/marcos/Documents/Experiments/envs/crime/lib/python3.7/site-packages/sklego/metrics.py:155: RuntimeWarning:\n",
      "\n",
      "invalid value encountered in double_scalars\n",
      "\n",
      "/home/marcos/Documents/Experiments/envs/crime/lib/python3.7/site-packages/sklego/metrics.py:79: RuntimeWarning:\n",
      "\n",
      "No samples with y_hat == 1 for race == 1, returning 0\n",
      "\n",
      "/home/marcos/Documents/Experiments/envs/crime/lib/python3.7/site-packages/sklego/metrics.py:155: RuntimeWarning:\n",
      "\n",
      "invalid value encountered in double_scalars\n",
      "\n",
      "/home/marcos/Documents/Experiments/envs/crime/lib/python3.7/site-packages/sklego/metrics.py:79: RuntimeWarning:\n",
      "\n",
      "No samples with y_hat == 1 for race == 1, returning 0\n",
      "\n",
      "/home/marcos/Documents/Experiments/envs/crime/lib/python3.7/site-packages/sklego/metrics.py:155: RuntimeWarning:\n",
      "\n",
      "invalid value encountered in double_scalars\n",
      "\n",
      "/home/marcos/Documents/Experiments/envs/crime/lib/python3.7/site-packages/sklego/metrics.py:79: RuntimeWarning:\n",
      "\n",
      "No samples with y_hat == 1 for race == 1, returning 0\n",
      "\n",
      "/home/marcos/Documents/Experiments/envs/crime/lib/python3.7/site-packages/sklego/metrics.py:155: RuntimeWarning:\n",
      "\n",
      "invalid value encountered in double_scalars\n",
      "\n",
      "/home/marcos/Documents/Experiments/envs/crime/lib/python3.7/site-packages/sklego/metrics.py:79: RuntimeWarning:\n",
      "\n",
      "No samples with y_hat == 1 for race == 1, returning 0\n",
      "\n",
      "/home/marcos/Documents/Experiments/envs/crime/lib/python3.7/site-packages/sklego/metrics.py:155: RuntimeWarning:\n",
      "\n",
      "invalid value encountered in double_scalars\n",
      "\n",
      "/home/marcos/Documents/Experiments/envs/crime/lib/python3.7/site-packages/sklego/metrics.py:79: RuntimeWarning:\n",
      "\n",
      "No samples with y_hat == 1 for race == 1, returning 0\n",
      "\n",
      "/home/marcos/Documents/Experiments/envs/crime/lib/python3.7/site-packages/sklego/metrics.py:155: RuntimeWarning:\n",
      "\n",
      "invalid value encountered in double_scalars\n",
      "\n",
      "/home/marcos/Documents/Experiments/envs/crime/lib/python3.7/site-packages/sklego/metrics.py:79: RuntimeWarning:\n",
      "\n",
      "No samples with y_hat == 1 for race == 1, returning 0\n",
      "\n",
      "/home/marcos/Documents/Experiments/envs/crime/lib/python3.7/site-packages/sklego/metrics.py:155: RuntimeWarning:\n",
      "\n",
      "invalid value encountered in double_scalars\n",
      "\n",
      "/home/marcos/Documents/Experiments/envs/crime/lib/python3.7/site-packages/sklego/metrics.py:79: RuntimeWarning:\n",
      "\n",
      "No samples with y_hat == 1 for race == 1, returning 0\n",
      "\n",
      "/home/marcos/Documents/Experiments/envs/crime/lib/python3.7/site-packages/sklego/metrics.py:155: RuntimeWarning:\n",
      "\n",
      "invalid value encountered in double_scalars\n",
      "\n",
      "/home/marcos/Documents/Experiments/envs/crime/lib/python3.7/site-packages/sklego/metrics.py:79: RuntimeWarning:\n",
      "\n",
      "No samples with y_hat == 1 for race == 1, returning 0\n",
      "\n",
      "/home/marcos/Documents/Experiments/envs/crime/lib/python3.7/site-packages/sklego/metrics.py:155: RuntimeWarning:\n",
      "\n",
      "invalid value encountered in double_scalars\n",
      "\n",
      "/home/marcos/Documents/Experiments/envs/crime/lib/python3.7/site-packages/sklego/metrics.py:79: RuntimeWarning:\n",
      "\n",
      "No samples with y_hat == 1 for race == 1, returning 0\n",
      "\n",
      "/home/marcos/Documents/Experiments/envs/crime/lib/python3.7/site-packages/sklego/metrics.py:155: RuntimeWarning:\n",
      "\n",
      "invalid value encountered in double_scalars\n",
      "\n"
     ]
    },
    {
     "name": "stderr",
     "output_type": "stream",
     "text": [
      "/home/marcos/Documents/Experiments/envs/crime/lib/python3.7/site-packages/sklego/metrics.py:79: RuntimeWarning:\n",
      "\n",
      "No samples with y_hat == 1 for race == 1, returning 0\n",
      "\n",
      "/home/marcos/Documents/Experiments/envs/crime/lib/python3.7/site-packages/sklego/metrics.py:155: RuntimeWarning:\n",
      "\n",
      "invalid value encountered in double_scalars\n",
      "\n",
      "/home/marcos/Documents/Experiments/envs/crime/lib/python3.7/site-packages/sklego/metrics.py:79: RuntimeWarning:\n",
      "\n",
      "No samples with y_hat == 1 for race == 1, returning 0\n",
      "\n",
      "/home/marcos/Documents/Experiments/envs/crime/lib/python3.7/site-packages/sklego/metrics.py:155: RuntimeWarning:\n",
      "\n",
      "invalid value encountered in double_scalars\n",
      "\n",
      "/home/marcos/Documents/Experiments/envs/crime/lib/python3.7/site-packages/sklego/metrics.py:79: RuntimeWarning:\n",
      "\n",
      "No samples with y_hat == 1 for race == 1, returning 0\n",
      "\n",
      "/home/marcos/Documents/Experiments/envs/crime/lib/python3.7/site-packages/sklego/metrics.py:155: RuntimeWarning:\n",
      "\n",
      "invalid value encountered in double_scalars\n",
      "\n",
      "/home/marcos/Documents/Experiments/envs/crime/lib/python3.7/site-packages/sklego/metrics.py:79: RuntimeWarning:\n",
      "\n",
      "No samples with y_hat == 1 for race == 1, returning 0\n",
      "\n",
      "/home/marcos/Documents/Experiments/envs/crime/lib/python3.7/site-packages/sklego/metrics.py:155: RuntimeWarning:\n",
      "\n",
      "invalid value encountered in double_scalars\n",
      "\n",
      "/home/marcos/Documents/Experiments/envs/crime/lib/python3.7/site-packages/sklego/metrics.py:79: RuntimeWarning:\n",
      "\n",
      "No samples with y_hat == 1 for race == 1, returning 0\n",
      "\n",
      "/home/marcos/Documents/Experiments/envs/crime/lib/python3.7/site-packages/sklego/metrics.py:155: RuntimeWarning:\n",
      "\n",
      "invalid value encountered in double_scalars\n",
      "\n",
      "/home/marcos/Documents/Experiments/envs/crime/lib/python3.7/site-packages/sklego/metrics.py:79: RuntimeWarning:\n",
      "\n",
      "No samples with y_hat == 1 for race == 1, returning 0\n",
      "\n",
      "/home/marcos/Documents/Experiments/envs/crime/lib/python3.7/site-packages/sklego/metrics.py:155: RuntimeWarning:\n",
      "\n",
      "invalid value encountered in double_scalars\n",
      "\n",
      "/home/marcos/Documents/Experiments/envs/crime/lib/python3.7/site-packages/sklego/metrics.py:79: RuntimeWarning:\n",
      "\n",
      "No samples with y_hat == 1 for race == 1, returning 0\n",
      "\n",
      "/home/marcos/Documents/Experiments/envs/crime/lib/python3.7/site-packages/sklego/metrics.py:155: RuntimeWarning:\n",
      "\n",
      "invalid value encountered in double_scalars\n",
      "\n",
      "/home/marcos/Documents/Experiments/envs/crime/lib/python3.7/site-packages/sklego/metrics.py:79: RuntimeWarning:\n",
      "\n",
      "No samples with y_hat == 1 for race == 1, returning 0\n",
      "\n",
      "/home/marcos/Documents/Experiments/envs/crime/lib/python3.7/site-packages/sklego/metrics.py:155: RuntimeWarning:\n",
      "\n",
      "invalid value encountered in double_scalars\n",
      "\n",
      "/home/marcos/Documents/Experiments/envs/crime/lib/python3.7/site-packages/sklego/metrics.py:79: RuntimeWarning:\n",
      "\n",
      "No samples with y_hat == 1 for race == 1, returning 0\n",
      "\n",
      "/home/marcos/Documents/Experiments/envs/crime/lib/python3.7/site-packages/sklego/metrics.py:155: RuntimeWarning:\n",
      "\n",
      "invalid value encountered in double_scalars\n",
      "\n",
      "/home/marcos/Documents/Experiments/envs/crime/lib/python3.7/site-packages/sklego/metrics.py:79: RuntimeWarning:\n",
      "\n",
      "No samples with y_hat == 1 for race == 1, returning 0\n",
      "\n",
      "/home/marcos/Documents/Experiments/envs/crime/lib/python3.7/site-packages/sklego/metrics.py:155: RuntimeWarning:\n",
      "\n",
      "invalid value encountered in double_scalars\n",
      "\n",
      "/home/marcos/Documents/Experiments/envs/crime/lib/python3.7/site-packages/sklego/metrics.py:79: RuntimeWarning:\n",
      "\n",
      "No samples with y_hat == 1 for race == 1, returning 0\n",
      "\n",
      "/home/marcos/Documents/Experiments/envs/crime/lib/python3.7/site-packages/sklego/metrics.py:155: RuntimeWarning:\n",
      "\n",
      "invalid value encountered in double_scalars\n",
      "\n",
      "/home/marcos/Documents/Experiments/envs/crime/lib/python3.7/site-packages/sklego/metrics.py:79: RuntimeWarning:\n",
      "\n",
      "No samples with y_hat == 1 for race == 1, returning 0\n",
      "\n"
     ]
    }
   ],
   "source": [
    "moo = monise(weightedScalar=EqualScalarization(X_train, y_train, fair_feature),\n",
    "             singleScalar=EqualScalarization(X_train, y_train, fair_feature),\n",
    "              nodeTimeLimit=2, targetSize=150,\n",
    "              targetGap=0, nodeGap=0.01, norm=False)\n",
    "\n",
    "moo.optimize()\n",
    "\n",
    "sols = []\n",
    "\n",
    "for solution in moo.solutionsList:\n",
    "    sols.append(solution.x)\n",
    "    metrics_adult_equal_aux[\"Acurácia\"].append(solution.x.score(X_test, y_test))\n",
    "    metrics_adult_equal_aux[\"Igualdade de Oportunidade\"].append(equal_opportunity_score(sensitive_column=fair_feature)(solution.x,\n",
    "                                                                                                            X_test, y_test))\n",
    "    metrics_adult_equal_aux[\"P porcento\"].append(p_percent_score(sensitive_column=fair_feature)(solution.x,X_test))\n",
    "    metrics_adult_equal_aux[\"Coeficiente de variação\"].append(coefficient_of_variation(solution.x, X_test, y_test))"
   ]
  },
  {
   "cell_type": "code",
   "execution_count": 51,
   "metadata": {},
   "outputs": [],
   "source": [
    "metrics_adult_equal = pd.DataFrame(data=metrics_adult_equal_aux, columns=['Acurácia','Igualdade de Oportunidade','P porcento',\n",
    "                                     'Coeficiente de variação'])\n",
    "\n",
    "metrics_adult_equal['cv_aux'] = 1/metrics_adult_equal['Coeficiente de variação']\n",
    "\n",
    "metrics_adult_equal = metrics_adult_equal.drop('Coeficiente de variação', axis=1)\n",
    "dominate_metr = [any([dominate(other, row) for other in metrics_adult_equal.values]) for row in metrics_adult_equal.values]\n",
    "metrics_adult_equal['dominated'] = dominate_metr"
   ]
  },
  {
   "cell_type": "code",
   "execution_count": 52,
   "metadata": {},
   "outputs": [
    {
     "data": {
      "application/vnd.plotly.v1+json": {
       "config": {
        "plotlyServerURL": "https://plot.ly"
       },
       "data": [
        {
         "dimensions": [
          {
           "label": "Acurácia",
           "range": [
            0,
            1
           ],
           "values": [
            0.7884,
            0.2518,
            0.2518,
            0.7482,
            0.787,
            0.7482,
            0.7482,
            0.7482,
            0.7482,
            0.7482,
            0.7482,
            0.7482,
            0.7482,
            0.7482,
            0.7482,
            0.7482,
            0.7482,
            0.7482,
            0.7482,
            0.7482,
            0.7482,
            0.7482,
            0.7482,
            0.7482,
            0.7482,
            0.7482,
            0.7482,
            0.7482,
            0.7482,
            0.7482,
            0.7482,
            0.7482,
            0.7482,
            0.7482,
            0.7482,
            0.7482,
            0.7482,
            0.7482,
            0.7482,
            0.7482,
            0.7482,
            0.7482,
            0.7482,
            0.7482,
            0.7482,
            0.7482,
            0.7482,
            0.7482,
            0.7482,
            0.7482,
            0.7482,
            0.7482,
            0.7482,
            0.7482,
            0.7482,
            0.7482,
            0.7482,
            0.7482,
            0.7482,
            0.7482,
            0.7482,
            0.7482,
            0.7482,
            0.7482,
            0.7482,
            0.7482,
            0.7482,
            0.7482,
            0.7482,
            0.7482,
            0.7482,
            0.7482,
            0.7482,
            0.7482,
            0.7482,
            0.7482,
            0.7482,
            0.7482,
            0.7482,
            0.7482,
            0.7482,
            0.7482,
            0.7482,
            0.7482,
            0.7482,
            0.7482,
            0.7482,
            0.7482,
            0.7482,
            0.7482,
            0.7482,
            0.7482,
            0.7482,
            0.7482,
            0.7482,
            0.7482,
            0.7482,
            0.7482,
            0.7482,
            0.7482,
            0.7482,
            0.7482,
            0.7482,
            0.7482,
            0.7482,
            0.7482,
            0.7482,
            0.7482,
            0.7482,
            0.7482,
            0.7482,
            0.7482,
            0.7482,
            0.7482,
            0.7482,
            0.7482,
            0.7482,
            0.7482,
            0.7482,
            0.7482,
            0.7482,
            0.7482,
            0.7482,
            0.7482,
            0.7482,
            0.7482,
            0.7482,
            0.7482,
            0.7482,
            0.7482,
            0.7482,
            0.7482,
            0.7482,
            0.7482,
            0.7482,
            0.7482,
            0.7482,
            0.7482,
            0.7482,
            0.7482,
            0.7482,
            0.7482,
            0.7482,
            0.7482,
            0.7482,
            0.7482,
            0.7482,
            0.7482,
            0.7482,
            0.7482
           ]
          },
          {
           "label": "Igualdade de Oportunidade",
           "range": [
            0,
            1
           ],
           "values": [
            0.932735816219979,
            1,
            1,
            1,
            0.9122242647058824,
            1,
            1,
            1,
            1,
            1,
            1,
            1,
            1,
            1,
            1,
            1,
            1,
            1,
            1,
            1,
            1,
            1,
            1,
            1,
            1,
            1,
            1,
            1,
            1,
            1,
            1,
            1,
            1,
            1,
            1,
            1,
            1,
            1,
            1,
            1,
            1,
            1,
            1,
            1,
            1,
            1,
            1,
            1,
            1,
            1,
            1,
            1,
            1,
            1,
            1,
            1,
            1,
            1,
            1,
            1,
            1,
            1,
            1,
            1,
            1,
            1,
            1,
            1,
            1,
            1,
            1,
            1,
            1,
            1,
            1,
            1,
            1,
            1,
            1,
            1,
            1,
            1,
            1,
            1,
            1,
            1,
            1,
            1,
            1,
            1,
            1,
            1,
            1,
            1,
            1,
            1,
            1,
            1,
            1,
            1,
            1,
            1,
            1,
            1,
            1,
            1,
            1,
            1,
            1,
            1,
            1,
            1,
            1,
            1,
            1,
            1,
            1,
            1,
            1,
            1,
            1,
            1,
            1,
            1,
            1,
            1,
            1,
            1,
            1,
            1,
            1,
            1,
            1,
            1,
            1,
            1,
            1,
            1,
            1,
            1,
            1,
            1,
            1,
            1,
            1,
            1,
            1,
            1,
            1,
            1
           ]
          },
          {
           "label": "P porcento",
           "range": [
            0,
            1
           ],
           "values": [
            0.5205820243570829,
            1,
            1,
            0,
            0.4823039343308268,
            0,
            0,
            0,
            0,
            0,
            0,
            0,
            0,
            0,
            0,
            0,
            0,
            0,
            0,
            0,
            0,
            0,
            0,
            0,
            0,
            0,
            0,
            0,
            0,
            0,
            0,
            0,
            0,
            0,
            0,
            0,
            0,
            0,
            0,
            0,
            0,
            0,
            0,
            0,
            0,
            0,
            0,
            0,
            0,
            0,
            0,
            0,
            0,
            0,
            0,
            0,
            0,
            0,
            0,
            0,
            0,
            0,
            0,
            0,
            0,
            0,
            0,
            0,
            0,
            0,
            0,
            0,
            0,
            0,
            0,
            0,
            0,
            0,
            0,
            0,
            0,
            0,
            0,
            0,
            0,
            0,
            0,
            0,
            0,
            0,
            0,
            0,
            0,
            0,
            0,
            0,
            0,
            0,
            0,
            0,
            0,
            0,
            0,
            0,
            0,
            0,
            0,
            0,
            0,
            0,
            0,
            0,
            0,
            0,
            0,
            0,
            0,
            0,
            0,
            0,
            0,
            0,
            0,
            0,
            0,
            0,
            0,
            0,
            0,
            0,
            0,
            0,
            0,
            0,
            0,
            0,
            0,
            0,
            0,
            0,
            0,
            0,
            0,
            0,
            0,
            0,
            0,
            0,
            0,
            0
           ]
          },
          {
           "label": "cv_aux",
           "range": [
            1.2,
            3
           ],
           "values": [
            1.38237196706377,
            2.8479961852618807,
            2.8479961852618807,
            1.2188941458717195,
            1.3680752075682099,
            1.2188941458717195,
            1.2188941458717195,
            1.2188941458717195,
            1.2188941458717195,
            1.2188941458717195,
            1.2188941458717195,
            1.2188941458717195,
            1.2188941458717195,
            1.2188941458717195,
            1.2188941458717195,
            1.2188941458717195,
            1.2188941458717195,
            1.2188941458717195,
            1.2188941458717195,
            1.2188941458717195,
            1.2188941458717195,
            1.2188941458717195,
            1.2188941458717195,
            1.2188941458717195,
            1.2188941458717195,
            1.2188941458717195,
            1.2188941458717195,
            1.2188941458717195,
            1.2188941458717195,
            1.2188941458717195,
            1.2188941458717195,
            1.2188941458717195,
            1.2188941458717195,
            1.2188941458717195,
            1.2188941458717195,
            1.2188941458717195,
            1.2188941458717195,
            1.2188941458717195,
            1.2188941458717195,
            1.2188941458717195,
            1.2188941458717195,
            1.2188941458717195,
            1.2188941458717195,
            1.2188941458717195,
            1.2188941458717195,
            1.2188941458717195,
            1.2188941458717195,
            1.2188941458717195,
            1.2188941458717195,
            1.2188941458717195,
            1.2188941458717195,
            1.2188941458717195,
            1.2188941458717195,
            1.2188941458717195,
            1.2188941458717195,
            1.2188941458717195,
            1.2188941458717195,
            1.2188941458717195,
            1.2188941458717195,
            1.2188941458717195,
            1.2188941458717195,
            1.2188941458717195,
            1.2188941458717195,
            1.2188941458717195,
            1.2188941458717195,
            1.2188941458717195,
            1.2188941458717195,
            1.2188941458717195,
            1.2188941458717195,
            1.2188941458717195,
            1.2188941458717195,
            1.2188941458717195,
            1.2188941458717195,
            1.2188941458717195,
            1.2188941458717195,
            1.2188941458717195,
            1.2188941458717195,
            1.2188941458717195,
            1.2188941458717195,
            1.2188941458717195,
            1.2188941458717195,
            1.2188941458717195,
            1.2188941458717195,
            1.2188941458717195,
            1.2188941458717195,
            1.2188941458717195,
            1.2188941458717195,
            1.2188941458717195,
            1.2188941458717195,
            1.2188941458717195,
            1.2188941458717195,
            1.2188941458717195,
            1.2188941458717195,
            1.2188941458717195,
            1.2188941458717195,
            1.2188941458717195,
            1.2188941458717195,
            1.2188941458717195,
            1.2188941458717195,
            1.2188941458717195,
            1.2188941458717195,
            1.2188941458717195,
            1.2188941458717195,
            1.2188941458717195,
            1.2188941458717195,
            1.2188941458717195,
            1.2188941458717195,
            1.2188941458717195,
            1.2188941458717195,
            1.2188941458717195,
            1.2188941458717195,
            1.2188941458717195,
            1.2188941458717195,
            1.2188941458717195,
            1.2188941458717195,
            1.2188941458717195,
            1.2188941458717195,
            1.2188941458717195,
            1.2188941458717195,
            1.2188941458717195,
            1.2188941458717195,
            1.2188941458717195,
            1.2188941458717195,
            1.2188941458717195,
            1.2188941458717195,
            1.2188941458717195,
            1.2188941458717195,
            1.2188941458717195,
            1.2188941458717195,
            1.2188941458717195,
            1.2188941458717195,
            1.2188941458717195,
            1.2188941458717195,
            1.2188941458717195,
            1.2188941458717195,
            1.2188941458717195,
            1.2188941458717195,
            1.2188941458717195,
            1.2188941458717195,
            1.2188941458717195,
            1.2188941458717195,
            1.2188941458717195,
            1.2188941458717195,
            1.2188941458717195,
            1.2188941458717195,
            1.2188941458717195,
            1.2188941458717195,
            1.2188941458717195,
            1.2188941458717195,
            1.2188941458717195
           ]
          }
         ],
         "type": "parcoords"
        }
       ],
       "layout": {
        "paper_bgcolor": "white",
        "plot_bgcolor": "white",
        "template": {
         "data": {
          "bar": [
           {
            "error_x": {
             "color": "#2a3f5f"
            },
            "error_y": {
             "color": "#2a3f5f"
            },
            "marker": {
             "line": {
              "color": "#E5ECF6",
              "width": 0.5
             }
            },
            "type": "bar"
           }
          ],
          "barpolar": [
           {
            "marker": {
             "line": {
              "color": "#E5ECF6",
              "width": 0.5
             }
            },
            "type": "barpolar"
           }
          ],
          "carpet": [
           {
            "aaxis": {
             "endlinecolor": "#2a3f5f",
             "gridcolor": "white",
             "linecolor": "white",
             "minorgridcolor": "white",
             "startlinecolor": "#2a3f5f"
            },
            "baxis": {
             "endlinecolor": "#2a3f5f",
             "gridcolor": "white",
             "linecolor": "white",
             "minorgridcolor": "white",
             "startlinecolor": "#2a3f5f"
            },
            "type": "carpet"
           }
          ],
          "choropleth": [
           {
            "colorbar": {
             "outlinewidth": 0,
             "ticks": ""
            },
            "type": "choropleth"
           }
          ],
          "contour": [
           {
            "colorbar": {
             "outlinewidth": 0,
             "ticks": ""
            },
            "colorscale": [
             [
              0,
              "#0d0887"
             ],
             [
              0.1111111111111111,
              "#46039f"
             ],
             [
              0.2222222222222222,
              "#7201a8"
             ],
             [
              0.3333333333333333,
              "#9c179e"
             ],
             [
              0.4444444444444444,
              "#bd3786"
             ],
             [
              0.5555555555555556,
              "#d8576b"
             ],
             [
              0.6666666666666666,
              "#ed7953"
             ],
             [
              0.7777777777777778,
              "#fb9f3a"
             ],
             [
              0.8888888888888888,
              "#fdca26"
             ],
             [
              1,
              "#f0f921"
             ]
            ],
            "type": "contour"
           }
          ],
          "contourcarpet": [
           {
            "colorbar": {
             "outlinewidth": 0,
             "ticks": ""
            },
            "type": "contourcarpet"
           }
          ],
          "heatmap": [
           {
            "colorbar": {
             "outlinewidth": 0,
             "ticks": ""
            },
            "colorscale": [
             [
              0,
              "#0d0887"
             ],
             [
              0.1111111111111111,
              "#46039f"
             ],
             [
              0.2222222222222222,
              "#7201a8"
             ],
             [
              0.3333333333333333,
              "#9c179e"
             ],
             [
              0.4444444444444444,
              "#bd3786"
             ],
             [
              0.5555555555555556,
              "#d8576b"
             ],
             [
              0.6666666666666666,
              "#ed7953"
             ],
             [
              0.7777777777777778,
              "#fb9f3a"
             ],
             [
              0.8888888888888888,
              "#fdca26"
             ],
             [
              1,
              "#f0f921"
             ]
            ],
            "type": "heatmap"
           }
          ],
          "heatmapgl": [
           {
            "colorbar": {
             "outlinewidth": 0,
             "ticks": ""
            },
            "colorscale": [
             [
              0,
              "#0d0887"
             ],
             [
              0.1111111111111111,
              "#46039f"
             ],
             [
              0.2222222222222222,
              "#7201a8"
             ],
             [
              0.3333333333333333,
              "#9c179e"
             ],
             [
              0.4444444444444444,
              "#bd3786"
             ],
             [
              0.5555555555555556,
              "#d8576b"
             ],
             [
              0.6666666666666666,
              "#ed7953"
             ],
             [
              0.7777777777777778,
              "#fb9f3a"
             ],
             [
              0.8888888888888888,
              "#fdca26"
             ],
             [
              1,
              "#f0f921"
             ]
            ],
            "type": "heatmapgl"
           }
          ],
          "histogram": [
           {
            "marker": {
             "colorbar": {
              "outlinewidth": 0,
              "ticks": ""
             }
            },
            "type": "histogram"
           }
          ],
          "histogram2d": [
           {
            "colorbar": {
             "outlinewidth": 0,
             "ticks": ""
            },
            "colorscale": [
             [
              0,
              "#0d0887"
             ],
             [
              0.1111111111111111,
              "#46039f"
             ],
             [
              0.2222222222222222,
              "#7201a8"
             ],
             [
              0.3333333333333333,
              "#9c179e"
             ],
             [
              0.4444444444444444,
              "#bd3786"
             ],
             [
              0.5555555555555556,
              "#d8576b"
             ],
             [
              0.6666666666666666,
              "#ed7953"
             ],
             [
              0.7777777777777778,
              "#fb9f3a"
             ],
             [
              0.8888888888888888,
              "#fdca26"
             ],
             [
              1,
              "#f0f921"
             ]
            ],
            "type": "histogram2d"
           }
          ],
          "histogram2dcontour": [
           {
            "colorbar": {
             "outlinewidth": 0,
             "ticks": ""
            },
            "colorscale": [
             [
              0,
              "#0d0887"
             ],
             [
              0.1111111111111111,
              "#46039f"
             ],
             [
              0.2222222222222222,
              "#7201a8"
             ],
             [
              0.3333333333333333,
              "#9c179e"
             ],
             [
              0.4444444444444444,
              "#bd3786"
             ],
             [
              0.5555555555555556,
              "#d8576b"
             ],
             [
              0.6666666666666666,
              "#ed7953"
             ],
             [
              0.7777777777777778,
              "#fb9f3a"
             ],
             [
              0.8888888888888888,
              "#fdca26"
             ],
             [
              1,
              "#f0f921"
             ]
            ],
            "type": "histogram2dcontour"
           }
          ],
          "mesh3d": [
           {
            "colorbar": {
             "outlinewidth": 0,
             "ticks": ""
            },
            "type": "mesh3d"
           }
          ],
          "parcoords": [
           {
            "line": {
             "colorbar": {
              "outlinewidth": 0,
              "ticks": ""
             }
            },
            "type": "parcoords"
           }
          ],
          "pie": [
           {
            "automargin": true,
            "type": "pie"
           }
          ],
          "scatter": [
           {
            "marker": {
             "colorbar": {
              "outlinewidth": 0,
              "ticks": ""
             }
            },
            "type": "scatter"
           }
          ],
          "scatter3d": [
           {
            "line": {
             "colorbar": {
              "outlinewidth": 0,
              "ticks": ""
             }
            },
            "marker": {
             "colorbar": {
              "outlinewidth": 0,
              "ticks": ""
             }
            },
            "type": "scatter3d"
           }
          ],
          "scattercarpet": [
           {
            "marker": {
             "colorbar": {
              "outlinewidth": 0,
              "ticks": ""
             }
            },
            "type": "scattercarpet"
           }
          ],
          "scattergeo": [
           {
            "marker": {
             "colorbar": {
              "outlinewidth": 0,
              "ticks": ""
             }
            },
            "type": "scattergeo"
           }
          ],
          "scattergl": [
           {
            "marker": {
             "colorbar": {
              "outlinewidth": 0,
              "ticks": ""
             }
            },
            "type": "scattergl"
           }
          ],
          "scattermapbox": [
           {
            "marker": {
             "colorbar": {
              "outlinewidth": 0,
              "ticks": ""
             }
            },
            "type": "scattermapbox"
           }
          ],
          "scatterpolar": [
           {
            "marker": {
             "colorbar": {
              "outlinewidth": 0,
              "ticks": ""
             }
            },
            "type": "scatterpolar"
           }
          ],
          "scatterpolargl": [
           {
            "marker": {
             "colorbar": {
              "outlinewidth": 0,
              "ticks": ""
             }
            },
            "type": "scatterpolargl"
           }
          ],
          "scatterternary": [
           {
            "marker": {
             "colorbar": {
              "outlinewidth": 0,
              "ticks": ""
             }
            },
            "type": "scatterternary"
           }
          ],
          "surface": [
           {
            "colorbar": {
             "outlinewidth": 0,
             "ticks": ""
            },
            "colorscale": [
             [
              0,
              "#0d0887"
             ],
             [
              0.1111111111111111,
              "#46039f"
             ],
             [
              0.2222222222222222,
              "#7201a8"
             ],
             [
              0.3333333333333333,
              "#9c179e"
             ],
             [
              0.4444444444444444,
              "#bd3786"
             ],
             [
              0.5555555555555556,
              "#d8576b"
             ],
             [
              0.6666666666666666,
              "#ed7953"
             ],
             [
              0.7777777777777778,
              "#fb9f3a"
             ],
             [
              0.8888888888888888,
              "#fdca26"
             ],
             [
              1,
              "#f0f921"
             ]
            ],
            "type": "surface"
           }
          ],
          "table": [
           {
            "cells": {
             "fill": {
              "color": "#EBF0F8"
             },
             "line": {
              "color": "white"
             }
            },
            "header": {
             "fill": {
              "color": "#C8D4E3"
             },
             "line": {
              "color": "white"
             }
            },
            "type": "table"
           }
          ]
         },
         "layout": {
          "annotationdefaults": {
           "arrowcolor": "#2a3f5f",
           "arrowhead": 0,
           "arrowwidth": 1
          },
          "coloraxis": {
           "colorbar": {
            "outlinewidth": 0,
            "ticks": ""
           }
          },
          "colorscale": {
           "diverging": [
            [
             0,
             "#8e0152"
            ],
            [
             0.1,
             "#c51b7d"
            ],
            [
             0.2,
             "#de77ae"
            ],
            [
             0.3,
             "#f1b6da"
            ],
            [
             0.4,
             "#fde0ef"
            ],
            [
             0.5,
             "#f7f7f7"
            ],
            [
             0.6,
             "#e6f5d0"
            ],
            [
             0.7,
             "#b8e186"
            ],
            [
             0.8,
             "#7fbc41"
            ],
            [
             0.9,
             "#4d9221"
            ],
            [
             1,
             "#276419"
            ]
           ],
           "sequential": [
            [
             0,
             "#0d0887"
            ],
            [
             0.1111111111111111,
             "#46039f"
            ],
            [
             0.2222222222222222,
             "#7201a8"
            ],
            [
             0.3333333333333333,
             "#9c179e"
            ],
            [
             0.4444444444444444,
             "#bd3786"
            ],
            [
             0.5555555555555556,
             "#d8576b"
            ],
            [
             0.6666666666666666,
             "#ed7953"
            ],
            [
             0.7777777777777778,
             "#fb9f3a"
            ],
            [
             0.8888888888888888,
             "#fdca26"
            ],
            [
             1,
             "#f0f921"
            ]
           ],
           "sequentialminus": [
            [
             0,
             "#0d0887"
            ],
            [
             0.1111111111111111,
             "#46039f"
            ],
            [
             0.2222222222222222,
             "#7201a8"
            ],
            [
             0.3333333333333333,
             "#9c179e"
            ],
            [
             0.4444444444444444,
             "#bd3786"
            ],
            [
             0.5555555555555556,
             "#d8576b"
            ],
            [
             0.6666666666666666,
             "#ed7953"
            ],
            [
             0.7777777777777778,
             "#fb9f3a"
            ],
            [
             0.8888888888888888,
             "#fdca26"
            ],
            [
             1,
             "#f0f921"
            ]
           ]
          },
          "colorway": [
           "#636efa",
           "#EF553B",
           "#00cc96",
           "#ab63fa",
           "#FFA15A",
           "#19d3f3",
           "#FF6692",
           "#B6E880",
           "#FF97FF",
           "#FECB52"
          ],
          "font": {
           "color": "#2a3f5f"
          },
          "geo": {
           "bgcolor": "white",
           "lakecolor": "white",
           "landcolor": "#E5ECF6",
           "showlakes": true,
           "showland": true,
           "subunitcolor": "white"
          },
          "hoverlabel": {
           "align": "left"
          },
          "hovermode": "closest",
          "mapbox": {
           "style": "light"
          },
          "paper_bgcolor": "white",
          "plot_bgcolor": "#E5ECF6",
          "polar": {
           "angularaxis": {
            "gridcolor": "white",
            "linecolor": "white",
            "ticks": ""
           },
           "bgcolor": "#E5ECF6",
           "radialaxis": {
            "gridcolor": "white",
            "linecolor": "white",
            "ticks": ""
           }
          },
          "scene": {
           "xaxis": {
            "backgroundcolor": "#E5ECF6",
            "gridcolor": "white",
            "gridwidth": 2,
            "linecolor": "white",
            "showbackground": true,
            "ticks": "",
            "zerolinecolor": "white"
           },
           "yaxis": {
            "backgroundcolor": "#E5ECF6",
            "gridcolor": "white",
            "gridwidth": 2,
            "linecolor": "white",
            "showbackground": true,
            "ticks": "",
            "zerolinecolor": "white"
           },
           "zaxis": {
            "backgroundcolor": "#E5ECF6",
            "gridcolor": "white",
            "gridwidth": 2,
            "linecolor": "white",
            "showbackground": true,
            "ticks": "",
            "zerolinecolor": "white"
           }
          },
          "shapedefaults": {
           "line": {
            "color": "#2a3f5f"
           }
          },
          "ternary": {
           "aaxis": {
            "gridcolor": "white",
            "linecolor": "white",
            "ticks": ""
           },
           "baxis": {
            "gridcolor": "white",
            "linecolor": "white",
            "ticks": ""
           },
           "bgcolor": "#E5ECF6",
           "caxis": {
            "gridcolor": "white",
            "linecolor": "white",
            "ticks": ""
           }
          },
          "title": {
           "x": 0.05
          },
          "xaxis": {
           "automargin": true,
           "gridcolor": "white",
           "linecolor": "white",
           "ticks": "",
           "title": {
            "standoff": 15
           },
           "zerolinecolor": "white",
           "zerolinewidth": 2
          },
          "yaxis": {
           "automargin": true,
           "gridcolor": "white",
           "linecolor": "white",
           "ticks": "",
           "title": {
            "standoff": 15
           },
           "zerolinecolor": "white",
           "zerolinewidth": 2
          }
         }
        }
       }
      },
      "text/html": [
       "<div>\n",
       "        \n",
       "        \n",
       "            <div id=\"6e5cb07a-4184-40c8-85c3-b984f4ace4fd\" class=\"plotly-graph-div\" style=\"height:525px; width:100%;\"></div>\n",
       "            <script type=\"text/javascript\">\n",
       "                require([\"plotly\"], function(Plotly) {\n",
       "                    window.PLOTLYENV=window.PLOTLYENV || {};\n",
       "                    \n",
       "                if (document.getElementById(\"6e5cb07a-4184-40c8-85c3-b984f4ace4fd\")) {\n",
       "                    Plotly.newPlot(\n",
       "                        '6e5cb07a-4184-40c8-85c3-b984f4ace4fd',\n",
       "                        [{\"dimensions\": [{\"label\": \"Acur\\u00e1cia\", \"range\": [0, 1], \"values\": [0.7884, 0.2518, 0.2518, 0.7482, 0.787, 0.7482, 0.7482, 0.7482, 0.7482, 0.7482, 0.7482, 0.7482, 0.7482, 0.7482, 0.7482, 0.7482, 0.7482, 0.7482, 0.7482, 0.7482, 0.7482, 0.7482, 0.7482, 0.7482, 0.7482, 0.7482, 0.7482, 0.7482, 0.7482, 0.7482, 0.7482, 0.7482, 0.7482, 0.7482, 0.7482, 0.7482, 0.7482, 0.7482, 0.7482, 0.7482, 0.7482, 0.7482, 0.7482, 0.7482, 0.7482, 0.7482, 0.7482, 0.7482, 0.7482, 0.7482, 0.7482, 0.7482, 0.7482, 0.7482, 0.7482, 0.7482, 0.7482, 0.7482, 0.7482, 0.7482, 0.7482, 0.7482, 0.7482, 0.7482, 0.7482, 0.7482, 0.7482, 0.7482, 0.7482, 0.7482, 0.7482, 0.7482, 0.7482, 0.7482, 0.7482, 0.7482, 0.7482, 0.7482, 0.7482, 0.7482, 0.7482, 0.7482, 0.7482, 0.7482, 0.7482, 0.7482, 0.7482, 0.7482, 0.7482, 0.7482, 0.7482, 0.7482, 0.7482, 0.7482, 0.7482, 0.7482, 0.7482, 0.7482, 0.7482, 0.7482, 0.7482, 0.7482, 0.7482, 0.7482, 0.7482, 0.7482, 0.7482, 0.7482, 0.7482, 0.7482, 0.7482, 0.7482, 0.7482, 0.7482, 0.7482, 0.7482, 0.7482, 0.7482, 0.7482, 0.7482, 0.7482, 0.7482, 0.7482, 0.7482, 0.7482, 0.7482, 0.7482, 0.7482, 0.7482, 0.7482, 0.7482, 0.7482, 0.7482, 0.7482, 0.7482, 0.7482, 0.7482, 0.7482, 0.7482, 0.7482, 0.7482, 0.7482, 0.7482, 0.7482, 0.7482, 0.7482, 0.7482, 0.7482, 0.7482, 0.7482]}, {\"label\": \"Igualdade de Oportunidade\", \"range\": [0, 1], \"values\": [0.932735816219979, 1.0, 1.0, 1.0, 0.9122242647058824, 1.0, 1.0, 1.0, 1.0, 1.0, 1.0, 1.0, 1.0, 1.0, 1.0, 1.0, 1.0, 1.0, 1.0, 1.0, 1.0, 1.0, 1.0, 1.0, 1.0, 1.0, 1.0, 1.0, 1.0, 1.0, 1.0, 1.0, 1.0, 1.0, 1.0, 1.0, 1.0, 1.0, 1.0, 1.0, 1.0, 1.0, 1.0, 1.0, 1.0, 1.0, 1.0, 1.0, 1.0, 1.0, 1.0, 1.0, 1.0, 1.0, 1.0, 1.0, 1.0, 1.0, 1.0, 1.0, 1.0, 1.0, 1.0, 1.0, 1.0, 1.0, 1.0, 1.0, 1.0, 1.0, 1.0, 1.0, 1.0, 1.0, 1.0, 1.0, 1.0, 1.0, 1.0, 1.0, 1.0, 1.0, 1.0, 1.0, 1.0, 1.0, 1.0, 1.0, 1.0, 1.0, 1.0, 1.0, 1.0, 1.0, 1.0, 1.0, 1.0, 1.0, 1.0, 1.0, 1.0, 1.0, 1.0, 1.0, 1.0, 1.0, 1.0, 1.0, 1.0, 1.0, 1.0, 1.0, 1.0, 1.0, 1.0, 1.0, 1.0, 1.0, 1.0, 1.0, 1.0, 1.0, 1.0, 1.0, 1.0, 1.0, 1.0, 1.0, 1.0, 1.0, 1.0, 1.0, 1.0, 1.0, 1.0, 1.0, 1.0, 1.0, 1.0, 1.0, 1.0, 1.0, 1.0, 1.0, 1.0, 1.0, 1.0, 1.0, 1.0, 1.0]}, {\"label\": \"P porcento\", \"range\": [0, 1], \"values\": [0.5205820243570829, 1.0, 1.0, 0.0, 0.4823039343308268, 0.0, 0.0, 0.0, 0.0, 0.0, 0.0, 0.0, 0.0, 0.0, 0.0, 0.0, 0.0, 0.0, 0.0, 0.0, 0.0, 0.0, 0.0, 0.0, 0.0, 0.0, 0.0, 0.0, 0.0, 0.0, 0.0, 0.0, 0.0, 0.0, 0.0, 0.0, 0.0, 0.0, 0.0, 0.0, 0.0, 0.0, 0.0, 0.0, 0.0, 0.0, 0.0, 0.0, 0.0, 0.0, 0.0, 0.0, 0.0, 0.0, 0.0, 0.0, 0.0, 0.0, 0.0, 0.0, 0.0, 0.0, 0.0, 0.0, 0.0, 0.0, 0.0, 0.0, 0.0, 0.0, 0.0, 0.0, 0.0, 0.0, 0.0, 0.0, 0.0, 0.0, 0.0, 0.0, 0.0, 0.0, 0.0, 0.0, 0.0, 0.0, 0.0, 0.0, 0.0, 0.0, 0.0, 0.0, 0.0, 0.0, 0.0, 0.0, 0.0, 0.0, 0.0, 0.0, 0.0, 0.0, 0.0, 0.0, 0.0, 0.0, 0.0, 0.0, 0.0, 0.0, 0.0, 0.0, 0.0, 0.0, 0.0, 0.0, 0.0, 0.0, 0.0, 0.0, 0.0, 0.0, 0.0, 0.0, 0.0, 0.0, 0.0, 0.0, 0.0, 0.0, 0.0, 0.0, 0.0, 0.0, 0.0, 0.0, 0.0, 0.0, 0.0, 0.0, 0.0, 0.0, 0.0, 0.0, 0.0, 0.0, 0.0, 0.0, 0.0, 0.0]}, {\"label\": \"cv_aux\", \"range\": [1.2, 3], \"values\": [1.38237196706377, 2.8479961852618807, 2.8479961852618807, 1.2188941458717195, 1.3680752075682099, 1.2188941458717195, 1.2188941458717195, 1.2188941458717195, 1.2188941458717195, 1.2188941458717195, 1.2188941458717195, 1.2188941458717195, 1.2188941458717195, 1.2188941458717195, 1.2188941458717195, 1.2188941458717195, 1.2188941458717195, 1.2188941458717195, 1.2188941458717195, 1.2188941458717195, 1.2188941458717195, 1.2188941458717195, 1.2188941458717195, 1.2188941458717195, 1.2188941458717195, 1.2188941458717195, 1.2188941458717195, 1.2188941458717195, 1.2188941458717195, 1.2188941458717195, 1.2188941458717195, 1.2188941458717195, 1.2188941458717195, 1.2188941458717195, 1.2188941458717195, 1.2188941458717195, 1.2188941458717195, 1.2188941458717195, 1.2188941458717195, 1.2188941458717195, 1.2188941458717195, 1.2188941458717195, 1.2188941458717195, 1.2188941458717195, 1.2188941458717195, 1.2188941458717195, 1.2188941458717195, 1.2188941458717195, 1.2188941458717195, 1.2188941458717195, 1.2188941458717195, 1.2188941458717195, 1.2188941458717195, 1.2188941458717195, 1.2188941458717195, 1.2188941458717195, 1.2188941458717195, 1.2188941458717195, 1.2188941458717195, 1.2188941458717195, 1.2188941458717195, 1.2188941458717195, 1.2188941458717195, 1.2188941458717195, 1.2188941458717195, 1.2188941458717195, 1.2188941458717195, 1.2188941458717195, 1.2188941458717195, 1.2188941458717195, 1.2188941458717195, 1.2188941458717195, 1.2188941458717195, 1.2188941458717195, 1.2188941458717195, 1.2188941458717195, 1.2188941458717195, 1.2188941458717195, 1.2188941458717195, 1.2188941458717195, 1.2188941458717195, 1.2188941458717195, 1.2188941458717195, 1.2188941458717195, 1.2188941458717195, 1.2188941458717195, 1.2188941458717195, 1.2188941458717195, 1.2188941458717195, 1.2188941458717195, 1.2188941458717195, 1.2188941458717195, 1.2188941458717195, 1.2188941458717195, 1.2188941458717195, 1.2188941458717195, 1.2188941458717195, 1.2188941458717195, 1.2188941458717195, 1.2188941458717195, 1.2188941458717195, 1.2188941458717195, 1.2188941458717195, 1.2188941458717195, 1.2188941458717195, 1.2188941458717195, 1.2188941458717195, 1.2188941458717195, 1.2188941458717195, 1.2188941458717195, 1.2188941458717195, 1.2188941458717195, 1.2188941458717195, 1.2188941458717195, 1.2188941458717195, 1.2188941458717195, 1.2188941458717195, 1.2188941458717195, 1.2188941458717195, 1.2188941458717195, 1.2188941458717195, 1.2188941458717195, 1.2188941458717195, 1.2188941458717195, 1.2188941458717195, 1.2188941458717195, 1.2188941458717195, 1.2188941458717195, 1.2188941458717195, 1.2188941458717195, 1.2188941458717195, 1.2188941458717195, 1.2188941458717195, 1.2188941458717195, 1.2188941458717195, 1.2188941458717195, 1.2188941458717195, 1.2188941458717195, 1.2188941458717195, 1.2188941458717195, 1.2188941458717195, 1.2188941458717195, 1.2188941458717195, 1.2188941458717195, 1.2188941458717195, 1.2188941458717195, 1.2188941458717195, 1.2188941458717195, 1.2188941458717195, 1.2188941458717195]}], \"type\": \"parcoords\"}],\n",
       "                        {\"paper_bgcolor\": \"white\", \"plot_bgcolor\": \"white\", \"template\": {\"data\": {\"bar\": [{\"error_x\": {\"color\": \"#2a3f5f\"}, \"error_y\": {\"color\": \"#2a3f5f\"}, \"marker\": {\"line\": {\"color\": \"#E5ECF6\", \"width\": 0.5}}, \"type\": \"bar\"}], \"barpolar\": [{\"marker\": {\"line\": {\"color\": \"#E5ECF6\", \"width\": 0.5}}, \"type\": \"barpolar\"}], \"carpet\": [{\"aaxis\": {\"endlinecolor\": \"#2a3f5f\", \"gridcolor\": \"white\", \"linecolor\": \"white\", \"minorgridcolor\": \"white\", \"startlinecolor\": \"#2a3f5f\"}, \"baxis\": {\"endlinecolor\": \"#2a3f5f\", \"gridcolor\": \"white\", \"linecolor\": \"white\", \"minorgridcolor\": \"white\", \"startlinecolor\": \"#2a3f5f\"}, \"type\": \"carpet\"}], \"choropleth\": [{\"colorbar\": {\"outlinewidth\": 0, \"ticks\": \"\"}, \"type\": \"choropleth\"}], \"contour\": [{\"colorbar\": {\"outlinewidth\": 0, \"ticks\": \"\"}, \"colorscale\": [[0.0, \"#0d0887\"], [0.1111111111111111, \"#46039f\"], [0.2222222222222222, \"#7201a8\"], [0.3333333333333333, \"#9c179e\"], [0.4444444444444444, \"#bd3786\"], [0.5555555555555556, \"#d8576b\"], [0.6666666666666666, \"#ed7953\"], [0.7777777777777778, \"#fb9f3a\"], [0.8888888888888888, \"#fdca26\"], [1.0, \"#f0f921\"]], \"type\": \"contour\"}], \"contourcarpet\": [{\"colorbar\": {\"outlinewidth\": 0, \"ticks\": \"\"}, \"type\": \"contourcarpet\"}], \"heatmap\": [{\"colorbar\": {\"outlinewidth\": 0, \"ticks\": \"\"}, \"colorscale\": [[0.0, \"#0d0887\"], [0.1111111111111111, \"#46039f\"], [0.2222222222222222, \"#7201a8\"], [0.3333333333333333, \"#9c179e\"], [0.4444444444444444, \"#bd3786\"], [0.5555555555555556, \"#d8576b\"], [0.6666666666666666, \"#ed7953\"], [0.7777777777777778, \"#fb9f3a\"], [0.8888888888888888, \"#fdca26\"], [1.0, \"#f0f921\"]], \"type\": \"heatmap\"}], \"heatmapgl\": [{\"colorbar\": {\"outlinewidth\": 0, \"ticks\": \"\"}, \"colorscale\": [[0.0, \"#0d0887\"], [0.1111111111111111, \"#46039f\"], [0.2222222222222222, \"#7201a8\"], [0.3333333333333333, \"#9c179e\"], [0.4444444444444444, \"#bd3786\"], [0.5555555555555556, \"#d8576b\"], [0.6666666666666666, \"#ed7953\"], [0.7777777777777778, \"#fb9f3a\"], [0.8888888888888888, \"#fdca26\"], [1.0, \"#f0f921\"]], \"type\": \"heatmapgl\"}], \"histogram\": [{\"marker\": {\"colorbar\": {\"outlinewidth\": 0, \"ticks\": \"\"}}, \"type\": \"histogram\"}], \"histogram2d\": [{\"colorbar\": {\"outlinewidth\": 0, \"ticks\": \"\"}, \"colorscale\": [[0.0, \"#0d0887\"], [0.1111111111111111, \"#46039f\"], [0.2222222222222222, \"#7201a8\"], [0.3333333333333333, \"#9c179e\"], [0.4444444444444444, \"#bd3786\"], [0.5555555555555556, \"#d8576b\"], [0.6666666666666666, \"#ed7953\"], [0.7777777777777778, \"#fb9f3a\"], [0.8888888888888888, \"#fdca26\"], [1.0, \"#f0f921\"]], \"type\": \"histogram2d\"}], \"histogram2dcontour\": [{\"colorbar\": {\"outlinewidth\": 0, \"ticks\": \"\"}, \"colorscale\": [[0.0, \"#0d0887\"], [0.1111111111111111, \"#46039f\"], [0.2222222222222222, \"#7201a8\"], [0.3333333333333333, \"#9c179e\"], [0.4444444444444444, \"#bd3786\"], [0.5555555555555556, \"#d8576b\"], [0.6666666666666666, \"#ed7953\"], [0.7777777777777778, \"#fb9f3a\"], [0.8888888888888888, \"#fdca26\"], [1.0, \"#f0f921\"]], \"type\": \"histogram2dcontour\"}], \"mesh3d\": [{\"colorbar\": {\"outlinewidth\": 0, \"ticks\": \"\"}, \"type\": \"mesh3d\"}], \"parcoords\": [{\"line\": {\"colorbar\": {\"outlinewidth\": 0, \"ticks\": \"\"}}, \"type\": \"parcoords\"}], \"pie\": [{\"automargin\": true, \"type\": \"pie\"}], \"scatter\": [{\"marker\": {\"colorbar\": {\"outlinewidth\": 0, \"ticks\": \"\"}}, \"type\": \"scatter\"}], \"scatter3d\": [{\"line\": {\"colorbar\": {\"outlinewidth\": 0, \"ticks\": \"\"}}, \"marker\": {\"colorbar\": {\"outlinewidth\": 0, \"ticks\": \"\"}}, \"type\": \"scatter3d\"}], \"scattercarpet\": [{\"marker\": {\"colorbar\": {\"outlinewidth\": 0, \"ticks\": \"\"}}, \"type\": \"scattercarpet\"}], \"scattergeo\": [{\"marker\": {\"colorbar\": {\"outlinewidth\": 0, \"ticks\": \"\"}}, \"type\": \"scattergeo\"}], \"scattergl\": [{\"marker\": {\"colorbar\": {\"outlinewidth\": 0, \"ticks\": \"\"}}, \"type\": \"scattergl\"}], \"scattermapbox\": [{\"marker\": {\"colorbar\": {\"outlinewidth\": 0, \"ticks\": \"\"}}, \"type\": \"scattermapbox\"}], \"scatterpolar\": [{\"marker\": {\"colorbar\": {\"outlinewidth\": 0, \"ticks\": \"\"}}, \"type\": \"scatterpolar\"}], \"scatterpolargl\": [{\"marker\": {\"colorbar\": {\"outlinewidth\": 0, \"ticks\": \"\"}}, \"type\": \"scatterpolargl\"}], \"scatterternary\": [{\"marker\": {\"colorbar\": {\"outlinewidth\": 0, \"ticks\": \"\"}}, \"type\": \"scatterternary\"}], \"surface\": [{\"colorbar\": {\"outlinewidth\": 0, \"ticks\": \"\"}, \"colorscale\": [[0.0, \"#0d0887\"], [0.1111111111111111, \"#46039f\"], [0.2222222222222222, \"#7201a8\"], [0.3333333333333333, \"#9c179e\"], [0.4444444444444444, \"#bd3786\"], [0.5555555555555556, \"#d8576b\"], [0.6666666666666666, \"#ed7953\"], [0.7777777777777778, \"#fb9f3a\"], [0.8888888888888888, \"#fdca26\"], [1.0, \"#f0f921\"]], \"type\": \"surface\"}], \"table\": [{\"cells\": {\"fill\": {\"color\": \"#EBF0F8\"}, \"line\": {\"color\": \"white\"}}, \"header\": {\"fill\": {\"color\": \"#C8D4E3\"}, \"line\": {\"color\": \"white\"}}, \"type\": \"table\"}]}, \"layout\": {\"annotationdefaults\": {\"arrowcolor\": \"#2a3f5f\", \"arrowhead\": 0, \"arrowwidth\": 1}, \"coloraxis\": {\"colorbar\": {\"outlinewidth\": 0, \"ticks\": \"\"}}, \"colorscale\": {\"diverging\": [[0, \"#8e0152\"], [0.1, \"#c51b7d\"], [0.2, \"#de77ae\"], [0.3, \"#f1b6da\"], [0.4, \"#fde0ef\"], [0.5, \"#f7f7f7\"], [0.6, \"#e6f5d0\"], [0.7, \"#b8e186\"], [0.8, \"#7fbc41\"], [0.9, \"#4d9221\"], [1, \"#276419\"]], \"sequential\": [[0.0, \"#0d0887\"], [0.1111111111111111, \"#46039f\"], [0.2222222222222222, \"#7201a8\"], [0.3333333333333333, \"#9c179e\"], [0.4444444444444444, \"#bd3786\"], [0.5555555555555556, \"#d8576b\"], [0.6666666666666666, \"#ed7953\"], [0.7777777777777778, \"#fb9f3a\"], [0.8888888888888888, \"#fdca26\"], [1.0, \"#f0f921\"]], \"sequentialminus\": [[0.0, \"#0d0887\"], [0.1111111111111111, \"#46039f\"], [0.2222222222222222, \"#7201a8\"], [0.3333333333333333, \"#9c179e\"], [0.4444444444444444, \"#bd3786\"], [0.5555555555555556, \"#d8576b\"], [0.6666666666666666, \"#ed7953\"], [0.7777777777777778, \"#fb9f3a\"], [0.8888888888888888, \"#fdca26\"], [1.0, \"#f0f921\"]]}, \"colorway\": [\"#636efa\", \"#EF553B\", \"#00cc96\", \"#ab63fa\", \"#FFA15A\", \"#19d3f3\", \"#FF6692\", \"#B6E880\", \"#FF97FF\", \"#FECB52\"], \"font\": {\"color\": \"#2a3f5f\"}, \"geo\": {\"bgcolor\": \"white\", \"lakecolor\": \"white\", \"landcolor\": \"#E5ECF6\", \"showlakes\": true, \"showland\": true, \"subunitcolor\": \"white\"}, \"hoverlabel\": {\"align\": \"left\"}, \"hovermode\": \"closest\", \"mapbox\": {\"style\": \"light\"}, \"paper_bgcolor\": \"white\", \"plot_bgcolor\": \"#E5ECF6\", \"polar\": {\"angularaxis\": {\"gridcolor\": \"white\", \"linecolor\": \"white\", \"ticks\": \"\"}, \"bgcolor\": \"#E5ECF6\", \"radialaxis\": {\"gridcolor\": \"white\", \"linecolor\": \"white\", \"ticks\": \"\"}}, \"scene\": {\"xaxis\": {\"backgroundcolor\": \"#E5ECF6\", \"gridcolor\": \"white\", \"gridwidth\": 2, \"linecolor\": \"white\", \"showbackground\": true, \"ticks\": \"\", \"zerolinecolor\": \"white\"}, \"yaxis\": {\"backgroundcolor\": \"#E5ECF6\", \"gridcolor\": \"white\", \"gridwidth\": 2, \"linecolor\": \"white\", \"showbackground\": true, \"ticks\": \"\", \"zerolinecolor\": \"white\"}, \"zaxis\": {\"backgroundcolor\": \"#E5ECF6\", \"gridcolor\": \"white\", \"gridwidth\": 2, \"linecolor\": \"white\", \"showbackground\": true, \"ticks\": \"\", \"zerolinecolor\": \"white\"}}, \"shapedefaults\": {\"line\": {\"color\": \"#2a3f5f\"}}, \"ternary\": {\"aaxis\": {\"gridcolor\": \"white\", \"linecolor\": \"white\", \"ticks\": \"\"}, \"baxis\": {\"gridcolor\": \"white\", \"linecolor\": \"white\", \"ticks\": \"\"}, \"bgcolor\": \"#E5ECF6\", \"caxis\": {\"gridcolor\": \"white\", \"linecolor\": \"white\", \"ticks\": \"\"}}, \"title\": {\"x\": 0.05}, \"xaxis\": {\"automargin\": true, \"gridcolor\": \"white\", \"linecolor\": \"white\", \"ticks\": \"\", \"title\": {\"standoff\": 15}, \"zerolinecolor\": \"white\", \"zerolinewidth\": 2}, \"yaxis\": {\"automargin\": true, \"gridcolor\": \"white\", \"linecolor\": \"white\", \"ticks\": \"\", \"title\": {\"standoff\": 15}, \"zerolinecolor\": \"white\", \"zerolinewidth\": 2}}}},\n",
       "                        {\"responsive\": true}\n",
       "                    ).then(function(){\n",
       "                            \n",
       "var gd = document.getElementById('6e5cb07a-4184-40c8-85c3-b984f4ace4fd');\n",
       "var x = new MutationObserver(function (mutations, observer) {{\n",
       "        var display = window.getComputedStyle(gd).display;\n",
       "        if (!display || display === 'none') {{\n",
       "            console.log([gd, 'removed!']);\n",
       "            Plotly.purge(gd);\n",
       "            observer.disconnect();\n",
       "        }}\n",
       "}});\n",
       "\n",
       "// Listen for the removal of the full notebook cells\n",
       "var notebookContainer = gd.closest('#notebook-container');\n",
       "if (notebookContainer) {{\n",
       "    x.observe(notebookContainer, {childList: true});\n",
       "}}\n",
       "\n",
       "// Listen for the clearing of the current output cell\n",
       "var outputEl = gd.closest('.output');\n",
       "if (outputEl) {{\n",
       "    x.observe(outputEl, {childList: true});\n",
       "}}\n",
       "\n",
       "                        })\n",
       "                };\n",
       "                });\n",
       "            </script>\n",
       "        </div>"
      ]
     },
     "metadata": {},
     "output_type": "display_data"
    }
   ],
   "source": [
    "fig = go.Figure(data=\n",
    "    go.Parcoords(\n",
    "        line = dict(),\n",
    "        dimensions = list([\n",
    "            dict(range = [0,1],\n",
    "                label = 'Acurácia', values = metrics_adult_equal['Acurácia']),\n",
    "            dict(range = [0,1],\n",
    "                label = 'Igualdade de Oportunidade', values = metrics_adult_equal['Igualdade de Oportunidade']),\n",
    "            dict(range = [0,1],\n",
    "                label = 'P porcento', values = metrics_adult_equal['P porcento']),\n",
    "            dict(range = [1.2,3],\n",
    "                label = 'cv_aux', values = metrics_adult_equal['cv_aux']),\n",
    "        ])\n",
    "    )\n",
    ")\n",
    "\n",
    "fig.update_layout(\n",
    "    plot_bgcolor = 'white',\n",
    "    paper_bgcolor = 'white'\n",
    ")\n",
    "\n",
    "fig.show()"
   ]
  },
  {
   "cell_type": "code",
   "execution_count": 53,
   "metadata": {},
   "outputs": [],
   "source": [
    "import numpy as np\n",
    "\n",
    "C_values = np.logspace(-10, 10, 150)\n",
    "\n",
    "metrics_adult_log_aux = {\"Acurácia\": [], \"Igualdade de Oportunidade\": [], \"P porcento\": [], \"Coeficiente de variação\": []}\n",
    "\n",
    "for C in C_values:\n",
    "    model = LogisticRegression(C=C, max_iter=10**3, tol=10**-6)\n",
    "    model.fit(X_train, y_train)\n",
    "    metrics_adult_log_aux[\"Acurácia\"].append(model.score(X_test, y_test))\n",
    "    metrics_adult_log_aux[\"Igualdade de Oportunidade\"].append(equal_opportunity_score(sensitive_column=fair_feature)(model,\n",
    "                                                                                                            X_test, y_test))\n",
    "    metrics_adult_log_aux[\"P porcento\"].append(p_percent_score(sensitive_column=fair_feature)(model,X_test))\n",
    "    metrics_adult_log_aux[\"Coeficiente de variação\"].append(coefficient_of_variation(model, X_test, y_test))"
   ]
  },
  {
   "cell_type": "code",
   "execution_count": 54,
   "metadata": {},
   "outputs": [],
   "source": [
    "metrics_adult_log = pd.DataFrame(data=metrics_adult_log_aux, columns=['Acurácia','Igualdade de Oportunidade','P porcento',\n",
    "                                     'Coeficiente de variação'])\n",
    "\n",
    "metrics_adult_log['cv_aux'] = 1/metrics_adult_log['Coeficiente de variação']\n",
    "\n",
    "metrics_adult_log = metrics_adult_log.drop('Coeficiente de variação', axis=1)\n",
    "dominate_metr = [any([dominate(other, row) for other in metrics_adult_log.values]) for row in metrics_adult_log.values]\n",
    "metrics_adult_log['dominated'] = dominate_metr"
   ]
  },
  {
   "cell_type": "code",
   "execution_count": 55,
   "metadata": {},
   "outputs": [
    {
     "data": {
      "text/html": [
       "<div>\n",
       "<style scoped>\n",
       "    .dataframe tbody tr th:only-of-type {\n",
       "        vertical-align: middle;\n",
       "    }\n",
       "\n",
       "    .dataframe tbody tr th {\n",
       "        vertical-align: top;\n",
       "    }\n",
       "\n",
       "    .dataframe thead th {\n",
       "        text-align: right;\n",
       "    }\n",
       "</style>\n",
       "<table border=\"1\" class=\"dataframe\">\n",
       "  <thead>\n",
       "    <tr style=\"text-align: right;\">\n",
       "      <th></th>\n",
       "      <th>Acurácia</th>\n",
       "      <th>Igualdade de Oportunidade</th>\n",
       "      <th>P porcento</th>\n",
       "      <th>cv_aux</th>\n",
       "      <th>dominated</th>\n",
       "    </tr>\n",
       "  </thead>\n",
       "  <tbody>\n",
       "    <tr>\n",
       "      <th>0</th>\n",
       "      <td>0.7906</td>\n",
       "      <td>0.857863</td>\n",
       "      <td>0.371588</td>\n",
       "      <td>1.375592</td>\n",
       "      <td>False</td>\n",
       "    </tr>\n",
       "    <tr>\n",
       "      <th>1</th>\n",
       "      <td>0.7900</td>\n",
       "      <td>0.910765</td>\n",
       "      <td>0.414919</td>\n",
       "      <td>1.373797</td>\n",
       "      <td>True</td>\n",
       "    </tr>\n",
       "    <tr>\n",
       "      <th>2</th>\n",
       "      <td>0.7894</td>\n",
       "      <td>0.957835</td>\n",
       "      <td>0.422259</td>\n",
       "      <td>1.372221</td>\n",
       "      <td>True</td>\n",
       "    </tr>\n",
       "    <tr>\n",
       "      <th>3</th>\n",
       "      <td>0.7890</td>\n",
       "      <td>0.939486</td>\n",
       "      <td>0.464014</td>\n",
       "      <td>1.371286</td>\n",
       "      <td>True</td>\n",
       "    </tr>\n",
       "    <tr>\n",
       "      <th>4</th>\n",
       "      <td>0.7886</td>\n",
       "      <td>0.925305</td>\n",
       "      <td>0.450326</td>\n",
       "      <td>1.370304</td>\n",
       "      <td>True</td>\n",
       "    </tr>\n",
       "    <tr>\n",
       "      <th>...</th>\n",
       "      <td>...</td>\n",
       "      <td>...</td>\n",
       "      <td>...</td>\n",
       "      <td>...</td>\n",
       "      <td>...</td>\n",
       "    </tr>\n",
       "    <tr>\n",
       "      <th>145</th>\n",
       "      <td>0.7884</td>\n",
       "      <td>0.932736</td>\n",
       "      <td>0.520582</td>\n",
       "      <td>1.382372</td>\n",
       "      <td>True</td>\n",
       "    </tr>\n",
       "    <tr>\n",
       "      <th>146</th>\n",
       "      <td>0.7884</td>\n",
       "      <td>0.932736</td>\n",
       "      <td>0.520582</td>\n",
       "      <td>1.382372</td>\n",
       "      <td>True</td>\n",
       "    </tr>\n",
       "    <tr>\n",
       "      <th>147</th>\n",
       "      <td>0.7884</td>\n",
       "      <td>0.932736</td>\n",
       "      <td>0.520582</td>\n",
       "      <td>1.382372</td>\n",
       "      <td>True</td>\n",
       "    </tr>\n",
       "    <tr>\n",
       "      <th>148</th>\n",
       "      <td>0.7884</td>\n",
       "      <td>0.932736</td>\n",
       "      <td>0.520582</td>\n",
       "      <td>1.382372</td>\n",
       "      <td>True</td>\n",
       "    </tr>\n",
       "    <tr>\n",
       "      <th>149</th>\n",
       "      <td>0.7884</td>\n",
       "      <td>0.932736</td>\n",
       "      <td>0.520582</td>\n",
       "      <td>1.382372</td>\n",
       "      <td>True</td>\n",
       "    </tr>\n",
       "  </tbody>\n",
       "</table>\n",
       "<p>150 rows × 5 columns</p>\n",
       "</div>"
      ],
      "text/plain": [
       "     Acurácia  Igualdade de Oportunidade  P porcento    cv_aux  dominated\n",
       "0      0.7906                   0.857863    0.371588  1.375592      False\n",
       "1      0.7900                   0.910765    0.414919  1.373797       True\n",
       "2      0.7894                   0.957835    0.422259  1.372221       True\n",
       "3      0.7890                   0.939486    0.464014  1.371286       True\n",
       "4      0.7886                   0.925305    0.450326  1.370304       True\n",
       "..        ...                        ...         ...       ...        ...\n",
       "145    0.7884                   0.932736    0.520582  1.382372       True\n",
       "146    0.7884                   0.932736    0.520582  1.382372       True\n",
       "147    0.7884                   0.932736    0.520582  1.382372       True\n",
       "148    0.7884                   0.932736    0.520582  1.382372       True\n",
       "149    0.7884                   0.932736    0.520582  1.382372       True\n",
       "\n",
       "[150 rows x 5 columns]"
      ]
     },
     "execution_count": 55,
     "metadata": {},
     "output_type": "execute_result"
    }
   ],
   "source": [
    "metrics_adult_log"
   ]
  },
  {
   "cell_type": "code",
   "execution_count": 56,
   "metadata": {},
   "outputs": [
    {
     "data": {
      "application/vnd.plotly.v1+json": {
       "config": {
        "plotlyServerURL": "https://plot.ly"
       },
       "data": [
        {
         "dimensions": [
          {
           "label": "Acurácia",
           "range": [
            0,
            1
           ],
           "values": [
            0.7906,
            0.79,
            0.7894,
            0.789,
            0.7886,
            0.789,
            0.7886,
            0.7878,
            0.7878,
            0.7874,
            0.787,
            0.788,
            0.788,
            0.79,
            0.7904,
            0.79,
            0.7894,
            0.7894,
            0.79,
            0.7898,
            0.7894,
            0.789,
            0.7886,
            0.7886,
            0.7886,
            0.7884,
            0.789,
            0.7892,
            0.7882,
            0.7884,
            0.7884,
            0.7884,
            0.7884,
            0.7884,
            0.7884,
            0.7884,
            0.7884,
            0.7884,
            0.7884,
            0.7884,
            0.7884,
            0.7884,
            0.7884,
            0.7884,
            0.7884,
            0.7884,
            0.7884,
            0.7884,
            0.7884,
            0.7884,
            0.7884,
            0.7884,
            0.7884,
            0.7884,
            0.7884,
            0.7884,
            0.7884,
            0.7884,
            0.7884,
            0.7884,
            0.7884,
            0.7884,
            0.7884,
            0.7884,
            0.7884,
            0.7884,
            0.7884,
            0.7884,
            0.7884,
            0.7884,
            0.7884,
            0.7884,
            0.7884,
            0.7884,
            0.7884,
            0.7884,
            0.7884,
            0.7884,
            0.7884,
            0.7884,
            0.7884,
            0.7884,
            0.7884,
            0.7884,
            0.7884,
            0.7884,
            0.7884,
            0.7884,
            0.7884,
            0.7884,
            0.7884,
            0.7884,
            0.7884,
            0.7884,
            0.7884,
            0.7884,
            0.7884,
            0.7884,
            0.7884,
            0.7884,
            0.7884,
            0.7884,
            0.7884,
            0.7884,
            0.7884,
            0.7884,
            0.7884,
            0.7884,
            0.7884,
            0.7884,
            0.7884,
            0.7884,
            0.7884,
            0.7884,
            0.7884,
            0.7884,
            0.7884,
            0.7884,
            0.7884,
            0.7884,
            0.7884,
            0.7884,
            0.7884,
            0.7884,
            0.7884,
            0.7884,
            0.7884,
            0.7884,
            0.7884,
            0.7884,
            0.7884,
            0.7884,
            0.7884,
            0.7884,
            0.7884,
            0.7884,
            0.7884,
            0.7884,
            0.7884,
            0.7884,
            0.7884,
            0.7884,
            0.7884,
            0.7884,
            0.7884,
            0.7884,
            0.7884,
            0.7884,
            0.7884,
            0.7884
           ]
          },
          {
           "label": "Igualdade de Oportunidade",
           "range": [
            0,
            1
           ],
           "values": [
            0.8578631452581034,
            0.9107647058823529,
            0.9578354779411764,
            0.9394861392832995,
            0.925305216426193,
            0.9115460310518259,
            0.8981900452488688,
            0.9553475935828877,
            0.9283413011847848,
            0.9630078835657975,
            0.9310142661715849,
            0.9737848679914171,
            0.989644556395186,
            0.9730392156862744,
            0.9611728837876614,
            0.9553475935828877,
            0.9553475935828877,
            0.9524613470765949,
            0.9439063050369849,
            0.9410886742756804,
            0.9410886742756804,
            0.9410886742756804,
            0.9382878151260504,
            0.9355035782859137,
            0.9355035782859137,
            0.9355035782859137,
            0.9355035782859137,
            0.9355035782859137,
            0.9355035782859137,
            0.932735816219979,
            0.932735816219979,
            0.932735816219979,
            0.932735816219979,
            0.932735816219979,
            0.932735816219979,
            0.932735816219979,
            0.932735816219979,
            0.932735816219979,
            0.932735816219979,
            0.932735816219979,
            0.932735816219979,
            0.932735816219979,
            0.932735816219979,
            0.932735816219979,
            0.932735816219979,
            0.932735816219979,
            0.932735816219979,
            0.932735816219979,
            0.932735816219979,
            0.932735816219979,
            0.932735816219979,
            0.932735816219979,
            0.932735816219979,
            0.932735816219979,
            0.932735816219979,
            0.932735816219979,
            0.932735816219979,
            0.932735816219979,
            0.932735816219979,
            0.932735816219979,
            0.932735816219979,
            0.932735816219979,
            0.932735816219979,
            0.932735816219979,
            0.932735816219979,
            0.932735816219979,
            0.932735816219979,
            0.932735816219979,
            0.932735816219979,
            0.932735816219979,
            0.932735816219979,
            0.932735816219979,
            0.932735816219979,
            0.932735816219979,
            0.932735816219979,
            0.932735816219979,
            0.932735816219979,
            0.932735816219979,
            0.932735816219979,
            0.932735816219979,
            0.932735816219979,
            0.932735816219979,
            0.932735816219979,
            0.932735816219979,
            0.932735816219979,
            0.932735816219979,
            0.932735816219979,
            0.932735816219979,
            0.932735816219979,
            0.932735816219979,
            0.932735816219979,
            0.932735816219979,
            0.932735816219979,
            0.932735816219979,
            0.932735816219979,
            0.932735816219979,
            0.932735816219979,
            0.932735816219979,
            0.932735816219979,
            0.932735816219979,
            0.932735816219979,
            0.932735816219979,
            0.932735816219979,
            0.932735816219979,
            0.932735816219979,
            0.932735816219979,
            0.932735816219979,
            0.932735816219979,
            0.932735816219979,
            0.932735816219979,
            0.932735816219979,
            0.932735816219979,
            0.932735816219979,
            0.932735816219979,
            0.932735816219979,
            0.932735816219979,
            0.932735816219979,
            0.932735816219979,
            0.932735816219979,
            0.932735816219979,
            0.932735816219979,
            0.932735816219979,
            0.932735816219979,
            0.932735816219979,
            0.932735816219979,
            0.932735816219979,
            0.932735816219979,
            0.932735816219979,
            0.932735816219979,
            0.932735816219979,
            0.932735816219979,
            0.932735816219979,
            0.932735816219979,
            0.932735816219979,
            0.932735816219979,
            0.932735816219979,
            0.932735816219979,
            0.932735816219979,
            0.932735816219979,
            0.932735816219979,
            0.932735816219979,
            0.932735816219979,
            0.932735816219979,
            0.932735816219979,
            0.932735816219979,
            0.932735816219979,
            0.932735816219979,
            0.932735816219979,
            0.932735816219979,
            0.932735816219979
           ]
          },
          {
           "label": "P porcento",
           "range": [
            0,
            1
           ],
           "values": [
            0.37158785876522815,
            0.4149193362450017,
            0.42225893041503204,
            0.4640142207985245,
            0.4503264856717244,
            0.44249472070352047,
            0.430030080683703,
            0.44406790813976443,
            0.45018669784441673,
            0.4988911066755378,
            0.4953019620231958,
            0.5493671480568275,
            0.5367380182164406,
            0.5200023116350817,
            0.5340552375425361,
            0.5270892996615465,
            0.5236740342209749,
            0.5214216727834653,
            0.5180792261630586,
            0.5147793584804913,
            0.5327142325518455,
            0.5304664931739895,
            0.526027443021906,
            0.5238356620093146,
            0.5238356620093146,
            0.5227466065789419,
            0.526027443021906,
            0.527130225921323,
            0.5216620700507698,
            0.5205820243570829,
            0.5205820243570829,
            0.5205820243570829,
            0.5205820243570829,
            0.5205820243570829,
            0.5205820243570829,
            0.5205820243570829,
            0.5205820243570829,
            0.5205820243570829,
            0.5205820243570829,
            0.5205820243570829,
            0.5205820243570829,
            0.5205820243570829,
            0.5205820243570829,
            0.5205820243570829,
            0.5205820243570829,
            0.5205820243570829,
            0.5205820243570829,
            0.5205820243570829,
            0.5205820243570829,
            0.5205820243570829,
            0.5205820243570829,
            0.5205820243570829,
            0.5205820243570829,
            0.5205820243570829,
            0.5205820243570829,
            0.5205820243570829,
            0.5205820243570829,
            0.5205820243570829,
            0.5205820243570829,
            0.5205820243570829,
            0.5205820243570829,
            0.5205820243570829,
            0.5205820243570829,
            0.5205820243570829,
            0.5205820243570829,
            0.5205820243570829,
            0.5205820243570829,
            0.5205820243570829,
            0.5205820243570829,
            0.5205820243570829,
            0.5205820243570829,
            0.5205820243570829,
            0.5205820243570829,
            0.5205820243570829,
            0.5205820243570829,
            0.5205820243570829,
            0.5205820243570829,
            0.5205820243570829,
            0.5205820243570829,
            0.5205820243570829,
            0.5205820243570829,
            0.5205820243570829,
            0.5205820243570829,
            0.5205820243570829,
            0.5205820243570829,
            0.5205820243570829,
            0.5205820243570829,
            0.5205820243570829,
            0.5205820243570829,
            0.5205820243570829,
            0.5205820243570829,
            0.5205820243570829,
            0.5205820243570829,
            0.5205820243570829,
            0.5205820243570829,
            0.5205820243570829,
            0.5205820243570829,
            0.5205820243570829,
            0.5205820243570829,
            0.5205820243570829,
            0.5205820243570829,
            0.5205820243570829,
            0.5205820243570829,
            0.5205820243570829,
            0.5205820243570829,
            0.5205820243570829,
            0.5205820243570829,
            0.5205820243570829,
            0.5205820243570829,
            0.5205820243570829,
            0.5205820243570829,
            0.5205820243570829,
            0.5205820243570829,
            0.5205820243570829,
            0.5205820243570829,
            0.5205820243570829,
            0.5205820243570829,
            0.5205820243570829,
            0.5205820243570829,
            0.5205820243570829,
            0.5205820243570829,
            0.5205820243570829,
            0.5205820243570829,
            0.5205820243570829,
            0.5205820243570829,
            0.5205820243570829,
            0.5205820243570829,
            0.5205820243570829,
            0.5205820243570829,
            0.5205820243570829,
            0.5205820243570829,
            0.5205820243570829,
            0.5205820243570829,
            0.5205820243570829,
            0.5205820243570829,
            0.5205820243570829,
            0.5205820243570829,
            0.5205820243570829,
            0.5205820243570829,
            0.5205820243570829,
            0.5205820243570829,
            0.5205820243570829,
            0.5205820243570829,
            0.5205820243570829,
            0.5205820243570829,
            0.5205820243570829,
            0.5205820243570829,
            0.5205820243570829,
            0.5205820243570829,
            0.5205820243570829
           ]
          },
          {
           "label": "cv_aux",
           "range": [
            1.2,
            3
           ],
           "values": [
            1.3755917095872716,
            1.3737969740881377,
            1.3722211143529734,
            1.3712864356763617,
            1.3703044692898771,
            1.3721884646320535,
            1.371269557143702,
            1.3688882307845305,
            1.3700073081529893,
            1.370032689035326,
            1.3703794242134777,
            1.3750344685007048,
            1.3759391101099543,
            1.3846646964089209,
            1.3867292225974115,
            1.3858175112572908,
            1.3838864136664626,
            1.384085771240619,
            1.3866103553230054,
            1.3861709294176994,
            1.3848951980100925,
            1.3836268606081097,
            1.3825750302265334,
            1.3827853796154514,
            1.3827853796154514,
            1.3821595010358039,
            1.384042579383783,
            1.3846739146336866,
            1.3815354273479024,
            1.38237196706377,
            1.38237196706377,
            1.38237196706377,
            1.38237196706377,
            1.38237196706377,
            1.38237196706377,
            1.38237196706377,
            1.38237196706377,
            1.38237196706377,
            1.38237196706377,
            1.38237196706377,
            1.38237196706377,
            1.38237196706377,
            1.38237196706377,
            1.38237196706377,
            1.38237196706377,
            1.38237196706377,
            1.38237196706377,
            1.38237196706377,
            1.38237196706377,
            1.38237196706377,
            1.38237196706377,
            1.38237196706377,
            1.38237196706377,
            1.38237196706377,
            1.38237196706377,
            1.38237196706377,
            1.38237196706377,
            1.38237196706377,
            1.38237196706377,
            1.38237196706377,
            1.38237196706377,
            1.38237196706377,
            1.38237196706377,
            1.38237196706377,
            1.38237196706377,
            1.38237196706377,
            1.38237196706377,
            1.38237196706377,
            1.38237196706377,
            1.38237196706377,
            1.38237196706377,
            1.38237196706377,
            1.38237196706377,
            1.38237196706377,
            1.38237196706377,
            1.38237196706377,
            1.38237196706377,
            1.38237196706377,
            1.38237196706377,
            1.38237196706377,
            1.38237196706377,
            1.38237196706377,
            1.38237196706377,
            1.38237196706377,
            1.38237196706377,
            1.38237196706377,
            1.38237196706377,
            1.38237196706377,
            1.38237196706377,
            1.38237196706377,
            1.38237196706377,
            1.38237196706377,
            1.38237196706377,
            1.38237196706377,
            1.38237196706377,
            1.38237196706377,
            1.38237196706377,
            1.38237196706377,
            1.38237196706377,
            1.38237196706377,
            1.38237196706377,
            1.38237196706377,
            1.38237196706377,
            1.38237196706377,
            1.38237196706377,
            1.38237196706377,
            1.38237196706377,
            1.38237196706377,
            1.38237196706377,
            1.38237196706377,
            1.38237196706377,
            1.38237196706377,
            1.38237196706377,
            1.38237196706377,
            1.38237196706377,
            1.38237196706377,
            1.38237196706377,
            1.38237196706377,
            1.38237196706377,
            1.38237196706377,
            1.38237196706377,
            1.38237196706377,
            1.38237196706377,
            1.38237196706377,
            1.38237196706377,
            1.38237196706377,
            1.38237196706377,
            1.38237196706377,
            1.38237196706377,
            1.38237196706377,
            1.38237196706377,
            1.38237196706377,
            1.38237196706377,
            1.38237196706377,
            1.38237196706377,
            1.38237196706377,
            1.38237196706377,
            1.38237196706377,
            1.38237196706377,
            1.38237196706377,
            1.38237196706377,
            1.38237196706377,
            1.38237196706377,
            1.38237196706377,
            1.38237196706377,
            1.38237196706377,
            1.38237196706377,
            1.38237196706377,
            1.38237196706377,
            1.38237196706377
           ]
          }
         ],
         "type": "parcoords"
        }
       ],
       "layout": {
        "paper_bgcolor": "white",
        "plot_bgcolor": "white",
        "template": {
         "data": {
          "bar": [
           {
            "error_x": {
             "color": "#2a3f5f"
            },
            "error_y": {
             "color": "#2a3f5f"
            },
            "marker": {
             "line": {
              "color": "#E5ECF6",
              "width": 0.5
             }
            },
            "type": "bar"
           }
          ],
          "barpolar": [
           {
            "marker": {
             "line": {
              "color": "#E5ECF6",
              "width": 0.5
             }
            },
            "type": "barpolar"
           }
          ],
          "carpet": [
           {
            "aaxis": {
             "endlinecolor": "#2a3f5f",
             "gridcolor": "white",
             "linecolor": "white",
             "minorgridcolor": "white",
             "startlinecolor": "#2a3f5f"
            },
            "baxis": {
             "endlinecolor": "#2a3f5f",
             "gridcolor": "white",
             "linecolor": "white",
             "minorgridcolor": "white",
             "startlinecolor": "#2a3f5f"
            },
            "type": "carpet"
           }
          ],
          "choropleth": [
           {
            "colorbar": {
             "outlinewidth": 0,
             "ticks": ""
            },
            "type": "choropleth"
           }
          ],
          "contour": [
           {
            "colorbar": {
             "outlinewidth": 0,
             "ticks": ""
            },
            "colorscale": [
             [
              0,
              "#0d0887"
             ],
             [
              0.1111111111111111,
              "#46039f"
             ],
             [
              0.2222222222222222,
              "#7201a8"
             ],
             [
              0.3333333333333333,
              "#9c179e"
             ],
             [
              0.4444444444444444,
              "#bd3786"
             ],
             [
              0.5555555555555556,
              "#d8576b"
             ],
             [
              0.6666666666666666,
              "#ed7953"
             ],
             [
              0.7777777777777778,
              "#fb9f3a"
             ],
             [
              0.8888888888888888,
              "#fdca26"
             ],
             [
              1,
              "#f0f921"
             ]
            ],
            "type": "contour"
           }
          ],
          "contourcarpet": [
           {
            "colorbar": {
             "outlinewidth": 0,
             "ticks": ""
            },
            "type": "contourcarpet"
           }
          ],
          "heatmap": [
           {
            "colorbar": {
             "outlinewidth": 0,
             "ticks": ""
            },
            "colorscale": [
             [
              0,
              "#0d0887"
             ],
             [
              0.1111111111111111,
              "#46039f"
             ],
             [
              0.2222222222222222,
              "#7201a8"
             ],
             [
              0.3333333333333333,
              "#9c179e"
             ],
             [
              0.4444444444444444,
              "#bd3786"
             ],
             [
              0.5555555555555556,
              "#d8576b"
             ],
             [
              0.6666666666666666,
              "#ed7953"
             ],
             [
              0.7777777777777778,
              "#fb9f3a"
             ],
             [
              0.8888888888888888,
              "#fdca26"
             ],
             [
              1,
              "#f0f921"
             ]
            ],
            "type": "heatmap"
           }
          ],
          "heatmapgl": [
           {
            "colorbar": {
             "outlinewidth": 0,
             "ticks": ""
            },
            "colorscale": [
             [
              0,
              "#0d0887"
             ],
             [
              0.1111111111111111,
              "#46039f"
             ],
             [
              0.2222222222222222,
              "#7201a8"
             ],
             [
              0.3333333333333333,
              "#9c179e"
             ],
             [
              0.4444444444444444,
              "#bd3786"
             ],
             [
              0.5555555555555556,
              "#d8576b"
             ],
             [
              0.6666666666666666,
              "#ed7953"
             ],
             [
              0.7777777777777778,
              "#fb9f3a"
             ],
             [
              0.8888888888888888,
              "#fdca26"
             ],
             [
              1,
              "#f0f921"
             ]
            ],
            "type": "heatmapgl"
           }
          ],
          "histogram": [
           {
            "marker": {
             "colorbar": {
              "outlinewidth": 0,
              "ticks": ""
             }
            },
            "type": "histogram"
           }
          ],
          "histogram2d": [
           {
            "colorbar": {
             "outlinewidth": 0,
             "ticks": ""
            },
            "colorscale": [
             [
              0,
              "#0d0887"
             ],
             [
              0.1111111111111111,
              "#46039f"
             ],
             [
              0.2222222222222222,
              "#7201a8"
             ],
             [
              0.3333333333333333,
              "#9c179e"
             ],
             [
              0.4444444444444444,
              "#bd3786"
             ],
             [
              0.5555555555555556,
              "#d8576b"
             ],
             [
              0.6666666666666666,
              "#ed7953"
             ],
             [
              0.7777777777777778,
              "#fb9f3a"
             ],
             [
              0.8888888888888888,
              "#fdca26"
             ],
             [
              1,
              "#f0f921"
             ]
            ],
            "type": "histogram2d"
           }
          ],
          "histogram2dcontour": [
           {
            "colorbar": {
             "outlinewidth": 0,
             "ticks": ""
            },
            "colorscale": [
             [
              0,
              "#0d0887"
             ],
             [
              0.1111111111111111,
              "#46039f"
             ],
             [
              0.2222222222222222,
              "#7201a8"
             ],
             [
              0.3333333333333333,
              "#9c179e"
             ],
             [
              0.4444444444444444,
              "#bd3786"
             ],
             [
              0.5555555555555556,
              "#d8576b"
             ],
             [
              0.6666666666666666,
              "#ed7953"
             ],
             [
              0.7777777777777778,
              "#fb9f3a"
             ],
             [
              0.8888888888888888,
              "#fdca26"
             ],
             [
              1,
              "#f0f921"
             ]
            ],
            "type": "histogram2dcontour"
           }
          ],
          "mesh3d": [
           {
            "colorbar": {
             "outlinewidth": 0,
             "ticks": ""
            },
            "type": "mesh3d"
           }
          ],
          "parcoords": [
           {
            "line": {
             "colorbar": {
              "outlinewidth": 0,
              "ticks": ""
             }
            },
            "type": "parcoords"
           }
          ],
          "pie": [
           {
            "automargin": true,
            "type": "pie"
           }
          ],
          "scatter": [
           {
            "marker": {
             "colorbar": {
              "outlinewidth": 0,
              "ticks": ""
             }
            },
            "type": "scatter"
           }
          ],
          "scatter3d": [
           {
            "line": {
             "colorbar": {
              "outlinewidth": 0,
              "ticks": ""
             }
            },
            "marker": {
             "colorbar": {
              "outlinewidth": 0,
              "ticks": ""
             }
            },
            "type": "scatter3d"
           }
          ],
          "scattercarpet": [
           {
            "marker": {
             "colorbar": {
              "outlinewidth": 0,
              "ticks": ""
             }
            },
            "type": "scattercarpet"
           }
          ],
          "scattergeo": [
           {
            "marker": {
             "colorbar": {
              "outlinewidth": 0,
              "ticks": ""
             }
            },
            "type": "scattergeo"
           }
          ],
          "scattergl": [
           {
            "marker": {
             "colorbar": {
              "outlinewidth": 0,
              "ticks": ""
             }
            },
            "type": "scattergl"
           }
          ],
          "scattermapbox": [
           {
            "marker": {
             "colorbar": {
              "outlinewidth": 0,
              "ticks": ""
             }
            },
            "type": "scattermapbox"
           }
          ],
          "scatterpolar": [
           {
            "marker": {
             "colorbar": {
              "outlinewidth": 0,
              "ticks": ""
             }
            },
            "type": "scatterpolar"
           }
          ],
          "scatterpolargl": [
           {
            "marker": {
             "colorbar": {
              "outlinewidth": 0,
              "ticks": ""
             }
            },
            "type": "scatterpolargl"
           }
          ],
          "scatterternary": [
           {
            "marker": {
             "colorbar": {
              "outlinewidth": 0,
              "ticks": ""
             }
            },
            "type": "scatterternary"
           }
          ],
          "surface": [
           {
            "colorbar": {
             "outlinewidth": 0,
             "ticks": ""
            },
            "colorscale": [
             [
              0,
              "#0d0887"
             ],
             [
              0.1111111111111111,
              "#46039f"
             ],
             [
              0.2222222222222222,
              "#7201a8"
             ],
             [
              0.3333333333333333,
              "#9c179e"
             ],
             [
              0.4444444444444444,
              "#bd3786"
             ],
             [
              0.5555555555555556,
              "#d8576b"
             ],
             [
              0.6666666666666666,
              "#ed7953"
             ],
             [
              0.7777777777777778,
              "#fb9f3a"
             ],
             [
              0.8888888888888888,
              "#fdca26"
             ],
             [
              1,
              "#f0f921"
             ]
            ],
            "type": "surface"
           }
          ],
          "table": [
           {
            "cells": {
             "fill": {
              "color": "#EBF0F8"
             },
             "line": {
              "color": "white"
             }
            },
            "header": {
             "fill": {
              "color": "#C8D4E3"
             },
             "line": {
              "color": "white"
             }
            },
            "type": "table"
           }
          ]
         },
         "layout": {
          "annotationdefaults": {
           "arrowcolor": "#2a3f5f",
           "arrowhead": 0,
           "arrowwidth": 1
          },
          "coloraxis": {
           "colorbar": {
            "outlinewidth": 0,
            "ticks": ""
           }
          },
          "colorscale": {
           "diverging": [
            [
             0,
             "#8e0152"
            ],
            [
             0.1,
             "#c51b7d"
            ],
            [
             0.2,
             "#de77ae"
            ],
            [
             0.3,
             "#f1b6da"
            ],
            [
             0.4,
             "#fde0ef"
            ],
            [
             0.5,
             "#f7f7f7"
            ],
            [
             0.6,
             "#e6f5d0"
            ],
            [
             0.7,
             "#b8e186"
            ],
            [
             0.8,
             "#7fbc41"
            ],
            [
             0.9,
             "#4d9221"
            ],
            [
             1,
             "#276419"
            ]
           ],
           "sequential": [
            [
             0,
             "#0d0887"
            ],
            [
             0.1111111111111111,
             "#46039f"
            ],
            [
             0.2222222222222222,
             "#7201a8"
            ],
            [
             0.3333333333333333,
             "#9c179e"
            ],
            [
             0.4444444444444444,
             "#bd3786"
            ],
            [
             0.5555555555555556,
             "#d8576b"
            ],
            [
             0.6666666666666666,
             "#ed7953"
            ],
            [
             0.7777777777777778,
             "#fb9f3a"
            ],
            [
             0.8888888888888888,
             "#fdca26"
            ],
            [
             1,
             "#f0f921"
            ]
           ],
           "sequentialminus": [
            [
             0,
             "#0d0887"
            ],
            [
             0.1111111111111111,
             "#46039f"
            ],
            [
             0.2222222222222222,
             "#7201a8"
            ],
            [
             0.3333333333333333,
             "#9c179e"
            ],
            [
             0.4444444444444444,
             "#bd3786"
            ],
            [
             0.5555555555555556,
             "#d8576b"
            ],
            [
             0.6666666666666666,
             "#ed7953"
            ],
            [
             0.7777777777777778,
             "#fb9f3a"
            ],
            [
             0.8888888888888888,
             "#fdca26"
            ],
            [
             1,
             "#f0f921"
            ]
           ]
          },
          "colorway": [
           "#636efa",
           "#EF553B",
           "#00cc96",
           "#ab63fa",
           "#FFA15A",
           "#19d3f3",
           "#FF6692",
           "#B6E880",
           "#FF97FF",
           "#FECB52"
          ],
          "font": {
           "color": "#2a3f5f"
          },
          "geo": {
           "bgcolor": "white",
           "lakecolor": "white",
           "landcolor": "#E5ECF6",
           "showlakes": true,
           "showland": true,
           "subunitcolor": "white"
          },
          "hoverlabel": {
           "align": "left"
          },
          "hovermode": "closest",
          "mapbox": {
           "style": "light"
          },
          "paper_bgcolor": "white",
          "plot_bgcolor": "#E5ECF6",
          "polar": {
           "angularaxis": {
            "gridcolor": "white",
            "linecolor": "white",
            "ticks": ""
           },
           "bgcolor": "#E5ECF6",
           "radialaxis": {
            "gridcolor": "white",
            "linecolor": "white",
            "ticks": ""
           }
          },
          "scene": {
           "xaxis": {
            "backgroundcolor": "#E5ECF6",
            "gridcolor": "white",
            "gridwidth": 2,
            "linecolor": "white",
            "showbackground": true,
            "ticks": "",
            "zerolinecolor": "white"
           },
           "yaxis": {
            "backgroundcolor": "#E5ECF6",
            "gridcolor": "white",
            "gridwidth": 2,
            "linecolor": "white",
            "showbackground": true,
            "ticks": "",
            "zerolinecolor": "white"
           },
           "zaxis": {
            "backgroundcolor": "#E5ECF6",
            "gridcolor": "white",
            "gridwidth": 2,
            "linecolor": "white",
            "showbackground": true,
            "ticks": "",
            "zerolinecolor": "white"
           }
          },
          "shapedefaults": {
           "line": {
            "color": "#2a3f5f"
           }
          },
          "ternary": {
           "aaxis": {
            "gridcolor": "white",
            "linecolor": "white",
            "ticks": ""
           },
           "baxis": {
            "gridcolor": "white",
            "linecolor": "white",
            "ticks": ""
           },
           "bgcolor": "#E5ECF6",
           "caxis": {
            "gridcolor": "white",
            "linecolor": "white",
            "ticks": ""
           }
          },
          "title": {
           "x": 0.05
          },
          "xaxis": {
           "automargin": true,
           "gridcolor": "white",
           "linecolor": "white",
           "ticks": "",
           "title": {
            "standoff": 15
           },
           "zerolinecolor": "white",
           "zerolinewidth": 2
          },
          "yaxis": {
           "automargin": true,
           "gridcolor": "white",
           "linecolor": "white",
           "ticks": "",
           "title": {
            "standoff": 15
           },
           "zerolinecolor": "white",
           "zerolinewidth": 2
          }
         }
        }
       }
      },
      "text/html": [
       "<div>\n",
       "        \n",
       "        \n",
       "            <div id=\"05d5f04b-caaf-4677-99ad-a0a7ee19fa0f\" class=\"plotly-graph-div\" style=\"height:525px; width:100%;\"></div>\n",
       "            <script type=\"text/javascript\">\n",
       "                require([\"plotly\"], function(Plotly) {\n",
       "                    window.PLOTLYENV=window.PLOTLYENV || {};\n",
       "                    \n",
       "                if (document.getElementById(\"05d5f04b-caaf-4677-99ad-a0a7ee19fa0f\")) {\n",
       "                    Plotly.newPlot(\n",
       "                        '05d5f04b-caaf-4677-99ad-a0a7ee19fa0f',\n",
       "                        [{\"dimensions\": [{\"label\": \"Acur\\u00e1cia\", \"range\": [0, 1], \"values\": [0.7906, 0.79, 0.7894, 0.789, 0.7886, 0.789, 0.7886, 0.7878, 0.7878, 0.7874, 0.787, 0.788, 0.788, 0.79, 0.7904, 0.79, 0.7894, 0.7894, 0.79, 0.7898, 0.7894, 0.789, 0.7886, 0.7886, 0.7886, 0.7884, 0.789, 0.7892, 0.7882, 0.7884, 0.7884, 0.7884, 0.7884, 0.7884, 0.7884, 0.7884, 0.7884, 0.7884, 0.7884, 0.7884, 0.7884, 0.7884, 0.7884, 0.7884, 0.7884, 0.7884, 0.7884, 0.7884, 0.7884, 0.7884, 0.7884, 0.7884, 0.7884, 0.7884, 0.7884, 0.7884, 0.7884, 0.7884, 0.7884, 0.7884, 0.7884, 0.7884, 0.7884, 0.7884, 0.7884, 0.7884, 0.7884, 0.7884, 0.7884, 0.7884, 0.7884, 0.7884, 0.7884, 0.7884, 0.7884, 0.7884, 0.7884, 0.7884, 0.7884, 0.7884, 0.7884, 0.7884, 0.7884, 0.7884, 0.7884, 0.7884, 0.7884, 0.7884, 0.7884, 0.7884, 0.7884, 0.7884, 0.7884, 0.7884, 0.7884, 0.7884, 0.7884, 0.7884, 0.7884, 0.7884, 0.7884, 0.7884, 0.7884, 0.7884, 0.7884, 0.7884, 0.7884, 0.7884, 0.7884, 0.7884, 0.7884, 0.7884, 0.7884, 0.7884, 0.7884, 0.7884, 0.7884, 0.7884, 0.7884, 0.7884, 0.7884, 0.7884, 0.7884, 0.7884, 0.7884, 0.7884, 0.7884, 0.7884, 0.7884, 0.7884, 0.7884, 0.7884, 0.7884, 0.7884, 0.7884, 0.7884, 0.7884, 0.7884, 0.7884, 0.7884, 0.7884, 0.7884, 0.7884, 0.7884, 0.7884, 0.7884, 0.7884, 0.7884, 0.7884, 0.7884]}, {\"label\": \"Igualdade de Oportunidade\", \"range\": [0, 1], \"values\": [0.8578631452581034, 0.9107647058823529, 0.9578354779411764, 0.9394861392832995, 0.925305216426193, 0.9115460310518259, 0.8981900452488688, 0.9553475935828877, 0.9283413011847848, 0.9630078835657975, 0.9310142661715849, 0.9737848679914171, 0.989644556395186, 0.9730392156862744, 0.9611728837876614, 0.9553475935828877, 0.9553475935828877, 0.9524613470765949, 0.9439063050369849, 0.9410886742756804, 0.9410886742756804, 0.9410886742756804, 0.9382878151260504, 0.9355035782859137, 0.9355035782859137, 0.9355035782859137, 0.9355035782859137, 0.9355035782859137, 0.9355035782859137, 0.932735816219979, 0.932735816219979, 0.932735816219979, 0.932735816219979, 0.932735816219979, 0.932735816219979, 0.932735816219979, 0.932735816219979, 0.932735816219979, 0.932735816219979, 0.932735816219979, 0.932735816219979, 0.932735816219979, 0.932735816219979, 0.932735816219979, 0.932735816219979, 0.932735816219979, 0.932735816219979, 0.932735816219979, 0.932735816219979, 0.932735816219979, 0.932735816219979, 0.932735816219979, 0.932735816219979, 0.932735816219979, 0.932735816219979, 0.932735816219979, 0.932735816219979, 0.932735816219979, 0.932735816219979, 0.932735816219979, 0.932735816219979, 0.932735816219979, 0.932735816219979, 0.932735816219979, 0.932735816219979, 0.932735816219979, 0.932735816219979, 0.932735816219979, 0.932735816219979, 0.932735816219979, 0.932735816219979, 0.932735816219979, 0.932735816219979, 0.932735816219979, 0.932735816219979, 0.932735816219979, 0.932735816219979, 0.932735816219979, 0.932735816219979, 0.932735816219979, 0.932735816219979, 0.932735816219979, 0.932735816219979, 0.932735816219979, 0.932735816219979, 0.932735816219979, 0.932735816219979, 0.932735816219979, 0.932735816219979, 0.932735816219979, 0.932735816219979, 0.932735816219979, 0.932735816219979, 0.932735816219979, 0.932735816219979, 0.932735816219979, 0.932735816219979, 0.932735816219979, 0.932735816219979, 0.932735816219979, 0.932735816219979, 0.932735816219979, 0.932735816219979, 0.932735816219979, 0.932735816219979, 0.932735816219979, 0.932735816219979, 0.932735816219979, 0.932735816219979, 0.932735816219979, 0.932735816219979, 0.932735816219979, 0.932735816219979, 0.932735816219979, 0.932735816219979, 0.932735816219979, 0.932735816219979, 0.932735816219979, 0.932735816219979, 0.932735816219979, 0.932735816219979, 0.932735816219979, 0.932735816219979, 0.932735816219979, 0.932735816219979, 0.932735816219979, 0.932735816219979, 0.932735816219979, 0.932735816219979, 0.932735816219979, 0.932735816219979, 0.932735816219979, 0.932735816219979, 0.932735816219979, 0.932735816219979, 0.932735816219979, 0.932735816219979, 0.932735816219979, 0.932735816219979, 0.932735816219979, 0.932735816219979, 0.932735816219979, 0.932735816219979, 0.932735816219979, 0.932735816219979, 0.932735816219979, 0.932735816219979, 0.932735816219979, 0.932735816219979, 0.932735816219979]}, {\"label\": \"P porcento\", \"range\": [0, 1], \"values\": [0.37158785876522815, 0.4149193362450017, 0.42225893041503204, 0.4640142207985245, 0.4503264856717244, 0.44249472070352047, 0.430030080683703, 0.44406790813976443, 0.45018669784441673, 0.4988911066755378, 0.4953019620231958, 0.5493671480568275, 0.5367380182164406, 0.5200023116350817, 0.5340552375425361, 0.5270892996615465, 0.5236740342209749, 0.5214216727834653, 0.5180792261630586, 0.5147793584804913, 0.5327142325518455, 0.5304664931739895, 0.526027443021906, 0.5238356620093146, 0.5238356620093146, 0.5227466065789419, 0.526027443021906, 0.527130225921323, 0.5216620700507698, 0.5205820243570829, 0.5205820243570829, 0.5205820243570829, 0.5205820243570829, 0.5205820243570829, 0.5205820243570829, 0.5205820243570829, 0.5205820243570829, 0.5205820243570829, 0.5205820243570829, 0.5205820243570829, 0.5205820243570829, 0.5205820243570829, 0.5205820243570829, 0.5205820243570829, 0.5205820243570829, 0.5205820243570829, 0.5205820243570829, 0.5205820243570829, 0.5205820243570829, 0.5205820243570829, 0.5205820243570829, 0.5205820243570829, 0.5205820243570829, 0.5205820243570829, 0.5205820243570829, 0.5205820243570829, 0.5205820243570829, 0.5205820243570829, 0.5205820243570829, 0.5205820243570829, 0.5205820243570829, 0.5205820243570829, 0.5205820243570829, 0.5205820243570829, 0.5205820243570829, 0.5205820243570829, 0.5205820243570829, 0.5205820243570829, 0.5205820243570829, 0.5205820243570829, 0.5205820243570829, 0.5205820243570829, 0.5205820243570829, 0.5205820243570829, 0.5205820243570829, 0.5205820243570829, 0.5205820243570829, 0.5205820243570829, 0.5205820243570829, 0.5205820243570829, 0.5205820243570829, 0.5205820243570829, 0.5205820243570829, 0.5205820243570829, 0.5205820243570829, 0.5205820243570829, 0.5205820243570829, 0.5205820243570829, 0.5205820243570829, 0.5205820243570829, 0.5205820243570829, 0.5205820243570829, 0.5205820243570829, 0.5205820243570829, 0.5205820243570829, 0.5205820243570829, 0.5205820243570829, 0.5205820243570829, 0.5205820243570829, 0.5205820243570829, 0.5205820243570829, 0.5205820243570829, 0.5205820243570829, 0.5205820243570829, 0.5205820243570829, 0.5205820243570829, 0.5205820243570829, 0.5205820243570829, 0.5205820243570829, 0.5205820243570829, 0.5205820243570829, 0.5205820243570829, 0.5205820243570829, 0.5205820243570829, 0.5205820243570829, 0.5205820243570829, 0.5205820243570829, 0.5205820243570829, 0.5205820243570829, 0.5205820243570829, 0.5205820243570829, 0.5205820243570829, 0.5205820243570829, 0.5205820243570829, 0.5205820243570829, 0.5205820243570829, 0.5205820243570829, 0.5205820243570829, 0.5205820243570829, 0.5205820243570829, 0.5205820243570829, 0.5205820243570829, 0.5205820243570829, 0.5205820243570829, 0.5205820243570829, 0.5205820243570829, 0.5205820243570829, 0.5205820243570829, 0.5205820243570829, 0.5205820243570829, 0.5205820243570829, 0.5205820243570829, 0.5205820243570829, 0.5205820243570829, 0.5205820243570829, 0.5205820243570829, 0.5205820243570829, 0.5205820243570829, 0.5205820243570829, 0.5205820243570829]}, {\"label\": \"cv_aux\", \"range\": [1.2, 3], \"values\": [1.3755917095872716, 1.3737969740881377, 1.3722211143529734, 1.3712864356763617, 1.3703044692898771, 1.3721884646320535, 1.371269557143702, 1.3688882307845305, 1.3700073081529893, 1.370032689035326, 1.3703794242134777, 1.3750344685007048, 1.3759391101099543, 1.3846646964089209, 1.3867292225974115, 1.3858175112572908, 1.3838864136664626, 1.384085771240619, 1.3866103553230054, 1.3861709294176994, 1.3848951980100925, 1.3836268606081097, 1.3825750302265334, 1.3827853796154514, 1.3827853796154514, 1.3821595010358039, 1.384042579383783, 1.3846739146336866, 1.3815354273479024, 1.38237196706377, 1.38237196706377, 1.38237196706377, 1.38237196706377, 1.38237196706377, 1.38237196706377, 1.38237196706377, 1.38237196706377, 1.38237196706377, 1.38237196706377, 1.38237196706377, 1.38237196706377, 1.38237196706377, 1.38237196706377, 1.38237196706377, 1.38237196706377, 1.38237196706377, 1.38237196706377, 1.38237196706377, 1.38237196706377, 1.38237196706377, 1.38237196706377, 1.38237196706377, 1.38237196706377, 1.38237196706377, 1.38237196706377, 1.38237196706377, 1.38237196706377, 1.38237196706377, 1.38237196706377, 1.38237196706377, 1.38237196706377, 1.38237196706377, 1.38237196706377, 1.38237196706377, 1.38237196706377, 1.38237196706377, 1.38237196706377, 1.38237196706377, 1.38237196706377, 1.38237196706377, 1.38237196706377, 1.38237196706377, 1.38237196706377, 1.38237196706377, 1.38237196706377, 1.38237196706377, 1.38237196706377, 1.38237196706377, 1.38237196706377, 1.38237196706377, 1.38237196706377, 1.38237196706377, 1.38237196706377, 1.38237196706377, 1.38237196706377, 1.38237196706377, 1.38237196706377, 1.38237196706377, 1.38237196706377, 1.38237196706377, 1.38237196706377, 1.38237196706377, 1.38237196706377, 1.38237196706377, 1.38237196706377, 1.38237196706377, 1.38237196706377, 1.38237196706377, 1.38237196706377, 1.38237196706377, 1.38237196706377, 1.38237196706377, 1.38237196706377, 1.38237196706377, 1.38237196706377, 1.38237196706377, 1.38237196706377, 1.38237196706377, 1.38237196706377, 1.38237196706377, 1.38237196706377, 1.38237196706377, 1.38237196706377, 1.38237196706377, 1.38237196706377, 1.38237196706377, 1.38237196706377, 1.38237196706377, 1.38237196706377, 1.38237196706377, 1.38237196706377, 1.38237196706377, 1.38237196706377, 1.38237196706377, 1.38237196706377, 1.38237196706377, 1.38237196706377, 1.38237196706377, 1.38237196706377, 1.38237196706377, 1.38237196706377, 1.38237196706377, 1.38237196706377, 1.38237196706377, 1.38237196706377, 1.38237196706377, 1.38237196706377, 1.38237196706377, 1.38237196706377, 1.38237196706377, 1.38237196706377, 1.38237196706377, 1.38237196706377, 1.38237196706377, 1.38237196706377, 1.38237196706377, 1.38237196706377, 1.38237196706377, 1.38237196706377, 1.38237196706377]}], \"type\": \"parcoords\"}],\n",
       "                        {\"paper_bgcolor\": \"white\", \"plot_bgcolor\": \"white\", \"template\": {\"data\": {\"bar\": [{\"error_x\": {\"color\": \"#2a3f5f\"}, \"error_y\": {\"color\": \"#2a3f5f\"}, \"marker\": {\"line\": {\"color\": \"#E5ECF6\", \"width\": 0.5}}, \"type\": \"bar\"}], \"barpolar\": [{\"marker\": {\"line\": {\"color\": \"#E5ECF6\", \"width\": 0.5}}, \"type\": \"barpolar\"}], \"carpet\": [{\"aaxis\": {\"endlinecolor\": \"#2a3f5f\", \"gridcolor\": \"white\", \"linecolor\": \"white\", \"minorgridcolor\": \"white\", \"startlinecolor\": \"#2a3f5f\"}, \"baxis\": {\"endlinecolor\": \"#2a3f5f\", \"gridcolor\": \"white\", \"linecolor\": \"white\", \"minorgridcolor\": \"white\", \"startlinecolor\": \"#2a3f5f\"}, \"type\": \"carpet\"}], \"choropleth\": [{\"colorbar\": {\"outlinewidth\": 0, \"ticks\": \"\"}, \"type\": \"choropleth\"}], \"contour\": [{\"colorbar\": {\"outlinewidth\": 0, \"ticks\": \"\"}, \"colorscale\": [[0.0, \"#0d0887\"], [0.1111111111111111, \"#46039f\"], [0.2222222222222222, \"#7201a8\"], [0.3333333333333333, \"#9c179e\"], [0.4444444444444444, \"#bd3786\"], [0.5555555555555556, \"#d8576b\"], [0.6666666666666666, \"#ed7953\"], [0.7777777777777778, \"#fb9f3a\"], [0.8888888888888888, \"#fdca26\"], [1.0, \"#f0f921\"]], \"type\": \"contour\"}], \"contourcarpet\": [{\"colorbar\": {\"outlinewidth\": 0, \"ticks\": \"\"}, \"type\": \"contourcarpet\"}], \"heatmap\": [{\"colorbar\": {\"outlinewidth\": 0, \"ticks\": \"\"}, \"colorscale\": [[0.0, \"#0d0887\"], [0.1111111111111111, \"#46039f\"], [0.2222222222222222, \"#7201a8\"], [0.3333333333333333, \"#9c179e\"], [0.4444444444444444, \"#bd3786\"], [0.5555555555555556, \"#d8576b\"], [0.6666666666666666, \"#ed7953\"], [0.7777777777777778, \"#fb9f3a\"], [0.8888888888888888, \"#fdca26\"], [1.0, \"#f0f921\"]], \"type\": \"heatmap\"}], \"heatmapgl\": [{\"colorbar\": {\"outlinewidth\": 0, \"ticks\": \"\"}, \"colorscale\": [[0.0, \"#0d0887\"], [0.1111111111111111, \"#46039f\"], [0.2222222222222222, \"#7201a8\"], [0.3333333333333333, \"#9c179e\"], [0.4444444444444444, \"#bd3786\"], [0.5555555555555556, \"#d8576b\"], [0.6666666666666666, \"#ed7953\"], [0.7777777777777778, \"#fb9f3a\"], [0.8888888888888888, \"#fdca26\"], [1.0, \"#f0f921\"]], \"type\": \"heatmapgl\"}], \"histogram\": [{\"marker\": {\"colorbar\": {\"outlinewidth\": 0, \"ticks\": \"\"}}, \"type\": \"histogram\"}], \"histogram2d\": [{\"colorbar\": {\"outlinewidth\": 0, \"ticks\": \"\"}, \"colorscale\": [[0.0, \"#0d0887\"], [0.1111111111111111, \"#46039f\"], [0.2222222222222222, \"#7201a8\"], [0.3333333333333333, \"#9c179e\"], [0.4444444444444444, \"#bd3786\"], [0.5555555555555556, \"#d8576b\"], [0.6666666666666666, \"#ed7953\"], [0.7777777777777778, \"#fb9f3a\"], [0.8888888888888888, \"#fdca26\"], [1.0, \"#f0f921\"]], \"type\": \"histogram2d\"}], \"histogram2dcontour\": [{\"colorbar\": {\"outlinewidth\": 0, \"ticks\": \"\"}, \"colorscale\": [[0.0, \"#0d0887\"], [0.1111111111111111, \"#46039f\"], [0.2222222222222222, \"#7201a8\"], [0.3333333333333333, \"#9c179e\"], [0.4444444444444444, \"#bd3786\"], [0.5555555555555556, \"#d8576b\"], [0.6666666666666666, \"#ed7953\"], [0.7777777777777778, \"#fb9f3a\"], [0.8888888888888888, \"#fdca26\"], [1.0, \"#f0f921\"]], \"type\": \"histogram2dcontour\"}], \"mesh3d\": [{\"colorbar\": {\"outlinewidth\": 0, \"ticks\": \"\"}, \"type\": \"mesh3d\"}], \"parcoords\": [{\"line\": {\"colorbar\": {\"outlinewidth\": 0, \"ticks\": \"\"}}, \"type\": \"parcoords\"}], \"pie\": [{\"automargin\": true, \"type\": \"pie\"}], \"scatter\": [{\"marker\": {\"colorbar\": {\"outlinewidth\": 0, \"ticks\": \"\"}}, \"type\": \"scatter\"}], \"scatter3d\": [{\"line\": {\"colorbar\": {\"outlinewidth\": 0, \"ticks\": \"\"}}, \"marker\": {\"colorbar\": {\"outlinewidth\": 0, \"ticks\": \"\"}}, \"type\": \"scatter3d\"}], \"scattercarpet\": [{\"marker\": {\"colorbar\": {\"outlinewidth\": 0, \"ticks\": \"\"}}, \"type\": \"scattercarpet\"}], \"scattergeo\": [{\"marker\": {\"colorbar\": {\"outlinewidth\": 0, \"ticks\": \"\"}}, \"type\": \"scattergeo\"}], \"scattergl\": [{\"marker\": {\"colorbar\": {\"outlinewidth\": 0, \"ticks\": \"\"}}, \"type\": \"scattergl\"}], \"scattermapbox\": [{\"marker\": {\"colorbar\": {\"outlinewidth\": 0, \"ticks\": \"\"}}, \"type\": \"scattermapbox\"}], \"scatterpolar\": [{\"marker\": {\"colorbar\": {\"outlinewidth\": 0, \"ticks\": \"\"}}, \"type\": \"scatterpolar\"}], \"scatterpolargl\": [{\"marker\": {\"colorbar\": {\"outlinewidth\": 0, \"ticks\": \"\"}}, \"type\": \"scatterpolargl\"}], \"scatterternary\": [{\"marker\": {\"colorbar\": {\"outlinewidth\": 0, \"ticks\": \"\"}}, \"type\": \"scatterternary\"}], \"surface\": [{\"colorbar\": {\"outlinewidth\": 0, \"ticks\": \"\"}, \"colorscale\": [[0.0, \"#0d0887\"], [0.1111111111111111, \"#46039f\"], [0.2222222222222222, \"#7201a8\"], [0.3333333333333333, \"#9c179e\"], [0.4444444444444444, \"#bd3786\"], [0.5555555555555556, \"#d8576b\"], [0.6666666666666666, \"#ed7953\"], [0.7777777777777778, \"#fb9f3a\"], [0.8888888888888888, \"#fdca26\"], [1.0, \"#f0f921\"]], \"type\": \"surface\"}], \"table\": [{\"cells\": {\"fill\": {\"color\": \"#EBF0F8\"}, \"line\": {\"color\": \"white\"}}, \"header\": {\"fill\": {\"color\": \"#C8D4E3\"}, \"line\": {\"color\": \"white\"}}, \"type\": \"table\"}]}, \"layout\": {\"annotationdefaults\": {\"arrowcolor\": \"#2a3f5f\", \"arrowhead\": 0, \"arrowwidth\": 1}, \"coloraxis\": {\"colorbar\": {\"outlinewidth\": 0, \"ticks\": \"\"}}, \"colorscale\": {\"diverging\": [[0, \"#8e0152\"], [0.1, \"#c51b7d\"], [0.2, \"#de77ae\"], [0.3, \"#f1b6da\"], [0.4, \"#fde0ef\"], [0.5, \"#f7f7f7\"], [0.6, \"#e6f5d0\"], [0.7, \"#b8e186\"], [0.8, \"#7fbc41\"], [0.9, \"#4d9221\"], [1, \"#276419\"]], \"sequential\": [[0.0, \"#0d0887\"], [0.1111111111111111, \"#46039f\"], [0.2222222222222222, \"#7201a8\"], [0.3333333333333333, \"#9c179e\"], [0.4444444444444444, \"#bd3786\"], [0.5555555555555556, \"#d8576b\"], [0.6666666666666666, \"#ed7953\"], [0.7777777777777778, \"#fb9f3a\"], [0.8888888888888888, \"#fdca26\"], [1.0, \"#f0f921\"]], \"sequentialminus\": [[0.0, \"#0d0887\"], [0.1111111111111111, \"#46039f\"], [0.2222222222222222, \"#7201a8\"], [0.3333333333333333, \"#9c179e\"], [0.4444444444444444, \"#bd3786\"], [0.5555555555555556, \"#d8576b\"], [0.6666666666666666, \"#ed7953\"], [0.7777777777777778, \"#fb9f3a\"], [0.8888888888888888, \"#fdca26\"], [1.0, \"#f0f921\"]]}, \"colorway\": [\"#636efa\", \"#EF553B\", \"#00cc96\", \"#ab63fa\", \"#FFA15A\", \"#19d3f3\", \"#FF6692\", \"#B6E880\", \"#FF97FF\", \"#FECB52\"], \"font\": {\"color\": \"#2a3f5f\"}, \"geo\": {\"bgcolor\": \"white\", \"lakecolor\": \"white\", \"landcolor\": \"#E5ECF6\", \"showlakes\": true, \"showland\": true, \"subunitcolor\": \"white\"}, \"hoverlabel\": {\"align\": \"left\"}, \"hovermode\": \"closest\", \"mapbox\": {\"style\": \"light\"}, \"paper_bgcolor\": \"white\", \"plot_bgcolor\": \"#E5ECF6\", \"polar\": {\"angularaxis\": {\"gridcolor\": \"white\", \"linecolor\": \"white\", \"ticks\": \"\"}, \"bgcolor\": \"#E5ECF6\", \"radialaxis\": {\"gridcolor\": \"white\", \"linecolor\": \"white\", \"ticks\": \"\"}}, \"scene\": {\"xaxis\": {\"backgroundcolor\": \"#E5ECF6\", \"gridcolor\": \"white\", \"gridwidth\": 2, \"linecolor\": \"white\", \"showbackground\": true, \"ticks\": \"\", \"zerolinecolor\": \"white\"}, \"yaxis\": {\"backgroundcolor\": \"#E5ECF6\", \"gridcolor\": \"white\", \"gridwidth\": 2, \"linecolor\": \"white\", \"showbackground\": true, \"ticks\": \"\", \"zerolinecolor\": \"white\"}, \"zaxis\": {\"backgroundcolor\": \"#E5ECF6\", \"gridcolor\": \"white\", \"gridwidth\": 2, \"linecolor\": \"white\", \"showbackground\": true, \"ticks\": \"\", \"zerolinecolor\": \"white\"}}, \"shapedefaults\": {\"line\": {\"color\": \"#2a3f5f\"}}, \"ternary\": {\"aaxis\": {\"gridcolor\": \"white\", \"linecolor\": \"white\", \"ticks\": \"\"}, \"baxis\": {\"gridcolor\": \"white\", \"linecolor\": \"white\", \"ticks\": \"\"}, \"bgcolor\": \"#E5ECF6\", \"caxis\": {\"gridcolor\": \"white\", \"linecolor\": \"white\", \"ticks\": \"\"}}, \"title\": {\"x\": 0.05}, \"xaxis\": {\"automargin\": true, \"gridcolor\": \"white\", \"linecolor\": \"white\", \"ticks\": \"\", \"title\": {\"standoff\": 15}, \"zerolinecolor\": \"white\", \"zerolinewidth\": 2}, \"yaxis\": {\"automargin\": true, \"gridcolor\": \"white\", \"linecolor\": \"white\", \"ticks\": \"\", \"title\": {\"standoff\": 15}, \"zerolinecolor\": \"white\", \"zerolinewidth\": 2}}}},\n",
       "                        {\"responsive\": true}\n",
       "                    ).then(function(){\n",
       "                            \n",
       "var gd = document.getElementById('05d5f04b-caaf-4677-99ad-a0a7ee19fa0f');\n",
       "var x = new MutationObserver(function (mutations, observer) {{\n",
       "        var display = window.getComputedStyle(gd).display;\n",
       "        if (!display || display === 'none') {{\n",
       "            console.log([gd, 'removed!']);\n",
       "            Plotly.purge(gd);\n",
       "            observer.disconnect();\n",
       "        }}\n",
       "}});\n",
       "\n",
       "// Listen for the removal of the full notebook cells\n",
       "var notebookContainer = gd.closest('#notebook-container');\n",
       "if (notebookContainer) {{\n",
       "    x.observe(notebookContainer, {childList: true});\n",
       "}}\n",
       "\n",
       "// Listen for the clearing of the current output cell\n",
       "var outputEl = gd.closest('.output');\n",
       "if (outputEl) {{\n",
       "    x.observe(outputEl, {childList: true});\n",
       "}}\n",
       "\n",
       "                        })\n",
       "                };\n",
       "                });\n",
       "            </script>\n",
       "        </div>"
      ]
     },
     "metadata": {},
     "output_type": "display_data"
    }
   ],
   "source": [
    "fig = go.Figure(data=\n",
    "    go.Parcoords(\n",
    "        line = dict(),\n",
    "        dimensions = list([\n",
    "            dict(range = [0,1],\n",
    "                label = 'Acurácia', values = metrics_adult_log['Acurácia']),\n",
    "            dict(range = [0,1],\n",
    "                label = 'Igualdade de Oportunidade', values = metrics_adult_log['Igualdade de Oportunidade']),\n",
    "            dict(range = [0,1],\n",
    "                label = 'P porcento', values = metrics_adult_log['P porcento']),\n",
    "            dict(range = [1.2,3],\n",
    "                label = 'cv_aux', values = metrics_adult_log['cv_aux']),\n",
    "        ])\n",
    "    )\n",
    ")\n",
    "\n",
    "fig.update_layout(\n",
    "    plot_bgcolor = 'white',\n",
    "    paper_bgcolor = 'white'\n",
    ")\n",
    "\n",
    "fig.show()"
   ]
  },
  {
   "cell_type": "code",
   "execution_count": null,
   "metadata": {},
   "outputs": [
    {
     "name": "stdout",
     "output_type": "stream",
     "text": [
      "C:  1e-10  - c:  1e-05\n",
      "C:  1e-10  - c:  0.11112\n",
      "C:  1e-10  - c:  0.22223\n",
      "C:  1e-10  - c:  0.33334\n",
      "C:  1e-10  - c:  0.44445\n",
      "C:  1e-10  - c:  0.5555599999999999\n",
      "C:  1e-10  - c:  0.66667\n",
      "C:  1e-10  - c:  0.7777799999999999\n",
      "C:  1e-10  - c:  0.88889\n",
      "C:  1e-10  - c:  1.0\n",
      "C:  1.3621602035512733e-10  - c:  1e-05\n",
      "C:  1.3621602035512733e-10  - c:  0.11112\n",
      "C:  1.3621602035512733e-10  - c:  0.22223\n",
      "C:  1.3621602035512733e-10  - c:  0.33334\n",
      "C:  1.3621602035512733e-10  - c:  0.44445\n",
      "C:  1.3621602035512733e-10  - c:  0.5555599999999999\n",
      "C:  1.3621602035512733e-10  - c:  0.66667\n",
      "C:  1.3621602035512733e-10  - c:  0.7777799999999999\n",
      "C:  1.3621602035512733e-10  - c:  0.88889\n",
      "C:  1.3621602035512733e-10  - c:  1.0\n",
      "C:  1.855480420138846e-10  - c:  1e-05\n",
      "C:  1.855480420138846e-10  - c:  0.11112\n",
      "C:  1.855480420138846e-10  - c:  0.22223\n",
      "C:  1.855480420138846e-10  - c:  0.33334\n",
      "C:  1.855480420138846e-10  - c:  0.44445\n",
      "C:  1.855480420138846e-10  - c:  0.5555599999999999\n",
      "C:  1.855480420138846e-10  - c:  0.66667\n",
      "C:  1.855480420138846e-10  - c:  0.7777799999999999\n",
      "C:  1.855480420138846e-10  - c:  0.88889\n",
      "C:  1.855480420138846e-10  - c:  1.0\n",
      "C:  2.5274615867817323e-10  - c:  1e-05\n",
      "C:  2.5274615867817323e-10  - c:  0.11112\n",
      "C:  2.5274615867817323e-10  - c:  0.22223\n",
      "C:  2.5274615867817323e-10  - c:  0.33334\n",
      "C:  2.5274615867817323e-10  - c:  0.44445\n",
      "C:  2.5274615867817323e-10  - c:  0.5555599999999999\n",
      "C:  2.5274615867817323e-10  - c:  0.66667\n",
      "C:  2.5274615867817323e-10  - c:  0.7777799999999999\n",
      "C:  2.5274615867817323e-10  - c:  0.88889\n",
      "C:  2.5274615867817323e-10  - c:  1.0\n",
      "C:  3.442807589518614e-10  - c:  1e-05\n",
      "C:  3.442807589518614e-10  - c:  0.11112\n",
      "C:  3.442807589518614e-10  - c:  0.22223\n",
      "C:  3.442807589518614e-10  - c:  0.33334\n",
      "C:  3.442807589518614e-10  - c:  0.44445\n",
      "C:  3.442807589518614e-10  - c:  0.5555599999999999\n",
      "C:  3.442807589518614e-10  - c:  0.66667\n",
      "C:  3.442807589518614e-10  - c:  0.7777799999999999\n",
      "C:  3.442807589518614e-10  - c:  0.88889\n",
      "C:  3.442807589518614e-10  - c:  1.0\n",
      "C:  4.689655486926544e-10  - c:  1e-05\n",
      "C:  4.689655486926544e-10  - c:  0.11112\n",
      "C:  4.689655486926544e-10  - c:  0.22223\n",
      "C:  4.689655486926544e-10  - c:  0.33334\n",
      "C:  4.689655486926544e-10  - c:  0.44445\n",
      "C:  4.689655486926544e-10  - c:  0.5555599999999999\n",
      "C:  4.689655486926544e-10  - c:  0.66667\n",
      "C:  4.689655486926544e-10  - c:  0.7777799999999999\n",
      "C:  4.689655486926544e-10  - c:  0.88889\n",
      "C:  4.689655486926544e-10  - c:  1.0\n",
      "C:  6.388062072657205e-10  - c:  1e-05\n",
      "C:  6.388062072657205e-10  - c:  0.11112\n",
      "C:  6.388062072657205e-10  - c:  0.22223\n",
      "C:  6.388062072657205e-10  - c:  0.33334\n",
      "C:  6.388062072657205e-10  - c:  0.44445\n",
      "C:  6.388062072657205e-10  - c:  0.5555599999999999\n",
      "C:  6.388062072657205e-10  - c:  0.66667\n",
      "C:  6.388062072657205e-10  - c:  0.7777799999999999\n",
      "C:  6.388062072657205e-10  - c:  0.88889\n",
      "C:  6.388062072657205e-10  - c:  1.0\n",
      "C:  8.701563933188906e-10  - c:  1e-05\n",
      "C:  8.701563933188906e-10  - c:  0.11112\n",
      "C:  8.701563933188906e-10  - c:  0.22223\n",
      "C:  8.701563933188906e-10  - c:  0.33334\n",
      "C:  8.701563933188906e-10  - c:  0.44445\n",
      "C:  8.701563933188906e-10  - c:  0.5555599999999999\n",
      "C:  8.701563933188906e-10  - c:  0.66667\n",
      "C:  8.701563933188906e-10  - c:  0.7777799999999999\n",
      "C:  8.701563933188906e-10  - c:  0.88889\n",
      "C:  8.701563933188906e-10  - c:  1.0\n",
      "C:  1.185292409844702e-09  - c:  1e-05\n",
      "C:  1.185292409844702e-09  - c:  0.11112\n",
      "C:  1.185292409844702e-09  - c:  0.22223\n",
      "C:  1.185292409844702e-09  - c:  0.33334\n",
      "C:  1.185292409844702e-09  - c:  0.44445\n",
      "C:  1.185292409844702e-09  - c:  0.5555599999999999\n",
      "C:  1.185292409844702e-09  - c:  0.66667\n",
      "C:  1.185292409844702e-09  - c:  0.7777799999999999\n",
      "C:  1.185292409844702e-09  - c:  0.88889\n",
      "C:  1.185292409844702e-09  - c:  1.0\n",
      "C:  1.6145581502618381e-09  - c:  1e-05\n",
      "C:  1.6145581502618381e-09  - c:  0.11112\n",
      "C:  1.6145581502618381e-09  - c:  0.22223\n",
      "C:  1.6145581502618381e-09  - c:  0.33334\n",
      "C:  1.6145581502618381e-09  - c:  0.44445\n",
      "C:  1.6145581502618381e-09  - c:  0.5555599999999999\n",
      "C:  1.6145581502618381e-09  - c:  0.66667\n",
      "C:  1.6145581502618381e-09  - c:  0.7777799999999999\n",
      "C:  1.6145581502618381e-09  - c:  0.88889\n",
      "C:  1.6145581502618381e-09  - c:  1.0\n",
      "C:  2.1992868586060326e-09  - c:  1e-05\n",
      "C:  2.1992868586060326e-09  - c:  0.11112\n",
      "C:  2.1992868586060326e-09  - c:  0.22223\n",
      "C:  2.1992868586060326e-09  - c:  0.33334\n",
      "C:  2.1992868586060326e-09  - c:  0.44445\n",
      "C:  2.1992868586060326e-09  - c:  0.5555599999999999\n"
     ]
    }
   ],
   "source": [
    "C_values = np.logspace(-10, 10, 150)\n",
    "c_values = np.linspace(1e-5, 1, 10)\n",
    "\n",
    "metrics_adult_eqo_aux = {\"Acurácia\": [], \"Igualdade de Oportunidade\": [], \"P porcento\": [], \"Coeficiente de variação\": []}\n",
    "\n",
    "for C in C_values:\n",
    "    for c in c_values:\n",
    "        try:\n",
    "            model = EqualOpportunityClassifier(sensitive_cols=fair_feature, positive_target=True, covariance_threshold=c, \n",
    "                                               C=C, max_iter=10**3)\n",
    "            model.fit(X_train, y_train)\n",
    "            metrics_adult_eqo_aux[\"Acurácia\"].append(model.score(X_test, y_test))\n",
    "            metrics_adult_eqo_aux[\"Igualdade de Oportunidade\"].append(equal_opportunity_score(sensitive_column=fair_feature)(model,\n",
    "                                                                                                                    X_test, y_test))\n",
    "            metrics_adult_eqo_aux[\"P porcento\"].append(p_percent_score(sensitive_column=fair_feature)(model,X_test))\n",
    "            metrics_adult_eqo_aux[\"Coeficiente de variação\"].append(coefficient_of_variation(model, X_test, y_test))\n",
    "        except:\n",
    "            print(\"C: \",C,\" - c: \",c)"
   ]
  },
  {
   "cell_type": "code",
   "execution_count": null,
   "metadata": {},
   "outputs": [],
   "source": [
    "metrics_adult_eqo = pd.DataFrame(data=metrics_adult_eqo_aux, columns=['Acurácia','Igualdade de Oportunidade','P porcento',\n",
    "                                     'Coeficiente de variação'])\n",
    "\n",
    "metrics_adult_eqo['cv_aux'] = 1/metrics_adult_eqo['Coeficiente de variação']\n",
    "\n",
    "metrics_adult_eqo = metrics_adult_eqo.drop('Coeficiente de variação', axis=1)\n",
    "dominate_metr = [any([dominate(other, row) for other in metrics_adult_eqo.values]) for row in metrics_adult_eqo.values]\n",
    "metrics_adult_eqo['dominated'] = dominate_metr"
   ]
  },
  {
   "cell_type": "code",
   "execution_count": null,
   "metadata": {},
   "outputs": [],
   "source": [
    "fig = go.Figure(data=\n",
    "    go.Parcoords(\n",
    "        line = dict(),\n",
    "        dimensions = list([\n",
    "            dict(range = [0,1],\n",
    "                label = 'Acurácia', values = metrics_adult_eqo['Acurácia']),\n",
    "            dict(range = [0,1],\n",
    "                label = 'Igualdade de Oportunidade', values = metrics_adult_eqo['Igualdade de Oportunidade']),\n",
    "            dict(range = [0,1],\n",
    "                label = 'P porcento', values = metrics_adult_eqo['P porcento']),\n",
    "            dict(range = [1.2,3],\n",
    "                label = 'cv_aux', values = metrics_adult_eqo['cv_aux']),\n",
    "        ])\n",
    "    )\n",
    ")\n",
    "\n",
    "fig.update_layout(\n",
    "    plot_bgcolor = 'white',\n",
    "    paper_bgcolor = 'white'\n",
    ")\n",
    "\n",
    "fig.show()"
   ]
  },
  {
   "cell_type": "code",
   "execution_count": null,
   "metadata": {},
   "outputs": [],
   "source": []
  },
  {
   "cell_type": "markdown",
   "metadata": {},
   "source": [
    "## COMPAS"
   ]
  },
  {
   "cell_type": "code",
   "execution_count": 15,
   "metadata": {},
   "outputs": [],
   "source": [
    "data = pd.read_csv(\"Datasets - Limpos/compas_onerace.csv\")\n",
    "fair_feature = \"not_white\"\n",
    "pred_feature = \"Two_yr_Recidivism\""
   ]
  },
  {
   "cell_type": "code",
   "execution_count": 16,
   "metadata": {},
   "outputs": [],
   "source": [
    "X = data.drop([pred_feature], axis=1)\n",
    "y = data[pred_feature]\n",
    "\n",
    "\n",
    "X_tv, X_test, y_tv, y_test = train_test_split(X, y, test_size=1000)\n",
    "X_train, X_val, y_train, y_val = train_test_split(X_tv, y_tv, test_size=1000)"
   ]
  },
  {
   "cell_type": "code",
   "execution_count": null,
   "metadata": {},
   "outputs": [],
   "source": []
  }
 ],
 "metadata": {
  "kernelspec": {
   "display_name": "Python 3",
   "language": "python",
   "name": "python3"
  },
  "language_info": {
   "codemirror_mode": {
    "name": "ipython",
    "version": 3
   },
   "file_extension": ".py",
   "mimetype": "text/x-python",
   "name": "python",
   "nbconvert_exporter": "python",
   "pygments_lexer": "ipython3",
   "version": "3.7.7"
  }
 },
 "nbformat": 4,
 "nbformat_minor": 4
}
