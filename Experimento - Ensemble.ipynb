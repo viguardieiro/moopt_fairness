{
 "cells": [
  {
   "cell_type": "code",
   "execution_count": 226,
   "metadata": {},
   "outputs": [],
   "source": [
    "import pandas as pd\n",
    "import math\n",
    "import random\n",
    "import numpy as np\n",
    "\n",
    "from sklearn import preprocessing\n",
    "from sklearn.model_selection import train_test_split\n",
    "from sklearn.linear_model import LogisticRegression\n",
    "from sklego.metrics import equal_opportunity_score\n",
    "from sklego.metrics import p_percent_score\n",
    "from sklearn.metrics import log_loss, accuracy_score\n",
    "from sklearn.utils.extmath import squared_norm\n",
    "import optuna, sklearn, sklearn.datasets\n",
    "\n",
    "from moopt.scalarization_interface import scalar_interface, single_interface, w_interface\n",
    "from moopt import monise\n",
    "\n",
    "from fair_models import coefficient_of_variation, MOOLogisticRegression, FindCLogisticRegression, FindCCLogisticRegression\n",
    "from fair_models import calc_reweight\n",
    "from fair_models import FairScalarization, EqualScalarization\n",
    "from fair_models import SimpleVoting\n",
    "\n",
    "import plotly\n",
    "import plotly.graph_objects as go\n",
    "import matplotlib.pyplot as plt\n",
    "\n",
    "import sys\n",
    "sys.path.append(\"./MMFP/\")\n",
    "from MMPF.MinimaxParetoFair.MMPF_trainer import SKLearn_Weighted_LLR, APSTAR"
   ]
  },
  {
   "cell_type": "code",
   "execution_count": 227,
   "metadata": {},
   "outputs": [],
   "source": [
    "from sklego.linear_model import DemographicParityClassifier\n",
    "from sklego.linear_model import EqualOpportunityClassifier\n",
    "from sklearn.linear_model import LogisticRegression"
   ]
  },
  {
   "cell_type": "code",
   "execution_count": 228,
   "metadata": {},
   "outputs": [],
   "source": [
    "# Minimax - Marrom, LogReg - Amarelo, Reweight - Verde, ParDem - Roxo, EqOP - Laranja\n",
    "# MOErro - Azul, MooAcep - Vermelho\n",
    "hist_color = {'Minimax': '#a65628', 'LogReg':'#f781bf', 'Reweight':'#4daf4a', \n",
    "                'ParDem': '#984ea3', 'EqOp': '#ff7f00', 'MOOErro': '#377eb8','MOOAcep': '#e41a1c'}\n",
    "line_color = {'Minimax': '#c9997e', 'LogReg':'#f781bf', 'Reweight':'#94cf92', \n",
    "                'ParDem': '#c194c7', 'EqOp': '#ffb266', 'MOOErro': '#87b1d4','MOOAcep': '#f18c8d'}"
   ]
  },
  {
   "cell_type": "markdown",
   "metadata": {},
   "source": [
    "# Dataset"
   ]
  },
  {
   "cell_type": "code",
   "execution_count": 640,
   "metadata": {},
   "outputs": [],
   "source": [
    "#data = pd.read_csv(\"Datasets - Limpos/compas_onerace.csv\")\n",
    "#fair_feature = \"not_white\"\n",
    "#pred_feature = \"Two_yr_Recidivism\"\n",
    "\n",
    "data = pd.read_csv(\"Datasets - Limpos/german.csv\")\n",
    "fair_feature = \"Sex\"\n",
    "pred_feature = \"Risk\"\n",
    "\n",
    "#data = pd.read_csv(\"Datasets - Limpos/adult.csv\")\n",
    "#fair_feature = \"race\"\n",
    "#pred_feature = \"income\""
   ]
  },
  {
   "cell_type": "code",
   "execution_count": 641,
   "metadata": {},
   "outputs": [],
   "source": [
    "categories_fair_class = []\n",
    "\n",
    "for index, row in data.iterrows():\n",
    "    if row[pred_feature] == -1:\n",
    "        categories_fair_class.append(row[fair_feature])\n",
    "    else:\n",
    "        categories_fair_class.append(row[fair_feature]+2)"
   ]
  },
  {
   "cell_type": "code",
   "execution_count": 642,
   "metadata": {},
   "outputs": [
    {
     "name": "stdout",
     "output_type": "stream",
     "text": [
      "540\n"
     ]
    }
   ],
   "source": [
    "random_gen = random.randint(0, 1000)\n",
    "#random_gen = 262\n",
    "print(random_gen)"
   ]
  },
  {
   "cell_type": "code",
   "execution_count": 643,
   "metadata": {},
   "outputs": [],
   "source": [
    "X = data.drop([pred_feature], axis=1)\n",
    "y = data[pred_feature]\n",
    "\n",
    "X_tv, X_test, y_tv, y_test = train_test_split(X, y, test_size=int(data.shape[0]*0.2),stratify=categories_fair_class,\n",
    "                                             random_state=random_gen)\n",
    "\n",
    "ads = [categories_fair_class[i] for i in range(data.shape[0]) if i in X_tv.index.tolist()]\n",
    "X_train, X_val, y_train, y_val = train_test_split(X_tv, y_tv, test_size=int(data.shape[0]*0.2),\n",
    "                                                  stratify=ads, random_state=random_gen)"
   ]
  },
  {
   "cell_type": "code",
   "execution_count": 644,
   "metadata": {},
   "outputs": [],
   "source": [
    "other_solutions_list = {'Minimax': [], 'LogReg':[], 'Reweight':[], 'ParDem':[], 'EqOp':[]}"
   ]
  },
  {
   "cell_type": "markdown",
   "metadata": {},
   "source": [
    "# Experimento 1 - Diversidade"
   ]
  },
  {
   "cell_type": "markdown",
   "metadata": {},
   "source": [
    "## Modelo 1) Fair Moo - Erro por grupo"
   ]
  },
  {
   "cell_type": "code",
   "execution_count": 645,
   "metadata": {},
   "outputs": [
    {
     "name": "stderr",
     "output_type": "stream",
     "text": [
      "2021-04-28 21:25:04,871 - moopt.monise - DEBUG: Finding 1th individual minima\n",
      "2021-04-28 21:25:04,903 - moopt.monise - DEBUG: Finding 2th individual minima\n",
      "2021-04-28 21:25:04,980 - moopt.monise - DEBUG: Finding 3th individual minima\n",
      "2021-04-28 21:25:05,012 - moopt.monise - DEBUG: 4th solution - importance: 1.0\n",
      "2021-04-28 21:25:05,059 - moopt.monise - DEBUG: 5th solution - importance: 1.0\n",
      "2021-04-28 21:25:05,108 - moopt.monise - DEBUG: 6th solution - importance: 1.0\n",
      "2021-04-28 21:25:05,174 - moopt.monise - DEBUG: 7th solution - importance: 1.0\n",
      "2021-04-28 21:25:05,265 - moopt.monise - DEBUG: 8th solution - importance: 1.0\n",
      "2021-04-28 21:25:05,331 - moopt.monise - DEBUG: 9th solution - importance: 0.51294611533535\n",
      "2021-04-28 21:25:05,403 - moopt.monise - DEBUG: 10th solution - importance: 0.3280393314718991\n",
      "2021-04-28 21:25:05,498 - moopt.monise - DEBUG: 11th solution - importance: 0.27440320249106537\n",
      "2021-04-28 21:25:05,570 - moopt.monise - DEBUG: 12th solution - importance: 0.23034366349375765\n",
      "2021-04-28 21:25:05,662 - moopt.monise - DEBUG: 13th solution - importance: 0.17435993349197135\n",
      "2021-04-28 21:25:05,760 - moopt.monise - DEBUG: 14th solution - importance: 0.1143544931878267\n",
      "2021-04-28 21:25:05,873 - moopt.monise - DEBUG: 15th solution - importance: 0.08975642398823167\n",
      "2021-04-28 21:25:05,978 - moopt.monise - DEBUG: 16th solution - importance: 0.07295239141886088\n",
      "2021-04-28 21:25:06,125 - moopt.monise - DEBUG: 17th solution - importance: 0.06953154183634747\n",
      "2021-04-28 21:25:06,233 - moopt.monise - DEBUG: 18th solution - importance: 0.06159897657843011\n",
      "2021-04-28 21:25:06,352 - moopt.monise - DEBUG: 19th solution - importance: 0.05958681000221888\n",
      "2021-04-28 21:25:06,492 - moopt.monise - DEBUG: 20th solution - importance: 0.04686298730582017\n",
      "2021-04-28 21:25:06,650 - moopt.monise - DEBUG: 21th solution - importance: 0.043528738314872875\n",
      "2021-04-28 21:25:06,805 - moopt.monise - DEBUG: 22th solution - importance: 0.042327021298128625\n",
      "2021-04-28 21:25:07,015 - moopt.monise - DEBUG: 23th solution - importance: 0.036032254678695995\n",
      "2021-04-28 21:25:07,148 - moopt.monise - DEBUG: 24th solution - importance: 0.03103610815309404\n",
      "2021-04-28 21:25:07,299 - moopt.monise - DEBUG: 25th solution - importance: 0.02719937190084045\n",
      "2021-04-28 21:25:07,444 - moopt.monise - DEBUG: 26th solution - importance: 0.025994470449696237\n",
      "2021-04-28 21:25:07,586 - moopt.monise - DEBUG: 27th solution - importance: 0.025494937161197342\n",
      "2021-04-28 21:25:07,753 - moopt.monise - DEBUG: 28th solution - importance: 0.02547659412807739\n",
      "2021-04-28 21:25:07,907 - moopt.monise - DEBUG: 29th solution - importance: 0.02510970131705153\n",
      "2021-04-28 21:25:08,102 - moopt.monise - DEBUG: 30th solution - importance: 0.024425289156318974\n",
      "2021-04-28 21:25:08,290 - moopt.monise - DEBUG: 31th solution - importance: 0.021539475492186218\n",
      "2021-04-28 21:25:08,490 - moopt.monise - DEBUG: 32th solution - importance: 0.021407503891423\n",
      "2021-04-28 21:25:08,713 - moopt.monise - DEBUG: 33th solution - importance: 0.020770367527535017\n",
      "2021-04-28 21:25:08,946 - moopt.monise - DEBUG: 34th solution - importance: 0.02058056053639595\n",
      "2021-04-28 21:25:09,340 - moopt.monise - DEBUG: 35th solution - importance: 0.020091404406641977\n",
      "2021-04-28 21:25:09,569 - moopt.monise - DEBUG: 36th solution - importance: 0.018261548328771558\n",
      "2021-04-28 21:25:09,793 - moopt.monise - DEBUG: 37th solution - importance: 0.01690764746266524\n",
      "2021-04-28 21:25:10,033 - moopt.monise - DEBUG: 38th solution - importance: 0.01489276387282347\n",
      "2021-04-28 21:25:10,311 - moopt.monise - DEBUG: 39th solution - importance: 0.01473542512033585\n",
      "2021-04-28 21:25:10,619 - moopt.monise - DEBUG: 40th solution - importance: 0.014292607106817894\n",
      "2021-04-28 21:25:10,868 - moopt.monise - DEBUG: 41th solution - importance: 0.01368532045607474\n",
      "2021-04-28 21:25:11,162 - moopt.monise - DEBUG: 42th solution - importance: 0.013640773860831996\n",
      "2021-04-28 21:25:11,455 - moopt.monise - DEBUG: 43th solution - importance: 0.012623737949649137\n",
      "2021-04-28 21:25:11,786 - moopt.monise - DEBUG: 44th solution - importance: 0.012171000455498812\n",
      "2021-04-28 21:25:12,144 - moopt.monise - DEBUG: 45th solution - importance: 0.011314871394816368\n",
      "2021-04-28 21:25:12,509 - moopt.monise - DEBUG: 46th solution - importance: 0.011295036674965347\n",
      "2021-04-28 21:25:12,883 - moopt.monise - DEBUG: 47th solution - importance: 0.010806324485981685\n",
      "2021-04-28 21:25:13,211 - moopt.monise - DEBUG: 48th solution - importance: 0.010012236636495328\n",
      "2021-04-28 21:25:13,585 - moopt.monise - DEBUG: 49th solution - importance: 0.009865266340529295\n",
      "2021-04-28 21:25:13,927 - moopt.monise - DEBUG: 50th solution - importance: 0.009859014415681575\n",
      "2021-04-28 21:25:14,277 - moopt.monise - DEBUG: 51th solution - importance: 0.008092748768527244\n",
      "2021-04-28 21:25:14,643 - moopt.monise - DEBUG: 52th solution - importance: 0.007444034398939192\n",
      "2021-04-28 21:25:15,097 - moopt.monise - DEBUG: 53th solution - importance: 0.007400326129501913\n",
      "2021-04-28 21:25:15,591 - moopt.monise - DEBUG: 54th solution - importance: 0.007249421761139342\n",
      "2021-04-28 21:25:16,060 - moopt.monise - DEBUG: 55th solution - importance: 0.007178374675369388\n",
      "2021-04-28 21:25:16,584 - moopt.monise - DEBUG: 56th solution - importance: 0.0070859470095479184\n",
      "2021-04-28 21:25:17,116 - moopt.monise - DEBUG: 57th solution - importance: 0.006992069129253363\n",
      "2021-04-28 21:25:17,633 - moopt.monise - DEBUG: 58th solution - importance: 0.006706225878289027\n",
      "2021-04-28 21:25:18,337 - moopt.monise - DEBUG: 59th solution - importance: 0.006676761696089009\n",
      "2021-04-28 21:25:19,070 - moopt.monise - DEBUG: 60th solution - importance: 0.006660365670583949\n",
      "2021-04-28 21:25:19,612 - moopt.monise - DEBUG: 61th solution - importance: 0.006076361997693911\n",
      "2021-04-28 21:25:20,277 - moopt.monise - DEBUG: 62th solution - importance: 0.0059896781886650645\n",
      "2021-04-28 21:25:20,934 - moopt.monise - DEBUG: 63th solution - importance: 0.005551559905283372\n",
      "2021-04-28 21:25:21,503 - moopt.monise - DEBUG: 64th solution - importance: 0.005077261802477244\n",
      "2021-04-28 21:25:22,078 - moopt.monise - DEBUG: 65th solution - importance: 0.00489081080391473\n",
      "2021-04-28 21:25:22,657 - moopt.monise - DEBUG: 66th solution - importance: 0.004693204337028853\n",
      "2021-04-28 21:25:23,241 - moopt.monise - DEBUG: 67th solution - importance: 0.0045985167912523115\n",
      "2021-04-28 21:25:23,963 - moopt.monise - DEBUG: 68th solution - importance: 0.004598236274755083\n",
      "2021-04-28 21:25:24,712 - moopt.monise - DEBUG: 69th solution - importance: 0.004592262171606634\n",
      "2021-04-28 21:25:25,537 - moopt.monise - DEBUG: 70th solution - importance: 0.004478128852361165\n",
      "2021-04-28 21:25:26,243 - moopt.monise - DEBUG: 71th solution - importance: 0.0044076807942212476\n",
      "2021-04-28 21:25:26,941 - moopt.monise - DEBUG: 72th solution - importance: 0.0044058851880875655\n",
      "2021-04-28 21:25:27,833 - moopt.monise - DEBUG: 73th solution - importance: 0.004088089049701086\n",
      "2021-04-28 21:25:28,621 - moopt.monise - DEBUG: 74th solution - importance: 0.0038038289032753126\n",
      "2021-04-28 21:25:29,393 - moopt.monise - DEBUG: 75th solution - importance: 0.003788591448204977\n",
      "2021-04-28 21:25:30,184 - moopt.monise - DEBUG: 76th solution - importance: 0.0036787313330375647\n",
      "2021-04-28 21:25:31,063 - moopt.monise - DEBUG: 77th solution - importance: 0.003674960076538375\n",
      "2021-04-28 21:25:32,780 - moopt.monise - DEBUG: 78th solution - importance: 0.00343339650686659\n",
      "2021-04-28 21:25:34,460 - moopt.monise - DEBUG: 79th solution - importance: 0.0032458773342151494\n",
      "2021-04-28 21:25:35,338 - moopt.monise - DEBUG: 80th solution - importance: 0.003237917859273675\n",
      "2021-04-28 21:25:36,304 - moopt.monise - DEBUG: 81th solution - importance: 0.003137169103658469\n",
      "2021-04-28 21:25:38,340 - moopt.monise - DEBUG: 82th solution - importance: 0.002933274250589265\n",
      "2021-04-28 21:25:40,027 - moopt.monise - DEBUG: 83th solution - importance: 0.002854424689146819\n",
      "2021-04-28 21:25:42,125 - moopt.monise - DEBUG: 84th solution - importance: 0.002772971833981565\n",
      "2021-04-28 21:25:43,981 - moopt.monise - DEBUG: 85th solution - importance: 0.0027544616398497614\n",
      "2021-04-28 21:25:45,853 - moopt.monise - DEBUG: 86th solution - importance: 0.0026964069400082424\n"
     ]
    },
    {
     "name": "stderr",
     "output_type": "stream",
     "text": [
      "2021-04-28 21:25:47,947 - moopt.monise - DEBUG: 87th solution - importance: 0.0026735125661015726\n",
      "2021-04-28 21:25:49,846 - moopt.monise - DEBUG: 88th solution - importance: 0.0026125156627140396\n",
      "2021-04-28 21:25:51,746 - moopt.monise - DEBUG: 89th solution - importance: 0.002606253207920187\n",
      "2021-04-28 21:25:53,602 - moopt.monise - DEBUG: 90th solution - importance: 0.0025761624343985856\n",
      "2021-04-28 21:25:55,447 - moopt.monise - DEBUG: 91th solution - importance: 0.0025571489741493267\n",
      "2021-04-28 21:25:57,558 - moopt.monise - DEBUG: 92th solution - importance: 0.00254520495524217\n",
      "2021-04-28 21:25:59,517 - moopt.monise - DEBUG: 93th solution - importance: 0.002520099004158309\n",
      "2021-04-28 21:26:01,648 - moopt.monise - DEBUG: 94th solution - importance: 0.002508081720575147\n",
      "2021-04-28 21:26:03,797 - moopt.monise - DEBUG: 95th solution - importance: 0.002441475339138369\n",
      "2021-04-28 21:26:05,908 - moopt.monise - DEBUG: 96th solution - importance: 0.0024193964750404712\n",
      "2021-04-28 21:26:08,014 - moopt.monise - DEBUG: 97th solution - importance: 0.0024184601292309912\n",
      "2021-04-28 21:26:10,121 - moopt.monise - DEBUG: 98th solution - importance: 0.002403153289323264\n",
      "2021-04-28 21:26:12,233 - moopt.monise - DEBUG: 99th solution - importance: 0.002338006789326795\n",
      "2021-04-28 21:26:14,355 - moopt.monise - DEBUG: 100th solution - importance: 0.0022959909706981416\n",
      "2021-04-28 21:26:16,513 - moopt.monise - DEBUG: 101th solution - importance: 0.002284118038684178\n",
      "2021-04-28 21:26:18,620 - moopt.monise - DEBUG: 102th solution - importance: 0.002284118038684178\n",
      "2021-04-28 21:26:20,750 - moopt.monise - DEBUG: 103th solution - importance: 0.002284118038684178\n",
      "2021-04-28 21:26:22,884 - moopt.monise - DEBUG: 104th solution - importance: 0.0021774070496066657\n",
      "2021-04-28 21:26:24,998 - moopt.monise - DEBUG: 105th solution - importance: 0.002064876763529161\n",
      "2021-04-28 21:26:27,114 - moopt.monise - DEBUG: 106th solution - importance: 0.0020803178221916498\n",
      "2021-04-28 21:26:29,237 - moopt.monise - DEBUG: 107th solution - importance: 0.0020803178221916498\n",
      "2021-04-28 21:26:31,388 - moopt.monise - DEBUG: 108th solution - importance: 0.0020803178221916498\n",
      "2021-04-28 21:26:33,504 - moopt.monise - DEBUG: 109th solution - importance: 0.0020803178221916498\n",
      "2021-04-28 21:26:35,621 - moopt.monise - DEBUG: 110th solution - importance: 0.0020803178221916498\n",
      "2021-04-28 21:26:37,738 - moopt.monise - DEBUG: 111th solution - importance: 0.001613124845185702\n",
      "2021-04-28 21:26:39,850 - moopt.monise - DEBUG: 112th solution - importance: 0.0016046205454668212\n",
      "2021-04-28 21:26:41,973 - moopt.monise - DEBUG: 113th solution - importance: 0.0015592702019678847\n",
      "2021-04-28 21:26:44,116 - moopt.monise - DEBUG: 114th solution - importance: 0.0015592702019678847\n",
      "2021-04-28 21:26:46,237 - moopt.monise - DEBUG: 115th solution - importance: 0.0015592702019678847\n",
      "2021-04-28 21:26:48,370 - moopt.monise - DEBUG: 116th solution - importance: 0.0015592702019678847\n",
      "2021-04-28 21:26:50,503 - moopt.monise - DEBUG: 117th solution - importance: 0.0015592702019678847\n",
      "2021-04-28 21:26:52,819 - moopt.monise - DEBUG: 118th solution - importance: 0.0015058552271969535\n",
      "2021-04-28 21:26:55,012 - moopt.monise - DEBUG: 119th solution - importance: 0.0015058552271969535\n",
      "2021-04-28 21:26:57,133 - moopt.monise - DEBUG: 120th solution - importance: 0.001710701561213991\n",
      "2021-04-28 21:26:59,256 - moopt.monise - DEBUG: 121th solution - importance: 0.001710701561213991\n",
      "2021-04-28 21:27:01,381 - moopt.monise - DEBUG: 122th solution - importance: 0.001710701561213991\n",
      "2021-04-28 21:27:03,551 - moopt.monise - DEBUG: 123th solution - importance: 0.001710701561213991\n",
      "2021-04-28 21:27:05,761 - moopt.monise - DEBUG: 124th solution - importance: 0.001710701561213991\n",
      "2021-04-28 21:27:07,887 - moopt.monise - DEBUG: 125th solution - importance: 0.0013874217764685737\n",
      "2021-04-28 21:27:10,050 - moopt.monise - DEBUG: 126th solution - importance: 0.0013874217764685737\n",
      "2021-04-28 21:27:12,189 - moopt.monise - DEBUG: 127th solution - importance: 0.0013874217764685737\n",
      "2021-04-28 21:27:14,311 - moopt.monise - DEBUG: 128th solution - importance: 0.0013874217764685737\n",
      "2021-04-28 21:27:16,425 - moopt.monise - DEBUG: 129th solution - importance: 0.0012568787952171806\n",
      "2021-04-28 21:27:18,551 - moopt.monise - DEBUG: 130th solution - importance: 0.0012568787952171806\n",
      "2021-04-28 21:27:20,675 - moopt.monise - DEBUG: 131th solution - importance: 0.0013563326821925356\n",
      "2021-04-28 21:27:22,819 - moopt.monise - DEBUG: 132th solution - importance: 0.0013563326821925356\n",
      "2021-04-28 21:27:24,946 - moopt.monise - DEBUG: 133th solution - importance: 0.0013563326821925356\n",
      "2021-04-28 21:27:27,100 - moopt.monise - DEBUG: 134th solution - importance: 0.0013563326821925356\n",
      "2021-04-28 21:27:29,223 - moopt.monise - DEBUG: 135th solution - importance: 0.0013563326821925356\n",
      "2021-04-28 21:27:31,342 - moopt.monise - DEBUG: 136th solution - importance: 0.001069240943418436\n",
      "2021-04-28 21:27:33,475 - moopt.monise - DEBUG: 137th solution - importance: 0.001069240943418436\n",
      "2021-04-28 21:27:35,604 - moopt.monise - DEBUG: 138th solution - importance: 0.0010773271019977324\n",
      "2021-04-28 21:27:37,731 - moopt.monise - DEBUG: 139th solution - importance: 0.0010773271019977324\n",
      "2021-04-28 21:27:39,864 - moopt.monise - DEBUG: 140th solution - importance: 0.0011697219660815196\n",
      "2021-04-28 21:27:42,004 - moopt.monise - DEBUG: 141th solution - importance: 0.0011697219660815196\n",
      "2021-04-28 21:27:44,130 - moopt.monise - DEBUG: 142th solution - importance: 0.0011697219660815196\n",
      "2021-04-28 21:27:46,256 - moopt.monise - DEBUG: 143th solution - importance: 0.0011697219660815196\n",
      "2021-04-28 21:27:48,448 - moopt.monise - DEBUG: 144th solution - importance: 0.0011697219660815196\n",
      "2021-04-28 21:27:50,580 - moopt.monise - DEBUG: 145th solution - importance: 0.0009436800838950632\n",
      "2021-04-28 21:27:52,709 - moopt.monise - DEBUG: 146th solution - importance: 0.0009436800838950632\n",
      "2021-04-28 21:27:55,000 - moopt.monise - DEBUG: 147th solution - importance: 0.0009337048933619688\n",
      "2021-04-28 21:27:57,132 - moopt.monise - DEBUG: 148th solution - importance: 0.0008951703966337054\n",
      "2021-04-28 21:27:59,272 - moopt.monise - DEBUG: 149th solution - importance: 0.0008951703966337054\n",
      "2021-04-28 21:28:01,421 - moopt.monise - DEBUG: 150th solution - importance: 0.0008548771070623084\n"
     ]
    }
   ],
   "source": [
    "moo_err = monise(weightedScalar=FairScalarization(X_train, y_train, fair_feature),\n",
    "                 singleScalar=FairScalarization(X_train, y_train, fair_feature),\n",
    "                  nodeTimeLimit=2, targetSize=150,\n",
    "                  targetGap=0, nodeGap=0.05, norm=False)\n",
    "\n",
    "moo_err.optimize()"
   ]
  },
  {
   "cell_type": "code",
   "execution_count": 646,
   "metadata": {},
   "outputs": [
    {
     "name": "stderr",
     "output_type": "stream",
     "text": [
      "/root/anaconda3/envs/py36/lib/python3.6/site-packages/sklego/metrics.py:155: RuntimeWarning:\n",
      "\n",
      "invalid value encountered in double_scalars\n",
      "\n",
      "/root/anaconda3/envs/py36/lib/python3.6/site-packages/sklego/metrics.py:79: RuntimeWarning:\n",
      "\n",
      "No samples with y_hat == 1 for Sex == 1, returning 0\n",
      "\n"
     ]
    }
   ],
   "source": [
    "m_aux = {\"Acurácia\": [], \"Igualdade de Oportunidade\": [], \"P porcento\": [], \"Coeficiente de variação\": []}\n",
    "sols = []\n",
    "\n",
    "for solution in moo_err.solutionsList:\n",
    "    sols.append(solution.x)\n",
    "    m_aux[\"Acurácia\"].append(solution.x.score(X_val, y_val))\n",
    "    m_aux[\"Igualdade de Oportunidade\"].append(equal_opportunity_score(sensitive_column=fair_feature)(solution.x,\n",
    "                                                                                                            X_val, y_val))\n",
    "    m_aux[\"P porcento\"].append(p_percent_score(sensitive_column=fair_feature)(solution.x,X_val))\n",
    "    m_aux[\"Coeficiente de variação\"].append(coefficient_of_variation(solution.x, X_val, y_val))"
   ]
  },
  {
   "cell_type": "code",
   "execution_count": 647,
   "metadata": {},
   "outputs": [],
   "source": [
    "m_metrics = pd.DataFrame(data=m_aux, columns=['Acurácia','Igualdade de Oportunidade','P porcento',\n",
    "                                     'Coeficiente de variação'])"
   ]
  },
  {
   "cell_type": "markdown",
   "metadata": {},
   "source": [
    "## Modelo 2) Equal - Aceitação por grupo"
   ]
  },
  {
   "cell_type": "code",
   "execution_count": 648,
   "metadata": {},
   "outputs": [
    {
     "name": "stderr",
     "output_type": "stream",
     "text": [
      "2021-04-28 21:28:05,073 - moopt.monise - DEBUG: Finding 1th individual minima\n",
      "2021-04-28 21:28:05,111 - moopt.monise - DEBUG: Finding 2th individual minima\n",
      "2021-04-28 21:28:05,124 - moopt.monise - DEBUG: Finding 3th individual minima\n",
      "2021-04-28 21:28:05,136 - moopt.monise - DEBUG: Finding 4th individual minima\n",
      "2021-04-28 21:28:05,204 - moopt.monise - DEBUG: 5th solution - importance: 1.0\n",
      "2021-04-28 21:28:05,278 - moopt.monise - DEBUG: 6th solution - importance: 1.0\n",
      "2021-04-28 21:28:05,354 - moopt.monise - DEBUG: 7th solution - importance: 1.0\n",
      "2021-04-28 21:28:05,417 - moopt.monise - DEBUG: 8th solution - importance: 1.0\n",
      "2021-04-28 21:28:05,503 - moopt.monise - DEBUG: 9th solution - importance: 1.0\n",
      "2021-04-28 21:28:05,588 - moopt.monise - DEBUG: 10th solution - importance: 0.6341021841492428\n",
      "2021-04-28 21:28:05,677 - moopt.monise - DEBUG: 11th solution - importance: 0.5177629429681977\n",
      "2021-04-28 21:28:05,792 - moopt.monise - DEBUG: 12th solution - importance: 0.4289824045674671\n",
      "2021-04-28 21:28:06,029 - moopt.monise - DEBUG: 13th solution - importance: 0.24713361241720647\n",
      "2021-04-28 21:28:06,145 - moopt.monise - DEBUG: 14th solution - importance: 0.2223264725041927\n",
      "2021-04-28 21:28:06,265 - moopt.monise - DEBUG: 15th solution - importance: 0.153622944985915\n",
      "2021-04-28 21:28:06,387 - moopt.monise - DEBUG: 16th solution - importance: 0.13451333139252597\n",
      "2021-04-28 21:28:06,508 - moopt.monise - DEBUG: 17th solution - importance: 0.1323630892789296\n",
      "2021-04-28 21:28:06,624 - moopt.monise - DEBUG: 18th solution - importance: 0.12587208836579994\n",
      "2021-04-28 21:28:06,746 - moopt.monise - DEBUG: 19th solution - importance: 0.1077840197575874\n",
      "2021-04-28 21:28:06,879 - moopt.monise - DEBUG: 20th solution - importance: 0.08828921881725747\n",
      "2021-04-28 21:28:07,023 - moopt.monise - DEBUG: 21th solution - importance: 0.08457892821159017\n",
      "2021-04-28 21:28:07,149 - moopt.monise - DEBUG: 22th solution - importance: 0.07886130862913807\n",
      "2021-04-28 21:28:07,312 - moopt.monise - DEBUG: 23th solution - importance: 0.07161338005033861\n",
      "2021-04-28 21:28:07,452 - moopt.monise - DEBUG: 24th solution - importance: 0.07130336290996182\n",
      "2021-04-28 21:28:07,595 - moopt.monise - DEBUG: 25th solution - importance: 0.0607808401633675\n",
      "2021-04-28 21:28:07,777 - moopt.monise - DEBUG: 26th solution - importance: 0.051166776230483546\n",
      "2021-04-28 21:28:07,977 - moopt.monise - DEBUG: 27th solution - importance: 0.04609452034328799\n",
      "2021-04-28 21:28:08,201 - moopt.monise - DEBUG: 28th solution - importance: 0.04502387033128025\n",
      "2021-04-28 21:28:08,435 - moopt.monise - DEBUG: 29th solution - importance: 0.04398377004916339\n",
      "2021-04-28 21:28:08,678 - moopt.monise - DEBUG: 30th solution - importance: 0.04277596152078987\n",
      "2021-04-28 21:28:08,912 - moopt.monise - DEBUG: 31th solution - importance: 0.04099410576371425\n",
      "2021-04-28 21:28:09,144 - moopt.monise - DEBUG: 32th solution - importance: 0.0371732589707047\n",
      "2021-04-28 21:28:09,432 - moopt.monise - DEBUG: 33th solution - importance: 0.03672299232479821\n",
      "2021-04-28 21:28:09,712 - moopt.monise - DEBUG: 34th solution - importance: 0.03538691505561348\n",
      "2021-04-28 21:28:10,016 - moopt.monise - DEBUG: 35th solution - importance: 0.03283906656503394\n",
      "2021-04-28 21:28:10,310 - moopt.monise - DEBUG: 36th solution - importance: 0.03161998572013332\n",
      "2021-04-28 21:28:10,618 - moopt.monise - DEBUG: 37th solution - importance: 0.029326770016105667\n",
      "2021-04-28 21:28:10,970 - moopt.monise - DEBUG: 38th solution - importance: 0.029316922351736507\n",
      "2021-04-28 21:28:11,304 - moopt.monise - DEBUG: 39th solution - importance: 0.028898707791719793\n",
      "2021-04-28 21:28:11,630 - moopt.monise - DEBUG: 40th solution - importance: 0.027883423533450136\n",
      "2021-04-28 21:28:11,983 - moopt.monise - DEBUG: 41th solution - importance: 0.027861136945114804\n",
      "2021-04-28 21:28:12,343 - moopt.monise - DEBUG: 42th solution - importance: 0.027394006503935368\n",
      "2021-04-28 21:28:12,728 - moopt.monise - DEBUG: 43th solution - importance: 0.02684859572266889\n",
      "2021-04-28 21:28:13,127 - moopt.monise - DEBUG: 44th solution - importance: 0.02673314492674665\n",
      "2021-04-28 21:28:13,551 - moopt.monise - DEBUG: 45th solution - importance: 0.026206893206931467\n",
      "2021-04-28 21:28:14,023 - moopt.monise - DEBUG: 46th solution - importance: 0.0259337550877665\n",
      "2021-04-28 21:28:14,482 - moopt.monise - DEBUG: 47th solution - importance: 0.02557648953673525\n",
      "2021-04-28 21:28:14,935 - moopt.monise - DEBUG: 48th solution - importance: 0.02462833239575595\n",
      "2021-04-28 21:28:15,461 - moopt.monise - DEBUG: 49th solution - importance: 0.024094539156143208\n",
      "2021-04-28 21:28:16,050 - moopt.monise - DEBUG: 50th solution - importance: 0.02264684917376367\n",
      "2021-04-28 21:28:16,583 - moopt.monise - DEBUG: 51th solution - importance: 0.02074425209235438\n",
      "2021-04-28 21:28:17,135 - moopt.monise - DEBUG: 52th solution - importance: 0.01999749519059759\n",
      "2021-04-28 21:28:17,779 - moopt.monise - DEBUG: 53th solution - importance: 0.019797552470787887\n",
      "2021-04-28 21:28:18,406 - moopt.monise - DEBUG: 54th solution - importance: 0.019625218342348236\n",
      "2021-04-28 21:28:19,043 - moopt.monise - DEBUG: 55th solution - importance: 0.0185229382041087\n",
      "2021-04-28 21:28:19,710 - moopt.monise - DEBUG: 56th solution - importance: 0.01676638538925839\n",
      "2021-04-28 21:28:20,401 - moopt.monise - DEBUG: 57th solution - importance: 0.015663139990005112\n",
      "2021-04-28 21:28:21,076 - moopt.monise - DEBUG: 58th solution - importance: 0.015557033178285579\n",
      "2021-04-28 21:28:21,926 - moopt.monise - DEBUG: 59th solution - importance: 0.015278062424562101\n",
      "2021-04-28 21:28:23,194 - moopt.monise - DEBUG: 60th solution - importance: 0.014898866115524646\n",
      "2021-04-28 21:28:23,977 - moopt.monise - DEBUG: 61th solution - importance: 0.014423708468043356\n",
      "2021-04-28 21:28:24,873 - moopt.monise - DEBUG: 62th solution - importance: 0.01395057965077169\n",
      "2021-04-28 21:28:26,345 - moopt.monise - DEBUG: 63th solution - importance: 0.01384213915646258\n",
      "2021-04-28 21:28:27,205 - moopt.monise - DEBUG: 64th solution - importance: 0.013796805222279416\n",
      "2021-04-28 21:28:28,751 - moopt.monise - DEBUG: 65th solution - importance: 0.013706077378316212\n",
      "2021-04-28 21:28:30,393 - moopt.monise - DEBUG: 66th solution - importance: 0.013626239539717961\n",
      "2021-04-28 21:28:32,085 - moopt.monise - DEBUG: 67th solution - importance: 0.0130283592577234\n",
      "2021-04-28 21:28:33,089 - moopt.monise - DEBUG: 68th solution - importance: 0.012879824091151995\n",
      "2021-04-28 21:28:34,154 - moopt.monise - DEBUG: 69th solution - importance: 0.012518704913061892\n",
      "2021-04-28 21:28:36,032 - moopt.monise - DEBUG: 70th solution - importance: 0.012487915193710902\n",
      "2021-04-28 21:28:37,809 - moopt.monise - DEBUG: 71th solution - importance: 0.012395912368681206\n",
      "2021-04-28 21:28:39,929 - moopt.monise - DEBUG: 72th solution - importance: 0.012259888076108085\n",
      "2021-04-28 21:28:41,901 - moopt.monise - DEBUG: 73th solution - importance: 0.011810834196728725\n",
      "2021-04-28 21:28:43,987 - moopt.monise - DEBUG: 74th solution - importance: 0.01166084144380092\n",
      "2021-04-28 21:28:46,103 - moopt.monise - DEBUG: 75th solution - importance: 0.011294886523972024\n",
      "2021-04-28 21:28:48,242 - moopt.monise - DEBUG: 76th solution - importance: 0.011195436160407666\n",
      "2021-04-28 21:28:50,351 - moopt.monise - DEBUG: 77th solution - importance: 0.010792263247173433\n",
      "2021-04-28 21:28:52,464 - moopt.monise - DEBUG: 78th solution - importance: 0.010448056119523043\n",
      "2021-04-28 21:28:54,593 - moopt.monise - DEBUG: 79th solution - importance: 0.01042045788313264\n",
      "2021-04-28 21:28:56,690 - moopt.monise - DEBUG: 80th solution - importance: 0.010301637122005833\n",
      "2021-04-28 21:28:58,785 - moopt.monise - DEBUG: 81th solution - importance: 0.010137190001352036\n",
      "2021-04-28 21:29:00,895 - moopt.monise - DEBUG: 82th solution - importance: 0.010125877318314757\n",
      "2021-04-28 21:29:03,034 - moopt.monise - DEBUG: 83th solution - importance: 0.01009813358151361\n",
      "2021-04-28 21:29:05,175 - moopt.monise - DEBUG: 84th solution - importance: 0.00992329813428278\n",
      "2021-04-28 21:29:07,296 - moopt.monise - DEBUG: 85th solution - importance: 0.009858792288192428\n",
      "2021-04-28 21:29:09,401 - moopt.monise - DEBUG: 86th solution - importance: 0.009630915640180936\n"
     ]
    },
    {
     "name": "stderr",
     "output_type": "stream",
     "text": [
      "2021-04-28 21:29:11,512 - moopt.monise - DEBUG: 87th solution - importance: 0.009629417150114462\n",
      "2021-04-28 21:29:13,649 - moopt.monise - DEBUG: 88th solution - importance: 0.009599530201369064\n",
      "2021-04-28 21:29:15,771 - moopt.monise - DEBUG: 89th solution - importance: 0.00959572537134799\n",
      "2021-04-28 21:29:17,901 - moopt.monise - DEBUG: 90th solution - importance: 0.009459182840617567\n",
      "2021-04-28 21:29:20,041 - moopt.monise - DEBUG: 91th solution - importance: 0.009396764132873566\n",
      "2021-04-28 21:29:22,178 - moopt.monise - DEBUG: 92th solution - importance: 0.009217547987619718\n",
      "2021-04-28 21:29:24,286 - moopt.monise - DEBUG: 93th solution - importance: 0.00908664566846782\n",
      "2021-04-28 21:29:26,411 - moopt.monise - DEBUG: 94th solution - importance: 0.00908664566846782\n",
      "2021-04-28 21:29:28,530 - moopt.monise - DEBUG: 95th solution - importance: 0.008983004191028897\n",
      "2021-04-28 21:29:30,723 - moopt.monise - DEBUG: 96th solution - importance: 0.00892286482910768\n",
      "2021-04-28 21:29:32,857 - moopt.monise - DEBUG: 97th solution - importance: 0.00892286482910768\n",
      "2021-04-28 21:29:35,007 - moopt.monise - DEBUG: 98th solution - importance: 0.00892286482910768\n",
      "2021-04-28 21:29:37,128 - moopt.monise - DEBUG: 99th solution - importance: 0.00892286482910768\n",
      "2021-04-28 21:29:39,249 - moopt.monise - DEBUG: 100th solution - importance: 0.00892286482910768\n",
      "2021-04-28 21:29:41,399 - moopt.monise - DEBUG: 101th solution - importance: 0.008919139967720442\n",
      "2021-04-28 21:29:43,534 - moopt.monise - DEBUG: 102th solution - importance: 0.008919139967720442\n",
      "2021-04-28 21:29:45,673 - moopt.monise - DEBUG: 103th solution - importance: 0.00834850516130777\n",
      "2021-04-28 21:29:47,818 - moopt.monise - DEBUG: 104th solution - importance: 0.00834850516130777\n",
      "2021-04-28 21:29:49,941 - moopt.monise - DEBUG: 105th solution - importance: 0.00834850516130777\n",
      "2021-04-28 21:29:52,063 - moopt.monise - DEBUG: 106th solution - importance: 0.008231508480272194\n",
      "2021-04-28 21:29:54,199 - moopt.monise - DEBUG: 107th solution - importance: 0.008231508480272194\n",
      "2021-04-28 21:29:56,336 - moopt.monise - DEBUG: 108th solution - importance: 0.00779368339434749\n",
      "2021-04-28 21:29:58,465 - moopt.monise - DEBUG: 109th solution - importance: 0.00779368339434749\n",
      "2021-04-28 21:30:00,610 - moopt.monise - DEBUG: 110th solution - importance: 0.007703739839921496\n",
      "2021-04-28 21:30:02,741 - moopt.monise - DEBUG: 111th solution - importance: 0.0075170083315254\n",
      "2021-04-28 21:30:04,881 - moopt.monise - DEBUG: 112th solution - importance: 0.00744530477074281\n",
      "2021-04-28 21:30:07,019 - moopt.monise - DEBUG: 113th solution - importance: 0.007254954072895308\n",
      "2021-04-28 21:30:09,153 - moopt.monise - DEBUG: 114th solution - importance: 0.007254954072895308\n",
      "2021-04-28 21:30:11,309 - moopt.monise - DEBUG: 115th solution - importance: 0.007210703210881263\n",
      "2021-04-28 21:30:13,441 - moopt.monise - DEBUG: 116th solution - importance: 0.007210703210881263\n",
      "2021-04-28 21:30:15,587 - moopt.monise - DEBUG: 117th solution - importance: 0.007210703210881263\n",
      "2021-04-28 21:30:17,757 - moopt.monise - DEBUG: 118th solution - importance: 0.007009636982688712\n",
      "2021-04-28 21:30:19,895 - moopt.monise - DEBUG: 119th solution - importance: 0.007009636982688712\n",
      "2021-04-28 21:30:22,063 - moopt.monise - DEBUG: 120th solution - importance: 0.006575550651112646\n",
      "2021-04-28 21:30:24,225 - moopt.monise - DEBUG: 121th solution - importance: 0.006456591421242549\n",
      "2021-04-28 21:30:26,360 - moopt.monise - DEBUG: 122th solution - importance: 0.006456591421242549\n",
      "2021-04-28 21:30:28,495 - moopt.monise - DEBUG: 123th solution - importance: 0.006456591421242549\n",
      "2021-04-28 21:30:30,645 - moopt.monise - DEBUG: 124th solution - importance: 0.006232560297924964\n",
      "2021-04-28 21:30:32,793 - moopt.monise - DEBUG: 125th solution - importance: 0.006232560297924964\n",
      "2021-04-28 21:30:34,967 - moopt.monise - DEBUG: 126th solution - importance: 0.006101229500634989\n",
      "2021-04-28 21:30:37,110 - moopt.monise - DEBUG: 127th solution - importance: 0.006101229500634989\n",
      "2021-04-28 21:30:39,261 - moopt.monise - DEBUG: 128th solution - importance: 0.006101229500634989\n",
      "2021-04-28 21:30:41,416 - moopt.monise - DEBUG: 129th solution - importance: 0.0058430281646452585\n",
      "2021-04-28 21:30:43,576 - moopt.monise - DEBUG: 130th solution - importance: 0.0058430281646452585\n",
      "2021-04-28 21:30:45,724 - moopt.monise - DEBUG: 131th solution - importance: 0.0058430281646452585\n",
      "2021-04-28 21:30:47,887 - moopt.monise - DEBUG: 132th solution - importance: 0.0058430281646452585\n",
      "2021-04-28 21:30:50,099 - moopt.monise - DEBUG: 133th solution - importance: 0.006219872676678477\n",
      "2021-04-28 21:30:52,263 - moopt.monise - DEBUG: 134th solution - importance: 0.006219872676678477\n",
      "2021-04-28 21:30:54,395 - moopt.monise - DEBUG: 135th solution - importance: 0.006219872676678477\n",
      "2021-04-28 21:30:56,570 - moopt.monise - DEBUG: 136th solution - importance: 0.006219872676678477\n",
      "2021-04-28 21:30:58,732 - moopt.monise - DEBUG: 137th solution - importance: 0.006219872676678477\n",
      "2021-04-28 21:31:00,906 - moopt.monise - DEBUG: 138th solution - importance: 0.0058423854343294295\n",
      "2021-04-28 21:31:03,074 - moopt.monise - DEBUG: 139th solution - importance: 0.0058423854343294295\n",
      "2021-04-28 21:31:05,224 - moopt.monise - DEBUG: 140th solution - importance: 0.0058423854343294295\n",
      "2021-04-28 21:31:07,377 - moopt.monise - DEBUG: 141th solution - importance: 0.0058423854343294295\n",
      "2021-04-28 21:31:09,533 - moopt.monise - DEBUG: 142th solution - importance: 0.0058423854343294295\n",
      "2021-04-28 21:31:11,747 - moopt.monise - DEBUG: 143th solution - importance: 0.0055206154205039845\n",
      "2021-04-28 21:31:13,913 - moopt.monise - DEBUG: 144th solution - importance: 0.0055206154205039845\n",
      "2021-04-28 21:31:16,103 - moopt.monise - DEBUG: 145th solution - importance: 0.006106270915095395\n",
      "2021-04-28 21:31:18,274 - moopt.monise - DEBUG: 146th solution - importance: 0.006106270915095395\n",
      "2021-04-28 21:31:20,430 - moopt.monise - DEBUG: 147th solution - importance: 0.006106270915095395\n",
      "2021-04-28 21:31:22,591 - moopt.monise - DEBUG: 148th solution - importance: 0.006106270915095395\n",
      "2021-04-28 21:31:24,755 - moopt.monise - DEBUG: 149th solution - importance: 0.006106270915095395\n",
      "2021-04-28 21:31:26,905 - moopt.monise - DEBUG: 150th solution - importance: 0.0052407890019164904\n"
     ]
    }
   ],
   "source": [
    "moo_prob = monise(weightedScalar=EqualScalarization(X_train, y_train, fair_feature),\n",
    "             singleScalar=EqualScalarization(X_train, y_train, fair_feature),\n",
    "              nodeTimeLimit=2, targetSize=150,\n",
    "              targetGap=0, nodeGap=0.01, norm=False)\n",
    "\n",
    "moo_prob.optimize()"
   ]
  },
  {
   "cell_type": "code",
   "execution_count": 649,
   "metadata": {},
   "outputs": [
    {
     "name": "stderr",
     "output_type": "stream",
     "text": [
      "/root/anaconda3/envs/py36/lib/python3.6/site-packages/sklego/metrics.py:155: RuntimeWarning:\n",
      "\n",
      "invalid value encountered in double_scalars\n",
      "\n",
      "/root/anaconda3/envs/py36/lib/python3.6/site-packages/sklego/metrics.py:79: RuntimeWarning:\n",
      "\n",
      "No samples with y_hat == 1 for Sex == 1, returning 0\n",
      "\n"
     ]
    }
   ],
   "source": [
    "sols = []\n",
    "\n",
    "m_aux2 = {\"Acurácia\": [], \"Igualdade de Oportunidade\": [], \"P porcento\": [], \"Coeficiente de variação\": []}\n",
    "for solution in moo_prob.solutionsList:\n",
    "    sols.append(solution.x)\n",
    "    m_aux2[\"Acurácia\"].append(solution.x.score(X_test, y_test))\n",
    "    m_aux2[\"Igualdade de Oportunidade\"].append(equal_opportunity_score(sensitive_column=fair_feature)(solution.x,\n",
    "                                                                                                            X_test, y_test))\n",
    "    m_aux2[\"P porcento\"].append(p_percent_score(sensitive_column=fair_feature)(solution.x,X_test))\n",
    "    m_aux2[\"Coeficiente de variação\"].append(coefficient_of_variation(solution.x, X_test, y_test))"
   ]
  },
  {
   "cell_type": "code",
   "execution_count": 650,
   "metadata": {},
   "outputs": [],
   "source": [
    "m_metrics2 = pd.DataFrame(data=m_aux2, columns=['Acurácia','Igualdade de Oportunidade','P porcento',\n",
    "                                     'Coeficiente de variação'])"
   ]
  },
  {
   "cell_type": "markdown",
   "metadata": {},
   "source": [
    "## Modelo 3) Minimax"
   ]
  },
  {
   "cell_type": "code",
   "execution_count": 651,
   "metadata": {},
   "outputs": [],
   "source": [
    "other_models = {\"Acurácia\": [], \"Igualdade de Oportunidade\": [], \"P porcento\": [], \"Coeficiente de variação\": [],\n",
    "                \"Modelo\": [], \"model_id\": []}"
   ]
  },
  {
   "cell_type": "code",
   "execution_count": 652,
   "metadata": {},
   "outputs": [
    {
     "name": "stdout",
     "output_type": "stream",
     "text": [
      "patience counter: 170 total iterations: 201\n",
      "-----------------------------------------\n",
      "patience counter: 170 total iterations: 201\n",
      "-----------------------------------------\n",
      "patience counter: 170 total iterations: 201\n",
      "-----------------------------------------\n",
      "patience counter: 170 total iterations: 201\n",
      "-----------------------------------------\n",
      "patience counter: 170 total iterations: 201\n",
      "-----------------------------------------\n",
      "patience counter: 170 total iterations: 201\n",
      "-----------------------------------------\n",
      "patience counter: 170 total iterations: 201\n",
      "-----------------------------------------\n",
      "patience counter: 170 total iterations: 201\n",
      "-----------------------------------------\n",
      "patience counter: 100 total iterations: 201\n",
      "-----------------------------------------\n",
      "patience counter: 194 total iterations: 201\n",
      "-----------------------------------------\n",
      "patience counter: 194 total iterations: 201\n",
      "-----------------------------------------\n",
      "patience counter: 154 total iterations: 201\n",
      "-----------------------------------------\n",
      "patience counter: 194 total iterations: 201\n",
      "-----------------------------------------\n",
      "patience counter: 140 total iterations: 201\n",
      "-----------------------------------------\n",
      "patience counter: 170 total iterations: 201\n",
      "-----------------------------------------\n",
      "patience counter: 109 total iterations: 201\n",
      "-----------------------------------------\n",
      "patience counter: 133 total iterations: 201\n",
      "-----------------------------------------\n",
      "patience counter: 34 total iterations: 201\n",
      "-----------------------------------------\n",
      "patience counter: 132 total iterations: 201\n",
      "-----------------------------------------\n",
      "patience counter: 38 total iterations: 201\n",
      "-----------------------------------------\n",
      "patience counter: 26 total iterations: 201\n",
      "-----------------------------------------\n",
      "patience counter: 88 total iterations: 201\n",
      "-----------------------------------------\n",
      "patience counter: 5 total iterations: 201\n",
      "-----------------------------------------\n",
      "patience counter: 37 total iterations: 201\n",
      "-----------------------------------------\n",
      "patience counter: 12 total iterations: 201\n",
      "-----------------------------------------\n",
      "patience counter: 9 total iterations: 201\n",
      "-----------------------------------------\n",
      "patience counter: 159 total iterations: 201\n",
      "-----------------------------------------\n",
      "patience counter: 74 total iterations: 201\n",
      "-----------------------------------------\n",
      "patience counter: 19 total iterations: 201\n",
      "-----------------------------------------\n",
      "patience counter: 1 total iterations: 201\n",
      "-----------------------------------------\n",
      "patience counter: 0 total iterations: 201\n",
      "-----------------------------------------\n",
      "patience counter: 32 total iterations: 201\n",
      "-----------------------------------------\n",
      "patience counter: 6 total iterations: 201\n",
      "-----------------------------------------\n",
      "patience counter: 14 total iterations: 201\n",
      "-----------------------------------------\n",
      "patience counter: 6 total iterations: 201\n",
      "-----------------------------------------\n",
      "patience counter: 12 total iterations: 201\n",
      "-----------------------------------------\n",
      "patience counter: 20 total iterations: 201\n",
      "-----------------------------------------\n",
      "patience counter: 19 total iterations: 201\n",
      "-----------------------------------------\n",
      "patience counter: 0 total iterations: 201\n",
      "-----------------------------------------\n",
      "patience counter: 142 total iterations: 201\n",
      "-----------------------------------------\n",
      "patience counter: 0 total iterations: 201\n",
      "-----------------------------------------\n",
      "patience counter: 0 total iterations: 201\n",
      "-----------------------------------------\n",
      "patience counter: 0 total iterations: 201\n",
      "-----------------------------------------\n",
      "patience counter: 0 total iterations: 201\n",
      "-----------------------------------------\n",
      "patience counter: 0 total iterations: 201\n",
      "-----------------------------------------\n",
      "patience counter: 0 total iterations: 201\n",
      "-----------------------------------------\n",
      "patience counter: 0 total iterations: 201\n",
      "-----------------------------------------\n",
      "patience counter: 0 total iterations: 201\n",
      "-----------------------------------------\n",
      "patience counter: 0 total iterations: 201\n",
      "-----------------------------------------\n",
      "patience counter: 0 total iterations: 201\n",
      "-----------------------------------------\n",
      "patience counter: 0 total iterations: 201\n",
      "-----------------------------------------\n",
      "patience counter: 0 total iterations: 201\n",
      "-----------------------------------------\n",
      "patience counter: 0 total iterations: 201\n",
      "-----------------------------------------\n",
      "patience counter: 0 total iterations: 201\n",
      "-----------------------------------------\n",
      "patience counter: 83 total iterations: 201\n",
      "-----------------------------------------\n",
      "patience counter: 117 total iterations: 201\n",
      "-----------------------------------------\n",
      "patience counter: 31 total iterations: 201\n",
      "-----------------------------------------\n",
      "patience counter: 0 total iterations: 201\n",
      "-----------------------------------------\n",
      "patience counter: 0 total iterations: 201\n",
      "-----------------------------------------\n",
      "patience counter: 104 total iterations: 201\n",
      "-----------------------------------------\n",
      "patience counter: 88 total iterations: 201\n",
      "-----------------------------------------\n",
      "patience counter: 0 total iterations: 201\n",
      "-----------------------------------------\n",
      "patience counter: 1 total iterations: 201\n",
      "-----------------------------------------\n",
      "patience counter: 1 total iterations: 201\n",
      "-----------------------------------------\n",
      "patience counter: 199 total iterations: 201\n",
      "-----------------------------------------\n",
      "patience counter: 200 total iterations: 201\n",
      "-----------------------------------------\n",
      "patience counter: 1 total iterations: 201\n",
      "-----------------------------------------\n",
      "patience counter: 1 total iterations: 201\n",
      "-----------------------------------------\n",
      "patience counter: 1 total iterations: 201\n",
      "-----------------------------------------\n",
      "patience counter: 199 total iterations: 201\n",
      "-----------------------------------------\n",
      "patience counter: 175 total iterations: 201\n",
      "-----------------------------------------\n",
      "patience counter: 97 total iterations: 201\n",
      "-----------------------------------------\n",
      "patience counter: 200 total iterations: 201\n",
      "-----------------------------------------\n",
      "patience counter: 157 total iterations: 201\n",
      "-----------------------------------------\n",
      "patience counter: 105 total iterations: 201\n",
      "-----------------------------------------\n",
      "patience counter: 200 total iterations: 201\n",
      "-----------------------------------------\n",
      "patience counter: 199 total iterations: 201\n",
      "-----------------------------------------\n",
      "patience counter: 154 total iterations: 201\n",
      "-----------------------------------------\n",
      "patience counter: 0 total iterations: 201\n",
      "-----------------------------------------\n",
      "patience counter: 200 total iterations: 201\n",
      "-----------------------------------------\n",
      "patience counter: 200 total iterations: 201\n",
      "-----------------------------------------\n",
      "patience counter: 199 total iterations: 201\n",
      "-----------------------------------------\n",
      "patience counter: 102 total iterations: 201\n",
      "-----------------------------------------\n",
      "patience counter: 198 total iterations: 201\n",
      "-----------------------------------------\n",
      "patience counter: 86 total iterations: 201\n",
      "-----------------------------------------\n",
      "patience counter: 68 total iterations: 201\n",
      "-----------------------------------------\n",
      "patience counter: 199 total iterations: 201\n",
      "-----------------------------------------\n",
      "patience counter: 200 total iterations: 201\n",
      "-----------------------------------------\n",
      "patience counter: 0 total iterations: 201\n",
      "-----------------------------------------\n",
      "patience counter: 199 total iterations: 201\n",
      "-----------------------------------------\n",
      "patience counter: 1 total iterations: 201\n",
      "-----------------------------------------\n",
      "patience counter: 190 total iterations: 201\n",
      "-----------------------------------------\n",
      "patience counter: 51 total iterations: 201\n",
      "-----------------------------------------\n",
      "patience counter: 191 total iterations: 201\n",
      "-----------------------------------------\n",
      "patience counter: 6 total iterations: 201\n",
      "-----------------------------------------\n",
      "patience counter: 3 total iterations: 201\n",
      "-----------------------------------------\n"
     ]
    },
    {
     "name": "stdout",
     "output_type": "stream",
     "text": [
      "patience counter: 1 total iterations: 201\n",
      "-----------------------------------------\n",
      "patience counter: 8 total iterations: 201\n",
      "-----------------------------------------\n",
      "patience counter: 4 total iterations: 201\n",
      "-----------------------------------------\n",
      "patience counter: 0 total iterations: 201\n",
      "-----------------------------------------\n",
      "patience counter: 44 total iterations: 201\n",
      "-----------------------------------------\n",
      "patience counter: 54 total iterations: 201\n",
      "-----------------------------------------\n",
      "patience counter: 56 total iterations: 201\n",
      "-----------------------------------------\n",
      "patience counter: 58 total iterations: 201\n",
      "-----------------------------------------\n",
      "patience counter: 58 total iterations: 201\n",
      "-----------------------------------------\n",
      "patience counter: 58 total iterations: 201\n",
      "-----------------------------------------\n",
      "patience counter: 58 total iterations: 201\n",
      "-----------------------------------------\n",
      "patience counter: 58 total iterations: 201\n",
      "-----------------------------------------\n",
      "patience counter: 58 total iterations: 201\n",
      "-----------------------------------------\n",
      "patience counter: 58 total iterations: 201\n",
      "-----------------------------------------\n",
      "patience counter: 58 total iterations: 201\n",
      "-----------------------------------------\n",
      "patience counter: 58 total iterations: 201\n",
      "-----------------------------------------\n",
      "patience counter: 58 total iterations: 201\n",
      "-----------------------------------------\n",
      "patience counter: 58 total iterations: 201\n",
      "-----------------------------------------\n",
      "patience counter: 58 total iterations: 201\n",
      "-----------------------------------------\n",
      "patience counter: 58 total iterations: 201\n",
      "-----------------------------------------\n",
      "patience counter: 58 total iterations: 201\n",
      "-----------------------------------------\n",
      "patience counter: 58 total iterations: 201\n",
      "-----------------------------------------\n",
      "patience counter: 58 total iterations: 201\n",
      "-----------------------------------------\n",
      "patience counter: 58 total iterations: 201\n",
      "-----------------------------------------\n",
      "patience counter: 58 total iterations: 201\n",
      "-----------------------------------------\n",
      "patience counter: 58 total iterations: 201\n",
      "-----------------------------------------\n",
      "patience counter: 58 total iterations: 201\n",
      "-----------------------------------------\n",
      "patience counter: 58 total iterations: 201\n",
      "-----------------------------------------\n",
      "patience counter: 58 total iterations: 201\n",
      "-----------------------------------------\n",
      "patience counter: 58 total iterations: 201\n",
      "-----------------------------------------\n",
      "patience counter: 58 total iterations: 201\n",
      "-----------------------------------------\n",
      "patience counter: 58 total iterations: 201\n",
      "-----------------------------------------\n",
      "patience counter: 58 total iterations: 201\n",
      "-----------------------------------------\n",
      "patience counter: 58 total iterations: 201\n",
      "-----------------------------------------\n",
      "patience counter: 58 total iterations: 201\n",
      "-----------------------------------------\n",
      "patience counter: 58 total iterations: 201\n",
      "-----------------------------------------\n",
      "patience counter: 58 total iterations: 201\n",
      "-----------------------------------------\n",
      "patience counter: 58 total iterations: 201\n",
      "-----------------------------------------\n",
      "patience counter: 58 total iterations: 201\n",
      "-----------------------------------------\n",
      "patience counter: 58 total iterations: 201\n",
      "-----------------------------------------\n",
      "patience counter: 58 total iterations: 201\n",
      "-----------------------------------------\n",
      "patience counter: 58 total iterations: 201\n",
      "-----------------------------------------\n",
      "patience counter: 58 total iterations: 201\n",
      "-----------------------------------------\n",
      "patience counter: 58 total iterations: 201\n",
      "-----------------------------------------\n",
      "patience counter: 58 total iterations: 201\n",
      "-----------------------------------------\n",
      "patience counter: 58 total iterations: 201\n",
      "-----------------------------------------\n",
      "patience counter: 58 total iterations: 201\n",
      "-----------------------------------------\n",
      "patience counter: 58 total iterations: 201\n",
      "-----------------------------------------\n",
      "patience counter: 58 total iterations: 201\n",
      "-----------------------------------------\n",
      "patience counter: 58 total iterations: 201\n",
      "-----------------------------------------\n",
      "patience counter: 58 total iterations: 201\n",
      "-----------------------------------------\n",
      "patience counter: 58 total iterations: 201\n",
      "-----------------------------------------\n",
      "patience counter: 58 total iterations: 201\n",
      "-----------------------------------------\n",
      "patience counter: 58 total iterations: 201\n",
      "-----------------------------------------\n"
     ]
    }
   ],
   "source": [
    "C_values = np.logspace(-10, 10, 150)\n",
    "\n",
    "a_train = X_train[fair_feature].copy().astype('int')\n",
    "a_val = X_val[fair_feature].copy().astype('int')\n",
    "\n",
    "a_train[a_train==0] = -1\n",
    "a_val[a_val==0] = -1\n",
    "\n",
    "\n",
    "metrics_adult_min_aux = {\"Acurácia\": [], \"Igualdade de Oportunidade\": [], \"P porcento\": [], \"Coeficiente de variação\": []}\n",
    "\n",
    "idx = 0\n",
    "for C in C_values:\n",
    "    \n",
    "    model = SKLearn_Weighted_LLR(X_train.values, y_train.values,\n",
    "                 a_train.values, X_val.values,\n",
    "                 y_val.values, a_val.values,\n",
    "                 C_reg=C)\n",
    "\n",
    "    mua_ini = np.ones(a_val.max() + 1)\n",
    "    mua_ini /= mua_ini.sum()\n",
    "    results = APSTAR(model, mua_ini, niter=200, max_patience=200, Kini=1,\n",
    "                          Kmin=20, alpha=0.5, verbose=False)\n",
    "    mu_best_list = results['mu_best_list']\n",
    "\n",
    "    mu_best = mu_best_list[-1]\n",
    "    model.weighted_fit(X_train.values, y_train.values, a_train.values, mu_best)\n",
    "    \n",
    "    other_solutions_list[\"Minimax\"].append([idx, model])\n",
    "    \n",
    "    metrics_adult_min_aux[\"Acurácia\"].append(accuracy_score(y_test, model.predict(X_test)))\n",
    "    metrics_adult_min_aux[\"Igualdade de Oportunidade\"].append(equal_opportunity_score(sensitive_column=fair_feature)(model,\n",
    "                                                                                                            X_test, y_test))\n",
    "    metrics_adult_min_aux[\"P porcento\"].append(p_percent_score(sensitive_column=fair_feature)(model,X_test))\n",
    "    metrics_adult_min_aux[\"Coeficiente de variação\"].append(coefficient_of_variation(model, X_test, y_test))\n",
    "    \n",
    "    \n",
    "    other_models[\"Acurácia\"].append(accuracy_score(y_test, model.predict(X_test)))\n",
    "    other_models[\"Igualdade de Oportunidade\"].append(equal_opportunity_score(sensitive_column=fair_feature)(model,\n",
    "                                                                                                            X_test, y_test))\n",
    "    other_models[\"P porcento\"].append(p_percent_score(sensitive_column=fair_feature)(model,X_test))\n",
    "    other_models[\"Coeficiente de variação\"].append(coefficient_of_variation(model, X_test, y_test))\n",
    "    other_models[\"Modelo\"].append(\"Minimax\")\n",
    "    other_models[\"model_id\"].append(0)\n",
    "    \n",
    "    idx += 1"
   ]
  },
  {
   "cell_type": "markdown",
   "metadata": {},
   "source": [
    "## Modelo 4) Logistic regression"
   ]
  },
  {
   "cell_type": "code",
   "execution_count": 653,
   "metadata": {},
   "outputs": [
    {
     "name": "stderr",
     "output_type": "stream",
     "text": [
      "/root/anaconda3/envs/py36/lib/python3.6/site-packages/sklego/metrics.py:155: RuntimeWarning:\n",
      "\n",
      "invalid value encountered in double_scalars\n",
      "\n",
      "/root/anaconda3/envs/py36/lib/python3.6/site-packages/sklego/metrics.py:79: RuntimeWarning:\n",
      "\n",
      "No samples with y_hat == 1 for Sex == 1, returning 0\n",
      "\n",
      "/root/anaconda3/envs/py36/lib/python3.6/site-packages/sklego/metrics.py:155: RuntimeWarning:\n",
      "\n",
      "invalid value encountered in double_scalars\n",
      "\n",
      "/root/anaconda3/envs/py36/lib/python3.6/site-packages/sklego/metrics.py:79: RuntimeWarning:\n",
      "\n",
      "No samples with y_hat == 1 for Sex == 1, returning 0\n",
      "\n",
      "/root/anaconda3/envs/py36/lib/python3.6/site-packages/sklego/metrics.py:155: RuntimeWarning:\n",
      "\n",
      "invalid value encountered in double_scalars\n",
      "\n",
      "/root/anaconda3/envs/py36/lib/python3.6/site-packages/sklego/metrics.py:79: RuntimeWarning:\n",
      "\n",
      "No samples with y_hat == 1 for Sex == 1, returning 0\n",
      "\n",
      "/root/anaconda3/envs/py36/lib/python3.6/site-packages/sklego/metrics.py:155: RuntimeWarning:\n",
      "\n",
      "invalid value encountered in double_scalars\n",
      "\n",
      "/root/anaconda3/envs/py36/lib/python3.6/site-packages/sklego/metrics.py:79: RuntimeWarning:\n",
      "\n",
      "No samples with y_hat == 1 for Sex == 1, returning 0\n",
      "\n",
      "/root/anaconda3/envs/py36/lib/python3.6/site-packages/sklego/metrics.py:155: RuntimeWarning:\n",
      "\n",
      "invalid value encountered in double_scalars\n",
      "\n",
      "/root/anaconda3/envs/py36/lib/python3.6/site-packages/sklego/metrics.py:79: RuntimeWarning:\n",
      "\n",
      "No samples with y_hat == 1 for Sex == 1, returning 0\n",
      "\n",
      "/root/anaconda3/envs/py36/lib/python3.6/site-packages/sklego/metrics.py:155: RuntimeWarning:\n",
      "\n",
      "invalid value encountered in double_scalars\n",
      "\n",
      "/root/anaconda3/envs/py36/lib/python3.6/site-packages/sklego/metrics.py:79: RuntimeWarning:\n",
      "\n",
      "No samples with y_hat == 1 for Sex == 1, returning 0\n",
      "\n",
      "/root/anaconda3/envs/py36/lib/python3.6/site-packages/sklego/metrics.py:155: RuntimeWarning:\n",
      "\n",
      "divide by zero encountered in double_scalars\n",
      "\n",
      "/root/anaconda3/envs/py36/lib/python3.6/site-packages/sklego/metrics.py:155: RuntimeWarning:\n",
      "\n",
      "divide by zero encountered in double_scalars\n",
      "\n"
     ]
    }
   ],
   "source": [
    "C_values = np.logspace(-10, 10, 150)\n",
    "\n",
    "metrics_adult_log_aux = {\"Acurácia\": [], \"Igualdade de Oportunidade\": [], \"P porcento\": [], \"Coeficiente de variação\": []}\n",
    "\n",
    "idx = 0\n",
    "for C in C_values:\n",
    "    model = LogisticRegression(C=C, max_iter=10**3, tol=10**-6)\n",
    "    model.fit(X_train, y_train)\n",
    "    \n",
    "    other_solutions_list[\"LogReg\"].append([idx, model])\n",
    "    \n",
    "    metrics_adult_log_aux[\"Acurácia\"].append(model.score(X_test, y_test))\n",
    "    metrics_adult_log_aux[\"Igualdade de Oportunidade\"].append(equal_opportunity_score(sensitive_column=fair_feature)(model,\n",
    "                                                                                                            X_test, y_test))\n",
    "    metrics_adult_log_aux[\"P porcento\"].append(p_percent_score(sensitive_column=fair_feature)(model,X_test))\n",
    "    metrics_adult_log_aux[\"Coeficiente de variação\"].append(coefficient_of_variation(model, X_test, y_test))\n",
    "    \n",
    "    other_models[\"Acurácia\"].append(accuracy_score(y_test, model.predict(X_test)))\n",
    "    other_models[\"Igualdade de Oportunidade\"].append(equal_opportunity_score(sensitive_column=fair_feature)(model,\n",
    "                                                                                                            X_test, y_test))\n",
    "    other_models[\"P porcento\"].append(p_percent_score(sensitive_column=fair_feature)(model,X_test))\n",
    "    other_models[\"Coeficiente de variação\"].append(coefficient_of_variation(model, X_test, y_test))\n",
    "    other_models[\"Modelo\"].append(\"LogReg\")\n",
    "    other_models[\"model_id\"].append(1)\n",
    "    \n",
    "    idx += 1"
   ]
  },
  {
   "cell_type": "markdown",
   "metadata": {},
   "source": [
    "## Modelo 5) Reweig"
   ]
  },
  {
   "cell_type": "code",
   "execution_count": 654,
   "metadata": {},
   "outputs": [
    {
     "name": "stderr",
     "output_type": "stream",
     "text": [
      "/root/anaconda3/envs/py36/lib/python3.6/site-packages/sklego/metrics.py:155: RuntimeWarning:\n",
      "\n",
      "invalid value encountered in double_scalars\n",
      "\n",
      "/root/anaconda3/envs/py36/lib/python3.6/site-packages/sklego/metrics.py:79: RuntimeWarning:\n",
      "\n",
      "No samples with y_hat == 1 for Sex == 1, returning 0\n",
      "\n",
      "/root/anaconda3/envs/py36/lib/python3.6/site-packages/sklego/metrics.py:155: RuntimeWarning:\n",
      "\n",
      "invalid value encountered in double_scalars\n",
      "\n",
      "/root/anaconda3/envs/py36/lib/python3.6/site-packages/sklego/metrics.py:79: RuntimeWarning:\n",
      "\n",
      "No samples with y_hat == 1 for Sex == 1, returning 0\n",
      "\n",
      "/root/anaconda3/envs/py36/lib/python3.6/site-packages/sklego/metrics.py:155: RuntimeWarning:\n",
      "\n",
      "invalid value encountered in double_scalars\n",
      "\n",
      "/root/anaconda3/envs/py36/lib/python3.6/site-packages/sklego/metrics.py:79: RuntimeWarning:\n",
      "\n",
      "No samples with y_hat == 1 for Sex == 1, returning 0\n",
      "\n",
      "/root/anaconda3/envs/py36/lib/python3.6/site-packages/sklego/metrics.py:155: RuntimeWarning:\n",
      "\n",
      "invalid value encountered in double_scalars\n",
      "\n",
      "/root/anaconda3/envs/py36/lib/python3.6/site-packages/sklego/metrics.py:79: RuntimeWarning:\n",
      "\n",
      "No samples with y_hat == 1 for Sex == 1, returning 0\n",
      "\n",
      "/root/anaconda3/envs/py36/lib/python3.6/site-packages/sklego/metrics.py:155: RuntimeWarning:\n",
      "\n",
      "invalid value encountered in double_scalars\n",
      "\n",
      "/root/anaconda3/envs/py36/lib/python3.6/site-packages/sklego/metrics.py:79: RuntimeWarning:\n",
      "\n",
      "No samples with y_hat == 1 for Sex == 1, returning 0\n",
      "\n",
      "/root/anaconda3/envs/py36/lib/python3.6/site-packages/sklego/metrics.py:155: RuntimeWarning:\n",
      "\n",
      "invalid value encountered in double_scalars\n",
      "\n",
      "/root/anaconda3/envs/py36/lib/python3.6/site-packages/sklego/metrics.py:79: RuntimeWarning:\n",
      "\n",
      "No samples with y_hat == 1 for Sex == 1, returning 0\n",
      "\n",
      "/root/anaconda3/envs/py36/lib/python3.6/site-packages/sklego/metrics.py:155: RuntimeWarning:\n",
      "\n",
      "divide by zero encountered in double_scalars\n",
      "\n",
      "/root/anaconda3/envs/py36/lib/python3.6/site-packages/sklego/metrics.py:155: RuntimeWarning:\n",
      "\n",
      "divide by zero encountered in double_scalars\n",
      "\n"
     ]
    }
   ],
   "source": [
    "C_values = np.logspace(-10, 10, 150)\n",
    "\n",
    "sample_weight = calc_reweight(X_train, y_train, fair_feature)\n",
    "\n",
    "metrics_adult_rew_aux = {\"Acurácia\": [], \"Igualdade de Oportunidade\": [], \"P porcento\": [], \"Coeficiente de variação\": []}\n",
    "\n",
    "idx = 0\n",
    "for C in C_values:\n",
    "    model = LogisticRegression(C=C, max_iter=10**3, tol=10**-6)\n",
    "    model.fit(X_train, y_train,sample_weight=sample_weight)\n",
    "    \n",
    "    other_solutions_list[\"Reweight\"].append([idx, model])\n",
    "    \n",
    "    metrics_adult_rew_aux[\"Acurácia\"].append(model.score(X_test, y_test))\n",
    "    metrics_adult_rew_aux[\"Igualdade de Oportunidade\"].append(equal_opportunity_score(sensitive_column=fair_feature)(model,\n",
    "                                                                                                            X_test, y_test))\n",
    "    metrics_adult_rew_aux[\"P porcento\"].append(p_percent_score(sensitive_column=fair_feature)(model,X_test))\n",
    "    metrics_adult_rew_aux[\"Coeficiente de variação\"].append(coefficient_of_variation(model, X_test, y_test))\n",
    "    \n",
    "    other_models[\"Acurácia\"].append(accuracy_score(y_test, model.predict(X_test)))\n",
    "    other_models[\"Igualdade de Oportunidade\"].append(equal_opportunity_score(sensitive_column=fair_feature)(model,\n",
    "                                                                                                            X_test, y_test))\n",
    "    other_models[\"P porcento\"].append(p_percent_score(sensitive_column=fair_feature)(model,X_test))\n",
    "    other_models[\"Coeficiente de variação\"].append(coefficient_of_variation(model, X_test, y_test))\n",
    "    other_models[\"Modelo\"].append(\"Reweight\")\n",
    "    other_models[\"model_id\"].append(2)\n",
    "    \n",
    "    idx += 1"
   ]
  },
  {
   "cell_type": "markdown",
   "metadata": {},
   "source": [
    "# Modelo 6) Paridade Demográfica"
   ]
  },
  {
   "cell_type": "code",
   "execution_count": 655,
   "metadata": {},
   "outputs": [
    {
     "name": "stderr",
     "output_type": "stream",
     "text": [
      "/root/anaconda3/envs/py36/lib/python3.6/site-packages/cvxpy/problems/problem.py:1055: UserWarning:\n",
      "\n",
      "Solution may be inaccurate. Try another solver, adjusting the solver settings, or solve with verbose=True for more information.\n",
      "\n",
      "/root/anaconda3/envs/py36/lib/python3.6/site-packages/cvxpy/problems/problem.py:1055: UserWarning:\n",
      "\n",
      "Solution may be inaccurate. Try another solver, adjusting the solver settings, or solve with verbose=True for more information.\n",
      "\n",
      "/root/anaconda3/envs/py36/lib/python3.6/site-packages/cvxpy/problems/problem.py:1055: UserWarning:\n",
      "\n",
      "Solution may be inaccurate. Try another solver, adjusting the solver settings, or solve with verbose=True for more information.\n",
      "\n",
      "/root/anaconda3/envs/py36/lib/python3.6/site-packages/cvxpy/problems/problem.py:1055: UserWarning:\n",
      "\n",
      "Solution may be inaccurate. Try another solver, adjusting the solver settings, or solve with verbose=True for more information.\n",
      "\n",
      "/root/anaconda3/envs/py36/lib/python3.6/site-packages/cvxpy/problems/problem.py:1055: UserWarning:\n",
      "\n",
      "Solution may be inaccurate. Try another solver, adjusting the solver settings, or solve with verbose=True for more information.\n",
      "\n",
      "/root/anaconda3/envs/py36/lib/python3.6/site-packages/cvxpy/problems/problem.py:1055: UserWarning:\n",
      "\n",
      "Solution may be inaccurate. Try another solver, adjusting the solver settings, or solve with verbose=True for more information.\n",
      "\n",
      "/root/anaconda3/envs/py36/lib/python3.6/site-packages/cvxpy/problems/problem.py:1055: UserWarning:\n",
      "\n",
      "Solution may be inaccurate. Try another solver, adjusting the solver settings, or solve with verbose=True for more information.\n",
      "\n",
      "/root/anaconda3/envs/py36/lib/python3.6/site-packages/cvxpy/problems/problem.py:1055: UserWarning:\n",
      "\n",
      "Solution may be inaccurate. Try another solver, adjusting the solver settings, or solve with verbose=True for more information.\n",
      "\n",
      "/root/anaconda3/envs/py36/lib/python3.6/site-packages/cvxpy/problems/problem.py:1055: UserWarning:\n",
      "\n",
      "Solution may be inaccurate. Try another solver, adjusting the solver settings, or solve with verbose=True for more information.\n",
      "\n",
      "/root/anaconda3/envs/py36/lib/python3.6/site-packages/cvxpy/problems/problem.py:1055: UserWarning:\n",
      "\n",
      "Solution may be inaccurate. Try another solver, adjusting the solver settings, or solve with verbose=True for more information.\n",
      "\n",
      "/root/anaconda3/envs/py36/lib/python3.6/site-packages/cvxpy/problems/problem.py:1055: UserWarning:\n",
      "\n",
      "Solution may be inaccurate. Try another solver, adjusting the solver settings, or solve with verbose=True for more information.\n",
      "\n",
      "/root/anaconda3/envs/py36/lib/python3.6/site-packages/cvxpy/problems/problem.py:1055: UserWarning:\n",
      "\n",
      "Solution may be inaccurate. Try another solver, adjusting the solver settings, or solve with verbose=True for more information.\n",
      "\n",
      "/root/anaconda3/envs/py36/lib/python3.6/site-packages/cvxpy/problems/problem.py:1055: UserWarning:\n",
      "\n",
      "Solution may be inaccurate. Try another solver, adjusting the solver settings, or solve with verbose=True for more information.\n",
      "\n",
      "/root/anaconda3/envs/py36/lib/python3.6/site-packages/cvxpy/problems/problem.py:1055: UserWarning:\n",
      "\n",
      "Solution may be inaccurate. Try another solver, adjusting the solver settings, or solve with verbose=True for more information.\n",
      "\n",
      "/root/anaconda3/envs/py36/lib/python3.6/site-packages/cvxpy/problems/problem.py:1055: UserWarning:\n",
      "\n",
      "Solution may be inaccurate. Try another solver, adjusting the solver settings, or solve with verbose=True for more information.\n",
      "\n",
      "/root/anaconda3/envs/py36/lib/python3.6/site-packages/cvxpy/problems/problem.py:1055: UserWarning:\n",
      "\n",
      "Solution may be inaccurate. Try another solver, adjusting the solver settings, or solve with verbose=True for more information.\n",
      "\n",
      "/root/anaconda3/envs/py36/lib/python3.6/site-packages/cvxpy/problems/problem.py:1055: UserWarning:\n",
      "\n",
      "Solution may be inaccurate. Try another solver, adjusting the solver settings, or solve with verbose=True for more information.\n",
      "\n",
      "/root/anaconda3/envs/py36/lib/python3.6/site-packages/cvxpy/problems/problem.py:1055: UserWarning:\n",
      "\n",
      "Solution may be inaccurate. Try another solver, adjusting the solver settings, or solve with verbose=True for more information.\n",
      "\n",
      "/root/anaconda3/envs/py36/lib/python3.6/site-packages/cvxpy/problems/problem.py:1055: UserWarning:\n",
      "\n",
      "Solution may be inaccurate. Try another solver, adjusting the solver settings, or solve with verbose=True for more information.\n",
      "\n",
      "/root/anaconda3/envs/py36/lib/python3.6/site-packages/cvxpy/problems/problem.py:1055: UserWarning:\n",
      "\n",
      "Solution may be inaccurate. Try another solver, adjusting the solver settings, or solve with verbose=True for more information.\n",
      "\n",
      "/root/anaconda3/envs/py36/lib/python3.6/site-packages/cvxpy/problems/problem.py:1055: UserWarning:\n",
      "\n",
      "Solution may be inaccurate. Try another solver, adjusting the solver settings, or solve with verbose=True for more information.\n",
      "\n",
      "/root/anaconda3/envs/py36/lib/python3.6/site-packages/cvxpy/problems/problem.py:1055: UserWarning:\n",
      "\n",
      "Solution may be inaccurate. Try another solver, adjusting the solver settings, or solve with verbose=True for more information.\n",
      "\n",
      "/root/anaconda3/envs/py36/lib/python3.6/site-packages/cvxpy/problems/problem.py:1055: UserWarning:\n",
      "\n",
      "Solution may be inaccurate. Try another solver, adjusting the solver settings, or solve with verbose=True for more information.\n",
      "\n",
      "/root/anaconda3/envs/py36/lib/python3.6/site-packages/cvxpy/problems/problem.py:1055: UserWarning:\n",
      "\n",
      "Solution may be inaccurate. Try another solver, adjusting the solver settings, or solve with verbose=True for more information.\n",
      "\n",
      "/root/anaconda3/envs/py36/lib/python3.6/site-packages/cvxpy/problems/problem.py:1055: UserWarning:\n",
      "\n",
      "Solution may be inaccurate. Try another solver, adjusting the solver settings, or solve with verbose=True for more information.\n",
      "\n",
      "/root/anaconda3/envs/py36/lib/python3.6/site-packages/cvxpy/problems/problem.py:1055: UserWarning:\n",
      "\n",
      "Solution may be inaccurate. Try another solver, adjusting the solver settings, or solve with verbose=True for more information.\n",
      "\n",
      "/root/anaconda3/envs/py36/lib/python3.6/site-packages/cvxpy/problems/problem.py:1055: UserWarning:\n",
      "\n",
      "Solution may be inaccurate. Try another solver, adjusting the solver settings, or solve with verbose=True for more information.\n",
      "\n",
      "/root/anaconda3/envs/py36/lib/python3.6/site-packages/cvxpy/problems/problem.py:1055: UserWarning:\n",
      "\n",
      "Solution may be inaccurate. Try another solver, adjusting the solver settings, or solve with verbose=True for more information.\n",
      "\n",
      "/root/anaconda3/envs/py36/lib/python3.6/site-packages/cvxpy/problems/problem.py:1055: UserWarning:\n",
      "\n",
      "Solution may be inaccurate. Try another solver, adjusting the solver settings, or solve with verbose=True for more information.\n",
      "\n",
      "/root/anaconda3/envs/py36/lib/python3.6/site-packages/cvxpy/problems/problem.py:1055: UserWarning:\n",
      "\n",
      "Solution may be inaccurate. Try another solver, adjusting the solver settings, or solve with verbose=True for more information.\n",
      "\n",
      "/root/anaconda3/envs/py36/lib/python3.6/site-packages/cvxpy/problems/problem.py:1055: UserWarning:\n",
      "\n",
      "Solution may be inaccurate. Try another solver, adjusting the solver settings, or solve with verbose=True for more information.\n",
      "\n"
     ]
    }
   ],
   "source": [
    "C_values = np.logspace(-5, 5, 12)\n",
    "c_values = np.logspace(-5, 5, 12)\n",
    "\n",
    "metrics_adult_pp_aux = {\"Acurácia\": [], \"Igualdade de Oportunidade\": [], \"P porcento\": [], \"Coeficiente de variação\": []}\n",
    "\n",
    "\n",
    "idx = 0\n",
    "for C in C_values:\n",
    "    for c in c_values:\n",
    "        try:\n",
    "            model = DemographicParityClassifier(sensitive_cols=fair_feature,\n",
    "                                            covariance_threshold=c, C=C, max_iter=10**3)\n",
    "            model.fit(X_train, y_train)\n",
    "        except:\n",
    "            continue\n",
    "            \n",
    "        other_solutions_list[\"ParDem\"].append([idx, model])\n",
    "        \n",
    "        metrics_adult_pp_aux[\"Acurácia\"].append(model.score(X_test, y_test))\n",
    "        metrics_adult_pp_aux[\"Igualdade de Oportunidade\"].append(equal_opportunity_score(sensitive_column=fair_feature)(model,\n",
    "                                                                                                                X_test, y_test))\n",
    "        metrics_adult_pp_aux[\"P porcento\"].append(p_percent_score(sensitive_column=fair_feature)(model,X_test))\n",
    "        metrics_adult_pp_aux[\"Coeficiente de variação\"].append(coefficient_of_variation(model, X_test, y_test))\n",
    "        \n",
    "        other_models[\"Acurácia\"].append(accuracy_score(y_test, model.predict(X_test)))\n",
    "        other_models[\"Igualdade de Oportunidade\"].append(equal_opportunity_score(sensitive_column=fair_feature)(model,\n",
    "                                                                                                                X_test, y_test))\n",
    "        other_models[\"P porcento\"].append(p_percent_score(sensitive_column=fair_feature)(model,X_test))\n",
    "        other_models[\"Coeficiente de variação\"].append(coefficient_of_variation(model, X_test, y_test))\n",
    "        other_models[\"Modelo\"].append(\"ParDem\")\n",
    "        other_models[\"model_id\"].append(3)\n",
    "        \n",
    "        idx += 1"
   ]
  },
  {
   "cell_type": "markdown",
   "metadata": {},
   "source": [
    "## Modelo 7) Equal Oportunity"
   ]
  },
  {
   "cell_type": "code",
   "execution_count": 656,
   "metadata": {},
   "outputs": [
    {
     "name": "stderr",
     "output_type": "stream",
     "text": [
      "/root/anaconda3/envs/py36/lib/python3.6/site-packages/cvxpy/problems/problem.py:1055: UserWarning:\n",
      "\n",
      "Solution may be inaccurate. Try another solver, adjusting the solver settings, or solve with verbose=True for more information.\n",
      "\n",
      "/root/anaconda3/envs/py36/lib/python3.6/site-packages/cvxpy/problems/problem.py:1055: UserWarning:\n",
      "\n",
      "Solution may be inaccurate. Try another solver, adjusting the solver settings, or solve with verbose=True for more information.\n",
      "\n",
      "/root/anaconda3/envs/py36/lib/python3.6/site-packages/cvxpy/problems/problem.py:1055: UserWarning:\n",
      "\n",
      "Solution may be inaccurate. Try another solver, adjusting the solver settings, or solve with verbose=True for more information.\n",
      "\n",
      "/root/anaconda3/envs/py36/lib/python3.6/site-packages/cvxpy/problems/problem.py:1055: UserWarning:\n",
      "\n",
      "Solution may be inaccurate. Try another solver, adjusting the solver settings, or solve with verbose=True for more information.\n",
      "\n",
      "/root/anaconda3/envs/py36/lib/python3.6/site-packages/cvxpy/problems/problem.py:1055: UserWarning:\n",
      "\n",
      "Solution may be inaccurate. Try another solver, adjusting the solver settings, or solve with verbose=True for more information.\n",
      "\n",
      "/root/anaconda3/envs/py36/lib/python3.6/site-packages/cvxpy/problems/problem.py:1055: UserWarning:\n",
      "\n",
      "Solution may be inaccurate. Try another solver, adjusting the solver settings, or solve with verbose=True for more information.\n",
      "\n",
      "/root/anaconda3/envs/py36/lib/python3.6/site-packages/cvxpy/problems/problem.py:1055: UserWarning:\n",
      "\n",
      "Solution may be inaccurate. Try another solver, adjusting the solver settings, or solve with verbose=True for more information.\n",
      "\n",
      "/root/anaconda3/envs/py36/lib/python3.6/site-packages/cvxpy/problems/problem.py:1055: UserWarning:\n",
      "\n",
      "Solution may be inaccurate. Try another solver, adjusting the solver settings, or solve with verbose=True for more information.\n",
      "\n",
      "/root/anaconda3/envs/py36/lib/python3.6/site-packages/cvxpy/problems/problem.py:1055: UserWarning:\n",
      "\n",
      "Solution may be inaccurate. Try another solver, adjusting the solver settings, or solve with verbose=True for more information.\n",
      "\n",
      "/root/anaconda3/envs/py36/lib/python3.6/site-packages/cvxpy/problems/problem.py:1055: UserWarning:\n",
      "\n",
      "Solution may be inaccurate. Try another solver, adjusting the solver settings, or solve with verbose=True for more information.\n",
      "\n",
      "/root/anaconda3/envs/py36/lib/python3.6/site-packages/cvxpy/problems/problem.py:1055: UserWarning:\n",
      "\n",
      "Solution may be inaccurate. Try another solver, adjusting the solver settings, or solve with verbose=True for more information.\n",
      "\n",
      "/root/anaconda3/envs/py36/lib/python3.6/site-packages/cvxpy/problems/problem.py:1055: UserWarning:\n",
      "\n",
      "Solution may be inaccurate. Try another solver, adjusting the solver settings, or solve with verbose=True for more information.\n",
      "\n",
      "/root/anaconda3/envs/py36/lib/python3.6/site-packages/cvxpy/problems/problem.py:1055: UserWarning:\n",
      "\n",
      "Solution may be inaccurate. Try another solver, adjusting the solver settings, or solve with verbose=True for more information.\n",
      "\n",
      "/root/anaconda3/envs/py36/lib/python3.6/site-packages/cvxpy/problems/problem.py:1055: UserWarning:\n",
      "\n",
      "Solution may be inaccurate. Try another solver, adjusting the solver settings, or solve with verbose=True for more information.\n",
      "\n",
      "/root/anaconda3/envs/py36/lib/python3.6/site-packages/cvxpy/problems/problem.py:1055: UserWarning:\n",
      "\n",
      "Solution may be inaccurate. Try another solver, adjusting the solver settings, or solve with verbose=True for more information.\n",
      "\n",
      "/root/anaconda3/envs/py36/lib/python3.6/site-packages/cvxpy/problems/problem.py:1055: UserWarning:\n",
      "\n",
      "Solution may be inaccurate. Try another solver, adjusting the solver settings, or solve with verbose=True for more information.\n",
      "\n",
      "/root/anaconda3/envs/py36/lib/python3.6/site-packages/cvxpy/problems/problem.py:1055: UserWarning:\n",
      "\n",
      "Solution may be inaccurate. Try another solver, adjusting the solver settings, or solve with verbose=True for more information.\n",
      "\n",
      "/root/anaconda3/envs/py36/lib/python3.6/site-packages/cvxpy/problems/problem.py:1055: UserWarning:\n",
      "\n",
      "Solution may be inaccurate. Try another solver, adjusting the solver settings, or solve with verbose=True for more information.\n",
      "\n",
      "/root/anaconda3/envs/py36/lib/python3.6/site-packages/cvxpy/problems/problem.py:1055: UserWarning:\n",
      "\n",
      "Solution may be inaccurate. Try another solver, adjusting the solver settings, or solve with verbose=True for more information.\n",
      "\n",
      "/root/anaconda3/envs/py36/lib/python3.6/site-packages/cvxpy/problems/problem.py:1055: UserWarning:\n",
      "\n",
      "Solution may be inaccurate. Try another solver, adjusting the solver settings, or solve with verbose=True for more information.\n",
      "\n",
      "/root/anaconda3/envs/py36/lib/python3.6/site-packages/cvxpy/problems/problem.py:1055: UserWarning:\n",
      "\n",
      "Solution may be inaccurate. Try another solver, adjusting the solver settings, or solve with verbose=True for more information.\n",
      "\n",
      "/root/anaconda3/envs/py36/lib/python3.6/site-packages/cvxpy/problems/problem.py:1055: UserWarning:\n",
      "\n",
      "Solution may be inaccurate. Try another solver, adjusting the solver settings, or solve with verbose=True for more information.\n",
      "\n",
      "/root/anaconda3/envs/py36/lib/python3.6/site-packages/cvxpy/problems/problem.py:1055: UserWarning:\n",
      "\n",
      "Solution may be inaccurate. Try another solver, adjusting the solver settings, or solve with verbose=True for more information.\n",
      "\n",
      "/root/anaconda3/envs/py36/lib/python3.6/site-packages/cvxpy/problems/problem.py:1055: UserWarning:\n",
      "\n",
      "Solution may be inaccurate. Try another solver, adjusting the solver settings, or solve with verbose=True for more information.\n",
      "\n",
      "/root/anaconda3/envs/py36/lib/python3.6/site-packages/cvxpy/problems/problem.py:1055: UserWarning:\n",
      "\n",
      "Solution may be inaccurate. Try another solver, adjusting the solver settings, or solve with verbose=True for more information.\n",
      "\n",
      "/root/anaconda3/envs/py36/lib/python3.6/site-packages/cvxpy/problems/problem.py:1055: UserWarning:\n",
      "\n",
      "Solution may be inaccurate. Try another solver, adjusting the solver settings, or solve with verbose=True for more information.\n",
      "\n",
      "/root/anaconda3/envs/py36/lib/python3.6/site-packages/cvxpy/problems/problem.py:1055: UserWarning:\n",
      "\n",
      "Solution may be inaccurate. Try another solver, adjusting the solver settings, or solve with verbose=True for more information.\n",
      "\n",
      "/root/anaconda3/envs/py36/lib/python3.6/site-packages/cvxpy/problems/problem.py:1055: UserWarning:\n",
      "\n",
      "Solution may be inaccurate. Try another solver, adjusting the solver settings, or solve with verbose=True for more information.\n",
      "\n",
      "/root/anaconda3/envs/py36/lib/python3.6/site-packages/cvxpy/problems/problem.py:1055: UserWarning:\n",
      "\n",
      "Solution may be inaccurate. Try another solver, adjusting the solver settings, or solve with verbose=True for more information.\n",
      "\n",
      "/root/anaconda3/envs/py36/lib/python3.6/site-packages/cvxpy/problems/problem.py:1055: UserWarning:\n",
      "\n",
      "Solution may be inaccurate. Try another solver, adjusting the solver settings, or solve with verbose=True for more information.\n",
      "\n"
     ]
    }
   ],
   "source": [
    "C_values = np.logspace(-5, 5, 12)\n",
    "c_values = np.logspace(-5, 5, 12)\n",
    "\n",
    "metrics_adult_eo_aux = {\"Acurácia\": [], \"Igualdade de Oportunidade\": [], \"P porcento\": [], \"Coeficiente de variação\": []}\n",
    "\n",
    "\n",
    "idx = 0\n",
    "for C in C_values:\n",
    "    for c in c_values:\n",
    "        model = EqualOpportunityClassifier(sensitive_cols=fair_feature, positive_target=True,\n",
    "                                           covariance_threshold=c, C=C, max_iter=10**3)\n",
    "        try:\n",
    "            model.fit(X_train, y_train)\n",
    "        except:\n",
    "            continue\n",
    "            \n",
    "        other_solutions_list[\"EqOp\"].append([idx, model])\n",
    "            \n",
    "        metrics_adult_eo_aux[\"Acurácia\"].append(model.score(X_test, y_test))\n",
    "        metrics_adult_eo_aux[\"Igualdade de Oportunidade\"].append(equal_opportunity_score(sensitive_column=fair_feature)(model,\n",
    "                                                                                                                X_test, y_test))\n",
    "        metrics_adult_eo_aux[\"P porcento\"].append(p_percent_score(sensitive_column=fair_feature)(model,X_test))\n",
    "        metrics_adult_eo_aux[\"Coeficiente de variação\"].append(coefficient_of_variation(model, X_test, y_test))\n",
    "        \n",
    "        other_models[\"Acurácia\"].append(accuracy_score(y_test, model.predict(X_test)))\n",
    "        other_models[\"Igualdade de Oportunidade\"].append(equal_opportunity_score(sensitive_column=fair_feature)(model,\n",
    "                                                                                                                X_test, y_test))\n",
    "        other_models[\"P porcento\"].append(p_percent_score(sensitive_column=fair_feature)(model,X_test))\n",
    "        other_models[\"Coeficiente de variação\"].append(coefficient_of_variation(model, X_test, y_test))\n",
    "        other_models[\"Modelo\"].append(\"EqOp\")\n",
    "        other_models[\"model_id\"].append(4)\n",
    "        \n",
    "        idx += 1"
   ]
  },
  {
   "cell_type": "markdown",
   "metadata": {},
   "source": [
    "## Visualização - Modelos Comparados"
   ]
  },
  {
   "cell_type": "code",
   "execution_count": 657,
   "metadata": {},
   "outputs": [],
   "source": [
    "all_models = pd.DataFrame(data=other_models, columns=['Acurácia','Igualdade de Oportunidade','P porcento',\n",
    "                                     'Coeficiente de variação','model_id','Modelo'])"
   ]
  },
  {
   "cell_type": "code",
   "execution_count": 658,
   "metadata": {},
   "outputs": [],
   "source": [
    "m_metrics['model_id'] = 5\n",
    "m_metrics['Modelo'] = \"MOOErro\"\n",
    "\n",
    "m_metrics2['model_id'] = 6\n",
    "m_metrics2['Modelo'] = \"MOOAcep\""
   ]
  },
  {
   "cell_type": "code",
   "execution_count": 659,
   "metadata": {},
   "outputs": [],
   "source": [
    "all_models = all_models.append(m_metrics)\n",
    "all_models = all_models.append(m_metrics2)\n",
    "\n",
    "all_models = all_models.reset_index()"
   ]
  },
  {
   "cell_type": "code",
   "execution_count": 660,
   "metadata": {},
   "outputs": [],
   "source": [
    "all_models['cv_norm'] = (all_models['Coeficiente de variação']-all_models['Coeficiente de variação'].max())/(all_models['Coeficiente de variação'].min()-all_models['Coeficiente de variação'].max())"
   ]
  },
  {
   "cell_type": "code",
   "execution_count": 661,
   "metadata": {},
   "outputs": [],
   "source": [
    "lim_values = {}\n",
    "\n",
    "for metric in ['Acurácia', 'Igualdade de Oportunidade', 'P porcento', 'cv_norm']:\n",
    "    lim_values[metric] = {'min': math.floor(all_models[metric].min()*1000)/1000,\n",
    "                          'max': math.ceil(all_models[metric].max()*1000)/1000}\n",
    "    \n",
    "lim_values['Coeficiente de variação'] = {'min': math.floor(all_models['Coeficiente de variação'].max()*1000)/1000,\n",
    "                                        'max': math.ceil(all_models['Coeficiente de variação'].min()*1000)/1000}"
   ]
  },
  {
   "cell_type": "code",
   "execution_count": 662,
   "metadata": {},
   "outputs": [
    {
     "data": {
      "text/plain": [
       "{'Acurácia': {'min': 0.394, 'max': 0.674},\n",
       " 'Igualdade de Oportunidade': {'min': 0.0, 'max': 1.0},\n",
       " 'P porcento': {'min': 0.0, 'max': 1.0},\n",
       " 'cv_norm': {'min': 0.0, 'max': 1.0},\n",
       " 'Coeficiente de variação': {'min': 1.753, 'max': 0.487}}"
      ]
     },
     "execution_count": 662,
     "metadata": {},
     "output_type": "execute_result"
    }
   ],
   "source": [
    "lim_values"
   ]
  },
  {
   "cell_type": "code",
   "execution_count": 663,
   "metadata": {},
   "outputs": [],
   "source": [
    "all_models['acc_norm'] = (all_models['Acurácia']-lim_values['Acurácia']['min'])/(lim_values['Acurácia']['max']-lim_values['Acurácia']['min'])\n",
    "lim_values['acc_norm'] = {'min': 0.0, 'max': 1.0}"
   ]
  },
  {
   "cell_type": "code",
   "execution_count": 664,
   "metadata": {},
   "outputs": [],
   "source": [
    "all_models['eo_norm'] = (all_models['Igualdade de Oportunidade']-lim_values['Igualdade de Oportunidade']['min'])/(lim_values['Igualdade de Oportunidade']['max']-lim_values['Igualdade de Oportunidade']['min'])\n",
    "lim_values['eo_norm'] = {'min': 0.0, 'max': 1.0}"
   ]
  },
  {
   "cell_type": "markdown",
   "metadata": {},
   "source": [
    "# Experimento 2 - Ensemble"
   ]
  },
  {
   "cell_type": "code",
   "execution_count": 665,
   "metadata": {},
   "outputs": [],
   "source": [
    "metrics = ['Acurácia', 'Coeficiente de variação', 'Igualdade de Oportunidade', 'P porcento']\n",
    "methods = ['Minimax', 'LogReg', 'Reweight', 'ParDem', 'EqOp', 'MOOErro','MOOAcep']\n",
    "map_labels = {'Acc': 'Acurácia', 'CV': 'Coeficiente de variação', 'EO': 'Igualdade de Oportunidade',\n",
    "               'DP': 'P porcento'}"
   ]
  },
  {
   "cell_type": "code",
   "execution_count": 666,
   "metadata": {},
   "outputs": [],
   "source": [
    "colors = [hist_color['Minimax'],hist_color['LogReg'],hist_color['Reweight'],hist_color['ParDem'],\n",
    "          hist_color['EqOp'],hist_color['MOOErro'],hist_color['MOOAcep']]\n",
    "\n",
    "colormap = dict(zip(methods, colors))\n",
    "methmap = dict(zip(methods, methods))"
   ]
  },
  {
   "cell_type": "code",
   "execution_count": 667,
   "metadata": {},
   "outputs": [],
   "source": [
    "plt.rcParams.update({'font.size': 12})"
   ]
  },
  {
   "cell_type": "code",
   "execution_count": 668,
   "metadata": {},
   "outputs": [],
   "source": [
    "class Radar(object):\n",
    "    def __init__(self, figure, title, labels, rect=None):\n",
    "        if rect is None:\n",
    "            rect = [0.05, 0.05, 0.9, 0.9]\n",
    "\n",
    "        self.n = len(title)\n",
    "        self.angles = np.arange(0, 360, 360.0/self.n)+45\n",
    "\n",
    "        self.axes = [figure.add_axes(rect, projection='polar', label='axes%d' % i) for i in range(self.n)]\n",
    "\n",
    "        self.ax = self.axes[0]\n",
    "        self.ax.set_thetagrids(self.angles, labels=title, fontsize=18)\n",
    "\n",
    "        for ax in self.axes[1:]:\n",
    "            ax.patch.set_visible(False)\n",
    "            ax.grid(False)\n",
    "            ax.xaxis.set_visible(False)\n",
    "\n",
    "        for ax, angle, label in zip(self.axes, self.angles, labels):\n",
    "            ax.set_rgrids(range(1, 6), angle=angle, labels=label)\n",
    "            ax.spines['polar'].set_visible(False)\n",
    "            ax.set_ylim(0, 5.5)\n",
    "\n",
    "    def plot(self, values, *args, **kw):\n",
    "        angle = np.deg2rad(np.r_[self.angles, self.angles[0]])\n",
    "        values = np.r_[values, values[0]]\n",
    "        self.ax.plot(angle, values, *args, **kw)"
   ]
  },
  {
   "cell_type": "code",
   "execution_count": 669,
   "metadata": {},
   "outputs": [],
   "source": [
    "from matplotlib.lines import Line2D\n",
    "from matplotlib.patches import Patch\n",
    "\n",
    "def build_radar(df_table, steps=4, shift=1, include_legend=True, plot_name = 'aux.jpg', \n",
    "                acc_min=acc_min, acc_max=acc_max,eo_min=eo_min, eo_max=eo_max, \n",
    "                dp_min=dp_min, dp_max=dp_max, cv_min=cv_min, cv_max=cv_max):\n",
    "\n",
    "    normz = pd.DataFrame(index=['min', 'max'], columns=metrics)\n",
    "    for column in metrics:\n",
    "        if column == 'Coeficiente de variação':\n",
    "            #normz[column] = [df_table[column].max(), df_table[column].min()]\n",
    "            normz[column] = [max(cv_min, df_table[column].max()), min(cv_max, df_table[column].min())]\n",
    "        elif column == 'Acurácia':\n",
    "            normz[column] = [min(acc_min, df_table[column].min()), max(acc_max, df_table[column].max())]\n",
    "        elif column == 'Igualdade de Oportunidade':\n",
    "            normz[column] = [min(eo_min, df_table[column].min()), max(eo_max, df_table[column].max())]\n",
    "        elif column == 'P porcento':\n",
    "            normz[column] = [min(dp_min, df_table[column].min()), max(dp_max, df_table[column].max())]\n",
    "        else:\n",
    "            #normz[column] = [df_table[column].min(), df_table[column].max()]\n",
    "            normz[column] = [0,1]\n",
    "    \n",
    "    fig = plt.figure(figsize=(4, 4))\n",
    "\n",
    "    tit = ['Acc', 'CV', 'EO', 'DP']\n",
    "\n",
    "    lab = [ [normz[metric]['min'].round(2), '', '', '', normz[metric]['max'].round(2)]\n",
    "           for metric in metrics\n",
    "          ]\n",
    "\n",
    "    radar = Radar(fig, tit, lab)\n",
    "    for idx in df_table.index:\n",
    "        line = steps*(df_table.loc[idx]-normz.loc['min'])/(normz.loc['max']-normz.loc['min'])+1\n",
    "        #print(line)\n",
    "        #selected =  all((line>=selection.loc['min'])&(line<=selection.loc['max']))\n",
    "        #alpha = 0.8 if selected else 0.05\n",
    "        color = colormap[idx]# if selected else 'white'\n",
    "        radar.plot(line, lw=2, color=color)\n",
    "\n",
    "    if include_legend:\n",
    "        legend_elements = [Line2D([0], [0], color=colormap[meth], label=methmap[meth])\n",
    "                          for meth in methods]\n",
    "\n",
    "        leg2 = radar.ax.legend(handles=legend_elements, bbox_to_anchor=(0.95, 0.95), loc='upper left', title='Approach', \n",
    "                              fontsize = 12, title_fontsize=12)\n",
    "        \n",
    "        radar.ax.add_artist(leg2)\n",
    "        \n",
    "        fig.savefig(plot_name, bbox_extra_artists=(leg2,), bbox_inches='tight')\n",
    "    else:\n",
    "        fig.savefig(plot_name)"
   ]
  },
  {
   "cell_type": "code",
   "execution_count": 670,
   "metadata": {},
   "outputs": [],
   "source": [
    "def calc_res_val(model__):\n",
    "    return [accuracy_score(y_val, model__.predict(X_val)),\n",
    "            coefficient_of_variation(model__, X_val, y_val),\n",
    "            equal_opportunity_score(sensitive_column=fair_feature)(model__, X_val, y_val),\n",
    "            p_percent_score(sensitive_column=fair_feature)(model__, X_val)]\n",
    "\n",
    "def calc_res_test(model__):\n",
    "    return [accuracy_score(y_test, model__.predict(X_test)),\n",
    "            coefficient_of_variation(model__, X_test, y_test),\n",
    "            equal_opportunity_score(sensitive_column=fair_feature)(model__, X_test, y_test),\n",
    "            p_percent_score(sensitive_column=fair_feature)(model__, X_test)]"
   ]
  },
  {
   "cell_type": "code",
   "execution_count": 695,
   "metadata": {},
   "outputs": [],
   "source": [
    "filtros = {'Acurácia': {'min': 0.58, 'max': 1},\n",
    "         'Igualdade de Oportunidade': {'min': 0.0, 'max': 1},\n",
    "         'P porcento': {'min': 0.0, 'max': 1},\n",
    "         'Coeficiente de variação': {'min': 0, 'max': 0.75}}"
   ]
  },
  {
   "cell_type": "code",
   "execution_count": 696,
   "metadata": {},
   "outputs": [],
   "source": [
    "m_filtered = all_models\n",
    "for metric in ['Acurácia', 'Igualdade de Oportunidade', 'P porcento', 'Coeficiente de variação']:\n",
    "    m_filtered = m_filtered[(m_filtered[metric] >= filtros[metric]['min']) & \n",
    "           (m_filtered[metric] <= filtros[metric]['max'])]"
   ]
  },
  {
   "cell_type": "code",
   "execution_count": 697,
   "metadata": {},
   "outputs": [
    {
     "data": {
      "application/vnd.plotly.v1+json": {
       "config": {
        "plotlyServerURL": "https://plot.ly"
       },
       "data": [
        {
         "marker": {
          "color": "#a65628"
         },
         "name": "Minimax",
         "type": "histogram",
         "xaxis": "x",
         "y": [
          0.7563186813186811,
          0.7906593406593406,
          0.7563186813186811,
          0.6876373626373626,
          0.7563186813186811,
          0.8936813186813187,
          0.8936813186813187,
          0.7219780219780219
         ],
         "ybins": {
          "end": 1,
          "size": 0.1,
          "start": 0
         }
        },
        {
         "marker": {
          "color": "#f781bf"
         },
         "name": "LogReg",
         "type": "histogram",
         "xaxis": "x",
         "y": [
          0.7219780219780219,
          0.7563186813186811,
          0.7906593406593406,
          0.8249999999999998,
          0.8593406593406591,
          0.8936813186813187,
          0.8936813186813187,
          0.8936813186813187,
          0.928021978021978,
          0.928021978021978,
          0.928021978021978,
          0.9623626373626372,
          0.928021978021978,
          0.928021978021978,
          0.8936813186813187,
          0.8936813186813187,
          0.8936813186813187,
          0.8593406593406591,
          0.8593406593406591,
          0.928021978021978,
          0.9623626373626372,
          0.9623626373626372,
          0.928021978021978,
          0.8936813186813187,
          0.8936813186813187,
          0.8936813186813187,
          0.928021978021978,
          0.928021978021978,
          0.7219780219780219,
          0.928021978021978,
          0.7219780219780219,
          0.928021978021978,
          0.9623626373626372,
          0.928021978021978,
          0.9623626373626372
         ],
         "ybins": {
          "end": 1,
          "size": 0.1,
          "start": 0
         }
        },
        {
         "marker": {
          "color": "#4daf4a"
         },
         "name": "Reweight",
         "type": "histogram",
         "xaxis": "x",
         "y": [
          0.7563186813186811,
          0.7563186813186811,
          0.7906593406593406,
          0.8593406593406591,
          0.8593406593406591,
          0.8936813186813187,
          0.8936813186813187,
          0.928021978021978,
          0.928021978021978,
          0.928021978021978,
          0.9623626373626372,
          0.9623626373626372,
          0.928021978021978,
          0.928021978021978,
          0.928021978021978,
          0.8936813186813187,
          0.8593406593406591,
          0.8593406593406591,
          0.8936813186813187,
          0.928021978021978,
          0.928021978021978,
          0.928021978021978,
          0.8936813186813187,
          0.928021978021978,
          0.928021978021978,
          0.928021978021978,
          0.928021978021978,
          0.8936813186813187,
          0.8936813186813187,
          0.8936813186813187,
          0.928021978021978,
          0.9623626373626372,
          0.928021978021978,
          0.9623626373626372,
          0.9623626373626372,
          0.928021978021978
         ],
         "ybins": {
          "end": 1,
          "size": 0.1,
          "start": 0
         }
        },
        {
         "marker": {
          "color": "#984ea3"
         },
         "name": "ParDem",
         "type": "histogram",
         "xaxis": "x",
         "y": [
          0.6876373626373626,
          0.8249999999999998,
          0.8936813186813187,
          0.928021978021978,
          0.8936813186813187,
          0.928021978021978,
          0.8936813186813187,
          0.928021978021978,
          0.8249999999999998,
          0.928021978021978,
          0.8249999999999998,
          0.8249999999999998,
          0.8593406593406591,
          0.8593406593406591,
          0.928021978021978,
          0.928021978021978,
          0.928021978021978,
          0.928021978021978,
          0.928021978021978,
          0.8936813186813187,
          0.8936813186813187,
          0.8936813186813187,
          0.8936813186813187,
          0.8936813186813187,
          0.9623626373626372,
          0.8936813186813187,
          0.8593406593406591,
          0.8593406593406591,
          0.8593406593406591,
          0.8593406593406591,
          0.8593406593406591,
          0.8593406593406591,
          0.8593406593406591,
          0.8593406593406591,
          0.928021978021978,
          0.928021978021978,
          0.928021978021978,
          0.928021978021978,
          0.928021978021978,
          0.928021978021978,
          0.928021978021978,
          0.928021978021978,
          0.928021978021978
         ],
         "ybins": {
          "end": 1,
          "size": 0.1,
          "start": 0
         }
        },
        {
         "marker": {
          "color": "#ff7f00"
         },
         "name": "EqOp",
         "type": "histogram",
         "xaxis": "x",
         "y": [
          0.8936813186813187,
          0.8936813186813187,
          0.8936813186813187,
          0.8936813186813187,
          0.928021978021978,
          0.8593406593406591,
          0.928021978021978,
          0.928021978021978,
          0.8936813186813187,
          0.8593406593406591,
          0.8936813186813187,
          0.928021978021978,
          0.928021978021978,
          0.928021978021978,
          0.8936813186813187,
          0.8936813186813187,
          0.8936813186813187,
          0.928021978021978,
          0.8936813186813187,
          0.8936813186813187,
          0.928021978021978,
          0.928021978021978,
          0.8936813186813187,
          0.8593406593406591,
          0.8593406593406591,
          0.8593406593406591,
          0.8593406593406591,
          0.8593406593406591,
          0.8593406593406591,
          0.8593406593406591,
          0.8593406593406591,
          0.8593406593406591,
          0.8593406593406591,
          0.8593406593406591,
          0.8593406593406591,
          0.928021978021978,
          0.928021978021978,
          0.928021978021978,
          0.928021978021978,
          0.928021978021978,
          0.928021978021978,
          0.928021978021978,
          0.928021978021978,
          0.928021978021978
         ],
         "ybins": {
          "end": 1,
          "size": 0.1,
          "start": 0
         }
        },
        {
         "marker": {
          "color": "#377eb8"
         },
         "name": "MOOErro",
         "type": "histogram",
         "xaxis": "x",
         "y": [
          0.8593406593406591,
          0.8593406593406591,
          0.8593406593406591,
          0.928021978021978,
          0.928021978021978,
          0.9967032967032967
         ],
         "ybins": {
          "end": 1,
          "size": 0.1,
          "start": 0
         }
        },
        {
         "marker": {
          "color": "#e41a1c"
         },
         "name": "MOOAcep",
         "type": "histogram",
         "xaxis": "x",
         "y": [
          0.7219780219780219,
          0.7563186813186811,
          0.8593406593406591,
          0.7219780219780219,
          0.7563186813186811,
          0.6876373626373626,
          0.8593406593406591,
          0.7906593406593406,
          0.8936813186813187,
          0.6876373626373626,
          0.6876373626373626,
          0.8936813186813187,
          0.7906593406593406,
          0.8249999999999998,
          0.7906593406593406,
          0.8249999999999998,
          0.7906593406593406,
          0.7563186813186811,
          0.6876373626373626,
          0.7219780219780219,
          0.7219780219780219,
          0.9623626373626372,
          0.7906593406593406,
          0.8593406593406591,
          0.8249999999999998,
          0.7906593406593406,
          0.7563186813186811,
          0.7219780219780219,
          0.8936813186813187,
          0.6876373626373626,
          0.8249999999999998,
          0.7906593406593406,
          0.7563186813186811,
          0.7219780219780219,
          0.7563186813186811,
          0.7906593406593406,
          0.7563186813186811,
          0.7219780219780219,
          0.7906593406593406,
          0.7219780219780219,
          0.6876373626373626,
          0.7219780219780219,
          0.8249999999999998,
          0.7563186813186811,
          0.8249999999999998,
          0.7906593406593406,
          0.8249999999999998,
          0.7906593406593406,
          0.7219780219780219,
          0.7563186813186811,
          0.7563186813186811,
          0.6876373626373626,
          0.8249999999999998,
          0.928021978021978,
          0.8936813186813187,
          0.7906593406593406,
          0.7219780219780219,
          0.8249999999999998,
          0.7906593406593406,
          0.7906593406593406,
          0.6876373626373626
         ],
         "ybins": {
          "end": 1,
          "size": 0.1,
          "start": 0
         }
        },
        {
         "marker": {
          "color": "#a65628"
         },
         "name": "Minimax",
         "type": "histogram",
         "xaxis": "x2",
         "y": [
          0.9647058823529412,
          0.9894419306184012,
          0.9647058823529412,
          0.9411764705882353,
          0.9647058823529412,
          0.9847560975609757,
          0.9847560975609757,
          0.9411764705882353
         ],
         "ybins": {
          "end": 1,
          "size": 0.1,
          "start": 0
         }
        },
        {
         "marker": {
          "color": "#f781bf"
         },
         "name": "LogReg",
         "type": "histogram",
         "xaxis": "x2",
         "y": [
          0.9411764705882353,
          0.9647058823529412,
          0.9647058823529412,
          0.9894419306184012,
          0.9847560975609757,
          0.9847560975609757,
          0.9847560975609757,
          0.9847560975609757,
          0.9847560975609757,
          0.9847560975609757,
          0.9847560975609757,
          0.9847560975609757,
          0.9588414634146342,
          0.9588414634146342,
          0.9588414634146342,
          0.9588414634146342,
          0.9588414634146342,
          0.9329268292682927,
          0.9329268292682927,
          0.9329268292682927,
          0.9588414634146342,
          0.9588414634146342,
          0.9777424483306836,
          0.9777424483306836,
          0.9777424483306836,
          0.9777424483306836,
          0.9777424483306836,
          0.9777424483306836,
          0.9121951219512195,
          0.9951219512195122,
          0.895798319327731,
          0.967479674796748,
          0.967479674796748,
          0.9647058823529412,
          0.9477351916376308
         ],
         "ybins": {
          "end": 1,
          "size": 0.1,
          "start": 0
         }
        },
        {
         "marker": {
          "color": "#4daf4a"
         },
         "name": "Reweight",
         "type": "histogram",
         "xaxis": "x2",
         "y": [
          0.9411764705882353,
          0.9647058823529412,
          0.9894419306184012,
          0.9894419306184012,
          0.9847560975609757,
          0.9847560975609757,
          0.9847560975609757,
          0.9847560975609757,
          0.9847560975609757,
          0.9847560975609757,
          0.9847560975609757,
          0.9847560975609757,
          0.9588414634146342,
          0.9588414634146342,
          0.9588414634146342,
          0.9588414634146342,
          0.9329268292682927,
          0.9329268292682927,
          0.9329268292682927,
          0.9329268292682927,
          0.9329268292682927,
          0.9329268292682927,
          0.9951219512195122,
          0.9777424483306836,
          0.9777424483306836,
          0.9777424483306836,
          0.9777424483306836,
          0.9951219512195122,
          0.9951219512195122,
          0.9951219512195122,
          0.9951219512195122,
          0.9951219512195122,
          0.967479674796748,
          0.9930795847750865,
          0.9773519163763067,
          0.9181184668989547
         ],
         "ybins": {
          "end": 1,
          "size": 0.1,
          "start": 0
         }
        },
        {
         "marker": {
          "color": "#984ea3"
         },
         "name": "ParDem",
         "type": "histogram",
         "xaxis": "x2",
         "y": [
          1,
          0.9894419306184012,
          0.9588414634146342,
          0.9847560975609757,
          0.9847560975609757,
          0.9847560975609757,
          0.9588414634146342,
          0.9847560975609757,
          0.9894419306184012,
          0.9588414634146342,
          0.9847560975609757,
          0.9847560975609757,
          0.9847560975609757,
          0.9847560975609757,
          0.9588414634146342,
          0.9588414634146342,
          0.9588414634146342,
          0.9588414634146342,
          0.9588414634146342,
          0.9588414634146342,
          0.9588414634146342,
          0.9588414634146342,
          0.8709150326797385,
          0.8709150326797385,
          0.9125596184419713,
          0.9588414634146342,
          0.9329268292682927,
          0.9329268292682927,
          0.9329268292682927,
          0.9329268292682927,
          0.9329268292682927,
          0.9329268292682927,
          0.9329268292682927,
          0.9329268292682927,
          0.9181184668989547,
          0.9181184668989547,
          0.9181184668989547,
          0.9181184668989547,
          0.9181184668989547,
          0.9181184668989547,
          0.9181184668989547,
          0.9181184668989547,
          0.9181184668989547
         ],
         "ybins": {
          "end": 1,
          "size": 0.1,
          "start": 0
         }
        },
        {
         "marker": {
          "color": "#ff7f00"
         },
         "name": "EqOp",
         "type": "histogram",
         "xaxis": "x2",
         "y": [
          0.9588414634146342,
          0.9588414634146342,
          0.9588414634146342,
          0.9847560975609757,
          0.9847560975609757,
          0.9847560975609757,
          0.9894419306184012,
          0.9847560975609757,
          0.9847560975609757,
          0.9847560975609757,
          0.9329268292682927,
          0.9847560975609757,
          0.9847560975609757,
          0.9847560975609757,
          0.9588414634146342,
          0.9588414634146342,
          0.9588414634146342,
          0.9588414634146342,
          0.9588414634146342,
          0.9329268292682927,
          0.9847560975609757,
          0.9588414634146342,
          0.9588414634146342,
          0.9329268292682927,
          0.9329268292682927,
          0.9329268292682927,
          0.9329268292682927,
          0.9329268292682927,
          0.9329268292682927,
          0.9329268292682927,
          0.9329268292682927,
          0.9329268292682927,
          0.9329268292682927,
          0.9329268292682927,
          0.9329268292682927,
          0.9181184668989547,
          0.9181184668989547,
          0.9181184668989547,
          0.9181184668989547,
          0.9181184668989547,
          0.9181184668989547,
          0.9181184668989547,
          0.9181184668989547,
          0.9181184668989547
         ],
         "ybins": {
          "end": 1,
          "size": 0.1,
          "start": 0
         }
        },
        {
         "marker": {
          "color": "#377eb8"
         },
         "name": "MOOErro",
         "type": "histogram",
         "xaxis": "x2",
         "y": [
          0.5630952380952382,
          0.8527131782945736,
          0.6615384615384615,
          0.8812729498164016,
          0.9043927648578811,
          0.8268733850129198
         ],
         "ybins": {
          "end": 1,
          "size": 0.1,
          "start": 0
         }
        },
        {
         "marker": {
          "color": "#e41a1c"
         },
         "name": "MOOAcep",
         "type": "histogram",
         "xaxis": "x2",
         "y": [
          0.7804878048780488,
          0.975609756097561,
          0.8292682926829269,
          1,
          0.6470588235294118,
          0.5294117647058824,
          0.8780487804878049,
          0.7804878048780488,
          0.9588414634146342,
          0.47058823529411764,
          1,
          0.9773519163763067,
          1,
          0.7804878048780488,
          0.4823529411764706,
          0.8048780487804879,
          0.9276018099547512,
          0.975609756097561,
          0.9512195121951219,
          0.8780487804878049,
          0.9024390243902439,
          0.9181184668989547,
          0.7804878048780488,
          0.9951219512195122,
          0.8536585365853658,
          0.5294117647058824,
          0.9044117647058824,
          0.8823529411764706,
          0.9329268292682927,
          0.9512195121951219,
          0.8536585365853658,
          0.9588414634146342,
          0.975609756097561,
          0.6632352941176471,
          1,
          0.9773519163763067,
          0.975609756097561,
          1,
          0.7804878048780488,
          0.9024390243902439,
          0.6518282988871225,
          1,
          0.8780487804878049,
          0.9024390243902439,
          0.8048780487804879,
          1,
          0.8048780487804879,
          0.9647058823529412,
          0.9024390243902439,
          0.926829268292683,
          0.8048780487804879,
          0.975609756097561,
          0.9398373983739837,
          0.803921568627451,
          0.9477351916376308,
          0.47058823529411764,
          1,
          0.8536585365853658,
          0.8536585365853658,
          0.8823529411764706,
          0.47058823529411764
         ],
         "ybins": {
          "end": 1,
          "size": 0.1,
          "start": 0
         }
        },
        {
         "marker": {
          "color": "#a65628"
         },
         "name": "Minimax",
         "type": "histogram",
         "xaxis": "x3",
         "y": [
          0.993006993006993,
          0.9605633802816901,
          0.993006993006993,
          0.9354413702239789,
          0.993006993006993,
          0.9793762575452716,
          0.9793762575452716,
          0.9491978609625669
         ],
         "ybins": {
          "end": 1,
          "size": 0.1,
          "start": 0
         }
        },
        {
         "marker": {
          "color": "#f781bf"
         },
         "name": "LogReg",
         "type": "histogram",
         "xaxis": "x3",
         "y": [
          0.9491978609625669,
          0.993006993006993,
          0.9915492957746479,
          0.9936862554638173,
          0.9959758551307847,
          0.9793762575452716,
          0.9793762575452716,
          0.9793762575452716,
          0.9845916795069338,
          0.9845916795069338,
          0.9845916795069338,
          0.9481253210066769,
          0.9644723092998955,
          0.9644723092998955,
          0.9984350547730829,
          0.9984350547730829,
          0.9984350547730829,
          0.9812206572769953,
          0.9812206572769953,
          0.998917748917749,
          0.9813928761297182,
          0.9813928761297182,
          0.9436469962785752,
          0.9813928761297182,
          0.9813928761297182,
          0.9813928761297182,
          0.9436469962785752,
          0.9436469962785752,
          0.9653304442036836,
          0.977961432506887,
          0.9220779220779222,
          0.9853521126760564,
          0.9667605633802817,
          0.9481690140845072,
          0.9295774647887324
         ],
         "ybins": {
          "end": 1,
          "size": 0.1,
          "start": 0
         }
        },
        {
         "marker": {
          "color": "#4daf4a"
         },
         "name": "Reweight",
         "type": "histogram",
         "xaxis": "x3",
         "y": [
          0.9633649932157395,
          0.993006993006993,
          0.9605633802816901,
          0.9716520039100686,
          0.9959758551307847,
          0.9793762575452716,
          0.9793762575452716,
          0.9845916795069338,
          0.9845916795069338,
          0.9845916795069338,
          0.9481253210066769,
          0.9481253210066769,
          0.9644723092998955,
          0.9644723092998955,
          0.9644723092998955,
          0.9984350547730829,
          0.9812206572769953,
          0.9812206572769953,
          0.9813928761297182,
          0.998917748917749,
          0.998917748917749,
          0.998917748917749,
          0.9604978354978355,
          0.9436469962785752,
          0.9436469962785752,
          0.9436469962785752,
          0.9436469962785752,
          0.9604978354978355,
          0.9604978354978355,
          0.9604978354978355,
          0.977961432506887,
          0.9960718294051627,
          0.9295774647887325,
          0.9489436619718309,
          0.9102112676056338,
          0.9093692590324556
         ],
         "ybins": {
          "end": 1,
          "size": 0.1,
          "start": 0
         }
        },
        {
         "marker": {
          "color": "#984ea3"
         },
         "name": "ParDem",
         "type": "histogram",
         "xaxis": "x3",
         "y": [
          0.9577464788732394,
          0.9936862554638173,
          0.9984350547730829,
          0.9845916795069338,
          0.9793762575452716,
          0.9845916795069338,
          0.9984350547730829,
          0.9845916795069338,
          0.9450704225352112,
          0.9644723092998955,
          0.9616318601262749,
          0.9616318601262749,
          0.9456046624575036,
          0.9456046624575036,
          0.9644723092998955,
          0.9644723092998955,
          0.9644723092998955,
          0.9644723092998955,
          0.9644723092998955,
          0.9984350547730829,
          0.9984350547730829,
          0.9984350547730829,
          0.9742710120068611,
          0.9742710120068611,
          0.9960718294051627,
          0.9461770623742455,
          0.9812206572769953,
          0.9812206572769953,
          0.9812206572769953,
          0.9812206572769953,
          0.9812206572769953,
          0.9812206572769953,
          0.9812206572769953,
          0.9812206572769953,
          0.9093692590324556,
          0.9093692590324556,
          0.9093692590324556,
          0.9093692590324556,
          0.9093692590324556,
          0.9093692590324556,
          0.9093692590324556,
          0.9093692590324556,
          0.9093692590324556
         ],
         "ybins": {
          "end": 1,
          "size": 0.1,
          "start": 0
         }
        },
        {
         "marker": {
          "color": "#ff7f00"
         },
         "name": "EqOp",
         "type": "histogram",
         "xaxis": "x3",
         "y": [
          0.9984350547730829,
          0.9984350547730829,
          0.9984350547730829,
          0.9793762575452716,
          0.9845916795069338,
          0.9456046624575036,
          0.9959758551307847,
          0.9627766599597586,
          0.9793762575452716,
          0.9456046624575036,
          0.9813928761297182,
          0.9845916795069338,
          0.9845916795069338,
          0.9845916795069338,
          0.9984350547730829,
          0.9984350547730829,
          0.9984350547730829,
          0.9644723092998955,
          0.9984350547730829,
          0.9813928761297182,
          0.9845916795069338,
          0.9644723092998955,
          0.9984350547730829,
          0.9812206572769953,
          0.9812206572769953,
          0.9812206572769953,
          0.9812206572769953,
          0.9812206572769953,
          0.9812206572769953,
          0.9812206572769953,
          0.9812206572769953,
          0.9812206572769953,
          0.9812206572769953,
          0.9812206572769953,
          0.9812206572769953,
          0.9093692590324556,
          0.9093692590324556,
          0.9093692590324556,
          0.9093692590324556,
          0.9093692590324556,
          0.9093692590324556,
          0.9093692590324556,
          0.9093692590324556,
          0.9093692590324556
         ],
         "ybins": {
          "end": 1,
          "size": 0.1,
          "start": 0
         }
        },
        {
         "marker": {
          "color": "#377eb8"
         },
         "name": "MOOErro",
         "type": "histogram",
         "xaxis": "x3",
         "y": [
          0.376890756302521,
          0.8395802098950524,
          0.4769585253456221,
          0.8961352657004831,
          0.8745627186406796,
          0.8266237251744497
         ],
         "ybins": {
          "end": 1,
          "size": 0.1,
          "start": 0
         }
        },
        {
         "marker": {
          "color": "#e41a1c"
         },
         "name": "MOOAcep",
         "type": "histogram",
         "xaxis": "x3",
         "y": [
          0.6901408450704225,
          0.9441021126760563,
          0.7532782904322487,
          0.9436619718309859,
          0.6422433288104931,
          0.42424242424242425,
          0.7464788732394366,
          0.6619718309859155,
          0.8975230694511899,
          0.36363636363636365,
          0.9577464788732394,
          0.9896969696969699,
          0.9954771596562643,
          0.6826584507042254,
          0.4303030303030303,
          0.676056338028169,
          0.922077922077922,
          0.9014084507042254,
          0.9014084507042254,
          0.8424295774647887,
          0.8309859154929577,
          0.9507042253521127,
          0.6619718309859155,
          0.8963782696177062,
          0.7323943661971831,
          0.48168249660786977,
          0.8801652892561984,
          0.841897233201581,
          0.8654686741136474,
          0.9014084507042254,
          0.7323943661971831,
          0.9456046624575036,
          0.9441021126760563,
          0.6519742883379247,
          0.9295774647887324,
          0.8938244853737811,
          0.9014084507042254,
          0.9436619718309859,
          0.6619718309859155,
          0.8309859154929577,
          0.6813131313131314,
          0.9436619718309859,
          0.7605633802816901,
          0.8169014084507042,
          0.676056338028169,
          0.9586267605633803,
          0.676056338028169,
          0.9599067599067599,
          0.8309859154929577,
          0.8450704225352113,
          0.704225352112676,
          0.9295774647887324,
          0.8465794768611671,
          0.8524871355060034,
          0.9699938763012859,
          0.41745816372682043,
          0.9436619718309859,
          0.7323943661971831,
          0.7464788732394366,
          0.8670284938941656,
          0.36363636363636365
         ],
         "ybins": {
          "end": 1,
          "size": 0.1,
          "start": 0
         }
        },
        {
         "marker": {
          "color": "#a65628"
         },
         "name": "Minimax",
         "type": "histogram",
         "xaxis": "x4",
         "y": [
          0.9583955484061177,
          0.9410060989550295,
          0.9583955484061177,
          0.9776674248915195,
          0.9583955484061177,
          0.924098072607977,
          0.924098072607977,
          0.9765332294812747
         ],
         "ybins": {
          "end": 1,
          "size": 0.1,
          "start": 0
         }
        },
        {
         "marker": {
          "color": "#f781bf"
         },
         "name": "LogReg",
         "type": "histogram",
         "xaxis": "x4",
         "y": [
          0.9765332294812747,
          0.9583955484061177,
          0.9576555579332618,
          0.9405284564058227,
          0.9241273474030474,
          0.924098072607977,
          0.924098072607977,
          0.924098072607977,
          0.9242498501486194,
          0.9242498501486194,
          0.9242498501486194,
          0.9245912012382693,
          0.9087148660774101,
          0.9087148660774101,
          0.9084385528153937,
          0.9084385528153937,
          0.9084385528153937,
          0.8928461236338465,
          0.8928461236338465,
          0.8934640073401077,
          0.9091862719911267,
          0.9091862719911267,
          0.8934640073401077,
          0.8930591430920325,
          0.8930591430920325,
          0.8930591430920325,
          0.8934640073401077,
          0.8934640073401077,
          0.8321501926761926,
          0.8784740183545603,
          0.8321501926761926,
          0.8637256529895826,
          0.8646195095799752,
          0.8492031573279811,
          0.8084479984920153
         ],
         "ybins": {
          "end": 1,
          "size": 0.1,
          "start": 0
         }
        },
        {
         "marker": {
          "color": "#4daf4a"
         },
         "name": "Reweight",
         "type": "histogram",
         "xaxis": "x4",
         "y": [
          0.9755393839110919,
          0.9583955484061177,
          0.9410060989550295,
          0.9402129458129916,
          0.9241273474030474,
          0.924098072607977,
          0.924098072607977,
          0.9242498501486194,
          0.9242498501486194,
          0.9242498501486194,
          0.9245912012382693,
          0.9245912012382693,
          0.9087148660774101,
          0.9087148660774101,
          0.9087148660774101,
          0.9084385528153937,
          0.8928461236338465,
          0.8928461236338465,
          0.8930591430920325,
          0.8934640073401077,
          0.8934640073401077,
          0.8934640073401077,
          0.8779356758454105,
          0.8934640073401077,
          0.8934640073401077,
          0.8934640073401077,
          0.8934640073401077,
          0.8779356758454105,
          0.8779356758454105,
          0.8779356758454105,
          0.8784740183545603,
          0.8792207290196643,
          0.8637256529895826,
          0.8361059927334384,
          0.8221733878717499,
          0.7931602208792193
         ],
         "ybins": {
          "end": 1,
          "size": 0.1,
          "start": 0
         }
        },
        {
         "marker": {
          "color": "#984ea3"
         },
         "name": "ParDem",
         "type": "histogram",
         "xaxis": "x4",
         "y": [
          0.9954741749459246,
          0.9405284564058227,
          0.9084385528153937,
          0.9242498501486194,
          0.924098072607977,
          0.9242498501486194,
          0.9084385528153937,
          0.9242498501486194,
          0.9405284564058228,
          0.9087148660774101,
          0.9243297391402429,
          0.9243297391402429,
          0.9241273474030474,
          0.9241273474030473,
          0.9087148660774101,
          0.9087148660774101,
          0.9087148660774101,
          0.9087148660774101,
          0.9087148660774101,
          0.9084385528153937,
          0.9084385528153937,
          0.9084385528153937,
          0.848379387678349,
          0.848379387678349,
          0.8792207290196644,
          0.9084385528153937,
          0.8928461236338465,
          0.8928461236338465,
          0.8928461236338465,
          0.8928461236338465,
          0.8928461236338465,
          0.8928461236338465,
          0.8928461236338465,
          0.8928461236338465,
          0.7931602208792193,
          0.7931602208792193,
          0.7931602208792193,
          0.7931602208792193,
          0.7931602208792193,
          0.7931602208792193,
          0.7931602208792193,
          0.7931602208792193,
          0.7931602208792193
         ],
         "ybins": {
          "end": 1,
          "size": 0.1,
          "start": 0
         }
        },
        {
         "marker": {
          "color": "#ff7f00"
         },
         "name": "EqOp",
         "type": "histogram",
         "xaxis": "x4",
         "y": [
          0.9084385528153937,
          0.9084385528153937,
          0.9084385528153937,
          0.924098072607977,
          0.9242498501486194,
          0.9241273474030473,
          0.9400969139477826,
          0.9242498501486194,
          0.924098072607977,
          0.9241273474030473,
          0.8930591430920325,
          0.9242498501486194,
          0.9242498501486194,
          0.9242498501486194,
          0.9084385528153937,
          0.9084385528153937,
          0.9084385528153937,
          0.9087148660774101,
          0.9084385528153937,
          0.8930591430920325,
          0.9242498501486194,
          0.9087148660774101,
          0.9084385528153937,
          0.8928461236338465,
          0.8928461236338465,
          0.8928461236338465,
          0.8928461236338465,
          0.8928461236338465,
          0.8928461236338465,
          0.8928461236338465,
          0.8928461236338465,
          0.8928461236338465,
          0.8928461236338465,
          0.8928461236338465,
          0.8928461236338465,
          0.7931602208792193,
          0.7931602208792193,
          0.7931602208792193,
          0.7931602208792193,
          0.7931602208792193,
          0.7931602208792193,
          0.7931602208792193,
          0.7931602208792193,
          0.7931602208792193
         ],
         "ybins": {
          "end": 1,
          "size": 0.1,
          "start": 0
         }
        },
        {
         "marker": {
          "color": "#377eb8"
         },
         "name": "MOOErro",
         "type": "histogram",
         "xaxis": "x4",
         "y": [
          0.8331609698123777,
          0.804495401828369,
          0.8044954018283688,
          0.8637256529895826,
          0.8348938845451008,
          0.7969783214914964
         ],
         "ybins": {
          "end": 1,
          "size": 0.1,
          "start": 0
         }
        },
        {
         "marker": {
          "color": "#e41a1c"
         },
         "name": "MOOAcep",
         "type": "histogram",
         "xaxis": "x4",
         "y": [
          0.847262790223878,
          0.9755393839110919,
          0.8331609698123777,
          0.994230349932055,
          0.8932726157172969,
          0.862972842164857,
          0.9083483414434387,
          0.8471476879177634,
          0.9084385528153937,
          0.8475755217114075,
          0.9954741749459246,
          0.8196476952191362,
          0.9921664067640791,
          0.8473618413090614,
          0.8322733609705323,
          0.8622992664841574,
          0.9246978499084436,
          0.9755393839110919,
          0.9603115974252726,
          0.9096893041449183,
          0.9259040702397036,
          0.7949264534328834,
          0.8471476879177634,
          0.877595637256077,
          0.8928161018242327,
          0.8622090260029273,
          0.9416393246687593,
          0.9592826983369673,
          0.8930591430920324,
          0.9603115974252726,
          0.8928161018242327,
          0.908693302796082,
          0.9755393839110919,
          0.8780404807528396,
          0.9931261476276191,
          0.8175724243412582,
          0.9755393839110919,
          0.994230349932055,
          0.8471476879177634,
          0.9259040702397036,
          0.8172891162802086,
          0.994230349932055,
          0.9084358598434168,
          0.925224776174415,
          0.8622992664841574,
          0.9921664067640791,
          0.8622992664841574,
          0.9576555579332618,
          0.9259040702397036,
          0.9416393246687593,
          0.8622964897883701,
          0.9776674248915195,
          0.8473618413090614,
          0.8348938845451009,
          0.8055654334638792,
          0.8471476879177634,
          0.994230349932055,
          0.8928161018242327,
          0.8929608310589242,
          0.9576555579332618,
          0.8475755217114075
         ],
         "ybins": {
          "end": 1,
          "size": 0.1,
          "start": 0
         }
        }
       ],
       "layout": {
        "barmode": "stack",
        "font": {
         "size": 24
        },
        "height": 400,
        "paper_bgcolor": "rgba(0,0,0,0)",
        "plot_bgcolor": "rgba(0,0,0,0)",
        "showlegend": false,
        "template": {
         "data": {
          "bar": [
           {
            "error_x": {
             "color": "#2a3f5f"
            },
            "error_y": {
             "color": "#2a3f5f"
            },
            "marker": {
             "line": {
              "color": "#E5ECF6",
              "width": 0.5
             }
            },
            "type": "bar"
           }
          ],
          "barpolar": [
           {
            "marker": {
             "line": {
              "color": "#E5ECF6",
              "width": 0.5
             }
            },
            "type": "barpolar"
           }
          ],
          "carpet": [
           {
            "aaxis": {
             "endlinecolor": "#2a3f5f",
             "gridcolor": "white",
             "linecolor": "white",
             "minorgridcolor": "white",
             "startlinecolor": "#2a3f5f"
            },
            "baxis": {
             "endlinecolor": "#2a3f5f",
             "gridcolor": "white",
             "linecolor": "white",
             "minorgridcolor": "white",
             "startlinecolor": "#2a3f5f"
            },
            "type": "carpet"
           }
          ],
          "choropleth": [
           {
            "colorbar": {
             "outlinewidth": 0,
             "ticks": ""
            },
            "type": "choropleth"
           }
          ],
          "contour": [
           {
            "colorbar": {
             "outlinewidth": 0,
             "ticks": ""
            },
            "colorscale": [
             [
              0,
              "#0d0887"
             ],
             [
              0.1111111111111111,
              "#46039f"
             ],
             [
              0.2222222222222222,
              "#7201a8"
             ],
             [
              0.3333333333333333,
              "#9c179e"
             ],
             [
              0.4444444444444444,
              "#bd3786"
             ],
             [
              0.5555555555555556,
              "#d8576b"
             ],
             [
              0.6666666666666666,
              "#ed7953"
             ],
             [
              0.7777777777777778,
              "#fb9f3a"
             ],
             [
              0.8888888888888888,
              "#fdca26"
             ],
             [
              1,
              "#f0f921"
             ]
            ],
            "type": "contour"
           }
          ],
          "contourcarpet": [
           {
            "colorbar": {
             "outlinewidth": 0,
             "ticks": ""
            },
            "type": "contourcarpet"
           }
          ],
          "heatmap": [
           {
            "colorbar": {
             "outlinewidth": 0,
             "ticks": ""
            },
            "colorscale": [
             [
              0,
              "#0d0887"
             ],
             [
              0.1111111111111111,
              "#46039f"
             ],
             [
              0.2222222222222222,
              "#7201a8"
             ],
             [
              0.3333333333333333,
              "#9c179e"
             ],
             [
              0.4444444444444444,
              "#bd3786"
             ],
             [
              0.5555555555555556,
              "#d8576b"
             ],
             [
              0.6666666666666666,
              "#ed7953"
             ],
             [
              0.7777777777777778,
              "#fb9f3a"
             ],
             [
              0.8888888888888888,
              "#fdca26"
             ],
             [
              1,
              "#f0f921"
             ]
            ],
            "type": "heatmap"
           }
          ],
          "heatmapgl": [
           {
            "colorbar": {
             "outlinewidth": 0,
             "ticks": ""
            },
            "colorscale": [
             [
              0,
              "#0d0887"
             ],
             [
              0.1111111111111111,
              "#46039f"
             ],
             [
              0.2222222222222222,
              "#7201a8"
             ],
             [
              0.3333333333333333,
              "#9c179e"
             ],
             [
              0.4444444444444444,
              "#bd3786"
             ],
             [
              0.5555555555555556,
              "#d8576b"
             ],
             [
              0.6666666666666666,
              "#ed7953"
             ],
             [
              0.7777777777777778,
              "#fb9f3a"
             ],
             [
              0.8888888888888888,
              "#fdca26"
             ],
             [
              1,
              "#f0f921"
             ]
            ],
            "type": "heatmapgl"
           }
          ],
          "histogram": [
           {
            "marker": {
             "colorbar": {
              "outlinewidth": 0,
              "ticks": ""
             }
            },
            "type": "histogram"
           }
          ],
          "histogram2d": [
           {
            "colorbar": {
             "outlinewidth": 0,
             "ticks": ""
            },
            "colorscale": [
             [
              0,
              "#0d0887"
             ],
             [
              0.1111111111111111,
              "#46039f"
             ],
             [
              0.2222222222222222,
              "#7201a8"
             ],
             [
              0.3333333333333333,
              "#9c179e"
             ],
             [
              0.4444444444444444,
              "#bd3786"
             ],
             [
              0.5555555555555556,
              "#d8576b"
             ],
             [
              0.6666666666666666,
              "#ed7953"
             ],
             [
              0.7777777777777778,
              "#fb9f3a"
             ],
             [
              0.8888888888888888,
              "#fdca26"
             ],
             [
              1,
              "#f0f921"
             ]
            ],
            "type": "histogram2d"
           }
          ],
          "histogram2dcontour": [
           {
            "colorbar": {
             "outlinewidth": 0,
             "ticks": ""
            },
            "colorscale": [
             [
              0,
              "#0d0887"
             ],
             [
              0.1111111111111111,
              "#46039f"
             ],
             [
              0.2222222222222222,
              "#7201a8"
             ],
             [
              0.3333333333333333,
              "#9c179e"
             ],
             [
              0.4444444444444444,
              "#bd3786"
             ],
             [
              0.5555555555555556,
              "#d8576b"
             ],
             [
              0.6666666666666666,
              "#ed7953"
             ],
             [
              0.7777777777777778,
              "#fb9f3a"
             ],
             [
              0.8888888888888888,
              "#fdca26"
             ],
             [
              1,
              "#f0f921"
             ]
            ],
            "type": "histogram2dcontour"
           }
          ],
          "mesh3d": [
           {
            "colorbar": {
             "outlinewidth": 0,
             "ticks": ""
            },
            "type": "mesh3d"
           }
          ],
          "parcoords": [
           {
            "line": {
             "colorbar": {
              "outlinewidth": 0,
              "ticks": ""
             }
            },
            "type": "parcoords"
           }
          ],
          "pie": [
           {
            "automargin": true,
            "type": "pie"
           }
          ],
          "scatter": [
           {
            "marker": {
             "colorbar": {
              "outlinewidth": 0,
              "ticks": ""
             }
            },
            "type": "scatter"
           }
          ],
          "scatter3d": [
           {
            "line": {
             "colorbar": {
              "outlinewidth": 0,
              "ticks": ""
             }
            },
            "marker": {
             "colorbar": {
              "outlinewidth": 0,
              "ticks": ""
             }
            },
            "type": "scatter3d"
           }
          ],
          "scattercarpet": [
           {
            "marker": {
             "colorbar": {
              "outlinewidth": 0,
              "ticks": ""
             }
            },
            "type": "scattercarpet"
           }
          ],
          "scattergeo": [
           {
            "marker": {
             "colorbar": {
              "outlinewidth": 0,
              "ticks": ""
             }
            },
            "type": "scattergeo"
           }
          ],
          "scattergl": [
           {
            "marker": {
             "colorbar": {
              "outlinewidth": 0,
              "ticks": ""
             }
            },
            "type": "scattergl"
           }
          ],
          "scattermapbox": [
           {
            "marker": {
             "colorbar": {
              "outlinewidth": 0,
              "ticks": ""
             }
            },
            "type": "scattermapbox"
           }
          ],
          "scatterpolar": [
           {
            "marker": {
             "colorbar": {
              "outlinewidth": 0,
              "ticks": ""
             }
            },
            "type": "scatterpolar"
           }
          ],
          "scatterpolargl": [
           {
            "marker": {
             "colorbar": {
              "outlinewidth": 0,
              "ticks": ""
             }
            },
            "type": "scatterpolargl"
           }
          ],
          "scatterternary": [
           {
            "marker": {
             "colorbar": {
              "outlinewidth": 0,
              "ticks": ""
             }
            },
            "type": "scatterternary"
           }
          ],
          "surface": [
           {
            "colorbar": {
             "outlinewidth": 0,
             "ticks": ""
            },
            "colorscale": [
             [
              0,
              "#0d0887"
             ],
             [
              0.1111111111111111,
              "#46039f"
             ],
             [
              0.2222222222222222,
              "#7201a8"
             ],
             [
              0.3333333333333333,
              "#9c179e"
             ],
             [
              0.4444444444444444,
              "#bd3786"
             ],
             [
              0.5555555555555556,
              "#d8576b"
             ],
             [
              0.6666666666666666,
              "#ed7953"
             ],
             [
              0.7777777777777778,
              "#fb9f3a"
             ],
             [
              0.8888888888888888,
              "#fdca26"
             ],
             [
              1,
              "#f0f921"
             ]
            ],
            "type": "surface"
           }
          ],
          "table": [
           {
            "cells": {
             "fill": {
              "color": "#EBF0F8"
             },
             "line": {
              "color": "white"
             }
            },
            "header": {
             "fill": {
              "color": "#C8D4E3"
             },
             "line": {
              "color": "white"
             }
            },
            "type": "table"
           }
          ]
         },
         "layout": {
          "annotationdefaults": {
           "arrowcolor": "#2a3f5f",
           "arrowhead": 0,
           "arrowwidth": 1
          },
          "coloraxis": {
           "colorbar": {
            "outlinewidth": 0,
            "ticks": ""
           }
          },
          "colorscale": {
           "diverging": [
            [
             0,
             "#8e0152"
            ],
            [
             0.1,
             "#c51b7d"
            ],
            [
             0.2,
             "#de77ae"
            ],
            [
             0.3,
             "#f1b6da"
            ],
            [
             0.4,
             "#fde0ef"
            ],
            [
             0.5,
             "#f7f7f7"
            ],
            [
             0.6,
             "#e6f5d0"
            ],
            [
             0.7,
             "#b8e186"
            ],
            [
             0.8,
             "#7fbc41"
            ],
            [
             0.9,
             "#4d9221"
            ],
            [
             1,
             "#276419"
            ]
           ],
           "sequential": [
            [
             0,
             "#0d0887"
            ],
            [
             0.1111111111111111,
             "#46039f"
            ],
            [
             0.2222222222222222,
             "#7201a8"
            ],
            [
             0.3333333333333333,
             "#9c179e"
            ],
            [
             0.4444444444444444,
             "#bd3786"
            ],
            [
             0.5555555555555556,
             "#d8576b"
            ],
            [
             0.6666666666666666,
             "#ed7953"
            ],
            [
             0.7777777777777778,
             "#fb9f3a"
            ],
            [
             0.8888888888888888,
             "#fdca26"
            ],
            [
             1,
             "#f0f921"
            ]
           ],
           "sequentialminus": [
            [
             0,
             "#0d0887"
            ],
            [
             0.1111111111111111,
             "#46039f"
            ],
            [
             0.2222222222222222,
             "#7201a8"
            ],
            [
             0.3333333333333333,
             "#9c179e"
            ],
            [
             0.4444444444444444,
             "#bd3786"
            ],
            [
             0.5555555555555556,
             "#d8576b"
            ],
            [
             0.6666666666666666,
             "#ed7953"
            ],
            [
             0.7777777777777778,
             "#fb9f3a"
            ],
            [
             0.8888888888888888,
             "#fdca26"
            ],
            [
             1,
             "#f0f921"
            ]
           ]
          },
          "colorway": [
           "#636efa",
           "#EF553B",
           "#00cc96",
           "#ab63fa",
           "#FFA15A",
           "#19d3f3",
           "#FF6692",
           "#B6E880",
           "#FF97FF",
           "#FECB52"
          ],
          "font": {
           "color": "#2a3f5f"
          },
          "geo": {
           "bgcolor": "white",
           "lakecolor": "white",
           "landcolor": "#E5ECF6",
           "showlakes": true,
           "showland": true,
           "subunitcolor": "white"
          },
          "hoverlabel": {
           "align": "left"
          },
          "hovermode": "closest",
          "mapbox": {
           "style": "light"
          },
          "paper_bgcolor": "white",
          "plot_bgcolor": "#E5ECF6",
          "polar": {
           "angularaxis": {
            "gridcolor": "white",
            "linecolor": "white",
            "ticks": ""
           },
           "bgcolor": "#E5ECF6",
           "radialaxis": {
            "gridcolor": "white",
            "linecolor": "white",
            "ticks": ""
           }
          },
          "scene": {
           "xaxis": {
            "backgroundcolor": "#E5ECF6",
            "gridcolor": "white",
            "gridwidth": 2,
            "linecolor": "white",
            "showbackground": true,
            "ticks": "",
            "zerolinecolor": "white"
           },
           "yaxis": {
            "backgroundcolor": "#E5ECF6",
            "gridcolor": "white",
            "gridwidth": 2,
            "linecolor": "white",
            "showbackground": true,
            "ticks": "",
            "zerolinecolor": "white"
           },
           "zaxis": {
            "backgroundcolor": "#E5ECF6",
            "gridcolor": "white",
            "gridwidth": 2,
            "linecolor": "white",
            "showbackground": true,
            "ticks": "",
            "zerolinecolor": "white"
           }
          },
          "shapedefaults": {
           "line": {
            "color": "#2a3f5f"
           }
          },
          "ternary": {
           "aaxis": {
            "gridcolor": "white",
            "linecolor": "white",
            "ticks": ""
           },
           "baxis": {
            "gridcolor": "white",
            "linecolor": "white",
            "ticks": ""
           },
           "bgcolor": "#E5ECF6",
           "caxis": {
            "gridcolor": "white",
            "linecolor": "white",
            "ticks": ""
           }
          },
          "title": {
           "x": 0.05
          },
          "xaxis": {
           "automargin": true,
           "gridcolor": "white",
           "linecolor": "white",
           "ticks": "",
           "title": {
            "standoff": 15
           },
           "zerolinecolor": "white",
           "zerolinewidth": 2
          },
          "yaxis": {
           "automargin": true,
           "gridcolor": "white",
           "linecolor": "white",
           "ticks": "",
           "title": {
            "standoff": 15
           },
           "zerolinecolor": "white",
           "zerolinewidth": 2
          }
         }
        },
        "width": 600,
        "xaxis": {
         "anchor": "x",
         "domain": [
          0,
          0.2
         ],
         "range": [
          0,
          500
         ],
         "visible": false
        },
        "xaxis2": {
         "anchor": "x2",
         "domain": [
          0.25,
          0.45
         ],
         "range": [
          0,
          500
         ],
         "visible": false
        },
        "xaxis3": {
         "anchor": "x3",
         "domain": [
          0.5,
          0.7
         ],
         "range": [
          0,
          500
         ],
         "visible": false
        },
        "xaxis4": {
         "anchor": "x4",
         "domain": [
          0.75,
          0.95
         ],
         "range": [
          0,
          500
         ],
         "visible": false
        },
        "xaxis5": {
         "anchor": "x5",
         "domain": [
          0,
          0.75
         ],
         "range": [
          0,
          500
         ],
         "visible": false
        },
        "yaxis": {
         "visible": false
        }
       }
      },
      "text/html": [
       "<div>                            <div id=\"22b2a9ef-82a2-4e6d-9d02-071e5ac09250\" class=\"plotly-graph-div\" style=\"height:400px; width:600px;\"></div>            <script type=\"text/javascript\">                require([\"plotly\"], function(Plotly) {                    window.PLOTLYENV=window.PLOTLYENV || {};                                    if (document.getElementById(\"22b2a9ef-82a2-4e6d-9d02-071e5ac09250\")) {                    Plotly.newPlot(                        \"22b2a9ef-82a2-4e6d-9d02-071e5ac09250\",                        [{\"marker\": {\"color\": \"#a65628\"}, \"name\": \"Minimax\", \"type\": \"histogram\", \"xaxis\": \"x\", \"y\": [0.7563186813186811, 0.7906593406593406, 0.7563186813186811, 0.6876373626373626, 0.7563186813186811, 0.8936813186813187, 0.8936813186813187, 0.7219780219780219], \"ybins\": {\"end\": 1, \"size\": 0.1, \"start\": 0}}, {\"marker\": {\"color\": \"#f781bf\"}, \"name\": \"LogReg\", \"type\": \"histogram\", \"xaxis\": \"x\", \"y\": [0.7219780219780219, 0.7563186813186811, 0.7906593406593406, 0.8249999999999998, 0.8593406593406591, 0.8936813186813187, 0.8936813186813187, 0.8936813186813187, 0.928021978021978, 0.928021978021978, 0.928021978021978, 0.9623626373626372, 0.928021978021978, 0.928021978021978, 0.8936813186813187, 0.8936813186813187, 0.8936813186813187, 0.8593406593406591, 0.8593406593406591, 0.928021978021978, 0.9623626373626372, 0.9623626373626372, 0.928021978021978, 0.8936813186813187, 0.8936813186813187, 0.8936813186813187, 0.928021978021978, 0.928021978021978, 0.7219780219780219, 0.928021978021978, 0.7219780219780219, 0.928021978021978, 0.9623626373626372, 0.928021978021978, 0.9623626373626372], \"ybins\": {\"end\": 1, \"size\": 0.1, \"start\": 0}}, {\"marker\": {\"color\": \"#4daf4a\"}, \"name\": \"Reweight\", \"type\": \"histogram\", \"xaxis\": \"x\", \"y\": [0.7563186813186811, 0.7563186813186811, 0.7906593406593406, 0.8593406593406591, 0.8593406593406591, 0.8936813186813187, 0.8936813186813187, 0.928021978021978, 0.928021978021978, 0.928021978021978, 0.9623626373626372, 0.9623626373626372, 0.928021978021978, 0.928021978021978, 0.928021978021978, 0.8936813186813187, 0.8593406593406591, 0.8593406593406591, 0.8936813186813187, 0.928021978021978, 0.928021978021978, 0.928021978021978, 0.8936813186813187, 0.928021978021978, 0.928021978021978, 0.928021978021978, 0.928021978021978, 0.8936813186813187, 0.8936813186813187, 0.8936813186813187, 0.928021978021978, 0.9623626373626372, 0.928021978021978, 0.9623626373626372, 0.9623626373626372, 0.928021978021978], \"ybins\": {\"end\": 1, \"size\": 0.1, \"start\": 0}}, {\"marker\": {\"color\": \"#984ea3\"}, \"name\": \"ParDem\", \"type\": \"histogram\", \"xaxis\": \"x\", \"y\": [0.6876373626373626, 0.8249999999999998, 0.8936813186813187, 0.928021978021978, 0.8936813186813187, 0.928021978021978, 0.8936813186813187, 0.928021978021978, 0.8249999999999998, 0.928021978021978, 0.8249999999999998, 0.8249999999999998, 0.8593406593406591, 0.8593406593406591, 0.928021978021978, 0.928021978021978, 0.928021978021978, 0.928021978021978, 0.928021978021978, 0.8936813186813187, 0.8936813186813187, 0.8936813186813187, 0.8936813186813187, 0.8936813186813187, 0.9623626373626372, 0.8936813186813187, 0.8593406593406591, 0.8593406593406591, 0.8593406593406591, 0.8593406593406591, 0.8593406593406591, 0.8593406593406591, 0.8593406593406591, 0.8593406593406591, 0.928021978021978, 0.928021978021978, 0.928021978021978, 0.928021978021978, 0.928021978021978, 0.928021978021978, 0.928021978021978, 0.928021978021978, 0.928021978021978], \"ybins\": {\"end\": 1, \"size\": 0.1, \"start\": 0}}, {\"marker\": {\"color\": \"#ff7f00\"}, \"name\": \"EqOp\", \"type\": \"histogram\", \"xaxis\": \"x\", \"y\": [0.8936813186813187, 0.8936813186813187, 0.8936813186813187, 0.8936813186813187, 0.928021978021978, 0.8593406593406591, 0.928021978021978, 0.928021978021978, 0.8936813186813187, 0.8593406593406591, 0.8936813186813187, 0.928021978021978, 0.928021978021978, 0.928021978021978, 0.8936813186813187, 0.8936813186813187, 0.8936813186813187, 0.928021978021978, 0.8936813186813187, 0.8936813186813187, 0.928021978021978, 0.928021978021978, 0.8936813186813187, 0.8593406593406591, 0.8593406593406591, 0.8593406593406591, 0.8593406593406591, 0.8593406593406591, 0.8593406593406591, 0.8593406593406591, 0.8593406593406591, 0.8593406593406591, 0.8593406593406591, 0.8593406593406591, 0.8593406593406591, 0.928021978021978, 0.928021978021978, 0.928021978021978, 0.928021978021978, 0.928021978021978, 0.928021978021978, 0.928021978021978, 0.928021978021978, 0.928021978021978], \"ybins\": {\"end\": 1, \"size\": 0.1, \"start\": 0}}, {\"marker\": {\"color\": \"#377eb8\"}, \"name\": \"MOOErro\", \"type\": \"histogram\", \"xaxis\": \"x\", \"y\": [0.8593406593406591, 0.8593406593406591, 0.8593406593406591, 0.928021978021978, 0.928021978021978, 0.9967032967032967], \"ybins\": {\"end\": 1, \"size\": 0.1, \"start\": 0}}, {\"marker\": {\"color\": \"#e41a1c\"}, \"name\": \"MOOAcep\", \"type\": \"histogram\", \"xaxis\": \"x\", \"y\": [0.7219780219780219, 0.7563186813186811, 0.8593406593406591, 0.7219780219780219, 0.7563186813186811, 0.6876373626373626, 0.8593406593406591, 0.7906593406593406, 0.8936813186813187, 0.6876373626373626, 0.6876373626373626, 0.8936813186813187, 0.7906593406593406, 0.8249999999999998, 0.7906593406593406, 0.8249999999999998, 0.7906593406593406, 0.7563186813186811, 0.6876373626373626, 0.7219780219780219, 0.7219780219780219, 0.9623626373626372, 0.7906593406593406, 0.8593406593406591, 0.8249999999999998, 0.7906593406593406, 0.7563186813186811, 0.7219780219780219, 0.8936813186813187, 0.6876373626373626, 0.8249999999999998, 0.7906593406593406, 0.7563186813186811, 0.7219780219780219, 0.7563186813186811, 0.7906593406593406, 0.7563186813186811, 0.7219780219780219, 0.7906593406593406, 0.7219780219780219, 0.6876373626373626, 0.7219780219780219, 0.8249999999999998, 0.7563186813186811, 0.8249999999999998, 0.7906593406593406, 0.8249999999999998, 0.7906593406593406, 0.7219780219780219, 0.7563186813186811, 0.7563186813186811, 0.6876373626373626, 0.8249999999999998, 0.928021978021978, 0.8936813186813187, 0.7906593406593406, 0.7219780219780219, 0.8249999999999998, 0.7906593406593406, 0.7906593406593406, 0.6876373626373626], \"ybins\": {\"end\": 1, \"size\": 0.1, \"start\": 0}}, {\"marker\": {\"color\": \"#a65628\"}, \"name\": \"Minimax\", \"type\": \"histogram\", \"xaxis\": \"x2\", \"y\": [0.9647058823529412, 0.9894419306184012, 0.9647058823529412, 0.9411764705882353, 0.9647058823529412, 0.9847560975609757, 0.9847560975609757, 0.9411764705882353], \"ybins\": {\"end\": 1, \"size\": 0.1, \"start\": 0}}, {\"marker\": {\"color\": \"#f781bf\"}, \"name\": \"LogReg\", \"type\": \"histogram\", \"xaxis\": \"x2\", \"y\": [0.9411764705882353, 0.9647058823529412, 0.9647058823529412, 0.9894419306184012, 0.9847560975609757, 0.9847560975609757, 0.9847560975609757, 0.9847560975609757, 0.9847560975609757, 0.9847560975609757, 0.9847560975609757, 0.9847560975609757, 0.9588414634146342, 0.9588414634146342, 0.9588414634146342, 0.9588414634146342, 0.9588414634146342, 0.9329268292682927, 0.9329268292682927, 0.9329268292682927, 0.9588414634146342, 0.9588414634146342, 0.9777424483306836, 0.9777424483306836, 0.9777424483306836, 0.9777424483306836, 0.9777424483306836, 0.9777424483306836, 0.9121951219512195, 0.9951219512195122, 0.895798319327731, 0.967479674796748, 0.967479674796748, 0.9647058823529412, 0.9477351916376308], \"ybins\": {\"end\": 1, \"size\": 0.1, \"start\": 0}}, {\"marker\": {\"color\": \"#4daf4a\"}, \"name\": \"Reweight\", \"type\": \"histogram\", \"xaxis\": \"x2\", \"y\": [0.9411764705882353, 0.9647058823529412, 0.9894419306184012, 0.9894419306184012, 0.9847560975609757, 0.9847560975609757, 0.9847560975609757, 0.9847560975609757, 0.9847560975609757, 0.9847560975609757, 0.9847560975609757, 0.9847560975609757, 0.9588414634146342, 0.9588414634146342, 0.9588414634146342, 0.9588414634146342, 0.9329268292682927, 0.9329268292682927, 0.9329268292682927, 0.9329268292682927, 0.9329268292682927, 0.9329268292682927, 0.9951219512195122, 0.9777424483306836, 0.9777424483306836, 0.9777424483306836, 0.9777424483306836, 0.9951219512195122, 0.9951219512195122, 0.9951219512195122, 0.9951219512195122, 0.9951219512195122, 0.967479674796748, 0.9930795847750865, 0.9773519163763067, 0.9181184668989547], \"ybins\": {\"end\": 1, \"size\": 0.1, \"start\": 0}}, {\"marker\": {\"color\": \"#984ea3\"}, \"name\": \"ParDem\", \"type\": \"histogram\", \"xaxis\": \"x2\", \"y\": [1.0, 0.9894419306184012, 0.9588414634146342, 0.9847560975609757, 0.9847560975609757, 0.9847560975609757, 0.9588414634146342, 0.9847560975609757, 0.9894419306184012, 0.9588414634146342, 0.9847560975609757, 0.9847560975609757, 0.9847560975609757, 0.9847560975609757, 0.9588414634146342, 0.9588414634146342, 0.9588414634146342, 0.9588414634146342, 0.9588414634146342, 0.9588414634146342, 0.9588414634146342, 0.9588414634146342, 0.8709150326797385, 0.8709150326797385, 0.9125596184419713, 0.9588414634146342, 0.9329268292682927, 0.9329268292682927, 0.9329268292682927, 0.9329268292682927, 0.9329268292682927, 0.9329268292682927, 0.9329268292682927, 0.9329268292682927, 0.9181184668989547, 0.9181184668989547, 0.9181184668989547, 0.9181184668989547, 0.9181184668989547, 0.9181184668989547, 0.9181184668989547, 0.9181184668989547, 0.9181184668989547], \"ybins\": {\"end\": 1, \"size\": 0.1, \"start\": 0}}, {\"marker\": {\"color\": \"#ff7f00\"}, \"name\": \"EqOp\", \"type\": \"histogram\", \"xaxis\": \"x2\", \"y\": [0.9588414634146342, 0.9588414634146342, 0.9588414634146342, 0.9847560975609757, 0.9847560975609757, 0.9847560975609757, 0.9894419306184012, 0.9847560975609757, 0.9847560975609757, 0.9847560975609757, 0.9329268292682927, 0.9847560975609757, 0.9847560975609757, 0.9847560975609757, 0.9588414634146342, 0.9588414634146342, 0.9588414634146342, 0.9588414634146342, 0.9588414634146342, 0.9329268292682927, 0.9847560975609757, 0.9588414634146342, 0.9588414634146342, 0.9329268292682927, 0.9329268292682927, 0.9329268292682927, 0.9329268292682927, 0.9329268292682927, 0.9329268292682927, 0.9329268292682927, 0.9329268292682927, 0.9329268292682927, 0.9329268292682927, 0.9329268292682927, 0.9329268292682927, 0.9181184668989547, 0.9181184668989547, 0.9181184668989547, 0.9181184668989547, 0.9181184668989547, 0.9181184668989547, 0.9181184668989547, 0.9181184668989547, 0.9181184668989547], \"ybins\": {\"end\": 1, \"size\": 0.1, \"start\": 0}}, {\"marker\": {\"color\": \"#377eb8\"}, \"name\": \"MOOErro\", \"type\": \"histogram\", \"xaxis\": \"x2\", \"y\": [0.5630952380952382, 0.8527131782945736, 0.6615384615384615, 0.8812729498164016, 0.9043927648578811, 0.8268733850129198], \"ybins\": {\"end\": 1, \"size\": 0.1, \"start\": 0}}, {\"marker\": {\"color\": \"#e41a1c\"}, \"name\": \"MOOAcep\", \"type\": \"histogram\", \"xaxis\": \"x2\", \"y\": [0.7804878048780488, 0.975609756097561, 0.8292682926829269, 1.0, 0.6470588235294118, 0.5294117647058824, 0.8780487804878049, 0.7804878048780488, 0.9588414634146342, 0.47058823529411764, 1.0, 0.9773519163763067, 1.0, 0.7804878048780488, 0.4823529411764706, 0.8048780487804879, 0.9276018099547512, 0.975609756097561, 0.9512195121951219, 0.8780487804878049, 0.9024390243902439, 0.9181184668989547, 0.7804878048780488, 0.9951219512195122, 0.8536585365853658, 0.5294117647058824, 0.9044117647058824, 0.8823529411764706, 0.9329268292682927, 0.9512195121951219, 0.8536585365853658, 0.9588414634146342, 0.975609756097561, 0.6632352941176471, 1.0, 0.9773519163763067, 0.975609756097561, 1.0, 0.7804878048780488, 0.9024390243902439, 0.6518282988871225, 1.0, 0.8780487804878049, 0.9024390243902439, 0.8048780487804879, 1.0, 0.8048780487804879, 0.9647058823529412, 0.9024390243902439, 0.926829268292683, 0.8048780487804879, 0.975609756097561, 0.9398373983739837, 0.803921568627451, 0.9477351916376308, 0.47058823529411764, 1.0, 0.8536585365853658, 0.8536585365853658, 0.8823529411764706, 0.47058823529411764], \"ybins\": {\"end\": 1, \"size\": 0.1, \"start\": 0}}, {\"marker\": {\"color\": \"#a65628\"}, \"name\": \"Minimax\", \"type\": \"histogram\", \"xaxis\": \"x3\", \"y\": [0.993006993006993, 0.9605633802816901, 0.993006993006993, 0.9354413702239789, 0.993006993006993, 0.9793762575452716, 0.9793762575452716, 0.9491978609625669], \"ybins\": {\"end\": 1, \"size\": 0.1, \"start\": 0}}, {\"marker\": {\"color\": \"#f781bf\"}, \"name\": \"LogReg\", \"type\": \"histogram\", \"xaxis\": \"x3\", \"y\": [0.9491978609625669, 0.993006993006993, 0.9915492957746479, 0.9936862554638173, 0.9959758551307847, 0.9793762575452716, 0.9793762575452716, 0.9793762575452716, 0.9845916795069338, 0.9845916795069338, 0.9845916795069338, 0.9481253210066769, 0.9644723092998955, 0.9644723092998955, 0.9984350547730829, 0.9984350547730829, 0.9984350547730829, 0.9812206572769953, 0.9812206572769953, 0.998917748917749, 0.9813928761297182, 0.9813928761297182, 0.9436469962785752, 0.9813928761297182, 0.9813928761297182, 0.9813928761297182, 0.9436469962785752, 0.9436469962785752, 0.9653304442036836, 0.977961432506887, 0.9220779220779222, 0.9853521126760564, 0.9667605633802817, 0.9481690140845072, 0.9295774647887324], \"ybins\": {\"end\": 1, \"size\": 0.1, \"start\": 0}}, {\"marker\": {\"color\": \"#4daf4a\"}, \"name\": \"Reweight\", \"type\": \"histogram\", \"xaxis\": \"x3\", \"y\": [0.9633649932157395, 0.993006993006993, 0.9605633802816901, 0.9716520039100686, 0.9959758551307847, 0.9793762575452716, 0.9793762575452716, 0.9845916795069338, 0.9845916795069338, 0.9845916795069338, 0.9481253210066769, 0.9481253210066769, 0.9644723092998955, 0.9644723092998955, 0.9644723092998955, 0.9984350547730829, 0.9812206572769953, 0.9812206572769953, 0.9813928761297182, 0.998917748917749, 0.998917748917749, 0.998917748917749, 0.9604978354978355, 0.9436469962785752, 0.9436469962785752, 0.9436469962785752, 0.9436469962785752, 0.9604978354978355, 0.9604978354978355, 0.9604978354978355, 0.977961432506887, 0.9960718294051627, 0.9295774647887325, 0.9489436619718309, 0.9102112676056338, 0.9093692590324556], \"ybins\": {\"end\": 1, \"size\": 0.1, \"start\": 0}}, {\"marker\": {\"color\": \"#984ea3\"}, \"name\": \"ParDem\", \"type\": \"histogram\", \"xaxis\": \"x3\", \"y\": [0.9577464788732394, 0.9936862554638173, 0.9984350547730829, 0.9845916795069338, 0.9793762575452716, 0.9845916795069338, 0.9984350547730829, 0.9845916795069338, 0.9450704225352112, 0.9644723092998955, 0.9616318601262749, 0.9616318601262749, 0.9456046624575036, 0.9456046624575036, 0.9644723092998955, 0.9644723092998955, 0.9644723092998955, 0.9644723092998955, 0.9644723092998955, 0.9984350547730829, 0.9984350547730829, 0.9984350547730829, 0.9742710120068611, 0.9742710120068611, 0.9960718294051627, 0.9461770623742455, 0.9812206572769953, 0.9812206572769953, 0.9812206572769953, 0.9812206572769953, 0.9812206572769953, 0.9812206572769953, 0.9812206572769953, 0.9812206572769953, 0.9093692590324556, 0.9093692590324556, 0.9093692590324556, 0.9093692590324556, 0.9093692590324556, 0.9093692590324556, 0.9093692590324556, 0.9093692590324556, 0.9093692590324556], \"ybins\": {\"end\": 1, \"size\": 0.1, \"start\": 0}}, {\"marker\": {\"color\": \"#ff7f00\"}, \"name\": \"EqOp\", \"type\": \"histogram\", \"xaxis\": \"x3\", \"y\": [0.9984350547730829, 0.9984350547730829, 0.9984350547730829, 0.9793762575452716, 0.9845916795069338, 0.9456046624575036, 0.9959758551307847, 0.9627766599597586, 0.9793762575452716, 0.9456046624575036, 0.9813928761297182, 0.9845916795069338, 0.9845916795069338, 0.9845916795069338, 0.9984350547730829, 0.9984350547730829, 0.9984350547730829, 0.9644723092998955, 0.9984350547730829, 0.9813928761297182, 0.9845916795069338, 0.9644723092998955, 0.9984350547730829, 0.9812206572769953, 0.9812206572769953, 0.9812206572769953, 0.9812206572769953, 0.9812206572769953, 0.9812206572769953, 0.9812206572769953, 0.9812206572769953, 0.9812206572769953, 0.9812206572769953, 0.9812206572769953, 0.9812206572769953, 0.9093692590324556, 0.9093692590324556, 0.9093692590324556, 0.9093692590324556, 0.9093692590324556, 0.9093692590324556, 0.9093692590324556, 0.9093692590324556, 0.9093692590324556], \"ybins\": {\"end\": 1, \"size\": 0.1, \"start\": 0}}, {\"marker\": {\"color\": \"#377eb8\"}, \"name\": \"MOOErro\", \"type\": \"histogram\", \"xaxis\": \"x3\", \"y\": [0.376890756302521, 0.8395802098950524, 0.4769585253456221, 0.8961352657004831, 0.8745627186406796, 0.8266237251744497], \"ybins\": {\"end\": 1, \"size\": 0.1, \"start\": 0}}, {\"marker\": {\"color\": \"#e41a1c\"}, \"name\": \"MOOAcep\", \"type\": \"histogram\", \"xaxis\": \"x3\", \"y\": [0.6901408450704225, 0.9441021126760563, 0.7532782904322487, 0.9436619718309859, 0.6422433288104931, 0.42424242424242425, 0.7464788732394366, 0.6619718309859155, 0.8975230694511899, 0.36363636363636365, 0.9577464788732394, 0.9896969696969699, 0.9954771596562643, 0.6826584507042254, 0.4303030303030303, 0.676056338028169, 0.922077922077922, 0.9014084507042254, 0.9014084507042254, 0.8424295774647887, 0.8309859154929577, 0.9507042253521127, 0.6619718309859155, 0.8963782696177062, 0.7323943661971831, 0.48168249660786977, 0.8801652892561984, 0.841897233201581, 0.8654686741136474, 0.9014084507042254, 0.7323943661971831, 0.9456046624575036, 0.9441021126760563, 0.6519742883379247, 0.9295774647887324, 0.8938244853737811, 0.9014084507042254, 0.9436619718309859, 0.6619718309859155, 0.8309859154929577, 0.6813131313131314, 0.9436619718309859, 0.7605633802816901, 0.8169014084507042, 0.676056338028169, 0.9586267605633803, 0.676056338028169, 0.9599067599067599, 0.8309859154929577, 0.8450704225352113, 0.704225352112676, 0.9295774647887324, 0.8465794768611671, 0.8524871355060034, 0.9699938763012859, 0.41745816372682043, 0.9436619718309859, 0.7323943661971831, 0.7464788732394366, 0.8670284938941656, 0.36363636363636365], \"ybins\": {\"end\": 1, \"size\": 0.1, \"start\": 0}}, {\"marker\": {\"color\": \"#a65628\"}, \"name\": \"Minimax\", \"type\": \"histogram\", \"xaxis\": \"x4\", \"y\": [0.9583955484061177, 0.9410060989550295, 0.9583955484061177, 0.9776674248915195, 0.9583955484061177, 0.924098072607977, 0.924098072607977, 0.9765332294812747], \"ybins\": {\"end\": 1, \"size\": 0.1, \"start\": 0}}, {\"marker\": {\"color\": \"#f781bf\"}, \"name\": \"LogReg\", \"type\": \"histogram\", \"xaxis\": \"x4\", \"y\": [0.9765332294812747, 0.9583955484061177, 0.9576555579332618, 0.9405284564058227, 0.9241273474030474, 0.924098072607977, 0.924098072607977, 0.924098072607977, 0.9242498501486194, 0.9242498501486194, 0.9242498501486194, 0.9245912012382693, 0.9087148660774101, 0.9087148660774101, 0.9084385528153937, 0.9084385528153937, 0.9084385528153937, 0.8928461236338465, 0.8928461236338465, 0.8934640073401077, 0.9091862719911267, 0.9091862719911267, 0.8934640073401077, 0.8930591430920325, 0.8930591430920325, 0.8930591430920325, 0.8934640073401077, 0.8934640073401077, 0.8321501926761926, 0.8784740183545603, 0.8321501926761926, 0.8637256529895826, 0.8646195095799752, 0.8492031573279811, 0.8084479984920153], \"ybins\": {\"end\": 1, \"size\": 0.1, \"start\": 0}}, {\"marker\": {\"color\": \"#4daf4a\"}, \"name\": \"Reweight\", \"type\": \"histogram\", \"xaxis\": \"x4\", \"y\": [0.9755393839110919, 0.9583955484061177, 0.9410060989550295, 0.9402129458129916, 0.9241273474030474, 0.924098072607977, 0.924098072607977, 0.9242498501486194, 0.9242498501486194, 0.9242498501486194, 0.9245912012382693, 0.9245912012382693, 0.9087148660774101, 0.9087148660774101, 0.9087148660774101, 0.9084385528153937, 0.8928461236338465, 0.8928461236338465, 0.8930591430920325, 0.8934640073401077, 0.8934640073401077, 0.8934640073401077, 0.8779356758454105, 0.8934640073401077, 0.8934640073401077, 0.8934640073401077, 0.8934640073401077, 0.8779356758454105, 0.8779356758454105, 0.8779356758454105, 0.8784740183545603, 0.8792207290196643, 0.8637256529895826, 0.8361059927334384, 0.8221733878717499, 0.7931602208792193], \"ybins\": {\"end\": 1, \"size\": 0.1, \"start\": 0}}, {\"marker\": {\"color\": \"#984ea3\"}, \"name\": \"ParDem\", \"type\": \"histogram\", \"xaxis\": \"x4\", \"y\": [0.9954741749459246, 0.9405284564058227, 0.9084385528153937, 0.9242498501486194, 0.924098072607977, 0.9242498501486194, 0.9084385528153937, 0.9242498501486194, 0.9405284564058228, 0.9087148660774101, 0.9243297391402429, 0.9243297391402429, 0.9241273474030474, 0.9241273474030473, 0.9087148660774101, 0.9087148660774101, 0.9087148660774101, 0.9087148660774101, 0.9087148660774101, 0.9084385528153937, 0.9084385528153937, 0.9084385528153937, 0.848379387678349, 0.848379387678349, 0.8792207290196644, 0.9084385528153937, 0.8928461236338465, 0.8928461236338465, 0.8928461236338465, 0.8928461236338465, 0.8928461236338465, 0.8928461236338465, 0.8928461236338465, 0.8928461236338465, 0.7931602208792193, 0.7931602208792193, 0.7931602208792193, 0.7931602208792193, 0.7931602208792193, 0.7931602208792193, 0.7931602208792193, 0.7931602208792193, 0.7931602208792193], \"ybins\": {\"end\": 1, \"size\": 0.1, \"start\": 0}}, {\"marker\": {\"color\": \"#ff7f00\"}, \"name\": \"EqOp\", \"type\": \"histogram\", \"xaxis\": \"x4\", \"y\": [0.9084385528153937, 0.9084385528153937, 0.9084385528153937, 0.924098072607977, 0.9242498501486194, 0.9241273474030473, 0.9400969139477826, 0.9242498501486194, 0.924098072607977, 0.9241273474030473, 0.8930591430920325, 0.9242498501486194, 0.9242498501486194, 0.9242498501486194, 0.9084385528153937, 0.9084385528153937, 0.9084385528153937, 0.9087148660774101, 0.9084385528153937, 0.8930591430920325, 0.9242498501486194, 0.9087148660774101, 0.9084385528153937, 0.8928461236338465, 0.8928461236338465, 0.8928461236338465, 0.8928461236338465, 0.8928461236338465, 0.8928461236338465, 0.8928461236338465, 0.8928461236338465, 0.8928461236338465, 0.8928461236338465, 0.8928461236338465, 0.8928461236338465, 0.7931602208792193, 0.7931602208792193, 0.7931602208792193, 0.7931602208792193, 0.7931602208792193, 0.7931602208792193, 0.7931602208792193, 0.7931602208792193, 0.7931602208792193], \"ybins\": {\"end\": 1, \"size\": 0.1, \"start\": 0}}, {\"marker\": {\"color\": \"#377eb8\"}, \"name\": \"MOOErro\", \"type\": \"histogram\", \"xaxis\": \"x4\", \"y\": [0.8331609698123777, 0.804495401828369, 0.8044954018283688, 0.8637256529895826, 0.8348938845451008, 0.7969783214914964], \"ybins\": {\"end\": 1, \"size\": 0.1, \"start\": 0}}, {\"marker\": {\"color\": \"#e41a1c\"}, \"name\": \"MOOAcep\", \"type\": \"histogram\", \"xaxis\": \"x4\", \"y\": [0.847262790223878, 0.9755393839110919, 0.8331609698123777, 0.994230349932055, 0.8932726157172969, 0.862972842164857, 0.9083483414434387, 0.8471476879177634, 0.9084385528153937, 0.8475755217114075, 0.9954741749459246, 0.8196476952191362, 0.9921664067640791, 0.8473618413090614, 0.8322733609705323, 0.8622992664841574, 0.9246978499084436, 0.9755393839110919, 0.9603115974252726, 0.9096893041449183, 0.9259040702397036, 0.7949264534328834, 0.8471476879177634, 0.877595637256077, 0.8928161018242327, 0.8622090260029273, 0.9416393246687593, 0.9592826983369673, 0.8930591430920324, 0.9603115974252726, 0.8928161018242327, 0.908693302796082, 0.9755393839110919, 0.8780404807528396, 0.9931261476276191, 0.8175724243412582, 0.9755393839110919, 0.994230349932055, 0.8471476879177634, 0.9259040702397036, 0.8172891162802086, 0.994230349932055, 0.9084358598434168, 0.925224776174415, 0.8622992664841574, 0.9921664067640791, 0.8622992664841574, 0.9576555579332618, 0.9259040702397036, 0.9416393246687593, 0.8622964897883701, 0.9776674248915195, 0.8473618413090614, 0.8348938845451009, 0.8055654334638792, 0.8471476879177634, 0.994230349932055, 0.8928161018242327, 0.8929608310589242, 0.9576555579332618, 0.8475755217114075], \"ybins\": {\"end\": 1, \"size\": 0.1, \"start\": 0}}],                        {\"barmode\": \"stack\", \"font\": {\"size\": 24}, \"height\": 400, \"paper_bgcolor\": \"rgba(0,0,0,0)\", \"plot_bgcolor\": \"rgba(0,0,0,0)\", \"showlegend\": false, \"template\": {\"data\": {\"bar\": [{\"error_x\": {\"color\": \"#2a3f5f\"}, \"error_y\": {\"color\": \"#2a3f5f\"}, \"marker\": {\"line\": {\"color\": \"#E5ECF6\", \"width\": 0.5}}, \"type\": \"bar\"}], \"barpolar\": [{\"marker\": {\"line\": {\"color\": \"#E5ECF6\", \"width\": 0.5}}, \"type\": \"barpolar\"}], \"carpet\": [{\"aaxis\": {\"endlinecolor\": \"#2a3f5f\", \"gridcolor\": \"white\", \"linecolor\": \"white\", \"minorgridcolor\": \"white\", \"startlinecolor\": \"#2a3f5f\"}, \"baxis\": {\"endlinecolor\": \"#2a3f5f\", \"gridcolor\": \"white\", \"linecolor\": \"white\", \"minorgridcolor\": \"white\", \"startlinecolor\": \"#2a3f5f\"}, \"type\": \"carpet\"}], \"choropleth\": [{\"colorbar\": {\"outlinewidth\": 0, \"ticks\": \"\"}, \"type\": \"choropleth\"}], \"contour\": [{\"colorbar\": {\"outlinewidth\": 0, \"ticks\": \"\"}, \"colorscale\": [[0.0, \"#0d0887\"], [0.1111111111111111, \"#46039f\"], [0.2222222222222222, \"#7201a8\"], [0.3333333333333333, \"#9c179e\"], [0.4444444444444444, \"#bd3786\"], [0.5555555555555556, \"#d8576b\"], [0.6666666666666666, \"#ed7953\"], [0.7777777777777778, \"#fb9f3a\"], [0.8888888888888888, \"#fdca26\"], [1.0, \"#f0f921\"]], \"type\": \"contour\"}], \"contourcarpet\": [{\"colorbar\": {\"outlinewidth\": 0, \"ticks\": \"\"}, \"type\": \"contourcarpet\"}], \"heatmap\": [{\"colorbar\": {\"outlinewidth\": 0, \"ticks\": \"\"}, \"colorscale\": [[0.0, \"#0d0887\"], [0.1111111111111111, \"#46039f\"], [0.2222222222222222, \"#7201a8\"], [0.3333333333333333, \"#9c179e\"], [0.4444444444444444, \"#bd3786\"], [0.5555555555555556, \"#d8576b\"], [0.6666666666666666, \"#ed7953\"], [0.7777777777777778, \"#fb9f3a\"], [0.8888888888888888, \"#fdca26\"], [1.0, \"#f0f921\"]], \"type\": \"heatmap\"}], \"heatmapgl\": [{\"colorbar\": {\"outlinewidth\": 0, \"ticks\": \"\"}, \"colorscale\": [[0.0, \"#0d0887\"], [0.1111111111111111, \"#46039f\"], [0.2222222222222222, \"#7201a8\"], [0.3333333333333333, \"#9c179e\"], [0.4444444444444444, \"#bd3786\"], [0.5555555555555556, \"#d8576b\"], [0.6666666666666666, \"#ed7953\"], [0.7777777777777778, \"#fb9f3a\"], [0.8888888888888888, \"#fdca26\"], [1.0, \"#f0f921\"]], \"type\": \"heatmapgl\"}], \"histogram\": [{\"marker\": {\"colorbar\": {\"outlinewidth\": 0, \"ticks\": \"\"}}, \"type\": \"histogram\"}], \"histogram2d\": [{\"colorbar\": {\"outlinewidth\": 0, \"ticks\": \"\"}, \"colorscale\": [[0.0, \"#0d0887\"], [0.1111111111111111, \"#46039f\"], [0.2222222222222222, \"#7201a8\"], [0.3333333333333333, \"#9c179e\"], [0.4444444444444444, \"#bd3786\"], [0.5555555555555556, \"#d8576b\"], [0.6666666666666666, \"#ed7953\"], [0.7777777777777778, \"#fb9f3a\"], [0.8888888888888888, \"#fdca26\"], [1.0, \"#f0f921\"]], \"type\": \"histogram2d\"}], \"histogram2dcontour\": [{\"colorbar\": {\"outlinewidth\": 0, \"ticks\": \"\"}, \"colorscale\": [[0.0, \"#0d0887\"], [0.1111111111111111, \"#46039f\"], [0.2222222222222222, \"#7201a8\"], [0.3333333333333333, \"#9c179e\"], [0.4444444444444444, \"#bd3786\"], [0.5555555555555556, \"#d8576b\"], [0.6666666666666666, \"#ed7953\"], [0.7777777777777778, \"#fb9f3a\"], [0.8888888888888888, \"#fdca26\"], [1.0, \"#f0f921\"]], \"type\": \"histogram2dcontour\"}], \"mesh3d\": [{\"colorbar\": {\"outlinewidth\": 0, \"ticks\": \"\"}, \"type\": \"mesh3d\"}], \"parcoords\": [{\"line\": {\"colorbar\": {\"outlinewidth\": 0, \"ticks\": \"\"}}, \"type\": \"parcoords\"}], \"pie\": [{\"automargin\": true, \"type\": \"pie\"}], \"scatter\": [{\"marker\": {\"colorbar\": {\"outlinewidth\": 0, \"ticks\": \"\"}}, \"type\": \"scatter\"}], \"scatter3d\": [{\"line\": {\"colorbar\": {\"outlinewidth\": 0, \"ticks\": \"\"}}, \"marker\": {\"colorbar\": {\"outlinewidth\": 0, \"ticks\": \"\"}}, \"type\": \"scatter3d\"}], \"scattercarpet\": [{\"marker\": {\"colorbar\": {\"outlinewidth\": 0, \"ticks\": \"\"}}, \"type\": \"scattercarpet\"}], \"scattergeo\": [{\"marker\": {\"colorbar\": {\"outlinewidth\": 0, \"ticks\": \"\"}}, \"type\": \"scattergeo\"}], \"scattergl\": [{\"marker\": {\"colorbar\": {\"outlinewidth\": 0, \"ticks\": \"\"}}, \"type\": \"scattergl\"}], \"scattermapbox\": [{\"marker\": {\"colorbar\": {\"outlinewidth\": 0, \"ticks\": \"\"}}, \"type\": \"scattermapbox\"}], \"scatterpolar\": [{\"marker\": {\"colorbar\": {\"outlinewidth\": 0, \"ticks\": \"\"}}, \"type\": \"scatterpolar\"}], \"scatterpolargl\": [{\"marker\": {\"colorbar\": {\"outlinewidth\": 0, \"ticks\": \"\"}}, \"type\": \"scatterpolargl\"}], \"scatterternary\": [{\"marker\": {\"colorbar\": {\"outlinewidth\": 0, \"ticks\": \"\"}}, \"type\": \"scatterternary\"}], \"surface\": [{\"colorbar\": {\"outlinewidth\": 0, \"ticks\": \"\"}, \"colorscale\": [[0.0, \"#0d0887\"], [0.1111111111111111, \"#46039f\"], [0.2222222222222222, \"#7201a8\"], [0.3333333333333333, \"#9c179e\"], [0.4444444444444444, \"#bd3786\"], [0.5555555555555556, \"#d8576b\"], [0.6666666666666666, \"#ed7953\"], [0.7777777777777778, \"#fb9f3a\"], [0.8888888888888888, \"#fdca26\"], [1.0, \"#f0f921\"]], \"type\": \"surface\"}], \"table\": [{\"cells\": {\"fill\": {\"color\": \"#EBF0F8\"}, \"line\": {\"color\": \"white\"}}, \"header\": {\"fill\": {\"color\": \"#C8D4E3\"}, \"line\": {\"color\": \"white\"}}, \"type\": \"table\"}]}, \"layout\": {\"annotationdefaults\": {\"arrowcolor\": \"#2a3f5f\", \"arrowhead\": 0, \"arrowwidth\": 1}, \"coloraxis\": {\"colorbar\": {\"outlinewidth\": 0, \"ticks\": \"\"}}, \"colorscale\": {\"diverging\": [[0, \"#8e0152\"], [0.1, \"#c51b7d\"], [0.2, \"#de77ae\"], [0.3, \"#f1b6da\"], [0.4, \"#fde0ef\"], [0.5, \"#f7f7f7\"], [0.6, \"#e6f5d0\"], [0.7, \"#b8e186\"], [0.8, \"#7fbc41\"], [0.9, \"#4d9221\"], [1, \"#276419\"]], \"sequential\": [[0.0, \"#0d0887\"], [0.1111111111111111, \"#46039f\"], [0.2222222222222222, \"#7201a8\"], [0.3333333333333333, \"#9c179e\"], [0.4444444444444444, \"#bd3786\"], [0.5555555555555556, \"#d8576b\"], [0.6666666666666666, \"#ed7953\"], [0.7777777777777778, \"#fb9f3a\"], [0.8888888888888888, \"#fdca26\"], [1.0, \"#f0f921\"]], \"sequentialminus\": [[0.0, \"#0d0887\"], [0.1111111111111111, \"#46039f\"], [0.2222222222222222, \"#7201a8\"], [0.3333333333333333, \"#9c179e\"], [0.4444444444444444, \"#bd3786\"], [0.5555555555555556, \"#d8576b\"], [0.6666666666666666, \"#ed7953\"], [0.7777777777777778, \"#fb9f3a\"], [0.8888888888888888, \"#fdca26\"], [1.0, \"#f0f921\"]]}, \"colorway\": [\"#636efa\", \"#EF553B\", \"#00cc96\", \"#ab63fa\", \"#FFA15A\", \"#19d3f3\", \"#FF6692\", \"#B6E880\", \"#FF97FF\", \"#FECB52\"], \"font\": {\"color\": \"#2a3f5f\"}, \"geo\": {\"bgcolor\": \"white\", \"lakecolor\": \"white\", \"landcolor\": \"#E5ECF6\", \"showlakes\": true, \"showland\": true, \"subunitcolor\": \"white\"}, \"hoverlabel\": {\"align\": \"left\"}, \"hovermode\": \"closest\", \"mapbox\": {\"style\": \"light\"}, \"paper_bgcolor\": \"white\", \"plot_bgcolor\": \"#E5ECF6\", \"polar\": {\"angularaxis\": {\"gridcolor\": \"white\", \"linecolor\": \"white\", \"ticks\": \"\"}, \"bgcolor\": \"#E5ECF6\", \"radialaxis\": {\"gridcolor\": \"white\", \"linecolor\": \"white\", \"ticks\": \"\"}}, \"scene\": {\"xaxis\": {\"backgroundcolor\": \"#E5ECF6\", \"gridcolor\": \"white\", \"gridwidth\": 2, \"linecolor\": \"white\", \"showbackground\": true, \"ticks\": \"\", \"zerolinecolor\": \"white\"}, \"yaxis\": {\"backgroundcolor\": \"#E5ECF6\", \"gridcolor\": \"white\", \"gridwidth\": 2, \"linecolor\": \"white\", \"showbackground\": true, \"ticks\": \"\", \"zerolinecolor\": \"white\"}, \"zaxis\": {\"backgroundcolor\": \"#E5ECF6\", \"gridcolor\": \"white\", \"gridwidth\": 2, \"linecolor\": \"white\", \"showbackground\": true, \"ticks\": \"\", \"zerolinecolor\": \"white\"}}, \"shapedefaults\": {\"line\": {\"color\": \"#2a3f5f\"}}, \"ternary\": {\"aaxis\": {\"gridcolor\": \"white\", \"linecolor\": \"white\", \"ticks\": \"\"}, \"baxis\": {\"gridcolor\": \"white\", \"linecolor\": \"white\", \"ticks\": \"\"}, \"bgcolor\": \"#E5ECF6\", \"caxis\": {\"gridcolor\": \"white\", \"linecolor\": \"white\", \"ticks\": \"\"}}, \"title\": {\"x\": 0.05}, \"xaxis\": {\"automargin\": true, \"gridcolor\": \"white\", \"linecolor\": \"white\", \"ticks\": \"\", \"title\": {\"standoff\": 15}, \"zerolinecolor\": \"white\", \"zerolinewidth\": 2}, \"yaxis\": {\"automargin\": true, \"gridcolor\": \"white\", \"linecolor\": \"white\", \"ticks\": \"\", \"title\": {\"standoff\": 15}, \"zerolinecolor\": \"white\", \"zerolinewidth\": 2}}}, \"width\": 600, \"xaxis\": {\"anchor\": \"x\", \"domain\": [0, 0.2], \"range\": [0, 500], \"visible\": false}, \"xaxis2\": {\"anchor\": \"x2\", \"domain\": [0.25, 0.45], \"range\": [0, 500], \"visible\": false}, \"xaxis3\": {\"anchor\": \"x3\", \"domain\": [0.5, 0.7], \"range\": [0, 500], \"visible\": false}, \"xaxis4\": {\"anchor\": \"x4\", \"domain\": [0.75, 0.95], \"range\": [0, 500], \"visible\": false}, \"xaxis5\": {\"anchor\": \"x5\", \"domain\": [0, 0.75], \"range\": [0, 500], \"visible\": false}, \"yaxis\": {\"visible\": false}},                        {\"responsive\": true}                    ).then(function(){\n",
       "                            \n",
       "var gd = document.getElementById('22b2a9ef-82a2-4e6d-9d02-071e5ac09250');\n",
       "var x = new MutationObserver(function (mutations, observer) {{\n",
       "        var display = window.getComputedStyle(gd).display;\n",
       "        if (!display || display === 'none') {{\n",
       "            console.log([gd, 'removed!']);\n",
       "            Plotly.purge(gd);\n",
       "            observer.disconnect();\n",
       "        }}\n",
       "}});\n",
       "\n",
       "// Listen for the removal of the full notebook cells\n",
       "var notebookContainer = gd.closest('#notebook-container');\n",
       "if (notebookContainer) {{\n",
       "    x.observe(notebookContainer, {childList: true});\n",
       "}}\n",
       "\n",
       "// Listen for the clearing of the current output cell\n",
       "var outputEl = gd.closest('.output');\n",
       "if (outputEl) {{\n",
       "    x.observe(outputEl, {childList: true});\n",
       "}}\n",
       "\n",
       "                        })                };                });            </script>        </div>"
      ]
     },
     "metadata": {},
     "output_type": "display_data"
    }
   ],
   "source": [
    "layout = go.Layout({\"showlegend\": False},\n",
    "    paper_bgcolor='rgba(0,0,0,0)',\n",
    "    plot_bgcolor='rgba(0,0,0,0)',\n",
    "    xaxis = {'visible': False},\n",
    "    yaxis =dict(visible=False),\n",
    "    xaxis1=dict(domain=[0, 1/4-0.05],anchor='x1',visible=False, range=[0,500]),\n",
    "    xaxis2=dict(domain=[1/4, 2/4-0.05],anchor='x2',visible=False, range=[0,500]),\n",
    "    xaxis3=dict(domain=[2/4, 3/4-0.05],anchor='x3',visible=False, range=[0,500]),\n",
    "    xaxis4=dict(domain=[3/4, 1-0.05],anchor='x4',visible=False, range=[0,500]),\n",
    "    xaxis5=dict(domain=[0, 3/4],anchor='x5',visible=False, range=[0,500])\n",
    ")\n",
    "\n",
    "fig = go.Figure(layout = layout)\n",
    "\n",
    "i = 1\n",
    "for metric in ['acc_norm', 'eo_norm', 'P porcento', 'cv_norm']:\n",
    "    for method in methods:\n",
    "        fig.add_trace(go.Histogram(y=m_filtered[m_filtered['Modelo']==method][metric], name=method,\n",
    "                                   xaxis='x'+str(i),\n",
    "                                   ybins=dict(start=0,end=1,size=0.1),\n",
    "                                  marker_color=hist_color[method]))\n",
    "    i += 1\n",
    "\n",
    "    \n",
    "    \n",
    "fig.update_layout(barmode='stack',\n",
    "    font=dict(\n",
    "        size=24\n",
    "    ),\n",
    "    height=400, width=600\n",
    ")\n",
    "\n",
    "fig.show()"
   ]
  },
  {
   "cell_type": "code",
   "execution_count": 698,
   "metadata": {},
   "outputs": [
    {
     "data": {
      "application/vnd.jupyter.widget-view+json": {
       "model_id": "f2318c60ab614584b140936cd5e1eeb4",
       "version_major": 2,
       "version_minor": 0
      },
      "text/plain": [
       "FigureWidget({\n",
       "    'data': [{'dimensions': [{'label': 'Acc',\n",
       "                              'range': [0.394, 0.…"
      ]
     },
     "metadata": {},
     "output_type": "display_data"
    }
   ],
   "source": [
    "fig = go.FigureWidget(data=\n",
    "    go.Parcoords(\n",
    "        line = dict(color = \"#cecece\"),\n",
    "                dimensions = list([\n",
    "            dict(range = [lim_values['Acurácia']['min'], lim_values['Acurácia']['max']],\n",
    "                 #constraintrange = [1.5,2],\n",
    "                label = 'Acc', values = m_filtered['Acurácia']),\n",
    "            dict(range = [lim_values['Igualdade de Oportunidade']['min'], lim_values['Igualdade de Oportunidade']['max']],\n",
    "                label = 'EO', values = m_filtered['Igualdade de Oportunidade']),\n",
    "            dict(range = [lim_values['P porcento']['min'], lim_values['P porcento']['max']],\n",
    "                label = 'DP', values = m_filtered['P porcento']),\n",
    "            dict(range = [lim_values['Coeficiente de variação']['min'], lim_values['Coeficiente de variação']['max']],\n",
    "                label = 'CV', values = m_filtered['Coeficiente de variação']),\n",
    "        ]), domain = {'x': (0, 3/4)}\n",
    "    ), layout = dict(height=400, width=600)\n",
    ")\n",
    "\n",
    "\n",
    "fig.update_layout(\n",
    "    font=dict(\n",
    "        size=24\n",
    "    )\n",
    ")\n",
    "\n",
    "fig"
   ]
  },
  {
   "cell_type": "code",
   "execution_count": 699,
   "metadata": {},
   "outputs": [
    {
     "data": {
      "application/vnd.jupyter.widget-view+json": {
       "model_id": "b965d8477a9445ebb6a5ba51a169513b",
       "version_major": 2,
       "version_minor": 0
      },
      "text/plain": [
       "FigureWidget({\n",
       "    'data': [{'dimensions': [{'constraintrange': [0.58, 1],\n",
       "                              'labe…"
      ]
     },
     "metadata": {},
     "output_type": "display_data"
    }
   ],
   "source": [
    "fig = go.FigureWidget(data=\n",
    "    go.Parcoords(\n",
    "        line = dict(color = \"#cecece\"),\n",
    "                dimensions = list([\n",
    "            dict(range = [lim_values['Acurácia']['min'], lim_values['Acurácia']['max']],\n",
    "                 constraintrange = [filtros['Acurácia']['min'],filtros['Acurácia']['max']],\n",
    "                label = 'Acc', values = all_models['Acurácia']),\n",
    "            dict(range = [lim_values['Igualdade de Oportunidade']['min'], lim_values['Igualdade de Oportunidade']['max']],\n",
    "                 constraintrange = [filtros['Igualdade de Oportunidade']['min'],filtros['Igualdade de Oportunidade']['max']],\n",
    "                label = 'EO', values = all_models['Igualdade de Oportunidade']),\n",
    "            dict(range = [lim_values['P porcento']['min'], lim_values['P porcento']['max']],\n",
    "                 constraintrange = [filtros['P porcento']['min'],filtros['P porcento']['max']],\n",
    "                label = 'DP', values = all_models['P porcento']),\n",
    "            dict(range = [lim_values['Coeficiente de variação']['min'], lim_values['Coeficiente de variação']['max']],\n",
    "                 constraintrange = [filtros['Coeficiente de variação']['min'],filtros['Coeficiente de variação']['max']],\n",
    "                label = 'CV', values = all_models['Coeficiente de variação']),\n",
    "        ]), domain = {'x': (0, 3/4)}\n",
    "    ), layout = dict(height=400, width=600)\n",
    ")\n",
    "\n",
    "\n",
    "fig.update_layout(\n",
    "    font=dict(\n",
    "        size=24\n",
    "    )\n",
    ")\n",
    "\n",
    "fig"
   ]
  },
  {
   "cell_type": "code",
   "execution_count": 700,
   "metadata": {
    "scrolled": true
   },
   "outputs": [
    {
     "data": {
      "text/html": [
       "<div>\n",
       "<style scoped>\n",
       "    .dataframe tbody tr th:only-of-type {\n",
       "        vertical-align: middle;\n",
       "    }\n",
       "\n",
       "    .dataframe tbody tr th {\n",
       "        vertical-align: top;\n",
       "    }\n",
       "\n",
       "    .dataframe thead th {\n",
       "        text-align: right;\n",
       "    }\n",
       "</style>\n",
       "<table border=\"1\" class=\"dataframe\">\n",
       "  <thead>\n",
       "    <tr style=\"text-align: right;\">\n",
       "      <th></th>\n",
       "      <th>Acurácia</th>\n",
       "      <th>Coeficiente de variação</th>\n",
       "      <th>Igualdade de Oportunidade</th>\n",
       "      <th>P porcento</th>\n",
       "    </tr>\n",
       "  </thead>\n",
       "  <tbody>\n",
       "    <tr>\n",
       "      <th>Minimax</th>\n",
       "      <td>0.615385</td>\n",
       "      <td>0.622504</td>\n",
       "      <td>0.930233</td>\n",
       "      <td>0.891524</td>\n",
       "    </tr>\n",
       "    <tr>\n",
       "      <th>LogReg</th>\n",
       "      <td>0.644231</td>\n",
       "      <td>0.660376</td>\n",
       "      <td>0.881273</td>\n",
       "      <td>0.913043</td>\n",
       "    </tr>\n",
       "    <tr>\n",
       "      <th>Reweight</th>\n",
       "      <td>0.644231</td>\n",
       "      <td>0.678947</td>\n",
       "      <td>0.856793</td>\n",
       "      <td>0.879227</td>\n",
       "    </tr>\n",
       "    <tr>\n",
       "      <th>ParDem</th>\n",
       "      <td>0.663462</td>\n",
       "      <td>0.658386</td>\n",
       "      <td>0.881273</td>\n",
       "      <td>0.879227</td>\n",
       "    </tr>\n",
       "    <tr>\n",
       "      <th>EqOp</th>\n",
       "      <td>0.644231</td>\n",
       "      <td>0.697258</td>\n",
       "      <td>0.904393</td>\n",
       "      <td>0.892054</td>\n",
       "    </tr>\n",
       "    <tr>\n",
       "      <th>MOOErro</th>\n",
       "      <td>0.653846</td>\n",
       "      <td>0.677904</td>\n",
       "      <td>0.826923</td>\n",
       "      <td>0.735109</td>\n",
       "    </tr>\n",
       "    <tr>\n",
       "      <th>MOOAcep</th>\n",
       "      <td>0.615385</td>\n",
       "      <td>0.561676</td>\n",
       "      <td>0.930233</td>\n",
       "      <td>0.898551</td>\n",
       "    </tr>\n",
       "  </tbody>\n",
       "</table>\n",
       "</div>"
      ],
      "text/plain": [
       "          Acurácia Coeficiente de variação Igualdade de Oportunidade  \\\n",
       "Minimax   0.615385                0.622504                  0.930233   \n",
       "LogReg    0.644231                0.660376                  0.881273   \n",
       "Reweight  0.644231                0.678947                  0.856793   \n",
       "ParDem    0.663462                0.658386                  0.881273   \n",
       "EqOp      0.644231                0.697258                  0.904393   \n",
       "MOOErro   0.653846                0.677904                  0.826923   \n",
       "MOOAcep   0.615385                0.561676                  0.930233   \n",
       "\n",
       "         P porcento  \n",
       "Minimax    0.891524  \n",
       "LogReg     0.913043  \n",
       "Reweight   0.879227  \n",
       "ParDem     0.879227  \n",
       "EqOp       0.892054  \n",
       "MOOErro    0.735109  \n",
       "MOOAcep    0.898551  "
      ]
     },
     "execution_count": 700,
     "metadata": {},
     "output_type": "execute_result"
    }
   ],
   "source": [
    "ens_resuls = pd.DataFrame(index=[method for method in methods], columns=metrics)\n",
    "\n",
    "# Filtrar indexes de acordo com o gráfico\n",
    "selected_idx = all_models.index\n",
    "for dimension in fig.data[0]['dimensions']:\n",
    "    label = dimension['label']\n",
    "    constr = dimension['constraintrange']\n",
    "    curr_pd = all_models.loc[selected_idx,:]\n",
    "    if constr is not None:\n",
    "        selected_idx = curr_pd[(curr_pd[map_labels[label]]>=constr[0])&(curr_pd[map_labels[label]]<=constr[1])].index\n",
    "        \n",
    "# Gerar ensembles:\n",
    "\n",
    "# Ensemble MooErro\n",
    "ind_moo_err_min = len(other_models['Acurácia'])\n",
    "models_moo_err = [(\"Model \"+str(idx), moo_model.x) \n",
    "            for idx, moo_model in enumerate(moo_err.solutionsList)\n",
    "            if ind_moo_err_min+idx in selected_idx]\n",
    "\n",
    "if len(models_moo_err) > 0:\n",
    "    ensemble_moo_err = SimpleVoting(estimators=models_moo_err, voting='soft', minimax=False)\n",
    "    ens_resuls.loc['MOOErro',:] = calc_res_val(ensemble_moo_err)\n",
    "\n",
    "# Ensemble MooAcep\n",
    "ind_moo_acep_min = ind_moo_err_min+len(m_metrics['Acurácia'])\n",
    "models_moo_acep = [(\"Model \"+str(idx), moo_model.x) \n",
    "            for idx, moo_model in enumerate(moo_prob.solutionsList)\n",
    "            if ind_moo_acep_min+idx in selected_idx]\n",
    "\n",
    "if len(models_moo_acep) > 0:\n",
    "    ensemble_moo_acep = SimpleVoting(estimators=models_moo_acep, voting='soft', minimax=False)\n",
    "    ens_resuls.loc['MOOAcep',:] = calc_res_val(ensemble_moo_acep)\n",
    "\n",
    "idx_log = len(metrics_adult_min_aux[\"Acurácia\"])\n",
    "idx_rew = idx_log + len(metrics_adult_log_aux[\"Acurácia\"])\n",
    "idx_par = idx_rew + len(metrics_adult_rew_aux[\"Acurácia\"])\n",
    "idx_eq = idx_par + len(metrics_adult_pp_aux[\"Acurácia\"])\n",
    "idx_min = {'Minimax': 0, 'LogReg': idx_log, 'Reweight': idx_rew, 'ParDem': idx_par, 'EqOp':idx_eq}\n",
    "\n",
    "# Ensemble Outros\n",
    "for est in ['LogReg', 'Reweight', 'ParDem', 'EqOp','Minimax']:\n",
    "    models_est = [(\"Model \"+str(idx), model) \n",
    "                for idx, model in other_solutions_list[est]\n",
    "                if idx_min[est]+idx in selected_idx]\n",
    "\n",
    "    if len(models_est) > 0:\n",
    "        if est == 'Minimax':\n",
    "            ensemble_est = SimpleVoting(estimators=models_est, voting='soft', minimax=True)\n",
    "        else:\n",
    "            ensemble_est = SimpleVoting(estimators=models_est, voting='soft', minimax=False)\n",
    "        ens_resuls.loc[est,:] = calc_res_val(ensemble_est)\n",
    "\n",
    "ens_resuls"
   ]
  },
  {
   "cell_type": "code",
   "execution_count": 701,
   "metadata": {},
   "outputs": [],
   "source": [
    "ens_results_cv = ens_resuls"
   ]
  },
  {
   "cell_type": "code",
   "execution_count": 692,
   "metadata": {},
   "outputs": [],
   "source": [
    "ens_results_acc = ens_resuls"
   ]
  },
  {
   "cell_type": "code",
   "execution_count": 680,
   "metadata": {},
   "outputs": [],
   "source": [
    "ens_results_nof = ens_resuls"
   ]
  },
  {
   "cell_type": "code",
   "execution_count": 702,
   "metadata": {},
   "outputs": [],
   "source": [
    "acc_min_aux = min(ens_results_cv['Acurácia'].min(), ens_results_acc['Acurácia'].min(), \n",
    "                  ens_results_nof['Acurácia'].min())\n",
    "acc_max_aux = max(ens_results_cv['Acurácia'].max(), ens_results_acc['Acurácia'].max(), \n",
    "                  ens_results_nof['Acurácia'].max())\n",
    "\n",
    "cv_max_aux = min(ens_results_cv['Coeficiente de variação'].min(), ens_results_acc['Coeficiente de variação'].min(), \n",
    "                  ens_results_nof['Coeficiente de variação'].min())\n",
    "cv_min_aux = max(ens_results_cv['Coeficiente de variação'].max(), ens_results_acc['Coeficiente de variação'].max(), \n",
    "                  ens_results_nof['Coeficiente de variação'].max())\n",
    "\n",
    "eo_min_aux = min(ens_results_cv['Igualdade de Oportunidade'].min(), ens_results_acc['Igualdade de Oportunidade'].min(), \n",
    "                  ens_results_nof['Igualdade de Oportunidade'].min())\n",
    "eo_max_aux = max(ens_results_cv['Igualdade de Oportunidade'].max(), ens_results_acc['Igualdade de Oportunidade'].max(), \n",
    "                  ens_results_nof['Igualdade de Oportunidade'].max())\n",
    "\n",
    "dp_min_aux = min(ens_results_cv['P porcento'].min(), ens_results_acc['P porcento'].min(), \n",
    "                  ens_results_nof['P porcento'].min())\n",
    "dp_max_aux = max(ens_results_cv['P porcento'].max(), ens_results_acc['P porcento'].max(), \n",
    "                  ens_results_nof['P porcento'].max())"
   ]
  },
  {
   "cell_type": "code",
   "execution_count": 707,
   "metadata": {},
   "outputs": [
    {
     "data": {
      "image/png": "[encoded data removed]",
      "text/plain": [
       "<Figure size 288x288 with 4 Axes>"
      ]
     },
     "metadata": {
      "needs_background": "light"
     },
     "output_type": "display_data"
    }
   ],
   "source": [
    "build_radar(ens_results_cv, include_legend=False, acc_min=acc_min_aux, acc_max=acc_max_aux,\n",
    "            eo_min=eo_min_aux, eo_max=eo_max_aux, dp_min=dp_min_aux, dp_max=dp_max_aux,\n",
    "            cv_min=cv_min_aux, cv_max=cv_max_aux)"
   ]
  },
  {
   "cell_type": "code",
   "execution_count": 708,
   "metadata": {},
   "outputs": [
    {
     "data": {
      "text/html": [
       "<div>\n",
       "<style scoped>\n",
       "    .dataframe tbody tr th:only-of-type {\n",
       "        vertical-align: middle;\n",
       "    }\n",
       "\n",
       "    .dataframe tbody tr th {\n",
       "        vertical-align: top;\n",
       "    }\n",
       "\n",
       "    .dataframe thead th {\n",
       "        text-align: right;\n",
       "    }\n",
       "</style>\n",
       "<table border=\"1\" class=\"dataframe\">\n",
       "  <thead>\n",
       "    <tr style=\"text-align: right;\">\n",
       "      <th></th>\n",
       "      <th>Acurácia</th>\n",
       "      <th>Coeficiente de variação</th>\n",
       "      <th>Igualdade de Oportunidade</th>\n",
       "      <th>P porcento</th>\n",
       "    </tr>\n",
       "  </thead>\n",
       "  <tbody>\n",
       "    <tr>\n",
       "      <th>Minimax</th>\n",
       "      <td>0.615385</td>\n",
       "      <td>0.540597</td>\n",
       "      <td>0.964706</td>\n",
       "      <td>0.991549</td>\n",
       "    </tr>\n",
       "    <tr>\n",
       "      <th>LogReg</th>\n",
       "      <td>0.625</td>\n",
       "      <td>0.642149</td>\n",
       "      <td>0.907012</td>\n",
       "      <td>0.964006</td>\n",
       "    </tr>\n",
       "    <tr>\n",
       "      <th>Reweight</th>\n",
       "      <td>0.634615</td>\n",
       "      <td>0.641957</td>\n",
       "      <td>0.907012</td>\n",
       "      <td>0.946792</td>\n",
       "    </tr>\n",
       "    <tr>\n",
       "      <th>ParDem</th>\n",
       "      <td>0.634615</td>\n",
       "      <td>0.641957</td>\n",
       "      <td>0.995122</td>\n",
       "      <td>0.998918</td>\n",
       "    </tr>\n",
       "    <tr>\n",
       "      <th>EqOp</th>\n",
       "      <td>0.625</td>\n",
       "      <td>0.661324</td>\n",
       "      <td>0.96748</td>\n",
       "      <td>0.983207</td>\n",
       "    </tr>\n",
       "    <tr>\n",
       "      <th>MOOErro</th>\n",
       "      <td>0.634615</td>\n",
       "      <td>0.660973</td>\n",
       "      <td>0.76161</td>\n",
       "      <td>0.765794</td>\n",
       "    </tr>\n",
       "    <tr>\n",
       "      <th>MOOAcep</th>\n",
       "      <td>0.596154</td>\n",
       "      <td>0.559883</td>\n",
       "      <td>0.926829</td>\n",
       "      <td>0.859155</td>\n",
       "    </tr>\n",
       "  </tbody>\n",
       "</table>\n",
       "</div>"
      ],
      "text/plain": [
       "          Acurácia Coeficiente de variação Igualdade de Oportunidade  \\\n",
       "Minimax   0.615385                0.540597                  0.964706   \n",
       "LogReg       0.625                0.642149                  0.907012   \n",
       "Reweight  0.634615                0.641957                  0.907012   \n",
       "ParDem    0.634615                0.641957                  0.995122   \n",
       "EqOp         0.625                0.661324                   0.96748   \n",
       "MOOErro   0.634615                0.660973                   0.76161   \n",
       "MOOAcep   0.596154                0.559883                  0.926829   \n",
       "\n",
       "         P porcento  \n",
       "Minimax    0.991549  \n",
       "LogReg     0.964006  \n",
       "Reweight   0.946792  \n",
       "ParDem     0.998918  \n",
       "EqOp       0.983207  \n",
       "MOOErro    0.765794  \n",
       "MOOAcep    0.859155  "
      ]
     },
     "execution_count": 708,
     "metadata": {},
     "output_type": "execute_result"
    }
   ],
   "source": [
    "# Gerar ensembles em teste:\n",
    "ens_results_test = pd.DataFrame(index=[method for method in methods], columns=metrics)\n",
    "\n",
    "# Ensemble MooErro\n",
    "ind_moo_err_min = len(other_models['Acurácia'])\n",
    "models_moo_err = [(\"Model \"+str(idx), moo_model.x) \n",
    "            for idx, moo_model in enumerate(moo_err.solutionsList)\n",
    "            if ind_moo_err_min+idx in selected_idx]\n",
    "\n",
    "if len(models_moo_err) > 0:\n",
    "    ensemble_moo_err = SimpleVoting(estimators=models_moo_err, voting='soft', minimax=False)\n",
    "    ens_results_test.loc['MOOErro',:] = calc_res_test(ensemble_moo_err)\n",
    "\n",
    "# Ensemble MooAcep\n",
    "ind_moo_acep_min = ind_moo_err_min+len(m_metrics['Acurácia'])\n",
    "models_moo_acep = [(\"Model \"+str(idx), moo_model.x) \n",
    "            for idx, moo_model in enumerate(moo_prob.solutionsList)\n",
    "            if ind_moo_acep_min+idx in selected_idx]\n",
    "\n",
    "if len(models_moo_acep) > 0:\n",
    "    ensemble_moo_acep = SimpleVoting(estimators=models_moo_acep, voting='soft', minimax=False)\n",
    "    ens_results_test.loc['MOOAcep',:] = calc_res_test(ensemble_moo_acep)\n",
    "\n",
    "idx_log = len(metrics_adult_min_aux[\"Acurácia\"])\n",
    "idx_rew = idx_log + len(metrics_adult_log_aux[\"Acurácia\"])\n",
    "idx_par = idx_rew + len(metrics_adult_rew_aux[\"Acurácia\"])\n",
    "idx_eq = idx_par + len(metrics_adult_pp_aux[\"Acurácia\"])\n",
    "idx_min = {'Minimax': 0, 'LogReg': idx_log, 'Reweight': idx_rew, 'ParDem': idx_par, 'EqOp':idx_eq}\n",
    "\n",
    "# Ensemble Outros\n",
    "for est in ['LogReg', 'Reweight', 'ParDem', 'EqOp','Minimax']:\n",
    "    models_est = [(\"Model \"+str(idx), model) \n",
    "                for idx, model in other_solutions_list[est]\n",
    "                if idx_min[est]+idx in selected_idx]\n",
    "\n",
    "    if len(models_est) > 0:\n",
    "        if est == 'Minimax':\n",
    "            ensemble_est = SimpleVoting(estimators=models_est, voting='soft', minimax=True)\n",
    "        else:\n",
    "            ensemble_est = SimpleVoting(estimators=models_est, voting='soft', minimax=False)\n",
    "        ens_results_test.loc[est,:] = calc_res_test(ensemble_est)\n",
    "\n",
    "ens_results_test"
   ]
  },
  {
   "cell_type": "code",
   "execution_count": 709,
   "metadata": {},
   "outputs": [
    {
     "data": {
      "image/png": "[encoded data removed]",
      "text/plain": [
       "<Figure size 288x288 with 4 Axes>"
      ]
     },
     "metadata": {
      "needs_background": "light"
     },
     "output_type": "display_data"
    }
   ],
   "source": [
    "build_radar(ens_results_test, include_legend=False, acc_min=acc_min_aux, acc_max=acc_max_aux,\n",
    "            eo_min=eo_min_aux, eo_max=eo_max_aux, dp_min=dp_min_aux, dp_max=dp_max_aux,\n",
    "            cv_min=cv_min_aux, cv_max=cv_max_aux)"
   ]
  },
  {
   "cell_type": "code",
   "execution_count": 710,
   "metadata": {},
   "outputs": [],
   "source": [
    "all_models.drop(['index'], axis = 1).to_csv(\"AllModelsResults-German.csv\", index=False)"
   ]
  },
  {
   "cell_type": "code",
   "execution_count": null,
   "metadata": {},
   "outputs": [],
   "source": []
  }
 ],
 "metadata": {
  "kernelspec": {
   "display_name": "Python 3",
   "language": "python",
   "name": "python3"
  },
  "language_info": {
   "codemirror_mode": {
    "name": "ipython",
    "version": 3
   },
   "file_extension": ".py",
   "mimetype": "text/x-python",
   "name": "python",
   "nbconvert_exporter": "python",
   "pygments_lexer": "ipython3",
   "version": "3.6.10"
  }
 },
 "nbformat": 4,
 "nbformat_minor": 4
}
