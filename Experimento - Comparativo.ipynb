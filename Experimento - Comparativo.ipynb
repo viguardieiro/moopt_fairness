{
 "cells": [
  {
   "cell_type": "code",
   "execution_count": 1,
   "metadata": {},
   "outputs": [],
   "source": [
    "import experiment_utils\n",
    "import pandas as pd\n",
    "import pickle\n",
    "from pathlib import Path"
   ]
  },
  {
   "cell_type": "markdown",
   "metadata": {},
   "source": [
    "# COMPAS Dataset"
   ]
  },
  {
   "cell_type": "code",
   "execution_count": 2,
   "metadata": {},
   "outputs": [],
   "source": [
    "dataset = 'compas'\n",
    "fair_feature = 'race'\n",
    "\n",
    "X = pd.read_pickle(\"data/\"+dataset+\"_\"+fair_feature+\"/X.pickle\")\n",
    "with open(\"data/\"+dataset+\"_\"+fair_feature+\"/y.pickle\", 'rb') as f:\n",
    "    y = pickle.load(f)\n",
    "\n",
    "X_ftest = pd.read_pickle(\"data/\"+dataset+\"_\"+fair_feature+\"/X_ftest.pickle\")\n",
    "with open(\"data/\"+dataset+\"_\"+fair_feature+\"/y_ftest.pickle\", 'rb') as f:\n",
    "    y_ftest = pickle.load(f)"
   ]
  },
  {
   "cell_type": "code",
   "execution_count": 3,
   "metadata": {},
   "outputs": [
    {
     "name": "stdout",
     "output_type": "stream",
     "text": [
      "  [INFO] Starting Fold 1...\n",
      "Assertion failed. Fairness constraints not satisfied.\n",
      "None\n"
     ]
    },
    {
     "name": "stderr",
     "output_type": "stream",
     "text": [
      "Traceback (most recent call last):\n",
      "  File \"/home/vitoria/Documents/moopt_fairness/fair_classification_modified/linear_clf_pref_fairness.py\", line 185, in fit\n",
      "    assert(f_c.value == True)\n",
      "AssertionError\n"
     ]
    },
    {
     "name": "stdout",
     "output_type": "stream",
     "text": [
      "Assertion failed. Fairness constraints not satisfied.\n",
      "None\n"
     ]
    },
    {
     "name": "stderr",
     "output_type": "stream",
     "text": [
      "Traceback (most recent call last):\n",
      "  File \"/home/vitoria/Documents/moopt_fairness/fair_classification_modified/linear_clf_pref_fairness.py\", line 185, in fit\n",
      "    assert(f_c.value == True)\n",
      "AssertionError\n",
      "/home/vitoria/anaconda3/envs/moofair/lib/python3.8/site-packages/sklearn/utils/validation.py:1107: DataConversionWarning: A column-vector y was passed when a 1d array was expected. Please change the shape of y to (n_samples, ), for example using ravel().\n",
      "  y = column_or_1d(y, warn=True)\n",
      "/home/vitoria/anaconda3/envs/moofair/lib/python3.8/site-packages/sklearn/utils/validation.py:1107: DataConversionWarning: A column-vector y was passed when a 1d array was expected. Please change the shape of y to (n_samples, ), for example using ravel().\n",
      "  y = column_or_1d(y, warn=True)\n"
     ]
    },
    {
     "name": "stdout",
     "output_type": "stream",
     "text": [
      "patience counter: 200 total iterations: 201\n",
      "-----------------------------------------\n"
     ]
    },
    {
     "name": "stderr",
     "output_type": "stream",
     "text": [
      "/home/vitoria/anaconda3/envs/moofair/lib/python3.8/site-packages/sklearn/base.py:443: UserWarning: X has feature names, but LogisticRegression was fitted without feature names\n",
      "  warnings.warn(\n",
      "/home/vitoria/anaconda3/envs/moofair/lib/python3.8/site-packages/sklearn/base.py:443: UserWarning: X has feature names, but LogisticRegression was fitted without feature names\n",
      "  warnings.warn(\n",
      "/home/vitoria/anaconda3/envs/moofair/lib/python3.8/site-packages/sklearn/base.py:443: UserWarning: X has feature names, but LogisticRegression was fitted without feature names\n",
      "  warnings.warn(\n",
      "/home/vitoria/anaconda3/envs/moofair/lib/python3.8/site-packages/sklearn/base.py:443: UserWarning: X has feature names, but LogisticRegression was fitted without feature names\n",
      "  warnings.warn(\n",
      "2022-06-15 15:44:55,118 - main - INFO: Trainer: Started with initializing trainer...\n",
      "2022-06-15 15:44:55,119 - main - INFO: Trainer: Reading trainer parameters.\n",
      "2022-06-15 15:44:55,121 - main - INFO: Trainer: Normalize gradients: True\n",
      "2022-06-15 15:44:55,121 - main - INFO: Trainer: Learning rate: 0.001000\n",
      "2022-06-15 15:44:55,121 - main - INFO: Trainer: Batch size training: 500\n",
      "2022-06-15 15:44:55,121 - main - INFO: Trainer: Shuffle training: 1\n",
      "2022-06-15 15:44:55,122 - main - INFO: Trainer: Drop last batch training: 1\n",
      "2022-06-15 15:44:55,122 - main - INFO: Trainer: Batch size validation: 500\n",
      "2022-06-15 15:44:55,122 - main - INFO: Trainer: Shuffle validation: 1\n",
      "2022-06-15 15:44:55,123 - main - INFO: Trainer: Drop last batch validation: 0\n",
      "2022-06-15 15:44:55,123 - main - INFO: Trainer: Number of epochs: 50.000000\n",
      "2022-06-15 15:44:55,123 - main - INFO: Trainer: Frank Wolfe max iterations: 100\n",
      "2022-06-15 15:44:55,123 - main - INFO: Trainer: Annealing: True\n",
      "2022-06-15 15:44:55,123 - main - INFO: Trainer: Beta start: 0.000000\n",
      "2022-06-15 15:44:55,124 - main - INFO: Trainer: Beta cap: 0.300000\n",
      "2022-06-15 15:44:55,124 - main - INFO: Trainer: Beta step: 0.000030\n",
      "2022-06-15 15:44:55,124 - main - INFO: Trainer: Losses: \n",
      "2022-06-15 15:44:55,124 - main - INFO: bce Trainer: DPP Trainer: EOP \n",
      "2022-06-15 15:44:55,125 - main - INFO: Trainer: Validation metrics: \n",
      "2022-06-15 15:44:55,125 - main - INFO: accuracy Trainer: bacc Trainer: f1score Trainer: EO Trainer: DP Trainer: CV \n",
      "2022-06-15 15:44:55,125 - main - INFO: Trainer: Saving models to: MAMOfair/saved_models/model/\n",
      "2022-06-15 15:44:55,125 - main - INFO: Trainer: Training on device: cuda\n",
      "2022-06-15 15:44:55,126 - main - INFO: Trainer: Initializing helper trainer objects.\n",
      "2022-06-15 15:44:55,145 - main - INFO: Trainer: Max empirical losses: [0.6931421041488648, 0.051288905739784243, 0.04911244288086892]\n",
      "2022-06-15 15:44:55,146 - main - INFO: Trainer: Initialization done.\n",
      "2022-06-15 15:44:55,146 - main - INFO: Trainer: Started training...\n",
      "2022-06-15 15:44:55,224 - main - INFO: Trainer: Epoch: 1, Epoch time: 0.08s, Training loss: 0.965, Validation loss: 0.958, Validation metrics: [0.5501, 0.5000, 0.7097, 1.0000, 1.0000, 0.4852], Validation losses: [0.6902, 0.0250, 0.0252]\n",
      "2022-06-15 15:44:55,296 - main - INFO: Trainer: Epoch: 2, Epoch time: 0.07s, Training loss: 0.968, Validation loss: 0.965, Validation metrics: [0.5435, 0.5000, 0.7040, 1.0000, 1.0000, 0.4833], Validation losses: [0.6878, 0.0258, 0.0259]\n",
      "2022-06-15 15:44:55,369 - main - INFO: Trainer: Epoch: 3, Epoch time: 0.07s, Training loss: 0.970, Validation loss: 0.965, Validation metrics: [0.5533, 0.5000, 0.7124, 1.0000, 1.0000, 0.4860], Validation losses: [0.6836, 0.0270, 0.0271]\n",
      "2022-06-15 15:44:55,440 - main - INFO: Trainer: Epoch: 4, Epoch time: 0.07s, Training loss: 0.977, Validation loss: 0.969, Validation metrics: [0.5479, 0.5000, 0.7079, 1.0000, 1.0000, 0.4847], Validation losses: [0.6794, 0.0313, 0.0307]\n",
      "2022-06-15 15:44:55,512 - main - INFO: Trainer: Epoch: 5, Epoch time: 0.07s, Training loss: 0.969, Validation loss: 0.958, Validation metrics: [0.5522, 0.5000, 0.7115, 1.0000, 1.0000, 0.4857], Validation losses: [0.6721, 0.0368, 0.0347]\n",
      "2022-06-15 15:44:55,584 - main - INFO: Trainer: Epoch: 6, Epoch time: 0.07s, Training loss: 0.963, Validation loss: 0.950, Validation metrics: [0.5566, 0.5000, 0.7150, 1.0000, 1.0000, 0.4865], Validation losses: [0.6636, 0.0414, 0.0380]\n",
      "2022-06-15 15:44:55,656 - main - INFO: Trainer: Epoch: 7, Epoch time: 0.07s, Training loss: 0.959, Validation loss: 0.971, Validation metrics: [0.5811, 0.5474, 0.7090, 0.9602, 0.9311, 0.6134], Validation losses: [0.6621, 0.0834, 0.0612]\n",
      "2022-06-15 15:44:55,728 - main - INFO: Trainer: Epoch: 8, Epoch time: 0.07s, Training loss: 0.958, Validation loss: 0.940, Validation metrics: [0.6505, 0.6496, 0.6744, 0.8942, 0.7680, 1.0218], Validation losses: [0.6462, 0.1270, 0.0801]\n",
      "2022-06-15 15:44:55,800 - main - INFO: Trainer: Epoch: 9, Epoch time: 0.07s, Training loss: 0.974, Validation loss: 0.931, Validation metrics: [0.6638, 0.6603, 0.6947, 0.8559, 0.7279, 0.9939], Validation losses: [0.6313, 0.1479, 0.1056]\n",
      "2022-06-15 15:44:55,872 - main - INFO: Trainer: Epoch: 10, Epoch time: 0.07s, Training loss: 0.938, Validation loss: 0.903, Validation metrics: [0.6859, 0.6779, 0.7255, 0.8280, 0.7265, 0.9584], Validation losses: [0.6114, 0.1763, 0.1617]\n",
      "2022-06-15 15:44:55,943 - main - INFO: Trainer: Epoch: 11, Epoch time: 0.07s, Training loss: 0.946, Validation loss: 0.933, Validation metrics: [0.6772, 0.6704, 0.7156, 0.8043, 0.6992, 0.9570], Validation losses: [0.6167, 0.1867, 0.1859]\n",
      "2022-06-15 15:44:56,016 - main - INFO: Trainer: Epoch: 12, Epoch time: 0.07s, Training loss: 0.991, Validation loss: 0.953, Validation metrics: [0.6892, 0.6833, 0.7242, 0.8517, 0.7068, 0.9548], Validation losses: [0.6142, 0.1733, 0.1416]\n",
      "2022-06-15 15:44:56,088 - main - INFO: Trainer: Epoch: 13, Epoch time: 0.07s, Training loss: 0.957, Validation loss: 0.944, Validation metrics: [0.6760, 0.6696, 0.7137, 0.8241, 0.6670, 0.9626], Validation losses: [0.6207, 0.2045, 0.1569]\n",
      "2022-06-15 15:44:56,161 - main - INFO: Trainer: Epoch: 14, Epoch time: 0.07s, Training loss: 0.935, Validation loss: 0.943, Validation metrics: [0.6749, 0.6689, 0.7114, 0.8455, 0.6920, 0.9429], Validation losses: [0.6230, 0.1946, 0.1427]\n",
      "2022-06-15 15:44:56,234 - main - INFO: Trainer: Epoch: 15, Epoch time: 0.07s, Training loss: 0.946, Validation loss: 0.927, Validation metrics: [0.6832, 0.6747, 0.7296, 0.8446, 0.7236, 0.9055], Validation losses: [0.6175, 0.1866, 0.1606]\n",
      "2022-06-15 15:44:56,306 - main - INFO: Trainer: Epoch: 16, Epoch time: 0.07s, Training loss: 0.952, Validation loss: 0.952, Validation metrics: [0.6707, 0.6577, 0.7265, 0.8264, 0.7355, 0.8738], Validation losses: [0.6212, 0.1936, 0.1878]\n",
      "2022-06-15 15:44:56,379 - main - INFO: Trainer: Epoch: 17, Epoch time: 0.07s, Training loss: 0.940, Validation loss: 0.956, Validation metrics: [0.6609, 0.6492, 0.7171, 0.8333, 0.7242, 0.8714], Validation losses: [0.6255, 0.1972, 0.1652]\n",
      "2022-06-15 15:44:56,452 - main - INFO: Trainer: Epoch: 18, Epoch time: 0.07s, Training loss: 0.933, Validation loss: 0.929, Validation metrics: [0.6620, 0.6490, 0.7203, 0.8535, 0.7547, 0.8694], Validation losses: [0.6243, 0.1744, 0.1559]\n",
      "2022-06-15 15:44:56,524 - main - INFO: Trainer: Epoch: 19, Epoch time: 0.07s, Training loss: 0.991, Validation loss: 0.978, Validation metrics: [0.6784, 0.6592, 0.7370, 0.8570, 0.7411, 0.8700], Validation losses: [0.6198, 0.1785, 0.1520]\n",
      "2022-06-15 15:44:56,597 - main - INFO: Trainer: Epoch: 20, Epoch time: 0.07s, Training loss: 0.966, Validation loss: 0.950, Validation metrics: [0.6856, 0.6723, 0.7406, 0.8771, 0.7369, 0.8633], Validation losses: [0.6134, 0.1946, 0.1502]\n",
      "2022-06-15 15:44:56,670 - main - INFO: Trainer: Epoch: 21, Epoch time: 0.07s, Training loss: 0.937, Validation loss: 0.947, Validation metrics: [0.6511, 0.6354, 0.7121, 0.8694, 0.7542, 0.8843], Validation losses: [0.6346, 0.1775, 0.1373]\n",
      "2022-06-15 15:44:56,743 - main - INFO: Trainer: Epoch: 22, Epoch time: 0.07s, Training loss: 0.957, Validation loss: 0.947, Validation metrics: [0.6685, 0.6519, 0.7277, 0.8442, 0.7259, 0.8764], Validation losses: [0.6229, 0.1943, 0.1635]\n",
      "2022-06-15 15:44:56,814 - main - INFO: Trainer: Epoch: 23, Epoch time: 0.07s, Training loss: 1.000, Validation loss: 1.008, Validation metrics: [0.6773, 0.6593, 0.7358, 0.8562, 0.7411, 0.8684], Validation losses: [0.6187, 0.1827, 0.1519]\n",
      "2022-06-15 15:44:56,886 - main - INFO: Trainer: Epoch: 24, Epoch time: 0.07s, Training loss: 0.988, Validation loss: 0.987, Validation metrics: [0.6736, 0.6604, 0.7279, 0.8486, 0.7438, 0.8688], Validation losses: [0.6243, 0.1767, 0.1563]\n",
      "2022-06-15 15:44:56,958 - main - INFO: Trainer: Epoch: 25, Epoch time: 0.07s, Training loss: 0.947, Validation loss: 0.945, Validation metrics: [0.6725, 0.6609, 0.7237, 0.8346, 0.7279, 0.8641], Validation losses: [0.6206, 0.1878, 0.1692]\n",
      "2022-06-15 15:44:57,030 - main - INFO: Trainer: Epoch: 26, Epoch time: 0.07s, Training loss: 0.942, Validation loss: 0.938, Validation metrics: [0.6707, 0.6579, 0.7239, 0.8379, 0.7202, 0.8953], Validation losses: [0.6218, 0.1867, 0.1617]\n",
      "2022-06-15 15:44:57,100 - main - INFO: Trainer: Epoch: 27, Epoch time: 0.07s, Training loss: 0.944, Validation loss: 0.929, Validation metrics: [0.6773, 0.6636, 0.7329, 0.8555, 0.7373, 0.8730], Validation losses: [0.6149, 0.1798, 0.1515]\n",
      "2022-06-15 15:44:57,172 - main - INFO: Trainer: Epoch: 28, Epoch time: 0.07s, Training loss: 0.984, Validation loss: 0.980, Validation metrics: [0.6751, 0.6611, 0.7311, 0.8191, 0.7327, 0.8748], Validation losses: [0.6163, 0.1821, 0.1773]\n",
      "2022-06-15 15:44:57,243 - main - INFO: Trainer: Epoch: 29, Epoch time: 0.07s, Training loss: 0.960, Validation loss: 0.958, Validation metrics: [0.6780, 0.6656, 0.7325, 0.8455, 0.7291, 0.8629], Validation losses: [0.6209, 0.1901, 0.1628]\n",
      "2022-06-15 15:44:57,314 - main - INFO: Trainer: Epoch: 30, Epoch time: 0.07s, Training loss: 0.929, Validation loss: 0.924, Validation metrics: [0.6856, 0.6698, 0.7424, 0.8727, 0.7396, 0.8712], Validation losses: [0.6164, 0.1904, 0.1472]\n",
      "2022-06-15 15:44:57,386 - main - INFO: Trainer: Epoch: 31, Epoch time: 0.07s, Training loss: 0.948, Validation loss: 0.956, Validation metrics: [0.6696, 0.6536, 0.7283, 0.8634, 0.7533, 0.8761], Validation losses: [0.6226, 0.1757, 0.1476]\n",
      "2022-06-15 15:44:57,458 - main - INFO: Trainer: Epoch: 32, Epoch time: 0.07s, Training loss: 0.979, Validation loss: 0.990, Validation metrics: [0.6707, 0.6563, 0.7271, 0.8411, 0.7251, 0.8849], Validation losses: [0.6234, 0.1858, 0.1585]\n",
      "2022-06-15 15:44:57,529 - main - INFO: Trainer: Epoch: 33, Epoch time: 0.07s, Training loss: 0.978, Validation loss: 0.975, Validation metrics: [0.6696, 0.6581, 0.7241, 0.8563, 0.7292, 0.8797], Validation losses: [0.6247, 0.1838, 0.1508]\n",
      "2022-06-15 15:44:57,601 - main - INFO: Trainer: Epoch: 34, Epoch time: 0.07s, Training loss: 0.964, Validation loss: 0.962, Validation metrics: [0.6675, 0.6530, 0.7239, 0.8337, 0.7359, 0.8876], Validation losses: [0.6284, 0.1799, 0.1573]\n",
      "2022-06-15 15:44:57,673 - main - INFO: Trainer: Epoch: 35, Epoch time: 0.07s, Training loss: 0.951, Validation loss: 0.957, Validation metrics: [0.6774, 0.6636, 0.7314, 0.8348, 0.7312, 0.9009], Validation losses: [0.6159, 0.1825, 0.1587]\n",
      "2022-06-15 15:44:57,823 - main - INFO: Trainer: Epoch: 36, Epoch time: 0.15s, Training loss: 0.933, Validation loss: 0.942, Validation metrics: [0.6643, 0.6497, 0.7215, 0.8457, 0.7269, 0.8844], Validation losses: [0.6264, 0.1844, 0.1472]\n",
      "2022-06-15 15:44:57,894 - main - INFO: Trainer: Epoch: 37, Epoch time: 0.07s, Training loss: 0.941, Validation loss: 0.941, Validation metrics: [0.6632, 0.6514, 0.7169, 0.8228, 0.7191, 0.8881], Validation losses: [0.6212, 0.1887, 0.1634]\n",
      "2022-06-15 15:44:57,964 - main - INFO: Trainer: Epoch: 38, Epoch time: 0.07s, Training loss: 0.928, Validation loss: 0.927, Validation metrics: [0.6697, 0.6516, 0.7280, 0.8390, 0.7200, 0.8835], Validation losses: [0.6264, 0.1951, 0.1617]\n",
      "2022-06-15 15:44:58,036 - main - INFO: Trainer: Epoch: 39, Epoch time: 0.07s, Training loss: 0.969, Validation loss: 0.965, Validation metrics: [0.6631, 0.6503, 0.7173, 0.8506, 0.7468, 0.8938], Validation losses: [0.6285, 0.1746, 0.1565]\n",
      "2022-06-15 15:44:58,107 - main - INFO: Trainer: Epoch: 40, Epoch time: 0.07s, Training loss: 0.953, Validation loss: 0.969, Validation metrics: [0.6605, 0.6432, 0.7231, 0.8568, 0.7515, 0.8714], Validation losses: [0.6305, 0.1848, 0.1588]\n",
      "2022-06-15 15:44:58,179 - main - INFO: Trainer: Epoch: 41, Epoch time: 0.07s, Training loss: 0.934, Validation loss: 0.927, Validation metrics: [0.6802, 0.6633, 0.7390, 0.8823, 0.7561, 0.8650], Validation losses: [0.6168, 0.1800, 0.1457]\n",
      "2022-06-15 15:44:58,251 - main - INFO: Trainer: Epoch: 42, Epoch time: 0.07s, Training loss: 0.965, Validation loss: 0.977, Validation metrics: [0.6800, 0.6709, 0.7238, 0.8115, 0.7227, 0.9355], Validation losses: [0.6218, 0.1781, 0.1764]\n",
      "2022-06-15 15:44:58,323 - main - INFO: Trainer: Epoch: 43, Epoch time: 0.07s, Training loss: 0.961, Validation loss: 0.956, Validation metrics: [0.6707, 0.6586, 0.7271, 0.8853, 0.7517, 0.8679], Validation losses: [0.6218, 0.1797, 0.1374]\n",
      "2022-06-15 15:44:58,398 - main - INFO: Trainer: Epoch: 44, Epoch time: 0.07s, Training loss: 0.949, Validation loss: 0.956, Validation metrics: [0.6747, 0.6562, 0.7359, 0.8615, 0.7616, 0.8643], Validation losses: [0.6227, 0.1738, 0.1483]\n",
      "2022-06-15 15:44:58,472 - main - INFO: Trainer: Epoch: 45, Epoch time: 0.07s, Training loss: 0.964, Validation loss: 0.955, Validation metrics: [0.6791, 0.6646, 0.7348, 0.8632, 0.7473, 0.8773], Validation losses: [0.6200, 0.1775, 0.1488]\n",
      "2022-06-15 15:44:58,545 - main - INFO: Trainer: Epoch: 46, Epoch time: 0.07s, Training loss: 0.933, Validation loss: 0.926, Validation metrics: [0.6835, 0.6674, 0.7410, 0.8643, 0.7457, 0.8648], Validation losses: [0.6158, 0.1872, 0.1558]\n",
      "2022-06-15 15:44:58,618 - main - INFO: Trainer: Epoch: 47, Epoch time: 0.07s, Training loss: 0.926, Validation loss: 0.919, Validation metrics: [0.6643, 0.6480, 0.7230, 0.8514, 0.7534, 0.8849], Validation losses: [0.6218, 0.1727, 0.1521]\n",
      "2022-06-15 15:44:58,690 - main - INFO: Trainer: Epoch: 48, Epoch time: 0.07s, Training loss: 0.960, Validation loss: 0.956, Validation metrics: [0.6741, 0.6636, 0.7278, 0.8394, 0.7187, 0.8762], Validation losses: [0.6153, 0.1862, 0.1545]\n",
      "2022-06-15 15:44:58,761 - main - INFO: Trainer: Epoch: 49, Epoch time: 0.07s, Training loss: 0.980, Validation loss: 0.976, Validation metrics: [0.6616, 0.6470, 0.7216, 0.8552, 0.7311, 0.8643], Validation losses: [0.6270, 0.1986, 0.1567]\n",
      "2022-06-15 15:44:58,834 - main - INFO: Trainer: Epoch: 50, Epoch time: 0.07s, Training loss: 0.961, Validation loss: 0.989, Validation metrics: [0.6751, 0.6574, 0.7334, 0.8384, 0.7439, 0.8788], Validation losses: [0.6230, 0.1786, 0.1661]\n",
      "2022-06-15 15:44:58,864 - moopt.monise - DEBUG: Finding 1th individual minima\n",
      "2022-06-15 15:44:58,877 - moopt.monise - DEBUG: Finding 2th individual minima\n",
      "2022-06-15 15:44:58,897 - moopt.monise - DEBUG: Finding 3th individual minima\n"
     ]
    },
    {
     "name": "stdout",
     "output_type": "stream",
     "text": [
      "Restricted license - for non-production use only - expires 2023-10-25\n"
     ]
    },
    {
     "name": "stderr",
     "output_type": "stream",
     "text": [
      "2022-06-15 15:44:58,956 - moopt.monise - DEBUG: 4th solution - importance: 1.0\n",
      "2022-06-15 15:44:58,989 - moopt.monise - DEBUG: 5th solution - importance: 1.0\n",
      "2022-06-15 15:44:59,050 - moopt.monise - DEBUG: 6th solution - importance: 1.0\n",
      "2022-06-15 15:44:59,119 - moopt.monise - DEBUG: 7th solution - importance: 1.0\n",
      "2022-06-15 15:44:59,212 - moopt.monise - DEBUG: 8th solution - importance: 1.0\n",
      "2022-06-15 15:44:59,278 - moopt.monise - DEBUG: 9th solution - importance: 0.8552441062543749\n",
      "2022-06-15 15:44:59,368 - moopt.monise - DEBUG: 10th solution - importance: 0.3992707032452238\n",
      "2022-06-15 15:44:59,464 - moopt.monise - DEBUG: 11th solution - importance: 0.3246018212390072\n",
      "2022-06-15 15:44:59,557 - moopt.monise - DEBUG: 12th solution - importance: 0.27110405426015866\n",
      "2022-06-15 15:44:59,649 - moopt.monise - DEBUG: 13th solution - importance: 0.2576504846381694\n",
      "2022-06-15 15:44:59,762 - moopt.monise - DEBUG: 14th solution - importance: 0.20555080176345575\n",
      "2022-06-15 15:44:59,868 - moopt.monise - DEBUG: 15th solution - importance: 0.14888032629812764\n",
      "2022-06-15 15:44:59,990 - moopt.monise - DEBUG: 16th solution - importance: 0.13305061622208908\n",
      "2022-06-15 15:45:00,119 - moopt.monise - DEBUG: 17th solution - importance: 0.12542656506347555\n",
      "2022-06-15 15:45:00,244 - moopt.monise - DEBUG: 18th solution - importance: 0.12467411487198421\n",
      "2022-06-15 15:45:00,367 - moopt.monise - DEBUG: 19th solution - importance: 0.11601484663397046\n",
      "2022-06-15 15:45:00,474 - moopt.monise - DEBUG: 20th solution - importance: 0.11455733085807204\n",
      "2022-06-15 15:45:00,604 - moopt.monise - DEBUG: 21th solution - importance: 0.09761554234039863\n",
      "2022-06-15 15:45:00,735 - moopt.monise - DEBUG: 22th solution - importance: 0.08374892842737691\n",
      "2022-06-15 15:45:00,893 - moopt.monise - DEBUG: 23th solution - importance: 0.0772733411536383\n",
      "2022-06-15 15:45:01,021 - moopt.monise - DEBUG: 24th solution - importance: 0.06961010160268091\n",
      "2022-06-15 15:45:01,163 - moopt.monise - DEBUG: 25th solution - importance: 0.06854739548882595\n",
      "2022-06-15 15:45:01,314 - moopt.monise - DEBUG: 26th solution - importance: 0.06563600045378387\n",
      "2022-06-15 15:45:01,454 - moopt.monise - DEBUG: 27th solution - importance: 0.06248429651541405\n",
      "2022-06-15 15:45:01,640 - moopt.monise - DEBUG: 28th solution - importance: 0.06246489123690236\n",
      "2022-06-15 15:45:01,807 - moopt.monise - DEBUG: 29th solution - importance: 0.05862733239741182\n",
      "2022-06-15 15:45:01,993 - moopt.monise - DEBUG: 30th solution - importance: 0.05456962017871657\n",
      "2022-06-15 15:45:02,169 - moopt.monise - DEBUG: 31th solution - importance: 0.05356745082457719\n",
      "2022-06-15 15:45:02,337 - moopt.monise - DEBUG: 32th solution - importance: 0.051801678315690686\n",
      "2022-06-15 15:45:02,526 - moopt.monise - DEBUG: 33th solution - importance: 0.05003742891970825\n",
      "2022-06-15 15:45:02,719 - moopt.monise - DEBUG: 34th solution - importance: 0.0450282235735482\n",
      "2022-06-15 15:45:02,927 - moopt.monise - DEBUG: 35th solution - importance: 0.03979625133502876\n",
      "2022-06-15 15:45:03,131 - moopt.monise - DEBUG: 36th solution - importance: 0.039656137488740945\n",
      "2022-06-15 15:45:03,339 - moopt.monise - DEBUG: 37th solution - importance: 0.03855226482694187\n",
      "2022-06-15 15:45:03,583 - moopt.monise - DEBUG: 38th solution - importance: 0.03741927005023332\n",
      "2022-06-15 15:45:03,816 - moopt.monise - DEBUG: 39th solution - importance: 0.03533899686522062\n",
      "2022-06-15 15:45:04,036 - moopt.monise - DEBUG: 40th solution - importance: 0.03342008071315962\n",
      "2022-06-15 15:45:04,280 - moopt.monise - DEBUG: 41th solution - importance: 0.03299940947198974\n",
      "2022-06-15 15:45:04,530 - moopt.monise - DEBUG: 42th solution - importance: 0.032003955399412934\n",
      "2022-06-15 15:45:04,774 - moopt.monise - DEBUG: 43th solution - importance: 0.03197847693746157\n",
      "2022-06-15 15:45:05,073 - moopt.monise - DEBUG: 44th solution - importance: 0.0305787504179802\n",
      "2022-06-15 15:45:05,362 - moopt.monise - DEBUG: 45th solution - importance: 0.030522187135026455\n",
      "2022-06-15 15:45:05,647 - moopt.monise - DEBUG: 46th solution - importance: 0.029420472630710633\n",
      "2022-06-15 15:45:05,936 - moopt.monise - DEBUG: 47th solution - importance: 0.028745020455089906\n",
      "2022-06-15 15:45:06,250 - moopt.monise - DEBUG: 48th solution - importance: 0.0286726951194148\n",
      "2022-06-15 15:45:06,593 - moopt.monise - DEBUG: 49th solution - importance: 0.027785224797638425\n",
      "2022-06-15 15:45:06,940 - moopt.monise - DEBUG: 50th solution - importance: 0.027266458434840476\n",
      "2022-06-15 15:45:07,258 - moopt.monise - DEBUG: 51th solution - importance: 0.02723105168228886\n",
      "2022-06-15 15:45:07,623 - moopt.monise - DEBUG: 52th solution - importance: 0.02628405447368378\n",
      "2022-06-15 15:45:08,006 - moopt.monise - DEBUG: 53th solution - importance: 0.025326907634112703\n",
      "2022-06-15 15:45:08,373 - moopt.monise - DEBUG: 54th solution - importance: 0.025267900012948437\n",
      "2022-06-15 15:45:08,780 - moopt.monise - DEBUG: 55th solution - importance: 0.025040231273913922\n",
      "2022-06-15 15:45:09,146 - moopt.monise - DEBUG: 56th solution - importance: 0.02377793116770249\n",
      "2022-06-15 15:45:09,505 - moopt.monise - DEBUG: 57th solution - importance: 0.023578457263032013\n",
      "2022-06-15 15:45:09,917 - moopt.monise - DEBUG: 58th solution - importance: 0.022615673894693385\n",
      "2022-06-15 15:45:10,367 - moopt.monise - DEBUG: 59th solution - importance: 0.022280603922067474\n",
      "2022-06-15 15:45:10,787 - moopt.monise - DEBUG: 60th solution - importance: 0.022231941277887864\n",
      "2022-06-15 15:45:11,193 - moopt.monise - DEBUG: 61th solution - importance: 0.021137116981173033\n",
      "2022-06-15 15:45:11,677 - moopt.monise - DEBUG: 62th solution - importance: 0.0209980065725062\n",
      "2022-06-15 15:45:12,159 - moopt.monise - DEBUG: 63th solution - importance: 0.02063522587710558\n",
      "2022-06-15 15:45:12,667 - moopt.monise - DEBUG: 64th solution - importance: 0.02040400317851689\n",
      "2022-06-15 15:45:13,158 - moopt.monise - DEBUG: 65th solution - importance: 0.0191989576662863\n",
      "2022-06-15 15:45:13,663 - moopt.monise - DEBUG: 66th solution - importance: 0.018769127675006766\n",
      "2022-06-15 15:45:14,231 - moopt.monise - DEBUG: 67th solution - importance: 0.017650166970163583\n",
      "2022-06-15 15:45:14,749 - moopt.monise - DEBUG: 68th solution - importance: 0.017520665989967474\n",
      "2022-06-15 15:45:15,343 - moopt.monise - DEBUG: 69th solution - importance: 0.017483049826749572\n",
      "2022-06-15 15:45:15,903 - moopt.monise - DEBUG: 70th solution - importance: 0.017306548468588707\n",
      "2022-06-15 15:45:16,878 - moopt.monise - DEBUG: 71th solution - importance: 0.017196788958354525\n",
      "2022-06-15 15:45:17,487 - moopt.monise - DEBUG: 72th solution - importance: 0.01707929684239436\n",
      "2022-06-15 15:45:18,108 - moopt.monise - DEBUG: 73th solution - importance: 0.016575295727044765\n",
      "2022-06-15 15:45:18,771 - moopt.monise - DEBUG: 74th solution - importance: 0.01622166360061574\n",
      "2022-06-15 15:45:19,421 - moopt.monise - DEBUG: 75th solution - importance: 0.016177242422547453\n",
      "2022-06-15 15:45:20,130 - moopt.monise - DEBUG: 76th solution - importance: 0.01585553642889988\n",
      "2022-06-15 15:45:20,806 - moopt.monise - DEBUG: 77th solution - importance: 0.01582838239035504\n",
      "2022-06-15 15:45:21,502 - moopt.monise - DEBUG: 78th solution - importance: 0.015810123879625246\n",
      "2022-06-15 15:45:22,179 - moopt.monise - DEBUG: 79th solution - importance: 0.01565295615310851\n",
      "2022-06-15 15:45:23,376 - moopt.monise - DEBUG: 80th solution - importance: 0.015330932990473705\n",
      "2022-06-15 15:45:24,306 - moopt.monise - DEBUG: 81th solution - importance: 0.015327536369101833\n",
      "2022-06-15 15:45:26,305 - moopt.monise - DEBUG: 82th solution - importance: 0.015140724148896242\n",
      "2022-06-15 15:45:27,891 - moopt.monise - DEBUG: 83th solution - importance: 0.015128627000639671\n",
      "2022-06-15 15:45:28,674 - moopt.monise - DEBUG: 84th solution - importance: 0.015128627000639671\n",
      "2022-06-15 15:45:29,506 - moopt.monise - DEBUG: 85th solution - importance: 0.014579854148056922\n",
      "2022-06-15 15:45:30,314 - moopt.monise - DEBUG: 86th solution - importance: 0.014424942574002226\n",
      "2022-06-15 15:45:31,662 - moopt.monise - DEBUG: 87th solution - importance: 0.01394824694819508\n",
      "2022-06-15 15:45:33,001 - moopt.monise - DEBUG: 88th solution - importance: 0.013668368945698868\n",
      "2022-06-15 15:45:34,482 - moopt.monise - DEBUG: 89th solution - importance: 0.013598975221896887\n",
      "2022-06-15 15:45:35,933 - moopt.monise - DEBUG: 90th solution - importance: 0.013527866627538021\n",
      "2022-06-15 15:45:37,338 - moopt.monise - DEBUG: 91th solution - importance: 0.013295530099964422\n",
      "2022-06-15 15:45:39,026 - moopt.monise - DEBUG: 92th solution - importance: 0.01325689985892594\n",
      "2022-06-15 15:45:39,994 - moopt.monise - DEBUG: 93th solution - importance: 0.012995747612980406\n",
      "2022-06-15 15:45:41,582 - moopt.monise - DEBUG: 94th solution - importance: 0.01279344696985448\n",
      "2022-06-15 15:45:43,073 - moopt.monise - DEBUG: 95th solution - importance: 0.012790421864834594\n",
      "2022-06-15 15:45:44,522 - moopt.monise - DEBUG: 96th solution - importance: 0.012786716394334534\n",
      "2022-06-15 15:45:46,188 - moopt.monise - DEBUG: 97th solution - importance: 0.012682452591022809\n",
      "2022-06-15 15:45:47,769 - moopt.monise - DEBUG: 98th solution - importance: 0.012539437914779121\n",
      "2022-06-15 15:45:49,498 - moopt.monise - DEBUG: 99th solution - importance: 0.01245624647452073\n",
      "2022-06-15 15:45:51,128 - moopt.monise - DEBUG: 100th solution - importance: 0.012253199201039764\n",
      "2022-06-15 15:45:52,960 - moopt.monise - DEBUG: 101th solution - importance: 0.011803845864488861\n",
      "2022-06-15 15:45:55,069 - moopt.monise - DEBUG: 102th solution - importance: 0.011777898380712085\n",
      "2022-06-15 15:45:57,162 - moopt.monise - DEBUG: 103th solution - importance: 0.011407828979808772\n",
      "2022-06-15 15:45:59,260 - moopt.monise - DEBUG: 104th solution - importance: 0.011349429231368297\n",
      "2022-06-15 15:46:01,358 - moopt.monise - DEBUG: 105th solution - importance: 0.011294506326468699\n",
      "2022-06-15 15:46:03,457 - moopt.monise - DEBUG: 106th solution - importance: 0.010681139833998425\n",
      "2022-06-15 15:46:05,554 - moopt.monise - DEBUG: 107th solution - importance: 0.010366122558878706\n",
      "2022-06-15 15:46:07,654 - moopt.monise - DEBUG: 108th solution - importance: 0.010254876991947487\n",
      "2022-06-15 15:46:09,757 - moopt.monise - DEBUG: 109th solution - importance: 0.010166777194770353\n",
      "2022-06-15 15:46:11,855 - moopt.monise - DEBUG: 110th solution - importance: 0.0101137304559593\n",
      "2022-06-15 15:46:13,955 - moopt.monise - DEBUG: 111th solution - importance: 0.01006348609166372\n",
      "2022-06-15 15:46:16,056 - moopt.monise - DEBUG: 112th solution - importance: 0.009932355184098171\n",
      "2022-06-15 15:46:18,156 - moopt.monise - DEBUG: 113th solution - importance: 0.009926936772129745\n",
      "2022-06-15 15:46:20,257 - moopt.monise - DEBUG: 114th solution - importance: 0.0097488924152141\n",
      "2022-06-15 15:46:22,358 - moopt.monise - DEBUG: 115th solution - importance: 0.009715440657777127\n",
      "2022-06-15 15:46:24,459 - moopt.monise - DEBUG: 116th solution - importance: 0.009590374074336312\n",
      "2022-06-15 15:46:26,561 - moopt.monise - DEBUG: 117th solution - importance: 0.00946457833585308\n",
      "2022-06-15 15:46:28,663 - moopt.monise - DEBUG: 118th solution - importance: 0.009330664186418553\n",
      "2022-06-15 15:46:30,766 - moopt.monise - DEBUG: 119th solution - importance: 0.009314102088573722\n",
      "2022-06-15 15:46:32,869 - moopt.monise - DEBUG: 120th solution - importance: 0.009314102088573722\n",
      "2022-06-15 15:46:34,971 - moopt.monise - DEBUG: 121th solution - importance: 0.009314102088573722\n",
      "2022-06-15 15:46:37,074 - moopt.monise - DEBUG: 122th solution - importance: 0.00924123232226826\n",
      "2022-06-15 15:46:39,177 - moopt.monise - DEBUG: 123th solution - importance: 0.009238905549856461\n",
      "2022-06-15 15:46:41,286 - moopt.monise - DEBUG: 124th solution - importance: 0.009238905549856461\n",
      "2022-06-15 15:46:43,390 - moopt.monise - DEBUG: 125th solution - importance: 0.009238905549856461\n",
      "2022-06-15 15:46:45,495 - moopt.monise - DEBUG: 126th solution - importance: 0.009238905549856461\n",
      "2022-06-15 15:46:47,600 - moopt.monise - DEBUG: 127th solution - importance: 0.009238905549856461\n",
      "2022-06-15 15:46:49,704 - moopt.monise - DEBUG: 128th solution - importance: 0.0091329219748477\n",
      "2022-06-15 15:46:51,810 - moopt.monise - DEBUG: 129th solution - importance: 0.0091329219748477\n",
      "2022-06-15 15:46:53,918 - moopt.monise - DEBUG: 130th solution - importance: 0.008618304212359039\n",
      "2022-06-15 15:46:56,025 - moopt.monise - DEBUG: 131th solution - importance: 0.008607860070071085\n",
      "2022-06-15 15:46:58,134 - moopt.monise - DEBUG: 132th solution - importance: 0.008604162540483391\n",
      "2022-06-15 15:47:00,244 - moopt.monise - DEBUG: 133th solution - importance: 0.008598595267639895\n",
      "2022-06-15 15:47:02,354 - moopt.monise - DEBUG: 134th solution - importance: 0.008443103617571111\n",
      "2022-06-15 15:47:04,462 - moopt.monise - DEBUG: 135th solution - importance: 0.008443103617571111\n",
      "2022-06-15 15:47:06,571 - moopt.monise - DEBUG: 136th solution - importance: 0.008400988300695083\n",
      "2022-06-15 15:47:08,679 - moopt.monise - DEBUG: 137th solution - importance: 0.008400988300695083\n",
      "2022-06-15 15:47:10,790 - moopt.monise - DEBUG: 138th solution - importance: 0.008189214627518631\n",
      "2022-06-15 15:47:12,899 - moopt.monise - DEBUG: 139th solution - importance: 0.008189214627518631\n",
      "2022-06-15 15:47:15,010 - moopt.monise - DEBUG: 140th solution - importance: 0.008189214627518631\n",
      "2022-06-15 15:47:17,120 - moopt.monise - DEBUG: 141th solution - importance: 0.0076169914237062325\n",
      "2022-06-15 15:47:19,233 - moopt.monise - DEBUG: 142th solution - importance: 0.0076169914237062325\n",
      "2022-06-15 15:47:21,345 - moopt.monise - DEBUG: 143th solution - importance: 0.007554807966349553\n",
      "2022-06-15 15:47:23,455 - moopt.monise - DEBUG: 144th solution - importance: 0.007554807966349553\n",
      "2022-06-15 15:47:25,567 - moopt.monise - DEBUG: 145th solution - importance: 0.007554092601205098\n",
      "2022-06-15 15:47:27,685 - moopt.monise - DEBUG: 146th solution - importance: 0.007580650603458117\n",
      "2022-06-15 15:47:29,796 - moopt.monise - DEBUG: 147th solution - importance: 0.007580650603458117\n",
      "2022-06-15 15:47:31,909 - moopt.monise - DEBUG: 148th solution - importance: 0.007580650603458117\n",
      "2022-06-15 15:47:34,022 - moopt.monise - DEBUG: 149th solution - importance: 0.007580650603458117\n",
      "2022-06-15 15:47:36,135 - moopt.monise - DEBUG: 150th solution - importance: 0.007580650603458117\n",
      "2022-06-15 15:47:38,250 - moopt.monise - DEBUG: 151th solution - importance: 0.007163154534673758\n",
      "2022-06-15 15:47:40,363 - moopt.monise - DEBUG: 152th solution - importance: 0.007142159324384036\n",
      "2022-06-15 15:47:42,476 - moopt.monise - DEBUG: 153th solution - importance: 0.007120044738298055\n",
      "2022-06-15 15:47:44,592 - moopt.monise - DEBUG: 154th solution - importance: 0.007120044738298055\n",
      "2022-06-15 15:47:46,706 - moopt.monise - DEBUG: 155th solution - importance: 0.006868179020135735\n",
      "2022-06-15 15:47:48,821 - moopt.monise - DEBUG: 156th solution - importance: 0.006868179020135735\n",
      "2022-06-15 15:47:50,938 - moopt.monise - DEBUG: 157th solution - importance: 0.006727377530135167\n",
      "2022-06-15 15:47:53,059 - moopt.monise - DEBUG: 158th solution - importance: 0.0076580165755125405\n",
      "2022-06-15 15:47:55,177 - moopt.monise - DEBUG: 159th solution - importance: 0.0076580165755125405\n",
      "2022-06-15 15:47:57,292 - moopt.monise - DEBUG: 160th solution - importance: 0.0076580165755125405\n",
      "2022-06-15 15:47:59,408 - moopt.monise - DEBUG: 161th solution - importance: 0.0076580165755125405\n",
      "2022-06-15 15:48:01,525 - moopt.monise - DEBUG: 162th solution - importance: 0.0076580165755125405\n",
      "2022-06-15 15:48:03,640 - moopt.monise - DEBUG: 163th solution - importance: 0.0062349038493593615\n",
      "2022-06-15 15:48:05,757 - moopt.monise - DEBUG: 164th solution - importance: 0.006980211568234012\n",
      "2022-06-15 15:48:07,947 - moopt.monise - DEBUG: 165th solution - importance: 0.006980211568234012\n",
      "2022-06-15 15:48:10,066 - moopt.monise - DEBUG: 166th solution - importance: 0.006980211568234012\n",
      "2022-06-15 15:48:12,187 - moopt.monise - DEBUG: 167th solution - importance: 0.006980211568234012\n",
      "2022-06-15 15:48:14,307 - moopt.monise - DEBUG: 168th solution - importance: 0.006980211568234012\n",
      "2022-06-15 15:48:16,428 - moopt.monise - DEBUG: 169th solution - importance: 0.006544690339484389\n",
      "2022-06-15 15:48:18,550 - moopt.monise - DEBUG: 170th solution - importance: 0.006544690339484389\n",
      "2022-06-15 15:48:20,670 - moopt.monise - DEBUG: 171th solution - importance: 0.006544690339484389\n",
      "2022-06-15 15:48:22,791 - moopt.monise - DEBUG: 172th solution - importance: 0.00611805798014584\n",
      "2022-06-15 15:48:24,912 - moopt.monise - DEBUG: 173th solution - importance: 0.006735507254874127\n",
      "2022-06-15 15:48:27,035 - moopt.monise - DEBUG: 174th solution - importance: 0.006735507254874127\n",
      "2022-06-15 15:48:29,158 - moopt.monise - DEBUG: 175th solution - importance: 0.006735507254874127\n",
      "2022-06-15 15:48:31,290 - moopt.monise - DEBUG: 176th solution - importance: 0.006735507254874127\n",
      "2022-06-15 15:48:33,412 - moopt.monise - DEBUG: 177th solution - importance: 0.006735507254874127\n",
      "2022-06-15 15:48:35,528 - moopt.monise - DEBUG: 178th solution - importance: 0.006811443377484513\n",
      "2022-06-15 15:48:37,653 - moopt.monise - DEBUG: 179th solution - importance: 0.006811443377484513\n",
      "2022-06-15 15:48:39,776 - moopt.monise - DEBUG: 180th solution - importance: 0.006811443377484513\n",
      "2022-06-15 15:48:41,901 - moopt.monise - DEBUG: 181th solution - importance: 0.006811443377484513\n",
      "2022-06-15 15:48:44,026 - moopt.monise - DEBUG: 182th solution - importance: 0.006811443377484513\n",
      "2022-06-15 15:48:46,156 - moopt.monise - DEBUG: 183th solution - importance: 0.006122198185456735\n",
      "2022-06-15 15:48:48,283 - moopt.monise - DEBUG: 184th solution - importance: 0.0056163030209142005\n",
      "2022-06-15 15:48:50,406 - moopt.monise - DEBUG: 185th solution - importance: 0.005475631395952077\n",
      "2022-06-15 15:48:52,533 - moopt.monise - DEBUG: 186th solution - importance: 0.005229656900321714\n",
      "2022-06-15 15:48:54,660 - moopt.monise - DEBUG: 187th solution - importance: 0.005123488990033953\n",
      "2022-06-15 15:48:56,786 - moopt.monise - DEBUG: 188th solution - importance: 0.005123488990033953\n",
      "2022-06-15 15:48:58,912 - moopt.monise - DEBUG: 189th solution - importance: 0.005123488990033953\n",
      "2022-06-15 15:49:01,041 - moopt.monise - DEBUG: 190th solution - importance: 0.0051198598186411775\n",
      "2022-06-15 15:49:03,167 - moopt.monise - DEBUG: 191th solution - importance: 0.0051198598186411775\n",
      "2022-06-15 15:49:05,294 - moopt.monise - DEBUG: 192th solution - importance: 0.0051198598186411775\n",
      "2022-06-15 15:49:07,424 - moopt.monise - DEBUG: 193th solution - importance: 0.005111009598110985\n",
      "2022-06-15 15:49:09,553 - moopt.monise - DEBUG: 194th solution - importance: 0.005000904495689684\n",
      "2022-06-15 15:49:11,682 - moopt.monise - DEBUG: 195th solution - importance: 0.004701310775286071\n",
      "2022-06-15 15:49:13,814 - moopt.monise - DEBUG: 196th solution - importance: 0.0056783479271608735\n",
      "2022-06-15 15:49:15,945 - moopt.monise - DEBUG: 197th solution - importance: 0.0056783479271608735\n",
      "2022-06-15 15:49:18,075 - moopt.monise - DEBUG: 198th solution - importance: 0.0056783479271608735\n",
      "2022-06-15 15:49:20,205 - moopt.monise - DEBUG: 199th solution - importance: 0.0056783479271608735\n",
      "2022-06-15 15:49:22,335 - moopt.monise - DEBUG: 200th solution - importance: 0.0056783479271608735\n",
      "2022-06-15 15:49:24,466 - moopt.monise - DEBUG: 201th solution - importance: 0.004817865611411309\n",
      "2022-06-15 15:49:26,599 - moopt.monise - DEBUG: 202th solution - importance: 0.005324155026237151\n",
      "2022-06-15 15:49:28,734 - moopt.monise - DEBUG: 203th solution - importance: 0.005324155026237151\n",
      "2022-06-15 15:49:30,867 - moopt.monise - DEBUG: 204th solution - importance: 0.005324155026237151\n",
      "2022-06-15 15:49:32,998 - moopt.monise - DEBUG: 205th solution - importance: 0.005324155026237151\n",
      "2022-06-15 15:49:35,131 - moopt.monise - DEBUG: 206th solution - importance: 0.005324155026237151\n",
      "2022-06-15 15:49:37,266 - moopt.monise - DEBUG: 207th solution - importance: 0.005155291926080327\n",
      "2022-06-15 15:49:39,400 - moopt.monise - DEBUG: 208th solution - importance: 0.0047834175945748545\n",
      "2022-06-15 15:49:41,534 - moopt.monise - DEBUG: 209th solution - importance: 0.005997531839742811\n",
      "2022-06-15 15:49:43,667 - moopt.monise - DEBUG: 210th solution - importance: 0.005997531839742811\n",
      "2022-06-15 15:49:45,802 - moopt.monise - DEBUG: 211th solution - importance: 0.005997531839742811\n",
      "2022-06-15 15:49:47,936 - moopt.monise - DEBUG: 212th solution - importance: 0.005997531839742811\n",
      "2022-06-15 15:49:50,072 - moopt.monise - DEBUG: 213th solution - importance: 0.005997531839742811\n",
      "2022-06-15 15:49:52,210 - moopt.monise - DEBUG: 214th solution - importance: 0.00456904588584691\n",
      "2022-06-15 15:49:54,346 - moopt.monise - DEBUG: 215th solution - importance: 0.00456904588584691\n",
      "2022-06-15 15:49:56,484 - moopt.monise - DEBUG: 216th solution - importance: 0.00466879838221544\n",
      "2022-06-15 15:49:58,622 - moopt.monise - DEBUG: 217th solution - importance: 0.00466879838221544\n",
      "2022-06-15 15:50:00,759 - moopt.monise - DEBUG: 218th solution - importance: 0.005382625401069903\n",
      "2022-06-15 15:50:02,897 - moopt.monise - DEBUG: 219th solution - importance: 0.005382625401069903\n",
      "2022-06-15 15:50:05,035 - moopt.monise - DEBUG: 220th solution - importance: 0.0065774321080021856\n",
      "2022-06-15 15:50:07,176 - moopt.monise - DEBUG: 221th solution - importance: 0.0065774321080021856\n",
      "2022-06-15 15:50:09,318 - moopt.monise - DEBUG: 222th solution - importance: 0.0065774321080021856\n",
      "2022-06-15 15:50:11,461 - moopt.monise - DEBUG: 223th solution - importance: 0.0065774321080021856\n",
      "2022-06-15 15:50:13,682 - moopt.monise - DEBUG: 224th solution - importance: 0.0065774321080021856\n",
      "2022-06-15 15:50:15,822 - moopt.monise - DEBUG: 225th solution - importance: 0.004211186971155073\n",
      "2022-06-15 15:50:17,963 - moopt.monise - DEBUG: 226th solution - importance: 0.004686545830996645\n",
      "2022-06-15 15:50:20,105 - moopt.monise - DEBUG: 227th solution - importance: 0.004686545830996645\n",
      "2022-06-15 15:50:22,247 - moopt.monise - DEBUG: 228th solution - importance: 0.004686545830996645\n",
      "2022-06-15 15:50:24,389 - moopt.monise - DEBUG: 229th solution - importance: 0.004686545830996645\n",
      "2022-06-15 15:50:26,531 - moopt.monise - DEBUG: 230th solution - importance: 0.004686545830996645\n",
      "2022-06-15 15:50:28,672 - moopt.monise - DEBUG: 231th solution - importance: 0.0046789340070407\n",
      "2022-06-15 15:50:30,816 - moopt.monise - DEBUG: 232th solution - importance: 0.0044633218008358535\n",
      "2022-06-15 15:50:32,960 - moopt.monise - DEBUG: 233th solution - importance: 0.0047522106639930105\n",
      "2022-06-15 15:50:35,103 - moopt.monise - DEBUG: 234th solution - importance: 0.0047522106639930105\n",
      "2022-06-15 15:50:37,247 - moopt.monise - DEBUG: 235th solution - importance: 0.0047522106639930105\n",
      "2022-06-15 15:50:39,391 - moopt.monise - DEBUG: 236th solution - importance: 0.006571082164245128\n",
      "2022-06-15 15:50:41,540 - moopt.monise - DEBUG: 237th solution - importance: 0.006571082164245128\n",
      "2022-06-15 15:50:43,684 - moopt.monise - DEBUG: 238th solution - importance: 0.006571082164245128\n",
      "2022-06-15 15:50:45,830 - moopt.monise - DEBUG: 239th solution - importance: 0.006571082164245128\n",
      "2022-06-15 15:50:47,976 - moopt.monise - DEBUG: 240th solution - importance: 0.006571082164245128\n",
      "2022-06-15 15:50:50,122 - moopt.monise - DEBUG: 241th solution - importance: 0.004736398984426953\n",
      "2022-06-15 15:50:52,269 - moopt.monise - DEBUG: 242th solution - importance: 0.004736398984426953\n",
      "2022-06-15 15:50:54,418 - moopt.monise - DEBUG: 243th solution - importance: 0.004736398984426953\n",
      "2022-06-15 15:50:56,565 - moopt.monise - DEBUG: 244th solution - importance: 0.004880533899978855\n",
      "2022-06-15 15:50:58,714 - moopt.monise - DEBUG: 245th solution - importance: 0.004880533899978855\n"
     ]
    }
   ],
   "source": [
    "kfold_results_compas = experiment_utils.kfold_methods(X, y, X_ftest, y_ftest, \n",
    "                                                        fair_feature, n_folds = 5)"
   ]
  },
  {
   "cell_type": "code",
   "execution_count": null,
   "metadata": {},
   "outputs": [
    {
     "name": "stdout",
     "output_type": "stream",
     "text": [
      "\\begin{tabular}{lrrrrrrr}\n",
      "\\toprule\n",
      "{} &       Acc &  BalancedAcc &   F-score &        EO &        DP &        CV &  SingleClass \\\\\n",
      "Approach &           &              &           &           &           &           &              \\\\\n",
      "\\midrule\n",
      "DemPar   &  0.483965 &     0.487659 &  0.608919 &  0.932150 &  0.920283 &  0.677390 &          0.0 \\\\\n",
      "EqOp     &  0.589268 &     0.588631 &  0.560590 &  0.950432 &  0.870608 &  0.952136 &          0.0 \\\\\n",
      "LogReg   &  0.658460 &     0.659614 &  0.687809 &  0.788904 &  0.664401 &  0.735304 &          0.0 \\\\\n",
      "PrefFair &  0.655808 &     0.656980 &  0.685862 &  0.759273 &  0.611272 &  0.736700 &          0.0 \\\\\n",
      "Reweigh  &  0.643182 &     0.644172 &  0.669454 &  0.938055 &  0.887901 &  0.764957 &          0.0 \\\\\n",
      "\\bottomrule\n",
      "\\end{tabular}\n",
      "\n"
     ]
    },
    {
     "name": "stderr",
     "output_type": "stream",
     "text": [
      "/tmp/ipykernel_399435/3520873631.py:4: FutureWarning: In future versions `DataFrame.to_latex` is expected to utilise the base implementation of `Styler.to_latex` for formatting and rendering. The arguments signature may therefore change. It is recommended instead to use `DataFrame.style.to_latex` which also contains additional functionality.\n",
      "  print(results_mean_compas.to_latex())\n"
     ]
    }
   ],
   "source": [
    "results_mean_compas = kfold_results_compas.groupby('Approach').mean()\n",
    "Path(\"results/exp_comparative\").mkdir(parents=True, exist_ok=True)\n",
    "#results_mean_compas.to_csv('results/exp_comparative/compas.csv')\n",
    "print(results_mean_compas.to_latex())"
   ]
  },
  {
   "cell_type": "code",
   "execution_count": null,
   "metadata": {},
   "outputs": [
    {
     "data": {
      "text/html": [
       "<div>\n",
       "<style scoped>\n",
       "    .dataframe tbody tr th:only-of-type {\n",
       "        vertical-align: middle;\n",
       "    }\n",
       "\n",
       "    .dataframe tbody tr th {\n",
       "        vertical-align: top;\n",
       "    }\n",
       "\n",
       "    .dataframe thead th {\n",
       "        text-align: right;\n",
       "    }\n",
       "</style>\n",
       "<table border=\"1\" class=\"dataframe\">\n",
       "  <thead>\n",
       "    <tr style=\"text-align: right;\">\n",
       "      <th></th>\n",
       "      <th>Acc</th>\n",
       "      <th>BalancedAcc</th>\n",
       "      <th>F-score</th>\n",
       "      <th>EO</th>\n",
       "      <th>DP</th>\n",
       "      <th>CV</th>\n",
       "      <th>SingleClass</th>\n",
       "    </tr>\n",
       "    <tr>\n",
       "      <th>Approach</th>\n",
       "      <th></th>\n",
       "      <th></th>\n",
       "      <th></th>\n",
       "      <th></th>\n",
       "      <th></th>\n",
       "      <th></th>\n",
       "      <th></th>\n",
       "    </tr>\n",
       "  </thead>\n",
       "  <tbody>\n",
       "    <tr>\n",
       "      <th>DemPar</th>\n",
       "      <td>0.483965</td>\n",
       "      <td>0.487659</td>\n",
       "      <td>0.608919</td>\n",
       "      <td>0.932150</td>\n",
       "      <td>0.920283</td>\n",
       "      <td>0.677390</td>\n",
       "      <td>0.0</td>\n",
       "    </tr>\n",
       "    <tr>\n",
       "      <th>EqOp</th>\n",
       "      <td>0.589268</td>\n",
       "      <td>0.588631</td>\n",
       "      <td>0.560590</td>\n",
       "      <td>0.950432</td>\n",
       "      <td>0.870608</td>\n",
       "      <td>0.952136</td>\n",
       "      <td>0.0</td>\n",
       "    </tr>\n",
       "    <tr>\n",
       "      <th>LogReg</th>\n",
       "      <td>0.658460</td>\n",
       "      <td>0.659614</td>\n",
       "      <td>0.687809</td>\n",
       "      <td>0.788904</td>\n",
       "      <td>0.664401</td>\n",
       "      <td>0.735304</td>\n",
       "      <td>0.0</td>\n",
       "    </tr>\n",
       "    <tr>\n",
       "      <th>PrefFair</th>\n",
       "      <td>0.655808</td>\n",
       "      <td>0.656980</td>\n",
       "      <td>0.685862</td>\n",
       "      <td>0.759273</td>\n",
       "      <td>0.611272</td>\n",
       "      <td>0.736700</td>\n",
       "      <td>0.0</td>\n",
       "    </tr>\n",
       "    <tr>\n",
       "      <th>Reweigh</th>\n",
       "      <td>0.643182</td>\n",
       "      <td>0.644172</td>\n",
       "      <td>0.669454</td>\n",
       "      <td>0.938055</td>\n",
       "      <td>0.887901</td>\n",
       "      <td>0.764957</td>\n",
       "      <td>0.0</td>\n",
       "    </tr>\n",
       "  </tbody>\n",
       "</table>\n",
       "</div>"
      ],
      "text/plain": [
       "               Acc  BalancedAcc   F-score        EO        DP        CV  \\\n",
       "Approach                                                                  \n",
       "DemPar    0.483965     0.487659  0.608919  0.932150  0.920283  0.677390   \n",
       "EqOp      0.589268     0.588631  0.560590  0.950432  0.870608  0.952136   \n",
       "LogReg    0.658460     0.659614  0.687809  0.788904  0.664401  0.735304   \n",
       "PrefFair  0.655808     0.656980  0.685862  0.759273  0.611272  0.736700   \n",
       "Reweigh   0.643182     0.644172  0.669454  0.938055  0.887901  0.764957   \n",
       "\n",
       "          SingleClass  \n",
       "Approach               \n",
       "DemPar            0.0  \n",
       "EqOp              0.0  \n",
       "LogReg            0.0  \n",
       "PrefFair          0.0  \n",
       "Reweigh           0.0  "
      ]
     },
     "execution_count": 5,
     "metadata": {},
     "output_type": "execute_result"
    }
   ],
   "source": [
    "results_mean_compas"
   ]
  },
  {
   "cell_type": "markdown",
   "metadata": {},
   "source": [
    "# German Dataset"
   ]
  },
  {
   "cell_type": "code",
   "execution_count": null,
   "metadata": {},
   "outputs": [],
   "source": [
    "dataset = 'german'\n",
    "fair_feature = 'sex'\n",
    "\n",
    "X = pd.read_pickle(\"data/\"+dataset+\"_\"+fair_feature+\"/X.pickle\")\n",
    "with open(\"data/\"+dataset+\"_\"+fair_feature+\"/y.pickle\", 'rb') as f:\n",
    "    y = pickle.load(f)\n",
    "\n",
    "X_ftest = pd.read_pickle(\"data/\"+dataset+\"_\"+fair_feature+\"/X_ftest.pickle\")\n",
    "with open(\"data/\"+dataset+\"_\"+fair_feature+\"/y_ftest.pickle\", 'rb') as f:\n",
    "    y_ftest = pickle.load(f)"
   ]
  },
  {
   "cell_type": "code",
   "execution_count": null,
   "metadata": {},
   "outputs": [
    {
     "name": "stdout",
     "output_type": "stream",
     "text": [
      "  [INFO] Starting Fold 1...\n",
      "Assertion failed. Fairness constraints not satisfied.\n",
      "None\n"
     ]
    },
    {
     "name": "stderr",
     "output_type": "stream",
     "text": [
      "Traceback (most recent call last):\n",
      "  File \"/home/vitoria/Documents/moopt_fairness/fair_classification_modified/linear_clf_pref_fairness.py\", line 185, in fit\n",
      "    assert(f_c.value == True)\n",
      "AssertionError\n"
     ]
    },
    {
     "name": "stdout",
     "output_type": "stream",
     "text": [
      "Assertion failed. Fairness constraints not satisfied.\n",
      "None\n",
      "  [INFO] Starting Fold 2...\n"
     ]
    },
    {
     "name": "stderr",
     "output_type": "stream",
     "text": [
      "Traceback (most recent call last):\n",
      "  File \"/home/vitoria/Documents/moopt_fairness/fair_classification_modified/linear_clf_pref_fairness.py\", line 185, in fit\n",
      "    assert(f_c.value == True)\n",
      "AssertionError\n",
      "/home/vitoria/anaconda3/envs/moofair/lib/python3.8/site-packages/sklearn/utils/validation.py:1107: DataConversionWarning: A column-vector y was passed when a 1d array was expected. Please change the shape of y to (n_samples, ), for example using ravel().\n",
      "  y = column_or_1d(y, warn=True)\n",
      "/home/vitoria/anaconda3/envs/moofair/lib/python3.8/site-packages/sklearn/utils/validation.py:1107: DataConversionWarning: A column-vector y was passed when a 1d array was expected. Please change the shape of y to (n_samples, ), for example using ravel().\n",
      "  y = column_or_1d(y, warn=True)\n"
     ]
    },
    {
     "name": "stdout",
     "output_type": "stream",
     "text": [
      "Assertion failed. Fairness constraints not satisfied.\n",
      "None\n"
     ]
    },
    {
     "name": "stderr",
     "output_type": "stream",
     "text": [
      "Traceback (most recent call last):\n",
      "  File \"/home/vitoria/Documents/moopt_fairness/fair_classification_modified/linear_clf_pref_fairness.py\", line 185, in fit\n",
      "    assert(f_c.value == True)\n",
      "AssertionError\n"
     ]
    },
    {
     "name": "stdout",
     "output_type": "stream",
     "text": [
      "Assertion failed. Fairness constraints not satisfied.\n",
      "None\n",
      "  [INFO] Starting Fold 3...\n"
     ]
    },
    {
     "name": "stderr",
     "output_type": "stream",
     "text": [
      "Traceback (most recent call last):\n",
      "  File \"/home/vitoria/Documents/moopt_fairness/fair_classification_modified/linear_clf_pref_fairness.py\", line 185, in fit\n",
      "    assert(f_c.value == True)\n",
      "AssertionError\n",
      "/home/vitoria/anaconda3/envs/moofair/lib/python3.8/site-packages/sklearn/utils/validation.py:1107: DataConversionWarning: A column-vector y was passed when a 1d array was expected. Please change the shape of y to (n_samples, ), for example using ravel().\n",
      "  y = column_or_1d(y, warn=True)\n",
      "/home/vitoria/anaconda3/envs/moofair/lib/python3.8/site-packages/sklearn/utils/validation.py:1107: DataConversionWarning: A column-vector y was passed when a 1d array was expected. Please change the shape of y to (n_samples, ), for example using ravel().\n",
      "  y = column_or_1d(y, warn=True)\n"
     ]
    },
    {
     "name": "stdout",
     "output_type": "stream",
     "text": [
      "Assertion failed. Fairness constraints not satisfied.\n",
      "None\n"
     ]
    },
    {
     "name": "stderr",
     "output_type": "stream",
     "text": [
      "Traceback (most recent call last):\n",
      "  File \"/home/vitoria/Documents/moopt_fairness/fair_classification_modified/linear_clf_pref_fairness.py\", line 185, in fit\n",
      "    assert(f_c.value == True)\n",
      "AssertionError\n"
     ]
    },
    {
     "name": "stdout",
     "output_type": "stream",
     "text": [
      "Assertion failed. Fairness constraints not satisfied.\n",
      "None\n",
      "  [INFO] Starting Fold 4...\n"
     ]
    },
    {
     "name": "stderr",
     "output_type": "stream",
     "text": [
      "Traceback (most recent call last):\n",
      "  File \"/home/vitoria/Documents/moopt_fairness/fair_classification_modified/linear_clf_pref_fairness.py\", line 185, in fit\n",
      "    assert(f_c.value == True)\n",
      "AssertionError\n",
      "/home/vitoria/anaconda3/envs/moofair/lib/python3.8/site-packages/sklearn/utils/validation.py:1107: DataConversionWarning: A column-vector y was passed when a 1d array was expected. Please change the shape of y to (n_samples, ), for example using ravel().\n",
      "  y = column_or_1d(y, warn=True)\n",
      "/home/vitoria/anaconda3/envs/moofair/lib/python3.8/site-packages/sklearn/utils/validation.py:1107: DataConversionWarning: A column-vector y was passed when a 1d array was expected. Please change the shape of y to (n_samples, ), for example using ravel().\n",
      "  y = column_or_1d(y, warn=True)\n"
     ]
    },
    {
     "name": "stdout",
     "output_type": "stream",
     "text": [
      "Assertion failed. Fairness constraints not satisfied.\n",
      "None\n"
     ]
    },
    {
     "name": "stderr",
     "output_type": "stream",
     "text": [
      "Traceback (most recent call last):\n",
      "  File \"/home/vitoria/Documents/moopt_fairness/fair_classification_modified/linear_clf_pref_fairness.py\", line 185, in fit\n",
      "    assert(f_c.value == True)\n",
      "AssertionError\n"
     ]
    },
    {
     "name": "stdout",
     "output_type": "stream",
     "text": [
      "Assertion failed. Fairness constraints not satisfied.\n",
      "None\n",
      "  [INFO] Starting Fold 5...\n"
     ]
    },
    {
     "name": "stderr",
     "output_type": "stream",
     "text": [
      "Traceback (most recent call last):\n",
      "  File \"/home/vitoria/Documents/moopt_fairness/fair_classification_modified/linear_clf_pref_fairness.py\", line 185, in fit\n",
      "    assert(f_c.value == True)\n",
      "AssertionError\n",
      "/home/vitoria/anaconda3/envs/moofair/lib/python3.8/site-packages/sklearn/utils/validation.py:1107: DataConversionWarning: A column-vector y was passed when a 1d array was expected. Please change the shape of y to (n_samples, ), for example using ravel().\n",
      "  y = column_or_1d(y, warn=True)\n",
      "/home/vitoria/anaconda3/envs/moofair/lib/python3.8/site-packages/sklearn/utils/validation.py:1107: DataConversionWarning: A column-vector y was passed when a 1d array was expected. Please change the shape of y to (n_samples, ), for example using ravel().\n",
      "  y = column_or_1d(y, warn=True)\n"
     ]
    },
    {
     "name": "stdout",
     "output_type": "stream",
     "text": [
      "Assertion failed. Fairness constraints not satisfied.\n",
      "None\n",
      "Assertion failed. Fairness constraints not satisfied.\n",
      "None\n"
     ]
    },
    {
     "name": "stderr",
     "output_type": "stream",
     "text": [
      "Traceback (most recent call last):\n",
      "  File \"/home/vitoria/Documents/moopt_fairness/fair_classification_modified/linear_clf_pref_fairness.py\", line 185, in fit\n",
      "    assert(f_c.value == True)\n",
      "AssertionError\n",
      "Traceback (most recent call last):\n",
      "  File \"/home/vitoria/Documents/moopt_fairness/fair_classification_modified/linear_clf_pref_fairness.py\", line 185, in fit\n",
      "    assert(f_c.value == True)\n",
      "AssertionError\n",
      "/home/vitoria/anaconda3/envs/moofair/lib/python3.8/site-packages/sklearn/utils/validation.py:1107: DataConversionWarning: A column-vector y was passed when a 1d array was expected. Please change the shape of y to (n_samples, ), for example using ravel().\n",
      "  y = column_or_1d(y, warn=True)\n",
      "/home/vitoria/anaconda3/envs/moofair/lib/python3.8/site-packages/sklearn/utils/validation.py:1107: DataConversionWarning: A column-vector y was passed when a 1d array was expected. Please change the shape of y to (n_samples, ), for example using ravel().\n",
      "  y = column_or_1d(y, warn=True)\n"
     ]
    }
   ],
   "source": [
    "kfold_results = experiment_utils.kfold_methods(X, y, X_ftest, y_ftest, \n",
    "                                                fair_feature, n_folds = 5)"
   ]
  },
  {
   "cell_type": "code",
   "execution_count": null,
   "metadata": {},
   "outputs": [
    {
     "name": "stdout",
     "output_type": "stream",
     "text": [
      "\\begin{tabular}{lrrrrrrr}\n",
      "\\toprule\n",
      "{} &       Acc &  BalancedAcc &   F-score &        EO &        DP &        CV &  SingleClass \\\\\n",
      "Approach &           &              &           &           &           &           &              \\\\\n",
      "\\midrule\n",
      "DemPar   &  0.713333 &     0.505564 &  0.831624 &  0.994096 &  0.987525 &  0.508392 &          0.2 \\\\\n",
      "EqOp     &  0.702000 &     0.503184 &  0.822583 &  0.986512 &  0.979999 &  0.544417 &          0.2 \\\\\n",
      "LogReg   &  0.728667 &     0.544132 &  0.837044 &  0.975500 &  0.914038 &  0.528598 &          0.2 \\\\\n",
      "PrefFair &  0.714000 &     0.532460 &  0.826948 &  0.967039 &  0.936768 &  0.558675 &          0.0 \\\\\n",
      "Reweigh  &  0.708000 &     0.508781 &  0.826568 &  0.966013 &  0.957282 &  0.534220 &          0.2 \\\\\n",
      "\\bottomrule\n",
      "\\end{tabular}\n",
      "\n"
     ]
    },
    {
     "name": "stderr",
     "output_type": "stream",
     "text": [
      "/tmp/ipykernel_399435/1070536690.py:4: FutureWarning: In future versions `DataFrame.to_latex` is expected to utilise the base implementation of `Styler.to_latex` for formatting and rendering. The arguments signature may therefore change. It is recommended instead to use `DataFrame.style.to_latex` which also contains additional functionality.\n",
      "  print(german_results_mean.to_latex())\n"
     ]
    }
   ],
   "source": [
    "german_results_mean = kfold_results.groupby('Approach').mean()\n",
    "\n",
    "#german_results_mean.to_csv('results/exp_comparative/german.csv')\n",
    "print(german_results_mean.to_latex())"
   ]
  },
  {
   "cell_type": "code",
   "execution_count": null,
   "metadata": {},
   "outputs": [
    {
     "data": {
      "text/html": [
       "<div>\n",
       "<style scoped>\n",
       "    .dataframe tbody tr th:only-of-type {\n",
       "        vertical-align: middle;\n",
       "    }\n",
       "\n",
       "    .dataframe tbody tr th {\n",
       "        vertical-align: top;\n",
       "    }\n",
       "\n",
       "    .dataframe thead th {\n",
       "        text-align: right;\n",
       "    }\n",
       "</style>\n",
       "<table border=\"1\" class=\"dataframe\">\n",
       "  <thead>\n",
       "    <tr style=\"text-align: right;\">\n",
       "      <th></th>\n",
       "      <th>Acc</th>\n",
       "      <th>BalancedAcc</th>\n",
       "      <th>F-score</th>\n",
       "      <th>EO</th>\n",
       "      <th>DP</th>\n",
       "      <th>CV</th>\n",
       "      <th>SingleClass</th>\n",
       "    </tr>\n",
       "    <tr>\n",
       "      <th>Approach</th>\n",
       "      <th></th>\n",
       "      <th></th>\n",
       "      <th></th>\n",
       "      <th></th>\n",
       "      <th></th>\n",
       "      <th></th>\n",
       "      <th></th>\n",
       "    </tr>\n",
       "  </thead>\n",
       "  <tbody>\n",
       "    <tr>\n",
       "      <th>DemPar</th>\n",
       "      <td>0.713333</td>\n",
       "      <td>0.505564</td>\n",
       "      <td>0.831624</td>\n",
       "      <td>0.994096</td>\n",
       "      <td>0.987525</td>\n",
       "      <td>0.508392</td>\n",
       "      <td>0.2</td>\n",
       "    </tr>\n",
       "    <tr>\n",
       "      <th>EqOp</th>\n",
       "      <td>0.702000</td>\n",
       "      <td>0.503184</td>\n",
       "      <td>0.822583</td>\n",
       "      <td>0.986512</td>\n",
       "      <td>0.979999</td>\n",
       "      <td>0.544417</td>\n",
       "      <td>0.2</td>\n",
       "    </tr>\n",
       "    <tr>\n",
       "      <th>LogReg</th>\n",
       "      <td>0.728667</td>\n",
       "      <td>0.544132</td>\n",
       "      <td>0.837044</td>\n",
       "      <td>0.975500</td>\n",
       "      <td>0.914038</td>\n",
       "      <td>0.528598</td>\n",
       "      <td>0.2</td>\n",
       "    </tr>\n",
       "    <tr>\n",
       "      <th>PrefFair</th>\n",
       "      <td>0.714000</td>\n",
       "      <td>0.532460</td>\n",
       "      <td>0.826948</td>\n",
       "      <td>0.967039</td>\n",
       "      <td>0.936768</td>\n",
       "      <td>0.558675</td>\n",
       "      <td>0.0</td>\n",
       "    </tr>\n",
       "    <tr>\n",
       "      <th>Reweigh</th>\n",
       "      <td>0.708000</td>\n",
       "      <td>0.508781</td>\n",
       "      <td>0.826568</td>\n",
       "      <td>0.966013</td>\n",
       "      <td>0.957282</td>\n",
       "      <td>0.534220</td>\n",
       "      <td>0.2</td>\n",
       "    </tr>\n",
       "  </tbody>\n",
       "</table>\n",
       "</div>"
      ],
      "text/plain": [
       "               Acc  BalancedAcc   F-score        EO        DP        CV  \\\n",
       "Approach                                                                  \n",
       "DemPar    0.713333     0.505564  0.831624  0.994096  0.987525  0.508392   \n",
       "EqOp      0.702000     0.503184  0.822583  0.986512  0.979999  0.544417   \n",
       "LogReg    0.728667     0.544132  0.837044  0.975500  0.914038  0.528598   \n",
       "PrefFair  0.714000     0.532460  0.826948  0.967039  0.936768  0.558675   \n",
       "Reweigh   0.708000     0.508781  0.826568  0.966013  0.957282  0.534220   \n",
       "\n",
       "          SingleClass  \n",
       "Approach               \n",
       "DemPar            0.2  \n",
       "EqOp              0.2  \n",
       "LogReg            0.2  \n",
       "PrefFair          0.0  \n",
       "Reweigh           0.2  "
      ]
     },
     "execution_count": 9,
     "metadata": {},
     "output_type": "execute_result"
    }
   ],
   "source": [
    "german_results_mean"
   ]
  },
  {
   "cell_type": "markdown",
   "metadata": {},
   "source": [
    "# Adult Dataset"
   ]
  },
  {
   "cell_type": "code",
   "execution_count": null,
   "metadata": {},
   "outputs": [],
   "source": [
    "dataset = 'adult'\n",
    "fair_feature = 'race'\n",
    "\n",
    "X = pd.read_pickle(\"data/\"+dataset+\"_\"+fair_feature+\"/X.pickle\")\n",
    "with open(\"data/\"+dataset+\"_\"+fair_feature+\"/y.pickle\", 'rb') as f:\n",
    "    y = pickle.load(f)\n",
    "\n",
    "X_ftest = pd.read_pickle(\"data/\"+dataset+\"_\"+fair_feature+\"/X_ftest.pickle\")\n",
    "with open(\"data/\"+dataset+\"_\"+fair_feature+\"/y_ftest.pickle\", 'rb') as f:\n",
    "    y_ftest = pickle.load(f)"
   ]
  },
  {
   "cell_type": "code",
   "execution_count": null,
   "metadata": {},
   "outputs": [
    {
     "name": "stdout",
     "output_type": "stream",
     "text": [
      "  [INFO] Starting Fold 1...\n",
      "Assertion failed. Fairness constraints not satisfied.\n",
      "None\n"
     ]
    },
    {
     "name": "stderr",
     "output_type": "stream",
     "text": [
      "Traceback (most recent call last):\n",
      "  File \"/home/vitoria/Documents/moopt_fairness/fair_classification_modified/linear_clf_pref_fairness.py\", line 185, in fit\n",
      "    assert(f_c.value == True)\n",
      "AssertionError\n"
     ]
    },
    {
     "name": "stdout",
     "output_type": "stream",
     "text": [
      "Assertion failed. Fairness constraints not satisfied.\n",
      "None\n"
     ]
    },
    {
     "name": "stderr",
     "output_type": "stream",
     "text": [
      "Traceback (most recent call last):\n",
      "  File \"/home/vitoria/Documents/moopt_fairness/fair_classification_modified/linear_clf_pref_fairness.py\", line 185, in fit\n",
      "    assert(f_c.value == True)\n",
      "AssertionError\n",
      "/home/vitoria/anaconda3/envs/moofair/lib/python3.8/site-packages/sklearn/utils/validation.py:1107: DataConversionWarning: A column-vector y was passed when a 1d array was expected. Please change the shape of y to (n_samples, ), for example using ravel().\n",
      "  y = column_or_1d(y, warn=True)\n",
      "/home/vitoria/anaconda3/envs/moofair/lib/python3.8/site-packages/sklearn/utils/validation.py:1107: DataConversionWarning: A column-vector y was passed when a 1d array was expected. Please change the shape of y to (n_samples, ), for example using ravel().\n",
      "  y = column_or_1d(y, warn=True)\n"
     ]
    },
    {
     "name": "stdout",
     "output_type": "stream",
     "text": [
      "  [INFO] Starting Fold 2...\n",
      "Assertion failed. Fairness constraints not satisfied.\n",
      "None\n"
     ]
    },
    {
     "name": "stderr",
     "output_type": "stream",
     "text": [
      "Traceback (most recent call last):\n",
      "  File \"/home/vitoria/Documents/moopt_fairness/fair_classification_modified/linear_clf_pref_fairness.py\", line 185, in fit\n",
      "    assert(f_c.value == True)\n",
      "AssertionError\n"
     ]
    },
    {
     "name": "stdout",
     "output_type": "stream",
     "text": [
      "Assertion failed. Fairness constraints not satisfied.\n",
      "None\n"
     ]
    },
    {
     "name": "stderr",
     "output_type": "stream",
     "text": [
      "Traceback (most recent call last):\n",
      "  File \"/home/vitoria/Documents/moopt_fairness/fair_classification_modified/linear_clf_pref_fairness.py\", line 185, in fit\n",
      "    assert(f_c.value == True)\n",
      "AssertionError\n",
      "/home/vitoria/anaconda3/envs/moofair/lib/python3.8/site-packages/sklearn/utils/validation.py:1107: DataConversionWarning: A column-vector y was passed when a 1d array was expected. Please change the shape of y to (n_samples, ), for example using ravel().\n",
      "  y = column_or_1d(y, warn=True)\n",
      "/home/vitoria/anaconda3/envs/moofair/lib/python3.8/site-packages/sklearn/utils/validation.py:1107: DataConversionWarning: A column-vector y was passed when a 1d array was expected. Please change the shape of y to (n_samples, ), for example using ravel().\n",
      "  y = column_or_1d(y, warn=True)\n"
     ]
    },
    {
     "name": "stdout",
     "output_type": "stream",
     "text": [
      "  [INFO] Starting Fold 3...\n",
      "Assertion failed. Fairness constraints not satisfied.\n",
      "None\n"
     ]
    },
    {
     "name": "stderr",
     "output_type": "stream",
     "text": [
      "Traceback (most recent call last):\n",
      "  File \"/home/vitoria/Documents/moopt_fairness/fair_classification_modified/linear_clf_pref_fairness.py\", line 185, in fit\n",
      "    assert(f_c.value == True)\n",
      "AssertionError\n"
     ]
    },
    {
     "name": "stdout",
     "output_type": "stream",
     "text": [
      "Assertion failed. Fairness constraints not satisfied.\n",
      "None\n"
     ]
    },
    {
     "name": "stderr",
     "output_type": "stream",
     "text": [
      "Traceback (most recent call last):\n",
      "  File \"/home/vitoria/Documents/moopt_fairness/fair_classification_modified/linear_clf_pref_fairness.py\", line 185, in fit\n",
      "    assert(f_c.value == True)\n",
      "AssertionError\n",
      "/home/vitoria/anaconda3/envs/moofair/lib/python3.8/site-packages/sklearn/utils/validation.py:1107: DataConversionWarning: A column-vector y was passed when a 1d array was expected. Please change the shape of y to (n_samples, ), for example using ravel().\n",
      "  y = column_or_1d(y, warn=True)\n",
      "/home/vitoria/anaconda3/envs/moofair/lib/python3.8/site-packages/sklearn/utils/validation.py:1107: DataConversionWarning: A column-vector y was passed when a 1d array was expected. Please change the shape of y to (n_samples, ), for example using ravel().\n",
      "  y = column_or_1d(y, warn=True)\n"
     ]
    },
    {
     "name": "stdout",
     "output_type": "stream",
     "text": [
      "  [INFO] Starting Fold 4...\n",
      "Assertion failed. Fairness constraints not satisfied.\n",
      "None\n"
     ]
    },
    {
     "name": "stderr",
     "output_type": "stream",
     "text": [
      "Traceback (most recent call last):\n",
      "  File \"/home/vitoria/Documents/moopt_fairness/fair_classification_modified/linear_clf_pref_fairness.py\", line 185, in fit\n",
      "    assert(f_c.value == True)\n",
      "AssertionError\n"
     ]
    },
    {
     "name": "stdout",
     "output_type": "stream",
     "text": [
      "Assertion failed. Fairness constraints not satisfied.\n",
      "None\n"
     ]
    },
    {
     "name": "stderr",
     "output_type": "stream",
     "text": [
      "Traceback (most recent call last):\n",
      "  File \"/home/vitoria/Documents/moopt_fairness/fair_classification_modified/linear_clf_pref_fairness.py\", line 185, in fit\n",
      "    assert(f_c.value == True)\n",
      "AssertionError\n",
      "/home/vitoria/anaconda3/envs/moofair/lib/python3.8/site-packages/sklearn/utils/validation.py:1107: DataConversionWarning: A column-vector y was passed when a 1d array was expected. Please change the shape of y to (n_samples, ), for example using ravel().\n",
      "  y = column_or_1d(y, warn=True)\n",
      "/home/vitoria/anaconda3/envs/moofair/lib/python3.8/site-packages/sklearn/utils/validation.py:1107: DataConversionWarning: A column-vector y was passed when a 1d array was expected. Please change the shape of y to (n_samples, ), for example using ravel().\n",
      "  y = column_or_1d(y, warn=True)\n"
     ]
    },
    {
     "name": "stdout",
     "output_type": "stream",
     "text": [
      "  [INFO] Starting Fold 5...\n",
      "Assertion failed. Fairness constraints not satisfied.\n",
      "None\n"
     ]
    },
    {
     "name": "stderr",
     "output_type": "stream",
     "text": [
      "Traceback (most recent call last):\n",
      "  File \"/home/vitoria/Documents/moopt_fairness/fair_classification_modified/linear_clf_pref_fairness.py\", line 185, in fit\n",
      "    assert(f_c.value == True)\n",
      "AssertionError\n",
      "Traceback (most recent call last):\n",
      "  File \"/home/vitoria/Documents/moopt_fairness/fair_classification_modified/linear_clf_pref_fairness.py\", line 172, in fit\n",
      "    prob.solve(method='dccp', tau=tau, mu=mu, tau_max=1e10,\n",
      "  File \"/home/vitoria/anaconda3/envs/moofair/lib/python3.8/site-packages/cvxpy/problems/problem.py\", line 481, in solve\n",
      "    return solve_func(self, *args, **kwargs)\n",
      "  File \"/home/vitoria/anaconda3/envs/moofair/lib/python3.8/site-packages/dccp/problem.py\", line 54, in dccp\n",
      "    result_temp = iter_dccp(\n",
      "  File \"/home/vitoria/anaconda3/envs/moofair/lib/python3.8/site-packages/dccp/problem.py\", line 279, in iter_dccp\n",
      "    prob_new_cost_value = prob_new.solve(**kwargs)\n",
      "  File \"/home/vitoria/anaconda3/envs/moofair/lib/python3.8/site-packages/cvxpy/problems/problem.py\", line 481, in solve\n",
      "    return solve_func(self, *args, **kwargs)\n",
      "  File \"/home/vitoria/anaconda3/envs/moofair/lib/python3.8/site-packages/cvxpy/problems/problem.py\", line 1020, in _solve\n",
      "    self.unpack_results(solution, solving_chain, inverse_data)\n",
      "  File \"/home/vitoria/anaconda3/envs/moofair/lib/python3.8/site-packages/cvxpy/problems/problem.py\", line 1345, in unpack_results\n",
      "    raise error.SolverError(\n",
      "cvxpy.error.SolverError: Solver 'ECOS' failed. Try another solver, or solve with verbose=True for more information.\n",
      "/home/vitoria/anaconda3/envs/moofair/lib/python3.8/site-packages/sklearn/utils/validation.py:1107: DataConversionWarning: A column-vector y was passed when a 1d array was expected. Please change the shape of y to (n_samples, ), for example using ravel().\n",
      "  y = column_or_1d(y, warn=True)\n",
      "/home/vitoria/anaconda3/envs/moofair/lib/python3.8/site-packages/sklearn/utils/validation.py:1107: DataConversionWarning: A column-vector y was passed when a 1d array was expected. Please change the shape of y to (n_samples, ), for example using ravel().\n",
      "  y = column_or_1d(y, warn=True)\n"
     ]
    }
   ],
   "source": [
    "kfold_results = experiment_utils.kfold_methods(X, y, X_ftest, y_ftest, \n",
    "                                                fair_feature, n_folds = 5)"
   ]
  },
  {
   "cell_type": "code",
   "execution_count": null,
   "metadata": {},
   "outputs": [],
   "source": [
    "adult_results_mean = kfold_results.groupby('Approach').mean()"
   ]
  },
  {
   "cell_type": "code",
   "execution_count": null,
   "metadata": {},
   "outputs": [
    {
     "data": {
      "text/html": [
       "<div>\n",
       "<style scoped>\n",
       "    .dataframe tbody tr th:only-of-type {\n",
       "        vertical-align: middle;\n",
       "    }\n",
       "\n",
       "    .dataframe tbody tr th {\n",
       "        vertical-align: top;\n",
       "    }\n",
       "\n",
       "    .dataframe thead th {\n",
       "        text-align: right;\n",
       "    }\n",
       "</style>\n",
       "<table border=\"1\" class=\"dataframe\">\n",
       "  <thead>\n",
       "    <tr style=\"text-align: right;\">\n",
       "      <th></th>\n",
       "      <th>Acc</th>\n",
       "      <th>BalancedAcc</th>\n",
       "      <th>F-score</th>\n",
       "      <th>EO</th>\n",
       "      <th>DP</th>\n",
       "      <th>CV</th>\n",
       "      <th>SingleClass</th>\n",
       "    </tr>\n",
       "    <tr>\n",
       "      <th>Approach</th>\n",
       "      <th></th>\n",
       "      <th></th>\n",
       "      <th></th>\n",
       "      <th></th>\n",
       "      <th></th>\n",
       "      <th></th>\n",
       "      <th></th>\n",
       "    </tr>\n",
       "  </thead>\n",
       "  <tbody>\n",
       "    <tr>\n",
       "      <th>DemPar</th>\n",
       "      <td>0.802075</td>\n",
       "      <td>0.664947</td>\n",
       "      <td>0.494149</td>\n",
       "      <td>0.970291</td>\n",
       "      <td>0.686532</td>\n",
       "      <td>0.678627</td>\n",
       "      <td>0.0</td>\n",
       "    </tr>\n",
       "    <tr>\n",
       "      <th>EqOp</th>\n",
       "      <td>0.801338</td>\n",
       "      <td>0.673378</td>\n",
       "      <td>0.508985</td>\n",
       "      <td>0.993728</td>\n",
       "      <td>0.668806</td>\n",
       "      <td>0.674040</td>\n",
       "      <td>0.0</td>\n",
       "    </tr>\n",
       "    <tr>\n",
       "      <th>LogReg</th>\n",
       "      <td>0.802266</td>\n",
       "      <td>0.662567</td>\n",
       "      <td>0.489679</td>\n",
       "      <td>0.706662</td>\n",
       "      <td>0.434381</td>\n",
       "      <td>0.679796</td>\n",
       "      <td>0.0</td>\n",
       "    </tr>\n",
       "    <tr>\n",
       "      <th>PrefFair</th>\n",
       "      <td>0.787170</td>\n",
       "      <td>0.662553</td>\n",
       "      <td>0.490606</td>\n",
       "      <td>0.822334</td>\n",
       "      <td>0.717100</td>\n",
       "      <td>0.687046</td>\n",
       "      <td>0.0</td>\n",
       "    </tr>\n",
       "    <tr>\n",
       "      <th>Reweigh</th>\n",
       "      <td>0.801761</td>\n",
       "      <td>0.664300</td>\n",
       "      <td>0.492936</td>\n",
       "      <td>0.940429</td>\n",
       "      <td>0.722024</td>\n",
       "      <td>0.679320</td>\n",
       "      <td>0.0</td>\n",
       "    </tr>\n",
       "  </tbody>\n",
       "</table>\n",
       "</div>"
      ],
      "text/plain": [
       "               Acc  BalancedAcc   F-score        EO        DP        CV  \\\n",
       "Approach                                                                  \n",
       "DemPar    0.802075     0.664947  0.494149  0.970291  0.686532  0.678627   \n",
       "EqOp      0.801338     0.673378  0.508985  0.993728  0.668806  0.674040   \n",
       "LogReg    0.802266     0.662567  0.489679  0.706662  0.434381  0.679796   \n",
       "PrefFair  0.787170     0.662553  0.490606  0.822334  0.717100  0.687046   \n",
       "Reweigh   0.801761     0.664300  0.492936  0.940429  0.722024  0.679320   \n",
       "\n",
       "          SingleClass  \n",
       "Approach               \n",
       "DemPar            0.0  \n",
       "EqOp              0.0  \n",
       "LogReg            0.0  \n",
       "PrefFair          0.0  \n",
       "Reweigh           0.0  "
      ]
     },
     "execution_count": 13,
     "metadata": {},
     "output_type": "execute_result"
    }
   ],
   "source": [
    "adult_results_mean"
   ]
  },
  {
   "cell_type": "code",
   "execution_count": null,
   "metadata": {},
   "outputs": [
    {
     "name": "stdout",
     "output_type": "stream",
     "text": [
      "\\begin{tabular}{lrrrrrr}\n",
      "\\toprule\n",
      "{} &       Acc &  BalancedAcc &   F-score &        EO &        DP &        CV \\\\\n",
      "Approach &           &              &           &           &           &           \\\\\n",
      "\\midrule\n",
      "AdaFair  &  0.722132 &     0.740298 &  0.575597 &  0.960490 &  0.790367 &  0.602209 \\\\\n",
      "DemPar   &  0.802075 &     0.664947 &  0.494149 &  0.970291 &  0.686532 &  0.678627 \\\\\n",
      "EqOp     &  0.801338 &     0.673378 &  0.508985 &  0.993728 &  0.668806 &  0.674040 \\\\\n",
      "LogReg   &  0.802266 &     0.662567 &  0.489679 &  0.706662 &  0.434381 &  0.679796 \\\\\n",
      "MAMOFair &  0.802088 &     0.662603 &  0.489796 &  0.951810 &  0.684553 &  0.869156 \\\\\n",
      "Minimax  &  0.802279 &     0.663035 &  0.490528 &  0.710268 &  0.431331 &  0.679502 \\\\\n",
      "MooAcep  &  0.736109 &     0.683427 &  0.516896 &  0.652220 &  0.493160 &  0.670816 \\\\\n",
      "MooEO    &  0.683041 &     0.723644 &  0.554899 &  0.922193 &  0.775047 &  0.587552 \\\\\n",
      "MooErr   &  0.802184 &     0.663871 &  0.492161 &  0.961276 &  0.676225 &  0.679149 \\\\\n",
      "Reweigh  &  0.801761 &     0.664300 &  0.492936 &  0.940429 &  0.722024 &  0.679320 \\\\\n",
      "\\bottomrule\n",
      "\\end{tabular}\n",
      "\n"
     ]
    }
   ],
   "source": [
    "adult_results_mean.to_csv('results/exp_comparative/adult.csv')\n",
    "print(adult_results_mean.to_latex())"
   ]
  },
  {
   "cell_type": "code",
   "execution_count": null,
   "metadata": {},
   "outputs": [],
   "source": []
  }
 ],
 "metadata": {
  "interpreter": {
   "hash": "e306147c6d661788c8c7e10a3f9de63942ee6c55bf429dce4c203394b1872c17"
  },
  "kernelspec": {
   "display_name": "Python 3 (ipykernel)",
   "language": "python",
   "name": "python3"
  },
  "language_info": {
   "codemirror_mode": {
    "name": "ipython",
    "version": 3
   },
   "file_extension": ".py",
   "mimetype": "text/x-python",
   "name": "python",
   "nbconvert_exporter": "python",
   "pygments_lexer": "ipython3",
   "version": "3.8.13"
  }
 },
 "nbformat": 4,
 "nbformat_minor": 2
}
