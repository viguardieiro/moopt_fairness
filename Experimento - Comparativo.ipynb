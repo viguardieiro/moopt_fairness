{
 "cells": [
  {
   "cell_type": "code",
   "execution_count": null,
   "metadata": {},
   "outputs": [],
   "source": [
    "import experiment_utils\n",
    "import pandas as pd\n",
    "import pickle\n",
    "from pathlib import Path"
   ]
  },
  {
   "cell_type": "markdown",
   "metadata": {},
   "source": [
    "# COMPAS Dataset"
   ]
  },
  {
   "cell_type": "code",
   "execution_count": null,
   "metadata": {},
   "outputs": [],
   "source": [
    "dataset = 'compas'\n",
    "fair_feature = 'race'\n",
    "\n",
    "X = pd.read_pickle(\"data/\"+dataset+\"_\"+fair_feature+\"/X.pickle\")\n",
    "with open(\"data/\"+dataset+\"_\"+fair_feature+\"/y.pickle\", 'rb') as f:\n",
    "    y = pickle.load(f)\n",
    "\n",
    "X_ftest = pd.read_pickle(\"data/\"+dataset+\"_\"+fair_feature+\"/X_ftest.pickle\")\n",
    "with open(\"data/\"+dataset+\"_\"+fair_feature+\"/y_ftest.pickle\", 'rb') as f:\n",
    "    y_ftest = pickle.load(f)"
   ]
  },
  {
   "cell_type": "code",
   "execution_count": null,
   "metadata": {},
   "outputs": [],
   "source": [
    "kfold_results_compas = experiment_utils.kfold_methods(X, y, X_ftest, y_ftest, \n",
    "                                                        fair_feature, n_folds = 5)"
   ]
  },
  {
   "cell_type": "code",
   "execution_count": null,
   "metadata": {},
   "outputs": [],
   "source": [
    "results_mean_compas = kfold_results_compas.groupby('Approach').mean()\n",
    "Path(\"results/exp_comparative\").mkdir(parents=True, exist_ok=True)\n",
    "results_mean_compas.to_csv('results/exp_comparative/compas.csv')\n",
    "print(results_mean_compas.to_latex())"
   ]
  },
  {
   "cell_type": "code",
   "execution_count": null,
   "metadata": {},
   "outputs": [],
   "source": [
    "results_mean_compas"
   ]
  },
  {
   "cell_type": "markdown",
   "metadata": {},
   "source": [
    "# German Dataset"
   ]
  },
  {
   "cell_type": "code",
   "execution_count": null,
   "metadata": {},
   "outputs": [],
   "source": [
    "dataset = 'german'\n",
    "fair_feature = 'sex'\n",
    "\n",
    "X = pd.read_pickle(\"data/\"+dataset+\"_\"+fair_feature+\"/X.pickle\")\n",
    "with open(\"data/\"+dataset+\"_\"+fair_feature+\"/y.pickle\", 'rb') as f:\n",
    "    y = pickle.load(f)\n",
    "\n",
    "X_ftest = pd.read_pickle(\"data/\"+dataset+\"_\"+fair_feature+\"/X_ftest.pickle\")\n",
    "with open(\"data/\"+dataset+\"_\"+fair_feature+\"/y_ftest.pickle\", 'rb') as f:\n",
    "    y_ftest = pickle.load(f)"
   ]
  },
  {
   "cell_type": "code",
   "execution_count": null,
   "metadata": {},
   "outputs": [],
   "source": [
    "kfold_results = experiment_utils.kfold_methods(X, y, X_ftest, y_ftest, \n",
    "                                                fair_feature, n_folds = 5, remove_trivial=True)"
   ]
  },
  {
   "cell_type": "code",
   "execution_count": null,
   "metadata": {},
   "outputs": [],
   "source": [
    "german_results_mean = kfold_results.groupby('Approach').mean()\n",
    "\n",
    "german_results_mean.to_csv('results/exp_comparative/german.csv')\n",
    "print(german_results_mean.to_latex())"
   ]
  },
  {
   "cell_type": "code",
   "execution_count": null,
   "metadata": {},
   "outputs": [],
   "source": [
    "german_results_mean"
   ]
  },
  {
   "cell_type": "markdown",
   "metadata": {},
   "source": [
    "# Adult Dataset"
   ]
  },
  {
   "cell_type": "code",
   "execution_count": null,
   "metadata": {},
   "outputs": [],
   "source": [
    "dataset = 'adult'\n",
    "fair_feature = 'race'\n",
    "\n",
    "X = pd.read_pickle(\"data/\"+dataset+\"_\"+fair_feature+\"/X.pickle\")\n",
    "with open(\"data/\"+dataset+\"_\"+fair_feature+\"/y.pickle\", 'rb') as f:\n",
    "    y = pickle.load(f)\n",
    "\n",
    "X_ftest = pd.read_pickle(\"data/\"+dataset+\"_\"+fair_feature+\"/X_ftest.pickle\")\n",
    "with open(\"data/\"+dataset+\"_\"+fair_feature+\"/y_ftest.pickle\", 'rb') as f:\n",
    "    y_ftest = pickle.load(f)"
   ]
  },
  {
   "cell_type": "code",
   "execution_count": null,
   "metadata": {},
   "outputs": [],
   "source": [
    "kfold_results = experiment_utils.kfold_methods(X, y, X_ftest, y_ftest, \n",
    "                                                fair_feature, n_folds = 5)"
   ]
  },
  {
   "cell_type": "code",
   "execution_count": null,
   "metadata": {},
   "outputs": [],
   "source": [
    "adult_results_mean = kfold_results.groupby('Approach').mean()"
   ]
  },
  {
   "cell_type": "code",
   "execution_count": null,
   "metadata": {},
   "outputs": [],
   "source": [
    "adult_results_mean"
   ]
  },
  {
   "cell_type": "code",
   "execution_count": null,
   "metadata": {},
   "outputs": [],
   "source": [
    "adult_results_mean.to_csv('results/exp_comparative/adult.csv')\n",
    "print(adult_results_mean.to_latex())"
   ]
  },
  {
   "cell_type": "code",
   "execution_count": null,
   "metadata": {},
   "outputs": [],
   "source": []
  }
 ],
 "metadata": {
  "interpreter": {
   "hash": "e306147c6d661788c8c7e10a3f9de63942ee6c55bf429dce4c203394b1872c17"
  },
  "kernelspec": {
   "display_name": "Python 3 (ipykernel)",
   "language": "python",
   "name": "python3"
  },
  "language_info": {
   "codemirror_mode": {
    "name": "ipython",
    "version": 3
   },
   "file_extension": ".py",
   "mimetype": "text/x-python",
   "name": "python",
   "nbconvert_exporter": "python",
   "pygments_lexer": "ipython3",
   "version": "3.8.13"
  }
 },
 "nbformat": 4,
 "nbformat_minor": 2
}
