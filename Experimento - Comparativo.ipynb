{
 "metadata": {
  "language_info": {
   "codemirror_mode": {
    "name": "ipython",
    "version": 3
   },
   "file_extension": ".py",
   "mimetype": "text/x-python",
   "name": "python",
   "nbconvert_exporter": "python",
   "pygments_lexer": "ipython3",
   "version": "3.6.12"
  },
  "orig_nbformat": 2,
  "kernelspec": {
   "name": "python3",
   "display_name": "Python 3.6.12 64-bit ('datascience': conda)",
   "metadata": {
    "interpreter": {
     "hash": "f264a32b32380da82a2bb7455eecf43fb924e99a010a561a86589261e4c6bf1b"
    }
   }
  }
 },
 "nbformat": 4,
 "nbformat_minor": 2,
 "cells": [
  {
   "cell_type": "code",
   "execution_count": 1,
   "metadata": {},
   "outputs": [],
   "source": [
    "import pandas as pd\n",
    "import math\n",
    "import random\n",
    "import numpy as np\n",
    "\n",
    "from sklearn import preprocessing\n",
    "from sklearn.model_selection import train_test_split\n",
    "from sklearn.linear_model import LogisticRegression\n",
    "from sklego.metrics import equal_opportunity_score\n",
    "from sklego.metrics import p_percent_score\n",
    "from sklearn.metrics import log_loss, accuracy_score\n",
    "from sklearn.utils.extmath import squared_norm\n",
    "import optuna, sklearn, sklearn.datasets\n",
    "\n",
    "from sklego.linear_model import DemographicParityClassifier\n",
    "from sklego.linear_model import EqualOpportunityClassifier\n",
    "from sklearn.linear_model import LogisticRegression\n",
    "\n",
    "from moopt.scalarization_interface import scalar_interface, single_interface, w_interface\n",
    "from moopt import monise\n",
    "\n",
    "from fair_models import coefficient_of_variation, MOOLogisticRegression, FindCLogisticRegression, FindCCLogisticRegression\n",
    "from fair_models import calc_reweight\n",
    "from fair_models import FairScalarization, EqualScalarization\n",
    "from fair_models import SimpleVoting\n",
    "\n",
    "import plotly\n",
    "import plotly.graph_objects as go\n",
    "import matplotlib.pyplot as plt\n",
    "\n",
    "import sys\n",
    "sys.path.append(\"./MMFP/\")\n",
    "from MMPF.MinimaxParetoFair.MMPF_trainer import SKLearn_Weighted_LLR, APSTAR"
   ]
  },
  {
   "cell_type": "code",
   "execution_count": 2,
   "metadata": {},
   "outputs": [],
   "source": [
    "def evaluate_model_test(model__):\n",
    "    metrics_value = {}\n",
    "\n",
    "    metrics_value[\"Acc\"] = accuracy_score(y_test, model__.predict(X_test))\n",
    "    metrics_value[\"EO\"] = equal_opportunity_score(sensitive_column=fair_feature)(model__, X_test, y_test)\n",
    "    metrics_value[\"DP\"] = p_percent_score(sensitive_column=fair_feature)(model__,X_test)\n",
    "    metrics_value[\"CV\"] = coefficient_of_variation(model__, X_test, y_test)\n",
    "\n",
    "    print(\"Accuracy: \", metrics_value[\"Acc\"])\n",
    "    print(\"Equal Opportunity: \", metrics_value[\"EO\"])\n",
    "    print(\"Demographic Parity: \", metrics_value[\"DP\"])\n",
    "    print(\"Coefficient of Variation: \", metrics_value[\"CV\"])\n",
    "\n",
    "    return metrics_value"
   ]
  },
  {
   "cell_type": "code",
   "execution_count": 3,
   "metadata": {},
   "outputs": [],
   "source": [
    "hist_color = {'Minimax': '#a65628', 'LogReg':'#f781bf', 'Reweight':'#4daf4a', \n",
    "                'ParDem': '#984ea3', 'EqOp': '#ff7f00', 'MOOErro': '#377eb8','MOOAcep': '#e41a1c'}\n",
    "line_color = {'Minimax': '#c9997e', 'LogReg':'#f781bf', 'Reweight':'#94cf92', \n",
    "                'ParDem': '#c194c7', 'EqOp': '#ffb266', 'MOOErro': '#87b1d4','MOOAcep': '#f18c8d'}"
   ]
  },
  {
   "source": [
    "# 1) Dataset"
   ],
   "cell_type": "markdown",
   "metadata": {}
  },
  {
   "cell_type": "code",
   "execution_count": 4,
   "metadata": {},
   "outputs": [],
   "source": [
    "data = pd.read_csv(\"Datasets - Limpos/compas_onerace.csv\")\n",
    "fair_feature = \"not_white\"\n",
    "pred_feature = \"Two_yr_Recidivism\""
   ]
  },
  {
   "cell_type": "code",
   "execution_count": 5,
   "metadata": {},
   "outputs": [
    {
     "output_type": "stream",
     "name": "stdout",
     "text": [
      "Random state:  861\n"
     ]
    }
   ],
   "source": [
    "categories_fair_class = []\n",
    "\n",
    "for index, row in data.iterrows():\n",
    "    if row[pred_feature] == -1:\n",
    "        categories_fair_class.append(row[fair_feature])\n",
    "    else:\n",
    "        categories_fair_class.append(row[fair_feature]+2)\n",
    "\n",
    "random_gen = random.randint(0, 1000)\n",
    "print(\"Random state: \", random_gen)\n",
    "\n",
    "X = data.drop([pred_feature], axis=1)\n",
    "y = data[pred_feature]\n",
    "\n",
    "X_tv, X_test, y_tv, y_test = train_test_split(X, y, test_size=int(data.shape[0]*0.2),stratify=categories_fair_class,\n",
    "                                             random_state=random_gen)\n",
    "\n",
    "ads = [categories_fair_class[i] for i in range(data.shape[0]) if i in X_tv.index.tolist()]\n",
    "X_train, X_val, y_train, y_val = train_test_split(X_tv, y_tv, test_size=int(data.shape[0]*0.2),\n",
    "                                                  stratify=ads, random_state=random_gen)"
   ]
  },
  {
   "source": [
    "# 2) Test approaches"
   ],
   "cell_type": "markdown",
   "metadata": {}
  },
  {
   "cell_type": "code",
   "execution_count": 6,
   "metadata": {},
   "outputs": [],
   "source": [
    "models_metrics = []"
   ]
  },
  {
   "source": [
    "## 2.1) Logistic Regression"
   ],
   "cell_type": "markdown",
   "metadata": {}
  },
  {
   "cell_type": "code",
   "execution_count": 7,
   "metadata": {},
   "outputs": [
    {
     "output_type": "stream",
     "name": "stdout",
     "text": [
      "Accuracy:  0.6750405186385737\nEqual Opportunity:  0.6336571825121443\nDemographic Parity:  0.5818428602276582\nCoefficient of Variation:  0.8449046510875114\n"
     ]
    }
   ],
   "source": [
    "# Train\n",
    "logreg_model = LogisticRegression().fit(X_train, y_train)\n",
    "\n",
    "# Evaluate\n",
    "logreg_metrics = evaluate_model_test(logreg_model)\n",
    "\n",
    "# Save values\n",
    "logreg_metrics['Approach'] = 'LogReg'\n",
    "models_metrics.append(logreg_metrics)"
   ]
  },
  {
   "source": [
    "## 2.2) Reweighting"
   ],
   "cell_type": "markdown",
   "metadata": {}
  },
  {
   "cell_type": "code",
   "execution_count": 8,
   "metadata": {},
   "outputs": [
    {
     "output_type": "stream",
     "name": "stdout",
     "text": [
      "Accuracy:  0.6701782820097245\nEqual Opportunity:  0.8377377008955956\nDemographic Parity:  0.8253095184384082\nCoefficient of Variation:  0.8450016349041191\n"
     ]
    }
   ],
   "source": [
    "# Train\n",
    "sample_weight = calc_reweight(X_train, y_train, fair_feature)\n",
    "reweigh_model = LogisticRegression().fit(X_train, y_train,sample_weight=sample_weight)\n",
    "\n",
    "# Evaluate\n",
    "reweigh_metrics = evaluate_model_test(reweigh_model)\n",
    "\n",
    "# Save values\n",
    "reweigh_metrics['Approach'] = 'Reweigh'\n",
    "models_metrics.append(reweigh_metrics)"
   ]
  },
  {
   "source": [
    "## 2.3) MiniMax\n",
    "\n",
    "- Paper: http://proceedings.mlr.press/v119/martinez20a.html\n",
    "- Code: https://github.com/natalialmg/MMPF"
   ],
   "cell_type": "markdown",
   "metadata": {}
  },
  {
   "cell_type": "code",
   "execution_count": 9,
   "metadata": {},
   "outputs": [
    {
     "output_type": "stream",
     "name": "stdout",
     "text": [
      "patience counter: 199 total iterations: 201\n-----------------------------------------\nAccuracy:  0.6742301458670988\nEqual Opportunity:  0.6268663647973992\nDemographic Parity:  0.5798391247992162\nCoefficient of Variation:  0.8478115506709567\n"
     ]
    }
   ],
   "source": [
    "# Train\n",
    "a_train = X_train[fair_feature].copy().astype('int')\n",
    "a_val = X_val[fair_feature].copy().astype('int')\n",
    "\n",
    "a_train[a_train==0] = -1\n",
    "a_val[a_val==0] = -1\n",
    "\n",
    "minimax_model = SKLearn_Weighted_LLR(X_train.values, y_train.values,\n",
    "                a_train.values, X_val.values,\n",
    "                y_val.values, a_val.values)\n",
    "\n",
    "mua_ini = np.ones(a_val.max() + 1)\n",
    "mua_ini /= mua_ini.sum()\n",
    "results = APSTAR(minimax_model, mua_ini, niter=200, max_patience=200, Kini=1,\n",
    "                        Kmin=20, alpha=0.5, verbose=False)\n",
    "mu_best_list = results['mu_best_list']\n",
    "\n",
    "mu_best = mu_best_list[-1]\n",
    "minimax_model.weighted_fit(X_train.values, y_train.values, a_train.values, mu_best)\n",
    "\n",
    "# Evaluate\n",
    "minimax_metrics = evaluate_model_test(minimax_model)\n",
    "\n",
    "# Save values\n",
    "minimax_metrics['Approach'] = 'Minimax'\n",
    "models_metrics.append(minimax_metrics)"
   ]
  },
  {
   "source": [
    "## 2.4) Demographic Parity Classifier\n",
    "\n",
    "- Paper: https://arxiv.org/pdf/1610.02413.pdf\n",
    "- Code: https://github.com/mbilalzafar/fair-classification/tree/master/disparate_impact \n",
    "\n",
    "They use covariance_threshold = 0 in the code"
   ],
   "cell_type": "markdown",
   "metadata": {}
  },
  {
   "cell_type": "code",
   "execution_count": 10,
   "metadata": {},
   "outputs": [
    {
     "output_type": "stream",
     "name": "stdout",
     "text": [
      "Accuracy:  0.5632090761750406\nEqual Opportunity:  0.5585497835497835\nDemographic Parity:  0.7098157539962766\nCoefficient of Variation:  1.1539192275188463\n"
     ]
    }
   ],
   "source": [
    "# Train\n",
    "dempar_model = DemographicParityClassifier(sensitive_cols=fair_feature, covariance_threshold=0)\n",
    "dempar_model.fit(X_train, y_train)\n",
    "\n",
    "# Evaluate\n",
    "dempar_metrics = evaluate_model_test(dempar_model)\n",
    "\n",
    "# Save values\n",
    "dempar_metrics['Approach'] = 'DemPar'\n",
    "models_metrics.append(dempar_metrics)"
   ]
  },
  {
   "source": [
    "## 2.5) Equality of Opportunity Classifier\n",
    "\n",
    "- Paper: https://arxiv.org/pdf/1610.02413.pdf\n",
    "- Code: https://github.com/mbilalzafar/fair-classification/tree/master/disparate_impact \n",
    "\n",
    "They use covariance_threshold = 0 in the code"
   ],
   "cell_type": "markdown",
   "metadata": {}
  },
  {
   "cell_type": "code",
   "execution_count": 11,
   "metadata": {},
   "outputs": [
    {
     "output_type": "stream",
     "name": "stdout",
     "text": [
      "Accuracy:  0.5899513776337115\nEqual Opportunity:  0.2372172428510457\nDemographic Parity:  0.21456848772763262\nCoefficient of Variation:  1.1743497883655618\n"
     ]
    }
   ],
   "source": [
    "# Train\n",
    "eqop_model = EqualOpportunityClassifier(sensitive_cols=fair_feature, positive_target=True, covariance_threshold=0)\n",
    "eqop_model.fit(X_train, y_train)\n",
    "\n",
    "# Evaluate\n",
    "eqop_metrics = evaluate_model_test(eqop_model)\n",
    "\n",
    "# Save values\n",
    "eqop_metrics['Approach'] = 'EqOp'\n",
    "models_metrics.append(eqop_metrics)"
   ]
  },
  {
   "source": [
    "## 2.6) MOOError"
   ],
   "cell_type": "markdown",
   "metadata": {}
  },
  {
   "cell_type": "code",
   "execution_count": 12,
   "metadata": {
    "tags": []
   },
   "outputs": [
    {
     "output_type": "stream",
     "name": "stderr",
     "text": [
      "2021-06-30 22:34:17,148 - moopt.monise - DEBUG: Finding 1th individual minima\n",
      "2021-06-30 22:34:17,193 - moopt.monise - DEBUG: Finding 2th individual minima\n",
      "2021-06-30 22:34:17,228 - moopt.monise - DEBUG: Finding 3th individual minima\n",
      "Academic license - for non-commercial use only - expires 2021-08-27\n",
      "Using license file /Users/vitoriaguardieiro/gurobi.lic\n",
      "2021-06-30 22:34:17,356 - moopt.monise - DEBUG: 4th solution - importance: 1.0\n",
      "2021-06-30 22:34:17,423 - moopt.monise - DEBUG: 5th solution - importance: 1.0\n",
      "2021-06-30 22:34:17,467 - moopt.monise - DEBUG: 6th solution - importance: 1.0\n",
      "2021-06-30 22:34:17,521 - moopt.monise - DEBUG: 7th solution - importance: 1.0\n",
      "2021-06-30 22:34:17,601 - moopt.monise - DEBUG: 8th solution - importance: 1.0\n",
      "2021-06-30 22:34:17,680 - moopt.monise - DEBUG: 9th solution - importance: 0.32328169688587893\n",
      "2021-06-30 22:34:17,742 - moopt.monise - DEBUG: 10th solution - importance: 0.2889321993723431\n",
      "2021-06-30 22:34:17,809 - moopt.monise - DEBUG: 11th solution - importance: 0.23765014962366743\n",
      "2021-06-30 22:34:17,872 - moopt.monise - DEBUG: 12th solution - importance: 0.15448330001394414\n",
      "2021-06-30 22:34:17,965 - moopt.monise - DEBUG: 13th solution - importance: 0.14017776706401677\n",
      "2021-06-30 22:34:18,050 - moopt.monise - DEBUG: 14th solution - importance: 0.13480244736813582\n",
      "2021-06-30 22:34:18,130 - moopt.monise - DEBUG: 15th solution - importance: 0.11752721887216995\n",
      "2021-06-30 22:34:18,236 - moopt.monise - DEBUG: 16th solution - importance: 0.11051249030366049\n",
      "2021-06-30 22:34:18,347 - moopt.monise - DEBUG: 17th solution - importance: 0.0903029861476217\n",
      "2021-06-30 22:34:18,434 - moopt.monise - DEBUG: 18th solution - importance: 0.06026189071009504\n",
      "2021-06-30 22:34:18,536 - moopt.monise - DEBUG: 19th solution - importance: 0.06010675571520068\n",
      "2021-06-30 22:34:18,630 - moopt.monise - DEBUG: 20th solution - importance: 0.053471241760833316\n",
      "2021-06-30 22:34:18,724 - moopt.monise - DEBUG: 21th solution - importance: 0.04784501138192651\n",
      "2021-06-30 22:34:18,829 - moopt.monise - DEBUG: 22th solution - importance: 0.04138589645140628\n",
      "2021-06-30 22:34:18,990 - moopt.monise - DEBUG: 23th solution - importance: 0.03904176948801052\n",
      "2021-06-30 22:34:19,101 - moopt.monise - DEBUG: 24th solution - importance: 0.036477083873349296\n",
      "2021-06-30 22:34:19,223 - moopt.monise - DEBUG: 25th solution - importance: 0.036444969559037844\n",
      "2021-06-30 22:34:19,386 - moopt.monise - DEBUG: 26th solution - importance: 0.03184494918397565\n",
      "2021-06-30 22:34:19,508 - moopt.monise - DEBUG: 27th solution - importance: 0.029275425721161735\n",
      "2021-06-30 22:34:19,635 - moopt.monise - DEBUG: 28th solution - importance: 0.02060860690392652\n",
      "2021-06-30 22:34:19,754 - moopt.monise - DEBUG: 29th solution - importance: 0.02046062594560052\n",
      "2021-06-30 22:34:19,874 - moopt.monise - DEBUG: 30th solution - importance: 0.0201969755136267\n",
      "2021-06-30 22:34:19,997 - moopt.monise - DEBUG: 31th solution - importance: 0.019094602831778412\n",
      "2021-06-30 22:34:20,149 - moopt.monise - DEBUG: 32th solution - importance: 0.01869389043090564\n",
      "2021-06-30 22:34:20,299 - moopt.monise - DEBUG: 33th solution - importance: 0.018424078015601787\n",
      "2021-06-30 22:34:20,453 - moopt.monise - DEBUG: 34th solution - importance: 0.017308935605199204\n",
      "2021-06-30 22:34:20,606 - moopt.monise - DEBUG: 35th solution - importance: 0.015983615222016165\n",
      "2021-06-30 22:34:20,777 - moopt.monise - DEBUG: 36th solution - importance: 0.014381520704231439\n",
      "2021-06-30 22:34:20,943 - moopt.monise - DEBUG: 37th solution - importance: 0.013928542816557431\n",
      "2021-06-30 22:34:21,110 - moopt.monise - DEBUG: 38th solution - importance: 0.013351462338517505\n",
      "2021-06-30 22:34:21,270 - moopt.monise - DEBUG: 39th solution - importance: 0.012689863233874528\n",
      "2021-06-30 22:34:21,458 - moopt.monise - DEBUG: 40th solution - importance: 0.011684955276885501\n",
      "2021-06-30 22:34:21,656 - moopt.monise - DEBUG: 41th solution - importance: 0.01108499999548591\n",
      "2021-06-30 22:34:21,842 - moopt.monise - DEBUG: 42th solution - importance: 0.010001539828540247\n",
      "2021-06-30 22:34:22,024 - moopt.monise - DEBUG: 43th solution - importance: 0.009358413157514286\n",
      "2021-06-30 22:34:22,206 - moopt.monise - DEBUG: 44th solution - importance: 0.007569285957141849\n",
      "2021-06-30 22:34:22,391 - moopt.monise - DEBUG: 45th solution - importance: 0.0068643247655484265\n",
      "2021-06-30 22:34:22,601 - moopt.monise - DEBUG: 46th solution - importance: 0.0068643247655484265\n",
      "2021-06-30 22:34:22,788 - moopt.monise - DEBUG: 47th solution - importance: 0.006760057643850826\n",
      "2021-06-30 22:34:23,004 - moopt.monise - DEBUG: 48th solution - importance: 0.0066407224883309815\n",
      "2021-06-30 22:34:23,248 - moopt.monise - DEBUG: 49th solution - importance: 0.006614596530595068\n",
      "2021-06-30 22:34:23,459 - moopt.monise - DEBUG: 50th solution - importance: 0.006361016292783481\n",
      "2021-06-30 22:34:23,658 - moopt.monise - DEBUG: 51th solution - importance: 0.006251867615705185\n",
      "2021-06-30 22:34:23,857 - moopt.monise - DEBUG: 52th solution - importance: 0.0061481536298102464\n",
      "2021-06-30 22:34:24,104 - moopt.monise - DEBUG: 53th solution - importance: 0.0061094927806205875\n",
      "2021-06-30 22:34:24,338 - moopt.monise - DEBUG: 54th solution - importance: 0.005154507229534672\n",
      "2021-06-30 22:34:24,556 - moopt.monise - DEBUG: 55th solution - importance: 0.005022694850331345\n",
      "2021-06-30 22:34:24,832 - moopt.monise - DEBUG: 56th solution - importance: 0.004378716507933258\n",
      "2021-06-30 22:34:25,101 - moopt.monise - DEBUG: 57th solution - importance: 0.00432352244748728\n",
      "2021-06-30 22:34:25,342 - moopt.monise - DEBUG: 58th solution - importance: 0.004300353021720064\n",
      "2021-06-30 22:34:25,639 - moopt.monise - DEBUG: 59th solution - importance: 0.0042153976285947865\n",
      "2021-06-30 22:34:25,932 - moopt.monise - DEBUG: 60th solution - importance: 0.003665263346167697\n",
      "2021-06-30 22:34:26,196 - moopt.monise - DEBUG: 61th solution - importance: 0.002929336799221503\n",
      "2021-06-30 22:34:26,469 - moopt.monise - DEBUG: 62th solution - importance: 0.0024808939226375654\n",
      "2021-06-30 22:34:26,742 - moopt.monise - DEBUG: 63th solution - importance: 0.0022526052932092095\n",
      "2021-06-30 22:34:26,991 - moopt.monise - DEBUG: 64th solution - importance: 0.0018562982131955933\n",
      "2021-06-30 22:34:27,260 - moopt.monise - DEBUG: 65th solution - importance: 0.0017635525735643946\n",
      "2021-06-30 22:34:27,545 - moopt.monise - DEBUG: 66th solution - importance: 0.0014380186057420692\n",
      "2021-06-30 22:34:27,862 - moopt.monise - DEBUG: 67th solution - importance: 0.001386326386378795\n",
      "2021-06-30 22:34:28,196 - moopt.monise - DEBUG: 68th solution - importance: 0.0012953854295105302\n",
      "2021-06-30 22:34:28,495 - moopt.monise - DEBUG: 69th solution - importance: 0.001271123043699554\n",
      "2021-06-30 22:34:28,802 - moopt.monise - DEBUG: 70th solution - importance: 0.0011027431868142975\n",
      "2021-06-30 22:34:29,137 - moopt.monise - DEBUG: 71th solution - importance: 0.0009015878194633709\n",
      "2021-06-30 22:34:29,516 - moopt.monise - DEBUG: 72th solution - importance: 0.0008097410679267091\n",
      "2021-06-30 22:34:29,910 - moopt.monise - DEBUG: 73th solution - importance: 0.0007796257182415414\n",
      "2021-06-30 22:34:30,244 - moopt.monise - DEBUG: 74th solution - importance: 0.0007645154417006897\n",
      "2021-06-30 22:34:30,555 - moopt.monise - DEBUG: 75th solution - importance: 0.0007406879358557255\n",
      "2021-06-30 22:34:30,919 - moopt.monise - DEBUG: 76th solution - importance: 0.000732012583642413\n",
      "2021-06-30 22:34:31,295 - moopt.monise - DEBUG: 77th solution - importance: 0.0006850597008171217\n",
      "2021-06-30 22:34:31,650 - moopt.monise - DEBUG: 78th solution - importance: 0.0006476362228813868\n",
      "2021-06-30 22:34:32,047 - moopt.monise - DEBUG: 79th solution - importance: 0.0006328135312952227\n",
      "2021-06-30 22:34:32,422 - moopt.monise - DEBUG: 80th solution - importance: 0.0005964640126786442\n",
      "2021-06-30 22:34:32,827 - moopt.monise - DEBUG: 81th solution - importance: 0.000468503400798091\n",
      "2021-06-30 22:34:33,273 - moopt.monise - DEBUG: 82th solution - importance: 0.0004253229072913054\n",
      "2021-06-30 22:34:33,684 - moopt.monise - DEBUG: 83th solution - importance: 0.00042369312587660346\n",
      "2021-06-30 22:34:34,103 - moopt.monise - DEBUG: 84th solution - importance: 0.0004068854765196751\n",
      "2021-06-30 22:34:34,526 - moopt.monise - DEBUG: 85th solution - importance: 0.0003954243811035192\n",
      "2021-06-30 22:34:34,985 - moopt.monise - DEBUG: 86th solution - importance: 0.0003788776948991546\n",
      "2021-06-30 22:34:35,464 - moopt.monise - DEBUG: 87th solution - importance: 0.00036918517112352535\n",
      "2021-06-30 22:34:35,906 - moopt.monise - DEBUG: 88th solution - importance: 0.00032912922081674504\n",
      "2021-06-30 22:34:36,364 - moopt.monise - DEBUG: 89th solution - importance: 0.0003177052088175079\n",
      "2021-06-30 22:34:36,781 - moopt.monise - DEBUG: 90th solution - importance: 0.0003073469635898066\n",
      "2021-06-30 22:34:37,263 - moopt.monise - DEBUG: 91th solution - importance: 0.0002995713435962447\n",
      "2021-06-30 22:34:37,702 - moopt.monise - DEBUG: 92th solution - importance: 0.0002990741390777227\n",
      "2021-06-30 22:34:38,175 - moopt.monise - DEBUG: 93th solution - importance: 0.00023657262446301474\n",
      "2021-06-30 22:34:38,700 - moopt.monise - DEBUG: 94th solution - importance: 0.00022449728837722744\n",
      "2021-06-30 22:34:39,203 - moopt.monise - DEBUG: 95th solution - importance: 0.00022376612169472434\n",
      "2021-06-30 22:34:39,709 - moopt.monise - DEBUG: 96th solution - importance: 0.00020840619714821497\n",
      "2021-06-30 22:34:40,321 - moopt.monise - DEBUG: 97th solution - importance: 0.00020724050965039505\n",
      "2021-06-30 22:34:40,853 - moopt.monise - DEBUG: 98th solution - importance: 0.00019681288225997204\n",
      "2021-06-30 22:34:41,395 - moopt.monise - DEBUG: 99th solution - importance: 0.0001903281148375621\n",
      "2021-06-30 22:34:41,932 - moopt.monise - DEBUG: 100th solution - importance: 0.00018078136699966688\n",
      "2021-06-30 22:34:42,589 - moopt.monise - DEBUG: 101th solution - importance: 0.00016570565477708285\n",
      "2021-06-30 22:34:43,476 - moopt.monise - DEBUG: 102th solution - importance: 0.00015175501648473163\n",
      "2021-06-30 22:34:44,425 - moopt.monise - DEBUG: 103th solution - importance: 0.00014690277170011564\n",
      "2021-06-30 22:34:45,530 - moopt.monise - DEBUG: 104th solution - importance: 0.0001375024685833079\n",
      "2021-06-30 22:34:46,496 - moopt.monise - DEBUG: 105th solution - importance: 0.0001375024685833079\n",
      "2021-06-30 22:34:47,262 - moopt.monise - DEBUG: 106th solution - importance: 0.0001375024685833079\n",
      "2021-06-30 22:34:47,951 - moopt.monise - DEBUG: 107th solution - importance: 0.0001375024685833079\n",
      "2021-06-30 22:34:48,662 - moopt.monise - DEBUG: 108th solution - importance: 0.00010437620816570602\n",
      "2021-06-30 22:34:49,365 - moopt.monise - DEBUG: 109th solution - importance: 8.512901848922018e-05\n",
      "2021-06-30 22:34:50,194 - moopt.monise - DEBUG: 110th solution - importance: 8.245717443080465e-05\n",
      "2021-06-30 22:34:51,298 - moopt.monise - DEBUG: 111th solution - importance: 7.630085093434623e-05\n",
      "2021-06-30 22:34:52,064 - moopt.monise - DEBUG: 112th solution - importance: 7.62095539403098e-05\n",
      "2021-06-30 22:34:53,327 - moopt.monise - DEBUG: 113th solution - importance: 7.362688485231587e-05\n",
      "2021-06-30 22:34:54,432 - moopt.monise - DEBUG: 114th solution - importance: 6.664581470209945e-05\n",
      "2021-06-30 22:34:55,173 - moopt.monise - DEBUG: 115th solution - importance: 6.379493849735227e-05\n",
      "2021-06-30 22:34:56,445 - moopt.monise - DEBUG: 116th solution - importance: 5.35948591287242e-05\n",
      "2021-06-30 22:34:57,853 - moopt.monise - DEBUG: 117th solution - importance: 5.2885397798991406e-05\n",
      "2021-06-30 22:34:59,364 - moopt.monise - DEBUG: 118th solution - importance: 5.643217416662377e-05\n",
      "2021-06-30 22:35:00,830 - moopt.monise - DEBUG: 119th solution - importance: 5.643217416662377e-05\n",
      "2021-06-30 22:35:02,383 - moopt.monise - DEBUG: 120th solution - importance: 5.643217416662377e-05\n",
      "2021-06-30 22:35:03,898 - moopt.monise - DEBUG: 121th solution - importance: 5.643217416662377e-05\n",
      "2021-06-30 22:35:05,567 - moopt.monise - DEBUG: 122th solution - importance: 5.643217416662377e-05\n",
      "2021-06-30 22:35:07,091 - moopt.monise - DEBUG: 123th solution - importance: 4.851579182082221e-05\n",
      "2021-06-30 22:35:08,923 - moopt.monise - DEBUG: 124th solution - importance: 4.677847504854205e-05\n",
      "2021-06-30 22:35:09,924 - moopt.monise - DEBUG: 125th solution - importance: 4.607922557595991e-05\n",
      "2021-06-30 22:35:11,612 - moopt.monise - DEBUG: 126th solution - importance: 3.922384652304024e-05\n",
      "2021-06-30 22:35:13,178 - moopt.monise - DEBUG: 127th solution - importance: 3.740054509972614e-05\n",
      "2021-06-30 22:35:14,081 - moopt.monise - DEBUG: 128th solution - importance: 3.464238178821181e-05\n",
      "2021-06-30 22:35:15,740 - moopt.monise - DEBUG: 129th solution - importance: 3.293221513105529e-05\n",
      "2021-06-30 22:35:17,642 - moopt.monise - DEBUG: 130th solution - importance: 3.293221513105529e-05\n",
      "2021-06-30 22:35:19,328 - moopt.monise - DEBUG: 131th solution - importance: 3.293221513105529e-05\n",
      "2021-06-30 22:35:20,904 - moopt.monise - DEBUG: 132th solution - importance: 3.293221513105529e-05\n",
      "2021-06-30 22:35:22,892 - moopt.monise - DEBUG: 133th solution - importance: 3.2572755186238345e-05\n",
      "2021-06-30 22:35:24,803 - moopt.monise - DEBUG: 134th solution - importance: 3.2572755186238345e-05\n",
      "2021-06-30 22:35:26,871 - moopt.monise - DEBUG: 135th solution - importance: 3.2572755186238345e-05\n",
      "2021-06-30 22:35:28,704 - moopt.monise - DEBUG: 136th solution - importance: 4.129522743282005e-05\n",
      "2021-06-30 22:35:30,626 - moopt.monise - DEBUG: 137th solution - importance: 4.129522743282005e-05\n",
      "2021-06-30 22:35:32,624 - moopt.monise - DEBUG: 138th solution - importance: 4.129522743282005e-05\n",
      "2021-06-30 22:35:34,709 - moopt.monise - DEBUG: 139th solution - importance: 4.129522743282005e-05\n",
      "2021-06-30 22:35:36,796 - moopt.monise - DEBUG: 140th solution - importance: 4.129522743282005e-05\n",
      "2021-06-30 22:35:38,836 - moopt.monise - DEBUG: 141th solution - importance: 2.7408232278110783e-05\n",
      "2021-06-30 22:35:40,921 - moopt.monise - DEBUG: 142th solution - importance: 2.691260031530306e-05\n",
      "2021-06-30 22:35:43,009 - moopt.monise - DEBUG: 143th solution - importance: 2.691260031530306e-05\n",
      "2021-06-30 22:35:45,096 - moopt.monise - DEBUG: 144th solution - importance: 2.691260031530306e-05\n",
      "2021-06-30 22:35:47,177 - moopt.monise - DEBUG: 145th solution - importance: 2.6691109403096485e-05\n",
      "2021-06-30 22:35:49,264 - moopt.monise - DEBUG: 146th solution - importance: 2.6691109403096485e-05\n",
      "2021-06-30 22:35:51,353 - moopt.monise - DEBUG: 147th solution - importance: 2.6691109403096485e-05\n",
      "2021-06-30 22:35:53,431 - moopt.monise - DEBUG: 148th solution - importance: 3.168625624933626e-05\n",
      "2021-06-30 22:35:55,534 - moopt.monise - DEBUG: 149th solution - importance: 3.168625624933626e-05\n",
      "2021-06-30 22:35:57,625 - moopt.monise - DEBUG: 150th solution - importance: 4.129731727785297e-05\n"
     ]
    }
   ],
   "source": [
    "%%capture\n",
    "\n",
    "# Train\n",
    "## Train 150 models\n",
    "moo_err = monise(weightedScalar=FairScalarization(X_train, y_train, fair_feature),\n",
    "                 singleScalar=FairScalarization(X_train, y_train, fair_feature),\n",
    "                  nodeTimeLimit=2, targetSize=150,\n",
    "                  targetGap=0, nodeGap=0.05, norm=False)\n",
    "\n",
    "moo_err.optimize()\n",
    "\n",
    "## Evaluate the models in val\n",
    "mooerr_values = {\"Acc\": [], \"EO\": [], \"DP\": [], \"CV\": []}\n",
    "mooerr_sols = []\n",
    "\n",
    "for solution in moo_err.solutionsList:\n",
    "    mooerr_sols.append(solution.x)\n",
    "    mooerr_values[\"Acc\"].append(solution.x.score(X_val, y_val))\n",
    "    mooerr_values[\"EO\"].append(equal_opportunity_score(sensitive_column=fair_feature)(solution.x, X_val, y_val))\n",
    "    mooerr_values[\"DP\"].append(p_percent_score(sensitive_column=fair_feature)(solution.x,X_val))\n",
    "    mooerr_values[\"CV\"].append(coefficient_of_variation(solution.x, X_val, y_val))\n",
    "\n",
    "mooerr_df = pd.DataFrame(mooerr_values)\n",
    "\n",
    "## Filter the 20 best models in Acc, then the 10 best in EO\n",
    "index_list = list(mooerr_df.nlargest(20,'Acc').nlargest(10,'EO').index)\n",
    "mooerr_filtered_models = [(\"Model \"+str(i), mooerr_sols[i]) for i in index_list]\n",
    "\n",
    "## Generate ensemble\n",
    "ensemble_moo_err = SimpleVoting(estimators=mooerr_filtered_models, voting='soft', minimax=False)"
   ]
  },
  {
   "cell_type": "code",
   "execution_count": 13,
   "metadata": {},
   "outputs": [
    {
     "output_type": "stream",
     "name": "stdout",
     "text": [
      "Accuracy:  0.673419773095624\nEqual Opportunity:  0.8082134082134081\nDemographic Parity:  0.756311901912021\nCoefficient of Variation:  0.8269333738413547\n"
     ]
    }
   ],
   "source": [
    "# Evaluate\n",
    "mooerr_metrics = evaluate_model_test(ensemble_moo_err)\n",
    "mooerr_metrics['Approach'] = 'MOOErr'\n",
    "\n",
    "# Save values\n",
    "models_metrics.append(mooerr_metrics)"
   ]
  },
  {
   "source": [
    "## 2.7) MOOAcep"
   ],
   "cell_type": "markdown",
   "metadata": {}
  },
  {
   "cell_type": "code",
   "execution_count": 14,
   "metadata": {},
   "outputs": [
    {
     "output_type": "stream",
     "name": "stderr",
     "text": [
      "2021-06-30 22:36:00,490 - moopt.monise - DEBUG: Finding 1th individual minima\n",
      "2021-06-30 22:36:00,595 - moopt.monise - DEBUG: Finding 2th individual minima\n",
      "2021-06-30 22:36:00,637 - moopt.monise - DEBUG: Finding 3th individual minima\n",
      "2021-06-30 22:36:00,678 - moopt.monise - DEBUG: Finding 4th individual minima\n",
      "2021-06-30 22:36:00,812 - moopt.monise - DEBUG: 5th solution - importance: 1.0\n",
      "2021-06-30 22:36:00,932 - moopt.monise - DEBUG: 6th solution - importance: 1.0\n",
      "2021-06-30 22:36:01,030 - moopt.monise - DEBUG: 7th solution - importance: 1.0\n",
      "2021-06-30 22:36:01,172 - moopt.monise - DEBUG: 8th solution - importance: 1.0\n",
      "2021-06-30 22:36:01,248 - moopt.monise - DEBUG: 9th solution - importance: 1.0\n",
      "2021-06-30 22:36:01,327 - moopt.monise - DEBUG: 10th solution - importance: 0.6972044550372435\n",
      "2021-06-30 22:36:01,452 - moopt.monise - DEBUG: 11th solution - importance: 0.5610204303556351\n",
      "2021-06-30 22:36:01,532 - moopt.monise - DEBUG: 12th solution - importance: 0.4671572000168301\n",
      "2021-06-30 22:36:01,642 - moopt.monise - DEBUG: 13th solution - importance: 0.3320379340901567\n",
      "2021-06-30 22:36:01,742 - moopt.monise - DEBUG: 14th solution - importance: 0.2812974429695935\n",
      "2021-06-30 22:36:01,887 - moopt.monise - DEBUG: 15th solution - importance: 0.21195839066314398\n",
      "2021-06-30 22:36:02,004 - moopt.monise - DEBUG: 16th solution - importance: 0.18231540739148325\n",
      "2021-06-30 22:36:02,150 - moopt.monise - DEBUG: 17th solution - importance: 0.14108865182280544\n",
      "2021-06-30 22:36:02,273 - moopt.monise - DEBUG: 18th solution - importance: 0.113080557432424\n",
      "2021-06-30 22:36:02,389 - moopt.monise - DEBUG: 19th solution - importance: 0.11229508327223194\n",
      "2021-06-30 22:36:02,521 - moopt.monise - DEBUG: 20th solution - importance: 0.10513410162017156\n",
      "2021-06-30 22:36:02,643 - moopt.monise - DEBUG: 21th solution - importance: 0.08732626087173583\n",
      "2021-06-30 22:36:02,769 - moopt.monise - DEBUG: 22th solution - importance: 0.08501195985113248\n",
      "2021-06-30 22:36:02,903 - moopt.monise - DEBUG: 23th solution - importance: 0.08497694334083632\n",
      "2021-06-30 22:36:03,044 - moopt.monise - DEBUG: 24th solution - importance: 0.07407732295968084\n",
      "2021-06-30 22:36:03,211 - moopt.monise - DEBUG: 25th solution - importance: 0.06833084420303143\n",
      "2021-06-30 22:36:03,360 - moopt.monise - DEBUG: 26th solution - importance: 0.06374376570185683\n",
      "2021-06-30 22:36:03,516 - moopt.monise - DEBUG: 27th solution - importance: 0.06328157664765538\n",
      "2021-06-30 22:36:03,661 - moopt.monise - DEBUG: 28th solution - importance: 0.051993007556585216\n",
      "2021-06-30 22:36:03,827 - moopt.monise - DEBUG: 29th solution - importance: 0.051233631947911314\n",
      "2021-06-30 22:36:04,068 - moopt.monise - DEBUG: 30th solution - importance: 0.050856477435463565\n",
      "2021-06-30 22:36:04,259 - moopt.monise - DEBUG: 31th solution - importance: 0.048683883338141914\n",
      "2021-06-30 22:36:04,480 - moopt.monise - DEBUG: 32th solution - importance: 0.047758089686611424\n",
      "2021-06-30 22:36:04,634 - moopt.monise - DEBUG: 33th solution - importance: 0.04507756789014146\n",
      "2021-06-30 22:36:04,846 - moopt.monise - DEBUG: 34th solution - importance: 0.04238216042483049\n",
      "2021-06-30 22:36:05,112 - moopt.monise - DEBUG: 35th solution - importance: 0.04097150008573371\n",
      "2021-06-30 22:36:05,349 - moopt.monise - DEBUG: 36th solution - importance: 0.03881968138153562\n",
      "2021-06-30 22:36:05,546 - moopt.monise - DEBUG: 37th solution - importance: 0.03738973396018304\n",
      "2021-06-30 22:36:05,801 - moopt.monise - DEBUG: 38th solution - importance: 0.037208754554116555\n",
      "2021-06-30 22:36:06,076 - moopt.monise - DEBUG: 39th solution - importance: 0.03645120492615986\n",
      "2021-06-30 22:36:06,282 - moopt.monise - DEBUG: 40th solution - importance: 0.035356419220460567\n",
      "2021-06-30 22:36:06,528 - moopt.monise - DEBUG: 41th solution - importance: 0.033935928147071345\n",
      "2021-06-30 22:36:06,790 - moopt.monise - DEBUG: 42th solution - importance: 0.0324751941893401\n",
      "2021-06-30 22:36:07,086 - moopt.monise - DEBUG: 43th solution - importance: 0.03110279169164533\n",
      "2021-06-30 22:36:07,325 - moopt.monise - DEBUG: 44th solution - importance: 0.030823158492854566\n",
      "2021-06-30 22:36:07,615 - moopt.monise - DEBUG: 45th solution - importance: 0.030815793559549134\n",
      "2021-06-30 22:36:07,933 - moopt.monise - DEBUG: 46th solution - importance: 0.030640149116059424\n",
      "2021-06-30 22:36:08,250 - moopt.monise - DEBUG: 47th solution - importance: 0.03033893406931491\n",
      "2021-06-30 22:36:08,539 - moopt.monise - DEBUG: 48th solution - importance: 0.029335612131603746\n",
      "2021-06-30 22:36:08,905 - moopt.monise - DEBUG: 49th solution - importance: 0.02564428779511762\n",
      "2021-06-30 22:36:09,211 - moopt.monise - DEBUG: 50th solution - importance: 0.02361482783132675\n",
      "2021-06-30 22:36:09,547 - moopt.monise - DEBUG: 51th solution - importance: 0.023541485461346424\n",
      "2021-06-30 22:36:09,910 - moopt.monise - DEBUG: 52th solution - importance: 0.022849412153866513\n",
      "2021-06-30 22:36:10,306 - moopt.monise - DEBUG: 53th solution - importance: 0.02107912021839078\n",
      "2021-06-30 22:36:10,730 - moopt.monise - DEBUG: 54th solution - importance: 0.01971766609552713\n",
      "2021-06-30 22:36:11,105 - moopt.monise - DEBUG: 55th solution - importance: 0.01900278911569523\n",
      "2021-06-30 22:36:11,473 - moopt.monise - DEBUG: 56th solution - importance: 0.018096771909324065\n",
      "2021-06-30 22:36:11,954 - moopt.monise - DEBUG: 57th solution - importance: 0.017767374733753574\n",
      "2021-06-30 22:36:12,421 - moopt.monise - DEBUG: 58th solution - importance: 0.0176929959153915\n",
      "2021-06-30 22:36:12,830 - moopt.monise - DEBUG: 59th solution - importance: 0.017344547890355125\n",
      "2021-06-30 22:36:13,297 - moopt.monise - DEBUG: 60th solution - importance: 0.01680280335450682\n",
      "2021-06-30 22:36:13,708 - moopt.monise - DEBUG: 61th solution - importance: 0.016448955889302067\n",
      "2021-06-30 22:36:14,137 - moopt.monise - DEBUG: 62th solution - importance: 0.015922654057507302\n",
      "2021-06-30 22:36:14,596 - moopt.monise - DEBUG: 63th solution - importance: 0.0158336649810287\n",
      "2021-06-30 22:36:15,089 - moopt.monise - DEBUG: 64th solution - importance: 0.015619160703651436\n",
      "2021-06-30 22:36:15,627 - moopt.monise - DEBUG: 65th solution - importance: 0.015568653959588277\n",
      "2021-06-30 22:36:16,116 - moopt.monise - DEBUG: 66th solution - importance: 0.015538507063024823\n",
      "2021-06-30 22:36:16,547 - moopt.monise - DEBUG: 67th solution - importance: 0.015420876583761298\n",
      "2021-06-30 22:36:17,075 - moopt.monise - DEBUG: 68th solution - importance: 0.015410784841913085\n",
      "2021-06-30 22:36:17,586 - moopt.monise - DEBUG: 69th solution - importance: 0.015365993042593744\n",
      "2021-06-30 22:36:18,095 - moopt.monise - DEBUG: 70th solution - importance: 0.014763199645656899\n",
      "2021-06-30 22:36:18,660 - moopt.monise - DEBUG: 71th solution - importance: 0.014732396906662384\n",
      "2021-06-30 22:36:19,222 - moopt.monise - DEBUG: 72th solution - importance: 0.014583213903858052\n",
      "2021-06-30 22:36:20,201 - moopt.monise - DEBUG: 73th solution - importance: 0.014239449761625955\n",
      "2021-06-30 22:36:20,834 - moopt.monise - DEBUG: 74th solution - importance: 0.014096469117866477\n",
      "2021-06-30 22:36:21,716 - moopt.monise - DEBUG: 75th solution - importance: 0.01379862682043287\n",
      "2021-06-30 22:36:22,741 - moopt.monise - DEBUG: 76th solution - importance: 0.013648982192769544\n",
      "2021-06-30 22:36:23,761 - moopt.monise - DEBUG: 77th solution - importance: 0.013037808664906473\n",
      "2021-06-30 22:36:24,396 - moopt.monise - DEBUG: 78th solution - importance: 0.012939295627438913\n",
      "2021-06-30 22:36:25,377 - moopt.monise - DEBUG: 79th solution - importance: 0.012785536529560123\n",
      "2021-06-30 22:36:26,510 - moopt.monise - DEBUG: 80th solution - importance: 0.0127481726229484\n",
      "2021-06-30 22:36:27,285 - moopt.monise - DEBUG: 81th solution - importance: 0.012118670225302088\n",
      "2021-06-30 22:36:28,449 - moopt.monise - DEBUG: 82th solution - importance: 0.01203943607733355\n",
      "2021-06-30 22:36:29,499 - moopt.monise - DEBUG: 83th solution - importance: 0.0118247375286727\n",
      "2021-06-30 22:36:30,232 - moopt.monise - DEBUG: 84th solution - importance: 0.011312300200803907\n",
      "2021-06-30 22:36:31,481 - moopt.monise - DEBUG: 85th solution - importance: 0.011232880765702159\n",
      "2021-06-30 22:36:32,242 - moopt.monise - DEBUG: 86th solution - importance: 0.011161631690884752\n",
      "2021-06-30 22:36:33,436 - moopt.monise - DEBUG: 87th solution - importance: 0.011075736979663766\n",
      "2021-06-30 22:36:34,652 - moopt.monise - DEBUG: 88th solution - importance: 0.010893875850205136\n",
      "2021-06-30 22:36:35,842 - moopt.monise - DEBUG: 89th solution - importance: 0.010875572043896812\n",
      "2021-06-30 22:36:37,048 - moopt.monise - DEBUG: 90th solution - importance: 0.010648288753955109\n",
      "2021-06-30 22:36:38,416 - moopt.monise - DEBUG: 91th solution - importance: 0.010498618501169343\n",
      "2021-06-30 22:36:39,315 - moopt.monise - DEBUG: 92th solution - importance: 0.010445122505669152\n",
      "2021-06-30 22:36:40,596 - moopt.monise - DEBUG: 93th solution - importance: 0.010425604322624292\n",
      "2021-06-30 22:36:41,827 - moopt.monise - DEBUG: 94th solution - importance: 0.01039944778815513\n",
      "2021-06-30 22:36:43,259 - moopt.monise - DEBUG: 95th solution - importance: 0.010216627814163064\n",
      "2021-06-30 22:36:44,512 - moopt.monise - DEBUG: 96th solution - importance: 0.010169639458539069\n",
      "2021-06-30 22:36:45,913 - moopt.monise - DEBUG: 97th solution - importance: 0.010157049297551858\n",
      "2021-06-30 22:36:47,162 - moopt.monise - DEBUG: 98th solution - importance: 0.010154493894145328\n",
      "2021-06-30 22:36:48,602 - moopt.monise - DEBUG: 99th solution - importance: 0.009907857025326294\n",
      "2021-06-30 22:36:49,933 - moopt.monise - DEBUG: 100th solution - importance: 0.009557713272581026\n",
      "2021-06-30 22:36:51,342 - moopt.monise - DEBUG: 101th solution - importance: 0.009555901434651818\n",
      "2021-06-30 22:36:53,013 - moopt.monise - DEBUG: 102th solution - importance: 0.009436044284360364\n",
      "2021-06-30 22:36:55,168 - moopt.monise - DEBUG: 103th solution - importance: 0.009436044284360364\n",
      "2021-06-30 22:36:57,242 - moopt.monise - DEBUG: 104th solution - importance: 0.009143132904362661\n",
      "2021-06-30 22:36:59,393 - moopt.monise - DEBUG: 105th solution - importance: 0.008833115056068663\n",
      "2021-06-30 22:37:01,418 - moopt.monise - DEBUG: 106th solution - importance: 0.008489844945277087\n",
      "2021-06-30 22:37:03,548 - moopt.monise - DEBUG: 107th solution - importance: 0.00836885136545953\n",
      "2021-06-30 22:37:05,562 - moopt.monise - DEBUG: 108th solution - importance: 0.008179451616570636\n",
      "2021-06-30 22:37:07,718 - moopt.monise - DEBUG: 109th solution - importance: 0.00811762505008622\n",
      "2021-06-30 22:37:09,894 - moopt.monise - DEBUG: 110th solution - importance: 0.0081006390529573\n",
      "2021-06-30 22:37:12,040 - moopt.monise - DEBUG: 111th solution - importance: 0.008010768985326162\n",
      "2021-06-30 22:37:14,175 - moopt.monise - DEBUG: 112th solution - importance: 0.007784333438128794\n",
      "2021-06-30 22:37:16,272 - moopt.monise - DEBUG: 113th solution - importance: 0.007708890694815352\n",
      "2021-06-30 22:37:18,408 - moopt.monise - DEBUG: 114th solution - importance: 0.007706614364480938\n",
      "2021-06-30 22:37:20,559 - moopt.monise - DEBUG: 115th solution - importance: 0.0076697836081934005\n",
      "2021-06-30 22:37:22,698 - moopt.monise - DEBUG: 116th solution - importance: 0.0073303953346205075\n",
      "2021-06-30 22:37:24,817 - moopt.monise - DEBUG: 117th solution - importance: 0.007289505266565108\n",
      "2021-06-30 22:37:26,991 - moopt.monise - DEBUG: 118th solution - importance: 0.00719803651853018\n",
      "2021-06-30 22:37:29,236 - moopt.monise - DEBUG: 119th solution - importance: 0.00719803651853018\n",
      "2021-06-30 22:37:31,403 - moopt.monise - DEBUG: 120th solution - importance: 0.007091420384818188\n",
      "2021-06-30 22:37:33,564 - moopt.monise - DEBUG: 121th solution - importance: 0.006889533524903728\n",
      "2021-06-30 22:37:35,687 - moopt.monise - DEBUG: 122th solution - importance: 0.006741207963301308\n",
      "2021-06-30 22:37:37,838 - moopt.monise - DEBUG: 123th solution - importance: 0.0066757184418894736\n",
      "2021-06-30 22:37:39,977 - moopt.monise - DEBUG: 124th solution - importance: 0.00659092633560839\n",
      "2021-06-30 22:37:42,116 - moopt.monise - DEBUG: 125th solution - importance: 0.0065498296034645805\n",
      "2021-06-30 22:37:44,245 - moopt.monise - DEBUG: 126th solution - importance: 0.006510750876581696\n",
      "2021-06-30 22:37:46,372 - moopt.monise - DEBUG: 127th solution - importance: 0.006510750876581696\n",
      "2021-06-30 22:37:48,528 - moopt.monise - DEBUG: 128th solution - importance: 0.006254857531559266\n",
      "2021-06-30 22:37:50,686 - moopt.monise - DEBUG: 129th solution - importance: 0.006254857531559266\n",
      "2021-06-30 22:37:52,872 - moopt.monise - DEBUG: 130th solution - importance: 0.006213830915657955\n",
      "2021-06-30 22:37:55,024 - moopt.monise - DEBUG: 131th solution - importance: 0.006108363292702253\n",
      "2021-06-30 22:37:57,144 - moopt.monise - DEBUG: 132th solution - importance: 0.0059454418804587355\n",
      "2021-06-30 22:37:59,356 - moopt.monise - DEBUG: 133th solution - importance: 0.0059454418804587355\n",
      "2021-06-30 22:38:01,493 - moopt.monise - DEBUG: 134th solution - importance: 0.0059454418804587355\n",
      "2021-06-30 22:38:03,633 - moopt.monise - DEBUG: 135th solution - importance: 0.005776304160258961\n",
      "2021-06-30 22:38:05,774 - moopt.monise - DEBUG: 136th solution - importance: 0.005675060824286886\n",
      "2021-06-30 22:38:07,921 - moopt.monise - DEBUG: 137th solution - importance: 0.005625793393424275\n",
      "2021-06-30 22:38:10,193 - moopt.monise - DEBUG: 138th solution - importance: 0.005925705404481357\n",
      "2021-06-30 22:38:12,392 - moopt.monise - DEBUG: 139th solution - importance: 0.005925705404481357\n",
      "2021-06-30 22:38:14,558 - moopt.monise - DEBUG: 140th solution - importance: 0.005925705404481357\n",
      "2021-06-30 22:38:16,808 - moopt.monise - DEBUG: 141th solution - importance: 0.006179914672871566\n",
      "2021-06-30 22:38:18,976 - moopt.monise - DEBUG: 142th solution - importance: 0.006179914672871566\n",
      "2021-06-30 22:38:21,147 - moopt.monise - DEBUG: 143th solution - importance: 0.006179914672871566\n",
      "2021-06-30 22:38:23,322 - moopt.monise - DEBUG: 144th solution - importance: 0.006179914672871566\n",
      "2021-06-30 22:38:25,521 - moopt.monise - DEBUG: 145th solution - importance: 0.006179914672871566\n",
      "2021-06-30 22:38:27,685 - moopt.monise - DEBUG: 146th solution - importance: 0.005198122049273398\n",
      "2021-06-30 22:38:29,815 - moopt.monise - DEBUG: 147th solution - importance: 0.005572364013235626\n",
      "2021-06-30 22:38:32,014 - moopt.monise - DEBUG: 148th solution - importance: 0.005572364013235626\n",
      "2021-06-30 22:38:34,199 - moopt.monise - DEBUG: 149th solution - importance: 0.005572364013235626\n",
      "2021-06-30 22:38:36,371 - moopt.monise - DEBUG: 150th solution - importance: 0.005572364013235626\n"
     ]
    }
   ],
   "source": [
    "%%capture\n",
    "\n",
    "# Train 150 models\n",
    "mooacep = monise(weightedScalar=EqualScalarization(X_train, y_train, fair_feature),\n",
    "             singleScalar=EqualScalarization(X_train, y_train, fair_feature),\n",
    "              nodeTimeLimit=2, targetSize=150,\n",
    "              targetGap=0, nodeGap=0.01, norm=False)\n",
    "\n",
    "mooacep.optimize()\n",
    "\n",
    "# Evaluate the models\n",
    "mooacep_values_val = {\"Acc\": [], \"EO\": [], \"DP\": [], \"CV\": []}\n",
    "mooacep_sols = []\n",
    "\n",
    "for solution in mooacep.solutionsList:\n",
    "    mooacep_sols.append(solution.x)\n",
    "    mooacep_values_val[\"Acc\"].append(solution.x.score(X_val, y_val))\n",
    "    mooacep_values_val[\"EO\"].append(equal_opportunity_score(sensitive_column=fair_feature)(solution.x, X_val, y_val))\n",
    "    mooacep_values_val[\"DP\"].append(p_percent_score(sensitive_column=fair_feature)(solution.x,X_val))\n",
    "    mooacep_values_val[\"CV\"].append(coefficient_of_variation(solution.x, X_val, y_val))\n",
    "\n",
    "mooacep_df = pd.DataFrame(mooacep_values_val)\n",
    "\n",
    "## Filter the 20 best models in Acc, then the 10 best in EO\n",
    "index_list = list(mooacep_df.nlargest(20,'Acc').nlargest(10,'EO').index)\n",
    "mooacep_filtered_models = [(\"Model \"+str(i), mooacep_sols[i]) for i in index_list]\n",
    "\n",
    "## Generate ensemble\n",
    "ensemble_mooacep = SimpleVoting(estimators=mooacep_filtered_models, voting='soft', minimax=False)"
   ]
  },
  {
   "cell_type": "code",
   "execution_count": 15,
   "metadata": {},
   "outputs": [
    {
     "output_type": "stream",
     "name": "stdout",
     "text": [
      "Accuracy:  0.6742301458670988\nEqual Opportunity:  0.8628631138975966\nDemographic Parity:  0.7819509317859363\nCoefficient of Variation:  0.7628287437608081\n"
     ]
    }
   ],
   "source": [
    "# Evaluate\n",
    "mooacep_metrics = evaluate_model_test(ensemble_mooacep)\n",
    "mooacep_metrics['Approach'] = 'MOOAcep'\n",
    "\n",
    "# Save values\n",
    "models_metrics.append(mooacep_metrics)"
   ]
  },
  {
   "source": [
    "## 2.8) Results"
   ],
   "cell_type": "markdown",
   "metadata": {}
  },
  {
   "cell_type": "code",
   "execution_count": 16,
   "metadata": {},
   "outputs": [
    {
     "output_type": "display_data",
     "data": {
      "text/plain": "<Figure size 432x288 with 1 Axes>",
      "image/svg+xml": "<?xml version=\"1.0\" encoding=\"utf-8\" standalone=\"no\"?>\n<!DOCTYPE svg PUBLIC \"-//W3C//DTD SVG 1.1//EN\"\n  \"http://www.w3.org/Graphics/SVG/1.1/DTD/svg11.dtd\">\n<!-- Created with matplotlib (https://matplotlib.org/) -->\n<svg height=\"277.314375pt\" version=\"1.1\" viewBox=\"0 0 372.620089 277.314375\" width=\"372.620089pt\" xmlns=\"http://www.w3.org/2000/svg\" xmlns:xlink=\"http://www.w3.org/1999/xlink\">\n <metadata>\n  <rdf:RDF xmlns:cc=\"http://creativecommons.org/ns#\" xmlns:dc=\"http://purl.org/dc/elements/1.1/\" xmlns:rdf=\"http://www.w3.org/1999/02/22-rdf-syntax-ns#\">\n   <cc:Work>\n    <dc:type rdf:resource=\"http://purl.org/dc/dcmitype/StillImage\"/>\n    <dc:date>2021-06-30T22:38:39.397487</dc:date>\n    <dc:format>image/svg+xml</dc:format>\n    <dc:creator>\n     <cc:Agent>\n      <dc:title>Matplotlib v3.3.4, https://matplotlib.org/</dc:title>\n     </cc:Agent>\n    </dc:creator>\n   </cc:Work>\n  </rdf:RDF>\n </metadata>\n <defs>\n  <style type=\"text/css\">*{stroke-linecap:butt;stroke-linejoin:round;}</style>\n </defs>\n <g id=\"figure_1\">\n  <g id=\"patch_1\">\n   <path d=\"M 0 277.314375 \nL 372.620089 277.314375 \nL 372.620089 0 \nL 0 0 \nz\n\" style=\"fill:none;\"/>\n  </g>\n  <g id=\"axes_1\">\n   <g id=\"patch_2\">\n    <path d=\"M 30.103125 239.758125 \nL 364.903125 239.758125 \nL 364.903125 22.318125 \nL 30.103125 22.318125 \nz\n\" style=\"fill:#ffffff;\"/>\n   </g>\n   <g id=\"patch_3\">\n    <path clip-path=\"url(#p731377077e)\" d=\"M 42.060268 239.758125 \nL 48.038839 239.758125 \nL 48.038839 120.720978 \nL 42.060268 120.720978 \nz\n\" style=\"fill:#1f77b4;\"/>\n   </g>\n   <g id=\"patch_4\">\n    <path clip-path=\"url(#p731377077e)\" d=\"M 89.888839 239.758125 \nL 95.867411 239.758125 \nL 95.867411 121.578389 \nL 89.888839 121.578389 \nz\n\" style=\"fill:#1f77b4;\"/>\n   </g>\n   <g id=\"patch_5\">\n    <path clip-path=\"url(#p731377077e)\" d=\"M 137.717411 239.758125 \nL 143.695982 239.758125 \nL 143.695982 120.86388 \nL 137.717411 120.86388 \nz\n\" style=\"fill:#1f77b4;\"/>\n   </g>\n   <g id=\"patch_6\">\n    <path clip-path=\"url(#p731377077e)\" d=\"M 185.545982 239.758125 \nL 191.524554 239.758125 \nL 191.524554 140.441418 \nL 185.545982 140.441418 \nz\n\" style=\"fill:#1f77b4;\"/>\n   </g>\n   <g id=\"patch_7\">\n    <path clip-path=\"url(#p731377077e)\" d=\"M 233.374554 239.758125 \nL 239.353125 239.758125 \nL 239.353125 135.725661 \nL 233.374554 135.725661 \nz\n\" style=\"fill:#1f77b4;\"/>\n   </g>\n   <g id=\"patch_8\">\n    <path clip-path=\"url(#p731377077e)\" d=\"M 281.203125 239.758125 \nL 287.181696 239.758125 \nL 287.181696 121.006782 \nL 281.203125 121.006782 \nz\n\" style=\"fill:#1f77b4;\"/>\n   </g>\n   <g id=\"patch_9\">\n    <path clip-path=\"url(#p731377077e)\" d=\"M 329.031696 239.758125 \nL 335.010268 239.758125 \nL 335.010268 120.86388 \nL 329.031696 120.86388 \nz\n\" style=\"fill:#1f77b4;\"/>\n   </g>\n   <g id=\"patch_10\">\n    <path clip-path=\"url(#p731377077e)\" d=\"M 48.038839 239.758125 \nL 54.017411 239.758125 \nL 54.017411 128.018547 \nL 48.038839 128.018547 \nz\n\" style=\"fill:#ff7f0e;\"/>\n   </g>\n   <g id=\"patch_11\">\n    <path clip-path=\"url(#p731377077e)\" d=\"M 95.867411 239.758125 \nL 101.845982 239.758125 \nL 101.845982 92.030836 \nL 95.867411 92.030836 \nz\n\" style=\"fill:#ff7f0e;\"/>\n   </g>\n   <g id=\"patch_12\">\n    <path clip-path=\"url(#p731377077e)\" d=\"M 143.695982 239.758125 \nL 149.674554 239.758125 \nL 149.674554 129.216044 \nL 143.695982 129.216044 \nz\n\" style=\"fill:#ff7f0e;\"/>\n   </g>\n   <g id=\"patch_13\">\n    <path clip-path=\"url(#p731377077e)\" d=\"M 191.524554 239.758125 \nL 197.503125 239.758125 \nL 197.503125 141.263041 \nL 191.524554 141.263041 \nz\n\" style=\"fill:#ff7f0e;\"/>\n   </g>\n   <g id=\"patch_14\">\n    <path clip-path=\"url(#p731377077e)\" d=\"M 239.353125 239.758125 \nL 245.331696 239.758125 \nL 245.331696 197.92706 \nL 239.353125 197.92706 \nz\n\" style=\"fill:#ff7f0e;\"/>\n   </g>\n   <g id=\"patch_15\">\n    <path clip-path=\"url(#p731377077e)\" d=\"M 287.181696 239.758125 \nL 293.160268 239.758125 \nL 293.160268 97.237172 \nL 287.181696 97.237172 \nz\n\" style=\"fill:#ff7f0e;\"/>\n   </g>\n   <g id=\"patch_16\">\n    <path clip-path=\"url(#p731377077e)\" d=\"M 335.010268 239.758125 \nL 340.988839 239.758125 \nL 340.988839 87.600202 \nL 335.010268 87.600202 \nz\n\" style=\"fill:#ff7f0e;\"/>\n   </g>\n   <g id=\"patch_17\">\n    <path clip-path=\"url(#p731377077e)\" d=\"M 54.017411 239.758125 \nL 59.995982 239.758125 \nL 59.995982 137.155523 \nL 54.017411 137.155523 \nz\n\" style=\"fill:#2ca02c;\"/>\n   </g>\n   <g id=\"patch_18\">\n    <path clip-path=\"url(#p731377077e)\" d=\"M 101.845982 239.758125 \nL 107.824554 239.758125 \nL 107.824554 94.222431 \nL 101.845982 94.222431 \nz\n\" style=\"fill:#2ca02c;\"/>\n   </g>\n   <g id=\"patch_19\">\n    <path clip-path=\"url(#p731377077e)\" d=\"M 149.674554 239.758125 \nL 155.653125 239.758125 \nL 155.653125 137.508863 \nL 149.674554 137.508863 \nz\n\" style=\"fill:#2ca02c;\"/>\n   </g>\n   <g id=\"patch_20\">\n    <path clip-path=\"url(#p731377077e)\" d=\"M 197.503125 239.758125 \nL 203.481696 239.758125 \nL 203.481696 114.588688 \nL 197.503125 114.588688 \nz\n\" style=\"fill:#2ca02c;\"/>\n   </g>\n   <g id=\"patch_21\">\n    <path clip-path=\"url(#p731377077e)\" d=\"M 245.331696 239.758125 \nL 251.310268 239.758125 \nL 251.310268 201.920958 \nL 245.331696 201.920958 \nz\n\" style=\"fill:#2ca02c;\"/>\n   </g>\n   <g id=\"patch_22\">\n    <path clip-path=\"url(#p731377077e)\" d=\"M 293.160268 239.758125 \nL 299.138839 239.758125 \nL 299.138839 106.389522 \nL 293.160268 106.389522 \nz\n\" style=\"fill:#2ca02c;\"/>\n   </g>\n   <g id=\"patch_23\">\n    <path clip-path=\"url(#p731377077e)\" d=\"M 340.988839 239.758125 \nL 346.967411 239.758125 \nL 346.967411 101.868317 \nL 340.988839 101.868317 \nz\n\" style=\"fill:#2ca02c;\"/>\n   </g>\n   <g id=\"patch_24\">\n    <path clip-path=\"url(#p731377077e)\" d=\"M 59.995982 239.758125 \nL 65.974554 239.758125 \nL 65.974554 90.767011 \nL 59.995982 90.767011 \nz\n\" style=\"fill:#d62728;\"/>\n   </g>\n   <g id=\"patch_25\">\n    <path clip-path=\"url(#p731377077e)\" d=\"M 107.824554 239.758125 \nL 113.803125 239.758125 \nL 113.803125 90.749909 \nL 107.824554 90.749909 \nz\n\" style=\"fill:#d62728;\"/>\n   </g>\n   <g id=\"patch_26\">\n    <path clip-path=\"url(#p731377077e)\" d=\"M 155.653125 239.758125 \nL 161.631696 239.758125 \nL 161.631696 90.254406 \nL 155.653125 90.254406 \nz\n\" style=\"fill:#d62728;\"/>\n   </g>\n   <g id=\"patch_27\">\n    <path clip-path=\"url(#p731377077e)\" d=\"M 203.481696 239.758125 \nL 209.460268 239.758125 \nL 209.460268 36.275151 \nL 203.481696 36.275151 \nz\n\" style=\"fill:#d62728;\"/>\n   </g>\n   <g id=\"patch_28\">\n    <path clip-path=\"url(#p731377077e)\" d=\"M 251.310268 239.758125 \nL 257.288839 239.758125 \nL 257.288839 32.672411 \nL 251.310268 32.672411 \nz\n\" style=\"fill:#d62728;\"/>\n   </g>\n   <g id=\"patch_29\">\n    <path clip-path=\"url(#p731377077e)\" d=\"M 299.138839 239.758125 \nL 305.117411 239.758125 \nL 305.117411 93.936079 \nL 299.138839 93.936079 \nz\n\" style=\"fill:#d62728;\"/>\n   </g>\n   <g id=\"patch_30\">\n    <path clip-path=\"url(#p731377077e)\" d=\"M 346.967411 239.758125 \nL 352.945982 239.758125 \nL 352.945982 105.240338 \nL 346.967411 105.240338 \nz\n\" style=\"fill:#d62728;\"/>\n   </g>\n   <g id=\"matplotlib.axis_1\">\n    <g id=\"xtick_1\">\n     <g id=\"line2d_1\">\n      <defs>\n       <path d=\"M 0 0 \nL 0 3.5 \n\" id=\"m56c2148fb6\" style=\"stroke:#000000;stroke-width:0.8;\"/>\n      </defs>\n      <g>\n       <use style=\"stroke:#000000;stroke-width:0.8;\" x=\"54.017411\" xlink:href=\"#m56c2148fb6\" y=\"239.758125\"/>\n      </g>\n     </g>\n     <g id=\"text_1\">\n      <!-- LogReg -->\n      <g transform=\"translate(35.585379 254.356562)scale(0.1 -0.1)\">\n       <defs>\n        <path d=\"M 9.8125 72.90625 \nL 19.671875 72.90625 \nL 19.671875 8.296875 \nL 55.171875 8.296875 \nL 55.171875 0 \nL 9.8125 0 \nz\n\" id=\"DejaVuSans-76\"/>\n        <path d=\"M 30.609375 48.390625 \nQ 23.390625 48.390625 19.1875 42.75 \nQ 14.984375 37.109375 14.984375 27.296875 \nQ 14.984375 17.484375 19.15625 11.84375 \nQ 23.34375 6.203125 30.609375 6.203125 \nQ 37.796875 6.203125 41.984375 11.859375 \nQ 46.1875 17.53125 46.1875 27.296875 \nQ 46.1875 37.015625 41.984375 42.703125 \nQ 37.796875 48.390625 30.609375 48.390625 \nz\nM 30.609375 56 \nQ 42.328125 56 49.015625 48.375 \nQ 55.71875 40.765625 55.71875 27.296875 \nQ 55.71875 13.875 49.015625 6.21875 \nQ 42.328125 -1.421875 30.609375 -1.421875 \nQ 18.84375 -1.421875 12.171875 6.21875 \nQ 5.515625 13.875 5.515625 27.296875 \nQ 5.515625 40.765625 12.171875 48.375 \nQ 18.84375 56 30.609375 56 \nz\n\" id=\"DejaVuSans-111\"/>\n        <path d=\"M 45.40625 27.984375 \nQ 45.40625 37.75 41.375 43.109375 \nQ 37.359375 48.484375 30.078125 48.484375 \nQ 22.859375 48.484375 18.828125 43.109375 \nQ 14.796875 37.75 14.796875 27.984375 \nQ 14.796875 18.265625 18.828125 12.890625 \nQ 22.859375 7.515625 30.078125 7.515625 \nQ 37.359375 7.515625 41.375 12.890625 \nQ 45.40625 18.265625 45.40625 27.984375 \nz\nM 54.390625 6.78125 \nQ 54.390625 -7.171875 48.1875 -13.984375 \nQ 42 -20.796875 29.203125 -20.796875 \nQ 24.46875 -20.796875 20.265625 -20.09375 \nQ 16.0625 -19.390625 12.109375 -17.921875 \nL 12.109375 -9.1875 \nQ 16.0625 -11.328125 19.921875 -12.34375 \nQ 23.78125 -13.375 27.78125 -13.375 \nQ 36.625 -13.375 41.015625 -8.765625 \nQ 45.40625 -4.15625 45.40625 5.171875 \nL 45.40625 9.625 \nQ 42.625 4.78125 38.28125 2.390625 \nQ 33.9375 0 27.875 0 \nQ 17.828125 0 11.671875 7.65625 \nQ 5.515625 15.328125 5.515625 27.984375 \nQ 5.515625 40.671875 11.671875 48.328125 \nQ 17.828125 56 27.875 56 \nQ 33.9375 56 38.28125 53.609375 \nQ 42.625 51.21875 45.40625 46.390625 \nL 45.40625 54.6875 \nL 54.390625 54.6875 \nz\n\" id=\"DejaVuSans-103\"/>\n        <path d=\"M 44.390625 34.1875 \nQ 47.5625 33.109375 50.5625 29.59375 \nQ 53.5625 26.078125 56.59375 19.921875 \nL 66.609375 0 \nL 56 0 \nL 46.6875 18.703125 \nQ 43.0625 26.03125 39.671875 28.421875 \nQ 36.28125 30.8125 30.421875 30.8125 \nL 19.671875 30.8125 \nL 19.671875 0 \nL 9.8125 0 \nL 9.8125 72.90625 \nL 32.078125 72.90625 \nQ 44.578125 72.90625 50.734375 67.671875 \nQ 56.890625 62.453125 56.890625 51.90625 \nQ 56.890625 45.015625 53.6875 40.46875 \nQ 50.484375 35.9375 44.390625 34.1875 \nz\nM 19.671875 64.796875 \nL 19.671875 38.921875 \nL 32.078125 38.921875 \nQ 39.203125 38.921875 42.84375 42.21875 \nQ 46.484375 45.515625 46.484375 51.90625 \nQ 46.484375 58.296875 42.84375 61.546875 \nQ 39.203125 64.796875 32.078125 64.796875 \nz\n\" id=\"DejaVuSans-82\"/>\n        <path d=\"M 56.203125 29.59375 \nL 56.203125 25.203125 \nL 14.890625 25.203125 \nQ 15.484375 15.921875 20.484375 11.0625 \nQ 25.484375 6.203125 34.421875 6.203125 \nQ 39.59375 6.203125 44.453125 7.46875 \nQ 49.3125 8.734375 54.109375 11.28125 \nL 54.109375 2.78125 \nQ 49.265625 0.734375 44.1875 -0.34375 \nQ 39.109375 -1.421875 33.890625 -1.421875 \nQ 20.796875 -1.421875 13.15625 6.1875 \nQ 5.515625 13.8125 5.515625 26.8125 \nQ 5.515625 40.234375 12.765625 48.109375 \nQ 20.015625 56 32.328125 56 \nQ 43.359375 56 49.78125 48.890625 \nQ 56.203125 41.796875 56.203125 29.59375 \nz\nM 47.21875 32.234375 \nQ 47.125 39.59375 43.09375 43.984375 \nQ 39.0625 48.390625 32.421875 48.390625 \nQ 24.90625 48.390625 20.390625 44.140625 \nQ 15.875 39.890625 15.1875 32.171875 \nz\n\" id=\"DejaVuSans-101\"/>\n       </defs>\n       <use xlink:href=\"#DejaVuSans-76\"/>\n       <use x=\"53.962891\" xlink:href=\"#DejaVuSans-111\"/>\n       <use x=\"115.144531\" xlink:href=\"#DejaVuSans-103\"/>\n       <use x=\"178.621094\" xlink:href=\"#DejaVuSans-82\"/>\n       <use x=\"243.603516\" xlink:href=\"#DejaVuSans-101\"/>\n       <use x=\"305.126953\" xlink:href=\"#DejaVuSans-103\"/>\n      </g>\n     </g>\n    </g>\n    <g id=\"xtick_2\">\n     <g id=\"line2d_2\">\n      <g>\n       <use style=\"stroke:#000000;stroke-width:0.8;\" x=\"101.845982\" xlink:href=\"#m56c2148fb6\" y=\"239.758125\"/>\n      </g>\n     </g>\n     <g id=\"text_2\">\n      <!-- Reweigh -->\n      <g transform=\"translate(80.622545 254.356562)scale(0.1 -0.1)\">\n       <defs>\n        <path d=\"M 4.203125 54.6875 \nL 13.1875 54.6875 \nL 24.421875 12.015625 \nL 35.59375 54.6875 \nL 46.1875 54.6875 \nL 57.421875 12.015625 \nL 68.609375 54.6875 \nL 77.59375 54.6875 \nL 63.28125 0 \nL 52.6875 0 \nL 40.921875 44.828125 \nL 29.109375 0 \nL 18.5 0 \nz\n\" id=\"DejaVuSans-119\"/>\n        <path d=\"M 9.421875 54.6875 \nL 18.40625 54.6875 \nL 18.40625 0 \nL 9.421875 0 \nz\nM 9.421875 75.984375 \nL 18.40625 75.984375 \nL 18.40625 64.59375 \nL 9.421875 64.59375 \nz\n\" id=\"DejaVuSans-105\"/>\n        <path d=\"M 54.890625 33.015625 \nL 54.890625 0 \nL 45.90625 0 \nL 45.90625 32.71875 \nQ 45.90625 40.484375 42.875 44.328125 \nQ 39.84375 48.1875 33.796875 48.1875 \nQ 26.515625 48.1875 22.3125 43.546875 \nQ 18.109375 38.921875 18.109375 30.90625 \nL 18.109375 0 \nL 9.078125 0 \nL 9.078125 75.984375 \nL 18.109375 75.984375 \nL 18.109375 46.1875 \nQ 21.34375 51.125 25.703125 53.5625 \nQ 30.078125 56 35.796875 56 \nQ 45.21875 56 50.046875 50.171875 \nQ 54.890625 44.34375 54.890625 33.015625 \nz\n\" id=\"DejaVuSans-104\"/>\n       </defs>\n       <use xlink:href=\"#DejaVuSans-82\"/>\n       <use x=\"64.982422\" xlink:href=\"#DejaVuSans-101\"/>\n       <use x=\"126.505859\" xlink:href=\"#DejaVuSans-119\"/>\n       <use x=\"208.292969\" xlink:href=\"#DejaVuSans-101\"/>\n       <use x=\"269.816406\" xlink:href=\"#DejaVuSans-105\"/>\n       <use x=\"297.599609\" xlink:href=\"#DejaVuSans-103\"/>\n       <use x=\"361.076172\" xlink:href=\"#DejaVuSans-104\"/>\n      </g>\n     </g>\n    </g>\n    <g id=\"xtick_3\">\n     <g id=\"line2d_3\">\n      <g>\n       <use style=\"stroke:#000000;stroke-width:0.8;\" x=\"149.674554\" xlink:href=\"#m56c2148fb6\" y=\"239.758125\"/>\n      </g>\n     </g>\n     <g id=\"text_3\">\n      <!-- Minimax -->\n      <g transform=\"translate(128.519866 254.356562)scale(0.1 -0.1)\">\n       <defs>\n        <path d=\"M 9.8125 72.90625 \nL 24.515625 72.90625 \nL 43.109375 23.296875 \nL 61.8125 72.90625 \nL 76.515625 72.90625 \nL 76.515625 0 \nL 66.890625 0 \nL 66.890625 64.015625 \nL 48.09375 14.015625 \nL 38.1875 14.015625 \nL 19.390625 64.015625 \nL 19.390625 0 \nL 9.8125 0 \nz\n\" id=\"DejaVuSans-77\"/>\n        <path d=\"M 54.890625 33.015625 \nL 54.890625 0 \nL 45.90625 0 \nL 45.90625 32.71875 \nQ 45.90625 40.484375 42.875 44.328125 \nQ 39.84375 48.1875 33.796875 48.1875 \nQ 26.515625 48.1875 22.3125 43.546875 \nQ 18.109375 38.921875 18.109375 30.90625 \nL 18.109375 0 \nL 9.078125 0 \nL 9.078125 54.6875 \nL 18.109375 54.6875 \nL 18.109375 46.1875 \nQ 21.34375 51.125 25.703125 53.5625 \nQ 30.078125 56 35.796875 56 \nQ 45.21875 56 50.046875 50.171875 \nQ 54.890625 44.34375 54.890625 33.015625 \nz\n\" id=\"DejaVuSans-110\"/>\n        <path d=\"M 52 44.1875 \nQ 55.375 50.25 60.0625 53.125 \nQ 64.75 56 71.09375 56 \nQ 79.640625 56 84.28125 50.015625 \nQ 88.921875 44.046875 88.921875 33.015625 \nL 88.921875 0 \nL 79.890625 0 \nL 79.890625 32.71875 \nQ 79.890625 40.578125 77.09375 44.375 \nQ 74.3125 48.1875 68.609375 48.1875 \nQ 61.625 48.1875 57.5625 43.546875 \nQ 53.515625 38.921875 53.515625 30.90625 \nL 53.515625 0 \nL 44.484375 0 \nL 44.484375 32.71875 \nQ 44.484375 40.625 41.703125 44.40625 \nQ 38.921875 48.1875 33.109375 48.1875 \nQ 26.21875 48.1875 22.15625 43.53125 \nQ 18.109375 38.875 18.109375 30.90625 \nL 18.109375 0 \nL 9.078125 0 \nL 9.078125 54.6875 \nL 18.109375 54.6875 \nL 18.109375 46.1875 \nQ 21.1875 51.21875 25.484375 53.609375 \nQ 29.78125 56 35.6875 56 \nQ 41.65625 56 45.828125 52.96875 \nQ 50 49.953125 52 44.1875 \nz\n\" id=\"DejaVuSans-109\"/>\n        <path d=\"M 34.28125 27.484375 \nQ 23.390625 27.484375 19.1875 25 \nQ 14.984375 22.515625 14.984375 16.5 \nQ 14.984375 11.71875 18.140625 8.90625 \nQ 21.296875 6.109375 26.703125 6.109375 \nQ 34.1875 6.109375 38.703125 11.40625 \nQ 43.21875 16.703125 43.21875 25.484375 \nL 43.21875 27.484375 \nz\nM 52.203125 31.203125 \nL 52.203125 0 \nL 43.21875 0 \nL 43.21875 8.296875 \nQ 40.140625 3.328125 35.546875 0.953125 \nQ 30.953125 -1.421875 24.3125 -1.421875 \nQ 15.921875 -1.421875 10.953125 3.296875 \nQ 6 8.015625 6 15.921875 \nQ 6 25.140625 12.171875 29.828125 \nQ 18.359375 34.515625 30.609375 34.515625 \nL 43.21875 34.515625 \nL 43.21875 35.40625 \nQ 43.21875 41.609375 39.140625 45 \nQ 35.0625 48.390625 27.6875 48.390625 \nQ 23 48.390625 18.546875 47.265625 \nQ 14.109375 46.140625 10.015625 43.890625 \nL 10.015625 52.203125 \nQ 14.9375 54.109375 19.578125 55.046875 \nQ 24.21875 56 28.609375 56 \nQ 40.484375 56 46.34375 49.84375 \nQ 52.203125 43.703125 52.203125 31.203125 \nz\n\" id=\"DejaVuSans-97\"/>\n        <path d=\"M 54.890625 54.6875 \nL 35.109375 28.078125 \nL 55.90625 0 \nL 45.3125 0 \nL 29.390625 21.484375 \nL 13.484375 0 \nL 2.875 0 \nL 24.125 28.609375 \nL 4.6875 54.6875 \nL 15.28125 54.6875 \nL 29.78125 35.203125 \nL 44.28125 54.6875 \nz\n\" id=\"DejaVuSans-120\"/>\n       </defs>\n       <use xlink:href=\"#DejaVuSans-77\"/>\n       <use x=\"86.279297\" xlink:href=\"#DejaVuSans-105\"/>\n       <use x=\"114.0625\" xlink:href=\"#DejaVuSans-110\"/>\n       <use x=\"177.441406\" xlink:href=\"#DejaVuSans-105\"/>\n       <use x=\"205.224609\" xlink:href=\"#DejaVuSans-109\"/>\n       <use x=\"302.636719\" xlink:href=\"#DejaVuSans-97\"/>\n       <use x=\"363.916016\" xlink:href=\"#DejaVuSans-120\"/>\n      </g>\n     </g>\n    </g>\n    <g id=\"xtick_4\">\n     <g id=\"line2d_4\">\n      <g>\n       <use style=\"stroke:#000000;stroke-width:0.8;\" x=\"197.503125\" xlink:href=\"#m56c2148fb6\" y=\"239.758125\"/>\n      </g>\n     </g>\n     <g id=\"text_4\">\n      <!-- DemPar -->\n      <g transform=\"translate(177.796875 254.356562)scale(0.1 -0.1)\">\n       <defs>\n        <path d=\"M 19.671875 64.796875 \nL 19.671875 8.109375 \nL 31.59375 8.109375 \nQ 46.6875 8.109375 53.6875 14.9375 \nQ 60.6875 21.78125 60.6875 36.53125 \nQ 60.6875 51.171875 53.6875 57.984375 \nQ 46.6875 64.796875 31.59375 64.796875 \nz\nM 9.8125 72.90625 \nL 30.078125 72.90625 \nQ 51.265625 72.90625 61.171875 64.09375 \nQ 71.09375 55.28125 71.09375 36.53125 \nQ 71.09375 17.671875 61.125 8.828125 \nQ 51.171875 0 30.078125 0 \nL 9.8125 0 \nz\n\" id=\"DejaVuSans-68\"/>\n        <path d=\"M 19.671875 64.796875 \nL 19.671875 37.40625 \nL 32.078125 37.40625 \nQ 38.96875 37.40625 42.71875 40.96875 \nQ 46.484375 44.53125 46.484375 51.125 \nQ 46.484375 57.671875 42.71875 61.234375 \nQ 38.96875 64.796875 32.078125 64.796875 \nz\nM 9.8125 72.90625 \nL 32.078125 72.90625 \nQ 44.34375 72.90625 50.609375 67.359375 \nQ 56.890625 61.8125 56.890625 51.125 \nQ 56.890625 40.328125 50.609375 34.8125 \nQ 44.34375 29.296875 32.078125 29.296875 \nL 19.671875 29.296875 \nL 19.671875 0 \nL 9.8125 0 \nz\n\" id=\"DejaVuSans-80\"/>\n        <path d=\"M 41.109375 46.296875 \nQ 39.59375 47.171875 37.8125 47.578125 \nQ 36.03125 48 33.890625 48 \nQ 26.265625 48 22.1875 43.046875 \nQ 18.109375 38.09375 18.109375 28.8125 \nL 18.109375 0 \nL 9.078125 0 \nL 9.078125 54.6875 \nL 18.109375 54.6875 \nL 18.109375 46.1875 \nQ 20.953125 51.171875 25.484375 53.578125 \nQ 30.03125 56 36.53125 56 \nQ 37.453125 56 38.578125 55.875 \nQ 39.703125 55.765625 41.0625 55.515625 \nz\n\" id=\"DejaVuSans-114\"/>\n       </defs>\n       <use xlink:href=\"#DejaVuSans-68\"/>\n       <use x=\"77.001953\" xlink:href=\"#DejaVuSans-101\"/>\n       <use x=\"138.525391\" xlink:href=\"#DejaVuSans-109\"/>\n       <use x=\"235.9375\" xlink:href=\"#DejaVuSans-80\"/>\n       <use x=\"291.740234\" xlink:href=\"#DejaVuSans-97\"/>\n       <use x=\"353.019531\" xlink:href=\"#DejaVuSans-114\"/>\n      </g>\n     </g>\n    </g>\n    <g id=\"xtick_5\">\n     <g id=\"line2d_5\">\n      <g>\n       <use style=\"stroke:#000000;stroke-width:0.8;\" x=\"245.331696\" xlink:href=\"#m56c2148fb6\" y=\"239.758125\"/>\n      </g>\n     </g>\n     <g id=\"text_5\">\n      <!-- EqOp -->\n      <g transform=\"translate(231.887946 254.356562)scale(0.1 -0.1)\">\n       <defs>\n        <path d=\"M 9.8125 72.90625 \nL 55.90625 72.90625 \nL 55.90625 64.59375 \nL 19.671875 64.59375 \nL 19.671875 43.015625 \nL 54.390625 43.015625 \nL 54.390625 34.71875 \nL 19.671875 34.71875 \nL 19.671875 8.296875 \nL 56.78125 8.296875 \nL 56.78125 0 \nL 9.8125 0 \nz\n\" id=\"DejaVuSans-69\"/>\n        <path d=\"M 14.796875 27.296875 \nQ 14.796875 17.390625 18.875 11.75 \nQ 22.953125 6.109375 30.078125 6.109375 \nQ 37.203125 6.109375 41.296875 11.75 \nQ 45.40625 17.390625 45.40625 27.296875 \nQ 45.40625 37.203125 41.296875 42.84375 \nQ 37.203125 48.484375 30.078125 48.484375 \nQ 22.953125 48.484375 18.875 42.84375 \nQ 14.796875 37.203125 14.796875 27.296875 \nz\nM 45.40625 8.203125 \nQ 42.578125 3.328125 38.25 0.953125 \nQ 33.9375 -1.421875 27.875 -1.421875 \nQ 17.96875 -1.421875 11.734375 6.484375 \nQ 5.515625 14.40625 5.515625 27.296875 \nQ 5.515625 40.1875 11.734375 48.09375 \nQ 17.96875 56 27.875 56 \nQ 33.9375 56 38.25 53.625 \nQ 42.578125 51.265625 45.40625 46.390625 \nL 45.40625 54.6875 \nL 54.390625 54.6875 \nL 54.390625 -20.796875 \nL 45.40625 -20.796875 \nz\n\" id=\"DejaVuSans-113\"/>\n        <path d=\"M 39.40625 66.21875 \nQ 28.65625 66.21875 22.328125 58.203125 \nQ 16.015625 50.203125 16.015625 36.375 \nQ 16.015625 22.609375 22.328125 14.59375 \nQ 28.65625 6.59375 39.40625 6.59375 \nQ 50.140625 6.59375 56.421875 14.59375 \nQ 62.703125 22.609375 62.703125 36.375 \nQ 62.703125 50.203125 56.421875 58.203125 \nQ 50.140625 66.21875 39.40625 66.21875 \nz\nM 39.40625 74.21875 \nQ 54.734375 74.21875 63.90625 63.9375 \nQ 73.09375 53.65625 73.09375 36.375 \nQ 73.09375 19.140625 63.90625 8.859375 \nQ 54.734375 -1.421875 39.40625 -1.421875 \nQ 24.03125 -1.421875 14.8125 8.828125 \nQ 5.609375 19.09375 5.609375 36.375 \nQ 5.609375 53.65625 14.8125 63.9375 \nQ 24.03125 74.21875 39.40625 74.21875 \nz\n\" id=\"DejaVuSans-79\"/>\n        <path d=\"M 18.109375 8.203125 \nL 18.109375 -20.796875 \nL 9.078125 -20.796875 \nL 9.078125 54.6875 \nL 18.109375 54.6875 \nL 18.109375 46.390625 \nQ 20.953125 51.265625 25.265625 53.625 \nQ 29.59375 56 35.59375 56 \nQ 45.5625 56 51.78125 48.09375 \nQ 58.015625 40.1875 58.015625 27.296875 \nQ 58.015625 14.40625 51.78125 6.484375 \nQ 45.5625 -1.421875 35.59375 -1.421875 \nQ 29.59375 -1.421875 25.265625 0.953125 \nQ 20.953125 3.328125 18.109375 8.203125 \nz\nM 48.6875 27.296875 \nQ 48.6875 37.203125 44.609375 42.84375 \nQ 40.53125 48.484375 33.40625 48.484375 \nQ 26.265625 48.484375 22.1875 42.84375 \nQ 18.109375 37.203125 18.109375 27.296875 \nQ 18.109375 17.390625 22.1875 11.75 \nQ 26.265625 6.109375 33.40625 6.109375 \nQ 40.53125 6.109375 44.609375 11.75 \nQ 48.6875 17.390625 48.6875 27.296875 \nz\n\" id=\"DejaVuSans-112\"/>\n       </defs>\n       <use xlink:href=\"#DejaVuSans-69\"/>\n       <use x=\"63.183594\" xlink:href=\"#DejaVuSans-113\"/>\n       <use x=\"126.660156\" xlink:href=\"#DejaVuSans-79\"/>\n       <use x=\"205.371094\" xlink:href=\"#DejaVuSans-112\"/>\n      </g>\n     </g>\n    </g>\n    <g id=\"xtick_6\">\n     <g id=\"line2d_6\">\n      <g>\n       <use style=\"stroke:#000000;stroke-width:0.8;\" x=\"293.160268\" xlink:href=\"#m56c2148fb6\" y=\"239.758125\"/>\n      </g>\n     </g>\n     <g id=\"text_6\">\n      <!-- MOOErr -->\n      <g transform=\"translate(273.791518 254.356562)scale(0.1 -0.1)\">\n       <use xlink:href=\"#DejaVuSans-77\"/>\n       <use x=\"86.279297\" xlink:href=\"#DejaVuSans-79\"/>\n       <use x=\"164.990234\" xlink:href=\"#DejaVuSans-79\"/>\n       <use x=\"243.701172\" xlink:href=\"#DejaVuSans-69\"/>\n       <use x=\"306.884766\" xlink:href=\"#DejaVuSans-114\"/>\n       <use x=\"346.248047\" xlink:href=\"#DejaVuSans-114\"/>\n      </g>\n     </g>\n    </g>\n    <g id=\"xtick_7\">\n     <g id=\"line2d_7\">\n      <g>\n       <use style=\"stroke:#000000;stroke-width:0.8;\" x=\"340.988839\" xlink:href=\"#m56c2148fb6\" y=\"239.758125\"/>\n      </g>\n     </g>\n     <g id=\"text_7\">\n      <!-- MOOAcep -->\n      <g transform=\"translate(316.557589 254.356562)scale(0.1 -0.1)\">\n       <defs>\n        <path d=\"M 34.1875 63.1875 \nL 20.796875 26.90625 \nL 47.609375 26.90625 \nz\nM 28.609375 72.90625 \nL 39.796875 72.90625 \nL 67.578125 0 \nL 57.328125 0 \nL 50.6875 18.703125 \nL 17.828125 18.703125 \nL 11.1875 0 \nL 0.78125 0 \nz\n\" id=\"DejaVuSans-65\"/>\n        <path d=\"M 48.78125 52.59375 \nL 48.78125 44.1875 \nQ 44.96875 46.296875 41.140625 47.34375 \nQ 37.3125 48.390625 33.40625 48.390625 \nQ 24.65625 48.390625 19.8125 42.84375 \nQ 14.984375 37.3125 14.984375 27.296875 \nQ 14.984375 17.28125 19.8125 11.734375 \nQ 24.65625 6.203125 33.40625 6.203125 \nQ 37.3125 6.203125 41.140625 7.25 \nQ 44.96875 8.296875 48.78125 10.40625 \nL 48.78125 2.09375 \nQ 45.015625 0.34375 40.984375 -0.53125 \nQ 36.96875 -1.421875 32.421875 -1.421875 \nQ 20.0625 -1.421875 12.78125 6.34375 \nQ 5.515625 14.109375 5.515625 27.296875 \nQ 5.515625 40.671875 12.859375 48.328125 \nQ 20.21875 56 33.015625 56 \nQ 37.15625 56 41.109375 55.140625 \nQ 45.0625 54.296875 48.78125 52.59375 \nz\n\" id=\"DejaVuSans-99\"/>\n       </defs>\n       <use xlink:href=\"#DejaVuSans-77\"/>\n       <use x=\"86.279297\" xlink:href=\"#DejaVuSans-79\"/>\n       <use x=\"164.990234\" xlink:href=\"#DejaVuSans-79\"/>\n       <use x=\"241.951172\" xlink:href=\"#DejaVuSans-65\"/>\n       <use x=\"308.609375\" xlink:href=\"#DejaVuSans-99\"/>\n       <use x=\"363.589844\" xlink:href=\"#DejaVuSans-101\"/>\n       <use x=\"425.113281\" xlink:href=\"#DejaVuSans-112\"/>\n      </g>\n     </g>\n    </g>\n    <g id=\"text_8\">\n     <!-- Approach -->\n     <g transform=\"translate(173.75 268.034687)scale(0.1 -0.1)\">\n      <use xlink:href=\"#DejaVuSans-65\"/>\n      <use x=\"68.408203\" xlink:href=\"#DejaVuSans-112\"/>\n      <use x=\"131.884766\" xlink:href=\"#DejaVuSans-112\"/>\n      <use x=\"195.361328\" xlink:href=\"#DejaVuSans-114\"/>\n      <use x=\"234.224609\" xlink:href=\"#DejaVuSans-111\"/>\n      <use x=\"295.40625\" xlink:href=\"#DejaVuSans-97\"/>\n      <use x=\"356.685547\" xlink:href=\"#DejaVuSans-99\"/>\n      <use x=\"411.666016\" xlink:href=\"#DejaVuSans-104\"/>\n     </g>\n    </g>\n   </g>\n   <g id=\"matplotlib.axis_2\">\n    <g id=\"ytick_1\">\n     <g id=\"line2d_8\">\n      <defs>\n       <path d=\"M 0 0 \nL -3.5 0 \n\" id=\"m957b388e9b\" style=\"stroke:#000000;stroke-width:0.8;\"/>\n      </defs>\n      <g>\n       <use style=\"stroke:#000000;stroke-width:0.8;\" x=\"30.103125\" xlink:href=\"#m957b388e9b\" y=\"239.758125\"/>\n      </g>\n     </g>\n     <g id=\"text_9\">\n      <!-- 0.0 -->\n      <g transform=\"translate(7.2 243.557344)scale(0.1 -0.1)\">\n       <defs>\n        <path d=\"M 31.78125 66.40625 \nQ 24.171875 66.40625 20.328125 58.90625 \nQ 16.5 51.421875 16.5 36.375 \nQ 16.5 21.390625 20.328125 13.890625 \nQ 24.171875 6.390625 31.78125 6.390625 \nQ 39.453125 6.390625 43.28125 13.890625 \nQ 47.125 21.390625 47.125 36.375 \nQ 47.125 51.421875 43.28125 58.90625 \nQ 39.453125 66.40625 31.78125 66.40625 \nz\nM 31.78125 74.21875 \nQ 44.046875 74.21875 50.515625 64.515625 \nQ 56.984375 54.828125 56.984375 36.375 \nQ 56.984375 17.96875 50.515625 8.265625 \nQ 44.046875 -1.421875 31.78125 -1.421875 \nQ 19.53125 -1.421875 13.0625 8.265625 \nQ 6.59375 17.96875 6.59375 36.375 \nQ 6.59375 54.828125 13.0625 64.515625 \nQ 19.53125 74.21875 31.78125 74.21875 \nz\n\" id=\"DejaVuSans-48\"/>\n        <path d=\"M 10.6875 12.40625 \nL 21 12.40625 \nL 21 0 \nL 10.6875 0 \nz\n\" id=\"DejaVuSans-46\"/>\n       </defs>\n       <use xlink:href=\"#DejaVuSans-48\"/>\n       <use x=\"63.623047\" xlink:href=\"#DejaVuSans-46\"/>\n       <use x=\"95.410156\" xlink:href=\"#DejaVuSans-48\"/>\n      </g>\n     </g>\n    </g>\n    <g id=\"ytick_2\">\n     <g id=\"line2d_9\">\n      <g>\n       <use style=\"stroke:#000000;stroke-width:0.8;\" x=\"30.103125\" xlink:href=\"#m957b388e9b\" y=\"204.489976\"/>\n      </g>\n     </g>\n     <g id=\"text_10\">\n      <!-- 0.2 -->\n      <g transform=\"translate(7.2 208.289195)scale(0.1 -0.1)\">\n       <defs>\n        <path d=\"M 19.1875 8.296875 \nL 53.609375 8.296875 \nL 53.609375 0 \nL 7.328125 0 \nL 7.328125 8.296875 \nQ 12.9375 14.109375 22.625 23.890625 \nQ 32.328125 33.6875 34.8125 36.53125 \nQ 39.546875 41.84375 41.421875 45.53125 \nQ 43.3125 49.21875 43.3125 52.78125 \nQ 43.3125 58.59375 39.234375 62.25 \nQ 35.15625 65.921875 28.609375 65.921875 \nQ 23.96875 65.921875 18.8125 64.3125 \nQ 13.671875 62.703125 7.8125 59.421875 \nL 7.8125 69.390625 \nQ 13.765625 71.78125 18.9375 73 \nQ 24.125 74.21875 28.421875 74.21875 \nQ 39.75 74.21875 46.484375 68.546875 \nQ 53.21875 62.890625 53.21875 53.421875 \nQ 53.21875 48.921875 51.53125 44.890625 \nQ 49.859375 40.875 45.40625 35.40625 \nQ 44.1875 33.984375 37.640625 27.21875 \nQ 31.109375 20.453125 19.1875 8.296875 \nz\n\" id=\"DejaVuSans-50\"/>\n       </defs>\n       <use xlink:href=\"#DejaVuSans-48\"/>\n       <use x=\"63.623047\" xlink:href=\"#DejaVuSans-46\"/>\n       <use x=\"95.410156\" xlink:href=\"#DejaVuSans-50\"/>\n      </g>\n     </g>\n    </g>\n    <g id=\"ytick_3\">\n     <g id=\"line2d_10\">\n      <g>\n       <use style=\"stroke:#000000;stroke-width:0.8;\" x=\"30.103125\" xlink:href=\"#m957b388e9b\" y=\"169.221828\"/>\n      </g>\n     </g>\n     <g id=\"text_11\">\n      <!-- 0.4 -->\n      <g transform=\"translate(7.2 173.021047)scale(0.1 -0.1)\">\n       <defs>\n        <path d=\"M 37.796875 64.3125 \nL 12.890625 25.390625 \nL 37.796875 25.390625 \nz\nM 35.203125 72.90625 \nL 47.609375 72.90625 \nL 47.609375 25.390625 \nL 58.015625 25.390625 \nL 58.015625 17.1875 \nL 47.609375 17.1875 \nL 47.609375 0 \nL 37.796875 0 \nL 37.796875 17.1875 \nL 4.890625 17.1875 \nL 4.890625 26.703125 \nz\n\" id=\"DejaVuSans-52\"/>\n       </defs>\n       <use xlink:href=\"#DejaVuSans-48\"/>\n       <use x=\"63.623047\" xlink:href=\"#DejaVuSans-46\"/>\n       <use x=\"95.410156\" xlink:href=\"#DejaVuSans-52\"/>\n      </g>\n     </g>\n    </g>\n    <g id=\"ytick_4\">\n     <g id=\"line2d_11\">\n      <g>\n       <use style=\"stroke:#000000;stroke-width:0.8;\" x=\"30.103125\" xlink:href=\"#m957b388e9b\" y=\"133.953679\"/>\n      </g>\n     </g>\n     <g id=\"text_12\">\n      <!-- 0.6 -->\n      <g transform=\"translate(7.2 137.752898)scale(0.1 -0.1)\">\n       <defs>\n        <path d=\"M 33.015625 40.375 \nQ 26.375 40.375 22.484375 35.828125 \nQ 18.609375 31.296875 18.609375 23.390625 \nQ 18.609375 15.53125 22.484375 10.953125 \nQ 26.375 6.390625 33.015625 6.390625 \nQ 39.65625 6.390625 43.53125 10.953125 \nQ 47.40625 15.53125 47.40625 23.390625 \nQ 47.40625 31.296875 43.53125 35.828125 \nQ 39.65625 40.375 33.015625 40.375 \nz\nM 52.59375 71.296875 \nL 52.59375 62.3125 \nQ 48.875 64.0625 45.09375 64.984375 \nQ 41.3125 65.921875 37.59375 65.921875 \nQ 27.828125 65.921875 22.671875 59.328125 \nQ 17.53125 52.734375 16.796875 39.40625 \nQ 19.671875 43.65625 24.015625 45.921875 \nQ 28.375 48.1875 33.59375 48.1875 \nQ 44.578125 48.1875 50.953125 41.515625 \nQ 57.328125 34.859375 57.328125 23.390625 \nQ 57.328125 12.15625 50.6875 5.359375 \nQ 44.046875 -1.421875 33.015625 -1.421875 \nQ 20.359375 -1.421875 13.671875 8.265625 \nQ 6.984375 17.96875 6.984375 36.375 \nQ 6.984375 53.65625 15.1875 63.9375 \nQ 23.390625 74.21875 37.203125 74.21875 \nQ 40.921875 74.21875 44.703125 73.484375 \nQ 48.484375 72.75 52.59375 71.296875 \nz\n\" id=\"DejaVuSans-54\"/>\n       </defs>\n       <use xlink:href=\"#DejaVuSans-48\"/>\n       <use x=\"63.623047\" xlink:href=\"#DejaVuSans-46\"/>\n       <use x=\"95.410156\" xlink:href=\"#DejaVuSans-54\"/>\n      </g>\n     </g>\n    </g>\n    <g id=\"ytick_5\">\n     <g id=\"line2d_12\">\n      <g>\n       <use style=\"stroke:#000000;stroke-width:0.8;\" x=\"30.103125\" xlink:href=\"#m957b388e9b\" y=\"98.685531\"/>\n      </g>\n     </g>\n     <g id=\"text_13\">\n      <!-- 0.8 -->\n      <g transform=\"translate(7.2 102.484749)scale(0.1 -0.1)\">\n       <defs>\n        <path d=\"M 31.78125 34.625 \nQ 24.75 34.625 20.71875 30.859375 \nQ 16.703125 27.09375 16.703125 20.515625 \nQ 16.703125 13.921875 20.71875 10.15625 \nQ 24.75 6.390625 31.78125 6.390625 \nQ 38.8125 6.390625 42.859375 10.171875 \nQ 46.921875 13.96875 46.921875 20.515625 \nQ 46.921875 27.09375 42.890625 30.859375 \nQ 38.875 34.625 31.78125 34.625 \nz\nM 21.921875 38.8125 \nQ 15.578125 40.375 12.03125 44.71875 \nQ 8.5 49.078125 8.5 55.328125 \nQ 8.5 64.0625 14.71875 69.140625 \nQ 20.953125 74.21875 31.78125 74.21875 \nQ 42.671875 74.21875 48.875 69.140625 \nQ 55.078125 64.0625 55.078125 55.328125 \nQ 55.078125 49.078125 51.53125 44.71875 \nQ 48 40.375 41.703125 38.8125 \nQ 48.828125 37.15625 52.796875 32.3125 \nQ 56.78125 27.484375 56.78125 20.515625 \nQ 56.78125 9.90625 50.3125 4.234375 \nQ 43.84375 -1.421875 31.78125 -1.421875 \nQ 19.734375 -1.421875 13.25 4.234375 \nQ 6.78125 9.90625 6.78125 20.515625 \nQ 6.78125 27.484375 10.78125 32.3125 \nQ 14.796875 37.15625 21.921875 38.8125 \nz\nM 18.3125 54.390625 \nQ 18.3125 48.734375 21.84375 45.5625 \nQ 25.390625 42.390625 31.78125 42.390625 \nQ 38.140625 42.390625 41.71875 45.5625 \nQ 45.3125 48.734375 45.3125 54.390625 \nQ 45.3125 60.0625 41.71875 63.234375 \nQ 38.140625 66.40625 31.78125 66.40625 \nQ 25.390625 66.40625 21.84375 63.234375 \nQ 18.3125 60.0625 18.3125 54.390625 \nz\n\" id=\"DejaVuSans-56\"/>\n       </defs>\n       <use xlink:href=\"#DejaVuSans-48\"/>\n       <use x=\"63.623047\" xlink:href=\"#DejaVuSans-46\"/>\n       <use x=\"95.410156\" xlink:href=\"#DejaVuSans-56\"/>\n      </g>\n     </g>\n    </g>\n    <g id=\"ytick_6\">\n     <g id=\"line2d_13\">\n      <g>\n       <use style=\"stroke:#000000;stroke-width:0.8;\" x=\"30.103125\" xlink:href=\"#m957b388e9b\" y=\"63.417382\"/>\n      </g>\n     </g>\n     <g id=\"text_14\">\n      <!-- 1.0 -->\n      <g transform=\"translate(7.2 67.216601)scale(0.1 -0.1)\">\n       <defs>\n        <path d=\"M 12.40625 8.296875 \nL 28.515625 8.296875 \nL 28.515625 63.921875 \nL 10.984375 60.40625 \nL 10.984375 69.390625 \nL 28.421875 72.90625 \nL 38.28125 72.90625 \nL 38.28125 8.296875 \nL 54.390625 8.296875 \nL 54.390625 0 \nL 12.40625 0 \nz\n\" id=\"DejaVuSans-49\"/>\n       </defs>\n       <use xlink:href=\"#DejaVuSans-49\"/>\n       <use x=\"63.623047\" xlink:href=\"#DejaVuSans-46\"/>\n       <use x=\"95.410156\" xlink:href=\"#DejaVuSans-48\"/>\n      </g>\n     </g>\n    </g>\n    <g id=\"ytick_7\">\n     <g id=\"line2d_14\">\n      <g>\n       <use style=\"stroke:#000000;stroke-width:0.8;\" x=\"30.103125\" xlink:href=\"#m957b388e9b\" y=\"28.149233\"/>\n      </g>\n     </g>\n     <g id=\"text_15\">\n      <!-- 1.2 -->\n      <g transform=\"translate(7.2 31.948452)scale(0.1 -0.1)\">\n       <use xlink:href=\"#DejaVuSans-49\"/>\n       <use x=\"63.623047\" xlink:href=\"#DejaVuSans-46\"/>\n       <use x=\"95.410156\" xlink:href=\"#DejaVuSans-50\"/>\n      </g>\n     </g>\n    </g>\n   </g>\n   <g id=\"patch_31\">\n    <path d=\"M 30.103125 239.758125 \nL 30.103125 22.318125 \n\" style=\"fill:none;stroke:#000000;stroke-linecap:square;stroke-linejoin:miter;stroke-width:0.8;\"/>\n   </g>\n   <g id=\"patch_32\">\n    <path d=\"M 364.903125 239.758125 \nL 364.903125 22.318125 \n\" style=\"fill:none;stroke:#000000;stroke-linecap:square;stroke-linejoin:miter;stroke-width:0.8;\"/>\n   </g>\n   <g id=\"patch_33\">\n    <path d=\"M 30.103125 239.758125 \nL 364.903125 239.758125 \n\" style=\"fill:none;stroke:#000000;stroke-linecap:square;stroke-linejoin:miter;stroke-width:0.8;\"/>\n   </g>\n   <g id=\"patch_34\">\n    <path d=\"M 30.103125 22.318125 \nL 364.903125 22.318125 \n\" style=\"fill:none;stroke:#000000;stroke-linecap:square;stroke-linejoin:miter;stroke-width:0.8;\"/>\n   </g>\n   <g id=\"text_16\">\n    <!-- Metrics by approach -->\n    <g transform=\"translate(136.47375 16.318125)scale(0.12 -0.12)\">\n     <defs>\n      <path d=\"M 18.3125 70.21875 \nL 18.3125 54.6875 \nL 36.8125 54.6875 \nL 36.8125 47.703125 \nL 18.3125 47.703125 \nL 18.3125 18.015625 \nQ 18.3125 11.328125 20.140625 9.421875 \nQ 21.96875 7.515625 27.59375 7.515625 \nL 36.8125 7.515625 \nL 36.8125 0 \nL 27.59375 0 \nQ 17.1875 0 13.234375 3.875 \nQ 9.28125 7.765625 9.28125 18.015625 \nL 9.28125 47.703125 \nL 2.6875 47.703125 \nL 2.6875 54.6875 \nL 9.28125 54.6875 \nL 9.28125 70.21875 \nz\n\" id=\"DejaVuSans-116\"/>\n      <path d=\"M 44.28125 53.078125 \nL 44.28125 44.578125 \nQ 40.484375 46.53125 36.375 47.5 \nQ 32.28125 48.484375 27.875 48.484375 \nQ 21.1875 48.484375 17.84375 46.4375 \nQ 14.5 44.390625 14.5 40.28125 \nQ 14.5 37.15625 16.890625 35.375 \nQ 19.28125 33.59375 26.515625 31.984375 \nL 29.59375 31.296875 \nQ 39.15625 29.25 43.1875 25.515625 \nQ 47.21875 21.78125 47.21875 15.09375 \nQ 47.21875 7.46875 41.1875 3.015625 \nQ 35.15625 -1.421875 24.609375 -1.421875 \nQ 20.21875 -1.421875 15.453125 -0.5625 \nQ 10.6875 0.296875 5.421875 2 \nL 5.421875 11.28125 \nQ 10.40625 8.6875 15.234375 7.390625 \nQ 20.0625 6.109375 24.8125 6.109375 \nQ 31.15625 6.109375 34.5625 8.28125 \nQ 37.984375 10.453125 37.984375 14.40625 \nQ 37.984375 18.0625 35.515625 20.015625 \nQ 33.0625 21.96875 24.703125 23.78125 \nL 21.578125 24.515625 \nQ 13.234375 26.265625 9.515625 29.90625 \nQ 5.8125 33.546875 5.8125 39.890625 \nQ 5.8125 47.609375 11.28125 51.796875 \nQ 16.75 56 26.8125 56 \nQ 31.78125 56 36.171875 55.265625 \nQ 40.578125 54.546875 44.28125 53.078125 \nz\n\" id=\"DejaVuSans-115\"/>\n      <path id=\"DejaVuSans-32\"/>\n      <path d=\"M 48.6875 27.296875 \nQ 48.6875 37.203125 44.609375 42.84375 \nQ 40.53125 48.484375 33.40625 48.484375 \nQ 26.265625 48.484375 22.1875 42.84375 \nQ 18.109375 37.203125 18.109375 27.296875 \nQ 18.109375 17.390625 22.1875 11.75 \nQ 26.265625 6.109375 33.40625 6.109375 \nQ 40.53125 6.109375 44.609375 11.75 \nQ 48.6875 17.390625 48.6875 27.296875 \nz\nM 18.109375 46.390625 \nQ 20.953125 51.265625 25.265625 53.625 \nQ 29.59375 56 35.59375 56 \nQ 45.5625 56 51.78125 48.09375 \nQ 58.015625 40.1875 58.015625 27.296875 \nQ 58.015625 14.40625 51.78125 6.484375 \nQ 45.5625 -1.421875 35.59375 -1.421875 \nQ 29.59375 -1.421875 25.265625 0.953125 \nQ 20.953125 3.328125 18.109375 8.203125 \nL 18.109375 0 \nL 9.078125 0 \nL 9.078125 75.984375 \nL 18.109375 75.984375 \nz\n\" id=\"DejaVuSans-98\"/>\n      <path d=\"M 32.171875 -5.078125 \nQ 28.375 -14.84375 24.75 -17.8125 \nQ 21.140625 -20.796875 15.09375 -20.796875 \nL 7.90625 -20.796875 \nL 7.90625 -13.28125 \nL 13.1875 -13.28125 \nQ 16.890625 -13.28125 18.9375 -11.515625 \nQ 21 -9.765625 23.484375 -3.21875 \nL 25.09375 0.875 \nL 2.984375 54.6875 \nL 12.5 54.6875 \nL 29.59375 11.921875 \nL 46.6875 54.6875 \nL 56.203125 54.6875 \nz\n\" id=\"DejaVuSans-121\"/>\n     </defs>\n     <use xlink:href=\"#DejaVuSans-77\"/>\n     <use x=\"86.279297\" xlink:href=\"#DejaVuSans-101\"/>\n     <use x=\"147.802734\" xlink:href=\"#DejaVuSans-116\"/>\n     <use x=\"187.011719\" xlink:href=\"#DejaVuSans-114\"/>\n     <use x=\"228.125\" xlink:href=\"#DejaVuSans-105\"/>\n     <use x=\"255.908203\" xlink:href=\"#DejaVuSans-99\"/>\n     <use x=\"310.888672\" xlink:href=\"#DejaVuSans-115\"/>\n     <use x=\"362.988281\" xlink:href=\"#DejaVuSans-32\"/>\n     <use x=\"394.775391\" xlink:href=\"#DejaVuSans-98\"/>\n     <use x=\"458.251953\" xlink:href=\"#DejaVuSans-121\"/>\n     <use x=\"517.431641\" xlink:href=\"#DejaVuSans-32\"/>\n     <use x=\"549.21875\" xlink:href=\"#DejaVuSans-97\"/>\n     <use x=\"610.498047\" xlink:href=\"#DejaVuSans-112\"/>\n     <use x=\"673.974609\" xlink:href=\"#DejaVuSans-112\"/>\n     <use x=\"737.451172\" xlink:href=\"#DejaVuSans-114\"/>\n     <use x=\"776.314453\" xlink:href=\"#DejaVuSans-111\"/>\n     <use x=\"837.496094\" xlink:href=\"#DejaVuSans-97\"/>\n     <use x=\"898.775391\" xlink:href=\"#DejaVuSans-99\"/>\n     <use x=\"953.755859\" xlink:href=\"#DejaVuSans-104\"/>\n    </g>\n   </g>\n   <g id=\"legend_1\">\n    <g id=\"patch_35\">\n     <path d=\"M 37.103125 89.030625 \nL 86.765625 89.030625 \nQ 88.765625 89.030625 88.765625 87.030625 \nL 88.765625 29.318125 \nQ 88.765625 27.318125 86.765625 27.318125 \nL 37.103125 27.318125 \nQ 35.103125 27.318125 35.103125 29.318125 \nL 35.103125 87.030625 \nQ 35.103125 89.030625 37.103125 89.030625 \nz\n\" style=\"fill:#ffffff;opacity:0.8;stroke:#cccccc;stroke-linejoin:miter;\"/>\n    </g>\n    <g id=\"patch_36\">\n     <path d=\"M 39.103125 38.916562 \nL 59.103125 38.916562 \nL 59.103125 31.916562 \nL 39.103125 31.916562 \nz\n\" style=\"fill:#1f77b4;\"/>\n    </g>\n    <g id=\"text_17\">\n     <!-- Acc -->\n     <g transform=\"translate(67.103125 38.916562)scale(0.1 -0.1)\">\n      <use xlink:href=\"#DejaVuSans-65\"/>\n      <use x=\"66.658203\" xlink:href=\"#DejaVuSans-99\"/>\n      <use x=\"121.638672\" xlink:href=\"#DejaVuSans-99\"/>\n     </g>\n    </g>\n    <g id=\"patch_37\">\n     <path d=\"M 39.103125 53.594687 \nL 59.103125 53.594687 \nL 59.103125 46.594687 \nL 39.103125 46.594687 \nz\n\" style=\"fill:#ff7f0e;\"/>\n    </g>\n    <g id=\"text_18\">\n     <!-- EO -->\n     <g transform=\"translate(67.103125 53.594687)scale(0.1 -0.1)\">\n      <use xlink:href=\"#DejaVuSans-69\"/>\n      <use x=\"63.183594\" xlink:href=\"#DejaVuSans-79\"/>\n     </g>\n    </g>\n    <g id=\"patch_38\">\n     <path d=\"M 39.103125 68.272812 \nL 59.103125 68.272812 \nL 59.103125 61.272812 \nL 39.103125 61.272812 \nz\n\" style=\"fill:#2ca02c;\"/>\n    </g>\n    <g id=\"text_19\">\n     <!-- DP -->\n     <g transform=\"translate(67.103125 68.272812)scale(0.1 -0.1)\">\n      <use xlink:href=\"#DejaVuSans-68\"/>\n      <use x=\"77.001953\" xlink:href=\"#DejaVuSans-80\"/>\n     </g>\n    </g>\n    <g id=\"patch_39\">\n     <path d=\"M 39.103125 82.950938 \nL 59.103125 82.950938 \nL 59.103125 75.950938 \nL 39.103125 75.950938 \nz\n\" style=\"fill:#d62728;\"/>\n    </g>\n    <g id=\"text_20\">\n     <!-- CV -->\n     <g transform=\"translate(67.103125 82.950938)scale(0.1 -0.1)\">\n      <defs>\n       <path d=\"M 64.40625 67.28125 \nL 64.40625 56.890625 \nQ 59.421875 61.53125 53.78125 63.8125 \nQ 48.140625 66.109375 41.796875 66.109375 \nQ 29.296875 66.109375 22.65625 58.46875 \nQ 16.015625 50.828125 16.015625 36.375 \nQ 16.015625 21.96875 22.65625 14.328125 \nQ 29.296875 6.6875 41.796875 6.6875 \nQ 48.140625 6.6875 53.78125 8.984375 \nQ 59.421875 11.28125 64.40625 15.921875 \nL 64.40625 5.609375 \nQ 59.234375 2.09375 53.4375 0.328125 \nQ 47.65625 -1.421875 41.21875 -1.421875 \nQ 24.65625 -1.421875 15.125 8.703125 \nQ 5.609375 18.84375 5.609375 36.375 \nQ 5.609375 53.953125 15.125 64.078125 \nQ 24.65625 74.21875 41.21875 74.21875 \nQ 47.75 74.21875 53.53125 72.484375 \nQ 59.328125 70.75 64.40625 67.28125 \nz\n\" id=\"DejaVuSans-67\"/>\n       <path d=\"M 28.609375 0 \nL 0.78125 72.90625 \nL 11.078125 72.90625 \nL 34.1875 11.53125 \nL 57.328125 72.90625 \nL 67.578125 72.90625 \nL 39.796875 0 \nz\n\" id=\"DejaVuSans-86\"/>\n      </defs>\n      <use xlink:href=\"#DejaVuSans-67\"/>\n      <use x=\"69.824219\" xlink:href=\"#DejaVuSans-86\"/>\n     </g>\n    </g>\n   </g>\n  </g>\n </g>\n <defs>\n  <clipPath id=\"p731377077e\">\n   <rect height=\"217.44\" width=\"334.8\" x=\"30.103125\" y=\"22.318125\"/>\n  </clipPath>\n </defs>\n</svg>\n",
      "image/png": "[encoded data removed]"
     },
     "metadata": {
      "needs_background": "light"
     }
    }
   ],
   "source": [
    "metrics_df = pd.DataFrame(models_metrics)\n",
    "metrics_df = metrics_df.set_index('Approach')\n",
    "\n",
    "metrics_df.plot.bar(rot=0)\n",
    "plt.title('Metrics by approach')\n",
    "plt.show()"
   ]
  },
  {
   "cell_type": "code",
   "execution_count": 17,
   "metadata": {},
   "outputs": [
    {
     "output_type": "execute_result",
     "data": {
      "text/plain": [
       "               Acc        EO        DP        CV\n",
       "Approach                                        \n",
       "LogReg    0.675041  0.633657  0.581843  0.844905\n",
       "Reweigh   0.670178  0.837738  0.825310  0.845002\n",
       "Minimax   0.674230  0.626866  0.579839  0.847812\n",
       "DemPar    0.563209  0.558550  0.709816  1.153919\n",
       "EqOp      0.589951  0.237217  0.214568  1.174350\n",
       "MOOErr    0.673420  0.808213  0.756312  0.826933\n",
       "MOOAcep   0.674230  0.862863  0.781951  0.762829"
      ],
      "text/html": "<div>\n<style scoped>\n    .dataframe tbody tr th:only-of-type {\n        vertical-align: middle;\n    }\n\n    .dataframe tbody tr th {\n        vertical-align: top;\n    }\n\n    .dataframe thead th {\n        text-align: right;\n    }\n</style>\n<table border=\"1\" class=\"dataframe\">\n  <thead>\n    <tr style=\"text-align: right;\">\n      <th></th>\n      <th>Acc</th>\n      <th>EO</th>\n      <th>DP</th>\n      <th>CV</th>\n    </tr>\n    <tr>\n      <th>Approach</th>\n      <th></th>\n      <th></th>\n      <th></th>\n      <th></th>\n    </tr>\n  </thead>\n  <tbody>\n    <tr>\n      <th>LogReg</th>\n      <td>0.675041</td>\n      <td>0.633657</td>\n      <td>0.581843</td>\n      <td>0.844905</td>\n    </tr>\n    <tr>\n      <th>Reweigh</th>\n      <td>0.670178</td>\n      <td>0.837738</td>\n      <td>0.825310</td>\n      <td>0.845002</td>\n    </tr>\n    <tr>\n      <th>Minimax</th>\n      <td>0.674230</td>\n      <td>0.626866</td>\n      <td>0.579839</td>\n      <td>0.847812</td>\n    </tr>\n    <tr>\n      <th>DemPar</th>\n      <td>0.563209</td>\n      <td>0.558550</td>\n      <td>0.709816</td>\n      <td>1.153919</td>\n    </tr>\n    <tr>\n      <th>EqOp</th>\n      <td>0.589951</td>\n      <td>0.237217</td>\n      <td>0.214568</td>\n      <td>1.174350</td>\n    </tr>\n    <tr>\n      <th>MOOErr</th>\n      <td>0.673420</td>\n      <td>0.808213</td>\n      <td>0.756312</td>\n      <td>0.826933</td>\n    </tr>\n    <tr>\n      <th>MOOAcep</th>\n      <td>0.674230</td>\n      <td>0.862863</td>\n      <td>0.781951</td>\n      <td>0.762829</td>\n    </tr>\n  </tbody>\n</table>\n</div>"
     },
     "metadata": {},
     "execution_count": 17
    }
   ],
   "source": [
    "metrics_df"
   ]
  },
  {
   "cell_type": "code",
   "execution_count": null,
   "metadata": {},
   "outputs": [],
   "source": []
  }
 ]
}