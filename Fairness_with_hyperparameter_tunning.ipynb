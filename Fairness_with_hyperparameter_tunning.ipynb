{
  "nbformat": 4,
  "nbformat_minor": 0,
  "metadata": {
    "colab": {
      "name": "Fairness with hyperparameter tunning.ipynb",
      "provenance": [],
      "collapsed_sections": [],
      "include_colab_link": true
    },
    "kernelspec": {
      "display_name": "Python 3",
      "language": "python",
      "name": "python3"
    },
    "language_info": {
      "codemirror_mode": {
        "name": "ipython",
        "version": 3
      },
      "file_extension": ".py",
      "mimetype": "text/x-python",
      "name": "python",
      "nbconvert_exporter": "python",
      "pygments_lexer": "ipython3",
      "version": "3.7.7"
    }
  },
  "cells": [
    {
      "cell_type": "markdown",
      "metadata": {
        "id": "view-in-github",
        "colab_type": "text"
      },
      "source": [
        "<a href=\"https://colab.research.google.com/github/viguardieiro/moopt_fairness/blob/master/Fairness_with_hyperparameter_tunning.ipynb\" target=\"_parent\"><img src=\"https://colab.research.google.com/assets/colab-badge.svg\" alt=\"Open In Colab\"/></a>"
      ]
    },
    {
      "cell_type": "code",
      "metadata": {
        "id": "-g2d0B1S5aNN",
        "colab_type": "code",
        "colab": {
          "base_uri": "https://localhost:8080/",
          "height": 34
        },
        "outputId": "a0f3743c-0ea9-4252-d539-389fe7bb2328"
      },
      "source": [
        "from google.colab import drive\n",
        "drive.mount('/content/drive')"
      ],
      "execution_count": 1,
      "outputs": [
        {
          "output_type": "stream",
          "text": [
            "Drive already mounted at /content/drive; to attempt to forcibly remount, call drive.mount(\"/content/drive\", force_remount=True).\n"
          ],
          "name": "stdout"
        }
      ]
    },
    {
      "cell_type": "code",
      "metadata": {
        "id": "f_mjUYhU525t",
        "colab_type": "code",
        "colab": {
          "base_uri": "https://localhost:8080/",
          "height": 34
        },
        "outputId": "9f849e69-d31a-4af1-efa6-32f5e7bb166e"
      },
      "source": [
        "cd /content/drive/My Drive/Vitória - TCC/Notebooks"
      ],
      "execution_count": 2,
      "outputs": [
        {
          "output_type": "stream",
          "text": [
            "/content/drive/My Drive/Vitória - TCC/Notebooks\n"
          ],
          "name": "stdout"
        }
      ]
    },
    {
      "cell_type": "markdown",
      "metadata": {
        "colab_type": "text",
        "id": "KMz5TG5WpLEf"
      },
      "source": [
        "# Fairness by reweighing with sample_weight in Sklearn"
      ]
    },
    {
      "cell_type": "code",
      "metadata": {
        "id": "c0Irtl-eH9KY",
        "colab_type": "code",
        "colab": {
          "base_uri": "https://localhost:8080/",
          "height": 151
        },
        "outputId": "150b285d-526b-4b4c-f5bb-8486e17b0e9a"
      },
      "source": [
        "!apt-get install coinor-cbc"
      ],
      "execution_count": 3,
      "outputs": [
        {
          "output_type": "stream",
          "text": [
            "Reading package lists... Done\n",
            "Building dependency tree       \n",
            "Reading state information... Done\n",
            "coinor-cbc is already the newest version (2.9.9+repack1-1).\n",
            "The following package was automatically installed and is no longer required:\n",
            "  libnvidia-common-440\n",
            "Use 'apt autoremove' to remove it.\n",
            "0 upgraded, 0 newly installed, 0 to remove and 59 not upgraded.\n"
          ],
          "name": "stdout"
        }
      ]
    },
    {
      "cell_type": "code",
      "metadata": {
        "id": "eo-UpOe_4R0r",
        "colab_type": "code",
        "colab": {
          "base_uri": "https://localhost:8080/",
          "height": 1000
        },
        "outputId": "bc8c5c7e-c22a-4dce-9057-2a377ff33c9f"
      },
      "source": [
        "!pip install git+https://github.com/viguardieiro/moopt\n",
        "!pip install sklego\n",
        "!pip install mip\n",
        "!pip install optuna\n",
        "!pip install line_profiler"
      ],
      "execution_count": 4,
      "outputs": [
        {
          "output_type": "stream",
          "text": [
            "Collecting git+https://github.com/viguardieiro/moopt\n",
            "  Cloning https://github.com/viguardieiro/moopt to /tmp/pip-req-build-xg68onr5\n",
            "  Running command git clone -q https://github.com/viguardieiro/moopt /tmp/pip-req-build-xg68onr5\n",
            "Requirement already satisfied (use --upgrade to upgrade): moopt==0.0.1 from git+https://github.com/viguardieiro/moopt in /usr/local/lib/python3.6/dist-packages\n",
            "Requirement already satisfied: pulp>=1.6.9 in /usr/local/lib/python3.6/dist-packages (from moopt==0.0.1) (2.1)\n",
            "Requirement already satisfied: scipy>=0.13.3 in /usr/local/lib/python3.6/dist-packages (from moopt==0.0.1) (1.4.1)\n",
            "Requirement already satisfied: pyparsing>=2.0.1 in /usr/local/lib/python3.6/dist-packages (from pulp>=1.6.9->moopt==0.0.1) (2.4.7)\n",
            "Requirement already satisfied: numpy>=1.13.3 in /usr/local/lib/python3.6/dist-packages (from scipy>=0.13.3->moopt==0.0.1) (1.18.5)\n",
            "Building wheels for collected packages: moopt\n",
            "  Building wheel for moopt (setup.py) ... \u001b[?25l\u001b[?25hdone\n",
            "  Created wheel for moopt: filename=moopt-0.0.1-cp36-none-any.whl size=28693 sha256=b4fd70c5d1f16e5460619f8b15c710692ff4224b7a09a2412e5c06d73619dc65\n",
            "  Stored in directory: /tmp/pip-ephem-wheel-cache-n53g7shd/wheels/20/6d/9f/d08c62ac9635e87e332fb12c8077ae4044ff5dc84cf1d9253f\n",
            "Successfully built moopt\n",
            "Requirement already satisfied: sklego in /usr/local/lib/python3.6/dist-packages (0.0)\n",
            "Requirement already satisfied: scikit-lego in /usr/local/lib/python3.6/dist-packages (from sklego) (0.5.0)\n",
            "Requirement already satisfied: cvxpy>=1.0.24 in /usr/local/lib/python3.6/dist-packages (from scikit-lego->sklego) (1.0.31)\n",
            "Requirement already satisfied: Deprecated>=1.2.6 in /usr/local/lib/python3.6/dist-packages (from scikit-lego->sklego) (1.2.10)\n",
            "Requirement already satisfied: umap-learn>=0.4.3 in /usr/local/lib/python3.6/dist-packages (from scikit-lego->sklego) (0.4.4)\n",
            "Requirement already satisfied: patsy>=0.5.1 in /usr/local/lib/python3.6/dist-packages (from scikit-lego->sklego) (0.5.1)\n",
            "Requirement already satisfied: pandas>=0.23.4 in /usr/local/lib/python3.6/dist-packages (from scikit-lego->sklego) (1.0.5)\n",
            "Requirement already satisfied: autograd>=1.2 in /usr/local/lib/python3.6/dist-packages (from scikit-lego->sklego) (1.3)\n",
            "Requirement already satisfied: scipy>=1.2.0 in /usr/local/lib/python3.6/dist-packages (from scikit-lego->sklego) (1.4.1)\n",
            "Requirement already satisfied: scikit-learn>=0.20.2 in /usr/local/lib/python3.6/dist-packages (from scikit-lego->sklego) (0.22.2.post1)\n",
            "Requirement already satisfied: numpy>=1.16.0 in /usr/local/lib/python3.6/dist-packages (from scikit-lego->sklego) (1.18.5)\n",
            "Requirement already satisfied: osqp>=0.4.1 in /usr/local/lib/python3.6/dist-packages (from cvxpy>=1.0.24->scikit-lego->sklego) (0.6.1)\n",
            "Requirement already satisfied: multiprocess in /usr/local/lib/python3.6/dist-packages (from cvxpy>=1.0.24->scikit-lego->sklego) (0.70.10)\n",
            "Requirement already satisfied: scs>=1.1.3 in /usr/local/lib/python3.6/dist-packages (from cvxpy>=1.0.24->scikit-lego->sklego) (2.1.2)\n",
            "Requirement already satisfied: ecos>=2 in /usr/local/lib/python3.6/dist-packages (from cvxpy>=1.0.24->scikit-lego->sklego) (2.0.7.post1)\n",
            "Requirement already satisfied: wrapt<2,>=1.10 in /usr/local/lib/python3.6/dist-packages (from Deprecated>=1.2.6->scikit-lego->sklego) (1.12.1)\n",
            "Requirement already satisfied: numba!=0.47,>=0.46 in /usr/local/lib/python3.6/dist-packages (from umap-learn>=0.4.3->scikit-lego->sklego) (0.48.0)\n",
            "Requirement already satisfied: tbb in /usr/local/lib/python3.6/dist-packages (from umap-learn>=0.4.3->scikit-lego->sklego) (2020.0.133)\n",
            "Requirement already satisfied: six in /usr/local/lib/python3.6/dist-packages (from patsy>=0.5.1->scikit-lego->sklego) (1.12.0)\n",
            "Requirement already satisfied: python-dateutil>=2.6.1 in /usr/local/lib/python3.6/dist-packages (from pandas>=0.23.4->scikit-lego->sklego) (2.8.1)\n",
            "Requirement already satisfied: pytz>=2017.2 in /usr/local/lib/python3.6/dist-packages (from pandas>=0.23.4->scikit-lego->sklego) (2018.9)\n",
            "Requirement already satisfied: future>=0.15.2 in /usr/local/lib/python3.6/dist-packages (from autograd>=1.2->scikit-lego->sklego) (0.16.0)\n",
            "Requirement already satisfied: joblib>=0.11 in /usr/local/lib/python3.6/dist-packages (from scikit-learn>=0.20.2->scikit-lego->sklego) (0.15.1)\n",
            "Requirement already satisfied: dill>=0.3.2 in /usr/local/lib/python3.6/dist-packages (from multiprocess->cvxpy>=1.0.24->scikit-lego->sklego) (0.3.2)\n",
            "Requirement already satisfied: setuptools in /usr/local/lib/python3.6/dist-packages (from numba!=0.47,>=0.46->umap-learn>=0.4.3->scikit-lego->sklego) (47.3.1)\n",
            "Requirement already satisfied: llvmlite<0.32.0,>=0.31.0dev0 in /usr/local/lib/python3.6/dist-packages (from numba!=0.47,>=0.46->umap-learn>=0.4.3->scikit-lego->sklego) (0.31.0)\n",
            "Requirement already satisfied: mip in /usr/local/lib/python3.6/dist-packages (1.9.3)\n",
            "Requirement already satisfied: cffi in /usr/local/lib/python3.6/dist-packages (from mip) (1.14.0)\n",
            "Requirement already satisfied: pycparser in /usr/local/lib/python3.6/dist-packages (from cffi->mip) (2.20)\n",
            "Requirement already satisfied: optuna in /usr/local/lib/python3.6/dist-packages (1.5.0)\n",
            "Requirement already satisfied: tqdm in /usr/local/lib/python3.6/dist-packages (from optuna) (4.41.1)\n",
            "Requirement already satisfied: joblib in /usr/local/lib/python3.6/dist-packages (from optuna) (0.15.1)\n",
            "Requirement already satisfied: cliff in /usr/local/lib/python3.6/dist-packages (from optuna) (3.3.0)\n",
            "Requirement already satisfied: scipy!=1.4.0 in /usr/local/lib/python3.6/dist-packages (from optuna) (1.4.1)\n",
            "Requirement already satisfied: numpy in /usr/local/lib/python3.6/dist-packages (from optuna) (1.18.5)\n",
            "Requirement already satisfied: cmaes>=0.5.0 in /usr/local/lib/python3.6/dist-packages (from optuna) (0.5.1)\n",
            "Requirement already satisfied: alembic in /usr/local/lib/python3.6/dist-packages (from optuna) (1.4.2)\n",
            "Requirement already satisfied: colorlog in /usr/local/lib/python3.6/dist-packages (from optuna) (4.1.0)\n",
            "Requirement already satisfied: sqlalchemy>=1.1.0 in /usr/local/lib/python3.6/dist-packages (from optuna) (1.3.17)\n",
            "Requirement already satisfied: stevedore>=1.20.0 in /usr/local/lib/python3.6/dist-packages (from cliff->optuna) (2.0.1)\n",
            "Requirement already satisfied: pbr!=2.1.0,>=2.0.0 in /usr/local/lib/python3.6/dist-packages (from cliff->optuna) (5.4.5)\n",
            "Requirement already satisfied: PrettyTable<0.8,>=0.7.2 in /usr/local/lib/python3.6/dist-packages (from cliff->optuna) (0.7.2)\n",
            "Requirement already satisfied: PyYAML>=3.12 in /usr/local/lib/python3.6/dist-packages (from cliff->optuna) (3.13)\n",
            "Requirement already satisfied: cmd2!=0.8.3,>=0.8.0 in /usr/local/lib/python3.6/dist-packages (from cliff->optuna) (1.1.0)\n",
            "Requirement already satisfied: six>=1.10.0 in /usr/local/lib/python3.6/dist-packages (from cliff->optuna) (1.12.0)\n",
            "Requirement already satisfied: pyparsing>=2.1.0 in /usr/local/lib/python3.6/dist-packages (from cliff->optuna) (2.4.7)\n",
            "Requirement already satisfied: python-dateutil in /usr/local/lib/python3.6/dist-packages (from alembic->optuna) (2.8.1)\n",
            "Requirement already satisfied: Mako in /usr/local/lib/python3.6/dist-packages (from alembic->optuna) (1.1.3)\n",
            "Requirement already satisfied: python-editor>=0.3 in /usr/local/lib/python3.6/dist-packages (from alembic->optuna) (1.0.4)\n",
            "Requirement already satisfied: colorama>=0.3.7 in /usr/local/lib/python3.6/dist-packages (from cmd2!=0.8.3,>=0.8.0->cliff->optuna) (0.4.3)\n",
            "Requirement already satisfied: attrs>=16.3.0 in /usr/local/lib/python3.6/dist-packages (from cmd2!=0.8.3,>=0.8.0->cliff->optuna) (19.3.0)\n",
            "Requirement already satisfied: pyperclip>=1.6 in /usr/local/lib/python3.6/dist-packages (from cmd2!=0.8.3,>=0.8.0->cliff->optuna) (1.8.0)\n",
            "Requirement already satisfied: wcwidth>=0.1.7 in /usr/local/lib/python3.6/dist-packages (from cmd2!=0.8.3,>=0.8.0->cliff->optuna) (0.2.4)\n",
            "Requirement already satisfied: setuptools>=34.4 in /usr/local/lib/python3.6/dist-packages (from cmd2!=0.8.3,>=0.8.0->cliff->optuna) (47.3.1)\n",
            "Requirement already satisfied: MarkupSafe>=0.9.2 in /usr/local/lib/python3.6/dist-packages (from Mako->alembic->optuna) (1.1.1)\n",
            "Requirement already satisfied: line_profiler in /usr/local/lib/python3.6/dist-packages (3.0.2)\n",
            "Requirement already satisfied: IPython in /usr/local/lib/python3.6/dist-packages (from line_profiler) (5.5.0)\n",
            "Requirement already satisfied: traitlets>=4.2 in /usr/local/lib/python3.6/dist-packages (from IPython->line_profiler) (4.3.3)\n",
            "Requirement already satisfied: pickleshare in /usr/local/lib/python3.6/dist-packages (from IPython->line_profiler) (0.7.5)\n",
            "Requirement already satisfied: simplegeneric>0.8 in /usr/local/lib/python3.6/dist-packages (from IPython->line_profiler) (0.8.1)\n",
            "Requirement already satisfied: pygments in /usr/local/lib/python3.6/dist-packages (from IPython->line_profiler) (2.1.3)\n",
            "Requirement already satisfied: decorator in /usr/local/lib/python3.6/dist-packages (from IPython->line_profiler) (4.4.2)\n",
            "Requirement already satisfied: prompt-toolkit<2.0.0,>=1.0.4 in /usr/local/lib/python3.6/dist-packages (from IPython->line_profiler) (1.0.18)\n",
            "Requirement already satisfied: setuptools>=18.5 in /usr/local/lib/python3.6/dist-packages (from IPython->line_profiler) (47.3.1)\n",
            "Requirement already satisfied: pexpect; sys_platform != \"win32\" in /usr/local/lib/python3.6/dist-packages (from IPython->line_profiler) (4.8.0)\n",
            "Requirement already satisfied: six in /usr/local/lib/python3.6/dist-packages (from traitlets>=4.2->IPython->line_profiler) (1.12.0)\n",
            "Requirement already satisfied: ipython-genutils in /usr/local/lib/python3.6/dist-packages (from traitlets>=4.2->IPython->line_profiler) (0.2.0)\n",
            "Requirement already satisfied: wcwidth in /usr/local/lib/python3.6/dist-packages (from prompt-toolkit<2.0.0,>=1.0.4->IPython->line_profiler) (0.2.4)\n",
            "Requirement already satisfied: ptyprocess>=0.5 in /usr/local/lib/python3.6/dist-packages (from pexpect; sys_platform != \"win32\"->IPython->line_profiler) (0.6.0)\n"
          ],
          "name": "stdout"
        }
      ]
    },
    {
      "cell_type": "code",
      "metadata": {
        "id": "e8l6HqNg4PEl",
        "colab_type": "code",
        "colab": {}
      },
      "source": [
        "import pandas as pd\n",
        "from sklearn.model_selection import train_test_split\n",
        "from sklearn.linear_model import LogisticRegression\n",
        "from sklego.metrics import equal_opportunity_score\n",
        "from sklego.metrics import p_percent_score"
      ],
      "execution_count": 5,
      "outputs": []
    },
    {
      "cell_type": "code",
      "metadata": {
        "id": "VgYbd1wT4PEo",
        "colab_type": "code",
        "colab": {}
      },
      "source": [
        "%load_ext autoreload\n",
        "%autoreload 2\n",
        "%load_ext line_profiler"
      ],
      "execution_count": 6,
      "outputs": []
    },
    {
      "cell_type": "code",
      "metadata": {
        "id": "dGOkg-Q-4PEr",
        "colab_type": "code",
        "colab": {}
      },
      "source": [
        "from sklearn.metrics import log_loss\n",
        "from sklearn.utils.extmath import squared_norm\n",
        "from moopt.scalarization_interface import scalar_interface, single_interface, w_interface\n",
        "from moopt import monise\n",
        "import numpy as np\n",
        "\n",
        "class FairScalarization(w_interface, single_interface, scalar_interface):\n",
        "    def __init__(self, X, y, fair_feature):\n",
        "        self.fair_feature = fair_feature\n",
        "        self.fair_att = sorted(X[fair_feature].unique())\n",
        "        self.__M = len(self.fair_att)+1\n",
        "        self.X, self.y = X, y\n",
        "\n",
        "    @property\n",
        "    def M(self):\n",
        "        return self.__M\n",
        "\n",
        "    @property\n",
        "    def feasible(self):\n",
        "        return True\n",
        "\n",
        "    @property\n",
        "    def optimum(self):\n",
        "        return True\n",
        "\n",
        "    @property\n",
        "    def objs(self):\n",
        "        return self.__objs\n",
        "\n",
        "    @property\n",
        "    def x(self):\n",
        "        return self.__x\n",
        "\n",
        "    @property\n",
        "    def w(self):\n",
        "        return self.__w\n",
        "\n",
        "    def optimize(self, w):\n",
        "        \"\"\"Calculates the a multiobjective scalarization\"\"\"\n",
        "        if type(w) is int:\n",
        "            self.__w = np.zeros(self.M)\n",
        "            self.__w[w] = 1\n",
        "        elif type(w) is np.ndarray and w.ndim==1 and w.size==self.M:\n",
        "            self.__w = w\n",
        "        else:\n",
        "            raise('w is in the wrong format')\n",
        "        #print('w', self.__w)\n",
        "            \n",
        "        if self.__w[-1]==0:\n",
        "            lambd=10**-20\n",
        "        elif self.__w[-1]==1:\n",
        "            lambd=10**20\n",
        "        else:\n",
        "            lambd = self.__w[-1]/(1-self.__w[-1])\n",
        "        fair_weight = self.__w[:-1]*(1+lambd)\n",
        "        \n",
        "        sample_weight = self.X[self.fair_feature].replace({ff:fw for ff, fw in zip(self.fair_att,fair_weight)})\n",
        "        #sample_weight = self.X[self.fair_feature].replace({ff:fw/sum(X[self.fair_feature]==ff) for ff, fw in zip(self.fair_att,fair_weight)})\n",
        "        reg = LogisticRegression(multi_class='multinomial', solver='lbfgs',\n",
        "                                 penalty='l2', max_iter=10**6, tol=10**-6, \n",
        "                                 C=1/lambd).fit(self.X, self.y, sample_weight=sample_weight)\n",
        "        \n",
        "        y_pred = reg.predict_proba(self.X)\n",
        "        \n",
        "        self.__objs = np.zeros(len(self.fair_att)+1)\n",
        "        for i, feat in enumerate(self.fair_att):\n",
        "            fair_weight = np.zeros(len(self.fair_att))\n",
        "            fair_weight[i] = 1\n",
        "            sample_weight = X[self.fair_feature].replace({ff:fw for ff, fw in zip(self.fair_att,fair_weight)})\n",
        "            self.__objs[i] = log_loss(y, y_pred, sample_weight=sample_weight)*sum(X[self.fair_feature]==feat)\n",
        "            #self.__objs[i] = log_loss(y, y_pred, sample_weight=sample_weight)\n",
        "        \n",
        "        self.__objs[-1] = squared_norm(reg.coef_)\n",
        "        self.__x = reg\n",
        "        #print('objs', self.__objs)\n",
        "        return self"
      ],
      "execution_count": 7,
      "outputs": []
    },
    {
      "cell_type": "code",
      "metadata": {
        "id": "pXyCJxkm4PEu",
        "colab_type": "code",
        "colab": {}
      },
      "source": [
        "mydata= pd.read_csv(\"Datasets/german_credit_data.csv\")"
      ],
      "execution_count": 8,
      "outputs": []
    },
    {
      "cell_type": "markdown",
      "metadata": {
        "colab_type": "text",
        "id": "64UwE8ULpVV_"
      },
      "source": [
        "Dados de pedidos de crédito. É um dos datasets mais utilizados para tutoriais em Fairness, como na biblioteca [$aif360$](https://github.com/IBM/AIF360/blob/master/examples/README.md). Dataset original disponível em [aqui](https://archive.ics.uci.edu/ml/datasets/statlog+(german+credit+data)), mas eu utilizei [este](https://www.kaggle.com/kabure/german-credit-data-with-risk), por estar em formato csv com os headers, embora omita informações do dataset original.\n",
        "\n",
        "Originalmente possui 1000 dados, mas com vários valores NaN, ficando com 522 dados após remoção de dados com informações faltantes."
      ]
    },
    {
      "cell_type": "code",
      "metadata": {
        "colab_type": "code",
        "id": "rH24295ifUgz",
        "colab": {
          "base_uri": "https://localhost:8080/",
          "height": 195
        },
        "outputId": "4af6c534-4bb5-4f2d-91ee-634397809da6"
      },
      "source": [
        "mydata.head()"
      ],
      "execution_count": 9,
      "outputs": [
        {
          "output_type": "execute_result",
          "data": {
            "text/html": [
              "<div>\n",
              "<style scoped>\n",
              "    .dataframe tbody tr th:only-of-type {\n",
              "        vertical-align: middle;\n",
              "    }\n",
              "\n",
              "    .dataframe tbody tr th {\n",
              "        vertical-align: top;\n",
              "    }\n",
              "\n",
              "    .dataframe thead th {\n",
              "        text-align: right;\n",
              "    }\n",
              "</style>\n",
              "<table border=\"1\" class=\"dataframe\">\n",
              "  <thead>\n",
              "    <tr style=\"text-align: right;\">\n",
              "      <th></th>\n",
              "      <th>Unnamed: 0</th>\n",
              "      <th>Age</th>\n",
              "      <th>Sex</th>\n",
              "      <th>Job</th>\n",
              "      <th>Housing</th>\n",
              "      <th>Saving accounts</th>\n",
              "      <th>Checking account</th>\n",
              "      <th>Credit amount</th>\n",
              "      <th>Duration</th>\n",
              "      <th>Purpose</th>\n",
              "      <th>Risk</th>\n",
              "    </tr>\n",
              "  </thead>\n",
              "  <tbody>\n",
              "    <tr>\n",
              "      <th>0</th>\n",
              "      <td>0</td>\n",
              "      <td>67</td>\n",
              "      <td>male</td>\n",
              "      <td>2</td>\n",
              "      <td>own</td>\n",
              "      <td>NaN</td>\n",
              "      <td>little</td>\n",
              "      <td>1169</td>\n",
              "      <td>6</td>\n",
              "      <td>radio/TV</td>\n",
              "      <td>good</td>\n",
              "    </tr>\n",
              "    <tr>\n",
              "      <th>1</th>\n",
              "      <td>1</td>\n",
              "      <td>22</td>\n",
              "      <td>female</td>\n",
              "      <td>2</td>\n",
              "      <td>own</td>\n",
              "      <td>little</td>\n",
              "      <td>moderate</td>\n",
              "      <td>5951</td>\n",
              "      <td>48</td>\n",
              "      <td>radio/TV</td>\n",
              "      <td>bad</td>\n",
              "    </tr>\n",
              "    <tr>\n",
              "      <th>2</th>\n",
              "      <td>2</td>\n",
              "      <td>49</td>\n",
              "      <td>male</td>\n",
              "      <td>1</td>\n",
              "      <td>own</td>\n",
              "      <td>little</td>\n",
              "      <td>NaN</td>\n",
              "      <td>2096</td>\n",
              "      <td>12</td>\n",
              "      <td>education</td>\n",
              "      <td>good</td>\n",
              "    </tr>\n",
              "    <tr>\n",
              "      <th>3</th>\n",
              "      <td>3</td>\n",
              "      <td>45</td>\n",
              "      <td>male</td>\n",
              "      <td>2</td>\n",
              "      <td>free</td>\n",
              "      <td>little</td>\n",
              "      <td>little</td>\n",
              "      <td>7882</td>\n",
              "      <td>42</td>\n",
              "      <td>furniture/equipment</td>\n",
              "      <td>good</td>\n",
              "    </tr>\n",
              "    <tr>\n",
              "      <th>4</th>\n",
              "      <td>4</td>\n",
              "      <td>53</td>\n",
              "      <td>male</td>\n",
              "      <td>2</td>\n",
              "      <td>free</td>\n",
              "      <td>little</td>\n",
              "      <td>little</td>\n",
              "      <td>4870</td>\n",
              "      <td>24</td>\n",
              "      <td>car</td>\n",
              "      <td>bad</td>\n",
              "    </tr>\n",
              "  </tbody>\n",
              "</table>\n",
              "</div>"
            ],
            "text/plain": [
              "   Unnamed: 0  Age     Sex  ...  Duration              Purpose  Risk\n",
              "0           0   67    male  ...         6             radio/TV  good\n",
              "1           1   22  female  ...        48             radio/TV   bad\n",
              "2           2   49    male  ...        12            education  good\n",
              "3           3   45    male  ...        42  furniture/equipment  good\n",
              "4           4   53    male  ...        24                  car   bad\n",
              "\n",
              "[5 rows x 11 columns]"
            ]
          },
          "metadata": {
            "tags": []
          },
          "execution_count": 9
        }
      ]
    },
    {
      "cell_type": "code",
      "metadata": {
        "colab_type": "code",
        "id": "_43AS4aerbjj",
        "colab": {}
      },
      "source": [
        "mydata = mydata.drop(['Unnamed: 0', 'Purpose'], axis=1)"
      ],
      "execution_count": 10,
      "outputs": []
    },
    {
      "cell_type": "code",
      "metadata": {
        "colab_type": "code",
        "id": "0dFCIx4KnbTE",
        "colab": {}
      },
      "source": [
        "mydata = mydata.dropna()"
      ],
      "execution_count": 11,
      "outputs": []
    },
    {
      "cell_type": "code",
      "metadata": {
        "colab_type": "code",
        "id": "gXI4czPtlJbj",
        "colab": {}
      },
      "source": [
        "mapping_Sex = {'male': 0, 'female': 1}\n",
        "mapping_Housing = {'free': 1, 'rent': 2, 'own': 3}\n",
        "mapping_Savings = {'little': 1, 'moderate': 2, 'quite rich': 3, 'rich': 4}\n",
        "mapping_Checking = {'little': 1, 'moderate': 2, 'rich': 3}\n",
        "mapping_Risk = {\"bad\": -1, \"good\": 1}\n",
        "\n",
        "numerical_data = mydata.replace({'Sex': mapping_Sex, 'Housing': mapping_Housing, 'Saving accounts': mapping_Savings,\n",
        "                'Checking account':mapping_Checking, 'Risk': mapping_Risk})"
      ],
      "execution_count": 12,
      "outputs": []
    },
    {
      "cell_type": "code",
      "metadata": {
        "colab_type": "code",
        "id": "blQCM3i9qF24",
        "colab": {}
      },
      "source": [
        "X = numerical_data.drop(['Risk'], axis=1)"
      ],
      "execution_count": 13,
      "outputs": []
    },
    {
      "cell_type": "code",
      "metadata": {
        "colab_type": "code",
        "id": "bnHRL4Mem3Xi",
        "colab": {}
      },
      "source": [
        "y = numerical_data['Risk']"
      ],
      "execution_count": 14,
      "outputs": []
    },
    {
      "cell_type": "code",
      "metadata": {
        "colab_type": "code",
        "id": "XAJLMFuHFmg0",
        "colab": {}
      },
      "source": [
        "X_tv, X_test, y_tv, y_test = train_test_split(X, y, test_size=100)\n",
        "X_train, X_val, y_train, y_val = train_test_split(X_tv, y_tv, test_size=100)"
      ],
      "execution_count": 15,
      "outputs": []
    },
    {
      "cell_type": "code",
      "metadata": {
        "id": "bG_kZGdt4PFD",
        "colab_type": "code",
        "colab": {}
      },
      "source": [
        "import optuna, sklearn, sklearn.datasets"
      ],
      "execution_count": 16,
      "outputs": []
    },
    {
      "cell_type": "code",
      "metadata": {
        "id": "PjkGx3bZ4PFG",
        "colab_type": "code",
        "colab": {}
      },
      "source": [
        "class MOOLogisticRegression():\n",
        "    def __init__(self, X_train, y_train, X_val, y_val, metric='accuracy'):\n",
        "        self.X_train = X_train\n",
        "        self.y_train = y_train\n",
        "        self.X_val = X_val\n",
        "        self.y_val = y_val\n",
        "        self.best_perf = 0\n",
        "        self.best_model = None\n",
        "        self.metric = metric\n",
        "\n",
        "    def tune(self):\n",
        "        moo_ = monise(weightedScalar=FairScalarization(X, y, 'Sex'), singleScalar=FairScalarization(X, y, 'Sex'),\n",
        "                      nodeTimeLimit=2, targetSize=150,\n",
        "                      targetGap=0, nodeGap=0.01, norm=False)\n",
        "        moo_.optimize()\n",
        "        for solution in moo_.solutionsList:\n",
        "            y_pred = solution.x.predict(self.X_val)\n",
        "            \n",
        "            if (sklearn.metrics.accuracy_score(self.y_val, y_pred)==0 or\n",
        "                equal_opportunity_score(sensitive_column=\"Sex\")(solution.x, self.X_val, self.y_val)==0 or\n",
        "                p_percent_score(sensitive_column=\"Sex\")(solution.x, self.X_val))==0:\n",
        "                continue\n",
        "            \n",
        "            if self.metric=='accuracy':\n",
        "                perf = sklearn.metrics.accuracy_score(self.y_val, y_pred)\n",
        "            elif self.metric=='equal_opportunity':\n",
        "                perf = equal_opportunity_score(sensitive_column=\"Sex\")(solution.x, self.X_val, self.y_val)\n",
        "            elif self.metric=='p_percent':\n",
        "                perf = p_percent_score(sensitive_column=\"Sex\")(solution.x, self.X_val)\n",
        "            \n",
        "            if perf>self.best_perf:\n",
        "                self.best_perf = perf\n",
        "                self.best_model = solution.x\n",
        "        return self.best_model\n",
        "        \n",
        "class FindCLogisticRegression():\n",
        "    def __init__(self, X_train, y_train, X_val, y_val, sample_weight=None, metric='accuracy'):\n",
        "        self.X_train = X_train\n",
        "        self.y_train = y_train\n",
        "        self.X_val = X_val\n",
        "        self.y_val = y_val\n",
        "        self.best_perf = 0\n",
        "        self.best_model = None\n",
        "        self.sample_weight = sample_weight\n",
        "        self.metric = metric\n",
        "\n",
        "    def objective(self, trial):\n",
        "        C = trial.suggest_loguniform('C', 1e-10, 1e10)\n",
        "        model = LogisticRegression(C=C, max_iter=10**3, tol=10**-6)\n",
        "\n",
        "        model.fit(self.X_train, self.y_train, sample_weight=self.sample_weight)\n",
        "        y_pred = model.predict(self.X_val)\n",
        "\n",
        "        if (sklearn.metrics.accuracy_score(self.y_val, y_pred)==0 or\n",
        "            equal_opportunity_score(sensitive_column=\"Sex\")(model, self.X_val, self.y_val)==0 or\n",
        "            p_percent_score(sensitive_column=\"Sex\")(model, self.X_val))==0:\n",
        "            return float('inf')\n",
        "        \n",
        "        if self.metric=='accuracy':\n",
        "            perf = sklearn.metrics.accuracy_score(self.y_val, y_pred)\n",
        "        elif self.metric=='equal_opportunity':\n",
        "            perf = equal_opportunity_score(sensitive_column=\"Sex\")(model, self.X_val, self.y_val)\n",
        "        elif self.metric=='p_percent':\n",
        "            perf = p_percent_score(sensitive_column=\"Sex\")(model, self.X_val)\n",
        "        \n",
        "        if perf>self.best_perf:\n",
        "            self.best_perf = perf\n",
        "            self.best_model = model\n",
        "        \n",
        "        error = 1-perf\n",
        "\n",
        "        return error  # An objective value linked with the Trial object.\n",
        "    def tune(self):\n",
        "        optuna.logging.set_verbosity(optuna.logging.CRITICAL)\n",
        "        study = optuna.create_study()  # Create a new study.\n",
        "        study.optimize(self.objective, n_trials=100)\n",
        "        \n",
        "        return self.best_model\n",
        "    \n",
        "class FindCCLogisticRegression():\n",
        "    def __init__(self, X_train, y_train, X_val, y_val, sample_weight=None, metric='accuracy', base_model='demografic'):\n",
        "        self.X_train = X_train\n",
        "        self.y_train = y_train\n",
        "        self.X_val = X_val\n",
        "        self.y_val = y_val\n",
        "        self.best_perf = 0\n",
        "        self.best_model = None\n",
        "        self.sample_weight = sample_weight\n",
        "        self.metric = metric\n",
        "        self.base_model = base_model\n",
        "\n",
        "    def objective(self, trial):\n",
        "        C = trial.suggest_loguniform('C', 1e-5, 1e5)\n",
        "        c = trial.suggest_loguniform('c', 1e-5, 1e5)\n",
        "        try:\n",
        "            if self.base_model=='equal':\n",
        "                model = EqualOpportunityClassifier(sensitive_cols=\"Sex\", positive_target=True, covariance_threshold=c, C=C, max_iter=10**3)\n",
        "            else:\n",
        "                model = DemographicParityClassifier(sensitive_cols=\"Sex\", covariance_threshold=c, C=C, max_iter=10**3)\n",
        "        except:\n",
        "            return float('inf')\n",
        "\n",
        "        model.fit(self.X_train, self.y_train)\n",
        "        y_pred = model.predict(self.X_val)\n",
        "        \n",
        "        if (sklearn.metrics.accuracy_score(self.y_val, y_pred)==0 or\n",
        "            equal_opportunity_score(sensitive_column=\"Sex\")(model, self.X_val, self.y_val)==0 or\n",
        "            p_percent_score(sensitive_column=\"Sex\")(model, self.X_val))==0:\n",
        "            return float('inf')\n",
        "\n",
        "        \n",
        "        if self.metric=='accuracy':\n",
        "            perf = sklearn.metrics.accuracy_score(self.y_val, y_pred)\n",
        "        elif self.metric=='equal_opportunity':\n",
        "            perf = equal_opportunity_score(sensitive_column=\"Sex\")(model, self.X_val, self.y_val)\n",
        "        elif self.metric=='p_percent':\n",
        "            perf = p_percent_score(sensitive_column=\"Sex\")(model, self.X_val)\n",
        "        \n",
        "        if perf>self.best_perf:\n",
        "            self.best_perf = perf\n",
        "            self.best_model = model\n",
        "        \n",
        "        error = 1-perf\n",
        "\n",
        "        return error  # An objective value linked with the Trial object.\n",
        "    def tune(self):\n",
        "        optuna.logging.set_verbosity(optuna.logging.CRITICAL)\n",
        "        study = optuna.create_study()  # Create a new study.\n",
        "        study.optimize(self.objective, n_trials=100)\n",
        "        \n",
        "        return self.best_model"
      ],
      "execution_count": 17,
      "outputs": []
    },
    {
      "cell_type": "markdown",
      "metadata": {
        "colab_type": "text",
        "id": "F0UYt-eDrUwY"
      },
      "source": [
        "Decidi utilizar duas métricas, a $\\text{p% score}$ e $\\text{equality of opportunity}$, definidas como:  "
      ]
    },
    {
      "cell_type": "markdown",
      "metadata": {
        "colab_type": "text",
        "id": "E5v0F7QGi-sf"
      },
      "source": [
        "$\\text{p% score}=\\min(\\frac{P(\\hat{y}=1|z=1)}{P(\\hat{y}=1|z=0)},\\frac{P(\\hat{y}=1|z=0)}{P(\\hat{y}=1|z=1))}$\n",
        "\n",
        "Membership in a protected class should have no correlation with the decision."
      ]
    },
    {
      "cell_type": "markdown",
      "metadata": {
        "colab_type": "text",
        "id": "p39RoVCCiW5k"
      },
      "source": [
        "$\\text{equality of opportunity}=\\min(\\frac{P(\\hat{y}=1|z=1,y=1)}{P(\\hat{y}=1|z=0,y=1)},\\frac{P(\\hat{y}=1|z=0,y=1)}{P(\\hat{y}=1|z=1,y=1)})$"
      ]
    },
    {
      "cell_type": "code",
      "metadata": {
        "id": "h9lcvB7t4PFI",
        "colab_type": "code",
        "colab": {}
      },
      "source": [
        "metric = 'equal_opportunity'"
      ],
      "execution_count": 18,
      "outputs": []
    },
    {
      "cell_type": "code",
      "metadata": {
        "id": "B-TzbqwW4PFL",
        "colab_type": "code",
        "colab": {}
      },
      "source": [
        "reg = FindCLogisticRegression(X_train, y_train, X_val, y_val, metric=metric).tune()"
      ],
      "execution_count": 19,
      "outputs": []
    },
    {
      "cell_type": "code",
      "metadata": {
        "colab_type": "code",
        "id": "I_xUI9QOe9u0",
        "colab": {
          "base_uri": "https://localhost:8080/",
          "height": 67
        },
        "outputId": "a52e679b-4634-441b-d906-bd11e8e4f53e"
      },
      "source": [
        "print('accuracy', reg.score(X_test, y_test))\n",
        "print('equal_opportunity', equal_opportunity_score(sensitive_column=\"Sex\")(reg, X_test, y_test))\n",
        "print('p_percent:', p_percent_score(sensitive_column=\"Sex\")(reg, X_test))"
      ],
      "execution_count": 20,
      "outputs": [
        {
          "output_type": "stream",
          "text": [
            "accuracy 0.48\n",
            "equal_opportunity 1.0\n",
            "p_percent: 1.0\n"
          ],
          "name": "stdout"
        }
      ]
    },
    {
      "cell_type": "code",
      "metadata": {
        "id": "AmtDuJc74PFP",
        "colab_type": "code",
        "colab": {
          "base_uri": "https://localhost:8080/",
          "height": 151
        },
        "outputId": "56ea0a94-473a-4397-aed8-18cca21d6d08"
      },
      "source": [
        "reg = MOOLogisticRegression(X_train, y_train, X_val, y_val, metric=metric).tune()"
      ],
      "execution_count": 21,
      "outputs": [
        {
          "output_type": "stream",
          "text": [
            "/usr/local/lib/python3.6/dist-packages/sklego/metrics.py:155: RuntimeWarning:\n",
            "\n",
            "invalid value encountered in double_scalars\n",
            "\n",
            "/usr/local/lib/python3.6/dist-packages/sklego/metrics.py:79: RuntimeWarning:\n",
            "\n",
            "No samples with y_hat == 1 for Sex == 1, returning 0\n",
            "\n"
          ],
          "name": "stderr"
        }
      ]
    },
    {
      "cell_type": "code",
      "metadata": {
        "id": "shUUI82O4PFS",
        "colab_type": "code",
        "colab": {
          "base_uri": "https://localhost:8080/",
          "height": 67
        },
        "outputId": "5bd675e6-fb4d-409a-bb06-b66603dc9cc4"
      },
      "source": [
        "print('accuracy', reg.score(X_val, y_val))\n",
        "print('equal_opportunity', equal_opportunity_score(sensitive_column=\"Sex\")(reg, X_val, y_val))\n",
        "print('p_percent:', p_percent_score(sensitive_column=\"Sex\")(reg, X_val))"
      ],
      "execution_count": 22,
      "outputs": [
        {
          "output_type": "stream",
          "text": [
            "accuracy 0.59\n",
            "equal_opportunity 1.0\n",
            "p_percent: 0.9478787878787879\n"
          ],
          "name": "stdout"
        }
      ]
    },
    {
      "cell_type": "markdown",
      "metadata": {
        "id": "pOx2FxU64PFV",
        "colab_type": "text"
      },
      "source": [
        "### Modelo 1: Reweighing"
      ]
    },
    {
      "cell_type": "code",
      "metadata": {
        "id": "rsIb09Zs4PFV",
        "colab_type": "code",
        "colab": {}
      },
      "source": [
        "def calc_reweight(X, y):\n",
        "    W = {}\n",
        "    W[0] = {}\n",
        "    W[1] = {}\n",
        "\n",
        "    D = len(X)\n",
        "    len_men = X.groupby('Sex').count()['Age'][0]\n",
        "    len_women = X.groupby('Sex').count()['Age'][1]\n",
        "    len_neg = sum(y==-1)\n",
        "    len_pos = sum(y==1)\n",
        "    len_men_pos = len(X[(X.Sex == 0) & (y == 1)])\n",
        "    len_men_neg = len(X[(X.Sex == 0) & (y == -1)])\n",
        "    len_women_pos = len(X[(X.Sex == 1) & (y == 1)])\n",
        "    len_women_neg = len(X[(X.Sex == 1) & (y == -1)])\n",
        "\n",
        "    W[0][1] = (len_men*len_pos)/(D*len_men_pos)\n",
        "    W[0][-1] = (len_men*len_neg)/(D*len_men_neg)\n",
        "\n",
        "    W[1][1] = (len_women*len_pos)/(D*len_women_pos)\n",
        "    W[1][-1] = (len_women*len_neg)/(D*len_women_neg)\n",
        "    \n",
        "    sample_weight = []\n",
        "    for i in range(X.shape[0]):\n",
        "        sample_weight.append(W[X.iloc[i]['Sex']][y.iloc[i]])\n",
        "\n",
        "    return sample_weight"
      ],
      "execution_count": 23,
      "outputs": []
    },
    {
      "cell_type": "code",
      "metadata": {
        "id": "GXhQH9ab4PFX",
        "colab_type": "code",
        "colab": {}
      },
      "source": [
        "sample_weight = calc_reweight(X_train, y_train)\n",
        "reg = FindCLogisticRegression(X_train, y_train, X_val, y_val, metric=metric, sample_weight=sample_weight).tune()"
      ],
      "execution_count": 24,
      "outputs": []
    },
    {
      "cell_type": "code",
      "metadata": {
        "id": "BnNEfpex4PFZ",
        "colab_type": "code",
        "colab": {
          "base_uri": "https://localhost:8080/",
          "height": 67
        },
        "outputId": "3790a9ae-1988-4776-a003-fb8f2fb0f0cc"
      },
      "source": [
        "print('accuracy', reg.score(X_test, y_test))\n",
        "print('equal_opportunity', equal_opportunity_score(sensitive_column=\"Sex\")(reg, X_test, y_test))\n",
        "print('p_percent:', p_percent_score(sensitive_column=\"Sex\")(reg, X_test))"
      ],
      "execution_count": 25,
      "outputs": [
        {
          "output_type": "stream",
          "text": [
            "accuracy 0.48\n",
            "equal_opportunity 1.0\n",
            "p_percent: 1.0\n"
          ],
          "name": "stdout"
        }
      ]
    },
    {
      "cell_type": "markdown",
      "metadata": {
        "id": "QuD6Lic44PFb",
        "colab_type": "text"
      },
      "source": [
        "### Modelo 2: Information Filter"
      ]
    },
    {
      "cell_type": "code",
      "metadata": {
        "id": "S75yxWiq4PFb",
        "colab_type": "code",
        "colab": {}
      },
      "source": [
        "from sklego.preprocessing import InformationFilter\n",
        "\n",
        "infoTransf = InformationFilter([\"Sex\"])\n",
        "infoTransf.fit(X_train)\n",
        "X_tr_fair = infoTransf.transform(X_train)\n",
        "X_tr_fair = pd.DataFrame(X_tr_fair, columns=[n for n in X_train.columns if n not in ['Sex']])\n",
        "X_vl_fair = infoTransf.transform(X_val)\n",
        "X_vl_fair = pd.DataFrame(X_vl_fair, columns=[n for n in X_val.columns if n not in ['Sex']])\n",
        "X_te_fair =infoTransf.fit_transform(X_test)\n",
        "X_te_fair = pd.DataFrame(X_te_fair, columns=[n for n in X_test.columns if n not in ['Sex']])"
      ],
      "execution_count": 26,
      "outputs": []
    },
    {
      "cell_type": "code",
      "metadata": {
        "id": "wwHNSzUf4PFd",
        "colab_type": "code",
        "colab": {}
      },
      "source": [
        "#reg = FindCLogisticRegression(X_tr_fair, y_train, X_vl_fair, y_val, metric=metric).tune()"
      ],
      "execution_count": 27,
      "outputs": []
    },
    {
      "cell_type": "code",
      "metadata": {
        "id": "dRX8deLY4PFf",
        "colab_type": "code",
        "colab": {}
      },
      "source": [
        "#print('accuracy', reg.score(X_te_fair, y_test))\n",
        "#print('equal_opportunity_score', equal_opportunity_score(sensitive_column=\"Sex\")(reg, X_te_fair, y_test))\n",
        "#print('p_percent_score:', p_percent_score(sensitive_column=\"Sex\")(reg, X_te_fair))"
      ],
      "execution_count": 28,
      "outputs": []
    },
    {
      "cell_type": "markdown",
      "metadata": {
        "id": "hvyEXcXh4PFi",
        "colab_type": "text"
      },
      "source": [
        "### Modelo 3: DemographicParityClassifier"
      ]
    },
    {
      "cell_type": "code",
      "metadata": {
        "id": "uq0MqsZw4PFi",
        "colab_type": "code",
        "colab": {
          "base_uri": "https://localhost:8080/",
          "height": 104
        },
        "outputId": "2fb4c71d-7680-4a04-e61f-2a4fe74fa547"
      },
      "source": [
        "from sklego.linear_model import DemographicParityClassifier\n",
        "from sklego.linear_model import EqualOpportunityClassifier\n",
        "from sklearn.linear_model import LogisticRegression\n",
        "\n",
        "from sklearn.metrics import accuracy_score, make_scorer\n",
        "from sklearn.model_selection import GridSearchCV"
      ],
      "execution_count": 29,
      "outputs": [
        {
          "output_type": "stream",
          "text": [
            "/usr/local/lib/python3.6/dist-packages/sklearn/utils/deprecation.py:144: FutureWarning:\n",
            "\n",
            "The sklearn.linear_model.base module is  deprecated in version 0.22 and will be removed in version 0.24. The corresponding classes / functions should instead be imported from sklearn.linear_model. Anything that cannot be imported from sklearn.linear_model is now part of the private API.\n",
            "\n"
          ],
          "name": "stderr"
        }
      ]
    },
    {
      "cell_type": "code",
      "metadata": {
        "id": "IJW5uFro4PFk",
        "colab_type": "code",
        "colab": {}
      },
      "source": [
        "reg = FindCCLogisticRegression(X_train, y_train, X_val, y_val, metric=metric, base_model=DemographicParityClassifier).tune()"
      ],
      "execution_count": 30,
      "outputs": []
    },
    {
      "cell_type": "code",
      "metadata": {
        "id": "mrvAPyNx4PFm",
        "colab_type": "code",
        "colab": {
          "base_uri": "https://localhost:8080/",
          "height": 67
        },
        "outputId": "a969eb5d-1d5d-4575-9165-c9f4d543a5b1"
      },
      "source": [
        "print('accuracy', reg.score(X_test, y_test))\n",
        "print('equal_opportunity_score', equal_opportunity_score(sensitive_column=\"Sex\")(reg, X_test, y_test))\n",
        "print('p_percent_score:', p_percent_score(sensitive_column=\"Sex\")(reg, X_test))"
      ],
      "execution_count": 31,
      "outputs": [
        {
          "output_type": "stream",
          "text": [
            "accuracy 0.48\n",
            "equal_opportunity_score 1.0\n",
            "p_percent_score: 1.0\n"
          ],
          "name": "stdout"
        }
      ]
    },
    {
      "cell_type": "markdown",
      "metadata": {
        "id": "DEIFZAOT4PFo",
        "colab_type": "text"
      },
      "source": [
        "### Modelo 4: Equal opportunity classifier"
      ]
    },
    {
      "cell_type": "code",
      "metadata": {
        "id": "OzW29i5a4PFo",
        "colab_type": "code",
        "colab": {}
      },
      "source": [
        "reg = FindCCLogisticRegression(X_train, y_train, X_val, y_val, metric=metric, base_model='equal').tune()"
      ],
      "execution_count": 32,
      "outputs": []
    },
    {
      "cell_type": "code",
      "metadata": {
        "id": "rRUXqLWC4PFq",
        "colab_type": "code",
        "colab": {
          "base_uri": "https://localhost:8080/",
          "height": 67
        },
        "outputId": "4d5d512a-de58-4e28-84fa-a1997e340408"
      },
      "source": [
        "print('accuracy', reg.score(X_test, y_test))\n",
        "print('equal_opportunity_score', equal_opportunity_score(sensitive_column=\"Sex\")(reg, X_test, y_test))\n",
        "print('p_percent_score:', p_percent_score(sensitive_column=\"Sex\")(reg, X_test))"
      ],
      "execution_count": 33,
      "outputs": [
        {
          "output_type": "stream",
          "text": [
            "accuracy 0.48\n",
            "equal_opportunity_score 1.0\n",
            "p_percent_score: 1.0\n"
          ],
          "name": "stdout"
        }
      ]
    },
    {
      "cell_type": "code",
      "metadata": {
        "id": "kn2EFtN14PFt",
        "colab_type": "code",
        "colab": {}
      },
      "source": [
        ""
      ],
      "execution_count": 33,
      "outputs": []
    }
  ]
}