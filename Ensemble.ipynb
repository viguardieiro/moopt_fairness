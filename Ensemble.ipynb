{
 "cells": [
  {
   "cell_type": "code",
   "execution_count": 2,
   "metadata": {},
   "outputs": [],
   "source": [
    "import pandas as pd\n",
    "from sklearn.model_selection import train_test_split\n",
    "from sklearn.linear_model import LogisticRegression\n",
    "from sklego.metrics import equal_opportunity_score\n",
    "from sklego.metrics import p_percent_score\n",
    "from sklearn.metrics import log_loss\n",
    "from sklearn.utils.extmath import squared_norm\n",
    "from moopt.scalarization_interface import scalar_interface, single_interface, w_interface\n",
    "from moopt import monise\n",
    "import numpy as np\n",
    "import optuna, sklearn, sklearn.datasets\n",
    "from fair_models import coefficient_of_variation, MOOLogisticRegression, FindCLogisticRegression, FindCCLogisticRegression,FairScalarization"
   ]
  },
  {
   "cell_type": "markdown",
   "metadata": {},
   "source": [
    "## Data"
   ]
  },
  {
   "cell_type": "code",
   "execution_count": 3,
   "metadata": {},
   "outputs": [],
   "source": [
    "mydata= pd.read_csv(\"Datasets/german_credit_data.csv\")"
   ]
  },
  {
   "cell_type": "code",
   "execution_count": 4,
   "metadata": {},
   "outputs": [],
   "source": [
    "mydata = mydata.drop(['Unnamed: 0', 'Purpose'], axis=1)\n",
    "mydata = mydata.dropna()\n",
    "\n",
    "mapping_Sex = {'male': 0, 'female': 1}\n",
    "mapping_Housing = {'free': 1, 'rent': 2, 'own': 3}\n",
    "mapping_Savings = {'little': 1, 'moderate': 2, 'quite rich': 3, 'rich': 4}\n",
    "mapping_Checking = {'little': 1, 'moderate': 2, 'rich': 3}\n",
    "mapping_Risk = {\"bad\": -1, \"good\": 1}\n",
    "\n",
    "numerical_data = mydata.replace({'Sex': mapping_Sex, 'Housing': mapping_Housing, 'Saving accounts': mapping_Savings,\n",
    "                'Checking account':mapping_Checking, 'Risk': mapping_Risk})\n",
    "\n",
    "X = numerical_data.drop(['Risk'], axis=1)\n",
    "\n",
    "y = numerical_data['Risk']\n",
    "\n",
    "random_seed = np.random.randint(0, 1000)\n",
    "random_seed2 = np.random.randint(0, 1000)\n",
    "\n",
    "X_tv, X_test, y_tv, y_test = train_test_split(X, y, test_size=200, random_state = random_seed)\n",
    "X_train, X_val, y_train, y_val = train_test_split(X_tv, y_tv, test_size=100, random_state = random_seed2)"
   ]
  },
  {
   "cell_type": "markdown",
   "metadata": {},
   "source": [
    "## Model List"
   ]
  },
  {
   "cell_type": "code",
   "execution_count": 5,
   "metadata": {},
   "outputs": [
    {
     "name": "stdout",
     "output_type": "stream",
     "text": [
      "Using license file /opt/gurobi/gurobi.lic\n",
      "Academic license - for non-commercial use only\n"
     ]
    }
   ],
   "source": [
    "moo = monise(weightedScalar=FairScalarization(X_train, y_train, 'Sex'),\n",
    "             singleScalar=FairScalarization(X_train, y_train, 'Sex'),\n",
    "              nodeTimeLimit=2, targetSize=150,\n",
    "              targetGap=0, nodeGap=0.01, norm=False)\n",
    "\n",
    "moo.optimize()\n",
    "\n",
    "sols = []\n",
    "\n",
    "for solution in moo.solutionsList:\n",
    "    sols.append(solution.x)"
   ]
  },
  {
   "cell_type": "markdown",
   "metadata": {},
   "source": [
    "## Voting Ensemble - All Models"
   ]
  },
  {
   "cell_type": "code",
   "execution_count": 6,
   "metadata": {},
   "outputs": [],
   "source": [
    "from sklearn.ensemble import RandomForestClassifier, VotingClassifier"
   ]
  },
  {
   "cell_type": "code",
   "execution_count": 7,
   "metadata": {},
   "outputs": [],
   "source": [
    "models_t = []\n",
    "for i in range(len(sols)):\n",
    "    models_t.append((\"Model \"+str(i),sols[i]))"
   ]
  },
  {
   "cell_type": "code",
   "execution_count": 8,
   "metadata": {},
   "outputs": [],
   "source": [
    "eclf1 = VotingClassifier(estimators=models_t, voting='hard')"
   ]
  },
  {
   "cell_type": "code",
   "execution_count": 9,
   "metadata": {},
   "outputs": [],
   "source": [
    "eclf1 = eclf1.fit(X_train, y_train)"
   ]
  },
  {
   "cell_type": "code",
   "execution_count": 10,
   "metadata": {},
   "outputs": [
    {
     "name": "stdout",
     "output_type": "stream",
     "text": [
      "Metrics - Train Data\n",
      "Acc:  0.6936936936936937\n",
      "Eq Opor:  0.9819004524886877\n",
      "P Perc:  0.8569157392686805\n",
      "Coev Var:  0.6847719263017362\n"
     ]
    }
   ],
   "source": [
    "print(\"Metrics - Train Data\")\n",
    "print(\"Acc: \", eclf1.score(X_train, y_train))\n",
    "print(\"Eq Opor: \", equal_opportunity_score(sensitive_column=\"Sex\")(eclf1, X_train, y_train))\n",
    "print(\"P Perc: \", p_percent_score(sensitive_column=\"Sex\")(eclf1, X_train))\n",
    "print(\"Coev Var: \", coefficient_of_variation(eclf1, X_train, y_train))"
   ]
  },
  {
   "cell_type": "code",
   "execution_count": 11,
   "metadata": {},
   "outputs": [
    {
     "name": "stdout",
     "output_type": "stream",
     "text": [
      "Metrics - Val Data\n",
      "Acc:  0.59\n",
      "Eq Opor:  0.9150326797385621\n",
      "P Perc:  0.9229797979797979\n",
      "Coev Var:  0.7655137765938702\n"
     ]
    }
   ],
   "source": [
    "print(\"Metrics - Val Data\")\n",
    "print(\"Acc: \", eclf1.score(X_val, y_val))\n",
    "print(\"Eq Opor: \", equal_opportunity_score(sensitive_column=\"Sex\")(eclf1, X_val, y_val))\n",
    "print(\"P Perc: \", p_percent_score(sensitive_column=\"Sex\")(eclf1, X_val))\n",
    "print(\"Coev Var: \", coefficient_of_variation(eclf1, X_val, y_val))"
   ]
  },
  {
   "cell_type": "code",
   "execution_count": 12,
   "metadata": {},
   "outputs": [
    {
     "name": "stdout",
     "output_type": "stream",
     "text": [
      "Metrics - Test Data\n",
      "Acc:  0.6\n",
      "Eq Opor:  0.9694915254237289\n",
      "P Perc:  0.8286951144094001\n",
      "Coev Var:  0.7746269997882853\n"
     ]
    }
   ],
   "source": [
    "print(\"Metrics - Test Data\")\n",
    "print(\"Acc: \", eclf1.score(X_test, y_test))\n",
    "print(\"Eq Opor: \", equal_opportunity_score(sensitive_column=\"Sex\")(eclf1, X_test, y_test))\n",
    "print(\"P Perc: \", p_percent_score(sensitive_column=\"Sex\")(eclf1, X_test))\n",
    "print(\"Coev Var: \", coefficient_of_variation(eclf1, X_test, y_test))"
   ]
  },
  {
   "cell_type": "markdown",
   "metadata": {},
   "source": [
    "## Filter dominated models"
   ]
  },
  {
   "cell_type": "code",
   "execution_count": 13,
   "metadata": {},
   "outputs": [],
   "source": [
    "def dominate(a, b):\n",
    "    sense = np.array([1, 1, 1, -1])\n",
    "    if all((sense*a)>=(sense*b)) and any((sense*a)>(sense*b)):\n",
    "        return True\n",
    "    else:\n",
    "        return False"
   ]
  },
  {
   "cell_type": "code",
   "execution_count": 14,
   "metadata": {},
   "outputs": [
    {
     "name": "stderr",
     "output_type": "stream",
     "text": [
      "/root/anaconda3/envs/py36/lib/python3.6/site-packages/sklego/metrics.py:155: RuntimeWarning: invalid value encountered in double_scalars\n",
      "  score = np.minimum(p_y1_z1 / p_y1_z0, p_y1_z0 / p_y1_z1)\n",
      "/root/anaconda3/envs/py36/lib/python3.6/site-packages/sklego/metrics.py:79: RuntimeWarning: No samples with y_hat == 1 for Sex == 1, returning 0\n",
      "  RuntimeWarning,\n"
     ]
    }
   ],
   "source": [
    "metrics = []\n",
    "\n",
    "for i in range(len(sols)):\n",
    "    metrics.append((sols[i].score(X_val, y_val),\n",
    "                   equal_opportunity_score(sensitive_column=\"Sex\")(sols[i], X_val, y_val),\n",
    "                   p_percent_score(sensitive_column=\"Sex\")(sols[i], X_val),\n",
    "                   coefficient_of_variation(sols[i], X_val, y_val)))"
   ]
  },
  {
   "cell_type": "code",
   "execution_count": 15,
   "metadata": {},
   "outputs": [],
   "source": [
    "par_models = []\n",
    "\n",
    "for i in range(len(sols)):\n",
    "    flag = True\n",
    "    for j in range(len(sols)):\n",
    "        if i != j:\n",
    "            dom = dominate(metrics[j], metrics[i])\n",
    "            if dom:\n",
    "                flag = False\n",
    "                break\n",
    "    if flag:\n",
    "        par_models.append((\"Model \"+str(i), sols[i]))"
   ]
  },
  {
   "cell_type": "code",
   "execution_count": 17,
   "metadata": {},
   "outputs": [
    {
     "name": "stderr",
     "output_type": "stream",
     "text": [
      "/root/anaconda3/envs/py36/lib/python3.6/site-packages/sklego/metrics.py:155: RuntimeWarning: invalid value encountered in double_scalars\n",
      "  score = np.minimum(p_y1_z1 / p_y1_z0, p_y1_z0 / p_y1_z1)\n",
      "/root/anaconda3/envs/py36/lib/python3.6/site-packages/sklego/metrics.py:155: RuntimeWarning: invalid value encountered in double_scalars\n",
      "  score = np.minimum(p_y1_z1 / p_y1_z0, p_y1_z0 / p_y1_z1)\n",
      "/root/anaconda3/envs/py36/lib/python3.6/site-packages/sklego/metrics.py:155: RuntimeWarning: invalid value encountered in double_scalars\n",
      "  score = np.minimum(p_y1_z1 / p_y1_z0, p_y1_z0 / p_y1_z1)\n",
      "/root/anaconda3/envs/py36/lib/python3.6/site-packages/sklego/metrics.py:79: RuntimeWarning: No samples with y_hat == 1 for Sex == 1, returning 0\n",
      "  RuntimeWarning,\n",
      "/root/anaconda3/envs/py36/lib/python3.6/site-packages/sklego/metrics.py:79: RuntimeWarning: No samples with y_hat == 1 for Sex == 1, returning 0\n",
      "  RuntimeWarning,\n"
     ]
    }
   ],
   "source": [
    "best_acc = []\n",
    "best_eq = []\n",
    "best_pp = []\n",
    "best_var = []\n",
    "best_acc_v = 0\n",
    "best_eq_v = 0\n",
    "best_pp_v = 0\n",
    "best_var_v = 100\n",
    "\n",
    "for s, model in par_models:\n",
    "    if model.score(X_val, y_val) > best_acc_v:\n",
    "        best_acc_v = model.score(X_val, y_val)\n",
    "        best_acc = [model, model.score(X_val, y_val),\n",
    "                   equal_opportunity_score(sensitive_column=\"Sex\")(model, X_val, y_val),\n",
    "                   p_percent_score(sensitive_column=\"Sex\")(model, X_val),\n",
    "                   coefficient_of_variation(model, X_val, y_val)]\n",
    "    if equal_opportunity_score(sensitive_column=\"Sex\")(model, X_val, y_val) > best_eq_v:\n",
    "        best_eq_v = equal_opportunity_score(sensitive_column=\"Sex\")(model, X_val, y_val)\n",
    "        best_eq = [model, model.score(X_val, y_val),\n",
    "                   equal_opportunity_score(sensitive_column=\"Sex\")(model, X_val, y_val),\n",
    "                   p_percent_score(sensitive_column=\"Sex\")(model, X_val),\n",
    "                   coefficient_of_variation(model, X_val, y_val)]\n",
    "    if p_percent_score(sensitive_column=\"Sex\")(model, X_val) > best_pp_v:\n",
    "        best_pp_v = p_percent_score(sensitive_column=\"Sex\")(model, X_val)\n",
    "        best_pp = [model, model.score(X_val, y_val),\n",
    "                   equal_opportunity_score(sensitive_column=\"Sex\")(model, X_val, y_val),\n",
    "                   p_percent_score(sensitive_column=\"Sex\")(model, X_val),\n",
    "                   coefficient_of_variation(model, X_val, y_val)]\n",
    "    if coefficient_of_variation(model, X_val, y_val) < best_var_v:\n",
    "        best_var_v = coefficient_of_variation(model, X_val, y_val) \n",
    "        best_var = [model, model.score(X_val, y_val),\n",
    "                   equal_opportunity_score(sensitive_column=\"Sex\")(model, X_val, y_val),\n",
    "                   p_percent_score(sensitive_column=\"Sex\")(model, X_val),\n",
    "                   coefficient_of_variation(model, X_val, y_val)]"
   ]
  },
  {
   "cell_type": "code",
   "execution_count": 18,
   "metadata": {},
   "outputs": [
    {
     "data": {
      "text/plain": [
       "[LogisticRegression(C=35.46152563066118, max_iter=10000,\n",
       "                    multi_class='multinomial', tol=4.504504504504493e-09),\n",
       " 0.63,\n",
       " 0.8823529411764706,\n",
       " 0.9264705882352942,\n",
       " 0.7436788203240532]"
      ]
     },
     "execution_count": 18,
     "metadata": {},
     "output_type": "execute_result"
    }
   ],
   "source": [
    "best_acc"
   ]
  },
  {
   "cell_type": "code",
   "execution_count": 19,
   "metadata": {},
   "outputs": [
    {
     "data": {
      "text/plain": [
       "[LogisticRegression(C=1e-20, max_iter=10000, multi_class='multinomial', tol=0.0),\n",
       " 0.48,\n",
       " 1,\n",
       " 0,\n",
       " 1.471960144387974]"
      ]
     },
     "execution_count": 19,
     "metadata": {},
     "output_type": "execute_result"
    }
   ],
   "source": [
    "best_eq"
   ]
  },
  {
   "cell_type": "code",
   "execution_count": 20,
   "metadata": {},
   "outputs": [
    {
     "data": {
      "text/plain": [
       "[LogisticRegression(C=1.7970050087560796, max_iter=10000,\n",
       "                    multi_class='multinomial', tol=4.504504504504502e-09),\n",
       " 0.58,\n",
       " 0.7918552036199095,\n",
       " 0.994261119081779,\n",
       " 0.8232168307397645]"
      ]
     },
     "execution_count": 20,
     "metadata": {},
     "output_type": "execute_result"
    }
   ],
   "source": [
    "best_pp"
   ]
  },
  {
   "cell_type": "code",
   "execution_count": 21,
   "metadata": {},
   "outputs": [
    {
     "data": {
      "text/plain": [
       "[LogisticRegression(C=0.003964351541430085, max_iter=10000,\n",
       "                    multi_class='multinomial', tol=4.504504504504486e-09),\n",
       " 0.55,\n",
       " 0.9714285714285714,\n",
       " 0.8641251221896383,\n",
       " 0.6422202325588763]"
      ]
     },
     "execution_count": 21,
     "metadata": {},
     "output_type": "execute_result"
    }
   ],
   "source": [
    "best_var"
   ]
  },
  {
   "cell_type": "markdown",
   "metadata": {},
   "source": [
    "## Voting Ensemble - Non-Dominated Models"
   ]
  },
  {
   "cell_type": "code",
   "execution_count": 22,
   "metadata": {},
   "outputs": [],
   "source": [
    "eclf2 = VotingClassifier(estimators=par_models, voting='hard')"
   ]
  },
  {
   "cell_type": "code",
   "execution_count": 23,
   "metadata": {},
   "outputs": [],
   "source": [
    "eclf2 = eclf1.fit(X_train, y_train)"
   ]
  },
  {
   "cell_type": "code",
   "execution_count": 24,
   "metadata": {},
   "outputs": [
    {
     "name": "stdout",
     "output_type": "stream",
     "text": [
      "Metrics - Train Data\n",
      "Acc:  0.6936936936936937\n",
      "Eq Opor:  0.9819004524886877\n",
      "P Perc:  0.8569157392686805\n",
      "Coev Var:  0.6847719263017362\n"
     ]
    }
   ],
   "source": [
    "print(\"Metrics - Train Data\")\n",
    "print(\"Acc: \", eclf2.score(X_train, y_train))\n",
    "print(\"Eq Opor: \", equal_opportunity_score(sensitive_column=\"Sex\")(eclf2, X_train, y_train))\n",
    "print(\"P Perc: \", p_percent_score(sensitive_column=\"Sex\")(eclf2, X_train))\n",
    "print(\"Coev Var: \", coefficient_of_variation(eclf2, X_train, y_train))"
   ]
  },
  {
   "cell_type": "code",
   "execution_count": 25,
   "metadata": {},
   "outputs": [
    {
     "name": "stdout",
     "output_type": "stream",
     "text": [
      "Metrics - Train Data\n",
      "Acc:  0.59\n",
      "Eq Opor:  0.9150326797385621\n",
      "P Perc:  0.9229797979797979\n",
      "Coev Var:  0.7655137765938702\n"
     ]
    }
   ],
   "source": [
    "print(\"Metrics - Train Data\")\n",
    "print(\"Acc: \", eclf2.score(X_val, y_val))\n",
    "print(\"Eq Opor: \", equal_opportunity_score(sensitive_column=\"Sex\")(eclf2, X_val, y_val))\n",
    "print(\"P Perc: \", p_percent_score(sensitive_column=\"Sex\")(eclf2, X_val))\n",
    "print(\"Coev Var: \", coefficient_of_variation(eclf2, X_val, y_val))"
   ]
  },
  {
   "cell_type": "code",
   "execution_count": 26,
   "metadata": {},
   "outputs": [
    {
     "name": "stdout",
     "output_type": "stream",
     "text": [
      "Metrics - Test Data\n",
      "Acc:  0.6\n",
      "Eq Opor:  0.9694915254237289\n",
      "P Perc:  0.8286951144094001\n",
      "Coev Var:  0.7746269997882853\n"
     ]
    }
   ],
   "source": [
    "print(\"Metrics - Test Data\")\n",
    "print(\"Acc: \", eclf2.score(X_test, y_test))\n",
    "print(\"Eq Opor: \", equal_opportunity_score(sensitive_column=\"Sex\")(eclf2, X_test, y_test))\n",
    "print(\"P Perc: \", p_percent_score(sensitive_column=\"Sex\")(eclf2, X_test))\n",
    "print(\"Coev Var: \", coefficient_of_variation(eclf2, X_test, y_test))"
   ]
  },
  {
   "cell_type": "code",
   "execution_count": null,
   "metadata": {},
   "outputs": [],
   "source": []
  }
 ],
 "metadata": {
  "kernelspec": {
   "display_name": "Python 3",
   "language": "python",
   "name": "python3"
  },
  "language_info": {
   "codemirror_mode": {
    "name": "ipython",
    "version": 3
   },
   "file_extension": ".py",
   "mimetype": "text/x-python",
   "name": "python",
   "nbconvert_exporter": "python",
   "pygments_lexer": "ipython3",
   "version": "3.6.10"
  }
 },
 "nbformat": 4,
 "nbformat_minor": 4
}
